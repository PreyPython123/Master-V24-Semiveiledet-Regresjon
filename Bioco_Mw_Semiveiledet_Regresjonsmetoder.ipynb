{
  "cells": [
    {
      "cell_type": "markdown",
      "metadata": {
        "id": "view-in-github",
        "colab_type": "text"
      },
      "source": [
        "<a href=\"https://colab.research.google.com/github/PreyPython123/Master-V24-Semiveiledet-Regresjon/blob/Mw-Pradeep/Bioco_Mw_Semiveiledet_Regresjonsmetoder.ipynb\" target=\"_parent\"><img src=\"https://colab.research.google.com/assets/colab-badge.svg\" alt=\"Open In Colab\"/></a>"
      ]
    },
    {
      "cell_type": "code",
      "execution_count": null,
      "metadata": {
        "colab": {
          "base_uri": "https://localhost:8080/"
        },
        "id": "nwEzUjnf0xLZ",
        "outputId": "e954a41c-6c06-4543-e152-a7462a2f310d"
      },
      "outputs": [
        {
          "output_type": "stream",
          "name": "stdout",
          "text": [
            "Mounted at /content/drive/\n"
          ]
        }
      ],
      "source": [
        "from google.colab import drive\n",
        "drive.mount('/content/drive/')"
      ]
    },
    {
      "cell_type": "markdown",
      "metadata": {
        "id": "uPtuGVtCJOFj"
      },
      "source": [
        "# Importering, lasting og formattering"
      ]
    },
    {
      "cell_type": "markdown",
      "metadata": {
        "id": "ZNeQrag9Rlc_"
      },
      "source": [
        "Lasting av nødvendige bibliotek og pakker"
      ]
    },
    {
      "cell_type": "code",
      "execution_count": null,
      "metadata": {
        "colab": {
          "base_uri": "https://localhost:8080/"
        },
        "id": "k5u1dZmp6cJ9",
        "outputId": "7167a34a-96b4-4f1c-cedf-c16f13fd0806"
      },
      "outputs": [
        {
          "output_type": "stream",
          "name": "stdout",
          "text": [
            "Collecting optuna\n",
            "  Downloading optuna-3.6.1-py3-none-any.whl (380 kB)\n",
            "\u001b[2K     \u001b[90m━━━━━━━━━━━━━━━━━━━━━━━━━━━━━━━━━━━━━━━━\u001b[0m \u001b[32m380.1/380.1 kB\u001b[0m \u001b[31m4.6 MB/s\u001b[0m eta \u001b[36m0:00:00\u001b[0m\n",
            "\u001b[?25hCollecting alembic>=1.5.0 (from optuna)\n",
            "  Downloading alembic-1.13.1-py3-none-any.whl (233 kB)\n",
            "\u001b[2K     \u001b[90m━━━━━━━━━━━━━━━━━━━━━━━━━━━━━━━━━━━━━━━━\u001b[0m \u001b[32m233.4/233.4 kB\u001b[0m \u001b[31m15.8 MB/s\u001b[0m eta \u001b[36m0:00:00\u001b[0m\n",
            "\u001b[?25hCollecting colorlog (from optuna)\n",
            "  Downloading colorlog-6.8.2-py3-none-any.whl (11 kB)\n",
            "Requirement already satisfied: numpy in /usr/local/lib/python3.10/dist-packages (from optuna) (1.25.2)\n",
            "Requirement already satisfied: packaging>=20.0 in /usr/local/lib/python3.10/dist-packages (from optuna) (24.0)\n",
            "Requirement already satisfied: sqlalchemy>=1.3.0 in /usr/local/lib/python3.10/dist-packages (from optuna) (2.0.29)\n",
            "Requirement already satisfied: tqdm in /usr/local/lib/python3.10/dist-packages (from optuna) (4.66.2)\n",
            "Requirement already satisfied: PyYAML in /usr/local/lib/python3.10/dist-packages (from optuna) (6.0.1)\n",
            "Collecting Mako (from alembic>=1.5.0->optuna)\n",
            "  Downloading Mako-1.3.3-py3-none-any.whl (78 kB)\n",
            "\u001b[2K     \u001b[90m━━━━━━━━━━━━━━━━━━━━━━━━━━━━━━━━━━━━━━━━\u001b[0m \u001b[32m78.8/78.8 kB\u001b[0m \u001b[31m616.9 kB/s\u001b[0m eta \u001b[36m0:00:00\u001b[0m\n",
            "\u001b[?25hRequirement already satisfied: typing-extensions>=4 in /usr/local/lib/python3.10/dist-packages (from alembic>=1.5.0->optuna) (4.11.0)\n",
            "Requirement already satisfied: greenlet!=0.4.17 in /usr/local/lib/python3.10/dist-packages (from sqlalchemy>=1.3.0->optuna) (3.0.3)\n",
            "Requirement already satisfied: MarkupSafe>=0.9.2 in /usr/local/lib/python3.10/dist-packages (from Mako->alembic>=1.5.0->optuna) (2.1.5)\n",
            "Installing collected packages: Mako, colorlog, alembic, optuna\n",
            "Successfully installed Mako-1.3.3 alembic-1.13.1 colorlog-6.8.2 optuna-3.6.1\n",
            "Collecting LAMDA-SSL\n",
            "  Downloading LAMDA_SSL-1.0.2-py3-none-any.whl (240 kB)\n",
            "\u001b[2K     \u001b[90m━━━━━━━━━━━━━━━━━━━━━━━━━━━━━━━━━━━━━━━━\u001b[0m \u001b[32m240.8/240.8 kB\u001b[0m \u001b[31m4.5 MB/s\u001b[0m eta \u001b[36m0:00:00\u001b[0m\n",
            "\u001b[?25hRequirement already satisfied: scikit-learn in /usr/local/lib/python3.10/dist-packages (from LAMDA-SSL) (1.2.2)\n",
            "Requirement already satisfied: torchtext in /usr/local/lib/python3.10/dist-packages (from LAMDA-SSL) (0.17.1)\n",
            "Requirement already satisfied: torchvision in /usr/local/lib/python3.10/dist-packages (from LAMDA-SSL) (0.17.1+cu121)\n",
            "Collecting torch-geometric (from LAMDA-SSL)\n",
            "  Downloading torch_geometric-2.5.3-py3-none-any.whl (1.1 MB)\n",
            "\u001b[2K     \u001b[90m━━━━━━━━━━━━━━━━━━━━━━━━━━━━━━━━━━━━━━━━\u001b[0m \u001b[32m1.1/1.1 MB\u001b[0m \u001b[31m10.9 MB/s\u001b[0m eta \u001b[36m0:00:00\u001b[0m\n",
            "\u001b[?25hRequirement already satisfied: Pillow in /usr/local/lib/python3.10/dist-packages (from LAMDA-SSL) (9.4.0)\n",
            "Requirement already satisfied: numpy in /usr/local/lib/python3.10/dist-packages (from LAMDA-SSL) (1.25.2)\n",
            "Requirement already satisfied: scipy in /usr/local/lib/python3.10/dist-packages (from LAMDA-SSL) (1.11.4)\n",
            "Requirement already satisfied: pandas in /usr/local/lib/python3.10/dist-packages (from LAMDA-SSL) (2.0.3)\n",
            "Requirement already satisfied: matplotlib in /usr/local/lib/python3.10/dist-packages (from LAMDA-SSL) (3.7.1)\n",
            "Requirement already satisfied: contourpy>=1.0.1 in /usr/local/lib/python3.10/dist-packages (from matplotlib->LAMDA-SSL) (1.2.1)\n",
            "Requirement already satisfied: cycler>=0.10 in /usr/local/lib/python3.10/dist-packages (from matplotlib->LAMDA-SSL) (0.12.1)\n",
            "Requirement already satisfied: fonttools>=4.22.0 in /usr/local/lib/python3.10/dist-packages (from matplotlib->LAMDA-SSL) (4.51.0)\n",
            "Requirement already satisfied: kiwisolver>=1.0.1 in /usr/local/lib/python3.10/dist-packages (from matplotlib->LAMDA-SSL) (1.4.5)\n",
            "Requirement already satisfied: packaging>=20.0 in /usr/local/lib/python3.10/dist-packages (from matplotlib->LAMDA-SSL) (24.0)\n",
            "Requirement already satisfied: pyparsing>=2.3.1 in /usr/local/lib/python3.10/dist-packages (from matplotlib->LAMDA-SSL) (3.1.2)\n",
            "Requirement already satisfied: python-dateutil>=2.7 in /usr/local/lib/python3.10/dist-packages (from matplotlib->LAMDA-SSL) (2.8.2)\n",
            "Requirement already satisfied: pytz>=2020.1 in /usr/local/lib/python3.10/dist-packages (from pandas->LAMDA-SSL) (2023.4)\n",
            "Requirement already satisfied: tzdata>=2022.1 in /usr/local/lib/python3.10/dist-packages (from pandas->LAMDA-SSL) (2024.1)\n",
            "Requirement already satisfied: joblib>=1.1.1 in /usr/local/lib/python3.10/dist-packages (from scikit-learn->LAMDA-SSL) (1.4.0)\n",
            "Requirement already satisfied: threadpoolctl>=2.0.0 in /usr/local/lib/python3.10/dist-packages (from scikit-learn->LAMDA-SSL) (3.4.0)\n",
            "Requirement already satisfied: tqdm in /usr/local/lib/python3.10/dist-packages (from torch-geometric->LAMDA-SSL) (4.66.2)\n",
            "Requirement already satisfied: fsspec in /usr/local/lib/python3.10/dist-packages (from torch-geometric->LAMDA-SSL) (2023.6.0)\n",
            "Requirement already satisfied: jinja2 in /usr/local/lib/python3.10/dist-packages (from torch-geometric->LAMDA-SSL) (3.1.3)\n",
            "Requirement already satisfied: aiohttp in /usr/local/lib/python3.10/dist-packages (from torch-geometric->LAMDA-SSL) (3.9.5)\n",
            "Requirement already satisfied: requests in /usr/local/lib/python3.10/dist-packages (from torch-geometric->LAMDA-SSL) (2.31.0)\n",
            "Requirement already satisfied: psutil>=5.8.0 in /usr/local/lib/python3.10/dist-packages (from torch-geometric->LAMDA-SSL) (5.9.5)\n",
            "Requirement already satisfied: torch==2.2.1 in /usr/local/lib/python3.10/dist-packages (from torchtext->LAMDA-SSL) (2.2.1+cu121)\n",
            "Requirement already satisfied: torchdata==0.7.1 in /usr/local/lib/python3.10/dist-packages (from torchtext->LAMDA-SSL) (0.7.1)\n",
            "Requirement already satisfied: filelock in /usr/local/lib/python3.10/dist-packages (from torch==2.2.1->torchtext->LAMDA-SSL) (3.13.4)\n",
            "Requirement already satisfied: typing-extensions>=4.8.0 in /usr/local/lib/python3.10/dist-packages (from torch==2.2.1->torchtext->LAMDA-SSL) (4.11.0)\n",
            "Requirement already satisfied: sympy in /usr/local/lib/python3.10/dist-packages (from torch==2.2.1->torchtext->LAMDA-SSL) (1.12)\n",
            "Requirement already satisfied: networkx in /usr/local/lib/python3.10/dist-packages (from torch==2.2.1->torchtext->LAMDA-SSL) (3.3)\n",
            "Collecting nvidia-cuda-nvrtc-cu12==12.1.105 (from torch==2.2.1->torchtext->LAMDA-SSL)\n",
            "  Using cached nvidia_cuda_nvrtc_cu12-12.1.105-py3-none-manylinux1_x86_64.whl (23.7 MB)\n",
            "Collecting nvidia-cuda-runtime-cu12==12.1.105 (from torch==2.2.1->torchtext->LAMDA-SSL)\n",
            "  Using cached nvidia_cuda_runtime_cu12-12.1.105-py3-none-manylinux1_x86_64.whl (823 kB)\n",
            "Collecting nvidia-cuda-cupti-cu12==12.1.105 (from torch==2.2.1->torchtext->LAMDA-SSL)\n",
            "  Using cached nvidia_cuda_cupti_cu12-12.1.105-py3-none-manylinux1_x86_64.whl (14.1 MB)\n",
            "Collecting nvidia-cudnn-cu12==8.9.2.26 (from torch==2.2.1->torchtext->LAMDA-SSL)\n",
            "  Using cached nvidia_cudnn_cu12-8.9.2.26-py3-none-manylinux1_x86_64.whl (731.7 MB)\n",
            "Collecting nvidia-cublas-cu12==12.1.3.1 (from torch==2.2.1->torchtext->LAMDA-SSL)\n",
            "  Using cached nvidia_cublas_cu12-12.1.3.1-py3-none-manylinux1_x86_64.whl (410.6 MB)\n",
            "Collecting nvidia-cufft-cu12==11.0.2.54 (from torch==2.2.1->torchtext->LAMDA-SSL)\n",
            "  Using cached nvidia_cufft_cu12-11.0.2.54-py3-none-manylinux1_x86_64.whl (121.6 MB)\n",
            "Collecting nvidia-curand-cu12==10.3.2.106 (from torch==2.2.1->torchtext->LAMDA-SSL)\n",
            "  Using cached nvidia_curand_cu12-10.3.2.106-py3-none-manylinux1_x86_64.whl (56.5 MB)\n",
            "Collecting nvidia-cusolver-cu12==11.4.5.107 (from torch==2.2.1->torchtext->LAMDA-SSL)\n",
            "  Using cached nvidia_cusolver_cu12-11.4.5.107-py3-none-manylinux1_x86_64.whl (124.2 MB)\n",
            "Collecting nvidia-cusparse-cu12==12.1.0.106 (from torch==2.2.1->torchtext->LAMDA-SSL)\n",
            "  Using cached nvidia_cusparse_cu12-12.1.0.106-py3-none-manylinux1_x86_64.whl (196.0 MB)\n",
            "Collecting nvidia-nccl-cu12==2.19.3 (from torch==2.2.1->torchtext->LAMDA-SSL)\n",
            "  Using cached nvidia_nccl_cu12-2.19.3-py3-none-manylinux1_x86_64.whl (166.0 MB)\n",
            "Collecting nvidia-nvtx-cu12==12.1.105 (from torch==2.2.1->torchtext->LAMDA-SSL)\n",
            "  Using cached nvidia_nvtx_cu12-12.1.105-py3-none-manylinux1_x86_64.whl (99 kB)\n",
            "Requirement already satisfied: triton==2.2.0 in /usr/local/lib/python3.10/dist-packages (from torch==2.2.1->torchtext->LAMDA-SSL) (2.2.0)\n",
            "Requirement already satisfied: urllib3>=1.25 in /usr/local/lib/python3.10/dist-packages (from torchdata==0.7.1->torchtext->LAMDA-SSL) (2.0.7)\n",
            "Collecting nvidia-nvjitlink-cu12 (from nvidia-cusolver-cu12==11.4.5.107->torch==2.2.1->torchtext->LAMDA-SSL)\n",
            "  Using cached nvidia_nvjitlink_cu12-12.4.127-py3-none-manylinux2014_x86_64.whl (21.1 MB)\n",
            "Requirement already satisfied: six>=1.5 in /usr/local/lib/python3.10/dist-packages (from python-dateutil>=2.7->matplotlib->LAMDA-SSL) (1.16.0)\n",
            "Requirement already satisfied: aiosignal>=1.1.2 in /usr/local/lib/python3.10/dist-packages (from aiohttp->torch-geometric->LAMDA-SSL) (1.3.1)\n",
            "Requirement already satisfied: attrs>=17.3.0 in /usr/local/lib/python3.10/dist-packages (from aiohttp->torch-geometric->LAMDA-SSL) (23.2.0)\n",
            "Requirement already satisfied: frozenlist>=1.1.1 in /usr/local/lib/python3.10/dist-packages (from aiohttp->torch-geometric->LAMDA-SSL) (1.4.1)\n",
            "Requirement already satisfied: multidict<7.0,>=4.5 in /usr/local/lib/python3.10/dist-packages (from aiohttp->torch-geometric->LAMDA-SSL) (6.0.5)\n",
            "Requirement already satisfied: yarl<2.0,>=1.0 in /usr/local/lib/python3.10/dist-packages (from aiohttp->torch-geometric->LAMDA-SSL) (1.9.4)\n",
            "Requirement already satisfied: async-timeout<5.0,>=4.0 in /usr/local/lib/python3.10/dist-packages (from aiohttp->torch-geometric->LAMDA-SSL) (4.0.3)\n",
            "Requirement already satisfied: MarkupSafe>=2.0 in /usr/local/lib/python3.10/dist-packages (from jinja2->torch-geometric->LAMDA-SSL) (2.1.5)\n",
            "Requirement already satisfied: charset-normalizer<4,>=2 in /usr/local/lib/python3.10/dist-packages (from requests->torch-geometric->LAMDA-SSL) (3.3.2)\n",
            "Requirement already satisfied: idna<4,>=2.5 in /usr/local/lib/python3.10/dist-packages (from requests->torch-geometric->LAMDA-SSL) (3.7)\n",
            "Requirement already satisfied: certifi>=2017.4.17 in /usr/local/lib/python3.10/dist-packages (from requests->torch-geometric->LAMDA-SSL) (2024.2.2)\n",
            "Requirement already satisfied: mpmath>=0.19 in /usr/local/lib/python3.10/dist-packages (from sympy->torch==2.2.1->torchtext->LAMDA-SSL) (1.3.0)\n",
            "Installing collected packages: nvidia-nvtx-cu12, nvidia-nvjitlink-cu12, nvidia-nccl-cu12, nvidia-curand-cu12, nvidia-cufft-cu12, nvidia-cuda-runtime-cu12, nvidia-cuda-nvrtc-cu12, nvidia-cuda-cupti-cu12, nvidia-cublas-cu12, nvidia-cusparse-cu12, nvidia-cudnn-cu12, torch-geometric, nvidia-cusolver-cu12, LAMDA-SSL\n",
            "Successfully installed LAMDA-SSL-1.0.2 nvidia-cublas-cu12-12.1.3.1 nvidia-cuda-cupti-cu12-12.1.105 nvidia-cuda-nvrtc-cu12-12.1.105 nvidia-cuda-runtime-cu12-12.1.105 nvidia-cudnn-cu12-8.9.2.26 nvidia-cufft-cu12-11.0.2.54 nvidia-curand-cu12-10.3.2.106 nvidia-cusolver-cu12-11.4.5.107 nvidia-cusparse-cu12-12.1.0.106 nvidia-nccl-cu12-2.19.3 nvidia-nvjitlink-cu12-12.4.127 nvidia-nvtx-cu12-12.1.105 torch-geometric-2.5.3\n"
          ]
        }
      ],
      "source": [
        "!pip install optuna\n",
        "!pip install LAMDA-SSL"
      ]
    },
    {
      "cell_type": "markdown",
      "metadata": {
        "id": "jT-YzIdVRply"
      },
      "source": [
        "Importering av nødvendig bibliotek og pakker"
      ]
    },
    {
      "cell_type": "code",
      "execution_count": null,
      "metadata": {
        "id": "nLn2QDaFijWw"
      },
      "outputs": [],
      "source": [
        "import pandas as pd\n",
        "import numpy as np\n",
        "import copy\n",
        "import math\n",
        "from statistics import mean, stdev\n",
        "import time"
      ]
    },
    {
      "cell_type": "code",
      "execution_count": null,
      "metadata": {
        "id": "DmFSuK8ARtBg"
      },
      "outputs": [],
      "source": [
        "from sklearn.model_selection import train_test_split\n",
        "from sklearn.pipeline import Pipeline\n",
        "from sklearn.preprocessing import StandardScaler\n",
        "from sklearn.model_selection import RepeatedStratifiedKFold\n",
        "import sklearn.model_selection\n",
        "\n",
        "# Modell\n",
        "from LAMDA_SSL.Algorithm.Regression.CoReg import CoReg"
      ]
    },
    {
      "cell_type": "code",
      "execution_count": null,
      "metadata": {
        "id": "aPjLVwvuiyIr"
      },
      "outputs": [],
      "source": [
        "import optuna\n",
        "from optuna.visualization import plot_optimization_history\n",
        "\n",
        "# Utelukker utskriving av logg for hyperoptimalisering\n",
        "# optuna.logging.set_verbosity(optuna.logging.WARNING)"
      ]
    },
    {
      "cell_type": "markdown",
      "metadata": {
        "id": "qhRMrFFHlZuX"
      },
      "source": [
        "# Egendefinerte moduler"
      ]
    },
    {
      "cell_type": "code",
      "execution_count": null,
      "metadata": {
        "id": "FXgxrml5lg5B",
        "colab": {
          "base_uri": "https://localhost:8080/"
        },
        "outputId": "d829ecb3-4f4a-4b04-8227-fa31a5b599fb"
      },
      "outputs": [
        {
          "output_type": "stream",
          "name": "stdout",
          "text": [
            "/content\n"
          ]
        }
      ],
      "source": [
        "!pwd\n",
        "! cp /content/drive/MyDrive/MasterV24/GitHub/moduler_trening_validering_testing_evaluering.py /content/moduler_trening_validering_testing_evaluering.py"
      ]
    },
    {
      "cell_type": "code",
      "execution_count": null,
      "metadata": {
        "id": "tvOTDwKLf0q8"
      },
      "outputs": [],
      "source": [
        "from moduler_trening_validering_testing_evaluering import trening_testsett_oppdeling_enzym\n",
        "from moduler_trening_validering_testing_evaluering import trening_testsett_oppdeling_dag\n",
        "from moduler_trening_validering_testing_evaluering import trening_validering_oppdeling_dag\n",
        "\n",
        "from moduler_trening_validering_testing_evaluering import enzymfordeling\n",
        "from moduler_trening_validering_testing_evaluering import n_splitt_enzym\n",
        "from moduler_trening_validering_testing_evaluering import umarkert_andel_dag\n",
        "from moduler_trening_validering_testing_evaluering import Resultat_evaluering\n",
        "from moduler_trening_validering_testing_evaluering import res_eval_opt\n",
        "from moduler_trening_validering_testing_evaluering import res_eval\n",
        "from moduler_trening_validering_testing_evaluering import Resultat_dicts_semi"
      ]
    },
    {
      "cell_type": "code",
      "execution_count": null,
      "metadata": {
        "id": "JTs_zHhkiBpK",
        "colab": {
          "base_uri": "https://localhost:8080/"
        },
        "outputId": "655f166f-6292-4c4f-b659-0d730ee6d133"
      },
      "outputs": [
        {
          "output_type": "stream",
          "name": "stdout",
          "text": [
            "/content\n"
          ]
        }
      ],
      "source": [
        "!pwd\n",
        "! cp /content/drive/MyDrive/MasterV24/GitHub/moduler_optimalisering_evaluering_semiveiledet.py /content/moduler_optimalisering_evaluering_semiveiledet.py"
      ]
    },
    {
      "cell_type": "code",
      "execution_count": null,
      "metadata": {
        "id": "A5GEVrXsiYd-"
      },
      "outputs": [],
      "source": [
        "from moduler_optimalisering_evaluering_semiveiledet import BHD\n",
        "from moduler_optimalisering_evaluering_semiveiledet import SelfTrainingRandomForestRegressor\n",
        "\n",
        "from moduler_optimalisering_evaluering_semiveiledet import trening_coreg_enzym\n",
        "from moduler_optimalisering_evaluering_semiveiledet import trening_bhd_domene_enzym\n",
        "from moduler_optimalisering_evaluering_semiveiledet import trening_selvtrent_rfr_enzym\n",
        "\n",
        "from moduler_optimalisering_evaluering_semiveiledet import trening_coreg_dag\n",
        "from moduler_optimalisering_evaluering_semiveiledet import trening_bhd_domene_dag\n",
        "from moduler_optimalisering_evaluering_semiveiledet import trening_selvtrent_rfr_dag\n",
        "\n",
        "from moduler_optimalisering_evaluering_semiveiledet import semi_modell_evaluering_1\n",
        "from moduler_optimalisering_evaluering_semiveiledet import semi_modell_evaluering_2\n",
        "\n",
        "from moduler_optimalisering_evaluering_semiveiledet import bhd_andel_maks\n",
        "from moduler_optimalisering_evaluering_semiveiledet import andel_umarkert"
      ]
    },
    {
      "cell_type": "markdown",
      "metadata": {
        "id": "21cdLIoaSTR6"
      },
      "source": [
        "# Importering av relevant data"
      ]
    },
    {
      "cell_type": "code",
      "execution_count": null,
      "metadata": {
        "id": "XeNQyDPZSTwY"
      },
      "outputs": [],
      "source": [
        "# Velger første kolonne med dato og tid som index\n",
        "data = pd.read_csv('/content/drive/MyDrive/MasterV24/Bioco_data/mw_data.csv',\n",
        "                   header=0,\n",
        "                   sep=',',\n",
        "                   index_col=0)\n",
        "\n",
        "# Design produksjon\n",
        "data_design = pd.read_csv('/content/drive/MyDrive/MasterV24/Bioco_data/mw_data_design.csv',\n",
        "                          header=0,\n",
        "                          sep=',',\n",
        "                          index_col=0)\n",
        "\n",
        "# Importerer rådata\n",
        "rå_data = pd.read_csv('/content/drive/MyDrive/MasterV24/BiocoData.csv',\n",
        "                      header=0,\n",
        "                      sep=';',\n",
        "                      index_col=0)\n",
        "\n",
        "# Formatterer index til riktig format og datatype\n",
        "data.index = pd.to_datetime(data.index,\n",
        "                            format='%Y-%m-%d %H:%M:%S')\n",
        "\n",
        "data_design.index = pd.to_datetime(data_design.index,\n",
        "                                   format='%Y-%m-%d %H:%M:%S')\n",
        "\n",
        "rå_data.index = pd.to_datetime(rå_data.index,\n",
        "                               format='%d-%m-%Y %H:%M:%S.%f')"
      ]
    },
    {
      "cell_type": "markdown",
      "metadata": {
        "id": "7Wl0nay5j2C4"
      },
      "source": [
        "Tilfeldighetsfrø"
      ]
    },
    {
      "cell_type": "code",
      "execution_count": null,
      "metadata": {
        "id": "OxTGpIOmj4V7"
      },
      "outputs": [],
      "source": [
        "#Tilfeldighetsfrø\n",
        "random_seed = 2024"
      ]
    },
    {
      "cell_type": "markdown",
      "metadata": {
        "id": "i_1rn21ITRJ4"
      },
      "source": [
        "# Lagring av res"
      ]
    },
    {
      "cell_type": "code",
      "execution_count": null,
      "metadata": {
        "id": "EGIgRqWETUTx"
      },
      "outputs": [],
      "source": [
        "# Oppretter instans for lagring av res\n",
        "res_semi = Resultat_dicts_semi()"
      ]
    },
    {
      "cell_type": "markdown",
      "source": [
        "# Setter fast testandel på 20%, definerer treningsandeler og markerte andeler"
      ],
      "metadata": {
        "id": "lBAscBxqK7QZ"
      }
    },
    {
      "cell_type": "code",
      "source": [
        "# Fast testsandel\n",
        "test_andel = 0.2\n",
        "\n",
        "# Treningsandeler til undersøkelse\n",
        "treningsandeler = [0.25, 0.5, 0.75, 1.0]\n",
        "\n",
        "# Markerte andeler til undersøkelse\n",
        "andel_av_markert = [0.5, 1.0, 10.0]"
      ],
      "metadata": {
        "id": "987yKTDLK_ur"
      },
      "execution_count": null,
      "outputs": []
    },
    {
      "cell_type": "markdown",
      "source": [
        "# Parametervalg for hyperoptimalisering"
      ],
      "metadata": {
        "id": "w57g39LGwyBz"
      }
    },
    {
      "cell_type": "code",
      "source": [
        "# Antall runder for hyperoptimalisering\n",
        "n_runder_hel = 100\n",
        "n_runder_andel = 100\n",
        "\n",
        "# Antall gjentagelser\n",
        "n_gjentagelser = 2"
      ],
      "metadata": {
        "id": "Tx_wgPo_xv-7"
      },
      "execution_count": null,
      "outputs": []
    },
    {
      "cell_type": "markdown",
      "metadata": {
        "id": "76aWdlTDXp9I"
      },
      "source": [
        "# NIR målinger inkludert"
      ]
    },
    {
      "cell_type": "markdown",
      "metadata": {
        "id": "wQpsJkKShL_9"
      },
      "source": [
        "## Hele datasett"
      ]
    },
    {
      "cell_type": "markdown",
      "metadata": {
        "id": "yNN1h11QTJ2y"
      },
      "source": [
        "## Alternativ 1: Et testsett. Fordelt på enzymtype (ikke tatt hensyn til kontinuitet)"
      ]
    },
    {
      "cell_type": "code",
      "execution_count": null,
      "metadata": {
        "id": "j-oKygY5rRw0"
      },
      "outputs": [],
      "source": [
        "# Setter fast testandel og treningsandel\n",
        "trenings_andel = 1.0\n",
        "\n",
        "\n",
        "# Deler datasettet i trening og testsett\n",
        "trening_markert, enzymtyper_markert, testsett, _,\\\n",
        "trening_umarkert, enzymtyper_umarkert, trening\\\n",
        "= trening_testsett_oppdeling_enzym(rå_data,\n",
        "                                   data,\n",
        "                                   test_andel=test_andel)"
      ]
    },
    {
      "cell_type": "code",
      "execution_count": null,
      "metadata": {
        "colab": {
          "base_uri": "https://localhost:8080/"
        },
        "id": "EmZJojj4jXKu",
        "outputId": "59074e85-702f-4062-a06b-2e35892b64c2"
      },
      "outputs": [
        {
          "output_type": "stream",
          "name": "stderr",
          "text": [
            "[I 2024-04-30 18:46:00,219] A new study created in memory with name: no-name-0699b9dd-4a90-4df9-8dba-3d6c1e0adb1c\n",
            "[I 2024-04-30 18:46:55,156] Trial 1 finished with value: 617.6555960481775 and parameters: {'k1': 10, 'k2': 9, 'p1': 10, 'p2': 4, 'max_iters': 1, 'pool_size': 37}. Best is trial 1 with value: 617.6555960481775.\n",
            "[I 2024-04-30 18:58:32,156] Trial 2 finished with value: 587.5797280758849 and parameters: {'k1': 4, 'k2': 6, 'p1': 4, 'p2': 9, 'max_iters': 11, 'pool_size': 85}. Best is trial 2 with value: 587.5797280758849.\n",
            "[I 2024-04-30 19:15:30,553] Trial 0 finished with value: 571.2047464726944 and parameters: {'k1': 1, 'k2': 8, 'p1': 9, 'p2': 10, 'max_iters': 26, 'pool_size': 98}. Best is trial 0 with value: 571.2047464726944.\n",
            "[I 2024-04-30 19:22:54,255] Trial 3 finished with value: 570.6509095730211 and parameters: {'k1': 10, 'k2': 1, 'p1': 6, 'p2': 5, 'max_iters': 43, 'pool_size': 41}. Best is trial 3 with value: 570.6509095730211.\n",
            "[I 2024-04-30 19:26:28,146] Trial 4 pruned. \n",
            "[I 2024-04-30 19:26:57,868] A new study created in memory with name: no-name-b307d31c-8b7f-4f52-8cfc-1c2845bb2a78\n",
            "[I 2024-04-30 19:28:31,999] Trial 1 finished with value: 716.2479634998573 and parameters: {'n_estimators': 426, 'criterion': 'poisson', 'max_depth': 19, 'min_samples_leaf': 4, 'max_features': 0.162, 'maks_iterasjoner': 11, 'std_terskel': 0.022}. Best is trial 1 with value: 716.2479634998573.\n",
            "[I 2024-04-30 19:29:05,465] Trial 2 finished with value: 750.9357074131087 and parameters: {'n_estimators': 155, 'criterion': 'poisson', 'max_depth': 4, 'min_samples_leaf': 1, 'max_features': 0.506, 'maks_iterasjoner': 9, 'std_terskel': 0.022}. Best is trial 1 with value: 716.2479634998573.\n",
            "[I 2024-04-30 19:31:23,595] Trial 3 finished with value: 556.120243983948 and parameters: {'n_estimators': 216, 'criterion': 'squared_error', 'max_depth': 12, 'min_samples_leaf': 1, 'max_features': 0.34299999999999997, 'maks_iterasjoner': 15, 'std_terskel': 0.012}. Best is trial 3 with value: 556.120243983948.\n",
            "[I 2024-04-30 19:32:38,219] Trial 0 finished with value: 668.4228453744186 and parameters: {'n_estimators': 177, 'criterion': 'absolute_error', 'max_depth': 12, 'min_samples_leaf': 4, 'max_features': 0.28700000000000003, 'maks_iterasjoner': 16, 'std_terskel': 0.027000000000000003}. Best is trial 3 with value: 556.120243983948.\n",
            "[I 2024-04-30 19:59:22,481] Trial 4 finished with value: 592.1147115491631 and parameters: {'n_estimators': 384, 'criterion': 'poisson', 'max_depth': 27, 'min_samples_leaf': 2, 'max_features': 0.905, 'maks_iterasjoner': 17, 'std_terskel': 0.018000000000000002}. Best is trial 3 with value: 556.120243983948.\n",
            "[I 2024-04-30 19:59:27,337] A new study created in memory with name: no-name-e395a317-1484-4551-8968-5fd0ec2c2c4d\n",
            "[I 2024-04-30 21:50:06,211] Trial 0 finished with value: 1533.250898420449 and parameters: {'k': 7034, 'graf_vektet_harmonic': False, 'initiell_respons': 'domain_mean', 'alpha': 0.682, 'maks_iterasjoner_harmonic': 6, 'maks_iterasjoner_heat': 16}. Best is trial 0 with value: 1533.250898420449.\n",
            "[I 2024-04-30 23:14:35,758] Trial 1 finished with value: 1221.4178700208292 and parameters: {'k': 4396, 'graf_vektet_harmonic': False, 'initiell_respons': 'domain_mean', 'alpha': 0.34400000000000003, 'maks_iterasjoner_harmonic': 68, 'maks_iterasjoner_heat': 60}. Best is trial 1 with value: 1221.4178700208292.\n",
            "[I 2024-05-01 00:11:36,977] Trial 2 finished with value: 1414.6681878268141 and parameters: {'k': 3890, 'graf_vektet_harmonic': True, 'initiell_respons': 'domain_mean', 'alpha': 0.716, 'maks_iterasjoner_harmonic': 97, 'maks_iterasjoner_heat': 23}. Best is trial 1 with value: 1221.4178700208292.\n"
          ]
        }
      ],
      "source": [
        "# Antall splitt etter minste enxymtype\n",
        "n_splitt = n_splitt_enzym(rå_data, trening_markert)\n",
        "\n",
        "# Modelloptimalisering, trening og evaulering av Coreg, Selv-RFR og BHD\n",
        "semi_modell_evaluering_1(dict_res_opt=res_semi.dict_res_1_hel_opt,\n",
        "                         dict_res=res_semi.dict_res_1_hel,\n",
        "                         rå_data=rå_data,\n",
        "                         treningssett_markert=trening_markert,\n",
        "                         enzymtyper_treningssett_markert=enzymtyper_markert,\n",
        "                         treningssett_umarkert=trening_umarkert,\n",
        "                         enzymtyper_treningssett_umarkert=enzymtyper_umarkert,\n",
        "                         treningssett=trening,\n",
        "                         testsett=testsett,\n",
        "                         n_splitt=n_splitt,\n",
        "                         n_gjentagelser=n_gjentagelser,\n",
        "                         n_runder=n_runder_hel,\n",
        "                         test_andel=test_andel,\n",
        "                         trenings_andel=trenings_andel,\n",
        "                         random_seed=random_seed)\n",
        "\n",
        "\n",
        "# Lagring av resulatater\n",
        "res_1_hel_semi = pd.DataFrame(res_semi.dict_res_1_hel)\n",
        "res_1_hel_opt_semi = pd.DataFrame(res_semi.dict_res_1_hel_opt)\n",
        "\n",
        "res_1_hel_semi.to_csv('/content/drive/MyDrive/MasterV24/Bioco_data/Resultater/mw/mw_res_1_hel_semi.csv')\n",
        "res_1_hel_opt_semi.to_csv('/content/drive/MyDrive/MasterV24/Bioco_data/Resultater/mw/mw_res_1_hel_opt_semi.csv')"
      ]
    },
    {
      "cell_type": "markdown",
      "metadata": {
        "id": "kvKjGVxrg57C"
      },
      "source": [
        "Beste modell"
      ]
    },
    {
      "cell_type": "code",
      "execution_count": null,
      "metadata": {
        "id": "Tk75jd3uz4j5"
      },
      "outputs": [],
      "source": []
    },
    {
      "cell_type": "markdown",
      "metadata": {
        "id": "lNTfChXaIZAf"
      },
      "source": [
        "## Alternativ 1: Forskjellige markerte og umarkerte treningsandeler"
      ]
    },
    {
      "cell_type": "code",
      "execution_count": null,
      "metadata": {
        "colab": {
          "base_uri": "https://localhost:8080/",
          "height": 706
        },
        "id": "jH1qpCxOIgAI",
        "outputId": "3dbf6f6f-7caf-4509-ef6b-a0fe05d11abc"
      },
      "outputs": [
        {
          "output_type": "stream",
          "name": "stderr",
          "text": [
            "[I 2024-04-29 21:35:24,290] A new study created in memory with name: no-name-7c27ba89-610a-4478-8a39-f831ae3c4013\n",
            "[I 2024-04-29 21:38:18,019] Trial 0 finished with value: 1136.7881609756505 and parameters: {'k1': 10, 'k2': 6, 'p1': 8, 'p2': 9, 'max_iters': 24, 'pool_size': 32}. Best is trial 0 with value: 1136.7881609756505.\n",
            "[I 2024-04-29 21:38:28,524] Trial 1 finished with value: 1174.686404622968 and parameters: {'k1': 9, 'k2': 7, 'p1': 7, 'p2': 5, 'max_iters': 22, 'pool_size': 60}. Best is trial 0 with value: 1136.7881609756505.\n",
            "[I 2024-04-29 21:40:42,984] Trial 2 finished with value: 891.5471735999575 and parameters: {'k1': 10, 'k2': 2, 'p1': 9, 'p2': 8, 'max_iters': 17, 'pool_size': 86}. Best is trial 2 with value: 891.5471735999575.\n",
            "[I 2024-04-29 21:41:08,408] Trial 3 finished with value: 893.4284063532599 and parameters: {'k1': 7, 'k2': 1, 'p1': 5, 'p2': 1, 'max_iters': 32, 'pool_size': 74}. Best is trial 2 with value: 891.5471735999575.\n",
            "[I 2024-04-29 21:42:15,445] Trial 4 finished with value: 1088.0809886421314 and parameters: {'k1': 7, 'k2': 6, 'p1': 8, 'p2': 4, 'max_iters': 49, 'pool_size': 16}. Best is trial 2 with value: 891.5471735999575.\n",
            "[I 2024-04-29 21:42:55,996] Trial 6 finished with value: 819.2372323106587 and parameters: {'k1': 1, 'k2': 5, 'p1': 3, 'p2': 3, 'max_iters': 6, 'pool_size': 98}. Best is trial 6 with value: 819.2372323106587.\n",
            "[I 2024-04-29 21:43:20,573] Trial 7 finished with value: 1126.7845609125463 and parameters: {'k1': 6, 'k2': 9, 'p1': 6, 'p2': 6, 'max_iters': 13, 'pool_size': 5}. Best is trial 6 with value: 819.2372323106587.\n",
            "[I 2024-04-29 21:43:54,528] Trial 5 finished with value: 945.5831114934731 and parameters: {'k1': 3, 'k2': 10, 'p1': 5, 'p2': 3, 'max_iters': 23, 'pool_size': 97}. Best is trial 6 with value: 819.2372323106587.\n",
            "[I 2024-04-29 21:44:01,446] Trial 8 finished with value: 752.7301227097283 and parameters: {'k1': 2, 'k2': 2, 'p1': 5, 'p2': 7, 'max_iters': 9, 'pool_size': 56}. Best is trial 8 with value: 752.7301227097283.\n",
            "[I 2024-04-29 21:44:24,001] Trial 9 finished with value: 911.2966390087398 and parameters: {'k1': 3, 'k2': 8, 'p1': 8, 'p2': 8, 'max_iters': 9, 'pool_size': 11}. Best is trial 8 with value: 752.7301227097283.\n",
            "[I 2024-04-29 21:44:28,930] Trial 11 finished with value: 813.3870105230221 and parameters: {'k1': 1, 'k2': 3, 'p1': 1, 'p2': 10, 'max_iters': 1, 'pool_size': 48}. Best is trial 8 with value: 752.7301227097283.\n",
            "[I 2024-04-29 21:44:34,732] Trial 12 finished with value: 811.065055314106 and parameters: {'k1': 1, 'k2': 3, 'p1': 1, 'p2': 10, 'max_iters': 1, 'pool_size': 45}. Best is trial 8 with value: 752.7301227097283.\n",
            "[I 2024-04-29 21:44:41,599] Trial 13 finished with value: 802.175483534314 and parameters: {'k1': 3, 'k2': 4, 'p1': 1, 'p2': 7, 'max_iters': 1, 'pool_size': 44}. Best is trial 8 with value: 752.7301227097283.\n",
            "[I 2024-04-29 21:45:51,793] Trial 10 finished with value: 814.7387137507857 and parameters: {'k1': 3, 'k2': 5, 'p1': 8, 'p2': 7, 'max_iters': 50, 'pool_size': 77}. Best is trial 8 with value: 752.7301227097283.\n"
          ]
        },
        {
          "output_type": "error",
          "ename": "KeyboardInterrupt",
          "evalue": "",
          "traceback": [
            "\u001b[0;31m---------------------------------------------------------------------------\u001b[0m",
            "\u001b[0;31mKeyboardInterrupt\u001b[0m                         Traceback (most recent call last)",
            "\u001b[0;32m/usr/local/lib/python3.10/dist-packages/optuna/study/_optimize.py\u001b[0m in \u001b[0;36m_optimize\u001b[0;34m(study, func, n_trials, timeout, n_jobs, catch, callbacks, gc_after_trial, show_progress_bar)\u001b[0m\n\u001b[1;32m     95\u001b[0m                     \u001b[0;32mif\u001b[0m \u001b[0mlen\u001b[0m\u001b[0;34m(\u001b[0m\u001b[0mfutures\u001b[0m\u001b[0;34m)\u001b[0m \u001b[0;34m>=\u001b[0m \u001b[0mn_jobs\u001b[0m\u001b[0;34m:\u001b[0m\u001b[0;34m\u001b[0m\u001b[0;34m\u001b[0m\u001b[0m\n\u001b[0;32m---> 96\u001b[0;31m                         \u001b[0mcompleted\u001b[0m\u001b[0;34m,\u001b[0m \u001b[0mfutures\u001b[0m \u001b[0;34m=\u001b[0m \u001b[0mwait\u001b[0m\u001b[0;34m(\u001b[0m\u001b[0mfutures\u001b[0m\u001b[0;34m,\u001b[0m \u001b[0mreturn_when\u001b[0m\u001b[0;34m=\u001b[0m\u001b[0mFIRST_COMPLETED\u001b[0m\u001b[0;34m)\u001b[0m\u001b[0;34m\u001b[0m\u001b[0;34m\u001b[0m\u001b[0m\n\u001b[0m\u001b[1;32m     97\u001b[0m                         \u001b[0;31m# Raise if exception occurred in executing the completed futures.\u001b[0m\u001b[0;34m\u001b[0m\u001b[0;34m\u001b[0m\u001b[0m\n",
            "\u001b[0;32m/usr/lib/python3.10/concurrent/futures/_base.py\u001b[0m in \u001b[0;36mwait\u001b[0;34m(fs, timeout, return_when)\u001b[0m\n\u001b[1;32m    306\u001b[0m \u001b[0;34m\u001b[0m\u001b[0m\n\u001b[0;32m--> 307\u001b[0;31m     \u001b[0mwaiter\u001b[0m\u001b[0;34m.\u001b[0m\u001b[0mevent\u001b[0m\u001b[0;34m.\u001b[0m\u001b[0mwait\u001b[0m\u001b[0;34m(\u001b[0m\u001b[0mtimeout\u001b[0m\u001b[0;34m)\u001b[0m\u001b[0;34m\u001b[0m\u001b[0;34m\u001b[0m\u001b[0m\n\u001b[0m\u001b[1;32m    308\u001b[0m     \u001b[0;32mfor\u001b[0m \u001b[0mf\u001b[0m \u001b[0;32min\u001b[0m \u001b[0mfs\u001b[0m\u001b[0;34m:\u001b[0m\u001b[0;34m\u001b[0m\u001b[0;34m\u001b[0m\u001b[0m\n",
            "\u001b[0;32m/usr/lib/python3.10/threading.py\u001b[0m in \u001b[0;36mwait\u001b[0;34m(self, timeout)\u001b[0m\n\u001b[1;32m    606\u001b[0m             \u001b[0;32mif\u001b[0m \u001b[0;32mnot\u001b[0m \u001b[0msignaled\u001b[0m\u001b[0;34m:\u001b[0m\u001b[0;34m\u001b[0m\u001b[0;34m\u001b[0m\u001b[0m\n\u001b[0;32m--> 607\u001b[0;31m                 \u001b[0msignaled\u001b[0m \u001b[0;34m=\u001b[0m \u001b[0mself\u001b[0m\u001b[0;34m.\u001b[0m\u001b[0m_cond\u001b[0m\u001b[0;34m.\u001b[0m\u001b[0mwait\u001b[0m\u001b[0;34m(\u001b[0m\u001b[0mtimeout\u001b[0m\u001b[0;34m)\u001b[0m\u001b[0;34m\u001b[0m\u001b[0;34m\u001b[0m\u001b[0m\n\u001b[0m\u001b[1;32m    608\u001b[0m             \u001b[0;32mreturn\u001b[0m \u001b[0msignaled\u001b[0m\u001b[0;34m\u001b[0m\u001b[0;34m\u001b[0m\u001b[0m\n",
            "\u001b[0;32m/usr/lib/python3.10/threading.py\u001b[0m in \u001b[0;36mwait\u001b[0;34m(self, timeout)\u001b[0m\n\u001b[1;32m    319\u001b[0m             \u001b[0;32mif\u001b[0m \u001b[0mtimeout\u001b[0m \u001b[0;32mis\u001b[0m \u001b[0;32mNone\u001b[0m\u001b[0;34m:\u001b[0m\u001b[0;34m\u001b[0m\u001b[0;34m\u001b[0m\u001b[0m\n\u001b[0;32m--> 320\u001b[0;31m                 \u001b[0mwaiter\u001b[0m\u001b[0;34m.\u001b[0m\u001b[0macquire\u001b[0m\u001b[0;34m(\u001b[0m\u001b[0;34m)\u001b[0m\u001b[0;34m\u001b[0m\u001b[0;34m\u001b[0m\u001b[0m\n\u001b[0m\u001b[1;32m    321\u001b[0m                 \u001b[0mgotit\u001b[0m \u001b[0;34m=\u001b[0m \u001b[0;32mTrue\u001b[0m\u001b[0;34m\u001b[0m\u001b[0;34m\u001b[0m\u001b[0m\n",
            "\u001b[0;31mKeyboardInterrupt\u001b[0m: ",
            "\nDuring handling of the above exception, another exception occurred:\n",
            "\u001b[0;31mKeyboardInterrupt\u001b[0m                         Traceback (most recent call last)",
            "\u001b[0;32m<ipython-input-24-2c7854fc37ee>\u001b[0m in \u001b[0;36m<cell line: 2>\u001b[0;34m()\u001b[0m\n\u001b[1;32m     43\u001b[0m \u001b[0;34m\u001b[0m\u001b[0m\n\u001b[1;32m     44\u001b[0m     \u001b[0;31m# Modelloptimalisering, trening og evaulering av Coreg, Selv-RFR og BHD\u001b[0m\u001b[0;34m\u001b[0m\u001b[0;34m\u001b[0m\u001b[0m\n\u001b[0;32m---> 45\u001b[0;31m     semi_modell_evaluering_1(dict_res_opt=res_semi.dict_res_1_hel_opt,\n\u001b[0m\u001b[1;32m     46\u001b[0m                              \u001b[0mdict_res\u001b[0m\u001b[0;34m=\u001b[0m\u001b[0mres_semi\u001b[0m\u001b[0;34m.\u001b[0m\u001b[0mdict_res_1_hel\u001b[0m\u001b[0;34m,\u001b[0m\u001b[0;34m\u001b[0m\u001b[0;34m\u001b[0m\u001b[0m\n\u001b[1;32m     47\u001b[0m                              \u001b[0mrå_data\u001b[0m\u001b[0;34m=\u001b[0m\u001b[0mrå_data\u001b[0m\u001b[0;34m,\u001b[0m\u001b[0;34m\u001b[0m\u001b[0;34m\u001b[0m\u001b[0m\n",
            "\u001b[0;32m/content/moduler_optimalisering_evaluering_semiveiledet.py\u001b[0m in \u001b[0;36msemi_modell_evaluering_1\u001b[0;34m(dict_res_opt, dict_res, rå_data, treningssett_markert, enzymtyper_treningssett_markert, treningssett_umarkert, enzymtyper_treningssett_umarkert, treningssett, testsett, n_splitt, n_gjentagelser, n_runder, test_andel, trenings_andel, random_seed)\u001b[0m\n\u001b[1;32m   1804\u001b[0m   \u001b[0;31m# Modelloptimalisering - CoReg\u001b[0m\u001b[0;34m\u001b[0m\u001b[0;34m\u001b[0m\u001b[0m\n\u001b[1;32m   1805\u001b[0m   \u001b[0mcoreg_res\u001b[0m\u001b[0;34m,\u001b[0m \u001b[0mcoreg_param\u001b[0m\u001b[0;34m,\u001b[0m \u001b[0mcoreg_opt_rmse\u001b[0m\u001b[0;34m,\u001b[0m \u001b[0mcoreg_umarkert_antall_benyttet\u001b[0m\u001b[0;31m\\\u001b[0m\u001b[0;34m\u001b[0m\u001b[0;34m\u001b[0m\u001b[0m\n\u001b[0;32m-> 1806\u001b[0;31m   = trening_coreg_enzym(treningssett_markert,\n\u001b[0m\u001b[1;32m   1807\u001b[0m                         \u001b[0menzymtyper_treningssett_markert\u001b[0m\u001b[0;34m,\u001b[0m\u001b[0;34m\u001b[0m\u001b[0;34m\u001b[0m\u001b[0m\n\u001b[1;32m   1808\u001b[0m                         \u001b[0mtreningssett_umarkert\u001b[0m\u001b[0;34m,\u001b[0m\u001b[0;34m\u001b[0m\u001b[0;34m\u001b[0m\u001b[0m\n",
            "\u001b[0;32m/content/moduler_optimalisering_evaluering_semiveiledet.py\u001b[0m in \u001b[0;36mtrening_coreg_enzym\u001b[0;34m(treningssett_markert, enzymtyper_treningssett_markert, treningssett_umarkert, treningssett, testsett, n_splitt, n_gjentagelser, n_runder, random_seed)\u001b[0m\n\u001b[1;32m    857\u001b[0m                                   \u001b[0mmin_resource\u001b[0m\u001b[0;34m=\u001b[0m\u001b[0;36m10\u001b[0m\u001b[0;34m,\u001b[0m\u001b[0;34m\u001b[0m\u001b[0;34m\u001b[0m\u001b[0m\n\u001b[1;32m    858\u001b[0m                                   reduction_factor=2))\n\u001b[0;32m--> 859\u001b[0;31m   \u001b[0mstudy\u001b[0m\u001b[0;34m.\u001b[0m\u001b[0moptimize\u001b[0m\u001b[0;34m(\u001b[0m\u001b[0mobjective\u001b[0m\u001b[0;34m,\u001b[0m \u001b[0mn_trials\u001b[0m\u001b[0;34m=\u001b[0m\u001b[0mn_runder\u001b[0m\u001b[0;34m,\u001b[0m \u001b[0mn_jobs\u001b[0m\u001b[0;34m=\u001b[0m\u001b[0;34m-\u001b[0m\u001b[0;36m1\u001b[0m\u001b[0;34m)\u001b[0m\u001b[0;34m\u001b[0m\u001b[0;34m\u001b[0m\u001b[0m\n\u001b[0m\u001b[1;32m    860\u001b[0m \u001b[0;34m\u001b[0m\u001b[0m\n\u001b[1;32m    861\u001b[0m   \u001b[0mtid_opt_sek\u001b[0m\u001b[0;34m=\u001b[0m \u001b[0mtime\u001b[0m\u001b[0;34m.\u001b[0m\u001b[0mtime\u001b[0m\u001b[0;34m(\u001b[0m\u001b[0;34m)\u001b[0m \u001b[0;34m-\u001b[0m \u001b[0mstart_tid_opt\u001b[0m\u001b[0;34m\u001b[0m\u001b[0;34m\u001b[0m\u001b[0m\n",
            "\u001b[0;32m/usr/local/lib/python3.10/dist-packages/optuna/study/study.py\u001b[0m in \u001b[0;36moptimize\u001b[0;34m(self, func, n_trials, timeout, n_jobs, catch, callbacks, gc_after_trial, show_progress_bar)\u001b[0m\n\u001b[1;32m    449\u001b[0m                 \u001b[0mIf\u001b[0m \u001b[0mnested\u001b[0m \u001b[0minvocation\u001b[0m \u001b[0mof\u001b[0m \u001b[0mthis\u001b[0m \u001b[0mmethod\u001b[0m \u001b[0moccurs\u001b[0m\u001b[0;34m.\u001b[0m\u001b[0;34m\u001b[0m\u001b[0;34m\u001b[0m\u001b[0m\n\u001b[1;32m    450\u001b[0m         \"\"\"\n\u001b[0;32m--> 451\u001b[0;31m         _optimize(\n\u001b[0m\u001b[1;32m    452\u001b[0m             \u001b[0mstudy\u001b[0m\u001b[0;34m=\u001b[0m\u001b[0mself\u001b[0m\u001b[0;34m,\u001b[0m\u001b[0;34m\u001b[0m\u001b[0;34m\u001b[0m\u001b[0m\n\u001b[1;32m    453\u001b[0m             \u001b[0mfunc\u001b[0m\u001b[0;34m=\u001b[0m\u001b[0mfunc\u001b[0m\u001b[0;34m,\u001b[0m\u001b[0;34m\u001b[0m\u001b[0;34m\u001b[0m\u001b[0m\n",
            "\u001b[0;32m/usr/local/lib/python3.10/dist-packages/optuna/study/_optimize.py\u001b[0m in \u001b[0;36m_optimize\u001b[0;34m(study, func, n_trials, timeout, n_jobs, catch, callbacks, gc_after_trial, show_progress_bar)\u001b[0m\n\u001b[1;32m     79\u001b[0m             \u001b[0mfutures\u001b[0m\u001b[0;34m:\u001b[0m \u001b[0mset\u001b[0m\u001b[0;34m[\u001b[0m\u001b[0mFuture\u001b[0m\u001b[0;34m]\u001b[0m \u001b[0;34m=\u001b[0m \u001b[0mset\u001b[0m\u001b[0;34m(\u001b[0m\u001b[0;34m)\u001b[0m\u001b[0;34m\u001b[0m\u001b[0;34m\u001b[0m\u001b[0m\n\u001b[1;32m     80\u001b[0m \u001b[0;34m\u001b[0m\u001b[0m\n\u001b[0;32m---> 81\u001b[0;31m             \u001b[0;32mwith\u001b[0m \u001b[0mThreadPoolExecutor\u001b[0m\u001b[0;34m(\u001b[0m\u001b[0mmax_workers\u001b[0m\u001b[0;34m=\u001b[0m\u001b[0mn_jobs\u001b[0m\u001b[0;34m)\u001b[0m \u001b[0;32mas\u001b[0m \u001b[0mexecutor\u001b[0m\u001b[0;34m:\u001b[0m\u001b[0;34m\u001b[0m\u001b[0;34m\u001b[0m\u001b[0m\n\u001b[0m\u001b[1;32m     82\u001b[0m                 \u001b[0;32mfor\u001b[0m \u001b[0mn_submitted_trials\u001b[0m \u001b[0;32min\u001b[0m \u001b[0mitertools\u001b[0m\u001b[0;34m.\u001b[0m\u001b[0mcount\u001b[0m\u001b[0;34m(\u001b[0m\u001b[0;34m)\u001b[0m\u001b[0;34m:\u001b[0m\u001b[0;34m\u001b[0m\u001b[0;34m\u001b[0m\u001b[0m\n\u001b[1;32m     83\u001b[0m                     \u001b[0;32mif\u001b[0m \u001b[0mstudy\u001b[0m\u001b[0;34m.\u001b[0m\u001b[0m_stop_flag\u001b[0m\u001b[0;34m:\u001b[0m\u001b[0;34m\u001b[0m\u001b[0;34m\u001b[0m\u001b[0m\n",
            "\u001b[0;32m/usr/lib/python3.10/concurrent/futures/_base.py\u001b[0m in \u001b[0;36m__exit__\u001b[0;34m(self, exc_type, exc_val, exc_tb)\u001b[0m\n\u001b[1;32m    647\u001b[0m \u001b[0;34m\u001b[0m\u001b[0m\n\u001b[1;32m    648\u001b[0m     \u001b[0;32mdef\u001b[0m \u001b[0m__exit__\u001b[0m\u001b[0;34m(\u001b[0m\u001b[0mself\u001b[0m\u001b[0;34m,\u001b[0m \u001b[0mexc_type\u001b[0m\u001b[0;34m,\u001b[0m \u001b[0mexc_val\u001b[0m\u001b[0;34m,\u001b[0m \u001b[0mexc_tb\u001b[0m\u001b[0;34m)\u001b[0m\u001b[0;34m:\u001b[0m\u001b[0;34m\u001b[0m\u001b[0;34m\u001b[0m\u001b[0m\n\u001b[0;32m--> 649\u001b[0;31m         \u001b[0mself\u001b[0m\u001b[0;34m.\u001b[0m\u001b[0mshutdown\u001b[0m\u001b[0;34m(\u001b[0m\u001b[0mwait\u001b[0m\u001b[0;34m=\u001b[0m\u001b[0;32mTrue\u001b[0m\u001b[0;34m)\u001b[0m\u001b[0;34m\u001b[0m\u001b[0;34m\u001b[0m\u001b[0m\n\u001b[0m\u001b[1;32m    650\u001b[0m         \u001b[0;32mreturn\u001b[0m \u001b[0;32mFalse\u001b[0m\u001b[0;34m\u001b[0m\u001b[0;34m\u001b[0m\u001b[0m\n\u001b[1;32m    651\u001b[0m \u001b[0;34m\u001b[0m\u001b[0m\n",
            "\u001b[0;32m/usr/lib/python3.10/concurrent/futures/thread.py\u001b[0m in \u001b[0;36mshutdown\u001b[0;34m(self, wait, cancel_futures)\u001b[0m\n\u001b[1;32m    233\u001b[0m         \u001b[0;32mif\u001b[0m \u001b[0mwait\u001b[0m\u001b[0;34m:\u001b[0m\u001b[0;34m\u001b[0m\u001b[0;34m\u001b[0m\u001b[0m\n\u001b[1;32m    234\u001b[0m             \u001b[0;32mfor\u001b[0m \u001b[0mt\u001b[0m \u001b[0;32min\u001b[0m \u001b[0mself\u001b[0m\u001b[0;34m.\u001b[0m\u001b[0m_threads\u001b[0m\u001b[0;34m:\u001b[0m\u001b[0;34m\u001b[0m\u001b[0;34m\u001b[0m\u001b[0m\n\u001b[0;32m--> 235\u001b[0;31m                 \u001b[0mt\u001b[0m\u001b[0;34m.\u001b[0m\u001b[0mjoin\u001b[0m\u001b[0;34m(\u001b[0m\u001b[0;34m)\u001b[0m\u001b[0;34m\u001b[0m\u001b[0;34m\u001b[0m\u001b[0m\n\u001b[0m\u001b[1;32m    236\u001b[0m     \u001b[0mshutdown\u001b[0m\u001b[0;34m.\u001b[0m\u001b[0m__doc__\u001b[0m \u001b[0;34m=\u001b[0m \u001b[0m_base\u001b[0m\u001b[0;34m.\u001b[0m\u001b[0mExecutor\u001b[0m\u001b[0;34m.\u001b[0m\u001b[0mshutdown\u001b[0m\u001b[0;34m.\u001b[0m\u001b[0m__doc__\u001b[0m\u001b[0;34m\u001b[0m\u001b[0;34m\u001b[0m\u001b[0m\n",
            "\u001b[0;32m/usr/lib/python3.10/threading.py\u001b[0m in \u001b[0;36mjoin\u001b[0;34m(self, timeout)\u001b[0m\n\u001b[1;32m   1094\u001b[0m \u001b[0;34m\u001b[0m\u001b[0m\n\u001b[1;32m   1095\u001b[0m         \u001b[0;32mif\u001b[0m \u001b[0mtimeout\u001b[0m \u001b[0;32mis\u001b[0m \u001b[0;32mNone\u001b[0m\u001b[0;34m:\u001b[0m\u001b[0;34m\u001b[0m\u001b[0;34m\u001b[0m\u001b[0m\n\u001b[0;32m-> 1096\u001b[0;31m             \u001b[0mself\u001b[0m\u001b[0;34m.\u001b[0m\u001b[0m_wait_for_tstate_lock\u001b[0m\u001b[0;34m(\u001b[0m\u001b[0;34m)\u001b[0m\u001b[0;34m\u001b[0m\u001b[0;34m\u001b[0m\u001b[0m\n\u001b[0m\u001b[1;32m   1097\u001b[0m         \u001b[0;32melse\u001b[0m\u001b[0;34m:\u001b[0m\u001b[0;34m\u001b[0m\u001b[0;34m\u001b[0m\u001b[0m\n\u001b[1;32m   1098\u001b[0m             \u001b[0;31m# the behavior of a negative timeout isn't documented, but\u001b[0m\u001b[0;34m\u001b[0m\u001b[0;34m\u001b[0m\u001b[0m\n",
            "\u001b[0;32m/usr/lib/python3.10/threading.py\u001b[0m in \u001b[0;36m_wait_for_tstate_lock\u001b[0;34m(self, block, timeout)\u001b[0m\n\u001b[1;32m   1114\u001b[0m \u001b[0;34m\u001b[0m\u001b[0m\n\u001b[1;32m   1115\u001b[0m         \u001b[0;32mtry\u001b[0m\u001b[0;34m:\u001b[0m\u001b[0;34m\u001b[0m\u001b[0;34m\u001b[0m\u001b[0m\n\u001b[0;32m-> 1116\u001b[0;31m             \u001b[0;32mif\u001b[0m \u001b[0mlock\u001b[0m\u001b[0;34m.\u001b[0m\u001b[0macquire\u001b[0m\u001b[0;34m(\u001b[0m\u001b[0mblock\u001b[0m\u001b[0;34m,\u001b[0m \u001b[0mtimeout\u001b[0m\u001b[0;34m)\u001b[0m\u001b[0;34m:\u001b[0m\u001b[0;34m\u001b[0m\u001b[0;34m\u001b[0m\u001b[0m\n\u001b[0m\u001b[1;32m   1117\u001b[0m                 \u001b[0mlock\u001b[0m\u001b[0;34m.\u001b[0m\u001b[0mrelease\u001b[0m\u001b[0;34m(\u001b[0m\u001b[0;34m)\u001b[0m\u001b[0;34m\u001b[0m\u001b[0;34m\u001b[0m\u001b[0m\n\u001b[1;32m   1118\u001b[0m                 \u001b[0mself\u001b[0m\u001b[0;34m.\u001b[0m\u001b[0m_stop\u001b[0m\u001b[0;34m(\u001b[0m\u001b[0;34m)\u001b[0m\u001b[0;34m\u001b[0m\u001b[0;34m\u001b[0m\u001b[0m\n",
            "\u001b[0;31mKeyboardInterrupt\u001b[0m: "
          ]
        }
      ],
      "source": [
        "# Går gjennom andeler av satt treningssett\n",
        "for trenings_andel in treningsandeler:\n",
        "\n",
        "  if trenings_andel < 1.0:\n",
        "\n",
        "      # Utelukker resterende andel fra trening av modell\n",
        "      ubenyttet_andel = (1.0-trenings_andel)\n",
        "\n",
        "      treningssett_markert, enzymtyper_treningssett_markert, _, _,\\\n",
        "      _, _, _\\\n",
        "      = trening_testsett_oppdeling_enzym(rå_data,\n",
        "                                         trening,\n",
        "                                         test_andel=ubenyttet_andel,\n",
        "                                         random_seed=random_seed)\n",
        "\n",
        "  else:\n",
        "    treningssett_markert = trening_markert\n",
        "    enzymtyper_treningssett_markert = enzymtyper_markert\n",
        "\n",
        "  # Går igjennom andeler av satt markerte andeler\n",
        "  for andel in andel_av_markert:\n",
        "\n",
        "    # Finner tilsvarende umarkerte andel\n",
        "    umarkert_andel = andel_umarkert(andel, treningssett_markert, trening_umarkert)\n",
        "\n",
        "    # Filtrer umarkert sett\n",
        "    ubenyttet_andel = (1.0 - umarkert_andel)\n",
        "    treningssett_umarkert, _, enzymtyper_treningssett_umarkert, _\\\n",
        "    = train_test_split(trening_umarkert,\n",
        "                       enzymtyper_umarkert,\n",
        "                       test_size=ubenyttet_andel,\n",
        "                       stratify=enzymtyper_umarkert,\n",
        "                       random_state=random_seed)\n",
        "\n",
        "    # Treningssett\n",
        "    treningssett = pd.concat([treningssett_markert, treningssett_umarkert],\n",
        "                            axis=0)\n",
        "    treningssett = treningssett.sort_index(ascending=True)\n",
        "\n",
        "\n",
        "    # Antall splitt etter minste enxymtype\n",
        "    n_splitt = n_splitt_enzym(rå_data, treningssett_markert)\n",
        "\n",
        "    # Modelloptimalisering, trening og evaulering av Coreg, Selv-RFR og BHD\n",
        "    semi_modell_evaluering_1(dict_res_opt=res_semi.dict_res_1_hel_opt,\n",
        "                             dict_res=res_semi.dict_res_1_hel,\n",
        "                             rå_data=rå_data,\n",
        "                             treningssett_markert=treningssett_markert,\n",
        "                             enzymtyper_treningssett_markert=enzymtyper_treningssett_markert,\n",
        "                             treningssett_umarkert=treningssett_umarkert,\n",
        "                             enzymtyper_treningssett_umarkert=enzymtyper_treningssett_umarkert,\n",
        "                             treningssett=treningssett,\n",
        "                             testsett=testsett,\n",
        "                             n_splitt=n_splitt,\n",
        "                             n_gjentagelser=n_gjentagelser,\n",
        "                             n_runder=n_runder_andel,\n",
        "                             test_andel=test_andel,\n",
        "                             trenings_andel=trenings_andel,\n",
        "                             random_seed=random_seed)\n",
        "\n",
        "    # Lagring av resulatater\n",
        "    res_1_hel_semi = pd.DataFrame(res_semi.dict_res_1_hel)\n",
        "    res_1_hel_opt_semi = pd.DataFrame(res_semi.dict_res_1_hel_opt)\n",
        "\n",
        "    res_1_hel_semi.to_csv('/content/drive/MyDrive/MasterV24/Bioco_data/Resultater/mw/mw_res_1_hel_semi.csv')\n",
        "    res_1_hel_opt_semi.to_csv('/content/drive/MyDrive/MasterV24/Bioco_data/Resultater/mw/mw_res_1_hel_opt_semi.csv')"
      ]
    },
    {
      "cell_type": "markdown",
      "metadata": {
        "id": "IwENe1s1rmwy"
      },
      "source": [
        "## Alternativ 2: Et testsett fordelt på dag og kontinuitet"
      ]
    },
    {
      "cell_type": "code",
      "execution_count": null,
      "metadata": {
        "id": "JLlqSB4BQKYU"
      },
      "outputs": [],
      "source": [
        "# Definerer trening og testandel\n",
        "trenings_andel = 1.0\n",
        "\n",
        "# Deler datasettet i trening og testsett\n",
        "trening_markert, testsett, trening_umarkert, trening\\\n",
        "= trening_testsett_oppdeling_dag(rå_data,\n",
        "                                 data,\n",
        "                                 test_andel=test_andel,\n",
        "                                 test_ekskluder_kalkun_kylling=True)\n",
        "\n",
        "#Oversikt over fordelingen av enzymtyper i trening og testsett\n",
        "print(\"Enzymtyper Fordeling: Trening markert\")\n",
        "print(enzymfordeling(rå_data, trening_markert))\n",
        "print(\"Enzymtyper Fordeling: Test\")\n",
        "print(enzymfordeling(rå_data, testsett))\n",
        "print(\"Enzymtyper Fordeling: Trening umarkert\")\n",
        "print(enzymfordeling(rå_data, trening_umarkert))"
      ]
    },
    {
      "cell_type": "code",
      "execution_count": null,
      "metadata": {
        "id": "8Viu-m-nk262"
      },
      "outputs": [],
      "source": [
        "# Antall splitt etter minste enxymtype\n",
        "n_splitt = n_splitt_enzym(rå_data, trening_markert)\n",
        "\n",
        "# Modelloptimalisering, trening og evaulering av Coreg, Selv-RFR og BHD\n",
        "semi_modell_evaluering_2(dict_res_opt=res_semi.dict_res_2_hel_opt,\n",
        "                         dict_res=res_semi.dict_res_2_hel,\n",
        "                         rå_data=rå_data,\n",
        "                         treningssett_markert=trening_markert,\n",
        "                         treningssett_umarkert=trening_umarkert,\n",
        "                         treningssett=trening,\n",
        "                         testsett=testsett,\n",
        "                         n_splitt=n_splitt,\n",
        "                         n_runder=n_runder_hel,\n",
        "                         test_andel=test_andel,\n",
        "                         trenings_andel=trenings_andel,\n",
        "                         random_seed=random_seed)\n",
        "\n",
        "# Lagring av resultater\n",
        "res_2_hel_semi = pd.DataFrame(res_semi.dict_res_2_hel)\n",
        "res_2_hel_opt_semi = pd.DataFrame(res_semi.dict_res_2_hel_opt)\n",
        "\n",
        "res_2_hel_semi.to_csv('/content/drive/MyDrive/MasterV24/Bioco_data/Resultater/mw/mw_res_2_hel_semi.csv')\n",
        "res_2_hel_opt_semi.to_csv('/content/drive/MyDrive/MasterV24/Bioco_data/Resultater/mw/mw_res_2_hel_opt_semi.csv')"
      ]
    },
    {
      "cell_type": "markdown",
      "metadata": {
        "id": "8IO2r9GrkH4N"
      },
      "source": [
        "## Alternativ 2: Forskjellige markerte treningssandeler og umarkerte andeler"
      ]
    },
    {
      "cell_type": "code",
      "execution_count": null,
      "metadata": {
        "id": "jV49bC6qkH4N"
      },
      "outputs": [],
      "source": [
        "# Går gjennom andeler av satt treningssett\n",
        "for trenings_andel in treningsandeler:\n",
        "\n",
        "  if trenings_andel < 1.0:\n",
        "\n",
        "      # Utelukker resterende andel fra trening av modell\n",
        "      ubenyttet_andel = (1.0-trenings_andel)\n",
        "\n",
        "      treningssett_markert, _, _, _\\\n",
        "      = trening_testsett_oppdeling_dag(rå_data,\n",
        "                                       trening,\n",
        "                                       test_andel=ubenyttet_andel,\n",
        "                                       test_ekskluder_kalkun_kylling=True)\n",
        "\n",
        "  else:\n",
        "    treningssett_markert = trening_markert\n",
        "\n",
        "  # Går igjennom andeler av markerte andeler\n",
        "  for andel in andel_av_markert:\n",
        "\n",
        "    # Finner tilsvarende umarkerte andeler\n",
        "    umarkert_andel = andel_umarkert(andel, treningssett_markert, trening_umarkert)\n",
        "\n",
        "    # Filtrer umarkert sett\n",
        "    treningssett_umarkert, _ = umarkert_andel_dag(trening_umarkert,\n",
        "                                                  umarkert_andel)\n",
        "\n",
        "    # Treningssett\n",
        "    treningssett = pd.concat([treningssett_markert, treningssett_umarkert],\n",
        "                            axis=0)\n",
        "    treningssett = treningssett.sort_index(ascending=True)\n",
        "\n",
        "\n",
        "    # Antall splitt etter minste enxymtype\n",
        "    n_splitt = n_splitt_enzym(rå_data, treningssett_markert)\n",
        "\n",
        "    # Modelloptimalisering\n",
        "    semi_modell_evaluering_2(dict_res_opt=res_semi.dict_res_2_hel_opt,\n",
        "                             dict_res=res_semi.dict_res_2_hel,\n",
        "                             rå_data=rå_data,\n",
        "                             treningssett_markert=treningssett_markert,\n",
        "                             treningssett_umarkert=treningssett_umarkert,\n",
        "                             treningssett=treningssett,\n",
        "                             testsett=testsett,\n",
        "                             n_splitt=n_splitt,\n",
        "                             n_runder=n_runder_andel,\n",
        "                             test_andel=test_andel,\n",
        "                             trenings_andel=trenings_andel,\n",
        "                             random_seed=random_seed)\n",
        "\n",
        "    # Lagring av resultater\n",
        "    res_2_hel_semi = pd.DataFrame(res_semi.dict_res_2_hel)\n",
        "    res_2_hel_opt_semi = pd.DataFrame(res_semi.dict_res_2_hel_opt)\n",
        "\n",
        "    res_2_hel_semi.to_csv('/content/drive/MyDrive/MasterV24/Bioco_data/Resultater/mw/mw_res_2_hel_semi.csv')\n",
        "    res_2_hel_opt_semi.to_csv('/content/drive/MyDrive/MasterV24/Bioco_data/Resultater/mw/mw_res_2_hel_opt_semi.csv')"
      ]
    },
    {
      "cell_type": "markdown",
      "metadata": {
        "id": "ruDkbfs6l_o7"
      },
      "source": [
        "Beste modell"
      ]
    },
    {
      "cell_type": "code",
      "execution_count": null,
      "metadata": {
        "id": "9LBusEDol_o8"
      },
      "outputs": [],
      "source": []
    },
    {
      "cell_type": "markdown",
      "metadata": {
        "id": "un6mDEGPFIHt"
      },
      "source": [
        "## Designproduksjon"
      ]
    },
    {
      "cell_type": "markdown",
      "metadata": {
        "id": "Z0yAUFfySrzl"
      },
      "source": [
        "## Alternativ 1: Et testsett. Fordelt på enzymtype (ikke tatt hensyn til kontinuitet)"
      ]
    },
    {
      "cell_type": "code",
      "execution_count": null,
      "metadata": {
        "id": "ysMLWgXgSrzl"
      },
      "outputs": [],
      "source": [
        "# Setter treningsandel\n",
        "trenings_andel = 1.0\n",
        "\n",
        "# Deler datasettet i trening og testsett\n",
        "trening_markert, enzymtyper_markert, testsett, _,\\\n",
        "trening_umarkert, enzymtyper_umarkert, trening\\\n",
        "= trening_testsett_oppdeling_enzym(rå_data,\n",
        "                                   data_design,\n",
        "                                   test_andel=test_andel)"
      ]
    },
    {
      "cell_type": "code",
      "execution_count": null,
      "metadata": {
        "colab": {
          "background_save": true,
          "base_uri": "https://localhost:8080/"
        },
        "id": "StmGxWdLSrzm",
        "outputId": "d923cd55-a579-4739-c02a-ad51731a9a53"
      },
      "outputs": [
        {
          "name": "stderr",
          "output_type": "stream",
          "text": [
            "[I 2024-04-22 20:26:46,972] A new study created in memory with name: no-name-d4765988-5d3a-480e-bcdc-0d26f5cf70fa\n",
            "[I 2024-04-22 20:39:08,606] Trial 0 finished with value: 773.5818846632824 and parameters: {'k1': 18, 'k2': 14, 'p1': 7, 'p2': 7, 'max_iters': 84, 'pool_size': 123}. Best is trial 0 with value: 773.5818846632824.\n",
            "[I 2024-04-22 20:45:44,168] A new study created in memory with name: no-name-7789f484-46ad-434a-91d5-43b0ddf9a098\n",
            "[I 2024-04-22 20:46:29,680] Trial 0 finished with value: 744.7789457467345 and parameters: {'n_estimators': 665, 'criterion': 'friedman_mse', 'max_depth': 28, 'min_samples_leaf': 2, 'max_features': 0.6373427447180475, 'maks_iterasjoner': 10, 'std_terskel': 0.029886293317025428}. Best is trial 0 with value: 744.7789457467345.\n",
            "[I 2024-04-22 20:47:44,856] A new study created in memory with name: no-name-4b2e5912-0342-41d8-8d42-379377e7806c\n",
            "[I 2024-04-22 20:48:16,205] Trial 0 finished with value: 1627.7980521794639 and parameters: {'k': 1069, 'graf_vektet_harmonic': 'False', 'initiell_respons': 'domain_median', 'alpha': 0.4445849630001404, 'maks_iterasjoner_harmonic': 46, 'maks_iterasjoner_heat': 61}. Best is trial 0 with value: 1627.7980521794639.\n"
          ]
        }
      ],
      "source": [
        "# Antall splitt etter minste enxymtype\n",
        "n_splitt = n_splitt_enzym(rå_data, trening_markert)\n",
        "\n",
        "# Modelloptimalisering, trening og evaulering av Coreg, Selv-RFR og BHD\n",
        "semi_modell_evaluering_1(dict_res_opt=res_semi.dict_res_1_design_opt,\n",
        "                         dict_res=res_semi.dict_res_1_design,\n",
        "                         rå_data=rå_data,\n",
        "                         treningssett_markert=trening_markert,\n",
        "                         enzymtyper_treningssett_markert=enzymtyper_markert,\n",
        "                         treningssett_umarkert=trening_umarkert,\n",
        "                         enzymtyper_treningssett_umarkert=enzymtyper_umarkert,\n",
        "                         treningssett=trening,\n",
        "                         testsett=testsett,\n",
        "                         n_splitt=n_splitt,\n",
        "                         n_gjentagelser=n_gjentagelser,\n",
        "                         n_runder=n_runder_hel,\n",
        "                         test_andel=test_andel,\n",
        "                         trenings_andel=trenings_andel,\n",
        "                         random_seed=random_seed)\n",
        "\n",
        "# Lagring av resultater\n",
        "res_1_design_semi = pd.DataFrame(res_semi.dict_res_1_design)\n",
        "res_1_design_opt_semi = pd.DataFrame(res_semi.dict_res_1_design_opt)\n",
        "\n",
        "res_1_design_semi.to_csv('/content/drive/MyDrive/MasterV24/Bioco_data/Resultater/mw/mw_res_1_design_semi.csv')\n",
        "res_1_design_opt_semi.to_csv('/content/drive/MyDrive/MasterV24/Bioco_data/Resultater/mw/mw_res_1_design_opt_semi.csv')"
      ]
    },
    {
      "cell_type": "markdown",
      "metadata": {
        "id": "NlToFxjlSrzm"
      },
      "source": [
        "Beste modell"
      ]
    },
    {
      "cell_type": "code",
      "execution_count": null,
      "metadata": {
        "id": "zBrQPgMbSrzm"
      },
      "outputs": [],
      "source": []
    },
    {
      "cell_type": "markdown",
      "metadata": {
        "id": "oE7-3JWySrzm"
      },
      "source": [
        "## Alternativ 1: Forskjellige markerte og umarkerte treningsandeler"
      ]
    },
    {
      "cell_type": "code",
      "execution_count": null,
      "metadata": {
        "colab": {
          "base_uri": "https://localhost:8080/"
        },
        "id": "Uc9BjpteSrzm",
        "outputId": "36dd629c-4d78-4425-cfad-d0657a458840"
      },
      "outputs": [
        {
          "output_type": "stream",
          "name": "stderr",
          "text": [
            "[I 2024-04-29 21:46:37,570] A new study created in memory with name: no-name-cb8ee96b-7bcd-465a-8650-b59cad48f96d\n",
            "[I 2024-04-29 21:47:12,202] Trial 15 finished with value: 833.288358056867 and parameters: {'k1': 4, 'k2': 4, 'p1': 3, 'p2': 6, 'max_iters': 37, 'pool_size': 61}. Best is trial 8 with value: 752.7301227097283.\n",
            "[I 2024-04-29 21:47:16,534] Trial 1 finished with value: 1263.2109948774064 and parameters: {'k1': 10, 'k2': 8, 'p1': 10, 'p2': 10, 'max_iters': 3, 'pool_size': 38}. Best is trial 1 with value: 1263.2109948774064.\n",
            "[I 2024-04-29 21:47:36,890] Trial 0 finished with value: 764.2287255057835 and parameters: {'k1': 7, 'k2': 2, 'p1': 9, 'p2': 8, 'max_iters': 34, 'pool_size': 59}. Best is trial 0 with value: 764.2287255057835.\n",
            "[I 2024-04-29 21:48:18,855] Trial 2 finished with value: 844.0651021437834 and parameters: {'k1': 3, 'k2': 9, 'p1': 9, 'p2': 10, 'max_iters': 30, 'pool_size': 93}. Best is trial 0 with value: 764.2287255057835.\n",
            "[I 2024-04-29 21:48:24,206] Trial 3 finished with value: 924.3263722678596 and parameters: {'k1': 4, 'k2': 10, 'p1': 7, 'p2': 5, 'max_iters': 7, 'pool_size': 46}. Best is trial 0 with value: 764.2287255057835.\n",
            "[I 2024-04-29 21:48:46,475] Trial 5 finished with value: 809.4381178822324 and parameters: {'k1': 3, 'k2': 7, 'p1': 6, 'p2': 7, 'max_iters': 44, 'pool_size': 8}. Best is trial 0 with value: 764.2287255057835.\n",
            "[I 2024-04-29 21:48:58,477] Trial 4 finished with value: 694.9620199623283 and parameters: {'k1': 2, 'k2': 5, 'p1': 9, 'p2': 6, 'max_iters': 20, 'pool_size': 58}. Best is trial 4 with value: 694.9620199623283.\n",
            "[I 2024-04-29 21:49:19,669] Trial 6 finished with value: 622.0364451653068 and parameters: {'k1': 3, 'k2': 2, 'p1': 4, 'p2': 8, 'max_iters': 30, 'pool_size': 37}. Best is trial 6 with value: 622.0364451653068.\n",
            "[I 2024-04-29 21:49:30,315] Trial 7 finished with value: 1140.382004752065 and parameters: {'k1': 7, 'k2': 9, 'p1': 2, 'p2': 7, 'max_iters': 5, 'pool_size': 28}. Best is trial 6 with value: 622.0364451653068.\n",
            "[I 2024-04-29 21:50:08,917] Trial 9 finished with value: 771.1117193751262 and parameters: {'k1': 6, 'k2': 3, 'p1': 7, 'p2': 5, 'max_iters': 48, 'pool_size': 16}. Best is trial 6 with value: 622.0364451653068.\n",
            "[I 2024-04-29 21:50:28,667] Trial 8 finished with value: 943.7693984111739 and parameters: {'k1': 10, 'k2': 4, 'p1': 9, 'p2': 4, 'max_iters': 46, 'pool_size': 69}. Best is trial 6 with value: 622.0364451653068.\n",
            "[I 2024-04-29 21:50:30,871] Trial 11 finished with value: 657.8512309165213 and parameters: {'k1': 1, 'k2': 1, 'p1': 3, 'p2': 1, 'max_iters': 18, 'pool_size': 90}. Best is trial 6 with value: 622.0364451653068.\n",
            "[I 2024-04-29 21:50:33,451] Trial 12 finished with value: 657.8512309165213 and parameters: {'k1': 1, 'k2': 1, 'p1': 3, 'p2': 1, 'max_iters': 18, 'pool_size': 97}. Best is trial 6 with value: 622.0364451653068.\n",
            "[I 2024-04-29 21:50:35,207] Trial 13 finished with value: 652.9559278599177 and parameters: {'k1': 1, 'k2': 1, 'p1': 4, 'p2': 2, 'max_iters': 15, 'pool_size': 74}. Best is trial 6 with value: 622.0364451653068.\n",
            "[I 2024-04-29 21:51:12,061] Trial 14 finished with value: 712.4478585074864 and parameters: {'k1': 4, 'k2': 3, 'p1': 4, 'p2': 3, 'max_iters': 35, 'pool_size': 74}. Best is trial 6 with value: 622.0364451653068.\n",
            "[I 2024-04-29 21:51:14,700] Trial 15 finished with value: 654.0691554051155 and parameters: {'k1': 1, 'k2': 1, 'p1': 1, 'p2': 8, 'max_iters': 12, 'pool_size': 76}. Best is trial 6 with value: 622.0364451653068.\n",
            "[I 2024-04-29 21:51:48,044] Trial 16 finished with value: 751.260004752251 and parameters: {'k1': 3, 'k2': 6, 'p1': 5, 'p2': 2, 'max_iters': 26, 'pool_size': 38}. Best is trial 6 with value: 622.0364451653068.\n",
            "[I 2024-04-29 21:51:51,477] Trial 10 finished with value: 799.1465491979351 and parameters: {'k1': 1, 'k2': 10, 'p1': 5, 'p2': 10, 'max_iters': 30, 'pool_size': 79}. Best is trial 6 with value: 622.0364451653068.\n",
            "[I 2024-04-29 21:52:29,389] Trial 17 finished with value: 733.8985812005553 and parameters: {'k1': 5, 'k2': 3, 'p1': 5, 'p2': 3, 'max_iters': 39, 'pool_size': 29}. Best is trial 6 with value: 622.0364451653068.\n",
            "[I 2024-04-29 21:52:32,017] Trial 18 finished with value: 739.1198504558636 and parameters: {'k1': 5, 'k2': 3, 'p1': 4, 'p2': 3, 'max_iters': 38, 'pool_size': 24}. Best is trial 6 with value: 622.0364451653068.\n",
            "[I 2024-04-29 21:53:04,652] Trial 20 finished with value: 711.3573616977213 and parameters: {'k1': 2, 'k2': 5, 'p1': 1, 'p2': 8, 'max_iters': 12, 'pool_size': 50}. Best is trial 6 with value: 622.0364451653068.\n",
            "[I 2024-04-29 21:53:10,292] Trial 19 finished with value: 716.6763697419077 and parameters: {'k1': 2, 'k2': 5, 'p1': 3, 'p2': 9, 'max_iters': 12, 'pool_size': 58}. Best is trial 6 with value: 622.0364451653068.\n",
            "[I 2024-04-29 21:53:12,084] Trial 22 finished with value: 654.0691554051155 and parameters: {'k1': 1, 'k2': 1, 'p1': 1, 'p2': 8, 'max_iters': 12, 'pool_size': 82}. Best is trial 6 with value: 622.0364451653068.\n",
            "[I 2024-04-29 21:53:31,292] Trial 23 finished with value: 599.2970981328937 and parameters: {'k1': 2, 'k2': 2, 'p1': 2, 'p2': 6, 'max_iters': 22, 'pool_size': 66}. Best is trial 23 with value: 599.2970981328937.\n",
            "[I 2024-04-29 21:53:32,685] Trial 21 finished with value: 600.1574736407945 and parameters: {'k1': 2, 'k2': 2, 'p1': 3, 'p2': 9, 'max_iters': 23, 'pool_size': 65}. Best is trial 23 with value: 599.2970981328937.\n",
            "[I 2024-04-29 21:54:04,607] Trial 24 finished with value: 637.8449261966065 and parameters: {'k1': 4, 'k2': 2, 'p1': 2, 'p2': 6, 'max_iters': 24, 'pool_size': 65}. Best is trial 23 with value: 599.2970981328937.\n",
            "[I 2024-04-29 21:54:05,609] Trial 25 finished with value: 635.7166926606511 and parameters: {'k1': 4, 'k2': 2, 'p1': 2, 'p2': 6, 'max_iters': 23, 'pool_size': 65}. Best is trial 23 with value: 599.2970981328937.\n",
            "[I 2024-04-29 21:54:29,468] Trial 26 finished with value: 608.1282045037299 and parameters: {'k1': 3, 'k2': 2, 'p1': 2, 'p2': 9, 'max_iters': 24, 'pool_size': 42}. Best is trial 23 with value: 599.2970981328937.\n",
            "[I 2024-04-29 21:54:50,107] Trial 27 finished with value: 709.2619426804976 and parameters: {'k1': 3, 'k2': 4, 'p1': 3, 'p2': 9, 'max_iters': 28, 'pool_size': 42}. Best is trial 23 with value: 599.2970981328937.\n",
            "[I 2024-04-29 21:54:58,752] Trial 28 finished with value: 656.5789009306474 and parameters: {'k1': 2, 'k2': 4, 'p1': 2, 'p2': 9, 'max_iters': 27, 'pool_size': 46}. Best is trial 23 with value: 599.2970981328937.\n",
            "[I 2024-04-29 21:55:31,752] Trial 29 finished with value: 656.6663562250036 and parameters: {'k1': 2, 'k2': 4, 'p1': 2, 'p2': 9, 'max_iters': 21, 'pool_size': 53}. Best is trial 23 with value: 599.2970981328937.\n",
            "[I 2024-04-29 21:55:39,019] Trial 30 finished with value: 788.3075197070361 and parameters: {'k1': 8, 'k2': 2, 'p1': 1, 'p2': 7, 'max_iters': 21, 'pool_size': 56}. Best is trial 23 with value: 599.2970981328937.\n",
            "[I 2024-04-29 21:56:08,130] Trial 32 finished with value: 623.7404430039876 and parameters: {'k1': 3, 'k2': 2, 'p1': 4, 'p2': 7, 'max_iters': 32, 'pool_size': 34}. Best is trial 23 with value: 599.2970981328937.\n",
            "[I 2024-04-29 21:56:20,133] Trial 31 finished with value: 702.8282635534341 and parameters: {'k1': 6, 'k2': 2, 'p1': 3, 'p2': 7, 'max_iters': 36, 'pool_size': 84}. Best is trial 23 with value: 599.2970981328937.\n",
            "[I 2024-04-29 21:56:36,712] Trial 33 finished with value: 635.7616302641675 and parameters: {'k1': 2, 'k2': 3, 'p1': 3, 'p2': 8, 'max_iters': 36, 'pool_size': 63}. Best is trial 23 with value: 599.2970981328937.\n",
            "[I 2024-04-29 21:56:53,991] Trial 34 finished with value: 679.9236694577908 and parameters: {'k1': 3, 'k2': 3, 'p1': 4, 'p2': 10, 'max_iters': 32, 'pool_size': 67}. Best is trial 23 with value: 599.2970981328937.\n",
            "[I 2024-04-29 21:57:06,827] Trial 35 finished with value: 621.4971625613326 and parameters: {'k1': 3, 'k2': 2, 'p1': 4, 'p2': 10, 'max_iters': 31, 'pool_size': 49}. Best is trial 23 with value: 599.2970981328937.\n",
            "[I 2024-04-29 21:57:31,854] Trial 36 finished with value: 636.8472299193611 and parameters: {'k1': 4, 'k2': 2, 'p1': 6, 'p2': 10, 'max_iters': 17, 'pool_size': 44}. Best is trial 23 with value: 599.2970981328937.\n",
            "[I 2024-04-29 21:57:59,639] Trial 37 finished with value: 879.1676030496 and parameters: {'k1': 4, 'k2': 7, 'p1': 2, 'p2': 10, 'max_iters': 25, 'pool_size': 48}. Best is trial 23 with value: 599.2970981328937.\n",
            "[I 2024-04-29 21:58:23,381] Trial 38 finished with value: 960.0370463998868 and parameters: {'k1': 5, 'k2': 7, 'p1': 2, 'p2': 9, 'max_iters': 23, 'pool_size': 50}. Best is trial 23 with value: 599.2970981328937.\n",
            "[I 2024-04-29 21:58:53,266] Trial 40 finished with value: 609.3831545942817 and parameters: {'k1': 2, 'k2': 1, 'p1': 7, 'p2': 9, 'max_iters': 28, 'pool_size': 61}. Best is trial 23 with value: 599.2970981328937.\n",
            "[I 2024-04-29 21:59:01,550] Trial 39 finished with value: 675.7366744586909 and parameters: {'k1': 5, 'k2': 1, 'p1': 10, 'p2': 9, 'max_iters': 23, 'pool_size': 52}. Best is trial 23 with value: 599.2970981328937.\n",
            "[I 2024-04-29 21:59:24,080] Trial 41 finished with value: 607.0203220847683 and parameters: {'k1': 2, 'k2': 1, 'p1': 8, 'p2': 5, 'max_iters': 28, 'pool_size': 61}. Best is trial 23 with value: 599.2970981328937.\n",
            "[I 2024-04-29 21:59:32,791] Trial 42 finished with value: 609.6682152749244 and parameters: {'k1': 2, 'k2': 1, 'p1': 8, 'p2': 10, 'max_iters': 29, 'pool_size': 61}. Best is trial 23 with value: 599.2970981328937.\n",
            "[I 2024-04-29 21:59:53,852] Trial 43 finished with value: 607.0203220847683 and parameters: {'k1': 2, 'k2': 1, 'p1': 8, 'p2': 5, 'max_iters': 28, 'pool_size': 62}. Best is trial 23 with value: 599.2970981328937.\n",
            "[I 2024-04-29 22:00:03,152] Trial 44 finished with value: 606.7093791058456 and parameters: {'k1': 2, 'k2': 1, 'p1': 8, 'p2': 5, 'max_iters': 27, 'pool_size': 69}. Best is trial 23 with value: 599.2970981328937.\n",
            "[I 2024-04-29 22:00:05,526] Trial 46 finished with value: 659.1002576501875 and parameters: {'k1': 1, 'k2': 1, 'p1': 8, 'p2': 5, 'max_iters': 33, 'pool_size': 68}. Best is trial 23 with value: 599.2970981328937.\n",
            "[I 2024-04-29 22:00:21,948] Trial 45 finished with value: 628.1563108276836 and parameters: {'k1': 3, 'k2': 2, 'p1': 8, 'p2': 5, 'max_iters': 20, 'pool_size': 70}. Best is trial 23 with value: 599.2970981328937.\n",
            "[I 2024-04-29 22:01:30,177] Trial 47 finished with value: 756.6313492718928 and parameters: {'k1': 9, 'k2': 1, 'p1': 8, 'p2': 4, 'max_iters': 20, 'pool_size': 72}. Best is trial 23 with value: 599.2970981328937.\n",
            "[I 2024-04-29 22:01:36,306] Trial 48 finished with value: 766.6177731900207 and parameters: {'k1': 9, 'k2': 1, 'p1': 9, 'p2': 4, 'max_iters': 42, 'pool_size': 87}. Best is trial 23 with value: 599.2970981328937.\n",
            "[I 2024-04-29 22:01:44,217] Trial 49 finished with value: 637.4540434648052 and parameters: {'k1': 2, 'k2': 3, 'p1': 9, 'p2': 4, 'max_iters': 41, 'pool_size': 86}. Best is trial 23 with value: 599.2970981328937.\n",
            "[I 2024-04-29 22:01:46,050] A new study created in memory with name: no-name-c4130d07-bc32-433f-ba3f-1e034fb3fafa\n",
            "[I 2024-04-29 22:01:53,159] Trial 1 finished with value: 1577.2816856220238 and parameters: {'n_estimators': 205, 'criterion': 'squared_error', 'max_depth': 28, 'min_samples_leaf': 3, 'max_features': 0.16933224131599206, 'maks_iterasjoner': 18, 'std_terskel': 0.020554833237736096}. Best is trial 1 with value: 1577.2816856220238.\n",
            "[I 2024-04-29 22:01:56,068] Trial 0 finished with value: 1901.9504662460572 and parameters: {'n_estimators': 374, 'criterion': 'squared_error', 'max_depth': 1, 'min_samples_leaf': 3, 'max_features': 0.3980835878683453, 'maks_iterasjoner': 8, 'std_terskel': 0.04097459817374416}. Best is trial 1 with value: 1577.2816856220238.\n",
            "[I 2024-04-29 22:01:57,435] Trial 2 finished with value: 1695.142703022128 and parameters: {'n_estimators': 124, 'criterion': 'poisson', 'max_depth': 10, 'min_samples_leaf': 5, 'max_features': 0.8113386512020371, 'maks_iterasjoner': 1, 'std_terskel': 0.013010510416437962}. Best is trial 1 with value: 1577.2816856220238.\n",
            "[I 2024-04-29 22:02:07,644] Trial 3 finished with value: 1734.31105178006 and parameters: {'n_estimators': 398, 'criterion': 'squared_error', 'max_depth': 22, 'min_samples_leaf': 5, 'max_features': 0.5901723387247305, 'maks_iterasjoner': 16, 'std_terskel': 0.01591397553140997}. Best is trial 1 with value: 1577.2816856220238.\n",
            "[I 2024-04-29 22:02:11,455] Trial 4 finished with value: 1395.901242948301 and parameters: {'n_estimators': 446, 'criterion': 'poisson', 'max_depth': 17, 'min_samples_leaf': 3, 'max_features': 0.5914147520458162, 'maks_iterasjoner': 16, 'std_terskel': 0.03553073831185093}. Best is trial 4 with value: 1395.901242948301.\n",
            "[I 2024-04-29 22:02:16,510] Trial 5 finished with value: 1753.7305441284434 and parameters: {'n_estimators': 312, 'criterion': 'poisson', 'max_depth': 5, 'min_samples_leaf': 5, 'max_features': 0.4972277380221667, 'maks_iterasjoner': 10, 'std_terskel': 0.04699371147555683}. Best is trial 4 with value: 1395.901242948301.\n",
            "[I 2024-04-29 22:02:17,551] Trial 6 finished with value: 1284.1677689912003 and parameters: {'n_estimators': 183, 'criterion': 'squared_error', 'max_depth': 15, 'min_samples_leaf': 2, 'max_features': 0.44199534016557984, 'maks_iterasjoner': 14, 'std_terskel': 0.029743997774297835}. Best is trial 6 with value: 1284.1677689912003.\n",
            "[I 2024-04-29 22:02:24,404] Trial 7 finished with value: 1265.2697393006647 and parameters: {'n_estimators': 254, 'criterion': 'friedman_mse', 'max_depth': 17, 'min_samples_leaf': 2, 'max_features': 0.678031715250252, 'maks_iterasjoner': 7, 'std_terskel': 0.021845506170149805}. Best is trial 7 with value: 1265.2697393006647.\n",
            "[I 2024-04-29 22:02:28,419] Trial 8 finished with value: 1410.779331292309 and parameters: {'n_estimators': 401, 'criterion': 'poisson', 'max_depth': 11, 'min_samples_leaf': 3, 'max_features': 0.5318785792550881, 'maks_iterasjoner': 9, 'std_terskel': 0.04896458318580401}. Best is trial 7 with value: 1265.2697393006647.\n",
            "[I 2024-04-29 22:02:28,815] Trial 9 finished with value: 1133.6413967420333 and parameters: {'n_estimators': 101, 'criterion': 'friedman_mse', 'max_depth': 27, 'min_samples_leaf': 1, 'max_features': 0.46720450581832473, 'maks_iterasjoner': 7, 'std_terskel': 0.04221921790938901}. Best is trial 9 with value: 1133.6413967420333.\n",
            "[I 2024-04-29 22:02:32,415] Trial 11 finished with value: 1098.6719010806016 and parameters: {'n_estimators': 101, 'criterion': 'friedman_mse', 'max_depth': 30, 'min_samples_leaf': 1, 'max_features': 0.994053781763408, 'maks_iterasjoner': 2, 'std_terskel': 0.03067038285260319}. Best is trial 11 with value: 1098.6719010806016.\n",
            "[I 2024-04-29 22:02:33,065] Trial 10 finished with value: 1508.3783402358438 and parameters: {'n_estimators': 138, 'criterion': 'absolute_error', 'max_depth': 23, 'min_samples_leaf': 3, 'max_features': 0.3646347334625598, 'maks_iterasjoner': 2, 'std_terskel': 0.04595124521821638}. Best is trial 11 with value: 1098.6719010806016.\n",
            "[I 2024-04-29 22:02:35,783] Trial 12 finished with value: 1095.2925253786027 and parameters: {'n_estimators': 107, 'criterion': 'friedman_mse', 'max_depth': 30, 'min_samples_leaf': 1, 'max_features': 0.962343126439231, 'maks_iterasjoner': 2, 'std_terskel': 0.03110473618479766}. Best is trial 12 with value: 1095.2925253786027.\n",
            "[I 2024-04-29 22:02:36,528] Trial 13 finished with value: 1095.2925253786027 and parameters: {'n_estimators': 107, 'criterion': 'friedman_mse', 'max_depth': 29, 'min_samples_leaf': 1, 'max_features': 0.9901695976811397, 'maks_iterasjoner': 5, 'std_terskel': 0.03222769381944539}. Best is trial 12 with value: 1095.2925253786027.\n",
            "[I 2024-04-29 22:02:41,919] Trial 14 finished with value: 1109.6854098899564 and parameters: {'n_estimators': 191, 'criterion': 'friedman_mse', 'max_depth': 30, 'min_samples_leaf': 1, 'max_features': 0.9926700749890993, 'maks_iterasjoner': 4, 'std_terskel': 0.029102244433861463}. Best is trial 12 with value: 1095.2925253786027.\n",
            "[I 2024-04-29 22:02:42,502] Trial 15 finished with value: 1111.0899784733797 and parameters: {'n_estimators': 187, 'criterion': 'friedman_mse', 'max_depth': 23, 'min_samples_leaf': 1, 'max_features': 0.9925606499562253, 'maks_iterasjoner': 5, 'std_terskel': 0.028979807946303924}. Best is trial 12 with value: 1095.2925253786027.\n",
            "[I 2024-04-29 22:02:48,759] Trial 16 finished with value: 1236.0514134506461 and parameters: {'n_estimators': 233, 'criterion': 'friedman_mse', 'max_depth': 24, 'min_samples_leaf': 2, 'max_features': 0.8394141636416743, 'maks_iterasjoner': 5, 'std_terskel': 0.035745967368463784}. Best is trial 12 with value: 1095.2925253786027.\n",
            "[I 2024-04-29 22:02:53,299] Trial 17 finished with value: 1224.7105149345336 and parameters: {'n_estimators': 285, 'criterion': 'absolute_error', 'max_depth': 25, 'min_samples_leaf': 2, 'max_features': 0.8441110293837847, 'maks_iterasjoner': 5, 'std_terskel': 0.035889747227713355}. Best is trial 12 with value: 1095.2925253786027.\n",
            "[I 2024-04-29 22:02:57,684] Trial 18 finished with value: 1625.737226800467 and parameters: {'n_estimators': 284, 'criterion': 'absolute_error', 'max_depth': 20, 'min_samples_leaf': 4, 'max_features': 0.8346382840134542, 'maks_iterasjoner': 12, 'std_terskel': 0.02308435708838944}. Best is trial 12 with value: 1095.2925253786027.\n",
            "[I 2024-04-29 22:02:59,302] Trial 19 finished with value: 1104.9826450959272 and parameters: {'n_estimators': 143, 'criterion': 'friedman_mse', 'max_depth': 19, 'min_samples_leaf': 1, 'max_features': 0.7684233157557026, 'maks_iterasjoner': 12, 'std_terskel': 0.022335365766968842}. Best is trial 12 with value: 1095.2925253786027.\n",
            "[I 2024-04-29 22:03:12,986] Trial 21 finished with value: 1556.303946114585 and parameters: {'n_estimators': 485, 'criterion': 'friedman_mse', 'max_depth': 27, 'min_samples_leaf': 4, 'max_features': 0.9086410528942261, 'maks_iterasjoner': 3, 'std_terskel': 0.02564335345954038}. Best is trial 12 with value: 1095.2925253786027.\n",
            "[I 2024-04-29 22:03:14,196] Trial 20 finished with value: 1113.1242044577455 and parameters: {'n_estimators': 498, 'criterion': 'friedman_mse', 'max_depth': 26, 'min_samples_leaf': 1, 'max_features': 0.7693755321381541, 'maks_iterasjoner': 3, 'std_terskel': 0.025511324524217397}. Best is trial 12 with value: 1095.2925253786027.\n",
            "[I 2024-04-29 22:03:16,445] Trial 22 finished with value: 1095.2925253786027 and parameters: {'n_estimators': 107, 'criterion': 'friedman_mse', 'max_depth': 30, 'min_samples_leaf': 1, 'max_features': 0.9380977011947014, 'maks_iterasjoner': 2, 'std_terskel': 0.03337960445977934}. Best is trial 12 with value: 1095.2925253786027.\n",
            "[I 2024-04-29 22:03:18,949] Trial 23 finished with value: 1232.3816488939087 and parameters: {'n_estimators': 154, 'criterion': 'friedman_mse', 'max_depth': 30, 'min_samples_leaf': 2, 'max_features': 0.9192403691490925, 'maks_iterasjoner': 1, 'std_terskel': 0.03263975481553656}. Best is trial 12 with value: 1095.2925253786027.\n",
            "[I 2024-04-29 22:03:21,264] Trial 24 finished with value: 1228.4402257175961 and parameters: {'n_estimators': 164, 'criterion': 'friedman_mse', 'max_depth': 29, 'min_samples_leaf': 2, 'max_features': 0.9157236323015987, 'maks_iterasjoner': 1, 'std_terskel': 0.034173697820344136}. Best is trial 12 with value: 1095.2925253786027.\n",
            "[I 2024-04-29 22:03:24,795] Trial 25 finished with value: 1120.7929112757017 and parameters: {'n_estimators': 156, 'criterion': 'friedman_mse', 'max_depth': 28, 'min_samples_leaf': 1, 'max_features': 0.6691505222701648, 'maks_iterasjoner': 6, 'std_terskel': 0.041265959433489}. Best is trial 12 with value: 1095.2925253786027.\n",
            "[I 2024-04-29 22:03:25,789] Trial 26 finished with value: 1126.9138711069068 and parameters: {'n_estimators': 102, 'criterion': 'friedman_mse', 'max_depth': 26, 'min_samples_leaf': 1, 'max_features': 0.6624384490813126, 'maks_iterasjoner': 6, 'std_terskel': 0.039676286805083984}. Best is trial 12 with value: 1095.2925253786027.\n",
            "[I 2024-04-29 22:03:32,190] Trial 28 finished with value: 1228.04799461015 and parameters: {'n_estimators': 219, 'criterion': 'friedman_mse', 'max_depth': 22, 'min_samples_leaf': 2, 'max_features': 0.9196601375925283, 'maks_iterasjoner': 3, 'std_terskel': 0.026211642040657467}. Best is trial 12 with value: 1095.2925253786027.\n",
            "[I 2024-04-29 22:03:33,693] Trial 27 finished with value: 1118.2162864207373 and parameters: {'n_estimators': 229, 'criterion': 'friedman_mse', 'max_depth': 21, 'min_samples_leaf': 1, 'max_features': 0.697368482146856, 'maks_iterasjoner': 3, 'std_terskel': 0.03883306106428009}. Best is trial 12 with value: 1095.2925253786027.\n",
            "[I 2024-04-29 22:03:42,978] Trial 30 finished with value: 1768.897081917506 and parameters: {'n_estimators': 353, 'criterion': 'absolute_error', 'max_depth': 3, 'min_samples_leaf': 4, 'max_features': 0.30312844700664165, 'maks_iterasjoner': 9, 'std_terskel': 0.03303833997050426}. Best is trial 12 with value: 1095.2925253786027.\n",
            "[I 2024-04-29 22:03:46,336] Trial 29 finished with value: 1069.5667229084086 and parameters: {'n_estimators': 333, 'criterion': 'absolute_error', 'max_depth': 13, 'min_samples_leaf': 1, 'max_features': 0.7356551227551608, 'maks_iterasjoner': 4, 'std_terskel': 0.03846774976603148}. Best is trial 29 with value: 1069.5667229084086.\n",
            "[I 2024-04-29 22:03:46,833] Trial 31 finished with value: 1241.7936657305308 and parameters: {'n_estimators': 125, 'criterion': 'squared_error', 'max_depth': 12, 'min_samples_leaf': 2, 'max_features': 0.7531572128993881, 'maks_iterasjoner': 20, 'std_terskel': 0.0383250090816013}. Best is trial 29 with value: 1069.5667229084086.\n",
            "[I 2024-04-29 22:03:59,872] Trial 33 finished with value: 1058.856873604986 and parameters: {'n_estimators': 325, 'criterion': 'absolute_error', 'max_depth': 9, 'min_samples_leaf': 1, 'max_features': 0.8843671965626672, 'maks_iterasjoner': 4, 'std_terskel': 0.04335788311737365}. Best is trial 33 with value: 1058.856873604986.\n",
            "[I 2024-04-29 22:04:00,824] Trial 32 finished with value: 1049.57808711621 and parameters: {'n_estimators': 350, 'criterion': 'absolute_error', 'max_depth': 12, 'min_samples_leaf': 1, 'max_features': 0.88515696870661, 'maks_iterasjoner': 4, 'std_terskel': 0.038108484498129744}. Best is trial 32 with value: 1049.57808711621.\n",
            "[I 2024-04-29 22:04:10,688] Trial 35 finished with value: 1217.3439728698388 and parameters: {'n_estimators': 339, 'criterion': 'absolute_error', 'max_depth': 8, 'min_samples_leaf': 1, 'max_features': 0.10909688504409149, 'maks_iterasjoner': 7, 'std_terskel': 0.04338431320289126}. Best is trial 32 with value: 1049.57808711621.\n",
            "[I 2024-04-29 22:04:15,339] Trial 34 finished with value: 1060.7735219996534 and parameters: {'n_estimators': 335, 'criterion': 'absolute_error', 'max_depth': 8, 'min_samples_leaf': 1, 'max_features': 0.8595488418975583, 'maks_iterasjoner': 4, 'std_terskel': 0.0434635188650272}. Best is trial 32 with value: 1049.57808711621.\n",
            "[I 2024-04-29 22:04:22,862] Trial 36 finished with value: 1226.6219228582768 and parameters: {'n_estimators': 382, 'criterion': 'absolute_error', 'max_depth': 13, 'min_samples_leaf': 2, 'max_features': 0.8732108868493305, 'maks_iterasjoner': 4, 'std_terskel': 0.044401843410215545}. Best is trial 32 with value: 1049.57808711621.\n",
            "[I 2024-04-29 22:04:28,984] Trial 37 finished with value: 1223.6973336805945 and parameters: {'n_estimators': 390, 'criterion': 'absolute_error', 'max_depth': 8, 'min_samples_leaf': 2, 'max_features': 0.8724891488827541, 'maks_iterasjoner': 8, 'std_terskel': 0.04515409776153025}. Best is trial 32 with value: 1049.57808711621.\n",
            "[I 2024-04-29 22:04:36,365] Trial 38 finished with value: 1081.5169556749026 and parameters: {'n_estimators': 322, 'criterion': 'absolute_error', 'max_depth': 8, 'min_samples_leaf': 1, 'max_features': 0.7271504330994426, 'maks_iterasjoner': 8, 'std_terskel': 0.04831534523501463}. Best is trial 32 with value: 1049.57808711621.\n",
            "[I 2024-04-29 22:04:41,984] Trial 39 finished with value: 1087.1622453367454 and parameters: {'n_estimators': 316, 'criterion': 'absolute_error', 'max_depth': 9, 'min_samples_leaf': 1, 'max_features': 0.7245950143425368, 'maks_iterasjoner': 4, 'std_terskel': 0.04942892831252243}. Best is trial 32 with value: 1049.57808711621.\n",
            "[I 2024-04-29 22:04:52,079] Trial 40 finished with value: 1066.1092855640393 and parameters: {'n_estimators': 426, 'criterion': 'absolute_error', 'max_depth': 14, 'min_samples_leaf': 1, 'max_features': 0.7958817884467131, 'maks_iterasjoner': 4, 'std_terskel': 0.040424644974039727}. Best is trial 32 with value: 1049.57808711621.\n",
            "[I 2024-04-29 22:04:54,953] Trial 41 finished with value: 1256.3860877620884 and parameters: {'n_estimators': 419, 'criterion': 'absolute_error', 'max_depth': 6, 'min_samples_leaf': 2, 'max_features': 0.6311097688576983, 'maks_iterasjoner': 11, 'std_terskel': 0.017333972722710318}. Best is trial 32 with value: 1049.57808711621.\n",
            "[I 2024-04-29 22:05:07,759] Trial 43 finished with value: 1067.338267057581 and parameters: {'n_estimators': 362, 'criterion': 'absolute_error', 'max_depth': 14, 'min_samples_leaf': 1, 'max_features': 0.7973956897556244, 'maks_iterasjoner': 6, 'std_terskel': 0.03733198643512478}. Best is trial 32 with value: 1049.57808711621.\n",
            "[I 2024-04-29 22:05:09,089] Trial 42 finished with value: 1082.2270280553626 and parameters: {'n_estimators': 428, 'criterion': 'absolute_error', 'max_depth': 15, 'min_samples_leaf': 1, 'max_features': 0.616786838209844, 'maks_iterasjoner': 6, 'std_terskel': 0.03700363146244847}. Best is trial 32 with value: 1049.57808711621.\n",
            "[I 2024-04-29 22:05:23,661] Trial 44 finished with value: 1065.2664452440526 and parameters: {'n_estimators': 445, 'criterion': 'absolute_error', 'max_depth': 15, 'min_samples_leaf': 1, 'max_features': 0.8104568672744898, 'maks_iterasjoner': 6, 'std_terskel': 0.042366440726130696}. Best is trial 32 with value: 1049.57808711621.\n",
            "[I 2024-04-29 22:05:23,689] Trial 45 finished with value: 1078.0108495630318 and parameters: {'n_estimators': 360, 'criterion': 'absolute_error', 'max_depth': 11, 'min_samples_leaf': 1, 'max_features': 0.7964634778837869, 'maks_iterasjoner': 6, 'std_terskel': 0.0419512365973966}. Best is trial 32 with value: 1049.57808711621.\n",
            "[I 2024-04-29 22:05:39,766] Trial 46 finished with value: 1363.1912926568484 and parameters: {'n_estimators': 463, 'criterion': 'poisson', 'max_depth': 17, 'min_samples_leaf': 3, 'max_features': 0.8770584551526315, 'maks_iterasjoner': 9, 'std_terskel': 0.04698076695013552}. Best is trial 32 with value: 1049.57808711621.\n",
            "[I 2024-04-29 22:05:40,268] Trial 47 finished with value: 1365.7049987312953 and parameters: {'n_estimators': 468, 'criterion': 'poisson', 'max_depth': 17, 'min_samples_leaf': 3, 'max_features': 0.8690338187333871, 'maks_iterasjoner': 7, 'std_terskel': 0.04623120465736317}. Best is trial 32 with value: 1049.57808711621.\n",
            "[I 2024-04-29 22:05:52,202] Trial 48 finished with value: 1705.148608658629 and parameters: {'n_estimators': 413, 'criterion': 'squared_error', 'max_depth': 10, 'min_samples_leaf': 5, 'max_features': 0.8259558329271767, 'maks_iterasjoner': 7, 'std_terskel': 0.042687424707780953}. Best is trial 32 with value: 1049.57808711621.\n",
            "[I 2024-04-29 22:05:52,863] Trial 49 finished with value: 1706.268384450469 and parameters: {'n_estimators': 418, 'criterion': 'squared_error', 'max_depth': 6, 'min_samples_leaf': 5, 'max_features': 0.8148666639048721, 'maks_iterasjoner': 16, 'std_terskel': 0.04069467053202914}. Best is trial 32 with value: 1049.57808711621.\n",
            "[I 2024-04-29 22:05:54,007] A new study created in memory with name: no-name-69535265-fb68-46fb-a043-acb09f991225\n",
            "[I 2024-04-29 22:05:55,075] Trial 1 finished with value: 1294.0782737843952 and parameters: {'k': 85, 'graf_vektet_harmonic': False, 'initiell_respons': 'domain_mean', 'alpha': 0.209, 'maks_iterasjoner_harmonic': 19, 'maks_iterasjoner_heat': 65}. Best is trial 1 with value: 1294.0782737843952.\n",
            "[I 2024-04-29 22:05:55,111] Trial 0 finished with value: 1411.7589532651002 and parameters: {'k': 48, 'graf_vektet_harmonic': False, 'initiell_respons': 'domain_median', 'alpha': 0.261, 'maks_iterasjoner_harmonic': 52, 'maks_iterasjoner_heat': 4}. Best is trial 1 with value: 1294.0782737843952.\n",
            "[I 2024-04-29 22:05:56,080] Trial 3 finished with value: 1426.0513907486534 and parameters: {'k': 52, 'graf_vektet_harmonic': False, 'initiell_respons': 'domain_median', 'alpha': 0.362, 'maks_iterasjoner_harmonic': 75, 'maks_iterasjoner_heat': 13}. Best is trial 1 with value: 1294.0782737843952.\n",
            "[I 2024-04-29 22:05:56,113] Trial 2 finished with value: 1839.885836346757 and parameters: {'k': 93, 'graf_vektet_harmonic': True, 'initiell_respons': 'domain_mean', 'alpha': 0.975, 'maks_iterasjoner_harmonic': 19, 'maks_iterasjoner_heat': 86}. Best is trial 1 with value: 1294.0782737843952.\n",
            "[I 2024-04-29 22:05:57,011] Trial 5 finished with value: 1271.543379327458 and parameters: {'k': 63, 'graf_vektet_harmonic': True, 'initiell_respons': 'domain_mean', 'alpha': 0.085, 'maks_iterasjoner_harmonic': 16, 'maks_iterasjoner_heat': 93}. Best is trial 5 with value: 1271.543379327458.\n",
            "[I 2024-04-29 22:05:57,045] Trial 4 finished with value: 1528.3728753360838 and parameters: {'k': 47, 'graf_vektet_harmonic': True, 'initiell_respons': 'domain_mean', 'alpha': 0.506, 'maks_iterasjoner_harmonic': 10, 'maks_iterasjoner_heat': 5}. Best is trial 5 with value: 1271.543379327458.\n",
            "[I 2024-04-29 22:05:58,048] Trial 7 finished with value: 1627.392361892188 and parameters: {'k': 80, 'graf_vektet_harmonic': True, 'initiell_respons': 'domain_median', 'alpha': 0.546, 'maks_iterasjoner_harmonic': 31, 'maks_iterasjoner_heat': 34}. Best is trial 5 with value: 1271.543379327458.\n",
            "[I 2024-04-29 22:05:58,123] Trial 6 finished with value: 1468.421208951555 and parameters: {'k': 88, 'graf_vektet_harmonic': False, 'initiell_respons': 'domain_median', 'alpha': 0.453, 'maks_iterasjoner_harmonic': 81, 'maks_iterasjoner_heat': 39}. Best is trial 5 with value: 1271.543379327458.\n",
            "[I 2024-04-29 22:05:58,898] Trial 9 finished with value: 1400.4457979518265 and parameters: {'k': 76, 'graf_vektet_harmonic': True, 'initiell_respons': 'domain_mean', 'alpha': 0.357, 'maks_iterasjoner_harmonic': 47, 'maks_iterasjoner_heat': 8}. Best is trial 5 with value: 1271.543379327458.\n",
            "[I 2024-04-29 22:05:58,974] Trial 8 finished with value: 1572.8933616738273 and parameters: {'k': 69, 'graf_vektet_harmonic': False, 'initiell_respons': 'domain_median', 'alpha': 0.9570000000000001, 'maks_iterasjoner_harmonic': 35, 'maks_iterasjoner_heat': 16}. Best is trial 5 with value: 1271.543379327458.\n",
            "[I 2024-04-29 22:05:59,728] Trial 11 finished with value: 1281.709964525988 and parameters: {'k': 64, 'graf_vektet_harmonic': True, 'initiell_respons': 'domain_mean', 'alpha': 0.004, 'maks_iterasjoner_harmonic': 6, 'maks_iterasjoner_heat': 98}. Best is trial 5 with value: 1271.543379327458.\n",
            "[I 2024-04-29 22:05:59,995] Trial 10 finished with value: 1548.7988764708427 and parameters: {'k': 83, 'graf_vektet_harmonic': False, 'initiell_respons': 'domain_median', 'alpha': 0.782, 'maks_iterasjoner_harmonic': 72, 'maks_iterasjoner_heat': 14}. Best is trial 5 with value: 1271.543379327458.\n",
            "[I 2024-04-29 22:06:00,630] Trial 12 finished with value: 1277.5370139295703 and parameters: {'k': 63, 'graf_vektet_harmonic': True, 'initiell_respons': 'domain_mean', 'alpha': 0.03, 'maks_iterasjoner_harmonic': 2, 'maks_iterasjoner_heat': 99}. Best is trial 5 with value: 1271.543379327458.\n",
            "[I 2024-04-29 22:06:00,913] Trial 13 finished with value: 1272.903310056565 and parameters: {'k': 62, 'graf_vektet_harmonic': True, 'initiell_respons': 'domain_mean', 'alpha': 0.043000000000000003, 'maks_iterasjoner_harmonic': 4, 'maks_iterasjoner_heat': 99}. Best is trial 5 with value: 1271.543379327458.\n",
            "[I 2024-04-29 22:06:01,634] Trial 14 finished with value: 1282.3260726625856 and parameters: {'k': 60, 'graf_vektet_harmonic': True, 'initiell_respons': 'domain_mean', 'alpha': 0.003, 'maks_iterasjoner_harmonic': 1, 'maks_iterasjoner_heat': 74}. Best is trial 5 with value: 1271.543379327458.\n",
            "[I 2024-04-29 22:06:01,821] Trial 15 finished with value: 1277.7846709267246 and parameters: {'k': 58, 'graf_vektet_harmonic': True, 'initiell_respons': 'domain_mean', 'alpha': 0.132, 'maks_iterasjoner_harmonic': 97, 'maks_iterasjoner_heat': 74}. Best is trial 5 with value: 1271.543379327458.\n",
            "[I 2024-04-29 22:06:02,578] Trial 16 finished with value: 1289.7418065567138 and parameters: {'k': 56, 'graf_vektet_harmonic': True, 'initiell_respons': 'domain_mean', 'alpha': 0.168, 'maks_iterasjoner_harmonic': 26, 'maks_iterasjoner_heat': 68}. Best is trial 5 with value: 1271.543379327458.\n",
            "[I 2024-04-29 22:06:02,847] Trial 17 finished with value: 1300.563227928203 and parameters: {'k': 71, 'graf_vektet_harmonic': True, 'initiell_respons': 'domain_mean', 'alpha': 0.195, 'maks_iterasjoner_harmonic': 24, 'maks_iterasjoner_heat': 56}. Best is trial 5 with value: 1271.543379327458.\n",
            "[I 2024-04-29 22:06:03,526] Trial 18 finished with value: 1598.4718579072178 and parameters: {'k': 72, 'graf_vektet_harmonic': True, 'initiell_respons': 'domain_mean', 'alpha': 0.629, 'maks_iterasjoner_harmonic': 44, 'maks_iterasjoner_heat': 88}. Best is trial 5 with value: 1271.543379327458.\n",
            "[I 2024-04-29 22:06:03,890] Trial 19 finished with value: 1601.096688459229 and parameters: {'k': 69, 'graf_vektet_harmonic': True, 'initiell_respons': 'domain_mean', 'alpha': 0.632, 'maks_iterasjoner_harmonic': 40, 'maks_iterasjoner_heat': 83}. Best is trial 5 with value: 1271.543379327458.\n",
            "[I 2024-04-29 22:06:04,526] Trial 20 finished with value: 1273.196343966982 and parameters: {'k': 67, 'graf_vektet_harmonic': True, 'initiell_respons': 'domain_mean', 'alpha': 0.105, 'maks_iterasjoner_harmonic': 58, 'maks_iterasjoner_heat': 84}. Best is trial 5 with value: 1271.543379327458.\n",
            "[I 2024-04-29 22:06:04,853] Trial 21 finished with value: 1274.6112432775699 and parameters: {'k': 65, 'graf_vektet_harmonic': True, 'initiell_respons': 'domain_mean', 'alpha': 0.114, 'maks_iterasjoner_harmonic': 58, 'maks_iterasjoner_heat': 93}. Best is trial 5 with value: 1271.543379327458.\n",
            "[I 2024-04-29 22:06:05,406] Trial 22 finished with value: 1273.0577303517912 and parameters: {'k': 66, 'graf_vektet_harmonic': True, 'initiell_respons': 'domain_mean', 'alpha': 0.10400000000000001, 'maks_iterasjoner_harmonic': 58, 'maks_iterasjoner_heat': 93}. Best is trial 5 with value: 1271.543379327458.\n",
            "[I 2024-04-29 22:06:05,761] Trial 23 finished with value: 1343.488663199907 and parameters: {'k': 54, 'graf_vektet_harmonic': True, 'initiell_respons': 'domain_mean', 'alpha': 0.279, 'maks_iterasjoner_harmonic': 61, 'maks_iterasjoner_heat': 80}. Best is trial 5 with value: 1271.543379327458.\n",
            "[I 2024-04-29 22:06:06,416] Trial 24 finished with value: 1348.6885976821272 and parameters: {'k': 55, 'graf_vektet_harmonic': True, 'initiell_respons': 'domain_mean', 'alpha': 0.28500000000000003, 'maks_iterasjoner_harmonic': 14, 'maks_iterasjoner_heat': 100}. Best is trial 5 with value: 1271.543379327458.\n",
            "[I 2024-04-29 22:06:06,706] Trial 25 finished with value: 1272.3047873576686 and parameters: {'k': 60, 'graf_vektet_harmonic': True, 'initiell_respons': 'domain_mean', 'alpha': 0.094, 'maks_iterasjoner_harmonic': 12, 'maks_iterasjoner_heat': 100}. Best is trial 5 with value: 1271.543379327458.\n",
            "[I 2024-04-29 22:06:07,305] Trial 26 finished with value: 1270.7254770246743 and parameters: {'k': 61, 'graf_vektet_harmonic': True, 'initiell_respons': 'domain_mean', 'alpha': 0.07, 'maks_iterasjoner_harmonic': 67, 'maks_iterasjoner_heat': 59}. Best is trial 26 with value: 1270.7254770246743.\n",
            "[I 2024-04-29 22:06:07,714] Trial 27 finished with value: 1271.183163917404 and parameters: {'k': 61, 'graf_vektet_harmonic': True, 'initiell_respons': 'domain_mean', 'alpha': 0.064, 'maks_iterasjoner_harmonic': 12, 'maks_iterasjoner_heat': 93}. Best is trial 26 with value: 1270.7254770246743.\n",
            "[I 2024-04-29 22:06:08,342] Trial 28 finished with value: 1392.0982578193343 and parameters: {'k': 59, 'graf_vektet_harmonic': True, 'initiell_respons': 'domain_mean', 'alpha': 0.355, 'maks_iterasjoner_harmonic': 91, 'maks_iterasjoner_heat': 49}. Best is trial 26 with value: 1270.7254770246743.\n",
            "[I 2024-04-29 22:06:08,731] Trial 29 finished with value: 1391.229815327067 and parameters: {'k': 75, 'graf_vektet_harmonic': True, 'initiell_respons': 'domain_mean', 'alpha': 0.354, 'maks_iterasjoner_harmonic': 96, 'maks_iterasjoner_heat': 51}. Best is trial 26 with value: 1270.7254770246743.\n",
            "[I 2024-04-29 22:06:09,392] Trial 30 finished with value: 1408.0095054017258 and parameters: {'k': 50, 'graf_vektet_harmonic': False, 'initiell_respons': 'domain_median', 'alpha': 0.222, 'maks_iterasjoner_harmonic': 70, 'maks_iterasjoner_heat': 58}. Best is trial 26 with value: 1270.7254770246743.\n",
            "[I 2024-04-29 22:06:09,737] Trial 31 finished with value: 1406.9916406939212 and parameters: {'k': 51, 'graf_vektet_harmonic': False, 'initiell_respons': 'domain_median', 'alpha': 0.201, 'maks_iterasjoner_harmonic': 66, 'maks_iterasjoner_heat': 28}. Best is trial 26 with value: 1270.7254770246743.\n",
            "[I 2024-04-29 22:06:10,394] Trial 32 finished with value: 1271.178832419344 and parameters: {'k': 61, 'graf_vektet_harmonic': True, 'initiell_respons': 'domain_mean', 'alpha': 0.064, 'maks_iterasjoner_harmonic': 14, 'maks_iterasjoner_heat': 91}. Best is trial 26 with value: 1270.7254770246743.\n",
            "[I 2024-04-29 22:06:10,750] Trial 33 finished with value: 1271.0869806677788 and parameters: {'k': 60, 'graf_vektet_harmonic': True, 'initiell_respons': 'domain_mean', 'alpha': 0.07100000000000001, 'maks_iterasjoner_harmonic': 14, 'maks_iterasjoner_heat': 92}. Best is trial 26 with value: 1270.7254770246743.\n",
            "[I 2024-04-29 22:06:11,536] Trial 34 finished with value: 1271.1627070266375 and parameters: {'k': 62, 'graf_vektet_harmonic': True, 'initiell_respons': 'domain_mean', 'alpha': 0.064, 'maks_iterasjoner_harmonic': 18, 'maks_iterasjoner_heat': 91}. Best is trial 26 with value: 1270.7254770246743.\n",
            "[I 2024-04-29 22:06:11,817] Trial 35 finished with value: 1331.368352399074 and parameters: {'k': 57, 'graf_vektet_harmonic': True, 'initiell_respons': 'domain_mean', 'alpha': 0.256, 'maks_iterasjoner_harmonic': 22, 'maks_iterasjoner_heat': 75}. Best is trial 26 with value: 1270.7254770246743.\n",
            "[I 2024-04-29 22:06:12,509] Trial 36 finished with value: 1288.7745513377213 and parameters: {'k': 57, 'graf_vektet_harmonic': True, 'initiell_respons': 'domain_mean', 'alpha': 0.165, 'maks_iterasjoner_harmonic': 20, 'maks_iterasjoner_heat': 76}. Best is trial 26 with value: 1270.7254770246743.\n",
            "[I 2024-04-29 22:06:12,680] Trial 37 finished with value: 1283.0178426205118 and parameters: {'k': 53, 'graf_vektet_harmonic': True, 'initiell_respons': 'domain_mean', 'alpha': 0.148, 'maks_iterasjoner_harmonic': 31, 'maks_iterasjoner_heat': 67}. Best is trial 26 with value: 1270.7254770246743.\n",
            "[I 2024-04-29 22:06:13,454] Trial 38 finished with value: 1271.9585550689594 and parameters: {'k': 46, 'graf_vektet_harmonic': True, 'initiell_respons': 'domain_mean', 'alpha': 0.048, 'maks_iterasjoner_harmonic': 82, 'maks_iterasjoner_heat': 68}. Best is trial 26 with value: 1270.7254770246743.\n",
            "[I 2024-04-29 22:06:13,687] Trial 39 finished with value: 1321.0817650371891 and parameters: {'k': 48, 'graf_vektet_harmonic': False, 'initiell_respons': 'domain_mean', 'alpha': 0.422, 'maks_iterasjoner_harmonic': 52, 'maks_iterasjoner_heat': 88}. Best is trial 26 with value: 1270.7254770246743.\n",
            "[I 2024-04-29 22:06:14,464] Trial 40 finished with value: 1291.925216334519 and parameters: {'k': 67, 'graf_vektet_harmonic': False, 'initiell_respons': 'domain_mean', 'alpha': 0.241, 'maks_iterasjoner_harmonic': 28, 'maks_iterasjoner_heat': 88}. Best is trial 26 with value: 1270.7254770246743.\n",
            "[I 2024-04-29 22:06:14,567] Trial 41 finished with value: 1436.0136178530324 and parameters: {'k': 67, 'graf_vektet_harmonic': True, 'initiell_respons': 'domain_median', 'alpha': 0.24, 'maks_iterasjoner_harmonic': 29, 'maks_iterasjoner_heat': 62}. Best is trial 26 with value: 1270.7254770246743.\n",
            "[I 2024-04-29 22:06:15,452] Trial 42 finished with value: 1271.1285776324853 and parameters: {'k': 61, 'graf_vektet_harmonic': True, 'initiell_respons': 'domain_mean', 'alpha': 0.068, 'maks_iterasjoner_harmonic': 9, 'maks_iterasjoner_heat': 93}. Best is trial 26 with value: 1270.7254770246743.\n",
            "[I 2024-04-29 22:06:15,471] Trial 43 finished with value: 1271.2715758334778 and parameters: {'k': 60, 'graf_vektet_harmonic': True, 'initiell_respons': 'domain_mean', 'alpha': 0.062, 'maks_iterasjoner_harmonic': 9, 'maks_iterasjoner_heat': 93}. Best is trial 26 with value: 1270.7254770246743.\n",
            "[I 2024-04-29 22:06:16,409] Trial 44 finished with value: 1771.9976719720585 and parameters: {'k': 62, 'graf_vektet_harmonic': True, 'initiell_respons': 'domain_mean', 'alpha': 0.869, 'maks_iterasjoner_harmonic': 17, 'maks_iterasjoner_heat': 80}. Best is trial 26 with value: 1270.7254770246743.\n",
            "[I 2024-04-29 22:06:16,423] Trial 45 finished with value: 1361.8757944502204 and parameters: {'k': 63, 'graf_vektet_harmonic': True, 'initiell_respons': 'domain_mean', 'alpha': 0.306, 'maks_iterasjoner_harmonic': 18, 'maks_iterasjoner_heat': 79}. Best is trial 26 with value: 1270.7254770246743.\n",
            "[I 2024-04-29 22:06:17,363] Trial 46 finished with value: 1417.9679200477312 and parameters: {'k': 64, 'graf_vektet_harmonic': True, 'initiell_respons': 'domain_median', 'alpha': 0.002, 'maks_iterasjoner_harmonic': 7, 'maks_iterasjoner_heat': 33}. Best is trial 26 with value: 1270.7254770246743.\n",
            "[I 2024-04-29 22:06:17,372] Trial 47 finished with value: 1413.7330552408828 and parameters: {'k': 92, 'graf_vektet_harmonic': True, 'initiell_respons': 'domain_median', 'alpha': 0.013000000000000001, 'maks_iterasjoner_harmonic': 7, 'maks_iterasjoner_heat': 45}. Best is trial 26 with value: 1270.7254770246743.\n",
            "[I 2024-04-29 22:06:18,302] Trial 49 finished with value: 1270.9345772128365 and parameters: {'k': 58, 'graf_vektet_harmonic': True, 'initiell_respons': 'domain_mean', 'alpha': 0.075, 'maks_iterasjoner_harmonic': 39, 'maks_iterasjoner_heat': 23}. Best is trial 26 with value: 1270.7254770246743.\n",
            "[I 2024-04-29 22:06:18,315] Trial 48 finished with value: 1282.389724073582 and parameters: {'k': 58, 'graf_vektet_harmonic': True, 'initiell_respons': 'domain_mean', 'alpha': 0.146, 'maks_iterasjoner_harmonic': 36, 'maks_iterasjoner_heat': 90}. Best is trial 26 with value: 1270.7254770246743.\n",
            "[I 2024-04-29 22:06:36,257] A new study created in memory with name: no-name-c9387031-1b66-48e1-a57b-b93e3276d884\n",
            "[I 2024-04-29 22:08:19,637] Trial 1 finished with value: 813.6096454740746 and parameters: {'k1': 4, 'k2': 7, 'p1': 7, 'p2': 3, 'max_iters': 19, 'pool_size': 25}. Best is trial 1 with value: 813.6096454740746.\n",
            "[I 2024-04-29 22:10:55,115] Trial 2 finished with value: 645.2669541552129 and parameters: {'k1': 6, 'k2': 1, 'p1': 8, 'p2': 5, 'max_iters': 47, 'pool_size': 31}. Best is trial 2 with value: 645.2669541552129.\n",
            "[I 2024-04-29 22:11:33,496] Trial 3 finished with value: 624.929781021259 and parameters: {'k1': 3, 'k2': 2, 'p1': 7, 'p2': 5, 'max_iters': 8, 'pool_size': 40}. Best is trial 3 with value: 624.929781021259.\n",
            "[I 2024-04-29 22:12:08,598] Trial 0 finished with value: 1063.9876010857495 and parameters: {'k1': 10, 'k2': 7, 'p1': 3, 'p2': 5, 'max_iters': 46, 'pool_size': 93}. Best is trial 3 with value: 624.929781021259.\n",
            "[I 2024-04-29 22:13:23,383] Trial 4 finished with value: 625.5104924322106 and parameters: {'k1': 4, 'k2': 1, 'p1': 2, 'p2': 6, 'max_iters': 23, 'pool_size': 72}. Best is trial 3 with value: 624.929781021259.\n",
            "[I 2024-04-29 22:14:03,891] Trial 5 finished with value: 764.2201958031443 and parameters: {'k1': 7, 'k2': 3, 'p1': 1, 'p2': 3, 'max_iters': 17, 'pool_size': 38}. Best is trial 3 with value: 624.929781021259.\n",
            "[I 2024-04-29 22:14:37,866] Trial 6 finished with value: 770.3958680191877 and parameters: {'k1': 3, 'k2': 7, 'p1': 3, 'p2': 5, 'max_iters': 16, 'pool_size': 19}. Best is trial 3 with value: 624.929781021259.\n",
            "[I 2024-04-29 22:15:04,491] Trial 8 finished with value: 865.8263544509041 and parameters: {'k1': 4, 'k2': 8, 'p1': 4, 'p2': 2, 'max_iters': 9, 'pool_size': 17}. Best is trial 3 with value: 624.929781021259.\n",
            "[I 2024-04-29 22:16:23,528] Trial 7 finished with value: 689.8473350555472 and parameters: {'k1': 4, 'k2': 3, 'p1': 5, 'p2': 10, 'max_iters': 20, 'pool_size': 46}. Best is trial 3 with value: 624.929781021259.\n",
            "[I 2024-04-29 22:18:04,310] Trial 10 finished with value: 850.8207880062005 and parameters: {'k1': 9, 'k2': 3, 'p1': 8, 'p2': 6, 'max_iters': 48, 'pool_size': 14}. Best is trial 3 with value: 624.929781021259.\n",
            "[I 2024-04-29 22:18:35,587] Trial 11 finished with value: 889.2077359229482 and parameters: {'k1': 1, 'k2': 10, 'p1': 10, 'p2': 9, 'max_iters': 2, 'pool_size': 72}. Best is trial 3 with value: 624.929781021259.\n",
            "[I 2024-04-29 22:18:39,509] Trial 9 finished with value: 1074.1214986218304 and parameters: {'k1': 7, 'k2': 10, 'p1': 1, 'p2': 10, 'max_iters': 41, 'pool_size': 35}. Best is trial 3 with value: 624.929781021259.\n",
            "[I 2024-04-29 22:18:40,531] Trial 12 finished with value: 655.2889006692551 and parameters: {'k1': 1, 'k2': 1, 'p1': 1, 'p2': 7, 'max_iters': 32, 'pool_size': 64}. Best is trial 3 with value: 624.929781021259.\n",
            "[I 2024-04-29 22:18:44,557] Trial 13 finished with value: 662.5770458761399 and parameters: {'k1': 1, 'k2': 1, 'p1': 6, 'p2': 7, 'max_iters': 31, 'pool_size': 65}. Best is trial 3 with value: 624.929781021259.\n",
            "[I 2024-04-29 22:18:54,399] Trial 15 finished with value: 802.4224779028667 and parameters: {'k1': 3, 'k2': 4, 'p1': 9, 'p2': 8, 'max_iters': 1, 'pool_size': 86}. Best is trial 3 with value: 624.929781021259.\n",
            "[I 2024-04-29 22:20:20,765] Trial 16 finished with value: 710.5104730549119 and parameters: {'k1': 3, 'k2': 5, 'p1': 6, 'p2': 4, 'max_iters': 10, 'pool_size': 53}. Best is trial 3 with value: 624.929781021259.\n",
            "[I 2024-04-29 22:21:04,983] Trial 14 finished with value: 646.0442856428335 and parameters: {'k1': 2, 'k2': 4, 'p1': 6, 'p2': 7, 'max_iters': 29, 'pool_size': 61}. Best is trial 3 with value: 624.929781021259.\n",
            "[I 2024-04-29 22:22:34,880] Trial 17 finished with value: 660.7151472084487 and parameters: {'k1': 5, 'k2': 2, 'p1': 3, 'p2': 1, 'max_iters': 28, 'pool_size': 79}. Best is trial 3 with value: 624.929781021259.\n",
            "[I 2024-04-29 22:23:44,853] Trial 18 finished with value: 650.6189863071774 and parameters: {'k1': 5, 'k2': 2, 'p1': 3, 'p2': 6, 'max_iters': 38, 'pool_size': 79}. Best is trial 3 with value: 624.929781021259.\n",
            "[I 2024-04-29 22:23:54,823] Trial 19 finished with value: 693.619041897488 and parameters: {'k1': 6, 'k2': 2, 'p1': 4, 'p2': 6, 'max_iters': 10, 'pool_size': 48}. Best is trial 3 with value: 624.929781021259.\n",
            "[I 2024-04-29 22:25:40,433] Trial 20 finished with value: 851.904623596365 and parameters: {'k1': 6, 'k2': 5, 'p1': 5, 'p2': 4, 'max_iters': 10, 'pool_size': 98}. Best is trial 3 with value: 624.929781021259.\n",
            "[I 2024-04-29 22:26:28,561] Trial 21 finished with value: 652.8860904956023 and parameters: {'k1': 2, 'k2': 5, 'p1': 7, 'p2': 4, 'max_iters': 24, 'pool_size': 99}. Best is trial 3 with value: 624.929781021259.\n",
            "[I 2024-04-29 22:27:55,864] Trial 22 finished with value: 752.07417436287 and parameters: {'k1': 8, 'k2': 1, 'p1': 8, 'p2': 4, 'max_iters': 24, 'pool_size': 32}. Best is trial 3 with value: 624.929781021259.\n",
            "[I 2024-04-29 22:29:47,088] Trial 23 finished with value: 716.4775811308825 and parameters: {'k1': 8, 'k2': 1, 'p1': 8, 'p2': 5, 'max_iters': 37, 'pool_size': 32}. Best is trial 3 with value: 624.929781021259.\n",
            "[I 2024-04-29 22:29:59,372] Trial 24 finished with value: 644.8924264788448 and parameters: {'k1': 5, 'k2': 1, 'p1': 8, 'p2': 5, 'max_iters': 37, 'pool_size': 28}. Best is trial 3 with value: 624.929781021259.\n",
            "[I 2024-04-29 22:30:03,957] Trial 25 finished with value: 656.8882389870174 and parameters: {'k1': 5, 'k2': 2, 'p1': 10, 'p2': 8, 'max_iters': 43, 'pool_size': 5}. Best is trial 3 with value: 624.929781021259.\n",
            "[I 2024-04-29 22:30:32,238] Trial 26 finished with value: 641.3472759542847 and parameters: {'k1': 5, 'k2': 2, 'p1': 9, 'p2': 8, 'max_iters': 36, 'pool_size': 9}. Best is trial 3 with value: 624.929781021259.\n",
            "[I 2024-04-29 22:32:17,605] Trial 27 finished with value: 680.2768837747469 and parameters: {'k1': 4, 'k2': 3, 'p1': 7, 'p2': 3, 'max_iters': 36, 'pool_size': 42}. Best is trial 3 with value: 624.929781021259.\n",
            "[I 2024-04-29 22:32:27,470] Trial 29 finished with value: 632.951195157922 and parameters: {'k1': 2, 'k2': 4, 'p1': 9, 'p2': 8, 'max_iters': 13, 'pool_size': 5}. Best is trial 3 with value: 624.929781021259.\n",
            "[I 2024-04-29 22:33:01,299] Trial 30 finished with value: 620.5019171865217 and parameters: {'k1': 2, 'k2': 4, 'p1': 2, 'p2': 9, 'max_iters': 5, 'pool_size': 58}. Best is trial 30 with value: 620.5019171865217.\n",
            "[I 2024-04-29 22:33:15,674] Trial 28 finished with value: 724.3985421883399 and parameters: {'k1': 4, 'k2': 4, 'p1': 9, 'p2': 8, 'max_iters': 34, 'pool_size': 57}. Best is trial 30 with value: 620.5019171865217.\n",
            "[I 2024-04-29 22:33:48,434] Trial 31 finished with value: 804.5533722221126 and parameters: {'k1': 3, 'k2': 6, 'p1': 2, 'p2': 9, 'max_iters': 5, 'pool_size': 55}. Best is trial 30 with value: 620.5019171865217.\n",
            "[I 2024-04-29 22:34:06,048] Trial 32 finished with value: 743.1849848670013 and parameters: {'k1': 2, 'k2': 6, 'p1': 2, 'p2': 9, 'max_iters': 5, 'pool_size': 71}. Best is trial 30 with value: 620.5019171865217.\n",
            "[I 2024-04-29 22:35:18,379] Trial 33 finished with value: 622.2961471823771 and parameters: {'k1': 2, 'k2': 4, 'p1': 2, 'p2': 9, 'max_iters': 13, 'pool_size': 70}. Best is trial 30 with value: 620.5019171865217.\n",
            "[I 2024-04-29 22:35:42,186] Trial 34 finished with value: 621.7202698568757 and parameters: {'k1': 2, 'k2': 4, 'p1': 2, 'p2': 7, 'max_iters': 14, 'pool_size': 71}. Best is trial 30 with value: 620.5019171865217.\n",
            "[I 2024-04-29 22:35:58,763] Trial 35 finished with value: 618.8348996739041 and parameters: {'k1': 2, 'k2': 3, 'p1': 2, 'p2': 10, 'max_iters': 6, 'pool_size': 70}. Best is trial 35 with value: 618.8348996739041.\n",
            "[I 2024-04-29 22:36:29,242] Trial 36 finished with value: 619.9997658188837 and parameters: {'k1': 2, 'k2': 4, 'p1': 2, 'p2': 10, 'max_iters': 6, 'pool_size': 77}. Best is trial 35 with value: 618.8348996739041.\n",
            "[I 2024-04-29 22:37:14,916] Trial 38 finished with value: 702.2856034439837 and parameters: {'k1': 1, 'k2': 5, 'p1': 4, 'p2': 10, 'max_iters': 5, 'pool_size': 84}. Best is trial 35 with value: 618.8348996739041.\n",
            "[I 2024-04-29 22:37:33,418] Trial 37 finished with value: 621.2107867726982 and parameters: {'k1': 1, 'k2': 4, 'p1': 2, 'p2': 10, 'max_iters': 13, 'pool_size': 86}. Best is trial 35 with value: 618.8348996739041.\n",
            "[I 2024-04-29 22:38:30,533] Trial 39 finished with value: 620.067438592202 and parameters: {'k1': 2, 'k2': 3, 'p1': 1, 'p2': 10, 'max_iters': 13, 'pool_size': 92}. Best is trial 35 with value: 618.8348996739041.\n",
            "[I 2024-04-29 22:39:33,663] Trial 40 finished with value: 625.1552986002898 and parameters: {'k1': 1, 'k2': 3, 'p1': 1, 'p2': 10, 'max_iters': 20, 'pool_size': 92}. Best is trial 35 with value: 618.8348996739041.\n",
            "[I 2024-04-29 22:40:22,794] Trial 41 finished with value: 641.9354172124059 and parameters: {'k1': 3, 'k2': 3, 'p1': 1, 'p2': 10, 'max_iters': 20, 'pool_size': 92}. Best is trial 35 with value: 618.8348996739041.\n",
            "[I 2024-04-29 22:40:31,189] Trial 42 finished with value: 627.8506599793659 and parameters: {'k1': 3, 'k2': 3, 'p1': 1, 'p2': 10, 'max_iters': 8, 'pool_size': 89}. Best is trial 35 with value: 618.8348996739041.\n",
            "[I 2024-04-29 22:41:04,680] Trial 43 finished with value: 615.6309249455885 and parameters: {'k1': 1, 'k2': 3, 'p1': 2, 'p2': 9, 'max_iters': 7, 'pool_size': 79}. Best is trial 43 with value: 615.6309249455885.\n",
            "[I 2024-04-29 22:41:27,106] Trial 45 finished with value: 614.2038884714008 and parameters: {'k1': 2, 'k2': 3, 'p1': 3, 'p2': 9, 'max_iters': 3, 'pool_size': 79}. Best is trial 45 with value: 614.2038884714008.\n",
            "[I 2024-04-29 22:41:41,562] Trial 44 finished with value: 719.9714428192002 and parameters: {'k1': 1, 'k2': 6, 'p1': 3, 'p2': 9, 'max_iters': 7, 'pool_size': 78}. Best is trial 45 with value: 614.2038884714008.\n",
            "[I 2024-04-29 22:42:11,205] Trial 46 finished with value: 900.2690669003684 and parameters: {'k1': 10, 'k2': 3, 'p1': 3, 'p2': 9, 'max_iters': 3, 'pool_size': 81}. Best is trial 45 with value: 614.2038884714008.\n",
            "[I 2024-04-29 22:42:12,657] Trial 47 finished with value: 917.8810887469763 and parameters: {'k1': 10, 'k2': 3, 'p1': 3, 'p2': 9, 'max_iters': 2, 'pool_size': 77}. Best is trial 45 with value: 614.2038884714008.\n",
            "[I 2024-04-29 22:43:29,981] Trial 48 finished with value: 597.8359869526314 and parameters: {'k1': 2, 'k2': 2, 'p1': 4, 'p2': 10, 'max_iters': 17, 'pool_size': 75}. Best is trial 48 with value: 597.8359869526314.\n",
            "[I 2024-04-29 22:44:04,432] Trial 49 finished with value: 794.3661439051186 and parameters: {'k1': 2, 'k2': 9, 'p1': 4, 'p2': 10, 'max_iters': 16, 'pool_size': 75}. Best is trial 48 with value: 597.8359869526314.\n",
            "[I 2024-04-29 22:44:09,151] A new study created in memory with name: no-name-3af4dd88-536f-4ae2-9029-20adc480d99a\n",
            "[I 2024-04-29 22:44:13,526] Trial 1 finished with value: 1667.38768969178 and parameters: {'n_estimators': 152, 'criterion': 'friedman_mse', 'max_depth': 19, 'min_samples_leaf': 4, 'max_features': 0.27222667896947345, 'maks_iterasjoner': 9, 'std_terskel': 0.03801160743715363}. Best is trial 1 with value: 1667.38768969178.\n",
            "[I 2024-04-29 22:44:16,285] Trial 0 finished with value: 1407.013600401407 and parameters: {'n_estimators': 231, 'criterion': 'friedman_mse', 'max_depth': 28, 'min_samples_leaf': 3, 'max_features': 0.5724709755572889, 'maks_iterasjoner': 20, 'std_terskel': 0.04427279834599156}. Best is trial 0 with value: 1407.013600401407.\n",
            "[I 2024-04-29 22:44:21,962] Trial 3 finished with value: 1144.382351507768 and parameters: {'n_estimators': 169, 'criterion': 'squared_error', 'max_depth': 20, 'min_samples_leaf': 1, 'max_features': 0.3426872075536911, 'maks_iterasjoner': 3, 'std_terskel': 0.047015116218115806}. Best is trial 3 with value: 1144.382351507768.\n",
            "[I 2024-04-29 22:44:30,107] Trial 2 finished with value: 1085.2602544171953 and parameters: {'n_estimators': 387, 'criterion': 'absolute_error', 'max_depth': 11, 'min_samples_leaf': 1, 'max_features': 0.6692709273559365, 'maks_iterasjoner': 17, 'std_terskel': 0.028962302170875184}. Best is trial 2 with value: 1085.2602544171953.\n",
            "[I 2024-04-29 22:44:34,952] Trial 4 finished with value: 1188.6858124272335 and parameters: {'n_estimators': 493, 'criterion': 'poisson', 'max_depth': 4, 'min_samples_leaf': 1, 'max_features': 0.5160666158877661, 'maks_iterasjoner': 6, 'std_terskel': 0.020034647662874064}. Best is trial 2 with value: 1085.2602544171953.\n",
            "[I 2024-04-29 22:44:43,399] Trial 5 finished with value: 1759.5844987515516 and parameters: {'n_estimators': 448, 'criterion': 'poisson', 'max_depth': 16, 'min_samples_leaf': 5, 'max_features': 0.42340166983913996, 'maks_iterasjoner': 1, 'std_terskel': 0.015266669243969144}. Best is trial 2 with value: 1085.2602544171953.\n",
            "[I 2024-04-29 22:44:45,466] Trial 6 finished with value: 1762.2023011331046 and parameters: {'n_estimators': 341, 'criterion': 'poisson', 'max_depth': 22, 'min_samples_leaf': 5, 'max_features': 0.44635163611384887, 'maks_iterasjoner': 19, 'std_terskel': 0.010022798403739213}. Best is trial 2 with value: 1085.2602544171953.\n",
            "[I 2024-04-29 22:44:52,887] Trial 8 finished with value: 1115.0342909219144 and parameters: {'n_estimators': 211, 'criterion': 'friedman_mse', 'max_depth': 30, 'min_samples_leaf': 1, 'max_features': 0.845220549519993, 'maks_iterasjoner': 20, 'std_terskel': 0.014740591585033234}. Best is trial 2 with value: 1085.2602544171953.\n",
            "[I 2024-04-29 22:44:55,455] Trial 7 finished with value: 1146.9494219785706 and parameters: {'n_estimators': 460, 'criterion': 'poisson', 'max_depth': 4, 'min_samples_leaf': 1, 'max_features': 0.7043340479278978, 'maks_iterasjoner': 4, 'std_terskel': 0.03289624907725232}. Best is trial 2 with value: 1085.2602544171953.\n",
            "[I 2024-04-29 22:44:58,123] Trial 9 finished with value: 1130.71810742991 and parameters: {'n_estimators': 121, 'criterion': 'absolute_error', 'max_depth': 24, 'min_samples_leaf': 1, 'max_features': 0.40412332957460206, 'maks_iterasjoner': 13, 'std_terskel': 0.046390273576340825}. Best is trial 2 with value: 1085.2602544171953.\n",
            "[I 2024-04-29 22:45:02,394] Trial 10 finished with value: 1671.5616234707772 and parameters: {'n_estimators': 181, 'criterion': 'absolute_error', 'max_depth': 16, 'min_samples_leaf': 4, 'max_features': 0.4789749703510747, 'maks_iterasjoner': 20, 'std_terskel': 0.014754063072831811}. Best is trial 2 with value: 1085.2602544171953.\n",
            "[I 2024-04-29 22:45:08,739] Trial 11 finished with value: 1772.8724294020908 and parameters: {'n_estimators': 347, 'criterion': 'absolute_error', 'max_depth': 10, 'min_samples_leaf': 3, 'max_features': 0.14075383328137558, 'maks_iterasjoner': 15, 'std_terskel': 0.026848484147193465}. Best is trial 2 with value: 1085.2602544171953.\n",
            "[I 2024-04-29 22:45:13,198] Trial 12 finished with value: 1228.1674440522431 and parameters: {'n_estimators': 347, 'criterion': 'friedman_mse', 'max_depth': 10, 'min_samples_leaf': 2, 'max_features': 0.9556730792980365, 'maks_iterasjoner': 15, 'std_terskel': 0.026629176175529783}. Best is trial 2 with value: 1085.2602544171953.\n",
            "[I 2024-04-29 22:45:17,985] Trial 13 finished with value: 1234.4510659652626 and parameters: {'n_estimators': 282, 'criterion': 'friedman_mse', 'max_depth': 11, 'min_samples_leaf': 2, 'max_features': 0.9585623229176312, 'maks_iterasjoner': 16, 'std_terskel': 0.025113897080285125}. Best is trial 2 with value: 1085.2602544171953.\n",
            "[I 2024-04-29 22:45:22,205] Trial 14 finished with value: 1243.2068692344892 and parameters: {'n_estimators': 279, 'criterion': 'squared_error', 'max_depth': 29, 'min_samples_leaf': 2, 'max_features': 0.8293271162007079, 'maks_iterasjoner': 17, 'std_terskel': 0.020972726211833513}. Best is trial 2 with value: 1085.2602544171953.\n",
            "[I 2024-04-29 22:45:30,861] Trial 15 finished with value: 1237.9516153689144 and parameters: {'n_estimators': 397, 'criterion': 'squared_error', 'max_depth': 30, 'min_samples_leaf': 2, 'max_features': 0.7772717997858809, 'maks_iterasjoner': 17, 'std_terskel': 0.034400892778975845}. Best is trial 2 with value: 1085.2602544171953.\n",
            "[I 2024-04-29 22:45:33,783] Trial 16 finished with value: 1904.9058893055114 and parameters: {'n_estimators': 379, 'criterion': 'absolute_error', 'max_depth': 1, 'min_samples_leaf': 2, 'max_features': 0.7079272623718209, 'maks_iterasjoner': 12, 'std_terskel': 0.034186668145341305}. Best is trial 2 with value: 1085.2602544171953.\n",
            "[I 2024-04-29 22:45:37,026] Trial 17 finished with value: 1899.0810165383775 and parameters: {'n_estimators': 230, 'criterion': 'absolute_error', 'max_depth': 1, 'min_samples_leaf': 1, 'max_features': 0.6573914045412795, 'maks_iterasjoner': 12, 'std_terskel': 0.04069682526704928}. Best is trial 2 with value: 1085.2602544171953.\n",
            "[I 2024-04-29 22:45:43,854] Trial 19 finished with value: 1392.9221175399903 and parameters: {'n_estimators': 237, 'criterion': 'friedman_mse', 'max_depth': 13, 'min_samples_leaf': 3, 'max_features': 0.8700442136541648, 'maks_iterasjoner': 9, 'std_terskel': 0.02104042287534723}. Best is trial 2 with value: 1085.2602544171953.\n",
            "[I 2024-04-29 22:45:44,099] Trial 18 finished with value: 1080.3480872061364 and parameters: {'n_estimators': 233, 'criterion': 'absolute_error', 'max_depth': 14, 'min_samples_leaf': 1, 'max_features': 0.6144832976024992, 'maks_iterasjoner': 11, 'std_terskel': 0.04048934189734416}. Best is trial 18 with value: 1080.3480872061364.\n",
            "[I 2024-04-29 22:45:55,626] Trial 21 finished with value: 1462.997298080822 and parameters: {'n_estimators': 415, 'criterion': 'absolute_error', 'max_depth': 7, 'min_samples_leaf': 3, 'max_features': 0.6174323614339289, 'maks_iterasjoner': 7, 'std_terskel': 0.04055487514783057}. Best is trial 18 with value: 1080.3480872061364.\n",
            "[I 2024-04-29 22:45:59,251] Trial 20 finished with value: 1089.7979828812454 and parameters: {'n_estimators': 399, 'criterion': 'absolute_error', 'max_depth': 25, 'min_samples_leaf': 1, 'max_features': 0.6065314626146111, 'maks_iterasjoner': 18, 'std_terskel': 0.011556470399609494}. Best is trial 18 with value: 1080.3480872061364.\n",
            "[I 2024-04-29 22:46:03,306] Trial 22 finished with value: 1060.023142683177 and parameters: {'n_estimators': 214, 'criterion': 'absolute_error', 'max_depth': 14, 'min_samples_leaf': 1, 'max_features': 0.7579882878312906, 'maks_iterasjoner': 18, 'std_terskel': 0.030713656591798803}. Best is trial 22 with value: 1060.023142683177.\n",
            "[I 2024-04-29 22:46:10,655] Trial 23 finished with value: 1092.6820096769902 and parameters: {'n_estimators': 311, 'criterion': 'absolute_error', 'max_depth': 13, 'min_samples_leaf': 1, 'max_features': 0.5505044232058163, 'maks_iterasjoner': 18, 'std_terskel': 0.03090686998557842}. Best is trial 22 with value: 1060.023142683177.\n",
            "[I 2024-04-29 22:46:13,232] Trial 24 finished with value: 1257.3943811971012 and parameters: {'n_estimators': 306, 'criterion': 'absolute_error', 'max_depth': 13, 'min_samples_leaf': 2, 'max_features': 0.7443227907981425, 'maks_iterasjoner': 14, 'std_terskel': 0.029627367523668017}. Best is trial 22 with value: 1060.023142683177.\n",
            "[I 2024-04-29 22:46:19,092] Trial 25 finished with value: 1257.8072932610648 and parameters: {'n_estimators': 261, 'criterion': 'absolute_error', 'max_depth': 18, 'min_samples_leaf': 2, 'max_features': 0.7562587535149459, 'maks_iterasjoner': 14, 'std_terskel': 0.036910192124898766}. Best is trial 22 with value: 1060.023142683177.\n",
            "[I 2024-04-29 22:46:21,526] Trial 26 finished with value: 1252.5303217014769 and parameters: {'n_estimators': 260, 'criterion': 'absolute_error', 'max_depth': 18, 'min_samples_leaf': 2, 'max_features': 0.6444703772981573, 'maks_iterasjoner': 10, 'std_terskel': 0.03752007564032734}. Best is trial 22 with value: 1060.023142683177.\n",
            "[I 2024-04-29 22:46:26,584] Trial 27 finished with value: 1082.7028042437664 and parameters: {'n_estimators': 197, 'criterion': 'absolute_error', 'max_depth': 7, 'min_samples_leaf': 1, 'max_features': 0.6595225838709727, 'maks_iterasjoner': 11, 'std_terskel': 0.042078177945604346}. Best is trial 22 with value: 1060.023142683177.\n",
            "[I 2024-04-29 22:46:29,448] Trial 29 finished with value: 1610.1268112194082 and parameters: {'n_estimators': 103, 'criterion': 'absolute_error', 'max_depth': 7, 'min_samples_leaf': 4, 'max_features': 0.8933986605782085, 'maks_iterasjoner': 11, 'std_terskel': 0.04245525687063854}. Best is trial 22 with value: 1060.023142683177.\n",
            "[I 2024-04-29 22:46:31,038] Trial 28 finished with value: 1061.2061804617786 and parameters: {'n_estimators': 199, 'criterion': 'absolute_error', 'max_depth': 8, 'min_samples_leaf': 1, 'max_features': 0.8984231981529629, 'maks_iterasjoner': 11, 'std_terskel': 0.0423754929814165}. Best is trial 22 with value: 1060.023142683177.\n",
            "[I 2024-04-29 22:46:36,062] Trial 31 finished with value: 1090.9928316095773 and parameters: {'n_estimators': 134, 'criterion': 'squared_error', 'max_depth': 15, 'min_samples_leaf': 1, 'max_features': 0.9860960234448928, 'maks_iterasjoner': 7, 'std_terskel': 0.04370806431473284}. Best is trial 22 with value: 1060.023142683177.\n",
            "[I 2024-04-29 22:46:39,822] Trial 30 finished with value: 1091.2472267403634 and parameters: {'n_estimators': 206, 'criterion': 'absolute_error', 'max_depth': 8, 'min_samples_leaf': 1, 'max_features': 0.5661021595947429, 'maks_iterasjoner': 7, 'std_terskel': 0.048688984865863816}. Best is trial 22 with value: 1060.023142683177.\n",
            "[I 2024-04-29 22:46:44,532] Trial 32 finished with value: 1072.9361162641571 and parameters: {'n_estimators': 205, 'criterion': 'absolute_error', 'max_depth': 7, 'min_samples_leaf': 1, 'max_features': 0.784153203779866, 'maks_iterasjoner': 11, 'std_terskel': 0.04926339673620144}. Best is trial 22 with value: 1060.023142683177.\n",
            "[I 2024-04-29 22:46:47,270] Trial 33 finished with value: 1095.338151073025 and parameters: {'n_estimators': 189, 'criterion': 'absolute_error', 'max_depth': 6, 'min_samples_leaf': 1, 'max_features': 0.8045055199527864, 'maks_iterasjoner': 10, 'std_terskel': 0.04079720171196902}. Best is trial 22 with value: 1060.023142683177.\n",
            "[I 2024-04-29 22:46:51,403] Trial 34 finished with value: 1159.228245488247 and parameters: {'n_estimators': 158, 'criterion': 'absolute_error', 'max_depth': 4, 'min_samples_leaf': 1, 'max_features': 0.8074263042020992, 'maks_iterasjoner': 9, 'std_terskel': 0.04573873671631294}. Best is trial 22 with value: 1060.023142683177.\n",
            "[I 2024-04-29 22:46:54,388] Trial 35 finished with value: 1245.3558389083805 and parameters: {'n_estimators': 167, 'criterion': 'absolute_error', 'max_depth': 4, 'min_samples_leaf': 2, 'max_features': 0.9053838867592072, 'maks_iterasjoner': 9, 'std_terskel': 0.04931217303452659}. Best is trial 22 with value: 1060.023142683177.\n",
            "[I 2024-04-29 22:46:58,887] Trial 36 finished with value: 1214.1101575499797 and parameters: {'n_estimators': 224, 'criterion': 'absolute_error', 'max_depth': 9, 'min_samples_leaf': 2, 'max_features': 0.9055667467322551, 'maks_iterasjoner': 13, 'std_terskel': 0.0492396842672064}. Best is trial 22 with value: 1060.023142683177.\n",
            "[I 2024-04-29 22:47:03,657] Trial 37 finished with value: 1064.7602567072154 and parameters: {'n_estimators': 230, 'criterion': 'absolute_error', 'max_depth': 9, 'min_samples_leaf': 1, 'max_features': 0.7136512059511323, 'maks_iterasjoner': 13, 'std_terskel': 0.044692614709570075}. Best is trial 22 with value: 1060.023142683177.\n",
            "[I 2024-04-29 22:47:08,507] Trial 38 finished with value: 1084.3147247722272 and parameters: {'n_estimators': 255, 'criterion': 'poisson', 'max_depth': 15, 'min_samples_leaf': 1, 'max_features': 0.7125638538189515, 'maks_iterasjoner': 5, 'std_terskel': 0.04520747010144088}. Best is trial 22 with value: 1060.023142683177.\n",
            "[I 2024-04-29 22:47:14,105] Trial 40 finished with value: 1114.0190951304248 and parameters: {'n_estimators': 133, 'criterion': 'squared_error', 'max_depth': 11, 'min_samples_leaf': 1, 'max_features': 0.766036241461366, 'maks_iterasjoner': 13, 'std_terskel': 0.047109626818534055}. Best is trial 22 with value: 1060.023142683177.\n",
            "[I 2024-04-29 22:47:14,439] Trial 39 finished with value: 1058.7781357477459 and parameters: {'n_estimators': 252, 'criterion': 'poisson', 'max_depth': 12, 'min_samples_leaf': 1, 'max_features': 0.7818482767665802, 'maks_iterasjoner': 13, 'std_terskel': 0.04448699358358292}. Best is trial 39 with value: 1058.7781357477459.\n",
            "[I 2024-04-29 22:47:19,915] Trial 41 finished with value: 1518.4669318071126 and parameters: {'n_estimators': 174, 'criterion': 'poisson', 'max_depth': 5, 'min_samples_leaf': 4, 'max_features': 0.8526580032252631, 'maks_iterasjoner': 8, 'std_terskel': 0.044223643030695155}. Best is trial 39 with value: 1058.7781357477459.\n",
            "[I 2024-04-29 22:47:22,947] Trial 42 finished with value: 1059.8191431264484 and parameters: {'n_estimators': 211, 'criterion': 'poisson', 'max_depth': 12, 'min_samples_leaf': 1, 'max_features': 0.8605550191969371, 'maks_iterasjoner': 12, 'std_terskel': 0.04383237611036967}. Best is trial 39 with value: 1058.7781357477459.\n",
            "[I 2024-04-29 22:47:27,693] Trial 43 finished with value: 1071.8241178245762 and parameters: {'n_estimators': 215, 'criterion': 'poisson', 'max_depth': 12, 'min_samples_leaf': 1, 'max_features': 0.717474396619249, 'maks_iterasjoner': 12, 'std_terskel': 0.04729955175618293}. Best is trial 39 with value: 1058.7781357477459.\n",
            "[I 2024-04-29 22:47:32,342] Trial 44 finished with value: 1060.4316101751929 and parameters: {'n_estimators': 248, 'criterion': 'poisson', 'max_depth': 12, 'min_samples_leaf': 1, 'max_features': 0.9398935610371052, 'maks_iterasjoner': 15, 'std_terskel': 0.03910924648870339}. Best is trial 39 with value: 1058.7781357477459.\n",
            "[I 2024-04-29 22:47:36,903] Trial 45 finished with value: 1042.969696255088 and parameters: {'n_estimators': 283, 'criterion': 'poisson', 'max_depth': 9, 'min_samples_leaf': 1, 'max_features': 0.9292439419639699, 'maks_iterasjoner': 15, 'std_terskel': 0.03608148679596715}. Best is trial 45 with value: 1042.969696255088.\n",
            "[I 2024-04-29 22:47:43,808] Trial 46 finished with value: 1062.5773790279693 and parameters: {'n_estimators': 285, 'criterion': 'poisson', 'max_depth': 18, 'min_samples_leaf': 1, 'max_features': 0.9332849176835524, 'maks_iterasjoner': 15, 'std_terskel': 0.03629126830037621}. Best is trial 45 with value: 1042.969696255088.\n",
            "[I 2024-04-29 22:47:46,568] Trial 47 finished with value: 1701.7255906702867 and parameters: {'n_estimators': 329, 'criterion': 'poisson', 'max_depth': 21, 'min_samples_leaf': 5, 'max_features': 0.9398989516122069, 'maks_iterasjoner': 16, 'std_terskel': 0.03627291231997382}. Best is trial 45 with value: 1042.969696255088.\n",
            "[I 2024-04-29 22:47:51,391] Trial 48 finished with value: 1708.0665431090335 and parameters: {'n_estimators': 252, 'criterion': 'poisson', 'max_depth': 21, 'min_samples_leaf': 5, 'max_features': 0.9953624528055506, 'maks_iterasjoner': 16, 'std_terskel': 0.038670233852521406}. Best is trial 45 with value: 1042.969696255088.\n",
            "[I 2024-04-29 22:47:53,407] Trial 49 finished with value: 1188.0115054850007 and parameters: {'n_estimators': 252, 'criterion': 'poisson', 'max_depth': 16, 'min_samples_leaf': 2, 'max_features': 0.9935559148389396, 'maks_iterasjoner': 16, 'std_terskel': 0.03875742639467357}. Best is trial 45 with value: 1042.969696255088.\n",
            "[I 2024-04-29 22:47:54,187] A new study created in memory with name: no-name-089916fb-8236-4ce3-8d7d-09ed6195eb91\n",
            "[I 2024-04-29 22:47:55,115] Trial 0 finished with value: 1418.161160531546 and parameters: {'k': 75, 'graf_vektet_harmonic': False, 'initiell_respons': 'domain_median', 'alpha': 0.004, 'maks_iterasjoner_harmonic': 54, 'maks_iterasjoner_heat': 65}. Best is trial 0 with value: 1418.161160531546.\n",
            "[I 2024-04-29 22:47:55,323] Trial 1 finished with value: 1439.1407758022874 and parameters: {'k': 99, 'graf_vektet_harmonic': False, 'initiell_respons': 'domain_median', 'alpha': 0.337, 'maks_iterasjoner_harmonic': 86, 'maks_iterasjoner_heat': 46}. Best is trial 0 with value: 1418.161160531546.\n",
            "[I 2024-04-29 22:47:56,200] Trial 2 finished with value: 2161.999634933064 and parameters: {'k': 93, 'graf_vektet_harmonic': True, 'initiell_respons': 'domain_mean', 'alpha': 0.836, 'maks_iterasjoner_harmonic': 70, 'maks_iterasjoner_heat': 84}. Best is trial 0 with value: 1418.161160531546.\n",
            "[I 2024-04-29 22:47:56,343] Trial 3 finished with value: 2081.6727102239315 and parameters: {'k': 81, 'graf_vektet_harmonic': True, 'initiell_respons': 'domain_median', 'alpha': 0.687, 'maks_iterasjoner_harmonic': 74, 'maks_iterasjoner_heat': 25}. Best is trial 0 with value: 1418.161160531546.\n",
            "[I 2024-04-29 22:47:57,334] Trial 4 finished with value: 1431.552557757535 and parameters: {'k': 109, 'graf_vektet_harmonic': False, 'initiell_respons': 'domain_mean', 'alpha': 0.71, 'maks_iterasjoner_harmonic': 45, 'maks_iterasjoner_heat': 83}. Best is trial 0 with value: 1418.161160531546.\n",
            "[I 2024-04-29 22:47:57,469] Trial 5 finished with value: 1780.2045392805671 and parameters: {'k': 121, 'graf_vektet_harmonic': True, 'initiell_respons': 'domain_mean', 'alpha': 0.52, 'maks_iterasjoner_harmonic': 91, 'maks_iterasjoner_heat': 25}. Best is trial 0 with value: 1418.161160531546.\n",
            "[I 2024-04-29 22:47:58,453] Trial 6 finished with value: 1523.856526203507 and parameters: {'k': 93, 'graf_vektet_harmonic': False, 'initiell_respons': 'domain_median', 'alpha': 0.742, 'maks_iterasjoner_harmonic': 63, 'maks_iterasjoner_heat': 74}. Best is trial 0 with value: 1418.161160531546.\n",
            "[I 2024-04-29 22:47:58,514] Trial 7 finished with value: 2418.4808991263913 and parameters: {'k': 77, 'graf_vektet_harmonic': True, 'initiell_respons': 'domain_median', 'alpha': 0.979, 'maks_iterasjoner_harmonic': 3, 'maks_iterasjoner_heat': 94}. Best is trial 0 with value: 1418.161160531546.\n",
            "[I 2024-04-29 22:47:59,627] Trial 8 finished with value: 2316.958702467161 and parameters: {'k': 83, 'graf_vektet_harmonic': True, 'initiell_respons': 'domain_mean', 'alpha': 0.976, 'maks_iterasjoner_harmonic': 15, 'maks_iterasjoner_heat': 74}. Best is trial 0 with value: 1418.161160531546.\n",
            "[I 2024-04-29 22:47:59,703] Trial 9 finished with value: 1314.2602169450604 and parameters: {'k': 101, 'graf_vektet_harmonic': True, 'initiell_respons': 'domain_mean', 'alpha': 0.129, 'maks_iterasjoner_harmonic': 75, 'maks_iterasjoner_heat': 52}. Best is trial 9 with value: 1314.2602169450604.\n",
            "[I 2024-04-29 22:48:00,634] Trial 11 finished with value: 1281.5115316232286 and parameters: {'k': 64, 'graf_vektet_harmonic': True, 'initiell_respons': 'domain_mean', 'alpha': 0.006, 'maks_iterasjoner_harmonic': 37, 'maks_iterasjoner_heat': 5}. Best is trial 11 with value: 1281.5115316232286.\n",
            "[I 2024-04-29 22:48:00,808] Trial 10 finished with value: 1282.0284312478545 and parameters: {'k': 92, 'graf_vektet_harmonic': False, 'initiell_respons': 'domain_mean', 'alpha': 0.025, 'maks_iterasjoner_harmonic': 81, 'maks_iterasjoner_heat': 38}. Best is trial 11 with value: 1281.5115316232286.\n",
            "[I 2024-04-29 22:48:01,555] Trial 12 finished with value: 1280.6564834613487 and parameters: {'k': 62, 'graf_vektet_harmonic': True, 'initiell_respons': 'domain_mean', 'alpha': 0.01, 'maks_iterasjoner_harmonic': 34, 'maks_iterasjoner_heat': 5}. Best is trial 12 with value: 1280.6564834613487.\n",
            "[I 2024-04-29 22:48:02,024] Trial 13 finished with value: 1291.252007759579 and parameters: {'k': 62, 'graf_vektet_harmonic': False, 'initiell_respons': 'domain_mean', 'alpha': 0.231, 'maks_iterasjoner_harmonic': 35, 'maks_iterasjoner_heat': 2}. Best is trial 12 with value: 1280.6564834613487.\n",
            "[I 2024-04-29 22:48:02,656] Trial 14 finished with value: 1439.6847420076242 and parameters: {'k': 64, 'graf_vektet_harmonic': True, 'initiell_respons': 'domain_mean', 'alpha': 0.247, 'maks_iterasjoner_harmonic': 33, 'maks_iterasjoner_heat': 3}. Best is trial 12 with value: 1280.6564834613487.\n",
            "[I 2024-04-29 22:48:03,135] Trial 15 finished with value: 1630.407966828066 and parameters: {'k': 65, 'graf_vektet_harmonic': True, 'initiell_respons': 'domain_mean', 'alpha': 0.387, 'maks_iterasjoner_harmonic': 28, 'maks_iterasjoner_heat': 4}. Best is trial 12 with value: 1280.6564834613487.\n",
            "[I 2024-04-29 22:48:03,643] Trial 16 finished with value: 1714.5360886229337 and parameters: {'k': 69, 'graf_vektet_harmonic': True, 'initiell_respons': 'domain_mean', 'alpha': 0.467, 'maks_iterasjoner_harmonic': 23, 'maks_iterasjoner_heat': 22}. Best is trial 12 with value: 1280.6564834613487.\n",
            "[I 2024-04-29 22:48:04,178] Trial 17 finished with value: 1322.3570513634422 and parameters: {'k': 71, 'graf_vektet_harmonic': True, 'initiell_respons': 'domain_mean', 'alpha': 0.139, 'maks_iterasjoner_harmonic': 21, 'maks_iterasjoner_heat': 18}. Best is trial 12 with value: 1280.6564834613487.\n",
            "[I 2024-04-29 22:48:04,658] Trial 18 finished with value: 1318.6030179015902 and parameters: {'k': 71, 'graf_vektet_harmonic': True, 'initiell_respons': 'domain_mean', 'alpha': 0.134, 'maks_iterasjoner_harmonic': 54, 'maks_iterasjoner_heat': 10}. Best is trial 12 with value: 1280.6564834613487.\n",
            "[I 2024-04-29 22:48:05,299] Trial 19 finished with value: 1305.8180368545754 and parameters: {'k': 85, 'graf_vektet_harmonic': True, 'initiell_respons': 'domain_mean', 'alpha': 0.115, 'maks_iterasjoner_harmonic': 43, 'maks_iterasjoner_heat': 13}. Best is trial 12 with value: 1280.6564834613487.\n",
            "[I 2024-04-29 22:48:05,729] Trial 20 finished with value: 1850.7043563739937 and parameters: {'k': 86, 'graf_vektet_harmonic': True, 'initiell_respons': 'domain_mean', 'alpha': 0.5730000000000001, 'maks_iterasjoner_harmonic': 43, 'maks_iterasjoner_heat': 39}. Best is trial 12 with value: 1280.6564834613487.\n",
            "[I 2024-04-29 22:48:06,305] Trial 21 finished with value: 1434.06033016552 and parameters: {'k': 120, 'graf_vektet_harmonic': True, 'initiell_respons': 'domain_mean', 'alpha': 0.254, 'maks_iterasjoner_harmonic': 40, 'maks_iterasjoner_heat': 40}. Best is trial 12 with value: 1280.6564834613487.\n",
            "[I 2024-04-29 22:48:06,756] Trial 22 finished with value: 1283.166200784734 and parameters: {'k': 121, 'graf_vektet_harmonic': False, 'initiell_respons': 'domain_mean', 'alpha': 0.016, 'maks_iterasjoner_harmonic': 12, 'maks_iterasjoner_heat': 35}. Best is trial 12 with value: 1280.6564834613487.\n",
            "[I 2024-04-29 22:48:07,451] Trial 23 finished with value: 1282.9833580472375 and parameters: {'k': 113, 'graf_vektet_harmonic': False, 'initiell_respons': 'domain_mean', 'alpha': 0.005, 'maks_iterasjoner_harmonic': 96, 'maks_iterasjoner_heat': 29}. Best is trial 12 with value: 1280.6564834613487.\n",
            "[I 2024-04-29 22:48:07,846] Trial 24 finished with value: 1283.0144880397334 and parameters: {'k': 112, 'graf_vektet_harmonic': False, 'initiell_respons': 'domain_mean', 'alpha': 0.003, 'maks_iterasjoner_harmonic': 59, 'maks_iterasjoner_heat': 57}. Best is trial 12 with value: 1280.6564834613487.\n",
            "[I 2024-04-29 22:48:08,465] Trial 25 finished with value: 1279.3283764755902 and parameters: {'k': 68, 'graf_vektet_harmonic': False, 'initiell_respons': 'domain_mean', 'alpha': 0.076, 'maks_iterasjoner_harmonic': 58, 'maks_iterasjoner_heat': 57}. Best is trial 25 with value: 1279.3283764755902.\n",
            "[I 2024-04-29 22:48:08,912] Trial 26 finished with value: 1280.5826600774112 and parameters: {'k': 77, 'graf_vektet_harmonic': False, 'initiell_respons': 'domain_mean', 'alpha': 0.079, 'maks_iterasjoner_harmonic': 81, 'maks_iterasjoner_heat': 15}. Best is trial 25 with value: 1279.3283764755902.\n",
            "[I 2024-04-29 22:48:09,490] Trial 27 finished with value: 1408.628804749147 and parameters: {'k': 68, 'graf_vektet_harmonic': False, 'initiell_respons': 'domain_median', 'alpha': 0.19, 'maks_iterasjoner_harmonic': 64, 'maks_iterasjoner_heat': 60}. Best is trial 25 with value: 1279.3283764755902.\n",
            "[I 2024-04-29 22:48:10,058] Trial 28 finished with value: 1412.8573501139645 and parameters: {'k': 77, 'graf_vektet_harmonic': False, 'initiell_respons': 'domain_median', 'alpha': 0.20600000000000002, 'maks_iterasjoner_harmonic': 68, 'maks_iterasjoner_heat': 65}. Best is trial 25 with value: 1279.3283764755902.\n",
            "[I 2024-04-29 22:48:10,663] Trial 29 finished with value: 1320.9452294406358 and parameters: {'k': 76, 'graf_vektet_harmonic': False, 'initiell_respons': 'domain_mean', 'alpha': 0.361, 'maks_iterasjoner_harmonic': 83, 'maks_iterasjoner_heat': 14}. Best is trial 25 with value: 1279.3283764755902.\n",
            "[I 2024-04-29 22:48:11,268] Trial 30 finished with value: 1309.2410769553408 and parameters: {'k': 74, 'graf_vektet_harmonic': False, 'initiell_respons': 'domain_mean', 'alpha': 0.314, 'maks_iterasjoner_harmonic': 49, 'maks_iterasjoner_heat': 14}. Best is trial 25 with value: 1279.3283764755902.\n",
            "[I 2024-04-29 22:48:11,826] Trial 31 finished with value: 1279.9565382052683 and parameters: {'k': 72, 'graf_vektet_harmonic': False, 'initiell_respons': 'domain_mean', 'alpha': 0.08, 'maks_iterasjoner_harmonic': 51, 'maks_iterasjoner_heat': 47}. Best is trial 25 with value: 1279.3283764755902.\n",
            "[I 2024-04-29 22:48:12,438] Trial 32 finished with value: 1278.3838592993748 and parameters: {'k': 62, 'graf_vektet_harmonic': False, 'initiell_respons': 'domain_mean', 'alpha': 0.078, 'maks_iterasjoner_harmonic': 53, 'maks_iterasjoner_heat': 7}. Best is trial 32 with value: 1278.3838592993748.\n",
            "[I 2024-04-29 22:48:13,113] Trial 33 finished with value: 1279.2672456912167 and parameters: {'k': 67, 'graf_vektet_harmonic': False, 'initiell_respons': 'domain_mean', 'alpha': 0.07200000000000001, 'maks_iterasjoner_harmonic': 56, 'maks_iterasjoner_heat': 49}. Best is trial 32 with value: 1278.3838592993748.\n",
            "[I 2024-04-29 22:48:13,672] Trial 34 finished with value: 1279.3316500146484 and parameters: {'k': 67, 'graf_vektet_harmonic': False, 'initiell_respons': 'domain_mean', 'alpha': 0.08700000000000001, 'maks_iterasjoner_harmonic': 56, 'maks_iterasjoner_heat': 50}. Best is trial 32 with value: 1278.3838592993748.\n",
            "[I 2024-04-29 22:48:14,255] Trial 35 finished with value: 1407.757707462618 and parameters: {'k': 67, 'graf_vektet_harmonic': False, 'initiell_respons': 'domain_median', 'alpha': 0.17500000000000002, 'maks_iterasjoner_harmonic': 53, 'maks_iterasjoner_heat': 54}. Best is trial 32 with value: 1278.3838592993748.\n",
            "[I 2024-04-29 22:48:14,753] Trial 36 finished with value: 1408.110027802469 and parameters: {'k': 67, 'graf_vektet_harmonic': False, 'initiell_respons': 'domain_median', 'alpha': 0.184, 'maks_iterasjoner_harmonic': 63, 'maks_iterasjoner_heat': 53}. Best is trial 32 with value: 1278.3838592993748.\n",
            "[I 2024-04-29 22:48:15,267] Trial 37 finished with value: 1299.2877357083432 and parameters: {'k': 67, 'graf_vektet_harmonic': False, 'initiell_respons': 'domain_mean', 'alpha': 0.281, 'maks_iterasjoner_harmonic': 58, 'maks_iterasjoner_heat': 47}. Best is trial 32 with value: 1278.3838592993748.\n",
            "[I 2024-04-29 22:48:15,801] Trial 38 finished with value: 1308.7983771075506 and parameters: {'k': 80, 'graf_vektet_harmonic': False, 'initiell_respons': 'domain_mean', 'alpha': 0.306, 'maks_iterasjoner_harmonic': 59, 'maks_iterasjoner_heat': 70}. Best is trial 32 with value: 1278.3838592993748.\n",
            "[I 2024-04-29 22:48:16,407] Trial 39 finished with value: 1281.9420825773104 and parameters: {'k': 88, 'graf_vektet_harmonic': False, 'initiell_respons': 'domain_mean', 'alpha': 0.075, 'maks_iterasjoner_harmonic': 72, 'maks_iterasjoner_heat': 71}. Best is trial 32 with value: 1278.3838592993748.\n",
            "[I 2024-04-29 22:48:16,916] Trial 40 finished with value: 1337.2866659002952 and parameters: {'k': 89, 'graf_vektet_harmonic': False, 'initiell_respons': 'domain_mean', 'alpha': 0.40700000000000003, 'maks_iterasjoner_harmonic': 71, 'maks_iterasjoner_heat': 83}. Best is trial 32 with value: 1278.3838592993748.\n",
            "[I 2024-04-29 22:48:17,458] Trial 41 finished with value: 1413.8052502452945 and parameters: {'k': 101, 'graf_vektet_harmonic': False, 'initiell_respons': 'domain_median', 'alpha': 0.081, 'maks_iterasjoner_harmonic': 46, 'maks_iterasjoner_heat': 84}. Best is trial 32 with value: 1278.3838592993748.\n",
            "[I 2024-04-29 22:48:17,941] Trial 42 finished with value: 1279.9216249039591 and parameters: {'k': 72, 'graf_vektet_harmonic': False, 'initiell_respons': 'domain_mean', 'alpha': 0.077, 'maks_iterasjoner_harmonic': 48, 'maks_iterasjoner_heat': 45}. Best is trial 32 with value: 1278.3838592993748.\n",
            "[I 2024-04-29 22:48:18,560] Trial 43 finished with value: 1280.4591809870435 and parameters: {'k': 72, 'graf_vektet_harmonic': False, 'initiell_respons': 'domain_mean', 'alpha': 0.1, 'maks_iterasjoner_harmonic': 50, 'maks_iterasjoner_heat': 45}. Best is trial 32 with value: 1278.3838592993748.\n",
            "[I 2024-04-29 22:48:18,979] Trial 44 finished with value: 1279.9115102816188 and parameters: {'k': 73, 'graf_vektet_harmonic': False, 'initiell_respons': 'domain_mean', 'alpha': 0.064, 'maks_iterasjoner_harmonic': 57, 'maks_iterasjoner_heat': 62}. Best is trial 32 with value: 1278.3838592993748.\n",
            "[I 2024-04-29 22:48:19,698] Trial 45 finished with value: 1280.2140221901454 and parameters: {'k': 74, 'graf_vektet_harmonic': False, 'initiell_respons': 'domain_mean', 'alpha': 0.053, 'maks_iterasjoner_harmonic': 57, 'maks_iterasjoner_heat': 62}. Best is trial 32 with value: 1278.3838592993748.\n",
            "[I 2024-04-29 22:48:20,006] Trial 46 finished with value: 1281.2421352649674 and parameters: {'k': 62, 'graf_vektet_harmonic': False, 'initiell_respons': 'domain_mean', 'alpha': 0.159, 'maks_iterasjoner_harmonic': 66, 'maks_iterasjoner_heat': 62}. Best is trial 32 with value: 1278.3838592993748.\n",
            "[I 2024-04-29 22:48:20,880] Trial 47 finished with value: 1285.8810628276021 and parameters: {'k': 81, 'graf_vektet_harmonic': False, 'initiell_respons': 'domain_mean', 'alpha': 0.155, 'maks_iterasjoner_harmonic': 66, 'maks_iterasjoner_heat': 78}. Best is trial 32 with value: 1278.3838592993748.\n",
            "[I 2024-04-29 22:48:21,068] Trial 48 finished with value: 1450.5445670048323 and parameters: {'k': 79, 'graf_vektet_harmonic': False, 'initiell_respons': 'domain_mean', 'alpha': 0.895, 'maks_iterasjoner_harmonic': 77, 'maks_iterasjoner_heat': 77}. Best is trial 32 with value: 1278.3838592993748.\n",
            "[I 2024-04-29 22:48:21,410] Trial 49 finished with value: 1370.581821329412 and parameters: {'k': 65, 'graf_vektet_harmonic': False, 'initiell_respons': 'domain_mean', 'alpha': 0.621, 'maks_iterasjoner_harmonic': 78, 'maks_iterasjoner_heat': 94}. Best is trial 32 with value: 1278.3838592993748.\n",
            "[I 2024-04-29 22:48:57,244] A new study created in memory with name: no-name-7a4b8fef-21cf-4229-b44a-29679fe9bf52\n",
            "[I 2024-04-29 22:49:19,639] Trial 1 finished with value: 1282.3391430104546 and parameters: {'k1': 8, 'k2': 9, 'p1': 5, 'p2': 9, 'max_iters': 3, 'pool_size': 19}. Best is trial 1 with value: 1282.3391430104546.\n",
            "[I 2024-04-29 22:53:15,442] Trial 0 finished with value: 661.6290490666414 and parameters: {'k1': 3, 'k2': 3, 'p1': 1, 'p2': 5, 'max_iters': 49, 'pool_size': 54}. Best is trial 0 with value: 661.6290490666414.\n",
            "[I 2024-04-29 22:54:13,802] Trial 2 finished with value: 894.0755258743449 and parameters: {'k1': 6, 'k2': 8, 'p1': 3, 'p2': 7, 'max_iters': 46, 'pool_size': 23}. Best is trial 0 with value: 661.6290490666414.\n",
            "[I 2024-04-29 22:58:41,091] Trial 3 finished with value: 1104.6304222167303 and parameters: {'k1': 8, 'k2': 9, 'p1': 8, 'p2': 10, 'max_iters': 25, 'pool_size': 41}. Best is trial 0 with value: 661.6290490666414.\n",
            "[I 2024-04-29 23:01:21,059] Trial 4 finished with value: 804.8019255059377 and parameters: {'k1': 6, 'k2': 5, 'p1': 4, 'p2': 3, 'max_iters': 16, 'pool_size': 100}. Best is trial 0 with value: 661.6290490666414.\n",
            "[I 2024-04-29 23:02:59,500] Trial 6 finished with value: 646.720150285987 and parameters: {'k1': 2, 'k2': 5, 'p1': 5, 'p2': 9, 'max_iters': 15, 'pool_size': 19}. Best is trial 6 with value: 646.720150285987.\n",
            "[I 2024-04-29 23:03:01,759] Trial 5 finished with value: 890.3375517045564 and parameters: {'k1': 5, 'k2': 10, 'p1': 2, 'p2': 2, 'max_iters': 32, 'pool_size': 50}. Best is trial 6 with value: 646.720150285987.\n",
            "[I 2024-04-29 23:04:13,304] Trial 7 finished with value: 994.7999208641426 and parameters: {'k1': 5, 'k2': 9, 'p1': 10, 'p2': 2, 'max_iters': 8, 'pool_size': 48}. Best is trial 6 with value: 646.720150285987.\n",
            "[I 2024-04-29 23:09:54,440] Trial 8 finished with value: 810.4277528289028 and parameters: {'k1': 8, 'k2': 4, 'p1': 6, 'p2': 5, 'max_iters': 50, 'pool_size': 37}. Best is trial 6 with value: 646.720150285987.\n",
            "[I 2024-04-29 23:15:13,499] Trial 9 finished with value: 774.8850663985797 and parameters: {'k1': 10, 'k2': 2, 'p1': 8, 'p2': 1, 'max_iters': 49, 'pool_size': 82}. Best is trial 6 with value: 646.720150285987.\n",
            "[I 2024-04-29 23:15:15,708] Trial 11 finished with value: 742.6654912449376 and parameters: {'k1': 1, 'k2': 6, 'p1': 7, 'p2': 8, 'max_iters': 17, 'pool_size': 2}. Best is trial 6 with value: 646.720150285987.\n",
            "[I 2024-04-29 23:17:50,877] Trial 12 finished with value: 605.6041507502872 and parameters: {'k1': 2, 'k2': 1, 'p1': 1, 'p2': 5, 'max_iters': 34, 'pool_size': 67}. Best is trial 12 with value: 605.6041507502872.\n",
            "[I 2024-04-29 23:17:54,790] Trial 13 finished with value: 655.2889006692551 and parameters: {'k1': 1, 'k2': 1, 'p1': 1, 'p2': 6, 'max_iters': 36, 'pool_size': 69}. Best is trial 12 with value: 605.6041507502872.\n",
            "[I 2024-04-29 23:18:47,874] Trial 10 finished with value: 806.3746453848862 and parameters: {'k1': 3, 'k2': 8, 'p1': 1, 'p2': 3, 'max_iters': 27, 'pool_size': 98}. Best is trial 12 with value: 605.6041507502872.\n",
            "[I 2024-04-29 23:22:09,727] Trial 15 finished with value: 734.5053024747361 and parameters: {'k1': 3, 'k2': 6, 'p1': 4, 'p2': 7, 'max_iters': 16, 'pool_size': 70}. Best is trial 12 with value: 605.6041507502872.\n",
            "[I 2024-04-29 23:23:08,175] Trial 14 finished with value: 687.0961790596235 and parameters: {'k1': 3, 'k2': 6, 'p1': 4, 'p2': 4, 'max_iters': 24, 'pool_size': 69}. Best is trial 12 with value: 605.6041507502872.\n",
            "[I 2024-04-29 23:23:17,439] Trial 17 finished with value: 616.4404529154717 and parameters: {'k1': 2, 'k2': 1, 'p1': 10, 'p2': 10, 'max_iters': 36, 'pool_size': 6}. Best is trial 12 with value: 605.6041507502872.\n",
            "[I 2024-04-29 23:23:47,431] Trial 18 finished with value: 647.3830056523514 and parameters: {'k1': 4, 'k2': 1, 'p1': 9, 'p2': 6, 'max_iters': 40, 'pool_size': 7}. Best is trial 12 with value: 605.6041507502872.\n",
            "[I 2024-04-29 23:25:34,647] Trial 16 finished with value: 617.2496872541949 and parameters: {'k1': 2, 'k2': 1, 'p1': 10, 'p2': 10, 'max_iters': 38, 'pool_size': 66}. Best is trial 12 with value: 605.6041507502872.\n",
            "[I 2024-04-29 23:29:28,661] Trial 19 finished with value: 619.7797488936623 and parameters: {'k1': 1, 'k2': 3, 'p1': 10, 'p2': 10, 'max_iters': 40, 'pool_size': 80}. Best is trial 12 with value: 605.6041507502872.\n",
            "[I 2024-04-29 23:31:39,185] Trial 20 finished with value: 613.5535446056975 and parameters: {'k1': 1, 'k2': 3, 'p1': 7, 'p2': 7, 'max_iters': 42, 'pool_size': 83}. Best is trial 12 with value: 605.6041507502872.\n",
            "[I 2024-04-29 23:32:08,231] Trial 21 finished with value: 628.3905760029015 and parameters: {'k1': 4, 'k2': 2, 'p1': 6, 'p2': 7, 'max_iters': 32, 'pool_size': 35}. Best is trial 12 with value: 605.6041507502872.\n",
            "[I 2024-04-29 23:36:00,683] Trial 22 finished with value: 614.1671455611697 and parameters: {'k1': 2, 'k2': 2, 'p1': 7, 'p2': 8, 'max_iters': 32, 'pool_size': 88}. Best is trial 12 with value: 605.6041507502872.\n",
            "[I 2024-04-29 23:36:47,621] Trial 23 finished with value: 608.7195134411304 and parameters: {'k1': 2, 'k2': 2, 'p1': 7, 'p2': 8, 'max_iters': 43, 'pool_size': 88}. Best is trial 12 with value: 605.6041507502872.\n",
            "[I 2024-04-29 23:42:41,103] Trial 24 finished with value: 616.2987817305425 and parameters: {'k1': 1, 'k2': 3, 'p1': 7, 'p2': 8, 'max_iters': 43, 'pool_size': 87}. Best is trial 12 with value: 605.6041507502872.\n",
            "[I 2024-04-29 23:43:29,378] Trial 25 finished with value: 615.6567897525929 and parameters: {'k1': 1, 'k2': 3, 'p1': 7, 'p2': 8, 'max_iters': 44, 'pool_size': 89}. Best is trial 12 with value: 605.6041507502872.\n",
            "[I 2024-04-29 23:49:29,939] Trial 26 finished with value: 722.7075648170495 and parameters: {'k1': 4, 'k2': 4, 'p1': 7, 'p2': 6, 'max_iters': 45, 'pool_size': 60}. Best is trial 12 with value: 605.6041507502872.\n",
            "[I 2024-04-29 23:50:20,154] Trial 27 finished with value: 732.5872621092798 and parameters: {'k1': 4, 'k2': 4, 'p1': 8, 'p2': 6, 'max_iters': 42, 'pool_size': 59}. Best is trial 12 with value: 605.6041507502872.\n",
            "[I 2024-04-29 23:53:18,164] Trial 28 finished with value: 597.7184609811837 and parameters: {'k1': 2, 'k2': 2, 'p1': 8, 'p2': 4, 'max_iters': 28, 'pool_size': 78}. Best is trial 28 with value: 597.7184609811837.\n",
            "[I 2024-04-29 23:54:13,252] Trial 29 finished with value: 584.3862851873084 and parameters: {'k1': 2, 'k2': 2, 'p1': 6, 'p2': 4, 'max_iters': 28, 'pool_size': 77}. Best is trial 29 with value: 584.3862851873084.\n",
            "[I 2024-04-29 23:56:46,648] Trial 31 finished with value: 610.077520971157 and parameters: {'k1': 3, 'k2': 2, 'p1': 2, 'p2': 4, 'max_iters': 21, 'pool_size': 74}. Best is trial 29 with value: 584.3862851873084.\n",
            "[I 2024-04-29 23:56:57,679] Trial 30 finished with value: 598.1788985525651 and parameters: {'k1': 2, 'k2': 2, 'p1': 9, 'p2': 4, 'max_iters': 22, 'pool_size': 78}. Best is trial 29 with value: 584.3862851873084.\n",
            "[I 2024-04-30 00:00:18,560] Trial 33 finished with value: 608.8599336358511 and parameters: {'k1': 2, 'k2': 1, 'p1': 9, 'p2': 4, 'max_iters': 29, 'pool_size': 76}. Best is trial 29 with value: 584.3862851873084.\n",
            "[I 2024-04-30 00:00:53,768] Trial 32 finished with value: 595.0723602459227 and parameters: {'k1': 2, 'k2': 2, 'p1': 6, 'p2': 5, 'max_iters': 29, 'pool_size': 75}. Best is trial 29 with value: 584.3862851873084.\n",
            "[I 2024-04-30 00:03:00,074] Trial 34 finished with value: 620.1957032637349 and parameters: {'k1': 3, 'k2': 2, 'p1': 9, 'p2': 5, 'max_iters': 21, 'pool_size': 62}. Best is trial 29 with value: 584.3862851873084.\n",
            "[I 2024-04-30 00:05:39,166] Trial 35 finished with value: 799.2386234437837 and parameters: {'k1': 7, 'k2': 4, 'p1': 9, 'p2': 3, 'max_iters': 21, 'pool_size': 61}. Best is trial 29 with value: 584.3862851873084.\n",
            "[I 2024-04-30 00:09:45,239] Trial 36 finished with value: 660.3461819098262 and parameters: {'k1': 4, 'k2': 3, 'p1': 6, 'p2': 3, 'max_iters': 29, 'pool_size': 93}. Best is trial 29 with value: 584.3862851873084.\n",
            "[I 2024-04-30 00:11:16,476] Trial 37 finished with value: 645.7056324474768 and parameters: {'k1': 3, 'k2': 3, 'p1': 6, 'p2': 4, 'max_iters': 27, 'pool_size': 94}. Best is trial 29 with value: 584.3862851873084.\n",
            "[I 2024-04-30 00:13:29,606] Trial 38 finished with value: 871.6740836329367 and parameters: {'k1': 5, 'k2': 7, 'p1': 5, 'p2': 4, 'max_iters': 11, 'pool_size': 77}. Best is trial 29 with value: 584.3862851873084.\n",
            "[I 2024-04-30 00:13:47,838] Trial 39 finished with value: 787.7451422434581 and parameters: {'k1': 5, 'k2': 5, 'p1': 5, 'p2': 2, 'max_iters': 12, 'pool_size': 75}. Best is trial 29 with value: 584.3862851873084.\n",
            "[I 2024-04-30 00:16:43,660] Trial 40 finished with value: 787.3263458020052 and parameters: {'k1': 6, 'k2': 5, 'p1': 8, 'p2': 2, 'max_iters': 23, 'pool_size': 46}. Best is trial 29 with value: 584.3862851873084.\n",
            "[I 2024-04-30 00:19:23,488] Trial 42 finished with value: 595.799944872706 and parameters: {'k1': 2, 'k2': 1, 'p1': 3, 'p2': 5, 'max_iters': 34, 'pool_size': 54}. Best is trial 29 with value: 584.3862851873084.\n",
            "[I 2024-04-30 00:19:37,174] Trial 41 finished with value: 781.1365377516356 and parameters: {'k1': 10, 'k2': 2, 'p1': 8, 'p2': 3, 'max_iters': 24, 'pool_size': 54}. Best is trial 29 with value: 584.3862851873084.\n",
            "[I 2024-04-30 00:20:55,867] Trial 43 finished with value: 605.3348979572025 and parameters: {'k1': 2, 'k2': 2, 'p1': 3, 'p2': 5, 'max_iters': 30, 'pool_size': 30}. Best is trial 29 with value: 584.3862851873084.\n",
            "[I 2024-04-30 00:23:53,213] Trial 44 finished with value: 587.5088181273849 and parameters: {'k1': 2, 'k2': 2, 'p1': 3, 'p2': 5, 'max_iters': 29, 'pool_size': 83}. Best is trial 29 with value: 584.3862851873084.\n",
            "[I 2024-04-30 00:24:46,146] Trial 45 finished with value: 612.7727530816403 and parameters: {'k1': 3, 'k2': 1, 'p1': 3, 'p2': 5, 'max_iters': 26, 'pool_size': 82}. Best is trial 29 with value: 584.3862851873084.\n",
            "[I 2024-04-30 00:30:04,472] Trial 46 finished with value: 621.4386829474109 and parameters: {'k1': 3, 'k2': 1, 'p1': 3, 'p2': 5, 'max_iters': 33, 'pool_size': 82}. Best is trial 29 with value: 584.3862851873084.\n",
            "[I 2024-04-30 00:32:17,696] Trial 47 finished with value: 813.515820016673 and parameters: {'k1': 9, 'k2': 4, 'p1': 2, 'p2': 5, 'max_iters': 34, 'pool_size': 72}. Best is trial 29 with value: 584.3862851873084.\n",
            "[I 2024-04-30 00:33:55,745] Trial 48 finished with value: 621.1547738121012 and parameters: {'k1': 1, 'k2': 3, 'p1': 4, 'p2': 6, 'max_iters': 35, 'pool_size': 55}. Best is trial 29 with value: 584.3862851873084.\n",
            "[I 2024-04-30 00:34:43,908] Trial 49 finished with value: 786.3238400737753 and parameters: {'k1': 1, 'k2': 10, 'p1': 4, 'p2': 6, 'max_iters': 19, 'pool_size': 54}. Best is trial 29 with value: 584.3862851873084.\n",
            "[I 2024-04-30 00:34:58,273] A new study created in memory with name: no-name-d486cac5-dc43-4204-be82-65fb208e0fb3\n",
            "[I 2024-04-30 00:35:04,490] Trial 0 finished with value: 1260.6031925269713 and parameters: {'n_estimators': 145, 'criterion': 'squared_error', 'max_depth': 6, 'min_samples_leaf': 1, 'max_features': 0.299413589857248, 'maks_iterasjoner': 11, 'std_terskel': 0.013958873937916163}. Best is trial 0 with value: 1260.6031925269713.\n",
            "[I 2024-04-30 00:35:08,705] Trial 1 finished with value: 1902.0735224340783 and parameters: {'n_estimators': 449, 'criterion': 'squared_error', 'max_depth': 1, 'min_samples_leaf': 2, 'max_features': 0.356212913325454, 'maks_iterasjoner': 9, 'std_terskel': 0.046103854685493904}. Best is trial 0 with value: 1260.6031925269713.\n",
            "[I 2024-04-30 00:35:18,360] Trial 2 finished with value: 1842.0632712203342 and parameters: {'n_estimators': 426, 'criterion': 'absolute_error', 'max_depth': 14, 'min_samples_leaf': 5, 'max_features': 0.4364622283848939, 'maks_iterasjoner': 15, 'std_terskel': 0.04077902919406028}. Best is trial 0 with value: 1260.6031925269713.\n",
            "[I 2024-04-30 00:35:25,747] Trial 3 finished with value: 1280.4350631571233 and parameters: {'n_estimators': 481, 'criterion': 'friedman_mse', 'max_depth': 6, 'min_samples_leaf': 2, 'max_features': 0.5899624293444784, 'maks_iterasjoner': 15, 'std_terskel': 0.04752713129397663}. Best is trial 0 with value: 1260.6031925269713.\n",
            "[I 2024-04-30 00:35:31,152] Trial 4 finished with value: 1563.1311185382804 and parameters: {'n_estimators': 456, 'criterion': 'squared_error', 'max_depth': 3, 'min_samples_leaf': 4, 'max_features': 0.7639800912458525, 'maks_iterasjoner': 17, 'std_terskel': 0.03061458481836389}. Best is trial 0 with value: 1260.6031925269713.\n",
            "[I 2024-04-30 00:35:37,369] Trial 6 finished with value: 1774.6977426122792 and parameters: {'n_estimators': 195, 'criterion': 'poisson', 'max_depth': 22, 'min_samples_leaf': 5, 'max_features': 0.3281745461263493, 'maks_iterasjoner': 4, 'std_terskel': 0.012986403297325278}. Best is trial 0 with value: 1260.6031925269713.\n",
            "[I 2024-04-30 00:35:39,140] Trial 5 finished with value: 1419.9260644010028 and parameters: {'n_estimators': 433, 'criterion': 'friedman_mse', 'max_depth': 18, 'min_samples_leaf': 3, 'max_features': 0.47383891857508376, 'maks_iterasjoner': 8, 'std_terskel': 0.01206868289876927}. Best is trial 0 with value: 1260.6031925269713.\n",
            "[I 2024-04-30 00:35:47,253] Trial 7 finished with value: 1538.3958184269718 and parameters: {'n_estimators': 307, 'criterion': 'squared_error', 'max_depth': 7, 'min_samples_leaf': 4, 'max_features': 0.7150331122114774, 'maks_iterasjoner': 2, 'std_terskel': 0.011067404861786242}. Best is trial 0 with value: 1260.6031925269713.\n",
            "[I 2024-04-30 00:35:52,774] Trial 8 finished with value: 1902.3139624767705 and parameters: {'n_estimators': 493, 'criterion': 'absolute_error', 'max_depth': 1, 'min_samples_leaf': 1, 'max_features': 0.5896592247048662, 'maks_iterasjoner': 3, 'std_terskel': 0.040199011703209823}. Best is trial 0 with value: 1260.6031925269713.\n",
            "[I 2024-04-30 00:36:03,459] Trial 10 finished with value: 1766.2390022782336 and parameters: {'n_estimators': 433, 'criterion': 'squared_error', 'max_depth': 14, 'min_samples_leaf': 5, 'max_features': 0.38350993150147095, 'maks_iterasjoner': 13, 'std_terskel': 0.017400901703183397}. Best is trial 0 with value: 1260.6031925269713.\n",
            "[I 2024-04-30 00:36:03,512] Trial 9 finished with value: 1143.5322191494147 and parameters: {'n_estimators': 448, 'criterion': 'poisson', 'max_depth': 19, 'min_samples_leaf': 1, 'max_features': 0.3274915865801156, 'maks_iterasjoner': 10, 'std_terskel': 0.02134030486337444}. Best is trial 9 with value: 1143.5322191494147.\n",
            "[I 2024-04-30 00:36:07,439] Trial 12 finished with value: 1178.9000444140381 and parameters: {'n_estimators': 108, 'criterion': 'poisson', 'max_depth': 30, 'min_samples_leaf': 1, 'max_features': 0.10873702704369681, 'maks_iterasjoner': 10, 'std_terskel': 0.023139546297605892}. Best is trial 9 with value: 1143.5322191494147.\n",
            "[I 2024-04-30 00:36:07,613] Trial 11 finished with value: 1183.7292792467815 and parameters: {'n_estimators': 117, 'criterion': 'poisson', 'max_depth': 30, 'min_samples_leaf': 1, 'max_features': 0.11093978624371162, 'maks_iterasjoner': 11, 'std_terskel': 0.02165216556841867}. Best is trial 9 with value: 1143.5322191494147.\n",
            "[I 2024-04-30 00:36:16,336] Trial 14 finished with value: 1498.9613140969495 and parameters: {'n_estimators': 331, 'criterion': 'poisson', 'max_depth': 29, 'min_samples_leaf': 2, 'max_features': 0.10474014908840079, 'maks_iterasjoner': 6, 'std_terskel': 0.02539159974762461}. Best is trial 9 with value: 1143.5322191494147.\n",
            "[I 2024-04-30 00:36:18,217] Trial 13 finished with value: 1164.437548548055 and parameters: {'n_estimators': 331, 'criterion': 'poisson', 'max_depth': 27, 'min_samples_leaf': 1, 'max_features': 0.12762025880916436, 'maks_iterasjoner': 7, 'std_terskel': 0.023530605261891904}. Best is trial 9 with value: 1143.5322191494147.\n",
            "[I 2024-04-30 00:36:24,115] Trial 15 finished with value: 1173.8192282818566 and parameters: {'n_estimators': 226, 'criterion': 'poisson', 'max_depth': 24, 'min_samples_leaf': 1, 'max_features': 0.22270477956166457, 'maks_iterasjoner': 20, 'std_terskel': 0.029829733860115924}. Best is trial 9 with value: 1143.5322191494147.\n",
            "[I 2024-04-30 00:36:29,221] Trial 16 finished with value: 1351.229958761398 and parameters: {'n_estimators': 368, 'criterion': 'poisson', 'max_depth': 24, 'min_samples_leaf': 2, 'max_features': 0.23409665055685303, 'maks_iterasjoner': 20, 'std_terskel': 0.03100753655380154}. Best is trial 9 with value: 1143.5322191494147.\n",
            "[I 2024-04-30 00:36:35,706] Trial 17 finished with value: 1354.8767704342933 and parameters: {'n_estimators': 372, 'criterion': 'poisson', 'max_depth': 24, 'min_samples_leaf': 3, 'max_features': 0.9440276622678216, 'maks_iterasjoner': 6, 'std_terskel': 0.029121740345541252}. Best is trial 9 with value: 1143.5322191494147.\n",
            "[I 2024-04-30 00:36:41,080] Trial 18 finished with value: 1355.4896557644515 and parameters: {'n_estimators': 371, 'criterion': 'poisson', 'max_depth': 19, 'min_samples_leaf': 3, 'max_features': 0.9586047043358432, 'maks_iterasjoner': 6, 'std_terskel': 0.018035598712042515}. Best is trial 9 with value: 1143.5322191494147.\n",
            "[I 2024-04-30 00:36:43,709] Trial 19 finished with value: 1366.8191606309224 and parameters: {'n_estimators': 241, 'criterion': 'poisson', 'max_depth': 18, 'min_samples_leaf': 2, 'max_features': 0.24404572422967888, 'maks_iterasjoner': 7, 'std_terskel': 0.018354412063211742}. Best is trial 9 with value: 1143.5322191494147.\n",
            "[I 2024-04-30 00:36:48,404] Trial 20 finished with value: 1398.4001324317992 and parameters: {'n_estimators': 226, 'criterion': 'friedman_mse', 'max_depth': 27, 'min_samples_leaf': 2, 'max_features': 0.22088734297002038, 'maks_iterasjoner': 1, 'std_terskel': 0.0356148416517283}. Best is trial 9 with value: 1143.5322191494147.\n",
            "[I 2024-04-30 00:36:51,997] Trial 21 finished with value: 1152.1800526630732 and parameters: {'n_estimators': 265, 'criterion': 'friedman_mse', 'max_depth': 11, 'min_samples_leaf': 1, 'max_features': 0.5033841606729605, 'maks_iterasjoner': 13, 'std_terskel': 0.0370471861471051}. Best is trial 9 with value: 1143.5322191494147.\n",
            "[I 2024-04-30 00:36:56,035] Trial 22 finished with value: 1192.5298082861682 and parameters: {'n_estimators': 265, 'criterion': 'poisson', 'max_depth': 26, 'min_samples_leaf': 1, 'max_features': 0.19118203846542917, 'maks_iterasjoner': 12, 'std_terskel': 0.02708010932727246}. Best is trial 9 with value: 1143.5322191494147.\n",
            "[I 2024-04-30 00:37:01,052] Trial 23 finished with value: 1148.841954550464 and parameters: {'n_estimators': 279, 'criterion': 'friedman_mse', 'max_depth': 9, 'min_samples_leaf': 1, 'max_features': 0.4984106001056678, 'maks_iterasjoner': 13, 'std_terskel': 0.03511380500981161}. Best is trial 9 with value: 1143.5322191494147.\n",
            "[I 2024-04-30 00:37:04,791] Trial 24 finished with value: 1149.339384816549 and parameters: {'n_estimators': 275, 'criterion': 'friedman_mse', 'max_depth': 10, 'min_samples_leaf': 1, 'max_features': 0.5014425656147087, 'maks_iterasjoner': 14, 'std_terskel': 0.034621977191396605}. Best is trial 9 with value: 1143.5322191494147.\n",
            "[I 2024-04-30 00:37:09,932] Trial 25 finished with value: 1151.292020241872 and parameters: {'n_estimators': 281, 'criterion': 'friedman_mse', 'max_depth': 11, 'min_samples_leaf': 1, 'max_features': 0.5132055319251768, 'maks_iterasjoner': 14, 'std_terskel': 0.034800986218221565}. Best is trial 9 with value: 1143.5322191494147.\n",
            "[I 2024-04-30 00:37:10,734] Trial 26 finished with value: 1248.728394666358 and parameters: {'n_estimators': 177, 'criterion': 'friedman_mse', 'max_depth': 11, 'min_samples_leaf': 2, 'max_features': 0.6784538717795436, 'maks_iterasjoner': 16, 'std_terskel': 0.03553415545818846}. Best is trial 9 with value: 1143.5322191494147.\n",
            "[I 2024-04-30 00:37:18,253] Trial 27 finished with value: 1246.477755360309 and parameters: {'n_estimators': 182, 'criterion': 'friedman_mse', 'max_depth': 10, 'min_samples_leaf': 2, 'max_features': 0.6752994257638316, 'maks_iterasjoner': 17, 'std_terskel': 0.04340767563789224}. Best is trial 9 with value: 1143.5322191494147.\n",
            "[I 2024-04-30 00:37:21,307] Trial 28 finished with value: 1572.5231845184844 and parameters: {'n_estimators': 313, 'criterion': 'friedman_mse', 'max_depth': 9, 'min_samples_leaf': 4, 'max_features': 0.4142221048232786, 'maks_iterasjoner': 17, 'std_terskel': 0.040322199163864265}. Best is trial 9 with value: 1143.5322191494147.\n",
            "[I 2024-04-30 00:37:27,821] Trial 29 finished with value: 1432.635877896059 and parameters: {'n_estimators': 400, 'criterion': 'friedman_mse', 'max_depth': 16, 'min_samples_leaf': 3, 'max_features': 0.415626258894524, 'maks_iterasjoner': 18, 'std_terskel': 0.032985207946879286}. Best is trial 9 with value: 1143.5322191494147.\n",
            "[I 2024-04-30 00:37:36,262] Trial 30 finished with value: 1176.4984913671324 and parameters: {'n_estimators': 402, 'criterion': 'absolute_error', 'max_depth': 16, 'min_samples_leaf': 1, 'max_features': 0.2973814211678351, 'maks_iterasjoner': 10, 'std_terskel': 0.03252164220182048}. Best is trial 9 with value: 1143.5322191494147.\n",
            "[I 2024-04-30 00:37:39,892] Trial 31 finished with value: 1198.3982672519005 and parameters: {'n_estimators': 350, 'criterion': 'absolute_error', 'max_depth': 4, 'min_samples_leaf': 1, 'max_features': 0.5883377694807402, 'maks_iterasjoner': 12, 'std_terskel': 0.03776576484128403}. Best is trial 9 with value: 1143.5322191494147.\n",
            "[I 2024-04-30 00:37:45,371] Trial 32 finished with value: 1153.4900070299298 and parameters: {'n_estimators': 267, 'criterion': 'friedman_mse', 'max_depth': 13, 'min_samples_leaf': 1, 'max_features': 0.5512477056457654, 'maks_iterasjoner': 14, 'std_terskel': 0.037488842752073405}. Best is trial 9 with value: 1143.5322191494147.\n",
            "[I 2024-04-30 00:37:48,728] Trial 33 finished with value: 1150.4878453130898 and parameters: {'n_estimators': 272, 'criterion': 'friedman_mse', 'max_depth': 13, 'min_samples_leaf': 1, 'max_features': 0.5275814655946051, 'maks_iterasjoner': 14, 'std_terskel': 0.033974460854934295}. Best is trial 9 with value: 1143.5322191494147.\n",
            "[I 2024-04-30 00:37:55,168] Trial 34 finished with value: 1157.8640773206437 and parameters: {'n_estimators': 281, 'criterion': 'friedman_mse', 'max_depth': 8, 'min_samples_leaf': 1, 'max_features': 0.5043291010114691, 'maks_iterasjoner': 14, 'std_terskel': 0.04371427457316969}. Best is trial 9 with value: 1143.5322191494147.\n",
            "[I 2024-04-30 00:37:59,263] Trial 35 finished with value: 1162.3426242707112 and parameters: {'n_estimators': 292, 'criterion': 'friedman_mse', 'max_depth': 8, 'min_samples_leaf': 1, 'max_features': 0.3584601801942499, 'maks_iterasjoner': 11, 'std_terskel': 0.04495337132431551}. Best is trial 9 with value: 1143.5322191494147.\n",
            "[I 2024-04-30 00:38:02,981] Trial 36 finished with value: 1242.9963766002252 and parameters: {'n_estimators': 238, 'criterion': 'friedman_mse', 'max_depth': 13, 'min_samples_leaf': 2, 'max_features': 0.7993367841516046, 'maks_iterasjoner': 9, 'std_terskel': 0.02736329080862774}. Best is trial 9 with value: 1143.5322191494147.\n",
            "[I 2024-04-30 00:38:06,016] Trial 37 finished with value: 1228.6992742539576 and parameters: {'n_estimators': 206, 'criterion': 'friedman_mse', 'max_depth': 13, 'min_samples_leaf': 2, 'max_features': 0.8558487357558962, 'maks_iterasjoner': 9, 'std_terskel': 0.027125004932930474}. Best is trial 9 with value: 1143.5322191494147.\n",
            "[I 2024-04-30 00:38:12,415] Trial 39 finished with value: 1247.914485851136 and parameters: {'n_estimators': 156, 'criterion': 'squared_error', 'max_depth': 5, 'min_samples_leaf': 2, 'max_features': 0.6401967143242656, 'maks_iterasjoner': 15, 'std_terskel': 0.04909093823336841}. Best is trial 9 with value: 1143.5322191494147.\n",
            "[I 2024-04-30 00:38:16,047] Trial 38 finished with value: 1293.5408125263943 and parameters: {'n_estimators': 464, 'criterion': 'friedman_mse', 'max_depth': 5, 'min_samples_leaf': 2, 'max_features': 0.44775454212845556, 'maks_iterasjoner': 15, 'std_terskel': 0.032858995036093255}. Best is trial 9 with value: 1143.5322191494147.\n",
            "[I 2024-04-30 00:38:24,180] Trial 40 finished with value: 1185.8991242123348 and parameters: {'n_estimators': 461, 'criterion': 'friedman_mse', 'max_depth': 20, 'min_samples_leaf': 1, 'max_features': 0.2969502043612508, 'maks_iterasjoner': 12, 'std_terskel': 0.032930676782524475}. Best is trial 9 with value: 1143.5322191494147.\n",
            "[I 2024-04-30 00:38:29,366] Trial 41 finished with value: 1145.3056871637618 and parameters: {'n_estimators': 317, 'criterion': 'absolute_error', 'max_depth': 20, 'min_samples_leaf': 1, 'max_features': 0.3178471851060538, 'maks_iterasjoner': 12, 'std_terskel': 0.0419925997029996}. Best is trial 9 with value: 1143.5322191494147.\n",
            "[I 2024-04-30 00:38:32,314] Trial 42 finished with value: 1147.7054672447657 and parameters: {'n_estimators': 315, 'criterion': 'friedman_mse', 'max_depth': 11, 'min_samples_leaf': 1, 'max_features': 0.5212865086190358, 'maks_iterasjoner': 14, 'std_terskel': 0.035058601420689}. Best is trial 9 with value: 1143.5322191494147.\n",
            "[I 2024-04-30 00:38:40,594] Trial 43 finished with value: 1147.7879006775715 and parameters: {'n_estimators': 307, 'criterion': 'absolute_error', 'max_depth': 22, 'min_samples_leaf': 1, 'max_features': 0.3320247406071231, 'maks_iterasjoner': 13, 'std_terskel': 0.04241996541373017}. Best is trial 9 with value: 1143.5322191494147.\n",
            "[I 2024-04-30 00:38:43,283] Trial 44 finished with value: 1129.5331827746284 and parameters: {'n_estimators': 327, 'criterion': 'absolute_error', 'max_depth': 17, 'min_samples_leaf': 1, 'max_features': 0.4551590427616275, 'maks_iterasjoner': 13, 'std_terskel': 0.03984134820882969}. Best is trial 44 with value: 1129.5331827746284.\n",
            "[I 2024-04-30 00:38:50,611] Trial 45 finished with value: 1145.9969159393393 and parameters: {'n_estimators': 316, 'criterion': 'absolute_error', 'max_depth': 22, 'min_samples_leaf': 1, 'max_features': 0.35541922989749947, 'maks_iterasjoner': 13, 'std_terskel': 0.042673542084264396}. Best is trial 44 with value: 1129.5331827746284.\n",
            "[I 2024-04-30 00:38:54,089] Trial 46 finished with value: 1147.3982491793547 and parameters: {'n_estimators': 333, 'criterion': 'absolute_error', 'max_depth': 21, 'min_samples_leaf': 1, 'max_features': 0.32462309647804904, 'maks_iterasjoner': 11, 'std_terskel': 0.04174036309443962}. Best is trial 44 with value: 1129.5331827746284.\n",
            "[I 2024-04-30 00:39:02,587] Trial 48 finished with value: 1679.9922845776387 and parameters: {'n_estimators': 340, 'criterion': 'absolute_error', 'max_depth': 22, 'min_samples_leaf': 4, 'max_features': 0.3833697762617055, 'maks_iterasjoner': 10, 'std_terskel': 0.046984172309186854}. Best is trial 44 with value: 1129.5331827746284.\n",
            "[I 2024-04-30 00:39:03,902] Trial 47 finished with value: 1145.9935306827074 and parameters: {'n_estimators': 322, 'criterion': 'absolute_error', 'max_depth': 20, 'min_samples_leaf': 1, 'max_features': 0.37043756304188924, 'maks_iterasjoner': 11, 'std_terskel': 0.04756917484153032}. Best is trial 44 with value: 1129.5331827746284.\n",
            "[I 2024-04-30 00:39:09,825] Trial 49 finished with value: 1176.5054259698638 and parameters: {'n_estimators': 400, 'criterion': 'absolute_error', 'max_depth': 20, 'min_samples_leaf': 1, 'max_features': 0.2845941452185046, 'maks_iterasjoner': 12, 'std_terskel': 0.0414321885911109}. Best is trial 44 with value: 1129.5331827746284.\n",
            "[I 2024-04-30 00:39:10,799] A new study created in memory with name: no-name-2ca872cd-f5d1-4b26-85cf-fb0a26d56500\n",
            "[I 2024-04-30 00:39:12,111] Trial 1 finished with value: 1417.6633299609477 and parameters: {'k': 93, 'graf_vektet_harmonic': False, 'initiell_respons': 'domain_mean', 'alpha': 0.785, 'maks_iterasjoner_harmonic': 37, 'maks_iterasjoner_heat': 61}. Best is trial 1 with value: 1417.6633299609477.\n",
            "[I 2024-04-30 00:39:12,157] Trial 0 finished with value: 1414.1950608230086 and parameters: {'k': 121, 'graf_vektet_harmonic': False, 'initiell_respons': 'domain_median', 'alpha': 0.146, 'maks_iterasjoner_harmonic': 50, 'maks_iterasjoner_heat': 90}. Best is trial 0 with value: 1414.1950608230086.\n",
            "[I 2024-04-30 00:39:13,471] Trial 3 finished with value: 2082.4528424241976 and parameters: {'k': 186, 'graf_vektet_harmonic': True, 'initiell_respons': 'domain_mean', 'alpha': 0.8220000000000001, 'maks_iterasjoner_harmonic': 22, 'maks_iterasjoner_heat': 81}. Best is trial 0 with value: 1414.1950608230086.\n",
            "[I 2024-04-30 00:39:13,508] Trial 2 finished with value: 1301.3935762726546 and parameters: {'k': 161, 'graf_vektet_harmonic': False, 'initiell_respons': 'domain_mean', 'alpha': 0.259, 'maks_iterasjoner_harmonic': 74, 'maks_iterasjoner_heat': 89}. Best is trial 2 with value: 1301.3935762726546.\n",
            "[I 2024-04-30 00:39:14,697] Trial 4 finished with value: 2184.814085203777 and parameters: {'k': 186, 'graf_vektet_harmonic': True, 'initiell_respons': 'domain_median', 'alpha': 0.833, 'maks_iterasjoner_harmonic': 54, 'maks_iterasjoner_heat': 29}. Best is trial 2 with value: 1301.3935762726546.\n",
            "[I 2024-04-30 00:39:14,930] Trial 5 finished with value: 1442.369144099452 and parameters: {'k': 167, 'graf_vektet_harmonic': False, 'initiell_respons': 'domain_median', 'alpha': 0.306, 'maks_iterasjoner_harmonic': 49, 'maks_iterasjoner_heat': 83}. Best is trial 2 with value: 1301.3935762726546.\n",
            "[I 2024-04-30 00:39:16,019] Trial 7 finished with value: 1452.2764021482685 and parameters: {'k': 109, 'graf_vektet_harmonic': False, 'initiell_respons': 'domain_mean', 'alpha': 0.851, 'maks_iterasjoner_harmonic': 26, 'maks_iterasjoner_heat': 8}. Best is trial 2 with value: 1301.3935762726546.\n",
            "[I 2024-04-30 00:39:16,280] Trial 6 finished with value: 1413.935991061652 and parameters: {'k': 139, 'graf_vektet_harmonic': False, 'initiell_respons': 'domain_median', 'alpha': 0.073, 'maks_iterasjoner_harmonic': 92, 'maks_iterasjoner_heat': 25}. Best is trial 2 with value: 1301.3935762726546.\n",
            "[I 2024-04-30 00:39:17,395] Trial 8 finished with value: 1416.8010260943336 and parameters: {'k': 98, 'graf_vektet_harmonic': False, 'initiell_respons': 'domain_median', 'alpha': 0.017, 'maks_iterasjoner_harmonic': 17, 'maks_iterasjoner_heat': 48}. Best is trial 2 with value: 1301.3935762726546.\n",
            "[I 2024-04-30 00:39:17,612] Trial 9 finished with value: 1489.253330625963 and parameters: {'k': 103, 'graf_vektet_harmonic': True, 'initiell_respons': 'domain_median', 'alpha': 0.20400000000000001, 'maks_iterasjoner_harmonic': 7, 'maks_iterasjoner_heat': 1}. Best is trial 2 with value: 1301.3935762726546.\n",
            "[I 2024-04-30 00:39:18,921] Trial 10 finished with value: 1505.8931256425271 and parameters: {'k': 157, 'graf_vektet_harmonic': False, 'initiell_respons': 'domain_median', 'alpha': 0.593, 'maks_iterasjoner_harmonic': 24, 'maks_iterasjoner_heat': 94}. Best is trial 2 with value: 1301.3935762726546.\n",
            "[I 2024-04-30 00:39:19,180] Trial 11 finished with value: 1655.56622037469 and parameters: {'k': 155, 'graf_vektet_harmonic': True, 'initiell_respons': 'domain_mean', 'alpha': 0.483, 'maks_iterasjoner_harmonic': 82, 'maks_iterasjoner_heat': 65}. Best is trial 2 with value: 1301.3935762726546.\n",
            "[I 2024-04-30 00:39:20,536] Trial 12 finished with value: 1328.828959503414 and parameters: {'k': 139, 'graf_vektet_harmonic': False, 'initiell_respons': 'domain_mean', 'alpha': 0.398, 'maks_iterasjoner_harmonic': 90, 'maks_iterasjoner_heat': 28}. Best is trial 2 with value: 1301.3935762726546.\n",
            "[I 2024-04-30 00:39:20,803] Trial 13 finished with value: 1321.303180095915 and parameters: {'k': 132, 'graf_vektet_harmonic': False, 'initiell_respons': 'domain_mean', 'alpha': 0.371, 'maks_iterasjoner_harmonic': 100, 'maks_iterasjoner_heat': 30}. Best is trial 2 with value: 1301.3935762726546.\n",
            "[I 2024-04-30 00:39:21,982] Trial 14 finished with value: 1325.1734732836744 and parameters: {'k': 133, 'graf_vektet_harmonic': False, 'initiell_respons': 'domain_mean', 'alpha': 0.387, 'maks_iterasjoner_harmonic': 74, 'maks_iterasjoner_heat': 36}. Best is trial 2 with value: 1301.3935762726546.\n",
            "[I 2024-04-30 00:39:22,303] Trial 15 finished with value: 1305.6648433537873 and parameters: {'k': 125, 'graf_vektet_harmonic': False, 'initiell_respons': 'domain_mean', 'alpha': 0.304, 'maks_iterasjoner_harmonic': 73, 'maks_iterasjoner_heat': 43}. Best is trial 2 with value: 1301.3935762726546.\n",
            "[I 2024-04-30 00:39:23,405] Trial 16 finished with value: 1394.2200691202488 and parameters: {'k': 157, 'graf_vektet_harmonic': False, 'initiell_respons': 'domain_mean', 'alpha': 0.637, 'maks_iterasjoner_harmonic': 69, 'maks_iterasjoner_heat': 70}. Best is trial 2 with value: 1301.3935762726546.\n",
            "[I 2024-04-30 00:39:23,729] Trial 17 finished with value: 1374.2055319529045 and parameters: {'k': 117, 'graf_vektet_harmonic': False, 'initiell_respons': 'domain_mean', 'alpha': 0.593, 'maks_iterasjoner_harmonic': 67, 'maks_iterasjoner_heat': 69}. Best is trial 2 with value: 1301.3935762726546.\n",
            "[I 2024-04-30 00:39:24,810] Trial 18 finished with value: 1288.8098781817735 and parameters: {'k': 121, 'graf_vektet_harmonic': False, 'initiell_respons': 'domain_mean', 'alpha': 0.211, 'maks_iterasjoner_harmonic': 63, 'maks_iterasjoner_heat': 49}. Best is trial 18 with value: 1288.8098781817735.\n",
            "[I 2024-04-30 00:39:25,067] Trial 19 finished with value: 1378.8373535105766 and parameters: {'k': 172, 'graf_vektet_harmonic': True, 'initiell_respons': 'domain_mean', 'alpha': 0.251, 'maks_iterasjoner_harmonic': 61, 'maks_iterasjoner_heat': 45}. Best is trial 18 with value: 1288.8098781817735.\n",
            "[I 2024-04-30 00:39:26,237] Trial 20 finished with value: 2243.9710075709622 and parameters: {'k': 171, 'graf_vektet_harmonic': True, 'initiell_respons': 'domain_mean', 'alpha': 0.984, 'maks_iterasjoner_harmonic': 63, 'maks_iterasjoner_heat': 56}. Best is trial 18 with value: 1288.8098781817735.\n",
            "[I 2024-04-30 00:39:26,442] Trial 21 finished with value: 1282.573601012991 and parameters: {'k': 148, 'graf_vektet_harmonic': False, 'initiell_respons': 'domain_mean', 'alpha': 0.135, 'maks_iterasjoner_harmonic': 39, 'maks_iterasjoner_heat': 100}. Best is trial 21 with value: 1282.573601012991.\n",
            "[I 2024-04-30 00:39:27,585] Trial 22 finished with value: 1284.9436025450702 and parameters: {'k': 123, 'graf_vektet_harmonic': False, 'initiell_respons': 'domain_mean', 'alpha': 0.17500000000000002, 'maks_iterasjoner_harmonic': 78, 'maks_iterasjoner_heat': 43}. Best is trial 21 with value: 1282.573601012991.\n",
            "[I 2024-04-30 00:39:27,858] Trial 23 finished with value: 1284.0920475792386 and parameters: {'k': 149, 'graf_vektet_harmonic': False, 'initiell_respons': 'domain_mean', 'alpha': 0.151, 'maks_iterasjoner_harmonic': 37, 'maks_iterasjoner_heat': 99}. Best is trial 21 with value: 1282.573601012991.\n",
            "[I 2024-04-30 00:39:28,965] Trial 24 finished with value: 1282.6415998941043 and parameters: {'k': 147, 'graf_vektet_harmonic': False, 'initiell_respons': 'domain_mean', 'alpha': 0.136, 'maks_iterasjoner_harmonic': 39, 'maks_iterasjoner_heat': 39}. Best is trial 21 with value: 1282.573601012991.\n",
            "[I 2024-04-30 00:39:29,262] Trial 25 finished with value: 1280.4364682886621 and parameters: {'k': 150, 'graf_vektet_harmonic': False, 'initiell_respons': 'domain_mean', 'alpha': 0.097, 'maks_iterasjoner_harmonic': 38, 'maks_iterasjoner_heat': 100}. Best is trial 25 with value: 1280.4364682886621.\n",
            "[I 2024-04-30 00:39:30,340] Trial 26 finished with value: 1279.8847763774243 and parameters: {'k': 148, 'graf_vektet_harmonic': False, 'initiell_respons': 'domain_mean', 'alpha': 0.079, 'maks_iterasjoner_harmonic': 40, 'maks_iterasjoner_heat': 81}. Best is trial 26 with value: 1279.8847763774243.\n",
            "[I 2024-04-30 00:39:30,599] Trial 27 finished with value: 1279.7978893482018 and parameters: {'k': 147, 'graf_vektet_harmonic': False, 'initiell_respons': 'domain_mean', 'alpha': 0.064, 'maks_iterasjoner_harmonic': 39, 'maks_iterasjoner_heat': 79}. Best is trial 27 with value: 1279.7978893482018.\n",
            "[I 2024-04-30 00:39:32,152] Trial 28 finished with value: 1282.3253446386668 and parameters: {'k': 145, 'graf_vektet_harmonic': False, 'initiell_respons': 'domain_mean', 'alpha': 0.008, 'maks_iterasjoner_harmonic': 32, 'maks_iterasjoner_heat': 79}. Best is trial 27 with value: 1279.7978893482018.\n",
            "[I 2024-04-30 00:39:32,452] Trial 29 finished with value: 1281.3753903787162 and parameters: {'k': 145, 'graf_vektet_harmonic': False, 'initiell_respons': 'domain_mean', 'alpha': 0.02, 'maks_iterasjoner_harmonic': 45, 'maks_iterasjoner_heat': 77}. Best is trial 27 with value: 1279.7978893482018.\n",
            "[I 2024-04-30 00:39:33,777] Trial 30 finished with value: 1281.4816833578502 and parameters: {'k': 163, 'graf_vektet_harmonic': False, 'initiell_respons': 'domain_mean', 'alpha': 0.097, 'maks_iterasjoner_harmonic': 49, 'maks_iterasjoner_heat': 75}. Best is trial 27 with value: 1279.7978893482018.\n",
            "[I 2024-04-30 00:39:34,007] Trial 31 finished with value: 1280.048084384172 and parameters: {'k': 131, 'graf_vektet_harmonic': False, 'initiell_respons': 'domain_mean', 'alpha': 0.105, 'maks_iterasjoner_harmonic': 54, 'maks_iterasjoner_heat': 90}. Best is trial 27 with value: 1279.7978893482018.\n",
            "[I 2024-04-30 00:39:35,518] Trial 32 finished with value: 1279.4618921435826 and parameters: {'k': 136, 'graf_vektet_harmonic': False, 'initiell_respons': 'domain_mean', 'alpha': 0.07200000000000001, 'maks_iterasjoner_harmonic': 45, 'maks_iterasjoner_heat': 88}. Best is trial 32 with value: 1279.4618921435826.\n",
            "[I 2024-04-30 00:39:35,658] Trial 33 finished with value: 1279.3733130107125 and parameters: {'k': 131, 'graf_vektet_harmonic': False, 'initiell_respons': 'domain_mean', 'alpha': 0.07200000000000001, 'maks_iterasjoner_harmonic': 55, 'maks_iterasjoner_heat': 88}. Best is trial 33 with value: 1279.3733130107125.\n",
            "[I 2024-04-30 00:39:37,099] Trial 34 finished with value: 1279.3037195437132 and parameters: {'k': 130, 'graf_vektet_harmonic': False, 'initiell_respons': 'domain_mean', 'alpha': 0.07200000000000001, 'maks_iterasjoner_harmonic': 56, 'maks_iterasjoner_heat': 88}. Best is trial 34 with value: 1279.3037195437132.\n",
            "[I 2024-04-30 00:39:37,384] Trial 35 finished with value: 1279.6986642805887 and parameters: {'k': 137, 'graf_vektet_harmonic': False, 'initiell_respons': 'domain_mean', 'alpha': 0.055, 'maks_iterasjoner_harmonic': 31, 'maks_iterasjoner_heat': 88}. Best is trial 34 with value: 1279.3037195437132.\n",
            "[I 2024-04-30 00:39:38,778] Trial 36 finished with value: 1279.3950887746178 and parameters: {'k': 127, 'graf_vektet_harmonic': False, 'initiell_respons': 'domain_mean', 'alpha': 0.054, 'maks_iterasjoner_harmonic': 55, 'maks_iterasjoner_heat': 87}. Best is trial 34 with value: 1279.3037195437132.\n",
            "[I 2024-04-30 00:39:39,078] Trial 37 finished with value: 1405.0434847417362 and parameters: {'k': 113, 'graf_vektet_harmonic': True, 'initiell_respons': 'domain_mean', 'alpha': 0.276, 'maks_iterasjoner_harmonic': 58, 'maks_iterasjoner_heat': 87}. Best is trial 34 with value: 1279.3037195437132.\n",
            "[I 2024-04-30 00:39:40,161] Trial 38 finished with value: 1482.6207235101206 and parameters: {'k': 126, 'graf_vektet_harmonic': True, 'initiell_respons': 'domain_median', 'alpha': 0.225, 'maks_iterasjoner_harmonic': 55, 'maks_iterasjoner_heat': 87}. Best is trial 34 with value: 1279.3037195437132.\n",
            "[I 2024-04-30 00:39:40,499] Trial 39 finished with value: 1422.1827177926755 and parameters: {'k': 127, 'graf_vektet_harmonic': False, 'initiell_respons': 'domain_median', 'alpha': 0.224, 'maks_iterasjoner_harmonic': 54, 'maks_iterasjoner_heat': 93}. Best is trial 34 with value: 1279.3037195437132.\n",
            "[I 2024-04-30 00:39:41,610] Trial 40 finished with value: 1418.4261291504095 and parameters: {'k': 128, 'graf_vektet_harmonic': False, 'initiell_respons': 'domain_median', 'alpha': 0.003, 'maks_iterasjoner_harmonic': 45, 'maks_iterasjoner_heat': 94}. Best is trial 34 with value: 1279.3037195437132.\n",
            "[I 2024-04-30 00:39:41,817] Trial 41 finished with value: 1283.0828773044873 and parameters: {'k': 114, 'graf_vektet_harmonic': False, 'initiell_respons': 'domain_mean', 'alpha': 0.0, 'maks_iterasjoner_harmonic': 47, 'maks_iterasjoner_heat': 58}. Best is trial 34 with value: 1279.3037195437132.\n",
            "[I 2024-04-30 00:39:43,015] Trial 42 finished with value: 1279.885533670478 and parameters: {'k': 137, 'graf_vektet_harmonic': False, 'initiell_respons': 'domain_mean', 'alpha': 0.048, 'maks_iterasjoner_harmonic': 30, 'maks_iterasjoner_heat': 84}. Best is trial 34 with value: 1279.3037195437132.\n",
            "[I 2024-04-30 00:39:43,257] Trial 43 finished with value: 1279.6523300938823 and parameters: {'k': 138, 'graf_vektet_harmonic': False, 'initiell_respons': 'domain_mean', 'alpha': 0.059000000000000004, 'maks_iterasjoner_harmonic': 30, 'maks_iterasjoner_heat': 87}. Best is trial 34 with value: 1279.3037195437132.\n",
            "[I 2024-04-30 00:39:44,387] Trial 44 finished with value: 1285.9716824270913 and parameters: {'k': 136, 'graf_vektet_harmonic': False, 'initiell_respons': 'domain_mean', 'alpha': 0.166, 'maks_iterasjoner_harmonic': 17, 'maks_iterasjoner_heat': 71}. Best is trial 34 with value: 1279.3037195437132.\n",
            "[I 2024-04-30 00:39:44,650] Trial 45 finished with value: 1284.0287291344257 and parameters: {'k': 119, 'graf_vektet_harmonic': False, 'initiell_respons': 'domain_mean', 'alpha': 0.162, 'maks_iterasjoner_harmonic': 17, 'maks_iterasjoner_heat': 94}. Best is trial 34 with value: 1279.3037195437132.\n",
            "[I 2024-04-30 00:39:45,910] Trial 46 finished with value: 1281.3906292815582 and parameters: {'k': 142, 'graf_vektet_harmonic': False, 'initiell_respons': 'domain_mean', 'alpha': 0.122, 'maks_iterasjoner_harmonic': 43, 'maks_iterasjoner_heat': 84}. Best is trial 34 with value: 1279.3037195437132.\n",
            "[I 2024-04-30 00:39:46,142] Trial 47 finished with value: 1280.9173053022973 and parameters: {'k': 142, 'graf_vektet_harmonic': False, 'initiell_respons': 'domain_mean', 'alpha': 0.114, 'maks_iterasjoner_harmonic': 44, 'maks_iterasjoner_heat': 74}. Best is trial 34 with value: 1279.3037195437132.\n",
            "[I 2024-04-30 00:39:47,525] Trial 48 finished with value: 1336.0710270789114 and parameters: {'k': 105, 'graf_vektet_harmonic': False, 'initiell_respons': 'domain_mean', 'alpha': 0.453, 'maks_iterasjoner_harmonic': 51, 'maks_iterasjoner_heat': 74}. Best is trial 34 with value: 1279.3037195437132.\n",
            "[I 2024-04-30 00:39:47,630] Trial 49 finished with value: 1532.0762393268171 and parameters: {'k': 130, 'graf_vektet_harmonic': False, 'initiell_respons': 'domain_median', 'alpha': 0.721, 'maks_iterasjoner_harmonic': 50, 'maks_iterasjoner_heat': 63}. Best is trial 34 with value: 1279.3037195437132.\n",
            "[I 2024-04-30 00:41:19,790] A new study created in memory with name: no-name-374ab1f4-0b78-4488-8cf4-a7350098b2c3\n",
            "[I 2024-04-30 00:43:53,737] Trial 1 finished with value: 810.696380270262 and parameters: {'k1': 6, 'k2': 5, 'p1': 7, 'p2': 5, 'max_iters': 47, 'pool_size': 15}. Best is trial 1 with value: 810.696380270262.\n",
            "[I 2024-04-30 00:46:15,415] Trial 0 finished with value: 914.6936888258388 and parameters: {'k1': 5, 'k2': 7, 'p1': 7, 'p2': 7, 'max_iters': 15, 'pool_size': 88}. Best is trial 1 with value: 810.696380270262.\n",
            "[I 2024-04-30 00:49:59,992] Trial 3 finished with value: 938.2229414120962 and parameters: {'k1': 6, 'k2': 9, 'p1': 1, 'p2': 1, 'max_iters': 28, 'pool_size': 50}. Best is trial 1 with value: 810.696380270262.\n",
            "[I 2024-04-30 00:53:37,492] Trial 2 finished with value: 641.4946302303008 and parameters: {'k1': 3, 'k2': 3, 'p1': 9, 'p2': 7, 'max_iters': 44, 'pool_size': 68}. Best is trial 2 with value: 641.4946302303008.\n",
            "[I 2024-04-30 00:55:48,982] Trial 4 finished with value: 802.1024180407884 and parameters: {'k1': 6, 'k2': 5, 'p1': 2, 'p2': 3, 'max_iters': 28, 'pool_size': 71}. Best is trial 2 with value: 641.4946302303008.\n",
            "[I 2024-04-30 01:00:07,452] Trial 6 finished with value: 936.7703496531834 and parameters: {'k1': 10, 'k2': 4, 'p1': 8, 'p2': 3, 'max_iters': 30, 'pool_size': 30}. Best is trial 2 with value: 641.4946302303008.\n",
            "[I 2024-04-30 01:00:36,339] Trial 7 finished with value: 814.7724243855598 and parameters: {'k1': 6, 'k2': 2, 'p1': 9, 'p2': 6, 'max_iters': 3, 'pool_size': 53}. Best is trial 2 with value: 641.4946302303008.\n",
            "[I 2024-04-30 01:00:40,565] Trial 8 finished with value: 657.9521392682922 and parameters: {'k1': 1, 'k2': 1, 'p1': 1, 'p2': 6, 'max_iters': 45, 'pool_size': 66}. Best is trial 2 with value: 641.4946302303008.\n",
            "[I 2024-04-30 01:03:10,052] Trial 5 finished with value: 857.1551536351855 and parameters: {'k1': 10, 'k2': 4, 'p1': 3, 'p2': 2, 'max_iters': 46, 'pool_size': 49}. Best is trial 2 with value: 641.4946302303008.\n",
            "[I 2024-04-30 01:04:06,096] Trial 9 finished with value: 747.6592994494607 and parameters: {'k1': 7, 'k2': 1, 'p1': 9, 'p2': 1, 'max_iters': 20, 'pool_size': 63}. Best is trial 2 with value: 641.4946302303008.\n",
            "[I 2024-04-30 01:04:29,171] Trial 10 finished with value: 987.772883887747 and parameters: {'k1': 5, 'k2': 7, 'p1': 5, 'p2': 6, 'max_iters': 7, 'pool_size': 48}. Best is trial 2 with value: 641.4946302303008.\n",
            "[I 2024-04-30 01:09:50,755] Trial 12 finished with value: 624.6314052488873 and parameters: {'k1': 1, 'k2': 2, 'p1': 4, 'p2': 10, 'max_iters': 38, 'pool_size': 100}. Best is trial 12 with value: 624.6314052488873.\n",
            "[I 2024-04-30 01:16:25,381] Trial 13 finished with value: 631.0909163489998 and parameters: {'k1': 1, 'k2': 3, 'p1': 4, 'p2': 10, 'max_iters': 38, 'pool_size': 100}. Best is trial 12 with value: 624.6314052488873.\n",
            "[I 2024-04-30 01:17:32,023] Trial 11 finished with value: 812.370472133525 and parameters: {'k1': 1, 'k2': 10, 'p1': 5, 'p2': 10, 'max_iters': 37, 'pool_size': 96}. Best is trial 12 with value: 624.6314052488873.\n",
            "[I 2024-04-30 01:22:39,000] Trial 14 finished with value: 634.5430168995476 and parameters: {'k1': 1, 'k2': 3, 'p1': 4, 'p2': 10, 'max_iters': 35, 'pool_size': 100}. Best is trial 12 with value: 624.6314052488873.\n",
            "[I 2024-04-30 01:26:20,857] Trial 15 finished with value: 669.8976839557894 and parameters: {'k1': 3, 'k2': 3, 'p1': 4, 'p2': 10, 'max_iters': 36, 'pool_size': 100}. Best is trial 12 with value: 624.6314052488873.\n",
            "[I 2024-04-30 01:29:43,735] Trial 16 finished with value: 614.282880027077 and parameters: {'k1': 3, 'k2': 2, 'p1': 3, 'p2': 9, 'max_iters': 40, 'pool_size': 87}. Best is trial 16 with value: 614.282880027077.\n",
            "[I 2024-04-30 01:32:30,080] Trial 18 finished with value: 627.8008227748944 and parameters: {'k1': 3, 'k2': 1, 'p1': 3, 'p2': 8, 'max_iters': 19, 'pool_size': 82}. Best is trial 16 with value: 614.282880027077.\n",
            "[I 2024-04-30 01:33:25,851] Trial 17 finished with value: 600.8907842808962 and parameters: {'k1': 3, 'k2': 2, 'p1': 3, 'p2': 8, 'max_iters': 40, 'pool_size': 83}. Best is trial 17 with value: 600.8907842808962.\n",
            "[I 2024-04-30 01:45:11,530] Trial 20 finished with value: 716.2518261281657 and parameters: {'k1': 3, 'k2': 7, 'p1': 2, 'p2': 8, 'max_iters': 49, 'pool_size': 80}. Best is trial 17 with value: 600.8907842808962.\n",
            "[I 2024-04-30 01:47:53,274] Trial 19 finished with value: 751.13005152974 and parameters: {'k1': 4, 'k2': 6, 'p1': 6, 'p2': 8, 'max_iters': 50, 'pool_size': 82}. Best is trial 17 with value: 600.8907842808962.\n",
            "[I 2024-04-30 01:54:02,914] Trial 22 finished with value: 595.2130667561286 and parameters: {'k1': 2, 'k2': 2, 'p1': 3, 'p2': 9, 'max_iters': 41, 'pool_size': 89}. Best is trial 22 with value: 595.2130667561286.\n",
            "[I 2024-04-30 01:58:14,427] Trial 21 finished with value: 766.6690372695662 and parameters: {'k1': 4, 'k2': 6, 'p1': 6, 'p2': 8, 'max_iters': 42, 'pool_size': 85}. Best is trial 22 with value: 595.2130667561286.\n",
            "[I 2024-04-30 01:59:28,002] Trial 23 finished with value: 612.1218939229603 and parameters: {'k1': 2, 'k2': 2, 'p1': 2, 'p2': 9, 'max_iters': 42, 'pool_size': 88}. Best is trial 22 with value: 595.2130667561286.\n",
            "[I 2024-04-30 02:03:13,256] Trial 24 finished with value: 602.0298323124063 and parameters: {'k1': 2, 'k2': 2, 'p1': 2, 'p2': 9, 'max_iters': 32, 'pool_size': 90}. Best is trial 22 with value: 595.2130667561286.\n",
            "[I 2024-04-30 02:03:55,762] Trial 25 finished with value: 593.2277847268834 and parameters: {'k1': 2, 'k2': 2, 'p1': 2, 'p2': 9, 'max_iters': 34, 'pool_size': 75}. Best is trial 25 with value: 593.2277847268834.\n",
            "[I 2024-04-30 02:08:06,695] Trial 26 finished with value: 641.6007710791303 and parameters: {'k1': 2, 'k2': 4, 'p1': 1, 'p2': 9, 'max_iters': 33, 'pool_size': 73}. Best is trial 25 with value: 593.2277847268834.\n",
            "[I 2024-04-30 02:08:23,507] Trial 27 finished with value: 634.3177601423527 and parameters: {'k1': 2, 'k2': 4, 'p1': 3, 'p2': 7, 'max_iters': 23, 'pool_size': 75}. Best is trial 25 with value: 593.2277847268834.\n",
            "[I 2024-04-30 02:10:21,165] Trial 29 finished with value: 652.3870401526834 and parameters: {'k1': 4, 'k2': 1, 'p1': 2, 'p2': 5, 'max_iters': 25, 'pool_size': 57}. Best is trial 25 with value: 593.2277847268834.\n",
            "[I 2024-04-30 02:12:00,011] Trial 30 finished with value: 948.364405560579 and parameters: {'k1': 4, 'k2': 8, 'p1': 5, 'p2': 7, 'max_iters': 11, 'pool_size': 39}. Best is trial 25 with value: 593.2277847268834.\n",
            "[I 2024-04-30 02:13:12,278] Trial 28 finished with value: 729.071265943309 and parameters: {'k1': 8, 'k2': 1, 'p1': 3, 'p2': 7, 'max_iters': 25, 'pool_size': 58}. Best is trial 25 with value: 593.2277847268834.\n",
            "[I 2024-04-30 02:17:11,089] Trial 32 finished with value: 590.6898021943156 and parameters: {'k1': 2, 'k2': 2, 'p1': 2, 'p2': 9, 'max_iters': 32, 'pool_size': 88}. Best is trial 32 with value: 590.6898021943156.\n",
            "[I 2024-04-30 02:22:17,634] Trial 33 finished with value: 620.0938845001828 and parameters: {'k1': 2, 'k2': 3, 'p1': 1, 'p2': 9, 'max_iters': 33, 'pool_size': 93}. Best is trial 32 with value: 590.6898021943156.\n",
            "[I 2024-04-30 02:22:21,769] Trial 34 finished with value: 581.4596416512022 and parameters: {'k1': 2, 'k2': 2, 'p1': 2, 'p2': 8, 'max_iters': 41, 'pool_size': 3}. Best is trial 34 with value: 581.4596416512022.\n",
            "[I 2024-04-30 02:22:32,520] Trial 35 finished with value: 627.0498741548269 and parameters: {'k1': 2, 'k2': 3, 'p1': 1, 'p2': 9, 'max_iters': 30, 'pool_size': 4}. Best is trial 34 with value: 581.4596416512022.\n",
            "[I 2024-04-30 02:23:31,716] Trial 31 finished with value: 783.852439818303 and parameters: {'k1': 9, 'k2': 3, 'p1': 3, 'p2': 9, 'max_iters': 32, 'pool_size': 78}. Best is trial 34 with value: 581.4596416512022.\n",
            "[I 2024-04-30 02:24:58,964] Trial 36 finished with value: 767.0124812616491 and parameters: {'k1': 5, 'k2': 5, 'p1': 2, 'p2': 8, 'max_iters': 43, 'pool_size': 18}. Best is trial 34 with value: 581.4596416512022.\n",
            "[I 2024-04-30 02:25:42,104] Trial 37 finished with value: 647.2425593105077 and parameters: {'k1': 5, 'k2': 2, 'p1': 2, 'p2': 4, 'max_iters': 42, 'pool_size': 24}. Best is trial 34 with value: 581.4596416512022.\n",
            "[I 2024-04-30 02:26:20,665] Trial 39 finished with value: 654.6149972038543 and parameters: {'k1': 2, 'k2': 4, 'p1': 10, 'p2': 7, 'max_iters': 46, 'pool_size': 6}. Best is trial 34 with value: 581.4596416512022.\n",
            "[I 2024-04-30 02:27:57,666] Trial 38 finished with value: 605.7413180765344 and parameters: {'k1': 2, 'k2': 4, 'p1': 1, 'p2': 7, 'max_iters': 47, 'pool_size': 28}. Best is trial 34 with value: 581.4596416512022.\n",
            "[I 2024-04-30 02:28:51,072] Trial 40 finished with value: 649.7782693391046 and parameters: {'k1': 1, 'k2': 5, 'p1': 1, 'p2': 10, 'max_iters': 29, 'pool_size': 38}. Best is trial 34 with value: 581.4596416512022.\n",
            "[I 2024-04-30 02:31:22,203] Trial 41 finished with value: 627.0808235170746 and parameters: {'k1': 3, 'k2': 1, 'p1': 7, 'p2': 10, 'max_iters': 29, 'pool_size': 68}. Best is trial 34 with value: 581.4596416512022.\n",
            "[I 2024-04-30 02:34:38,919] Trial 42 finished with value: 643.3720099614485 and parameters: {'k1': 3, 'k2': 2, 'p1': 3, 'p2': 8, 'max_iters': 40, 'pool_size': 69}. Best is trial 34 with value: 581.4596416512022.\n",
            "[I 2024-04-30 02:38:47,640] Trial 44 finished with value: 625.6568277412437 and parameters: {'k1': 1, 'k2': 2, 'p1': 2, 'p2': 8, 'max_iters': 35, 'pool_size': 93}. Best is trial 34 with value: 581.4596416512022.\n",
            "[I 2024-04-30 02:39:33,770] Trial 43 finished with value: 600.5273823991603 and parameters: {'k1': 3, 'k2': 2, 'p1': 3, 'p2': 8, 'max_iters': 40, 'pool_size': 92}. Best is trial 34 with value: 581.4596416512022.\n",
            "[I 2024-04-30 02:44:12,209] Trial 45 finished with value: 632.5068629273319 and parameters: {'k1': 3, 'k2': 1, 'p1': 4, 'p2': 6, 'max_iters': 40, 'pool_size': 76}. Best is trial 34 with value: 581.4596416512022.\n",
            "[I 2024-04-30 02:47:02,510] Trial 46 finished with value: 632.0187259363444 and parameters: {'k1': 4, 'k2': 1, 'p1': 4, 'p2': 6, 'max_iters': 39, 'pool_size': 93}. Best is trial 34 with value: 581.4596416512022.\n",
            "[I 2024-04-30 02:50:29,593] Trial 48 finished with value: 630.0902571678698 and parameters: {'k1': 1, 'k2': 3, 'p1': 2, 'p2': 9, 'max_iters': 35, 'pool_size': 63}. Best is trial 34 with value: 581.4596416512022.\n",
            "[I 2024-04-30 02:52:03,289] Trial 47 finished with value: 614.2240092028785 and parameters: {'k1': 2, 'k2': 2, 'p1': 4, 'p2': 9, 'max_iters': 44, 'pool_size': 94}. Best is trial 34 with value: 581.4596416512022.\n",
            "[I 2024-04-30 02:52:45,696] Trial 49 finished with value: 602.5784819842626 and parameters: {'k1': 2, 'k2': 2, 'p1': 3, 'p2': 4, 'max_iters': 45, 'pool_size': 43}. Best is trial 34 with value: 581.4596416512022.\n",
            "[I 2024-04-30 02:52:45,930] A new study created in memory with name: no-name-6aa4318e-da4a-4b1e-a65c-723f8e8d1f8a\n",
            "[I 2024-04-30 02:52:51,659] Trial 0 finished with value: 1811.4724677789973 and parameters: {'n_estimators': 150, 'criterion': 'absolute_error', 'max_depth': 4, 'min_samples_leaf': 5, 'max_features': 0.8917331504797643, 'maks_iterasjoner': 10, 'std_terskel': 0.03249270631522726}. Best is trial 0 with value: 1811.4724677789973.\n",
            "[I 2024-04-30 02:52:58,101] Trial 1 finished with value: 1108.2749511222924 and parameters: {'n_estimators': 397, 'criterion': 'poisson', 'max_depth': 8, 'min_samples_leaf': 1, 'max_features': 0.5123222763421422, 'maks_iterasjoner': 17, 'std_terskel': 0.024319731929874328}. Best is trial 1 with value: 1108.2749511222924.\n",
            "[I 2024-04-30 02:52:59,325] Trial 2 finished with value: 1262.7583019010688 and parameters: {'n_estimators': 218, 'criterion': 'friedman_mse', 'max_depth': 27, 'min_samples_leaf': 2, 'max_features': 0.4966322221614039, 'maks_iterasjoner': 6, 'std_terskel': 0.022396194279249694}. Best is trial 1 with value: 1108.2749511222924.\n",
            "[I 2024-04-30 02:53:05,913] Trial 3 finished with value: 1401.5396605646101 and parameters: {'n_estimators': 242, 'criterion': 'friedman_mse', 'max_depth': 15, 'min_samples_leaf': 2, 'max_features': 0.21060906094649756, 'maks_iterasjoner': 11, 'std_terskel': 0.04229635849716596}. Best is trial 1 with value: 1108.2749511222924.\n",
            "[I 2024-04-30 02:53:10,577] Trial 4 finished with value: 1193.5206060960966 and parameters: {'n_estimators': 350, 'criterion': 'squared_error', 'max_depth': 23, 'min_samples_leaf': 1, 'max_features': 0.25806905825443793, 'maks_iterasjoner': 11, 'std_terskel': 0.010532066527513498}. Best is trial 1 with value: 1108.2749511222924.\n",
            "[I 2024-04-30 02:53:11,650] Trial 5 finished with value: 1514.7587978116203 and parameters: {'n_estimators': 145, 'criterion': 'absolute_error', 'max_depth': 9, 'min_samples_leaf': 3, 'max_features': 0.5104101914717128, 'maks_iterasjoner': 19, 'std_terskel': 0.042562942661095254}. Best is trial 1 with value: 1108.2749511222924.\n",
            "[I 2024-04-30 02:53:17,928] Trial 7 finished with value: 1433.389250651132 and parameters: {'n_estimators': 145, 'criterion': 'absolute_error', 'max_depth': 23, 'min_samples_leaf': 3, 'max_features': 0.8726396200166969, 'maks_iterasjoner': 5, 'std_terskel': 0.03131351967546706}. Best is trial 1 with value: 1108.2749511222924.\n",
            "[I 2024-04-30 02:53:20,946] Trial 6 finished with value: 1535.02629722489 and parameters: {'n_estimators': 349, 'criterion': 'poisson', 'max_depth': 17, 'min_samples_leaf': 4, 'max_features': 0.6438280448655979, 'maks_iterasjoner': 19, 'std_terskel': 0.02455792569186757}. Best is trial 1 with value: 1108.2749511222924.\n",
            "[I 2024-04-30 02:53:29,891] Trial 8 finished with value: 1734.1795304171887 and parameters: {'n_estimators': 421, 'criterion': 'friedman_mse', 'max_depth': 18, 'min_samples_leaf': 5, 'max_features': 0.6137271282636542, 'maks_iterasjoner': 18, 'std_terskel': 0.031038177924398246}. Best is trial 1 with value: 1108.2749511222924.\n",
            "[I 2024-04-30 02:53:40,609] Trial 9 finished with value: 1184.570325886116 and parameters: {'n_estimators': 489, 'criterion': 'absolute_error', 'max_depth': 15, 'min_samples_leaf': 1, 'max_features': 0.17667929090139722, 'maks_iterasjoner': 10, 'std_terskel': 0.026107046157722295}. Best is trial 1 with value: 1108.2749511222924.\n",
            "[I 2024-04-30 02:53:41,091] Trial 10 finished with value: 1830.2758558292471 and parameters: {'n_estimators': 360, 'criterion': 'absolute_error', 'max_depth': 14, 'min_samples_leaf': 5, 'max_features': 0.6208232570309852, 'maks_iterasjoner': 18, 'std_terskel': 0.02544010663325192}. Best is trial 1 with value: 1108.2749511222924.\n",
            "[I 2024-04-30 02:53:56,257] Trial 12 finished with value: 1570.9049309379182 and parameters: {'n_estimators': 499, 'criterion': 'poisson', 'max_depth': 2, 'min_samples_leaf': 1, 'max_features': 0.3529027410193983, 'maks_iterasjoner': 14, 'std_terskel': 0.01924284829506447}. Best is trial 1 with value: 1108.2749511222924.\n",
            "[I 2024-04-30 02:53:57,343] Trial 11 finished with value: 1415.0929849599504 and parameters: {'n_estimators': 495, 'criterion': 'poisson', 'max_depth': 3, 'min_samples_leaf': 2, 'max_features': 0.33248009746958207, 'maks_iterasjoner': 15, 'std_terskel': 0.013826222240235404}. Best is trial 1 with value: 1108.2749511222924.\n",
            "[I 2024-04-30 02:54:11,775] Trial 14 finished with value: 1160.5921507985893 and parameters: {'n_estimators': 431, 'criterion': 'squared_error', 'max_depth': 9, 'min_samples_leaf': 1, 'max_features': 0.10134452114566142, 'maks_iterasjoner': 1, 'std_terskel': 0.03585716961240905}. Best is trial 1 with value: 1108.2749511222924.\n",
            "[I 2024-04-30 02:54:13,210] Trial 13 finished with value: 1167.8453454273545 and parameters: {'n_estimators': 500, 'criterion': 'poisson', 'max_depth': 9, 'min_samples_leaf': 1, 'max_features': 0.11272818216260577, 'maks_iterasjoner': 2, 'std_terskel': 0.015475458161571443}. Best is trial 1 with value: 1108.2749511222924.\n",
            "[I 2024-04-30 02:54:23,876] Trial 15 finished with value: 1160.3406776533652 and parameters: {'n_estimators': 405, 'criterion': 'squared_error', 'max_depth': 9, 'min_samples_leaf': 1, 'max_features': 0.11283774142428138, 'maks_iterasjoner': 1, 'std_terskel': 0.037863932321152316}. Best is trial 1 with value: 1108.2749511222924.\n",
            "[I 2024-04-30 02:54:26,172] Trial 16 finished with value: 1255.482066245485 and parameters: {'n_estimators': 405, 'criterion': 'squared_error', 'max_depth': 9, 'min_samples_leaf': 2, 'max_features': 0.7657968363549305, 'maks_iterasjoner': 2, 'std_terskel': 0.035935173235505886}. Best is trial 1 with value: 1108.2749511222924.\n",
            "[I 2024-04-30 02:54:34,669] Trial 18 finished with value: 1574.3177140490257 and parameters: {'n_estimators': 281, 'criterion': 'squared_error', 'max_depth': 6, 'min_samples_leaf': 4, 'max_features': 0.40565544592761205, 'maks_iterasjoner': 7, 'std_terskel': 0.04915953683082357}. Best is trial 1 with value: 1108.2749511222924.\n",
            "[I 2024-04-30 02:54:39,106] Trial 17 finished with value: 1257.507310636734 and parameters: {'n_estimators': 408, 'criterion': 'squared_error', 'max_depth': 6, 'min_samples_leaf': 2, 'max_features': 0.7647986517751316, 'maks_iterasjoner': 6, 'std_terskel': 0.046845244137739966}. Best is trial 1 with value: 1108.2749511222924.\n",
            "[I 2024-04-30 02:54:47,459] Trial 19 finished with value: 1260.7402964835946 and parameters: {'n_estimators': 307, 'criterion': 'squared_error', 'max_depth': 11, 'min_samples_leaf': 2, 'max_features': 0.7429439338497059, 'maks_iterasjoner': 15, 'std_terskel': 0.03974806129744313}. Best is trial 1 with value: 1108.2749511222924.\n",
            "[I 2024-04-30 02:54:48,684] Trial 20 finished with value: 1356.713385777301 and parameters: {'n_estimators': 311, 'criterion': 'poisson', 'max_depth': 12, 'min_samples_leaf': 3, 'max_features': 0.9928407727288534, 'maks_iterasjoner': 15, 'std_terskel': 0.03804455480045138}. Best is trial 1 with value: 1108.2749511222924.\n",
            "[I 2024-04-30 02:55:01,986] Trial 21 finished with value: 1351.3068279173842 and parameters: {'n_estimators': 440, 'criterion': 'poisson', 'max_depth': 19, 'min_samples_leaf': 3, 'max_features': 0.9876820676845651, 'maks_iterasjoner': 13, 'std_terskel': 0.03561771658814443}. Best is trial 1 with value: 1108.2749511222924.\n",
            "[I 2024-04-30 02:55:02,959] Trial 22 finished with value: 1203.5682634039879 and parameters: {'n_estimators': 449, 'criterion': 'squared_error', 'max_depth': 6, 'min_samples_leaf': 1, 'max_features': 0.10343661130209938, 'maks_iterasjoner': 1, 'std_terskel': 0.035867210575110414}. Best is trial 1 with value: 1108.2749511222924.\n",
            "[I 2024-04-30 02:55:15,528] Trial 24 finished with value: 1190.1436263622193 and parameters: {'n_estimators': 373, 'criterion': 'squared_error', 'max_depth': 12, 'min_samples_leaf': 1, 'max_features': 0.2676716966658157, 'maks_iterasjoner': 4, 'std_terskel': 0.026993979192907434}. Best is trial 1 with value: 1108.2749511222924.\n",
            "[I 2024-04-30 02:55:15,880] Trial 23 finished with value: 1201.8103167195984 and parameters: {'n_estimators': 446, 'criterion': 'squared_error', 'max_depth': 6, 'min_samples_leaf': 1, 'max_features': 0.11378890013899706, 'maks_iterasjoner': 1, 'std_terskel': 0.028881723113655847}. Best is trial 1 with value: 1108.2749511222924.\n",
            "[I 2024-04-30 02:55:25,479] Trial 25 finished with value: 1899.9521063790094 and parameters: {'n_estimators': 377, 'criterion': 'squared_error', 'max_depth': 1, 'min_samples_leaf': 1, 'max_features': 0.42413399349642267, 'maks_iterasjoner': 3, 'std_terskel': 0.029077589491315402}. Best is trial 1 with value: 1108.2749511222924.\n",
            "[I 2024-04-30 02:55:30,006] Trial 26 finished with value: 1127.3031955611928 and parameters: {'n_estimators': 389, 'criterion': 'squared_error', 'max_depth': 9, 'min_samples_leaf': 1, 'max_features': 0.458477600233878, 'maks_iterasjoner': 8, 'std_terskel': 0.0203072507321519}. Best is trial 1 with value: 1108.2749511222924.\n",
            "[I 2024-04-30 02:55:35,719] Trial 27 finished with value: 1378.4198615941086 and parameters: {'n_estimators': 326, 'criterion': 'squared_error', 'max_depth': 9, 'min_samples_leaf': 2, 'max_features': 0.19749366545669028, 'maks_iterasjoner': 8, 'std_terskel': 0.021013620558850178}. Best is trial 1 with value: 1108.2749511222924.\n",
            "[I 2024-04-30 02:55:45,783] Trial 28 finished with value: 1279.8823035193748 and parameters: {'n_estimators': 390, 'criterion': 'poisson', 'max_depth': 11, 'min_samples_leaf': 2, 'max_features': 0.45612248404304734, 'maks_iterasjoner': 8, 'std_terskel': 0.020572671750714273}. Best is trial 1 with value: 1108.2749511222924.\n",
            "[I 2024-04-30 02:55:51,402] Trial 29 finished with value: 1118.998799166154 and parameters: {'n_estimators': 391, 'criterion': 'poisson', 'max_depth': 13, 'min_samples_leaf': 1, 'max_features': 0.45516796357954425, 'maks_iterasjoner': 8, 'std_terskel': 0.017603180339875388}. Best is trial 1 with value: 1108.2749511222924.\n",
            "[I 2024-04-30 02:55:59,614] Trial 31 finished with value: 1572.690516924879 and parameters: {'n_estimators': 282, 'criterion': 'poisson', 'max_depth': 4, 'min_samples_leaf': 4, 'max_features': 0.5254563276241887, 'maks_iterasjoner': 9, 'std_terskel': 0.017586479971756826}. Best is trial 1 with value: 1108.2749511222924.\n",
            "[I 2024-04-30 02:56:01,574] Trial 30 finished with value: 1207.1659945789752 and parameters: {'n_estimators': 463, 'criterion': 'friedman_mse', 'max_depth': 4, 'min_samples_leaf': 1, 'max_features': 0.5642518689012539, 'maks_iterasjoner': 12, 'std_terskel': 0.018338004584112083}. Best is trial 1 with value: 1108.2749511222924.\n",
            "[I 2024-04-30 02:56:05,316] Trial 33 finished with value: 1152.0406743479577 and parameters: {'n_estimators': 106, 'criterion': 'poisson', 'max_depth': 13, 'min_samples_leaf': 1, 'max_features': 0.35926909613582747, 'maks_iterasjoner': 9, 'std_terskel': 0.023282969189443174}. Best is trial 1 with value: 1108.2749511222924.\n",
            "[I 2024-04-30 02:56:10,980] Trial 34 finished with value: 1144.5870574224314 and parameters: {'n_estimators': 172, 'criterion': 'poisson', 'max_depth': 13, 'min_samples_leaf': 1, 'max_features': 0.3560714658404282, 'maks_iterasjoner': 9, 'std_terskel': 0.0224467926440839}. Best is trial 1 with value: 1108.2749511222924.\n",
            "[I 2024-04-30 02:56:14,616] Trial 32 finished with value: 1107.950755364408 and parameters: {'n_estimators': 469, 'criterion': 'poisson', 'max_depth': 13, 'min_samples_leaf': 1, 'max_features': 0.5886007289486558, 'maks_iterasjoner': 13, 'std_terskel': 0.016035877026785578}. Best is trial 32 with value: 1107.950755364408.\n",
            "[I 2024-04-30 02:56:18,238] Trial 35 finished with value: 1275.711606915122 and parameters: {'n_estimators': 214, 'criterion': 'poisson', 'max_depth': 30, 'min_samples_leaf': 2, 'max_features': 0.4565046706215521, 'maks_iterasjoner': 6, 'std_terskel': 0.012714611539009067}. Best is trial 32 with value: 1107.950755364408.\n",
            "[I 2024-04-30 02:56:29,490] Trial 36 finished with value: 1257.9297422129855 and parameters: {'n_estimators': 468, 'criterion': 'poisson', 'max_depth': 20, 'min_samples_leaf': 2, 'max_features': 0.4742671801290639, 'maks_iterasjoner': 17, 'std_terskel': 0.010934137910177267}. Best is trial 32 with value: 1107.950755364408.\n",
            "[I 2024-04-30 02:56:32,462] Trial 37 finished with value: 1224.8977919564168 and parameters: {'n_estimators': 470, 'criterion': 'poisson', 'max_depth': 20, 'min_samples_leaf': 2, 'max_features': 0.6949225705163224, 'maks_iterasjoner': 17, 'std_terskel': 0.010127294665433516}. Best is trial 32 with value: 1107.950755364408.\n",
            "[I 2024-04-30 02:56:39,987] Trial 38 finished with value: 1145.906074813456 and parameters: {'n_estimators': 335, 'criterion': 'friedman_mse', 'max_depth': 15, 'min_samples_leaf': 1, 'max_features': 0.5662137229686739, 'maks_iterasjoner': 11, 'std_terskel': 0.016215633302053386}. Best is trial 32 with value: 1107.950755364408.\n",
            "[I 2024-04-30 02:56:43,253] Trial 39 finished with value: 1146.1782944397548 and parameters: {'n_estimators': 344, 'criterion': 'friedman_mse', 'max_depth': 16, 'min_samples_leaf': 1, 'max_features': 0.5750374436671885, 'maks_iterasjoner': 12, 'std_terskel': 0.016337454425133215}. Best is trial 32 with value: 1107.950755364408.\n",
            "[I 2024-04-30 02:56:50,807] Trial 40 finished with value: 1104.969342293618 and parameters: {'n_estimators': 385, 'criterion': 'poisson', 'max_depth': 7, 'min_samples_leaf': 1, 'max_features': 0.5795659034765521, 'maks_iterasjoner': 12, 'std_terskel': 0.015576769036551544}. Best is trial 40 with value: 1104.969342293618.\n",
            "[I 2024-04-30 02:56:59,341] Trial 41 finished with value: 1086.0064675200722 and parameters: {'n_estimators': 385, 'criterion': 'absolute_error', 'max_depth': 22, 'min_samples_leaf': 1, 'max_features': 0.6651852987156072, 'maks_iterasjoner': 20, 'std_terskel': 0.02058287506810659}. Best is trial 41 with value: 1086.0064675200722.\n",
            "[I 2024-04-30 02:57:01,637] Trial 42 finished with value: 1092.278937637954 and parameters: {'n_estimators': 384, 'criterion': 'poisson', 'max_depth': 7, 'min_samples_leaf': 1, 'max_features': 0.6667356057575979, 'maks_iterasjoner': 10, 'std_terskel': 0.013831364417868076}. Best is trial 41 with value: 1086.0064675200722.\n",
            "[I 2024-04-30 02:57:12,904] Trial 43 finished with value: 1083.410749118086 and parameters: {'n_estimators': 360, 'criterion': 'absolute_error', 'max_depth': 23, 'min_samples_leaf': 1, 'max_features': 0.6750269457725588, 'maks_iterasjoner': 19, 'std_terskel': 0.013101981814498034}. Best is trial 43 with value: 1083.410749118086.\n",
            "[I 2024-04-30 02:57:14,599] Trial 44 finished with value: 1083.2566328977484 and parameters: {'n_estimators': 365, 'criterion': 'absolute_error', 'max_depth': 24, 'min_samples_leaf': 1, 'max_features': 0.6784551785068564, 'maks_iterasjoner': 20, 'std_terskel': 0.013979466867934177}. Best is trial 44 with value: 1083.2566328977484.\n",
            "[I 2024-04-30 02:57:26,088] Trial 46 finished with value: 1255.3438851124251 and parameters: {'n_estimators': 356, 'criterion': 'absolute_error', 'max_depth': 25, 'min_samples_leaf': 2, 'max_features': 0.6780909333771178, 'maks_iterasjoner': 20, 'std_terskel': 0.013777337753639464}. Best is trial 44 with value: 1083.2566328977484.\n",
            "[I 2024-04-30 02:57:26,390] Trial 45 finished with value: 1083.3684348097802 and parameters: {'n_estimators': 366, 'criterion': 'absolute_error', 'max_depth': 24, 'min_samples_leaf': 1, 'max_features': 0.6669191016018485, 'maks_iterasjoner': 20, 'std_terskel': 0.01348441576886971}. Best is trial 44 with value: 1083.2566328977484.\n",
            "[I 2024-04-30 02:57:39,339] Trial 48 finished with value: 1066.6731234295814 and parameters: {'n_estimators': 365, 'criterion': 'absolute_error', 'max_depth': 23, 'min_samples_leaf': 1, 'max_features': 0.8049733249753767, 'maks_iterasjoner': 20, 'std_terskel': 0.011299241149210605}. Best is trial 48 with value: 1066.6731234295814.\n",
            "[I 2024-04-30 02:57:39,422] Trial 47 finished with value: 1065.8735951376689 and parameters: {'n_estimators': 371, 'criterion': 'absolute_error', 'max_depth': 23, 'min_samples_leaf': 1, 'max_features': 0.8425852279892971, 'maks_iterasjoner': 20, 'std_terskel': 0.012321134227146261}. Best is trial 47 with value: 1065.8735951376689.\n",
            "[I 2024-04-30 02:57:45,202] Trial 49 finished with value: 1067.2772497506653 and parameters: {'n_estimators': 363, 'criterion': 'absolute_error', 'max_depth': 23, 'min_samples_leaf': 1, 'max_features': 0.8312837678433587, 'maks_iterasjoner': 20, 'std_terskel': 0.01294604137589142}. Best is trial 47 with value: 1065.8735951376689.\n",
            "[I 2024-04-30 02:57:46,410] A new study created in memory with name: no-name-d1e97f92-2db6-46dd-ad54-6c03441acd81\n",
            "[I 2024-04-30 02:57:52,187] Trial 1 finished with value: 1406.4014767971628 and parameters: {'k': 424, 'graf_vektet_harmonic': False, 'initiell_respons': 'domain_mean', 'alpha': 0.807, 'maks_iterasjoner_harmonic': 41, 'maks_iterasjoner_heat': 24}. Best is trial 1 with value: 1406.4014767971628.\n",
            "[I 2024-04-30 02:57:52,361] Trial 0 finished with value: 1716.903488328322 and parameters: {'k': 486, 'graf_vektet_harmonic': True, 'initiell_respons': 'domain_median', 'alpha': 0.395, 'maks_iterasjoner_harmonic': 26, 'maks_iterasjoner_heat': 94}. Best is trial 1 with value: 1406.4014767971628.\n",
            "[I 2024-04-30 02:57:57,187] Trial 2 finished with value: 1288.4833300390208 and parameters: {'k': 550, 'graf_vektet_harmonic': False, 'initiell_respons': 'domain_mean', 'alpha': 0.34700000000000003, 'maks_iterasjoner_harmonic': 59, 'maks_iterasjoner_heat': 99}. Best is trial 2 with value: 1288.4833300390208.\n",
            "[I 2024-04-30 02:57:57,230] Trial 3 finished with value: 1424.7385229552106 and parameters: {'k': 575, 'graf_vektet_harmonic': True, 'initiell_respons': 'domain_mean', 'alpha': 0.295, 'maks_iterasjoner_harmonic': 53, 'maks_iterasjoner_heat': 30}. Best is trial 2 with value: 1288.4833300390208.\n",
            "[I 2024-04-30 02:58:02,370] Trial 4 finished with value: 1606.1909265234328 and parameters: {'k': 520, 'graf_vektet_harmonic': True, 'initiell_respons': 'domain_mean', 'alpha': 0.41300000000000003, 'maks_iterasjoner_harmonic': 16, 'maks_iterasjoner_heat': 95}. Best is trial 2 with value: 1288.4833300390208.\n",
            "[I 2024-04-30 02:58:02,438] Trial 5 finished with value: 1276.3170773451423 and parameters: {'k': 381, 'graf_vektet_harmonic': False, 'initiell_respons': 'domain_mean', 'alpha': 0.214, 'maks_iterasjoner_harmonic': 72, 'maks_iterasjoner_heat': 99}. Best is trial 5 with value: 1276.3170773451423.\n",
            "[I 2024-04-30 02:58:07,677] Trial 6 finished with value: 2090.6515902369165 and parameters: {'k': 612, 'graf_vektet_harmonic': True, 'initiell_respons': 'domain_mean', 'alpha': 0.6900000000000001, 'maks_iterasjoner_harmonic': 68, 'maks_iterasjoner_heat': 10}. Best is trial 5 with value: 1276.3170773451423.\n",
            "[I 2024-04-30 02:58:07,932] Trial 7 finished with value: 1523.274456575571 and parameters: {'k': 500, 'graf_vektet_harmonic': False, 'initiell_respons': 'domain_median', 'alpha': 0.838, 'maks_iterasjoner_harmonic': 77, 'maks_iterasjoner_heat': 21}. Best is trial 5 with value: 1276.3170773451423.\n",
            "[I 2024-04-30 02:58:13,048] Trial 8 finished with value: 1436.2731227386707 and parameters: {'k': 653, 'graf_vektet_harmonic': False, 'initiell_respons': 'domain_median', 'alpha': 0.468, 'maks_iterasjoner_harmonic': 84, 'maks_iterasjoner_heat': 56}. Best is trial 5 with value: 1276.3170773451423.\n",
            "[I 2024-04-30 02:58:13,105] Trial 9 finished with value: 1418.5003312123742 and parameters: {'k': 550, 'graf_vektet_harmonic': False, 'initiell_respons': 'domain_median', 'alpha': 0.337, 'maks_iterasjoner_harmonic': 90, 'maks_iterasjoner_heat': 57}. Best is trial 5 with value: 1276.3170773451423.\n",
            "[I 2024-04-30 02:58:19,085] Trial 10 finished with value: 2330.5754536472364 and parameters: {'k': 479, 'graf_vektet_harmonic': True, 'initiell_respons': 'domain_mean', 'alpha': 0.873, 'maks_iterasjoner_harmonic': 75, 'maks_iterasjoner_heat': 80}. Best is trial 5 with value: 1276.3170773451423.\n",
            "[I 2024-04-30 02:58:19,280] Trial 11 finished with value: 1274.5985932398626 and parameters: {'k': 374, 'graf_vektet_harmonic': False, 'initiell_respons': 'domain_mean', 'alpha': 0.112, 'maks_iterasjoner_harmonic': 99, 'maks_iterasjoner_heat': 73}. Best is trial 11 with value: 1274.5985932398626.\n",
            "[I 2024-04-30 02:58:23,289] Trial 12 finished with value: 1278.6980351379984 and parameters: {'k': 356, 'graf_vektet_harmonic': False, 'initiell_respons': 'domain_mean', 'alpha': 0.026000000000000002, 'maks_iterasjoner_harmonic': 56, 'maks_iterasjoner_heat': 75}. Best is trial 11 with value: 1274.5985932398626.\n",
            "[I 2024-04-30 02:58:23,742] Trial 13 finished with value: 1275.8110665137785 and parameters: {'k': 353, 'graf_vektet_harmonic': False, 'initiell_respons': 'domain_mean', 'alpha': 0.07, 'maks_iterasjoner_harmonic': 100, 'maks_iterasjoner_heat': 77}. Best is trial 11 with value: 1274.5985932398626.\n",
            "[I 2024-04-30 02:58:27,642] Trial 14 finished with value: 1275.3205215864957 and parameters: {'k': 351, 'graf_vektet_harmonic': False, 'initiell_respons': 'domain_mean', 'alpha': 0.079, 'maks_iterasjoner_harmonic': 99, 'maks_iterasjoner_heat': 74}. Best is trial 11 with value: 1274.5985932398626.\n",
            "[I 2024-04-30 02:58:28,198] Trial 15 finished with value: 1280.7844632682918 and parameters: {'k': 418, 'graf_vektet_harmonic': False, 'initiell_respons': 'domain_mean', 'alpha': 0.016, 'maks_iterasjoner_harmonic': 100, 'maks_iterasjoner_heat': 69}. Best is trial 11 with value: 1274.5985932398626.\n",
            "[I 2024-04-30 02:58:33,569] Trial 16 finished with value: 1274.83844528823 and parameters: {'k': 422, 'graf_vektet_harmonic': False, 'initiell_respons': 'domain_mean', 'alpha': 0.14400000000000002, 'maks_iterasjoner_harmonic': 100, 'maks_iterasjoner_heat': 43}. Best is trial 11 with value: 1274.5985932398626.\n",
            "[I 2024-04-30 02:58:33,967] Trial 17 finished with value: 1274.8859474958879 and parameters: {'k': 421, 'graf_vektet_harmonic': False, 'initiell_respons': 'domain_mean', 'alpha': 0.161, 'maks_iterasjoner_harmonic': 88, 'maks_iterasjoner_heat': 39}. Best is trial 11 with value: 1274.5985932398626.\n",
            "[I 2024-04-30 02:58:38,174] Trial 18 finished with value: 1347.8737035715512 and parameters: {'k': 439, 'graf_vektet_harmonic': False, 'initiell_respons': 'domain_mean', 'alpha': 0.584, 'maks_iterasjoner_harmonic': 87, 'maks_iterasjoner_heat': 44}. Best is trial 11 with value: 1274.5985932398626.\n",
            "[I 2024-04-30 02:58:38,381] Trial 19 finished with value: 1468.996827742416 and parameters: {'k': 449, 'graf_vektet_harmonic': False, 'initiell_respons': 'domain_median', 'alpha': 0.5680000000000001, 'maks_iterasjoner_harmonic': 37, 'maks_iterasjoner_heat': 44}. Best is trial 11 with value: 1274.5985932398626.\n",
            "[I 2024-04-30 02:58:42,889] Trial 21 finished with value: 1342.7524159545042 and parameters: {'k': 398, 'graf_vektet_harmonic': False, 'initiell_respons': 'domain_mean', 'alpha': 0.188, 'maks_iterasjoner_harmonic': 7, 'maks_iterasjoner_heat': 63}. Best is trial 11 with value: 1274.5985932398626.\n",
            "[I 2024-04-30 02:58:43,125] Trial 20 finished with value: 1505.9606049597326 and parameters: {'k': 456, 'graf_vektet_harmonic': False, 'initiell_respons': 'domain_median', 'alpha': 0.20500000000000002, 'maks_iterasjoner_harmonic': 6, 'maks_iterasjoner_heat': 63}. Best is trial 11 with value: 1274.5985932398626.\n",
            "[I 2024-04-30 02:58:48,751] Trial 23 finished with value: 1274.4307517530044 and parameters: {'k': 393, 'graf_vektet_harmonic': False, 'initiell_respons': 'domain_mean', 'alpha': 0.146, 'maks_iterasjoner_harmonic': 89, 'maks_iterasjoner_heat': 36}. Best is trial 23 with value: 1274.4307517530044.\n",
            "[I 2024-04-30 02:58:48,940] Trial 22 finished with value: 1275.1821697089963 and parameters: {'k': 451, 'graf_vektet_harmonic': False, 'initiell_respons': 'domain_mean', 'alpha': 0.169, 'maks_iterasjoner_harmonic': 91, 'maks_iterasjoner_heat': 38}. Best is trial 23 with value: 1274.4307517530044.\n",
            "[I 2024-04-30 02:58:53,230] Trial 24 finished with value: 1274.505944319086 and parameters: {'k': 389, 'graf_vektet_harmonic': False, 'initiell_respons': 'domain_mean', 'alpha': 0.145, 'maks_iterasjoner_harmonic': 91, 'maks_iterasjoner_heat': 35}. Best is trial 23 with value: 1274.4307517530044.\n",
            "[I 2024-04-30 02:58:53,417] Trial 25 finished with value: 1444.01325563342 and parameters: {'k': 386, 'graf_vektet_harmonic': False, 'initiell_respons': 'domain_mean', 'alpha': 0.979, 'maks_iterasjoner_harmonic': 80, 'maks_iterasjoner_heat': 51}. Best is trial 23 with value: 1274.4307517530044.\n",
            "[I 2024-04-30 02:58:58,284] Trial 26 finished with value: 1279.2359043159045 and parameters: {'k': 386, 'graf_vektet_harmonic': False, 'initiell_respons': 'domain_mean', 'alpha': 0.26, 'maks_iterasjoner_harmonic': 64, 'maks_iterasjoner_heat': 12}. Best is trial 23 with value: 1274.4307517530044.\n",
            "[I 2024-04-30 02:58:58,456] Trial 27 finished with value: 1395.703835900553 and parameters: {'k': 375, 'graf_vektet_harmonic': True, 'initiell_respons': 'domain_mean', 'alpha': 0.273, 'maks_iterasjoner_harmonic': 65, 'maks_iterasjoner_heat': 15}. Best is trial 23 with value: 1274.4307517530044.\n",
            "[I 2024-04-30 02:59:03,112] Trial 29 finished with value: 1269.4137847810623 and parameters: {'k': 342, 'graf_vektet_harmonic': False, 'initiell_respons': 'domain_mean', 'alpha': 0.101, 'maks_iterasjoner_harmonic': 46, 'maks_iterasjoner_heat': 1}. Best is trial 29 with value: 1269.4137847810623.\n",
            "[I 2024-04-30 02:59:03,472] Trial 28 finished with value: 1248.9740259850798 and parameters: {'k': 370, 'graf_vektet_harmonic': True, 'initiell_respons': 'domain_mean', 'alpha': 0.11, 'maks_iterasjoner_harmonic': 93, 'maks_iterasjoner_heat': 32}. Best is trial 28 with value: 1248.9740259850798.\n",
            "[I 2024-04-30 02:59:07,564] Trial 31 finished with value: 1413.738316595592 and parameters: {'k': 344, 'graf_vektet_harmonic': True, 'initiell_respons': 'domain_median', 'alpha': 0.007, 'maks_iterasjoner_harmonic': 45, 'maks_iterasjoner_heat': 3}. Best is trial 28 with value: 1248.9740259850798.\n",
            "[I 2024-04-30 02:59:07,791] Trial 30 finished with value: 1415.128865064743 and parameters: {'k': 478, 'graf_vektet_harmonic': True, 'initiell_respons': 'domain_median', 'alpha': 0.005, 'maks_iterasjoner_harmonic': 37, 'maks_iterasjoner_heat': 4}. Best is trial 28 with value: 1248.9740259850798.\n",
            "[I 2024-04-30 02:59:12,466] Trial 32 finished with value: 1246.1690988364717 and parameters: {'k': 399, 'graf_vektet_harmonic': True, 'initiell_respons': 'domain_mean', 'alpha': 0.098, 'maks_iterasjoner_harmonic': 28, 'maks_iterasjoner_heat': 31}. Best is trial 32 with value: 1246.1690988364717.\n",
            "[I 2024-04-30 02:59:12,734] Trial 33 finished with value: 1247.2183991370666 and parameters: {'k': 366, 'graf_vektet_harmonic': True, 'initiell_respons': 'domain_mean', 'alpha': 0.10300000000000001, 'maks_iterasjoner_harmonic': 49, 'maks_iterasjoner_heat': 30}. Best is trial 32 with value: 1246.1690988364717.\n",
            "[I 2024-04-30 02:59:17,615] Trial 34 finished with value: 1245.0797970201747 and parameters: {'k': 404, 'graf_vektet_harmonic': True, 'initiell_respons': 'domain_mean', 'alpha': 0.088, 'maks_iterasjoner_harmonic': 19, 'maks_iterasjoner_heat': 28}. Best is trial 34 with value: 1245.0797970201747.\n",
            "[I 2024-04-30 02:59:17,698] Trial 35 finished with value: 1245.6494420547083 and parameters: {'k': 408, 'graf_vektet_harmonic': True, 'initiell_respons': 'domain_mean', 'alpha': 0.07, 'maks_iterasjoner_harmonic': 26, 'maks_iterasjoner_heat': 24}. Best is trial 34 with value: 1245.0797970201747.\n",
            "[I 2024-04-30 02:59:21,562] Trial 36 finished with value: 1351.5596507258895 and parameters: {'k': 366, 'graf_vektet_harmonic': True, 'initiell_respons': 'domain_mean', 'alpha': 0.23900000000000002, 'maks_iterasjoner_harmonic': 27, 'maks_iterasjoner_heat': 25}. Best is trial 34 with value: 1245.0797970201747.\n",
            "[I 2024-04-30 02:59:21,829] Trial 37 finished with value: 1538.2473397035733 and parameters: {'k': 412, 'graf_vektet_harmonic': True, 'initiell_respons': 'domain_mean', 'alpha': 0.369, 'maks_iterasjoner_harmonic': 26, 'maks_iterasjoner_heat': 24}. Best is trial 34 with value: 1245.0797970201747.\n",
            "[I 2024-04-30 02:59:27,172] Trial 38 finished with value: 1471.016653623195 and parameters: {'k': 407, 'graf_vektet_harmonic': True, 'initiell_respons': 'domain_mean', 'alpha': 0.326, 'maks_iterasjoner_harmonic': 24, 'maks_iterasjoner_heat': 26}. Best is trial 34 with value: 1245.0797970201747.\n",
            "[I 2024-04-30 02:59:27,326] Trial 39 finished with value: 1433.4359537462428 and parameters: {'k': 405, 'graf_vektet_harmonic': True, 'initiell_respons': 'domain_mean', 'alpha': 0.3, 'maks_iterasjoner_harmonic': 18, 'maks_iterasjoner_heat': 20}. Best is trial 34 with value: 1245.0797970201747.\n",
            "[I 2024-04-30 02:59:32,666] Trial 40 finished with value: 1640.6566203383354 and parameters: {'k': 433, 'graf_vektet_harmonic': True, 'initiell_respons': 'domain_mean', 'alpha': 0.429, 'maks_iterasjoner_harmonic': 15, 'maks_iterasjoner_heat': 15}. Best is trial 34 with value: 1245.0797970201747.\n",
            "[I 2024-04-30 02:59:33,051] Trial 41 finished with value: 1247.2909712192375 and parameters: {'k': 526, 'graf_vektet_harmonic': True, 'initiell_respons': 'domain_mean', 'alpha': 0.061, 'maks_iterasjoner_harmonic': 32, 'maks_iterasjoner_heat': 17}. Best is trial 34 with value: 1245.0797970201747.\n",
            "[I 2024-04-30 02:59:36,808] Trial 42 finished with value: 1245.4637403994816 and parameters: {'k': 366, 'graf_vektet_harmonic': True, 'initiell_respons': 'domain_mean', 'alpha': 0.07200000000000001, 'maks_iterasjoner_harmonic': 36, 'maks_iterasjoner_heat': 32}. Best is trial 34 with value: 1245.0797970201747.\n",
            "[I 2024-04-30 02:59:37,804] Trial 43 finished with value: 1248.052994782366 and parameters: {'k': 518, 'graf_vektet_harmonic': True, 'initiell_respons': 'domain_mean', 'alpha': 0.058, 'maks_iterasjoner_harmonic': 32, 'maks_iterasjoner_heat': 29}. Best is trial 34 with value: 1245.0797970201747.\n",
            "[I 2024-04-30 02:59:41,537] Trial 44 finished with value: 1249.1480705415936 and parameters: {'k': 591, 'graf_vektet_harmonic': True, 'initiell_respons': 'domain_mean', 'alpha': 0.054, 'maks_iterasjoner_harmonic': 20, 'maks_iterasjoner_heat': 29}. Best is trial 34 with value: 1245.0797970201747.\n",
            "[I 2024-04-30 02:59:42,990] Trial 45 finished with value: 1313.266965516044 and parameters: {'k': 605, 'graf_vektet_harmonic': True, 'initiell_respons': 'domain_mean', 'alpha': 0.20500000000000002, 'maks_iterasjoner_harmonic': 49, 'maks_iterasjoner_heat': 32}. Best is trial 34 with value: 1245.0797970201747.\n",
            "[I 2024-04-30 02:59:47,553] Trial 46 finished with value: 1342.4540997277782 and parameters: {'k': 680, 'graf_vektet_harmonic': True, 'initiell_respons': 'domain_mean', 'alpha': 0.232, 'maks_iterasjoner_harmonic': 42, 'maks_iterasjoner_heat': 49}. Best is trial 34 with value: 1245.0797970201747.\n",
            "[I 2024-04-30 02:59:47,889] Trial 47 finished with value: 1249.2117670647253 and parameters: {'k': 467, 'graf_vektet_harmonic': True, 'initiell_respons': 'domain_mean', 'alpha': 0.111, 'maks_iterasjoner_harmonic': 12, 'maks_iterasjoner_heat': 9}. Best is trial 34 with value: 1245.0797970201747.\n",
            "[I 2024-04-30 02:59:51,558] Trial 48 finished with value: 1248.8734591782704 and parameters: {'k': 474, 'graf_vektet_harmonic': True, 'initiell_respons': 'domain_mean', 'alpha': 0.11, 'maks_iterasjoner_harmonic': 13, 'maks_iterasjoner_heat': 7}. Best is trial 34 with value: 1245.0797970201747.\n",
            "[I 2024-04-30 02:59:51,841] Trial 49 finished with value: 2234.616879238905 and parameters: {'k': 498, 'graf_vektet_harmonic': True, 'initiell_respons': 'domain_median', 'alpha': 0.723, 'maks_iterasjoner_harmonic': 32, 'maks_iterasjoner_heat': 22}. Best is trial 34 with value: 1245.0797970201747.\n",
            "[I 2024-04-30 03:00:06,755] A new study created in memory with name: no-name-8489ee16-330d-4a22-a2f0-6472941a1dc2\n",
            "[I 2024-04-30 03:01:27,164] Trial 0 finished with value: 644.6340163846323 and parameters: {'k1': 2, 'k2': 2, 'p1': 8, 'p2': 7, 'max_iters': 12, 'pool_size': 26}. Best is trial 0 with value: 644.6340163846323.\n",
            "[I 2024-04-30 03:03:14,340] Trial 2 finished with value: 625.0305591437874 and parameters: {'k1': 2, 'k2': 6, 'p1': 9, 'p2': 10, 'max_iters': 29, 'pool_size': 10}. Best is trial 2 with value: 625.0305591437874.\n",
            "[I 2024-04-30 03:06:41,748] Trial 1 pruned. \n",
            "[I 2024-04-30 03:07:54,441] Trial 4 finished with value: 614.277439399631 and parameters: {'k1': 3, 'k2': 4, 'p1': 4, 'p2': 7, 'max_iters': 47, 'pool_size': 8}. Best is trial 4 with value: 614.277439399631.\n",
            "[I 2024-04-30 03:09:16,858] Trial 3 pruned. \n",
            "[I 2024-04-30 03:11:38,124] Trial 5 finished with value: 589.7291218565422 and parameters: {'k1': 5, 'k2': 5, 'p1': 4, 'p2': 1, 'max_iters': 11, 'pool_size': 58}. Best is trial 5 with value: 589.7291218565422.\n",
            "[I 2024-04-30 03:12:55,045] Trial 6 finished with value: 597.3753075432503 and parameters: {'k1': 2, 'k2': 10, 'p1': 2, 'p2': 10, 'max_iters': 22, 'pool_size': 17}. Best is trial 5 with value: 589.7291218565422.\n",
            "[I 2024-04-30 03:14:13,235] Trial 7 pruned. \n",
            "[I 2024-04-30 03:18:17,242] Trial 8 pruned. \n",
            "[I 2024-04-30 03:23:45,821] Trial 9 pruned. \n",
            "[I 2024-04-30 03:25:45,466] Trial 11 finished with value: 567.3951514765693 and parameters: {'k1': 5, 'k2': 1, 'p1': 5, 'p2': 1, 'max_iters': 7, 'pool_size': 98}. Best is trial 11 with value: 567.3951514765693.\n",
            "[I 2024-04-30 03:26:18,939] Trial 10 pruned. \n",
            "[I 2024-04-30 03:26:57,578] Trial 13 finished with value: 560.7783354298286 and parameters: {'k1': 5, 'k2': 1, 'p1': 5, 'p2': 1, 'max_iters': 2, 'pool_size': 100}. Best is trial 13 with value: 560.7783354298286.\n",
            "[I 2024-04-30 03:26:59,244] Trial 12 finished with value: 565.7872801468149 and parameters: {'k1': 5, 'k2': 1, 'p1': 5, 'p2': 1, 'max_iters': 4, 'pool_size': 100}. Best is trial 13 with value: 560.7783354298286.\n",
            "[I 2024-04-30 03:27:17,432] Trial 14 finished with value: 569.2310193860955 and parameters: {'k1': 5, 'k2': 1, 'p1': 6, 'p2': 1, 'max_iters': 1, 'pool_size': 99}. Best is trial 13 with value: 560.7783354298286.\n",
            "[I 2024-04-30 03:27:21,278] Trial 15 finished with value: 563.7080712082658 and parameters: {'k1': 6, 'k2': 1, 'p1': 6, 'p2': 2, 'max_iters': 1, 'pool_size': 97}. Best is trial 13 with value: 560.7783354298286.\n",
            "[I 2024-04-30 03:27:44,599] Trial 16 finished with value: 603.2788148164286 and parameters: {'k1': 6, 'k2': 3, 'p1': 7, 'p2': 3, 'max_iters': 1, 'pool_size': 83}. Best is trial 13 with value: 560.7783354298286.\n",
            "[I 2024-04-30 03:31:31,557] Trial 18 finished with value: 602.8042556014491 and parameters: {'k1': 10, 'k2': 3, 'p1': 3, 'p2': 2, 'max_iters': 8, 'pool_size': 83}. Best is trial 13 with value: 560.7783354298286.\n",
            "[I 2024-04-30 03:32:41,718] Trial 17 pruned. \n",
            "[I 2024-04-30 03:37:12,456] Trial 19 pruned. \n",
            "[I 2024-04-30 03:38:12,933] Trial 20 pruned. \n",
            "[I 2024-04-30 03:39:48,159] Trial 22 finished with value: 559.4922617123402 and parameters: {'k1': 7, 'k2': 1, 'p1': 5, 'p2': 2, 'max_iters': 4, 'pool_size': 99}. Best is trial 22 with value: 559.4922617123402.\n",
            "[I 2024-04-30 03:41:10,301] Trial 21 finished with value: 570.3088267065989 and parameters: {'k1': 7, 'k2': 2, 'p1': 4, 'p2': 2, 'max_iters': 16, 'pool_size': 36}. Best is trial 22 with value: 559.4922617123402.\n",
            "[I 2024-04-30 03:42:20,938] Trial 23 finished with value: 576.077772341253 and parameters: {'k1': 7, 'k2': 2, 'p1': 5, 'p2': 2, 'max_iters': 6, 'pool_size': 72}. Best is trial 22 with value: 559.4922617123402.\n",
            "[I 2024-04-30 03:43:12,328] Trial 24 finished with value: 576.8747995809834 and parameters: {'k1': 7, 'k2': 2, 'p1': 6, 'p2': 2, 'max_iters': 5, 'pool_size': 74}. Best is trial 22 with value: 559.4922617123402.\n",
            "[I 2024-04-30 03:46:09,123] Trial 25 finished with value: 577.8991428465375 and parameters: {'k1': 6, 'k2': 1, 'p1': 6, 'p2': 4, 'max_iters': 11, 'pool_size': 91}. Best is trial 22 with value: 559.4922617123402.\n",
            "[I 2024-04-30 03:46:28,686] Trial 27 pruned. \n",
            "[I 2024-04-30 03:47:18,971] Trial 26 finished with value: 560.4317276465335 and parameters: {'k1': 6, 'k2': 1, 'p1': 3, 'p2': 4, 'max_iters': 12, 'pool_size': 92}. Best is trial 22 with value: 559.4922617123402.\n",
            "[I 2024-04-30 03:50:19,295] Trial 28 finished with value: 573.4860224319864 and parameters: {'k1': 9, 'k2': 1, 'p1': 5, 'p2': 2, 'max_iters': 9, 'pool_size': 76}. Best is trial 22 with value: 559.4922617123402.\n",
            "[I 2024-04-30 03:50:42,779] Trial 29 pruned. \n",
            "[I 2024-04-30 03:52:19,401] Trial 30 finished with value: 576.9042682551895 and parameters: {'k1': 1, 'k2': 3, 'p1': 3, 'p2': 6, 'max_iters': 14, 'pool_size': 32}. Best is trial 22 with value: 559.4922617123402.\n",
            "[I 2024-04-30 03:52:23,041] Trial 31 finished with value: 574.7089319657936 and parameters: {'k1': 1, 'k2': 3, 'p1': 2, 'p2': 6, 'max_iters': 14, 'pool_size': 32}. Best is trial 22 with value: 559.4922617123402.\n",
            "[I 2024-04-30 03:53:45,873] Trial 32 finished with value: 580.1828777025469 and parameters: {'k1': 6, 'k2': 1, 'p1': 7, 'p2': 3, 'max_iters': 4, 'pool_size': 94}. Best is trial 22 with value: 559.4922617123402.\n",
            "[I 2024-04-30 03:53:50,532] Trial 33 finished with value: 580.1828777025469 and parameters: {'k1': 6, 'k2': 1, 'p1': 7, 'p2': 3, 'max_iters': 4, 'pool_size': 94}. Best is trial 22 with value: 559.4922617123402.\n",
            "[I 2024-04-30 03:54:17,554] Trial 35 finished with value: 591.4774326456693 and parameters: {'k1': 7, 'k2': 2, 'p1': 8, 'p2': 4, 'max_iters': 1, 'pool_size': 87}. Best is trial 22 with value: 559.4922617123402.\n",
            "[I 2024-04-30 03:55:05,330] Trial 34 pruned. \n",
            "[I 2024-04-30 03:57:07,563] Trial 36 pruned. \n",
            "[I 2024-04-30 03:59:11,609] Trial 37 pruned. \n"
          ]
        }
      ],
      "source": [
        "# Går gjennom andeler av satt treningssett\n",
        "for trenings_andel in treningsandeler:\n",
        "\n",
        "  if trenings_andel < 1.0:\n",
        "\n",
        "      # Utelukker resterende andel fra trening av modell\n",
        "      ubenyttet_andel = (1.0-trenings_andel)\n",
        "\n",
        "      treningssett_markert, enzymtyper_treningssett_markert, _, _,\\\n",
        "      _, _, _\\\n",
        "      = trening_testsett_oppdeling_enzym(rå_data,\n",
        "                                         trening,\n",
        "                                         test_andel=ubenyttet_andel,\n",
        "                                         random_seed=random_seed)\n",
        "\n",
        "  else:\n",
        "    treningssett_markert = trening_markert\n",
        "    enzymtyper_treningssett_markert = enzymtyper_markert\n",
        "\n",
        "  # Går igjennom andeler av markerte andeler\n",
        "  for andel in andel_av_markert:\n",
        "\n",
        "    # Finner tilsvarende umarkerte andeler\n",
        "    umarkert_andel = andel_umarkert(andel, treningssett_markert, trening_umarkert)\n",
        "\n",
        "    # Filtrer umarkert sett\n",
        "    ubenyttet_andel = (1.0 - umarkert_andel)\n",
        "    treningssett_umarkert, _, enzymtyper_treningssett_umarkert, _\\\n",
        "    = train_test_split(trening_umarkert,\n",
        "                       enzymtyper_umarkert,\n",
        "                       test_size=ubenyttet_andel,\n",
        "                       stratify=enzymtyper_umarkert,\n",
        "                       random_state=random_seed)\n",
        "\n",
        "    # Treningssett\n",
        "    treningssett = pd.concat([treningssett_markert, treningssett_umarkert],\n",
        "                            axis=0)\n",
        "    treningssett = treningssett.sort_index(ascending=True)\n",
        "\n",
        "\n",
        "    # Antall splitt etter minste enxymtype\n",
        "    n_splitt = n_splitt_enzym(rå_data, treningssett_markert)\n",
        "\n",
        "\n",
        "    # Modelloptimalisering, trening og evaulering av Coreg, Selv-RFR og BHD\n",
        "    semi_modell_evaluering_1(dict_res_opt=res_semi.dict_res_1_design_opt,\n",
        "                             dict_res=res_semi.dict_res_1_design,\n",
        "                             rå_data=rå_data,\n",
        "                             treningssett_markert=treningssett_markert,\n",
        "                             enzymtyper_treningssett_markert=enzymtyper_treningssett_markert,\n",
        "                             treningssett_umarkert=treningssett_umarkert,\n",
        "                             enzymtyper_treningssett_umarkert=enzymtyper_treningssett_umarkert,\n",
        "                             treningssett=treningssett,\n",
        "                             testsett=testsett,\n",
        "                             n_splitt=n_splitt,\n",
        "                             n_gjentagelser=n_gjentagelser,\n",
        "                             n_runder=n_runder_andel,\n",
        "                             test_andel=test_andel,\n",
        "                             trenings_andel=trenings_andel,\n",
        "                             random_seed=random_seed)\n",
        "\n",
        "    # Lagring av resultater\n",
        "    res_1_design_semi = pd.DataFrame(res_semi.dict_res_1_design)\n",
        "    res_1_design_opt_semi = pd.DataFrame(res_semi.dict_res_1_design_opt)\n",
        "\n",
        "    res_1_design_semi.to_csv('/content/drive/MyDrive/MasterV24/Bioco_data/Resultater/mw/mw_res_1_design_semi.csv')\n",
        "    res_1_design_opt_semi.to_csv('/content/drive/MyDrive/MasterV24/Bioco_data/Resultater/mw/mw_res_1_design_opt_semi.csv')"
      ]
    },
    {
      "cell_type": "markdown",
      "metadata": {
        "id": "4EHm1oIBSrzm"
      },
      "source": [
        "## Alternativ 2: Et testsett fordelt på dag og kontinuitet"
      ]
    },
    {
      "cell_type": "code",
      "execution_count": null,
      "metadata": {
        "colab": {
          "background_save": true
        },
        "id": "yDf-H922Srzm"
      },
      "outputs": [],
      "source": [
        "# Definerer treningsandel\n",
        "trenings_andel = 1.0\n",
        "\n",
        "# Deler datasettet i trening og testsett\n",
        "trening_markert, testsett, trening_umarkert, trening\\\n",
        "= trening_testsett_oppdeling_dag(rå_data,\n",
        "                                 data_design,\n",
        "                                 test_andel=test_andel,\n",
        "                                 test_ekskluder_kalkun_kylling=True)\n",
        "\n",
        "#Oversikt over fordelingen av enzymtyper i trening og testsett\n",
        "print(\"Enzymtyper Fordeling: Trening markert\")\n",
        "print(enzymfordeling(rå_data, trening_markert))\n",
        "print(\"Enzymtyper Fordeling: Test\")\n",
        "print(enzymfordeling(rå_data, testsett))\n",
        "print(\"Enzymtyper Fordeling: Trening umarkert\")\n",
        "print(enzymfordeling(rå_data, trening_umarkert))"
      ]
    },
    {
      "cell_type": "code",
      "execution_count": null,
      "metadata": {
        "colab": {
          "background_save": true
        },
        "id": "yAlp9n3HSrzn"
      },
      "outputs": [],
      "source": [
        "# Antall splitt etter minste enxymtype\n",
        "n_splitt = n_splitt_enzym(rå_data, trening_markert)\n",
        "\n",
        "# Modelloptimalisering, trening og evaulering av Coreg, Selv-RFR og BHD\n",
        "semi_modell_evaluering_2(dict_res_opt=res_semi.dict_res_2_design_opt,\n",
        "                         dict_res=res_semi.dict_res_2_design,\n",
        "                         rå_data=rå_data,\n",
        "                         treningssett_markert=trening_markert,\n",
        "                         treningssett_umarkert=trening_umarkert,\n",
        "                         treningssett=trening,\n",
        "                         testsett=testsett,\n",
        "                         n_splitt=n_splitt,\n",
        "                         n_runder=n_runder_hel,\n",
        "                         test_andel=test_andel,\n",
        "                         trenings_andel=trenings_andel,\n",
        "                         random_seed=random_seed)\n",
        "\n",
        "# Lagring av resultatater\n",
        "res_2_design_semi = pd.DataFrame(res_semi.dict_res_2_design)\n",
        "res_2_design_opt_semi = pd.DataFrame(res_semi.dict_res_2_design_opt)\n",
        "\n",
        "res_2_design_semi.to_csv('/content/drive/MyDrive/MasterV24/Bioco_data/Resultater/mw/mw_res_2_design_semi.csv')\n",
        "res_2_design_opt_semi.to_csv('/content/drive/MyDrive/MasterV24/Bioco_data/Resultater/mw/mw_res_2_design_opt_semi.csv')"
      ]
    },
    {
      "cell_type": "markdown",
      "metadata": {
        "id": "TGWUUCpLSrzn"
      },
      "source": [
        "## Alternativ 2: Forskjellige markerte treningssandeler og umarkerte andeler"
      ]
    },
    {
      "cell_type": "code",
      "execution_count": null,
      "metadata": {
        "id": "vTCFuo6vSrzn"
      },
      "outputs": [],
      "source": [
        "# Går gjennom andeler av satt treningssett\n",
        "for trenings_andel in treningsandeler:\n",
        "\n",
        "  if trenings_andel < 1.0:\n",
        "\n",
        "      # Utelukker resterende andel fra trening av modell\n",
        "      ubenyttet_andel = (1.0-trenings_andel)\n",
        "\n",
        "      treningssett_markert, _, _, _\\\n",
        "      = trening_testsett_oppdeling_dag(rå_data,\n",
        "                                       trening,\n",
        "                                       test_andel=ubenyttet_andel,\n",
        "                                       test_ekskluder_kalkun_kylling=True)\n",
        "\n",
        "  else:\n",
        "    treningssett_markert = trening_markert\n",
        "\n",
        "\n",
        "  # Går igjennom andeler av markerte andeler\n",
        "  for andel in andel_av_markert:\n",
        "\n",
        "    # Finner tilsvarende umarkerte andeler\n",
        "    umarkert_andel = andel_umarkert(andel, treningssett_markert, trening_umarkert)\n",
        "\n",
        "    # Filtrer umarkert sett\n",
        "    treningssett_umarkert, _ = umarkert_andel_dag(trening_umarkert,\n",
        "                                                  umarkert_andel)\n",
        "\n",
        "    # Treningssett\n",
        "    treningssett = pd.concat([treningssett_markert, treningssett_umarkert],\n",
        "                            axis=0)\n",
        "    treningssett = treningssett.sort_index(ascending=True)\n",
        "\n",
        "\n",
        "    # Antall splitt etter minste enxymtype\n",
        "    n_splitt = n_splitt_enzym(rå_data, treningssett_markert)\n",
        "\n",
        "    #Modelloptimalisering\n",
        "    semi_modell_evaluering_2(dict_res_opt=res_semi.dict_res_2_design_opt,\n",
        "                          dict_res=res_semi.dict_res_2_design,\n",
        "                          rå_data=rå_data,\n",
        "                          treningssett_markert=treningssett_markert,\n",
        "                          treningssett_umarkert=treningssett_umarkert,\n",
        "                          treningssett=treningssett,\n",
        "                          testsett=testsett,\n",
        "                          n_splitt=n_splitt,\n",
        "                          n_runder=n_runder_andel,\n",
        "                          test_andel=test_andel,\n",
        "                          trenings_andel=trenings_andel,\n",
        "                          random_seed=random_seed)\n",
        "    # Lagring av resultatater\n",
        "    res_2_design_semi = pd.DataFrame(res_semi.dict_res_2_design)\n",
        "    res_2_design_opt_semi = pd.DataFrame(res_semi.dict_res_2_design_opt)\n",
        "\n",
        "    res_2_design_semi.to_csv('/content/drive/MyDrive/MasterV24/Bioco_data/Resultater/mw/mw_res_2_design_semi.csv')\n",
        "    res_2_design_opt_semi.to_csv('/content/drive/MyDrive/MasterV24/Bioco_data/Resultater/mw/mw_res_2_design_opt_semi.csv')\n"
      ]
    },
    {
      "cell_type": "markdown",
      "metadata": {
        "id": "rD2-QsVOSrzn"
      },
      "source": [
        "Beste modell"
      ]
    },
    {
      "cell_type": "code",
      "execution_count": null,
      "metadata": {
        "id": "s3QnTek8Srzn"
      },
      "outputs": [],
      "source": []
    },
    {
      "cell_type": "markdown",
      "metadata": {
        "id": "pnhtimdQn6n_"
      },
      "source": [
        "# NIR målinger ekskludert"
      ]
    },
    {
      "cell_type": "code",
      "execution_count": null,
      "metadata": {
        "id": "HVRjvKsSn6oM"
      },
      "outputs": [],
      "source": [
        "# Ekskluderer NIR målinger fra datasettene\n",
        "NIR_kolonner = ['NIRfat', 'NIRwater', 'NIRash']\n",
        "data_uten_NIR = data.drop(columns=NIR_kolonner)\n",
        "data_design_uten_NIR = data_design.drop(columns=NIR_kolonner)"
      ]
    },
    {
      "cell_type": "markdown",
      "source": [
        "# Setter fast treningsandel"
      ],
      "metadata": {
        "id": "zBJrRXQ_V1vG"
      }
    },
    {
      "cell_type": "code",
      "source": [
        "# Definere andel av treningsett som skal benyttes\n",
        "trenings_andel = 1.0"
      ],
      "metadata": {
        "id": "ya7RTB_vV4Rk"
      },
      "execution_count": null,
      "outputs": []
    },
    {
      "cell_type": "markdown",
      "metadata": {
        "id": "FngOg-aynnWh"
      },
      "source": [
        "## Hele datasett"
      ]
    },
    {
      "cell_type": "markdown",
      "metadata": {
        "id": "xQN39OvtnnWi"
      },
      "source": [
        "## Alternativ 1: Et testsett. Fordelt på enzymtype (ikke tatt hensyn til kontinuitet)"
      ]
    },
    {
      "cell_type": "code",
      "execution_count": null,
      "metadata": {
        "id": "f9Hz_zKennWi"
      },
      "outputs": [],
      "source": [
        "# Deler datasettet i trening og testsett\n",
        "trening_markert, enzymtyper_markert, testsett, enzymtyper_test, trening_umarkert,\\\n",
        "enzymtyper_umarkert, trening\\\n",
        "= trening_testsett_oppdeling_enzym(rå_data,\n",
        "                                   data_uten_NIR,\n",
        "                                   test_andel=test_andel)\n",
        "\n",
        "# Antall splitt etter minste enxymtype\n",
        "n_splitt = n_splitt_enzym(rå_data, trening_markert)\n",
        "\n",
        "# Modelloptimalisering, trening og evaulering av Coreg, Selv-RFR og BHD\n",
        "semi_modell_evaluering_1(dict_res_opt=res_semi.dict_res_1_hel_opt_NIR,\n",
        "                         dict_res=res_semi.dict_res_1_hel_NIR,\n",
        "                         rå_data=rå_data,\n",
        "                         treningssett_markert=trening_markert,\n",
        "                         enzymtyper_treningssett_markert=enzymtyper_markert,\n",
        "                         treningssett_umarkert=trening_umarkert,\n",
        "                         enzymtyper_treningssett_umarkert=enzymtyper_umarkert,\n",
        "                         treningssett=trening,\n",
        "                         testsett=testsett,\n",
        "                         n_splitt=n_splitt,\n",
        "                         n_gjentagelser=n_gjentagelser,\n",
        "                         n_runder=n_runder_hel,\n",
        "                         test_andel=test_andel,\n",
        "                         trenings_andel=trenings_andel,\n",
        "                         random_seed=random_seed)\n",
        "\n",
        "# Lagring av resultater\n",
        "res_1_hel_semi_NIR = pd.DataFrame(res_semi.dict_res_1_hel_NIR)\n",
        "res_1_hel_opt_semi_NIR = pd.DataFrame(res_semi.dict_res_1_hel_opt_NIR)\n",
        "\n",
        "res_1_hel_semi_NIR.to_csv('/content/drive/MyDrive/MasterV24/Bioco_data/Resultater/mw/mw_res_1_hel_semi_NIR.csv')\n",
        "res_1_hel_opt_semi_NIR.to_csv('/content/drive/MyDrive/MasterV24/Bioco_data/Resultater/mw/mw_res_1_hel_opt_semi_NIR.csv')"
      ]
    },
    {
      "cell_type": "markdown",
      "metadata": {
        "id": "19PBB4sannWi"
      },
      "source": [
        "Beste modell"
      ]
    },
    {
      "cell_type": "code",
      "execution_count": null,
      "metadata": {
        "id": "EAhBuBY-nnWj"
      },
      "outputs": [],
      "source": []
    },
    {
      "cell_type": "markdown",
      "metadata": {
        "id": "49GQjZ88BoDa"
      },
      "source": [
        "## Alternativ 2: Manuell fordeling"
      ]
    },
    {
      "cell_type": "code",
      "execution_count": null,
      "metadata": {
        "id": "G5kb5K2Mq41R"
      },
      "outputs": [],
      "source": [
        "# Deler datasettet i trening og testsett\n",
        "trening_markert, testsett, trening_umarkert, trening\\\n",
        "= trening_testsett_oppdeling_dag(rå_data,\n",
        "                                 data_uten_NIR,\n",
        "                                 test_andel=test_andel,\n",
        "                                 test_ekskluder_kalkun_kylling=True)\n",
        "\n",
        "# Antall splitt etter minste enxymtype\n",
        "n_splitt = n_splitt_enzym(rå_data, trening_markert)\n",
        "\n",
        "# Modelloptimalisering, trening og evaulering av Coreg, Selv-RFR og BHD\n",
        "semi_modell_evaluering_2(dict_res_opt=res_semi.dict_res_2_hel_opt_NIR,\n",
        "                         dict_res=res_semi.dict_res_2_hel_NIR,\n",
        "                         rå_data=rå_data,\n",
        "                         treningssett_markert=trening_markert,\n",
        "                         treningssett_umarkert=trening_umarkert,\n",
        "                         treningssett=trening,\n",
        "                         testsett=testsett,\n",
        "                         n_splitt=n_splitt,\n",
        "                         n_runder=n_runder_hel,\n",
        "                         test_andel=test_andel,\n",
        "                         trenings_andel=trenings_andel,\n",
        "                         random_seed=random_seed)\n",
        "\n",
        "# Lagring av resultater\n",
        "res_2_hel_semi_NIR = pd.DataFrame(res_semi.dict_res_2_hel_NIR)\n",
        "res_2_hel_opt_semi_NIR = pd.DataFrame(res_semi.dict_res_2_hel_opt_NIR)\n",
        "\n",
        "res_2_hel_semi_NIR.to_csv('/content/drive/MyDrive/MasterV24/Bioco_data/Resultater/mw/mw_res_2_hel_semi_NIR.csv')\n",
        "res_2_hel_opt_semi_NIR.to_csv('/content/drive/MyDrive/MasterV24/Bioco_data/Resultater/mw/mw_res_2_hel_opt_semi_NIR.csv')"
      ]
    },
    {
      "cell_type": "markdown",
      "metadata": {
        "id": "peq30NIare5I"
      },
      "source": [
        "Beste modell"
      ]
    },
    {
      "cell_type": "code",
      "execution_count": null,
      "metadata": {
        "id": "40FqPMn9re5Q"
      },
      "outputs": [],
      "source": []
    },
    {
      "cell_type": "markdown",
      "metadata": {
        "id": "wASf8kP1rpkq"
      },
      "source": [
        "## Designproduksjon"
      ]
    },
    {
      "cell_type": "markdown",
      "metadata": {
        "id": "pzkziEds6GK8"
      },
      "source": [
        "## Alternativ 1: Et testsett. Fordelt på enzymtype (ikke tatt hensyn til kontinuitet)"
      ]
    },
    {
      "cell_type": "code",
      "execution_count": null,
      "metadata": {
        "id": "5slwInDw6GK8"
      },
      "outputs": [],
      "source": [
        "# Deler datasettet i trening og testsett\n",
        "trening_markert, enzymtyper_markert, testsett, enzymtyper_test, trening_umarkert,\\\n",
        "enzymtyper_umarkert, trening\\\n",
        "= trening_testsett_oppdeling_enzym(rå_data,\n",
        "                                   data_design_uten_NIR,\n",
        "                                   test_andel=test_andel)\n",
        "\n",
        "# Antall splitt etter minste enxymtype\n",
        "n_splitt = n_splitt_enzym(rå_data, trening_markert)\n",
        "\n",
        "# Modelloptimalisering, trening og evaulering av Coreg, Selv-RFR og BHD\n",
        "semi_modell_evaluering_1(dict_res_opt=res_semi.dict_res_1_design_opt_NIR,\n",
        "                         dict_res=res_semi.dict_res_1_design_NIR,\n",
        "                         rå_data=rå_data,\n",
        "                         treningssett_markert=trening_markert,\n",
        "                         enzymtyper_treningssett_markert=enzymtyper_markert,\n",
        "                         treningssett_umarkert=trening_umarkert,\n",
        "                         enzymtyper_treningssett_umarkert=enzymtyper_umarkert,\n",
        "                         treningssett=trening,\n",
        "                         testsett=testsett,\n",
        "                         n_splitt=n_splitt,\n",
        "                         n_gjentagelser=n_gjentagelser,\n",
        "                         n_runder=n_runder_hel,\n",
        "                         test_andel=test_andel,\n",
        "                         trenings_andel=trenings_andel,\n",
        "                         random_seed=random_seed)\n",
        "\n",
        "# Lagring av resultater\n",
        "res_1_design_semi_NIR = pd.DataFrame(res_semi.dict_res_1_design_NIR)\n",
        "res_1_design_opt_semi_NIR = pd.DataFrame(res_semi.dict_res_1_design_opt_NIR)\n",
        "\n",
        "res_1_design_semi_NIR.to_csv('/content/drive/MyDrive/MasterV24/Bioco_data/Resultater/mw/mw_res_1_design_semi_NIR.csv')\n",
        "res_1_design_opt_semi_NIR.to_csv('/content/drive/MyDrive/MasterV24/Bioco_data/Resultater/mw/mw_res_1_design_opt_semi_NIR.csv')"
      ]
    },
    {
      "cell_type": "markdown",
      "metadata": {
        "id": "P9fQSICyr1G2"
      },
      "source": [
        "Beste modell"
      ]
    },
    {
      "cell_type": "code",
      "execution_count": null,
      "metadata": {
        "id": "mKwGbEdYr1G2"
      },
      "outputs": [],
      "source": []
    },
    {
      "cell_type": "markdown",
      "metadata": {
        "id": "9EuYJpT16GK9"
      },
      "source": [
        "## Alternativ 2: Et testsett fordelt på dag og kontinuitet"
      ]
    },
    {
      "cell_type": "code",
      "execution_count": null,
      "metadata": {
        "id": "UxOKnfcm6GK9"
      },
      "outputs": [],
      "source": [
        "# Deler datasettet i trening og testsett\n",
        "trening_markert, testsett, trening_umarkert, trening\\\n",
        "= trening_testsett_oppdeling_dag(rå_data,\n",
        "                                 data_design_uten_NIR,\n",
        "                                 test_andel=test_andel,\n",
        "                                 ekskluder_kalkun_kylling=True)\n",
        "\n",
        "# Antall splitt etter minste enxymtype\n",
        "n_splitt = n_splitt_enzym(rå_data, trening_markert)\n",
        "\n",
        "# Modelloptimalisering, trening og evaulering av Coreg, Selv-RFR og BHD\n",
        "semi_modell_evaluering_2(dict_res_opt=res_semi.dict_res_2_design_opt_NIR,\n",
        "                         dict_res=res_semi.dict_res_2_design_NIR,\n",
        "                         rå_data=rå_data,\n",
        "                         treningssett_markert=trening_markert,\n",
        "                         treningssett_umarkert=trening_umarkert,\n",
        "                         treningssett=trening,\n",
        "                         testsett=testsett,\n",
        "                         n_splitt=n_splitt,\n",
        "                         n_runder=n_runder_hel,\n",
        "                         test_andel=test_andel,\n",
        "                         trenings_andel=trenings_andel,\n",
        "                         random_seed=random_seed)\n",
        "\n",
        "# Lagring av resultater\n",
        "res_2_design_semi_NIR = pd.DataFrame(res_semi.dict_res_2_design_NIR)\n",
        "res_2_design_opt_semi_NIR = pd.DataFrame(res_semi.dict_res_2_design_opt_NIR)\n",
        "\n",
        "res_2_design_semi_NIR.to_csv('/content/drive/MyDrive/MasterV24/Bioco_data/Resultater/mw/mw_res_2_design_semi_NIR.csv')\n",
        "res_2_design_opt_semi_NIR.to_csv('/content/drive/MyDrive/MasterV24/Bioco_data/Resultater/mw/mw_res_2_design_opu_semi_NIR.csv')"
      ]
    },
    {
      "cell_type": "markdown",
      "metadata": {
        "id": "PCqCJyk0s4Zg"
      },
      "source": [
        "Beste modell"
      ]
    },
    {
      "cell_type": "code",
      "execution_count": null,
      "metadata": {
        "id": "Y2SaMdc9s4Zg"
      },
      "outputs": [],
      "source": []
    }
  ],
  "metadata": {
    "colab": {
      "collapsed_sections": [
        "qhRMrFFHlZuX",
        "21cdLIoaSTR6",
        "i_1rn21ITRJ4"
      ],
      "provenance": [],
      "authorship_tag": "ABX9TyNBDpqAEyNuIB7fzghZwzy7",
      "include_colab_link": true
    },
    "kernelspec": {
      "display_name": "Python 3",
      "name": "python3"
    },
    "language_info": {
      "name": "python"
    }
  },
  "nbformat": 4,
  "nbformat_minor": 0
}