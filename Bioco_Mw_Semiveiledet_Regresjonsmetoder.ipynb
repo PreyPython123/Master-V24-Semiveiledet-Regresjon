{
  "cells": [
    {
      "cell_type": "markdown",
      "metadata": {
        "id": "view-in-github",
        "colab_type": "text"
      },
      "source": [
        "<a href=\"https://colab.research.google.com/github/PreyPython123/Master-V24-Semiveiledet-Regresjon/blob/Mw-Pradeep/Bioco_Mw_Semiveiledet_Regresjonsmetoder.ipynb\" target=\"_parent\"><img src=\"https://colab.research.google.com/assets/colab-badge.svg\" alt=\"Open In Colab\"/></a>"
      ]
    },
    {
      "cell_type": "markdown",
      "source": [
        "# Importering, lasting og formattering"
      ],
      "metadata": {
        "id": "uPtuGVtCJOFj"
      }
    },
    {
      "cell_type": "markdown",
      "source": [
        "Lasting av nødvendige bibliotek og pakker"
      ],
      "metadata": {
        "id": "ZNeQrag9Rlc_"
      }
    },
    {
      "cell_type": "code",
      "execution_count": 1,
      "metadata": {
        "id": "k5u1dZmp6cJ9",
        "colab": {
          "base_uri": "https://localhost:8080/"
        },
        "outputId": "795ccdc9-012d-46e7-cfe5-1580b5f94a99"
      },
      "outputs": [
        {
          "output_type": "stream",
          "name": "stdout",
          "text": [
            "Collecting optuna\n",
            "  Downloading optuna-3.6.1-py3-none-any.whl (380 kB)\n",
            "\u001b[2K     \u001b[90m━━━━━━━━━━━━━━━━━━━━━━━━━━━━━━━━━━━━━━━━\u001b[0m \u001b[32m380.1/380.1 kB\u001b[0m \u001b[31m8.0 MB/s\u001b[0m eta \u001b[36m0:00:00\u001b[0m\n",
            "\u001b[?25hCollecting alembic>=1.5.0 (from optuna)\n",
            "  Downloading alembic-1.13.1-py3-none-any.whl (233 kB)\n",
            "\u001b[2K     \u001b[90m━━━━━━━━━━━━━━━━━━━━━━━━━━━━━━━━━━━━━━━━\u001b[0m \u001b[32m233.4/233.4 kB\u001b[0m \u001b[31m15.2 MB/s\u001b[0m eta \u001b[36m0:00:00\u001b[0m\n",
            "\u001b[?25hCollecting colorlog (from optuna)\n",
            "  Downloading colorlog-6.8.2-py3-none-any.whl (11 kB)\n",
            "Requirement already satisfied: numpy in /usr/local/lib/python3.10/dist-packages (from optuna) (1.25.2)\n",
            "Requirement already satisfied: packaging>=20.0 in /usr/local/lib/python3.10/dist-packages (from optuna) (24.0)\n",
            "Requirement already satisfied: sqlalchemy>=1.3.0 in /usr/local/lib/python3.10/dist-packages (from optuna) (2.0.29)\n",
            "Requirement already satisfied: tqdm in /usr/local/lib/python3.10/dist-packages (from optuna) (4.66.2)\n",
            "Requirement already satisfied: PyYAML in /usr/local/lib/python3.10/dist-packages (from optuna) (6.0.1)\n",
            "Collecting Mako (from alembic>=1.5.0->optuna)\n",
            "  Downloading Mako-1.3.3-py3-none-any.whl (78 kB)\n",
            "\u001b[2K     \u001b[90m━━━━━━━━━━━━━━━━━━━━━━━━━━━━━━━━━━━━━━━━\u001b[0m \u001b[32m78.8/78.8 kB\u001b[0m \u001b[31m10.5 MB/s\u001b[0m eta \u001b[36m0:00:00\u001b[0m\n",
            "\u001b[?25hRequirement already satisfied: typing-extensions>=4 in /usr/local/lib/python3.10/dist-packages (from alembic>=1.5.0->optuna) (4.11.0)\n",
            "Requirement already satisfied: greenlet!=0.4.17 in /usr/local/lib/python3.10/dist-packages (from sqlalchemy>=1.3.0->optuna) (3.0.3)\n",
            "Requirement already satisfied: MarkupSafe>=0.9.2 in /usr/local/lib/python3.10/dist-packages (from Mako->alembic>=1.5.0->optuna) (2.1.5)\n",
            "Installing collected packages: Mako, colorlog, alembic, optuna\n",
            "Successfully installed Mako-1.3.3 alembic-1.13.1 colorlog-6.8.2 optuna-3.6.1\n",
            "Collecting LAMDA-SSL\n",
            "  Downloading LAMDA_SSL-1.0.2-py3-none-any.whl (240 kB)\n",
            "\u001b[2K     \u001b[90m━━━━━━━━━━━━━━━━━━━━━━━━━━━━━━━━━━━━━━━━\u001b[0m \u001b[32m240.8/240.8 kB\u001b[0m \u001b[31m5.2 MB/s\u001b[0m eta \u001b[36m0:00:00\u001b[0m\n",
            "\u001b[?25hRequirement already satisfied: scikit-learn in /usr/local/lib/python3.10/dist-packages (from LAMDA-SSL) (1.2.2)\n",
            "Requirement already satisfied: torchtext in /usr/local/lib/python3.10/dist-packages (from LAMDA-SSL) (0.17.1)\n",
            "Requirement already satisfied: torchvision in /usr/local/lib/python3.10/dist-packages (from LAMDA-SSL) (0.17.1+cu121)\n",
            "Collecting torch-geometric (from LAMDA-SSL)\n",
            "  Downloading torch_geometric-2.5.2-py3-none-any.whl (1.1 MB)\n",
            "\u001b[2K     \u001b[90m━━━━━━━━━━━━━━━━━━━━━━━━━━━━━━━━━━━━━━━━\u001b[0m \u001b[32m1.1/1.1 MB\u001b[0m \u001b[31m58.5 MB/s\u001b[0m eta \u001b[36m0:00:00\u001b[0m\n",
            "\u001b[?25hRequirement already satisfied: Pillow in /usr/local/lib/python3.10/dist-packages (from LAMDA-SSL) (9.4.0)\n",
            "Requirement already satisfied: numpy in /usr/local/lib/python3.10/dist-packages (from LAMDA-SSL) (1.25.2)\n",
            "Requirement already satisfied: scipy in /usr/local/lib/python3.10/dist-packages (from LAMDA-SSL) (1.11.4)\n",
            "Requirement already satisfied: pandas in /usr/local/lib/python3.10/dist-packages (from LAMDA-SSL) (2.0.3)\n",
            "Requirement already satisfied: matplotlib in /usr/local/lib/python3.10/dist-packages (from LAMDA-SSL) (3.7.1)\n",
            "Requirement already satisfied: contourpy>=1.0.1 in /usr/local/lib/python3.10/dist-packages (from matplotlib->LAMDA-SSL) (1.2.1)\n",
            "Requirement already satisfied: cycler>=0.10 in /usr/local/lib/python3.10/dist-packages (from matplotlib->LAMDA-SSL) (0.12.1)\n",
            "Requirement already satisfied: fonttools>=4.22.0 in /usr/local/lib/python3.10/dist-packages (from matplotlib->LAMDA-SSL) (4.51.0)\n",
            "Requirement already satisfied: kiwisolver>=1.0.1 in /usr/local/lib/python3.10/dist-packages (from matplotlib->LAMDA-SSL) (1.4.5)\n",
            "Requirement already satisfied: packaging>=20.0 in /usr/local/lib/python3.10/dist-packages (from matplotlib->LAMDA-SSL) (24.0)\n",
            "Requirement already satisfied: pyparsing>=2.3.1 in /usr/local/lib/python3.10/dist-packages (from matplotlib->LAMDA-SSL) (3.1.2)\n",
            "Requirement already satisfied: python-dateutil>=2.7 in /usr/local/lib/python3.10/dist-packages (from matplotlib->LAMDA-SSL) (2.8.2)\n",
            "Requirement already satisfied: pytz>=2020.1 in /usr/local/lib/python3.10/dist-packages (from pandas->LAMDA-SSL) (2023.4)\n",
            "Requirement already satisfied: tzdata>=2022.1 in /usr/local/lib/python3.10/dist-packages (from pandas->LAMDA-SSL) (2024.1)\n",
            "Requirement already satisfied: joblib>=1.1.1 in /usr/local/lib/python3.10/dist-packages (from scikit-learn->LAMDA-SSL) (1.4.0)\n",
            "Requirement already satisfied: threadpoolctl>=2.0.0 in /usr/local/lib/python3.10/dist-packages (from scikit-learn->LAMDA-SSL) (3.4.0)\n",
            "Requirement already satisfied: tqdm in /usr/local/lib/python3.10/dist-packages (from torch-geometric->LAMDA-SSL) (4.66.2)\n",
            "Requirement already satisfied: fsspec in /usr/local/lib/python3.10/dist-packages (from torch-geometric->LAMDA-SSL) (2023.6.0)\n",
            "Requirement already satisfied: jinja2 in /usr/local/lib/python3.10/dist-packages (from torch-geometric->LAMDA-SSL) (3.1.3)\n",
            "Requirement already satisfied: aiohttp in /usr/local/lib/python3.10/dist-packages (from torch-geometric->LAMDA-SSL) (3.9.3)\n",
            "Requirement already satisfied: requests in /usr/local/lib/python3.10/dist-packages (from torch-geometric->LAMDA-SSL) (2.31.0)\n",
            "Requirement already satisfied: psutil>=5.8.0 in /usr/local/lib/python3.10/dist-packages (from torch-geometric->LAMDA-SSL) (5.9.5)\n",
            "Requirement already satisfied: torch==2.2.1 in /usr/local/lib/python3.10/dist-packages (from torchtext->LAMDA-SSL) (2.2.1+cu121)\n",
            "Requirement already satisfied: torchdata==0.7.1 in /usr/local/lib/python3.10/dist-packages (from torchtext->LAMDA-SSL) (0.7.1)\n",
            "Requirement already satisfied: filelock in /usr/local/lib/python3.10/dist-packages (from torch==2.2.1->torchtext->LAMDA-SSL) (3.13.4)\n",
            "Requirement already satisfied: typing-extensions>=4.8.0 in /usr/local/lib/python3.10/dist-packages (from torch==2.2.1->torchtext->LAMDA-SSL) (4.11.0)\n",
            "Requirement already satisfied: sympy in /usr/local/lib/python3.10/dist-packages (from torch==2.2.1->torchtext->LAMDA-SSL) (1.12)\n",
            "Requirement already satisfied: networkx in /usr/local/lib/python3.10/dist-packages (from torch==2.2.1->torchtext->LAMDA-SSL) (3.3)\n",
            "Collecting nvidia-cuda-nvrtc-cu12==12.1.105 (from torch==2.2.1->torchtext->LAMDA-SSL)\n",
            "  Using cached nvidia_cuda_nvrtc_cu12-12.1.105-py3-none-manylinux1_x86_64.whl (23.7 MB)\n",
            "Collecting nvidia-cuda-runtime-cu12==12.1.105 (from torch==2.2.1->torchtext->LAMDA-SSL)\n",
            "  Using cached nvidia_cuda_runtime_cu12-12.1.105-py3-none-manylinux1_x86_64.whl (823 kB)\n",
            "Collecting nvidia-cuda-cupti-cu12==12.1.105 (from torch==2.2.1->torchtext->LAMDA-SSL)\n",
            "  Using cached nvidia_cuda_cupti_cu12-12.1.105-py3-none-manylinux1_x86_64.whl (14.1 MB)\n",
            "Collecting nvidia-cudnn-cu12==8.9.2.26 (from torch==2.2.1->torchtext->LAMDA-SSL)\n",
            "  Using cached nvidia_cudnn_cu12-8.9.2.26-py3-none-manylinux1_x86_64.whl (731.7 MB)\n",
            "Collecting nvidia-cublas-cu12==12.1.3.1 (from torch==2.2.1->torchtext->LAMDA-SSL)\n",
            "  Using cached nvidia_cublas_cu12-12.1.3.1-py3-none-manylinux1_x86_64.whl (410.6 MB)\n",
            "Collecting nvidia-cufft-cu12==11.0.2.54 (from torch==2.2.1->torchtext->LAMDA-SSL)\n",
            "  Using cached nvidia_cufft_cu12-11.0.2.54-py3-none-manylinux1_x86_64.whl (121.6 MB)\n",
            "Collecting nvidia-curand-cu12==10.3.2.106 (from torch==2.2.1->torchtext->LAMDA-SSL)\n",
            "  Using cached nvidia_curand_cu12-10.3.2.106-py3-none-manylinux1_x86_64.whl (56.5 MB)\n",
            "Collecting nvidia-cusolver-cu12==11.4.5.107 (from torch==2.2.1->torchtext->LAMDA-SSL)\n",
            "  Using cached nvidia_cusolver_cu12-11.4.5.107-py3-none-manylinux1_x86_64.whl (124.2 MB)\n",
            "Collecting nvidia-cusparse-cu12==12.1.0.106 (from torch==2.2.1->torchtext->LAMDA-SSL)\n",
            "  Using cached nvidia_cusparse_cu12-12.1.0.106-py3-none-manylinux1_x86_64.whl (196.0 MB)\n",
            "Collecting nvidia-nccl-cu12==2.19.3 (from torch==2.2.1->torchtext->LAMDA-SSL)\n",
            "  Using cached nvidia_nccl_cu12-2.19.3-py3-none-manylinux1_x86_64.whl (166.0 MB)\n",
            "Collecting nvidia-nvtx-cu12==12.1.105 (from torch==2.2.1->torchtext->LAMDA-SSL)\n",
            "  Using cached nvidia_nvtx_cu12-12.1.105-py3-none-manylinux1_x86_64.whl (99 kB)\n",
            "Requirement already satisfied: triton==2.2.0 in /usr/local/lib/python3.10/dist-packages (from torch==2.2.1->torchtext->LAMDA-SSL) (2.2.0)\n",
            "Requirement already satisfied: urllib3>=1.25 in /usr/local/lib/python3.10/dist-packages (from torchdata==0.7.1->torchtext->LAMDA-SSL) (2.0.7)\n",
            "Collecting nvidia-nvjitlink-cu12 (from nvidia-cusolver-cu12==11.4.5.107->torch==2.2.1->torchtext->LAMDA-SSL)\n",
            "  Using cached nvidia_nvjitlink_cu12-12.4.127-py3-none-manylinux2014_x86_64.whl (21.1 MB)\n",
            "Requirement already satisfied: six>=1.5 in /usr/local/lib/python3.10/dist-packages (from python-dateutil>=2.7->matplotlib->LAMDA-SSL) (1.16.0)\n",
            "Requirement already satisfied: aiosignal>=1.1.2 in /usr/local/lib/python3.10/dist-packages (from aiohttp->torch-geometric->LAMDA-SSL) (1.3.1)\n",
            "Requirement already satisfied: attrs>=17.3.0 in /usr/local/lib/python3.10/dist-packages (from aiohttp->torch-geometric->LAMDA-SSL) (23.2.0)\n",
            "Requirement already satisfied: frozenlist>=1.1.1 in /usr/local/lib/python3.10/dist-packages (from aiohttp->torch-geometric->LAMDA-SSL) (1.4.1)\n",
            "Requirement already satisfied: multidict<7.0,>=4.5 in /usr/local/lib/python3.10/dist-packages (from aiohttp->torch-geometric->LAMDA-SSL) (6.0.5)\n",
            "Requirement already satisfied: yarl<2.0,>=1.0 in /usr/local/lib/python3.10/dist-packages (from aiohttp->torch-geometric->LAMDA-SSL) (1.9.4)\n",
            "Requirement already satisfied: async-timeout<5.0,>=4.0 in /usr/local/lib/python3.10/dist-packages (from aiohttp->torch-geometric->LAMDA-SSL) (4.0.3)\n",
            "Requirement already satisfied: MarkupSafe>=2.0 in /usr/local/lib/python3.10/dist-packages (from jinja2->torch-geometric->LAMDA-SSL) (2.1.5)\n",
            "Requirement already satisfied: charset-normalizer<4,>=2 in /usr/local/lib/python3.10/dist-packages (from requests->torch-geometric->LAMDA-SSL) (3.3.2)\n",
            "Requirement already satisfied: idna<4,>=2.5 in /usr/local/lib/python3.10/dist-packages (from requests->torch-geometric->LAMDA-SSL) (3.6)\n",
            "Requirement already satisfied: certifi>=2017.4.17 in /usr/local/lib/python3.10/dist-packages (from requests->torch-geometric->LAMDA-SSL) (2024.2.2)\n",
            "Requirement already satisfied: mpmath>=0.19 in /usr/local/lib/python3.10/dist-packages (from sympy->torch==2.2.1->torchtext->LAMDA-SSL) (1.3.0)\n",
            "Installing collected packages: nvidia-nvtx-cu12, nvidia-nvjitlink-cu12, nvidia-nccl-cu12, nvidia-curand-cu12, nvidia-cufft-cu12, nvidia-cuda-runtime-cu12, nvidia-cuda-nvrtc-cu12, nvidia-cuda-cupti-cu12, nvidia-cublas-cu12, nvidia-cusparse-cu12, nvidia-cudnn-cu12, torch-geometric, nvidia-cusolver-cu12, LAMDA-SSL\n",
            "Successfully installed LAMDA-SSL-1.0.2 nvidia-cublas-cu12-12.1.3.1 nvidia-cuda-cupti-cu12-12.1.105 nvidia-cuda-nvrtc-cu12-12.1.105 nvidia-cuda-runtime-cu12-12.1.105 nvidia-cudnn-cu12-8.9.2.26 nvidia-cufft-cu12-11.0.2.54 nvidia-curand-cu12-10.3.2.106 nvidia-cusolver-cu12-11.4.5.107 nvidia-cusparse-cu12-12.1.0.106 nvidia-nccl-cu12-2.19.3 nvidia-nvjitlink-cu12-12.4.127 nvidia-nvtx-cu12-12.1.105 torch-geometric-2.5.2\n"
          ]
        }
      ],
      "source": [
        "!pip install optuna\n",
        "!pip install LAMDA-SSL"
      ]
    },
    {
      "cell_type": "code",
      "source": [
        "from google.colab import drive\n",
        "drive.mount('/content/drive/')"
      ],
      "metadata": {
        "colab": {
          "base_uri": "https://localhost:8080/"
        },
        "id": "nwEzUjnf0xLZ",
        "outputId": "54d0c177-5ae5-4903-9a27-dcc74831a560"
      },
      "execution_count": 2,
      "outputs": [
        {
          "output_type": "stream",
          "name": "stdout",
          "text": [
            "Mounted at /content/drive/\n"
          ]
        }
      ]
    },
    {
      "cell_type": "markdown",
      "source": [
        "Importering av nødvendig bibliotek og pakker"
      ],
      "metadata": {
        "id": "jT-YzIdVRply"
      }
    },
    {
      "cell_type": "code",
      "source": [
        "import pandas as pd\n",
        "import numpy as np\n",
        "import copy\n",
        "import math\n",
        "from statistics import mean, stdev"
      ],
      "metadata": {
        "id": "nLn2QDaFijWw"
      },
      "execution_count": 3,
      "outputs": []
    },
    {
      "cell_type": "code",
      "source": [
        "from sklearn.model_selection import train_test_split\n",
        "from sklearn.pipeline import Pipeline\n",
        "from sklearn.preprocessing import StandardScaler\n",
        "from sklearn.model_selection import RepeatedStratifiedKFold\n",
        "import sklearn.model_selection\n",
        "\n",
        "# Modell\n",
        "from LAMDA_SSL.Algorithm.Regression.CoReg import CoReg"
      ],
      "metadata": {
        "id": "DmFSuK8ARtBg"
      },
      "execution_count": 4,
      "outputs": []
    },
    {
      "cell_type": "code",
      "source": [
        "import optuna\n",
        "from optuna.visualization import plot_optimization_history\n",
        "\n",
        "# Utelukker utskriving av logg for hyperoptimalisering\n",
        "optuna.logging.set_verbosity(optuna.logging.WARNING)"
      ],
      "metadata": {
        "id": "aPjLVwvuiyIr"
      },
      "execution_count": 5,
      "outputs": []
    },
    {
      "cell_type": "markdown",
      "source": [
        "# Egendefinerte moduler"
      ],
      "metadata": {
        "id": "qhRMrFFHlZuX"
      }
    },
    {
      "cell_type": "code",
      "source": [
        "!pwd\n",
        "! cp /content/drive/MyDrive/MasterV24/GitHub/oppdeling_trening_testsett.py /content/oppdeling_trening_testsett.py"
      ],
      "metadata": {
        "id": "FXgxrml5lg5B",
        "colab": {
          "base_uri": "https://localhost:8080/"
        },
        "outputId": "ee89cc56-4a22-4f31-93bb-ca4c4b5d410f"
      },
      "execution_count": 6,
      "outputs": [
        {
          "output_type": "stream",
          "name": "stdout",
          "text": [
            "/content\n"
          ]
        }
      ]
    },
    {
      "cell_type": "code",
      "source": [
        "from oppdeling_trening_testsett import trening_testsett_oppdeling_enzym\n",
        "from oppdeling_trening_testsett import trening_testsett_oppdeling_dag\n",
        "from oppdeling_trening_testsett import trening_validering_oppdeling_dag\n",
        "\n",
        "from oppdeling_trening_testsett import umarkert_andel_enzym\n",
        "from oppdeling_trening_testsett import umarkert_andel_dag\n",
        "from oppdeling_trening_testsett import enzymfordeling"
      ],
      "metadata": {
        "id": "tvOTDwKLf0q8"
      },
      "execution_count": 7,
      "outputs": []
    },
    {
      "cell_type": "code",
      "source": [
        "!pwd\n",
        "! cp /content/drive/MyDrive/MasterV24/GitHub/moduler_optimalisering_evaluering_semiveiledet.py /content/moduler_optimalisering_evaluering_semiveiledet.py"
      ],
      "metadata": {
        "id": "JTs_zHhkiBpK",
        "colab": {
          "base_uri": "https://localhost:8080/"
        },
        "outputId": "3f8b2cb4-e737-4e73-9090-bbd4cf29fa79"
      },
      "execution_count": 8,
      "outputs": [
        {
          "output_type": "stream",
          "name": "stdout",
          "text": [
            "/content\n"
          ]
        }
      ]
    },
    {
      "cell_type": "code",
      "source": [
        "from moduler_optimalisering_evaluering_semiveiledet import BHD\n",
        "from moduler_optimalisering_evaluering_semiveiledet import SelfTrainingRandomForestRegressor\n",
        "\n",
        "from moduler_optimalisering_evaluering_semiveiledet import trening_coreg_enzym\n",
        "from moduler_optimalisering_evaluering_semiveiledet import trening_bhd_enzym\n",
        "from moduler_optimalisering_evaluering_semiveiledet import trening_selvtrent_rfr_enzym\n",
        "\n",
        "from moduler_optimalisering_evaluering_semiveiledet import trening_coreg_dag\n",
        "from moduler_optimalisering_evaluering_semiveiledet import trening_bhd_dag\n",
        "from moduler_optimalisering_evaluering_semiveiledet import trening_selvtrent_rfr_dag\n",
        "\n",
        "from moduler_optimalisering_evaluering_semiveiledet import semi_modell_evaluering_1\n",
        "from moduler_optimalisering_evaluering_semiveiledet import semi_modell_evaluering_2\n",
        "\n",
        "from moduler_optimalisering_evaluering_semiveiledet import bhd_andel_maks\n",
        "from moduler_optimalisering_evaluering_semiveiledet import andel_umarkert"
      ],
      "metadata": {
        "id": "A5GEVrXsiYd-"
      },
      "execution_count": 9,
      "outputs": []
    },
    {
      "cell_type": "markdown",
      "source": [
        "# Importering av relevant data"
      ],
      "metadata": {
        "id": "21cdLIoaSTR6"
      }
    },
    {
      "cell_type": "code",
      "source": [
        "# Velger første kolonne med dato og tid som index\n",
        "data = pd.read_csv('/content/drive/MyDrive/MasterV24/Bioco_data/mw_data.csv',\n",
        "                   header=0,\n",
        "                   sep=',',\n",
        "                   index_col=0)\n",
        "\n",
        "# Normal produksjon\n",
        "data_normal = pd.read_csv('/content/drive/MyDrive/MasterV24/Bioco_data/mw_data_normal.csv',\n",
        "                          header=0,\n",
        "                          sep=',',\n",
        "                          index_col=0)\n",
        "\n",
        "# Design produksjon\n",
        "data_design = pd.read_csv('/content/drive/MyDrive/MasterV24/Bioco_data/mw_data_design.csv',\n",
        "                          header=0,\n",
        "                          sep=',',\n",
        "                          index_col=0)\n",
        "\n",
        "# Importerer rådata\n",
        "rå_data = pd.read_csv('/content/drive/MyDrive/MasterV24/BiocoData.csv',\n",
        "                      header=0,\n",
        "                      sep=';',\n",
        "                      index_col=0)\n",
        "\n",
        "# Formatterer index til riktig format og datatype\n",
        "data.index = pd.to_datetime(data.index,\n",
        "                            format='%Y-%m-%d %H:%M:%S')\n",
        "\n",
        "data_normal.index = pd.to_datetime(data_normal.index,\n",
        "                                   format='%Y-%m-%d %H:%M:%S')\n",
        "\n",
        "data_design.index = pd.to_datetime(data_design.index,\n",
        "                                   format='%Y-%m-%d %H:%M:%S')\n",
        "\n",
        "rå_data.index = pd.to_datetime(rå_data.index,\n",
        "                               format='%d-%m-%Y %H:%M:%S.%f')"
      ],
      "metadata": {
        "id": "XeNQyDPZSTwY"
      },
      "execution_count": 10,
      "outputs": []
    },
    {
      "cell_type": "markdown",
      "source": [
        "Tilfeldighetsfrø"
      ],
      "metadata": {
        "id": "7Wl0nay5j2C4"
      }
    },
    {
      "cell_type": "code",
      "source": [
        "#Tilfeldighetsfrø\n",
        "random_seed = 123"
      ],
      "metadata": {
        "id": "OxTGpIOmj4V7"
      },
      "execution_count": 11,
      "outputs": []
    },
    {
      "cell_type": "markdown",
      "source": [
        "# Beskrivelse av datasett"
      ],
      "metadata": {
        "id": "hPfDrou1pR0w"
      }
    },
    {
      "cell_type": "code",
      "source": [
        "data.info()"
      ],
      "metadata": {
        "id": "HsvZWJ7apQpL",
        "colab": {
          "base_uri": "https://localhost:8080/"
        },
        "outputId": "bcac1264-74d5-47c4-f22f-327f41f4bf86"
      },
      "execution_count": null,
      "outputs": [
        {
          "output_type": "stream",
          "name": "stdout",
          "text": [
            "<class 'pandas.core.frame.DataFrame'>\n",
            "DatetimeIndex: 28976 entries, 2022-10-31 17:37:00 to 2023-06-14 01:02:00\n",
            "Data columns (total 14 columns):\n",
            " #   Column         Non-Null Count  Dtype  \n",
            "---  ------         --------------  -----  \n",
            " 0   EnzymeType_A1  28976 non-null  int64  \n",
            " 1   EnzymeType_A2  28976 non-null  int64  \n",
            " 2   EnzymeType_B   28976 non-null  int64  \n",
            " 3   EnzymeType_C   28976 non-null  int64  \n",
            " 4   EnzymeType_D   28976 non-null  int64  \n",
            " 5   EnzymeType_E   28976 non-null  int64  \n",
            " 6   RawMatPercent  28976 non-null  float64\n",
            " 7   NIRfat         28976 non-null  float64\n",
            " 8   NIRash         28976 non-null  float64\n",
            " 9   NIRwater       28976 non-null  float64\n",
            " 10  TT08           28976 non-null  float64\n",
            " 11  TT20           28976 non-null  float64\n",
            " 12  TT12           28976 non-null  float64\n",
            " 13  Mw             455 non-null    float64\n",
            "dtypes: float64(8), int64(6)\n",
            "memory usage: 3.3 MB\n"
          ]
        }
      ]
    },
    {
      "cell_type": "code",
      "source": [
        "data_normal.info()"
      ],
      "metadata": {
        "id": "ehQ7MpHsJxEZ",
        "colab": {
          "base_uri": "https://localhost:8080/"
        },
        "outputId": "dd534df2-41af-4bfe-94b0-bed82dc159c2"
      },
      "execution_count": null,
      "outputs": [
        {
          "output_type": "stream",
          "name": "stdout",
          "text": [
            "<class 'pandas.core.frame.DataFrame'>\n",
            "DatetimeIndex: 18510 entries, 2022-11-02 00:00:00 to 2023-06-14 01:02:00\n",
            "Data columns (total 14 columns):\n",
            " #   Column         Non-Null Count  Dtype  \n",
            "---  ------         --------------  -----  \n",
            " 0   EnzymeType_A1  18510 non-null  int64  \n",
            " 1   EnzymeType_A2  18510 non-null  int64  \n",
            " 2   EnzymeType_B   18510 non-null  int64  \n",
            " 3   EnzymeType_C   18510 non-null  int64  \n",
            " 4   EnzymeType_D   18510 non-null  int64  \n",
            " 5   EnzymeType_E   18510 non-null  int64  \n",
            " 6   RawMatPercent  18510 non-null  float64\n",
            " 7   NIRfat         18510 non-null  float64\n",
            " 8   NIRash         18510 non-null  float64\n",
            " 9   NIRwater       18510 non-null  float64\n",
            " 10  TT08           18510 non-null  float64\n",
            " 11  TT20           18510 non-null  float64\n",
            " 12  TT12           18510 non-null  float64\n",
            " 13  Mw             123 non-null    float64\n",
            "dtypes: float64(8), int64(6)\n",
            "memory usage: 2.1 MB\n"
          ]
        }
      ]
    },
    {
      "cell_type": "code",
      "source": [
        "data_design.info()"
      ],
      "metadata": {
        "id": "PgpYbIMYghZf",
        "colab": {
          "base_uri": "https://localhost:8080/"
        },
        "outputId": "571f48a7-7e87-46e9-e11e-078adef89bdc"
      },
      "execution_count": null,
      "outputs": [
        {
          "output_type": "stream",
          "name": "stdout",
          "text": [
            "<class 'pandas.core.frame.DataFrame'>\n",
            "DatetimeIndex: 10466 entries, 2022-10-31 17:37:00 to 2023-06-13 23:59:00\n",
            "Data columns (total 14 columns):\n",
            " #   Column         Non-Null Count  Dtype  \n",
            "---  ------         --------------  -----  \n",
            " 0   EnzymeType_A1  10466 non-null  int64  \n",
            " 1   EnzymeType_A2  10466 non-null  int64  \n",
            " 2   EnzymeType_B   10466 non-null  int64  \n",
            " 3   EnzymeType_C   10466 non-null  int64  \n",
            " 4   EnzymeType_D   10466 non-null  int64  \n",
            " 5   EnzymeType_E   10466 non-null  int64  \n",
            " 6   RawMatPercent  10466 non-null  float64\n",
            " 7   NIRfat         10466 non-null  float64\n",
            " 8   NIRash         10466 non-null  float64\n",
            " 9   NIRwater       10466 non-null  float64\n",
            " 10  TT08           10466 non-null  float64\n",
            " 11  TT20           10466 non-null  float64\n",
            " 12  TT12           10466 non-null  float64\n",
            " 13  Mw             332 non-null    float64\n",
            "dtypes: float64(8), int64(6)\n",
            "memory usage: 1.2 MB\n"
          ]
        }
      ]
    },
    {
      "cell_type": "markdown",
      "source": [
        "# Lagring av resultater"
      ],
      "metadata": {
        "id": "i_1rn21ITRJ4"
      }
    },
    {
      "cell_type": "code",
      "source": [
        "# Lagring av resultater fra testing og trening\n",
        "dict_res_1_hel_test = {\"modell\": [],\n",
        "                       \"test_andel\": [],\n",
        "                       \"trening_andel\": [],\n",
        "                       \"trening_markert_antall\": [],\n",
        "                       \"umarkert_antall\": [],\n",
        "                       \"umarkert_benyttet\": [],\n",
        "                       \"tid_trening\": [],\n",
        "                       \"parametere\": [],\n",
        "                       \"RMSE_test\": [],\n",
        "                       \"R2_test\":[],\n",
        "                       \"MAE_test\":[],\n",
        "                       \"MAPE_test\":[],\n",
        "                       \"n_runder\": [],\n",
        "                       \"n_splitt\": [],\n",
        "                       \"tid_optimalisering\": []}\n",
        "\n",
        "dict_res_1_design_test = copy.deepcopy(dict_res_1_hel_test)\n",
        "dict_res_2_hel_test = copy.deepcopy(dict_res_1_hel_test)\n",
        "dict_res_2_design_test = copy.deepcopy(dict_res_1_hel_test)\n",
        "\n",
        "# Uten NIR\n",
        "dict_res_1_hel_test_NIR = copy.deepcopy(dict_res_1_hel_test)\n",
        "dict_res_1_design_test_NIR = copy.deepcopy(dict_res_1_hel_test)\n",
        "dict_res_2_hel_test_NIR = copy.deepcopy(dict_res_1_hel_test)\n",
        "dict_res_2_design_test_NIR = copy.deepcopy(dict_res_1_hel_test)\n",
        "\n",
        "dict_res_1_hel_trening = {\"modell\": [],\n",
        "                          \"test_andel\": [],\n",
        "                          \"trening_andel\": [],\n",
        "                          \"umarkert_antall\": [],\n",
        "                          \"umarkert_benyttet\": [],\n",
        "                          \"parametere\": [],\n",
        "                          \"n_splitt\": [],\n",
        "                          \"RMSE_val_snitt\": [],\n",
        "                          \"RMSE_val_std\": [],\n",
        "                          \"R2_val_snitt\":[],\n",
        "                          \"R2_val_std\":[],\n",
        "                          \"MAE_val_snitt\":[],\n",
        "                          \"MAE_val_std\":[],\n",
        "                          \"MAPE_val_snitt\":[],\n",
        "                          \"MAPE_val_std\":[],\n",
        "                          \"RMSE_trening_snitt\": [],\n",
        "                          \"RMSE_trening_std\": [],\n",
        "                          \"R2_trening_snitt\":[],\n",
        "                          \"R2_trening_std\":[],\n",
        "                          \"MAE_trening_snitt\":[],\n",
        "                          \"MAE_trening_std\":[],\n",
        "                          \"MAPE_trening_snitt\":[],\n",
        "                          \"MAPE_trening_std\":[],\n",
        "                          }\n",
        "\n",
        "dict_res_1_design_trening = copy.deepcopy(dict_res_1_hel_trening)\n",
        "dict_res_2_hel_trening = copy.deepcopy(dict_res_1_hel_trening)\n",
        "dict_res_2_design_trening = copy.deepcopy(dict_res_1_hel_trening)\n",
        "\n",
        "# Uten NIR\n",
        "dict_res_1_hel_trening_NIR = copy.deepcopy(dict_res_1_hel_trening)\n",
        "dict_res_1_design_trening_NIR = copy.deepcopy(dict_res_1_hel_trening)\n",
        "dict_res_2_hel_trening_NIR = copy.deepcopy(dict_res_1_hel_trening)\n",
        "dict_res_2_design_trening_NIR = copy.deepcopy(dict_res_1_hel_trening)"
      ],
      "metadata": {
        "id": "EGIgRqWETUTx"
      },
      "execution_count": null,
      "outputs": []
    },
    {
      "cell_type": "markdown",
      "source": [
        "# NIR målinger inkludert"
      ],
      "metadata": {
        "id": "76aWdlTDXp9I"
      }
    },
    {
      "cell_type": "markdown",
      "source": [
        "## Hele datasett"
      ],
      "metadata": {
        "id": "wQpsJkKShL_9"
      }
    },
    {
      "cell_type": "markdown",
      "source": [
        "## Alternativ 1: Et testsett. Fordelt på enzymtype (ikke tatt hensyn til kontinuitet)"
      ],
      "metadata": {
        "id": "yNN1h11QTJ2y"
      }
    },
    {
      "cell_type": "code",
      "source": [
        "# Definerer testandel\n",
        "test_andel = 0.2\n",
        "\n",
        "# Definere andel av treningsett som skal benyttes\n",
        "trenings_andel = 1.0\n",
        "\n",
        "# Deler datasettet i trening og testsett\n",
        "trening_markert, enzymtyper_markert, testsett, enzymtyper_test, trening_umarkert,\\\n",
        "enzymtyper_umarkert, trening\\\n",
        "= trening_testsett_oppdeling_enzym(rå_data,\n",
        "                                   data,\n",
        "                                   test_andel=test_andel)\n",
        "\n",
        "\n",
        "print(\"Enzymtyper Fordeling: Trening markert\")\n",
        "print(enzymfordeling(rå_data, trening_markert))\n",
        "print(\"Enzymtyper Fordeling: Test\")\n",
        "print(enzymfordeling(rå_data, testsett))\n",
        "print(\"Enzymtyper Fordeling: Trening umarkert\")\n",
        "print(enzymfordeling(rå_data, trening_umarkert))"
      ],
      "metadata": {
        "id": "j-oKygY5rRw0",
        "colab": {
          "base_uri": "https://localhost:8080/"
        },
        "outputId": "f35da808-16ea-4a25-a260-179c09b3a955"
      },
      "execution_count": 16,
      "outputs": [
        {
          "output_type": "stream",
          "name": "stdout",
          "text": [
            "Enzymtyper Fordeling: Trening markert\n",
            "            Frekvens  Andel\n",
            "EnzymeCode                 \n",
            "A2               125  34.34\n",
            "E                 60  16.48\n",
            "B                 56  15.38\n",
            "C                 55  15.11\n",
            "D                 50  13.74\n",
            "A1                18   4.95\n",
            "Enzymtyper Fordeling: Test\n",
            "            Frekvens  Andel\n",
            "EnzymeCode                 \n",
            "A2                31  34.07\n",
            "E                 15  16.48\n",
            "B                 14  15.38\n",
            "C                 14  15.38\n",
            "D                 13  14.29\n",
            "A1                 4   4.40\n",
            "Enzymtyper Fordeling: Trening umarkert\n",
            "            Frekvens  Andel\n",
            "EnzymeCode                 \n",
            "A2             17934  62.88\n",
            "A1              2823   9.90\n",
            "D               2193   7.69\n",
            "B               2043   7.16\n",
            "C               1834   6.43\n",
            "E               1694   5.94\n"
          ]
        }
      ]
    },
    {
      "cell_type": "code",
      "source": [
        "# Kryssvalidering\n",
        "splitt = 10\n",
        "gjentagelser = 10\n",
        "\n",
        "# Antall runder til optimalisering\n",
        "n_runder = 100\n",
        "\n",
        "# Modelloptimalisering, trening og evaulering av Coreg, Selv-RFR og BHD\n",
        "semi_modell_evaluering_1(test_dict_res=dict_res_1_hel_test,\n",
        "                         trening_dict_res=dict_res_1_hel_trening,\n",
        "                         treningssett_markert=trening_markert,\n",
        "                         enzymtyper_treningssett_markert=enzymtyper_markert,\n",
        "                         treningssett_umarkert=trening_umarkert,\n",
        "                         enzymtyper_treningssett_umarkert=enzymtyper_umarkert,\n",
        "                         treningssett=trening,\n",
        "                         testsett=testsett,\n",
        "                         splitt=splitt,\n",
        "                         gjentagelser=gjentagelser,\n",
        "                         n_runder=n_runder,\n",
        "                         test_andel=test_andel,\n",
        "                         trenings_andel=trenings_andel,\n",
        "                         random_seed=random_seed)"
      ],
      "metadata": {
        "id": "EmZJojj4jXKu"
      },
      "execution_count": null,
      "outputs": []
    },
    {
      "cell_type": "markdown",
      "source": [
        "Beste modell"
      ],
      "metadata": {
        "id": "kvKjGVxrg57C"
      }
    },
    {
      "cell_type": "code",
      "source": [],
      "metadata": {
        "id": "Tk75jd3uz4j5"
      },
      "execution_count": null,
      "outputs": []
    },
    {
      "cell_type": "markdown",
      "source": [
        "## Alternativ 1: Forskjellige markerte treningsandeler"
      ],
      "metadata": {
        "id": "lNTfChXaIZAf"
      }
    },
    {
      "cell_type": "code",
      "source": [
        "# Antall runder til optimalisering\n",
        "n_runder = 50\n",
        "\n",
        "# Treningsandeler\n",
        "treningsandeler = [0.2, 0.4, 0.6, 0.8]\n",
        "\n",
        "# Går gjennom andeler av satt treningssett\n",
        "for trenings_andel in treningsandeler:\n",
        "\n",
        "  if trenings_andel < 1.0:\n",
        "\n",
        "      # Utelukker resterende andel fra trening av modell\n",
        "      ubenyttet_andel = (1.0-trenings_andel)\n",
        "\n",
        "      treningssett_markert, enzymtyper_treningssett_markert,\\\n",
        "      _, _, treningssett_umarkert, enzymtyper_treningssett_umarkert, treningssett\\\n",
        "      = trening_testsett_oppdeling_enzym(rå_data,\n",
        "                                         trening,\n",
        "                                         test_andel=ubenyttet_andel,\n",
        "                                         random_seed=random_seed)\n",
        "\n",
        "  else:\n",
        "    treningssett_markert = trening_markert\n",
        "    enzymtyper_treningssett_markert = enzymtyper_markert\n",
        "    treningssett_umarkert = trening_umarkert\n",
        "    enzymtyper_treningssett_umarkert = enzymtyper_umarkert\n",
        "    treningssett = trening\n",
        "\n",
        "  # Parameter til kryssvalidering\n",
        "  gjentagelser = 10\n",
        "\n",
        "  # Finner antall av enzymtype med minst antall\n",
        "  enzym_markert_info = enzymfordeling(rå_data, treningssett_markert)\n",
        "  enzymtype_min = enzym_markert_info['Frekvens'].min()\n",
        "\n",
        "  # Splitter etter minst antall hvis lavere enn 10. Ellers 10\n",
        "  splitt = 10 if enzymtype_min >= 10 else enzymtype_min\n",
        "\n",
        "  semi_modell_evaluering_1(test_dict_res=dict_res_1_hel_test,\n",
        "                            trening_dict_res=dict_res_1_hel_trening,\n",
        "                            treningssett_markert=treningssett_markert,\n",
        "                            enzymtyper_treningssett_markert=enzymtyper_treningssett_markert,\n",
        "                            treningssett_umarkert=treningssett_umarkert,\n",
        "                            enzymtyper_treningssett_umarkert=enzymtyper_treningssett_umarkert,\n",
        "                            treningssett=treningssett,\n",
        "                            testsett=testsett,\n",
        "                            splitt=splitt,\n",
        "                            gjentagelser=gjentagelser,\n",
        "                            n_runder=n_runder,\n",
        "                            test_andel=test_andel,\n",
        "                            trenings_andel=trenings_andel,\n",
        "                            random_seed=random_seed)"
      ],
      "metadata": {
        "id": "jH1qpCxOIgAI",
        "colab": {
          "base_uri": "https://localhost:8080/"
        },
        "outputId": "c8dc982f-253d-4585-d904-6e62d57f3e30"
      },
      "execution_count": null,
      "outputs": [
        {
          "output_type": "stream",
          "name": "stdout",
          "text": [
            "Enzymtyper Fordeling: Trening markert\n",
            "    Frekvens  Andel\n",
            "A2       128  34.78\n",
            "E         60  16.30\n",
            "B         56  15.22\n",
            "C         56  15.22\n",
            "D         50  13.59\n",
            "A1        18   4.89\n",
            "Enzymtyper Fordeling: Trening umarkert\n",
            "    Frekvens  Andel\n",
            "A2     17987  62.92\n",
            "A1      2823   9.87\n",
            "D       2193   7.67\n",
            "B       2043   7.15\n",
            "C       1846   6.46\n",
            "E       1697   5.94\n"
          ]
        }
      ]
    },
    {
      "cell_type": "markdown",
      "source": [
        "## Alternativ 1: Forskjellige umarkerte treningsandeler"
      ],
      "metadata": {
        "id": "RBNO1d-80-7K"
      }
    },
    {
      "cell_type": "code",
      "source": [
        "# Antall runder til optimalisering\n",
        "n_runder = 50\n",
        "\n",
        "# Treningsandel\n",
        "trenings_andel = 1.0\n",
        "\n",
        "# Andeler markert fra umarkert\n",
        "andel_av_markert = [0.25, 0.5, 1.0, 2.0]\n",
        "\n",
        "# Markert sett\n",
        "treningssett_markert = trening_markert\n",
        "enzymtyper_treningssett_markert = enzymtyper_markert\n",
        "\n",
        "# Går gjennom andeler av satt treningssett\n",
        "for andel in andel_av_markert:\n",
        "\n",
        "  umarkert_andel = andel_umarkert(andel, treningssett_markert, trening_umarkert)\n",
        "\n",
        "  print(umarkert_andel)\n",
        "\n",
        "  # Filtrer umarkert sett\n",
        "  ubenyttet_andel = (1.0 - umarkert_andel)\n",
        "  treningssett_umarkert, _, enzymtyper_treningssett_umarkert, _= train_test_split(trening_umarkert,\n",
        "                                                  enzymtyper_umarkert,\n",
        "                                                  test_size=ubenyttet_andel,\n",
        "                                                  stratify=enzymtyper_umarkert,\n",
        "                                                  random_state=random_seed)\n",
        "\n",
        "  # Treningssett\n",
        "  treningssett = pd.concat([treningssett_markert, treningssett_umarkert],\n",
        "                           axis=0)\n",
        "  treningssett = treningssett.sort_index(ascending=True)\n",
        "\n",
        "  # Parameter til kryssvalidering\n",
        "  gjentagelser = 10\n",
        "\n",
        "  # Finner antall av enzymtype med minst antall\n",
        "  enzym_markert = enzymfordeling(rå_data, treningssett_markert)\n",
        "  enzymtype_min = enzym_markert['Frekvens'].min()\n",
        "\n",
        "  # Splitter etter minst antall hvis lavere enn 10. Ellers 10\n",
        "  splitt = 10 if enzymtype_min >= 10 else enzymtype_min\n",
        "\n",
        "  semi_modell_evaluering_1(test_dict_res=dict_res_1_hel_test,\n",
        "                          trening_dict_res=dict_res_1_hel_trening,\n",
        "                          treningssett_markert=treningssett_markert,\n",
        "                          enzymtyper_treningssett_markert=enzymtyper_treningssett_markert,\n",
        "                          treningssett_umarkert=treningssett_umarkert,\n",
        "                          enzymtyper_treningssett_umarkert=enzymtyper_treningssett_umarkert,\n",
        "                          treningssett=treningssett,\n",
        "                          testsett=testsett,\n",
        "                          splitt=splitt,\n",
        "                          gjentagelser=gjentagelser,\n",
        "                          n_runder=n_runder,\n",
        "                          test_andel=test_andel,\n",
        "                          trenings_andel=trenings_andel,\n",
        "                          random_seed=random_seed)"
      ],
      "metadata": {
        "colab": {
          "base_uri": "https://localhost:8080/"
        },
        "id": "Ej0MRfuI1Qxx",
        "outputId": "ef5dae2c-ebaa-4b67-acfb-41d275bc11c3"
      },
      "execution_count": null,
      "outputs": [
        {
          "output_type": "stream",
          "name": "stdout",
          "text": [
            "Enzymtyper Fordeling: Trening markert\n",
            "    Frekvens  Andel\n",
            "A2       128  34.78\n",
            "E         60  16.30\n",
            "B         56  15.22\n",
            "C         56  15.22\n",
            "D         50  13.59\n",
            "A1        18   4.89\n",
            "Enzymtyper Fordeling: Trening umarkert\n",
            "    Frekvens  Andel\n",
            "A2     17987  62.92\n",
            "A1      2823   9.87\n",
            "D       2193   7.67\n",
            "B       2043   7.15\n",
            "C       1846   6.46\n",
            "E       1697   5.94\n"
          ]
        }
      ]
    },
    {
      "cell_type": "markdown",
      "source": [
        "Lagring av resultater"
      ],
      "metadata": {
        "id": "MSCewDmhgFHW"
      }
    },
    {
      "cell_type": "code",
      "source": [
        "mw_res_1_hel_trening_semi = pd.DataFrame(dict_res_1_hel_trening)\n",
        "mw_res_1_hel_test_semi = pd.DataFrame(dict_res_1_hel_test)\n",
        "\n",
        "mw_res_1_hel_trening_semi.to_csv('/content/drive/MyDrive/MasterV24/Bioco_data/mw_res_1_hel_trening_semi.csv')\n",
        "mw_res_1_hel_test_semi.to_csv('/content/drive/MyDrive/MasterV24/Bioco_data/mw_res_1_hel_test_semi.csv')"
      ],
      "metadata": {
        "id": "5Xw_S3MTgHgY"
      },
      "execution_count": null,
      "outputs": []
    },
    {
      "cell_type": "markdown",
      "source": [
        "## Alternativ 2: Et testsett fordelt på dag og kontinuitet"
      ],
      "metadata": {
        "id": "IwENe1s1rmwy"
      }
    },
    {
      "cell_type": "code",
      "source": [
        "# Definerer trening og testandel\n",
        "trenings_andel = 1.0\n",
        "test_andel = 0.2\n",
        "\n",
        "# Deler datasettet i trening og testsett\n",
        "trening_markert, testsett, trening_umarkert, trening\\\n",
        "= trening_testsett_oppdeling_dag(rå_data,\n",
        "                                 data,\n",
        "                                 test_andel=test_andel,\n",
        "                                 ekskluder_kalkun_kylling=True)\n",
        "\n",
        "#Oversikt over fordelingen av enzymtyper i trening og testsett\n",
        "print(\"Enzymtyper Fordeling: Trening markert\")\n",
        "print(enzymfordeling(rå_data, trening_markert))\n",
        "print(\"Enzymtyper Fordeling: Test\")\n",
        "print(enzymfordeling(rå_data, testsett))\n",
        "print(\"Enzymtyper Fordeling: Trening umarkert\")\n",
        "print(enzymfordeling(rå_data, trening_umarkert))"
      ],
      "metadata": {
        "id": "JLlqSB4BQKYU",
        "colab": {
          "base_uri": "https://localhost:8080/"
        },
        "outputId": "90eed7d2-bdf2-4d11-850c-1d1644f28f75"
      },
      "execution_count": 17,
      "outputs": [
        {
          "output_type": "stream",
          "name": "stdout",
          "text": [
            "Enzymtyper Fordeling: Trening markert\n",
            "            Frekvens  Andel\n",
            "EnzymeCode                 \n",
            "A2               131  35.89\n",
            "E                 60  16.44\n",
            "B                 54  14.79\n",
            "C                 54  14.79\n",
            "D                 50  13.70\n",
            "A1                16   4.38\n",
            "Enzymtyper Fordeling: Test\n",
            "            Frekvens  Andel\n",
            "EnzymeCode                 \n",
            "A2                25  27.78\n",
            "B                 16  17.78\n",
            "C                 15  16.67\n",
            "E                 15  16.67\n",
            "D                 13  14.44\n",
            "A1                 6   6.67\n",
            "Enzymtyper Fordeling: Trening umarkert\n",
            "            Frekvens  Andel\n",
            "EnzymeCode                 \n",
            "A2             17934  62.88\n",
            "A1              2823   9.90\n",
            "D               2193   7.69\n",
            "B               2043   7.16\n",
            "C               1834   6.43\n",
            "E               1694   5.94\n"
          ]
        }
      ]
    },
    {
      "cell_type": "code",
      "source": [
        "# Antall runder til optimalisering\n",
        "n_runder = 100\n",
        "\n",
        "# Kryssvalidering\n",
        "splitt = 10\n",
        "\n",
        "# Modelloptimalisering, trening og evaulering av Coreg, Selv-RFR og BHD\n",
        "semi_modell_evaluering_2(test_dict_res=dict_res_2_hel_test,\n",
        "                         trening_dict_res=dict_res_2_hel_trening,\n",
        "                         rå_data=rå_data,\n",
        "                         treningssett_markert=trening_markert,\n",
        "                         treningssett_umarkert=trening_umarkert,\n",
        "                         treningssett=trening,\n",
        "                         testsett=testsett,\n",
        "                         splitt=splitt,\n",
        "                         n_runder=n_runder,\n",
        "                         test_andel=test_andel,\n",
        "                         trenings_andel=trenings_andel,\n",
        "                         random_seed=random_seed):"
      ],
      "metadata": {
        "id": "8Viu-m-nk262"
      },
      "execution_count": null,
      "outputs": []
    },
    {
      "cell_type": "markdown",
      "source": [
        "## Alternativ 2: Forskjellige markerte treningssandeler"
      ],
      "metadata": {
        "id": "8IO2r9GrkH4N"
      }
    },
    {
      "cell_type": "code",
      "source": [
        "# Antall runder til optimalisering\n",
        "n_runder = 50\n",
        "\n",
        "# Treningsandeler\n",
        "trenings_andeler = [0.2, 0.4, 0.6, 0.8]\n",
        "\n",
        "# Går gjennom andeler av satt treningssett\n",
        "for trenings_andel in trenings_andeler:\n",
        "\n",
        "  if trenings_andel < 1.0:\n",
        "\n",
        "      # Utelukker resterende andel fra trening av modell\n",
        "      ubenyttet_andel = (1.0-trenings_andel)\n",
        "\n",
        "      treningssett_markert, _, treningssett_umarkert, treningssett\\\n",
        "      = trening_testsett_oppdeling_dag(rå_data,\n",
        "                                       trening,\n",
        "                                       test_andel=ubenyttet_andel,\n",
        "                                       trening_krav=True)\n",
        "\n",
        "  else:\n",
        "    treningssett_markert = trening_markert\n",
        "    treningssett_umarkert = trening_umarkert\n",
        "    treningssett = trening\n",
        "\n",
        "  enzym_treningssett_markert = enzymfordeling(rå_data,\n",
        "                                              treningssett_markert)\n",
        "\n",
        "  print(\"Enzymtyper Fordeling: Treningssett markert andel:\", trenings_andel)\n",
        "  print(enzym_treningssett_markert)\n",
        "\n",
        "  # Finner antall av enzymtype med minst antall\n",
        "  enzymtype_min = enzym_treningssett_markert['Frekvens'].min()\n",
        "\n",
        "  # Splitter etter minst antall hvis lavere enn 10. Ellers 10\n",
        "  splitt = 10 if enzymtype_min >= 10 else enzymtype_min\n",
        "\n",
        "  semi_modell_evaluering_2(test_dict_res=dict_res_2_hel_test,\n",
        "                          trening_dict_res=dict_res_2_hel_trening,\n",
        "                          rå_data=rå_data,\n",
        "                          treningssett_markert=treningssett_markert,\n",
        "                          treningssett_umarkert=treningssett_umarkert,\n",
        "                          treningssett=treningssett,\n",
        "                          testsett=testsett,\n",
        "                          splitt=splitt,\n",
        "                          n_runder=n_runder,\n",
        "                          test_andel=test_andel,\n",
        "                          trenings_andel=trenings_andel,\n",
        "                          random_seed=random_seed)"
      ],
      "metadata": {
        "id": "jV49bC6qkH4N",
        "colab": {
          "base_uri": "https://localhost:8080/"
        },
        "outputId": "99e22334-b0a1-4de5-a6f2-5656d6fa8b16"
      },
      "execution_count": null,
      "outputs": [
        {
          "output_type": "stream",
          "name": "stdout",
          "text": [
            "Enzymtyper Fordeling: Test\n",
            "A2    26\n",
            "B     16\n",
            "C     15\n",
            "E     15\n",
            "D     13\n",
            "A1     6\n",
            "Name: EnzymeCode, dtype: int64\n",
            "Enzymtyper Fordeling: Treningssett umarkert\n",
            "A2    17987\n",
            "A1     2823\n",
            "D      2193\n",
            "B      2043\n",
            "C      1846\n",
            "E      1697\n",
            "Name: EnzymeCode, dtype: int64\n"
          ]
        }
      ]
    },
    {
      "cell_type": "markdown",
      "source": [
        "## Alternativ 2: Forskjellige umarkerte treningsandeler"
      ],
      "metadata": {
        "id": "VVi9U1IKlevw"
      }
    },
    {
      "cell_type": "code",
      "source": [
        "# Antall runder til optimalisering\n",
        "n_runder = 50\n",
        "\n",
        "# Treningsandel\n",
        "trenings_andel = 1.0\n",
        "\n",
        "# Andeler markert fra umarkert\n",
        "andel_av_markert = [0.25, 0.5, 1.0, 2.0]\n",
        "\n",
        "# Markert sett\n",
        "treningssett_markert = trening_markert\n",
        "\n",
        "# Går gjennom andeler av satt treningssett\n",
        "for andel in andel_av_markert:\n",
        "\n",
        "  umarkert_andel = andel_umarkert(andel, treningssett_markert, trening_umarkert)\n",
        "\n",
        "  print(umarkert_andel)\n",
        "\n",
        "  # Filtrer umarkert sett\n",
        "  treningssett_umarkert, _ = umarkert_andel_dag(trening_umarkert,\n",
        "                                                umarkert_andel)\n",
        "\n",
        "  # Treningssett\n",
        "  treningssett = pd.concat([treningssett_markert, treningssett_umarkert],\n",
        "                           axis=0)\n",
        "  treningssett = treningssett.sort_index(ascending=True)\n",
        "\n",
        "  # Finner antall av enzymtype med minst antall\n",
        "  enzym_markert = enzymfordeling(rå_data, treningssett_markert)\n",
        "  enzymtype_min = enzym_markert['Frekvens'].min()\n",
        "\n",
        "  # Splitter etter minst antall hvis lavere enn 10. Ellers 10\n",
        "  splitt = 10 if enzymtype_min >= 10 else enzymtype_min\n",
        "\n",
        "  semi_modell_evaluering_2(test_dict_res=dict_res_2_hel_test,\n",
        "                          trening_dict_res=dict_res_2_hel_trening,\n",
        "                          rå_data=rå_data,\n",
        "                          treningssett_markert=treningssett_markert,\n",
        "                          treningssett_umarkert=treningssett_umarkert,\n",
        "                          treningssett=treningssett,\n",
        "                          testsett=testsett,\n",
        "                          splitt=splitt,\n",
        "                          n_runder=n_runder,\n",
        "                          test_andel=test_andel,\n",
        "                          trenings_andel=trenings_andel,\n",
        "                          random_seed=random_seed)"
      ],
      "metadata": {
        "id": "jwzgFZ_4lfxR"
      },
      "execution_count": null,
      "outputs": []
    },
    {
      "cell_type": "markdown",
      "source": [
        "Lagring av resultater"
      ],
      "metadata": {
        "id": "ruDkbfs6l_o7"
      }
    },
    {
      "cell_type": "code",
      "source": [
        "mw_res_2_hel_trening_semi = pd.DataFrame(dict_res_2_hel_trening)\n",
        "mw_res_2_hel_test_semi = pd.DataFrame(dict_res_2_hel_test)\n",
        "\n",
        "mw_res_2_hel_trening_semi.to_csv('/content/drive/MyDrive/MasterV24/Bioco_data/mw_res_2_hel_trening_semi.csv')\n",
        "mw_res_2_hel_test_semi.to_csv('/content/drive/MyDrive/MasterV24/Bioco_data/mw_res_2_hel_test_semi.csv')"
      ],
      "metadata": {
        "id": "9LBusEDol_o8"
      },
      "execution_count": null,
      "outputs": []
    },
    {
      "cell_type": "markdown",
      "source": [
        "## Designproduksjon"
      ],
      "metadata": {
        "id": "un6mDEGPFIHt"
      }
    },
    {
      "cell_type": "markdown",
      "source": [
        "## Alternativ 1: Et testsett. Fordelt på enzymtype (ikke tatt hensyn til kontinuitet)"
      ],
      "metadata": {
        "id": "hUCSjHaJmN7Y"
      }
    },
    {
      "cell_type": "code",
      "source": [
        "# Definerer testandel\n",
        "test_andel = 0.2\n",
        "\n",
        "# Definere andel av treningsett som skal benyttes\n",
        "trenings_andel = 1.0\n",
        "\n",
        "# Deler datasettet i trening og testsett\n",
        "trening_markert, enzymtyper_markert, testsett, enzymtyper_test, trening_umarkert,\\\n",
        "enzymtyper_umarkert, trening\\\n",
        "= trening_testsett_oppdeling_enzym(rå_data,\n",
        "                                   data_design,\n",
        "                                   test_andel=test_andel)\n",
        "\n",
        "\n",
        "print(\"Enzymtyper Fordeling: Trening markert\")\n",
        "print(enzymfordeling(rå_data, trening_markert))\n",
        "print(\"Enzymtyper Fordeling: Test\")\n",
        "print(enzymfordeling(rå_data, testsett))\n",
        "print(\"Enzymtyper Fordeling: Trening umarkert\")\n",
        "print(enzymfordeling(rå_data, trening_umarkert))"
      ],
      "metadata": {
        "colab": {
          "base_uri": "https://localhost:8080/"
        },
        "outputId": "cf3684ed-a8ae-4a0c-cc40-96184867a6d0",
        "id": "WwKcBsMKmN7Z"
      },
      "execution_count": 18,
      "outputs": [
        {
          "output_type": "stream",
          "name": "stdout",
          "text": [
            "Enzymtyper Fordeling: Trening markert\n",
            "            Frekvens  Andel\n",
            "EnzymeCode                 \n",
            "E                 60  22.64\n",
            "C                 53  20.00\n",
            "B                 52  19.62\n",
            "D                 48  18.11\n",
            "A2                38  14.34\n",
            "A1                14   5.28\n",
            "Enzymtyper Fordeling: Test\n",
            "            Frekvens  Andel\n",
            "EnzymeCode                 \n",
            "E                 15  22.39\n",
            "B                 13  19.40\n",
            "C                 13  19.40\n",
            "D                 12  17.91\n",
            "A2                10  14.93\n",
            "A1                 4   5.97\n",
            "Enzymtyper Fordeling: Trening umarkert\n",
            "            Frekvens  Andel\n",
            "EnzymeCode                 \n",
            "D               1926  19.01\n",
            "A1              1826  18.02\n",
            "B               1728  17.05\n",
            "C               1699  16.77\n",
            "E               1631  16.09\n",
            "A2              1324  13.06\n"
          ]
        }
      ]
    },
    {
      "cell_type": "code",
      "source": [
        "# Kryssvalidering\n",
        "splitt = 10\n",
        "gjentagelser = 10\n",
        "\n",
        "# Antall runder til optimalisering\n",
        "n_runder = 100\n",
        "\n",
        "# Modelloptimalisering, trening og evaulering av Coreg, Selv-RFR og BHD\n",
        "semi_modell_evaluering_1(test_dict_res=dict_res_1_design_test,\n",
        "                         trening_dict_res=dict_res_1_design_trening,\n",
        "                         treningssett_markert=trening_markert,\n",
        "                         enzymtyper_treningssett_markert=enzymtyper_markert,\n",
        "                         treningssett_umarkert=trening_umarkert,\n",
        "                         enzymtyper_treningssett_umarkert=enzymtyper_umarkert,\n",
        "                         treningssett=trening,\n",
        "                         testsett=testsett,\n",
        "                         splitt=splitt,\n",
        "                         gjentagelser=gjentagelser,\n",
        "                         n_runder=n_runder,\n",
        "                         test_andel=test_andel,\n",
        "                         trenings_andel=trenings_andel,\n",
        "                         random_seed=random_seed)"
      ],
      "metadata": {
        "id": "4Khz5Q6wmN7Z"
      },
      "execution_count": null,
      "outputs": []
    },
    {
      "cell_type": "markdown",
      "source": [
        "Beste modell"
      ],
      "metadata": {
        "id": "TPbZZ3nGmN7Z"
      }
    },
    {
      "cell_type": "code",
      "source": [],
      "metadata": {
        "id": "yrnVuFfNmN7Z"
      },
      "execution_count": null,
      "outputs": []
    },
    {
      "cell_type": "markdown",
      "source": [
        "## Alternativ 1: Forskjellige markerte treningsandeler"
      ],
      "metadata": {
        "id": "5ve61SHXmN7Z"
      }
    },
    {
      "cell_type": "code",
      "source": [
        "# Antall runder til optimalisering\n",
        "n_runder = 50\n",
        "\n",
        "# Treningsandeler\n",
        "treningsandeler = [0.2, 0.4, 0.6, 0.8]\n",
        "\n",
        "# Går gjennom andeler av satt treningssett\n",
        "for trenings_andel in treningsandeler:\n",
        "\n",
        "  if trenings_andel < 1.0:\n",
        "\n",
        "      # Utelukker resterende andel fra trening av modell\n",
        "      ubenyttet_andel = (1.0-trenings_andel)\n",
        "\n",
        "      treningssett_markert, enzymtyper_treningssett_markert,\\\n",
        "      _, _, treningssett_umarkert, enzymtyper_treningssett_umarkert, treningssett\\\n",
        "      = trening_testsett_oppdeling_enzym(rå_data,\n",
        "                                         trening,\n",
        "                                         test_andel=ubenyttet_andel,\n",
        "                                         random_seed=random_seed)\n",
        "\n",
        "  else:\n",
        "    treningssett_markert = trening_markert\n",
        "    enzymtyper_treningssett_markert = enzymtyper_markert\n",
        "    treningssett_umarkert = trening_umarkert\n",
        "    enzymtyper_treningssett_umarkert = enzymtyper_umarkert\n",
        "    treningssett = trening\n",
        "\n",
        "  # Parameter til kryssvalidering\n",
        "  gjentagelser = 10\n",
        "\n",
        "  # Finner antall av enzymtype med minst antall\n",
        "  enzym_markert_info = enzymfordeling(rå_data, treningssett_markert)\n",
        "  enzymtype_min = enzym_markert_info['Frekvens'].min()\n",
        "\n",
        "  # Splitter etter minst antall hvis lavere enn 10. Ellers 10\n",
        "  splitt = 10 if enzymtype_min >= 10 else enzymtype_min\n",
        "\n",
        "  semi_modell_evaluering_1(test_dict_res=dict_res_1_design_test,\n",
        "                            trening_dict_res=dict_res_1_design_trening,\n",
        "                            treningssett_markert=treningssett_markert,\n",
        "                            enzymtyper_treningssett_markert=enzymtyper_treningssett_markert,\n",
        "                            treningssett_umarkert=treningssett_umarkert,\n",
        "                            enzymtyper_treningssett_umarkert=enzymtyper_treningssett_umarkert,\n",
        "                            treningssett=treningssett,\n",
        "                            testsett=testsett,\n",
        "                            splitt=splitt,\n",
        "                            gjentagelser=gjentagelser,\n",
        "                            n_runder=n_runder,\n",
        "                            test_andel=test_andel,\n",
        "                            trenings_andel=trenings_andel,\n",
        "                            random_seed=random_seed)"
      ],
      "metadata": {
        "colab": {
          "base_uri": "https://localhost:8080/"
        },
        "outputId": "c8dc982f-253d-4585-d904-6e62d57f3e30",
        "id": "oNQG9U6KmN7a"
      },
      "execution_count": null,
      "outputs": [
        {
          "output_type": "stream",
          "name": "stdout",
          "text": [
            "Enzymtyper Fordeling: Trening markert\n",
            "    Frekvens  Andel\n",
            "A2       128  34.78\n",
            "E         60  16.30\n",
            "B         56  15.22\n",
            "C         56  15.22\n",
            "D         50  13.59\n",
            "A1        18   4.89\n",
            "Enzymtyper Fordeling: Trening umarkert\n",
            "    Frekvens  Andel\n",
            "A2     17987  62.92\n",
            "A1      2823   9.87\n",
            "D       2193   7.67\n",
            "B       2043   7.15\n",
            "C       1846   6.46\n",
            "E       1697   5.94\n"
          ]
        }
      ]
    },
    {
      "cell_type": "markdown",
      "source": [
        "## Alternativ 1: Forskjellige umarkerte treningsandeler"
      ],
      "metadata": {
        "id": "eH1cd-2wmN7a"
      }
    },
    {
      "cell_type": "code",
      "source": [
        "# Antall runder til optimalisering\n",
        "n_runder = 50\n",
        "\n",
        "# Treningsandel\n",
        "trenings_andel = 1.0\n",
        "\n",
        "# Andeler markert fra umarkert\n",
        "andel_av_markert = [0.25, 0.5, 1.0, 2.0]\n",
        "\n",
        "# Markert sett\n",
        "treningssett_markert = trening_markert\n",
        "enzymtyper_treningssett_markert = enzymtyper_markert\n",
        "\n",
        "# Går gjennom andeler av satt treningssett\n",
        "for andel in andel_av_markert:\n",
        "\n",
        "  umarkert_andel = andel_umarkert(andel, treningssett_markert, trening_umarkert)\n",
        "\n",
        "  print(umarkert_andel)\n",
        "\n",
        "  # Filtrer umarkert sett\n",
        "  ubenyttet_andel = (1.0 - umarkert_andel)\n",
        "  treningssett_umarkert, _, enzymtyper_treningssett_umarkert, _= train_test_split(trening_umarkert,\n",
        "                                                  enzymtyper_umarkert,\n",
        "                                                  test_size=ubenyttet_andel,\n",
        "                                                  stratify=enzymtyper_umarkert,\n",
        "                                                  random_state=random_seed)\n",
        "\n",
        "  # Treningssett\n",
        "  treningssett = pd.concat([treningssett_markert, treningssett_umarkert],\n",
        "                           axis=0)\n",
        "  treningssett = treningssett.sort_index(ascending=True)\n",
        "\n",
        "  # Parameter til kryssvalidering\n",
        "  gjentagelser = 10\n",
        "\n",
        "  # Finner antall av enzymtype med minst antall\n",
        "  enzym_markert = enzymfordeling(rå_data, treningssett_markert)\n",
        "  enzymtype_min = enzym_markert['Frekvens'].min()\n",
        "\n",
        "  # Splitter etter minst antall hvis lavere enn 10. Ellers 10\n",
        "  splitt = 10 if enzymtype_min >= 10 else enzymtype_min\n",
        "\n",
        "  semi_modell_evaluering_1(test_dict_res=dict_res_1_design_test,\n",
        "                          trening_dict_res=dict_res_1_design_trening,\n",
        "                          treningssett_markert=treningssett_markert,\n",
        "                          enzymtyper_treningssett_markert=enzymtyper_treningssett_markert,\n",
        "                          treningssett_umarkert=treningssett_umarkert,\n",
        "                          enzymtyper_treningssett_umarkert=enzymtyper_treningssett_umarkert,\n",
        "                          treningssett=treningssett,\n",
        "                          testsett=testsett,\n",
        "                          splitt=splitt,\n",
        "                          gjentagelser=gjentagelser,\n",
        "                          n_runder=n_runder,\n",
        "                          test_andel=test_andel,\n",
        "                          trenings_andel=trenings_andel,\n",
        "                          random_seed=random_seed)"
      ],
      "metadata": {
        "colab": {
          "base_uri": "https://localhost:8080/"
        },
        "outputId": "ef5dae2c-ebaa-4b67-acfb-41d275bc11c3",
        "id": "gvK7CLR9mN7a"
      },
      "execution_count": null,
      "outputs": [
        {
          "output_type": "stream",
          "name": "stdout",
          "text": [
            "Enzymtyper Fordeling: Trening markert\n",
            "    Frekvens  Andel\n",
            "A2       128  34.78\n",
            "E         60  16.30\n",
            "B         56  15.22\n",
            "C         56  15.22\n",
            "D         50  13.59\n",
            "A1        18   4.89\n",
            "Enzymtyper Fordeling: Trening umarkert\n",
            "    Frekvens  Andel\n",
            "A2     17987  62.92\n",
            "A1      2823   9.87\n",
            "D       2193   7.67\n",
            "B       2043   7.15\n",
            "C       1846   6.46\n",
            "E       1697   5.94\n"
          ]
        }
      ]
    },
    {
      "cell_type": "markdown",
      "source": [
        "Lagring av resultater"
      ],
      "metadata": {
        "id": "YbZqrLOumN7a"
      }
    },
    {
      "cell_type": "code",
      "source": [
        "mw_res_1_design_trening_semi = pd.DataFrame(dict_res_1_design_trening)\n",
        "mw_res_1_design_test_semi = pd.DataFrame(dict_res_1_design_test)\n",
        "\n",
        "mw_res_1_design_trening_semi.to_csv('/content/drive/MyDrive/MasterV24/Bioco_data/mw_res_1_design_trening_semi.csv')\n",
        "mw_res_1_design_test_semi.to_csv('/content/drive/MyDrive/MasterV24/Bioco_data/mw_res_1_design_test_semi.csv')"
      ],
      "metadata": {
        "id": "CtEa5et_mN7a"
      },
      "execution_count": null,
      "outputs": []
    },
    {
      "cell_type": "markdown",
      "source": [
        "## Alternativ 2: Et testsett fordelt på dag og kontinuitet"
      ],
      "metadata": {
        "id": "6K59KUcHmN7a"
      }
    },
    {
      "cell_type": "code",
      "source": [
        "# Definerer trening og testandel\n",
        "trenings_andel = 1.0\n",
        "test_andel = 0.2\n",
        "\n",
        "# Deler datasettet i trening og testsett\n",
        "trening_markert, testsett, trening_umarkert, trening\\\n",
        "= trening_testsett_oppdeling_dag(rå_data,\n",
        "                                 data_design,\n",
        "                                 test_andel=test_andel,\n",
        "                                 ekskluder_kalkun_kylling=True)\n",
        "\n",
        "#Oversikt over fordelingen av enzymtyper i trening og testsett\n",
        "print(\"Enzymtyper Fordeling: Trening markert\")\n",
        "print(enzymfordeling(rå_data, trening_markert))\n",
        "print(\"Enzymtyper Fordeling: Test\")\n",
        "print(enzymfordeling(rå_data, testsett))\n",
        "print(\"Enzymtyper Fordeling: Trening umarkert\")\n",
        "print(enzymfordeling(rå_data, trening_umarkert))"
      ],
      "metadata": {
        "colab": {
          "base_uri": "https://localhost:8080/"
        },
        "outputId": "69b82b7b-b216-4cb0-dba6-1e3668c96dd1",
        "id": "KWC0SnbqmN7a"
      },
      "execution_count": 19,
      "outputs": [
        {
          "output_type": "stream",
          "name": "stdout",
          "text": [
            "Enzymtyper Fordeling: Trening markert\n",
            "            Frekvens  Andel\n",
            "EnzymeCode                 \n",
            "E                 60  22.56\n",
            "C                 53  19.92\n",
            "B                 52  19.55\n",
            "D                 48  18.05\n",
            "A2                39  14.66\n",
            "A1                14   5.26\n",
            "Enzymtyper Fordeling: Test\n",
            "            Frekvens  Andel\n",
            "EnzymeCode                 \n",
            "E                 15  22.73\n",
            "B                 13  19.70\n",
            "C                 13  19.70\n",
            "D                 12  18.18\n",
            "A2                 9  13.64\n",
            "A1                 4   6.06\n",
            "Enzymtyper Fordeling: Trening umarkert\n",
            "            Frekvens  Andel\n",
            "EnzymeCode                 \n",
            "D               1926  19.01\n",
            "A1              1826  18.02\n",
            "B               1728  17.05\n",
            "C               1699  16.77\n",
            "E               1631  16.09\n",
            "A2              1324  13.06\n"
          ]
        }
      ]
    },
    {
      "cell_type": "code",
      "source": [
        "# Antall runder til optimalisering\n",
        "n_runder = 100\n",
        "\n",
        "# Kryssvalidering\n",
        "splitt = 10\n",
        "\n",
        "# Modelloptimalisering, trening og evaulering av Coreg, Selv-RFR og BHD\n",
        "semi_modell_evaluering_2(test_dict_res=dict_res_2_design_test,\n",
        "                         trening_dict_res=dict_res_2_design_trening,\n",
        "                         rå_data=rå_data,\n",
        "                         treningssett_markert=trening_markert,\n",
        "                         treningssett_umarkert=trening_umarkert,\n",
        "                         treningssett=trening,\n",
        "                         testsett=testsett,\n",
        "                         splitt=splitt,\n",
        "                         n_runder=n_runder,\n",
        "                         test_andel=test_andel,\n",
        "                         trenings_andel=trenings_andel,\n",
        "                         random_seed=random_seed):"
      ],
      "metadata": {
        "id": "t43xMhVlmN7b"
      },
      "execution_count": null,
      "outputs": []
    },
    {
      "cell_type": "markdown",
      "source": [
        "## Alternativ 2: Forskjellige markerte treningssandeler"
      ],
      "metadata": {
        "id": "GJtLcfaumN7b"
      }
    },
    {
      "cell_type": "code",
      "source": [
        "# Antall runder til optimalisering\n",
        "n_runder = 50\n",
        "\n",
        "# Treningsandeler\n",
        "trenings_andeler = [0.2, 0.4, 0.6, 0.8]\n",
        "\n",
        "# Går gjennom andeler av satt treningssett\n",
        "for trenings_andel in trenings_andeler:\n",
        "\n",
        "  if trenings_andel < 1.0:\n",
        "\n",
        "      # Utelukker resterende andel fra trening av modell\n",
        "      ubenyttet_andel = (1.0-trenings_andel)\n",
        "\n",
        "      treningssett_markert, _, treningssett_umarkert, treningssett\\\n",
        "      = trening_testsett_oppdeling_dag(rå_data,\n",
        "                                       trening,\n",
        "                                       test_andel=ubenyttet_andel,\n",
        "                                       trening_krav=True)\n",
        "\n",
        "  else:\n",
        "    treningssett_markert = trening_markert\n",
        "    treningssett_umarkert = trening_umarkert\n",
        "    treningssett = trening\n",
        "\n",
        "  enzym_treningssett_markert = enzymfordeling(rå_data,\n",
        "                                              treningssett_markert)\n",
        "\n",
        "  print(\"Enzymtyper Fordeling: Treningssett markert andel:\", trenings_andel)\n",
        "  print(enzym_treningssett_markert)\n",
        "\n",
        "  # Finner antall av enzymtype med minst antall\n",
        "  enzymtype_min = enzym_treningssett_markert['Frekvens'].min()\n",
        "\n",
        "  # Splitter etter minst antall hvis lavere enn 10. Ellers 10\n",
        "  splitt = 10 if enzymtype_min >= 10 else enzymtype_min\n",
        "\n",
        "  semi_modell_evaluering_2(test_dict_res=dict_res_2_design_test,\n",
        "                          trening_dict_res=dict_res_2_design_trening,\n",
        "                          rå_data=rå_data,\n",
        "                          treningssett_markert=treningssett_markert,\n",
        "                          treningssett_umarkert=treningssett_umarkert,\n",
        "                          treningssett=treningssett,\n",
        "                          testsett=testsett,\n",
        "                          splitt=splitt,\n",
        "                          n_runder=n_runder,\n",
        "                          test_andel=test_andel,\n",
        "                          trenings_andel=trenings_andel,\n",
        "                          random_seed=random_seed)"
      ],
      "metadata": {
        "colab": {
          "base_uri": "https://localhost:8080/"
        },
        "outputId": "99e22334-b0a1-4de5-a6f2-5656d6fa8b16",
        "id": "zNAQ2I7EmN7b"
      },
      "execution_count": null,
      "outputs": [
        {
          "output_type": "stream",
          "name": "stdout",
          "text": [
            "Enzymtyper Fordeling: Test\n",
            "A2    26\n",
            "B     16\n",
            "C     15\n",
            "E     15\n",
            "D     13\n",
            "A1     6\n",
            "Name: EnzymeCode, dtype: int64\n",
            "Enzymtyper Fordeling: Treningssett umarkert\n",
            "A2    17987\n",
            "A1     2823\n",
            "D      2193\n",
            "B      2043\n",
            "C      1846\n",
            "E      1697\n",
            "Name: EnzymeCode, dtype: int64\n"
          ]
        }
      ]
    },
    {
      "cell_type": "markdown",
      "source": [
        "## Alternativ 2: Forskjellige umarkerte treningsandeler"
      ],
      "metadata": {
        "id": "gCldsJEemN7b"
      }
    },
    {
      "cell_type": "code",
      "source": [
        "# Antall runder til optimalisering\n",
        "n_runder = 50\n",
        "\n",
        "# Treningsandel\n",
        "trenings_andel = 1.0\n",
        "\n",
        "# Andeler markert fra umarkert\n",
        "andel_av_markert = [0.25, 0.5, 1.0, 2.0]\n",
        "\n",
        "# Markert sett\n",
        "treningssett_markert = trening_markert\n",
        "\n",
        "# Går gjennom andeler av satt treningssett\n",
        "for andel in andel_av_markert:\n",
        "\n",
        "  umarkert_andel = andel_umarkert(andel, treningssett_markert, trening_umarkert)\n",
        "\n",
        "  print(umarkert_andel)\n",
        "\n",
        "  # Filtrer umarkert sett\n",
        "  treningssett_umarkert, _ = umarkert_andel_dag(trening_umarkert,\n",
        "                                                umarkert_andel)\n",
        "\n",
        "  # Treningssett\n",
        "  treningssett = pd.concat([treningssett_markert, treningssett_umarkert],\n",
        "                           axis=0)\n",
        "  treningssett = treningssett.sort_index(ascending=True)\n",
        "\n",
        "  # Finner antall av enzymtype med minst antall\n",
        "  enzym_markert = enzymfordeling(rå_data, treningssett_markert)\n",
        "  enzymtype_min = enzym_markert['Frekvens'].min()\n",
        "\n",
        "  # Splitter etter minst antall hvis lavere enn 10. Ellers 10\n",
        "  splitt = 10 if enzymtype_min >= 10 else enzymtype_min\n",
        "\n",
        "  semi_modell_evaluering_2(test_dict_res=dict_res_2_design_test,\n",
        "                          trening_dict_res=dict_res_2_design_trening,\n",
        "                          rå_data=rå_data,\n",
        "                          treningssett_markert=treningssett_markert,\n",
        "                          treningssett_umarkert=treningssett_umarkert,\n",
        "                          treningssett=treningssett,\n",
        "                          testsett=testsett,\n",
        "                          splitt=splitt,\n",
        "                          n_runder=n_runder,\n",
        "                          test_andel=test_andel,\n",
        "                          trenings_andel=trenings_andel,\n",
        "                          random_seed=random_seed)"
      ],
      "metadata": {
        "id": "nDb0P88QmN7b"
      },
      "execution_count": null,
      "outputs": []
    },
    {
      "cell_type": "markdown",
      "source": [
        "Lagring av resultater"
      ],
      "metadata": {
        "id": "S8oK0wRLmN7b"
      }
    },
    {
      "cell_type": "code",
      "source": [
        "mw_res_2_design_trening_semi = pd.DataFrame(dict_res_2_design_trening)\n",
        "mw_res_2_design_test_semi = pd.DataFrame(dict_res_2_design_test)\n",
        "\n",
        "mw_res_2_design_trening_semi.to_csv('/content/drive/MyDrive/MasterV24/Bioco_data/mw_res_2_design_trening_semi.csv')\n",
        "mw_res_2_design_test_semi.to_csv('/content/drive/MyDrive/MasterV24/Bioco_data/mw_res_2_design_test_semi.csv')"
      ],
      "metadata": {
        "id": "KqbcNKtymN7b"
      },
      "execution_count": null,
      "outputs": []
    },
    {
      "cell_type": "markdown",
      "source": [
        "# NIR målinger ekskludert"
      ],
      "metadata": {
        "id": "pnhtimdQn6n_"
      }
    },
    {
      "cell_type": "code",
      "source": [
        "# Ekskluderer NIR målinger fra datasettene\n",
        "NIR_kolonner = ['NIRfat', 'NIRwater', 'NIRash']\n",
        "data_uten_NIR = data.drop(columns=NIR_kolonner)\n",
        "data_design_uten_NIR = data_design.drop(columns=NIR_kolonner)"
      ],
      "metadata": {
        "id": "HVRjvKsSn6oM"
      },
      "execution_count": 15,
      "outputs": []
    },
    {
      "cell_type": "markdown",
      "source": [
        "## Hele datasett"
      ],
      "metadata": {
        "id": "FngOg-aynnWh"
      }
    },
    {
      "cell_type": "markdown",
      "source": [
        "## Alternativ 1: Et testsett. Fordelt på enzymtype (ikke tatt hensyn til kontinuitet)"
      ],
      "metadata": {
        "id": "xQN39OvtnnWi"
      }
    },
    {
      "cell_type": "code",
      "source": [
        "# Definerer testandel\n",
        "test_andel = 0.2\n",
        "\n",
        "# Definere andel av treningsett som skal benyttes\n",
        "trenings_andel = 1.0\n",
        "\n",
        "# Deler datasettet i trening og testsett\n",
        "trening_markert, enzymtyper_markert, testsett, enzymtyper_test, trening_umarkert,\\\n",
        "enzymtyper_umarkert, trening\\\n",
        "= trening_testsett_oppdeling_enzym(rå_data,\n",
        "                                   data_uten_NIR,\n",
        "                                   test_andel=test_andel)"
      ],
      "metadata": {
        "colab": {
          "base_uri": "https://localhost:8080/"
        },
        "outputId": "12982b36-6b00-4d21-9a8a-9de4c029eea5",
        "id": "f9Hz_zKennWi"
      },
      "execution_count": null,
      "outputs": [
        {
          "output_type": "stream",
          "name": "stdout",
          "text": [
            "Enzymtyper Fordeling: Trening markert\n",
            "            Frekvens  Andel\n",
            "EnzymeCode                 \n",
            "A2               125  34.34\n",
            "E                 60  16.48\n",
            "B                 56  15.38\n",
            "C                 55  15.11\n",
            "D                 50  13.74\n",
            "A1                18   4.95\n",
            "Enzymtyper Fordeling: Trening umarkert\n",
            "            Frekvens  Andel\n",
            "EnzymeCode                 \n",
            "A2             17934  62.88\n",
            "A1              2823   9.90\n",
            "D               2193   7.69\n",
            "B               2043   7.16\n",
            "C               1834   6.43\n",
            "E               1694   5.94\n",
            "Enzymtyper Fordeling: Test\n",
            "            Frekvens  Andel\n",
            "EnzymeCode                 \n",
            "A2                31  34.07\n",
            "E                 15  16.48\n",
            "B                 14  15.38\n",
            "C                 14  15.38\n",
            "D                 13  14.29\n",
            "A1                 4   4.40\n"
          ]
        }
      ]
    },
    {
      "cell_type": "code",
      "source": [
        "# Kryssvalidering\n",
        "splitt = 10\n",
        "gjentagelser = 10\n",
        "\n",
        "# Antall runder til optimalisering\n",
        "n_runder = 100\n",
        "\n",
        "# Modelloptimalisering, trening og evaulering av Coreg, Selv-RFR og BHD\n",
        "semi_modell_evaluering_1(test_dict_res=dict_res_1_hel_test_NIR,\n",
        "                         trening_dict_res=dict_res_1_hel_trening_NIR,\n",
        "                         treningssett_markert=trening_markert,\n",
        "                         enzymtyper_treningssett_markert=enzymtyper_markert,\n",
        "                         treningssett_umarkert=trening_umarkert,\n",
        "                         enzymtyper_treningssett_umarkert=enzymtyper_umarkert,\n",
        "                         treningssett=trening,\n",
        "                         testsett=testsett,\n",
        "                         splitt=splitt,\n",
        "                         gjentagelser=gjentagelser,\n",
        "                         n_runder=n_runder,\n",
        "                         test_andel=test_andel,\n",
        "                         trenings_andel=trenings_andel,\n",
        "                         random_seed=random_seed)"
      ],
      "metadata": {
        "id": "3lgfwsBpnnWi"
      },
      "execution_count": null,
      "outputs": []
    },
    {
      "cell_type": "markdown",
      "source": [
        "Beste modell"
      ],
      "metadata": {
        "id": "19PBB4sannWi"
      }
    },
    {
      "cell_type": "code",
      "source": [],
      "metadata": {
        "id": "EAhBuBY-nnWj"
      },
      "execution_count": null,
      "outputs": []
    },
    {
      "cell_type": "markdown",
      "source": [
        "Lagring av resultater"
      ],
      "metadata": {
        "id": "XNmo6rgRodCt"
      }
    },
    {
      "cell_type": "code",
      "source": [
        "mw_res_1_hel_trening_semi_NIR = pd.DataFrame(dict_res_1_hel_trening_NIR)\n",
        "mw_res_1_hel_test_semi_NIR = pd.DataFrame(dict_res_1_hel_test_NIR)\n",
        "\n",
        "mw_res_1_hel_trening_semi_NIR.to_csv('/content/drive/MyDrive/MasterV24/Bioco_data/mw_res_1_hel_trening_semi_NIR.csv')\n",
        "mw_res_1_hel_test_semi_NIR.to_csv('/content/drive/MyDrive/MasterV24/Bioco_data/mw_res_1_hel_test_semi_NIR.csv')"
      ],
      "metadata": {
        "id": "1Nnwi6F0odCu"
      },
      "execution_count": null,
      "outputs": []
    },
    {
      "cell_type": "markdown",
      "metadata": {
        "id": "49GQjZ88BoDa"
      },
      "source": [
        "## Alternativ 2: Manuell fordeling"
      ]
    },
    {
      "cell_type": "code",
      "execution_count": 20,
      "metadata": {
        "colab": {
          "base_uri": "https://localhost:8080/"
        },
        "outputId": "4d934cb3-b4ac-43fd-ed8c-abd8d8370fc8",
        "id": "G5kb5K2Mq41R"
      },
      "outputs": [
        {
          "output_type": "stream",
          "name": "stdout",
          "text": [
            "Enzymtyper Fordeling: Trening markert\n",
            "            Frekvens  Andel\n",
            "EnzymeCode                 \n",
            "A2               131  35.89\n",
            "E                 60  16.44\n",
            "B                 54  14.79\n",
            "C                 54  14.79\n",
            "D                 50  13.70\n",
            "A1                16   4.38\n",
            "Enzymtyper Fordeling: Test\n",
            "            Frekvens  Andel\n",
            "EnzymeCode                 \n",
            "A2                25  27.78\n",
            "B                 16  17.78\n",
            "C                 15  16.67\n",
            "E                 15  16.67\n",
            "D                 13  14.44\n",
            "A1                 6   6.67\n",
            "Enzymtyper Fordeling: Trening umarkert\n",
            "            Frekvens  Andel\n",
            "EnzymeCode                 \n",
            "A2             17934  62.88\n",
            "A1              2823   9.90\n",
            "D               2193   7.69\n",
            "B               2043   7.16\n",
            "C               1834   6.43\n",
            "E               1694   5.94\n"
          ]
        }
      ],
      "source": [
        "# Definerer trening og testandel\n",
        "trenings_andel = 1.0\n",
        "test_andel = 0.2\n",
        "\n",
        "# Deler datasettet i trening og testsett\n",
        "trening_markert, testsett, trening_umarkert, trening\\\n",
        "= trening_testsett_oppdeling_dag(rå_data,\n",
        "                                 data_uten_NIR,\n",
        "                                 test_andel=test_andel,\n",
        "                                 ekskluder_kalkun_kylling=True)"
      ]
    },
    {
      "cell_type": "code",
      "source": [
        "# Antall runder til optimalisering\n",
        "n_runder = 10\n",
        "\n",
        "# Kryssvalidering\n",
        "splitt = 10\n",
        "\n",
        "# Modelloptimalisering, trening og evaulering av Coreg, Selv-RFR og BHD\n",
        "semi_modell_evaluering_2(test_dict_res=dict_res_2_hel_test_NIR,\n",
        "                         trening_dict_res=dict_res_2_hel_trening_NIR,\n",
        "                         rå_data=rå_data,\n",
        "                         treningssett_markert=trening_markert,\n",
        "                         treningssett_umarkert=trening_umarkert,\n",
        "                         treningssett=trening,\n",
        "                         testsett=testsett,\n",
        "                         splitt=splitt,\n",
        "                         n_runder=n_runder,\n",
        "                         test_andel=test_andel,\n",
        "                         trenings_andel=trenings_andel,\n",
        "                         random_seed=random_seed)"
      ],
      "metadata": {
        "id": "wm_MWk6x0nnD"
      },
      "execution_count": null,
      "outputs": []
    },
    {
      "cell_type": "markdown",
      "source": [
        "Beste modell"
      ],
      "metadata": {
        "id": "peq30NIare5I"
      }
    },
    {
      "cell_type": "code",
      "source": [],
      "metadata": {
        "id": "40FqPMn9re5Q"
      },
      "execution_count": null,
      "outputs": []
    },
    {
      "cell_type": "markdown",
      "source": [
        "Lagring av resultater"
      ],
      "metadata": {
        "id": "NyUe25fPre5Q"
      }
    },
    {
      "cell_type": "code",
      "source": [
        "mw_res_2_hel_trening_semi_NIR = pd.DataFrame(dict_res_2_hel_trening_NIR)\n",
        "mw_res_2_hel_test_semi_NIR = pd.DataFrame(dict_res_2_hel_test_NIR)\n",
        "\n",
        "mw_res_2_hel_trening_semi_NIR.to_csv('/content/drive/MyDrive/MasterV24/Bioco_data/mw_res_2_hel_trening_semi_NIR.csv')\n",
        "mw_res_2_hel_test_semi_NIR.to_csv('/content/drive/MyDrive/MasterV24/Bioco_data/mw_res_2_hel_test_semi_NIR.csv')"
      ],
      "metadata": {
        "id": "CU9wlqdmre5Q"
      },
      "execution_count": null,
      "outputs": []
    },
    {
      "cell_type": "markdown",
      "metadata": {
        "id": "wASf8kP1rpkq"
      },
      "source": [
        "## Designproduksjon"
      ]
    },
    {
      "cell_type": "markdown",
      "metadata": {
        "id": "pzkziEds6GK8"
      },
      "source": [
        "## Alternativ 1: Et testsett. Fordelt på enzymtype (ikke tatt hensyn til kontinuitet)"
      ]
    },
    {
      "cell_type": "code",
      "execution_count": 22,
      "metadata": {
        "id": "5slwInDw6GK8"
      },
      "outputs": [],
      "source": [
        "# Definerer testandel\n",
        "test_andel = 0.2\n",
        "\n",
        "# Definere andel av treningsett som skal benyttes\n",
        "trenings_andel = 1.0\n",
        "\n",
        "# Deler datasettet i trening og testsett\n",
        "trening_markert, enzymtyper_markert, testsett, enzymtyper_test, trening_umarkert,\\\n",
        "enzymtyper_umarkert, trening\\\n",
        "= trening_testsett_oppdeling_enzym(rå_data,\n",
        "                                   data_design_uten_NIR,\n",
        "                                   test_andel=test_andel)"
      ]
    },
    {
      "cell_type": "code",
      "source": [
        "# Antall runder til optimalisering\n",
        "n_runder = 100\n",
        "\n",
        "# Kryssvalidering\n",
        "splitt = 10\n",
        "gjentagelser = 10\n",
        "\n",
        "\n",
        "# Modelloptimalisering, trening og evaulering av Coreg, Selv-RFR og BHD\n",
        "semi_modell_evaluering_1(test_dict_res=dict_res_1_design_test_NIR,\n",
        "                         trening_dict_res=dict_res_1_design_trening_NIR,\n",
        "                         treningssett_markert=trening_markert,\n",
        "                         enzymtyper_treningssett_markert=enzymtyper_markert,\n",
        "                         treningssett_umarkert=trening_umarkert,\n",
        "                         enzymtyper_treningssett_umarkert=enzymtyper_umarkert,\n",
        "                         treningssett=trening,\n",
        "                         testsett=testsett,\n",
        "                         splitt=splitt,\n",
        "                         gjentagelser=gjentagelser,\n",
        "                         n_runder=n_runder,\n",
        "                         test_andel=test_andel,\n",
        "                         trenings_andel=trenings_andel,\n",
        "                         random_seed=random_seed)"
      ],
      "metadata": {
        "id": "-hEBYKCxruJt"
      },
      "execution_count": null,
      "outputs": []
    },
    {
      "cell_type": "markdown",
      "source": [
        "Beste modell"
      ],
      "metadata": {
        "id": "P9fQSICyr1G2"
      }
    },
    {
      "cell_type": "code",
      "source": [],
      "metadata": {
        "id": "mKwGbEdYr1G2"
      },
      "execution_count": null,
      "outputs": []
    },
    {
      "cell_type": "markdown",
      "source": [
        "Lagring av resultater"
      ],
      "metadata": {
        "id": "05VAyD6Jr1G2"
      }
    },
    {
      "cell_type": "code",
      "source": [
        "mw_res_1_design_trening_semi_NIR = pd.DataFrame(dict_res_1_design_trening_NIR)\n",
        "mw_res_1_design_test_semi_NIR = pd.DataFrame(dict_res_1_design_test_NIR)\n",
        "\n",
        "mw_res_1_design_trening_semi_NIR.to_csv('/content/drive/MyDrive/MasterV24/Bioco_data/mw_res_1_design_trening_semi_NIR.csv')\n",
        "mw_res_1_design_test_semi_NIR.to_csv('/content/drive/MyDrive/MasterV24/Bioco_data/mw_res_1_design_test_semi_NIR.csv')"
      ],
      "metadata": {
        "id": "D3bJWyttr1G2"
      },
      "execution_count": null,
      "outputs": []
    },
    {
      "cell_type": "markdown",
      "metadata": {
        "id": "9EuYJpT16GK9"
      },
      "source": [
        "## Alternativ 2: Et testsett fordelt på dag og kontinuitet"
      ]
    },
    {
      "cell_type": "code",
      "execution_count": 23,
      "metadata": {
        "id": "UxOKnfcm6GK9"
      },
      "outputs": [],
      "source": [
        "# Definerer trening og testandel\n",
        "trenings_andel = 1.0\n",
        "test_andel = 0.2\n",
        "\n",
        "# Deler datasettet i trening og testsett\n",
        "trening_markert, testsett, trening_umarkert, trening\\\n",
        "= trening_testsett_oppdeling_dag(rå_data,\n",
        "                                 data_design_uten_NIR,\n",
        "                                 test_andel=test_andel,\n",
        "                                 ekskluder_kalkun_kylling=True)"
      ]
    },
    {
      "cell_type": "code",
      "source": [
        "# Antall runder til optimalisering\n",
        "n_runder = 100\n",
        "\n",
        "# Kryssvalidering\n",
        "splitt = 10\n",
        "\n",
        "# Modelloptimalisering, trening og evaulering av Coreg, Selv-RFR og BHD\n",
        "semi_modell_evaluering_2(test_dict_res=dict_res_2_design_test_NIR,\n",
        "                         trening_dict_res=dict_res_2_design_trening_NIR,\n",
        "                         rå_data=rå_data,\n",
        "                         treningssett_markert=trening_markert,\n",
        "                         treningssett_umarkert=trening_umarkert,\n",
        "                         treningssett=trening,\n",
        "                         testsett=testsett,\n",
        "                         splitt=splitt,\n",
        "                         n_runder=n_runder,\n",
        "                         test_andel=test_andel,\n",
        "                         trenings_andel=trenings_andel,\n",
        "                         random_seed=random_seed)"
      ],
      "metadata": {
        "id": "on8q4_-96GK9",
        "colab": {
          "base_uri": "https://localhost:8080/"
        },
        "outputId": "9cc2d133-fc97-4563-f76c-4d1da4191e37"
      },
      "execution_count": null,
      "outputs": [
        {
          "output_type": "stream",
          "name": "stderr",
          "text": [
            "[I 2024-04-15 19:06:18,045] A new study created in memory with name: no-name-6ac8b6ed-7bbf-4fb7-a8a8-b178b56025e4\n",
            "[I 2024-04-15 19:09:13,410] Trial 0 finished with value: 736.4857465024405 and parameters: {'k1': 8, 'k2': 3, 'p1': 4, 'p2': 2, 'max_iters': 41, 'pool_size': 147}. Best is trial 0 with value: 736.4857465024405.\n",
            "[I 2024-04-15 19:10:40,648] A new study created in memory with name: no-name-acc00074-debf-4d41-9dcc-c8c97c6d4d2a\n",
            "[I 2024-04-15 19:10:54,833] Trial 0 finished with value: 896.5680238588425 and parameters: {'n_estimators': 418, 'criterion': 'absolute_error', 'max_depth': 26, 'min_samples_leaf': 3, 'max_features': 0.700277228925558, 'maks_iterasjoner': 3, 'std_terskel': 0.024469804644067825}. Best is trial 0 with value: 896.5680238588425.\n",
            "[I 2024-04-15 19:11:08,294] A new study created in memory with name: no-name-62787132-0f91-4b8d-83e1-f13f7a23724e\n",
            "[I 2024-04-15 19:12:01,560] Trial 0 finished with value: 2341.8098801171654 and parameters: {'k': 5035, 'alpha': 0.4346265758170794, 'maks_iterasjoner': 67, 'bruk_markering': 'True'}. Best is trial 0 with value: 2341.8098801171654.\n"
          ]
        }
      ]
    },
    {
      "cell_type": "markdown",
      "source": [
        "Beste modell"
      ],
      "metadata": {
        "id": "PCqCJyk0s4Zg"
      }
    },
    {
      "cell_type": "code",
      "source": [],
      "metadata": {
        "id": "Y2SaMdc9s4Zg"
      },
      "execution_count": null,
      "outputs": []
    },
    {
      "cell_type": "markdown",
      "source": [
        "Lagring av resultater"
      ],
      "metadata": {
        "id": "mSLjQvR8s4Zg"
      }
    },
    {
      "cell_type": "code",
      "source": [
        "mw_res_2_design_trening_semi_NIR = pd.DataFrame(dict_res_2_design_trening_NIR)\n",
        "mw_res_2_design_test_semi_NIR = pd.DataFrame(dict_res_2_design_test_NIR)\n",
        "\n",
        "mw_res_2_design_trening_semi_NIR.to_csv('/content/drive/MyDrive/MasterV24/Bioco_data/mw_res_2_design_trening_semi_NIR.csv')\n",
        "mw_res_2_design_test_semi_NIR.to_csv('/content/drive/MyDrive/MasterV24/Bioco_data/mw_res_2_design_test_semi_NIR.csv')"
      ],
      "metadata": {
        "id": "qFkMlJCns4Zh"
      },
      "execution_count": null,
      "outputs": []
    }
  ],
  "metadata": {
    "colab": {
      "collapsed_sections": [
        "uPtuGVtCJOFj",
        "qhRMrFFHlZuX",
        "21cdLIoaSTR6",
        "hPfDrou1pR0w",
        "yNN1h11QTJ2y",
        "lNTfChXaIZAf",
        "RBNO1d-80-7K",
        "IwENe1s1rmwy",
        "8IO2r9GrkH4N",
        "VVi9U1IKlevw",
        "hUCSjHaJmN7Y",
        "5ve61SHXmN7Z",
        "eH1cd-2wmN7a",
        "6K59KUcHmN7a",
        "GJtLcfaumN7b",
        "gCldsJEemN7b",
        "pnhtimdQn6n_",
        "xQN39OvtnnWi",
        "49GQjZ88BoDa",
        "pzkziEds6GK8",
        "9EuYJpT16GK9"
      ],
      "provenance": [],
      "authorship_tag": "ABX9TyOgcXoPhz/88TXxTt8XiXC6",
      "include_colab_link": true
    },
    "kernelspec": {
      "display_name": "Python 3",
      "name": "python3"
    },
    "language_info": {
      "name": "python"
    }
  },
  "nbformat": 4,
  "nbformat_minor": 0
}