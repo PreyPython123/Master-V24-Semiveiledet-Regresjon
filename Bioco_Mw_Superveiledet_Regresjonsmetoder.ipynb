{
  "cells": [
    {
      "cell_type": "markdown",
      "metadata": {
        "id": "view-in-github",
        "colab_type": "text"
      },
      "source": [
        "<a href=\"https://colab.research.google.com/github/PreyPython123/Master-V24-Semiveiledet-Regresjon/blob/Mw-Pradeep/Bioco_Mw_Superveiledet_Regresjonsmetoder.ipynb\" target=\"_parent\"><img src=\"https://colab.research.google.com/assets/colab-badge.svg\" alt=\"Open In Colab\"/></a>"
      ]
    },
    {
      "cell_type": "code",
      "execution_count": 1,
      "metadata": {
        "colab": {
          "base_uri": "https://localhost:8080/"
        },
        "id": "nwEzUjnf0xLZ",
        "outputId": "716b250c-d309-435f-8baf-27cfc2040ebd"
      },
      "outputs": [
        {
          "output_type": "stream",
          "name": "stdout",
          "text": [
            "Mounted at /content/drive/\n"
          ]
        }
      ],
      "source": [
        "from google.colab import drive\n",
        "drive.mount('/content/drive/')"
      ]
    },
    {
      "cell_type": "markdown",
      "metadata": {
        "id": "uPtuGVtCJOFj"
      },
      "source": [
        "# Importering, lasting og formattering"
      ]
    },
    {
      "cell_type": "markdown",
      "metadata": {
        "id": "ZNeQrag9Rlc_"
      },
      "source": [
        "Lasting av nødvendige bibliotek og pakker"
      ]
    },
    {
      "cell_type": "code",
      "execution_count": 2,
      "metadata": {
        "colab": {
          "base_uri": "https://localhost:8080/"
        },
        "id": "k5u1dZmp6cJ9",
        "outputId": "13486594-2949-417a-857a-47b54d32d5b9"
      },
      "outputs": [
        {
          "output_type": "stream",
          "name": "stdout",
          "text": [
            "Collecting optuna\n",
            "  Downloading optuna-3.6.1-py3-none-any.whl (380 kB)\n",
            "\u001b[2K     \u001b[90m━━━━━━━━━━━━━━━━━━━━━━━━━━━━━━━━━━━━━━━━\u001b[0m \u001b[32m380.1/380.1 kB\u001b[0m \u001b[31m3.7 MB/s\u001b[0m eta \u001b[36m0:00:00\u001b[0m\n",
            "\u001b[?25hCollecting alembic>=1.5.0 (from optuna)\n",
            "  Downloading alembic-1.13.1-py3-none-any.whl (233 kB)\n",
            "\u001b[2K     \u001b[90m━━━━━━━━━━━━━━━━━━━━━━━━━━━━━━━━━━━━━━━━\u001b[0m \u001b[32m233.4/233.4 kB\u001b[0m \u001b[31m5.8 MB/s\u001b[0m eta \u001b[36m0:00:00\u001b[0m\n",
            "\u001b[?25hCollecting colorlog (from optuna)\n",
            "  Downloading colorlog-6.8.2-py3-none-any.whl (11 kB)\n",
            "Requirement already satisfied: numpy in /usr/local/lib/python3.10/dist-packages (from optuna) (1.25.2)\n",
            "Requirement already satisfied: packaging>=20.0 in /usr/local/lib/python3.10/dist-packages (from optuna) (24.0)\n",
            "Requirement already satisfied: sqlalchemy>=1.3.0 in /usr/local/lib/python3.10/dist-packages (from optuna) (2.0.29)\n",
            "Requirement already satisfied: tqdm in /usr/local/lib/python3.10/dist-packages (from optuna) (4.66.2)\n",
            "Requirement already satisfied: PyYAML in /usr/local/lib/python3.10/dist-packages (from optuna) (6.0.1)\n",
            "Collecting Mako (from alembic>=1.5.0->optuna)\n",
            "  Downloading Mako-1.3.3-py3-none-any.whl (78 kB)\n",
            "\u001b[2K     \u001b[90m━━━━━━━━━━━━━━━━━━━━━━━━━━━━━━━━━━━━━━━━\u001b[0m \u001b[32m78.8/78.8 kB\u001b[0m \u001b[31m6.3 MB/s\u001b[0m eta \u001b[36m0:00:00\u001b[0m\n",
            "\u001b[?25hRequirement already satisfied: typing-extensions>=4 in /usr/local/lib/python3.10/dist-packages (from alembic>=1.5.0->optuna) (4.11.0)\n",
            "Requirement already satisfied: greenlet!=0.4.17 in /usr/local/lib/python3.10/dist-packages (from sqlalchemy>=1.3.0->optuna) (3.0.3)\n",
            "Requirement already satisfied: MarkupSafe>=0.9.2 in /usr/local/lib/python3.10/dist-packages (from Mako->alembic>=1.5.0->optuna) (2.1.5)\n",
            "Installing collected packages: Mako, colorlog, alembic, optuna\n",
            "Successfully installed Mako-1.3.3 alembic-1.13.1 colorlog-6.8.2 optuna-3.6.1\n"
          ]
        }
      ],
      "source": [
        "!pip install optuna"
      ]
    },
    {
      "cell_type": "markdown",
      "metadata": {
        "id": "jT-YzIdVRply"
      },
      "source": [
        "Importering av nødvendig bibliotek og pakker"
      ]
    },
    {
      "cell_type": "code",
      "execution_count": 3,
      "metadata": {
        "id": "5_s-eJyVk3v0"
      },
      "outputs": [],
      "source": [
        "import pandas as pd\n",
        "import numpy as np\n",
        "import copy\n",
        "import math\n",
        "from statistics import mean, stdev\n",
        "\n",
        "from sklearn.preprocessing import StandardScaler\n",
        "from sklearn.model_selection import RepeatedStratifiedKFold\n",
        "from sklearn.pipeline import Pipeline"
      ]
    },
    {
      "cell_type": "code",
      "source": [
        "# Modeller\n",
        "from sklearn.ensemble import RandomForestRegressor\n",
        "from sklearn.neighbors import KNeighborsRegressor\n",
        "from sklearn.svm import SVR"
      ],
      "metadata": {
        "id": "EH3SQKCIfwnC"
      },
      "execution_count": 4,
      "outputs": []
    },
    {
      "cell_type": "code",
      "execution_count": 5,
      "metadata": {
        "id": "GrgCsoZhmayI"
      },
      "outputs": [],
      "source": [
        "# Hyperoptimalisering\n",
        "import optuna\n",
        "from optuna.visualization import plot_optimization_history\n",
        "\n",
        "# Utelukker utskriving av logg for hyperoptimalisering\n",
        "# optuna.logging.set_verbosity(optuna.logging.WARNING)"
      ]
    },
    {
      "cell_type": "markdown",
      "metadata": {
        "id": "qhRMrFFHlZuX"
      },
      "source": [
        "# Egendefinerte moduler"
      ]
    },
    {
      "cell_type": "code",
      "execution_count": 6,
      "metadata": {
        "colab": {
          "base_uri": "https://localhost:8080/"
        },
        "id": "FXgxrml5lg5B",
        "outputId": "9f0787b6-9315-42e7-b0ba-7a6aa76612bb"
      },
      "outputs": [
        {
          "output_type": "stream",
          "name": "stdout",
          "text": [
            "/content\n"
          ]
        }
      ],
      "source": [
        "!pwd\n",
        "! cp /content/drive/MyDrive/MasterV24/GitHub/moduler_trening_validering_testing_evaluering.py /content/moduler_trening_validering_testing_evaluering.py"
      ]
    },
    {
      "cell_type": "code",
      "execution_count": 7,
      "metadata": {
        "id": "tvOTDwKLf0q8"
      },
      "outputs": [],
      "source": [
        "from moduler_trening_validering_testing_evaluering import trening_testsett_oppdeling_enzym\n",
        "from moduler_trening_validering_testing_evaluering import trening_testsett_oppdeling_dag\n",
        "from moduler_trening_validering_testing_evaluering import trening_validering_oppdeling_dag\n",
        "\n",
        "from moduler_trening_validering_testing_evaluering import enzymfordeling\n",
        "from moduler_trening_validering_testing_evaluering import n_splitt_enzym\n",
        "from moduler_trening_validering_testing_evaluering import Resultat_evaluering\n",
        "from moduler_trening_validering_testing_evaluering import res_eval_opt\n",
        "from moduler_trening_validering_testing_evaluering import res_eval\n",
        "from moduler_trening_validering_testing_evaluering import Resultat_dicts"
      ]
    },
    {
      "cell_type": "code",
      "execution_count": 8,
      "metadata": {
        "colab": {
          "base_uri": "https://localhost:8080/"
        },
        "id": "JTs_zHhkiBpK",
        "outputId": "922e7884-45da-4c7d-eef0-7b891ee17fd6"
      },
      "outputs": [
        {
          "output_type": "stream",
          "name": "stdout",
          "text": [
            "/content\n"
          ]
        }
      ],
      "source": [
        "!pwd\n",
        "! cp /content/drive/MyDrive/MasterV24/GitHub/moduler_optimalisering_evaluering_veiledet.py /content/moduler_optimalisering_evaluering_veiledet.py"
      ]
    },
    {
      "cell_type": "code",
      "execution_count": 9,
      "metadata": {
        "id": "A5GEVrXsiYd-"
      },
      "outputs": [],
      "source": [
        "from moduler_optimalisering_evaluering_veiledet import trening_rfr_enzym\n",
        "from moduler_optimalisering_evaluering_veiledet import trening_knr_enzym\n",
        "from moduler_optimalisering_evaluering_veiledet import trening_svr_enzym\n",
        "\n",
        "from moduler_optimalisering_evaluering_veiledet import trening_rfr_dag\n",
        "from moduler_optimalisering_evaluering_veiledet import trening_knr_dag\n",
        "from moduler_optimalisering_evaluering_veiledet import trening_svr_dag\n",
        "\n",
        "from moduler_optimalisering_evaluering_veiledet import veiledet_modell_evaluering_1\n",
        "from moduler_optimalisering_evaluering_veiledet import veiledet_modell_evaluering_2"
      ]
    },
    {
      "cell_type": "markdown",
      "metadata": {
        "id": "21cdLIoaSTR6"
      },
      "source": [
        "# Importering av relevant data"
      ]
    },
    {
      "cell_type": "code",
      "execution_count": 10,
      "metadata": {
        "id": "XeNQyDPZSTwY"
      },
      "outputs": [],
      "source": [
        "# Velger første kolonne med dato og tid som index\n",
        "data = pd.read_csv('/content/drive/MyDrive/MasterV24/Bioco_data/mw_data.csv',\n",
        "                            header=0,\n",
        "                            sep=',',\n",
        "                            index_col=0)\n",
        "\n",
        "# Design produksjon\n",
        "data_design = pd.read_csv('/content/drive/MyDrive/MasterV24/Bioco_data/mw_data_design.csv',\n",
        "                                   header=0,\n",
        "                                   sep=',',\n",
        "                                   index_col=0)\n",
        "\n",
        "# Importerer rådata\n",
        "rå_data = pd.read_csv('/content/drive/MyDrive/MasterV24/BiocoData.csv',\n",
        "                      header=0,\n",
        "                      sep=';',\n",
        "                      index_col=0)\n",
        "\n",
        "# Formatterer index til riktig format og datatype\n",
        "data.index = pd.to_datetime(data.index,\n",
        "                            format='%Y-%m-%d %H:%M:%S')\n",
        "\n",
        "data_design.index = pd.to_datetime(data_design.index,\n",
        "                                   format='%Y-%m-%d %H:%M:%S')\n",
        "\n",
        "rå_data.index = pd.to_datetime(rå_data.index,\n",
        "                               format='%d-%m-%Y %H:%M:%S.%f')"
      ]
    },
    {
      "cell_type": "markdown",
      "metadata": {
        "id": "7Wl0nay5j2C4"
      },
      "source": [
        "Tilfeldighetsfrø"
      ]
    },
    {
      "cell_type": "code",
      "execution_count": 11,
      "metadata": {
        "id": "OxTGpIOmj4V7"
      },
      "outputs": [],
      "source": [
        "#Tilfeldighetsfrø\n",
        "random_seed = 2024"
      ]
    },
    {
      "cell_type": "markdown",
      "metadata": {
        "id": "i_1rn21ITRJ4"
      },
      "source": [
        "# Lagring av resultater"
      ]
    },
    {
      "cell_type": "code",
      "execution_count": 12,
      "metadata": {
        "id": "EGIgRqWETUTx"
      },
      "outputs": [],
      "source": [
        "# Oppretter instans for lagring av resultater\n",
        "res = Resultat_dicts()"
      ]
    },
    {
      "cell_type": "markdown",
      "source": [
        "# Setter fast testandel på 25%"
      ],
      "metadata": {
        "id": "Ba8LjQZhcrjx"
      }
    },
    {
      "cell_type": "code",
      "source": [
        "# Fast testsandel\n",
        "test_andel = 0.25\n",
        "\n",
        "# Treningsandeler til undersøkelse\n",
        "treningsandeler = [0.25, 0.5, 0.75]"
      ],
      "metadata": {
        "id": "FP1C6kARcq8W"
      },
      "execution_count": 13,
      "outputs": []
    },
    {
      "cell_type": "markdown",
      "source": [
        "# Parametere til hyperoptimalisering"
      ],
      "metadata": {
        "id": "9DQM6R7Ic9oN"
      }
    },
    {
      "cell_type": "code",
      "source": [
        "# Antall runder til optimalisering\n",
        "\n",
        "# Antall runder til hel treningsandel\n",
        "n_runder_hel = 75\n",
        "\n",
        "# Antall runder til mindre treningsandeler\n",
        "n_runder_andel = 50\n",
        "\n",
        "# Parametervalg for kryssvalidering\n",
        "n_gjentagelser = 5"
      ],
      "metadata": {
        "id": "njacz0ecdJuL"
      },
      "execution_count": 18,
      "outputs": []
    },
    {
      "cell_type": "markdown",
      "metadata": {
        "id": "76aWdlTDXp9I"
      },
      "source": [
        "# NIR målinger inkludert"
      ]
    },
    {
      "cell_type": "markdown",
      "metadata": {
        "id": "wQpsJkKShL_9"
      },
      "source": [
        "## Hele datasett"
      ]
    },
    {
      "cell_type": "markdown",
      "source": [
        "## Alternativ 1: Hele treningssett"
      ],
      "metadata": {
        "id": "RAPTeouaQcXa"
      }
    },
    {
      "cell_type": "code",
      "source": [
        "# Setter treningsandel\n",
        "trenings_andel = 1.0\n",
        "\n",
        "# Deler datasettet i trening og testsett\n",
        "trening_markert, enzymtyper_markert, testsett, _, _, _, trening\\\n",
        "= trening_testsett_oppdeling_enzym(rå_data,\n",
        "                                   data,\n",
        "                                   test_andel=test_andel)"
      ],
      "metadata": {
        "id": "46il6J17QhFG"
      },
      "execution_count": 15,
      "outputs": []
    },
    {
      "cell_type": "code",
      "source": [
        "# Finner antall splitt etter minste antall av enzymtype\n",
        "n_splitt = n_splitt_enzym(rå_data,\n",
        "                          trening_markert)\n",
        "\n",
        "# Modelloptimalisering, trening og evaluering av RFR, KNR og SVR\n",
        "veiledet_modell_evaluering_1(dict_res_opt=res.dict_res_1_hel_opt,\n",
        "                             dict_res=res.dict_res_1_hel,\n",
        "                             treningssett_markert=trening_markert,\n",
        "                             enzymtyper_treningssett_markert=enzymtyper_markert,\n",
        "                             testsett=testsett,\n",
        "                             n_splitt=n_splitt,\n",
        "                             n_gjentagelser=n_gjentagelser,\n",
        "                             n_runder=n_runder_hel,\n",
        "                             test_andel=test_andel,\n",
        "                             trenings_andel=trenings_andel,\n",
        "                             random_seed=random_seed)"
      ],
      "metadata": {
        "colab": {
          "base_uri": "https://localhost:8080/"
        },
        "id": "8xYbizo0xPoh",
        "outputId": "8818bbe1-2c08-4f54-cef6-f3a7193f0965"
      },
      "execution_count": 16,
      "outputs": [
        {
          "output_type": "stream",
          "name": "stderr",
          "text": [
            "[I 2024-04-28 13:47:27,115] A new study created in memory with name: no-name-28cb2341-fe08-4c3b-b4d9-7eede28d05b3\n",
            "[I 2024-04-28 13:47:28,781] Trial 0 finished with value: 553.7280596844948 and parameters: {'n_neighbors': 6, 'weights': 'distance', 'p': 2}. Best is trial 0 with value: 553.7280596844948.\n",
            "[I 2024-04-28 13:47:28,990] Trial 1 finished with value: 635.524422364756 and parameters: {'n_neighbors': 1, 'weights': 'distance', 'p': 8}. Best is trial 0 with value: 553.7280596844948.\n",
            "[I 2024-04-28 13:47:30,575] Trial 3 finished with value: 556.4791424804832 and parameters: {'n_neighbors': 8, 'weights': 'distance', 'p': 2}. Best is trial 0 with value: 553.7280596844948.\n",
            "[I 2024-04-28 13:47:30,732] Trial 2 finished with value: 558.1694219304126 and parameters: {'n_neighbors': 6, 'weights': 'distance', 'p': 4}. Best is trial 0 with value: 553.7280596844948.\n",
            "[I 2024-04-28 13:47:32,622] Trial 4 finished with value: 571.6733845837996 and parameters: {'n_neighbors': 8, 'weights': 'distance', 'p': 9}. Best is trial 0 with value: 553.7280596844948.\n",
            "[I 2024-04-28 13:47:32,681] Trial 5 finished with value: 610.2889479133429 and parameters: {'n_neighbors': 8, 'weights': 'uniform', 'p': 6}. Best is trial 0 with value: 553.7280596844948.\n",
            "[I 2024-04-28 13:47:34,813] Trial 7 finished with value: 546.6167739874638 and parameters: {'n_neighbors': 3, 'weights': 'distance', 'p': 1}. Best is trial 7 with value: 546.6167739874638.\n",
            "[I 2024-04-28 13:47:34,900] Trial 6 finished with value: 635.9529894157905 and parameters: {'n_neighbors': 1, 'weights': 'distance', 'p': 10}. Best is trial 7 with value: 546.6167739874638.\n",
            "[I 2024-04-28 13:47:37,314] Trial 8 finished with value: 592.8736689505006 and parameters: {'n_neighbors': 4, 'weights': 'uniform', 'p': 9}. Best is trial 7 with value: 546.6167739874638.\n",
            "[I 2024-04-28 13:47:37,416] Trial 9 finished with value: 567.2434684714437 and parameters: {'n_neighbors': 5, 'weights': 'distance', 'p': 10}. Best is trial 7 with value: 546.6167739874638.\n",
            "[I 2024-04-28 13:47:38,926] Trial 10 finished with value: 543.4570758580106 and parameters: {'n_neighbors': 8, 'weights': 'distance', 'p': 1}. Best is trial 10 with value: 543.4570758580106.\n",
            "[I 2024-04-28 13:47:39,176] Trial 11 finished with value: 562.8481930029843 and parameters: {'n_neighbors': 3, 'weights': 'uniform', 'p': 1}. Best is trial 10 with value: 543.4570758580106.\n",
            "[I 2024-04-28 13:47:40,201] Trial 12 finished with value: 603.497278837829 and parameters: {'n_neighbors': 10, 'weights': 'uniform', 'p': 1}. Best is trial 10 with value: 543.4570758580106.\n",
            "[I 2024-04-28 13:47:40,308] Trial 13 finished with value: 576.6782432367663 and parameters: {'n_neighbors': 10, 'weights': 'distance', 'p': 4}. Best is trial 10 with value: 543.4570758580106.\n",
            "[I 2024-04-28 13:47:41,293] Trial 14 finished with value: 581.556090633834 and parameters: {'n_neighbors': 3, 'weights': 'distance', 'p': 4}. Best is trial 10 with value: 543.4570758580106.\n",
            "[I 2024-04-28 13:47:41,341] Trial 15 finished with value: 577.3106877753605 and parameters: {'n_neighbors': 3, 'weights': 'distance', 'p': 3}. Best is trial 10 with value: 543.4570758580106.\n",
            "[I 2024-04-28 13:47:42,592] Trial 16 finished with value: 557.1541541014506 and parameters: {'n_neighbors': 7, 'weights': 'distance', 'p': 3}. Best is trial 10 with value: 543.4570758580106.\n",
            "[I 2024-04-28 13:47:42,633] Trial 17 finished with value: 561.3094335271069 and parameters: {'n_neighbors': 5, 'weights': 'distance', 'p': 6}. Best is trial 10 with value: 543.4570758580106.\n",
            "[I 2024-04-28 13:47:43,649] Trial 18 finished with value: 561.3094335271069 and parameters: {'n_neighbors': 5, 'weights': 'distance', 'p': 6}. Best is trial 10 with value: 543.4570758580106.\n",
            "[I 2024-04-28 13:47:43,651] Trial 19 finished with value: 588.1882197038916 and parameters: {'n_neighbors': 9, 'weights': 'uniform', 'p': 1}. Best is trial 10 with value: 543.4570758580106.\n",
            "[I 2024-04-28 13:47:44,662] Trial 21 finished with value: 584.0025054541447 and parameters: {'n_neighbors': 2, 'weights': 'distance', 'p': 2}. Best is trial 10 with value: 543.4570758580106.\n",
            "[I 2024-04-28 13:47:44,701] Trial 20 finished with value: 584.0025054541447 and parameters: {'n_neighbors': 2, 'weights': 'distance', 'p': 2}. Best is trial 10 with value: 543.4570758580106.\n",
            "[I 2024-04-28 13:47:45,683] Trial 22 finished with value: 553.7280596844948 and parameters: {'n_neighbors': 6, 'weights': 'distance', 'p': 2}. Best is trial 10 with value: 543.4570758580106.\n",
            "[I 2024-04-28 13:47:45,689] Trial 23 finished with value: 541.3304915063252 and parameters: {'n_neighbors': 6, 'weights': 'distance', 'p': 1}. Best is trial 23 with value: 541.3304915063252.\n",
            "[I 2024-04-28 13:47:46,687] Trial 25 finished with value: 543.4254919969213 and parameters: {'n_neighbors': 7, 'weights': 'distance', 'p': 1}. Best is trial 23 with value: 541.3304915063252.\n",
            "[I 2024-04-28 13:47:46,727] Trial 24 finished with value: 543.4254919969213 and parameters: {'n_neighbors': 7, 'weights': 'distance', 'p': 1}. Best is trial 23 with value: 541.3304915063252.\n",
            "[I 2024-04-28 13:47:48,109] Trial 26 finished with value: 557.1541541014506 and parameters: {'n_neighbors': 7, 'weights': 'distance', 'p': 3}. Best is trial 23 with value: 541.3304915063252.\n",
            "[I 2024-04-28 13:47:48,206] Trial 27 finished with value: 589.1536337252802 and parameters: {'n_neighbors': 7, 'weights': 'uniform', 'p': 3}. Best is trial 23 with value: 541.3304915063252.\n",
            "[I 2024-04-28 13:47:49,759] Trial 28 finished with value: 596.2311802426026 and parameters: {'n_neighbors': 7, 'weights': 'uniform', 'p': 5}. Best is trial 23 with value: 541.3304915063252.\n",
            "[I 2024-04-28 13:47:49,837] Trial 29 finished with value: 574.1223763971079 and parameters: {'n_neighbors': 9, 'weights': 'distance', 'p': 5}. Best is trial 23 with value: 541.3304915063252.\n",
            "[I 2024-04-28 13:47:51,256] Trial 30 finished with value: 563.9229361622828 and parameters: {'n_neighbors': 6, 'weights': 'distance', 'p': 7}. Best is trial 23 with value: 541.3304915063252.\n",
            "[I 2024-04-28 13:47:51,312] Trial 31 finished with value: 563.9229361622828 and parameters: {'n_neighbors': 6, 'weights': 'distance', 'p': 7}. Best is trial 23 with value: 541.3304915063252.\n",
            "[I 2024-04-28 13:47:52,264] Trial 32 finished with value: 546.4471256716935 and parameters: {'n_neighbors': 9, 'weights': 'distance', 'p': 1}. Best is trial 23 with value: 541.3304915063252.\n",
            "[I 2024-04-28 13:47:52,379] Trial 33 finished with value: 546.4471256716935 and parameters: {'n_neighbors': 9, 'weights': 'distance', 'p': 1}. Best is trial 23 with value: 541.3304915063252.\n",
            "[I 2024-04-28 13:47:53,269] Trial 34 finished with value: 543.4570758580106 and parameters: {'n_neighbors': 8, 'weights': 'distance', 'p': 1}. Best is trial 23 with value: 541.3304915063252.\n",
            "[I 2024-04-28 13:47:53,410] Trial 35 finished with value: 556.4791424804832 and parameters: {'n_neighbors': 8, 'weights': 'distance', 'p': 2}. Best is trial 23 with value: 541.3304915063252.\n",
            "[I 2024-04-28 13:47:54,332] Trial 36 finished with value: 551.9298632577774 and parameters: {'n_neighbors': 7, 'weights': 'distance', 'p': 2}. Best is trial 23 with value: 541.3304915063252.\n",
            "[I 2024-04-28 13:47:54,419] Trial 37 finished with value: 551.9298632577774 and parameters: {'n_neighbors': 7, 'weights': 'distance', 'p': 2}. Best is trial 23 with value: 541.3304915063252.\n",
            "[I 2024-04-28 13:47:55,289] Trial 38 finished with value: 551.9298632577774 and parameters: {'n_neighbors': 7, 'weights': 'distance', 'p': 2}. Best is trial 23 with value: 541.3304915063252.\n",
            "[I 2024-04-28 13:47:55,621] Trial 39 finished with value: 556.1470099982646 and parameters: {'n_neighbors': 5, 'weights': 'distance', 'p': 3}. Best is trial 23 with value: 541.3304915063252.\n",
            "[I 2024-04-28 13:47:56,403] Trial 40 finished with value: 553.2342532390861 and parameters: {'n_neighbors': 6, 'weights': 'distance', 'p': 3}. Best is trial 23 with value: 541.3304915063252.\n",
            "[I 2024-04-28 13:47:56,657] Trial 41 finished with value: 543.4570758580106 and parameters: {'n_neighbors': 8, 'weights': 'distance', 'p': 1}. Best is trial 23 with value: 541.3304915063252.\n",
            "[I 2024-04-28 13:47:57,407] Trial 42 finished with value: 543.4570758580106 and parameters: {'n_neighbors': 8, 'weights': 'distance', 'p': 1}. Best is trial 23 with value: 541.3304915063252.\n",
            "[I 2024-04-28 13:47:57,741] Trial 43 finished with value: 543.4570758580106 and parameters: {'n_neighbors': 8, 'weights': 'distance', 'p': 1}. Best is trial 23 with value: 541.3304915063252.\n",
            "[I 2024-04-28 13:47:58,467] Trial 44 finished with value: 543.4570758580106 and parameters: {'n_neighbors': 8, 'weights': 'distance', 'p': 1}. Best is trial 23 with value: 541.3304915063252.\n",
            "[I 2024-04-28 13:47:58,830] Trial 45 finished with value: 543.4570758580106 and parameters: {'n_neighbors': 8, 'weights': 'distance', 'p': 1}. Best is trial 23 with value: 541.3304915063252.\n",
            "[I 2024-04-28 13:47:59,500] Trial 46 finished with value: 556.2885351859505 and parameters: {'n_neighbors': 4, 'weights': 'distance', 'p': 2}. Best is trial 23 with value: 541.3304915063252.\n",
            "[I 2024-04-28 13:47:59,828] Trial 47 finished with value: 609.5885692181149 and parameters: {'n_neighbors': 9, 'weights': 'uniform', 'p': 2}. Best is trial 23 with value: 541.3304915063252.\n",
            "[I 2024-04-28 13:48:00,616] Trial 48 finished with value: 568.3885919277641 and parameters: {'n_neighbors': 6, 'weights': 'uniform', 'p': 1}. Best is trial 23 with value: 541.3304915063252.\n",
            "[I 2024-04-28 13:48:00,857] Trial 49 finished with value: 541.3304915063252 and parameters: {'n_neighbors': 6, 'weights': 'distance', 'p': 1}. Best is trial 23 with value: 541.3304915063252.\n",
            "[I 2024-04-28 13:48:02,087] Trial 51 finished with value: 556.2885351859505 and parameters: {'n_neighbors': 4, 'weights': 'distance', 'p': 2}. Best is trial 23 with value: 541.3304915063252.\n",
            "[I 2024-04-28 13:48:02,209] Trial 50 finished with value: 576.6782432367663 and parameters: {'n_neighbors': 10, 'weights': 'distance', 'p': 4}. Best is trial 23 with value: 541.3304915063252.\n",
            "[I 2024-04-28 13:48:03,421] Trial 52 finished with value: 543.4254919969213 and parameters: {'n_neighbors': 7, 'weights': 'distance', 'p': 1}. Best is trial 23 with value: 541.3304915063252.\n",
            "[I 2024-04-28 13:48:03,526] Trial 53 finished with value: 543.4254919969213 and parameters: {'n_neighbors': 7, 'weights': 'distance', 'p': 1}. Best is trial 23 with value: 541.3304915063252.\n",
            "[I 2024-04-28 13:48:04,819] Trial 54 finished with value: 543.4254919969213 and parameters: {'n_neighbors': 7, 'weights': 'distance', 'p': 1}. Best is trial 23 with value: 541.3304915063252.\n",
            "[I 2024-04-28 13:48:04,864] Trial 55 finished with value: 541.3304915063252 and parameters: {'n_neighbors': 6, 'weights': 'distance', 'p': 1}. Best is trial 23 with value: 541.3304915063252.\n",
            "[I 2024-04-28 13:48:05,903] Trial 56 finished with value: 535.5536886335196 and parameters: {'n_neighbors': 5, 'weights': 'distance', 'p': 1}. Best is trial 56 with value: 535.5536886335196.\n",
            "[I 2024-04-28 13:48:05,914] Trial 57 finished with value: 551.8932986452021 and parameters: {'n_neighbors': 5, 'weights': 'distance', 'p': 2}. Best is trial 56 with value: 535.5536886335196.\n",
            "[I 2024-04-28 13:48:07,002] Trial 59 finished with value: 556.1470099982646 and parameters: {'n_neighbors': 5, 'weights': 'distance', 'p': 3}. Best is trial 56 with value: 535.5536886335196.\n",
            "[I 2024-04-28 13:48:07,054] Trial 58 finished with value: 566.0957952937154 and parameters: {'n_neighbors': 5, 'weights': 'distance', 'p': 9}. Best is trial 56 with value: 535.5536886335196.\n",
            "[I 2024-04-28 13:48:08,014] Trial 61 finished with value: 580.7372395079584 and parameters: {'n_neighbors': 6, 'weights': 'uniform', 'p': 2}. Best is trial 56 with value: 535.5536886335196.\n",
            "[I 2024-04-28 13:48:08,177] Trial 60 finished with value: 566.8501602389924 and parameters: {'n_neighbors': 6, 'weights': 'distance', 'p': 8}. Best is trial 56 with value: 535.5536886335196.\n",
            "[I 2024-04-28 13:48:09,033] Trial 62 finished with value: 541.3304915063252 and parameters: {'n_neighbors': 6, 'weights': 'distance', 'p': 1}. Best is trial 56 with value: 535.5536886335196.\n",
            "[I 2024-04-28 13:48:09,220] Trial 63 finished with value: 541.3304915063252 and parameters: {'n_neighbors': 6, 'weights': 'distance', 'p': 1}. Best is trial 56 with value: 535.5536886335196.\n",
            "[I 2024-04-28 13:48:10,045] Trial 64 finished with value: 541.3304915063252 and parameters: {'n_neighbors': 6, 'weights': 'distance', 'p': 1}. Best is trial 56 with value: 535.5536886335196.\n",
            "[I 2024-04-28 13:48:10,252] Trial 65 finished with value: 542.7045752277788 and parameters: {'n_neighbors': 4, 'weights': 'distance', 'p': 1}. Best is trial 56 with value: 535.5536886335196.\n",
            "[I 2024-04-28 13:48:11,070] Trial 66 finished with value: 556.2885351859505 and parameters: {'n_neighbors': 4, 'weights': 'distance', 'p': 2}. Best is trial 56 with value: 535.5536886335196.\n",
            "[I 2024-04-28 13:48:11,280] Trial 67 finished with value: 553.7280596844948 and parameters: {'n_neighbors': 6, 'weights': 'distance', 'p': 2}. Best is trial 56 with value: 535.5536886335196.\n",
            "[I 2024-04-28 13:48:12,073] Trial 68 finished with value: 553.7280596844948 and parameters: {'n_neighbors': 6, 'weights': 'distance', 'p': 2}. Best is trial 56 with value: 535.5536886335196.\n",
            "[I 2024-04-28 13:48:12,318] Trial 69 finished with value: 541.3304915063252 and parameters: {'n_neighbors': 6, 'weights': 'distance', 'p': 1}. Best is trial 56 with value: 535.5536886335196.\n",
            "[I 2024-04-28 13:48:13,100] Trial 70 finished with value: 535.5536886335196 and parameters: {'n_neighbors': 5, 'weights': 'distance', 'p': 1}. Best is trial 56 with value: 535.5536886335196.\n",
            "[I 2024-04-28 13:48:13,395] Trial 71 finished with value: 535.5536886335196 and parameters: {'n_neighbors': 5, 'weights': 'distance', 'p': 1}. Best is trial 56 with value: 535.5536886335196.\n",
            "[I 2024-04-28 13:48:14,138] Trial 72 finished with value: 535.5536886335196 and parameters: {'n_neighbors': 5, 'weights': 'distance', 'p': 1}. Best is trial 56 with value: 535.5536886335196.\n",
            "[I 2024-04-28 13:48:14,410] Trial 73 finished with value: 535.5536886335196 and parameters: {'n_neighbors': 5, 'weights': 'distance', 'p': 1}. Best is trial 56 with value: 535.5536886335196.\n",
            "[I 2024-04-28 13:48:15,373] Trial 74 finished with value: 535.5536886335196 and parameters: {'n_neighbors': 5, 'weights': 'distance', 'p': 1}. Best is trial 56 with value: 535.5536886335196.\n",
            "[I 2024-04-28 13:48:15,691] Trial 75 finished with value: 535.5536886335196 and parameters: {'n_neighbors': 5, 'weights': 'distance', 'p': 1}. Best is trial 56 with value: 535.5536886335196.\n",
            "[I 2024-04-28 13:48:16,691] Trial 76 finished with value: 535.5536886335196 and parameters: {'n_neighbors': 5, 'weights': 'distance', 'p': 1}. Best is trial 56 with value: 535.5536886335196.\n",
            "[I 2024-04-28 13:48:17,257] Trial 77 finished with value: 562.8413439840896 and parameters: {'n_neighbors': 4, 'weights': 'distance', 'p': 3}. Best is trial 56 with value: 535.5536886335196.\n",
            "[I 2024-04-28 13:48:18,003] Trial 78 finished with value: 556.2885351859505 and parameters: {'n_neighbors': 4, 'weights': 'distance', 'p': 2}. Best is trial 56 with value: 535.5536886335196.\n",
            "[I 2024-04-28 13:48:18,602] Trial 79 finished with value: 571.2386514747556 and parameters: {'n_neighbors': 5, 'weights': 'uniform', 'p': 2}. Best is trial 56 with value: 535.5536886335196.\n",
            "[I 2024-04-28 13:48:19,194] Trial 80 finished with value: 554.8134946744055 and parameters: {'n_neighbors': 5, 'weights': 'uniform', 'p': 1}. Best is trial 56 with value: 535.5536886335196.\n",
            "[I 2024-04-28 13:48:19,654] Trial 81 finished with value: 535.5536886335196 and parameters: {'n_neighbors': 5, 'weights': 'distance', 'p': 1}. Best is trial 56 with value: 535.5536886335196.\n",
            "[I 2024-04-28 13:48:20,242] Trial 82 finished with value: 535.5536886335196 and parameters: {'n_neighbors': 5, 'weights': 'distance', 'p': 1}. Best is trial 56 with value: 535.5536886335196.\n",
            "[I 2024-04-28 13:48:20,672] Trial 83 finished with value: 535.5536886335196 and parameters: {'n_neighbors': 5, 'weights': 'distance', 'p': 1}. Best is trial 56 with value: 535.5536886335196.\n",
            "[I 2024-04-28 13:48:21,341] Trial 84 finished with value: 535.5536886335196 and parameters: {'n_neighbors': 5, 'weights': 'distance', 'p': 1}. Best is trial 56 with value: 535.5536886335196.\n",
            "[I 2024-04-28 13:48:21,677] Trial 85 finished with value: 551.8932986452021 and parameters: {'n_neighbors': 5, 'weights': 'distance', 'p': 2}. Best is trial 56 with value: 535.5536886335196.\n",
            "[I 2024-04-28 13:48:22,386] Trial 86 finished with value: 556.2885351859505 and parameters: {'n_neighbors': 4, 'weights': 'distance', 'p': 2}. Best is trial 56 with value: 535.5536886335196.\n",
            "[I 2024-04-28 13:48:22,683] Trial 87 finished with value: 542.7045752277788 and parameters: {'n_neighbors': 4, 'weights': 'distance', 'p': 1}. Best is trial 56 with value: 535.5536886335196.\n",
            "[I 2024-04-28 13:48:23,464] Trial 88 finished with value: 535.5536886335196 and parameters: {'n_neighbors': 5, 'weights': 'distance', 'p': 1}. Best is trial 56 with value: 535.5536886335196.\n",
            "[I 2024-04-28 13:48:23,656] Trial 89 finished with value: 546.6167739874638 and parameters: {'n_neighbors': 3, 'weights': 'distance', 'p': 1}. Best is trial 56 with value: 535.5536886335196.\n",
            "[I 2024-04-28 13:48:24,579] Trial 90 finished with value: 546.6167739874638 and parameters: {'n_neighbors': 3, 'weights': 'distance', 'p': 1}. Best is trial 56 with value: 535.5536886335196.\n",
            "[I 2024-04-28 13:48:24,679] Trial 91 finished with value: 551.8932986452021 and parameters: {'n_neighbors': 5, 'weights': 'distance', 'p': 2}. Best is trial 56 with value: 535.5536886335196.\n",
            "[I 2024-04-28 13:48:25,619] Trial 92 finished with value: 535.5536886335196 and parameters: {'n_neighbors': 5, 'weights': 'distance', 'p': 1}. Best is trial 56 with value: 535.5536886335196.\n",
            "[I 2024-04-28 13:48:25,710] Trial 93 finished with value: 535.5536886335196 and parameters: {'n_neighbors': 5, 'weights': 'distance', 'p': 1}. Best is trial 56 with value: 535.5536886335196.\n",
            "[I 2024-04-28 13:48:26,634] Trial 94 finished with value: 535.5536886335196 and parameters: {'n_neighbors': 5, 'weights': 'distance', 'p': 1}. Best is trial 56 with value: 535.5536886335196.\n",
            "[I 2024-04-28 13:48:26,785] Trial 95 finished with value: 542.7045752277788 and parameters: {'n_neighbors': 4, 'weights': 'distance', 'p': 1}. Best is trial 56 with value: 535.5536886335196.\n",
            "[I 2024-04-28 13:48:27,624] Trial 96 finished with value: 542.7045752277788 and parameters: {'n_neighbors': 4, 'weights': 'distance', 'p': 1}. Best is trial 56 with value: 535.5536886335196.\n",
            "[I 2024-04-28 13:48:27,824] Trial 97 finished with value: 551.8932986452021 and parameters: {'n_neighbors': 5, 'weights': 'distance', 'p': 2}. Best is trial 56 with value: 535.5536886335196.\n",
            "[I 2024-04-28 13:48:28,682] Trial 98 finished with value: 551.8932986452021 and parameters: {'n_neighbors': 5, 'weights': 'distance', 'p': 2}. Best is trial 56 with value: 535.5536886335196.\n",
            "[I 2024-04-28 13:48:28,984] Trial 99 finished with value: 560.1580725832724 and parameters: {'n_neighbors': 5, 'weights': 'distance', 'p': 5}. Best is trial 56 with value: 535.5536886335196.\n",
            "[I 2024-04-28 13:48:29,014] A new study created in memory with name: no-name-8e1818d6-82c0-4ead-92a1-ed188ac0a3ad\n",
            "[I 2024-04-28 13:49:57,891] Trial 1 finished with value: 681.5826523109508 and parameters: {'n_estimators': 561, 'criterion': 'poisson', 'max_depth': 6, 'min_samples_leaf': 2, 'max_features': 0.2701293528133179}. Best is trial 1 with value: 681.5826523109508.\n",
            "[I 2024-04-28 13:50:47,425] Trial 0 finished with value: 566.0306363882562 and parameters: {'n_estimators': 561, 'criterion': 'poisson', 'max_depth': 9, 'min_samples_leaf': 2, 'max_features': 0.5343617771148523}. Best is trial 0 with value: 566.0306363882562.\n",
            "[I 2024-04-28 13:52:30,936] Trial 2 finished with value: 620.3215602385397 and parameters: {'n_estimators': 797, 'criterion': 'squared_error', 'max_depth': 17, 'min_samples_leaf': 5, 'max_features': 0.8225285321115744}. Best is trial 0 with value: 566.0306363882562.\n",
            "[I 2024-04-28 13:53:18,445] Trial 3 finished with value: 585.7524514050989 and parameters: {'n_estimators': 518, 'criterion': 'squared_error', 'max_depth': 8, 'min_samples_leaf': 1, 'max_features': 0.969521243350008}. Best is trial 0 with value: 566.0306363882562.\n",
            "[I 2024-04-28 13:54:41,496] Trial 4 finished with value: 682.7562071466693 and parameters: {'n_estimators': 831, 'criterion': 'poisson', 'max_depth': 17, 'min_samples_leaf': 3, 'max_features': 0.19937993057862502}. Best is trial 0 with value: 566.0306363882562.\n",
            "[I 2024-04-28 13:56:23,940] Trial 5 finished with value: 640.9416833526507 and parameters: {'n_estimators': 975, 'criterion': 'friedman_mse', 'max_depth': 5, 'min_samples_leaf': 1, 'max_features': 0.6383072332191011}. Best is trial 0 with value: 566.0306363882562.\n",
            "[I 2024-04-28 13:56:41,138] Trial 7 finished with value: 1289.4912297282985 and parameters: {'n_estimators': 102, 'criterion': 'poisson', 'max_depth': 2, 'min_samples_leaf': 2, 'max_features': 0.9729029153844234}. Best is trial 0 with value: 566.0306363882562.\n",
            "[I 2024-04-28 13:57:46,565] Trial 6 finished with value: 582.8991837443219 and parameters: {'n_estimators': 709, 'criterion': 'poisson', 'max_depth': 21, 'min_samples_leaf': 3, 'max_features': 0.7619698884561257}. Best is trial 0 with value: 566.0306363882562.\n",
            "[I 2024-04-28 13:58:00,028] Trial 8 finished with value: 646.4433829110624 and parameters: {'n_estimators': 377, 'criterion': 'squared_error', 'max_depth': 13, 'min_samples_leaf': 5, 'max_features': 0.9801694619330847}. Best is trial 0 with value: 566.0306363882562.\n",
            "[I 2024-04-28 13:59:53,834] Trial 10 finished with value: 572.1381127001166 and parameters: {'n_estimators': 495, 'criterion': 'friedman_mse', 'max_depth': 17, 'min_samples_leaf': 2, 'max_features': 0.7512048857869646}. Best is trial 0 with value: 566.0306363882562.\n",
            "[I 2024-04-28 14:00:03,449] Trial 9 finished with value: 564.3765825897277 and parameters: {'n_estimators': 636, 'criterion': 'poisson', 'max_depth': 28, 'min_samples_leaf': 2, 'max_features': 0.4958489585814776}. Best is trial 9 with value: 564.3765825897277.\n",
            "[I 2024-04-28 14:01:40,732] Trial 11 finished with value: 600.9468780770893 and parameters: {'n_estimators': 267, 'criterion': 'absolute_error', 'max_depth': 29, 'min_samples_leaf': 4, 'max_features': 0.4256510993903539}. Best is trial 9 with value: 564.3765825897277.\n",
            "[I 2024-04-28 14:02:10,042] Trial 12 finished with value: 600.2977508939716 and parameters: {'n_estimators': 307, 'criterion': 'absolute_error', 'max_depth': 30, 'min_samples_leaf': 4, 'max_features': 0.42201731593509995}. Best is trial 9 with value: 564.3765825897277.\n",
            "[I 2024-04-28 14:03:58,885] Trial 13 finished with value: 564.3816619005931 and parameters: {'n_estimators': 665, 'criterion': 'poisson', 'max_depth': 30, 'min_samples_leaf': 2, 'max_features': 0.46331260746431097}. Best is trial 9 with value: 564.3765825897277.\n",
            "[I 2024-04-28 14:04:31,858] Trial 14 finished with value: 564.5253463300481 and parameters: {'n_estimators': 642, 'criterion': 'poisson', 'max_depth': 25, 'min_samples_leaf': 2, 'max_features': 0.5159337954108311}. Best is trial 9 with value: 564.3765825897277.\n",
            "[I 2024-04-28 14:06:31,518] Trial 15 finished with value: 560.2240013537314 and parameters: {'n_estimators': 691, 'criterion': 'poisson', 'max_depth': 24, 'min_samples_leaf': 1, 'max_features': 0.35957848707767737}. Best is trial 15 with value: 560.2240013537314.\n",
            "[I 2024-04-28 14:07:57,510] Trial 16 finished with value: 559.5440777066716 and parameters: {'n_estimators': 915, 'criterion': 'poisson', 'max_depth': 25, 'min_samples_leaf': 1, 'max_features': 0.35200162821971925}. Best is trial 16 with value: 559.5440777066716.\n",
            "[I 2024-04-28 14:09:37,909] Trial 17 finished with value: 576.0262689325529 and parameters: {'n_estimators': 885, 'criterion': 'poisson', 'max_depth': 24, 'min_samples_leaf': 1, 'max_features': 0.30767671275734454}. Best is trial 16 with value: 559.5440777066716.\n",
            "[I 2024-04-28 14:10:48,803] Trial 18 finished with value: 558.8407660119693 and parameters: {'n_estimators': 920, 'criterion': 'friedman_mse', 'max_depth': 22, 'min_samples_leaf': 1, 'max_features': 0.310656593868236}. Best is trial 18 with value: 558.8407660119693.\n",
            "[I 2024-04-28 14:12:59,223] Trial 20 finished with value: 600.9131733622494 and parameters: {'n_estimators': 926, 'criterion': 'friedman_mse', 'max_depth': 21, 'min_samples_leaf': 1, 'max_features': 0.1735392237519169}. Best is trial 18 with value: 558.8407660119693.\n",
            "[I 2024-04-28 14:15:36,797] Trial 21 finished with value: 577.2475965917367 and parameters: {'n_estimators': 988, 'criterion': 'friedman_mse', 'max_depth': 21, 'min_samples_leaf': 3, 'max_features': 0.6101651030253351}. Best is trial 18 with value: 558.8407660119693.\n",
            "[I 2024-04-28 14:17:00,425] Trial 19 finished with value: 665.2501946191967 and parameters: {'n_estimators': 980, 'criterion': 'absolute_error', 'max_depth': 21, 'min_samples_leaf': 1, 'max_features': 0.10348124203918557}. Best is trial 18 with value: 558.8407660119693.\n",
            "[I 2024-04-28 14:17:54,161] Trial 22 finished with value: 558.9455494099352 and parameters: {'n_estimators': 771, 'criterion': 'friedman_mse', 'max_depth': 25, 'min_samples_leaf': 1, 'max_features': 0.34096385404223767}. Best is trial 18 with value: 558.8407660119693.\n",
            "[I 2024-04-28 14:19:39,748] Trial 23 finished with value: 558.7857593863423 and parameters: {'n_estimators': 768, 'criterion': 'friedman_mse', 'max_depth': 26, 'min_samples_leaf': 1, 'max_features': 0.33922775940571553}. Best is trial 23 with value: 558.7857593863423.\n",
            "[I 2024-04-28 14:20:52,522] Trial 24 finished with value: 558.4947889171876 and parameters: {'n_estimators': 828, 'criterion': 'friedman_mse', 'max_depth': 26, 'min_samples_leaf': 1, 'max_features': 0.3340478385109194}. Best is trial 24 with value: 558.4947889171876.\n",
            "[I 2024-04-28 14:22:04,444] Trial 25 finished with value: 601.2888386960329 and parameters: {'n_estimators': 808, 'criterion': 'friedman_mse', 'max_depth': 27, 'min_samples_leaf': 1, 'max_features': 0.2242061775059692}. Best is trial 24 with value: 558.4947889171876.\n",
            "[I 2024-04-28 14:24:03,458] Trial 27 finished with value: 803.8329185652545 and parameters: {'n_estimators': 872, 'criterion': 'friedman_mse', 'max_depth': 14, 'min_samples_leaf': 3, 'max_features': 0.11437367555891564}. Best is trial 24 with value: 558.4947889171876.\n",
            "[I 2024-04-28 14:24:17,424] Trial 26 finished with value: 572.6528853062282 and parameters: {'n_estimators': 841, 'criterion': 'friedman_mse', 'max_depth': 27, 'min_samples_leaf': 1, 'max_features': 0.24197078244684866}. Best is trial 24 with value: 558.4947889171876.\n",
            "[I 2024-04-28 14:26:38,751] Trial 28 finished with value: 572.4977233784429 and parameters: {'n_estimators': 765, 'criterion': 'friedman_mse', 'max_depth': 27, 'min_samples_leaf': 1, 'max_features': 0.2536762047106792}. Best is trial 24 with value: 558.4947889171876.\n",
            "[I 2024-04-28 14:26:48,809] Trial 29 finished with value: 566.3156090206677 and parameters: {'n_estimators': 753, 'criterion': 'friedman_mse', 'max_depth': 19, 'min_samples_leaf': 2, 'max_features': 0.40872844193999813}. Best is trial 24 with value: 558.4947889171876.\n",
            "[I 2024-04-28 14:28:35,255] Trial 30 finished with value: 590.6403016922958 and parameters: {'n_estimators': 577, 'criterion': 'friedman_mse', 'max_depth': 23, 'min_samples_leaf': 4, 'max_features': 0.5734083539822729}. Best is trial 24 with value: 558.4947889171876.\n",
            "[I 2024-04-28 14:28:45,011] Trial 31 finished with value: 590.5515666567359 and parameters: {'n_estimators': 582, 'criterion': 'friedman_mse', 'max_depth': 23, 'min_samples_leaf': 4, 'max_features': 0.5954577478788101}. Best is trial 24 with value: 558.4947889171876.\n",
            "[I 2024-04-28 14:31:07,066] Trial 32 finished with value: 558.811638731834 and parameters: {'n_estimators': 735, 'criterion': 'friedman_mse', 'max_depth': 26, 'min_samples_leaf': 1, 'max_features': 0.32424336822150507}. Best is trial 24 with value: 558.4947889171876.\n",
            "[I 2024-04-28 14:31:18,111] Trial 33 finished with value: 558.7998247224384 and parameters: {'n_estimators': 739, 'criterion': 'friedman_mse', 'max_depth': 26, 'min_samples_leaf': 1, 'max_features': 0.3227566319319467}. Best is trial 24 with value: 558.4947889171876.\n",
            "[I 2024-04-28 14:33:22,188] Trial 35 finished with value: 646.3447825901502 and parameters: {'n_estimators': 732, 'criterion': 'friedman_mse', 'max_depth': 11, 'min_samples_leaf': 2, 'max_features': 0.15646829627920847}. Best is trial 24 with value: 558.4947889171876.\n",
            "[I 2024-04-28 14:33:30,976] Trial 34 finished with value: 598.928171802031 and parameters: {'n_estimators': 728, 'criterion': 'friedman_mse', 'max_depth': 26, 'min_samples_leaf': 2, 'max_features': 0.2835264839692282}. Best is trial 24 with value: 558.4947889171876.\n",
            "[I 2024-04-28 14:35:14,361] Trial 37 finished with value: 556.3384661168036 and parameters: {'n_estimators': 448, 'criterion': 'squared_error', 'max_depth': 19, 'min_samples_leaf': 1, 'max_features': 0.3897930990229743}. Best is trial 37 with value: 556.3384661168036.\n",
            "[I 2024-04-28 14:35:54,571] Trial 36 finished with value: 565.9400418457192 and parameters: {'n_estimators': 815, 'criterion': 'squared_error', 'max_depth': 19, 'min_samples_leaf': 2, 'max_features': 0.3882046153307892}. Best is trial 37 with value: 556.3384661168036.\n",
            "[I 2024-04-28 14:36:51,277] Trial 38 finished with value: 556.4415616247738 and parameters: {'n_estimators': 442, 'criterion': 'squared_error', 'max_depth': 19, 'min_samples_leaf': 1, 'max_features': 0.402361045599993}. Best is trial 37 with value: 556.3384661168036.\n",
            "[I 2024-04-28 14:37:21,318] Trial 39 finished with value: 551.2192016192774 and parameters: {'n_estimators': 386, 'criterion': 'squared_error', 'max_depth': 19, 'min_samples_leaf': 1, 'max_features': 0.46960915818100873}. Best is trial 39 with value: 551.2192016192774.\n",
            "[I 2024-04-28 14:38:38,221] Trial 40 finished with value: 556.7553617464587 and parameters: {'n_estimators': 410, 'criterion': 'squared_error', 'max_depth': 15, 'min_samples_leaf': 1, 'max_features': 0.6755965361286101}. Best is trial 39 with value: 551.2192016192774.\n",
            "[I 2024-04-28 14:38:43,022] Trial 41 finished with value: 561.4121876935789 and parameters: {'n_estimators': 443, 'criterion': 'squared_error', 'max_depth': 15, 'min_samples_leaf': 2, 'max_features': 0.48058305971821347}. Best is trial 39 with value: 551.2192016192774.\n",
            "[I 2024-04-28 14:40:21,307] Trial 42 finished with value: 557.0397535653535 and parameters: {'n_estimators': 440, 'criterion': 'squared_error', 'max_depth': 16, 'min_samples_leaf': 1, 'max_features': 0.6680669324829199}. Best is trial 39 with value: 551.2192016192774.\n",
            "[I 2024-04-28 14:40:30,088] Trial 43 finished with value: 566.4270060180332 and parameters: {'n_estimators': 432, 'criterion': 'squared_error', 'max_depth': 18, 'min_samples_leaf': 1, 'max_features': 0.7188174124209176}. Best is trial 39 with value: 551.2192016192774.\n",
            "[I 2024-04-28 14:41:49,902] Trial 45 finished with value: 558.0679806728282 and parameters: {'n_estimators': 344, 'criterion': 'squared_error', 'max_depth': 16, 'min_samples_leaf': 1, 'max_features': 0.6571965313961579}. Best is trial 39 with value: 551.2192016192774.\n",
            "[I 2024-04-28 14:42:03,253] Trial 44 finished with value: 566.3254001170395 and parameters: {'n_estimators': 411, 'criterion': 'squared_error', 'max_depth': 18, 'min_samples_leaf': 1, 'max_features': 0.7266517564077584}. Best is trial 39 with value: 551.2192016192774.\n",
            "[I 2024-04-28 14:42:52,593] Trial 47 finished with value: 633.2351689127262 and parameters: {'n_estimators': 232, 'criterion': 'squared_error', 'max_depth': 12, 'min_samples_leaf': 5, 'max_features': 0.8619747804924511}. Best is trial 39 with value: 551.2192016192774.\n",
            "[I 2024-04-28 14:43:17,196] Trial 46 finished with value: 621.0764420976436 and parameters: {'n_estimators': 429, 'criterion': 'squared_error', 'max_depth': 12, 'min_samples_leaf': 5, 'max_features': 0.8083426590421743}. Best is trial 39 with value: 551.2192016192774.\n",
            "[I 2024-04-28 14:44:32,578] Trial 48 finished with value: 563.5821579720166 and parameters: {'n_estimators': 495, 'criterion': 'squared_error', 'max_depth': 9, 'min_samples_leaf': 2, 'max_features': 0.5356620004461687}. Best is trial 39 with value: 551.2192016192774.\n",
            "[I 2024-04-28 14:45:03,728] Trial 49 finished with value: 566.256392773005 and parameters: {'n_estimators': 510, 'criterion': 'squared_error', 'max_depth': 9, 'min_samples_leaf': 2, 'max_features': 0.5461568226937603}. Best is trial 39 with value: 551.2192016192774.\n",
            "[I 2024-04-28 14:45:47,864] Trial 51 finished with value: 559.7245690300341 and parameters: {'n_estimators': 203, 'criterion': 'squared_error', 'max_depth': 15, 'min_samples_leaf': 1, 'max_features': 0.45473130184370125}. Best is trial 39 with value: 551.2192016192774.\n",
            "[I 2024-04-28 14:46:27,486] Trial 50 finished with value: 566.4325759506017 and parameters: {'n_estimators': 531, 'criterion': 'squared_error', 'max_depth': 15, 'min_samples_leaf': 2, 'max_features': 0.6629860862474998}. Best is trial 39 with value: 551.2192016192774.\n",
            "[I 2024-04-28 14:47:12,502] Trial 52 finished with value: 558.0460109927601 and parameters: {'n_estimators': 352, 'criterion': 'squared_error', 'max_depth': 16, 'min_samples_leaf': 1, 'max_features': 0.6695595268844238}. Best is trial 39 with value: 551.2192016192774.\n",
            "[I 2024-04-28 14:47:48,262] Trial 53 finished with value: 558.1660700881828 and parameters: {'n_estimators': 347, 'criterion': 'squared_error', 'max_depth': 17, 'min_samples_leaf': 1, 'max_features': 0.6610860092230917}. Best is trial 39 with value: 551.2192016192774.\n",
            "[I 2024-04-28 14:48:38,705] Trial 54 finished with value: 566.4622899193554 and parameters: {'n_estimators': 363, 'criterion': 'squared_error', 'max_depth': 17, 'min_samples_leaf': 1, 'max_features': 0.6929297108860965}. Best is trial 39 with value: 551.2192016192774.\n",
            "[I 2024-04-28 14:49:42,967] Trial 55 finished with value: 564.267478233946 and parameters: {'n_estimators': 468, 'criterion': 'squared_error', 'max_depth': 19, 'min_samples_leaf': 1, 'max_features': 0.8017462833362807}. Best is trial 39 with value: 551.2192016192774.\n",
            "[I 2024-04-28 14:49:55,618] Trial 56 finished with value: 562.6141404375448 and parameters: {'n_estimators': 307, 'criterion': 'squared_error', 'max_depth': 19, 'min_samples_leaf': 1, 'max_features': 0.7972018057530279}. Best is trial 39 with value: 551.2192016192774.\n",
            "[I 2024-04-28 14:50:40,129] Trial 57 finished with value: 552.9546585201047 and parameters: {'n_estimators': 312, 'criterion': 'squared_error', 'max_depth': 20, 'min_samples_leaf': 1, 'max_features': 0.6107990479251144}. Best is trial 39 with value: 551.2192016192774.\n",
            "[I 2024-04-28 14:53:43,184] Trial 58 finished with value: 549.8058985493891 and parameters: {'n_estimators': 394, 'criterion': 'absolute_error', 'max_depth': 20, 'min_samples_leaf': 1, 'max_features': 0.497226623825593}. Best is trial 58 with value: 549.8058985493891.\n",
            "[I 2024-04-28 14:54:15,628] Trial 59 finished with value: 549.948765758159 and parameters: {'n_estimators': 396, 'criterion': 'absolute_error', 'max_depth': 20, 'min_samples_leaf': 1, 'max_features': 0.5064859610147544}. Best is trial 58 with value: 549.8058985493891.\n",
            "[I 2024-04-28 14:56:24,116] Trial 61 finished with value: 576.1246086219969 and parameters: {'n_estimators': 297, 'criterion': 'absolute_error', 'max_depth': 20, 'min_samples_leaf': 3, 'max_features': 0.5139832408048526}. Best is trial 58 with value: 549.8058985493891.\n",
            "[I 2024-04-28 14:56:28,442] Trial 60 finished with value: 550.9254957587899 and parameters: {'n_estimators': 295, 'criterion': 'absolute_error', 'max_depth': 22, 'min_samples_leaf': 1, 'max_features': 0.5078643037361756}. Best is trial 58 with value: 549.8058985493891.\n",
            "[I 2024-04-28 14:57:58,412] Trial 63 finished with value: 563.5408668400952 and parameters: {'n_estimators': 179, 'criterion': 'absolute_error', 'max_depth': 22, 'min_samples_leaf': 1, 'max_features': 0.44777180027351987}. Best is trial 58 with value: 549.8058985493891.\n",
            "[I 2024-04-28 14:59:43,754] Trial 62 finished with value: 554.798403665718 and parameters: {'n_estimators': 397, 'criterion': 'absolute_error', 'max_depth': 22, 'min_samples_leaf': 1, 'max_features': 0.4436605408672145}. Best is trial 58 with value: 549.8058985493891.\n",
            "[I 2024-04-28 15:00:50,136] Trial 64 finished with value: 556.2387442667144 and parameters: {'n_estimators': 389, 'criterion': 'absolute_error', 'max_depth': 20, 'min_samples_leaf': 1, 'max_features': 0.3828798183915877}. Best is trial 58 with value: 549.8058985493891.\n",
            "[I 2024-04-28 15:03:23,495] Trial 65 finished with value: 549.530143659218 and parameters: {'n_estimators': 397, 'criterion': 'absolute_error', 'max_depth': 22, 'min_samples_leaf': 1, 'max_features': 0.49001552314626423}. Best is trial 65 with value: 549.530143659218.\n",
            "[I 2024-04-28 15:04:23,821] Trial 66 finished with value: 549.645806812656 and parameters: {'n_estimators': 391, 'criterion': 'absolute_error', 'max_depth': 22, 'min_samples_leaf': 1, 'max_features': 0.49547773406773654}. Best is trial 65 with value: 549.530143659218.\n",
            "[I 2024-04-28 15:06:00,560] Trial 67 finished with value: 553.2383887908178 and parameters: {'n_estimators': 263, 'criterion': 'absolute_error', 'max_depth': 22, 'min_samples_leaf': 1, 'max_features': 0.5737089758846979}. Best is trial 65 with value: 549.530143659218.\n",
            "[I 2024-04-28 15:06:58,277] Trial 68 finished with value: 550.6110861727803 and parameters: {'n_estimators': 278, 'criterion': 'absolute_error', 'max_depth': 23, 'min_samples_leaf': 1, 'max_features': 0.49060005709390886}. Best is trial 65 with value: 549.530143659218.\n",
            "[I 2024-04-28 15:07:07,814] Trial 69 finished with value: 571.8773381122007 and parameters: {'n_estimators': 141, 'criterion': 'absolute_error', 'max_depth': 24, 'min_samples_leaf': 2, 'max_features': 0.49728862031623045}. Best is trial 65 with value: 549.530143659218.\n",
            "[I 2024-04-28 15:08:08,549] Trial 70 finished with value: 571.425442650145 and parameters: {'n_estimators': 150, 'criterion': 'absolute_error', 'max_depth': 24, 'min_samples_leaf': 2, 'max_features': 0.49768116763491965}. Best is trial 65 with value: 549.530143659218.\n",
            "[I 2024-04-28 15:09:33,142] Trial 71 finished with value: 551.0337639003428 and parameters: {'n_estimators': 269, 'criterion': 'absolute_error', 'max_depth': 23, 'min_samples_leaf': 1, 'max_features': 0.5076908364571173}. Best is trial 65 with value: 549.530143659218.\n",
            "[I 2024-04-28 15:11:34,680] Trial 72 finished with value: 558.2476046777091 and parameters: {'n_estimators': 319, 'criterion': 'absolute_error', 'max_depth': 23, 'min_samples_leaf': 1, 'max_features': 0.6264658982393283}. Best is trial 65 with value: 549.530143659218.\n",
            "[I 2024-04-28 15:11:47,097] Trial 73 finished with value: 552.0282226851392 and parameters: {'n_estimators': 248, 'criterion': 'absolute_error', 'max_depth': 23, 'min_samples_leaf': 1, 'max_features': 0.47736148116573107}. Best is trial 65 with value: 549.530143659218.\n",
            "[I 2024-04-28 15:13:31,515] Trial 75 finished with value: 704.2660706194831 and parameters: {'n_estimators': 289, 'criterion': 'absolute_error', 'max_depth': 4, 'min_samples_leaf': 1, 'max_features': 0.5692646950044459}. Best is trial 65 with value: 549.530143659218.\n",
            "[I 2024-04-28 15:14:22,563] Trial 74 finished with value: 553.9160505779685 and parameters: {'n_estimators': 269, 'criterion': 'absolute_error', 'max_depth': 21, 'min_samples_leaf': 1, 'max_features': 0.5721438095935562}. Best is trial 65 with value: 549.530143659218.\n",
            "[I 2024-04-28 15:15:36,810] Trial 76 finished with value: 553.7991662055857 and parameters: {'n_estimators': 228, 'criterion': 'absolute_error', 'max_depth': 21, 'min_samples_leaf': 1, 'max_features': 0.5171659398249457}. Best is trial 65 with value: 549.530143659218.\n",
            "[I 2024-04-28 15:17:49,521] Trial 77 finished with value: 550.0115447466392 and parameters: {'n_estimators': 375, 'criterion': 'absolute_error', 'max_depth': 21, 'min_samples_leaf': 1, 'max_features': 0.5283867529696537}. Best is trial 65 with value: 549.530143659218.\n",
            "[I 2024-04-28 15:18:45,555] Trial 78 finished with value: 555.6245617185485 and parameters: {'n_estimators': 376, 'criterion': 'absolute_error', 'max_depth': 25, 'min_samples_leaf': 1, 'max_features': 0.42961358678484673}. Best is trial 65 with value: 549.530143659218.\n",
            "[I 2024-04-28 15:19:57,439] Trial 79 finished with value: 584.1816099708312 and parameters: {'n_estimators': 331, 'criterion': 'absolute_error', 'max_depth': 25, 'min_samples_leaf': 3, 'max_features': 0.43656165009471565}. Best is trial 65 with value: 549.530143659218.\n",
            "[I 2024-04-28 15:21:53,483] Trial 80 finished with value: 551.4558888968406 and parameters: {'n_estimators': 339, 'criterion': 'absolute_error', 'max_depth': 24, 'min_samples_leaf': 1, 'max_features': 0.5256801927621034}. Best is trial 65 with value: 549.530143659218.\n",
            "[I 2024-04-28 15:24:21,184] Trial 81 finished with value: 549.8964422671708 and parameters: {'n_estimators': 476, 'criterion': 'absolute_error', 'max_depth': 23, 'min_samples_leaf': 1, 'max_features': 0.5254689156911504}. Best is trial 65 with value: 549.530143659218.\n",
            "[I 2024-04-28 15:26:42,108] Trial 82 finished with value: 553.3247727289252 and parameters: {'n_estimators': 480, 'criterion': 'absolute_error', 'max_depth': 20, 'min_samples_leaf': 1, 'max_features': 0.5527326135665213}. Best is trial 65 with value: 549.530143659218.\n",
            "[I 2024-04-28 15:29:02,077] Trial 83 finished with value: 553.2971611440727 and parameters: {'n_estimators': 474, 'criterion': 'absolute_error', 'max_depth': 22, 'min_samples_leaf': 1, 'max_features': 0.5501074975342475}. Best is trial 65 with value: 549.530143659218.\n",
            "[I 2024-04-28 15:30:55,117] Trial 84 finished with value: 549.5406747790397 and parameters: {'n_estimators': 466, 'criterion': 'absolute_error', 'max_depth': 22, 'min_samples_leaf': 1, 'max_features': 0.49620163482219243}. Best is trial 65 with value: 549.530143659218.\n",
            "[I 2024-04-28 15:31:36,219] Trial 85 finished with value: 550.6817768614418 and parameters: {'n_estimators': 282, 'criterion': 'absolute_error', 'max_depth': 23, 'min_samples_leaf': 1, 'max_features': 0.4919480483911221}. Best is trial 65 with value: 549.530143659218.\n",
            "[I 2024-04-28 15:36:27,799] Trial 87 finished with value: 550.0149698899888 and parameters: {'n_estimators': 533, 'criterion': 'absolute_error', 'max_depth': 21, 'min_samples_leaf': 1, 'max_features': 0.468608714019267}. Best is trial 65 with value: 549.530143659218.\n",
            "[I 2024-04-28 15:36:30,741] Trial 86 finished with value: 550.6226090584493 and parameters: {'n_estimators': 612, 'criterion': 'absolute_error', 'max_depth': 21, 'min_samples_leaf': 1, 'max_features': 0.4704838832500007}. Best is trial 65 with value: 549.530143659218.\n",
            "[I 2024-04-28 15:39:32,445] Trial 89 finished with value: 558.0231395316462 and parameters: {'n_estimators': 412, 'criterion': 'absolute_error', 'max_depth': 18, 'min_samples_leaf': 1, 'max_features': 0.3699688771857823}. Best is trial 65 with value: 549.530143659218.\n",
            "[I 2024-04-28 15:41:37,058] Trial 88 finished with value: 554.7116067199865 and parameters: {'n_estimators': 610, 'criterion': 'absolute_error', 'max_depth': 18, 'min_samples_leaf': 1, 'max_features': 0.46044183508281744}. Best is trial 65 with value: 549.530143659218.\n",
            "[I 2024-04-28 15:43:00,882] Trial 91 finished with value: 565.7983173066682 and parameters: {'n_estimators': 523, 'criterion': 'poisson', 'max_depth': 20, 'min_samples_leaf': 2, 'max_features': 0.4094865942210503}. Best is trial 65 with value: 549.530143659218.\n",
            "[I 2024-04-28 15:43:48,463] Trial 90 finished with value: 568.059325270564 and parameters: {'n_estimators': 547, 'criterion': 'absolute_error', 'max_depth': 28, 'min_samples_leaf': 2, 'max_features': 0.41284009182224735}. Best is trial 65 with value: 549.530143659218.\n",
            "[I 2024-04-28 15:48:45,015] Trial 92 finished with value: 553.2577247106768 and parameters: {'n_estimators': 576, 'criterion': 'absolute_error', 'max_depth': 21, 'min_samples_leaf': 1, 'max_features': 0.5916697734318126}. Best is trial 65 with value: 549.530143659218.\n",
            "[I 2024-04-28 15:49:45,024] Trial 93 finished with value: 550.5863990080842 and parameters: {'n_estimators': 663, 'criterion': 'absolute_error', 'max_depth': 21, 'min_samples_leaf': 1, 'max_features': 0.4796611854671109}. Best is trial 65 with value: 549.530143659218.\n",
            "[I 2024-04-28 15:53:08,642] Trial 95 finished with value: 550.5707581130055 and parameters: {'n_estimators': 372, 'criterion': 'absolute_error', 'max_depth': 24, 'min_samples_leaf': 1, 'max_features': 0.5328486769099544}. Best is trial 65 with value: 549.530143659218.\n",
            "[I 2024-04-28 15:54:36,865] Trial 94 finished with value: 550.5789612126355 and parameters: {'n_estimators': 651, 'criterion': 'absolute_error', 'max_depth': 21, 'min_samples_leaf': 1, 'max_features': 0.47127253641419475}. Best is trial 65 with value: 549.530143659218.\n",
            "[I 2024-04-28 15:58:51,514] Trial 97 finished with value: 550.157813921935 and parameters: {'n_estimators': 465, 'criterion': 'absolute_error', 'max_depth': 24, 'min_samples_leaf': 1, 'max_features': 0.5337279691567826}. Best is trial 65 with value: 549.530143659218.\n",
            "[I 2024-04-28 15:59:16,972] Trial 96 finished with value: 550.838831744337 and parameters: {'n_estimators': 675, 'criterion': 'absolute_error', 'max_depth': 22, 'min_samples_leaf': 1, 'max_features': 0.5315260281942319}. Best is trial 65 with value: 549.530143659218.\n",
            "[I 2024-04-28 16:01:58,001] Trial 98 finished with value: 589.0188744030529 and parameters: {'n_estimators': 465, 'criterion': 'absolute_error', 'max_depth': 24, 'min_samples_leaf': 4, 'max_features': 0.533571074388091}. Best is trial 65 with value: 549.530143659218.\n",
            "[I 2024-04-28 16:03:02,046] Trial 99 finished with value: 552.9556213797443 and parameters: {'n_estimators': 459, 'criterion': 'absolute_error', 'max_depth': 25, 'min_samples_leaf': 1, 'max_features': 0.5871458232843081}. Best is trial 65 with value: 549.530143659218.\n",
            "[I 2024-04-28 16:03:05,301] A new study created in memory with name: no-name-75a2a658-af24-4959-8776-a1bc758137d3\n",
            "[I 2024-04-28 16:03:06,676] Trial 1 finished with value: 1290.4743552686077 and parameters: {'kernel': 'rbf', 'degree': 16, 'gamma': 'scale', 'C': 77.96670261252719, 'epsilon': 81.73124666766698}. Best is trial 1 with value: 1290.4743552686077.\n",
            "[I 2024-04-28 16:03:06,732] Trial 0 finished with value: 2215.778202097857 and parameters: {'kernel': 'rbf', 'degree': 4, 'gamma': 'scale', 'C': 17.229141316821806, 'epsilon': 17.51761335298459}. Best is trial 1 with value: 1290.4743552686077.\n",
            "[I 2024-04-28 16:03:08,106] Trial 2 finished with value: 640.0667501445678 and parameters: {'kernel': 'linear', 'degree': 8, 'gamma': 'auto', 'C': 72.7804837226599, 'epsilon': 41.56131071575609}. Best is trial 2 with value: 640.0667501445678.\n",
            "[I 2024-04-28 16:03:08,953] Trial 3 finished with value: 3144.6709091389216 and parameters: {'kernel': 'poly', 'degree': 16, 'gamma': 'auto', 'C': 87.05136145105614, 'epsilon': 63.14461222356946}. Best is trial 2 with value: 640.0667501445678.\n",
            "[I 2024-04-28 16:03:09,347] Trial 4 finished with value: 1716.3365701258222 and parameters: {'kernel': 'rbf', 'degree': 11, 'gamma': 'scale', 'C': 46.20327091196435, 'epsilon': 50.74433912331534}. Best is trial 2 with value: 640.0667501445678.\n",
            "[I 2024-04-28 16:03:10,270] Trial 5 finished with value: 2239.6594900533564 and parameters: {'kernel': 'rbf', 'degree': 14, 'gamma': 'auto', 'C': 15.961615748021423, 'epsilon': 20.903268736246265}. Best is trial 2 with value: 640.0667501445678.\n",
            "[I 2024-04-28 16:03:10,618] Trial 6 finished with value: 836.8129016851224 and parameters: {'kernel': 'linear', 'degree': 19, 'gamma': 'scale', 'C': 7.022530064125758, 'epsilon': 99.37509621582774}. Best is trial 2 with value: 640.0667501445678.\n",
            "[I 2024-04-28 16:03:11,633] Trial 7 finished with value: 1790.0747156108164 and parameters: {'kernel': 'poly', 'degree': 4, 'gamma': 'scale', 'C': 59.73710881349899, 'epsilon': 68.68004388122858}. Best is trial 2 with value: 640.0667501445678.\n",
            "[I 2024-04-28 16:03:11,981] Trial 8 finished with value: 2082.577068108617 and parameters: {'kernel': 'rbf', 'degree': 13, 'gamma': 'scale', 'C': 24.864869977367505, 'epsilon': 68.02098331151613}. Best is trial 2 with value: 640.0667501445678.\n",
            "[I 2024-04-28 16:03:13,258] Trial 9 finished with value: 2174.834973399338 and parameters: {'kernel': 'poly', 'degree': 13, 'gamma': 'auto', 'C': 22.17570018626173, 'epsilon': 69.15470014832522}. Best is trial 2 with value: 640.0667501445678.\n",
            "[I 2024-04-28 16:03:13,904] Trial 10 finished with value: 2179.0368387901417 and parameters: {'kernel': 'poly', 'degree': 12, 'gamma': 'auto', 'C': 95.58641685295686, 'epsilon': 19.74984925098832}. Best is trial 2 with value: 640.0667501445678.\n",
            "[I 2024-04-28 16:03:15,098] Trial 11 finished with value: 641.315052557023 and parameters: {'kernel': 'linear', 'degree': 7, 'gamma': 'auto', 'C': 64.80125774864054, 'epsilon': 2.143833419885432}. Best is trial 2 with value: 640.0667501445678.\n",
            "[I 2024-04-28 16:03:16,088] Trial 12 finished with value: 642.8945216403688 and parameters: {'kernel': 'linear', 'degree': 7, 'gamma': 'auto', 'C': 60.85955804183955, 'epsilon': 37.1356679355002}. Best is trial 2 with value: 640.0667501445678.\n",
            "[I 2024-04-28 16:03:17,650] Trial 13 finished with value: 641.2158252701007 and parameters: {'kernel': 'linear', 'degree': 8, 'gamma': 'auto', 'C': 65.09650489816008, 'epsilon': 0.895350250987029}. Best is trial 2 with value: 640.0667501445678.\n",
            "[I 2024-04-28 16:03:18,524] Trial 14 finished with value: 639.6438986581771 and parameters: {'kernel': 'linear', 'degree': 8, 'gamma': 'auto', 'C': 74.79647635249634, 'epsilon': 3.5478986611047754}. Best is trial 14 with value: 639.6438986581771.\n",
            "[I 2024-04-28 16:03:19,427] Trial 15 finished with value: 647.468383812162 and parameters: {'kernel': 'linear', 'degree': 8, 'gamma': 'auto', 'C': 41.13299304474871, 'epsilon': 0.5208287147287507}. Best is trial 14 with value: 639.6438986581771.\n",
            "[I 2024-04-28 16:03:19,978] Trial 16 finished with value: 649.5836158758777 and parameters: {'kernel': 'linear', 'degree': 1, 'gamma': 'auto', 'C': 41.40973963757536, 'epsilon': 36.471666268357815}. Best is trial 14 with value: 639.6438986581771.\n",
            "[I 2024-04-28 16:03:20,986] Trial 17 finished with value: 638.6752084951504 and parameters: {'kernel': 'linear', 'degree': 2, 'gamma': 'auto', 'C': 79.76247022479058, 'epsilon': 35.17841732487318}. Best is trial 17 with value: 638.6752084951504.\n",
            "[I 2024-04-28 16:03:21,538] Trial 18 finished with value: 639.7280298461031 and parameters: {'kernel': 'linear', 'degree': 4, 'gamma': 'auto', 'C': 74.24887349769945, 'epsilon': 37.309370557508934}. Best is trial 17 with value: 638.6752084951504.\n",
            "[I 2024-04-28 16:03:22,525] Trial 19 finished with value: 636.6260701029715 and parameters: {'kernel': 'linear', 'degree': 1, 'gamma': 'auto', 'C': 95.2886465647283, 'epsilon': 29.02051451552629}. Best is trial 19 with value: 636.6260701029715.\n",
            "[I 2024-04-28 16:03:23,105] Trial 20 finished with value: 636.4185558255213 and parameters: {'kernel': 'linear', 'degree': 2, 'gamma': 'auto', 'C': 97.96517129190296, 'epsilon': 12.804280634696351}. Best is trial 20 with value: 636.4185558255213.\n",
            "[I 2024-04-28 16:03:24,090] Trial 21 finished with value: 636.514065443078 and parameters: {'kernel': 'linear', 'degree': 1, 'gamma': 'auto', 'C': 97.00252615130574, 'epsilon': 27.201305624738623}. Best is trial 20 with value: 636.4185558255213.\n",
            "[I 2024-04-28 16:03:24,706] Trial 22 finished with value: 636.4616668640119 and parameters: {'kernel': 'linear', 'degree': 1, 'gamma': 'auto', 'C': 97.95894141317241, 'epsilon': 27.495545730091237}. Best is trial 20 with value: 636.4185558255213.\n",
            "[I 2024-04-28 16:03:25,698] Trial 23 finished with value: 636.5549155415143 and parameters: {'kernel': 'linear', 'degree': 1, 'gamma': 'auto', 'C': 96.0730868639355, 'epsilon': 26.974418110276815}. Best is trial 20 with value: 636.4185558255213.\n",
            "[I 2024-04-28 16:03:26,292] Trial 24 finished with value: 636.393062749979 and parameters: {'kernel': 'linear', 'degree': 3, 'gamma': 'auto', 'C': 99.2277565491837, 'epsilon': 10.829823609009225}. Best is trial 24 with value: 636.393062749979.\n",
            "[I 2024-04-28 16:03:27,320] Trial 25 finished with value: 637.2408669957254 and parameters: {'kernel': 'linear', 'degree': 3, 'gamma': 'auto', 'C': 87.54840203286133, 'epsilon': 10.375905266740983}. Best is trial 24 with value: 636.393062749979.\n",
            "[I 2024-04-28 16:03:27,873] Trial 26 finished with value: 637.4336219274203 and parameters: {'kernel': 'linear', 'degree': 3, 'gamma': 'auto', 'C': 86.35762722920117, 'epsilon': 10.485608361311472}. Best is trial 24 with value: 636.393062749979.\n",
            "[I 2024-04-28 16:03:29,271] Trial 27 finished with value: 637.3336822072978 and parameters: {'kernel': 'linear', 'degree': 5, 'gamma': 'auto', 'C': 86.79834934275542, 'epsilon': 10.55638929469301}. Best is trial 24 with value: 636.393062749979.\n",
            "[I 2024-04-28 16:03:30,048] Trial 28 finished with value: 637.548664325595 and parameters: {'kernel': 'linear', 'degree': 5, 'gamma': 'auto', 'C': 86.00466710707282, 'epsilon': 11.201283175509015}. Best is trial 24 with value: 636.393062749979.\n",
            "[I 2024-04-28 16:03:31,930] Trial 29 finished with value: 635.8558225317483 and parameters: {'kernel': 'linear', 'degree': 6, 'gamma': 'auto', 'C': 99.83632675515243, 'epsilon': 46.3017858208786}. Best is trial 29 with value: 635.8558225317483.\n",
            "[I 2024-04-28 16:03:32,425] Trial 30 finished with value: 1839.0265348803437 and parameters: {'kernel': 'poly', 'degree': 6, 'gamma': 'scale', 'C': 98.66981900210538, 'epsilon': 50.739446242010075}. Best is trial 29 with value: 635.8558225317483.\n",
            "[I 2024-04-28 16:03:33,513] Trial 31 finished with value: 1949.5147053622175 and parameters: {'kernel': 'poly', 'degree': 6, 'gamma': 'scale', 'C': 53.105543246190486, 'epsilon': 51.40477371463325}. Best is trial 29 with value: 635.8558225317483.\n",
            "[I 2024-04-28 16:03:33,981] Trial 32 finished with value: 636.0912198721788 and parameters: {'kernel': 'linear', 'degree': 3, 'gamma': 'auto', 'C': 99.67101888069969, 'epsilon': 17.19344381464895}. Best is trial 29 with value: 635.8558225317483.\n",
            "[I 2024-04-28 16:03:35,002] Trial 33 finished with value: 636.7349748355703 and parameters: {'kernel': 'linear', 'degree': 3, 'gamma': 'auto', 'C': 92.23454762292408, 'epsilon': 16.91209130182073}. Best is trial 29 with value: 635.8558225317483.\n",
            "[I 2024-04-28 16:03:35,360] Trial 34 finished with value: 1182.134957001164 and parameters: {'kernel': 'rbf', 'degree': 3, 'gamma': 'auto', 'C': 91.50132599186887, 'epsilon': 16.477379011482526}. Best is trial 29 with value: 635.8558225317483.\n",
            "[I 2024-04-28 16:03:36,340] Trial 35 finished with value: 1186.2265510008988 and parameters: {'kernel': 'rbf', 'degree': 3, 'gamma': 'auto', 'C': 90.91130990225648, 'epsilon': 15.886225825616437}. Best is trial 29 with value: 635.8558225317483.\n",
            "[I 2024-04-28 16:03:36,946] Trial 36 finished with value: 636.4328664651599 and parameters: {'kernel': 'linear', 'degree': 10, 'gamma': 'auto', 'C': 90.51821972715402, 'epsilon': 44.40913818055584}. Best is trial 29 with value: 635.8558225317483.\n",
            "[I 2024-04-28 16:03:37,903] Trial 37 finished with value: 637.7764205384673 and parameters: {'kernel': 'linear', 'degree': 4, 'gamma': 'auto', 'C': 82.72692706935402, 'epsilon': 45.94388547428287}. Best is trial 29 with value: 635.8558225317483.\n",
            "[I 2024-04-28 16:03:38,497] Trial 38 finished with value: 637.5753739166004 and parameters: {'kernel': 'linear', 'degree': 10, 'gamma': 'auto', 'C': 80.79593389642267, 'epsilon': 57.5603086477329}. Best is trial 29 with value: 635.8558225317483.\n",
            "[I 2024-04-28 16:03:39,452] Trial 39 finished with value: 637.6360800417641 and parameters: {'kernel': 'linear', 'degree': 5, 'gamma': 'scale', 'C': 80.6123171503761, 'epsilon': 57.32162901790147}. Best is trial 29 with value: 635.8558225317483.\n",
            "[I 2024-04-28 16:03:39,900] Trial 40 finished with value: 1283.1022673954453 and parameters: {'kernel': 'rbf', 'degree': 5, 'gamma': 'scale', 'C': 78.72732521821035, 'epsilon': 75.17097977240863}. Best is trial 29 with value: 635.8558225317483.\n",
            "[I 2024-04-28 16:03:40,829] Trial 41 finished with value: 1137.0774634454558 and parameters: {'kernel': 'rbf', 'degree': 18, 'gamma': 'scale', 'C': 99.56093263333673, 'epsilon': 81.56105699839412}. Best is trial 29 with value: 635.8558225317483.\n",
            "[I 2024-04-28 16:03:41,491] Trial 42 finished with value: 633.6361512359439 and parameters: {'kernel': 'linear', 'degree': 10, 'gamma': 'auto', 'C': 99.8574211518153, 'epsilon': 89.7498150086396}. Best is trial 42 with value: 633.6361512359439.\n",
            "[I 2024-04-28 16:03:42,440] Trial 43 finished with value: 636.0370097461546 and parameters: {'kernel': 'linear', 'degree': 10, 'gamma': 'auto', 'C': 93.10629492827366, 'epsilon': 46.18161659262378}. Best is trial 42 with value: 633.6361512359439.\n",
            "[I 2024-04-28 16:03:43,504] Trial 44 finished with value: 636.7419337248856 and parameters: {'kernel': 'linear', 'degree': 9, 'gamma': 'auto', 'C': 92.61867515898643, 'epsilon': 22.928310423433103}. Best is trial 42 with value: 633.6361512359439.\n",
            "[I 2024-04-28 16:03:44,994] Trial 45 finished with value: 633.6542865353331 and parameters: {'kernel': 'linear', 'degree': 11, 'gamma': 'auto', 'C': 99.93961726264438, 'epsilon': 95.20994493237237}. Best is trial 42 with value: 633.6361512359439.\n",
            "[I 2024-04-28 16:03:45,912] Trial 46 finished with value: 635.3610144742995 and parameters: {'kernel': 'linear', 'degree': 14, 'gamma': 'auto', 'C': 84.33865954950244, 'epsilon': 85.4636647866495}. Best is trial 42 with value: 633.6361512359439.\n",
            "[I 2024-04-28 16:03:47,175] Trial 47 finished with value: 2237.1422800661912 and parameters: {'kernel': 'poly', 'degree': 15, 'gamma': 'auto', 'C': 5.314523675047525, 'epsilon': 98.70263401866309}. Best is trial 42 with value: 633.6361512359439.\n",
            "[I 2024-04-28 16:03:48,056] Trial 48 finished with value: 2722.6602369438174 and parameters: {'kernel': 'poly', 'degree': 15, 'gamma': 'auto', 'C': 72.3647433982318, 'epsilon': 97.85115580799251}. Best is trial 42 with value: 633.6361512359439.\n",
            "[I 2024-04-28 16:03:48,698] Trial 49 finished with value: 638.3022854260489 and parameters: {'kernel': 'linear', 'degree': 12, 'gamma': 'auto', 'C': 70.8322515118217, 'epsilon': 92.9213658465865}. Best is trial 42 with value: 633.6361512359439.\n",
            "[I 2024-04-28 16:03:49,575] Trial 50 finished with value: 638.5786849449183 and parameters: {'kernel': 'linear', 'degree': 12, 'gamma': 'auto', 'C': 69.52854916479168, 'epsilon': 92.62030259385237}. Best is trial 42 with value: 633.6361512359439.\n",
            "[I 2024-04-28 16:03:50,059] Trial 51 finished with value: 659.7404227070342 and parameters: {'kernel': 'linear', 'degree': 11, 'gamma': 'auto', 'C': 27.923678424580167, 'epsilon': 88.89737454544098}. Best is trial 42 with value: 633.6361512359439.\n",
            "[I 2024-04-28 16:03:51,154] Trial 52 finished with value: 633.388925696423 and parameters: {'kernel': 'linear', 'degree': 11, 'gamma': 'auto', 'C': 94.44100473017075, 'epsilon': 85.1177848339005}. Best is trial 52 with value: 633.388925696423.\n",
            "[I 2024-04-28 16:03:51,645] Trial 53 finished with value: 633.5424713377824 and parameters: {'kernel': 'linear', 'degree': 13, 'gamma': 'auto', 'C': 93.70152512449566, 'epsilon': 84.04555237899032}. Best is trial 52 with value: 633.388925696423.\n",
            "[I 2024-04-28 16:03:52,698] Trial 54 finished with value: 635.346093286791 and parameters: {'kernel': 'linear', 'degree': 14, 'gamma': 'auto', 'C': 84.24387614746799, 'epsilon': 84.19282453208758}. Best is trial 52 with value: 633.388925696423.\n",
            "[I 2024-04-28 16:03:53,153] Trial 55 finished with value: 635.0145038456096 and parameters: {'kernel': 'linear', 'degree': 13, 'gamma': 'auto', 'C': 85.33972923814994, 'epsilon': 83.90837580982505}. Best is trial 52 with value: 633.388925696423.\n",
            "[I 2024-04-28 16:03:54,260] Trial 56 finished with value: 635.543753030918 and parameters: {'kernel': 'linear', 'degree': 13, 'gamma': 'auto', 'C': 83.08870113817869, 'epsilon': 83.71954414609615}. Best is trial 52 with value: 633.388925696423.\n",
            "[I 2024-04-28 16:03:54,726] Trial 57 finished with value: 634.6827807315859 and parameters: {'kernel': 'linear', 'degree': 13, 'gamma': 'auto', 'C': 89.31179649586382, 'epsilon': 77.45799771701519}. Best is trial 52 with value: 633.388925696423.\n",
            "[I 2024-04-28 16:03:55,764] Trial 58 finished with value: 634.5447530690061 and parameters: {'kernel': 'linear', 'degree': 13, 'gamma': 'auto', 'C': 90.52867179344577, 'epsilon': 77.85847567121758}. Best is trial 52 with value: 633.388925696423.\n",
            "[I 2024-04-28 16:03:56,241] Trial 59 finished with value: 637.4579541420525 and parameters: {'kernel': 'linear', 'degree': 12, 'gamma': 'auto', 'C': 76.51051100972956, 'epsilon': 75.46084279173576}. Best is trial 52 with value: 633.388925696423.\n",
            "[I 2024-04-28 16:03:57,748] Trial 60 finished with value: 637.0586356615455 and parameters: {'kernel': 'linear', 'degree': 11, 'gamma': 'auto', 'C': 76.99175527158022, 'epsilon': 77.50852739822392}. Best is trial 52 with value: 633.388925696423.\n",
            "[I 2024-04-28 16:03:58,645] Trial 61 finished with value: 634.6317728179374 and parameters: {'kernel': 'linear', 'degree': 9, 'gamma': 'auto', 'C': 89.69878408911723, 'epsilon': 77.5634628433585}. Best is trial 52 with value: 633.388925696423.\n",
            "[I 2024-04-28 16:04:00,213] Trial 62 finished with value: 634.1489794134606 and parameters: {'kernel': 'linear', 'degree': 13, 'gamma': 'auto', 'C': 89.40470732779461, 'epsilon': 90.33333962768266}. Best is trial 52 with value: 633.388925696423.\n",
            "[I 2024-04-28 16:04:00,966] Trial 63 finished with value: 634.5834455857967 and parameters: {'kernel': 'linear', 'degree': 9, 'gamma': 'auto', 'C': 94.66475260573792, 'epsilon': 72.32941502594159}. Best is trial 52 with value: 633.388925696423.\n",
            "[I 2024-04-28 16:04:01,950] Trial 64 finished with value: 633.447652237766 and parameters: {'kernel': 'linear', 'degree': 9, 'gamma': 'auto', 'C': 93.4029116036226, 'epsilon': 90.16860004271996}. Best is trial 52 with value: 633.388925696423.\n",
            "[I 2024-04-28 16:04:02,526] Trial 65 finished with value: 633.4464450950603 and parameters: {'kernel': 'linear', 'degree': 9, 'gamma': 'auto', 'C': 93.43136164291077, 'epsilon': 89.38663912604207}. Best is trial 52 with value: 633.388925696423.\n",
            "[I 2024-04-28 16:04:03,494] Trial 66 finished with value: 633.491243028952 and parameters: {'kernel': 'linear', 'degree': 11, 'gamma': 'auto', 'C': 95.44664603054439, 'epsilon': 93.96300317999152}. Best is trial 52 with value: 633.388925696423.\n",
            "[I 2024-04-28 16:04:04,090] Trial 67 finished with value: 633.5265915667991 and parameters: {'kernel': 'linear', 'degree': 11, 'gamma': 'auto', 'C': 95.6830736441186, 'epsilon': 94.13802725858233}. Best is trial 52 with value: 633.388925696423.\n",
            "[I 2024-04-28 16:04:05,104] Trial 68 finished with value: 633.4889835268507 and parameters: {'kernel': 'linear', 'degree': 9, 'gamma': 'auto', 'C': 94.81390377760894, 'epsilon': 95.58918490826086}. Best is trial 52 with value: 633.388925696423.\n",
            "[I 2024-04-28 16:04:05,522] Trial 69 finished with value: 1163.2824147330823 and parameters: {'kernel': 'rbf', 'degree': 7, 'gamma': 'scale', 'C': 95.37268234459845, 'epsilon': 88.56468909428573}. Best is trial 52 with value: 633.388925696423.\n",
            "[I 2024-04-28 16:04:06,439] Trial 70 finished with value: 1169.264367250968 and parameters: {'kernel': 'rbf', 'degree': 7, 'gamma': 'scale', 'C': 94.35973029360565, 'epsilon': 86.81822424096133}. Best is trial 52 with value: 633.388925696423.\n",
            "[I 2024-04-28 16:04:07,111] Trial 71 finished with value: 1993.8429498216522 and parameters: {'kernel': 'poly', 'degree': 9, 'gamma': 'auto', 'C': 95.11385946354281, 'epsilon': 95.69810979990898}. Best is trial 52 with value: 633.388925696423.\n",
            "[I 2024-04-28 16:04:07,971] Trial 72 finished with value: 633.517802757794 and parameters: {'kernel': 'linear', 'degree': 9, 'gamma': 'auto', 'C': 96.04014442560255, 'epsilon': 93.13696778957784}. Best is trial 52 with value: 633.388925696423.\n",
            "[I 2024-04-28 16:04:08,687] Trial 73 finished with value: 634.7665672755377 and parameters: {'kernel': 'linear', 'degree': 8, 'gamma': 'auto', 'C': 87.514716901658, 'epsilon': 92.25763861764402}. Best is trial 52 with value: 633.388925696423.\n",
            "[I 2024-04-28 16:04:09,515] Trial 74 finished with value: 634.5546383602021 and parameters: {'kernel': 'linear', 'degree': 8, 'gamma': 'auto', 'C': 87.99762971790612, 'epsilon': 92.89844141842197}. Best is trial 52 with value: 633.388925696423.\n",
            "[I 2024-04-28 16:04:09,992] Trial 75 finished with value: 730.8761857020916 and parameters: {'kernel': 'linear', 'degree': 11, 'gamma': 'auto', 'C': 11.047207507112013, 'epsilon': 99.57232707267796}. Best is trial 52 with value: 633.388925696423.\n",
            "[I 2024-04-28 16:04:11,345] Trial 76 finished with value: 633.562903682073 and parameters: {'kernel': 'linear', 'degree': 11, 'gamma': 'auto', 'C': 96.16120662311633, 'epsilon': 99.98983991954526}. Best is trial 52 with value: 633.388925696423.\n",
            "[I 2024-04-28 16:04:12,080] Trial 77 finished with value: 633.9515808278301 and parameters: {'kernel': 'linear', 'degree': 9, 'gamma': 'auto', 'C': 96.30872556615527, 'epsilon': 81.16018753163655}. Best is trial 52 with value: 633.388925696423.\n",
            "[I 2024-04-28 16:04:13,325] Trial 78 finished with value: 2509.467168832233 and parameters: {'kernel': 'linear', 'degree': 9, 'gamma': 'auto', 'C': 0.0930449769501891, 'epsilon': 81.3835378463421}. Best is trial 52 with value: 633.388925696423.\n",
            "[I 2024-04-28 16:04:14,643] Trial 79 finished with value: 633.6112223824141 and parameters: {'kernel': 'linear', 'degree': 10, 'gamma': 'auto', 'C': 92.65061124522234, 'epsilon': 96.6865896297947}. Best is trial 52 with value: 633.388925696423.\n",
            "[I 2024-04-28 16:04:15,251] Trial 80 finished with value: 657.6189746672443 and parameters: {'kernel': 'linear', 'degree': 10, 'gamma': 'auto', 'C': 29.40607289089455, 'epsilon': 96.44556577884441}. Best is trial 52 with value: 633.388925696423.\n",
            "[I 2024-04-28 16:04:16,202] Trial 81 finished with value: 636.8533688700169 and parameters: {'kernel': 'linear', 'degree': 10, 'gamma': 'auto', 'C': 81.90801608398843, 'epsilon': 64.97816059353802}. Best is trial 52 with value: 633.388925696423.\n",
            "[I 2024-04-28 16:04:16,806] Trial 82 finished with value: 633.4988394354515 and parameters: {'kernel': 'linear', 'degree': 12, 'gamma': 'auto', 'C': 96.68185108248382, 'epsilon': 87.1540814570472}. Best is trial 52 with value: 633.388925696423.\n",
            "[I 2024-04-28 16:04:17,780] Trial 83 finished with value: 633.4852384224198 and parameters: {'kernel': 'linear', 'degree': 11, 'gamma': 'auto', 'C': 96.55060090378696, 'epsilon': 86.85927355979429}. Best is trial 52 with value: 633.388925696423.\n",
            "[I 2024-04-28 16:04:18,299] Trial 84 finished with value: 633.5933416135719 and parameters: {'kernel': 'linear', 'degree': 12, 'gamma': 'auto', 'C': 97.44337518515327, 'epsilon': 86.82901111563832}. Best is trial 52 with value: 633.388925696423.\n",
            "[I 2024-04-28 16:04:19,349] Trial 85 finished with value: 633.500619699778 and parameters: {'kernel': 'linear', 'degree': 12, 'gamma': 'auto', 'C': 96.69917053694479, 'epsilon': 87.16835658543582}. Best is trial 52 with value: 633.388925696423.\n",
            "[I 2024-04-28 16:04:19,855] Trial 86 finished with value: 633.8050756699835 and parameters: {'kernel': 'linear', 'degree': 11, 'gamma': 'auto', 'C': 91.75264264616874, 'epsilon': 94.643470780666}. Best is trial 52 with value: 633.388925696423.\n",
            "[I 2024-04-28 16:04:20,916] Trial 87 finished with value: 633.7084549641775 and parameters: {'kernel': 'linear', 'degree': 12, 'gamma': 'auto', 'C': 91.81373138865968, 'epsilon': 90.2527316871674}. Best is trial 52 with value: 633.388925696423.\n",
            "[I 2024-04-28 16:04:21,410] Trial 88 finished with value: 633.553189027079 and parameters: {'kernel': 'linear', 'degree': 12, 'gamma': 'auto', 'C': 97.50685940670203, 'epsilon': 90.9107470328152}. Best is trial 52 with value: 633.388925696423.\n",
            "[I 2024-04-28 16:04:22,414] Trial 89 finished with value: 1902.0785838130616 and parameters: {'kernel': 'poly', 'degree': 7, 'gamma': 'auto', 'C': 97.33134779324547, 'epsilon': 86.50062611492686}. Best is trial 52 with value: 633.388925696423.\n",
            "[I 2024-04-28 16:04:22,895] Trial 90 finished with value: 1984.1517428340112 and parameters: {'kernel': 'poly', 'degree': 7, 'gamma': 'auto', 'C': 53.20244374011558, 'epsilon': 87.27132099193351}. Best is trial 52 with value: 633.388925696423.\n",
            "[I 2024-04-28 16:04:23,916] Trial 91 finished with value: 644.7581533512652 and parameters: {'kernel': 'linear', 'degree': 9, 'gamma': 'auto', 'C': 52.29200280609009, 'epsilon': 80.36273209379789}. Best is trial 52 with value: 633.388925696423.\n",
            "[I 2024-04-28 16:04:24,443] Trial 92 finished with value: 634.4182839354918 and parameters: {'kernel': 'linear', 'degree': 11, 'gamma': 'auto', 'C': 88.53839302868847, 'epsilon': 92.85858574681987}. Best is trial 52 with value: 633.388925696423.\n",
            "[I 2024-04-28 16:04:25,915] Trial 93 finished with value: 634.6469068766007 and parameters: {'kernel': 'linear', 'degree': 11, 'gamma': 'auto', 'C': 87.75865865087877, 'epsilon': 92.7657471622762}. Best is trial 52 with value: 633.388925696423.\n",
            "[I 2024-04-28 16:04:26,889] Trial 94 finished with value: 633.5026484990113 and parameters: {'kernel': 'linear', 'degree': 8, 'gamma': 'auto', 'C': 93.88924317368031, 'epsilon': 94.58994568508764}. Best is trial 52 with value: 633.388925696423.\n",
            "[I 2024-04-28 16:04:28,326] Trial 95 finished with value: 633.3820589800555 and parameters: {'kernel': 'linear', 'degree': 8, 'gamma': 'auto', 'C': 93.98700343760659, 'epsilon': 88.20560932198207}. Best is trial 95 with value: 633.3820589800555.\n",
            "[I 2024-04-28 16:04:29,205] Trial 96 finished with value: 633.4158849167679 and parameters: {'kernel': 'linear', 'degree': 8, 'gamma': 'auto', 'C': 93.57707197559128, 'epsilon': 88.80792800851921}. Best is trial 95 with value: 633.3820589800555.\n",
            "[I 2024-04-28 16:04:30,082] Trial 97 finished with value: 635.1215554564687 and parameters: {'kernel': 'linear', 'degree': 8, 'gamma': 'scale', 'C': 86.01378104149893, 'epsilon': 88.74887929615474}. Best is trial 95 with value: 633.3820589800555.\n",
            "[I 2024-04-28 16:04:30,785] Trial 98 finished with value: 635.2519317869438 and parameters: {'kernel': 'linear', 'degree': 8, 'gamma': 'scale', 'C': 85.46811567358102, 'epsilon': 88.35272481122786}. Best is trial 95 with value: 633.3820589800555.\n",
            "[I 2024-04-28 16:04:31,251] Trial 99 finished with value: 634.6774613766286 and parameters: {'kernel': 'linear', 'degree': 10, 'gamma': 'auto', 'C': 93.10951293983621, 'epsilon': 71.87815419491216}. Best is trial 95 with value: 633.3820589800555.\n"
          ]
        }
      ]
    },
    {
      "cell_type": "markdown",
      "source": [
        "Lagring av resultater"
      ],
      "metadata": {
        "id": "rhtY8WGq_jcr"
      }
    },
    {
      "cell_type": "code",
      "source": [
        "res_1_hel = pd.DataFrame(res.dict_res_1_hel)\n",
        "res_1_hel_opt = pd.DataFrame(res.dict_res_1_hel_opt)\n",
        "\n",
        "res_1_hel.to_csv('/content/drive/MyDrive/MasterV24/Bioco_data/Resultater/mw/mw_res_1_hel.csv')\n",
        "res_1_hel_opt.to_csv('/content/drive/MyDrive/MasterV24/Bioco_data/Resultater/mw/mw_res_1_hel_opt.csv')"
      ],
      "metadata": {
        "id": "ZMEjdoR6_jcr"
      },
      "execution_count": 17,
      "outputs": []
    },
    {
      "cell_type": "markdown",
      "source": [
        "Velger beste modell"
      ],
      "metadata": {
        "id": "bwX1RP9pXiU_"
      }
    },
    {
      "cell_type": "code",
      "source": [],
      "metadata": {
        "id": "ioPAXcdFXkf7"
      },
      "execution_count": 17,
      "outputs": []
    },
    {
      "cell_type": "markdown",
      "metadata": {
        "id": "lNTfChXaIZAf"
      },
      "source": [
        "## Alternativ 1: Forskjellige treningsandeler"
      ]
    },
    {
      "cell_type": "code",
      "execution_count": null,
      "metadata": {
        "id": "jH1qpCxOIgAI",
        "colab": {
          "base_uri": "https://localhost:8080/"
        },
        "outputId": "0ccbb210-79f1-4385-cde3-0350061635fd"
      },
      "outputs": [
        {
          "output_type": "stream",
          "name": "stderr",
          "text": [
            "[I 2024-04-28 16:48:46,918] A new study created in memory with name: no-name-9e6e02b0-8cb1-4cf1-a9a5-08ddf209c942\n",
            "[I 2024-04-28 16:48:47,306] Trial 0 finished with value: 824.9691330819086 and parameters: {'n_neighbors': 4, 'weights': 'distance', 'p': 1}. Best is trial 0 with value: 824.9691330819086.\n",
            "[I 2024-04-28 16:48:47,331] Trial 1 finished with value: 890.2088466532051 and parameters: {'n_neighbors': 1, 'weights': 'distance', 'p': 6}. Best is trial 0 with value: 824.9691330819086.\n",
            "[I 2024-04-28 16:48:47,717] Trial 2 finished with value: 819.4545194203469 and parameters: {'n_neighbors': 2, 'weights': 'uniform', 'p': 5}. Best is trial 2 with value: 819.4545194203469.\n",
            "[I 2024-04-28 16:48:47,720] Trial 3 finished with value: 897.0927500076665 and parameters: {'n_neighbors': 6, 'weights': 'distance', 'p': 2}. Best is trial 2 with value: 819.4545194203469.\n",
            "[I 2024-04-28 16:48:48,074] Trial 4 finished with value: 1323.3556225626214 and parameters: {'n_neighbors': 10, 'weights': 'uniform', 'p': 4}. Best is trial 2 with value: 819.4545194203469.\n",
            "[I 2024-04-28 16:48:48,140] Trial 5 finished with value: 929.9796182290806 and parameters: {'n_neighbors': 4, 'weights': 'uniform', 'p': 10}. Best is trial 2 with value: 819.4545194203469.\n",
            "[I 2024-04-28 16:48:48,475] Trial 6 finished with value: 929.9796182290806 and parameters: {'n_neighbors': 4, 'weights': 'uniform', 'p': 10}. Best is trial 2 with value: 819.4545194203469.\n",
            "[I 2024-04-28 16:48:48,555] Trial 7 finished with value: 1246.5345295531965 and parameters: {'n_neighbors': 8, 'weights': 'uniform', 'p': 5}. Best is trial 2 with value: 819.4545194203469.\n",
            "[I 2024-04-28 16:48:48,850] Trial 8 finished with value: 920.5414298169721 and parameters: {'n_neighbors': 1, 'weights': 'distance', 'p': 2}. Best is trial 2 with value: 819.4545194203469.\n",
            "[I 2024-04-28 16:48:48,982] Trial 9 finished with value: 1076.9315568296029 and parameters: {'n_neighbors': 6, 'weights': 'uniform', 'p': 3}. Best is trial 2 with value: 819.4545194203469.\n",
            "[I 2024-04-28 16:48:49,259] Trial 10 finished with value: 895.3581331242603 and parameters: {'n_neighbors': 1, 'weights': 'uniform', 'p': 4}. Best is trial 2 with value: 819.4545194203469.\n",
            "[I 2024-04-28 16:48:49,412] Trial 11 finished with value: 823.2285736715596 and parameters: {'n_neighbors': 2, 'weights': 'uniform', 'p': 7}. Best is trial 2 with value: 819.4545194203469.\n",
            "[I 2024-04-28 16:48:49,699] Trial 12 finished with value: 819.6377630888526 and parameters: {'n_neighbors': 3, 'weights': 'distance', 'p': 7}. Best is trial 2 with value: 819.4545194203469.\n",
            "[I 2024-04-28 16:48:49,836] Trial 13 finished with value: 868.6111169050323 and parameters: {'n_neighbors': 3, 'weights': 'uniform', 'p': 7}. Best is trial 2 with value: 819.4545194203469.\n",
            "[I 2024-04-28 16:48:50,126] Trial 14 finished with value: 808.0788422857885 and parameters: {'n_neighbors': 3, 'weights': 'distance', 'p': 8}. Best is trial 14 with value: 808.0788422857885.\n",
            "[I 2024-04-28 16:48:50,290] Trial 15 finished with value: 808.0788422857885 and parameters: {'n_neighbors': 3, 'weights': 'distance', 'p': 8}. Best is trial 14 with value: 808.0788422857885.\n",
            "[I 2024-04-28 16:48:50,597] Trial 16 finished with value: 912.128700038917 and parameters: {'n_neighbors': 5, 'weights': 'distance', 'p': 8}. Best is trial 14 with value: 808.0788422857885.\n",
            "[I 2024-04-28 16:48:50,729] Trial 17 finished with value: 907.818897247492 and parameters: {'n_neighbors': 5, 'weights': 'distance', 'p': 9}. Best is trial 14 with value: 808.0788422857885.\n",
            "[I 2024-04-28 16:48:51,049] Trial 18 finished with value: 1005.5318297761071 and parameters: {'n_neighbors': 7, 'weights': 'distance', 'p': 9}. Best is trial 14 with value: 808.0788422857885.\n",
            "[I 2024-04-28 16:48:51,132] Trial 19 finished with value: 1005.5318297761071 and parameters: {'n_neighbors': 7, 'weights': 'distance', 'p': 9}. Best is trial 14 with value: 808.0788422857885.\n",
            "[I 2024-04-28 16:48:51,509] Trial 20 finished with value: 808.0788422857885 and parameters: {'n_neighbors': 3, 'weights': 'distance', 'p': 8}. Best is trial 14 with value: 808.0788422857885.\n",
            "[I 2024-04-28 16:48:51,564] Trial 21 finished with value: 808.0788422857885 and parameters: {'n_neighbors': 3, 'weights': 'distance', 'p': 8}. Best is trial 14 with value: 808.0788422857885.\n",
            "[I 2024-04-28 16:48:51,968] Trial 22 finished with value: 808.0788422857885 and parameters: {'n_neighbors': 3, 'weights': 'distance', 'p': 8}. Best is trial 14 with value: 808.0788422857885.\n",
            "[I 2024-04-28 16:48:51,970] Trial 23 finished with value: 805.1283897281971 and parameters: {'n_neighbors': 2, 'weights': 'distance', 'p': 8}. Best is trial 23 with value: 805.1283897281971.\n",
            "[I 2024-04-28 16:48:52,408] Trial 25 finished with value: 806.2993404568218 and parameters: {'n_neighbors': 2, 'weights': 'distance', 'p': 6}. Best is trial 23 with value: 805.1283897281971.\n",
            "[I 2024-04-28 16:48:52,425] Trial 24 finished with value: 806.2993404568218 and parameters: {'n_neighbors': 2, 'weights': 'distance', 'p': 6}. Best is trial 23 with value: 805.1283897281971.\n",
            "[I 2024-04-28 16:48:53,010] Trial 27 finished with value: 806.2993404568218 and parameters: {'n_neighbors': 2, 'weights': 'distance', 'p': 6}. Best is trial 23 with value: 805.1283897281971.\n",
            "[I 2024-04-28 16:48:53,034] Trial 26 finished with value: 806.2993404568218 and parameters: {'n_neighbors': 2, 'weights': 'distance', 'p': 6}. Best is trial 23 with value: 805.1283897281971.\n",
            "[I 2024-04-28 16:48:53,561] Trial 28 finished with value: 806.2993404568218 and parameters: {'n_neighbors': 2, 'weights': 'distance', 'p': 6}. Best is trial 23 with value: 805.1283897281971.\n",
            "[I 2024-04-28 16:48:53,592] Trial 29 finished with value: 892.0702369067787 and parameters: {'n_neighbors': 1, 'weights': 'distance', 'p': 5}. Best is trial 23 with value: 805.1283897281971.\n",
            "[I 2024-04-28 16:48:54,120] Trial 30 finished with value: 895.3581331242603 and parameters: {'n_neighbors': 1, 'weights': 'distance', 'p': 4}. Best is trial 23 with value: 805.1283897281971.\n",
            "[I 2024-04-28 16:48:54,169] Trial 31 finished with value: 838.7668124312071 and parameters: {'n_neighbors': 4, 'weights': 'distance', 'p': 4}. Best is trial 23 with value: 805.1283897281971.\n",
            "[I 2024-04-28 16:48:54,665] Trial 32 finished with value: 806.2993404568218 and parameters: {'n_neighbors': 2, 'weights': 'distance', 'p': 6}. Best is trial 23 with value: 805.1283897281971.\n",
            "[I 2024-04-28 16:48:54,724] Trial 33 finished with value: 806.2993404568218 and parameters: {'n_neighbors': 2, 'weights': 'distance', 'p': 6}. Best is trial 23 with value: 805.1283897281971.\n",
            "[I 2024-04-28 16:48:55,190] Trial 34 finished with value: 811.0583321537638 and parameters: {'n_neighbors': 2, 'weights': 'distance', 'p': 7}. Best is trial 23 with value: 805.1283897281971.\n",
            "[I 2024-04-28 16:48:55,256] Trial 35 finished with value: 890.2088466532051 and parameters: {'n_neighbors': 1, 'weights': 'distance', 'p': 7}. Best is trial 23 with value: 805.1283897281971.\n",
            "[I 2024-04-28 16:48:55,779] Trial 36 finished with value: 892.0702369067787 and parameters: {'n_neighbors': 1, 'weights': 'distance', 'p': 5}. Best is trial 23 with value: 805.1283897281971.\n",
            "[I 2024-04-28 16:48:55,819] Trial 37 finished with value: 1068.1837517209574 and parameters: {'n_neighbors': 9, 'weights': 'distance', 'p': 5}. Best is trial 23 with value: 805.1283897281971.\n",
            "[I 2024-04-28 16:48:56,757] Trial 38 finished with value: 866.4576937323933 and parameters: {'n_neighbors': 4, 'weights': 'distance', 'p': 6}. Best is trial 23 with value: 805.1283897281971.\n",
            "[I 2024-04-28 16:48:56,808] Trial 39 finished with value: 866.4576937323933 and parameters: {'n_neighbors': 4, 'weights': 'distance', 'p': 6}. Best is trial 23 with value: 805.1283897281971.\n",
            "[I 2024-04-28 16:48:57,374] Trial 41 finished with value: 862.8493954467007 and parameters: {'n_neighbors': 5, 'weights': 'distance', 'p': 3}. Best is trial 23 with value: 805.1283897281971.\n",
            "[I 2024-04-28 16:48:57,415] Trial 40 finished with value: 862.8493954467007 and parameters: {'n_neighbors': 5, 'weights': 'distance', 'p': 3}. Best is trial 23 with value: 805.1283897281971.\n",
            "[I 2024-04-28 16:48:57,804] Trial 42 finished with value: 806.7052741983555 and parameters: {'n_neighbors': 2, 'weights': 'distance', 'p': 5}. Best is trial 23 with value: 805.1283897281971.\n",
            "[I 2024-04-28 16:48:57,870] Trial 43 finished with value: 811.0583321537638 and parameters: {'n_neighbors': 2, 'weights': 'distance', 'p': 7}. Best is trial 23 with value: 805.1283897281971.\n",
            "[I 2024-04-28 16:48:58,241] Trial 44 finished with value: 811.0583321537638 and parameters: {'n_neighbors': 2, 'weights': 'distance', 'p': 7}. Best is trial 23 with value: 805.1283897281971.\n",
            "[I 2024-04-28 16:48:58,315] Trial 45 finished with value: 790.7258685792475 and parameters: {'n_neighbors': 2, 'weights': 'distance', 'p': 1}. Best is trial 45 with value: 790.7258685792475.\n",
            "[I 2024-04-28 16:48:58,667] Trial 46 finished with value: 818.2127842361949 and parameters: {'n_neighbors': 2, 'weights': 'uniform', 'p': 1}. Best is trial 45 with value: 790.7258685792475.\n",
            "[I 2024-04-28 16:48:58,770] Trial 47 finished with value: 935.4917116353549 and parameters: {'n_neighbors': 1, 'weights': 'uniform', 'p': 1}. Best is trial 45 with value: 790.7258685792475.\n",
            "[I 2024-04-28 16:48:59,091] Trial 48 finished with value: 937.261544882307 and parameters: {'n_neighbors': 4, 'weights': 'uniform', 'p': 1}. Best is trial 45 with value: 790.7258685792475.\n",
            "[I 2024-04-28 16:48:59,172] Trial 49 finished with value: 847.4877939124483 and parameters: {'n_neighbors': 4, 'weights': 'distance', 'p': 10}. Best is trial 45 with value: 790.7258685792475.\n",
            "[I 2024-04-28 16:48:59,190] A new study created in memory with name: no-name-851cee07-61e5-4861-a359-e425fdfb626b\n",
            "[I 2024-04-28 16:49:16,944] Trial 1 finished with value: 1033.2844281918838 and parameters: {'n_estimators': 306, 'criterion': 'squared_error', 'max_depth': 4, 'min_samples_leaf': 3, 'max_features': 0.705016637609549}. Best is trial 1 with value: 1033.2844281918838.\n",
            "[I 2024-04-28 16:49:51,893] Trial 2 finished with value: 1766.3157250840904 and parameters: {'n_estimators': 767, 'criterion': 'friedman_mse', 'max_depth': 7, 'min_samples_leaf': 5, 'max_features': 0.11963573319585247}. Best is trial 1 with value: 1033.2844281918838.\n",
            "[I 2024-04-28 16:49:59,069] Trial 3 finished with value: 960.7143611862435 and parameters: {'n_estimators': 139, 'criterion': 'friedman_mse', 'max_depth': 29, 'min_samples_leaf': 2, 'max_features': 0.4922413968981558}. Best is trial 3 with value: 960.7143611862435.\n",
            "[I 2024-04-28 16:50:12,706] Trial 4 finished with value: 1071.2072388801196 and parameters: {'n_estimators': 264, 'criterion': 'squared_error', 'max_depth': 4, 'min_samples_leaf': 3, 'max_features': 0.5051086991246282}. Best is trial 3 with value: 960.7143611862435.\n",
            "[I 2024-04-28 16:50:30,890] Trial 0 finished with value: 910.5661584912882 and parameters: {'n_estimators': 941, 'criterion': 'poisson', 'max_depth': 22, 'min_samples_leaf': 2, 'max_features': 0.8967614937318353}. Best is trial 0 with value: 910.5661584912882.\n",
            "[I 2024-04-28 16:50:49,860] Trial 6 finished with value: 1190.543990263469 and parameters: {'n_estimators': 360, 'criterion': 'poisson', 'max_depth': 23, 'min_samples_leaf': 5, 'max_features': 0.49706718577527553}. Best is trial 0 with value: 910.5661584912882.\n",
            "[I 2024-04-28 16:50:57,581] Trial 5 finished with value: 843.2645332932211 and parameters: {'n_estimators': 529, 'criterion': 'poisson', 'max_depth': 9, 'min_samples_leaf': 1, 'max_features': 0.9527916540629171}. Best is trial 5 with value: 843.2645332932211.\n",
            "[I 2024-04-28 16:51:37,079] Trial 8 finished with value: 1072.0433036402783 and parameters: {'n_estimators': 882, 'criterion': 'squared_error', 'max_depth': 18, 'min_samples_leaf': 4, 'max_features': 0.7924679355958015}. Best is trial 5 with value: 843.2645332932211.\n",
            "[I 2024-04-28 16:51:45,081] Trial 9 finished with value: 1288.9931606040623 and parameters: {'n_estimators': 165, 'criterion': 'poisson', 'max_depth': 3, 'min_samples_leaf': 2, 'max_features': 0.24131933595328456}. Best is trial 5 with value: 843.2645332932211.\n",
            "[I 2024-04-28 16:52:13,163] Trial 10 finished with value: 1267.6512031992977 and parameters: {'n_estimators': 711, 'criterion': 'friedman_mse', 'max_depth': 13, 'min_samples_leaf': 4, 'max_features': 0.2612299714697146}. Best is trial 5 with value: 843.2645332932211.\n",
            "[I 2024-04-28 16:52:19,591] Trial 7 finished with value: 902.5372022547264 and parameters: {'n_estimators': 541, 'criterion': 'absolute_error', 'max_depth': 13, 'min_samples_leaf': 2, 'max_features': 0.8896565937718844}. Best is trial 5 with value: 843.2645332932211.\n",
            "[I 2024-04-28 16:53:06,978] Trial 11 finished with value: 850.8864091036272 and parameters: {'n_estimators': 542, 'criterion': 'absolute_error', 'max_depth': 11, 'min_samples_leaf': 1, 'max_features': 0.9920805376759596}. Best is trial 5 with value: 843.2645332932211.\n",
            "[I 2024-04-28 16:53:12,283] Trial 12 finished with value: 850.7237634603463 and parameters: {'n_estimators': 536, 'criterion': 'absolute_error', 'max_depth': 11, 'min_samples_leaf': 1, 'max_features': 0.9333088499442047}. Best is trial 5 with value: 843.2645332932211.\n",
            "[I 2024-04-28 16:53:46,906] Trial 14 finished with value: 871.0137580966655 and parameters: {'n_estimators': 434, 'criterion': 'absolute_error', 'max_depth': 8, 'min_samples_leaf': 1, 'max_features': 0.6841863071979298}. Best is trial 5 with value: 843.2645332932211.\n",
            "[I 2024-04-28 16:54:06,787] Trial 13 finished with value: 849.1234391990479 and parameters: {'n_estimators': 515, 'criterion': 'absolute_error', 'max_depth': 10, 'min_samples_leaf': 1, 'max_features': 0.9982356275990164}. Best is trial 5 with value: 843.2645332932211.\n",
            "[I 2024-04-28 16:54:28,427] Trial 15 finished with value: 841.6577104661557 and parameters: {'n_estimators': 664, 'criterion': 'poisson', 'max_depth': 17, 'min_samples_leaf': 1, 'max_features': 0.9889543217503092}. Best is trial 15 with value: 841.6577104661557.\n",
            "[I 2024-04-28 16:54:55,958] Trial 16 finished with value: 843.3633840113847 and parameters: {'n_estimators': 702, 'criterion': 'poisson', 'max_depth': 18, 'min_samples_leaf': 1, 'max_features': 0.7820881944773445}. Best is trial 15 with value: 841.6577104661557.\n"
          ]
        }
      ],
      "source": [
        "# Går gjennom andeler av satt treningssett\n",
        "for trenings_andel in treningsandeler:\n",
        "\n",
        "  if trenings_andel < 1.0:\n",
        "\n",
        "      # Utelukker resterende andel fra trening av modell\n",
        "      ubenyttet_andel = (1.0-trenings_andel)\n",
        "\n",
        "      treningssett_markert, enzymtyper_treningssett_markert,\\\n",
        "      _, _, _, _, _ = trening_testsett_oppdeling_enzym(rå_data,\n",
        "                                                       trening,\n",
        "                                                       test_andel=ubenyttet_andel,\n",
        "                                                       random_seed=random_seed)\n",
        "\n",
        "  else:\n",
        "    treningssett_markert = trening_markert\n",
        "    enzymtyper_treningssett_markert = enzymtyper_markert\n",
        "\n",
        "  # Finner antall splitt etter minste antall av enzymtype\n",
        "  n_splitt = n_splitt_enzym(rå_data,\n",
        "                            treningssett_markert)\n",
        "\n",
        "  # Modelloptimalisering, trening og evaluering av RFR, KNR og SVR\n",
        "  veiledet_modell_evaluering_1(dict_res_opt=res.dict_res_1_hel_opt,\n",
        "                               dict_res=res.dict_res_1_hel,\n",
        "                               treningssett_markert=treningssett_markert,\n",
        "                               enzymtyper_treningssett_markert=enzymtyper_treningssett_markert,\n",
        "                               testsett=testsett,\n",
        "                               n_splitt=n_splitt,\n",
        "                               n_gjentagelser=n_gjentagelser,\n",
        "                               n_runder=n_runder_andel,\n",
        "                               test_andel=test_andel,\n",
        "                               trenings_andel=trenings_andel,\n",
        "                               random_seed=random_seed)"
      ]
    },
    {
      "cell_type": "markdown",
      "source": [
        "Lagring av resultater"
      ],
      "metadata": {
        "id": "MSCewDmhgFHW"
      }
    },
    {
      "cell_type": "code",
      "source": [
        "res_1_hel = pd.DataFrame(res.dict_res_1_hel)\n",
        "res_1_hel_opt = pd.DataFrame(res.dict_res_1_hel_opt)\n",
        "\n",
        "res_1_hel.to_csv('/content/drive/MyDrive/MasterV24/Bioco_data/Resultater/mw/mw_res_1_hel.csv')\n",
        "res_1_hel_opt.to_csv('/content/drive/MyDrive/MasterV24/Bioco_data/Resultater/mw/mw_res_1_hel_opt.csv')"
      ],
      "metadata": {
        "id": "5Xw_S3MTgHgY",
        "colab": {
          "base_uri": "https://localhost:8080/"
        },
        "outputId": "06fb135a-ceb4-4738-fd7f-9b470fbce618"
      },
      "execution_count": null,
      "outputs": [
        {
          "output_type": "stream",
          "name": "stderr",
          "text": [
            "/usr/local/lib/python3.10/dist-packages/ipykernel/ipkernel.py:283: DeprecationWarning: `should_run_async` will not call `transform_cell` automatically in the future. Please pass the result to `transformed_cell` argument and any exception that happen during thetransform in `preprocessing_exc_tuple` in IPython 7.17 and above.\n",
            "  and should_run_async(code)\n"
          ]
        }
      ]
    },
    {
      "cell_type": "markdown",
      "source": [
        "## Alternativ 2: Hele treningssett"
      ],
      "metadata": {
        "id": "Vug3qjOcXxOJ"
      }
    },
    {
      "cell_type": "code",
      "source": [
        "# Definerer treningsandel\n",
        "trenings_andel = 1.0\n",
        "\n",
        "# Deler datasettet i trening og testsett\n",
        "trening_markert, testsett, _, trening\\\n",
        "= trening_testsett_oppdeling_dag(rå_data,\n",
        "                                 data,\n",
        "                                 test_andel=test_andel,\n",
        "                                 test_ekskluder_kalkun_kylling=True)\n",
        "\n",
        "#Oversikt over fordelingen av enzymtyper i testsett\n",
        "print(\"Enzymtyper Fordeling: Test\")\n",
        "print(enzymfordeling(rå_data, testsett))"
      ],
      "metadata": {
        "id": "JzADzCY1X0Zx",
        "colab": {
          "base_uri": "https://localhost:8080/"
        },
        "outputId": "28a7ae0c-cf92-44db-f96d-b0e1dd4d0f52"
      },
      "execution_count": null,
      "outputs": [
        {
          "output_type": "stream",
          "name": "stderr",
          "text": [
            "/usr/local/lib/python3.10/dist-packages/ipykernel/ipkernel.py:283: DeprecationWarning: `should_run_async` will not call `transform_cell` automatically in the future. Please pass the result to `transformed_cell` argument and any exception that happen during thetransform in `preprocessing_exc_tuple` in IPython 7.17 and above.\n",
            "  and should_run_async(code)\n"
          ]
        },
        {
          "output_type": "stream",
          "name": "stdout",
          "text": [
            "Enzymtyper Fordeling: Test\n",
            "            Frekvens  Andel\n",
            "EnzymeCode                 \n",
            "A2                25  27.78\n",
            "B                 16  17.78\n",
            "C                 15  16.67\n",
            "E                 15  16.67\n",
            "D                 13  14.44\n",
            "A1                 6   6.67\n"
          ]
        }
      ]
    },
    {
      "cell_type": "code",
      "source": [
        "# Finner antall splitt etter minste antall av enzymtype\n",
        "n_splitt = n_splitt_enzym(rå_data,\n",
        "                          trening_markert)\n",
        "\n",
        "# Modelloptimalisering, trening og evaluering av RFR, KNR og SVR\n",
        "veiledet_modell_evaluering_2(dict_res_opt=res.dict_res_2_hel_opt,\n",
        "                             dict_res=res.dict_res_2_hel,\n",
        "                             rå_data=rå_data,\n",
        "                             treningssett_markert=trening_markert,\n",
        "                             testsett=testsett,\n",
        "                             n_splitt=n_splitt,\n",
        "                             n_runder=n_runder_hel,\n",
        "                             test_andel=test_andel,\n",
        "                             trenings_andel=trenings_andel,\n",
        "                             random_seed=random_seed)"
      ],
      "metadata": {
        "id": "-GW5AyE7X5Sh",
        "colab": {
          "base_uri": "https://localhost:8080/"
        },
        "outputId": "04f0f9be-82f8-450a-bc36-1acf9d6ddeb9"
      },
      "execution_count": null,
      "outputs": [
        {
          "output_type": "stream",
          "name": "stderr",
          "text": [
            "/usr/local/lib/python3.10/dist-packages/ipykernel/ipkernel.py:283: DeprecationWarning: `should_run_async` will not call `transform_cell` automatically in the future. Please pass the result to `transformed_cell` argument and any exception that happen during thetransform in `preprocessing_exc_tuple` in IPython 7.17 and above.\n",
            "  and should_run_async(code)\n"
          ]
        }
      ]
    },
    {
      "cell_type": "markdown",
      "source": [
        "Lagring av resultater"
      ],
      "metadata": {
        "id": "fSoCXuldMy4N"
      }
    },
    {
      "cell_type": "code",
      "source": [
        "res_2_hel = pd.DataFrame(res.dict_res_2_hel)\n",
        "res_2_hel_opt = pd.DataFrame(res.dict_res_2_hel_opt)\n",
        "\n",
        "res_2_hel.to_csv('/content/drive/MyDrive/MasterV24/Bioco_data/Resultater/mw/mw_resultater_2_hel.csv')\n",
        "res_2_hel_opt.to_csv('/content/drive/MyDrive/MasterV24/Bioco_data/Resultater/mw/mw_resultater_2_hel_opt.csv')"
      ],
      "metadata": {
        "colab": {
          "base_uri": "https://localhost:8080/"
        },
        "id": "NI500ZYUMy4N",
        "outputId": "e5c1bab8-823a-4bfc-f359-bf96ca40dc60"
      },
      "execution_count": null,
      "outputs": [
        {
          "output_type": "stream",
          "name": "stderr",
          "text": [
            "/usr/local/lib/python3.10/dist-packages/ipykernel/ipkernel.py:283: DeprecationWarning: `should_run_async` will not call `transform_cell` automatically in the future. Please pass the result to `transformed_cell` argument and any exception that happen during thetransform in `preprocessing_exc_tuple` in IPython 7.17 and above.\n",
            "  and should_run_async(code)\n"
          ]
        }
      ]
    },
    {
      "cell_type": "markdown",
      "source": [
        "Velger beste modell"
      ],
      "metadata": {
        "id": "nEi8u82bX7Vg"
      }
    },
    {
      "cell_type": "code",
      "source": [],
      "metadata": {
        "id": "qOJEIwcyX9iw"
      },
      "execution_count": null,
      "outputs": []
    },
    {
      "cell_type": "markdown",
      "metadata": {
        "id": "8IO2r9GrkH4N"
      },
      "source": [
        "## Alternativ 2: Forskjellige treningssandeler"
      ]
    },
    {
      "cell_type": "code",
      "execution_count": null,
      "metadata": {
        "colab": {
          "base_uri": "https://localhost:8080/"
        },
        "id": "jV49bC6qkH4N",
        "outputId": "b5f78362-43b6-49e8-bfbf-5f08107ff307"
      },
      "outputs": [
        {
          "output_type": "stream",
          "name": "stderr",
          "text": [
            "/usr/local/lib/python3.10/dist-packages/ipykernel/ipkernel.py:283: DeprecationWarning: `should_run_async` will not call `transform_cell` automatically in the future. Please pass the result to `transformed_cell` argument and any exception that happen during thetransform in `preprocessing_exc_tuple` in IPython 7.17 and above.\n",
            "  and should_run_async(code)\n"
          ]
        },
        {
          "output_type": "stream",
          "name": "stdout",
          "text": [
            "Enzymtyper Fordeling: Treningssett markert andel: 0.25\n",
            "            Frekvens  Andel\n",
            "EnzymeCode                 \n",
            "A2                46  28.22\n",
            "C                 30  18.40\n",
            "D                 30  18.40\n",
            "B                 28  17.18\n",
            "E                 26  15.95\n",
            "A1                 3   1.84\n",
            "Enzymtyper Fordeling: Treningssett markert andel: 0.5\n",
            "            Frekvens  Andel\n",
            "EnzymeCode                 \n",
            "A2                73  35.96\n",
            "C                 32  15.76\n",
            "D                 32  15.76\n",
            "E                 30  14.78\n",
            "B                 29  14.29\n",
            "A1                 7   3.45\n",
            "Enzymtyper Fordeling: Treningssett markert andel: 0.75\n",
            "            Frekvens  Andel\n",
            "EnzymeCode                 \n",
            "A2               103  37.45\n",
            "E                 45  16.36\n",
            "C                 40  14.55\n",
            "B                 39  14.18\n",
            "D                 37  13.45\n",
            "A1                11   4.00\n"
          ]
        }
      ],
      "source": [
        "# Går gjennom andeler av satt treningssett\n",
        "for trenings_andel in treningsandeler:\n",
        "\n",
        "  if trenings_andel < 1.0:\n",
        "\n",
        "      # Utelukker resterende andel fra trening av modell\n",
        "      ubenyttet_andel = (1.0-trenings_andel)\n",
        "\n",
        "      treningssett_markert, _, _, _\\\n",
        "      = trening_testsett_oppdeling_dag(rå_data,\n",
        "                                       trening,\n",
        "                                       test_andel=ubenyttet_andel,\n",
        "                                       test_ekskluder_kalkun_kylling=True)\n",
        "\n",
        "  else:\n",
        "    treningssett_markert = trening_markert\n",
        "\n",
        "  #Enzymfordeling\n",
        "  print(\"Enzymtyper Fordeling: Treningssett markert andel:\", trenings_andel)\n",
        "  enzym_treningssett_markert = enzymfordeling(rå_data,\n",
        "                                              treningssett_markert)\n",
        "  print(enzym_treningssett_markert)\n",
        "\n",
        "  # n_splitt\n",
        "  n_splitt = n_splitt_enzym(rå_data, treningssett_markert)\n",
        "\n",
        "  veiledet_modell_evaluering_2(dict_res_opt=res.dict_res_2_hel_opt,\n",
        "                               dict_res=res.dict_res_2_hel,\n",
        "                               rå_data=rå_data,\n",
        "                               treningssett_markert=treningssett_markert,\n",
        "                               testsett=testsett,\n",
        "                               n_splitt=n_splitt,\n",
        "                               n_runder=n_runder_andel,\n",
        "                               test_andel=test_andel,\n",
        "                               trenings_andel=trenings_andel,\n",
        "                               random_seed=random_seed)"
      ]
    },
    {
      "cell_type": "markdown",
      "source": [
        "Lagring av resultater"
      ],
      "metadata": {
        "id": "sCl3QEH2gcAF"
      }
    },
    {
      "cell_type": "code",
      "source": [
        "res_2_hel = pd.DataFrame(res.dict_res_2_hel)\n",
        "res_2_hel_opt = pd.DataFrame(res.dict_res_2_hel_opt)\n",
        "\n",
        "res_2_hel.to_csv('/content/drive/MyDrive/MasterV24/Bioco_data/Resultater/mw/mw_resultater_2_hel.csv')\n",
        "res_2_hel_opt.to_csv('/content/drive/MyDrive/MasterV24/Bioco_data/Resultater/mw/mw_resultater_2_hel_opt.csv')"
      ],
      "metadata": {
        "id": "vdnuKhWtgcAG",
        "colab": {
          "base_uri": "https://localhost:8080/"
        },
        "outputId": "5fdd5c15-a954-4cb0-f2a2-ab8f6ae92928"
      },
      "execution_count": null,
      "outputs": [
        {
          "output_type": "stream",
          "name": "stderr",
          "text": [
            "/usr/local/lib/python3.10/dist-packages/ipykernel/ipkernel.py:283: DeprecationWarning: `should_run_async` will not call `transform_cell` automatically in the future. Please pass the result to `transformed_cell` argument and any exception that happen during thetransform in `preprocessing_exc_tuple` in IPython 7.17 and above.\n",
            "  and should_run_async(code)\n"
          ]
        }
      ]
    },
    {
      "cell_type": "markdown",
      "metadata": {
        "id": "un6mDEGPFIHt"
      },
      "source": [
        "## Designproduksjon"
      ]
    },
    {
      "cell_type": "markdown",
      "source": [
        "## Alternativ 1: Hele treningssett"
      ],
      "metadata": {
        "id": "pBFVc2pIvRsq"
      }
    },
    {
      "cell_type": "code",
      "source": [
        "# Definere treningsandel\n",
        "trenings_andel = 1.0\n",
        "\n",
        "\n",
        "# Deler datasettet i trening og testsett\n",
        "trening_markert, enzymtyper_markert, testsett, _, _, _, trening\\\n",
        "= trening_testsett_oppdeling_enzym(rå_data,\n",
        "                                   data_design,\n",
        "                                   test_andel=test_andel)"
      ],
      "metadata": {
        "colab": {
          "base_uri": "https://localhost:8080/"
        },
        "outputId": "d23ed39b-0f09-4b60-bb64-484d630ce59c",
        "id": "WgSXtkJbvRsr"
      },
      "execution_count": null,
      "outputs": [
        {
          "output_type": "stream",
          "name": "stderr",
          "text": [
            "/usr/local/lib/python3.10/dist-packages/ipykernel/ipkernel.py:283: DeprecationWarning: `should_run_async` will not call `transform_cell` automatically in the future. Please pass the result to `transformed_cell` argument and any exception that happen during thetransform in `preprocessing_exc_tuple` in IPython 7.17 and above.\n",
            "  and should_run_async(code)\n"
          ]
        }
      ]
    },
    {
      "cell_type": "code",
      "source": [
        "# Finner antall splitt etter minste antall av enzymtype\n",
        "n_splitt = n_splitt_enzym(rå_data,\n",
        "                          trening_markert)\n",
        "\n",
        "# Modelloptimalisering, trening og evaluering av RFR, KNR og SVR\n",
        "veiledet_modell_evaluering_1(dict_res_opt=res.dict_res_1_design_opt,\n",
        "                             dict_res=res.dict_res_1_design,\n",
        "                             treningssett_markert=trening_markert,\n",
        "                             enzymtyper_treningssett_markert=enzymtyper_markert,\n",
        "                             testsett=testsett,\n",
        "                             n_splitt=n_splitt,\n",
        "                             n_gjentagelser=n_gjentagelser,\n",
        "                             n_runder=n_runder_hel,\n",
        "                             test_andel=test_andel,\n",
        "                             trenings_andel=trenings_andel,\n",
        "                             random_seed=random_seed)"
      ],
      "metadata": {
        "id": "rPvCazwnvRsr",
        "colab": {
          "base_uri": "https://localhost:8080/"
        },
        "outputId": "ffd5a9b5-6cf8-44e5-fae1-e4cd3fc84993"
      },
      "execution_count": null,
      "outputs": [
        {
          "output_type": "stream",
          "name": "stderr",
          "text": [
            "/usr/local/lib/python3.10/dist-packages/ipykernel/ipkernel.py:283: DeprecationWarning: `should_run_async` will not call `transform_cell` automatically in the future. Please pass the result to `transformed_cell` argument and any exception that happen during thetransform in `preprocessing_exc_tuple` in IPython 7.17 and above.\n",
            "  and should_run_async(code)\n"
          ]
        }
      ]
    },
    {
      "cell_type": "markdown",
      "source": [
        "Lagring av resultater"
      ],
      "metadata": {
        "id": "Lz65n-EXNF4e"
      }
    },
    {
      "cell_type": "code",
      "source": [
        "res_1_design = pd.DataFrame(res.dict_res_1_design)\n",
        "res_1_design_opt = pd.DataFrame(res.dict_res_1_design_opt)\n",
        "\n",
        "res_1_design.to_csv('/content/drive/MyDrive/MasterV24/Bioco_data/Resultater/mw/mw_resultater_1_design.csv')\n",
        "res_1_design_opt.to_csv('/content/drive/MyDrive/MasterV24/Bioco_data/Resultater/mw/mw_resultater_1_design_opt.csv')"
      ],
      "metadata": {
        "colab": {
          "base_uri": "https://localhost:8080/"
        },
        "id": "1E1ijyYNNF4e",
        "outputId": "6d84125f-2b12-4140-d48d-bd12a2872690"
      },
      "execution_count": null,
      "outputs": [
        {
          "output_type": "stream",
          "name": "stderr",
          "text": [
            "/usr/local/lib/python3.10/dist-packages/ipykernel/ipkernel.py:283: DeprecationWarning: `should_run_async` will not call `transform_cell` automatically in the future. Please pass the result to `transformed_cell` argument and any exception that happen during thetransform in `preprocessing_exc_tuple` in IPython 7.17 and above.\n",
            "  and should_run_async(code)\n"
          ]
        }
      ]
    },
    {
      "cell_type": "markdown",
      "source": [
        "Velger beste modell"
      ],
      "metadata": {
        "id": "-1cIW1VqvRsr"
      }
    },
    {
      "cell_type": "code",
      "source": [],
      "metadata": {
        "id": "YlwO4gz3vRsr"
      },
      "execution_count": null,
      "outputs": []
    },
    {
      "cell_type": "markdown",
      "metadata": {
        "id": "8Hy0Pg1GvRss"
      },
      "source": [
        "## Alternativ 1: Forskjellige treningsandeler"
      ]
    },
    {
      "cell_type": "code",
      "execution_count": null,
      "metadata": {
        "id": "GzTtZ28kvRss",
        "colab": {
          "base_uri": "https://localhost:8080/"
        },
        "outputId": "a20d5bd3-1ab9-467a-eeb8-0e66ecc7404e"
      },
      "outputs": [
        {
          "output_type": "stream",
          "name": "stderr",
          "text": [
            "/usr/local/lib/python3.10/dist-packages/ipykernel/ipkernel.py:283: DeprecationWarning: `should_run_async` will not call `transform_cell` automatically in the future. Please pass the result to `transformed_cell` argument and any exception that happen during thetransform in `preprocessing_exc_tuple` in IPython 7.17 and above.\n",
            "  and should_run_async(code)\n"
          ]
        }
      ],
      "source": [
        "# Går gjennom andeler av satt treningssett\n",
        "for trenings_andel in treningsandeler:\n",
        "\n",
        "  if trenings_andel < 1.0:\n",
        "\n",
        "      # Utelukker resterende andel fra trening av modell\n",
        "      ubenyttet_andel = (1.0-trenings_andel)\n",
        "\n",
        "      treningssett_markert, enzymtyper_treningssett_markert,\\\n",
        "      _, _, _, _, _ = trening_testsett_oppdeling_enzym(rå_data,\n",
        "                                                       trening,\n",
        "                                                       test_andel=ubenyttet_andel,\n",
        "                                                       random_seed=random_seed)\n",
        "\n",
        "  else:\n",
        "    treningssett_markert = trening_markert\n",
        "    enzymtyper_treningssett_markert = enzymtyper_markert\n",
        "\n",
        "  # n_splitt\n",
        "  n_splitt = n_splitt_enzym(rå_data, treningssett_markert)\n",
        "\n",
        "  # Modelloptimalisering, trening og evaluering av RFR, KNR og SVR\n",
        "  veiledet_modell_evaluering_1(dict_res_opt=res.dict_res_1_design_opt,\n",
        "                               dict_res=res.dict_res_1_design,\n",
        "                               treningssett_markert=treningssett_markert,\n",
        "                               enzymtyper_treningssett_markert=enzymtyper_treningssett_markert,\n",
        "                               testsett=testsett,\n",
        "                               n_splitt=n_splitt,\n",
        "                               n_gjentagelser=n_gjentagelser,\n",
        "                               n_runder=n_runder_andel,\n",
        "                               test_andel=test_andel,\n",
        "                               trenings_andel=trenings_andel,\n",
        "                               random_seed=random_seed)"
      ]
    },
    {
      "cell_type": "markdown",
      "source": [
        "Lagring av resultater"
      ],
      "metadata": {
        "id": "UL2aLu_QvRss"
      }
    },
    {
      "cell_type": "code",
      "source": [
        "res_1_design = pd.DataFrame(res.dict_res_1_design)\n",
        "res_1_design_opt = pd.DataFrame(res.dict_res_1_design_opt)\n",
        "\n",
        "res_1_design.to_csv('/content/drive/MyDrive/MasterV24/Bioco_data/Resultater/mw/mw_resultater_1_design.csv')\n",
        "res_1_design_opt.to_csv('/content/drive/MyDrive/MasterV24/Bioco_data/Resultater/mw/mw_resultater_1_design_opt.csv')"
      ],
      "metadata": {
        "id": "MriX_tBUvRss",
        "colab": {
          "base_uri": "https://localhost:8080/"
        },
        "outputId": "7cf24b7e-411c-4ac1-8454-8d6d0c049a3a"
      },
      "execution_count": null,
      "outputs": [
        {
          "output_type": "stream",
          "name": "stderr",
          "text": [
            "/usr/local/lib/python3.10/dist-packages/ipykernel/ipkernel.py:283: DeprecationWarning: `should_run_async` will not call `transform_cell` automatically in the future. Please pass the result to `transformed_cell` argument and any exception that happen during thetransform in `preprocessing_exc_tuple` in IPython 7.17 and above.\n",
            "  and should_run_async(code)\n"
          ]
        }
      ]
    },
    {
      "cell_type": "markdown",
      "source": [
        "## Alternativ 2: Hele treningssett"
      ],
      "metadata": {
        "id": "TmDsuWZqvRss"
      }
    },
    {
      "cell_type": "code",
      "source": [
        "# Definerer treningsandel\n",
        "trenings_andel = 1.0\n",
        "\n",
        "# Deler datasettet i trening og testsett\n",
        "trening_markert, testsett, _, trening\\\n",
        "= trening_testsett_oppdeling_dag(rå_data,\n",
        "                                 data_design,\n",
        "                                 test_andel=test_andel,\n",
        "                                 test_ekskluder_kalkun_kylling=True)\n",
        "\n",
        "#Oversikt over fordelingen av enzymtyper i testsett\n",
        "print(\"Enzymtyper Fordeling: Test\")\n",
        "print(enzymfordeling(rå_data, testsett))"
      ],
      "metadata": {
        "colab": {
          "base_uri": "https://localhost:8080/"
        },
        "outputId": "00dea6b6-80aa-41dd-997c-c6b626b3dde3",
        "id": "rJGO0hKGvRss"
      },
      "execution_count": null,
      "outputs": [
        {
          "output_type": "stream",
          "name": "stdout",
          "text": [
            "Enzymtyper Fordeling: Test\n",
            "            Frekvens  Andel\n",
            "EnzymeCode                 \n",
            "E                 15  22.73\n",
            "B                 13  19.70\n",
            "C                 13  19.70\n",
            "D                 12  18.18\n",
            "A2                 9  13.64\n",
            "A1                 4   6.06\n"
          ]
        }
      ]
    },
    {
      "cell_type": "code",
      "source": [
        "# Finner antall splitt etter minste antall av enzymtype\n",
        "n_splitt = n_splitt_enzym(rå_data,\n",
        "                          trening_markert)\n",
        "\n",
        "# Modelloptimalisering, trening og evaluering av RFR, KNR og SVR\n",
        "veiledet_modell_evaluering_2(dict_res_opt=res.dict_res_2_design_opt,\n",
        "                             dict_res=res.dict_res_2_design,\n",
        "                             rå_data=rå_data,\n",
        "                             treningssett_markert=trening_markert,\n",
        "                             testsett=testsett,\n",
        "                             n_splitt=n_splitt,\n",
        "                             n_runder=n_runder_hel,\n",
        "                             test_andel=test_andel,\n",
        "                             trenings_andel=trenings_andel,\n",
        "                             random_seed=random_seed)"
      ],
      "metadata": {
        "id": "jNDqUcVLvRss"
      },
      "execution_count": null,
      "outputs": []
    },
    {
      "cell_type": "markdown",
      "source": [
        "Velger beste modell"
      ],
      "metadata": {
        "id": "Fc8PDLHavRss"
      }
    },
    {
      "cell_type": "code",
      "source": [],
      "metadata": {
        "id": "uydYtqtrvRss"
      },
      "execution_count": null,
      "outputs": []
    },
    {
      "cell_type": "markdown",
      "metadata": {
        "id": "c13kQDeyvRss"
      },
      "source": [
        "## Alternativ 2: Forskjellige treningssandeler"
      ]
    },
    {
      "cell_type": "code",
      "execution_count": null,
      "metadata": {
        "colab": {
          "base_uri": "https://localhost:8080/"
        },
        "outputId": "5214cec2-67ef-4222-8c5d-c1bdfa74b5c0",
        "id": "_-mVnr7lvRst"
      },
      "outputs": [
        {
          "output_type": "stream",
          "name": "stdout",
          "text": [
            "Enzymtyper Fordeling: Treningssett markert andel: 0.2\n",
            "            Frekvens  Andel\n",
            "EnzymeCode                 \n",
            "C                 30  22.06\n",
            "D                 30  22.06\n",
            "B                 27  19.85\n",
            "E                 26  19.12\n",
            "A2                21  15.44\n",
            "A1                 2   1.47\n",
            "Enzymtyper Fordeling: Treningssett markert andel: 0.4\n",
            "            Frekvens  Andel\n",
            "EnzymeCode                 \n",
            "C                 31  21.09\n",
            "D                 31  21.09\n",
            "B                 29  19.73\n",
            "E                 28  19.05\n",
            "A2                22  14.97\n",
            "A1                 6   4.08\n",
            "Enzymtyper Fordeling: Treningssett markert andel: 0.6\n",
            "            Frekvens  Andel\n",
            "EnzymeCode                 \n",
            "E                 36  21.95\n",
            "C                 33  20.12\n",
            "D                 32  19.51\n",
            "B                 31  18.90\n",
            "A2                24  14.63\n",
            "A1                 8   4.88\n",
            "Enzymtyper Fordeling: Treningssett markert andel: 0.8\n",
            "            Frekvens  Andel\n",
            "EnzymeCode                 \n",
            "E                 48  22.54\n",
            "B                 42  19.72\n",
            "C                 42  19.72\n",
            "D                 38  17.84\n",
            "A2                31  14.55\n",
            "A1                12   5.63\n"
          ]
        }
      ],
      "source": [
        "# Går gjennom andeler av satt treningssett\n",
        "for trenings_andel in treningsandeler:\n",
        "\n",
        "  if trenings_andel < 1.0:\n",
        "\n",
        "      # Utelukker resterende andel fra trening av modell\n",
        "      ubenyttet_andel = (1.0-trenings_andel)\n",
        "\n",
        "      treningssett_markert, _, _, _\\\n",
        "      = trening_testsett_oppdeling_dag(rå_data,\n",
        "                                       trening,\n",
        "                                       test_andel=ubenyttet_andel,\n",
        "                                       test_ekskluder_kalkun_kylling=True)\n",
        "\n",
        "  else:\n",
        "    treningssett_markert = trening_markert\n",
        "\n",
        "  #Enzymfordeling\n",
        "  print(\"Enzymtyper Fordeling: Treningssett markert andel:\", trenings_andel)\n",
        "  enzym_treningssett_markert = enzymfordeling(rå_data,\n",
        "                                              treningssett_markert)\n",
        "  print(enzym_treningssett_markert)\n",
        "\n",
        "  # n_splitt\n",
        "  n_splitt = n_splitt_enzym(rå_data, treningssett_markert)\n",
        "\n",
        "  veiledet_modell_evaluering_2(dict_res_opt=res.dict_res_2_design_opt,\n",
        "                               dict_res=res.dict_res_2_design,\n",
        "                               rå_data=rå_data,\n",
        "                               treningssett_markert=treningssett_markert,\n",
        "                               testsett=testsett,\n",
        "                               n_splitt=n_splitt,\n",
        "                               n_runder=n_runder_andel,\n",
        "                               test_andel=test_andel,\n",
        "                               trenings_andel=trenings_andel,\n",
        "                               random_seed=random_seed)"
      ]
    },
    {
      "cell_type": "markdown",
      "source": [
        "Lagring av resultater"
      ],
      "metadata": {
        "id": "ZP9WbH9PvRst"
      }
    },
    {
      "cell_type": "code",
      "source": [
        "res_2_design = pd.DataFrame(res.dict_res_2_design)\n",
        "res_2_design_opt = pd.DataFrame(res.dict_res_2_design_opt)\n",
        "\n",
        "res_2_design.to_csv('/content/drive/MyDrive/MasterV24/Bioco_data/Resultater/mw/mw_resultater_2_design.csv')\n",
        "res_2_design_opt.to_csv('/content/drive/MyDrive/MasterV24/Bioco_data/Resultater/mw/mw_resultater_2_design_opt.csv')"
      ],
      "metadata": {
        "id": "ZFqw0gN1vRst"
      },
      "execution_count": null,
      "outputs": []
    },
    {
      "cell_type": "markdown",
      "metadata": {
        "id": "pnhtimdQn6n_"
      },
      "source": [
        "# NIR målinger ekskludert"
      ]
    },
    {
      "cell_type": "code",
      "execution_count": null,
      "metadata": {
        "id": "HVRjvKsSn6oM"
      },
      "outputs": [],
      "source": [
        "# Ekskluderer NIR målinger fra datasettene\n",
        "NIR_kolonner = ['NIRfat', 'NIRwater', 'NIRash']\n",
        "data_uten_NIR = data.drop(columns=NIR_kolonner)\n",
        "data_design_uten_NIR = data_design.drop(columns=NIR_kolonner)"
      ]
    },
    {
      "cell_type": "markdown",
      "metadata": {
        "id": "XHgJ8-ljwBrx"
      },
      "source": [
        "## Hele datasett"
      ]
    },
    {
      "cell_type": "markdown",
      "source": [
        "## Alternativ 1: Hele treningssett"
      ],
      "metadata": {
        "id": "55Wz8HPFwBry"
      }
    },
    {
      "cell_type": "code",
      "source": [
        "# Setter treningsandel\n",
        "trenings_andel = 1.0\n",
        "\n",
        "# Deler datasettet i trening og testsett\n",
        "trening_markert, enzymtyper_markert, testsett, _, _, _, trening\\\n",
        "= trening_testsett_oppdeling_enzym(rå_data,\n",
        "                                   data_uten_NIR,\n",
        "                                   test_andel=test_andel)\n",
        "\n",
        "# Finner antall splitt etter minste antall av enzymtype\n",
        "n_splitt = n_splitt_enzym(rå_data,\n",
        "                          trening_markert)\n",
        "\n",
        "# Modelloptimalisering, trening og evaluering av RFR, KNR og SVR\n",
        "veiledet_modell_evaluering_1(dict_res_opt=res.dict_res_1_hel_opt_NIR,\n",
        "                             dict_res=res.dict_res_1_hel_NIR,\n",
        "                             treningssett_markert=trening_markert,\n",
        "                             enzymtyper_treningssett_markert=enzymtyper_markert,\n",
        "                             testsett=testsett,\n",
        "                             n_splitt=n_splitt,\n",
        "                             n_gjentagelser=n_gjentagelser,\n",
        "                             n_runder=n_runder_hel,\n",
        "                             test_andel=test_andel,\n",
        "                             trenings_andel=trenings_andel,\n",
        "                             random_seed=random_seed)"
      ],
      "metadata": {
        "id": "pfP4WhHiwBry"
      },
      "execution_count": null,
      "outputs": []
    },
    {
      "cell_type": "markdown",
      "source": [
        "Velger beste modell"
      ],
      "metadata": {
        "id": "M2yfz44lwBry"
      }
    },
    {
      "cell_type": "code",
      "source": [],
      "metadata": {
        "id": "It4p0-gbwBry"
      },
      "execution_count": null,
      "outputs": []
    },
    {
      "cell_type": "markdown",
      "source": [
        "Resultater"
      ],
      "metadata": {
        "id": "VVZxAYadyDmM"
      }
    },
    {
      "cell_type": "code",
      "source": [
        "res_1_hel_NIR = pd.DataFrame(res.dict_res_1_hel_NIR)\n",
        "res_1_hel_opt_NIR = pd.DataFrame(res.dict_res_1_hel_opt_NIR)\n",
        "\n",
        "res_1_hel_NIR.to_csv('/content/drive/MyDrive/MasterV24/Bioco_data/Resultater/mw/mw_resultater_1_hel_NIR.csv')\n",
        "res_1_hel_opt_NIR.to_csv('/content/drive/MyDrive/MasterV24/Bioco_data/Resultater/mw/mw_resultater_1_hel_opt_NIR.csv')"
      ],
      "metadata": {
        "id": "momcQFXuyDmM"
      },
      "execution_count": null,
      "outputs": []
    },
    {
      "cell_type": "markdown",
      "source": [
        "## Alternativ 2: Hele treningssett"
      ],
      "metadata": {
        "id": "cHUmwOWKwdJ7"
      }
    },
    {
      "cell_type": "code",
      "source": [
        "# Definerer treningandel\n",
        "trenings_andel = 1.0\n",
        "\n",
        "# Deler datasettet i trening og testsett\n",
        "trening_markert, testsett, _, trening\\\n",
        "= trening_testsett_oppdeling_dag(rå_data,\n",
        "                                 data_uten_NIR,\n",
        "                                 test_andel=test_andel,\n",
        "                                 test_ekskluder_kalkun_kylling=True)\n",
        "\n",
        "# Finner antall splitt etter minste antall av enzymtype\n",
        "n_splitt = n_splitt_enzym(rå_data,\n",
        "                          trening_markert)\n",
        "\n",
        "# Modelloptimalisering, trening og evaluering av RFR, KNR og SVR\n",
        "veiledet_modell_evaluering_2(dict_res_opt=res.dict_res_2_hel_opt_NIR,\n",
        "                             dict_res=res.dict_res_2_hel_NIR,\n",
        "                             rå_data=rå_data,\n",
        "                             treningssett_markert=trening_markert,\n",
        "                             testsett=testsett,\n",
        "                             n_splitt=n_splitt,\n",
        "                             n_runder=n_runder_hel,\n",
        "                             test_andel=test_andel,\n",
        "                             trenings_andel=trenings_andel,\n",
        "                             random_seed=random_seed)"
      ],
      "metadata": {
        "id": "bEu5-hx4wdJ7"
      },
      "execution_count": null,
      "outputs": []
    },
    {
      "cell_type": "markdown",
      "source": [
        "Velger beste modell"
      ],
      "metadata": {
        "id": "nogv0Rr3wdJ8"
      }
    },
    {
      "cell_type": "code",
      "source": [],
      "metadata": {
        "id": "ATbjY5I5wdJ8"
      },
      "execution_count": null,
      "outputs": []
    },
    {
      "cell_type": "markdown",
      "source": [
        "Resultater"
      ],
      "metadata": {
        "id": "n6f4KEmfyQMb"
      }
    },
    {
      "cell_type": "code",
      "source": [
        "res_2_hel_NIR = pd.DataFrame(res.dict_res_2_hel_NIR)\n",
        "res_2_hel_opt_NIR = pd.DataFrame(res.dict_res_2_hel_opt_NIR)\n",
        "\n",
        "res_2_hel_NIR.to_csv('/content/drive/MyDrive/MasterV24/Bioco_data/Resultater/mw/mw_resultater_2_hel_NIR.csv')\n",
        "res_2_hel_opt_NIR.to_csv('/content/drive/MyDrive/MasterV24/Bioco_data/Resultater/mw/mw_resultater_2_hel_opt_NIR.csv')"
      ],
      "metadata": {
        "id": "H-mA1zLlyQMb"
      },
      "execution_count": null,
      "outputs": []
    },
    {
      "cell_type": "markdown",
      "metadata": {
        "id": "QY-5_aKaacIy"
      },
      "source": [
        "## Designproduksjon"
      ]
    },
    {
      "cell_type": "markdown",
      "source": [
        "## Alternativ 1: Hele treningssett"
      ],
      "metadata": {
        "id": "3WVuaSLywwCl"
      }
    },
    {
      "cell_type": "code",
      "source": [
        "# Setter treningsandel\n",
        "trenings_andel = 1.0\n",
        "\n",
        "\n",
        "# Deler datasettet i trening og testsett\n",
        "trening_markert, enzymtyper_markert, testsett, _, _, _, trening\\\n",
        "= trening_testsett_oppdeling_enzym(rå_data,\n",
        "                                   data_design_uten_NIR,\n",
        "                                   test_andel=test_andel)\n",
        "\n",
        "# Finner antall splitt etter minste antall av enzymtype\n",
        "n_splitt = n_splitt_enzym(rå_data,\n",
        "                          trening_markert)\n",
        "\n",
        "# Modelloptimalisering, trening og evaluering av RFR, KNR og SVR\n",
        "veiledet_modell_evaluering_1(dict_res_opt=res.dict_res_1_design_opt_NIR,\n",
        "                             dict_res=res.dict_res_1_design_NIR,\n",
        "                             treningssett_markert=trening_markert,\n",
        "                             enzymtyper_treningssett_markert=enzymtyper_markert,\n",
        "                             testsett=testsett,\n",
        "                             n_splitt=n_splitt,\n",
        "                             n_gjentagelser=n_gjentagelser,\n",
        "                             n_runder=n_runder_hel,\n",
        "                             test_andel=test_andel,\n",
        "                             trenings_andel=trenings_andel,\n",
        "                             random_seed=random_seed)"
      ],
      "metadata": {
        "id": "LmNyNnpKwwCm"
      },
      "execution_count": null,
      "outputs": []
    },
    {
      "cell_type": "markdown",
      "source": [
        "Velger beste modell"
      ],
      "metadata": {
        "id": "Uxj1aIbXwwCn"
      }
    },
    {
      "cell_type": "code",
      "source": [],
      "metadata": {
        "id": "yZro3YkFwwCn"
      },
      "execution_count": null,
      "outputs": []
    },
    {
      "cell_type": "markdown",
      "source": [
        "Resultater"
      ],
      "metadata": {
        "id": "UlAocoO4x7WX"
      }
    },
    {
      "cell_type": "code",
      "source": [
        "res_1_design_NIR = pd.DataFrame(res.dict_res_1_design_NIR)\n",
        "res_1_design_opt_NIR = pd.DataFrame(res.dict_res_1_design_opt_NIR)\n",
        "\n",
        "res_1_design_NIR.to_csv('/content/drive/MyDrive/MasterV24/Bioco_data/Resultater/mw/mw_resultater_1_design_NIR.csv')\n",
        "res_1_design_opt_NIR.to_csv('/content/drive/MyDrive/MasterV24/Bioco_data/Resultater/mw/mw_resultater_1_design_opt_NIR.csv')"
      ],
      "metadata": {
        "id": "b8VBGEkLx7WX"
      },
      "execution_count": null,
      "outputs": []
    },
    {
      "cell_type": "markdown",
      "source": [
        "## Alternativ 2: Hele treningssett"
      ],
      "metadata": {
        "id": "GIxoOIgRxAZu"
      }
    },
    {
      "cell_type": "code",
      "source": [
        "# Definerer treningsandel\n",
        "trenings_andel = 1.0\n",
        "\n",
        "# Deler datasettet i trening og testsett\n",
        "trening_markert, testsett, _, trening\\\n",
        "= trening_testsett_oppdeling_dag(rå_data,\n",
        "                                 data_design,\n",
        "                                 test_andel=test_andel,\n",
        "                                 test_ekskluder_kalkun_kylling=True)\n",
        "\n",
        "# Finner antall splitt etter minste antall av enzymtype\n",
        "n_splitt = n_splitt_enzym(rå_data,\n",
        "                          trening_markert)\n",
        "\n",
        "# Modelloptimalisering, trening og evaluering av RFR, KNR og SVR\n",
        "veiledet_modell_evaluering_2(dict_res_opt=res.dict_res_2_design_opt_NIR,\n",
        "                             dict_res=res.dict_res_2_design_NIR,\n",
        "                             rå_data=rå_data,\n",
        "                             treningssett_markert=trening_markert,\n",
        "                             testsett=testsett,\n",
        "                             n_splitt=n_splitt,\n",
        "                             n_runder=n_runder_hel,\n",
        "                             test_andel=test_andel,\n",
        "                             trenings_andel=trenings_andel,\n",
        "                             random_seed=random_seed)"
      ],
      "metadata": {
        "id": "qjpSUAxXxAZu"
      },
      "execution_count": null,
      "outputs": []
    },
    {
      "cell_type": "markdown",
      "source": [
        "Velger beste modell"
      ],
      "metadata": {
        "id": "CuxNTo4qxAZu"
      }
    },
    {
      "cell_type": "code",
      "source": [],
      "metadata": {
        "id": "Ih0NQF-HxAZv"
      },
      "execution_count": null,
      "outputs": []
    },
    {
      "cell_type": "markdown",
      "source": [
        "Resultater"
      ],
      "metadata": {
        "id": "jvEdpgjNxu2L"
      }
    },
    {
      "cell_type": "code",
      "source": [
        "res_2_design_NIR = pd.DataFrame(res.dict_res_2_design_NIR)\n",
        "res_2_design_opt_NIR = pd.DataFrame(res.dict_res_2_design_opt_NIR)\n",
        "\n",
        "res_2_design_NIR.to_csv('/content/drive/MyDrive/MasterV24/Bioco_data/Resultater/mw/mw_resultater_2_design_NIR.csv')\n",
        "res_2_design_opt_NIR.to_csv('/content/drive/MyDrive/MasterV24/Bioco_data/Resultater/mw/mw_resultater_2_design_opt_NIR.csv')"
      ],
      "metadata": {
        "id": "RyDfe6DZxryW"
      },
      "execution_count": null,
      "outputs": []
    }
  ],
  "metadata": {
    "colab": {
      "collapsed_sections": [
        "qhRMrFFHlZuX"
      ],
      "provenance": [],
      "authorship_tag": "ABX9TyOZO2/1q3yqTrKDpGE80i0B",
      "include_colab_link": true
    },
    "kernelspec": {
      "display_name": "Python 3",
      "name": "python3"
    },
    "language_info": {
      "name": "python"
    }
  },
  "nbformat": 4,
  "nbformat_minor": 0
}