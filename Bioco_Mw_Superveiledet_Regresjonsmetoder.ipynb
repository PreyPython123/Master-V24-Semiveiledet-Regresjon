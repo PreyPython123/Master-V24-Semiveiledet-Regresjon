{
  "cells": [
    {
      "cell_type": "markdown",
      "metadata": {
        "id": "view-in-github",
        "colab_type": "text"
      },
      "source": [
        "<a href=\"https://colab.research.google.com/github/PreyPython123/Master-V24-Semiveiledet-Regresjon/blob/Mw-Pradeep/Bioco_Mw_Superveiledet_Regresjonsmetoder.ipynb\" target=\"_parent\"><img src=\"https://colab.research.google.com/assets/colab-badge.svg\" alt=\"Open In Colab\"/></a>"
      ]
    },
    {
      "cell_type": "markdown",
      "metadata": {
        "id": "uPtuGVtCJOFj"
      },
      "source": [
        "# Importering, lasting og formattering"
      ]
    },
    {
      "cell_type": "markdown",
      "metadata": {
        "id": "ZNeQrag9Rlc_"
      },
      "source": [
        "Lasting av nødvendige bibliotek og pakker"
      ]
    },
    {
      "cell_type": "code",
      "execution_count": 1,
      "metadata": {
        "colab": {
          "base_uri": "https://localhost:8080/"
        },
        "id": "k5u1dZmp6cJ9",
        "outputId": "2e9d5283-216f-4966-e6b6-a30b9ffee660"
      },
      "outputs": [
        {
          "output_type": "stream",
          "name": "stdout",
          "text": [
            "Collecting optuna\n",
            "  Downloading optuna-3.6.1-py3-none-any.whl (380 kB)\n",
            "\u001b[2K     \u001b[90m━━━━━━━━━━━━━━━━━━━━━━━━━━━━━━━━━━━━━━━━\u001b[0m \u001b[32m380.1/380.1 kB\u001b[0m \u001b[31m5.8 MB/s\u001b[0m eta \u001b[36m0:00:00\u001b[0m\n",
            "\u001b[?25hCollecting alembic>=1.5.0 (from optuna)\n",
            "  Downloading alembic-1.13.1-py3-none-any.whl (233 kB)\n",
            "\u001b[2K     \u001b[90m━━━━━━━━━━━━━━━━━━━━━━━━━━━━━━━━━━━━━━━━\u001b[0m \u001b[32m233.4/233.4 kB\u001b[0m \u001b[31m9.4 MB/s\u001b[0m eta \u001b[36m0:00:00\u001b[0m\n",
            "\u001b[?25hCollecting colorlog (from optuna)\n",
            "  Downloading colorlog-6.8.2-py3-none-any.whl (11 kB)\n",
            "Requirement already satisfied: numpy in /usr/local/lib/python3.10/dist-packages (from optuna) (1.25.2)\n",
            "Requirement already satisfied: packaging>=20.0 in /usr/local/lib/python3.10/dist-packages (from optuna) (24.0)\n",
            "Requirement already satisfied: sqlalchemy>=1.3.0 in /usr/local/lib/python3.10/dist-packages (from optuna) (2.0.29)\n",
            "Requirement already satisfied: tqdm in /usr/local/lib/python3.10/dist-packages (from optuna) (4.66.2)\n",
            "Requirement already satisfied: PyYAML in /usr/local/lib/python3.10/dist-packages (from optuna) (6.0.1)\n",
            "Collecting Mako (from alembic>=1.5.0->optuna)\n",
            "  Downloading Mako-1.3.3-py3-none-any.whl (78 kB)\n",
            "\u001b[2K     \u001b[90m━━━━━━━━━━━━━━━━━━━━━━━━━━━━━━━━━━━━━━━━\u001b[0m \u001b[32m78.8/78.8 kB\u001b[0m \u001b[31m8.7 MB/s\u001b[0m eta \u001b[36m0:00:00\u001b[0m\n",
            "\u001b[?25hRequirement already satisfied: typing-extensions>=4 in /usr/local/lib/python3.10/dist-packages (from alembic>=1.5.0->optuna) (4.11.0)\n",
            "Requirement already satisfied: greenlet!=0.4.17 in /usr/local/lib/python3.10/dist-packages (from sqlalchemy>=1.3.0->optuna) (3.0.3)\n",
            "Requirement already satisfied: MarkupSafe>=0.9.2 in /usr/local/lib/python3.10/dist-packages (from Mako->alembic>=1.5.0->optuna) (2.1.5)\n",
            "Installing collected packages: Mako, colorlog, alembic, optuna\n",
            "Successfully installed Mako-1.3.3 alembic-1.13.1 colorlog-6.8.2 optuna-3.6.1\n"
          ]
        }
      ],
      "source": [
        "!pip install optuna"
      ]
    },
    {
      "cell_type": "code",
      "execution_count": 2,
      "metadata": {
        "colab": {
          "base_uri": "https://localhost:8080/"
        },
        "id": "nwEzUjnf0xLZ",
        "outputId": "f979c27d-91ed-46d9-e007-da96123234d2"
      },
      "outputs": [
        {
          "output_type": "stream",
          "name": "stdout",
          "text": [
            "Mounted at /content/drive/\n"
          ]
        }
      ],
      "source": [
        "from google.colab import drive\n",
        "drive.mount('/content/drive/')"
      ]
    },
    {
      "cell_type": "markdown",
      "metadata": {
        "id": "jT-YzIdVRply"
      },
      "source": [
        "Importering av nødvendig bibliotek og pakker"
      ]
    },
    {
      "cell_type": "code",
      "execution_count": 3,
      "metadata": {
        "id": "5_s-eJyVk3v0"
      },
      "outputs": [],
      "source": [
        "import pandas as pd\n",
        "import numpy as np\n",
        "import copy\n",
        "import math\n",
        "from statistics import mean, stdev\n",
        "\n",
        "from sklearn.preprocessing import StandardScaler\n",
        "from sklearn.model_selection import RepeatedStratifiedKFold\n",
        "from sklearn.pipeline import Pipeline"
      ]
    },
    {
      "cell_type": "code",
      "source": [
        "# Modeller\n",
        "from sklearn.ensemble import RandomForestRegressor\n",
        "from sklearn.neighbors import KNeighborsRegressor\n",
        "from sklearn.svm import SVR"
      ],
      "metadata": {
        "id": "EH3SQKCIfwnC"
      },
      "execution_count": 4,
      "outputs": []
    },
    {
      "cell_type": "code",
      "execution_count": 5,
      "metadata": {
        "id": "GrgCsoZhmayI"
      },
      "outputs": [],
      "source": [
        "# Hyperoptimalisering\n",
        "import optuna\n",
        "from optuna.visualization import plot_optimization_history\n",
        "\n",
        "# Utelukker utskriving av logg for hyperoptimalisering\n",
        "# optuna.logging.set_verbosity(optuna.logging.WARNING)"
      ]
    },
    {
      "cell_type": "markdown",
      "metadata": {
        "id": "qhRMrFFHlZuX"
      },
      "source": [
        "# Egendefinerte moduler"
      ]
    },
    {
      "cell_type": "code",
      "execution_count": 6,
      "metadata": {
        "colab": {
          "base_uri": "https://localhost:8080/"
        },
        "id": "FXgxrml5lg5B",
        "outputId": "18777d0c-2d89-4390-dc5b-235c2d8d6444"
      },
      "outputs": [
        {
          "output_type": "stream",
          "name": "stdout",
          "text": [
            "/content\n"
          ]
        }
      ],
      "source": [
        "!pwd\n",
        "! cp /content/drive/MyDrive/MasterV24/GitHub/oppdeling_trening_testsett.py /content/oppdeling_trening_testsett.py"
      ]
    },
    {
      "cell_type": "code",
      "execution_count": 7,
      "metadata": {
        "id": "tvOTDwKLf0q8"
      },
      "outputs": [],
      "source": [
        "from oppdeling_trening_testsett import trening_testsett_oppdeling_enzym\n",
        "from oppdeling_trening_testsett import trening_testsett_oppdeling_dag\n",
        "from oppdeling_trening_testsett import trening_validering_oppdeling_dag\n",
        "\n",
        "\n",
        "from oppdeling_trening_testsett import enzymfordeling"
      ]
    },
    {
      "cell_type": "code",
      "execution_count": 8,
      "metadata": {
        "colab": {
          "base_uri": "https://localhost:8080/"
        },
        "id": "JTs_zHhkiBpK",
        "outputId": "9cf24a12-d9b9-4ff5-f812-66103ee3a556"
      },
      "outputs": [
        {
          "output_type": "stream",
          "name": "stdout",
          "text": [
            "/content\n"
          ]
        }
      ],
      "source": [
        "!pwd\n",
        "! cp /content/drive/MyDrive/MasterV24/GitHub/moduler_optimalisering_evaluering_veiledet.py /content/moduler_optimalisering_evaluering_veiledet.py"
      ]
    },
    {
      "cell_type": "code",
      "execution_count": 9,
      "metadata": {
        "id": "A5GEVrXsiYd-"
      },
      "outputs": [],
      "source": [
        "from moduler_optimalisering_evaluering_veiledet import trening_rfr_enzym\n",
        "from moduler_optimalisering_evaluering_veiledet import trening_knr_enzym\n",
        "from moduler_optimalisering_evaluering_veiledet import trening_svr_enzym\n",
        "\n",
        "from moduler_optimalisering_evaluering_veiledet import trening_rfr_dag\n",
        "from moduler_optimalisering_evaluering_veiledet import trening_knr_dag\n",
        "from moduler_optimalisering_evaluering_veiledet import trening_svr_dag\n",
        "\n",
        "from moduler_optimalisering_evaluering_veiledet import veiledet_modell_evaluering_1\n",
        "from moduler_optimalisering_evaluering_veiledet import veiledet_modell_evaluering_2"
      ]
    },
    {
      "cell_type": "markdown",
      "metadata": {
        "id": "21cdLIoaSTR6"
      },
      "source": [
        "# Importering av relevant data"
      ]
    },
    {
      "cell_type": "code",
      "execution_count": 13,
      "metadata": {
        "id": "XeNQyDPZSTwY"
      },
      "outputs": [],
      "source": [
        "# Velger første kolonne med dato og tid som index\n",
        "data = pd.read_csv('/content/drive/MyDrive/MasterV24/Bioco_data/mw_data.csv',\n",
        "                            header=0,\n",
        "                            sep=',',\n",
        "                            index_col=0)\n",
        "\n",
        "# Normal produksjon\n",
        "data_normal = pd.read_csv('/content/drive/MyDrive/MasterV24/Bioco_data/mw_data_normal.csv',\n",
        "                                   header=0,\n",
        "                                   sep=',',\n",
        "                                   index_col=0)\n",
        "\n",
        "# Design produksjon\n",
        "data_design = pd.read_csv('/content/drive/MyDrive/MasterV24/Bioco_data/mw_data_design.csv',\n",
        "                                   header=0,\n",
        "                                   sep=',',\n",
        "                                   index_col=0)\n",
        "\n",
        "# Importerer rådata\n",
        "rå_data = pd.read_csv('/content/drive/MyDrive/MasterV24/BiocoData.csv',\n",
        "                      header=0,\n",
        "                      sep=';',\n",
        "                      index_col=0)\n",
        "\n",
        "# Formatterer index til riktig format og datatype\n",
        "data.index = pd.to_datetime(data.index,\n",
        "                            format='%Y-%m-%d %H:%M:%S')\n",
        "\n",
        "data_normal.index = pd.to_datetime(data_normal.index,\n",
        "                                   format='%Y-%m-%d %H:%M:%S')\n",
        "\n",
        "data_design.index = pd.to_datetime(data_design.index,\n",
        "                                   format='%Y-%m-%d %H:%M:%S')\n",
        "\n",
        "rå_data.index = pd.to_datetime(rå_data.index,\n",
        "                               format='%d-%m-%Y %H:%M:%S.%f')"
      ]
    },
    {
      "cell_type": "markdown",
      "metadata": {
        "id": "7Wl0nay5j2C4"
      },
      "source": [
        "Tilfeldighetsfrø"
      ]
    },
    {
      "cell_type": "code",
      "execution_count": 14,
      "metadata": {
        "id": "OxTGpIOmj4V7"
      },
      "outputs": [],
      "source": [
        "#Tilfeldighetsfrø\n",
        "random_seed = 123"
      ]
    },
    {
      "cell_type": "markdown",
      "metadata": {
        "id": "hPfDrou1pR0w"
      },
      "source": [
        "# Beskrivelse av datasett"
      ]
    },
    {
      "cell_type": "code",
      "execution_count": 15,
      "metadata": {
        "colab": {
          "base_uri": "https://localhost:8080/"
        },
        "id": "HsvZWJ7apQpL",
        "outputId": "90af8a06-d5f6-4a84-aea0-1242013c91de"
      },
      "outputs": [
        {
          "output_type": "stream",
          "name": "stdout",
          "text": [
            "<class 'pandas.core.frame.DataFrame'>\n",
            "DatetimeIndex: 28976 entries, 2022-10-31 17:37:00 to 2023-06-14 01:02:00\n",
            "Data columns (total 14 columns):\n",
            " #   Column         Non-Null Count  Dtype  \n",
            "---  ------         --------------  -----  \n",
            " 0   EnzymeType_A1  28976 non-null  int64  \n",
            " 1   EnzymeType_A2  28976 non-null  int64  \n",
            " 2   EnzymeType_B   28976 non-null  int64  \n",
            " 3   EnzymeType_C   28976 non-null  int64  \n",
            " 4   EnzymeType_D   28976 non-null  int64  \n",
            " 5   EnzymeType_E   28976 non-null  int64  \n",
            " 6   RawMatPercent  28976 non-null  float64\n",
            " 7   NIRfat         28976 non-null  float64\n",
            " 8   NIRash         28976 non-null  float64\n",
            " 9   NIRwater       28976 non-null  float64\n",
            " 10  TT08           28976 non-null  float64\n",
            " 11  TT20           28976 non-null  float64\n",
            " 12  TT12           28976 non-null  float64\n",
            " 13  Mw             455 non-null    float64\n",
            "dtypes: float64(8), int64(6)\n",
            "memory usage: 3.3 MB\n"
          ]
        }
      ],
      "source": [
        "data.info()"
      ]
    },
    {
      "cell_type": "code",
      "execution_count": 16,
      "metadata": {
        "colab": {
          "base_uri": "https://localhost:8080/"
        },
        "id": "PgpYbIMYghZf",
        "outputId": "b1795aa7-4a1f-4b4b-e554-f2a7e6c43cec"
      },
      "outputs": [
        {
          "output_type": "stream",
          "name": "stdout",
          "text": [
            "<class 'pandas.core.frame.DataFrame'>\n",
            "DatetimeIndex: 10466 entries, 2022-10-31 17:37:00 to 2023-06-13 23:59:00\n",
            "Data columns (total 14 columns):\n",
            " #   Column         Non-Null Count  Dtype  \n",
            "---  ------         --------------  -----  \n",
            " 0   EnzymeType_A1  10466 non-null  int64  \n",
            " 1   EnzymeType_A2  10466 non-null  int64  \n",
            " 2   EnzymeType_B   10466 non-null  int64  \n",
            " 3   EnzymeType_C   10466 non-null  int64  \n",
            " 4   EnzymeType_D   10466 non-null  int64  \n",
            " 5   EnzymeType_E   10466 non-null  int64  \n",
            " 6   RawMatPercent  10466 non-null  float64\n",
            " 7   NIRfat         10466 non-null  float64\n",
            " 8   NIRash         10466 non-null  float64\n",
            " 9   NIRwater       10466 non-null  float64\n",
            " 10  TT08           10466 non-null  float64\n",
            " 11  TT20           10466 non-null  float64\n",
            " 12  TT12           10466 non-null  float64\n",
            " 13  Mw             332 non-null    float64\n",
            "dtypes: float64(8), int64(6)\n",
            "memory usage: 1.2 MB\n"
          ]
        }
      ],
      "source": [
        "data_design.info()"
      ]
    },
    {
      "cell_type": "markdown",
      "metadata": {
        "id": "i_1rn21ITRJ4"
      },
      "source": [
        "# Lagring av resultater"
      ]
    },
    {
      "cell_type": "code",
      "execution_count": 18,
      "metadata": {
        "id": "EGIgRqWETUTx"
      },
      "outputs": [],
      "source": [
        "# Kolonner til dataframe for lagring av resultater fra opmtimalisering, trening\n",
        "# validering og testing\n",
        "\n",
        "dict_res_1_hel_test = {\"modell\": [],\n",
        "                       \"test_andel\": [],\n",
        "                       \"trening_andel\": [],\n",
        "                       \"trening_markert_antall\": [],\n",
        "                       \"tid_trening\": [],\n",
        "                       \"parametere\": [],\n",
        "                       \"RMSE_test\": [],\n",
        "                       \"R2_test\":[],\n",
        "                       \"MAE_test\":[],\n",
        "                       \"MAPE_test\":[],\n",
        "                       \"n_runder\": [],\n",
        "                       \"n_splitt\": [],\n",
        "                       \"tid_optimalisering\": []}\n",
        "\n",
        "dict_res_1_design_test = copy.deepcopy(dict_res_1_hel_test)\n",
        "dict_res_2_hel_test = copy.deepcopy(dict_res_1_hel_test)\n",
        "dict_res_2_design_test = copy.deepcopy(dict_res_1_hel_test)\n",
        "\n",
        "# Uten NIR\n",
        "dict_res_1_hel_test_NIR = copy.deepcopy(dict_res_1_hel_test)\n",
        "dict_res_1_design_test_NIR = copy.deepcopy(dict_res_1_hel_test)\n",
        "dict_res_2_hel_test_NIR = copy.deepcopy(dict_res_1_hel_test)\n",
        "dict_res_2_design_test_NIR = copy.deepcopy(dict_res_1_hel_test)\n",
        "\n",
        "\n",
        "dict_res_1_hel_trening = {\"modell\": [],\n",
        "                          \"test_andel\": [],\n",
        "                          \"trening_andel\": [],\n",
        "                          \"parametere\": [],\n",
        "                          \"n_splitt\": [],\n",
        "                          \"RMSE_val_snitt\": [],\n",
        "                          \"RMSE_val_std\": [],\n",
        "                          \"R2_val_snitt\":[],\n",
        "                          \"R2_val_std\":[],\n",
        "                          \"MAE_val_snitt\":[],\n",
        "                          \"MAE_val_std\":[],\n",
        "                          \"MAPE_val_snitt\":[],\n",
        "                          \"MAPE_val_std\":[],\n",
        "                          \"RMSE_trening_snitt\": [],\n",
        "                          \"RMSE_trening_std\": [],\n",
        "                          \"R2_trening_snitt\":[],\n",
        "                          \"R2_trening_std\":[],\n",
        "                          \"MAE_trening_snitt\":[],\n",
        "                          \"MAE_trening_std\":[],\n",
        "                          \"MAPE_trening_snitt\":[],\n",
        "                          \"MAPE_trening_std\":[],\n",
        "                          }\n",
        "\n",
        "dict_res_1_design_trening = copy.deepcopy(dict_res_1_hel_trening)\n",
        "dict_res_2_hel_trening = copy.deepcopy(dict_res_1_hel_trening)\n",
        "dict_res_2_design_trening = copy.deepcopy(dict_res_1_hel_trening)\n",
        "\n",
        "# Uten NIR\n",
        "dict_res_1_hel_trening_NIR = copy.deepcopy(dict_res_1_hel_trening)\n",
        "dict_res_1_design_trening_NIR = copy.deepcopy(dict_res_1_hel_trening)\n",
        "dict_res_2_hel_trening_NIR = copy.deepcopy(dict_res_1_hel_trening)\n",
        "dict_res_2_design_trening_NIR = copy.deepcopy(dict_res_1_hel_trening)"
      ]
    },
    {
      "cell_type": "markdown",
      "metadata": {
        "id": "76aWdlTDXp9I"
      },
      "source": [
        "# NIR målinger inkludert"
      ]
    },
    {
      "cell_type": "markdown",
      "metadata": {
        "id": "wQpsJkKShL_9"
      },
      "source": [
        "## Hele datasett"
      ]
    },
    {
      "cell_type": "markdown",
      "source": [
        "## Alternativ 1: Hele treningssett"
      ],
      "metadata": {
        "id": "RAPTeouaQcXa"
      }
    },
    {
      "cell_type": "code",
      "source": [
        "# Setter fast testandel og treningsandel\n",
        "test_andel = 0.2\n",
        "trenings_andel = 1.0\n",
        "\n",
        "\n",
        "# Deler datasettet i trening og testsett\n",
        "trening_markert, enzymtyper_markert, testsett, enzymtyper_test, \\\n",
        "trening_umarkert, enzymtyper_umarkert, trening\\\n",
        "= trening_testsett_oppdeling_enzym(rå_data,\n",
        "                                   data,\n",
        "                                   test_andel=test_andel)\n",
        "\n",
        "#Oversikt over fordelingen av enzymtyper i testsett\n",
        "print(\"Enzymtyper Fordeling: Test\")\n",
        "print(enzymfordeling(rå_data, testsett))"
      ],
      "metadata": {
        "id": "46il6J17QhFG"
      },
      "execution_count": null,
      "outputs": []
    },
    {
      "cell_type": "code",
      "source": [
        "# Antall runder til optimalisering\n",
        "n_runder = 100\n",
        "\n",
        "# Parametervalg for kryssvalidering\n",
        "splitt = 10\n",
        "gjentagelser = 10\n",
        "\n",
        "# Modelloptimalisering, trening og evaluering av RFR, KNR og SVR\n",
        "veiledet_modell_evaluering_1(test_dict_res=dict_res_1_hel_test,\n",
        "                             trening_dict_res=dict_res_1_hel_trening,\n",
        "                             treningssett_markert=trening_markert,\n",
        "                             enzymtyper_treningssett_markert=enzymtyper_markert,\n",
        "                             treningssett_umarkert=trening_umarkert,\n",
        "                             enzymtyper_treningssett_umarkert=enzymtyper_umarkert,\n",
        "                             treningssett=trening,\n",
        "                             testsett=testsett,\n",
        "                             splitt=splitt,\n",
        "                             gjentagelser=gjentagelser,\n",
        "                             n_runder=n_runder,\n",
        "                             test_andel=test_andel,\n",
        "                             trenings_andel=trenings_andel,\n",
        "                             random_seed=random_seed)"
      ],
      "metadata": {
        "id": "-1sgIF1zXb2O"
      },
      "execution_count": null,
      "outputs": []
    },
    {
      "cell_type": "markdown",
      "source": [
        "Velger beste modell"
      ],
      "metadata": {
        "id": "bwX1RP9pXiU_"
      }
    },
    {
      "cell_type": "code",
      "source": [],
      "metadata": {
        "id": "ioPAXcdFXkf7"
      },
      "execution_count": null,
      "outputs": []
    },
    {
      "cell_type": "markdown",
      "metadata": {
        "id": "lNTfChXaIZAf"
      },
      "source": [
        "## Alternativ 1: Forskjellige treningsandeler"
      ]
    },
    {
      "cell_type": "code",
      "execution_count": null,
      "metadata": {
        "colab": {
          "base_uri": "https://localhost:8080/"
        },
        "id": "jH1qpCxOIgAI",
        "outputId": "84c7cea1-6f91-4c43-e6e7-36b1d38a110e"
      },
      "outputs": [
        {
          "output_type": "stream",
          "name": "stdout",
          "text": [
            "Enzymtyper Fordeling: Test\n",
            "    Frekvens  Andel\n",
            "A2        31  34.07\n",
            "E         15  16.48\n",
            "B         14  15.38\n",
            "C         14  15.38\n",
            "D         13  14.29\n",
            "A1         4   4.40\n"
          ]
        }
      ],
      "source": [
        "# Antall runder til optimalisering\n",
        "n_runder = 50\n",
        "\n",
        "\n",
        "# Treningsandeler\n",
        "treningsandeler = [0.2, 0.4, 0.6, 0.8]\n",
        "\n",
        "# Går gjennom andeler av satt treningssett\n",
        "for trenings_andel in treningsandeler:\n",
        "\n",
        "  if trenings_andel < 1.0:\n",
        "\n",
        "      # Utelukker resterende andel fra trening av modell\n",
        "      ubenyttet_andel = (1.0-trenings_andel)\n",
        "\n",
        "      treningssett_markert, enzymtyper_treningssett_markert,\\\n",
        "      _, _, treningssett_umarkert, _, treningssett\\\n",
        "      = trening_testsett_oppdeling_enzym(rå_data,\n",
        "                                         trening,\n",
        "                                         test_andel=ubenyttet_andel,\n",
        "                                         random_seed=random_seed)\n",
        "\n",
        "  else:\n",
        "    treningssett_markert = trening_markert\n",
        "    enzymtyper_treningssett_markert = enzymtyper_markert\n",
        "    treningssett_umarkert = trening_umarkert\n",
        "    treningssett = trening\n",
        "\n",
        "  # Parameter til kryssvalidering\n",
        "  gjentagelser = 10\n",
        "\n",
        "  # Finner antall av enzymtype med minst antall\n",
        "  enzym_markert_info = enzymfordeling(rå_data, treningssett_markert)\n",
        "  enzymtype_min = enzym_markert_info['Frekvens'].min()\n",
        "\n",
        "  # Splitter etter minst antall hvis lavere enn 10. Ellers 10\n",
        "  splitt = 10 if enzymtype_min >= 10 else enzymtype_min\n",
        "\n",
        "  veiledet_modell_evaluering_1(test_dict_res=dict_res_1_hel_test,\n",
        "                              trening_dict_res=dict_res_1_hel_trening,\n",
        "                              treningssett_markert=treningssett_markert,\n",
        "                              enzymtyper_treningssett_markert=enzymtyper_treningssett_markert,\n",
        "                              treningssett_umarkert=treningssett_umarkert,\n",
        "                              enzymtyper_treningssett_umarkert=enzymtyper_umarkert,\n",
        "                              treningssett=treningssett,\n",
        "                              testsett=testsett,\n",
        "                              splitt=splitt,\n",
        "                              gjentagelser=gjentagelser,\n",
        "                              n_runder=n_runder,\n",
        "                              test_andel=test_andel,\n",
        "                              trenings_andel=trenings_andel,\n",
        "                              random_seed=random_seed)"
      ]
    },
    {
      "cell_type": "markdown",
      "source": [
        "Lagring av resultater"
      ],
      "metadata": {
        "id": "MSCewDmhgFHW"
      }
    },
    {
      "cell_type": "code",
      "source": [
        "mw_resultater_1_hel_trening = pd.DataFrame(dict_res_1_hel_trening)\n",
        "mw_resultater_1_hel_test = pd.DataFrame(dict_res_1_hel_test)\n",
        "\n",
        "mw_resultater_1_hel_trening.to_csv('/content/drive/MyDrive/MasterV24/Bioco_data/mw_resultater_1_hel_trening.csv')\n",
        "mw_resultater_1_hel_test.to_csv('/content/drive/MyDrive/MasterV24/Bioco_data/mw_resultater_1_hel_test.csv')"
      ],
      "metadata": {
        "id": "5Xw_S3MTgHgY"
      },
      "execution_count": null,
      "outputs": []
    },
    {
      "cell_type": "markdown",
      "source": [
        "## Alternativ 2: Hele treningssett"
      ],
      "metadata": {
        "id": "Vug3qjOcXxOJ"
      }
    },
    {
      "cell_type": "code",
      "source": [
        "# Definerer trenings- og testandel\n",
        "test_andel = 0.2\n",
        "trenings_andel = 1.0\n",
        "\n",
        "\n",
        "# Deler datasettet i trening og testsett\n",
        "trening_markert, testsett, trening_umarkert, trening\\\n",
        "= trening_testsett_oppdeling_dag(rå_data,\n",
        "                                 data,\n",
        "                                 test_andel=test_andel,\n",
        "                                 ekskluder_kalkun_kylling=True)\n",
        "\n",
        "#Oversikt over fordelingen av enzymtyper i testsett\n",
        "print(\"Enzymtyper Fordeling: Test\")\n",
        "print(enzymfordeling(rå_data, testsett))"
      ],
      "metadata": {
        "id": "JzADzCY1X0Zx"
      },
      "execution_count": null,
      "outputs": []
    },
    {
      "cell_type": "code",
      "source": [
        "# Parametervalg for kryssvalidering\n",
        "splitt = 10\n",
        "\n",
        "# Antall runder til optimalisering\n",
        "n_runder = 100\n",
        "\n",
        "# Modelloptimalisering, trening og evaluering av RFR, KNR og SVR\n",
        "veiledet_modell_evaluering_2(test_dict_res=dict_res_2_hel_test,\n",
        "                            trening_dict_res=dict_res_2_hel_trening,\n",
        "                            rå_data=rå_data,\n",
        "                            treningssett_markert=trening_markert,\n",
        "                            treningssett_umarkert=trening_umarkert,\n",
        "                            treningssett=trening,\n",
        "                            testsett=testsett,\n",
        "                            splitt=splitt,\n",
        "                            n_runder=n_runder,\n",
        "                            test_andel=test_andel,\n",
        "                            trenings_andel=trenings_andel,\n",
        "                            random_seed=random_seed)"
      ],
      "metadata": {
        "id": "-GW5AyE7X5Sh"
      },
      "execution_count": null,
      "outputs": []
    },
    {
      "cell_type": "markdown",
      "source": [
        "Velger beste modell"
      ],
      "metadata": {
        "id": "nEi8u82bX7Vg"
      }
    },
    {
      "cell_type": "code",
      "source": [],
      "metadata": {
        "id": "qOJEIwcyX9iw"
      },
      "execution_count": null,
      "outputs": []
    },
    {
      "cell_type": "markdown",
      "metadata": {
        "id": "8IO2r9GrkH4N"
      },
      "source": [
        "## Alternativ 2: Forskjellige treningssandeler"
      ]
    },
    {
      "cell_type": "code",
      "execution_count": null,
      "metadata": {
        "colab": {
          "base_uri": "https://localhost:8080/"
        },
        "id": "jV49bC6qkH4N",
        "outputId": "887d2392-1243-4e16-d683-262afa27023c"
      },
      "outputs": [
        {
          "output_type": "stream",
          "name": "stdout",
          "text": [
            "Enzymtyper Fordeling: Test\n",
            "    Frekvens  Andel\n",
            "A2        25  27.78\n",
            "B         16  17.78\n",
            "C         15  16.67\n",
            "E         15  16.67\n",
            "D         13  14.44\n",
            "A1         6   6.67\n"
          ]
        }
      ],
      "source": [
        "# Antall runder til optimalisering\n",
        "n_runder = 50\n",
        "\n",
        "# Treningsandeler\n",
        "trenings_andeler = [0.2, 0.4, 0.6, 0.8]\n",
        "\n",
        "# Går gjennom andeler av satt treningssett\n",
        "for trenings_andel in trenings_andeler:\n",
        "\n",
        "  if trenings_andel < 1.0:\n",
        "\n",
        "      # Utelukker resterende andel fra trening av modell\n",
        "      ubenyttet_andel = (1.0-trenings_andel)\n",
        "\n",
        "      treningssett_markert, _, treningssett_umarkert, treningssett\\\n",
        "      = trening_testsett_oppdeling_dag(rå_data,\n",
        "                                       trening,\n",
        "                                       test_andel=ubenyttet_andel,\n",
        "                                       ekskluder_kalkun_kylling=True)\n",
        "\n",
        "  else:\n",
        "    treningssett_markert = trening_markert\n",
        "    treningssett_umarkert = trening_umarkert\n",
        "    treningssett = trening\n",
        "\n",
        "  enzym_treningssett_markert = enzymfordeling(rå_data,\n",
        "                                              treningssett_markert)\n",
        "\n",
        "  print(\"Enzymtyper Fordeling: Treningssett markert andel:\", trenings_andel)\n",
        "  print(enzym_treningssett_markert)\n",
        "\n",
        "  # Finner antall av enzymtype med minst antall\n",
        "  enzymtype_min = enzym_treningssett_markert['Frekvens'].min()\n",
        "\n",
        "  # Splitter etter minst antall hvis lavere enn 10. Ellers 10\n",
        "  splitt = 10 if enzymtype_min >= 10 else enzymtype_min\n",
        "\n",
        "  veiledet_modell_evaluering_2(test_dict_res=dict_res_2_hel_test,\n",
        "                                trening_dict_res=dict_res_2_hel_trening,\n",
        "                                rå_data=rå_data,\n",
        "                                treningssett_markert=treningssett_markert,\n",
        "                                treningssett_umarkert=treningssett_umarkert,\n",
        "                                treningssett=treningssett,\n",
        "                                testsett=testsett,\n",
        "                                splitt=splitt,\n",
        "                                n_runder=n_runder,\n",
        "                                test_andel=test_andel,\n",
        "                                trenings_andel=trenings_andel,\n",
        "                                random_seed=random_seed)"
      ]
    },
    {
      "cell_type": "markdown",
      "source": [
        "Lagring av resultater"
      ],
      "metadata": {
        "id": "sCl3QEH2gcAF"
      }
    },
    {
      "cell_type": "code",
      "source": [
        "mw_resultater_2_hel_trening = pd.DataFrame(dict_res_2_hel_trening)\n",
        "mw_resultater_2_hel_test = pd.DataFrame(dict_res_2_hel_test)\n",
        "\n",
        "mw_resultater_2_hel_trening.to_csv('/content/drive/MyDrive/MasterV24/Bioco_data/mw_resultater_2_hel_trening.csv')\n",
        "mw_resultater_2_hel_test.to_csv('/content/drive/MyDrive/MasterV24/Bioco_data/mw_resultater_2_hel_test.csv')"
      ],
      "metadata": {
        "id": "vdnuKhWtgcAG"
      },
      "execution_count": null,
      "outputs": []
    },
    {
      "cell_type": "markdown",
      "metadata": {
        "id": "un6mDEGPFIHt"
      },
      "source": [
        "## Designproduksjon"
      ]
    },
    {
      "cell_type": "markdown",
      "source": [
        "## Alternativ 1: Hele treningssettet"
      ],
      "metadata": {
        "id": "q0psyx60YJs_"
      }
    },
    {
      "cell_type": "code",
      "source": [
        "# Setter fast testandel og treningsandel\n",
        "test_andel = 0.2\n",
        "trenings_andel = 1.0\n",
        "\n",
        "\n",
        "# Deler datasettet i trening og testsett\n",
        "trening_markert, enzymtyper_markert, testsett, enzymtyper_test, trening_umarkert,\\\n",
        "enzymtyper_umarkert, trening\\\n",
        "= trening_testsett_oppdeling_enzym(rå_data,\n",
        "                                   data_design,\n",
        "                                   test_andel=test_andel)\n",
        "\n",
        "#Oversikt over fordelingen av enzymtyper i testsett\n",
        "print(\"Enzymtyper Fordeling: Test\")\n",
        "print(enzymfordeling(rå_data, testsett))"
      ],
      "metadata": {
        "id": "HluFNlxSYOr-"
      },
      "execution_count": null,
      "outputs": []
    },
    {
      "cell_type": "code",
      "source": [
        "# Antall runder til optimalisering\n",
        "n_runder = 100\n",
        "\n",
        "# Parametervalg for kryssvalidering\n",
        "splitt = 10\n",
        "gjentagelser = 10\n",
        "\n",
        "\n",
        "# Modelloptimalisering, trening og evaluering av RFR, KNR og SVR\n",
        "veiledet_modell_evaluering_1(test_dict_res=dict_res_1_design_test,\n",
        "                             trening_dict_res=dict_res_1_design_trening,\n",
        "                             treningssett_markert=trening_markert,\n",
        "                             enzymtyper_treningssett_markert=enzymtyper_markert,\n",
        "                             treningssett_umarkert=trening_umarkert,\n",
        "                             enzymtyper_treningssett_umarkert=enzymtyper_umarkert,\n",
        "                             treningssett=trening,\n",
        "                             testsett=testsett,\n",
        "                             splitt=splitt,\n",
        "                             gjentagelser=gjentagelser,\n",
        "                             n_runder=n_runder,\n",
        "                             test_andel=test_andel,\n",
        "                             trenings_andel=trenings_andel,\n",
        "                             random_seed=random_seed)"
      ],
      "metadata": {
        "id": "CzUgBRVoYQhR"
      },
      "execution_count": null,
      "outputs": []
    },
    {
      "cell_type": "markdown",
      "source": [
        "Velger beste modell"
      ],
      "metadata": {
        "id": "4rwgZZzlYWyL"
      }
    },
    {
      "cell_type": "code",
      "source": [],
      "metadata": {
        "id": "VReVivuQYYZC"
      },
      "execution_count": null,
      "outputs": []
    },
    {
      "cell_type": "markdown",
      "metadata": {
        "id": "1vieNT4f6GdR"
      },
      "source": [
        "## Alternativ 1: Forskjellige treningsandeler"
      ]
    },
    {
      "cell_type": "code",
      "execution_count": null,
      "metadata": {
        "colab": {
          "base_uri": "https://localhost:8080/"
        },
        "id": "C12TzEE66GdS",
        "outputId": "4a80bb65-fb23-4322-b1c3-e72bce83fe20"
      },
      "outputs": [
        {
          "output_type": "stream",
          "name": "stdout",
          "text": [
            "Enzymtyper Fordeling: Test\n",
            "    Frekvens  Andel\n",
            "E         15  22.39\n",
            "B         13  19.40\n",
            "C         13  19.40\n",
            "D         12  17.91\n",
            "A2        10  14.93\n",
            "A1         4   5.97\n"
          ]
        }
      ],
      "source": [
        "# Antall runder til optimalisering\n",
        "n_runder = 50\n",
        "\n",
        "# Treningsandeler\n",
        "treningsandeler = [0.2, 0.4, 0.6, 0.8]\n",
        "\n",
        "# Går gjennom andeler av satt treningssett\n",
        "for trenings_andel in treningsandeler:\n",
        "\n",
        "  if trenings_andel < 1.0:\n",
        "\n",
        "      # Utelukker resterende andel fra trening av modell\n",
        "      ubenyttet_andel = (1.0-trenings_andel)\n",
        "\n",
        "      treningssett_markert, enzymtyper_treningssett_markert,\\\n",
        "      _, _, treningssett_umarkert, _, treningssett\\\n",
        "      = trening_testsett_oppdeling_enzym(rå_data,\n",
        "                                         trening,\n",
        "                                         test_andel=ubenyttet_andel,\n",
        "                                         random_seed=random_seed)\n",
        "\n",
        "  else:\n",
        "    treningssett_markert = trening_markert\n",
        "    enzymtyper_treningssett_markert = enzymtyper_markert\n",
        "    treningssett_umarkert = trening_umarkert\n",
        "    treningssett = trening\n",
        "\n",
        "  # Parameter til kryssvalidering\n",
        "  gjentagelser = 10\n",
        "\n",
        "  # Finner antall av enzymtype med minst antall\n",
        "  enzym_markert_info = enzymfordeling(rå_data, treningssett_markert)\n",
        "  enzymtype_min = enzym_markert_info['Frekvens'].min()\n",
        "\n",
        "  # Splitter etter minst antall hvis lavere enn 10. Ellers 10\n",
        "  splitt = 10 if enzymtype_min >= 10 else enzymtype_min\n",
        "\n",
        "  veiledet_modell_evaluering_1(test_dict_res=dict_res_1_design_test,\n",
        "                              trening_dict_res=dict_res_1_design_trening,\n",
        "                              treningssett_markert=treningssett_markert,\n",
        "                              enzymtyper_treningssett_markert=enzymtyper_treningssett_markert,\n",
        "                              treningssett_umarkert=treningssett_umarkert,\n",
        "                              enzymtyper_treningssett_umarkert=enzymtyper_umarkert,\n",
        "                              treningssett=treningssett,\n",
        "                              testsett=testsett,\n",
        "                              splitt=splitt,\n",
        "                              gjentagelser=gjentagelser,\n",
        "                              n_runder=n_runder,\n",
        "                              test_andel=test_andel,\n",
        "                              trenings_andel=trenings_andel,\n",
        "                              random_seed=random_seed)"
      ]
    },
    {
      "cell_type": "markdown",
      "source": [
        "Lagring av resultater"
      ],
      "metadata": {
        "id": "Q4lVn_Aogram"
      }
    },
    {
      "cell_type": "code",
      "source": [
        "mw_resultater_1_design_trening = pd.DataFrame(dict_res_1_design_trening)\n",
        "mw_resultater_1_design_test = pd.DataFrame(dict_res_1_design_test)\n",
        "\n",
        "mw_resultater_1_design_trening.to_csv('/content/drive/MyDrive/MasterV24/Bioco_data/mw_resultater_1_design_trening.csv')\n",
        "mw_resultater_1_design_test.to_csv('/content/drive/MyDrive/MasterV24/Bioco_data/mw_resultater_1_design_test.csv')"
      ],
      "metadata": {
        "id": "_nn_LnQBgran"
      },
      "execution_count": null,
      "outputs": []
    },
    {
      "cell_type": "markdown",
      "source": [
        "## Alternativ 2: Hele treningssettet"
      ],
      "metadata": {
        "id": "wtMFbtXzYg3Z"
      }
    },
    {
      "cell_type": "code",
      "source": [
        "# Definerer trenings- ogtestandel\n",
        "test_andel = 0.2\n",
        "trenings_andel = 1.0\n",
        "\n",
        "# Deler datasettet i trening og testsett\n",
        "trening_markert, testsett, trening_umarkert, trening\\\n",
        "= trening_testsett_oppdeling_dag(rå_data,\n",
        "                                 data_design,\n",
        "                                 test_andel=test_andel,\n",
        "                                 ekskluder_kalkun_kylling=True)\n",
        "\n",
        "\n",
        "#Oversikt over fordelingen av enzymtyper i testsett\n",
        "print(\"Enzymtyper Fordeling: Test\")\n",
        "print(enzymfordeling(rå_data, testsett))"
      ],
      "metadata": {
        "id": "TZJ74ErPYlvc"
      },
      "execution_count": null,
      "outputs": []
    },
    {
      "cell_type": "code",
      "source": [
        "# Antall runder til optimalisering\n",
        "n_runder = 100\n",
        "\n",
        "# Parametervalg for kryssvalidering\n",
        "splitt = 10\n",
        "\n",
        "# Modelloptimalisering, trening og evaluering av RFR, KNR og SVR\n",
        "veiledet_modell_evaluering_2(test_dict_res=dict_res_2_design_test,\n",
        "                                trening_dict_res=dict_res_2_design_trening,\n",
        "                                rå_data=rå_data,\n",
        "                                treningssett_markert=trening_markert,\n",
        "                                treningssett_umarkert=trening_umarkert,\n",
        "                                treningssett=trening,\n",
        "                                testsett=testsett,\n",
        "                                splitt=splitt,\n",
        "                                n_runder=n_runder,\n",
        "                                test_andel=test_andel,\n",
        "                                trenings_andel=trenings_andel,\n",
        "                                random_seed=random_seed)"
      ],
      "metadata": {
        "id": "DgBu0bCgYqJT"
      },
      "execution_count": null,
      "outputs": []
    },
    {
      "cell_type": "markdown",
      "source": [
        "Velger beste modell"
      ],
      "metadata": {
        "id": "cWod9CnoYr31"
      }
    },
    {
      "cell_type": "code",
      "source": [],
      "metadata": {
        "id": "-z4DTEWLYtuh"
      },
      "execution_count": null,
      "outputs": []
    },
    {
      "cell_type": "markdown",
      "metadata": {
        "id": "tzEXmSrI6QHS"
      },
      "source": [
        "## Alternativ 2: Forskjellige treningssandeler"
      ]
    },
    {
      "cell_type": "code",
      "execution_count": null,
      "metadata": {
        "colab": {
          "base_uri": "https://localhost:8080/"
        },
        "id": "F0BrO4dS6QHT",
        "outputId": "160b4531-ed1c-4809-f08d-bcd7dd007288"
      },
      "outputs": [
        {
          "output_type": "stream",
          "name": "stdout",
          "text": [
            "Enzymtyper Fordeling: Test\n",
            "    Frekvens  Andel\n",
            "E         15  22.73\n",
            "B         13  19.70\n",
            "C         13  19.70\n",
            "D         12  18.18\n",
            "A2         9  13.64\n",
            "A1         4   6.06\n"
          ]
        }
      ],
      "source": [
        "# Antall runder til optimalisering\n",
        "n_runder = 50\n",
        "\n",
        "# Treningsandeler\n",
        "trenings_andeler = [0.2, 0.4, 0.6, 0.8]\n",
        "\n",
        "# Går gjennom andeler av satt treningssett\n",
        "for trenings_andel in trenings_andeler:\n",
        "\n",
        "  if trenings_andel < 1.0:\n",
        "\n",
        "      # Utelukker resterende andel fra trening av modell\n",
        "      ubenyttet_andel = (1.0-trenings_andel)\n",
        "\n",
        "      treningssett_markert, _, treningssett_umarkert, treningssett\\\n",
        "      = trening_testsett_oppdeling_dag(rå_data,\n",
        "                                       trening,\n",
        "                                       test_andel=ubenyttet_andel,\n",
        "                                       ekskluder_kalkun_kylling=True)\n",
        "\n",
        "  else:\n",
        "    treningssett_markert = trening_markert\n",
        "    treningssett_umarkert = trening_umarkert\n",
        "    treningssett = trening\n",
        "\n",
        "  enzym_treningssett_markert = enzymfordeling(rå_data,\n",
        "                                              treningssett_markert)\n",
        "\n",
        "  print(\"Enzymtyper Fordeling: Treningssett markert andel:\", trenings_andel)\n",
        "  print(enzym_treningssett_markert)\n",
        "\n",
        "  # Finner antall av enzymtype med minst antall\n",
        "  enzymtype_min = enzym_treningssett_markert['Frekvens'].min()\n",
        "\n",
        "  # Splitter etter minst antall hvis lavere enn 10. Ellers 10\n",
        "  splitt = 10 if enzymtype_min >= 10 else enzymtype_min\n",
        "\n",
        "  veiledet_modell_evaluering_2(test_dict_res=dict_res_2_design_test,\n",
        "                                trening_dict_res=dict_res_2_design_trening,\n",
        "                                rå_data=rå_data,\n",
        "                                treningssett_markert=treningssett_markert,\n",
        "                                treningssett_umarkert=treningssett_umarkert,\n",
        "                                treningssett=treningssett,\n",
        "                                testsett=testsett,\n",
        "                                splitt=splitt,\n",
        "                                n_runder=n_runder,\n",
        "                                test_andel=test_andel,\n",
        "                                trenings_andel=trenings_andel,\n",
        "                                random_seed=random_seed)"
      ]
    },
    {
      "cell_type": "markdown",
      "source": [
        "Lagring av resultater"
      ],
      "metadata": {
        "id": "W3TQNwCZhG4w"
      }
    },
    {
      "cell_type": "code",
      "source": [
        "mw_resultater_2_design_trening = pd.DataFrame(dict_res_2_design_trening)\n",
        "mw_resultater_2_design_test = pd.DataFrame(dict_res_2_design_test)\n",
        "\n",
        "mw_resultater_2_design_trening.to_csv('/content/drive/MyDrive/MasterV24/Bioco_data/mw_resultater_2_design_trening.csv')\n",
        "mw_resultater_2_design_test.to_csv('/content/drive/MyDrive/MasterV24/Bioco_data/mw_resultater_2_design_test.csv')"
      ],
      "metadata": {
        "id": "DZu0ZilUhG4x"
      },
      "execution_count": null,
      "outputs": []
    },
    {
      "cell_type": "markdown",
      "metadata": {
        "id": "pnhtimdQn6n_"
      },
      "source": [
        "# NIR målinger ekskludert"
      ]
    },
    {
      "cell_type": "code",
      "execution_count": 19,
      "metadata": {
        "id": "HVRjvKsSn6oM"
      },
      "outputs": [],
      "source": [
        "# Ekskluderer NIR målinger fra datasettene\n",
        "NIR_kolonner = ['NIRfat', 'NIRwater', 'NIRash']\n",
        "data_uten_NIR = data.drop(columns=NIR_kolonner)\n",
        "data_design_uten_NIR = data_design.drop(columns=NIR_kolonner)"
      ]
    },
    {
      "cell_type": "markdown",
      "metadata": {
        "id": "V7JH3CFOh_qc"
      },
      "source": [
        "## Hele datasett"
      ]
    },
    {
      "cell_type": "markdown",
      "source": [
        "## Alternativ 1: Hele treningssett"
      ],
      "metadata": {
        "id": "YqSO-EhOaSg8"
      }
    },
    {
      "cell_type": "code",
      "source": [
        "# Setter fast testandel og treningsandel\n",
        "test_andel = 0.2\n",
        "trenings_andel = 1.0\n",
        "\n",
        "\n",
        "# Deler datasettet i trening og testsett\n",
        "trening_markert, enzymtyper_markert, testsett, enzymtyper_test, \\\n",
        "trening_umarkert, enzymtyper_umarkert, trening\\\n",
        "= trening_testsett_oppdeling_enzym(rå_data,\n",
        "                                   data_uten_NIR,\n",
        "                                   test_andel=test_andel)\n",
        "\n",
        "#Oversikt over fordelingen av enzymtyper i testsett\n",
        "print(\"Enzymtyper Fordeling: Test\")\n",
        "print(enzymfordeling(rå_data, testsett))"
      ],
      "metadata": {
        "colab": {
          "base_uri": "https://localhost:8080/"
        },
        "id": "vMVmqF1CaShG",
        "outputId": "2a4114ec-4a19-4bb9-86e4-c801b8828d7c"
      },
      "execution_count": 20,
      "outputs": [
        {
          "output_type": "stream",
          "name": "stdout",
          "text": [
            "Enzymtyper Fordeling: Test\n",
            "            Frekvens  Andel\n",
            "EnzymeCode                 \n",
            "A2                31  34.07\n",
            "E                 15  16.48\n",
            "B                 14  15.38\n",
            "C                 14  15.38\n",
            "D                 13  14.29\n",
            "A1                 4   4.40\n"
          ]
        }
      ]
    },
    {
      "cell_type": "code",
      "source": [
        "# Antall runder til optimalisering\n",
        "n_runder = 100\n",
        "\n",
        "# Parametervalg for kryssvalidering\n",
        "splitt = 10\n",
        "gjentagelser = 10\n",
        "\n",
        "# Modelloptimalisering, trening og evaluering av RFR, KNR og SVR\n",
        "veiledet_modell_evaluering_1(test_dict_res=dict_res_1_hel_test_NIR,\n",
        "                             trening_dict_res=dict_res_1_hel_trening_NIR,\n",
        "                             treningssett_markert=trening_markert,\n",
        "                             enzymtyper_treningssett_markert=enzymtyper_markert,\n",
        "                             treningssett_umarkert=trening_umarkert,\n",
        "                             enzymtyper_treningssett_umarkert=enzymtyper_umarkert,\n",
        "                             treningssett=trening,\n",
        "                             testsett=testsett,\n",
        "                             splitt=splitt,\n",
        "                             gjentagelser=gjentagelser,\n",
        "                             n_runder=n_runder,\n",
        "                             test_andel=test_andel,\n",
        "                             trenings_andel=trenings_andel,\n",
        "                             random_seed=random_seed)"
      ],
      "metadata": {
        "colab": {
          "base_uri": "https://localhost:8080/"
        },
        "id": "QxzVRwzKaShG",
        "outputId": "00c92abc-932c-42d7-8f67-70e817235b1e"
      },
      "execution_count": 21,
      "outputs": [
        {
          "output_type": "stream",
          "name": "stderr",
          "text": [
            "[I 2024-04-15 20:36:02,297] A new study created in memory with name: no-name-7064d42e-eba7-4075-b3b3-ea47318749e8\n",
            "[I 2024-04-15 20:36:06,545] Trial 0 finished with value: 869.9265831940542 and parameters: {'n_estimators': 493, 'criterion': 'friedman_mse', 'max_depth': 15, 'min_samples_leaf': 3, 'max_features': 0.5170424905316815}. Best is trial 0 with value: 869.9265831940542.\n",
            "[I 2024-04-15 20:36:09,431] Trial 2 finished with value: 1226.662628802649 and parameters: {'n_estimators': 595, 'criterion': 'squared_error', 'max_depth': 2, 'min_samples_leaf': 3, 'max_features': 0.5182616010122896}. Best is trial 0 with value: 869.9265831940542.\n",
            "[I 2024-04-15 20:36:10,350] Trial 1 finished with value: 940.115937778626 and parameters: {'n_estimators': 984, 'criterion': 'squared_error', 'max_depth': 4, 'min_samples_leaf': 2, 'max_features': 0.6452999547188153}. Best is trial 0 with value: 869.9265831940542.\n",
            "[I 2024-04-15 20:36:12,601] Trial 3 finished with value: 922.2407584022706 and parameters: {'n_estimators': 417, 'criterion': 'squared_error', 'max_depth': 27, 'min_samples_leaf': 4, 'max_features': 0.926001584540447}. Best is trial 0 with value: 869.9265831940542.\n",
            "[I 2024-04-15 20:36:14,711] Trial 4 finished with value: 875.8956392861277 and parameters: {'n_estimators': 728, 'criterion': 'squared_error', 'max_depth': 22, 'min_samples_leaf': 2, 'max_features': 0.31691355472826144}. Best is trial 0 with value: 869.9265831940542.\n",
            "[I 2024-04-15 20:36:15,027] Trial 5 finished with value: 877.9905692291752 and parameters: {'n_estimators': 415, 'criterion': 'squared_error', 'max_depth': 15, 'min_samples_leaf': 2, 'max_features': 0.39570062735339706}. Best is trial 0 with value: 869.9265831940542.\n",
            "[I 2024-04-15 20:36:15,568] Trial 6 finished with value: 875.75526503222 and parameters: {'n_estimators': 122, 'criterion': 'squared_error', 'max_depth': 22, 'min_samples_leaf': 3, 'max_features': 0.6966582142096517}. Best is trial 0 with value: 869.9265831940542.\n",
            "[I 2024-04-15 20:36:16,282] Trial 7 finished with value: 962.3758875574292 and parameters: {'n_estimators': 264, 'criterion': 'friedman_mse', 'max_depth': 4, 'min_samples_leaf': 3, 'max_features': 0.9714659158787762}. Best is trial 0 with value: 869.9265831940542.\n",
            "[I 2024-04-15 20:36:17,033] Trial 9 finished with value: 1042.7428730306058 and parameters: {'n_estimators': 212, 'criterion': 'squared_error', 'max_depth': 3, 'min_samples_leaf': 3, 'max_features': 0.5779924741220627}. Best is trial 0 with value: 869.9265831940542.\n",
            "[I 2024-04-15 20:36:18,065] Trial 8 finished with value: 895.0668494613412 and parameters: {'n_estimators': 167, 'criterion': 'absolute_error', 'max_depth': 25, 'min_samples_leaf': 2, 'max_features': 0.8046336293112639}. Best is trial 0 with value: 869.9265831940542.\n",
            "[I 2024-04-15 20:36:19,352] A new study created in memory with name: no-name-f2ff83d9-2bbb-4c51-bd6d-5b0dab11c428\n",
            "[I 2024-04-15 20:36:19,412] Trial 0 finished with value: 976.8546909443793 and parameters: {'n_neighbors': 13, 'weights': 'uniform', 'p': 2}. Best is trial 0 with value: 976.8546909443793.\n",
            "[I 2024-04-15 20:36:19,454] Trial 1 finished with value: 1002.9571561780745 and parameters: {'n_neighbors': 12, 'weights': 'uniform', 'p': 4}. Best is trial 0 with value: 976.8546909443793.\n",
            "[I 2024-04-15 20:36:19,520] Trial 2 finished with value: 1003.2643547762485 and parameters: {'n_neighbors': 4, 'weights': 'distance', 'p': 9}. Best is trial 0 with value: 976.8546909443793.\n",
            "[I 2024-04-15 20:36:19,532] Trial 3 finished with value: 962.7381050906736 and parameters: {'n_neighbors': 10, 'weights': 'uniform', 'p': 1}. Best is trial 3 with value: 962.7381050906736.\n",
            "[I 2024-04-15 20:36:19,616] Trial 4 finished with value: 951.0519488049142 and parameters: {'n_neighbors': 10, 'weights': 'distance', 'p': 4}. Best is trial 4 with value: 951.0519488049142.\n",
            "[I 2024-04-15 20:36:19,618] Trial 5 finished with value: 1041.2646042343881 and parameters: {'n_neighbors': 5, 'weights': 'uniform', 'p': 9}. Best is trial 4 with value: 951.0519488049142.\n",
            "[I 2024-04-15 20:36:19,673] Trial 6 finished with value: 980.9528506487105 and parameters: {'n_neighbors': 15, 'weights': 'uniform', 'p': 1}. Best is trial 4 with value: 951.0519488049142.\n",
            "[I 2024-04-15 20:36:19,680] Trial 7 finished with value: 920.7605792017425 and parameters: {'n_neighbors': 8, 'weights': 'distance', 'p': 1}. Best is trial 7 with value: 920.7605792017425.\n",
            "[I 2024-04-15 20:36:19,763] Trial 9 finished with value: 947.0253113972166 and parameters: {'n_neighbors': 7, 'weights': 'distance', 'p': 2}. Best is trial 7 with value: 920.7605792017425.\n",
            "[I 2024-04-15 20:36:19,765] Trial 8 finished with value: 992.163485686997 and parameters: {'n_neighbors': 14, 'weights': 'distance', 'p': 10}. Best is trial 7 with value: 920.7605792017425.\n",
            "[I 2024-04-15 20:36:19,805] A new study created in memory with name: no-name-d6ca80b2-992d-427b-b9fd-ba7fc7dd71d3\n",
            "[I 2024-04-15 20:36:19,884] Trial 0 finished with value: 1033.6136725783608 and parameters: {'kernel': 'linear', 'degree': 19, 'gamma': 'auto', 'C': 62.98753290169633, 'epsilon': 6.527901437618498}. Best is trial 0 with value: 1033.6136725783608.\n",
            "[I 2024-04-15 20:36:19,911] Trial 1 finished with value: 5589.968727395504 and parameters: {'kernel': 'poly', 'degree': 18, 'gamma': 'auto', 'C': 9.21937885149669, 'epsilon': 71.85722052415069}. Best is trial 0 with value: 1033.6136725783608.\n",
            "[I 2024-04-15 20:36:19,997] Trial 2 finished with value: 2627.3221073820014 and parameters: {'kernel': 'poly', 'degree': 14, 'gamma': 'auto', 'C': 80.89930274864591, 'epsilon': 72.24574133633651}. Best is trial 0 with value: 1033.6136725783608.\n",
            "[I 2024-04-15 20:36:20,047] Trial 3 finished with value: 17550.314314894258 and parameters: {'kernel': 'poly', 'degree': 19, 'gamma': 'auto', 'C': 69.63235593152802, 'epsilon': 39.29917985554141}. Best is trial 0 with value: 1033.6136725783608.\n",
            "[I 2024-04-15 20:36:20,099] Trial 4 finished with value: 1457.328311234248 and parameters: {'kernel': 'rbf', 'degree': 1, 'gamma': 'auto', 'C': 92.13451530536734, 'epsilon': 10.54174523432718}. Best is trial 0 with value: 1033.6136725783608.\n",
            "[I 2024-04-15 20:36:20,138] Trial 5 finished with value: 1031.422194127817 and parameters: {'kernel': 'linear', 'degree': 4, 'gamma': 'scale', 'C': 68.83717386761356, 'epsilon': 61.50009747333183}. Best is trial 5 with value: 1031.422194127817.\n",
            "[I 2024-04-15 20:36:20,185] Trial 6 finished with value: 2219.257526107438 and parameters: {'kernel': 'rbf', 'degree': 4, 'gamma': 'scale', 'C': 18.855302915383596, 'epsilon': 1.152998516990824}. Best is trial 5 with value: 1031.422194127817.\n",
            "[I 2024-04-15 20:36:20,234] Trial 7 finished with value: 2361.409284416639 and parameters: {'kernel': 'rbf', 'degree': 8, 'gamma': 'scale', 'C': 8.393914966664118, 'epsilon': 36.82012003042057}. Best is trial 5 with value: 1031.422194127817.\n",
            "[I 2024-04-15 20:36:20,273] Trial 8 finished with value: 1033.0133323351854 and parameters: {'kernel': 'linear', 'degree': 2, 'gamma': 'auto', 'C': 70.80151764626319, 'epsilon': 29.801993334759562}. Best is trial 5 with value: 1031.422194127817.\n",
            "[I 2024-04-15 20:36:20,297] Trial 9 finished with value: 1034.2572026325663 and parameters: {'kernel': 'linear', 'degree': 13, 'gamma': 'scale', 'C': 97.75547902092264, 'epsilon': 18.910838114152053}. Best is trial 5 with value: 1031.422194127817.\n"
          ]
        }
      ]
    },
    {
      "cell_type": "markdown",
      "source": [
        "Velger beste modell"
      ],
      "metadata": {
        "id": "vNCdCj21aShG"
      }
    },
    {
      "cell_type": "code",
      "source": [],
      "metadata": {
        "id": "DY7Mpe1FaShG"
      },
      "execution_count": null,
      "outputs": []
    },
    {
      "cell_type": "markdown",
      "source": [
        "## Alternativ 2: Hele treningssett"
      ],
      "metadata": {
        "id": "IOJP5q3_aWH2"
      }
    },
    {
      "cell_type": "code",
      "source": [
        "# Definerer trenings- ogtestandel\n",
        "trenings_andel = 1.0\n",
        "test_andel = 0.2\n",
        "\n",
        "# Deler datasettet i trening og testsett\n",
        "trening_markert, testsett, trening_umarkert, trening\\\n",
        "= trening_testsett_oppdeling_dag(rå_data,\n",
        "                                 data_uten_NIR,\n",
        "                                 test_andel=test_andel,\n",
        "                                 ekskluder_kalkun_kylling=True)\n",
        "\n",
        "#Oversikt over fordelingen av enzymtyper i testsett\n",
        "print(\"Enzymtyper Fordeling: Test\")\n",
        "print(enzymfordeling(rå_data, testsett))"
      ],
      "metadata": {
        "id": "GcVZPOHFaWH3"
      },
      "execution_count": null,
      "outputs": []
    },
    {
      "cell_type": "code",
      "source": [
        "# Parametervalg for kryssvalidering\n",
        "splitt = 10\n",
        "\n",
        "# Antall runder til optimalisering\n",
        "n_runder = 100\n",
        "\n",
        "# Modelloptimalisering, trening og evaluering av RFR, KNR og SVR\n",
        "veiledet_modell_evaluering_2(test_dict_res=dict_res_2_hel_test_NIR,\n",
        "                            trening_dict_res=dict_res_2_hel_trening_NIR,\n",
        "                            rå_data=rå_data,\n",
        "                            treningssett_markert=trening_markert,\n",
        "                            treningssett_umarkert=trening_umarkert,\n",
        "                            treningssett=trening,\n",
        "                            testsett=testsett,\n",
        "                            splitt=splitt,\n",
        "                            n_runder=n_runder,\n",
        "                            test_andel=test_andel,\n",
        "                            trenings_andel=trenings_andel,\n",
        "                            random_seed=random_seed)"
      ],
      "metadata": {
        "id": "S577oARwaWH3"
      },
      "execution_count": null,
      "outputs": []
    },
    {
      "cell_type": "markdown",
      "source": [
        "Velger beste modell"
      ],
      "metadata": {
        "id": "-_BjKdALaWH3"
      }
    },
    {
      "cell_type": "code",
      "source": [],
      "metadata": {
        "id": "80DRfahGaWH3"
      },
      "execution_count": null,
      "outputs": []
    },
    {
      "cell_type": "markdown",
      "metadata": {
        "id": "QY-5_aKaacIy"
      },
      "source": [
        "## Designproduksjon"
      ]
    },
    {
      "cell_type": "markdown",
      "source": [
        "## Alternativ 1: Hele treningssettet"
      ],
      "metadata": {
        "id": "Wy2Ku-wAacIz"
      }
    },
    {
      "cell_type": "code",
      "source": [
        "# Setter fast testandel og treningsandel\n",
        "test_andel = 0.2\n",
        "trenings_andel = 1.0\n",
        "\n",
        "\n",
        "# Deler datasettet i trening og testsett\n",
        "trening_markert, enzymtyper_markert, testsett, enzymtyper_test, trening_umarkert,\\\n",
        "enzymtyper_umarkert, trening\\\n",
        "= trening_testsett_oppdeling_enzym(rå_data,\n",
        "                                   data_design_uten_NIR,\n",
        "                                   test_andel=test_andel)\n",
        "\n",
        "#Oversikt over fordelingen av enzymtyper i testsett\n",
        "print(\"Enzymtyper Fordeling: Test\")\n",
        "print(enzymfordeling(rå_data, testsett))"
      ],
      "metadata": {
        "id": "EBuoC7V_acIz"
      },
      "execution_count": null,
      "outputs": []
    },
    {
      "cell_type": "code",
      "source": [
        "# Antall runder til optimalisering\n",
        "n_runder = 100\n",
        "\n",
        "# Parametervalg for kryssvalidering\n",
        "splitt = 10\n",
        "gjentagelser = 10\n",
        "\n",
        "\n",
        "# Modelloptimalisering, trening og evaluering av RFR, KNR og SVR\n",
        "veiledet_modell_evaluering_1(test_dict_res=dict_res_1_design_test_NIR,\n",
        "                             trening_dict_res=dict_res_1_design_trening_NIR,\n",
        "                             treningssett_markert=trening_markert,\n",
        "                             enzymtyper_treningssett_markert=enzymtyper_markert,\n",
        "                             treningssett_umarkert=trening_umarkert,\n",
        "                             enzymtyper_treningssett_umarkert=enzymtyper_umarkert,\n",
        "                             treningssett=trening,\n",
        "                             testsett=testsett,\n",
        "                             splitt=splitt,\n",
        "                             gjentagelser=gjentagelser,\n",
        "                             n_runder=n_runder,\n",
        "                             test_andel=test_andel,\n",
        "                             trenings_andel=trenings_andel,\n",
        "                             random_seed=random_seed)"
      ],
      "metadata": {
        "id": "uxR9XRgracIz"
      },
      "execution_count": null,
      "outputs": []
    },
    {
      "cell_type": "markdown",
      "source": [
        "Velger beste modell"
      ],
      "metadata": {
        "id": "wsTRmjbXacIz"
      }
    },
    {
      "cell_type": "code",
      "source": [],
      "metadata": {
        "id": "SH0AmyojacIz"
      },
      "execution_count": null,
      "outputs": []
    },
    {
      "cell_type": "code",
      "source": [],
      "metadata": {
        "id": "vxNpUyFYafdy"
      },
      "execution_count": null,
      "outputs": []
    },
    {
      "cell_type": "markdown",
      "source": [
        "## Alternativ 2: Hele treningssettet"
      ],
      "metadata": {
        "id": "6NY_RLIGafof"
      }
    },
    {
      "cell_type": "code",
      "source": [
        "# Definerer trenings- ogtestandel\n",
        "trenings_andel = 1.0\n",
        "test_andel = 0.2\n",
        "\n",
        "# Deler datasettet i trening og testsett\n",
        "trening_markert, testsett, trening_umarkert, trening\\\n",
        "= trening_testsett_oppdeling_dag(rå_data,\n",
        "                                 data_design_uten_NIR,\n",
        "                                 test_andel=test_andel,\n",
        "                                 ekskluder_kalkun_kylling=True)\n",
        "\n",
        "\n",
        "#Oversikt over fordelingen av enzymtyper i testsett\n",
        "print(\"Enzymtyper Fordeling: Test\")\n",
        "print(enzymfordeling(rå_data, testsett))"
      ],
      "metadata": {
        "id": "OT45Bvfqafog"
      },
      "execution_count": null,
      "outputs": []
    },
    {
      "cell_type": "code",
      "source": [
        "# Antall runder til optimalisering\n",
        "n_runder = 100\n",
        "\n",
        "# Parametervalg for kryssvalidering\n",
        "splitt = 10\n",
        "\n",
        "# Modelloptimalisering, trening og evaluering av RFR, KNR og SVR\n",
        "veiledet_modell_evaluering_2(test_dict_res=dict_res_2_design_test_NIR,\n",
        "                                trening_dict_res=dict_res_2_design_trening_NIR,\n",
        "                                rå_data=rå_data,\n",
        "                                treningssett_markert=trening_markert,\n",
        "                                treningssett_umarkert=trening_umarkert,\n",
        "                                treningssett=trening,\n",
        "                                testsett=testsett,\n",
        "                                splitt=splitt,\n",
        "                                n_runder=n_runder,\n",
        "                                test_andel=test_andel,\n",
        "                                trenings_andel=trenings_andel,\n",
        "                                random_seed=random_seed)"
      ],
      "metadata": {
        "id": "oISaAkX9afog"
      },
      "execution_count": null,
      "outputs": []
    },
    {
      "cell_type": "markdown",
      "source": [
        "Velger beste modell"
      ],
      "metadata": {
        "id": "3BRp-arXafog"
      }
    },
    {
      "cell_type": "code",
      "source": [],
      "metadata": {
        "id": "d_fSkoCzafog"
      },
      "execution_count": null,
      "outputs": []
    },
    {
      "cell_type": "markdown",
      "source": [
        "## Resultater"
      ],
      "metadata": {
        "id": "5n10B-afapyR"
      }
    },
    {
      "cell_type": "markdown",
      "source": [
        "### Trening og valideringsresultater"
      ],
      "metadata": {
        "id": "m6GuKFy2bd2Q"
      }
    },
    {
      "cell_type": "code",
      "source": [
        "mw_resultater_1_hel_trening_NIR = pd.DataFrame(dict_res_1_hel_trening_NIR)\n",
        "mw_resultater_2_hel_trening_NIR  = pd.DataFrame(dict_res_2_hel_trening_NIR)\n",
        "mw_resultater_1_design_trening_NIR   = pd.DataFrame(dict_res_1_design_trening_NIR)\n",
        "mw_resultater_2_design_trening_NIR   = pd.DataFrame(dict_res_1_design_trening_NIR)"
      ],
      "metadata": {
        "id": "viBn2mVBbd2R"
      },
      "execution_count": null,
      "outputs": []
    },
    {
      "cell_type": "markdown",
      "source": [
        "### Testresultater"
      ],
      "metadata": {
        "id": "i6XS8lWUbd2R"
      }
    },
    {
      "cell_type": "code",
      "source": [
        "mw_resultater_1_hel_test_NIR = pd.DataFrame(dict_res_1_hel_test_NIR)\n",
        "mw_resultater_2_hel_test_NIR  = pd.DataFrame(dict_res_2_hel_test_NIR)\n",
        "mw_resultater_1_design_test_NIR  = pd.DataFrame(dict_res_1_design_test_NIR)\n",
        "mw_resultater_2_design_test_NIR = pd.DataFrame(dict_res_1_design_test_NIR)"
      ],
      "metadata": {
        "id": "tDyNo6Xsbd2R"
      },
      "execution_count": null,
      "outputs": []
    },
    {
      "cell_type": "markdown",
      "source": [
        "### Lagring av resultater"
      ],
      "metadata": {
        "id": "zwlPUluSbd2R"
      }
    },
    {
      "cell_type": "code",
      "source": [
        "mw_resultater_1_hel_trening_NIR.to_csv('/content/drive/MyDrive/MasterV24/Bioco_data/mw_resultater_1_hel_trening_NIR.csv')\n",
        "mw_resultater_2_hel_trening_NIR.to_csv('/content/drive/MyDrive/MasterV24/Bioco_data/mw_resultater_2_hel_trening_NIR.csv')\n",
        "\n",
        "mw_resultater_1_design_trening_NIR.to_csv('/content/drive/MyDrive/MasterV24/Bioco_data/mw_resultater_1_design_trening_NIR.csv')\n",
        "mw_resultater_2_design_trening_NIR.to_csv('/content/drive/MyDrive/MasterV24/Bioco_data/mw_resultater_2_design_trening_NIR.csv')\n",
        "\n",
        "mw_resultater_1_hel_test_NIR.to_csv('/content/drive/MyDrive/MasterV24/Bioco_data/mw_resultater_1_hel_test_NIR.csv')\n",
        "mw_resultater_2_hel_test_NIR.to_csv('/content/drive/MyDrive/MasterV24/Bioco_data/mw_resultater_2_hel_test_NIR.csv')\n",
        "\n",
        "mw_resultater_1_design_test_NIR.to_csv('/content/drive/MyDrive/MasterV24/Bioco_data/mw_resultater_1_design_test_NIR.csv')\n",
        "mw_resultater_2_design_test_NIR.to_csv('/content/drive/MyDrive/MasterV24/Bioco_data/mw_resultater_2_design_test_NIR.csv')"
      ],
      "metadata": {
        "id": "QAiEoqFObd2R"
      },
      "execution_count": null,
      "outputs": []
    }
  ],
  "metadata": {
    "colab": {
      "collapsed_sections": [
        "uPtuGVtCJOFj",
        "qhRMrFFHlZuX",
        "21cdLIoaSTR6",
        "hPfDrou1pR0w",
        "i_1rn21ITRJ4",
        "RAPTeouaQcXa",
        "lNTfChXaIZAf",
        "Vug3qjOcXxOJ",
        "8IO2r9GrkH4N",
        "q0psyx60YJs_",
        "1vieNT4f6GdR",
        "wtMFbtXzYg3Z",
        "tzEXmSrI6QHS",
        "pnhtimdQn6n_",
        "YqSO-EhOaSg8",
        "IOJP5q3_aWH2",
        "Wy2Ku-wAacIz",
        "6NY_RLIGafof"
      ],
      "provenance": [],
      "authorship_tag": "ABX9TyNxRSK9jPGgZl2YEkfqQP6U",
      "include_colab_link": true
    },
    "kernelspec": {
      "display_name": "Python 3",
      "name": "python3"
    },
    "language_info": {
      "name": "python"
    }
  },
  "nbformat": 4,
  "nbformat_minor": 0
}