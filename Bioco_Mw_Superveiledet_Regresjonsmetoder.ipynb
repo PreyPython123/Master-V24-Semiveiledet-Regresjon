{
  "nbformat": 4,
  "nbformat_minor": 0,
  "metadata": {
    "colab": {
      "provenance": [],
      "collapsed_sections": [
        "yNN1h11QTJ2y",
        "-Cr-DTtVGSFg",
        "fdHrJ1gKYZwi",
        "2v80N6Milqq3",
        "cIgUu1qErjKz",
        "dLSfOULUYDrI",
        "7fNbYkUGYyFd",
        "w6UQIf_cY3T4",
        "m374LGKNbLii"
      ],
      "authorship_tag": "ABX9TyPprukqj0feQuqp6hqGGdTy",
      "include_colab_link": true
    },
    "kernelspec": {
      "name": "python3",
      "display_name": "Python 3"
    },
    "language_info": {
      "name": "python"
    }
  },
  "cells": [
    {
      "cell_type": "markdown",
      "metadata": {
        "id": "view-in-github",
        "colab_type": "text"
      },
      "source": [
        "<a href=\"https://colab.research.google.com/github/PreyPython123/Master-V24-Semiveiledet-Regresjon/blob/Mw-Pradeep/Bioco_Mw_Superveiledet_Regresjonsmetoder.ipynb\" target=\"_parent\"><img src=\"https://colab.research.google.com/assets/colab-badge.svg\" alt=\"Open In Colab\"/></a>"
      ]
    },
    {
      "cell_type": "markdown",
      "source": [
        "Lasting av nødvendige bibliotek og pakker"
      ],
      "metadata": {
        "id": "ZNeQrag9Rlc_"
      }
    },
    {
      "cell_type": "code",
      "execution_count": null,
      "metadata": {
        "id": "k5u1dZmp6cJ9",
        "colab": {
          "base_uri": "https://localhost:8080/"
        },
        "outputId": "3dddf50c-2f85-488f-f59c-be215b66d910"
      },
      "outputs": [
        {
          "output_type": "stream",
          "name": "stdout",
          "text": [
            "Collecting optuna\n",
            "  Downloading optuna-3.5.0-py3-none-any.whl (413 kB)\n",
            "\u001b[2K     \u001b[90m━━━━━━━━━━━━━━━━━━━━━━━━━━━━━━━━━━━━━━━━\u001b[0m \u001b[32m413.4/413.4 kB\u001b[0m \u001b[31m3.3 MB/s\u001b[0m eta \u001b[36m0:00:00\u001b[0m\n",
            "\u001b[?25hCollecting alembic>=1.5.0 (from optuna)\n",
            "  Downloading alembic-1.13.1-py3-none-any.whl (233 kB)\n",
            "\u001b[2K     \u001b[90m━━━━━━━━━━━━━━━━━━━━━━━━━━━━━━━━━━━━━━━━\u001b[0m \u001b[32m233.4/233.4 kB\u001b[0m \u001b[31m18.7 MB/s\u001b[0m eta \u001b[36m0:00:00\u001b[0m\n",
            "\u001b[?25hCollecting colorlog (from optuna)\n",
            "  Downloading colorlog-6.8.2-py3-none-any.whl (11 kB)\n",
            "Requirement already satisfied: numpy in /usr/local/lib/python3.10/dist-packages (from optuna) (1.23.5)\n",
            "Requirement already satisfied: packaging>=20.0 in /usr/local/lib/python3.10/dist-packages (from optuna) (23.2)\n",
            "Requirement already satisfied: sqlalchemy>=1.3.0 in /usr/local/lib/python3.10/dist-packages (from optuna) (2.0.25)\n",
            "Requirement already satisfied: tqdm in /usr/local/lib/python3.10/dist-packages (from optuna) (4.66.1)\n",
            "Requirement already satisfied: PyYAML in /usr/local/lib/python3.10/dist-packages (from optuna) (6.0.1)\n",
            "Collecting Mako (from alembic>=1.5.0->optuna)\n",
            "  Downloading Mako-1.3.2-py3-none-any.whl (78 kB)\n",
            "\u001b[2K     \u001b[90m━━━━━━━━━━━━━━━━━━━━━━━━━━━━━━━━━━━━━━━━\u001b[0m \u001b[32m78.7/78.7 kB\u001b[0m \u001b[31m8.8 MB/s\u001b[0m eta \u001b[36m0:00:00\u001b[0m\n",
            "\u001b[?25hRequirement already satisfied: typing-extensions>=4 in /usr/local/lib/python3.10/dist-packages (from alembic>=1.5.0->optuna) (4.9.0)\n",
            "Requirement already satisfied: greenlet!=0.4.17 in /usr/local/lib/python3.10/dist-packages (from sqlalchemy>=1.3.0->optuna) (3.0.3)\n",
            "Requirement already satisfied: MarkupSafe>=0.9.2 in /usr/local/lib/python3.10/dist-packages (from Mako->alembic>=1.5.0->optuna) (2.1.5)\n",
            "Installing collected packages: Mako, colorlog, alembic, optuna\n",
            "Successfully installed Mako-1.3.2 alembic-1.13.1 colorlog-6.8.2 optuna-3.5.0\n"
          ]
        }
      ],
      "source": [
        "!pip install optuna"
      ]
    },
    {
      "cell_type": "markdown",
      "source": [
        "Importering av nødvendig bibliotek og pakker"
      ],
      "metadata": {
        "id": "jT-YzIdVRply"
      }
    },
    {
      "cell_type": "code",
      "source": [
        "import pandas as pd\n",
        "import numpy as np\n",
        "\n",
        "from sklearn.model_selection import train_test_split\n",
        "from sklearn.pipeline import Pipeline\n",
        "from sklearn.preprocessing import StandardScaler\n",
        "\n",
        "from sklearn.ensemble import RandomForestRegressor\n",
        "\n",
        "from sklearn.metrics import mean_squared_error, r2_score\n",
        "\n",
        "import optuna\n",
        "from optuna.visualization import plot_optimization_history"
      ],
      "metadata": {
        "id": "DmFSuK8ARtBg"
      },
      "execution_count": null,
      "outputs": []
    },
    {
      "cell_type": "markdown",
      "source": [
        "Importering av relevant data"
      ],
      "metadata": {
        "id": "21cdLIoaSTR6"
      }
    },
    {
      "cell_type": "code",
      "source": [
        "from google.colab import drive\n",
        "drive.mount('/content/drive')\n",
        "\n",
        "# Velger første kolonne med dato og tid som index\n",
        "mw_data = pd.read_csv('/content/drive/MyDrive/MasterV24/Bioco_data/mw_data.csv',\n",
        "                      header=0,\n",
        "                      sep=',',\n",
        "                      index_col=0)\n",
        "\n",
        "# Formatterer index til riktig format og datatype\n",
        "mw_data.index = pd.to_datetime(mw_data.index,\n",
        "                               format='%Y-%m-%d %H:%M:%S')"
      ],
      "metadata": {
        "colab": {
          "base_uri": "https://localhost:8080/"
        },
        "id": "XeNQyDPZSTwY",
        "outputId": "b684412b-b6fd-4c95-969f-2c2e68bd1e15"
      },
      "execution_count": null,
      "outputs": [
        {
          "output_type": "stream",
          "name": "stdout",
          "text": [
            "Mounted at /content/drive\n"
          ]
        }
      ]
    },
    {
      "cell_type": "markdown",
      "source": [
        "Tilfeldighetsfrø"
      ],
      "metadata": {
        "id": "i9JVDeFmJjYx"
      }
    },
    {
      "cell_type": "code",
      "source": [
        "random_seed = 123"
      ],
      "metadata": {
        "id": "82M3qR_4JlL9"
      },
      "execution_count": null,
      "outputs": []
    },
    {
      "cell_type": "markdown",
      "source": [
        "Beskrivelse av datasett"
      ],
      "metadata": {
        "id": "hPfDrou1pR0w"
      }
    },
    {
      "cell_type": "code",
      "source": [
        "mw_data.info()"
      ],
      "metadata": {
        "colab": {
          "base_uri": "https://localhost:8080/"
        },
        "id": "HsvZWJ7apQpL",
        "outputId": "244b5293-b73f-4bfb-c5de-ce2a5254e651"
      },
      "execution_count": null,
      "outputs": [
        {
          "output_type": "stream",
          "name": "stdout",
          "text": [
            "<class 'pandas.core.frame.DataFrame'>\n",
            "DatetimeIndex: 29136 entries, 2022-10-31 17:37:00 to 2023-06-14 01:06:00\n",
            "Data columns (total 17 columns):\n",
            " #   Column         Non-Null Count  Dtype  \n",
            "---  ------         --------------  -----  \n",
            " 0   EnzymeType_A1  29136 non-null  int64  \n",
            " 1   EnzymeType_A2  29136 non-null  int64  \n",
            " 2   EnzymeType_B   29136 non-null  int64  \n",
            " 3   EnzymeType_C   29136 non-null  int64  \n",
            " 4   EnzymeType_D   29136 non-null  int64  \n",
            " 5   EnzymeType_E   29136 non-null  int64  \n",
            " 6   RawMatFlow     29136 non-null  float64\n",
            " 7   NIRfat         29136 non-null  float64\n",
            " 8   NIRash         29136 non-null  float64\n",
            " 9   NIRwater       29136 non-null  float64\n",
            " 10  TT07           29136 non-null  float64\n",
            " 11  TT08           29136 non-null  float64\n",
            " 12  PT03           29136 non-null  float64\n",
            " 13  TT20           29136 non-null  float64\n",
            " 14  TT09           29136 non-null  float64\n",
            " 15  TT12           29136 non-null  float64\n",
            " 16  Mw             460 non-null    float64\n",
            "dtypes: float64(11), int64(6)\n",
            "memory usage: 4.0 MB\n"
          ]
        }
      ]
    },
    {
      "cell_type": "markdown",
      "source": [
        "# Oppdeling av datasett for trening og testing"
      ],
      "metadata": {
        "id": "yNN1h11QTJ2y"
      }
    },
    {
      "cell_type": "markdown",
      "source": [
        "### Alternativ 1: Fordelt på Enzymtyper"
      ],
      "metadata": {
        "id": "-Cr-DTtVGSFg"
      }
    },
    {
      "cell_type": "code",
      "source": [
        " def oppdeling_alternativ_1(df, test_size=0.2, random_seed=123):\n",
        "\n",
        "  # Responsvariabel\n",
        "  responsvariabel = df.columns[-1]\n",
        "\n",
        "  # Deler opp markert og umarkert del av datasettet\n",
        "  data_markert = df.dropna(subset=[responsvariabel])\n",
        "  data_umarkert = df[df[responsvariabel].isna()]\n",
        "\n",
        "  # Legger til kategorisk variabel for enzymtype til fordeling av datsettet\n",
        "  data_markert['EnzymType'] = data_markert.filter(like='EnzymeType_').idxmax(axis=1).str.split('_').str[1].astype('category')\n",
        "\n",
        "  # Splitter datasett i dataasett og kategorisk enzymtype\n",
        "  enzymetypes = data_markert['EnzymType']\n",
        "  data_markert.drop(columns=['EnzymType'], inplace=True)\n",
        "\n",
        "  # Splitter trening og testdata etter enzymtype\n",
        "  trening_markert, test_markert, _, _ = train_test_split(data_markert,\n",
        "                                                          enzymetypes,\n",
        "                                                          test_size=test_size,\n",
        "                                                          stratify=enzymetypes,\n",
        "                                                          random_state=random_seed)\n",
        "\n",
        "  # Definerer trening og testsett for data\n",
        "  testdata = test_markert\n",
        "\n",
        "  felles_indeks = df.index.intersection(testdata.index)\n",
        "  treningsdata = df.drop(felles_indeks)\n",
        "\n",
        "  return treningsdata, testdata"
      ],
      "metadata": {
        "id": "STtYA9MoIcop"
      },
      "execution_count": null,
      "outputs": []
    },
    {
      "cell_type": "markdown",
      "source": [
        "# NIR målinger inkludert"
      ],
      "metadata": {
        "id": "fdHrJ1gKYZwi"
      }
    },
    {
      "cell_type": "markdown",
      "source": [
        "## Oppdeling av trening og testsett"
      ],
      "metadata": {
        "id": "cueYcgRtlmR4"
      }
    },
    {
      "cell_type": "markdown",
      "source": [
        "### Alternativ 1: Fordelt på Enzymtype"
      ],
      "metadata": {
        "id": "2v80N6Milqq3"
      }
    },
    {
      "cell_type": "code",
      "source": [
        "mw_trening, mw_test = oppdeling_alternativ_1(mw_data)\n",
        "mw_trening_markert = mw_trening.dropna(subset=[\"Mw\"])"
      ],
      "metadata": {
        "colab": {
          "base_uri": "https://localhost:8080/"
        },
        "id": "jovL3AV6TM6H",
        "outputId": "231eefc9-c602-4503-f77a-696fbb7b8dc4"
      },
      "execution_count": null,
      "outputs": [
        {
          "output_type": "stream",
          "name": "stderr",
          "text": [
            "<ipython-input-6-e7454339f6c4>:11: SettingWithCopyWarning: \n",
            "A value is trying to be set on a copy of a slice from a DataFrame.\n",
            "Try using .loc[row_indexer,col_indexer] = value instead\n",
            "\n",
            "See the caveats in the documentation: https://pandas.pydata.org/pandas-docs/stable/user_guide/indexing.html#returning-a-view-versus-a-copy\n",
            "  data_markert['EnzymType'] = data_markert.filter(like='EnzymeType_').idxmax(axis=1).str.split('_').str[1].astype('category')\n",
            "<ipython-input-6-e7454339f6c4>:15: SettingWithCopyWarning: \n",
            "A value is trying to be set on a copy of a slice from a DataFrame\n",
            "\n",
            "See the caveats in the documentation: https://pandas.pydata.org/pandas-docs/stable/user_guide/indexing.html#returning-a-view-versus-a-copy\n",
            "  data_markert.drop(columns=['EnzymType'], inplace=True)\n"
          ]
        }
      ]
    },
    {
      "cell_type": "code",
      "source": [
        "X_trening = mw_trening_markert.iloc[:, :-1]\n",
        "X_test = mw_test.iloc[:, :-1]\n",
        "y_trening = mw_trening_markert.iloc[:, -1]\n",
        "y_test = mw_test.iloc[:, -1]"
      ],
      "metadata": {
        "id": "88AGfs0wIsKa"
      },
      "execution_count": null,
      "outputs": []
    },
    {
      "cell_type": "markdown",
      "source": [
        "## RandomForestRegressor"
      ],
      "metadata": {
        "id": "cIgUu1qErjKz"
      }
    },
    {
      "cell_type": "markdown",
      "source": [
        "Hyperparamter optimalisering med Optuna"
      ],
      "metadata": {
        "id": "2Ds0DtmgRRlv"
      }
    },
    {
      "cell_type": "code",
      "source": [
        "def objective(trial):\n",
        "  parametere = {\n",
        "      'n_estimators': trial.suggest_int('n_estimators', 100, 200),\n",
        "      'max_depth': trial.suggest_int('max_depth', 1, 10)\n",
        "  }\n",
        "  rf_pipeline = Pipeline([\n",
        "      ('skalerer', StandardScaler()),\n",
        "      ('modell', RandomForestRegressor(**parametere, random_state=random_seed))\n",
        "  ])\n",
        "\n",
        "  rf_pipeline.fit(X_trening, y_trening)\n",
        "  y_test_prediksjon = rf_pipeline.predict(X_test)\n",
        "\n",
        "  mse_test = mean_squared_error(y_test, y_test_prediksjon)\n",
        "\n",
        "  return mse_test\n",
        "\n",
        "if __name__ == \"__main__\":\n",
        "  study = optuna.create_study(direction='minimize')\n",
        "  study.optimize(objective, n_trials=100)\n",
        "\n",
        "plot_optimization_history(study)"
      ],
      "metadata": {
        "colab": {
          "base_uri": "https://localhost:8080/",
          "height": 1000
        },
        "id": "Gr_wm-oNRVZ3",
        "outputId": "ae577b88-3086-462f-d86b-63d2506454e9"
      },
      "execution_count": null,
      "outputs": [
        {
          "output_type": "stream",
          "name": "stderr",
          "text": [
            "[I 2024-02-08 15:46:42,170] A new study created in memory with name: no-name-edad19dc-53c4-4b2e-b431-41ec71c8a125\n",
            "[I 2024-02-08 15:46:42,454] Trial 0 finished with value: 344322.7978575765 and parameters: {'n_estimators': 103, 'max_depth': 6}. Best is trial 0 with value: 344322.7978575765.\n",
            "[I 2024-02-08 15:46:42,956] Trial 1 finished with value: 343126.0461370651 and parameters: {'n_estimators': 169, 'max_depth': 6}. Best is trial 1 with value: 343126.0461370651.\n",
            "[I 2024-02-08 15:46:43,365] Trial 2 finished with value: 321392.49997396057 and parameters: {'n_estimators': 133, 'max_depth': 7}. Best is trial 2 with value: 321392.49997396057.\n",
            "[I 2024-02-08 15:46:43,697] Trial 3 finished with value: 3043913.5425365805 and parameters: {'n_estimators': 180, 'max_depth': 1}. Best is trial 2 with value: 321392.49997396057.\n",
            "[I 2024-02-08 15:46:44,341] Trial 4 finished with value: 309619.08692332206 and parameters: {'n_estimators': 168, 'max_depth': 10}. Best is trial 4 with value: 309619.08692332206.\n",
            "[I 2024-02-08 15:46:45,087] Trial 5 finished with value: 320975.375130376 and parameters: {'n_estimators': 162, 'max_depth': 7}. Best is trial 4 with value: 309619.08692332206.\n",
            "[I 2024-02-08 15:46:45,757] Trial 6 finished with value: 997824.322722558 and parameters: {'n_estimators': 197, 'max_depth': 3}. Best is trial 4 with value: 309619.08692332206.\n",
            "[I 2024-02-08 15:46:46,245] Trial 7 finished with value: 325899.9169077946 and parameters: {'n_estimators': 112, 'max_depth': 7}. Best is trial 4 with value: 309619.08692332206.\n",
            "[I 2024-02-08 15:46:46,790] Trial 8 finished with value: 454761.4289522861 and parameters: {'n_estimators': 138, 'max_depth': 5}. Best is trial 4 with value: 309619.08692332206.\n",
            "[I 2024-02-08 15:46:47,409] Trial 9 finished with value: 343404.78891187324 and parameters: {'n_estimators': 144, 'max_depth': 6}. Best is trial 4 with value: 309619.08692332206.\n",
            "[I 2024-02-08 15:46:48,287] Trial 10 finished with value: 314229.60101624223 and parameters: {'n_estimators': 199, 'max_depth': 10}. Best is trial 4 with value: 309619.08692332206.\n",
            "[I 2024-02-08 15:46:48,942] Trial 11 finished with value: 316278.5371587902 and parameters: {'n_estimators': 191, 'max_depth': 10}. Best is trial 4 with value: 309619.08692332206.\n",
            "[I 2024-02-08 15:46:49,529] Trial 12 finished with value: 314239.1235146457 and parameters: {'n_estimators': 177, 'max_depth': 10}. Best is trial 4 with value: 309619.08692332206.\n",
            "[I 2024-02-08 15:46:50,062] Trial 13 finished with value: 308028.2455850166 and parameters: {'n_estimators': 156, 'max_depth': 9}. Best is trial 13 with value: 308028.2455850166.\n",
            "[I 2024-02-08 15:46:50,577] Trial 14 finished with value: 308636.15257300925 and parameters: {'n_estimators': 158, 'max_depth': 9}. Best is trial 13 with value: 308028.2455850166.\n",
            "[I 2024-02-08 15:46:51,065] Trial 15 finished with value: 313532.11268384533 and parameters: {'n_estimators': 152, 'max_depth': 8}. Best is trial 13 with value: 308028.2455850166.\n",
            "[I 2024-02-08 15:46:51,477] Trial 16 finished with value: 313671.93849218136 and parameters: {'n_estimators': 130, 'max_depth': 8}. Best is trial 13 with value: 308028.2455850166.\n",
            "[I 2024-02-08 15:46:51,996] Trial 17 finished with value: 308931.18792065576 and parameters: {'n_estimators': 155, 'max_depth': 9}. Best is trial 13 with value: 308028.2455850166.\n",
            "[I 2024-02-08 15:46:52,433] Trial 18 finished with value: 622794.2849578145 and parameters: {'n_estimators': 125, 'max_depth': 4}. Best is trial 13 with value: 308028.2455850166.\n",
            "[I 2024-02-08 15:46:52,900] Trial 19 finished with value: 314557.407357451 and parameters: {'n_estimators': 148, 'max_depth': 8}. Best is trial 13 with value: 308028.2455850166.\n",
            "[I 2024-02-08 15:46:53,301] Trial 20 finished with value: 305388.6210703502 and parameters: {'n_estimators': 118, 'max_depth': 9}. Best is trial 20 with value: 305388.6210703502.\n",
            "[I 2024-02-08 15:46:53,682] Trial 21 finished with value: 305533.03391153226 and parameters: {'n_estimators': 120, 'max_depth': 9}. Best is trial 20 with value: 305388.6210703502.\n",
            "[I 2024-02-08 15:46:54,085] Trial 22 finished with value: 304150.56270906975 and parameters: {'n_estimators': 119, 'max_depth': 9}. Best is trial 22 with value: 304150.56270906975.\n",
            "[I 2024-02-08 15:46:54,491] Trial 23 finished with value: 305388.6210703502 and parameters: {'n_estimators': 118, 'max_depth': 9}. Best is trial 22 with value: 304150.56270906975.\n",
            "[I 2024-02-08 15:46:54,840] Trial 24 finished with value: 314665.0777724868 and parameters: {'n_estimators': 112, 'max_depth': 8}. Best is trial 22 with value: 304150.56270906975.\n",
            "[I 2024-02-08 15:46:55,233] Trial 25 finished with value: 307486.9497016523 and parameters: {'n_estimators': 116, 'max_depth': 9}. Best is trial 22 with value: 304150.56270906975.\n",
            "[I 2024-02-08 15:46:55,429] Trial 26 finished with value: 3045325.4976056255 and parameters: {'n_estimators': 107, 'max_depth': 1}. Best is trial 22 with value: 304150.56270906975.\n",
            "[I 2024-02-08 15:46:55,807] Trial 27 finished with value: 325014.8765733368 and parameters: {'n_estimators': 123, 'max_depth': 7}. Best is trial 22 with value: 304150.56270906975.\n",
            "[I 2024-02-08 15:46:56,139] Trial 28 finished with value: 311208.1423566644 and parameters: {'n_estimators': 100, 'max_depth': 8}. Best is trial 22 with value: 304150.56270906975.\n",
            "[I 2024-02-08 15:46:56,426] Trial 29 finished with value: 454409.95474805374 and parameters: {'n_estimators': 106, 'max_depth': 5}. Best is trial 22 with value: 304150.56270906975.\n",
            "[I 2024-02-08 15:46:56,731] Trial 30 finished with value: 1000139.7733841173 and parameters: {'n_estimators': 139, 'max_depth': 3}. Best is trial 22 with value: 304150.56270906975.\n",
            "[I 2024-02-08 15:46:57,136] Trial 31 finished with value: 305533.03391153226 and parameters: {'n_estimators': 120, 'max_depth': 9}. Best is trial 22 with value: 304150.56270906975.\n",
            "[I 2024-02-08 15:46:57,572] Trial 32 finished with value: 307529.59969253076 and parameters: {'n_estimators': 128, 'max_depth': 9}. Best is trial 22 with value: 304150.56270906975.\n",
            "[I 2024-02-08 15:46:58,014] Trial 33 finished with value: 306201.78135352326 and parameters: {'n_estimators': 118, 'max_depth': 10}. Best is trial 22 with value: 304150.56270906975.\n",
            "[I 2024-02-08 15:46:58,686] Trial 34 finished with value: 311286.72260892094 and parameters: {'n_estimators': 134, 'max_depth': 8}. Best is trial 22 with value: 304150.56270906975.\n",
            "[I 2024-02-08 15:46:59,186] Trial 35 finished with value: 347151.49510799965 and parameters: {'n_estimators': 112, 'max_depth': 6}. Best is trial 22 with value: 304150.56270906975.\n",
            "[I 2024-02-08 15:46:59,685] Trial 36 finished with value: 322187.3537648368 and parameters: {'n_estimators': 105, 'max_depth': 7}. Best is trial 22 with value: 304150.56270906975.\n",
            "[I 2024-02-08 15:47:00,358] Trial 37 finished with value: 309527.6985484689 and parameters: {'n_estimators': 123, 'max_depth': 10}. Best is trial 22 with value: 304150.56270906975.\n",
            "[I 2024-02-08 15:47:00,965] Trial 38 finished with value: 308505.59449460683 and parameters: {'n_estimators': 115, 'max_depth': 9}. Best is trial 22 with value: 304150.56270906975.\n",
            "[I 2024-02-08 15:47:01,607] Trial 39 finished with value: 321982.8139845493 and parameters: {'n_estimators': 135, 'max_depth': 7}. Best is trial 22 with value: 304150.56270906975.\n",
            "[I 2024-02-08 15:47:02,116] Trial 40 finished with value: 309570.13953979575 and parameters: {'n_estimators': 143, 'max_depth': 10}. Best is trial 22 with value: 304150.56270906975.\n",
            "[I 2024-02-08 15:47:02,528] Trial 41 finished with value: 307385.05098710366 and parameters: {'n_estimators': 121, 'max_depth': 9}. Best is trial 22 with value: 304150.56270906975.\n",
            "[I 2024-02-08 15:47:03,245] Trial 42 finished with value: 308116.67457745085 and parameters: {'n_estimators': 129, 'max_depth': 9}. Best is trial 22 with value: 304150.56270906975.\n",
            "[I 2024-02-08 15:47:03,924] Trial 43 finished with value: 310367.4906339178 and parameters: {'n_estimators': 119, 'max_depth': 8}. Best is trial 22 with value: 304150.56270906975.\n",
            "[I 2024-02-08 15:47:04,297] Trial 44 finished with value: 309766.64163502393 and parameters: {'n_estimators': 110, 'max_depth': 10}. Best is trial 22 with value: 304150.56270906975.\n",
            "[I 2024-02-08 15:47:04,892] Trial 45 finished with value: 304950.2634513802 and parameters: {'n_estimators': 100, 'max_depth': 9}. Best is trial 22 with value: 304150.56270906975.\n",
            "[I 2024-02-08 15:47:05,231] Trial 46 finished with value: 313383.3827721557 and parameters: {'n_estimators': 108, 'max_depth': 8}. Best is trial 22 with value: 304150.56270906975.\n",
            "[I 2024-02-08 15:47:05,586] Trial 47 finished with value: 305432.6628305344 and parameters: {'n_estimators': 101, 'max_depth': 9}. Best is trial 22 with value: 304150.56270906975.\n",
            "[I 2024-02-08 15:47:05,936] Trial 48 finished with value: 308062.5265806778 and parameters: {'n_estimators': 103, 'max_depth': 10}. Best is trial 22 with value: 304150.56270906975.\n",
            "[I 2024-02-08 15:47:06,227] Trial 49 finished with value: 342897.74417455104 and parameters: {'n_estimators': 101, 'max_depth': 6}. Best is trial 22 with value: 304150.56270906975.\n",
            "[I 2024-02-08 15:47:06,596] Trial 50 finished with value: 326252.06027275475 and parameters: {'n_estimators': 113, 'max_depth': 7}. Best is trial 22 with value: 304150.56270906975.\n",
            "[I 2024-02-08 15:47:07,013] Trial 51 finished with value: 307714.1216559129 and parameters: {'n_estimators': 126, 'max_depth': 9}. Best is trial 22 with value: 304150.56270906975.\n",
            "[I 2024-02-08 15:47:07,370] Trial 52 finished with value: 306382.78342924756 and parameters: {'n_estimators': 108, 'max_depth': 9}. Best is trial 22 with value: 304150.56270906975.\n",
            "[I 2024-02-08 15:47:07,789] Trial 53 finished with value: 308389.4461408217 and parameters: {'n_estimators': 116, 'max_depth': 10}. Best is trial 22 with value: 304150.56270906975.\n",
            "[I 2024-02-08 15:47:08,120] Trial 54 finished with value: 311208.1423566644 and parameters: {'n_estimators': 100, 'max_depth': 8}. Best is trial 22 with value: 304150.56270906975.\n",
            "[I 2024-02-08 15:47:08,472] Trial 55 finished with value: 305956.6552031433 and parameters: {'n_estimators': 104, 'max_depth': 9}. Best is trial 22 with value: 304150.56270906975.\n",
            "[I 2024-02-08 15:47:08,863] Trial 56 finished with value: 308358.3333979859 and parameters: {'n_estimators': 109, 'max_depth': 10}. Best is trial 22 with value: 304150.56270906975.\n",
            "[I 2024-02-08 15:47:09,402] Trial 57 finished with value: 314540.0851305172 and parameters: {'n_estimators': 171, 'max_depth': 8}. Best is trial 22 with value: 304150.56270906975.\n",
            "[I 2024-02-08 15:47:09,851] Trial 58 finished with value: 307797.25104488584 and parameters: {'n_estimators': 130, 'max_depth': 9}. Best is trial 22 with value: 304150.56270906975.\n",
            "[I 2024-02-08 15:47:10,085] Trial 59 finished with value: 1541805.9597379242 and parameters: {'n_estimators': 116, 'max_depth': 2}. Best is trial 22 with value: 304150.56270906975.\n",
            "[I 2024-02-08 15:47:10,495] Trial 60 finished with value: 307209.08298765036 and parameters: {'n_estimators': 124, 'max_depth': 9}. Best is trial 22 with value: 304150.56270906975.\n",
            "[I 2024-02-08 15:47:10,906] Trial 61 finished with value: 304150.56270906975 and parameters: {'n_estimators': 119, 'max_depth': 9}. Best is trial 22 with value: 304150.56270906975.\n",
            "[I 2024-02-08 15:47:11,259] Trial 62 finished with value: 316184.3645391638 and parameters: {'n_estimators': 111, 'max_depth': 8}. Best is trial 22 with value: 304150.56270906975.\n",
            "[I 2024-02-08 15:47:11,683] Trial 63 finished with value: 307385.05098710366 and parameters: {'n_estimators': 121, 'max_depth': 9}. Best is trial 22 with value: 304150.56270906975.\n",
            "[I 2024-02-08 15:47:12,436] Trial 64 finished with value: 308492.5987471779 and parameters: {'n_estimators': 138, 'max_depth': 10}. Best is trial 22 with value: 304150.56270906975.\n",
            "[I 2024-02-08 15:47:13,095] Trial 65 finished with value: 312193.1003212134 and parameters: {'n_estimators': 132, 'max_depth': 8}. Best is trial 22 with value: 304150.56270906975.\n",
            "[I 2024-02-08 15:47:13,621] Trial 66 finished with value: 306727.0924672053 and parameters: {'n_estimators': 103, 'max_depth': 9}. Best is trial 22 with value: 304150.56270906975.\n",
            "[I 2024-02-08 15:47:14,289] Trial 67 finished with value: 308697.66288743063 and parameters: {'n_estimators': 126, 'max_depth': 10}. Best is trial 22 with value: 304150.56270906975.\n",
            "[I 2024-02-08 15:47:14,758] Trial 68 finished with value: 626449.5091930776 and parameters: {'n_estimators': 113, 'max_depth': 4}. Best is trial 22 with value: 304150.56270906975.\n",
            "[I 2024-02-08 15:47:15,365] Trial 69 finished with value: 305388.6210703502 and parameters: {'n_estimators': 118, 'max_depth': 9}. Best is trial 22 with value: 304150.56270906975.\n",
            "[I 2024-02-08 15:47:15,792] Trial 70 finished with value: 311764.5839020499 and parameters: {'n_estimators': 106, 'max_depth': 8}. Best is trial 22 with value: 304150.56270906975.\n",
            "[I 2024-02-08 15:47:16,400] Trial 71 finished with value: 313382.52546571277 and parameters: {'n_estimators': 184, 'max_depth': 9}. Best is trial 22 with value: 304150.56270906975.\n",
            "[I 2024-02-08 15:47:16,780] Trial 72 finished with value: 308505.59449460683 and parameters: {'n_estimators': 115, 'max_depth': 9}. Best is trial 22 with value: 304150.56270906975.\n",
            "[I 2024-02-08 15:47:17,190] Trial 73 finished with value: 305388.6210703502 and parameters: {'n_estimators': 118, 'max_depth': 9}. Best is trial 22 with value: 304150.56270906975.\n",
            "[I 2024-02-08 15:47:17,604] Trial 74 finished with value: 306201.78135352326 and parameters: {'n_estimators': 118, 'max_depth': 10}. Best is trial 22 with value: 304150.56270906975.\n",
            "[I 2024-02-08 15:47:17,994] Trial 75 finished with value: 314540.65763113543 and parameters: {'n_estimators': 122, 'max_depth': 8}. Best is trial 22 with value: 304150.56270906975.\n",
            "[I 2024-02-08 15:47:18,549] Trial 76 finished with value: 308889.8428831154 and parameters: {'n_estimators': 163, 'max_depth': 9}. Best is trial 22 with value: 304150.56270906975.\n",
            "[I 2024-02-08 15:47:18,948] Trial 77 finished with value: 305388.6210703502 and parameters: {'n_estimators': 118, 'max_depth': 9}. Best is trial 22 with value: 304150.56270906975.\n",
            "[I 2024-02-08 15:47:19,340] Trial 78 finished with value: 324461.3467105715 and parameters: {'n_estimators': 126, 'max_depth': 7}. Best is trial 22 with value: 304150.56270906975.\n",
            "[I 2024-02-08 15:47:19,766] Trial 79 finished with value: 306201.78135352326 and parameters: {'n_estimators': 118, 'max_depth': 10}. Best is trial 22 with value: 304150.56270906975.\n",
            "[I 2024-02-08 15:47:20,254] Trial 80 finished with value: 307986.6328291696 and parameters: {'n_estimators': 142, 'max_depth': 9}. Best is trial 22 with value: 304150.56270906975.\n",
            "[I 2024-02-08 15:47:20,654] Trial 81 finished with value: 308148.6449208729 and parameters: {'n_estimators': 114, 'max_depth': 9}. Best is trial 22 with value: 304150.56270906975.\n",
            "[I 2024-02-08 15:47:21,134] Trial 82 finished with value: 315310.99267617817 and parameters: {'n_estimators': 147, 'max_depth': 8}. Best is trial 22 with value: 304150.56270906975.\n",
            "[I 2024-02-08 15:47:21,526] Trial 83 finished with value: 310389.56964899675 and parameters: {'n_estimators': 111, 'max_depth': 9}. Best is trial 22 with value: 304150.56270906975.\n",
            "[I 2024-02-08 15:47:21,934] Trial 84 finished with value: 306201.78135352326 and parameters: {'n_estimators': 118, 'max_depth': 10}. Best is trial 22 with value: 304150.56270906975.\n",
            "[I 2024-02-08 15:47:22,308] Trial 85 finished with value: 305353.5093824985 and parameters: {'n_estimators': 106, 'max_depth': 9}. Best is trial 22 with value: 304150.56270906975.\n",
            "[I 2024-02-08 15:47:22,679] Trial 86 finished with value: 312414.30689919443 and parameters: {'n_estimators': 107, 'max_depth': 8}. Best is trial 22 with value: 304150.56270906975.\n",
            "[I 2024-02-08 15:47:23,136] Trial 87 finished with value: 307529.59969253076 and parameters: {'n_estimators': 128, 'max_depth': 9}. Best is trial 22 with value: 304150.56270906975.\n",
            "[I 2024-02-08 15:47:23,584] Trial 88 finished with value: 309527.6985484689 and parameters: {'n_estimators': 123, 'max_depth': 10}. Best is trial 22 with value: 304150.56270906975.\n",
            "[I 2024-02-08 15:47:24,018] Trial 89 finished with value: 307236.05643970234 and parameters: {'n_estimators': 132, 'max_depth': 9}. Best is trial 22 with value: 304150.56270906975.\n",
            "[I 2024-02-08 15:47:24,387] Trial 90 finished with value: 315139.01816772786 and parameters: {'n_estimators': 110, 'max_depth': 8}. Best is trial 22 with value: 304150.56270906975.\n",
            "[I 2024-02-08 15:47:24,753] Trial 91 finished with value: 306727.0924672053 and parameters: {'n_estimators': 103, 'max_depth': 9}. Best is trial 22 with value: 304150.56270906975.\n",
            "[I 2024-02-08 15:47:25,116] Trial 92 finished with value: 306162.1365552815 and parameters: {'n_estimators': 105, 'max_depth': 9}. Best is trial 22 with value: 304150.56270906975.\n",
            "[I 2024-02-08 15:47:25,454] Trial 93 finished with value: 307282.2854568686 and parameters: {'n_estimators': 102, 'max_depth': 9}. Best is trial 22 with value: 304150.56270906975.\n",
            "[I 2024-02-08 15:47:25,997] Trial 94 finished with value: 305533.03391153226 and parameters: {'n_estimators': 120, 'max_depth': 9}. Best is trial 22 with value: 304150.56270906975.\n",
            "[I 2024-02-08 15:47:26,513] Trial 95 finished with value: 307410.10864297266 and parameters: {'n_estimators': 100, 'max_depth': 10}. Best is trial 22 with value: 304150.56270906975.\n",
            "[I 2024-02-08 15:47:27,093] Trial 96 finished with value: 307486.9497016523 and parameters: {'n_estimators': 116, 'max_depth': 9}. Best is trial 22 with value: 304150.56270906975.\n",
            "[I 2024-02-08 15:47:27,628] Trial 97 finished with value: 314412.2889527354 and parameters: {'n_estimators': 109, 'max_depth': 8}. Best is trial 22 with value: 304150.56270906975.\n",
            "[I 2024-02-08 15:47:28,106] Trial 98 finished with value: 456944.68127065786 and parameters: {'n_estimators': 114, 'max_depth': 5}. Best is trial 22 with value: 304150.56270906975.\n",
            "[I 2024-02-08 15:47:28,708] Trial 99 finished with value: 309963.14443749125 and parameters: {'n_estimators': 112, 'max_depth': 10}. Best is trial 22 with value: 304150.56270906975.\n"
          ]
        },
        {
          "output_type": "display_data",
          "data": {
            "text/html": [
              "<html>\n",
              "<head><meta charset=\"utf-8\" /></head>\n",
              "<body>\n",
              "    <div>            <script src=\"https://cdnjs.cloudflare.com/ajax/libs/mathjax/2.7.5/MathJax.js?config=TeX-AMS-MML_SVG\"></script><script type=\"text/javascript\">if (window.MathJax && window.MathJax.Hub && window.MathJax.Hub.Config) {window.MathJax.Hub.Config({SVG: {font: \"STIX-Web\"}});}</script>                <script type=\"text/javascript\">window.PlotlyConfig = {MathJaxConfig: 'local'};</script>\n",
              "        <script charset=\"utf-8\" src=\"https://cdn.plot.ly/plotly-2.24.1.min.js\"></script>                <div id=\"cc76b8be-4d9a-4809-98dd-6bb596d32318\" class=\"plotly-graph-div\" style=\"height:525px; width:100%;\"></div>            <script type=\"text/javascript\">                                    window.PLOTLYENV=window.PLOTLYENV || {};                                    if (document.getElementById(\"cc76b8be-4d9a-4809-98dd-6bb596d32318\")) {                    Plotly.newPlot(                        \"cc76b8be-4d9a-4809-98dd-6bb596d32318\",                        [{\"mode\":\"markers\",\"name\":\"Objective Value\",\"x\":[0,1,2,3,4,5,6,7,8,9,10,11,12,13,14,15,16,17,18,19,20,21,22,23,24,25,26,27,28,29,30,31,32,33,34,35,36,37,38,39,40,41,42,43,44,45,46,47,48,49,50,51,52,53,54,55,56,57,58,59,60,61,62,63,64,65,66,67,68,69,70,71,72,73,74,75,76,77,78,79,80,81,82,83,84,85,86,87,88,89,90,91,92,93,94,95,96,97,98,99],\"y\":[344322.7978575765,343126.0461370651,321392.49997396057,3043913.5425365805,309619.08692332206,320975.375130376,997824.322722558,325899.9169077946,454761.4289522861,343404.78891187324,314229.60101624223,316278.5371587902,314239.1235146457,308028.2455850166,308636.15257300925,313532.11268384533,313671.93849218136,308931.18792065576,622794.2849578145,314557.407357451,305388.6210703502,305533.03391153226,304150.56270906975,305388.6210703502,314665.0777724868,307486.9497016523,3045325.4976056255,325014.8765733368,311208.1423566644,454409.95474805374,1000139.7733841173,305533.03391153226,307529.59969253076,306201.78135352326,311286.72260892094,347151.49510799965,322187.3537648368,309527.6985484689,308505.59449460683,321982.8139845493,309570.13953979575,307385.05098710366,308116.67457745085,310367.4906339178,309766.64163502393,304950.2634513802,313383.3827721557,305432.6628305344,308062.5265806778,342897.74417455104,326252.06027275475,307714.1216559129,306382.78342924756,308389.4461408217,311208.1423566644,305956.6552031433,308358.3333979859,314540.0851305172,307797.25104488584,1541805.9597379242,307209.08298765036,304150.56270906975,316184.3645391638,307385.05098710366,308492.5987471779,312193.1003212134,306727.0924672053,308697.66288743063,626449.5091930776,305388.6210703502,311764.5839020499,313382.52546571277,308505.59449460683,305388.6210703502,306201.78135352326,314540.65763113543,308889.8428831154,305388.6210703502,324461.3467105715,306201.78135352326,307986.6328291696,308148.6449208729,315310.99267617817,310389.56964899675,306201.78135352326,305353.5093824985,312414.30689919443,307529.59969253076,309527.6985484689,307236.05643970234,315139.01816772786,306727.0924672053,306162.1365552815,307282.2854568686,305533.03391153226,307410.10864297266,307486.9497016523,314412.2889527354,456944.68127065786,309963.14443749125],\"type\":\"scatter\"},{\"mode\":\"lines\",\"name\":\"Best Value\",\"x\":[0,1,2,3,4,5,6,7,8,9,10,11,12,13,14,15,16,17,18,19,20,21,22,23,24,25,26,27,28,29,30,31,32,33,34,35,36,37,38,39,40,41,42,43,44,45,46,47,48,49,50,51,52,53,54,55,56,57,58,59,60,61,62,63,64,65,66,67,68,69,70,71,72,73,74,75,76,77,78,79,80,81,82,83,84,85,86,87,88,89,90,91,92,93,94,95,96,97,98,99],\"y\":[344322.7978575765,343126.0461370651,321392.49997396057,321392.49997396057,309619.08692332206,309619.08692332206,309619.08692332206,309619.08692332206,309619.08692332206,309619.08692332206,309619.08692332206,309619.08692332206,309619.08692332206,308028.2455850166,308028.2455850166,308028.2455850166,308028.2455850166,308028.2455850166,308028.2455850166,308028.2455850166,305388.6210703502,305388.6210703502,304150.56270906975,304150.56270906975,304150.56270906975,304150.56270906975,304150.56270906975,304150.56270906975,304150.56270906975,304150.56270906975,304150.56270906975,304150.56270906975,304150.56270906975,304150.56270906975,304150.56270906975,304150.56270906975,304150.56270906975,304150.56270906975,304150.56270906975,304150.56270906975,304150.56270906975,304150.56270906975,304150.56270906975,304150.56270906975,304150.56270906975,304150.56270906975,304150.56270906975,304150.56270906975,304150.56270906975,304150.56270906975,304150.56270906975,304150.56270906975,304150.56270906975,304150.56270906975,304150.56270906975,304150.56270906975,304150.56270906975,304150.56270906975,304150.56270906975,304150.56270906975,304150.56270906975,304150.56270906975,304150.56270906975,304150.56270906975,304150.56270906975,304150.56270906975,304150.56270906975,304150.56270906975,304150.56270906975,304150.56270906975,304150.56270906975,304150.56270906975,304150.56270906975,304150.56270906975,304150.56270906975,304150.56270906975,304150.56270906975,304150.56270906975,304150.56270906975,304150.56270906975,304150.56270906975,304150.56270906975,304150.56270906975,304150.56270906975,304150.56270906975,304150.56270906975,304150.56270906975,304150.56270906975,304150.56270906975,304150.56270906975,304150.56270906975,304150.56270906975,304150.56270906975,304150.56270906975,304150.56270906975,304150.56270906975,304150.56270906975,304150.56270906975,304150.56270906975,304150.56270906975],\"type\":\"scatter\"},{\"marker\":{\"color\":\"#cccccc\"},\"mode\":\"markers\",\"name\":\"Infeasible Trial\",\"showlegend\":false,\"x\":[],\"y\":[],\"type\":\"scatter\"}],                        {\"title\":{\"text\":\"Optimization History Plot\"},\"xaxis\":{\"title\":{\"text\":\"Trial\"}},\"yaxis\":{\"title\":{\"text\":\"Objective Value\"}},\"template\":{\"data\":{\"histogram2dcontour\":[{\"type\":\"histogram2dcontour\",\"colorbar\":{\"outlinewidth\":0,\"ticks\":\"\"},\"colorscale\":[[0.0,\"#0d0887\"],[0.1111111111111111,\"#46039f\"],[0.2222222222222222,\"#7201a8\"],[0.3333333333333333,\"#9c179e\"],[0.4444444444444444,\"#bd3786\"],[0.5555555555555556,\"#d8576b\"],[0.6666666666666666,\"#ed7953\"],[0.7777777777777778,\"#fb9f3a\"],[0.8888888888888888,\"#fdca26\"],[1.0,\"#f0f921\"]]}],\"choropleth\":[{\"type\":\"choropleth\",\"colorbar\":{\"outlinewidth\":0,\"ticks\":\"\"}}],\"histogram2d\":[{\"type\":\"histogram2d\",\"colorbar\":{\"outlinewidth\":0,\"ticks\":\"\"},\"colorscale\":[[0.0,\"#0d0887\"],[0.1111111111111111,\"#46039f\"],[0.2222222222222222,\"#7201a8\"],[0.3333333333333333,\"#9c179e\"],[0.4444444444444444,\"#bd3786\"],[0.5555555555555556,\"#d8576b\"],[0.6666666666666666,\"#ed7953\"],[0.7777777777777778,\"#fb9f3a\"],[0.8888888888888888,\"#fdca26\"],[1.0,\"#f0f921\"]]}],\"heatmap\":[{\"type\":\"heatmap\",\"colorbar\":{\"outlinewidth\":0,\"ticks\":\"\"},\"colorscale\":[[0.0,\"#0d0887\"],[0.1111111111111111,\"#46039f\"],[0.2222222222222222,\"#7201a8\"],[0.3333333333333333,\"#9c179e\"],[0.4444444444444444,\"#bd3786\"],[0.5555555555555556,\"#d8576b\"],[0.6666666666666666,\"#ed7953\"],[0.7777777777777778,\"#fb9f3a\"],[0.8888888888888888,\"#fdca26\"],[1.0,\"#f0f921\"]]}],\"heatmapgl\":[{\"type\":\"heatmapgl\",\"colorbar\":{\"outlinewidth\":0,\"ticks\":\"\"},\"colorscale\":[[0.0,\"#0d0887\"],[0.1111111111111111,\"#46039f\"],[0.2222222222222222,\"#7201a8\"],[0.3333333333333333,\"#9c179e\"],[0.4444444444444444,\"#bd3786\"],[0.5555555555555556,\"#d8576b\"],[0.6666666666666666,\"#ed7953\"],[0.7777777777777778,\"#fb9f3a\"],[0.8888888888888888,\"#fdca26\"],[1.0,\"#f0f921\"]]}],\"contourcarpet\":[{\"type\":\"contourcarpet\",\"colorbar\":{\"outlinewidth\":0,\"ticks\":\"\"}}],\"contour\":[{\"type\":\"contour\",\"colorbar\":{\"outlinewidth\":0,\"ticks\":\"\"},\"colorscale\":[[0.0,\"#0d0887\"],[0.1111111111111111,\"#46039f\"],[0.2222222222222222,\"#7201a8\"],[0.3333333333333333,\"#9c179e\"],[0.4444444444444444,\"#bd3786\"],[0.5555555555555556,\"#d8576b\"],[0.6666666666666666,\"#ed7953\"],[0.7777777777777778,\"#fb9f3a\"],[0.8888888888888888,\"#fdca26\"],[1.0,\"#f0f921\"]]}],\"surface\":[{\"type\":\"surface\",\"colorbar\":{\"outlinewidth\":0,\"ticks\":\"\"},\"colorscale\":[[0.0,\"#0d0887\"],[0.1111111111111111,\"#46039f\"],[0.2222222222222222,\"#7201a8\"],[0.3333333333333333,\"#9c179e\"],[0.4444444444444444,\"#bd3786\"],[0.5555555555555556,\"#d8576b\"],[0.6666666666666666,\"#ed7953\"],[0.7777777777777778,\"#fb9f3a\"],[0.8888888888888888,\"#fdca26\"],[1.0,\"#f0f921\"]]}],\"mesh3d\":[{\"type\":\"mesh3d\",\"colorbar\":{\"outlinewidth\":0,\"ticks\":\"\"}}],\"scatter\":[{\"fillpattern\":{\"fillmode\":\"overlay\",\"size\":10,\"solidity\":0.2},\"type\":\"scatter\"}],\"parcoords\":[{\"type\":\"parcoords\",\"line\":{\"colorbar\":{\"outlinewidth\":0,\"ticks\":\"\"}}}],\"scatterpolargl\":[{\"type\":\"scatterpolargl\",\"marker\":{\"colorbar\":{\"outlinewidth\":0,\"ticks\":\"\"}}}],\"bar\":[{\"error_x\":{\"color\":\"#2a3f5f\"},\"error_y\":{\"color\":\"#2a3f5f\"},\"marker\":{\"line\":{\"color\":\"#E5ECF6\",\"width\":0.5},\"pattern\":{\"fillmode\":\"overlay\",\"size\":10,\"solidity\":0.2}},\"type\":\"bar\"}],\"scattergeo\":[{\"type\":\"scattergeo\",\"marker\":{\"colorbar\":{\"outlinewidth\":0,\"ticks\":\"\"}}}],\"scatterpolar\":[{\"type\":\"scatterpolar\",\"marker\":{\"colorbar\":{\"outlinewidth\":0,\"ticks\":\"\"}}}],\"histogram\":[{\"marker\":{\"pattern\":{\"fillmode\":\"overlay\",\"size\":10,\"solidity\":0.2}},\"type\":\"histogram\"}],\"scattergl\":[{\"type\":\"scattergl\",\"marker\":{\"colorbar\":{\"outlinewidth\":0,\"ticks\":\"\"}}}],\"scatter3d\":[{\"type\":\"scatter3d\",\"line\":{\"colorbar\":{\"outlinewidth\":0,\"ticks\":\"\"}},\"marker\":{\"colorbar\":{\"outlinewidth\":0,\"ticks\":\"\"}}}],\"scattermapbox\":[{\"type\":\"scattermapbox\",\"marker\":{\"colorbar\":{\"outlinewidth\":0,\"ticks\":\"\"}}}],\"scatterternary\":[{\"type\":\"scatterternary\",\"marker\":{\"colorbar\":{\"outlinewidth\":0,\"ticks\":\"\"}}}],\"scattercarpet\":[{\"type\":\"scattercarpet\",\"marker\":{\"colorbar\":{\"outlinewidth\":0,\"ticks\":\"\"}}}],\"carpet\":[{\"aaxis\":{\"endlinecolor\":\"#2a3f5f\",\"gridcolor\":\"white\",\"linecolor\":\"white\",\"minorgridcolor\":\"white\",\"startlinecolor\":\"#2a3f5f\"},\"baxis\":{\"endlinecolor\":\"#2a3f5f\",\"gridcolor\":\"white\",\"linecolor\":\"white\",\"minorgridcolor\":\"white\",\"startlinecolor\":\"#2a3f5f\"},\"type\":\"carpet\"}],\"table\":[{\"cells\":{\"fill\":{\"color\":\"#EBF0F8\"},\"line\":{\"color\":\"white\"}},\"header\":{\"fill\":{\"color\":\"#C8D4E3\"},\"line\":{\"color\":\"white\"}},\"type\":\"table\"}],\"barpolar\":[{\"marker\":{\"line\":{\"color\":\"#E5ECF6\",\"width\":0.5},\"pattern\":{\"fillmode\":\"overlay\",\"size\":10,\"solidity\":0.2}},\"type\":\"barpolar\"}],\"pie\":[{\"automargin\":true,\"type\":\"pie\"}]},\"layout\":{\"autotypenumbers\":\"strict\",\"colorway\":[\"#636efa\",\"#EF553B\",\"#00cc96\",\"#ab63fa\",\"#FFA15A\",\"#19d3f3\",\"#FF6692\",\"#B6E880\",\"#FF97FF\",\"#FECB52\"],\"font\":{\"color\":\"#2a3f5f\"},\"hovermode\":\"closest\",\"hoverlabel\":{\"align\":\"left\"},\"paper_bgcolor\":\"white\",\"plot_bgcolor\":\"#E5ECF6\",\"polar\":{\"bgcolor\":\"#E5ECF6\",\"angularaxis\":{\"gridcolor\":\"white\",\"linecolor\":\"white\",\"ticks\":\"\"},\"radialaxis\":{\"gridcolor\":\"white\",\"linecolor\":\"white\",\"ticks\":\"\"}},\"ternary\":{\"bgcolor\":\"#E5ECF6\",\"aaxis\":{\"gridcolor\":\"white\",\"linecolor\":\"white\",\"ticks\":\"\"},\"baxis\":{\"gridcolor\":\"white\",\"linecolor\":\"white\",\"ticks\":\"\"},\"caxis\":{\"gridcolor\":\"white\",\"linecolor\":\"white\",\"ticks\":\"\"}},\"coloraxis\":{\"colorbar\":{\"outlinewidth\":0,\"ticks\":\"\"}},\"colorscale\":{\"sequential\":[[0.0,\"#0d0887\"],[0.1111111111111111,\"#46039f\"],[0.2222222222222222,\"#7201a8\"],[0.3333333333333333,\"#9c179e\"],[0.4444444444444444,\"#bd3786\"],[0.5555555555555556,\"#d8576b\"],[0.6666666666666666,\"#ed7953\"],[0.7777777777777778,\"#fb9f3a\"],[0.8888888888888888,\"#fdca26\"],[1.0,\"#f0f921\"]],\"sequentialminus\":[[0.0,\"#0d0887\"],[0.1111111111111111,\"#46039f\"],[0.2222222222222222,\"#7201a8\"],[0.3333333333333333,\"#9c179e\"],[0.4444444444444444,\"#bd3786\"],[0.5555555555555556,\"#d8576b\"],[0.6666666666666666,\"#ed7953\"],[0.7777777777777778,\"#fb9f3a\"],[0.8888888888888888,\"#fdca26\"],[1.0,\"#f0f921\"]],\"diverging\":[[0,\"#8e0152\"],[0.1,\"#c51b7d\"],[0.2,\"#de77ae\"],[0.3,\"#f1b6da\"],[0.4,\"#fde0ef\"],[0.5,\"#f7f7f7\"],[0.6,\"#e6f5d0\"],[0.7,\"#b8e186\"],[0.8,\"#7fbc41\"],[0.9,\"#4d9221\"],[1,\"#276419\"]]},\"xaxis\":{\"gridcolor\":\"white\",\"linecolor\":\"white\",\"ticks\":\"\",\"title\":{\"standoff\":15},\"zerolinecolor\":\"white\",\"automargin\":true,\"zerolinewidth\":2},\"yaxis\":{\"gridcolor\":\"white\",\"linecolor\":\"white\",\"ticks\":\"\",\"title\":{\"standoff\":15},\"zerolinecolor\":\"white\",\"automargin\":true,\"zerolinewidth\":2},\"scene\":{\"xaxis\":{\"backgroundcolor\":\"#E5ECF6\",\"gridcolor\":\"white\",\"linecolor\":\"white\",\"showbackground\":true,\"ticks\":\"\",\"zerolinecolor\":\"white\",\"gridwidth\":2},\"yaxis\":{\"backgroundcolor\":\"#E5ECF6\",\"gridcolor\":\"white\",\"linecolor\":\"white\",\"showbackground\":true,\"ticks\":\"\",\"zerolinecolor\":\"white\",\"gridwidth\":2},\"zaxis\":{\"backgroundcolor\":\"#E5ECF6\",\"gridcolor\":\"white\",\"linecolor\":\"white\",\"showbackground\":true,\"ticks\":\"\",\"zerolinecolor\":\"white\",\"gridwidth\":2}},\"shapedefaults\":{\"line\":{\"color\":\"#2a3f5f\"}},\"annotationdefaults\":{\"arrowcolor\":\"#2a3f5f\",\"arrowhead\":0,\"arrowwidth\":1},\"geo\":{\"bgcolor\":\"white\",\"landcolor\":\"#E5ECF6\",\"subunitcolor\":\"white\",\"showland\":true,\"showlakes\":true,\"lakecolor\":\"white\"},\"title\":{\"x\":0.05},\"mapbox\":{\"style\":\"light\"}}}},                        {\"responsive\": true}                    ).then(function(){\n",
              "                            \n",
              "var gd = document.getElementById('cc76b8be-4d9a-4809-98dd-6bb596d32318');\n",
              "var x = new MutationObserver(function (mutations, observer) {{\n",
              "        var display = window.getComputedStyle(gd).display;\n",
              "        if (!display || display === 'none') {{\n",
              "            console.log([gd, 'removed!']);\n",
              "            Plotly.purge(gd);\n",
              "            observer.disconnect();\n",
              "        }}\n",
              "}});\n",
              "\n",
              "// Listen for the removal of the full notebook cells\n",
              "var notebookContainer = gd.closest('#notebook-container');\n",
              "if (notebookContainer) {{\n",
              "    x.observe(notebookContainer, {childList: true});\n",
              "}}\n",
              "\n",
              "// Listen for the clearing of the current output cell\n",
              "var outputEl = gd.closest('.output');\n",
              "if (outputEl) {{\n",
              "    x.observe(outputEl, {childList: true});\n",
              "}}\n",
              "\n",
              "                        })                };                            </script>        </div>\n",
              "</body>\n",
              "</html>"
            ]
          },
          "metadata": {}
        }
      ]
    },
    {
      "cell_type": "markdown",
      "source": [
        "Evauleringer av beste modell"
      ],
      "metadata": {
        "id": "QlsyU7zY7ADP"
      }
    },
    {
      "cell_type": "code",
      "source": [
        "def detailed_objective(trial):\n",
        "  parametere = {\n",
        "      'n_estimators': trial.suggest_int('n_estimators', 100, 200),\n",
        "      'max_depth': trial.suggest_int('max_depth', 1, 10)\n",
        "  }\n",
        "  rf_pipeline = Pipeline([\n",
        "      ('skalerer', StandardScaler()),\n",
        "      ('modell', RandomForestRegressor(**parametere, random_state=random_seed))\n",
        "  ])\n",
        "\n",
        "  rf_pipeline.fit(X_trening, y_trening)\n",
        "  y_test_prediksjon = rf_pipeline.predict(X_test)\n",
        "  y_trening_prediksjon = rf_pipeline.predict(X_trening)\n",
        "\n",
        "  mse_test = mean_squared_error(y_test, y_test_prediksjon)\n",
        "  r2_test = r2_score(y_test, y_test_prediksjon)\n",
        "\n",
        "  mse_trening = mean_squared_error(y_trening, y_trening_prediksjon)\n",
        "  r2_trening = r2_score(y_trening, y_trening_prediksjon)\n",
        "\n",
        "  return mse_test, r2_test, mse_trening, r2_trening\n",
        "\n",
        "mse_test_resultat = detailed_objective(study.best_trial)[0]\n",
        "r2_test_resultat = detailed_objective(study.best_trial)[1]\n",
        "mse_trening_resultat = detailed_objective(study.best_trial)[2]\n",
        "r2_trening_resultat = detailed_objective(study.best_trial)[3]\n",
        "\n",
        "print(\"Beste hyperparametere for RandomForestRegressor: {}\".format(study.best_params))\n",
        "print(\"Test: MSE: {}, og R^2: {}\".format(mse_test_resultat, r2_test_resultat))\n",
        "print(\"Trening: MSE: {}, og R^2: {}\".format(mse_trening_resultat, r2_trening_resultat))"
      ],
      "metadata": {
        "colab": {
          "base_uri": "https://localhost:8080/"
        },
        "id": "JrxN1-YQ7FUe",
        "outputId": "915ecd16-acda-4ceb-eec5-9b1d4b8acbb4"
      },
      "execution_count": null,
      "outputs": [
        {
          "output_type": "stream",
          "name": "stdout",
          "text": [
            "Beste hyperparametere for RandomForestRegressor: {'n_estimators': 119, 'max_depth': 9}\n",
            "Test: MSE: 304150.56270906975, og R^2: 0.9460160945821272\n",
            "Trening: MSE: 61240.625341091145, og R^2: 0.9893721909646818\n"
          ]
        }
      ]
    },
    {
      "cell_type": "markdown",
      "source": [
        "# NIR målinger ekskludert"
      ],
      "metadata": {
        "id": "dLSfOULUYDrI"
      }
    },
    {
      "cell_type": "code",
      "source": [
        "mw_data_uten_NIR = mw_data.drop(columns=['NIRfat', 'NIRwater', 'NIRash'])\n",
        "mw_data_uten_NIR.info()"
      ],
      "metadata": {
        "colab": {
          "base_uri": "https://localhost:8080/"
        },
        "id": "QveU-03_Y_YB",
        "outputId": "c9cdf88f-0ed7-43f3-802e-45e6b8216389"
      },
      "execution_count": null,
      "outputs": [
        {
          "output_type": "stream",
          "name": "stdout",
          "text": [
            "<class 'pandas.core.frame.DataFrame'>\n",
            "DatetimeIndex: 29136 entries, 2022-10-31 17:37:00 to 2023-06-14 01:06:00\n",
            "Data columns (total 14 columns):\n",
            " #   Column         Non-Null Count  Dtype  \n",
            "---  ------         --------------  -----  \n",
            " 0   EnzymeType_A1  29136 non-null  int64  \n",
            " 1   EnzymeType_A2  29136 non-null  int64  \n",
            " 2   EnzymeType_B   29136 non-null  int64  \n",
            " 3   EnzymeType_C   29136 non-null  int64  \n",
            " 4   EnzymeType_D   29136 non-null  int64  \n",
            " 5   EnzymeType_E   29136 non-null  int64  \n",
            " 6   RawMatFlow     29136 non-null  float64\n",
            " 7   TT07           29136 non-null  float64\n",
            " 8   TT08           29136 non-null  float64\n",
            " 9   PT03           29136 non-null  float64\n",
            " 10  TT20           29136 non-null  float64\n",
            " 11  TT09           29136 non-null  float64\n",
            " 12  TT12           29136 non-null  float64\n",
            " 13  Mw             460 non-null    float64\n",
            "dtypes: float64(8), int64(6)\n",
            "memory usage: 4.3 MB\n"
          ]
        }
      ]
    },
    {
      "cell_type": "markdown",
      "source": [
        "## Oppdeling av trening og testsett"
      ],
      "metadata": {
        "id": "7fNbYkUGYyFd"
      }
    },
    {
      "cell_type": "markdown",
      "source": [
        "### Alternativ 1: Fordelt på Enzymtyper"
      ],
      "metadata": {
        "id": "w6UQIf_cY3T4"
      }
    },
    {
      "cell_type": "code",
      "source": [
        "mw_trening, mw_test = oppdeling_alternativ_1(mw_data_uten_NIR)\n",
        "mw_trening_markert = mw_trening.dropna(subset=[\"Mw\"])\n",
        "\n",
        "X_trening = mw_trening_markert.iloc[:, :-1]\n",
        "X_test = mw_test.iloc[:, :-1]\n",
        "y_trening = mw_trening_markert.iloc[:, -1]\n",
        "y_test = mw_test.iloc[:, -1]"
      ],
      "metadata": {
        "colab": {
          "base_uri": "https://localhost:8080/"
        },
        "id": "Ro43fVQfYGt9",
        "outputId": "4509417f-7ae4-46f6-edd9-0d14782d4882"
      },
      "execution_count": null,
      "outputs": [
        {
          "output_type": "stream",
          "name": "stderr",
          "text": [
            "<ipython-input-6-e7454339f6c4>:11: SettingWithCopyWarning:\n",
            "\n",
            "\n",
            "A value is trying to be set on a copy of a slice from a DataFrame.\n",
            "Try using .loc[row_indexer,col_indexer] = value instead\n",
            "\n",
            "See the caveats in the documentation: https://pandas.pydata.org/pandas-docs/stable/user_guide/indexing.html#returning-a-view-versus-a-copy\n",
            "\n",
            "<ipython-input-6-e7454339f6c4>:15: SettingWithCopyWarning:\n",
            "\n",
            "\n",
            "A value is trying to be set on a copy of a slice from a DataFrame\n",
            "\n",
            "See the caveats in the documentation: https://pandas.pydata.org/pandas-docs/stable/user_guide/indexing.html#returning-a-view-versus-a-copy\n",
            "\n"
          ]
        }
      ]
    },
    {
      "cell_type": "markdown",
      "source": [
        "## RandomForestRegressor"
      ],
      "metadata": {
        "id": "m374LGKNbLii"
      }
    },
    {
      "cell_type": "code",
      "source": [
        "def objective(trial):\n",
        "  parametere = {\n",
        "      'n_estimators': trial.suggest_int('n_estimators', 100, 200),\n",
        "      'max_depth': trial.suggest_int('max_depth', 1, 10)\n",
        "  }\n",
        "  rf_pipeline = Pipeline([\n",
        "      ('skalerer', StandardScaler()),\n",
        "      ('modell', RandomForestRegressor(**parametere, random_state=random_seed))\n",
        "  ])\n",
        "\n",
        "  rf_pipeline.fit(X_trening, y_trening)\n",
        "  y_test_prediksjon = rf_pipeline.predict(X_test)\n",
        "\n",
        "  mse_test = mean_squared_error(y_test, y_test_prediksjon)\n",
        "\n",
        "  return mse_test\n",
        "\n",
        "if __name__ == \"__main__\":\n",
        "  study = optuna.create_study(direction='minimize')\n",
        "  study.optimize(objective, n_trials=100)\n",
        "\n",
        "plot_optimization_history(study)"
      ],
      "metadata": {
        "colab": {
          "base_uri": "https://localhost:8080/",
          "height": 1000
        },
        "id": "XoecfnIqbiSM",
        "outputId": "0a8d8b3f-9972-434d-db41-76435ed5f150"
      },
      "execution_count": null,
      "outputs": [
        {
          "output_type": "stream",
          "name": "stderr",
          "text": [
            "[I 2024-02-08 15:56:36,971] A new study created in memory with name: no-name-2d3c7bfa-7e29-4e6d-9cbf-32167bc49d62\n",
            "[I 2024-02-08 15:56:37,312] Trial 0 finished with value: 658685.5200800243 and parameters: {'n_estimators': 119, 'max_depth': 9}. Best is trial 0 with value: 658685.5200800243.\n",
            "[I 2024-02-08 15:56:37,662] Trial 1 finished with value: 1752283.341717364 and parameters: {'n_estimators': 179, 'max_depth': 3}. Best is trial 0 with value: 658685.5200800243.\n",
            "[I 2024-02-08 15:56:37,952] Trial 2 finished with value: 1096690.3855943794 and parameters: {'n_estimators': 127, 'max_depth': 4}. Best is trial 0 with value: 658685.5200800243.\n",
            "[I 2024-02-08 15:56:38,368] Trial 3 finished with value: 655842.2450160381 and parameters: {'n_estimators': 145, 'max_depth': 10}. Best is trial 3 with value: 655842.2450160381.\n",
            "[I 2024-02-08 15:56:38,790] Trial 4 finished with value: 660049.0691353395 and parameters: {'n_estimators': 152, 'max_depth': 10}. Best is trial 3 with value: 655842.2450160381.\n",
            "[I 2024-02-08 15:56:39,265] Trial 5 finished with value: 665008.4298708349 and parameters: {'n_estimators': 145, 'max_depth': 9}. Best is trial 3 with value: 655842.2450160381.\n",
            "[I 2024-02-08 15:56:39,694] Trial 6 finished with value: 932957.0483502335 and parameters: {'n_estimators': 125, 'max_depth': 5}. Best is trial 3 with value: 655842.2450160381.\n",
            "[I 2024-02-08 15:56:40,209] Trial 7 finished with value: 660029.062874455 and parameters: {'n_estimators': 117, 'max_depth': 9}. Best is trial 3 with value: 655842.2450160381.\n",
            "[I 2024-02-08 15:56:40,819] Trial 8 finished with value: 675815.242633465 and parameters: {'n_estimators': 155, 'max_depth': 8}. Best is trial 3 with value: 655842.2450160381.\n",
            "[I 2024-02-08 15:56:41,290] Trial 9 finished with value: 710547.7090984281 and parameters: {'n_estimators': 128, 'max_depth': 7}. Best is trial 3 with value: 655842.2450160381.\n",
            "[I 2024-02-08 15:56:41,829] Trial 10 finished with value: 2199668.885119586 and parameters: {'n_estimators': 187, 'max_depth': 2}. Best is trial 3 with value: 655842.2450160381.\n",
            "[I 2024-02-08 15:56:42,241] Trial 11 finished with value: 715075.9214836515 and parameters: {'n_estimators': 100, 'max_depth': 7}. Best is trial 3 with value: 655842.2450160381.\n",
            "[I 2024-02-08 15:56:42,945] Trial 12 finished with value: 669658.3772941848 and parameters: {'n_estimators': 170, 'max_depth': 10}. Best is trial 3 with value: 655842.2450160381.\n",
            "[I 2024-02-08 15:56:43,237] Trial 13 finished with value: 716299.0576324874 and parameters: {'n_estimators': 103, 'max_depth': 7}. Best is trial 3 with value: 655842.2450160381.\n",
            "[I 2024-02-08 15:56:43,656] Trial 14 finished with value: 653742.303110617 and parameters: {'n_estimators': 141, 'max_depth': 10}. Best is trial 14 with value: 653742.303110617.\n",
            "[I 2024-02-08 15:56:44,006] Trial 15 finished with value: 795885.9258140277 and parameters: {'n_estimators': 141, 'max_depth': 6}. Best is trial 14 with value: 653742.303110617.\n",
            "[I 2024-02-08 15:56:44,294] Trial 16 finished with value: 3043959.917675773 and parameters: {'n_estimators': 165, 'max_depth': 1}. Best is trial 14 with value: 653742.303110617.\n",
            "[I 2024-02-08 15:56:44,710] Trial 17 finished with value: 652337.3270711212 and parameters: {'n_estimators': 136, 'max_depth': 10}. Best is trial 17 with value: 652337.3270711212.\n",
            "[I 2024-02-08 15:56:45,086] Trial 18 finished with value: 670517.5336971832 and parameters: {'n_estimators': 136, 'max_depth': 8}. Best is trial 17 with value: 652337.3270711212.\n",
            "[I 2024-02-08 15:56:45,495] Trial 19 finished with value: 802410.2587093347 and parameters: {'n_estimators': 162, 'max_depth': 6}. Best is trial 17 with value: 652337.3270711212.\n",
            "[I 2024-02-08 15:56:46,013] Trial 20 finished with value: 682746.0332259783 and parameters: {'n_estimators': 198, 'max_depth': 8}. Best is trial 17 with value: 652337.3270711212.\n",
            "[I 2024-02-08 15:56:46,411] Trial 21 finished with value: 654850.6411152001 and parameters: {'n_estimators': 135, 'max_depth': 10}. Best is trial 17 with value: 652337.3270711212.\n",
            "[I 2024-02-08 15:56:46,819] Trial 22 finished with value: 654200.0858748155 and parameters: {'n_estimators': 138, 'max_depth': 10}. Best is trial 17 with value: 652337.3270711212.\n",
            "[I 2024-02-08 15:56:47,141] Trial 23 finished with value: 672801.8942001608 and parameters: {'n_estimators': 111, 'max_depth': 9}. Best is trial 17 with value: 652337.3270711212.\n",
            "[I 2024-02-08 15:56:47,620] Trial 24 finished with value: 662490.8297831351 and parameters: {'n_estimators': 154, 'max_depth': 10}. Best is trial 17 with value: 652337.3270711212.\n",
            "[I 2024-02-08 15:56:48,014] Trial 25 finished with value: 672997.1038092249 and parameters: {'n_estimators': 134, 'max_depth': 8}. Best is trial 17 with value: 652337.3270711212.\n",
            "[I 2024-02-08 15:56:48,433] Trial 26 finished with value: 659816.8284796571 and parameters: {'n_estimators': 142, 'max_depth': 9}. Best is trial 17 with value: 652337.3270711212.\n",
            "[I 2024-02-08 15:56:48,891] Trial 27 finished with value: 659634.0260113742 and parameters: {'n_estimators': 158, 'max_depth': 10}. Best is trial 17 with value: 652337.3270711212.\n",
            "[I 2024-02-08 15:56:49,237] Trial 28 finished with value: 929725.4230156279 and parameters: {'n_estimators': 149, 'max_depth': 5}. Best is trial 17 with value: 652337.3270711212.\n",
            "[I 2024-02-08 15:56:49,600] Trial 29 finished with value: 663583.3644001929 and parameters: {'n_estimators': 121, 'max_depth': 9}. Best is trial 17 with value: 652337.3270711212.\n",
            "[I 2024-02-08 15:56:49,926] Trial 30 finished with value: 672140.1670952215 and parameters: {'n_estimators': 112, 'max_depth': 9}. Best is trial 17 with value: 652337.3270711212.\n",
            "[I 2024-02-08 15:56:50,340] Trial 31 finished with value: 654850.6411152001 and parameters: {'n_estimators': 135, 'max_depth': 10}. Best is trial 17 with value: 652337.3270711212.\n",
            "[I 2024-02-08 15:56:50,727] Trial 32 finished with value: 659720.3532729344 and parameters: {'n_estimators': 132, 'max_depth': 10}. Best is trial 17 with value: 652337.3270711212.\n",
            "[I 2024-02-08 15:56:51,111] Trial 33 finished with value: 671578.4228862284 and parameters: {'n_estimators': 139, 'max_depth': 8}. Best is trial 17 with value: 652337.3270711212.\n",
            "[I 2024-02-08 15:56:51,561] Trial 34 finished with value: 656212.8862739431 and parameters: {'n_estimators': 148, 'max_depth': 10}. Best is trial 17 with value: 652337.3270711212.\n",
            "[I 2024-02-08 15:56:51,847] Trial 35 finished with value: 1096690.3855943794 and parameters: {'n_estimators': 127, 'max_depth': 4}. Best is trial 17 with value: 652337.3270711212.\n",
            "[I 2024-02-08 15:56:52,195] Trial 36 finished with value: 655445.1967490796 and parameters: {'n_estimators': 121, 'max_depth': 10}. Best is trial 17 with value: 652337.3270711212.\n",
            "[I 2024-02-08 15:56:52,594] Trial 37 finished with value: 672533.919152789 and parameters: {'n_estimators': 130, 'max_depth': 9}. Best is trial 17 with value: 652337.3270711212.\n",
            "[I 2024-02-08 15:56:53,119] Trial 38 finished with value: 653413.017683971 and parameters: {'n_estimators': 144, 'max_depth': 10}. Best is trial 17 with value: 652337.3270711212.\n",
            "[I 2024-02-08 15:56:53,756] Trial 39 finished with value: 661302.2611520053 and parameters: {'n_estimators': 144, 'max_depth': 9}. Best is trial 17 with value: 652337.3270711212.\n",
            "[I 2024-02-08 15:56:54,475] Trial 40 finished with value: 680421.345995782 and parameters: {'n_estimators': 173, 'max_depth': 8}. Best is trial 17 with value: 652337.3270711212.\n",
            "[I 2024-02-08 15:56:55,078] Trial 41 finished with value: 654200.0858748155 and parameters: {'n_estimators': 138, 'max_depth': 10}. Best is trial 17 with value: 652337.3270711212.\n",
            "[I 2024-02-08 15:56:55,725] Trial 42 finished with value: 667514.0345082043 and parameters: {'n_estimators': 149, 'max_depth': 9}. Best is trial 17 with value: 652337.3270711212.\n",
            "[I 2024-02-08 15:56:56,346] Trial 43 finished with value: 655080.7887895425 and parameters: {'n_estimators': 139, 'max_depth': 10}. Best is trial 17 with value: 652337.3270711212.\n",
            "[I 2024-02-08 15:56:56,858] Trial 44 finished with value: 657276.1659013564 and parameters: {'n_estimators': 157, 'max_depth': 10}. Best is trial 17 with value: 652337.3270711212.\n",
            "[I 2024-02-08 15:56:57,252] Trial 45 finished with value: 665008.4298708349 and parameters: {'n_estimators': 145, 'max_depth': 9}. Best is trial 17 with value: 652337.3270711212.\n",
            "[I 2024-02-08 15:56:57,510] Trial 46 finished with value: 1744491.8433794514 and parameters: {'n_estimators': 123, 'max_depth': 3}. Best is trial 17 with value: 652337.3270711212.\n",
            "[I 2024-02-08 15:56:57,858] Trial 47 finished with value: 709624.1821529982 and parameters: {'n_estimators': 130, 'max_depth': 7}. Best is trial 17 with value: 652337.3270711212.\n",
            "[I 2024-02-08 15:56:58,295] Trial 48 finished with value: 659251.9529691128 and parameters: {'n_estimators': 151, 'max_depth': 10}. Best is trial 17 with value: 652337.3270711212.\n",
            "[I 2024-02-08 15:56:58,628] Trial 49 finished with value: 659004.8375009153 and parameters: {'n_estimators': 116, 'max_depth': 9}. Best is trial 17 with value: 652337.3270711212.\n",
            "[I 2024-02-08 15:56:59,084] Trial 50 finished with value: 655058.1108107241 and parameters: {'n_estimators': 161, 'max_depth': 10}. Best is trial 17 with value: 652337.3270711212.\n",
            "[I 2024-02-08 15:56:59,478] Trial 51 finished with value: 651503.567942855 and parameters: {'n_estimators': 137, 'max_depth': 10}. Best is trial 51 with value: 651503.567942855.\n",
            "[I 2024-02-08 15:56:59,880] Trial 52 finished with value: 661266.82984633 and parameters: {'n_estimators': 138, 'max_depth': 9}. Best is trial 51 with value: 651503.567942855.\n",
            "[I 2024-02-08 15:57:00,279] Trial 53 finished with value: 654355.8622357402 and parameters: {'n_estimators': 143, 'max_depth': 10}. Best is trial 51 with value: 651503.567942855.\n",
            "[I 2024-02-08 15:57:00,635] Trial 54 finished with value: 658914.1676740776 and parameters: {'n_estimators': 125, 'max_depth': 10}. Best is trial 51 with value: 651503.567942855.\n",
            "[I 2024-02-08 15:57:01,035] Trial 55 finished with value: 668648.1791444288 and parameters: {'n_estimators': 147, 'max_depth': 8}. Best is trial 51 with value: 651503.567942855.\n",
            "[I 2024-02-08 15:57:01,408] Trial 56 finished with value: 659720.3532729344 and parameters: {'n_estimators': 132, 'max_depth': 10}. Best is trial 51 with value: 651503.567942855.\n",
            "[I 2024-02-08 15:57:01,810] Trial 57 finished with value: 661944.4658917569 and parameters: {'n_estimators': 140, 'max_depth': 9}. Best is trial 51 with value: 651503.567942855.\n",
            "[I 2024-02-08 15:57:02,243] Trial 58 finished with value: 661978.8429869117 and parameters: {'n_estimators': 153, 'max_depth': 10}. Best is trial 51 with value: 651503.567942855.\n",
            "[I 2024-02-08 15:57:02,617] Trial 59 finished with value: 671605.1203698118 and parameters: {'n_estimators': 135, 'max_depth': 8}. Best is trial 51 with value: 651503.567942855.\n",
            "[I 2024-02-08 15:57:02,987] Trial 60 finished with value: 672375.6749126136 and parameters: {'n_estimators': 127, 'max_depth': 9}. Best is trial 51 with value: 651503.567942855.\n",
            "[I 2024-02-08 15:57:03,397] Trial 61 finished with value: 654355.8622357402 and parameters: {'n_estimators': 143, 'max_depth': 10}. Best is trial 51 with value: 651503.567942855.\n",
            "[I 2024-02-08 15:57:03,818] Trial 62 finished with value: 655842.2450160381 and parameters: {'n_estimators': 145, 'max_depth': 10}. Best is trial 51 with value: 651503.567942855.\n",
            "[I 2024-02-08 15:57:04,056] Trial 63 finished with value: 3043987.889462868 and parameters: {'n_estimators': 141, 'max_depth': 1}. Best is trial 51 with value: 651503.567942855.\n",
            "[I 2024-02-08 15:57:04,464] Trial 64 finished with value: 651503.567942855 and parameters: {'n_estimators': 137, 'max_depth': 10}. Best is trial 51 with value: 651503.567942855.\n",
            "[I 2024-02-08 15:57:04,846] Trial 65 finished with value: 660150.2348768786 and parameters: {'n_estimators': 136, 'max_depth': 9}. Best is trial 51 with value: 651503.567942855.\n",
            "[I 2024-02-08 15:57:05,219] Trial 66 finished with value: 659720.3532729344 and parameters: {'n_estimators': 132, 'max_depth': 10}. Best is trial 51 with value: 651503.567942855.\n",
            "[I 2024-02-08 15:57:05,613] Trial 67 finished with value: 659052.0190363353 and parameters: {'n_estimators': 137, 'max_depth': 9}. Best is trial 51 with value: 651503.567942855.\n",
            "[I 2024-02-08 15:57:06,046] Trial 68 finished with value: 659251.9529691128 and parameters: {'n_estimators': 151, 'max_depth': 10}. Best is trial 51 with value: 651503.567942855.\n",
            "[I 2024-02-08 15:57:06,413] Trial 69 finished with value: 662664.2922773461 and parameters: {'n_estimators': 129, 'max_depth': 10}. Best is trial 51 with value: 651503.567942855.\n",
            "[I 2024-02-08 15:57:06,802] Trial 70 finished with value: 2196305.7044234974 and parameters: {'n_estimators': 147, 'max_depth': 2}. Best is trial 51 with value: 651503.567942855.\n",
            "[I 2024-02-08 15:57:07,413] Trial 71 finished with value: 652621.3065577872 and parameters: {'n_estimators': 142, 'max_depth': 10}. Best is trial 51 with value: 651503.567942855.\n",
            "[I 2024-02-08 15:57:08,019] Trial 72 finished with value: 659205.4119774991 and parameters: {'n_estimators': 133, 'max_depth': 10}. Best is trial 51 with value: 651503.567942855.\n",
            "[I 2024-02-08 15:57:08,636] Trial 73 finished with value: 660883.7701262962 and parameters: {'n_estimators': 141, 'max_depth': 9}. Best is trial 51 with value: 651503.567942855.\n",
            "[I 2024-02-08 15:57:09,163] Trial 74 finished with value: 795225.0846488717 and parameters: {'n_estimators': 138, 'max_depth': 6}. Best is trial 51 with value: 651503.567942855.\n",
            "[I 2024-02-08 15:57:09,806] Trial 75 finished with value: 653466.6551753057 and parameters: {'n_estimators': 146, 'max_depth': 10}. Best is trial 51 with value: 651503.567942855.\n",
            "[I 2024-02-08 15:57:10,381] Trial 76 finished with value: 662490.8297831351 and parameters: {'n_estimators': 154, 'max_depth': 10}. Best is trial 51 with value: 651503.567942855.\n",
            "[I 2024-02-08 15:57:10,789] Trial 77 finished with value: 662967.2125261425 and parameters: {'n_estimators': 146, 'max_depth': 9}. Best is trial 51 with value: 651503.567942855.\n",
            "[I 2024-02-08 15:57:11,356] Trial 78 finished with value: 670877.6332930091 and parameters: {'n_estimators': 196, 'max_depth': 10}. Best is trial 51 with value: 651503.567942855.\n",
            "[I 2024-02-08 15:57:11,782] Trial 79 finished with value: 666421.9742113904 and parameters: {'n_estimators': 150, 'max_depth': 9}. Best is trial 51 with value: 651503.567942855.\n",
            "[I 2024-02-08 15:57:12,251] Trial 80 finished with value: 659634.0260113742 and parameters: {'n_estimators': 158, 'max_depth': 10}. Best is trial 51 with value: 651503.567942855.\n",
            "[I 2024-02-08 15:57:12,676] Trial 81 finished with value: 652621.3065577872 and parameters: {'n_estimators': 142, 'max_depth': 10}. Best is trial 51 with value: 651503.567942855.\n",
            "[I 2024-02-08 15:57:13,100] Trial 82 finished with value: 652621.3065577872 and parameters: {'n_estimators': 142, 'max_depth': 10}. Best is trial 51 with value: 651503.567942855.\n",
            "[I 2024-02-08 15:57:13,543] Trial 83 finished with value: 652621.3065577872 and parameters: {'n_estimators': 142, 'max_depth': 10}. Best is trial 51 with value: 651503.567942855.\n",
            "[I 2024-02-08 15:57:13,961] Trial 84 finished with value: 653413.017683971 and parameters: {'n_estimators': 144, 'max_depth': 10}. Best is trial 51 with value: 651503.567942855.\n",
            "[I 2024-02-08 15:57:14,382] Trial 85 finished with value: 653742.303110617 and parameters: {'n_estimators': 141, 'max_depth': 10}. Best is trial 51 with value: 651503.567942855.\n",
            "[I 2024-02-08 15:57:14,705] Trial 86 finished with value: 1091711.480621794 and parameters: {'n_estimators': 143, 'max_depth': 4}. Best is trial 51 with value: 651503.567942855.\n",
            "[I 2024-02-08 15:57:15,094] Trial 87 finished with value: 660150.2348768786 and parameters: {'n_estimators': 136, 'max_depth': 9}. Best is trial 51 with value: 651503.567942855.\n",
            "[I 2024-02-08 15:57:15,535] Trial 88 finished with value: 658431.5934852533 and parameters: {'n_estimators': 149, 'max_depth': 10}. Best is trial 51 with value: 651503.567942855.\n",
            "[I 2024-02-08 15:57:15,924] Trial 89 finished with value: 657428.8855335163 and parameters: {'n_estimators': 134, 'max_depth': 10}. Best is trial 51 with value: 651503.567942855.\n",
            "[I 2024-02-08 15:57:16,371] Trial 90 finished with value: 671789.6611305232 and parameters: {'n_estimators': 156, 'max_depth': 9}. Best is trial 51 with value: 651503.567942855.\n",
            "[I 2024-02-08 15:57:16,791] Trial 91 finished with value: 653466.6551753057 and parameters: {'n_estimators': 146, 'max_depth': 10}. Best is trial 51 with value: 651503.567942855.\n",
            "[I 2024-02-08 15:57:17,206] Trial 92 finished with value: 653413.017683971 and parameters: {'n_estimators': 144, 'max_depth': 10}. Best is trial 51 with value: 651503.567942855.\n",
            "[I 2024-02-08 15:57:17,655] Trial 93 finished with value: 654355.8622357402 and parameters: {'n_estimators': 143, 'max_depth': 10}. Best is trial 51 with value: 651503.567942855.\n",
            "[I 2024-02-08 15:57:18,062] Trial 94 finished with value: 655080.7887895425 and parameters: {'n_estimators': 139, 'max_depth': 10}. Best is trial 51 with value: 651503.567942855.\n",
            "[I 2024-02-08 15:57:18,484] Trial 95 finished with value: 661302.2611520053 and parameters: {'n_estimators': 144, 'max_depth': 9}. Best is trial 51 with value: 651503.567942855.\n",
            "[I 2024-02-08 15:57:18,877] Trial 96 finished with value: 662354.1387277131 and parameters: {'n_estimators': 131, 'max_depth': 10}. Best is trial 51 with value: 651503.567942855.\n",
            "[I 2024-02-08 15:57:19,303] Trial 97 finished with value: 671617.9366597154 and parameters: {'n_estimators': 152, 'max_depth': 9}. Best is trial 51 with value: 651503.567942855.\n",
            "[I 2024-02-08 15:57:19,747] Trial 98 finished with value: 654295.3673232837 and parameters: {'n_estimators': 140, 'max_depth': 10}. Best is trial 51 with value: 651503.567942855.\n",
            "[I 2024-02-08 15:57:20,163] Trial 99 finished with value: 657428.8855335163 and parameters: {'n_estimators': 134, 'max_depth': 10}. Best is trial 51 with value: 651503.567942855.\n"
          ]
        },
        {
          "output_type": "display_data",
          "data": {
            "text/html": [
              "<html>\n",
              "<head><meta charset=\"utf-8\" /></head>\n",
              "<body>\n",
              "    <div>            <script src=\"https://cdnjs.cloudflare.com/ajax/libs/mathjax/2.7.5/MathJax.js?config=TeX-AMS-MML_SVG\"></script><script type=\"text/javascript\">if (window.MathJax && window.MathJax.Hub && window.MathJax.Hub.Config) {window.MathJax.Hub.Config({SVG: {font: \"STIX-Web\"}});}</script>                <script type=\"text/javascript\">window.PlotlyConfig = {MathJaxConfig: 'local'};</script>\n",
              "        <script charset=\"utf-8\" src=\"https://cdn.plot.ly/plotly-2.24.1.min.js\"></script>                <div id=\"325dedac-3e33-430c-85f9-788efa73c03f\" class=\"plotly-graph-div\" style=\"height:525px; width:100%;\"></div>            <script type=\"text/javascript\">                                    window.PLOTLYENV=window.PLOTLYENV || {};                                    if (document.getElementById(\"325dedac-3e33-430c-85f9-788efa73c03f\")) {                    Plotly.newPlot(                        \"325dedac-3e33-430c-85f9-788efa73c03f\",                        [{\"mode\":\"markers\",\"name\":\"Objective Value\",\"x\":[0,1,2,3,4,5,6,7,8,9,10,11,12,13,14,15,16,17,18,19,20,21,22,23,24,25,26,27,28,29,30,31,32,33,34,35,36,37,38,39,40,41,42,43,44,45,46,47,48,49,50,51,52,53,54,55,56,57,58,59,60,61,62,63,64,65,66,67,68,69,70,71,72,73,74,75,76,77,78,79,80,81,82,83,84,85,86,87,88,89,90,91,92,93,94,95,96,97,98,99],\"y\":[658685.5200800243,1752283.341717364,1096690.3855943794,655842.2450160381,660049.0691353395,665008.4298708349,932957.0483502335,660029.062874455,675815.242633465,710547.7090984281,2199668.885119586,715075.9214836515,669658.3772941848,716299.0576324874,653742.303110617,795885.9258140277,3043959.917675773,652337.3270711212,670517.5336971832,802410.2587093347,682746.0332259783,654850.6411152001,654200.0858748155,672801.8942001608,662490.8297831351,672997.1038092249,659816.8284796571,659634.0260113742,929725.4230156279,663583.3644001929,672140.1670952215,654850.6411152001,659720.3532729344,671578.4228862284,656212.8862739431,1096690.3855943794,655445.1967490796,672533.919152789,653413.017683971,661302.2611520053,680421.345995782,654200.0858748155,667514.0345082043,655080.7887895425,657276.1659013564,665008.4298708349,1744491.8433794514,709624.1821529982,659251.9529691128,659004.8375009153,655058.1108107241,651503.567942855,661266.82984633,654355.8622357402,658914.1676740776,668648.1791444288,659720.3532729344,661944.4658917569,661978.8429869117,671605.1203698118,672375.6749126136,654355.8622357402,655842.2450160381,3043987.889462868,651503.567942855,660150.2348768786,659720.3532729344,659052.0190363353,659251.9529691128,662664.2922773461,2196305.7044234974,652621.3065577872,659205.4119774991,660883.7701262962,795225.0846488717,653466.6551753057,662490.8297831351,662967.2125261425,670877.6332930091,666421.9742113904,659634.0260113742,652621.3065577872,652621.3065577872,652621.3065577872,653413.017683971,653742.303110617,1091711.480621794,660150.2348768786,658431.5934852533,657428.8855335163,671789.6611305232,653466.6551753057,653413.017683971,654355.8622357402,655080.7887895425,661302.2611520053,662354.1387277131,671617.9366597154,654295.3673232837,657428.8855335163],\"type\":\"scatter\"},{\"mode\":\"lines\",\"name\":\"Best Value\",\"x\":[0,1,2,3,4,5,6,7,8,9,10,11,12,13,14,15,16,17,18,19,20,21,22,23,24,25,26,27,28,29,30,31,32,33,34,35,36,37,38,39,40,41,42,43,44,45,46,47,48,49,50,51,52,53,54,55,56,57,58,59,60,61,62,63,64,65,66,67,68,69,70,71,72,73,74,75,76,77,78,79,80,81,82,83,84,85,86,87,88,89,90,91,92,93,94,95,96,97,98,99],\"y\":[658685.5200800243,658685.5200800243,658685.5200800243,655842.2450160381,655842.2450160381,655842.2450160381,655842.2450160381,655842.2450160381,655842.2450160381,655842.2450160381,655842.2450160381,655842.2450160381,655842.2450160381,655842.2450160381,653742.303110617,653742.303110617,653742.303110617,652337.3270711212,652337.3270711212,652337.3270711212,652337.3270711212,652337.3270711212,652337.3270711212,652337.3270711212,652337.3270711212,652337.3270711212,652337.3270711212,652337.3270711212,652337.3270711212,652337.3270711212,652337.3270711212,652337.3270711212,652337.3270711212,652337.3270711212,652337.3270711212,652337.3270711212,652337.3270711212,652337.3270711212,652337.3270711212,652337.3270711212,652337.3270711212,652337.3270711212,652337.3270711212,652337.3270711212,652337.3270711212,652337.3270711212,652337.3270711212,652337.3270711212,652337.3270711212,652337.3270711212,652337.3270711212,651503.567942855,651503.567942855,651503.567942855,651503.567942855,651503.567942855,651503.567942855,651503.567942855,651503.567942855,651503.567942855,651503.567942855,651503.567942855,651503.567942855,651503.567942855,651503.567942855,651503.567942855,651503.567942855,651503.567942855,651503.567942855,651503.567942855,651503.567942855,651503.567942855,651503.567942855,651503.567942855,651503.567942855,651503.567942855,651503.567942855,651503.567942855,651503.567942855,651503.567942855,651503.567942855,651503.567942855,651503.567942855,651503.567942855,651503.567942855,651503.567942855,651503.567942855,651503.567942855,651503.567942855,651503.567942855,651503.567942855,651503.567942855,651503.567942855,651503.567942855,651503.567942855,651503.567942855,651503.567942855,651503.567942855,651503.567942855,651503.567942855],\"type\":\"scatter\"},{\"marker\":{\"color\":\"#cccccc\"},\"mode\":\"markers\",\"name\":\"Infeasible Trial\",\"showlegend\":false,\"x\":[],\"y\":[],\"type\":\"scatter\"}],                        {\"title\":{\"text\":\"Optimization History Plot\"},\"xaxis\":{\"title\":{\"text\":\"Trial\"}},\"yaxis\":{\"title\":{\"text\":\"Objective Value\"}},\"template\":{\"data\":{\"histogram2dcontour\":[{\"type\":\"histogram2dcontour\",\"colorbar\":{\"outlinewidth\":0,\"ticks\":\"\"},\"colorscale\":[[0.0,\"#0d0887\"],[0.1111111111111111,\"#46039f\"],[0.2222222222222222,\"#7201a8\"],[0.3333333333333333,\"#9c179e\"],[0.4444444444444444,\"#bd3786\"],[0.5555555555555556,\"#d8576b\"],[0.6666666666666666,\"#ed7953\"],[0.7777777777777778,\"#fb9f3a\"],[0.8888888888888888,\"#fdca26\"],[1.0,\"#f0f921\"]]}],\"choropleth\":[{\"type\":\"choropleth\",\"colorbar\":{\"outlinewidth\":0,\"ticks\":\"\"}}],\"histogram2d\":[{\"type\":\"histogram2d\",\"colorbar\":{\"outlinewidth\":0,\"ticks\":\"\"},\"colorscale\":[[0.0,\"#0d0887\"],[0.1111111111111111,\"#46039f\"],[0.2222222222222222,\"#7201a8\"],[0.3333333333333333,\"#9c179e\"],[0.4444444444444444,\"#bd3786\"],[0.5555555555555556,\"#d8576b\"],[0.6666666666666666,\"#ed7953\"],[0.7777777777777778,\"#fb9f3a\"],[0.8888888888888888,\"#fdca26\"],[1.0,\"#f0f921\"]]}],\"heatmap\":[{\"type\":\"heatmap\",\"colorbar\":{\"outlinewidth\":0,\"ticks\":\"\"},\"colorscale\":[[0.0,\"#0d0887\"],[0.1111111111111111,\"#46039f\"],[0.2222222222222222,\"#7201a8\"],[0.3333333333333333,\"#9c179e\"],[0.4444444444444444,\"#bd3786\"],[0.5555555555555556,\"#d8576b\"],[0.6666666666666666,\"#ed7953\"],[0.7777777777777778,\"#fb9f3a\"],[0.8888888888888888,\"#fdca26\"],[1.0,\"#f0f921\"]]}],\"heatmapgl\":[{\"type\":\"heatmapgl\",\"colorbar\":{\"outlinewidth\":0,\"ticks\":\"\"},\"colorscale\":[[0.0,\"#0d0887\"],[0.1111111111111111,\"#46039f\"],[0.2222222222222222,\"#7201a8\"],[0.3333333333333333,\"#9c179e\"],[0.4444444444444444,\"#bd3786\"],[0.5555555555555556,\"#d8576b\"],[0.6666666666666666,\"#ed7953\"],[0.7777777777777778,\"#fb9f3a\"],[0.8888888888888888,\"#fdca26\"],[1.0,\"#f0f921\"]]}],\"contourcarpet\":[{\"type\":\"contourcarpet\",\"colorbar\":{\"outlinewidth\":0,\"ticks\":\"\"}}],\"contour\":[{\"type\":\"contour\",\"colorbar\":{\"outlinewidth\":0,\"ticks\":\"\"},\"colorscale\":[[0.0,\"#0d0887\"],[0.1111111111111111,\"#46039f\"],[0.2222222222222222,\"#7201a8\"],[0.3333333333333333,\"#9c179e\"],[0.4444444444444444,\"#bd3786\"],[0.5555555555555556,\"#d8576b\"],[0.6666666666666666,\"#ed7953\"],[0.7777777777777778,\"#fb9f3a\"],[0.8888888888888888,\"#fdca26\"],[1.0,\"#f0f921\"]]}],\"surface\":[{\"type\":\"surface\",\"colorbar\":{\"outlinewidth\":0,\"ticks\":\"\"},\"colorscale\":[[0.0,\"#0d0887\"],[0.1111111111111111,\"#46039f\"],[0.2222222222222222,\"#7201a8\"],[0.3333333333333333,\"#9c179e\"],[0.4444444444444444,\"#bd3786\"],[0.5555555555555556,\"#d8576b\"],[0.6666666666666666,\"#ed7953\"],[0.7777777777777778,\"#fb9f3a\"],[0.8888888888888888,\"#fdca26\"],[1.0,\"#f0f921\"]]}],\"mesh3d\":[{\"type\":\"mesh3d\",\"colorbar\":{\"outlinewidth\":0,\"ticks\":\"\"}}],\"scatter\":[{\"fillpattern\":{\"fillmode\":\"overlay\",\"size\":10,\"solidity\":0.2},\"type\":\"scatter\"}],\"parcoords\":[{\"type\":\"parcoords\",\"line\":{\"colorbar\":{\"outlinewidth\":0,\"ticks\":\"\"}}}],\"scatterpolargl\":[{\"type\":\"scatterpolargl\",\"marker\":{\"colorbar\":{\"outlinewidth\":0,\"ticks\":\"\"}}}],\"bar\":[{\"error_x\":{\"color\":\"#2a3f5f\"},\"error_y\":{\"color\":\"#2a3f5f\"},\"marker\":{\"line\":{\"color\":\"#E5ECF6\",\"width\":0.5},\"pattern\":{\"fillmode\":\"overlay\",\"size\":10,\"solidity\":0.2}},\"type\":\"bar\"}],\"scattergeo\":[{\"type\":\"scattergeo\",\"marker\":{\"colorbar\":{\"outlinewidth\":0,\"ticks\":\"\"}}}],\"scatterpolar\":[{\"type\":\"scatterpolar\",\"marker\":{\"colorbar\":{\"outlinewidth\":0,\"ticks\":\"\"}}}],\"histogram\":[{\"marker\":{\"pattern\":{\"fillmode\":\"overlay\",\"size\":10,\"solidity\":0.2}},\"type\":\"histogram\"}],\"scattergl\":[{\"type\":\"scattergl\",\"marker\":{\"colorbar\":{\"outlinewidth\":0,\"ticks\":\"\"}}}],\"scatter3d\":[{\"type\":\"scatter3d\",\"line\":{\"colorbar\":{\"outlinewidth\":0,\"ticks\":\"\"}},\"marker\":{\"colorbar\":{\"outlinewidth\":0,\"ticks\":\"\"}}}],\"scattermapbox\":[{\"type\":\"scattermapbox\",\"marker\":{\"colorbar\":{\"outlinewidth\":0,\"ticks\":\"\"}}}],\"scatterternary\":[{\"type\":\"scatterternary\",\"marker\":{\"colorbar\":{\"outlinewidth\":0,\"ticks\":\"\"}}}],\"scattercarpet\":[{\"type\":\"scattercarpet\",\"marker\":{\"colorbar\":{\"outlinewidth\":0,\"ticks\":\"\"}}}],\"carpet\":[{\"aaxis\":{\"endlinecolor\":\"#2a3f5f\",\"gridcolor\":\"white\",\"linecolor\":\"white\",\"minorgridcolor\":\"white\",\"startlinecolor\":\"#2a3f5f\"},\"baxis\":{\"endlinecolor\":\"#2a3f5f\",\"gridcolor\":\"white\",\"linecolor\":\"white\",\"minorgridcolor\":\"white\",\"startlinecolor\":\"#2a3f5f\"},\"type\":\"carpet\"}],\"table\":[{\"cells\":{\"fill\":{\"color\":\"#EBF0F8\"},\"line\":{\"color\":\"white\"}},\"header\":{\"fill\":{\"color\":\"#C8D4E3\"},\"line\":{\"color\":\"white\"}},\"type\":\"table\"}],\"barpolar\":[{\"marker\":{\"line\":{\"color\":\"#E5ECF6\",\"width\":0.5},\"pattern\":{\"fillmode\":\"overlay\",\"size\":10,\"solidity\":0.2}},\"type\":\"barpolar\"}],\"pie\":[{\"automargin\":true,\"type\":\"pie\"}]},\"layout\":{\"autotypenumbers\":\"strict\",\"colorway\":[\"#636efa\",\"#EF553B\",\"#00cc96\",\"#ab63fa\",\"#FFA15A\",\"#19d3f3\",\"#FF6692\",\"#B6E880\",\"#FF97FF\",\"#FECB52\"],\"font\":{\"color\":\"#2a3f5f\"},\"hovermode\":\"closest\",\"hoverlabel\":{\"align\":\"left\"},\"paper_bgcolor\":\"white\",\"plot_bgcolor\":\"#E5ECF6\",\"polar\":{\"bgcolor\":\"#E5ECF6\",\"angularaxis\":{\"gridcolor\":\"white\",\"linecolor\":\"white\",\"ticks\":\"\"},\"radialaxis\":{\"gridcolor\":\"white\",\"linecolor\":\"white\",\"ticks\":\"\"}},\"ternary\":{\"bgcolor\":\"#E5ECF6\",\"aaxis\":{\"gridcolor\":\"white\",\"linecolor\":\"white\",\"ticks\":\"\"},\"baxis\":{\"gridcolor\":\"white\",\"linecolor\":\"white\",\"ticks\":\"\"},\"caxis\":{\"gridcolor\":\"white\",\"linecolor\":\"white\",\"ticks\":\"\"}},\"coloraxis\":{\"colorbar\":{\"outlinewidth\":0,\"ticks\":\"\"}},\"colorscale\":{\"sequential\":[[0.0,\"#0d0887\"],[0.1111111111111111,\"#46039f\"],[0.2222222222222222,\"#7201a8\"],[0.3333333333333333,\"#9c179e\"],[0.4444444444444444,\"#bd3786\"],[0.5555555555555556,\"#d8576b\"],[0.6666666666666666,\"#ed7953\"],[0.7777777777777778,\"#fb9f3a\"],[0.8888888888888888,\"#fdca26\"],[1.0,\"#f0f921\"]],\"sequentialminus\":[[0.0,\"#0d0887\"],[0.1111111111111111,\"#46039f\"],[0.2222222222222222,\"#7201a8\"],[0.3333333333333333,\"#9c179e\"],[0.4444444444444444,\"#bd3786\"],[0.5555555555555556,\"#d8576b\"],[0.6666666666666666,\"#ed7953\"],[0.7777777777777778,\"#fb9f3a\"],[0.8888888888888888,\"#fdca26\"],[1.0,\"#f0f921\"]],\"diverging\":[[0,\"#8e0152\"],[0.1,\"#c51b7d\"],[0.2,\"#de77ae\"],[0.3,\"#f1b6da\"],[0.4,\"#fde0ef\"],[0.5,\"#f7f7f7\"],[0.6,\"#e6f5d0\"],[0.7,\"#b8e186\"],[0.8,\"#7fbc41\"],[0.9,\"#4d9221\"],[1,\"#276419\"]]},\"xaxis\":{\"gridcolor\":\"white\",\"linecolor\":\"white\",\"ticks\":\"\",\"title\":{\"standoff\":15},\"zerolinecolor\":\"white\",\"automargin\":true,\"zerolinewidth\":2},\"yaxis\":{\"gridcolor\":\"white\",\"linecolor\":\"white\",\"ticks\":\"\",\"title\":{\"standoff\":15},\"zerolinecolor\":\"white\",\"automargin\":true,\"zerolinewidth\":2},\"scene\":{\"xaxis\":{\"backgroundcolor\":\"#E5ECF6\",\"gridcolor\":\"white\",\"linecolor\":\"white\",\"showbackground\":true,\"ticks\":\"\",\"zerolinecolor\":\"white\",\"gridwidth\":2},\"yaxis\":{\"backgroundcolor\":\"#E5ECF6\",\"gridcolor\":\"white\",\"linecolor\":\"white\",\"showbackground\":true,\"ticks\":\"\",\"zerolinecolor\":\"white\",\"gridwidth\":2},\"zaxis\":{\"backgroundcolor\":\"#E5ECF6\",\"gridcolor\":\"white\",\"linecolor\":\"white\",\"showbackground\":true,\"ticks\":\"\",\"zerolinecolor\":\"white\",\"gridwidth\":2}},\"shapedefaults\":{\"line\":{\"color\":\"#2a3f5f\"}},\"annotationdefaults\":{\"arrowcolor\":\"#2a3f5f\",\"arrowhead\":0,\"arrowwidth\":1},\"geo\":{\"bgcolor\":\"white\",\"landcolor\":\"#E5ECF6\",\"subunitcolor\":\"white\",\"showland\":true,\"showlakes\":true,\"lakecolor\":\"white\"},\"title\":{\"x\":0.05},\"mapbox\":{\"style\":\"light\"}}}},                        {\"responsive\": true}                    ).then(function(){\n",
              "                            \n",
              "var gd = document.getElementById('325dedac-3e33-430c-85f9-788efa73c03f');\n",
              "var x = new MutationObserver(function (mutations, observer) {{\n",
              "        var display = window.getComputedStyle(gd).display;\n",
              "        if (!display || display === 'none') {{\n",
              "            console.log([gd, 'removed!']);\n",
              "            Plotly.purge(gd);\n",
              "            observer.disconnect();\n",
              "        }}\n",
              "}});\n",
              "\n",
              "// Listen for the removal of the full notebook cells\n",
              "var notebookContainer = gd.closest('#notebook-container');\n",
              "if (notebookContainer) {{\n",
              "    x.observe(notebookContainer, {childList: true});\n",
              "}}\n",
              "\n",
              "// Listen for the clearing of the current output cell\n",
              "var outputEl = gd.closest('.output');\n",
              "if (outputEl) {{\n",
              "    x.observe(outputEl, {childList: true});\n",
              "}}\n",
              "\n",
              "                        })                };                            </script>        </div>\n",
              "</body>\n",
              "</html>"
            ]
          },
          "metadata": {}
        }
      ]
    },
    {
      "cell_type": "code",
      "source": [
        "def detailed_objective(trial):\n",
        "  parametere = {\n",
        "      'n_estimators': trial.suggest_int('n_estimators', 100, 200),\n",
        "      'max_depth': trial.suggest_int('max_depth', 1, 10)\n",
        "  }\n",
        "  rf_pipeline = Pipeline([\n",
        "      ('skalerer', StandardScaler()),\n",
        "      ('modell', RandomForestRegressor(**parametere, random_state=random_seed))\n",
        "  ])\n",
        "\n",
        "  rf_pipeline.fit(X_trening, y_trening)\n",
        "  y_test_prediksjon = rf_pipeline.predict(X_test)\n",
        "  y_trening_prediksjon = rf_pipeline.predict(X_trening)\n",
        "\n",
        "  mse_test = mean_squared_error(y_test, y_test_prediksjon)\n",
        "  r2_test = r2_score(y_test, y_test_prediksjon)\n",
        "\n",
        "  mse_trening = mean_squared_error(y_trening, y_trening_prediksjon)\n",
        "  r2_trening = r2_score(y_trening, y_trening_prediksjon)\n",
        "\n",
        "  return mse_test, r2_test, mse_trening, r2_trening\n",
        "\n",
        "mse_test_resultat = detailed_objective(study.best_trial)[0]\n",
        "r2_test_resultat = detailed_objective(study.best_trial)[1]\n",
        "mse_trening_resultat = detailed_objective(study.best_trial)[2]\n",
        "r2_trening_resultat = detailed_objective(study.best_trial)[3]\n",
        "\n",
        "print(\"Beste hyperparametere for RandomForestRegressor: {}\".format(study.best_params))\n",
        "print(\"Test: MSE: {}, og R^2: {}\".format(mse_test_resultat, r2_test_resultat))\n",
        "print(\"Trening: MSE: {}, og R^2: {}\".format(mse_trening_resultat, r2_trening_resultat))"
      ],
      "metadata": {
        "colab": {
          "base_uri": "https://localhost:8080/"
        },
        "id": "Dbf_K1eubwGa",
        "outputId": "4dc6ecde-0a50-4e28-d541-1259fafb2594"
      },
      "execution_count": null,
      "outputs": [
        {
          "output_type": "stream",
          "name": "stdout",
          "text": [
            "Beste hyperparametere for RandomForestRegressor: {'n_estimators': 137, 'max_depth': 10}\n",
            "Test: MSE: 651503.567942855, og R^2: 0.8843641561009515\n",
            "Trening: MSE: 89700.96796595304, og R^2: 0.984433131560698\n"
          ]
        }
      ]
    }
  ]
}