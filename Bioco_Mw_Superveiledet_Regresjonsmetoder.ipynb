{
  "cells": [
    {
      "cell_type": "markdown",
      "metadata": {
        "id": "view-in-github",
        "colab_type": "text"
      },
      "source": [
        "<a href=\"https://colab.research.google.com/github/PreyPython123/Master-V24-Semiveiledet-Regresjon/blob/Mw-Pradeep/Bioco_Mw_Superveiledet_Regresjonsmetoder.ipynb\" target=\"_parent\"><img src=\"https://colab.research.google.com/assets/colab-badge.svg\" alt=\"Open In Colab\"/></a>"
      ]
    },
    {
      "cell_type": "code",
      "execution_count": 1,
      "metadata": {
        "colab": {
          "base_uri": "https://localhost:8080/"
        },
        "id": "nwEzUjnf0xLZ",
        "outputId": "caed6292-3978-427a-cb9c-8243dc0f5d74"
      },
      "outputs": [
        {
          "output_type": "stream",
          "name": "stdout",
          "text": [
            "Mounted at /content/drive/\n"
          ]
        }
      ],
      "source": [
        "from google.colab import drive\n",
        "drive.mount('/content/drive/')"
      ]
    },
    {
      "cell_type": "markdown",
      "metadata": {
        "id": "uPtuGVtCJOFj"
      },
      "source": [
        "# Importering, lasting og formattering"
      ]
    },
    {
      "cell_type": "markdown",
      "metadata": {
        "id": "ZNeQrag9Rlc_"
      },
      "source": [
        "Lasting av nødvendige bibliotek og pakker"
      ]
    },
    {
      "cell_type": "code",
      "execution_count": 2,
      "metadata": {
        "colab": {
          "base_uri": "https://localhost:8080/"
        },
        "id": "k5u1dZmp6cJ9",
        "outputId": "f86b8385-745e-4eab-89f1-b729893bbb49"
      },
      "outputs": [
        {
          "output_type": "stream",
          "name": "stdout",
          "text": [
            "Collecting optuna\n",
            "  Downloading optuna-3.6.1-py3-none-any.whl (380 kB)\n",
            "\u001b[2K     \u001b[90m━━━━━━━━━━━━━━━━━━━━━━━━━━━━━━━━━━━━━━━━\u001b[0m \u001b[32m380.1/380.1 kB\u001b[0m \u001b[31m1.6 MB/s\u001b[0m eta \u001b[36m0:00:00\u001b[0m\n",
            "\u001b[?25hCollecting alembic>=1.5.0 (from optuna)\n",
            "  Downloading alembic-1.13.1-py3-none-any.whl (233 kB)\n",
            "\u001b[2K     \u001b[90m━━━━━━━━━━━━━━━━━━━━━━━━━━━━━━━━━━━━━━━━\u001b[0m \u001b[32m233.4/233.4 kB\u001b[0m \u001b[31m3.0 MB/s\u001b[0m eta \u001b[36m0:00:00\u001b[0m\n",
            "\u001b[?25hCollecting colorlog (from optuna)\n",
            "  Downloading colorlog-6.8.2-py3-none-any.whl (11 kB)\n",
            "Requirement already satisfied: numpy in /usr/local/lib/python3.10/dist-packages (from optuna) (1.25.2)\n",
            "Requirement already satisfied: packaging>=20.0 in /usr/local/lib/python3.10/dist-packages (from optuna) (24.0)\n",
            "Requirement already satisfied: sqlalchemy>=1.3.0 in /usr/local/lib/python3.10/dist-packages (from optuna) (2.0.29)\n",
            "Requirement already satisfied: tqdm in /usr/local/lib/python3.10/dist-packages (from optuna) (4.66.2)\n",
            "Requirement already satisfied: PyYAML in /usr/local/lib/python3.10/dist-packages (from optuna) (6.0.1)\n",
            "Collecting Mako (from alembic>=1.5.0->optuna)\n",
            "  Downloading Mako-1.3.3-py3-none-any.whl (78 kB)\n",
            "\u001b[2K     \u001b[90m━━━━━━━━━━━━━━━━━━━━━━━━━━━━━━━━━━━━━━━━\u001b[0m \u001b[32m78.8/78.8 kB\u001b[0m \u001b[31m7.2 MB/s\u001b[0m eta \u001b[36m0:00:00\u001b[0m\n",
            "\u001b[?25hRequirement already satisfied: typing-extensions>=4 in /usr/local/lib/python3.10/dist-packages (from alembic>=1.5.0->optuna) (4.11.0)\n",
            "Requirement already satisfied: greenlet!=0.4.17 in /usr/local/lib/python3.10/dist-packages (from sqlalchemy>=1.3.0->optuna) (3.0.3)\n",
            "Requirement already satisfied: MarkupSafe>=0.9.2 in /usr/local/lib/python3.10/dist-packages (from Mako->alembic>=1.5.0->optuna) (2.1.5)\n",
            "Installing collected packages: Mako, colorlog, alembic, optuna\n",
            "Successfully installed Mako-1.3.3 alembic-1.13.1 colorlog-6.8.2 optuna-3.6.1\n"
          ]
        }
      ],
      "source": [
        "!pip install optuna"
      ]
    },
    {
      "cell_type": "markdown",
      "metadata": {
        "id": "jT-YzIdVRply"
      },
      "source": [
        "Importering av nødvendig bibliotek og pakker"
      ]
    },
    {
      "cell_type": "code",
      "execution_count": 3,
      "metadata": {
        "id": "5_s-eJyVk3v0"
      },
      "outputs": [],
      "source": [
        "import pandas as pd\n",
        "import numpy as np\n",
        "import copy\n",
        "import math\n",
        "from statistics import mean, stdev\n",
        "\n",
        "from sklearn.preprocessing import StandardScaler\n",
        "from sklearn.model_selection import RepeatedStratifiedKFold\n",
        "from sklearn.pipeline import Pipeline"
      ]
    },
    {
      "cell_type": "code",
      "source": [
        "# Modeller\n",
        "from sklearn.ensemble import RandomForestRegressor\n",
        "from sklearn.neighbors import KNeighborsRegressor\n",
        "from sklearn.svm import SVR"
      ],
      "metadata": {
        "id": "EH3SQKCIfwnC"
      },
      "execution_count": 4,
      "outputs": []
    },
    {
      "cell_type": "code",
      "execution_count": 5,
      "metadata": {
        "id": "GrgCsoZhmayI"
      },
      "outputs": [],
      "source": [
        "# Hyperoptimalisering\n",
        "import optuna\n",
        "from optuna.visualization import plot_optimization_history\n",
        "\n",
        "# Utelukker utskriving av logg for hyperoptimalisering\n",
        "optuna.logging.set_verbosity(optuna.logging.WARNING)"
      ]
    },
    {
      "cell_type": "markdown",
      "metadata": {
        "id": "qhRMrFFHlZuX"
      },
      "source": [
        "# Egendefinerte moduler"
      ]
    },
    {
      "cell_type": "code",
      "execution_count": 6,
      "metadata": {
        "colab": {
          "base_uri": "https://localhost:8080/"
        },
        "id": "FXgxrml5lg5B",
        "outputId": "d8a23626-016b-4135-a4b3-f99e0b73a273"
      },
      "outputs": [
        {
          "output_type": "stream",
          "name": "stdout",
          "text": [
            "/content\n"
          ]
        }
      ],
      "source": [
        "!pwd\n",
        "! cp /content/drive/MyDrive/MasterV24/GitHub/moduler_trening_validering_testing_evaluering.py /content/moduler_trening_validering_testing_evaluering.py"
      ]
    },
    {
      "cell_type": "code",
      "execution_count": 7,
      "metadata": {
        "id": "tvOTDwKLf0q8"
      },
      "outputs": [],
      "source": [
        "from moduler_trening_validering_testing_evaluering import trening_testsett_oppdeling_enzym\n",
        "from moduler_trening_validering_testing_evaluering import trening_testsett_oppdeling_dag\n",
        "from moduler_trening_validering_testing_evaluering import trening_validering_oppdeling_dag\n",
        "\n",
        "from moduler_trening_validering_testing_evaluering import enzymfordeling\n",
        "from moduler_trening_validering_testing_evaluering import n_splitt_enzym\n",
        "from moduler_trening_validering_testing_evaluering import Resultat_evaluering\n",
        "from moduler_trening_validering_testing_evaluering import res_eval_opt\n",
        "from moduler_trening_validering_testing_evaluering import res_eval\n",
        "from moduler_trening_validering_testing_evaluering import Resultat_dicts"
      ]
    },
    {
      "cell_type": "code",
      "execution_count": 8,
      "metadata": {
        "colab": {
          "base_uri": "https://localhost:8080/"
        },
        "id": "JTs_zHhkiBpK",
        "outputId": "eff3b817-07a9-49ae-fb7a-226fdc78308d"
      },
      "outputs": [
        {
          "output_type": "stream",
          "name": "stdout",
          "text": [
            "/content\n"
          ]
        }
      ],
      "source": [
        "!pwd\n",
        "! cp /content/drive/MyDrive/MasterV24/GitHub/moduler_optimalisering_evaluering_veiledet.py /content/moduler_optimalisering_evaluering_veiledet.py"
      ]
    },
    {
      "cell_type": "code",
      "execution_count": 9,
      "metadata": {
        "id": "A5GEVrXsiYd-"
      },
      "outputs": [],
      "source": [
        "from moduler_optimalisering_evaluering_veiledet import trening_rfr_enzym\n",
        "from moduler_optimalisering_evaluering_veiledet import trening_knr_enzym\n",
        "from moduler_optimalisering_evaluering_veiledet import trening_svr_enzym\n",
        "\n",
        "from moduler_optimalisering_evaluering_veiledet import trening_rfr_dag\n",
        "from moduler_optimalisering_evaluering_veiledet import trening_knr_dag\n",
        "from moduler_optimalisering_evaluering_veiledet import trening_svr_dag\n",
        "\n",
        "from moduler_optimalisering_evaluering_veiledet import veiledet_modell_evaluering_1\n",
        "from moduler_optimalisering_evaluering_veiledet import veiledet_modell_evaluering_2"
      ]
    },
    {
      "cell_type": "markdown",
      "metadata": {
        "id": "21cdLIoaSTR6"
      },
      "source": [
        "# Importering av relevant data"
      ]
    },
    {
      "cell_type": "code",
      "execution_count": 10,
      "metadata": {
        "id": "XeNQyDPZSTwY"
      },
      "outputs": [],
      "source": [
        "# Velger første kolonne med dato og tid som index\n",
        "data = pd.read_csv('/content/drive/MyDrive/MasterV24/Bioco_data/mw_data.csv',\n",
        "                            header=0,\n",
        "                            sep=',',\n",
        "                            index_col=0)\n",
        "\n",
        "# Design produksjon\n",
        "data_design = pd.read_csv('/content/drive/MyDrive/MasterV24/Bioco_data/mw_data_design.csv',\n",
        "                                   header=0,\n",
        "                                   sep=',',\n",
        "                                   index_col=0)\n",
        "\n",
        "# Importerer rådata\n",
        "rå_data = pd.read_csv('/content/drive/MyDrive/MasterV24/BiocoData.csv',\n",
        "                      header=0,\n",
        "                      sep=';',\n",
        "                      index_col=0)\n",
        "\n",
        "# Formatterer index til riktig format og datatype\n",
        "data.index = pd.to_datetime(data.index,\n",
        "                            format='%Y-%m-%d %H:%M:%S')\n",
        "\n",
        "data_design.index = pd.to_datetime(data_design.index,\n",
        "                                   format='%Y-%m-%d %H:%M:%S')\n",
        "\n",
        "rå_data.index = pd.to_datetime(rå_data.index,\n",
        "                               format='%d-%m-%Y %H:%M:%S.%f')"
      ]
    },
    {
      "cell_type": "markdown",
      "metadata": {
        "id": "7Wl0nay5j2C4"
      },
      "source": [
        "Tilfeldighetsfrø"
      ]
    },
    {
      "cell_type": "code",
      "execution_count": 11,
      "metadata": {
        "id": "OxTGpIOmj4V7"
      },
      "outputs": [],
      "source": [
        "#Tilfeldighetsfrø\n",
        "random_seed = 2024"
      ]
    },
    {
      "cell_type": "markdown",
      "metadata": {
        "id": "i_1rn21ITRJ4"
      },
      "source": [
        "# Lagring av resultater"
      ]
    },
    {
      "cell_type": "code",
      "execution_count": 12,
      "metadata": {
        "id": "EGIgRqWETUTx"
      },
      "outputs": [],
      "source": [
        "# Oppretter instans for lagring av resultater\n",
        "res = Resultat_dicts()"
      ]
    },
    {
      "cell_type": "markdown",
      "source": [
        "# Setter fast testandel på 20%"
      ],
      "metadata": {
        "id": "Ba8LjQZhcrjx"
      }
    },
    {
      "cell_type": "code",
      "source": [
        "# Fast testsandel\n",
        "test_andel = 0.25\n",
        "\n",
        "# Fast treningsandeler\n",
        "treningsandeler = [0.25, 0.5, 0.75]"
      ],
      "metadata": {
        "id": "FP1C6kARcq8W"
      },
      "execution_count": 14,
      "outputs": []
    },
    {
      "cell_type": "markdown",
      "source": [
        "# Parametere til hyperoptimalisering"
      ],
      "metadata": {
        "id": "9DQM6R7Ic9oN"
      }
    },
    {
      "cell_type": "code",
      "source": [
        "# Antall runder til optimalisering\n",
        "\n",
        "# Antall runder til hel treningsandel\n",
        "n_runder_hel = 100\n",
        "\n",
        "# Antall runder til mindre treningsandeler\n",
        "n_runder_andel = 50\n",
        "\n",
        "# Parametervalg for kryssvalidering\n",
        "n_gjentagelser = 5"
      ],
      "metadata": {
        "id": "njacz0ecdJuL"
      },
      "execution_count": 15,
      "outputs": []
    },
    {
      "cell_type": "markdown",
      "metadata": {
        "id": "76aWdlTDXp9I"
      },
      "source": [
        "# NIR målinger inkludert"
      ]
    },
    {
      "cell_type": "markdown",
      "metadata": {
        "id": "wQpsJkKShL_9"
      },
      "source": [
        "## Hele datasett"
      ]
    },
    {
      "cell_type": "markdown",
      "source": [
        "## Alternativ 1: Hele treningssett"
      ],
      "metadata": {
        "id": "RAPTeouaQcXa"
      }
    },
    {
      "cell_type": "code",
      "source": [
        "# Setter treningsandel\n",
        "trenings_andel = 1.0\n",
        "\n",
        "# Deler datasettet i trening og testsett\n",
        "trening_markert, enzymtyper_markert, testsett, _, _, _, trening\\\n",
        "= trening_testsett_oppdeling_enzym(rå_data,\n",
        "                                   data,\n",
        "                                   test_andel=test_andel)"
      ],
      "metadata": {
        "id": "46il6J17QhFG"
      },
      "execution_count": 16,
      "outputs": []
    },
    {
      "cell_type": "code",
      "source": [
        "# Finner antall splitt etter minste antall av enzymtype\n",
        "n_splitt = n_splitt_enzym(rå_data,\n",
        "                          trening_markert)\n",
        "\n",
        "# Modelloptimalisering, trening og evaluering av RFR, KNR og SVR\n",
        "veiledet_modell_evaluering_1(dict_res_opt=res.dict_res_1_hel_opt,\n",
        "                             dict_res=res.dict_res_1_hel,\n",
        "                             treningssett_markert=trening_markert,\n",
        "                             enzymtyper_treningssett_markert=enzymtyper_markert,\n",
        "                             testsett=testsett,\n",
        "                             n_splitt=n_splitt,\n",
        "                             n_gjentagelser=n_gjentagelser,\n",
        "                             n_runder=n_runder_hel,\n",
        "                             test_andel=test_andel,\n",
        "                             trenings_andel=trenings_andel,\n",
        "                             random_seed=random_seed)"
      ],
      "metadata": {
        "id": "8xYbizo0xPoh"
      },
      "execution_count": null,
      "outputs": []
    },
    {
      "cell_type": "markdown",
      "source": [
        "Lagring av resultater"
      ],
      "metadata": {
        "id": "rhtY8WGq_jcr"
      }
    },
    {
      "cell_type": "code",
      "source": [
        "res_1_hel = pd.DataFrame(res.dict_res_1_hel)\n",
        "res_1_hel_opt = pd.DataFrame(res.dict_res_1_hel_opt)\n",
        "\n",
        "res_1_hel.to_csv('/content/drive/MyDrive/MasterV24/Bioco_data/Resultater/mw/mw_res_1_hel.csv')\n",
        "res_1_hel_opt.to_csv('/content/drive/MyDrive/MasterV24/Bioco_data/Resultater/mw/mw_res_1_hel_opt.csv')"
      ],
      "metadata": {
        "id": "ZMEjdoR6_jcr"
      },
      "execution_count": null,
      "outputs": []
    },
    {
      "cell_type": "markdown",
      "source": [
        "Velger beste modell"
      ],
      "metadata": {
        "id": "bwX1RP9pXiU_"
      }
    },
    {
      "cell_type": "code",
      "source": [],
      "metadata": {
        "id": "ioPAXcdFXkf7"
      },
      "execution_count": null,
      "outputs": []
    },
    {
      "cell_type": "markdown",
      "metadata": {
        "id": "lNTfChXaIZAf"
      },
      "source": [
        "## Alternativ 1: Forskjellige treningsandeler"
      ]
    },
    {
      "cell_type": "code",
      "execution_count": null,
      "metadata": {
        "id": "jH1qpCxOIgAI",
        "colab": {
          "base_uri": "https://localhost:8080/"
        },
        "outputId": "7f3a5b91-a3db-4635-c7e6-5a7a89f60da7"
      },
      "outputs": [
        {
          "output_type": "stream",
          "name": "stderr",
          "text": [
            "/usr/local/lib/python3.10/dist-packages/ipykernel/ipkernel.py:283: DeprecationWarning: `should_run_async` will not call `transform_cell` automatically in the future. Please pass the result to `transformed_cell` argument and any exception that happen during thetransform in `preprocessing_exc_tuple` in IPython 7.17 and above.\n",
            "  and should_run_async(code)\n"
          ]
        }
      ],
      "source": [
        "# Går gjennom andeler av satt treningssett\n",
        "for trenings_andel in treningsandeler:\n",
        "\n",
        "  if trenings_andel < 1.0:\n",
        "\n",
        "      # Utelukker resterende andel fra trening av modell\n",
        "      ubenyttet_andel = (1.0-trenings_andel)\n",
        "\n",
        "      treningssett_markert, enzymtyper_treningssett_markert,\\\n",
        "      _, _, _, _, _ = trening_testsett_oppdeling_enzym(rå_data,\n",
        "                                                       trening,\n",
        "                                                       test_andel=ubenyttet_andel,\n",
        "                                                       random_seed=random_seed)\n",
        "\n",
        "  else:\n",
        "    treningssett_markert = trening_markert\n",
        "    enzymtyper_treningssett_markert = enzymtyper_markert\n",
        "\n",
        "  # Finner antall splitt etter minste antall av enzymtype\n",
        "  n_splitt = n_splitt_enzym(rå_data,\n",
        "                            trening_markert)\n",
        "\n",
        "  # Modelloptimalisering, trening og evaluering av RFR, KNR og SVR\n",
        "  veiledet_modell_evaluering_1(dict_res_opt=res.dict_res_1_hel_opt,\n",
        "                               dict_res=res.dict_res_1_hel,\n",
        "                               treningssett_markert=treningssett_markert,\n",
        "                               enzymtyper_treningssett_markert=enzymtyper_treningssett_markert,\n",
        "                               testsett=testsett,\n",
        "                               n_splitt=n_splitt,\n",
        "                               n_gjentagelser=n_gjentagelser,\n",
        "                               n_runder=n_runder_andel,\n",
        "                               test_andel=test_andel,\n",
        "                               trenings_andel=trenings_andel,\n",
        "                               random_seed=random_seed)"
      ]
    },
    {
      "cell_type": "markdown",
      "source": [
        "Lagring av resultater"
      ],
      "metadata": {
        "id": "MSCewDmhgFHW"
      }
    },
    {
      "cell_type": "code",
      "source": [
        "res_1_hel = pd.DataFrame(res.dict_res_1_hel)\n",
        "res_1_hel_opt = pd.DataFrame(res.dict_res_1_hel_opt)\n",
        "\n",
        "res_1_hel.to_csv('/content/drive/MyDrive/MasterV24/Bioco_data/Resultater/mw/mw_res_1_hel.csv')\n",
        "res_1_hel_opt.to_csv('/content/drive/MyDrive/MasterV24/Bioco_data/Resultater/mw/mw_res_1_hel_opt.csv')"
      ],
      "metadata": {
        "id": "5Xw_S3MTgHgY",
        "colab": {
          "base_uri": "https://localhost:8080/"
        },
        "outputId": "06fb135a-ceb4-4738-fd7f-9b470fbce618"
      },
      "execution_count": null,
      "outputs": [
        {
          "output_type": "stream",
          "name": "stderr",
          "text": [
            "/usr/local/lib/python3.10/dist-packages/ipykernel/ipkernel.py:283: DeprecationWarning: `should_run_async` will not call `transform_cell` automatically in the future. Please pass the result to `transformed_cell` argument and any exception that happen during thetransform in `preprocessing_exc_tuple` in IPython 7.17 and above.\n",
            "  and should_run_async(code)\n"
          ]
        }
      ]
    },
    {
      "cell_type": "markdown",
      "source": [
        "## Alternativ 2: Hele treningssett"
      ],
      "metadata": {
        "id": "Vug3qjOcXxOJ"
      }
    },
    {
      "cell_type": "code",
      "source": [
        "# Definerer treningsandel\n",
        "trenings_andel = 1.0\n",
        "\n",
        "# Deler datasettet i trening og testsett\n",
        "trening_markert, testsett, _, trening\\\n",
        "= trening_testsett_oppdeling_dag(rå_data,\n",
        "                                 data,\n",
        "                                 test_andel=test_andel,\n",
        "                                 test_ekskluder_kalkun_kylling=True)\n",
        "\n",
        "#Oversikt over fordelingen av enzymtyper i testsett\n",
        "print(\"Enzymtyper Fordeling: Test\")\n",
        "print(enzymfordeling(rå_data, testsett))"
      ],
      "metadata": {
        "id": "JzADzCY1X0Zx",
        "colab": {
          "base_uri": "https://localhost:8080/"
        },
        "outputId": "28a7ae0c-cf92-44db-f96d-b0e1dd4d0f52"
      },
      "execution_count": null,
      "outputs": [
        {
          "output_type": "stream",
          "name": "stderr",
          "text": [
            "/usr/local/lib/python3.10/dist-packages/ipykernel/ipkernel.py:283: DeprecationWarning: `should_run_async` will not call `transform_cell` automatically in the future. Please pass the result to `transformed_cell` argument and any exception that happen during thetransform in `preprocessing_exc_tuple` in IPython 7.17 and above.\n",
            "  and should_run_async(code)\n"
          ]
        },
        {
          "output_type": "stream",
          "name": "stdout",
          "text": [
            "Enzymtyper Fordeling: Test\n",
            "            Frekvens  Andel\n",
            "EnzymeCode                 \n",
            "A2                25  27.78\n",
            "B                 16  17.78\n",
            "C                 15  16.67\n",
            "E                 15  16.67\n",
            "D                 13  14.44\n",
            "A1                 6   6.67\n"
          ]
        }
      ]
    },
    {
      "cell_type": "code",
      "source": [
        "# Finner antall splitt etter minste antall av enzymtype\n",
        "n_splitt = n_splitt_enzym(rå_data,\n",
        "                          trening_markert)\n",
        "\n",
        "# Modelloptimalisering, trening og evaluering av RFR, KNR og SVR\n",
        "veiledet_modell_evaluering_2(dict_res_opt=res.dict_res_2_hel_opt,\n",
        "                             dict_res=res.dict_res_2_hel,\n",
        "                             rå_data=rå_data,\n",
        "                             treningssett_markert=trening_markert,\n",
        "                             testsett=testsett,\n",
        "                             n_splitt=n_splitt,\n",
        "                             n_runder=n_runder_hel,\n",
        "                             test_andel=test_andel,\n",
        "                             trenings_andel=trenings_andel,\n",
        "                             random_seed=random_seed)"
      ],
      "metadata": {
        "id": "-GW5AyE7X5Sh",
        "colab": {
          "base_uri": "https://localhost:8080/"
        },
        "outputId": "04f0f9be-82f8-450a-bc36-1acf9d6ddeb9"
      },
      "execution_count": null,
      "outputs": [
        {
          "output_type": "stream",
          "name": "stderr",
          "text": [
            "/usr/local/lib/python3.10/dist-packages/ipykernel/ipkernel.py:283: DeprecationWarning: `should_run_async` will not call `transform_cell` automatically in the future. Please pass the result to `transformed_cell` argument and any exception that happen during thetransform in `preprocessing_exc_tuple` in IPython 7.17 and above.\n",
            "  and should_run_async(code)\n"
          ]
        }
      ]
    },
    {
      "cell_type": "markdown",
      "source": [
        "Lagring av resultater"
      ],
      "metadata": {
        "id": "fSoCXuldMy4N"
      }
    },
    {
      "cell_type": "code",
      "source": [
        "res_2_hel = pd.DataFrame(res.dict_res_2_hel)\n",
        "res_2_hel_opt = pd.DataFrame(res.dict_res_2_hel_opt)\n",
        "\n",
        "res_2_hel.to_csv('/content/drive/MyDrive/MasterV24/Bioco_data/Resultater/mw/mw_resultater_2_hel.csv')\n",
        "res_2_hel_opt.to_csv('/content/drive/MyDrive/MasterV24/Bioco_data/Resultater/mw/mw_resultater_2_hel_opt.csv')"
      ],
      "metadata": {
        "colab": {
          "base_uri": "https://localhost:8080/"
        },
        "id": "NI500ZYUMy4N",
        "outputId": "e5c1bab8-823a-4bfc-f359-bf96ca40dc60"
      },
      "execution_count": null,
      "outputs": [
        {
          "output_type": "stream",
          "name": "stderr",
          "text": [
            "/usr/local/lib/python3.10/dist-packages/ipykernel/ipkernel.py:283: DeprecationWarning: `should_run_async` will not call `transform_cell` automatically in the future. Please pass the result to `transformed_cell` argument and any exception that happen during thetransform in `preprocessing_exc_tuple` in IPython 7.17 and above.\n",
            "  and should_run_async(code)\n"
          ]
        }
      ]
    },
    {
      "cell_type": "markdown",
      "source": [
        "Velger beste modell"
      ],
      "metadata": {
        "id": "nEi8u82bX7Vg"
      }
    },
    {
      "cell_type": "code",
      "source": [],
      "metadata": {
        "id": "qOJEIwcyX9iw"
      },
      "execution_count": null,
      "outputs": []
    },
    {
      "cell_type": "markdown",
      "metadata": {
        "id": "8IO2r9GrkH4N"
      },
      "source": [
        "## Alternativ 2: Forskjellige treningssandeler"
      ]
    },
    {
      "cell_type": "code",
      "execution_count": null,
      "metadata": {
        "colab": {
          "base_uri": "https://localhost:8080/"
        },
        "id": "jV49bC6qkH4N",
        "outputId": "b5f78362-43b6-49e8-bfbf-5f08107ff307"
      },
      "outputs": [
        {
          "output_type": "stream",
          "name": "stderr",
          "text": [
            "/usr/local/lib/python3.10/dist-packages/ipykernel/ipkernel.py:283: DeprecationWarning: `should_run_async` will not call `transform_cell` automatically in the future. Please pass the result to `transformed_cell` argument and any exception that happen during thetransform in `preprocessing_exc_tuple` in IPython 7.17 and above.\n",
            "  and should_run_async(code)\n"
          ]
        },
        {
          "output_type": "stream",
          "name": "stdout",
          "text": [
            "Enzymtyper Fordeling: Treningssett markert andel: 0.25\n",
            "            Frekvens  Andel\n",
            "EnzymeCode                 \n",
            "A2                46  28.22\n",
            "C                 30  18.40\n",
            "D                 30  18.40\n",
            "B                 28  17.18\n",
            "E                 26  15.95\n",
            "A1                 3   1.84\n",
            "Enzymtyper Fordeling: Treningssett markert andel: 0.5\n",
            "            Frekvens  Andel\n",
            "EnzymeCode                 \n",
            "A2                73  35.96\n",
            "C                 32  15.76\n",
            "D                 32  15.76\n",
            "E                 30  14.78\n",
            "B                 29  14.29\n",
            "A1                 7   3.45\n",
            "Enzymtyper Fordeling: Treningssett markert andel: 0.75\n",
            "            Frekvens  Andel\n",
            "EnzymeCode                 \n",
            "A2               103  37.45\n",
            "E                 45  16.36\n",
            "C                 40  14.55\n",
            "B                 39  14.18\n",
            "D                 37  13.45\n",
            "A1                11   4.00\n"
          ]
        }
      ],
      "source": [
        "# Går gjennom andeler av satt treningssett\n",
        "for trenings_andel in treningsandeler:\n",
        "\n",
        "  if trenings_andel < 1.0:\n",
        "\n",
        "      # Utelukker resterende andel fra trening av modell\n",
        "      ubenyttet_andel = (1.0-trenings_andel)\n",
        "\n",
        "      treningssett_markert, _, _, _\\\n",
        "      = trening_testsett_oppdeling_dag(rå_data,\n",
        "                                       trening,\n",
        "                                       test_andel=ubenyttet_andel,\n",
        "                                       test_ekskluder_kalkun_kylling=True)\n",
        "\n",
        "  else:\n",
        "    treningssett_markert = trening_markert\n",
        "\n",
        "  #Enzymfordeling\n",
        "  print(\"Enzymtyper Fordeling: Treningssett markert andel:\", trenings_andel)\n",
        "  enzym_treningssett_markert = enzymfordeling(rå_data,\n",
        "                                              treningssett_markert)\n",
        "  print(enzym_treningssett_markert)\n",
        "\n",
        "  # n_splitt\n",
        "  n_splitt = n_splitt_enzym(rå_data, treningssett_markert\n",
        "                            )\n",
        "  veiledet_modell_evaluering_2(dict_res_opt=res.dict_res_2_hel_opt,\n",
        "                               dict_res=res.dict_res_2_hel,\n",
        "                               rå_data=rå_data,\n",
        "                               treningssett_markert=treningssett_markert,\n",
        "                               testsett=testsett,\n",
        "                               n_splitt=n_splitt,\n",
        "                               n_runder=n_runder_andel,\n",
        "                               test_andel=test_andel,\n",
        "                               trenings_andel=trenings_andel,\n",
        "                               random_seed=random_seed)"
      ]
    },
    {
      "cell_type": "markdown",
      "source": [
        "Lagring av resultater"
      ],
      "metadata": {
        "id": "sCl3QEH2gcAF"
      }
    },
    {
      "cell_type": "code",
      "source": [
        "res_2_hel = pd.DataFrame(res.dict_res_2_hel)\n",
        "res_2_hel_opt = pd.DataFrame(res.dict_res_2_hel_opt)\n",
        "\n",
        "res_2_hel.to_csv('/content/drive/MyDrive/MasterV24/Bioco_data/Resultater/mw/mw_resultater_2_hel.csv')\n",
        "res_2_hel_opt.to_csv('/content/drive/MyDrive/MasterV24/Bioco_data/Resultater/mw/mw_resultater_2_hel_opt.csv')"
      ],
      "metadata": {
        "id": "vdnuKhWtgcAG",
        "colab": {
          "base_uri": "https://localhost:8080/"
        },
        "outputId": "5fdd5c15-a954-4cb0-f2a2-ab8f6ae92928"
      },
      "execution_count": null,
      "outputs": [
        {
          "output_type": "stream",
          "name": "stderr",
          "text": [
            "/usr/local/lib/python3.10/dist-packages/ipykernel/ipkernel.py:283: DeprecationWarning: `should_run_async` will not call `transform_cell` automatically in the future. Please pass the result to `transformed_cell` argument and any exception that happen during thetransform in `preprocessing_exc_tuple` in IPython 7.17 and above.\n",
            "  and should_run_async(code)\n"
          ]
        }
      ]
    },
    {
      "cell_type": "markdown",
      "metadata": {
        "id": "un6mDEGPFIHt"
      },
      "source": [
        "## Designproduksjon"
      ]
    },
    {
      "cell_type": "markdown",
      "source": [
        "## Alternativ 1: Hele treningssett"
      ],
      "metadata": {
        "id": "pBFVc2pIvRsq"
      }
    },
    {
      "cell_type": "code",
      "source": [
        "# Definere treningsandel\n",
        "trenings_andel = 1.0\n",
        "\n",
        "\n",
        "# Deler datasettet i trening og testsett\n",
        "trening_markert, enzymtyper_markert, testsett, _, _, _, trening\\\n",
        "= trening_testsett_oppdeling_enzym(rå_data,\n",
        "                                   data_design,\n",
        "                                   test_andel=test_andel)"
      ],
      "metadata": {
        "colab": {
          "base_uri": "https://localhost:8080/"
        },
        "outputId": "d23ed39b-0f09-4b60-bb64-484d630ce59c",
        "id": "WgSXtkJbvRsr"
      },
      "execution_count": null,
      "outputs": [
        {
          "output_type": "stream",
          "name": "stderr",
          "text": [
            "/usr/local/lib/python3.10/dist-packages/ipykernel/ipkernel.py:283: DeprecationWarning: `should_run_async` will not call `transform_cell` automatically in the future. Please pass the result to `transformed_cell` argument and any exception that happen during thetransform in `preprocessing_exc_tuple` in IPython 7.17 and above.\n",
            "  and should_run_async(code)\n"
          ]
        }
      ]
    },
    {
      "cell_type": "code",
      "source": [
        "# Finner antall splitt etter minste antall av enzymtype\n",
        "n_splitt = n_splitt_enzym(rå_data,\n",
        "                          trening_markert)\n",
        "\n",
        "# Modelloptimalisering, trening og evaluering av RFR, KNR og SVR\n",
        "veiledet_modell_evaluering_1(dict_res_opt=res.dict_res_1_design_opt,\n",
        "                             dict_res=res.dict_res_1_design,\n",
        "                             treningssett_markert=trening_markert,\n",
        "                             enzymtyper_treningssett_markert=enzymtyper_markert,\n",
        "                             testsett=testsett,\n",
        "                             n_splitt=n_splitt,\n",
        "                             n_gjentagelser=n_gjentagelser,\n",
        "                             n_runder=n_runder_hel,\n",
        "                             test_andel=test_andel,\n",
        "                             trenings_andel=trenings_andel,\n",
        "                             random_seed=random_seed)"
      ],
      "metadata": {
        "id": "rPvCazwnvRsr",
        "colab": {
          "base_uri": "https://localhost:8080/"
        },
        "outputId": "ffd5a9b5-6cf8-44e5-fae1-e4cd3fc84993"
      },
      "execution_count": null,
      "outputs": [
        {
          "output_type": "stream",
          "name": "stderr",
          "text": [
            "/usr/local/lib/python3.10/dist-packages/ipykernel/ipkernel.py:283: DeprecationWarning: `should_run_async` will not call `transform_cell` automatically in the future. Please pass the result to `transformed_cell` argument and any exception that happen during thetransform in `preprocessing_exc_tuple` in IPython 7.17 and above.\n",
            "  and should_run_async(code)\n"
          ]
        }
      ]
    },
    {
      "cell_type": "markdown",
      "source": [
        "Lagring av resultater"
      ],
      "metadata": {
        "id": "Lz65n-EXNF4e"
      }
    },
    {
      "cell_type": "code",
      "source": [
        "res_1_design = pd.DataFrame(res.dict_res_1_design)\n",
        "res_1_design_opt = pd.DataFrame(res.dict_res_1_design_opt)\n",
        "\n",
        "res_1_design.to_csv('/content/drive/MyDrive/MasterV24/Bioco_data/Resultater/mw/mw_resultater_1_design.csv')\n",
        "res_1_design_opt.to_csv('/content/drive/MyDrive/MasterV24/Bioco_data/Resultater/mw/mw_resultater_1_design_opt.csv')"
      ],
      "metadata": {
        "colab": {
          "base_uri": "https://localhost:8080/"
        },
        "id": "1E1ijyYNNF4e",
        "outputId": "6d84125f-2b12-4140-d48d-bd12a2872690"
      },
      "execution_count": null,
      "outputs": [
        {
          "output_type": "stream",
          "name": "stderr",
          "text": [
            "/usr/local/lib/python3.10/dist-packages/ipykernel/ipkernel.py:283: DeprecationWarning: `should_run_async` will not call `transform_cell` automatically in the future. Please pass the result to `transformed_cell` argument and any exception that happen during thetransform in `preprocessing_exc_tuple` in IPython 7.17 and above.\n",
            "  and should_run_async(code)\n"
          ]
        }
      ]
    },
    {
      "cell_type": "markdown",
      "source": [
        "Velger beste modell"
      ],
      "metadata": {
        "id": "-1cIW1VqvRsr"
      }
    },
    {
      "cell_type": "code",
      "source": [],
      "metadata": {
        "id": "YlwO4gz3vRsr"
      },
      "execution_count": null,
      "outputs": []
    },
    {
      "cell_type": "markdown",
      "metadata": {
        "id": "8Hy0Pg1GvRss"
      },
      "source": [
        "## Alternativ 1: Forskjellige treningsandeler"
      ]
    },
    {
      "cell_type": "code",
      "execution_count": null,
      "metadata": {
        "id": "GzTtZ28kvRss",
        "colab": {
          "base_uri": "https://localhost:8080/"
        },
        "outputId": "a20d5bd3-1ab9-467a-eeb8-0e66ecc7404e"
      },
      "outputs": [
        {
          "output_type": "stream",
          "name": "stderr",
          "text": [
            "/usr/local/lib/python3.10/dist-packages/ipykernel/ipkernel.py:283: DeprecationWarning: `should_run_async` will not call `transform_cell` automatically in the future. Please pass the result to `transformed_cell` argument and any exception that happen during thetransform in `preprocessing_exc_tuple` in IPython 7.17 and above.\n",
            "  and should_run_async(code)\n"
          ]
        }
      ],
      "source": [
        "# Går gjennom andeler av satt treningssett\n",
        "for trenings_andel in treningsandeler:\n",
        "\n",
        "  if trenings_andel < 1.0:\n",
        "\n",
        "      # Utelukker resterende andel fra trening av modell\n",
        "      ubenyttet_andel = (1.0-trenings_andel)\n",
        "\n",
        "      treningssett_markert, enzymtyper_treningssett_markert,\\\n",
        "      _, _, _, _, _ = trening_testsett_oppdeling_enzym(rå_data,\n",
        "                                                       trening,\n",
        "                                                       test_andel=ubenyttet_andel,\n",
        "                                                       random_seed=random_seed)\n",
        "\n",
        "  else:\n",
        "    treningssett_markert = trening_markert\n",
        "    enzymtyper_treningssett_markert = enzymtyper_markert\n",
        "\n",
        "  # n_splitt\n",
        "  n_splitt = n_splitt_enzym(rå_data, treningssett_markert\n",
        "                            )\n",
        "  # Modelloptimalisering, trening og evaluering av RFR, KNR og SVR\n",
        "  veiledet_modell_evaluering_1(dict_res_opt=res.dict_res_1_design_opt,\n",
        "                               dict_res=res.dict_res_1_design,\n",
        "                               treningssett_markert=treningssett_markert,\n",
        "                               enzymtyper_treningssett_markert=enzymtyper_treningssett_markert,\n",
        "                               testsett=testsett,\n",
        "                               n_splitt=n_splitt,\n",
        "                               n_gjentagelser=n_gjentagelser,\n",
        "                               n_runder=n_runder_andel,\n",
        "                               test_andel=test_andel,\n",
        "                               trenings_andel=trenings_andel,\n",
        "                               random_seed=random_seed)"
      ]
    },
    {
      "cell_type": "markdown",
      "source": [
        "Lagring av resultater"
      ],
      "metadata": {
        "id": "UL2aLu_QvRss"
      }
    },
    {
      "cell_type": "code",
      "source": [
        "res_1_design = pd.DataFrame(res.dict_res_1_design)\n",
        "res_1_design_opt = pd.DataFrame(res.dict_res_1_design_opt)\n",
        "\n",
        "res_1_design.to_csv('/content/drive/MyDrive/MasterV24/Bioco_data/Resultater/mw/mw_resultater_1_design.csv')\n",
        "res_1_design_opt.to_csv('/content/drive/MyDrive/MasterV24/Bioco_data/Resultater/mw/mw_resultater_1_design_opt.csv')"
      ],
      "metadata": {
        "id": "MriX_tBUvRss",
        "colab": {
          "base_uri": "https://localhost:8080/"
        },
        "outputId": "7cf24b7e-411c-4ac1-8454-8d6d0c049a3a"
      },
      "execution_count": null,
      "outputs": [
        {
          "output_type": "stream",
          "name": "stderr",
          "text": [
            "/usr/local/lib/python3.10/dist-packages/ipykernel/ipkernel.py:283: DeprecationWarning: `should_run_async` will not call `transform_cell` automatically in the future. Please pass the result to `transformed_cell` argument and any exception that happen during thetransform in `preprocessing_exc_tuple` in IPython 7.17 and above.\n",
            "  and should_run_async(code)\n"
          ]
        }
      ]
    },
    {
      "cell_type": "markdown",
      "source": [
        "## Alternativ 2: Hele treningssett"
      ],
      "metadata": {
        "id": "TmDsuWZqvRss"
      }
    },
    {
      "cell_type": "code",
      "source": [
        "# Definerer treningsandel\n",
        "trenings_andel = 1.0\n",
        "\n",
        "# Deler datasettet i trening og testsett\n",
        "trening_markert, testsett, _, trening\\\n",
        "= trening_testsett_oppdeling_dag(rå_data,\n",
        "                                 data_design,\n",
        "                                 test_andel=test_andel,\n",
        "                                 test_ekskluder_kalkun_kylling=True)\n",
        "\n",
        "#Oversikt over fordelingen av enzymtyper i testsett\n",
        "print(\"Enzymtyper Fordeling: Test\")\n",
        "print(enzymfordeling(rå_data, testsett))"
      ],
      "metadata": {
        "colab": {
          "base_uri": "https://localhost:8080/"
        },
        "outputId": "00dea6b6-80aa-41dd-997c-c6b626b3dde3",
        "id": "rJGO0hKGvRss"
      },
      "execution_count": null,
      "outputs": [
        {
          "output_type": "stream",
          "name": "stdout",
          "text": [
            "Enzymtyper Fordeling: Test\n",
            "            Frekvens  Andel\n",
            "EnzymeCode                 \n",
            "E                 15  22.73\n",
            "B                 13  19.70\n",
            "C                 13  19.70\n",
            "D                 12  18.18\n",
            "A2                 9  13.64\n",
            "A1                 4   6.06\n"
          ]
        }
      ]
    },
    {
      "cell_type": "code",
      "source": [
        "# Finner antall splitt etter minste antall av enzymtype\n",
        "n_splitt = n_splitt_enzym(rå_data,\n",
        "                          trening_markert)\n",
        "\n",
        "# Modelloptimalisering, trening og evaluering av RFR, KNR og SVR\n",
        "veiledet_modell_evaluering_2(dict_res_opt=res.dict_res_2_design_opt,\n",
        "                             dict_res=res.dict_res_2_design,\n",
        "                             rå_data=rå_data,\n",
        "                             treningssett_markert=trening_markert,\n",
        "                             testsett=testsett,\n",
        "                             n_splitt=n_splitt,\n",
        "                             n_runder=n_runder_hel,\n",
        "                             test_andel=test_andel,\n",
        "                             trenings_andel=trenings_andel,\n",
        "                             random_seed=random_seed)"
      ],
      "metadata": {
        "id": "jNDqUcVLvRss"
      },
      "execution_count": null,
      "outputs": []
    },
    {
      "cell_type": "markdown",
      "source": [
        "Velger beste modell"
      ],
      "metadata": {
        "id": "Fc8PDLHavRss"
      }
    },
    {
      "cell_type": "code",
      "source": [],
      "metadata": {
        "id": "uydYtqtrvRss"
      },
      "execution_count": null,
      "outputs": []
    },
    {
      "cell_type": "markdown",
      "metadata": {
        "id": "c13kQDeyvRss"
      },
      "source": [
        "## Alternativ 2: Forskjellige treningssandeler"
      ]
    },
    {
      "cell_type": "code",
      "execution_count": null,
      "metadata": {
        "colab": {
          "base_uri": "https://localhost:8080/"
        },
        "outputId": "5214cec2-67ef-4222-8c5d-c1bdfa74b5c0",
        "id": "_-mVnr7lvRst"
      },
      "outputs": [
        {
          "output_type": "stream",
          "name": "stdout",
          "text": [
            "Enzymtyper Fordeling: Treningssett markert andel: 0.2\n",
            "            Frekvens  Andel\n",
            "EnzymeCode                 \n",
            "C                 30  22.06\n",
            "D                 30  22.06\n",
            "B                 27  19.85\n",
            "E                 26  19.12\n",
            "A2                21  15.44\n",
            "A1                 2   1.47\n",
            "Enzymtyper Fordeling: Treningssett markert andel: 0.4\n",
            "            Frekvens  Andel\n",
            "EnzymeCode                 \n",
            "C                 31  21.09\n",
            "D                 31  21.09\n",
            "B                 29  19.73\n",
            "E                 28  19.05\n",
            "A2                22  14.97\n",
            "A1                 6   4.08\n",
            "Enzymtyper Fordeling: Treningssett markert andel: 0.6\n",
            "            Frekvens  Andel\n",
            "EnzymeCode                 \n",
            "E                 36  21.95\n",
            "C                 33  20.12\n",
            "D                 32  19.51\n",
            "B                 31  18.90\n",
            "A2                24  14.63\n",
            "A1                 8   4.88\n",
            "Enzymtyper Fordeling: Treningssett markert andel: 0.8\n",
            "            Frekvens  Andel\n",
            "EnzymeCode                 \n",
            "E                 48  22.54\n",
            "B                 42  19.72\n",
            "C                 42  19.72\n",
            "D                 38  17.84\n",
            "A2                31  14.55\n",
            "A1                12   5.63\n"
          ]
        }
      ],
      "source": [
        "# Går gjennom andeler av satt treningssett\n",
        "for trenings_andel in treningsandeler:\n",
        "\n",
        "  if trenings_andel < 1.0:\n",
        "\n",
        "      # Utelukker resterende andel fra trening av modell\n",
        "      ubenyttet_andel = (1.0-trenings_andel)\n",
        "\n",
        "      treningssett_markert, _, _, _\\\n",
        "      = trening_testsett_oppdeling_dag(rå_data,\n",
        "                                       trening,\n",
        "                                       test_andel=ubenyttet_andel,\n",
        "                                       test_ekskluder_kalkun_kylling=True)\n",
        "\n",
        "  else:\n",
        "    treningssett_markert = trening_markert\n",
        "\n",
        "  #Enzymfordeling\n",
        "  print(\"Enzymtyper Fordeling: Treningssett markert andel:\", trenings_andel)\n",
        "  enzym_treningssett_markert = enzymfordeling(rå_data,\n",
        "                                              treningssett_markert)\n",
        "  print(enzym_treningssett_markert)\n",
        "\n",
        "  # n_splitt\n",
        "  n_splitt = n_splitt_enzym(rå_data, treningssett_markert)\n",
        "\n",
        "  veiledet_modell_evaluering_2(dict_res_opt=res.dict_res_2_design_opt,\n",
        "                               dict_res=res.dict_res_2_design,\n",
        "                               rå_data=rå_data,\n",
        "                               treningssett_markert=treningssett_markert,\n",
        "                               testsett=testsett,\n",
        "                               n_splitt=n_splitt,\n",
        "                               n_runder=n_runder_andel,\n",
        "                               test_andel=test_andel,\n",
        "                               trenings_andel=trenings_andel,\n",
        "                               random_seed=random_seed)"
      ]
    },
    {
      "cell_type": "markdown",
      "source": [
        "Lagring av resultater"
      ],
      "metadata": {
        "id": "ZP9WbH9PvRst"
      }
    },
    {
      "cell_type": "code",
      "source": [
        "res_2_design = pd.DataFrame(res.dict_res_2_design)\n",
        "res_2_design_opt = pd.DataFrame(res.dict_res_2_design_opt)\n",
        "\n",
        "res_2_design.to_csv('/content/drive/MyDrive/MasterV24/Bioco_data/Resultater/mw/mw_resultater_2_design.csv')\n",
        "res_2_design_opt.to_csv('/content/drive/MyDrive/MasterV24/Bioco_data/Resultater/mw/mw_resultater_2_design_opt.csv')"
      ],
      "metadata": {
        "id": "ZFqw0gN1vRst"
      },
      "execution_count": null,
      "outputs": []
    },
    {
      "cell_type": "markdown",
      "metadata": {
        "id": "pnhtimdQn6n_"
      },
      "source": [
        "# NIR målinger ekskludert"
      ]
    },
    {
      "cell_type": "code",
      "execution_count": null,
      "metadata": {
        "id": "HVRjvKsSn6oM"
      },
      "outputs": [],
      "source": [
        "# Ekskluderer NIR målinger fra datasettene\n",
        "NIR_kolonner = ['NIRfat', 'NIRwater', 'NIRash']\n",
        "data_uten_NIR = data.drop(columns=NIR_kolonner)\n",
        "data_design_uten_NIR = data_design.drop(columns=NIR_kolonner)"
      ]
    },
    {
      "cell_type": "markdown",
      "metadata": {
        "id": "XHgJ8-ljwBrx"
      },
      "source": [
        "## Hele datasett"
      ]
    },
    {
      "cell_type": "markdown",
      "source": [
        "## Alternativ 1: Hele treningssett"
      ],
      "metadata": {
        "id": "55Wz8HPFwBry"
      }
    },
    {
      "cell_type": "code",
      "source": [
        "# Setter treningsandel\n",
        "trenings_andel = 1.0\n",
        "\n",
        "# Deler datasettet i trening og testsett\n",
        "trening_markert, enzymtyper_markert, testsett, _, _, _, trening\\\n",
        "= trening_testsett_oppdeling_enzym(rå_data,\n",
        "                                   data_uten_NIR,\n",
        "                                   test_andel=test_andel)\n",
        "\n",
        "# Finner antall splitt etter minste antall av enzymtype\n",
        "n_splitt = n_splitt_enzym(rå_data,\n",
        "                          trening_markert)\n",
        "\n",
        "# Modelloptimalisering, trening og evaluering av RFR, KNR og SVR\n",
        "veiledet_modell_evaluering_1(dict_res_opt=res.dict_res_1_hel_opt_NIR,\n",
        "                             dict_res=res.dict_res_1_hel_NIR,\n",
        "                             treningssett_markert=trening_markert,\n",
        "                             enzymtyper_treningssett_markert=enzymtyper_markert,\n",
        "                             testsett=testsett,\n",
        "                             n_splitt=n_splitt,\n",
        "                             n_gjentagelser=n_gjentagelser,\n",
        "                             n_runder=n_runder_hel,\n",
        "                             test_andel=test_andel,\n",
        "                             trenings_andel=trenings_andel,\n",
        "                             random_seed=random_seed)"
      ],
      "metadata": {
        "id": "pfP4WhHiwBry"
      },
      "execution_count": null,
      "outputs": []
    },
    {
      "cell_type": "markdown",
      "source": [
        "Velger beste modell"
      ],
      "metadata": {
        "id": "M2yfz44lwBry"
      }
    },
    {
      "cell_type": "code",
      "source": [],
      "metadata": {
        "id": "It4p0-gbwBry"
      },
      "execution_count": null,
      "outputs": []
    },
    {
      "cell_type": "markdown",
      "source": [
        "Resultater"
      ],
      "metadata": {
        "id": "VVZxAYadyDmM"
      }
    },
    {
      "cell_type": "code",
      "source": [
        "res_1_hel_NIR = pd.DataFrame(res.dict_res_1_hel_NIR)\n",
        "res_1_hel_opt_NIR = pd.DataFrame(res.dict_res_1_hel_opt_NIR)\n",
        "\n",
        "res_1_hel_NIR.to_csv('/content/drive/MyDrive/MasterV24/Bioco_data/Resultater/mw/mw_resultater_1_hel_NIR.csv')\n",
        "res_1_hel_opt_NIR.to_csv('/content/drive/MyDrive/MasterV24/Bioco_data/Resultater/mw/mw_resultater_1_hel_opt_NIR.csv')"
      ],
      "metadata": {
        "id": "momcQFXuyDmM"
      },
      "execution_count": null,
      "outputs": []
    },
    {
      "cell_type": "markdown",
      "source": [
        "## Alternativ 2: Hele treningssett"
      ],
      "metadata": {
        "id": "cHUmwOWKwdJ7"
      }
    },
    {
      "cell_type": "code",
      "source": [
        "# Definerer treningandel\n",
        "trenings_andel = 1.0\n",
        "\n",
        "# Deler datasettet i trening og testsett\n",
        "trening_markert, testsett, _, trening\\\n",
        "= trening_testsett_oppdeling_dag(rå_data,\n",
        "                                 data_uten_NIR,\n",
        "                                 test_andel=test_andel,\n",
        "                                 test_ekskluder_kalkun_kylling=True)\n",
        "\n",
        "# Finner antall splitt etter minste antall av enzymtype\n",
        "n_splitt = n_splitt_enzym(rå_data,\n",
        "                          trening_markert)\n",
        "\n",
        "# Modelloptimalisering, trening og evaluering av RFR, KNR og SVR\n",
        "veiledet_modell_evaluering_2(dict_res_opt=res.dict_res_2_hel_opt_NIR,\n",
        "                             dict_res=res.dict_res_2_hel_NIR,\n",
        "                             rå_data=rå_data,\n",
        "                             treningssett_markert=trening_markert,\n",
        "                             testsett=testsett,\n",
        "                             n_splitt=n_splitt,\n",
        "                             n_runder=n_runder_hel,\n",
        "                             test_andel=test_andel,\n",
        "                             trenings_andel=trenings_andel,\n",
        "                             random_seed=random_seed)"
      ],
      "metadata": {
        "id": "bEu5-hx4wdJ7"
      },
      "execution_count": null,
      "outputs": []
    },
    {
      "cell_type": "markdown",
      "source": [
        "Velger beste modell"
      ],
      "metadata": {
        "id": "nogv0Rr3wdJ8"
      }
    },
    {
      "cell_type": "code",
      "source": [],
      "metadata": {
        "id": "ATbjY5I5wdJ8"
      },
      "execution_count": null,
      "outputs": []
    },
    {
      "cell_type": "markdown",
      "source": [
        "Resultater"
      ],
      "metadata": {
        "id": "n6f4KEmfyQMb"
      }
    },
    {
      "cell_type": "code",
      "source": [
        "res_2_hel_NIR = pd.DataFrame(res.dict_res_2_hel_NIR)\n",
        "res_2_hel_opt_NIR = pd.DataFrame(res.dict_res_2_hel_opt_NIR)\n",
        "\n",
        "res_2_hel_NIR.to_csv('/content/drive/MyDrive/MasterV24/Bioco_data/Resultater/mw/mw_resultater_2_hel_NIR.csv')\n",
        "res_2_hel_opt_NIR.to_csv('/content/drive/MyDrive/MasterV24/Bioco_data/Resultater/mw/mw_resultater_2_hel_opt_NIR.csv')"
      ],
      "metadata": {
        "id": "H-mA1zLlyQMb"
      },
      "execution_count": null,
      "outputs": []
    },
    {
      "cell_type": "markdown",
      "metadata": {
        "id": "QY-5_aKaacIy"
      },
      "source": [
        "## Designproduksjon"
      ]
    },
    {
      "cell_type": "markdown",
      "source": [
        "## Alternativ 1: Hele treningssett"
      ],
      "metadata": {
        "id": "3WVuaSLywwCl"
      }
    },
    {
      "cell_type": "code",
      "source": [
        "# Setter treningsandel\n",
        "trenings_andel = 1.0\n",
        "\n",
        "\n",
        "# Deler datasettet i trening og testsett\n",
        "trening_markert, enzymtyper_markert, testsett, _, _, _, trening\\\n",
        "= trening_testsett_oppdeling_enzym(rå_data,\n",
        "                                   data_design_uten_NIR,\n",
        "                                   test_andel=test_andel)\n",
        "\n",
        "# Finner antall splitt etter minste antall av enzymtype\n",
        "n_splitt = n_splitt_enzym(rå_data,\n",
        "                          trening_markert)\n",
        "\n",
        "# Modelloptimalisering, trening og evaluering av RFR, KNR og SVR\n",
        "veiledet_modell_evaluering_1(dict_res_opt=res.dict_res_1_design_opt_NIR,\n",
        "                             dict_res=res.dict_res_1_design_NIR,\n",
        "                             treningssett_markert=trening_markert,\n",
        "                             enzymtyper_treningssett_markert=enzymtyper_markert,\n",
        "                             testsett=testsett,\n",
        "                             n_splitt=n_splitt,\n",
        "                             n_gjentagelser=n_gjentagelser,\n",
        "                             n_runder=n_runder_hel,\n",
        "                             test_andel=test_andel,\n",
        "                             trenings_andel=trenings_andel,\n",
        "                             random_seed=random_seed)"
      ],
      "metadata": {
        "id": "LmNyNnpKwwCm"
      },
      "execution_count": null,
      "outputs": []
    },
    {
      "cell_type": "markdown",
      "source": [
        "Velger beste modell"
      ],
      "metadata": {
        "id": "Uxj1aIbXwwCn"
      }
    },
    {
      "cell_type": "code",
      "source": [],
      "metadata": {
        "id": "yZro3YkFwwCn"
      },
      "execution_count": null,
      "outputs": []
    },
    {
      "cell_type": "markdown",
      "source": [
        "Resultater"
      ],
      "metadata": {
        "id": "UlAocoO4x7WX"
      }
    },
    {
      "cell_type": "code",
      "source": [
        "res_1_design_NIR = pd.DataFrame(res.dict_res_1_design_NIR)\n",
        "res_1_design_opt_NIR = pd.DataFrame(res.dict_res_1_design_opt_NIR)\n",
        "\n",
        "res_1_design_NIR.to_csv('/content/drive/MyDrive/MasterV24/Bioco_data/Resultater/mw/mw_resultater_1_design_NIR.csv')\n",
        "res_1_design_opt_NIR.to_csv('/content/drive/MyDrive/MasterV24/Bioco_data/Resultater/mw/mw_resultater_1_design_opt_NIR.csv')"
      ],
      "metadata": {
        "id": "b8VBGEkLx7WX"
      },
      "execution_count": null,
      "outputs": []
    },
    {
      "cell_type": "markdown",
      "source": [
        "## Alternativ 2: Hele treningssett"
      ],
      "metadata": {
        "id": "GIxoOIgRxAZu"
      }
    },
    {
      "cell_type": "code",
      "source": [
        "# Definerer treningsandel\n",
        "trenings_andel = 1.0\n",
        "\n",
        "# Deler datasettet i trening og testsett\n",
        "trening_markert, testsett, _, trening\\\n",
        "= trening_testsett_oppdeling_dag(rå_data,\n",
        "                                 data_design,\n",
        "                                 test_andel=test_andel,\n",
        "                                 test_ekskluder_kalkun_kylling=True)\n",
        "\n",
        "# Finner antall splitt etter minste antall av enzymtype\n",
        "n_splitt = n_splitt_enzym(rå_data,\n",
        "                          trening_markert)\n",
        "\n",
        "# Modelloptimalisering, trening og evaluering av RFR, KNR og SVR\n",
        "veiledet_modell_evaluering_2(dict_res_opt=res.dict_res_2_design_opt_NIR,\n",
        "                             dict_res=res.dict_res_2_design_NIR,\n",
        "                             rå_data=rå_data,\n",
        "                             treningssett_markert=trening_markert,\n",
        "                             testsett=testsett,\n",
        "                             n_splitt=n_splitt,\n",
        "                             n_runder=n_runder_hel,\n",
        "                             test_andel=test_andel,\n",
        "                             trenings_andel=trenings_andel,\n",
        "                             random_seed=random_seed)"
      ],
      "metadata": {
        "id": "qjpSUAxXxAZu"
      },
      "execution_count": null,
      "outputs": []
    },
    {
      "cell_type": "markdown",
      "source": [
        "Velger beste modell"
      ],
      "metadata": {
        "id": "CuxNTo4qxAZu"
      }
    },
    {
      "cell_type": "code",
      "source": [],
      "metadata": {
        "id": "Ih0NQF-HxAZv"
      },
      "execution_count": null,
      "outputs": []
    },
    {
      "cell_type": "markdown",
      "source": [
        "Resultater"
      ],
      "metadata": {
        "id": "jvEdpgjNxu2L"
      }
    },
    {
      "cell_type": "code",
      "source": [
        "res_2_design_NIR = pd.DataFrame(res.dict_res_2_design_NIR)\n",
        "res_2_design_opt_NIR = pd.DataFrame(res.dict_res_2_design_opt_NIR)\n",
        "\n",
        "res_2_design_NIR.to_csv('/content/drive/MyDrive/MasterV24/Bioco_data/Resultater/mw/mw_resultater_2_design_NIR.csv')\n",
        "res_2_design_opt_NIR.to_csv('/content/drive/MyDrive/MasterV24/Bioco_data/Resultater/mw/mw_resultater_2_design_opt_NIR.csv')"
      ],
      "metadata": {
        "id": "RyDfe6DZxryW"
      },
      "execution_count": null,
      "outputs": []
    }
  ],
  "metadata": {
    "colab": {
      "collapsed_sections": [
        "qhRMrFFHlZuX"
      ],
      "provenance": [],
      "authorship_tag": "ABX9TyMeKeL/jAzd1OSY9VHt86cd",
      "include_colab_link": true
    },
    "kernelspec": {
      "display_name": "Python 3",
      "name": "python3"
    },
    "language_info": {
      "name": "python"
    }
  },
  "nbformat": 4,
  "nbformat_minor": 0
}