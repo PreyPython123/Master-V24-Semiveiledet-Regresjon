{
  "cells": [
    {
      "cell_type": "markdown",
      "metadata": {
        "id": "view-in-github",
        "colab_type": "text"
      },
      "source": [
        "<a href=\"https://colab.research.google.com/github/PreyPython123/Master-V24-Semiveiledet-Regresjon/blob/Mw-Pradeep/Bioco_Mw_Superveiledet_Regresjonsmetoder.ipynb\" target=\"_parent\"><img src=\"https://colab.research.google.com/assets/colab-badge.svg\" alt=\"Open In Colab\"/></a>"
      ]
    },
    {
      "cell_type": "code",
      "execution_count": 1,
      "metadata": {
        "colab": {
          "base_uri": "https://localhost:8080/"
        },
        "id": "nwEzUjnf0xLZ",
        "outputId": "b7361d48-f6c1-4579-dbb4-50876d69c546"
      },
      "outputs": [
        {
          "output_type": "stream",
          "name": "stdout",
          "text": [
            "Mounted at /content/drive/\n"
          ]
        }
      ],
      "source": [
        "from google.colab import drive\n",
        "drive.mount('/content/drive/')"
      ]
    },
    {
      "cell_type": "markdown",
      "metadata": {
        "id": "uPtuGVtCJOFj"
      },
      "source": [
        "# Importering, lasting og formattering"
      ]
    },
    {
      "cell_type": "markdown",
      "metadata": {
        "id": "ZNeQrag9Rlc_"
      },
      "source": [
        "Lasting av nødvendige bibliotek og pakker"
      ]
    },
    {
      "cell_type": "code",
      "execution_count": 2,
      "metadata": {
        "colab": {
          "base_uri": "https://localhost:8080/"
        },
        "id": "k5u1dZmp6cJ9",
        "outputId": "b3fba1c0-2039-4a17-f976-3e3e27122f2e"
      },
      "outputs": [
        {
          "output_type": "stream",
          "name": "stdout",
          "text": [
            "Collecting optuna\n",
            "  Downloading optuna-3.6.1-py3-none-any.whl (380 kB)\n",
            "\u001b[2K     \u001b[90m━━━━━━━━━━━━━━━━━━━━━━━━━━━━━━━━━━━━━━━━\u001b[0m \u001b[32m380.1/380.1 kB\u001b[0m \u001b[31m2.7 MB/s\u001b[0m eta \u001b[36m0:00:00\u001b[0m\n",
            "\u001b[?25hCollecting alembic>=1.5.0 (from optuna)\n",
            "  Downloading alembic-1.13.1-py3-none-any.whl (233 kB)\n",
            "\u001b[2K     \u001b[90m━━━━━━━━━━━━━━━━━━━━━━━━━━━━━━━━━━━━━━━━\u001b[0m \u001b[32m233.4/233.4 kB\u001b[0m \u001b[31m4.5 MB/s\u001b[0m eta \u001b[36m0:00:00\u001b[0m\n",
            "\u001b[?25hCollecting colorlog (from optuna)\n",
            "  Downloading colorlog-6.8.2-py3-none-any.whl (11 kB)\n",
            "Requirement already satisfied: numpy in /usr/local/lib/python3.10/dist-packages (from optuna) (1.25.2)\n",
            "Requirement already satisfied: packaging>=20.0 in /usr/local/lib/python3.10/dist-packages (from optuna) (24.0)\n",
            "Requirement already satisfied: sqlalchemy>=1.3.0 in /usr/local/lib/python3.10/dist-packages (from optuna) (2.0.29)\n",
            "Requirement already satisfied: tqdm in /usr/local/lib/python3.10/dist-packages (from optuna) (4.66.2)\n",
            "Requirement already satisfied: PyYAML in /usr/local/lib/python3.10/dist-packages (from optuna) (6.0.1)\n",
            "Collecting Mako (from alembic>=1.5.0->optuna)\n",
            "  Downloading Mako-1.3.3-py3-none-any.whl (78 kB)\n",
            "\u001b[2K     \u001b[90m━━━━━━━━━━━━━━━━━━━━━━━━━━━━━━━━━━━━━━━━\u001b[0m \u001b[32m78.8/78.8 kB\u001b[0m \u001b[31m3.8 MB/s\u001b[0m eta \u001b[36m0:00:00\u001b[0m\n",
            "\u001b[?25hRequirement already satisfied: typing-extensions>=4 in /usr/local/lib/python3.10/dist-packages (from alembic>=1.5.0->optuna) (4.11.0)\n",
            "Requirement already satisfied: greenlet!=0.4.17 in /usr/local/lib/python3.10/dist-packages (from sqlalchemy>=1.3.0->optuna) (3.0.3)\n",
            "Requirement already satisfied: MarkupSafe>=0.9.2 in /usr/local/lib/python3.10/dist-packages (from Mako->alembic>=1.5.0->optuna) (2.1.5)\n",
            "Installing collected packages: Mako, colorlog, alembic, optuna\n",
            "Successfully installed Mako-1.3.3 alembic-1.13.1 colorlog-6.8.2 optuna-3.6.1\n"
          ]
        }
      ],
      "source": [
        "!pip install optuna"
      ]
    },
    {
      "cell_type": "markdown",
      "metadata": {
        "id": "jT-YzIdVRply"
      },
      "source": [
        "Importering av nødvendig bibliotek og pakker"
      ]
    },
    {
      "cell_type": "code",
      "execution_count": 3,
      "metadata": {
        "id": "5_s-eJyVk3v0"
      },
      "outputs": [],
      "source": [
        "import pandas as pd\n",
        "import numpy as np\n",
        "import copy\n",
        "import math\n",
        "from statistics import mean, stdev\n",
        "\n",
        "from sklearn.preprocessing import StandardScaler\n",
        "from sklearn.model_selection import RepeatedStratifiedKFold\n",
        "from sklearn.pipeline import Pipeline"
      ]
    },
    {
      "cell_type": "code",
      "source": [
        "# Modeller\n",
        "from sklearn.ensemble import RandomForestRegressor\n",
        "from sklearn.neighbors import KNeighborsRegressor\n",
        "from sklearn.svm import SVR"
      ],
      "metadata": {
        "id": "EH3SQKCIfwnC"
      },
      "execution_count": 4,
      "outputs": []
    },
    {
      "cell_type": "code",
      "execution_count": 5,
      "metadata": {
        "id": "GrgCsoZhmayI"
      },
      "outputs": [],
      "source": [
        "# Hyperoptimalisering\n",
        "import optuna\n",
        "from optuna.visualization import plot_optimization_history\n",
        "\n",
        "# Utelukker utskriving av logg for hyperoptimalisering\n",
        "optuna.logging.set_verbosity(optuna.logging.WARNING)"
      ]
    },
    {
      "cell_type": "markdown",
      "metadata": {
        "id": "qhRMrFFHlZuX"
      },
      "source": [
        "# Egendefinerte moduler"
      ]
    },
    {
      "cell_type": "code",
      "execution_count": 6,
      "metadata": {
        "colab": {
          "base_uri": "https://localhost:8080/"
        },
        "id": "FXgxrml5lg5B",
        "outputId": "2597a796-dd43-4d6c-ed78-1d68cb5cdc45"
      },
      "outputs": [
        {
          "output_type": "stream",
          "name": "stdout",
          "text": [
            "/content\n"
          ]
        }
      ],
      "source": [
        "!pwd\n",
        "! cp /content/drive/MyDrive/MasterV24/GitHub/moduler_trening_validering_testing_evaluering.py /content/moduler_trening_validering_testing_evaluering.py"
      ]
    },
    {
      "cell_type": "code",
      "execution_count": 7,
      "metadata": {
        "id": "tvOTDwKLf0q8"
      },
      "outputs": [],
      "source": [
        "from moduler_trening_validering_testing_evaluering import trening_testsett_oppdeling_enzym\n",
        "from moduler_trening_validering_testing_evaluering import trening_testsett_oppdeling_dag\n",
        "from moduler_trening_validering_testing_evaluering import trening_validering_oppdeling_dag\n",
        "\n",
        "from moduler_trening_validering_testing_evaluering import enzymfordeling\n",
        "from moduler_trening_validering_testing_evaluering import Resultat_evaluering\n",
        "from moduler_trening_validering_testing_evaluering import res_eval_opt\n",
        "from moduler_trening_validering_testing_evaluering import res_eval\n",
        "from moduler_trening_validering_testing_evaluering import Resultat_dicts"
      ]
    },
    {
      "cell_type": "code",
      "execution_count": 8,
      "metadata": {
        "colab": {
          "base_uri": "https://localhost:8080/"
        },
        "id": "JTs_zHhkiBpK",
        "outputId": "56bab1b5-4a29-450e-a890-12b20243567d"
      },
      "outputs": [
        {
          "output_type": "stream",
          "name": "stdout",
          "text": [
            "/content\n"
          ]
        }
      ],
      "source": [
        "!pwd\n",
        "! cp /content/drive/MyDrive/MasterV24/GitHub/moduler_optimalisering_evaluering_veiledet.py /content/moduler_optimalisering_evaluering_veiledet.py"
      ]
    },
    {
      "cell_type": "code",
      "execution_count": 9,
      "metadata": {
        "id": "A5GEVrXsiYd-"
      },
      "outputs": [],
      "source": [
        "from moduler_optimalisering_evaluering_veiledet import trening_rfr_enzym\n",
        "from moduler_optimalisering_evaluering_veiledet import trening_knr_enzym\n",
        "from moduler_optimalisering_evaluering_veiledet import trening_svr_enzym\n",
        "\n",
        "from moduler_optimalisering_evaluering_veiledet import trening_rfr_dag\n",
        "from moduler_optimalisering_evaluering_veiledet import trening_knr_dag\n",
        "from moduler_optimalisering_evaluering_veiledet import trening_svr_dag\n",
        "\n",
        "from moduler_optimalisering_evaluering_veiledet import veiledet_modell_evaluering_1\n",
        "from moduler_optimalisering_evaluering_veiledet import veiledet_modell_evaluering_2"
      ]
    },
    {
      "cell_type": "markdown",
      "metadata": {
        "id": "21cdLIoaSTR6"
      },
      "source": [
        "# Importering av relevant data"
      ]
    },
    {
      "cell_type": "code",
      "execution_count": 10,
      "metadata": {
        "id": "XeNQyDPZSTwY"
      },
      "outputs": [],
      "source": [
        "# Velger første kolonne med dato og tid som index\n",
        "data = pd.read_csv('/content/drive/MyDrive/MasterV24/Bioco_data/mw_data.csv',\n",
        "                            header=0,\n",
        "                            sep=',',\n",
        "                            index_col=0)\n",
        "\n",
        "# Design produksjon\n",
        "data_design = pd.read_csv('/content/drive/MyDrive/MasterV24/Bioco_data/mw_data_design.csv',\n",
        "                                   header=0,\n",
        "                                   sep=',',\n",
        "                                   index_col=0)\n",
        "\n",
        "# Importerer rådata\n",
        "rå_data = pd.read_csv('/content/drive/MyDrive/MasterV24/BiocoData.csv',\n",
        "                      header=0,\n",
        "                      sep=';',\n",
        "                      index_col=0)\n",
        "\n",
        "# Formatterer index til riktig format og datatype\n",
        "data.index = pd.to_datetime(data.index,\n",
        "                            format='%Y-%m-%d %H:%M:%S')\n",
        "\n",
        "data_design.index = pd.to_datetime(data_design.index,\n",
        "                                   format='%Y-%m-%d %H:%M:%S')\n",
        "\n",
        "rå_data.index = pd.to_datetime(rå_data.index,\n",
        "                               format='%d-%m-%Y %H:%M:%S.%f')"
      ]
    },
    {
      "cell_type": "markdown",
      "metadata": {
        "id": "7Wl0nay5j2C4"
      },
      "source": [
        "Tilfeldighetsfrø"
      ]
    },
    {
      "cell_type": "code",
      "execution_count": 11,
      "metadata": {
        "id": "OxTGpIOmj4V7"
      },
      "outputs": [],
      "source": [
        "#Tilfeldighetsfrø\n",
        "random_seed = 2024"
      ]
    },
    {
      "cell_type": "markdown",
      "metadata": {
        "id": "hPfDrou1pR0w"
      },
      "source": [
        "# Beskrivelse av datasett"
      ]
    },
    {
      "cell_type": "code",
      "execution_count": 12,
      "metadata": {
        "colab": {
          "base_uri": "https://localhost:8080/"
        },
        "id": "HsvZWJ7apQpL",
        "outputId": "38f9cb15-3e6c-4e9c-fae0-8f14416c0383"
      },
      "outputs": [
        {
          "output_type": "stream",
          "name": "stdout",
          "text": [
            "<class 'pandas.core.frame.DataFrame'>\n",
            "DatetimeIndex: 28976 entries, 2022-10-31 17:37:00 to 2023-06-14 01:02:00\n",
            "Data columns (total 14 columns):\n",
            " #   Column         Non-Null Count  Dtype  \n",
            "---  ------         --------------  -----  \n",
            " 0   EnzymeType_A1  28976 non-null  int64  \n",
            " 1   EnzymeType_A2  28976 non-null  int64  \n",
            " 2   EnzymeType_B   28976 non-null  int64  \n",
            " 3   EnzymeType_C   28976 non-null  int64  \n",
            " 4   EnzymeType_D   28976 non-null  int64  \n",
            " 5   EnzymeType_E   28976 non-null  int64  \n",
            " 6   RawMatPercent  28976 non-null  float64\n",
            " 7   NIRfat         28976 non-null  float64\n",
            " 8   NIRash         28976 non-null  float64\n",
            " 9   NIRwater       28976 non-null  float64\n",
            " 10  TT08           28976 non-null  float64\n",
            " 11  TT20           28976 non-null  float64\n",
            " 12  TT12           28976 non-null  float64\n",
            " 13  Mw             455 non-null    float64\n",
            "dtypes: float64(8), int64(6)\n",
            "memory usage: 3.3 MB\n"
          ]
        }
      ],
      "source": [
        "data.info()"
      ]
    },
    {
      "cell_type": "code",
      "execution_count": 13,
      "metadata": {
        "colab": {
          "base_uri": "https://localhost:8080/"
        },
        "id": "PgpYbIMYghZf",
        "outputId": "39f70062-7e0a-4cf5-a13f-62159afdb097"
      },
      "outputs": [
        {
          "output_type": "stream",
          "name": "stdout",
          "text": [
            "<class 'pandas.core.frame.DataFrame'>\n",
            "DatetimeIndex: 10466 entries, 2022-10-31 17:37:00 to 2023-06-13 23:59:00\n",
            "Data columns (total 14 columns):\n",
            " #   Column         Non-Null Count  Dtype  \n",
            "---  ------         --------------  -----  \n",
            " 0   EnzymeType_A1  10466 non-null  int64  \n",
            " 1   EnzymeType_A2  10466 non-null  int64  \n",
            " 2   EnzymeType_B   10466 non-null  int64  \n",
            " 3   EnzymeType_C   10466 non-null  int64  \n",
            " 4   EnzymeType_D   10466 non-null  int64  \n",
            " 5   EnzymeType_E   10466 non-null  int64  \n",
            " 6   RawMatPercent  10466 non-null  float64\n",
            " 7   NIRfat         10466 non-null  float64\n",
            " 8   NIRash         10466 non-null  float64\n",
            " 9   NIRwater       10466 non-null  float64\n",
            " 10  TT08           10466 non-null  float64\n",
            " 11  TT20           10466 non-null  float64\n",
            " 12  TT12           10466 non-null  float64\n",
            " 13  Mw             332 non-null    float64\n",
            "dtypes: float64(8), int64(6)\n",
            "memory usage: 1.2 MB\n"
          ]
        }
      ],
      "source": [
        "data_design.info()"
      ]
    },
    {
      "cell_type": "markdown",
      "metadata": {
        "id": "i_1rn21ITRJ4"
      },
      "source": [
        "# Lagring av resultater"
      ]
    },
    {
      "cell_type": "code",
      "execution_count": 14,
      "metadata": {
        "id": "EGIgRqWETUTx"
      },
      "outputs": [],
      "source": [
        "# Oppretter instans for lagring av resultater\n",
        "mw_res = Resultat_dicts()"
      ]
    },
    {
      "cell_type": "markdown",
      "metadata": {
        "id": "76aWdlTDXp9I"
      },
      "source": [
        "# NIR målinger inkludert"
      ]
    },
    {
      "cell_type": "markdown",
      "metadata": {
        "id": "wQpsJkKShL_9"
      },
      "source": [
        "## Hele datasett"
      ]
    },
    {
      "cell_type": "markdown",
      "source": [
        "## Alternativ 1: Hele treningssett"
      ],
      "metadata": {
        "id": "RAPTeouaQcXa"
      }
    },
    {
      "cell_type": "code",
      "source": [
        "# Setter fast testandel og treningsandel\n",
        "test_andel = 0.2\n",
        "trenings_andel = 1.0\n",
        "\n",
        "\n",
        "# Deler datasettet i trening og testsett\n",
        "trening_markert, enzymtyper_markert, testsett, _, _, _, trening\\\n",
        "= trening_testsett_oppdeling_enzym(rå_data,\n",
        "                                   data,\n",
        "                                   test_andel=test_andel)\n",
        "\n",
        "#Oversikt over fordelingen av enzymtyper i testsett\n",
        "print(\"Enzymtyper Fordeling: Test\")\n",
        "print(enzymfordeling(rå_data, testsett))"
      ],
      "metadata": {
        "id": "46il6J17QhFG",
        "colab": {
          "base_uri": "https://localhost:8080/"
        },
        "outputId": "0fbec65c-113e-4b6f-9fd6-4325276d89f2"
      },
      "execution_count": 24,
      "outputs": [
        {
          "output_type": "stream",
          "name": "stdout",
          "text": [
            "Enzymtyper Fordeling: Test\n",
            "            Frekvens  Andel\n",
            "EnzymeCode                 \n",
            "A2                31  34.07\n",
            "E                 15  16.48\n",
            "B                 14  15.38\n",
            "C                 14  15.38\n",
            "D                 13  14.29\n",
            "A1                 4   4.40\n"
          ]
        }
      ]
    },
    {
      "cell_type": "code",
      "source": [
        "# Antall runder til optimalisering\n",
        "n_runder = 100\n",
        "\n",
        "# Parametervalg for kryssvalidering\n",
        "n_splitt = 10\n",
        "n_gjentagelser = 10\n",
        "\n",
        "# Modelloptimalisering, trening og evaluering av RFR, KNR og SVR\n",
        "veiledet_modell_evaluering_1(dict_res_opt=mw_res.dict_res_1_hel_opt,\n",
        "                             dict_res=mw_res.dict_res_1_hel,\n",
        "                             treningssett_markert=trening_markert,\n",
        "                             enzymtyper_treningssett_markert=enzymtyper_markert,\n",
        "                             testsett=testsett,\n",
        "                             n_splitt=n_splitt,\n",
        "                             n_gjentagelser=n_gjentagelser,\n",
        "                             n_runder=n_runder,\n",
        "                             test_andel=test_andel,\n",
        "                             trenings_andel=trenings_andel,\n",
        "                             random_seed=random_seed)"
      ],
      "metadata": {
        "id": "-1sgIF1zXb2O"
      },
      "execution_count": 23,
      "outputs": []
    },
    {
      "cell_type": "markdown",
      "source": [
        "Velger beste modell"
      ],
      "metadata": {
        "id": "bwX1RP9pXiU_"
      }
    },
    {
      "cell_type": "code",
      "source": [],
      "metadata": {
        "id": "ioPAXcdFXkf7"
      },
      "execution_count": null,
      "outputs": []
    },
    {
      "cell_type": "markdown",
      "metadata": {
        "id": "lNTfChXaIZAf"
      },
      "source": [
        "## Alternativ 1: Forskjellige treningsandeler"
      ]
    },
    {
      "cell_type": "code",
      "execution_count": 25,
      "metadata": {
        "id": "jH1qpCxOIgAI"
      },
      "outputs": [],
      "source": [
        "# Antall runder til optimalisering\n",
        "n_runder = 50\n",
        "\n",
        "\n",
        "# Treningsandeler\n",
        "treningsandeler = [0.2, 0.4, 0.6, 0.8]\n",
        "\n",
        "# Går gjennom andeler av satt treningssett\n",
        "for trenings_andel in treningsandeler:\n",
        "\n",
        "  if trenings_andel < 1.0:\n",
        "\n",
        "      # Utelukker resterende andel fra trening av modell\n",
        "      ubenyttet_andel = (1.0-trenings_andel)\n",
        "\n",
        "      treningssett_markert, enzymtyper_treningssett_markert,\\\n",
        "      _, _, _, _, _ = trening_testsett_oppdeling_enzym(rå_data,\n",
        "                                                       trening,\n",
        "                                                       test_andel=ubenyttet_andel,\n",
        "                                                       random_seed=random_seed)\n",
        "\n",
        "  else:\n",
        "    treningssett_markert = trening_markert\n",
        "    enzymtyper_treningssett_markert = enzymtyper_markert\n",
        "\n",
        "  # Parameter til kryssvalidering\n",
        "  n_gjentagelser = 2\n",
        "\n",
        "  # Finner antall av enzymtype med minst antall\n",
        "  enzym_markert_info = enzymfordeling(rå_data, treningssett_markert)\n",
        "  enzymtype_min = enzym_markert_info['Frekvens'].min()\n",
        "\n",
        "  # Splitter etter minst antall hvis lavere enn 10. Ellers 10\n",
        "  n_splitt = 10 if enzymtype_min >= 10 else enzymtype_min\n",
        "\n",
        "  # Modelloptimalisering, trening og evaluering av RFR, KNR og SVR\n",
        "  veiledet_modell_evaluering_1(dict_res_opt=mw_res.dict_res_1_hel_opt,\n",
        "                               dict_res=mw_res.dict_res_1_hel,\n",
        "                               treningssett_markert=treningssett_markert,\n",
        "                               enzymtyper_treningssett_markert=enzymtyper_treningssett_markert,\n",
        "                               testsett=testsett,\n",
        "                               n_splitt=n_splitt,\n",
        "                               n_gjentagelser=n_gjentagelser,\n",
        "                               n_runder=n_runder,\n",
        "                               test_andel=test_andel,\n",
        "                               trenings_andel=trenings_andel,\n",
        "                               random_seed=random_seed)"
      ]
    },
    {
      "cell_type": "markdown",
      "source": [
        "Lagring av resultater"
      ],
      "metadata": {
        "id": "MSCewDmhgFHW"
      }
    },
    {
      "cell_type": "code",
      "source": [
        "mw_resultater_1_hel = pd.DataFrame(mw_res.dict_res_1_hel)\n",
        "mw_resultater_1_hel_opt = pd.DataFrame(mw_res.dict_res_1_hel_opt)\n",
        "\n",
        "mw_resultater_1_hel.to_csv('/content/drive/MyDrive/MasterV24/Bioco_data/mw_resultater_1_hel.csv')\n",
        "mw_resultater_1_hel_opt.to_csv('/content/drive/MyDrive/MasterV24/Bioco_data/mw_resultater_1_hel_opt.csv')"
      ],
      "metadata": {
        "id": "5Xw_S3MTgHgY"
      },
      "execution_count": null,
      "outputs": []
    },
    {
      "cell_type": "markdown",
      "source": [
        "## Alternativ 2: Hele treningssett"
      ],
      "metadata": {
        "id": "Vug3qjOcXxOJ"
      }
    },
    {
      "cell_type": "code",
      "source": [
        "# Definerer trenings- og testandel\n",
        "test_andel = 0.2\n",
        "trenings_andel = 1.0\n",
        "\n",
        "\n",
        "# Deler datasettet i trening og testsett\n",
        "trening_markert, testsett, _, trening\\\n",
        "= trening_testsett_oppdeling_dag(rå_data,\n",
        "                                 data,\n",
        "                                 test_andel=test_andel,\n",
        "                                 test_ekskluder_kalkun_kylling=True)\n",
        "\n",
        "#Oversikt over fordelingen av enzymtyper i testsett\n",
        "print(\"Enzymtyper Fordeling: Test\")\n",
        "print(enzymfordeling(rå_data, testsett))"
      ],
      "metadata": {
        "id": "JzADzCY1X0Zx",
        "colab": {
          "base_uri": "https://localhost:8080/"
        },
        "outputId": "3974ffcb-9632-48ba-b3d8-0bdc7219c2c1"
      },
      "execution_count": 20,
      "outputs": [
        {
          "output_type": "stream",
          "name": "stdout",
          "text": [
            "Enzymtyper Fordeling: Test\n",
            "            Frekvens  Andel\n",
            "EnzymeCode                 \n",
            "A2                25  27.78\n",
            "B                 16  17.78\n",
            "C                 15  16.67\n",
            "E                 15  16.67\n",
            "D                 13  14.44\n",
            "A1                 6   6.67\n"
          ]
        }
      ]
    },
    {
      "cell_type": "code",
      "source": [
        "# Parametervalg for kryssvalidering\n",
        "n_splitt = 10\n",
        "\n",
        "# Antall runder til optimalisering\n",
        "n_runder = 100\n",
        "\n",
        "# Modelloptimalisering, trening og evaluering av RFR, KNR og SVR\n",
        "veiledet_modell_evaluering_2(dict_res_opt=mw_res.dict_res_2_hel_opt,\n",
        "                             dict_res=mw_res.dict_res_2_hel,\n",
        "                             rå_data=rå_data,\n",
        "                             treningssett_markert=trening_markert,\n",
        "                             testsett=testsett,\n",
        "                             n_splitt=n_splitt,\n",
        "                             n_runder=n_runder,\n",
        "                             test_andel=test_andel,\n",
        "                             trenings_andel=trenings_andel,\n",
        "                             random_seed=random_seed)"
      ],
      "metadata": {
        "id": "-GW5AyE7X5Sh"
      },
      "execution_count": 18,
      "outputs": []
    },
    {
      "cell_type": "markdown",
      "source": [
        "Velger beste modell"
      ],
      "metadata": {
        "id": "nEi8u82bX7Vg"
      }
    },
    {
      "cell_type": "code",
      "source": [],
      "metadata": {
        "id": "qOJEIwcyX9iw"
      },
      "execution_count": null,
      "outputs": []
    },
    {
      "cell_type": "markdown",
      "metadata": {
        "id": "8IO2r9GrkH4N"
      },
      "source": [
        "## Alternativ 2: Forskjellige treningssandeler"
      ]
    },
    {
      "cell_type": "code",
      "execution_count": 21,
      "metadata": {
        "colab": {
          "base_uri": "https://localhost:8080/"
        },
        "id": "jV49bC6qkH4N",
        "outputId": "59354ece-b4f9-47f3-de76-1c624af664ca"
      },
      "outputs": [
        {
          "output_type": "stream",
          "name": "stdout",
          "text": [
            "Enzymtyper Fordeling: Treningssett markert andel: 0.2\n",
            "            Frekvens  Andel\n",
            "EnzymeCode                 \n",
            "A2                41  26.28\n",
            "C                 30  19.23\n",
            "D                 30  19.23\n",
            "B                 27  17.31\n",
            "E                 26  16.67\n",
            "A1                 2   1.28\n",
            "Enzymtyper Fordeling: Treningssett markert andel: 0.4\n",
            "            Frekvens  Andel\n",
            "EnzymeCode                 \n",
            "A2                62  33.16\n",
            "C                 31  16.58\n",
            "D                 31  16.58\n",
            "B                 29  15.51\n",
            "E                 28  14.97\n",
            "A1                 6   3.21\n",
            "Enzymtyper Fordeling: Treningssett markert andel: 0.6\n",
            "            Frekvens  Andel\n",
            "EnzymeCode                 \n",
            "A2                83  37.22\n",
            "E                 36  16.14\n",
            "C                 33  14.80\n",
            "D                 32  14.35\n",
            "B                 31  13.90\n",
            "A1                 8   3.59\n",
            "Enzymtyper Fordeling: Treningssett markert andel: 0.8\n",
            "            Frekvens  Andel\n",
            "EnzymeCode                 \n",
            "A2               109  37.33\n",
            "E                 48  16.44\n",
            "B                 42  14.38\n",
            "C                 42  14.38\n",
            "D                 39  13.36\n",
            "A1                12   4.11\n"
          ]
        }
      ],
      "source": [
        "# Antall runder til optimalisering\n",
        "n_runder = 50\n",
        "\n",
        "# Treningsandeler\n",
        "trenings_andeler = [0.2, 0.4, 0.6, 0.8]\n",
        "\n",
        "# Går gjennom andeler av satt treningssett\n",
        "for trenings_andel in trenings_andeler:\n",
        "\n",
        "  if trenings_andel < 1.0:\n",
        "\n",
        "      # Utelukker resterende andel fra trening av modell\n",
        "      ubenyttet_andel = (1.0-trenings_andel)\n",
        "\n",
        "      treningssett_markert, _, _, _\\\n",
        "      = trening_testsett_oppdeling_dag(rå_data,\n",
        "                                       trening,\n",
        "                                       test_andel=ubenyttet_andel,\n",
        "                                       test_ekskluder_kalkun_kylling=True)\n",
        "\n",
        "  else:\n",
        "    treningssett_markert = trening_markert\n",
        "\n",
        "  #Enzymfordeling\n",
        "  print(\"Enzymtyper Fordeling: Treningssett markert andel:\", trenings_andel)\n",
        "  enzym_treningssett_markert = enzymfordeling(rå_data,\n",
        "                                              treningssett_markert)\n",
        "  print(enzym_treningssett_markert)\n",
        "\n",
        "  # Finner antall av enzymtype med minst antall\n",
        "  enzymtype_min = enzym_treningssett_markert['Frekvens'].min()\n",
        "\n",
        "  # Splitter etter minst antall hvis lavere enn 10. Ellers 10\n",
        "  n_splitt = 10 if enzymtype_min >= 10 else enzymtype_min\n",
        "\n",
        "  veiledet_modell_evaluering_2(dict_res_opt=mw_res.dict_res_2_hel_opt,\n",
        "                               dict_res=mw_res.dict_res_2_hel,\n",
        "                               rå_data=rå_data,\n",
        "                               treningssett_markert=treningssett_markert,\n",
        "                               testsett=testsett,\n",
        "                               n_splitt=n_splitt,\n",
        "                               n_runder=n_runder,\n",
        "                               test_andel=test_andel,\n",
        "                               trenings_andel=trenings_andel,\n",
        "                               random_seed=random_seed)"
      ]
    },
    {
      "cell_type": "markdown",
      "source": [
        "Lagring av resultater"
      ],
      "metadata": {
        "id": "sCl3QEH2gcAF"
      }
    },
    {
      "cell_type": "code",
      "source": [
        "mw_resultater_2_hel = pd.DataFrame(mw_res.dict_res_2_hel)\n",
        "mw_resultater_2_hel_opt = pd.DataFrame(mw_res.dict_res_2_hel_opt)\n",
        "\n",
        "mw_resultater_2_hel.to_csv('/content/drive/MyDrive/MasterV24/Bioco_data/mw_resultater_2_hel.csv')\n",
        "mw_resultater_2_hel_opt.to_csv('/content/drive/MyDrive/MasterV24/Bioco_data/mw_resultater_2_hel_opt.csv')"
      ],
      "metadata": {
        "id": "vdnuKhWtgcAG"
      },
      "execution_count": null,
      "outputs": []
    },
    {
      "cell_type": "markdown",
      "metadata": {
        "id": "un6mDEGPFIHt"
      },
      "source": [
        "## Designproduksjon"
      ]
    },
    {
      "cell_type": "markdown",
      "source": [
        "## Alternativ 1: Hele treningssett"
      ],
      "metadata": {
        "id": "pBFVc2pIvRsq"
      }
    },
    {
      "cell_type": "code",
      "source": [
        "# Setter fast testandel og treningsandel\n",
        "test_andel = 0.2\n",
        "trenings_andel = 1.0\n",
        "\n",
        "\n",
        "# Deler datasettet i trening og testsett\n",
        "trening_markert, enzymtyper_markert, testsett, _, _, _, trening\\\n",
        "= trening_testsett_oppdeling_enzym(rå_data,\n",
        "                                   data_design,\n",
        "                                   test_andel=test_andel)\n",
        "\n",
        "#Oversikt over fordelingen av enzymtyper i testsett\n",
        "print(\"Enzymtyper Fordeling: Test\")\n",
        "print(enzymfordeling(rå_data, testsett))"
      ],
      "metadata": {
        "colab": {
          "base_uri": "https://localhost:8080/"
        },
        "outputId": "15e00dfb-f6eb-4a06-992f-75b998e7daff",
        "id": "WgSXtkJbvRsr"
      },
      "execution_count": 23,
      "outputs": [
        {
          "output_type": "stream",
          "name": "stdout",
          "text": [
            "Enzymtyper Fordeling: Test\n",
            "            Frekvens  Andel\n",
            "EnzymeCode                 \n",
            "E                 15  22.39\n",
            "B                 13  19.40\n",
            "C                 13  19.40\n",
            "D                 12  17.91\n",
            "A2                10  14.93\n",
            "A1                 4   5.97\n"
          ]
        }
      ]
    },
    {
      "cell_type": "code",
      "source": [
        "# Antall runder til optimalisering\n",
        "n_runder = 100\n",
        "\n",
        "# Parametervalg for kryssvalidering\n",
        "n_splitt = 10\n",
        "n_gjentagelser = 10\n",
        "\n",
        "# Modelloptimalisering, trening og evaluering av RFR, KNR og SVR\n",
        "veiledet_modell_evaluering_1(dict_res_opt=mw_res.dict_res_1_design_opt,\n",
        "                             dict_res=mw_res.dict_res_1_design,\n",
        "                             treningssett_markert=trening_markert,\n",
        "                             enzymtyper_treningssett_markert=enzymtyper_markert,\n",
        "                             testsett=testsett,\n",
        "                             n_splitt=n_splitt,\n",
        "                             n_gjentagelser=n_gjentagelser,\n",
        "                             n_runder=n_runder,\n",
        "                             test_andel=test_andel,\n",
        "                             trenings_andel=trenings_andel,\n",
        "                             random_seed=random_seed)"
      ],
      "metadata": {
        "id": "rPvCazwnvRsr"
      },
      "execution_count": null,
      "outputs": []
    },
    {
      "cell_type": "markdown",
      "source": [
        "Velger beste modell"
      ],
      "metadata": {
        "id": "-1cIW1VqvRsr"
      }
    },
    {
      "cell_type": "code",
      "source": [],
      "metadata": {
        "id": "YlwO4gz3vRsr"
      },
      "execution_count": null,
      "outputs": []
    },
    {
      "cell_type": "markdown",
      "metadata": {
        "id": "8Hy0Pg1GvRss"
      },
      "source": [
        "## Alternativ 1: Forskjellige treningsandeler"
      ]
    },
    {
      "cell_type": "code",
      "execution_count": null,
      "metadata": {
        "id": "GzTtZ28kvRss"
      },
      "outputs": [],
      "source": [
        "# Antall runder til optimalisering\n",
        "n_runder = 50\n",
        "\n",
        "\n",
        "# Treningsandeler\n",
        "treningsandeler = [0.2, 0.4, 0.6, 0.8]\n",
        "\n",
        "# Går gjennom andeler av satt treningssett\n",
        "for trenings_andel in treningsandeler:\n",
        "\n",
        "  if trenings_andel < 1.0:\n",
        "\n",
        "      # Utelukker resterende andel fra trening av modell\n",
        "      ubenyttet_andel = (1.0-trenings_andel)\n",
        "\n",
        "      treningssett_markert, enzymtyper_treningssett_markert,\\\n",
        "      _, _, _, _, _ = trening_testsett_oppdeling_enzym(rå_data,\n",
        "                                                       trening,\n",
        "                                                       test_andel=ubenyttet_andel,\n",
        "                                                       random_seed=random_seed)\n",
        "\n",
        "  else:\n",
        "    treningssett_markert = trening_markert\n",
        "    enzymtyper_treningssett_markert = enzymtyper_markert\n",
        "\n",
        "  # Parameter til kryssvalidering\n",
        "  n_gjentagelser = 2\n",
        "\n",
        "  # Finner antall av enzymtype med minst antall\n",
        "  enzym_markert_info = enzymfordeling(rå_data, treningssett_markert)\n",
        "  enzymtype_min = enzym_markert_info['Frekvens'].min()\n",
        "\n",
        "  # Splitter etter minst antall hvis lavere enn 10. Ellers 10\n",
        "  n_splitt = 10 if enzymtype_min >= 10 else enzymtype_min\n",
        "\n",
        "  # Modelloptimalisering, trening og evaluering av RFR, KNR og SVR\n",
        "  veiledet_modell_evaluering_1(dict_res_opt=mw_res.dict_res_1_design_opt,\n",
        "                               dict_res=mw_res.dict_res_1_design,\n",
        "                               treningssett_markert=treningssett_markert,\n",
        "                               enzymtyper_treningssett_markert=enzymtyper_treningssett_markert,\n",
        "                               testsett=testsett,\n",
        "                               n_splitt=n_splitt,\n",
        "                               n_gjentagelser=n_gjentagelser,\n",
        "                               n_runder=n_runder,\n",
        "                               test_andel=test_andel,\n",
        "                               trenings_andel=trenings_andel,\n",
        "                               random_seed=random_seed)"
      ]
    },
    {
      "cell_type": "markdown",
      "source": [
        "Lagring av resultater"
      ],
      "metadata": {
        "id": "UL2aLu_QvRss"
      }
    },
    {
      "cell_type": "code",
      "source": [
        "mw_resultater_1_design = pd.DataFrame(mw_res.dict_res_1_design)\n",
        "mw_resultater_1_design_opt = pd.DataFrame(mw_res.dict_res_1_design_opt)\n",
        "\n",
        "mw_resultater_1_design.to_csv('/content/drive/MyDrive/MasterV24/Bioco_data/mw_resultater_1_design.csv')\n",
        "mw_resultater_1_design_opt.to_csv('/content/drive/MyDrive/MasterV24/Bioco_data/mw_resultater_1_design_opt.csv')"
      ],
      "metadata": {
        "id": "MriX_tBUvRss"
      },
      "execution_count": null,
      "outputs": []
    },
    {
      "cell_type": "markdown",
      "source": [
        "## Alternativ 2: Hele treningssett"
      ],
      "metadata": {
        "id": "TmDsuWZqvRss"
      }
    },
    {
      "cell_type": "code",
      "source": [
        "# Definerer trenings- og testandel\n",
        "test_andel = 0.2\n",
        "trenings_andel = 1.0\n",
        "\n",
        "\n",
        "# Deler datasettet i trening og testsett\n",
        "trening_markert, testsett, _, trening\\\n",
        "= trening_testsett_oppdeling_dag(rå_data,\n",
        "                                 data_design,\n",
        "                                 test_andel=test_andel,\n",
        "                                 test_ekskluder_kalkun_kylling=True)\n",
        "\n",
        "#Oversikt over fordelingen av enzymtyper i testsett\n",
        "print(\"Enzymtyper Fordeling: Test\")\n",
        "print(enzymfordeling(rå_data, testsett))"
      ],
      "metadata": {
        "colab": {
          "base_uri": "https://localhost:8080/"
        },
        "outputId": "721e04fb-2cff-400c-d14d-2c6e818d6cf0",
        "id": "rJGO0hKGvRss"
      },
      "execution_count": 24,
      "outputs": [
        {
          "output_type": "stream",
          "name": "stdout",
          "text": [
            "Enzymtyper Fordeling: Test\n",
            "            Frekvens  Andel\n",
            "EnzymeCode                 \n",
            "E                 15  22.73\n",
            "B                 13  19.70\n",
            "C                 13  19.70\n",
            "D                 12  18.18\n",
            "A2                 9  13.64\n",
            "A1                 4   6.06\n"
          ]
        }
      ]
    },
    {
      "cell_type": "code",
      "source": [
        "# Parametervalg for kryssvalidering\n",
        "n_splitt = 10\n",
        "\n",
        "# Antall runder til optimalisering\n",
        "n_runder = 100\n",
        "\n",
        "# Modelloptimalisering, trening og evaluering av RFR, KNR og SVR\n",
        "veiledet_modell_evaluering_2(dict_res_opt=mw_res.dict_res_2_design_opt,\n",
        "                             dict_res=mw_res.dict_res_2_design,\n",
        "                             rå_data=rå_data,\n",
        "                             treningssett_markert=trening_markert,\n",
        "                             testsett=testsett,\n",
        "                             n_splitt=n_splitt,\n",
        "                             n_runder=n_runder,\n",
        "                             test_andel=test_andel,\n",
        "                             trenings_andel=trenings_andel,\n",
        "                             random_seed=random_seed)"
      ],
      "metadata": {
        "id": "jNDqUcVLvRss"
      },
      "execution_count": null,
      "outputs": []
    },
    {
      "cell_type": "markdown",
      "source": [
        "Velger beste modell"
      ],
      "metadata": {
        "id": "Fc8PDLHavRss"
      }
    },
    {
      "cell_type": "code",
      "source": [],
      "metadata": {
        "id": "uydYtqtrvRss"
      },
      "execution_count": null,
      "outputs": []
    },
    {
      "cell_type": "markdown",
      "metadata": {
        "id": "c13kQDeyvRss"
      },
      "source": [
        "## Alternativ 2: Forskjellige treningssandeler"
      ]
    },
    {
      "cell_type": "code",
      "execution_count": null,
      "metadata": {
        "colab": {
          "base_uri": "https://localhost:8080/"
        },
        "outputId": "59354ece-b4f9-47f3-de76-1c624af664ca",
        "id": "_-mVnr7lvRst"
      },
      "outputs": [
        {
          "output_type": "stream",
          "name": "stdout",
          "text": [
            "Enzymtyper Fordeling: Treningssett markert andel: 0.2\n",
            "            Frekvens  Andel\n",
            "EnzymeCode                 \n",
            "A2                41  26.28\n",
            "C                 30  19.23\n",
            "D                 30  19.23\n",
            "B                 27  17.31\n",
            "E                 26  16.67\n",
            "A1                 2   1.28\n",
            "Enzymtyper Fordeling: Treningssett markert andel: 0.4\n",
            "            Frekvens  Andel\n",
            "EnzymeCode                 \n",
            "A2                62  33.16\n",
            "C                 31  16.58\n",
            "D                 31  16.58\n",
            "B                 29  15.51\n",
            "E                 28  14.97\n",
            "A1                 6   3.21\n",
            "Enzymtyper Fordeling: Treningssett markert andel: 0.6\n",
            "            Frekvens  Andel\n",
            "EnzymeCode                 \n",
            "A2                83  37.22\n",
            "E                 36  16.14\n",
            "C                 33  14.80\n",
            "D                 32  14.35\n",
            "B                 31  13.90\n",
            "A1                 8   3.59\n",
            "Enzymtyper Fordeling: Treningssett markert andel: 0.8\n",
            "            Frekvens  Andel\n",
            "EnzymeCode                 \n",
            "A2               109  37.33\n",
            "E                 48  16.44\n",
            "B                 42  14.38\n",
            "C                 42  14.38\n",
            "D                 39  13.36\n",
            "A1                12   4.11\n"
          ]
        }
      ],
      "source": [
        "# Antall runder til optimalisering\n",
        "n_runder = 50\n",
        "\n",
        "# Treningsandeler\n",
        "trenings_andeler = [0.2, 0.4, 0.6, 0.8]\n",
        "\n",
        "# Går gjennom andeler av satt treningssett\n",
        "for trenings_andel in trenings_andeler:\n",
        "\n",
        "  if trenings_andel < 1.0:\n",
        "\n",
        "      # Utelukker resterende andel fra trening av modell\n",
        "      ubenyttet_andel = (1.0-trenings_andel)\n",
        "\n",
        "      treningssett_markert, _, _, _\\\n",
        "      = trening_testsett_oppdeling_dag(rå_data,\n",
        "                                       trening,\n",
        "                                       test_andel=ubenyttet_andel,\n",
        "                                       test_ekskluder_kalkun_kylling=True)\n",
        "\n",
        "  else:\n",
        "    treningssett_markert = trening_markert\n",
        "\n",
        "  #Enzymfordeling\n",
        "  print(\"Enzymtyper Fordeling: Treningssett markert andel:\", trenings_andel)\n",
        "  enzym_treningssett_markert = enzymfordeling(rå_data,\n",
        "                                              treningssett_markert)\n",
        "  print(enzym_treningssett_markert)\n",
        "\n",
        "  # Finner antall av enzymtype med minst antall\n",
        "  enzymtype_min = enzym_treningssett_markert['Frekvens'].min()\n",
        "\n",
        "  # Splitter etter minst antall hvis lavere enn 10. Ellers 10\n",
        "  n_splitt = 10 if enzymtype_min >= 10 else enzymtype_min\n",
        "\n",
        "  veiledet_modell_evaluering_2(dict_res_opt=mw_res.dict_res_2_design_opt,\n",
        "                               dict_res=mw_res.dict_res_2_design,\n",
        "                               rå_data=rå_data,\n",
        "                               treningssett_markert=treningssett_markert,\n",
        "                               testsett=testsett,\n",
        "                               n_splitt=n_splitt,\n",
        "                               n_runder=n_runder,\n",
        "                               test_andel=test_andel,\n",
        "                               trenings_andel=trenings_andel,\n",
        "                               random_seed=random_seed)"
      ]
    },
    {
      "cell_type": "markdown",
      "source": [
        "Lagring av resultater"
      ],
      "metadata": {
        "id": "ZP9WbH9PvRst"
      }
    },
    {
      "cell_type": "code",
      "source": [
        "mw_resultater_2_design = pd.DataFrame(mw_res.dict_res_2_design)\n",
        "mw_resultater_2_design_opt = pd.DataFrame(mw_res.dict_res_2_design_opt)\n",
        "\n",
        "mw_resultater_2_design.to_csv('/content/drive/MyDrive/MasterV24/Bioco_data/mw_resultater_2_design.csv')\n",
        "mw_resultater_2_design_opt.to_csv('/content/drive/MyDrive/MasterV24/Bioco_data/mw_resultater_2_design_opt.csv')"
      ],
      "metadata": {
        "id": "ZFqw0gN1vRst"
      },
      "execution_count": null,
      "outputs": []
    },
    {
      "cell_type": "markdown",
      "metadata": {
        "id": "pnhtimdQn6n_"
      },
      "source": [
        "# NIR målinger ekskludert"
      ]
    },
    {
      "cell_type": "code",
      "execution_count": 28,
      "metadata": {
        "id": "HVRjvKsSn6oM"
      },
      "outputs": [],
      "source": [
        "# Ekskluderer NIR målinger fra datasettene\n",
        "NIR_kolonner = ['NIRfat', 'NIRwater', 'NIRash']\n",
        "data_uten_NIR = data.drop(columns=NIR_kolonner)\n",
        "data_design_uten_NIR = data_design.drop(columns=NIR_kolonner)"
      ]
    },
    {
      "cell_type": "markdown",
      "metadata": {
        "id": "XHgJ8-ljwBrx"
      },
      "source": [
        "## Hele datasett"
      ]
    },
    {
      "cell_type": "markdown",
      "source": [
        "## Alternativ 1: Hele treningssett"
      ],
      "metadata": {
        "id": "55Wz8HPFwBry"
      }
    },
    {
      "cell_type": "code",
      "source": [
        "# Setter fast testandel og treningsandel\n",
        "test_andel = 0.2\n",
        "trenings_andel = 1.0\n",
        "\n",
        "# Deler datasettet i trening og testsett\n",
        "trening_markert, enzymtyper_markert, testsett, _, _, _, trening\\\n",
        "= trening_testsett_oppdeling_enzym(rå_data,\n",
        "                                   data_uten_NIR,\n",
        "                                   test_andel=test_andel)\n",
        "\n",
        "# Antall runder til optimalisering\n",
        "n_runder = 2\n",
        "\n",
        "# Parametervalg for kryssvalidering\n",
        "n_splitt = 2\n",
        "n_gjentagelser = 2\n",
        "\n",
        "# Modelloptimalisering, trening og evaluering av RFR, KNR og SVR\n",
        "veiledet_modell_evaluering_1(dict_res_opt=mw_res.dict_res_1_hel_opt_NIR,\n",
        "                             dict_res=mw_res.dict_res_1_hel_NIR,\n",
        "                             treningssett_markert=trening_markert,\n",
        "                             enzymtyper_treningssett_markert=enzymtyper_markert,\n",
        "                             testsett=testsett,\n",
        "                             n_splitt=n_splitt,\n",
        "                             n_gjentagelser=n_gjentagelser,\n",
        "                             n_runder=n_runder,\n",
        "                             test_andel=test_andel,\n",
        "                             trenings_andel=trenings_andel,\n",
        "                             random_seed=random_seed)"
      ],
      "metadata": {
        "id": "pfP4WhHiwBry"
      },
      "execution_count": 29,
      "outputs": []
    },
    {
      "cell_type": "markdown",
      "source": [
        "Velger beste modell"
      ],
      "metadata": {
        "id": "M2yfz44lwBry"
      }
    },
    {
      "cell_type": "code",
      "source": [],
      "metadata": {
        "id": "It4p0-gbwBry"
      },
      "execution_count": null,
      "outputs": []
    },
    {
      "cell_type": "markdown",
      "source": [
        "Resultater"
      ],
      "metadata": {
        "id": "VVZxAYadyDmM"
      }
    },
    {
      "cell_type": "code",
      "source": [
        "mw_resultater_1_hel_NIR = pd.DataFrame(mw_res.dict_res_1_hel_NIR)\n",
        "mw_resultater_1_hel_opt_NIR = pd.DataFrame(mw_res.dict_res_1_hel_opt_NIR)\n",
        "\n",
        "mw_resultater_1_hel_NIR.to_csv('/content/drive/MyDrive/MasterV24/Bioco_data/mw_resultater_1_hel_NIR.csv')\n",
        "mw_resultater_1_hel_opt_NIR.to_csv('/content/drive/MyDrive/MasterV24/Bioco_data/mw_resultater_1_hel_opt_NIR.csv')"
      ],
      "metadata": {
        "id": "momcQFXuyDmM"
      },
      "execution_count": null,
      "outputs": []
    },
    {
      "cell_type": "markdown",
      "source": [
        "## Alternativ 2: Hele treningssett"
      ],
      "metadata": {
        "id": "cHUmwOWKwdJ7"
      }
    },
    {
      "cell_type": "code",
      "source": [
        "# Definerer trenings- og testandel\n",
        "test_andel = 0.2\n",
        "trenings_andel = 1.0\n",
        "\n",
        "\n",
        "# Deler datasettet i trening og testsett\n",
        "trening_markert, testsett, _, trening\\\n",
        "= trening_testsett_oppdeling_dag(rå_data,\n",
        "                                 data_uten_NIR,\n",
        "                                 test_andel=test_andel,\n",
        "                                 test_ekskluder_kalkun_kylling=True)\n",
        "\n",
        "# Parametervalg for kryssvalidering\n",
        "n_splitt = 10\n",
        "\n",
        "# Antall runder til optimalisering\n",
        "n_runder = 100\n",
        "\n",
        "# Modelloptimalisering, trening og evaluering av RFR, KNR og SVR\n",
        "veiledet_modell_evaluering_2(dict_res_opt=mw_res.dict_res_2_hel_opt_NIR,\n",
        "                             dict_res=mw_res.dict_res_2_hel_NIR,\n",
        "                             rå_data=rå_data,\n",
        "                             treningssett_markert=trening_markert,\n",
        "                             testsett=testsett,\n",
        "                             n_splitt=n_splitt,\n",
        "                             n_runder=n_runder,\n",
        "                             test_andel=test_andel,\n",
        "                             trenings_andel=trenings_andel,\n",
        "                             random_seed=random_seed)"
      ],
      "metadata": {
        "id": "bEu5-hx4wdJ7"
      },
      "execution_count": null,
      "outputs": []
    },
    {
      "cell_type": "markdown",
      "source": [
        "Velger beste modell"
      ],
      "metadata": {
        "id": "nogv0Rr3wdJ8"
      }
    },
    {
      "cell_type": "code",
      "source": [],
      "metadata": {
        "id": "ATbjY5I5wdJ8"
      },
      "execution_count": null,
      "outputs": []
    },
    {
      "cell_type": "markdown",
      "source": [
        "Resultater"
      ],
      "metadata": {
        "id": "n6f4KEmfyQMb"
      }
    },
    {
      "cell_type": "code",
      "source": [
        "mw_resultater_2_hel_NIR = pd.DataFrame(mw_res.dict_res_2_hel_NIR)\n",
        "mw_resultater_2_hel_opt_NIR = pd.DataFrame(mw_res.dict_res_2_hel_opt_NIR)\n",
        "\n",
        "mw_resultater_2_hel_NIR.to_csv('/content/drive/MyDrive/MasterV24/Bioco_data/mw_resultater_2_hel_NIR.csv')\n",
        "mw_resultater_2_hel_opt_NIR.to_csv('/content/drive/MyDrive/MasterV24/Bioco_data/mw_resultater_2_hel_opt_NIR.csv')"
      ],
      "metadata": {
        "id": "H-mA1zLlyQMb"
      },
      "execution_count": null,
      "outputs": []
    },
    {
      "cell_type": "markdown",
      "metadata": {
        "id": "QY-5_aKaacIy"
      },
      "source": [
        "## Designproduksjon"
      ]
    },
    {
      "cell_type": "markdown",
      "source": [
        "## Alternativ 1: Hele treningssett"
      ],
      "metadata": {
        "id": "3WVuaSLywwCl"
      }
    },
    {
      "cell_type": "code",
      "source": [
        "# Setter fast testandel og treningsandel\n",
        "test_andel = 0.2\n",
        "trenings_andel = 1.0\n",
        "\n",
        "\n",
        "# Deler datasettet i trening og testsett\n",
        "trening_markert, enzymtyper_markert, testsett, _, _, _, trening\\\n",
        "= trening_testsett_oppdeling_enzym(rå_data,\n",
        "                                   data_design_uten_NIR,\n",
        "                                   test_andel=test_andel)\n",
        "\n",
        "# Antall runder til optimalisering\n",
        "n_runder = 100\n",
        "\n",
        "# Parametervalg for kryssvalidering\n",
        "n_splitt = 10\n",
        "n_gjentagelser = 10\n",
        "\n",
        "# Modelloptimalisering, trening og evaluering av RFR, KNR og SVR\n",
        "veiledet_modell_evaluering_1(dict_res_opt=mw_res.dict_res_1_design_opt_NIR,\n",
        "                             dict_res=mw_res.dict_res_1_design_NIR,\n",
        "                             treningssett_markert=trening_markert,\n",
        "                             enzymtyper_treningssett_markert=enzymtyper_markert,\n",
        "                             testsett=testsett,\n",
        "                             n_splitt=n_splitt,\n",
        "                             n_gjentagelser=n_gjentagelser,\n",
        "                             n_runder=n_runder,\n",
        "                             test_andel=test_andel,\n",
        "                             trenings_andel=trenings_andel,\n",
        "                             random_seed=random_seed)"
      ],
      "metadata": {
        "id": "LmNyNnpKwwCm"
      },
      "execution_count": null,
      "outputs": []
    },
    {
      "cell_type": "markdown",
      "source": [
        "Velger beste modell"
      ],
      "metadata": {
        "id": "Uxj1aIbXwwCn"
      }
    },
    {
      "cell_type": "code",
      "source": [],
      "metadata": {
        "id": "yZro3YkFwwCn"
      },
      "execution_count": null,
      "outputs": []
    },
    {
      "cell_type": "markdown",
      "source": [
        "Resultater"
      ],
      "metadata": {
        "id": "UlAocoO4x7WX"
      }
    },
    {
      "cell_type": "code",
      "source": [
        "mw_resultater_1_design_NIR = pd.DataFrame(mw_res.dict_res_1_design_NIR)\n",
        "mw_resultater_1_design_opt_NIR = pd.DataFrame(mw_res.dict_res_1_design_opt_NIR)\n",
        "\n",
        "mw_resultater_1_design_NIR.to_csv('/content/drive/MyDrive/MasterV24/Bioco_data/mw_resultater_1_design_NIR.csv')\n",
        "mw_resultater_1_design_opt_NIR.to_csv('/content/drive/MyDrive/MasterV24/Bioco_data/mw_resultater_1_design_opt_NIR.csv')"
      ],
      "metadata": {
        "id": "b8VBGEkLx7WX"
      },
      "execution_count": null,
      "outputs": []
    },
    {
      "cell_type": "markdown",
      "source": [
        "## Alternativ 2: Hele treningssett"
      ],
      "metadata": {
        "id": "GIxoOIgRxAZu"
      }
    },
    {
      "cell_type": "code",
      "source": [
        "# Definerer trenings- og testandel\n",
        "test_andel = 0.2\n",
        "trenings_andel = 1.0\n",
        "\n",
        "\n",
        "# Deler datasettet i trening og testsett\n",
        "trening_markert, testsett, _, trening\\\n",
        "= trening_testsett_oppdeling_dag(rå_data,\n",
        "                                 data_design,\n",
        "                                 test_andel=test_andel,\n",
        "                                 test_ekskluder_kalkun_kylling=True)\n",
        "\n",
        "# Parametervalg for kryssvalidering\n",
        "n_splitt = 10\n",
        "\n",
        "# Antall runder til optimalisering\n",
        "n_runder = 100\n",
        "\n",
        "# Modelloptimalisering, trening og evaluering av RFR, KNR og SVR\n",
        "veiledet_modell_evaluering_2(dict_res_opt=mw_res.dict_res_2_design_opt_NIR,\n",
        "                             dict_res=mw_res.dict_res_2_design_NIR,\n",
        "                             rå_data=rå_data,\n",
        "                             treningssett_markert=trening_markert,\n",
        "                             testsett=testsett,\n",
        "                             n_splitt=n_splitt,\n",
        "                             n_runder=n_runder,\n",
        "                             test_andel=test_andel,\n",
        "                             trenings_andel=trenings_andel,\n",
        "                             random_seed=random_seed)"
      ],
      "metadata": {
        "id": "qjpSUAxXxAZu"
      },
      "execution_count": 27,
      "outputs": []
    },
    {
      "cell_type": "markdown",
      "source": [
        "Velger beste modell"
      ],
      "metadata": {
        "id": "CuxNTo4qxAZu"
      }
    },
    {
      "cell_type": "code",
      "source": [],
      "metadata": {
        "id": "Ih0NQF-HxAZv"
      },
      "execution_count": null,
      "outputs": []
    },
    {
      "cell_type": "markdown",
      "source": [
        "Resultater"
      ],
      "metadata": {
        "id": "jvEdpgjNxu2L"
      }
    },
    {
      "cell_type": "code",
      "source": [
        "mw_resultater_2_design_NIR = pd.DataFrame(mw_res.dict_res_2_design_NIR)\n",
        "mw_resultater_2_design_opt_NIR = pd.DataFrame(mw_res.dict_res_2_design_opt_NIR)\n",
        "\n",
        "mw_resultater_2_design_NIR.to_csv('/content/drive/MyDrive/MasterV24/Bioco_data/mw_resultater_2_design_NIR.csv')\n",
        "mw_resultater_2_design_opt_NIR.to_csv('/content/drive/MyDrive/MasterV24/Bioco_data/mw_resultater_2_design_opt_NIR.csv')"
      ],
      "metadata": {
        "id": "RyDfe6DZxryW"
      },
      "execution_count": null,
      "outputs": []
    }
  ],
  "metadata": {
    "colab": {
      "collapsed_sections": [
        "uPtuGVtCJOFj",
        "qhRMrFFHlZuX",
        "21cdLIoaSTR6",
        "hPfDrou1pR0w",
        "i_1rn21ITRJ4",
        "RAPTeouaQcXa",
        "lNTfChXaIZAf",
        "Vug3qjOcXxOJ",
        "8IO2r9GrkH4N",
        "pBFVc2pIvRsq",
        "8Hy0Pg1GvRss",
        "TmDsuWZqvRss"
      ],
      "provenance": [],
      "authorship_tag": "ABX9TyM1P9RZ5lRxwfRwGRlWncoT",
      "include_colab_link": true
    },
    "kernelspec": {
      "display_name": "Python 3",
      "name": "python3"
    },
    "language_info": {
      "name": "python"
    }
  },
  "nbformat": 4,
  "nbformat_minor": 0
}