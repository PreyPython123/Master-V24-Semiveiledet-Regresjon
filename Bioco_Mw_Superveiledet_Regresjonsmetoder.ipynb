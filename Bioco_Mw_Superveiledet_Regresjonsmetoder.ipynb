{
  "nbformat": 4,
  "nbformat_minor": 0,
  "metadata": {
    "colab": {
      "provenance": [],
      "collapsed_sections": [
        "2v80N6Milqq3",
        "dLSfOULUYDrI",
        "w6UQIf_cY3T4"
      ],
      "authorship_tag": "ABX9TyPu2AdtDsa0knLkCxaEbub8",
      "include_colab_link": true
    },
    "kernelspec": {
      "name": "python3",
      "display_name": "Python 3"
    },
    "language_info": {
      "name": "python"
    },
    "accelerator": "TPU"
  },
  "cells": [
    {
      "cell_type": "markdown",
      "metadata": {
        "id": "view-in-github",
        "colab_type": "text"
      },
      "source": [
        "<a href=\"https://colab.research.google.com/github/PreyPython123/Master-V24-Semiveiledet-Regresjon/blob/Mw-Pradeep/Bioco_Mw_Superveiledet_Regresjonsmetoder.ipynb\" target=\"_parent\"><img src=\"https://colab.research.google.com/assets/colab-badge.svg\" alt=\"Open In Colab\"/></a>"
      ]
    },
    {
      "cell_type": "markdown",
      "source": [
        "Lasting av nødvendige bibliotek og pakker"
      ],
      "metadata": {
        "id": "ZNeQrag9Rlc_"
      }
    },
    {
      "cell_type": "code",
      "execution_count": 1,
      "metadata": {
        "id": "k5u1dZmp6cJ9",
        "colab": {
          "base_uri": "https://localhost:8080/"
        },
        "outputId": "415fe2bd-a4e7-405d-cf4b-767849b663c9"
      },
      "outputs": [
        {
          "output_type": "stream",
          "name": "stdout",
          "text": [
            "Collecting optuna\n",
            "  Downloading optuna-3.5.0-py3-none-any.whl (413 kB)\n",
            "\u001b[2K     \u001b[90m━━━━━━━━━━━━━━━━━━━━━━━━━━━━━━━━━━━━━━━━\u001b[0m \u001b[32m413.4/413.4 kB\u001b[0m \u001b[31m3.1 MB/s\u001b[0m eta \u001b[36m0:00:00\u001b[0m\n",
            "\u001b[?25hCollecting alembic>=1.5.0 (from optuna)\n",
            "  Downloading alembic-1.13.1-py3-none-any.whl (233 kB)\n",
            "\u001b[2K     \u001b[90m━━━━━━━━━━━━━━━━━━━━━━━━━━━━━━━━━━━━━━━━\u001b[0m \u001b[32m233.4/233.4 kB\u001b[0m \u001b[31m20.9 MB/s\u001b[0m eta \u001b[36m0:00:00\u001b[0m\n",
            "\u001b[?25hCollecting colorlog (from optuna)\n",
            "  Downloading colorlog-6.8.2-py3-none-any.whl (11 kB)\n",
            "Requirement already satisfied: numpy in /usr/local/lib/python3.10/dist-packages (from optuna) (1.23.5)\n",
            "Requirement already satisfied: packaging>=20.0 in /usr/local/lib/python3.10/dist-packages (from optuna) (23.2)\n",
            "Requirement already satisfied: sqlalchemy>=1.3.0 in /usr/local/lib/python3.10/dist-packages (from optuna) (2.0.25)\n",
            "Requirement already satisfied: tqdm in /usr/local/lib/python3.10/dist-packages (from optuna) (4.66.1)\n",
            "Requirement already satisfied: PyYAML in /usr/local/lib/python3.10/dist-packages (from optuna) (6.0.1)\n",
            "Collecting Mako (from alembic>=1.5.0->optuna)\n",
            "  Downloading Mako-1.3.2-py3-none-any.whl (78 kB)\n",
            "\u001b[2K     \u001b[90m━━━━━━━━━━━━━━━━━━━━━━━━━━━━━━━━━━━━━━━━\u001b[0m \u001b[32m78.7/78.7 kB\u001b[0m \u001b[31m8.9 MB/s\u001b[0m eta \u001b[36m0:00:00\u001b[0m\n",
            "\u001b[?25hRequirement already satisfied: typing-extensions>=4 in /usr/local/lib/python3.10/dist-packages (from alembic>=1.5.0->optuna) (4.9.0)\n",
            "Requirement already satisfied: greenlet!=0.4.17 in /usr/local/lib/python3.10/dist-packages (from sqlalchemy>=1.3.0->optuna) (3.0.3)\n",
            "Requirement already satisfied: MarkupSafe>=0.9.2 in /usr/local/lib/python3.10/dist-packages (from Mako->alembic>=1.5.0->optuna) (2.1.5)\n",
            "Installing collected packages: Mako, colorlog, alembic, optuna\n",
            "Successfully installed Mako-1.3.2 alembic-1.13.1 colorlog-6.8.2 optuna-3.5.0\n"
          ]
        }
      ],
      "source": [
        "!pip install optuna"
      ]
    },
    {
      "cell_type": "markdown",
      "source": [
        "Importering av nødvendig bibliotek og pakker"
      ],
      "metadata": {
        "id": "jT-YzIdVRply"
      }
    },
    {
      "cell_type": "code",
      "source": [
        "import pandas as pd\n",
        "import numpy as np\n",
        "import copy\n",
        "\n",
        "from sklearn.model_selection import train_test_split\n",
        "from sklearn.pipeline import Pipeline\n",
        "from sklearn.preprocessing import StandardScaler\n",
        "\n",
        "from sklearn.ensemble import RandomForestRegressor\n",
        "\n",
        "from sklearn.metrics import mean_squared_error, r2_score\n",
        "\n",
        "import optuna\n",
        "from optuna.visualization import plot_optimization_history"
      ],
      "metadata": {
        "id": "DmFSuK8ARtBg"
      },
      "execution_count": 2,
      "outputs": []
    },
    {
      "cell_type": "markdown",
      "source": [
        "Importering av relevant data"
      ],
      "metadata": {
        "id": "21cdLIoaSTR6"
      }
    },
    {
      "cell_type": "code",
      "source": [
        "from google.colab import drive\n",
        "drive.mount('/content/drive')\n",
        "\n",
        "# Velger første kolonne med dato og tid som index\n",
        "mw_data = pd.read_csv('/content/drive/MyDrive/MasterV24/Bioco_data/mw_data.csv',\n",
        "                      header=0,\n",
        "                      sep=',',\n",
        "                      index_col=0)\n",
        "\n",
        "# Formatterer index til riktig format og datatype\n",
        "mw_data.index = pd.to_datetime(mw_data.index,\n",
        "                               format='%Y-%m-%d %H:%M:%S')"
      ],
      "metadata": {
        "colab": {
          "base_uri": "https://localhost:8080/"
        },
        "id": "XeNQyDPZSTwY",
        "outputId": "b8db3dff-708a-4823-9df7-87b70d3603f7"
      },
      "execution_count": 3,
      "outputs": [
        {
          "output_type": "stream",
          "name": "stdout",
          "text": [
            "Mounted at /content/drive\n"
          ]
        }
      ]
    },
    {
      "cell_type": "markdown",
      "source": [
        "Tilfeldighetsfrø"
      ],
      "metadata": {
        "id": "i9JVDeFmJjYx"
      }
    },
    {
      "cell_type": "code",
      "source": [
        "random_seed = 123"
      ],
      "metadata": {
        "id": "82M3qR_4JlL9"
      },
      "execution_count": 4,
      "outputs": []
    },
    {
      "cell_type": "markdown",
      "source": [
        "Beskrivelse av datasett"
      ],
      "metadata": {
        "id": "hPfDrou1pR0w"
      }
    },
    {
      "cell_type": "code",
      "source": [
        "mw_data.info()"
      ],
      "metadata": {
        "colab": {
          "base_uri": "https://localhost:8080/"
        },
        "id": "HsvZWJ7apQpL",
        "outputId": "c4d732fd-3fc2-450c-ed1f-2be81559ac0f"
      },
      "execution_count": 5,
      "outputs": [
        {
          "output_type": "stream",
          "name": "stdout",
          "text": [
            "<class 'pandas.core.frame.DataFrame'>\n",
            "DatetimeIndex: 29136 entries, 2022-10-31 17:37:00 to 2023-06-14 01:06:00\n",
            "Data columns (total 17 columns):\n",
            " #   Column         Non-Null Count  Dtype  \n",
            "---  ------         --------------  -----  \n",
            " 0   EnzymeType_A1  29136 non-null  int64  \n",
            " 1   EnzymeType_A2  29136 non-null  int64  \n",
            " 2   EnzymeType_B   29136 non-null  int64  \n",
            " 3   EnzymeType_C   29136 non-null  int64  \n",
            " 4   EnzymeType_D   29136 non-null  int64  \n",
            " 5   EnzymeType_E   29136 non-null  int64  \n",
            " 6   RawMatFlow     29136 non-null  float64\n",
            " 7   NIRfat         29136 non-null  float64\n",
            " 8   NIRash         29136 non-null  float64\n",
            " 9   NIRwater       29136 non-null  float64\n",
            " 10  TT07           29136 non-null  float64\n",
            " 11  TT08           29136 non-null  float64\n",
            " 12  PT03           29136 non-null  float64\n",
            " 13  TT20           29136 non-null  float64\n",
            " 14  TT09           29136 non-null  float64\n",
            " 15  TT12           29136 non-null  float64\n",
            " 16  Mw             460 non-null    float64\n",
            "dtypes: float64(11), int64(6)\n",
            "memory usage: 4.0 MB\n"
          ]
        }
      ]
    },
    {
      "cell_type": "markdown",
      "source": [
        "# Oppdeling av datasett for trening og testing"
      ],
      "metadata": {
        "id": "yNN1h11QTJ2y"
      }
    },
    {
      "cell_type": "markdown",
      "source": [
        "### Alternativ 1: Fordelt på Enzymtyper"
      ],
      "metadata": {
        "id": "-Cr-DTtVGSFg"
      }
    },
    {
      "cell_type": "code",
      "source": [
        " def trening_testsett_oppdeling_enzym(df, test_size=0.2, random_seed=123):\n",
        "\n",
        "  # Responsvariabel\n",
        "  responsvariabel = df.columns[-1]\n",
        "\n",
        "  # Deler opp markert og umarkert del av datasettet\n",
        "  data_markert = df.dropna(subset=[responsvariabel])\n",
        "  data_umarkert = df[df[responsvariabel].isna()]\n",
        "\n",
        "  # Legger til kategorisk variabel for enzymtype til fordeling av datsettet\n",
        "  data_markert['EnzymType'] = data_markert.filter(like='EnzymeType_').idxmax(axis=1).str.split('_').str[1].astype('category')\n",
        "\n",
        "  # Splitter datasett i dataasett og kategorisk enzymtype\n",
        "  enzymtyper = data_markert['EnzymType']\n",
        "  data_markert.drop(columns=['EnzymType'], inplace=True)\n",
        "\n",
        "  # Splitter trening og testdata etter enzymtype\n",
        "  trening_markert, test_markert, _, _ = train_test_split(data_markert,\n",
        "                                                          enzymtyper,\n",
        "                                                          test_size=test_size,\n",
        "                                                          stratify=enzymtyper,\n",
        "                                                          random_state=random_seed)\n",
        "\n",
        "  # Definerer trening og testsett for data\n",
        "  testdata = test_markert\n",
        "\n",
        "  felles_indeks = df.index.intersection(testdata.index)\n",
        "  treningsdata = df.drop(felles_indeks)\n",
        "\n",
        "  return treningsdata, testdata"
      ],
      "metadata": {
        "id": "STtYA9MoIcop"
      },
      "execution_count": null,
      "outputs": []
    },
    {
      "cell_type": "markdown",
      "source": [
        "## Alternativ 2: Fordelt på dag og kontinuerlige tidsserier"
      ],
      "metadata": {
        "id": "AWsjGkWHa0Th"
      }
    },
    {
      "cell_type": "code",
      "source": [
        "def trening_testsett_oppdeling_dag(df, andel=0.2):\n",
        "\n",
        "    # Responsvariabel\n",
        "    responsvariabel = df.columns[-1]\n",
        "\n",
        "    # Lager nytt trening og testsett\n",
        "    data_markert = df.dropna(subset=[responsvariabel])\n",
        "\n",
        "    trening_sett = copy.deepcopy(data_markert)\n",
        "    test_sett = pd.DataFrame(columns=list(data_markert.columns))\n",
        "\n",
        "    # Går gjennom hver dag, hver uke og samler første andel av rader til testsett\n",
        "    for uke in data_markert.index.isocalendar().week.unique():\n",
        "        for dag in data_markert.index.isocalendar().day.unique():\n",
        "            data = data_markert[(data_markert.index.isocalendar().week == uke) &\n",
        "                      (data_markert.index.isocalendar().day == dag)]\n",
        "            test_rader = data.shape[0] * andel\n",
        "            test_data_dag = data.head(round(test_rader))\n",
        "\n",
        "            test_sett = pd.concat([test_sett, test_data_dag])\n",
        "            trening_sett.drop(test_data_dag.index, inplace=True)\n",
        "\n",
        "    return trening_sett, test_sett"
      ],
      "metadata": {
        "id": "XMIJHvt4a86x"
      },
      "execution_count": 10,
      "outputs": []
    },
    {
      "cell_type": "markdown",
      "source": [
        "# NIR målinger inkludert"
      ],
      "metadata": {
        "id": "fdHrJ1gKYZwi"
      }
    },
    {
      "cell_type": "markdown",
      "source": [
        "## Oppdeling av trening og testsett"
      ],
      "metadata": {
        "id": "cueYcgRtlmR4"
      }
    },
    {
      "cell_type": "markdown",
      "source": [
        "### Alternativ 1: Fordelt på Enzymtype"
      ],
      "metadata": {
        "id": "2v80N6Milqq3"
      }
    },
    {
      "cell_type": "code",
      "source": [
        "mw_trening, mw_test = trening_testsett_oppdeling_enzym(mw_data)"
      ],
      "metadata": {
        "id": "jovL3AV6TM6H"
      },
      "execution_count": null,
      "outputs": []
    },
    {
      "cell_type": "code",
      "source": [
        "X_trening = mw_trening.iloc[:, :-1]\n",
        "X_test = mw_test.iloc[:, :-1]\n",
        "y_trening = mw_trening.iloc[:, -1]\n",
        "y_test = mw_test.iloc[:, -1]"
      ],
      "metadata": {
        "id": "88AGfs0wIsKa"
      },
      "execution_count": null,
      "outputs": []
    },
    {
      "cell_type": "markdown",
      "source": [
        "**RandomForestRegressor**"
      ],
      "metadata": {
        "id": "cIgUu1qErjKz"
      }
    },
    {
      "cell_type": "markdown",
      "source": [
        "Hyperparamter optimalisering med Optuna"
      ],
      "metadata": {
        "id": "2Ds0DtmgRRlv"
      }
    },
    {
      "cell_type": "code",
      "source": [
        "def objective(trial):\n",
        "  parametere = {\n",
        "      'n_estimators': trial.suggest_int('n_estimators', 100, 200),\n",
        "      'max_depth': trial.suggest_int('max_depth', 1, 10)\n",
        "  }\n",
        "  rf_pipeline = Pipeline([\n",
        "      ('skalerer', StandardScaler()),\n",
        "      ('modell', RandomForestRegressor(**parametere, random_state=random_seed))\n",
        "  ])\n",
        "\n",
        "  rf_pipeline.fit(X_trening, y_trening)\n",
        "  y_test_prediksjon = rf_pipeline.predict(X_test)\n",
        "\n",
        "  mse_test = mean_squared_error(y_test, y_test_prediksjon)\n",
        "\n",
        "  return mse_test\n",
        "\n",
        "if __name__ == \"__main__\":\n",
        "  study = optuna.create_study(direction='minimize')\n",
        "  study.optimize(objective, n_trials=100)\n",
        "\n",
        "plot_optimization_history(study)"
      ],
      "metadata": {
        "colab": {
          "base_uri": "https://localhost:8080/"
        },
        "id": "Gr_wm-oNRVZ3",
        "outputId": "ef440472-6d50-4c4f-f552-1009eb1ece16"
      },
      "execution_count": null,
      "outputs": [
        {
          "output_type": "stream",
          "name": "stderr",
          "text": [
            "[I 2024-02-09 12:02:22,074] A new study created in memory with name: no-name-94b6287d-2c48-4870-88fb-68732daebe0d\n",
            "[I 2024-02-09 12:02:22,607] Trial 0 finished with value: 343061.65603100054 and parameters: {'n_estimators': 130, 'max_depth': 6}. Best is trial 0 with value: 343061.65603100054.\n",
            "[I 2024-02-09 12:02:23,087] Trial 1 finished with value: 1000148.6252579209 and parameters: {'n_estimators': 131, 'max_depth': 3}. Best is trial 0 with value: 343061.65603100054.\n",
            "[I 2024-02-09 12:02:23,468] Trial 2 finished with value: 451476.08731826267 and parameters: {'n_estimators': 118, 'max_depth': 5}. Best is trial 0 with value: 343061.65603100054.\n",
            "[I 2024-02-09 12:02:23,915] Trial 3 finished with value: 619703.0687058389 and parameters: {'n_estimators': 192, 'max_depth': 4}. Best is trial 0 with value: 343061.65603100054.\n",
            "[I 2024-02-09 12:02:24,270] Trial 4 finished with value: 1543052.8090622982 and parameters: {'n_estimators': 195, 'max_depth': 2}. Best is trial 0 with value: 343061.65603100054.\n",
            "[I 2024-02-09 12:02:24,632] Trial 5 finished with value: 623050.5151483931 and parameters: {'n_estimators': 159, 'max_depth': 4}. Best is trial 0 with value: 343061.65603100054.\n",
            "[I 2024-02-09 12:02:25,175] Trial 6 finished with value: 311350.94935920974 and parameters: {'n_estimators': 173, 'max_depth': 9}. Best is trial 6 with value: 311350.94935920974.\n",
            "[I 2024-02-09 12:02:25,528] Trial 7 finished with value: 623122.5712008969 and parameters: {'n_estimators': 158, 'max_depth': 4}. Best is trial 6 with value: 311350.94935920974.\n",
            "[I 2024-02-09 12:02:25,823] Trial 8 finished with value: 624829.4376996018 and parameters: {'n_estimators': 130, 'max_depth': 4}. Best is trial 6 with value: 311350.94935920974.\n",
            "[I 2024-02-09 12:02:26,368] Trial 9 finished with value: 317211.84421941766 and parameters: {'n_estimators': 189, 'max_depth': 8}. Best is trial 6 with value: 311350.94935920974.\n",
            "[I 2024-02-09 12:02:26,953] Trial 10 finished with value: 312630.54885706765 and parameters: {'n_estimators': 173, 'max_depth': 10}. Best is trial 6 with value: 311350.94935920974.\n",
            "[I 2024-02-09 12:02:27,520] Trial 11 finished with value: 313804.6565831592 and parameters: {'n_estimators': 175, 'max_depth': 10}. Best is trial 6 with value: 311350.94935920974.\n",
            "[I 2024-02-09 12:02:28,088] Trial 12 finished with value: 311485.38403569366 and parameters: {'n_estimators': 172, 'max_depth': 10}. Best is trial 6 with value: 311350.94935920974.\n",
            "[I 2024-02-09 12:02:28,621] Trial 13 finished with value: 316764.5358051588 and parameters: {'n_estimators': 177, 'max_depth': 8}. Best is trial 6 with value: 311350.94935920974.\n",
            "[I 2024-02-09 12:02:29,075] Trial 14 finished with value: 314633.9562503842 and parameters: {'n_estimators': 149, 'max_depth': 8}. Best is trial 6 with value: 311350.94935920974.\n",
            "[I 2024-02-09 12:02:29,543] Trial 15 finished with value: 310260.6164584151 and parameters: {'n_estimators': 150, 'max_depth': 9}. Best is trial 15 with value: 310260.6164584151.\n",
            "[I 2024-02-09 12:02:29,979] Trial 16 finished with value: 322907.13521975616 and parameters: {'n_estimators': 149, 'max_depth': 7}. Best is trial 15 with value: 310260.6164584151.\n",
            "[I 2024-02-09 12:02:30,421] Trial 17 finished with value: 309205.6533842458 and parameters: {'n_estimators': 143, 'max_depth': 9}. Best is trial 17 with value: 309205.6533842458.\n",
            "[I 2024-02-09 12:02:30,704] Trial 18 finished with value: 344963.59919400164 and parameters: {'n_estimators': 102, 'max_depth': 6}. Best is trial 17 with value: 309205.6533842458.\n",
            "[I 2024-02-09 12:02:30,946] Trial 19 finished with value: 3043979.7321205074 and parameters: {'n_estimators': 140, 'max_depth': 1}. Best is trial 17 with value: 309205.6533842458.\n",
            "[I 2024-02-09 12:02:31,304] Trial 20 finished with value: 308993.597384851 and parameters: {'n_estimators': 112, 'max_depth': 9}. Best is trial 20 with value: 308993.597384851.\n",
            "[I 2024-02-09 12:02:31,629] Trial 21 finished with value: 307282.2854568686 and parameters: {'n_estimators': 102, 'max_depth': 9}. Best is trial 21 with value: 307282.2854568686.\n",
            "[I 2024-02-09 12:02:31,951] Trial 22 finished with value: 305432.6628305344 and parameters: {'n_estimators': 101, 'max_depth': 9}. Best is trial 22 with value: 305432.6628305344.\n",
            "[I 2024-02-09 12:02:32,251] Trial 23 finished with value: 322186.136546675 and parameters: {'n_estimators': 100, 'max_depth': 7}. Best is trial 22 with value: 305432.6628305344.\n",
            "[I 2024-02-09 12:02:32,571] Trial 24 finished with value: 327629.3659555391 and parameters: {'n_estimators': 111, 'max_depth': 7}. Best is trial 22 with value: 305432.6628305344.\n",
            "[I 2024-02-09 12:02:32,937] Trial 25 finished with value: 309225.53402535187 and parameters: {'n_estimators': 113, 'max_depth': 9}. Best is trial 22 with value: 305432.6628305344.\n",
            "[I 2024-02-09 12:02:33,325] Trial 26 finished with value: 312284.47787784407 and parameters: {'n_estimators': 120, 'max_depth': 8}. Best is trial 22 with value: 305432.6628305344.\n",
            "[I 2024-02-09 12:02:33,879] Trial 27 finished with value: 308358.3333979859 and parameters: {'n_estimators': 109, 'max_depth': 10}. Best is trial 22 with value: 305432.6628305344.\n",
            "[I 2024-02-09 12:02:34,432] Trial 28 finished with value: 306663.50025286904 and parameters: {'n_estimators': 106, 'max_depth': 10}. Best is trial 22 with value: 305432.6628305344.\n",
            "[I 2024-02-09 12:02:35,058] Trial 29 finished with value: 309527.6985484689 and parameters: {'n_estimators': 123, 'max_depth': 10}. Best is trial 22 with value: 305432.6628305344.\n",
            "[I 2024-02-09 12:02:35,503] Trial 30 finished with value: 342767.2475092471 and parameters: {'n_estimators': 100, 'max_depth': 6}. Best is trial 22 with value: 305432.6628305344.\n",
            "[I 2024-02-09 12:02:36,211] Trial 31 finished with value: 307257.6665023054 and parameters: {'n_estimators': 107, 'max_depth': 10}. Best is trial 22 with value: 305432.6628305344.\n",
            "[I 2024-02-09 12:02:36,740] Trial 32 finished with value: 305741.1453071438 and parameters: {'n_estimators': 107, 'max_depth': 9}. Best is trial 22 with value: 305432.6628305344.\n",
            "[I 2024-02-09 12:02:37,143] Trial 33 finished with value: 309527.6985484689 and parameters: {'n_estimators': 123, 'max_depth': 10}. Best is trial 22 with value: 305432.6628305344.\n",
            "[I 2024-02-09 12:02:37,480] Trial 34 finished with value: 312414.30689919443 and parameters: {'n_estimators': 107, 'max_depth': 8}. Best is trial 22 with value: 305432.6628305344.\n",
            "[I 2024-02-09 12:02:37,861] Trial 35 finished with value: 306337.0198587702 and parameters: {'n_estimators': 117, 'max_depth': 9}. Best is trial 22 with value: 305432.6628305344.\n",
            "[I 2024-02-09 12:02:38,254] Trial 36 finished with value: 323046.423858636 and parameters: {'n_estimators': 131, 'max_depth': 7}. Best is trial 22 with value: 305432.6628305344.\n",
            "[I 2024-02-09 12:02:38,625] Trial 37 finished with value: 306337.0198587702 and parameters: {'n_estimators': 117, 'max_depth': 9}. Best is trial 22 with value: 305432.6628305344.\n",
            "[I 2024-02-09 12:02:38,930] Trial 38 finished with value: 452952.8449972355 and parameters: {'n_estimators': 117, 'max_depth': 5}. Best is trial 22 with value: 305432.6628305344.\n",
            "[I 2024-02-09 12:02:39,351] Trial 39 finished with value: 312577.7478920457 and parameters: {'n_estimators': 138, 'max_depth': 8}. Best is trial 22 with value: 305432.6628305344.\n",
            "[I 2024-02-09 12:02:39,628] Trial 40 finished with value: 1001526.9471077343 and parameters: {'n_estimators': 128, 'max_depth': 3}. Best is trial 22 with value: 305432.6628305344.\n",
            "[I 2024-02-09 12:02:39,995] Trial 41 finished with value: 307486.9497016523 and parameters: {'n_estimators': 116, 'max_depth': 9}. Best is trial 22 with value: 305432.6628305344.\n",
            "[I 2024-02-09 12:02:40,346] Trial 42 finished with value: 305353.5093824985 and parameters: {'n_estimators': 106, 'max_depth': 9}. Best is trial 42 with value: 305353.5093824985.\n",
            "[I 2024-02-09 12:02:40,720] Trial 43 finished with value: 308505.59449460683 and parameters: {'n_estimators': 115, 'max_depth': 9}. Best is trial 42 with value: 305353.5093824985.\n",
            "[I 2024-02-09 12:02:41,105] Trial 44 finished with value: 312281.56266261527 and parameters: {'n_estimators': 125, 'max_depth': 8}. Best is trial 42 with value: 305353.5093824985.\n",
            "[I 2024-02-09 12:02:41,448] Trial 45 finished with value: 305353.5093824985 and parameters: {'n_estimators': 106, 'max_depth': 9}. Best is trial 42 with value: 305353.5093824985.\n",
            "[I 2024-02-09 12:02:41,755] Trial 46 finished with value: 322187.3537648368 and parameters: {'n_estimators': 105, 'max_depth': 7}. Best is trial 42 with value: 305353.5093824985.\n",
            "[I 2024-02-09 12:02:42,151] Trial 47 finished with value: 311286.72260892094 and parameters: {'n_estimators': 134, 'max_depth': 8}. Best is trial 42 with value: 305353.5093824985.\n",
            "[I 2024-02-09 12:02:42,504] Trial 48 finished with value: 309070.1962831892 and parameters: {'n_estimators': 110, 'max_depth': 9}. Best is trial 42 with value: 305353.5093824985.\n",
            "[I 2024-02-09 12:02:42,827] Trial 49 finished with value: 312356.9302333699 and parameters: {'n_estimators': 104, 'max_depth': 8}. Best is trial 42 with value: 305353.5093824985.\n",
            "[I 2024-02-09 12:02:43,195] Trial 50 finished with value: 310389.56964899675 and parameters: {'n_estimators': 111, 'max_depth': 9}. Best is trial 42 with value: 305353.5093824985.\n",
            "[I 2024-02-09 12:02:43,576] Trial 51 finished with value: 305388.6210703502 and parameters: {'n_estimators': 118, 'max_depth': 9}. Best is trial 42 with value: 305353.5093824985.\n",
            "[I 2024-02-09 12:02:43,972] Trial 52 finished with value: 308894.11718650756 and parameters: {'n_estimators': 121, 'max_depth': 10}. Best is trial 42 with value: 305353.5093824985.\n",
            "[I 2024-02-09 12:02:44,296] Trial 53 finished with value: 311764.5839020499 and parameters: {'n_estimators': 106, 'max_depth': 8}. Best is trial 42 with value: 305353.5093824985.\n",
            "[I 2024-02-09 12:02:44,813] Trial 54 finished with value: 309082.90196336777 and parameters: {'n_estimators': 162, 'max_depth': 9}. Best is trial 42 with value: 305353.5093824985.\n",
            "[I 2024-02-09 12:02:45,229] Trial 55 finished with value: 309377.0534169587 and parameters: {'n_estimators': 127, 'max_depth': 10}. Best is trial 42 with value: 305353.5093824985.\n",
            "[I 2024-02-09 12:02:45,737] Trial 56 finished with value: 304950.2634513802 and parameters: {'n_estimators': 100, 'max_depth': 9}. Best is trial 56 with value: 304950.2634513802.\n",
            "[I 2024-02-09 12:02:46,078] Trial 57 finished with value: 304950.2634513802 and parameters: {'n_estimators': 100, 'max_depth': 9}. Best is trial 56 with value: 304950.2634513802.\n",
            "[I 2024-02-09 12:02:46,367] Trial 58 finished with value: 322186.136546675 and parameters: {'n_estimators': 100, 'max_depth': 7}. Best is trial 56 with value: 304950.2634513802.\n",
            "[I 2024-02-09 12:02:46,695] Trial 59 finished with value: 313508.9110335074 and parameters: {'n_estimators': 102, 'max_depth': 8}. Best is trial 56 with value: 304950.2634513802.\n",
            "[I 2024-02-09 12:02:47,044] Trial 60 finished with value: 998923.4625896816 and parameters: {'n_estimators': 113, 'max_depth': 3}. Best is trial 56 with value: 304950.2634513802.\n",
            "[I 2024-02-09 12:02:47,565] Trial 61 finished with value: 305956.6552031433 and parameters: {'n_estimators': 104, 'max_depth': 9}. Best is trial 56 with value: 304950.2634513802.\n",
            "[I 2024-02-09 12:02:48,124] Trial 62 finished with value: 308358.3333979859 and parameters: {'n_estimators': 109, 'max_depth': 10}. Best is trial 56 with value: 304950.2634513802.\n",
            "[I 2024-02-09 12:02:48,644] Trial 63 finished with value: 305956.6552031433 and parameters: {'n_estimators': 104, 'max_depth': 9}. Best is trial 56 with value: 304950.2634513802.\n",
            "[I 2024-02-09 12:02:49,633] Trial 64 finished with value: 314036.8219293823 and parameters: {'n_estimators': 198, 'max_depth': 9}. Best is trial 56 with value: 304950.2634513802.\n",
            "[I 2024-02-09 12:02:50,435] Trial 65 finished with value: 314641.10107442254 and parameters: {'n_estimators': 186, 'max_depth': 10}. Best is trial 56 with value: 304950.2634513802.\n",
            "[I 2024-02-09 12:02:50,761] Trial 66 finished with value: 311208.1423566644 and parameters: {'n_estimators': 100, 'max_depth': 8}. Best is trial 56 with value: 304950.2634513802.\n",
            "[I 2024-02-09 12:02:51,127] Trial 67 finished with value: 309225.53402535187 and parameters: {'n_estimators': 113, 'max_depth': 9}. Best is trial 56 with value: 304950.2634513802.\n",
            "[I 2024-02-09 12:02:51,485] Trial 68 finished with value: 307806.6699953898 and parameters: {'n_estimators': 108, 'max_depth': 10}. Best is trial 56 with value: 304950.2634513802.\n",
            "[I 2024-02-09 12:02:51,823] Trial 69 finished with value: 307282.2854568686 and parameters: {'n_estimators': 102, 'max_depth': 9}. Best is trial 56 with value: 304950.2634513802.\n",
            "[I 2024-02-09 12:02:52,015] Trial 70 finished with value: 3045441.5557605578 and parameters: {'n_estimators': 109, 'max_depth': 1}. Best is trial 56 with value: 304950.2634513802.\n",
            "[I 2024-02-09 12:02:52,343] Trial 71 finished with value: 305956.6552031433 and parameters: {'n_estimators': 104, 'max_depth': 9}. Best is trial 56 with value: 304950.2634513802.\n",
            "[I 2024-02-09 12:02:52,662] Trial 72 finished with value: 312356.9302333699 and parameters: {'n_estimators': 104, 'max_depth': 8}. Best is trial 56 with value: 304950.2634513802.\n",
            "[I 2024-02-09 12:02:53,047] Trial 73 finished with value: 309199.4086509332 and parameters: {'n_estimators': 114, 'max_depth': 10}. Best is trial 56 with value: 304950.2634513802.\n",
            "[I 2024-02-09 12:02:53,394] Trial 74 finished with value: 305741.1453071438 and parameters: {'n_estimators': 107, 'max_depth': 9}. Best is trial 56 with value: 304950.2634513802.\n",
            "[I 2024-02-09 12:02:53,791] Trial 75 finished with value: 304150.56270906975 and parameters: {'n_estimators': 119, 'max_depth': 9}. Best is trial 75 with value: 304150.56270906975.\n",
            "[I 2024-02-09 12:02:54,033] Trial 76 finished with value: 1541823.1782576183 and parameters: {'n_estimators': 121, 'max_depth': 2}. Best is trial 75 with value: 304150.56270906975.\n",
            "[I 2024-02-09 12:02:54,373] Trial 77 finished with value: 316184.3645391638 and parameters: {'n_estimators': 111, 'max_depth': 8}. Best is trial 75 with value: 304150.56270906975.\n",
            "[I 2024-02-09 12:02:54,757] Trial 78 finished with value: 305388.6210703502 and parameters: {'n_estimators': 118, 'max_depth': 9}. Best is trial 75 with value: 304150.56270906975.\n",
            "[I 2024-02-09 12:02:55,161] Trial 79 finished with value: 306201.78135352326 and parameters: {'n_estimators': 118, 'max_depth': 10}. Best is trial 75 with value: 304150.56270906975.\n",
            "[I 2024-02-09 12:02:55,461] Trial 80 finished with value: 454353.1333079781 and parameters: {'n_estimators': 120, 'max_depth': 5}. Best is trial 75 with value: 304150.56270906975.\n",
            "[I 2024-02-09 12:02:55,789] Trial 81 finished with value: 304950.2634513802 and parameters: {'n_estimators': 100, 'max_depth': 9}. Best is trial 75 with value: 304150.56270906975.\n",
            "[I 2024-02-09 12:02:56,137] Trial 82 finished with value: 307282.2854568686 and parameters: {'n_estimators': 102, 'max_depth': 9}. Best is trial 75 with value: 304150.56270906975.\n",
            "[I 2024-02-09 12:02:56,542] Trial 83 finished with value: 312162.52962556743 and parameters: {'n_estimators': 133, 'max_depth': 8}. Best is trial 75 with value: 304150.56270906975.\n",
            "[I 2024-02-09 12:02:56,882] Trial 84 finished with value: 304950.2634513802 and parameters: {'n_estimators': 100, 'max_depth': 9}. Best is trial 75 with value: 304150.56270906975.\n",
            "[I 2024-02-09 12:02:57,208] Trial 85 finished with value: 304950.2634513802 and parameters: {'n_estimators': 100, 'max_depth': 9}. Best is trial 75 with value: 304150.56270906975.\n",
            "[I 2024-02-09 12:02:57,543] Trial 86 finished with value: 307657.5771930129 and parameters: {'n_estimators': 101, 'max_depth': 10}. Best is trial 75 with value: 304150.56270906975.\n",
            "[I 2024-02-09 12:02:57,904] Trial 87 finished with value: 305353.5093824985 and parameters: {'n_estimators': 106, 'max_depth': 9}. Best is trial 75 with value: 304150.56270906975.\n",
            "[I 2024-02-09 12:02:58,245] Trial 88 finished with value: 305353.5093824985 and parameters: {'n_estimators': 106, 'max_depth': 9}. Best is trial 75 with value: 304150.56270906975.\n",
            "[I 2024-02-09 12:02:58,553] Trial 89 finished with value: 311208.1423566644 and parameters: {'n_estimators': 100, 'max_depth': 8}. Best is trial 75 with value: 304150.56270906975.\n",
            "[I 2024-02-09 12:02:58,895] Trial 90 finished with value: 306727.0924672053 and parameters: {'n_estimators': 103, 'max_depth': 9}. Best is trial 75 with value: 304150.56270906975.\n",
            "[I 2024-02-09 12:02:59,245] Trial 91 finished with value: 305353.5093824985 and parameters: {'n_estimators': 106, 'max_depth': 9}. Best is trial 75 with value: 304150.56270906975.\n",
            "[I 2024-02-09 12:02:59,603] Trial 92 finished with value: 309070.1962831892 and parameters: {'n_estimators': 110, 'max_depth': 9}. Best is trial 75 with value: 304150.56270906975.\n",
            "[I 2024-02-09 12:02:59,958] Trial 93 finished with value: 305353.5093824985 and parameters: {'n_estimators': 106, 'max_depth': 9}. Best is trial 75 with value: 304150.56270906975.\n",
            "[I 2024-02-09 12:03:00,378] Trial 94 finished with value: 307806.6699953898 and parameters: {'n_estimators': 108, 'max_depth': 10}. Best is trial 75 with value: 304150.56270906975.\n",
            "[I 2024-02-09 12:03:00,871] Trial 95 finished with value: 311208.1423566644 and parameters: {'n_estimators': 100, 'max_depth': 8}. Best is trial 75 with value: 304150.56270906975.\n",
            "[I 2024-02-09 12:03:01,254] Trial 96 finished with value: 624677.432026264 and parameters: {'n_estimators': 103, 'max_depth': 4}. Best is trial 75 with value: 304150.56270906975.\n",
            "[I 2024-02-09 12:03:02,031] Trial 97 finished with value: 308931.18792065576 and parameters: {'n_estimators': 155, 'max_depth': 9}. Best is trial 75 with value: 304150.56270906975.\n",
            "[I 2024-02-09 12:03:02,616] Trial 98 finished with value: 309963.14443749125 and parameters: {'n_estimators': 112, 'max_depth': 10}. Best is trial 75 with value: 304150.56270906975.\n",
            "[I 2024-02-09 12:03:03,146] Trial 99 finished with value: 312353.57607120933 and parameters: {'n_estimators': 105, 'max_depth': 8}. Best is trial 75 with value: 304150.56270906975.\n"
          ]
        },
        {
          "output_type": "display_data",
          "data": {
            "text/html": [
              "<html>\n",
              "<head><meta charset=\"utf-8\" /></head>\n",
              "<body>\n",
              "    <div>            <script src=\"https://cdnjs.cloudflare.com/ajax/libs/mathjax/2.7.5/MathJax.js?config=TeX-AMS-MML_SVG\"></script><script type=\"text/javascript\">if (window.MathJax && window.MathJax.Hub && window.MathJax.Hub.Config) {window.MathJax.Hub.Config({SVG: {font: \"STIX-Web\"}});}</script>                <script type=\"text/javascript\">window.PlotlyConfig = {MathJaxConfig: 'local'};</script>\n",
              "        <script charset=\"utf-8\" src=\"https://cdn.plot.ly/plotly-2.24.1.min.js\"></script>                <div id=\"fd9c8d49-eb09-43f6-8b94-ee640ff62518\" class=\"plotly-graph-div\" style=\"height:525px; width:100%;\"></div>            <script type=\"text/javascript\">                                    window.PLOTLYENV=window.PLOTLYENV || {};                                    if (document.getElementById(\"fd9c8d49-eb09-43f6-8b94-ee640ff62518\")) {                    Plotly.newPlot(                        \"fd9c8d49-eb09-43f6-8b94-ee640ff62518\",                        [{\"mode\":\"markers\",\"name\":\"Objective Value\",\"x\":[0,1,2,3,4,5,6,7,8,9,10,11,12,13,14,15,16,17,18,19,20,21,22,23,24,25,26,27,28,29,30,31,32,33,34,35,36,37,38,39,40,41,42,43,44,45,46,47,48,49,50,51,52,53,54,55,56,57,58,59,60,61,62,63,64,65,66,67,68,69,70,71,72,73,74,75,76,77,78,79,80,81,82,83,84,85,86,87,88,89,90,91,92,93,94,95,96,97,98,99],\"y\":[343061.65603100054,1000148.6252579209,451476.08731826267,619703.0687058389,1543052.8090622982,623050.5151483931,311350.94935920974,623122.5712008969,624829.4376996018,317211.84421941766,312630.54885706765,313804.6565831592,311485.38403569366,316764.5358051588,314633.9562503842,310260.6164584151,322907.13521975616,309205.6533842458,344963.59919400164,3043979.7321205074,308993.597384851,307282.2854568686,305432.6628305344,322186.136546675,327629.3659555391,309225.53402535187,312284.47787784407,308358.3333979859,306663.50025286904,309527.6985484689,342767.2475092471,307257.6665023054,305741.1453071438,309527.6985484689,312414.30689919443,306337.0198587702,323046.423858636,306337.0198587702,452952.8449972355,312577.7478920457,1001526.9471077343,307486.9497016523,305353.5093824985,308505.59449460683,312281.56266261527,305353.5093824985,322187.3537648368,311286.72260892094,309070.1962831892,312356.9302333699,310389.56964899675,305388.6210703502,308894.11718650756,311764.5839020499,309082.90196336777,309377.0534169587,304950.2634513802,304950.2634513802,322186.136546675,313508.9110335074,998923.4625896816,305956.6552031433,308358.3333979859,305956.6552031433,314036.8219293823,314641.10107442254,311208.1423566644,309225.53402535187,307806.6699953898,307282.2854568686,3045441.5557605578,305956.6552031433,312356.9302333699,309199.4086509332,305741.1453071438,304150.56270906975,1541823.1782576183,316184.3645391638,305388.6210703502,306201.78135352326,454353.1333079781,304950.2634513802,307282.2854568686,312162.52962556743,304950.2634513802,304950.2634513802,307657.5771930129,305353.5093824985,305353.5093824985,311208.1423566644,306727.0924672053,305353.5093824985,309070.1962831892,305353.5093824985,307806.6699953898,311208.1423566644,624677.432026264,308931.18792065576,309963.14443749125,312353.57607120933],\"type\":\"scatter\"},{\"mode\":\"lines\",\"name\":\"Best Value\",\"x\":[0,1,2,3,4,5,6,7,8,9,10,11,12,13,14,15,16,17,18,19,20,21,22,23,24,25,26,27,28,29,30,31,32,33,34,35,36,37,38,39,40,41,42,43,44,45,46,47,48,49,50,51,52,53,54,55,56,57,58,59,60,61,62,63,64,65,66,67,68,69,70,71,72,73,74,75,76,77,78,79,80,81,82,83,84,85,86,87,88,89,90,91,92,93,94,95,96,97,98,99],\"y\":[343061.65603100054,343061.65603100054,343061.65603100054,343061.65603100054,343061.65603100054,343061.65603100054,311350.94935920974,311350.94935920974,311350.94935920974,311350.94935920974,311350.94935920974,311350.94935920974,311350.94935920974,311350.94935920974,311350.94935920974,310260.6164584151,310260.6164584151,309205.6533842458,309205.6533842458,309205.6533842458,308993.597384851,307282.2854568686,305432.6628305344,305432.6628305344,305432.6628305344,305432.6628305344,305432.6628305344,305432.6628305344,305432.6628305344,305432.6628305344,305432.6628305344,305432.6628305344,305432.6628305344,305432.6628305344,305432.6628305344,305432.6628305344,305432.6628305344,305432.6628305344,305432.6628305344,305432.6628305344,305432.6628305344,305432.6628305344,305353.5093824985,305353.5093824985,305353.5093824985,305353.5093824985,305353.5093824985,305353.5093824985,305353.5093824985,305353.5093824985,305353.5093824985,305353.5093824985,305353.5093824985,305353.5093824985,305353.5093824985,305353.5093824985,304950.2634513802,304950.2634513802,304950.2634513802,304950.2634513802,304950.2634513802,304950.2634513802,304950.2634513802,304950.2634513802,304950.2634513802,304950.2634513802,304950.2634513802,304950.2634513802,304950.2634513802,304950.2634513802,304950.2634513802,304950.2634513802,304950.2634513802,304950.2634513802,304950.2634513802,304150.56270906975,304150.56270906975,304150.56270906975,304150.56270906975,304150.56270906975,304150.56270906975,304150.56270906975,304150.56270906975,304150.56270906975,304150.56270906975,304150.56270906975,304150.56270906975,304150.56270906975,304150.56270906975,304150.56270906975,304150.56270906975,304150.56270906975,304150.56270906975,304150.56270906975,304150.56270906975,304150.56270906975,304150.56270906975,304150.56270906975,304150.56270906975,304150.56270906975],\"type\":\"scatter\"},{\"marker\":{\"color\":\"#cccccc\"},\"mode\":\"markers\",\"name\":\"Infeasible Trial\",\"showlegend\":false,\"x\":[],\"y\":[],\"type\":\"scatter\"}],                        {\"title\":{\"text\":\"Optimization History Plot\"},\"xaxis\":{\"title\":{\"text\":\"Trial\"}},\"yaxis\":{\"title\":{\"text\":\"Objective Value\"}},\"template\":{\"data\":{\"histogram2dcontour\":[{\"type\":\"histogram2dcontour\",\"colorbar\":{\"outlinewidth\":0,\"ticks\":\"\"},\"colorscale\":[[0.0,\"#0d0887\"],[0.1111111111111111,\"#46039f\"],[0.2222222222222222,\"#7201a8\"],[0.3333333333333333,\"#9c179e\"],[0.4444444444444444,\"#bd3786\"],[0.5555555555555556,\"#d8576b\"],[0.6666666666666666,\"#ed7953\"],[0.7777777777777778,\"#fb9f3a\"],[0.8888888888888888,\"#fdca26\"],[1.0,\"#f0f921\"]]}],\"choropleth\":[{\"type\":\"choropleth\",\"colorbar\":{\"outlinewidth\":0,\"ticks\":\"\"}}],\"histogram2d\":[{\"type\":\"histogram2d\",\"colorbar\":{\"outlinewidth\":0,\"ticks\":\"\"},\"colorscale\":[[0.0,\"#0d0887\"],[0.1111111111111111,\"#46039f\"],[0.2222222222222222,\"#7201a8\"],[0.3333333333333333,\"#9c179e\"],[0.4444444444444444,\"#bd3786\"],[0.5555555555555556,\"#d8576b\"],[0.6666666666666666,\"#ed7953\"],[0.7777777777777778,\"#fb9f3a\"],[0.8888888888888888,\"#fdca26\"],[1.0,\"#f0f921\"]]}],\"heatmap\":[{\"type\":\"heatmap\",\"colorbar\":{\"outlinewidth\":0,\"ticks\":\"\"},\"colorscale\":[[0.0,\"#0d0887\"],[0.1111111111111111,\"#46039f\"],[0.2222222222222222,\"#7201a8\"],[0.3333333333333333,\"#9c179e\"],[0.4444444444444444,\"#bd3786\"],[0.5555555555555556,\"#d8576b\"],[0.6666666666666666,\"#ed7953\"],[0.7777777777777778,\"#fb9f3a\"],[0.8888888888888888,\"#fdca26\"],[1.0,\"#f0f921\"]]}],\"heatmapgl\":[{\"type\":\"heatmapgl\",\"colorbar\":{\"outlinewidth\":0,\"ticks\":\"\"},\"colorscale\":[[0.0,\"#0d0887\"],[0.1111111111111111,\"#46039f\"],[0.2222222222222222,\"#7201a8\"],[0.3333333333333333,\"#9c179e\"],[0.4444444444444444,\"#bd3786\"],[0.5555555555555556,\"#d8576b\"],[0.6666666666666666,\"#ed7953\"],[0.7777777777777778,\"#fb9f3a\"],[0.8888888888888888,\"#fdca26\"],[1.0,\"#f0f921\"]]}],\"contourcarpet\":[{\"type\":\"contourcarpet\",\"colorbar\":{\"outlinewidth\":0,\"ticks\":\"\"}}],\"contour\":[{\"type\":\"contour\",\"colorbar\":{\"outlinewidth\":0,\"ticks\":\"\"},\"colorscale\":[[0.0,\"#0d0887\"],[0.1111111111111111,\"#46039f\"],[0.2222222222222222,\"#7201a8\"],[0.3333333333333333,\"#9c179e\"],[0.4444444444444444,\"#bd3786\"],[0.5555555555555556,\"#d8576b\"],[0.6666666666666666,\"#ed7953\"],[0.7777777777777778,\"#fb9f3a\"],[0.8888888888888888,\"#fdca26\"],[1.0,\"#f0f921\"]]}],\"surface\":[{\"type\":\"surface\",\"colorbar\":{\"outlinewidth\":0,\"ticks\":\"\"},\"colorscale\":[[0.0,\"#0d0887\"],[0.1111111111111111,\"#46039f\"],[0.2222222222222222,\"#7201a8\"],[0.3333333333333333,\"#9c179e\"],[0.4444444444444444,\"#bd3786\"],[0.5555555555555556,\"#d8576b\"],[0.6666666666666666,\"#ed7953\"],[0.7777777777777778,\"#fb9f3a\"],[0.8888888888888888,\"#fdca26\"],[1.0,\"#f0f921\"]]}],\"mesh3d\":[{\"type\":\"mesh3d\",\"colorbar\":{\"outlinewidth\":0,\"ticks\":\"\"}}],\"scatter\":[{\"fillpattern\":{\"fillmode\":\"overlay\",\"size\":10,\"solidity\":0.2},\"type\":\"scatter\"}],\"parcoords\":[{\"type\":\"parcoords\",\"line\":{\"colorbar\":{\"outlinewidth\":0,\"ticks\":\"\"}}}],\"scatterpolargl\":[{\"type\":\"scatterpolargl\",\"marker\":{\"colorbar\":{\"outlinewidth\":0,\"ticks\":\"\"}}}],\"bar\":[{\"error_x\":{\"color\":\"#2a3f5f\"},\"error_y\":{\"color\":\"#2a3f5f\"},\"marker\":{\"line\":{\"color\":\"#E5ECF6\",\"width\":0.5},\"pattern\":{\"fillmode\":\"overlay\",\"size\":10,\"solidity\":0.2}},\"type\":\"bar\"}],\"scattergeo\":[{\"type\":\"scattergeo\",\"marker\":{\"colorbar\":{\"outlinewidth\":0,\"ticks\":\"\"}}}],\"scatterpolar\":[{\"type\":\"scatterpolar\",\"marker\":{\"colorbar\":{\"outlinewidth\":0,\"ticks\":\"\"}}}],\"histogram\":[{\"marker\":{\"pattern\":{\"fillmode\":\"overlay\",\"size\":10,\"solidity\":0.2}},\"type\":\"histogram\"}],\"scattergl\":[{\"type\":\"scattergl\",\"marker\":{\"colorbar\":{\"outlinewidth\":0,\"ticks\":\"\"}}}],\"scatter3d\":[{\"type\":\"scatter3d\",\"line\":{\"colorbar\":{\"outlinewidth\":0,\"ticks\":\"\"}},\"marker\":{\"colorbar\":{\"outlinewidth\":0,\"ticks\":\"\"}}}],\"scattermapbox\":[{\"type\":\"scattermapbox\",\"marker\":{\"colorbar\":{\"outlinewidth\":0,\"ticks\":\"\"}}}],\"scatterternary\":[{\"type\":\"scatterternary\",\"marker\":{\"colorbar\":{\"outlinewidth\":0,\"ticks\":\"\"}}}],\"scattercarpet\":[{\"type\":\"scattercarpet\",\"marker\":{\"colorbar\":{\"outlinewidth\":0,\"ticks\":\"\"}}}],\"carpet\":[{\"aaxis\":{\"endlinecolor\":\"#2a3f5f\",\"gridcolor\":\"white\",\"linecolor\":\"white\",\"minorgridcolor\":\"white\",\"startlinecolor\":\"#2a3f5f\"},\"baxis\":{\"endlinecolor\":\"#2a3f5f\",\"gridcolor\":\"white\",\"linecolor\":\"white\",\"minorgridcolor\":\"white\",\"startlinecolor\":\"#2a3f5f\"},\"type\":\"carpet\"}],\"table\":[{\"cells\":{\"fill\":{\"color\":\"#EBF0F8\"},\"line\":{\"color\":\"white\"}},\"header\":{\"fill\":{\"color\":\"#C8D4E3\"},\"line\":{\"color\":\"white\"}},\"type\":\"table\"}],\"barpolar\":[{\"marker\":{\"line\":{\"color\":\"#E5ECF6\",\"width\":0.5},\"pattern\":{\"fillmode\":\"overlay\",\"size\":10,\"solidity\":0.2}},\"type\":\"barpolar\"}],\"pie\":[{\"automargin\":true,\"type\":\"pie\"}]},\"layout\":{\"autotypenumbers\":\"strict\",\"colorway\":[\"#636efa\",\"#EF553B\",\"#00cc96\",\"#ab63fa\",\"#FFA15A\",\"#19d3f3\",\"#FF6692\",\"#B6E880\",\"#FF97FF\",\"#FECB52\"],\"font\":{\"color\":\"#2a3f5f\"},\"hovermode\":\"closest\",\"hoverlabel\":{\"align\":\"left\"},\"paper_bgcolor\":\"white\",\"plot_bgcolor\":\"#E5ECF6\",\"polar\":{\"bgcolor\":\"#E5ECF6\",\"angularaxis\":{\"gridcolor\":\"white\",\"linecolor\":\"white\",\"ticks\":\"\"},\"radialaxis\":{\"gridcolor\":\"white\",\"linecolor\":\"white\",\"ticks\":\"\"}},\"ternary\":{\"bgcolor\":\"#E5ECF6\",\"aaxis\":{\"gridcolor\":\"white\",\"linecolor\":\"white\",\"ticks\":\"\"},\"baxis\":{\"gridcolor\":\"white\",\"linecolor\":\"white\",\"ticks\":\"\"},\"caxis\":{\"gridcolor\":\"white\",\"linecolor\":\"white\",\"ticks\":\"\"}},\"coloraxis\":{\"colorbar\":{\"outlinewidth\":0,\"ticks\":\"\"}},\"colorscale\":{\"sequential\":[[0.0,\"#0d0887\"],[0.1111111111111111,\"#46039f\"],[0.2222222222222222,\"#7201a8\"],[0.3333333333333333,\"#9c179e\"],[0.4444444444444444,\"#bd3786\"],[0.5555555555555556,\"#d8576b\"],[0.6666666666666666,\"#ed7953\"],[0.7777777777777778,\"#fb9f3a\"],[0.8888888888888888,\"#fdca26\"],[1.0,\"#f0f921\"]],\"sequentialminus\":[[0.0,\"#0d0887\"],[0.1111111111111111,\"#46039f\"],[0.2222222222222222,\"#7201a8\"],[0.3333333333333333,\"#9c179e\"],[0.4444444444444444,\"#bd3786\"],[0.5555555555555556,\"#d8576b\"],[0.6666666666666666,\"#ed7953\"],[0.7777777777777778,\"#fb9f3a\"],[0.8888888888888888,\"#fdca26\"],[1.0,\"#f0f921\"]],\"diverging\":[[0,\"#8e0152\"],[0.1,\"#c51b7d\"],[0.2,\"#de77ae\"],[0.3,\"#f1b6da\"],[0.4,\"#fde0ef\"],[0.5,\"#f7f7f7\"],[0.6,\"#e6f5d0\"],[0.7,\"#b8e186\"],[0.8,\"#7fbc41\"],[0.9,\"#4d9221\"],[1,\"#276419\"]]},\"xaxis\":{\"gridcolor\":\"white\",\"linecolor\":\"white\",\"ticks\":\"\",\"title\":{\"standoff\":15},\"zerolinecolor\":\"white\",\"automargin\":true,\"zerolinewidth\":2},\"yaxis\":{\"gridcolor\":\"white\",\"linecolor\":\"white\",\"ticks\":\"\",\"title\":{\"standoff\":15},\"zerolinecolor\":\"white\",\"automargin\":true,\"zerolinewidth\":2},\"scene\":{\"xaxis\":{\"backgroundcolor\":\"#E5ECF6\",\"gridcolor\":\"white\",\"linecolor\":\"white\",\"showbackground\":true,\"ticks\":\"\",\"zerolinecolor\":\"white\",\"gridwidth\":2},\"yaxis\":{\"backgroundcolor\":\"#E5ECF6\",\"gridcolor\":\"white\",\"linecolor\":\"white\",\"showbackground\":true,\"ticks\":\"\",\"zerolinecolor\":\"white\",\"gridwidth\":2},\"zaxis\":{\"backgroundcolor\":\"#E5ECF6\",\"gridcolor\":\"white\",\"linecolor\":\"white\",\"showbackground\":true,\"ticks\":\"\",\"zerolinecolor\":\"white\",\"gridwidth\":2}},\"shapedefaults\":{\"line\":{\"color\":\"#2a3f5f\"}},\"annotationdefaults\":{\"arrowcolor\":\"#2a3f5f\",\"arrowhead\":0,\"arrowwidth\":1},\"geo\":{\"bgcolor\":\"white\",\"landcolor\":\"#E5ECF6\",\"subunitcolor\":\"white\",\"showland\":true,\"showlakes\":true,\"lakecolor\":\"white\"},\"title\":{\"x\":0.05},\"mapbox\":{\"style\":\"light\"}}}},                        {\"responsive\": true}                    ).then(function(){\n",
              "                            \n",
              "var gd = document.getElementById('fd9c8d49-eb09-43f6-8b94-ee640ff62518');\n",
              "var x = new MutationObserver(function (mutations, observer) {{\n",
              "        var display = window.getComputedStyle(gd).display;\n",
              "        if (!display || display === 'none') {{\n",
              "            console.log([gd, 'removed!']);\n",
              "            Plotly.purge(gd);\n",
              "            observer.disconnect();\n",
              "        }}\n",
              "}});\n",
              "\n",
              "// Listen for the removal of the full notebook cells\n",
              "var notebookContainer = gd.closest('#notebook-container');\n",
              "if (notebookContainer) {{\n",
              "    x.observe(notebookContainer, {childList: true});\n",
              "}}\n",
              "\n",
              "// Listen for the clearing of the current output cell\n",
              "var outputEl = gd.closest('.output');\n",
              "if (outputEl) {{\n",
              "    x.observe(outputEl, {childList: true});\n",
              "}}\n",
              "\n",
              "                        })                };                            </script>        </div>\n",
              "</body>\n",
              "</html>"
            ]
          },
          "metadata": {}
        }
      ]
    },
    {
      "cell_type": "markdown",
      "source": [
        "Evauleringer av beste modell"
      ],
      "metadata": {
        "id": "QlsyU7zY7ADP"
      }
    },
    {
      "cell_type": "code",
      "source": [
        "def detailed_objective(trial):\n",
        "  parametere = {\n",
        "      'n_estimators': trial.suggest_int('n_estimators', 100, 200),\n",
        "      'max_depth': trial.suggest_int('max_depth', 1, 10)\n",
        "  }\n",
        "  rf_pipeline = Pipeline([\n",
        "      ('skalerer', StandardScaler()),\n",
        "      ('modell', RandomForestRegressor(**parametere, random_state=random_seed))\n",
        "  ])\n",
        "\n",
        "  rf_pipeline.fit(X_trening, y_trening)\n",
        "  y_test_prediksjon = rf_pipeline.predict(X_test)\n",
        "  y_trening_prediksjon = rf_pipeline.predict(X_trening)\n",
        "\n",
        "  mse_test = mean_squared_error(y_test, y_test_prediksjon)\n",
        "  r2_test = r2_score(y_test, y_test_prediksjon)\n",
        "\n",
        "  mse_trening = mean_squared_error(y_trening, y_trening_prediksjon)\n",
        "  r2_trening = r2_score(y_trening, y_trening_prediksjon)\n",
        "\n",
        "  return mse_test, r2_test, mse_trening, r2_trening\n",
        "\n",
        "mse_test_resultat = detailed_objective(study.best_trial)[0]\n",
        "r2_test_resultat = detailed_objective(study.best_trial)[1]\n",
        "mse_trening_resultat = detailed_objective(study.best_trial)[2]\n",
        "r2_trening_resultat = detailed_objective(study.best_trial)[3]\n",
        "\n",
        "print(\"Beste hyperparametere for RandomForestRegressor: {}\".format(study.best_params))\n",
        "print(\"Test: MSE: {}, og R^2: {}\".format(mse_test_resultat, r2_test_resultat))\n",
        "print(\"Trening: MSE: {}, og R^2: {}\".format(mse_trening_resultat, r2_trening_resultat))"
      ],
      "metadata": {
        "colab": {
          "base_uri": "https://localhost:8080/"
        },
        "id": "JrxN1-YQ7FUe",
        "outputId": "1a5940ae-d82c-49fe-f9ac-d902d919add4"
      },
      "execution_count": null,
      "outputs": [
        {
          "output_type": "stream",
          "name": "stdout",
          "text": [
            "Beste hyperparametere for RandomForestRegressor: {'n_estimators': 119, 'max_depth': 9}\n",
            "Test: MSE: 304150.56270906975, og R^2: 0.9460160945821272\n",
            "Trening: MSE: 61240.625341091145, og R^2: 0.9893721909646818\n"
          ]
        }
      ]
    },
    {
      "cell_type": "markdown",
      "source": [
        "### Alternativ 2"
      ],
      "metadata": {
        "id": "clPFjQzwbA0m"
      }
    },
    {
      "cell_type": "code",
      "source": [
        "mw_trening2, mw_test2 = trening_testsett_oppdeling_dag(mw_data)"
      ],
      "metadata": {
        "id": "tshzVe_vbLyw"
      },
      "execution_count": 11,
      "outputs": []
    },
    {
      "cell_type": "code",
      "source": [
        "X_trening = mw_trening2.iloc[:, :-1]\n",
        "X_test = mw_test2.iloc[:, :-1]\n",
        "y_trening = mw_trening2.iloc[:, -1]\n",
        "y_test = mw_test2.iloc[:, -1]"
      ],
      "metadata": {
        "id": "mU5HRPiWbLyx"
      },
      "execution_count": 27,
      "outputs": []
    },
    {
      "cell_type": "markdown",
      "source": [
        "**RandomForestRegressor**"
      ],
      "metadata": {
        "id": "9lPsTafHbLyx"
      }
    },
    {
      "cell_type": "markdown",
      "source": [
        "Hyperparamter optimalisering med Optuna"
      ],
      "metadata": {
        "id": "U86KvCk9bLyx"
      }
    },
    {
      "cell_type": "code",
      "source": [
        "def objective(trial):\n",
        "  parametere = {\n",
        "      'n_estimators': trial.suggest_int('n_estimators', 100, 200),\n",
        "      'max_depth': trial.suggest_int('max_depth', 1, 10)\n",
        "  }\n",
        "  rf_pipeline = Pipeline([\n",
        "      ('skalerer', StandardScaler()),\n",
        "      ('modell', RandomForestRegressor(**parametere, random_state=random_seed))\n",
        "  ])\n",
        "\n",
        "  rf_pipeline.fit(X_trening, y_trening)\n",
        "  y_test_prediksjon = rf_pipeline.predict(X_test)\n",
        "\n",
        "  mse_test = mean_squared_error(y_test, y_test_prediksjon)\n",
        "\n",
        "  return mse_test\n",
        "\n",
        "if __name__ == \"__main__\":\n",
        "  study = optuna.create_study(direction='minimize')\n",
        "  study.optimize(objective, n_trials=100)\n",
        "\n",
        "plot_optimization_history(study)"
      ],
      "metadata": {
        "colab": {
          "base_uri": "https://localhost:8080/",
          "height": 1000
        },
        "outputId": "872ccc78-85db-48aa-988d-b25c0ab6a451",
        "id": "4qpKCWagbLyz"
      },
      "execution_count": 28,
      "outputs": [
        {
          "output_type": "stream",
          "name": "stderr",
          "text": [
            "[I 2024-02-11 12:35:26,678] A new study created in memory with name: no-name-dd8744ca-54d0-4432-b38b-84dd44670ee0\n",
            "[I 2024-02-11 12:35:27,351] Trial 0 finished with value: 596736.4734090809 and parameters: {'n_estimators': 153, 'max_depth': 6}. Best is trial 0 with value: 596736.4734090809.\n",
            "[I 2024-02-11 12:35:27,981] Trial 1 finished with value: 570167.3672472985 and parameters: {'n_estimators': 132, 'max_depth': 9}. Best is trial 1 with value: 570167.3672472985.\n",
            "[I 2024-02-11 12:35:28,533] Trial 2 finished with value: 588210.217103757 and parameters: {'n_estimators': 124, 'max_depth': 7}. Best is trial 1 with value: 570167.3672472985.\n",
            "[I 2024-02-11 12:35:29,317] Trial 3 finished with value: 557311.0430679698 and parameters: {'n_estimators': 150, 'max_depth': 10}. Best is trial 3 with value: 557311.0430679698.\n",
            "[I 2024-02-11 12:35:29,702] Trial 4 finished with value: 680515.5428640008 and parameters: {'n_estimators': 124, 'max_depth': 5}. Best is trial 3 with value: 557311.0430679698.\n",
            "[I 2024-02-11 12:35:30,105] Trial 5 finished with value: 574993.9337261221 and parameters: {'n_estimators': 144, 'max_depth': 7}. Best is trial 3 with value: 557311.0430679698.\n",
            "[I 2024-02-11 12:35:30,309] Trial 6 finished with value: 1225284.3889554597 and parameters: {'n_estimators': 103, 'max_depth': 2}. Best is trial 3 with value: 557311.0430679698.\n",
            "[I 2024-02-11 12:35:30,863] Trial 7 finished with value: 548643.7402232502 and parameters: {'n_estimators': 181, 'max_depth': 8}. Best is trial 7 with value: 548643.7402232502.\n",
            "[I 2024-02-11 12:35:31,368] Trial 8 finished with value: 561208.3156578407 and parameters: {'n_estimators': 152, 'max_depth': 9}. Best is trial 7 with value: 548643.7402232502.\n",
            "[I 2024-02-11 12:35:31,946] Trial 9 finished with value: 547976.0310571855 and parameters: {'n_estimators': 180, 'max_depth': 10}. Best is trial 9 with value: 547976.0310571855.\n",
            "[I 2024-02-11 12:35:32,392] Trial 10 finished with value: 1382243.368489413 and parameters: {'n_estimators': 200, 'max_depth': 3}. Best is trial 9 with value: 547976.0310571855.\n",
            "[I 2024-02-11 12:35:33,022] Trial 11 finished with value: 548198.6220733688 and parameters: {'n_estimators': 185, 'max_depth': 10}. Best is trial 9 with value: 547976.0310571855.\n",
            "[I 2024-02-11 12:35:33,649] Trial 12 finished with value: 547831.4420234938 and parameters: {'n_estimators': 179, 'max_depth': 10}. Best is trial 12 with value: 547831.4420234938.\n",
            "[I 2024-02-11 12:35:34,105] Trial 13 finished with value: 675964.5780390939 and parameters: {'n_estimators': 175, 'max_depth': 5}. Best is trial 12 with value: 547831.4420234938.\n",
            "[I 2024-02-11 12:35:34,715] Trial 14 finished with value: 548564.2202123514 and parameters: {'n_estimators': 170, 'max_depth': 10}. Best is trial 12 with value: 547831.4420234938.\n",
            "[I 2024-02-11 12:35:35,323] Trial 15 finished with value: 546072.2575684177 and parameters: {'n_estimators': 197, 'max_depth': 8}. Best is trial 15 with value: 546072.2575684177.\n",
            "[I 2024-02-11 12:35:35,955] Trial 16 finished with value: 543167.4925566711 and parameters: {'n_estimators': 200, 'max_depth': 8}. Best is trial 16 with value: 543167.4925566711.\n",
            "[I 2024-02-11 12:35:36,600] Trial 17 finished with value: 543167.4925566711 and parameters: {'n_estimators': 200, 'max_depth': 8}. Best is trial 16 with value: 543167.4925566711.\n",
            "[I 2024-02-11 12:35:37,074] Trial 18 finished with value: 596325.015758407 and parameters: {'n_estimators': 166, 'max_depth': 6}. Best is trial 16 with value: 543167.4925566711.\n",
            "[I 2024-02-11 12:35:37,536] Trial 19 finished with value: 907770.9686984686 and parameters: {'n_estimators': 192, 'max_depth': 4}. Best is trial 16 with value: 543167.4925566711.\n",
            "[I 2024-02-11 12:35:37,830] Trial 20 finished with value: 2144002.4319257257 and parameters: {'n_estimators': 164, 'max_depth': 1}. Best is trial 16 with value: 543167.4925566711.\n",
            "[I 2024-02-11 12:35:38,477] Trial 21 finished with value: 546124.1465214395 and parameters: {'n_estimators': 198, 'max_depth': 8}. Best is trial 16 with value: 543167.4925566711.\n",
            "[I 2024-02-11 12:35:39,068] Trial 22 finished with value: 545223.2972338041 and parameters: {'n_estimators': 189, 'max_depth': 8}. Best is trial 16 with value: 543167.4925566711.\n",
            "[I 2024-02-11 12:35:39,715] Trial 23 finished with value: 563374.4686872883 and parameters: {'n_estimators': 189, 'max_depth': 7}. Best is trial 16 with value: 543167.4925566711.\n",
            "[I 2024-02-11 12:35:40,692] Trial 24 finished with value: 552280.8060466856 and parameters: {'n_estimators': 190, 'max_depth': 9}. Best is trial 16 with value: 543167.4925566711.\n",
            "[I 2024-02-11 12:35:41,616] Trial 25 finished with value: 546974.4075052403 and parameters: {'n_estimators': 192, 'max_depth': 8}. Best is trial 16 with value: 543167.4925566711.\n",
            "[I 2024-02-11 12:35:42,359] Trial 26 finished with value: 566498.8644387239 and parameters: {'n_estimators': 160, 'max_depth': 7}. Best is trial 16 with value: 543167.4925566711.\n",
            "[I 2024-02-11 12:35:43,060] Trial 27 finished with value: 600246.3688257581 and parameters: {'n_estimators': 173, 'max_depth': 6}. Best is trial 16 with value: 543167.4925566711.\n",
            "[I 2024-02-11 12:35:43,705] Trial 28 finished with value: 548114.844877101 and parameters: {'n_estimators': 200, 'max_depth': 9}. Best is trial 16 with value: 543167.4925566711.\n",
            "[I 2024-02-11 12:35:44,179] Trial 29 finished with value: 673731.1977424445 and parameters: {'n_estimators': 185, 'max_depth': 5}. Best is trial 16 with value: 543167.4925566711.\n",
            "[I 2024-02-11 12:35:44,740] Trial 30 finished with value: 600713.0511436047 and parameters: {'n_estimators': 192, 'max_depth': 6}. Best is trial 16 with value: 543167.4925566711.\n",
            "[I 2024-02-11 12:35:45,370] Trial 31 finished with value: 547171.4535487487 and parameters: {'n_estimators': 196, 'max_depth': 8}. Best is trial 16 with value: 543167.4925566711.\n",
            "[I 2024-02-11 12:35:45,995] Trial 32 finished with value: 543167.4925566711 and parameters: {'n_estimators': 200, 'max_depth': 8}. Best is trial 16 with value: 543167.4925566711.\n",
            "[I 2024-02-11 12:35:46,577] Trial 33 finished with value: 565599.0311401867 and parameters: {'n_estimators': 188, 'max_depth': 7}. Best is trial 16 with value: 543167.4925566711.\n",
            "[I 2024-02-11 12:35:47,036] Trial 34 finished with value: 569877.1151706211 and parameters: {'n_estimators': 139, 'max_depth': 9}. Best is trial 16 with value: 543167.4925566711.\n",
            "[I 2024-02-11 12:35:47,638] Trial 35 finished with value: 561795.0634366414 and parameters: {'n_estimators': 200, 'max_depth': 7}. Best is trial 16 with value: 543167.4925566711.\n",
            "[I 2024-02-11 12:35:47,987] Trial 36 finished with value: 574369.0069436097 and parameters: {'n_estimators': 100, 'max_depth': 9}. Best is trial 16 with value: 543167.4925566711.\n",
            "[I 2024-02-11 12:35:48,606] Trial 37 finished with value: 547569.7331650873 and parameters: {'n_estimators': 185, 'max_depth': 8}. Best is trial 16 with value: 543167.4925566711.\n",
            "[I 2024-02-11 12:35:49,224] Trial 38 finished with value: 566619.5689128471 and parameters: {'n_estimators': 194, 'max_depth': 7}. Best is trial 16 with value: 543167.4925566711.\n",
            "[I 2024-02-11 12:35:49,640] Trial 39 finished with value: 577082.7793860004 and parameters: {'n_estimators': 124, 'max_depth': 9}. Best is trial 16 with value: 543167.4925566711.\n",
            "[I 2024-02-11 12:35:50,210] Trial 40 finished with value: 548643.7402232502 and parameters: {'n_estimators': 181, 'max_depth': 8}. Best is trial 16 with value: 543167.4925566711.\n",
            "[I 2024-02-11 12:35:50,827] Trial 41 finished with value: 547171.4535487487 and parameters: {'n_estimators': 196, 'max_depth': 8}. Best is trial 16 with value: 543167.4925566711.\n",
            "[I 2024-02-11 12:35:51,443] Trial 42 finished with value: 547970.10810427 and parameters: {'n_estimators': 195, 'max_depth': 8}. Best is trial 16 with value: 543167.4925566711.\n",
            "[I 2024-02-11 12:35:52,123] Trial 43 finished with value: 548114.844877101 and parameters: {'n_estimators': 200, 'max_depth': 9}. Best is trial 16 with value: 543167.4925566711.\n",
            "[I 2024-02-11 12:35:52,711] Trial 44 finished with value: 548070.1356708833 and parameters: {'n_estimators': 186, 'max_depth': 8}. Best is trial 16 with value: 543167.4925566711.\n",
            "[I 2024-02-11 12:35:53,125] Trial 45 finished with value: 585847.4287782728 and parameters: {'n_estimators': 115, 'max_depth': 7}. Best is trial 16 with value: 543167.4925566711.\n",
            "[I 2024-02-11 12:35:53,961] Trial 46 finished with value: 567313.4179426191 and parameters: {'n_estimators': 177, 'max_depth': 7}. Best is trial 16 with value: 543167.4925566711.\n",
            "[I 2024-02-11 12:35:54,737] Trial 47 finished with value: 561009.5927549473 and parameters: {'n_estimators': 146, 'max_depth': 10}. Best is trial 16 with value: 543167.4925566711.\n",
            "[I 2024-02-11 12:35:55,627] Trial 48 finished with value: 547933.6397260965 and parameters: {'n_estimators': 182, 'max_depth': 8}. Best is trial 16 with value: 543167.4925566711.\n",
            "[I 2024-02-11 12:35:56,468] Trial 49 finished with value: 602398.5191874758 and parameters: {'n_estimators': 195, 'max_depth': 6}. Best is trial 16 with value: 543167.4925566711.\n",
            "[I 2024-02-11 12:35:56,906] Trial 50 finished with value: 678836.7823967662 and parameters: {'n_estimators': 156, 'max_depth': 5}. Best is trial 16 with value: 543167.4925566711.\n",
            "[I 2024-02-11 12:35:57,533] Trial 51 finished with value: 546072.2575684177 and parameters: {'n_estimators': 197, 'max_depth': 8}. Best is trial 16 with value: 543167.4925566711.\n",
            "[I 2024-02-11 12:35:58,148] Trial 52 finished with value: 551712.3592771221 and parameters: {'n_estimators': 189, 'max_depth': 9}. Best is trial 16 with value: 543167.4925566711.\n",
            "[I 2024-02-11 12:35:58,770] Trial 53 finished with value: 546072.2575684177 and parameters: {'n_estimators': 197, 'max_depth': 8}. Best is trial 16 with value: 543167.4925566711.\n",
            "[I 2024-02-11 12:35:59,351] Trial 54 finished with value: 565313.6524365904 and parameters: {'n_estimators': 191, 'max_depth': 7}. Best is trial 16 with value: 543167.4925566711.\n",
            "[I 2024-02-11 12:35:59,996] Trial 55 finished with value: 547999.6647744111 and parameters: {'n_estimators': 194, 'max_depth': 10}. Best is trial 16 with value: 543167.4925566711.\n",
            "[I 2024-02-11 12:36:00,636] Trial 56 finished with value: 543167.4925566711 and parameters: {'n_estimators': 200, 'max_depth': 8}. Best is trial 16 with value: 543167.4925566711.\n",
            "[I 2024-02-11 12:36:01,070] Trial 57 finished with value: 1382243.368489413 and parameters: {'n_estimators': 200, 'max_depth': 3}. Best is trial 16 with value: 543167.4925566711.\n",
            "[I 2024-02-11 12:36:01,700] Trial 58 finished with value: 553252.3666340103 and parameters: {'n_estimators': 187, 'max_depth': 9}. Best is trial 16 with value: 543167.4925566711.\n",
            "[I 2024-02-11 12:36:02,174] Trial 59 finished with value: 597196.3810907302 and parameters: {'n_estimators': 170, 'max_depth': 6}. Best is trial 16 with value: 543167.4925566711.\n",
            "[I 2024-02-11 12:36:02,778] Trial 60 finished with value: 552853.7054222836 and parameters: {'n_estimators': 183, 'max_depth': 9}. Best is trial 16 with value: 543167.4925566711.\n",
            "[I 2024-02-11 12:36:03,411] Trial 61 finished with value: 546072.2575684177 and parameters: {'n_estimators': 197, 'max_depth': 8}. Best is trial 16 with value: 543167.4925566711.\n",
            "[I 2024-02-11 12:36:04,012] Trial 62 finished with value: 547802.2816450258 and parameters: {'n_estimators': 193, 'max_depth': 8}. Best is trial 16 with value: 543167.4925566711.\n",
            "[I 2024-02-11 12:36:04,586] Trial 63 finished with value: 565313.6524365904 and parameters: {'n_estimators': 191, 'max_depth': 7}. Best is trial 16 with value: 543167.4925566711.\n",
            "[I 2024-02-11 12:36:05,191] Trial 64 finished with value: 564062.3299767649 and parameters: {'n_estimators': 198, 'max_depth': 7}. Best is trial 16 with value: 543167.4925566711.\n",
            "[I 2024-02-11 12:36:05,795] Trial 65 finished with value: 545223.2972338041 and parameters: {'n_estimators': 189, 'max_depth': 8}. Best is trial 16 with value: 543167.4925566711.\n",
            "[I 2024-02-11 12:36:06,408] Trial 66 finished with value: 553810.938376134 and parameters: {'n_estimators': 188, 'max_depth': 9}. Best is trial 16 with value: 543167.4925566711.\n",
            "[I 2024-02-11 12:36:07,268] Trial 67 finished with value: 546974.4075052403 and parameters: {'n_estimators': 192, 'max_depth': 8}. Best is trial 16 with value: 543167.4925566711.\n",
            "[I 2024-02-11 12:36:08,262] Trial 68 finished with value: 548114.844877101 and parameters: {'n_estimators': 200, 'max_depth': 9}. Best is trial 16 with value: 543167.4925566711.\n",
            "[I 2024-02-11 12:36:08,758] Trial 69 finished with value: 2145465.6862666365 and parameters: {'n_estimators': 177, 'max_depth': 1}. Best is trial 16 with value: 543167.4925566711.\n",
            "[I 2024-02-11 12:36:09,724] Trial 70 finished with value: 548198.6220733688 and parameters: {'n_estimators': 185, 'max_depth': 10}. Best is trial 16 with value: 543167.4925566711.\n",
            "[I 2024-02-11 12:36:10,460] Trial 71 finished with value: 546072.2575684177 and parameters: {'n_estimators': 197, 'max_depth': 8}. Best is trial 16 with value: 543167.4925566711.\n",
            "[I 2024-02-11 12:36:11,489] Trial 72 finished with value: 548456.17933212 and parameters: {'n_estimators': 194, 'max_depth': 8}. Best is trial 16 with value: 543167.4925566711.\n",
            "[I 2024-02-11 12:36:12,205] Trial 73 finished with value: 563374.4686872883 and parameters: {'n_estimators': 189, 'max_depth': 7}. Best is trial 16 with value: 543167.4925566711.\n",
            "[I 2024-02-11 12:36:12,951] Trial 74 finished with value: 546072.2575684177 and parameters: {'n_estimators': 197, 'max_depth': 8}. Best is trial 16 with value: 543167.4925566711.\n",
            "[I 2024-02-11 12:36:13,664] Trial 75 finished with value: 551901.3864731415 and parameters: {'n_estimators': 191, 'max_depth': 9}. Best is trial 16 with value: 543167.4925566711.\n",
            "[I 2024-02-11 12:36:14,554] Trial 76 finished with value: 904679.8085946947 and parameters: {'n_estimators': 200, 'max_depth': 4}. Best is trial 16 with value: 543167.4925566711.\n",
            "[I 2024-02-11 12:36:15,274] Trial 77 finished with value: 546865.9219078012 and parameters: {'n_estimators': 183, 'max_depth': 8}. Best is trial 16 with value: 543167.4925566711.\n",
            "[I 2024-02-11 12:36:15,926] Trial 78 finished with value: 565613.1396413472 and parameters: {'n_estimators': 179, 'max_depth': 7}. Best is trial 16 with value: 543167.4925566711.\n",
            "[I 2024-02-11 12:36:16,531] Trial 79 finished with value: 557348.5027060204 and parameters: {'n_estimators': 134, 'max_depth': 8}. Best is trial 16 with value: 543167.4925566711.\n",
            "[I 2024-02-11 12:36:17,432] Trial 80 finished with value: 553068.9639766024 and parameters: {'n_estimators': 194, 'max_depth': 9}. Best is trial 16 with value: 543167.4925566711.\n",
            "[I 2024-02-11 12:36:19,051] Trial 81 finished with value: 546072.2575684177 and parameters: {'n_estimators': 197, 'max_depth': 8}. Best is trial 16 with value: 543167.4925566711.\n",
            "[I 2024-02-11 12:36:20,008] Trial 82 finished with value: 546124.1465214395 and parameters: {'n_estimators': 198, 'max_depth': 8}. Best is trial 16 with value: 543167.4925566711.\n",
            "[I 2024-02-11 12:36:21,010] Trial 83 finished with value: 547970.10810427 and parameters: {'n_estimators': 195, 'max_depth': 8}. Best is trial 16 with value: 543167.4925566711.\n",
            "[I 2024-02-11 12:36:21,895] Trial 84 finished with value: 563374.4686872883 and parameters: {'n_estimators': 189, 'max_depth': 7}. Best is trial 16 with value: 543167.4925566711.\n",
            "[I 2024-02-11 12:36:22,844] Trial 85 finished with value: 546124.1465214395 and parameters: {'n_estimators': 198, 'max_depth': 8}. Best is trial 16 with value: 543167.4925566711.\n",
            "[I 2024-02-11 12:36:23,758] Trial 86 finished with value: 566619.5689128471 and parameters: {'n_estimators': 194, 'max_depth': 7}. Best is trial 16 with value: 543167.4925566711.\n",
            "[I 2024-02-11 12:36:24,385] Trial 87 finished with value: 552564.5008597913 and parameters: {'n_estimators': 192, 'max_depth': 9}. Best is trial 16 with value: 543167.4925566711.\n",
            "[I 2024-02-11 12:36:24,985] Trial 88 finished with value: 548070.1356708833 and parameters: {'n_estimators': 186, 'max_depth': 8}. Best is trial 16 with value: 543167.4925566711.\n",
            "[I 2024-02-11 12:36:25,633] Trial 89 finished with value: 543167.4925566711 and parameters: {'n_estimators': 200, 'max_depth': 8}. Best is trial 16 with value: 543167.4925566711.\n",
            "[I 2024-02-11 12:36:26,203] Trial 90 finished with value: 561795.0634366414 and parameters: {'n_estimators': 200, 'max_depth': 7}. Best is trial 16 with value: 543167.4925566711.\n",
            "[I 2024-02-11 12:36:26,837] Trial 91 finished with value: 547171.4535487487 and parameters: {'n_estimators': 196, 'max_depth': 8}. Best is trial 16 with value: 543167.4925566711.\n",
            "[I 2024-02-11 12:36:27,460] Trial 92 finished with value: 546124.1465214395 and parameters: {'n_estimators': 198, 'max_depth': 8}. Best is trial 16 with value: 543167.4925566711.\n",
            "[I 2024-02-11 12:36:27,824] Trial 93 finished with value: 565736.3909857186 and parameters: {'n_estimators': 110, 'max_depth': 8}. Best is trial 16 with value: 543167.4925566711.\n",
            "[I 2024-02-11 12:36:28,440] Trial 94 finished with value: 551901.3864731415 and parameters: {'n_estimators': 191, 'max_depth': 9}. Best is trial 16 with value: 543167.4925566711.\n",
            "[I 2024-02-11 12:36:29,082] Trial 95 finished with value: 561795.0634366414 and parameters: {'n_estimators': 200, 'max_depth': 7}. Best is trial 16 with value: 543167.4925566711.\n",
            "[I 2024-02-11 12:36:29,744] Trial 96 finished with value: 551488.8658990908 and parameters: {'n_estimators': 196, 'max_depth': 9}. Best is trial 16 with value: 543167.4925566711.\n",
            "[I 2024-02-11 12:36:30,356] Trial 97 finished with value: 548456.17933212 and parameters: {'n_estimators': 194, 'max_depth': 8}. Best is trial 16 with value: 543167.4925566711.\n",
            "[I 2024-02-11 12:36:30,965] Trial 98 finished with value: 565302.1929433709 and parameters: {'n_estimators': 187, 'max_depth': 7}. Best is trial 16 with value: 543167.4925566711.\n",
            "[I 2024-02-11 12:36:31,621] Trial 99 finished with value: 552522.6509732363 and parameters: {'n_estimators': 193, 'max_depth': 9}. Best is trial 16 with value: 543167.4925566711.\n"
          ]
        },
        {
          "output_type": "display_data",
          "data": {
            "text/html": [
              "<html>\n",
              "<head><meta charset=\"utf-8\" /></head>\n",
              "<body>\n",
              "    <div>            <script src=\"https://cdnjs.cloudflare.com/ajax/libs/mathjax/2.7.5/MathJax.js?config=TeX-AMS-MML_SVG\"></script><script type=\"text/javascript\">if (window.MathJax && window.MathJax.Hub && window.MathJax.Hub.Config) {window.MathJax.Hub.Config({SVG: {font: \"STIX-Web\"}});}</script>                <script type=\"text/javascript\">window.PlotlyConfig = {MathJaxConfig: 'local'};</script>\n",
              "        <script charset=\"utf-8\" src=\"https://cdn.plot.ly/plotly-2.24.1.min.js\"></script>                <div id=\"aaa5f66d-7d24-469e-b300-74f60c3580bd\" class=\"plotly-graph-div\" style=\"height:525px; width:100%;\"></div>            <script type=\"text/javascript\">                                    window.PLOTLYENV=window.PLOTLYENV || {};                                    if (document.getElementById(\"aaa5f66d-7d24-469e-b300-74f60c3580bd\")) {                    Plotly.newPlot(                        \"aaa5f66d-7d24-469e-b300-74f60c3580bd\",                        [{\"mode\":\"markers\",\"name\":\"Objective Value\",\"x\":[0,1,2,3,4,5,6,7,8,9,10,11,12,13,14,15,16,17,18,19,20,21,22,23,24,25,26,27,28,29,30,31,32,33,34,35,36,37,38,39,40,41,42,43,44,45,46,47,48,49,50,51,52,53,54,55,56,57,58,59,60,61,62,63,64,65,66,67,68,69,70,71,72,73,74,75,76,77,78,79,80,81,82,83,84,85,86,87,88,89,90,91,92,93,94,95,96,97,98,99],\"y\":[596736.4734090809,570167.3672472985,588210.217103757,557311.0430679698,680515.5428640008,574993.9337261221,1225284.3889554597,548643.7402232502,561208.3156578407,547976.0310571855,1382243.368489413,548198.6220733688,547831.4420234938,675964.5780390939,548564.2202123514,546072.2575684177,543167.4925566711,543167.4925566711,596325.015758407,907770.9686984686,2144002.4319257257,546124.1465214395,545223.2972338041,563374.4686872883,552280.8060466856,546974.4075052403,566498.8644387239,600246.3688257581,548114.844877101,673731.1977424445,600713.0511436047,547171.4535487487,543167.4925566711,565599.0311401867,569877.1151706211,561795.0634366414,574369.0069436097,547569.7331650873,566619.5689128471,577082.7793860004,548643.7402232502,547171.4535487487,547970.10810427,548114.844877101,548070.1356708833,585847.4287782728,567313.4179426191,561009.5927549473,547933.6397260965,602398.5191874758,678836.7823967662,546072.2575684177,551712.3592771221,546072.2575684177,565313.6524365904,547999.6647744111,543167.4925566711,1382243.368489413,553252.3666340103,597196.3810907302,552853.7054222836,546072.2575684177,547802.2816450258,565313.6524365904,564062.3299767649,545223.2972338041,553810.938376134,546974.4075052403,548114.844877101,2145465.6862666365,548198.6220733688,546072.2575684177,548456.17933212,563374.4686872883,546072.2575684177,551901.3864731415,904679.8085946947,546865.9219078012,565613.1396413472,557348.5027060204,553068.9639766024,546072.2575684177,546124.1465214395,547970.10810427,563374.4686872883,546124.1465214395,566619.5689128471,552564.5008597913,548070.1356708833,543167.4925566711,561795.0634366414,547171.4535487487,546124.1465214395,565736.3909857186,551901.3864731415,561795.0634366414,551488.8658990908,548456.17933212,565302.1929433709,552522.6509732363],\"type\":\"scatter\"},{\"mode\":\"lines\",\"name\":\"Best Value\",\"x\":[0,1,2,3,4,5,6,7,8,9,10,11,12,13,14,15,16,17,18,19,20,21,22,23,24,25,26,27,28,29,30,31,32,33,34,35,36,37,38,39,40,41,42,43,44,45,46,47,48,49,50,51,52,53,54,55,56,57,58,59,60,61,62,63,64,65,66,67,68,69,70,71,72,73,74,75,76,77,78,79,80,81,82,83,84,85,86,87,88,89,90,91,92,93,94,95,96,97,98,99],\"y\":[596736.4734090809,570167.3672472985,570167.3672472985,557311.0430679698,557311.0430679698,557311.0430679698,557311.0430679698,548643.7402232502,548643.7402232502,547976.0310571855,547976.0310571855,547976.0310571855,547831.4420234938,547831.4420234938,547831.4420234938,546072.2575684177,543167.4925566711,543167.4925566711,543167.4925566711,543167.4925566711,543167.4925566711,543167.4925566711,543167.4925566711,543167.4925566711,543167.4925566711,543167.4925566711,543167.4925566711,543167.4925566711,543167.4925566711,543167.4925566711,543167.4925566711,543167.4925566711,543167.4925566711,543167.4925566711,543167.4925566711,543167.4925566711,543167.4925566711,543167.4925566711,543167.4925566711,543167.4925566711,543167.4925566711,543167.4925566711,543167.4925566711,543167.4925566711,543167.4925566711,543167.4925566711,543167.4925566711,543167.4925566711,543167.4925566711,543167.4925566711,543167.4925566711,543167.4925566711,543167.4925566711,543167.4925566711,543167.4925566711,543167.4925566711,543167.4925566711,543167.4925566711,543167.4925566711,543167.4925566711,543167.4925566711,543167.4925566711,543167.4925566711,543167.4925566711,543167.4925566711,543167.4925566711,543167.4925566711,543167.4925566711,543167.4925566711,543167.4925566711,543167.4925566711,543167.4925566711,543167.4925566711,543167.4925566711,543167.4925566711,543167.4925566711,543167.4925566711,543167.4925566711,543167.4925566711,543167.4925566711,543167.4925566711,543167.4925566711,543167.4925566711,543167.4925566711,543167.4925566711,543167.4925566711,543167.4925566711,543167.4925566711,543167.4925566711,543167.4925566711,543167.4925566711,543167.4925566711,543167.4925566711,543167.4925566711,543167.4925566711,543167.4925566711,543167.4925566711,543167.4925566711,543167.4925566711,543167.4925566711],\"type\":\"scatter\"},{\"marker\":{\"color\":\"#cccccc\"},\"mode\":\"markers\",\"name\":\"Infeasible Trial\",\"showlegend\":false,\"x\":[],\"y\":[],\"type\":\"scatter\"}],                        {\"title\":{\"text\":\"Optimization History Plot\"},\"xaxis\":{\"title\":{\"text\":\"Trial\"}},\"yaxis\":{\"title\":{\"text\":\"Objective Value\"}},\"template\":{\"data\":{\"histogram2dcontour\":[{\"type\":\"histogram2dcontour\",\"colorbar\":{\"outlinewidth\":0,\"ticks\":\"\"},\"colorscale\":[[0.0,\"#0d0887\"],[0.1111111111111111,\"#46039f\"],[0.2222222222222222,\"#7201a8\"],[0.3333333333333333,\"#9c179e\"],[0.4444444444444444,\"#bd3786\"],[0.5555555555555556,\"#d8576b\"],[0.6666666666666666,\"#ed7953\"],[0.7777777777777778,\"#fb9f3a\"],[0.8888888888888888,\"#fdca26\"],[1.0,\"#f0f921\"]]}],\"choropleth\":[{\"type\":\"choropleth\",\"colorbar\":{\"outlinewidth\":0,\"ticks\":\"\"}}],\"histogram2d\":[{\"type\":\"histogram2d\",\"colorbar\":{\"outlinewidth\":0,\"ticks\":\"\"},\"colorscale\":[[0.0,\"#0d0887\"],[0.1111111111111111,\"#46039f\"],[0.2222222222222222,\"#7201a8\"],[0.3333333333333333,\"#9c179e\"],[0.4444444444444444,\"#bd3786\"],[0.5555555555555556,\"#d8576b\"],[0.6666666666666666,\"#ed7953\"],[0.7777777777777778,\"#fb9f3a\"],[0.8888888888888888,\"#fdca26\"],[1.0,\"#f0f921\"]]}],\"heatmap\":[{\"type\":\"heatmap\",\"colorbar\":{\"outlinewidth\":0,\"ticks\":\"\"},\"colorscale\":[[0.0,\"#0d0887\"],[0.1111111111111111,\"#46039f\"],[0.2222222222222222,\"#7201a8\"],[0.3333333333333333,\"#9c179e\"],[0.4444444444444444,\"#bd3786\"],[0.5555555555555556,\"#d8576b\"],[0.6666666666666666,\"#ed7953\"],[0.7777777777777778,\"#fb9f3a\"],[0.8888888888888888,\"#fdca26\"],[1.0,\"#f0f921\"]]}],\"heatmapgl\":[{\"type\":\"heatmapgl\",\"colorbar\":{\"outlinewidth\":0,\"ticks\":\"\"},\"colorscale\":[[0.0,\"#0d0887\"],[0.1111111111111111,\"#46039f\"],[0.2222222222222222,\"#7201a8\"],[0.3333333333333333,\"#9c179e\"],[0.4444444444444444,\"#bd3786\"],[0.5555555555555556,\"#d8576b\"],[0.6666666666666666,\"#ed7953\"],[0.7777777777777778,\"#fb9f3a\"],[0.8888888888888888,\"#fdca26\"],[1.0,\"#f0f921\"]]}],\"contourcarpet\":[{\"type\":\"contourcarpet\",\"colorbar\":{\"outlinewidth\":0,\"ticks\":\"\"}}],\"contour\":[{\"type\":\"contour\",\"colorbar\":{\"outlinewidth\":0,\"ticks\":\"\"},\"colorscale\":[[0.0,\"#0d0887\"],[0.1111111111111111,\"#46039f\"],[0.2222222222222222,\"#7201a8\"],[0.3333333333333333,\"#9c179e\"],[0.4444444444444444,\"#bd3786\"],[0.5555555555555556,\"#d8576b\"],[0.6666666666666666,\"#ed7953\"],[0.7777777777777778,\"#fb9f3a\"],[0.8888888888888888,\"#fdca26\"],[1.0,\"#f0f921\"]]}],\"surface\":[{\"type\":\"surface\",\"colorbar\":{\"outlinewidth\":0,\"ticks\":\"\"},\"colorscale\":[[0.0,\"#0d0887\"],[0.1111111111111111,\"#46039f\"],[0.2222222222222222,\"#7201a8\"],[0.3333333333333333,\"#9c179e\"],[0.4444444444444444,\"#bd3786\"],[0.5555555555555556,\"#d8576b\"],[0.6666666666666666,\"#ed7953\"],[0.7777777777777778,\"#fb9f3a\"],[0.8888888888888888,\"#fdca26\"],[1.0,\"#f0f921\"]]}],\"mesh3d\":[{\"type\":\"mesh3d\",\"colorbar\":{\"outlinewidth\":0,\"ticks\":\"\"}}],\"scatter\":[{\"fillpattern\":{\"fillmode\":\"overlay\",\"size\":10,\"solidity\":0.2},\"type\":\"scatter\"}],\"parcoords\":[{\"type\":\"parcoords\",\"line\":{\"colorbar\":{\"outlinewidth\":0,\"ticks\":\"\"}}}],\"scatterpolargl\":[{\"type\":\"scatterpolargl\",\"marker\":{\"colorbar\":{\"outlinewidth\":0,\"ticks\":\"\"}}}],\"bar\":[{\"error_x\":{\"color\":\"#2a3f5f\"},\"error_y\":{\"color\":\"#2a3f5f\"},\"marker\":{\"line\":{\"color\":\"#E5ECF6\",\"width\":0.5},\"pattern\":{\"fillmode\":\"overlay\",\"size\":10,\"solidity\":0.2}},\"type\":\"bar\"}],\"scattergeo\":[{\"type\":\"scattergeo\",\"marker\":{\"colorbar\":{\"outlinewidth\":0,\"ticks\":\"\"}}}],\"scatterpolar\":[{\"type\":\"scatterpolar\",\"marker\":{\"colorbar\":{\"outlinewidth\":0,\"ticks\":\"\"}}}],\"histogram\":[{\"marker\":{\"pattern\":{\"fillmode\":\"overlay\",\"size\":10,\"solidity\":0.2}},\"type\":\"histogram\"}],\"scattergl\":[{\"type\":\"scattergl\",\"marker\":{\"colorbar\":{\"outlinewidth\":0,\"ticks\":\"\"}}}],\"scatter3d\":[{\"type\":\"scatter3d\",\"line\":{\"colorbar\":{\"outlinewidth\":0,\"ticks\":\"\"}},\"marker\":{\"colorbar\":{\"outlinewidth\":0,\"ticks\":\"\"}}}],\"scattermapbox\":[{\"type\":\"scattermapbox\",\"marker\":{\"colorbar\":{\"outlinewidth\":0,\"ticks\":\"\"}}}],\"scatterternary\":[{\"type\":\"scatterternary\",\"marker\":{\"colorbar\":{\"outlinewidth\":0,\"ticks\":\"\"}}}],\"scattercarpet\":[{\"type\":\"scattercarpet\",\"marker\":{\"colorbar\":{\"outlinewidth\":0,\"ticks\":\"\"}}}],\"carpet\":[{\"aaxis\":{\"endlinecolor\":\"#2a3f5f\",\"gridcolor\":\"white\",\"linecolor\":\"white\",\"minorgridcolor\":\"white\",\"startlinecolor\":\"#2a3f5f\"},\"baxis\":{\"endlinecolor\":\"#2a3f5f\",\"gridcolor\":\"white\",\"linecolor\":\"white\",\"minorgridcolor\":\"white\",\"startlinecolor\":\"#2a3f5f\"},\"type\":\"carpet\"}],\"table\":[{\"cells\":{\"fill\":{\"color\":\"#EBF0F8\"},\"line\":{\"color\":\"white\"}},\"header\":{\"fill\":{\"color\":\"#C8D4E3\"},\"line\":{\"color\":\"white\"}},\"type\":\"table\"}],\"barpolar\":[{\"marker\":{\"line\":{\"color\":\"#E5ECF6\",\"width\":0.5},\"pattern\":{\"fillmode\":\"overlay\",\"size\":10,\"solidity\":0.2}},\"type\":\"barpolar\"}],\"pie\":[{\"automargin\":true,\"type\":\"pie\"}]},\"layout\":{\"autotypenumbers\":\"strict\",\"colorway\":[\"#636efa\",\"#EF553B\",\"#00cc96\",\"#ab63fa\",\"#FFA15A\",\"#19d3f3\",\"#FF6692\",\"#B6E880\",\"#FF97FF\",\"#FECB52\"],\"font\":{\"color\":\"#2a3f5f\"},\"hovermode\":\"closest\",\"hoverlabel\":{\"align\":\"left\"},\"paper_bgcolor\":\"white\",\"plot_bgcolor\":\"#E5ECF6\",\"polar\":{\"bgcolor\":\"#E5ECF6\",\"angularaxis\":{\"gridcolor\":\"white\",\"linecolor\":\"white\",\"ticks\":\"\"},\"radialaxis\":{\"gridcolor\":\"white\",\"linecolor\":\"white\",\"ticks\":\"\"}},\"ternary\":{\"bgcolor\":\"#E5ECF6\",\"aaxis\":{\"gridcolor\":\"white\",\"linecolor\":\"white\",\"ticks\":\"\"},\"baxis\":{\"gridcolor\":\"white\",\"linecolor\":\"white\",\"ticks\":\"\"},\"caxis\":{\"gridcolor\":\"white\",\"linecolor\":\"white\",\"ticks\":\"\"}},\"coloraxis\":{\"colorbar\":{\"outlinewidth\":0,\"ticks\":\"\"}},\"colorscale\":{\"sequential\":[[0.0,\"#0d0887\"],[0.1111111111111111,\"#46039f\"],[0.2222222222222222,\"#7201a8\"],[0.3333333333333333,\"#9c179e\"],[0.4444444444444444,\"#bd3786\"],[0.5555555555555556,\"#d8576b\"],[0.6666666666666666,\"#ed7953\"],[0.7777777777777778,\"#fb9f3a\"],[0.8888888888888888,\"#fdca26\"],[1.0,\"#f0f921\"]],\"sequentialminus\":[[0.0,\"#0d0887\"],[0.1111111111111111,\"#46039f\"],[0.2222222222222222,\"#7201a8\"],[0.3333333333333333,\"#9c179e\"],[0.4444444444444444,\"#bd3786\"],[0.5555555555555556,\"#d8576b\"],[0.6666666666666666,\"#ed7953\"],[0.7777777777777778,\"#fb9f3a\"],[0.8888888888888888,\"#fdca26\"],[1.0,\"#f0f921\"]],\"diverging\":[[0,\"#8e0152\"],[0.1,\"#c51b7d\"],[0.2,\"#de77ae\"],[0.3,\"#f1b6da\"],[0.4,\"#fde0ef\"],[0.5,\"#f7f7f7\"],[0.6,\"#e6f5d0\"],[0.7,\"#b8e186\"],[0.8,\"#7fbc41\"],[0.9,\"#4d9221\"],[1,\"#276419\"]]},\"xaxis\":{\"gridcolor\":\"white\",\"linecolor\":\"white\",\"ticks\":\"\",\"title\":{\"standoff\":15},\"zerolinecolor\":\"white\",\"automargin\":true,\"zerolinewidth\":2},\"yaxis\":{\"gridcolor\":\"white\",\"linecolor\":\"white\",\"ticks\":\"\",\"title\":{\"standoff\":15},\"zerolinecolor\":\"white\",\"automargin\":true,\"zerolinewidth\":2},\"scene\":{\"xaxis\":{\"backgroundcolor\":\"#E5ECF6\",\"gridcolor\":\"white\",\"linecolor\":\"white\",\"showbackground\":true,\"ticks\":\"\",\"zerolinecolor\":\"white\",\"gridwidth\":2},\"yaxis\":{\"backgroundcolor\":\"#E5ECF6\",\"gridcolor\":\"white\",\"linecolor\":\"white\",\"showbackground\":true,\"ticks\":\"\",\"zerolinecolor\":\"white\",\"gridwidth\":2},\"zaxis\":{\"backgroundcolor\":\"#E5ECF6\",\"gridcolor\":\"white\",\"linecolor\":\"white\",\"showbackground\":true,\"ticks\":\"\",\"zerolinecolor\":\"white\",\"gridwidth\":2}},\"shapedefaults\":{\"line\":{\"color\":\"#2a3f5f\"}},\"annotationdefaults\":{\"arrowcolor\":\"#2a3f5f\",\"arrowhead\":0,\"arrowwidth\":1},\"geo\":{\"bgcolor\":\"white\",\"landcolor\":\"#E5ECF6\",\"subunitcolor\":\"white\",\"showland\":true,\"showlakes\":true,\"lakecolor\":\"white\"},\"title\":{\"x\":0.05},\"mapbox\":{\"style\":\"light\"}}}},                        {\"responsive\": true}                    ).then(function(){\n",
              "                            \n",
              "var gd = document.getElementById('aaa5f66d-7d24-469e-b300-74f60c3580bd');\n",
              "var x = new MutationObserver(function (mutations, observer) {{\n",
              "        var display = window.getComputedStyle(gd).display;\n",
              "        if (!display || display === 'none') {{\n",
              "            console.log([gd, 'removed!']);\n",
              "            Plotly.purge(gd);\n",
              "            observer.disconnect();\n",
              "        }}\n",
              "}});\n",
              "\n",
              "// Listen for the removal of the full notebook cells\n",
              "var notebookContainer = gd.closest('#notebook-container');\n",
              "if (notebookContainer) {{\n",
              "    x.observe(notebookContainer, {childList: true});\n",
              "}}\n",
              "\n",
              "// Listen for the clearing of the current output cell\n",
              "var outputEl = gd.closest('.output');\n",
              "if (outputEl) {{\n",
              "    x.observe(outputEl, {childList: true});\n",
              "}}\n",
              "\n",
              "                        })                };                            </script>        </div>\n",
              "</body>\n",
              "</html>"
            ]
          },
          "metadata": {}
        }
      ]
    },
    {
      "cell_type": "markdown",
      "source": [
        "Evauleringer av beste modell"
      ],
      "metadata": {
        "id": "Re7HpXrPbLyz"
      }
    },
    {
      "cell_type": "code",
      "source": [
        "def detailed_objective(trial):\n",
        "  parametere = {\n",
        "      'n_estimators': trial.suggest_int('n_estimators', 100, 200),\n",
        "      'max_depth': trial.suggest_int('max_depth', 1, 10)\n",
        "  }\n",
        "  rf_pipeline = Pipeline([\n",
        "      ('skalerer', StandardScaler()),\n",
        "      ('modell', RandomForestRegressor(**parametere, random_state=random_seed))\n",
        "  ])\n",
        "\n",
        "  rf_pipeline.fit(X_trening, y_trening)\n",
        "  y_test_prediksjon = rf_pipeline.predict(X_test)\n",
        "  y_trening_prediksjon = rf_pipeline.predict(X_trening)\n",
        "\n",
        "  mse_test = mean_squared_error(y_test, y_test_prediksjon)\n",
        "  r2_test = r2_score(y_test, y_test_prediksjon)\n",
        "\n",
        "  mse_trening = mean_squared_error(y_trening, y_trening_prediksjon)\n",
        "  r2_trening = r2_score(y_trening, y_trening_prediksjon)\n",
        "\n",
        "  return mse_test, r2_test, mse_trening, r2_trening\n",
        "\n",
        "mse_test_resultat = detailed_objective(study.best_trial)[0]\n",
        "r2_test_resultat = detailed_objective(study.best_trial)[1]\n",
        "mse_trening_resultat = detailed_objective(study.best_trial)[2]\n",
        "r2_trening_resultat = detailed_objective(study.best_trial)[3]\n",
        "\n",
        "print(\"Beste hyperparametere for RandomForestRegressor: {}\".format(study.best_params))\n",
        "print(\"Test: MSE: {}, og R^2: {}\".format(mse_test_resultat, r2_test_resultat))\n",
        "print(\"Trening: MSE: {}, og R^2: {}\".format(mse_trening_resultat, r2_trening_resultat))"
      ],
      "metadata": {
        "colab": {
          "base_uri": "https://localhost:8080/"
        },
        "outputId": "863805e3-a5c0-4f3e-dc13-82bccc8ff0b3",
        "id": "q-Di-1MfbLyz"
      },
      "execution_count": 14,
      "outputs": [
        {
          "output_type": "stream",
          "name": "stdout",
          "text": [
            "Beste hyperparametere for RandomForestRegressor: {'n_estimators': 200, 'max_depth': 8}\n",
            "Test: MSE: 543167.4925566711, og R^2: 0.8849458029028052\n",
            "Trening: MSE: 67176.19120422158, og R^2: 0.988671792849692\n"
          ]
        }
      ]
    },
    {
      "cell_type": "markdown",
      "source": [
        "# NIR målinger ekskludert"
      ],
      "metadata": {
        "id": "dLSfOULUYDrI"
      }
    },
    {
      "cell_type": "code",
      "source": [
        "mw_data_uten_NIR = mw_data.drop(columns=['NIRfat', 'NIRwater', 'NIRash'])\n",
        "mw_data_uten_NIR.info()"
      ],
      "metadata": {
        "colab": {
          "base_uri": "https://localhost:8080/"
        },
        "id": "QveU-03_Y_YB",
        "outputId": "14a08525-05cb-417d-a2d0-c36e45ce0367"
      },
      "execution_count": null,
      "outputs": [
        {
          "output_type": "stream",
          "name": "stdout",
          "text": [
            "<class 'pandas.core.frame.DataFrame'>\n",
            "DatetimeIndex: 29136 entries, 2022-10-31 17:37:00 to 2023-06-14 01:06:00\n",
            "Data columns (total 14 columns):\n",
            " #   Column         Non-Null Count  Dtype  \n",
            "---  ------         --------------  -----  \n",
            " 0   EnzymeType_A1  29136 non-null  int64  \n",
            " 1   EnzymeType_A2  29136 non-null  int64  \n",
            " 2   EnzymeType_B   29136 non-null  int64  \n",
            " 3   EnzymeType_C   29136 non-null  int64  \n",
            " 4   EnzymeType_D   29136 non-null  int64  \n",
            " 5   EnzymeType_E   29136 non-null  int64  \n",
            " 6   RawMatFlow     29136 non-null  float64\n",
            " 7   TT07           29136 non-null  float64\n",
            " 8   TT08           29136 non-null  float64\n",
            " 9   PT03           29136 non-null  float64\n",
            " 10  TT20           29136 non-null  float64\n",
            " 11  TT09           29136 non-null  float64\n",
            " 12  TT12           29136 non-null  float64\n",
            " 13  Mw             460 non-null    float64\n",
            "dtypes: float64(8), int64(6)\n",
            "memory usage: 4.3 MB\n"
          ]
        }
      ]
    },
    {
      "cell_type": "markdown",
      "source": [
        "## Oppdeling av trening og testsett"
      ],
      "metadata": {
        "id": "7fNbYkUGYyFd"
      }
    },
    {
      "cell_type": "markdown",
      "source": [
        "### Alternativ 1: Fordelt på Enzymtyper"
      ],
      "metadata": {
        "id": "w6UQIf_cY3T4"
      }
    },
    {
      "cell_type": "code",
      "source": [
        "mw_trening, mw_test = oppdeling_alternativ_1(mw_data_uten_NIR)\n",
        "mw_trening_markert = mw_trening.dropna(subset=[\"Mw\"])\n",
        "\n",
        "X_trening = mw_trening_markert.iloc[:, :-1]\n",
        "X_test = mw_test.iloc[:, :-1]\n",
        "y_trening = mw_trening_markert.iloc[:, -1]\n",
        "y_test = mw_test.iloc[:, -1]"
      ],
      "metadata": {
        "colab": {
          "base_uri": "https://localhost:8080/"
        },
        "id": "Ro43fVQfYGt9",
        "outputId": "5de4aee7-1582-41c7-81b1-b4b7997c4a40"
      },
      "execution_count": null,
      "outputs": [
        {
          "output_type": "stream",
          "name": "stderr",
          "text": [
            "<ipython-input-6-fb7e234f3b43>:11: SettingWithCopyWarning:\n",
            "\n",
            "\n",
            "A value is trying to be set on a copy of a slice from a DataFrame.\n",
            "Try using .loc[row_indexer,col_indexer] = value instead\n",
            "\n",
            "See the caveats in the documentation: https://pandas.pydata.org/pandas-docs/stable/user_guide/indexing.html#returning-a-view-versus-a-copy\n",
            "\n",
            "<ipython-input-6-fb7e234f3b43>:15: SettingWithCopyWarning:\n",
            "\n",
            "\n",
            "A value is trying to be set on a copy of a slice from a DataFrame\n",
            "\n",
            "See the caveats in the documentation: https://pandas.pydata.org/pandas-docs/stable/user_guide/indexing.html#returning-a-view-versus-a-copy\n",
            "\n"
          ]
        }
      ]
    },
    {
      "cell_type": "markdown",
      "source": [
        "**RandomForestRegressor**"
      ],
      "metadata": {
        "id": "m374LGKNbLii"
      }
    },
    {
      "cell_type": "code",
      "source": [
        "def objective(trial):\n",
        "  parametere = {\n",
        "      'n_estimators': trial.suggest_int('n_estimators', 100, 200),\n",
        "      'max_depth': trial.suggest_int('max_depth', 1, 10)\n",
        "  }\n",
        "  rf_pipeline = Pipeline([\n",
        "      ('skalerer', StandardScaler()),\n",
        "      ('modell', RandomForestRegressor(**parametere, random_state=random_seed))\n",
        "  ])\n",
        "\n",
        "  rf_pipeline.fit(X_trening, y_trening)\n",
        "  y_test_prediksjon = rf_pipeline.predict(X_test)\n",
        "\n",
        "  mse_test = mean_squared_error(y_test, y_test_prediksjon)\n",
        "\n",
        "  return mse_test\n",
        "\n",
        "if __name__ == \"__main__\":\n",
        "  study = optuna.create_study(direction='minimize')\n",
        "  study.optimize(objective, n_trials=100)\n",
        "\n",
        "plot_optimization_history(study)"
      ],
      "metadata": {
        "colab": {
          "base_uri": "https://localhost:8080/"
        },
        "id": "XoecfnIqbiSM",
        "outputId": "72d00e50-9468-4dff-e7f6-f5f581a5ce35"
      },
      "execution_count": null,
      "outputs": [
        {
          "output_type": "stream",
          "name": "stderr",
          "text": [
            "[I 2024-02-09 12:03:05,190] A new study created in memory with name: no-name-229b8181-0342-4f68-a253-66e2493ca958\n",
            "[I 2024-02-09 12:03:05,467] Trial 0 finished with value: 935616.6062918743 and parameters: {'n_estimators': 128, 'max_depth': 5}. Best is trial 0 with value: 935616.6062918743.\n",
            "[I 2024-02-09 12:03:05,841] Trial 1 finished with value: 706656.0612734959 and parameters: {'n_estimators': 156, 'max_depth': 7}. Best is trial 1 with value: 706656.0612734959.\n",
            "[I 2024-02-09 12:03:06,160] Trial 2 finished with value: 653915.8686557718 and parameters: {'n_estimators': 117, 'max_depth': 10}. Best is trial 2 with value: 653915.8686557718.\n",
            "[I 2024-02-09 12:03:06,453] Trial 3 finished with value: 678637.2302468478 and parameters: {'n_estimators': 103, 'max_depth': 9}. Best is trial 2 with value: 653915.8686557718.\n",
            "[I 2024-02-09 12:03:06,971] Trial 4 finished with value: 678556.2210748278 and parameters: {'n_estimators': 195, 'max_depth': 9}. Best is trial 2 with value: 653915.8686557718.\n",
            "[I 2024-02-09 12:03:07,302] Trial 5 finished with value: 798477.5207085941 and parameters: {'n_estimators': 140, 'max_depth': 6}. Best is trial 2 with value: 653915.8686557718.\n",
            "[I 2024-02-09 12:03:07,597] Trial 6 finished with value: 679463.7101096696 and parameters: {'n_estimators': 113, 'max_depth': 8}. Best is trial 2 with value: 653915.8686557718.\n",
            "[I 2024-02-09 12:03:07,926] Trial 7 finished with value: 678564.3794877065 and parameters: {'n_estimators': 130, 'max_depth': 8}. Best is trial 2 with value: 653915.8686557718.\n",
            "[I 2024-02-09 12:03:08,303] Trial 8 finished with value: 1748861.0913589185 and parameters: {'n_estimators': 194, 'max_depth': 3}. Best is trial 2 with value: 653915.8686557718.\n",
            "[I 2024-02-09 12:03:08,697] Trial 9 finished with value: 811906.5299327282 and parameters: {'n_estimators': 178, 'max_depth': 6}. Best is trial 2 with value: 653915.8686557718.\n",
            "[I 2024-02-09 12:03:08,954] Trial 10 finished with value: 3043919.296682424 and parameters: {'n_estimators': 164, 'max_depth': 1}. Best is trial 2 with value: 653915.8686557718.\n",
            "[I 2024-02-09 12:03:09,488] Trial 11 finished with value: 672791.3194451291 and parameters: {'n_estimators': 192, 'max_depth': 10}. Best is trial 2 with value: 653915.8686557718.\n",
            "[I 2024-02-09 12:03:09,952] Trial 12 finished with value: 663967.7523514696 and parameters: {'n_estimators': 168, 'max_depth': 10}. Best is trial 2 with value: 653915.8686557718.\n",
            "[I 2024-02-09 12:03:10,416] Trial 13 finished with value: 663967.7523514696 and parameters: {'n_estimators': 168, 'max_depth': 10}. Best is trial 2 with value: 653915.8686557718.\n",
            "[I 2024-02-09 12:03:10,720] Trial 14 finished with value: 1094322.5762582214 and parameters: {'n_estimators': 147, 'max_depth': 4}. Best is trial 2 with value: 653915.8686557718.\n",
            "[I 2024-02-09 12:03:11,053] Trial 15 finished with value: 655445.1967490796 and parameters: {'n_estimators': 121, 'max_depth': 10}. Best is trial 2 with value: 653915.8686557718.\n",
            "[I 2024-02-09 12:03:11,385] Trial 16 finished with value: 669637.3809822325 and parameters: {'n_estimators': 119, 'max_depth': 8}. Best is trial 2 with value: 653915.8686557718.\n",
            "[I 2024-02-09 12:03:11,566] Trial 17 finished with value: 3045441.5557605578 and parameters: {'n_estimators': 109, 'max_depth': 1}. Best is trial 2 with value: 653915.8686557718.\n",
            "[I 2024-02-09 12:03:11,914] Trial 18 finished with value: 669089.1034223592 and parameters: {'n_estimators': 125, 'max_depth': 9}. Best is trial 2 with value: 653915.8686557718.\n",
            "[I 2024-02-09 12:03:12,260] Trial 19 finished with value: 701784.4456635283 and parameters: {'n_estimators': 138, 'max_depth': 7}. Best is trial 2 with value: 653915.8686557718.\n",
            "[I 2024-02-09 12:03:12,478] Trial 20 finished with value: 1722967.5781538994 and parameters: {'n_estimators': 100, 'max_depth': 3}. Best is trial 2 with value: 653915.8686557718.\n",
            "[I 2024-02-09 12:03:12,972] Trial 21 finished with value: 669598.2507522277 and parameters: {'n_estimators': 176, 'max_depth': 10}. Best is trial 2 with value: 653915.8686557718.\n",
            "[I 2024-02-09 12:03:13,292] Trial 22 finished with value: 657223.1146279791 and parameters: {'n_estimators': 114, 'max_depth': 10}. Best is trial 2 with value: 653915.8686557718.\n",
            "[I 2024-02-09 12:03:13,621] Trial 23 finished with value: 662131.1322511777 and parameters: {'n_estimators': 115, 'max_depth': 9}. Best is trial 2 with value: 653915.8686557718.\n",
            "[I 2024-02-09 12:03:14,132] Trial 24 finished with value: 658453.1204365802 and parameters: {'n_estimators': 123, 'max_depth': 10}. Best is trial 2 with value: 653915.8686557718.\n",
            "[I 2024-02-09 12:03:14,678] Trial 25 finished with value: 703180.8442954096 and parameters: {'n_estimators': 135, 'max_depth': 7}. Best is trial 2 with value: 653915.8686557718.\n",
            "[I 2024-02-09 12:03:15,151] Trial 26 finished with value: 676049.9233289089 and parameters: {'n_estimators': 108, 'max_depth': 9}. Best is trial 2 with value: 653915.8686557718.\n",
            "[I 2024-02-09 12:03:15,766] Trial 27 finished with value: 671469.9093301784 and parameters: {'n_estimators': 145, 'max_depth': 8}. Best is trial 2 with value: 653915.8686557718.\n",
            "[I 2024-02-09 12:03:16,300] Trial 28 finished with value: 651671.3204451383 and parameters: {'n_estimators': 119, 'max_depth': 10}. Best is trial 28 with value: 651671.3204451383.\n",
            "[I 2024-02-09 12:03:16,765] Trial 29 finished with value: 931885.1573475079 and parameters: {'n_estimators': 133, 'max_depth': 5}. Best is trial 28 with value: 651671.3204451383.\n",
            "[I 2024-02-09 12:03:17,245] Trial 30 finished with value: 667711.5300311439 and parameters: {'n_estimators': 123, 'max_depth': 9}. Best is trial 28 with value: 651671.3204451383.\n",
            "[I 2024-02-09 12:03:17,588] Trial 31 finished with value: 653915.8686557718 and parameters: {'n_estimators': 117, 'max_depth': 10}. Best is trial 28 with value: 651671.3204451383.\n",
            "[I 2024-02-09 12:03:17,954] Trial 32 finished with value: 659073.5095896343 and parameters: {'n_estimators': 128, 'max_depth': 10}. Best is trial 28 with value: 651671.3204451383.\n",
            "[I 2024-02-09 12:03:18,236] Trial 33 finished with value: 682760.1569552354 and parameters: {'n_estimators': 107, 'max_depth': 8}. Best is trial 28 with value: 651671.3204451383.\n",
            "[I 2024-02-09 12:03:18,560] Trial 34 finished with value: 660736.4822742053 and parameters: {'n_estimators': 118, 'max_depth': 9}. Best is trial 28 with value: 651671.3204451383.\n",
            "[I 2024-02-09 12:03:18,865] Trial 35 finished with value: 676594.0519792229 and parameters: {'n_estimators': 104, 'max_depth': 9}. Best is trial 28 with value: 651671.3204451383.\n",
            "[I 2024-02-09 12:03:19,308] Trial 36 finished with value: 661174.5770313842 and parameters: {'n_estimators': 156, 'max_depth': 10}. Best is trial 28 with value: 651671.3204451383.\n",
            "[I 2024-02-09 12:03:19,673] Trial 37 finished with value: 699417.3189451012 and parameters: {'n_estimators': 142, 'max_depth': 7}. Best is trial 28 with value: 651671.3204451383.\n",
            "[I 2024-02-09 12:03:20,013] Trial 38 finished with value: 660184.072923285 and parameters: {'n_estimators': 120, 'max_depth': 9}. Best is trial 28 with value: 651671.3204451383.\n",
            "[I 2024-02-09 12:03:20,418] Trial 39 finished with value: 676314.8666204027 and parameters: {'n_estimators': 153, 'max_depth': 8}. Best is trial 28 with value: 651671.3204451383.\n",
            "[I 2024-02-09 12:03:20,802] Trial 40 finished with value: 660519.0394757647 and parameters: {'n_estimators': 130, 'max_depth': 10}. Best is trial 28 with value: 651671.3204451383.\n",
            "[I 2024-02-09 12:03:21,132] Trial 41 finished with value: 661778.1511302921 and parameters: {'n_estimators': 113, 'max_depth': 10}. Best is trial 28 with value: 651671.3204451383.\n",
            "[I 2024-02-09 12:03:21,444] Trial 42 finished with value: 661778.1511302921 and parameters: {'n_estimators': 113, 'max_depth': 10}. Best is trial 28 with value: 651671.3204451383.\n",
            "[I 2024-02-09 12:03:21,780] Trial 43 finished with value: 659004.8375009153 and parameters: {'n_estimators': 116, 'max_depth': 9}. Best is trial 28 with value: 651671.3204451383.\n",
            "[I 2024-02-09 12:03:22,078] Trial 44 finished with value: 674691.5526743555 and parameters: {'n_estimators': 100, 'max_depth': 10}. Best is trial 28 with value: 651671.3204451383.\n",
            "[I 2024-02-09 12:03:22,373] Trial 45 finished with value: 686595.2597155389 and parameters: {'n_estimators': 110, 'max_depth': 8}. Best is trial 28 with value: 651671.3204451383.\n",
            "[I 2024-02-09 12:03:22,598] Trial 46 finished with value: 2195777.5235201293 and parameters: {'n_estimators': 124, 'max_depth': 2}. Best is trial 28 with value: 651671.3204451383.\n",
            "[I 2024-02-09 12:03:22,909] Trial 47 finished with value: 800540.4760898852 and parameters: {'n_estimators': 128, 'max_depth': 6}. Best is trial 28 with value: 651671.3204451383.\n",
            "[I 2024-02-09 12:03:23,208] Trial 48 finished with value: 677307.3153905045 and parameters: {'n_estimators': 105, 'max_depth': 9}. Best is trial 28 with value: 651671.3204451383.\n",
            "[I 2024-02-09 12:03:23,547] Trial 49 finished with value: 652330.2556303787 and parameters: {'n_estimators': 120, 'max_depth': 10}. Best is trial 28 with value: 651671.3204451383.\n",
            "[I 2024-02-09 12:03:23,924] Trial 50 finished with value: 667403.0311216214 and parameters: {'n_estimators': 133, 'max_depth': 9}. Best is trial 28 with value: 651671.3204451383.\n",
            "[I 2024-02-09 12:03:24,240] Trial 51 finished with value: 666808.7584246456 and parameters: {'n_estimators': 111, 'max_depth': 10}. Best is trial 28 with value: 651671.3204451383.\n",
            "[I 2024-02-09 12:03:24,583] Trial 52 finished with value: 652330.2556303787 and parameters: {'n_estimators': 120, 'max_depth': 10}. Best is trial 28 with value: 651671.3204451383.\n",
            "[I 2024-02-09 12:03:24,954] Trial 53 finished with value: 652330.2556303787 and parameters: {'n_estimators': 120, 'max_depth': 10}. Best is trial 28 with value: 651671.3204451383.\n",
            "[I 2024-02-09 12:03:25,497] Trial 54 finished with value: 671960.2535600163 and parameters: {'n_estimators': 200, 'max_depth': 10}. Best is trial 28 with value: 651671.3204451383.\n",
            "[I 2024-02-09 12:03:25,845] Trial 55 finished with value: 660736.4822742053 and parameters: {'n_estimators': 118, 'max_depth': 9}. Best is trial 28 with value: 651671.3204451383.\n",
            "[I 2024-02-09 12:03:26,111] Trial 56 finished with value: 1096690.3855943794 and parameters: {'n_estimators': 127, 'max_depth': 4}. Best is trial 28 with value: 651671.3204451383.\n",
            "[I 2024-02-09 12:03:26,498] Trial 57 finished with value: 655080.7887895425 and parameters: {'n_estimators': 139, 'max_depth': 10}. Best is trial 28 with value: 651671.3204451383.\n",
            "[I 2024-02-09 12:03:26,823] Trial 58 finished with value: 671652.1457230748 and parameters: {'n_estimators': 120, 'max_depth': 8}. Best is trial 28 with value: 651671.3204451383.\n",
            "[I 2024-02-09 12:03:27,174] Trial 59 finished with value: 653395.7128793508 and parameters: {'n_estimators': 116, 'max_depth': 10}. Best is trial 28 with value: 651671.3204451383.\n",
            "[I 2024-02-09 12:03:27,722] Trial 60 finished with value: 669089.1034223592 and parameters: {'n_estimators': 125, 'max_depth': 9}. Best is trial 28 with value: 651671.3204451383.\n",
            "[I 2024-02-09 12:03:28,247] Trial 61 finished with value: 653395.7128793508 and parameters: {'n_estimators': 116, 'max_depth': 10}. Best is trial 28 with value: 651671.3204451383.\n",
            "[I 2024-02-09 12:03:28,796] Trial 62 finished with value: 657501.2135323605 and parameters: {'n_estimators': 122, 'max_depth': 10}. Best is trial 28 with value: 651671.3204451383.\n",
            "[I 2024-02-09 12:03:29,289] Trial 63 finished with value: 675478.403418464 and parameters: {'n_estimators': 110, 'max_depth': 9}. Best is trial 28 with value: 651671.3204451383.\n",
            "[I 2024-02-09 12:03:29,817] Trial 64 finished with value: 653395.7128793508 and parameters: {'n_estimators': 116, 'max_depth': 10}. Best is trial 28 with value: 651671.3204451383.\n",
            "[I 2024-02-09 12:03:30,354] Trial 65 finished with value: 656847.2716107934 and parameters: {'n_estimators': 115, 'max_depth': 10}. Best is trial 28 with value: 651671.3204451383.\n",
            "[I 2024-02-09 12:03:30,881] Trial 66 finished with value: 652337.3270711212 and parameters: {'n_estimators': 136, 'max_depth': 10}. Best is trial 28 with value: 651671.3204451383.\n",
            "[I 2024-02-09 12:03:31,266] Trial 67 finished with value: 664156.5560285244 and parameters: {'n_estimators': 134, 'max_depth': 9}. Best is trial 28 with value: 651671.3204451383.\n",
            "[I 2024-02-09 12:03:31,633] Trial 68 finished with value: 662354.1387277131 and parameters: {'n_estimators': 131, 'max_depth': 10}. Best is trial 28 with value: 651671.3204451383.\n",
            "[I 2024-02-09 12:03:31,997] Trial 69 finished with value: 661979.4197620064 and parameters: {'n_estimators': 126, 'max_depth': 10}. Best is trial 28 with value: 651671.3204451383.\n",
            "[I 2024-02-09 12:03:32,380] Trial 70 finished with value: 660150.2348768786 and parameters: {'n_estimators': 136, 'max_depth': 9}. Best is trial 28 with value: 651671.3204451383.\n",
            "[I 2024-02-09 12:03:32,682] Trial 71 finished with value: 673461.1014940095 and parameters: {'n_estimators': 106, 'max_depth': 10}. Best is trial 28 with value: 651671.3204451383.\n",
            "[I 2024-02-09 12:03:33,004] Trial 72 finished with value: 666534.2415283585 and parameters: {'n_estimators': 112, 'max_depth': 10}. Best is trial 28 with value: 651671.3204451383.\n",
            "[I 2024-02-09 12:03:33,356] Trial 73 finished with value: 655445.1967490796 and parameters: {'n_estimators': 121, 'max_depth': 10}. Best is trial 28 with value: 651671.3204451383.\n",
            "[I 2024-02-09 12:03:33,697] Trial 74 finished with value: 653915.8686557718 and parameters: {'n_estimators': 117, 'max_depth': 10}. Best is trial 28 with value: 651671.3204451383.\n",
            "[I 2024-02-09 12:03:34,004] Trial 75 finished with value: 670393.6489114271 and parameters: {'n_estimators': 102, 'max_depth': 10}. Best is trial 28 with value: 651671.3204451383.\n",
            "[I 2024-02-09 12:03:34,409] Trial 76 finished with value: 663508.5379141197 and parameters: {'n_estimators': 147, 'max_depth': 9}. Best is trial 28 with value: 651671.3204451383.\n",
            "[I 2024-02-09 12:03:34,864] Trial 77 finished with value: 655667.9977745471 and parameters: {'n_estimators': 163, 'max_depth': 10}. Best is trial 28 with value: 651671.3204451383.\n",
            "[I 2024-02-09 12:03:35,180] Trial 78 finished with value: 672188.5262644383 and parameters: {'n_estimators': 108, 'max_depth': 10}. Best is trial 28 with value: 651671.3204451383.\n",
            "[I 2024-02-09 12:03:35,663] Trial 79 finished with value: 682594.7526023263 and parameters: {'n_estimators': 185, 'max_depth': 8}. Best is trial 28 with value: 651671.3204451383.\n",
            "[I 2024-02-09 12:03:36,020] Trial 80 finished with value: 672533.919152789 and parameters: {'n_estimators': 130, 'max_depth': 9}. Best is trial 28 with value: 651671.3204451383.\n",
            "[I 2024-02-09 12:03:36,355] Trial 81 finished with value: 656847.2716107934 and parameters: {'n_estimators': 115, 'max_depth': 10}. Best is trial 28 with value: 651671.3204451383.\n",
            "[I 2024-02-09 12:03:36,689] Trial 82 finished with value: 651671.3204451383 and parameters: {'n_estimators': 119, 'max_depth': 10}. Best is trial 28 with value: 651671.3204451383.\n",
            "[I 2024-02-09 12:03:37,039] Trial 83 finished with value: 658453.1204365802 and parameters: {'n_estimators': 123, 'max_depth': 10}. Best is trial 28 with value: 651671.3204451383.\n",
            "[I 2024-02-09 12:03:37,375] Trial 84 finished with value: 658685.5200800243 and parameters: {'n_estimators': 119, 'max_depth': 9}. Best is trial 28 with value: 651671.3204451383.\n",
            "[I 2024-02-09 12:03:37,720] Trial 85 finished with value: 657501.2135323605 and parameters: {'n_estimators': 122, 'max_depth': 10}. Best is trial 28 with value: 651671.3204451383.\n",
            "[I 2024-02-09 12:03:38,036] Trial 86 finished with value: 672140.1670952215 and parameters: {'n_estimators': 112, 'max_depth': 9}. Best is trial 28 with value: 651671.3204451383.\n",
            "[I 2024-02-09 12:03:38,382] Trial 87 finished with value: 653463.9468139922 and parameters: {'n_estimators': 118, 'max_depth': 10}. Best is trial 28 with value: 651671.3204451383.\n",
            "[I 2024-02-09 12:03:38,746] Trial 88 finished with value: 658914.1676740776 and parameters: {'n_estimators': 125, 'max_depth': 10}. Best is trial 28 with value: 651671.3204451383.\n",
            "[I 2024-02-09 12:03:39,152] Trial 89 finished with value: 654355.8622357402 and parameters: {'n_estimators': 143, 'max_depth': 10}. Best is trial 28 with value: 651671.3204451383.\n",
            "[I 2024-02-09 12:03:39,483] Trial 90 finished with value: 662131.1322511777 and parameters: {'n_estimators': 115, 'max_depth': 9}. Best is trial 28 with value: 651671.3204451383.\n",
            "[I 2024-02-09 12:03:39,817] Trial 91 finished with value: 653463.9468139922 and parameters: {'n_estimators': 118, 'max_depth': 10}. Best is trial 28 with value: 651671.3204451383.\n",
            "[I 2024-02-09 12:03:40,160] Trial 92 finished with value: 655445.1967490796 and parameters: {'n_estimators': 121, 'max_depth': 10}. Best is trial 28 with value: 651671.3204451383.\n",
            "[I 2024-02-09 12:03:40,497] Trial 93 finished with value: 653915.8686557718 and parameters: {'n_estimators': 117, 'max_depth': 10}. Best is trial 28 with value: 651671.3204451383.\n",
            "[I 2024-02-09 12:03:40,741] Trial 94 finished with value: 1088193.0411051072 and parameters: {'n_estimators': 109, 'max_depth': 4}. Best is trial 28 with value: 651671.3204451383.\n",
            "[I 2024-02-09 12:03:41,238] Trial 95 finished with value: 661778.1511302921 and parameters: {'n_estimators': 113, 'max_depth': 10}. Best is trial 28 with value: 651671.3204451383.\n",
            "[I 2024-02-09 12:03:41,771] Trial 96 finished with value: 670596.1528436128 and parameters: {'n_estimators': 128, 'max_depth': 9}. Best is trial 28 with value: 651671.3204451383.\n",
            "[I 2024-02-09 12:03:42,269] Trial 97 finished with value: 658685.5200800243 and parameters: {'n_estimators': 119, 'max_depth': 9}. Best is trial 28 with value: 651671.3204451383.\n",
            "[I 2024-02-09 12:03:42,728] Trial 98 finished with value: 673122.0326916958 and parameters: {'n_estimators': 103, 'max_depth': 10}. Best is trial 28 with value: 651671.3204451383.\n",
            "[I 2024-02-09 12:03:43,164] Trial 99 finished with value: 932799.4911952573 and parameters: {'n_estimators': 124, 'max_depth': 5}. Best is trial 28 with value: 651671.3204451383.\n"
          ]
        },
        {
          "output_type": "display_data",
          "data": {
            "text/html": [
              "<html>\n",
              "<head><meta charset=\"utf-8\" /></head>\n",
              "<body>\n",
              "    <div>            <script src=\"https://cdnjs.cloudflare.com/ajax/libs/mathjax/2.7.5/MathJax.js?config=TeX-AMS-MML_SVG\"></script><script type=\"text/javascript\">if (window.MathJax && window.MathJax.Hub && window.MathJax.Hub.Config) {window.MathJax.Hub.Config({SVG: {font: \"STIX-Web\"}});}</script>                <script type=\"text/javascript\">window.PlotlyConfig = {MathJaxConfig: 'local'};</script>\n",
              "        <script charset=\"utf-8\" src=\"https://cdn.plot.ly/plotly-2.24.1.min.js\"></script>                <div id=\"06bef1a1-64be-4d88-b209-ecfe04f8ed7a\" class=\"plotly-graph-div\" style=\"height:525px; width:100%;\"></div>            <script type=\"text/javascript\">                                    window.PLOTLYENV=window.PLOTLYENV || {};                                    if (document.getElementById(\"06bef1a1-64be-4d88-b209-ecfe04f8ed7a\")) {                    Plotly.newPlot(                        \"06bef1a1-64be-4d88-b209-ecfe04f8ed7a\",                        [{\"mode\":\"markers\",\"name\":\"Objective Value\",\"x\":[0,1,2,3,4,5,6,7,8,9,10,11,12,13,14,15,16,17,18,19,20,21,22,23,24,25,26,27,28,29,30,31,32,33,34,35,36,37,38,39,40,41,42,43,44,45,46,47,48,49,50,51,52,53,54,55,56,57,58,59,60,61,62,63,64,65,66,67,68,69,70,71,72,73,74,75,76,77,78,79,80,81,82,83,84,85,86,87,88,89,90,91,92,93,94,95,96,97,98,99],\"y\":[935616.6062918743,706656.0612734959,653915.8686557718,678637.2302468478,678556.2210748278,798477.5207085941,679463.7101096696,678564.3794877065,1748861.0913589185,811906.5299327282,3043919.296682424,672791.3194451291,663967.7523514696,663967.7523514696,1094322.5762582214,655445.1967490796,669637.3809822325,3045441.5557605578,669089.1034223592,701784.4456635283,1722967.5781538994,669598.2507522277,657223.1146279791,662131.1322511777,658453.1204365802,703180.8442954096,676049.9233289089,671469.9093301784,651671.3204451383,931885.1573475079,667711.5300311439,653915.8686557718,659073.5095896343,682760.1569552354,660736.4822742053,676594.0519792229,661174.5770313842,699417.3189451012,660184.072923285,676314.8666204027,660519.0394757647,661778.1511302921,661778.1511302921,659004.8375009153,674691.5526743555,686595.2597155389,2195777.5235201293,800540.4760898852,677307.3153905045,652330.2556303787,667403.0311216214,666808.7584246456,652330.2556303787,652330.2556303787,671960.2535600163,660736.4822742053,1096690.3855943794,655080.7887895425,671652.1457230748,653395.7128793508,669089.1034223592,653395.7128793508,657501.2135323605,675478.403418464,653395.7128793508,656847.2716107934,652337.3270711212,664156.5560285244,662354.1387277131,661979.4197620064,660150.2348768786,673461.1014940095,666534.2415283585,655445.1967490796,653915.8686557718,670393.6489114271,663508.5379141197,655667.9977745471,672188.5262644383,682594.7526023263,672533.919152789,656847.2716107934,651671.3204451383,658453.1204365802,658685.5200800243,657501.2135323605,672140.1670952215,653463.9468139922,658914.1676740776,654355.8622357402,662131.1322511777,653463.9468139922,655445.1967490796,653915.8686557718,1088193.0411051072,661778.1511302921,670596.1528436128,658685.5200800243,673122.0326916958,932799.4911952573],\"type\":\"scatter\"},{\"mode\":\"lines\",\"name\":\"Best Value\",\"x\":[0,1,2,3,4,5,6,7,8,9,10,11,12,13,14,15,16,17,18,19,20,21,22,23,24,25,26,27,28,29,30,31,32,33,34,35,36,37,38,39,40,41,42,43,44,45,46,47,48,49,50,51,52,53,54,55,56,57,58,59,60,61,62,63,64,65,66,67,68,69,70,71,72,73,74,75,76,77,78,79,80,81,82,83,84,85,86,87,88,89,90,91,92,93,94,95,96,97,98,99],\"y\":[935616.6062918743,706656.0612734959,653915.8686557718,653915.8686557718,653915.8686557718,653915.8686557718,653915.8686557718,653915.8686557718,653915.8686557718,653915.8686557718,653915.8686557718,653915.8686557718,653915.8686557718,653915.8686557718,653915.8686557718,653915.8686557718,653915.8686557718,653915.8686557718,653915.8686557718,653915.8686557718,653915.8686557718,653915.8686557718,653915.8686557718,653915.8686557718,653915.8686557718,653915.8686557718,653915.8686557718,653915.8686557718,651671.3204451383,651671.3204451383,651671.3204451383,651671.3204451383,651671.3204451383,651671.3204451383,651671.3204451383,651671.3204451383,651671.3204451383,651671.3204451383,651671.3204451383,651671.3204451383,651671.3204451383,651671.3204451383,651671.3204451383,651671.3204451383,651671.3204451383,651671.3204451383,651671.3204451383,651671.3204451383,651671.3204451383,651671.3204451383,651671.3204451383,651671.3204451383,651671.3204451383,651671.3204451383,651671.3204451383,651671.3204451383,651671.3204451383,651671.3204451383,651671.3204451383,651671.3204451383,651671.3204451383,651671.3204451383,651671.3204451383,651671.3204451383,651671.3204451383,651671.3204451383,651671.3204451383,651671.3204451383,651671.3204451383,651671.3204451383,651671.3204451383,651671.3204451383,651671.3204451383,651671.3204451383,651671.3204451383,651671.3204451383,651671.3204451383,651671.3204451383,651671.3204451383,651671.3204451383,651671.3204451383,651671.3204451383,651671.3204451383,651671.3204451383,651671.3204451383,651671.3204451383,651671.3204451383,651671.3204451383,651671.3204451383,651671.3204451383,651671.3204451383,651671.3204451383,651671.3204451383,651671.3204451383,651671.3204451383,651671.3204451383,651671.3204451383,651671.3204451383,651671.3204451383,651671.3204451383],\"type\":\"scatter\"},{\"marker\":{\"color\":\"#cccccc\"},\"mode\":\"markers\",\"name\":\"Infeasible Trial\",\"showlegend\":false,\"x\":[],\"y\":[],\"type\":\"scatter\"}],                        {\"title\":{\"text\":\"Optimization History Plot\"},\"xaxis\":{\"title\":{\"text\":\"Trial\"}},\"yaxis\":{\"title\":{\"text\":\"Objective Value\"}},\"template\":{\"data\":{\"histogram2dcontour\":[{\"type\":\"histogram2dcontour\",\"colorbar\":{\"outlinewidth\":0,\"ticks\":\"\"},\"colorscale\":[[0.0,\"#0d0887\"],[0.1111111111111111,\"#46039f\"],[0.2222222222222222,\"#7201a8\"],[0.3333333333333333,\"#9c179e\"],[0.4444444444444444,\"#bd3786\"],[0.5555555555555556,\"#d8576b\"],[0.6666666666666666,\"#ed7953\"],[0.7777777777777778,\"#fb9f3a\"],[0.8888888888888888,\"#fdca26\"],[1.0,\"#f0f921\"]]}],\"choropleth\":[{\"type\":\"choropleth\",\"colorbar\":{\"outlinewidth\":0,\"ticks\":\"\"}}],\"histogram2d\":[{\"type\":\"histogram2d\",\"colorbar\":{\"outlinewidth\":0,\"ticks\":\"\"},\"colorscale\":[[0.0,\"#0d0887\"],[0.1111111111111111,\"#46039f\"],[0.2222222222222222,\"#7201a8\"],[0.3333333333333333,\"#9c179e\"],[0.4444444444444444,\"#bd3786\"],[0.5555555555555556,\"#d8576b\"],[0.6666666666666666,\"#ed7953\"],[0.7777777777777778,\"#fb9f3a\"],[0.8888888888888888,\"#fdca26\"],[1.0,\"#f0f921\"]]}],\"heatmap\":[{\"type\":\"heatmap\",\"colorbar\":{\"outlinewidth\":0,\"ticks\":\"\"},\"colorscale\":[[0.0,\"#0d0887\"],[0.1111111111111111,\"#46039f\"],[0.2222222222222222,\"#7201a8\"],[0.3333333333333333,\"#9c179e\"],[0.4444444444444444,\"#bd3786\"],[0.5555555555555556,\"#d8576b\"],[0.6666666666666666,\"#ed7953\"],[0.7777777777777778,\"#fb9f3a\"],[0.8888888888888888,\"#fdca26\"],[1.0,\"#f0f921\"]]}],\"heatmapgl\":[{\"type\":\"heatmapgl\",\"colorbar\":{\"outlinewidth\":0,\"ticks\":\"\"},\"colorscale\":[[0.0,\"#0d0887\"],[0.1111111111111111,\"#46039f\"],[0.2222222222222222,\"#7201a8\"],[0.3333333333333333,\"#9c179e\"],[0.4444444444444444,\"#bd3786\"],[0.5555555555555556,\"#d8576b\"],[0.6666666666666666,\"#ed7953\"],[0.7777777777777778,\"#fb9f3a\"],[0.8888888888888888,\"#fdca26\"],[1.0,\"#f0f921\"]]}],\"contourcarpet\":[{\"type\":\"contourcarpet\",\"colorbar\":{\"outlinewidth\":0,\"ticks\":\"\"}}],\"contour\":[{\"type\":\"contour\",\"colorbar\":{\"outlinewidth\":0,\"ticks\":\"\"},\"colorscale\":[[0.0,\"#0d0887\"],[0.1111111111111111,\"#46039f\"],[0.2222222222222222,\"#7201a8\"],[0.3333333333333333,\"#9c179e\"],[0.4444444444444444,\"#bd3786\"],[0.5555555555555556,\"#d8576b\"],[0.6666666666666666,\"#ed7953\"],[0.7777777777777778,\"#fb9f3a\"],[0.8888888888888888,\"#fdca26\"],[1.0,\"#f0f921\"]]}],\"surface\":[{\"type\":\"surface\",\"colorbar\":{\"outlinewidth\":0,\"ticks\":\"\"},\"colorscale\":[[0.0,\"#0d0887\"],[0.1111111111111111,\"#46039f\"],[0.2222222222222222,\"#7201a8\"],[0.3333333333333333,\"#9c179e\"],[0.4444444444444444,\"#bd3786\"],[0.5555555555555556,\"#d8576b\"],[0.6666666666666666,\"#ed7953\"],[0.7777777777777778,\"#fb9f3a\"],[0.8888888888888888,\"#fdca26\"],[1.0,\"#f0f921\"]]}],\"mesh3d\":[{\"type\":\"mesh3d\",\"colorbar\":{\"outlinewidth\":0,\"ticks\":\"\"}}],\"scatter\":[{\"fillpattern\":{\"fillmode\":\"overlay\",\"size\":10,\"solidity\":0.2},\"type\":\"scatter\"}],\"parcoords\":[{\"type\":\"parcoords\",\"line\":{\"colorbar\":{\"outlinewidth\":0,\"ticks\":\"\"}}}],\"scatterpolargl\":[{\"type\":\"scatterpolargl\",\"marker\":{\"colorbar\":{\"outlinewidth\":0,\"ticks\":\"\"}}}],\"bar\":[{\"error_x\":{\"color\":\"#2a3f5f\"},\"error_y\":{\"color\":\"#2a3f5f\"},\"marker\":{\"line\":{\"color\":\"#E5ECF6\",\"width\":0.5},\"pattern\":{\"fillmode\":\"overlay\",\"size\":10,\"solidity\":0.2}},\"type\":\"bar\"}],\"scattergeo\":[{\"type\":\"scattergeo\",\"marker\":{\"colorbar\":{\"outlinewidth\":0,\"ticks\":\"\"}}}],\"scatterpolar\":[{\"type\":\"scatterpolar\",\"marker\":{\"colorbar\":{\"outlinewidth\":0,\"ticks\":\"\"}}}],\"histogram\":[{\"marker\":{\"pattern\":{\"fillmode\":\"overlay\",\"size\":10,\"solidity\":0.2}},\"type\":\"histogram\"}],\"scattergl\":[{\"type\":\"scattergl\",\"marker\":{\"colorbar\":{\"outlinewidth\":0,\"ticks\":\"\"}}}],\"scatter3d\":[{\"type\":\"scatter3d\",\"line\":{\"colorbar\":{\"outlinewidth\":0,\"ticks\":\"\"}},\"marker\":{\"colorbar\":{\"outlinewidth\":0,\"ticks\":\"\"}}}],\"scattermapbox\":[{\"type\":\"scattermapbox\",\"marker\":{\"colorbar\":{\"outlinewidth\":0,\"ticks\":\"\"}}}],\"scatterternary\":[{\"type\":\"scatterternary\",\"marker\":{\"colorbar\":{\"outlinewidth\":0,\"ticks\":\"\"}}}],\"scattercarpet\":[{\"type\":\"scattercarpet\",\"marker\":{\"colorbar\":{\"outlinewidth\":0,\"ticks\":\"\"}}}],\"carpet\":[{\"aaxis\":{\"endlinecolor\":\"#2a3f5f\",\"gridcolor\":\"white\",\"linecolor\":\"white\",\"minorgridcolor\":\"white\",\"startlinecolor\":\"#2a3f5f\"},\"baxis\":{\"endlinecolor\":\"#2a3f5f\",\"gridcolor\":\"white\",\"linecolor\":\"white\",\"minorgridcolor\":\"white\",\"startlinecolor\":\"#2a3f5f\"},\"type\":\"carpet\"}],\"table\":[{\"cells\":{\"fill\":{\"color\":\"#EBF0F8\"},\"line\":{\"color\":\"white\"}},\"header\":{\"fill\":{\"color\":\"#C8D4E3\"},\"line\":{\"color\":\"white\"}},\"type\":\"table\"}],\"barpolar\":[{\"marker\":{\"line\":{\"color\":\"#E5ECF6\",\"width\":0.5},\"pattern\":{\"fillmode\":\"overlay\",\"size\":10,\"solidity\":0.2}},\"type\":\"barpolar\"}],\"pie\":[{\"automargin\":true,\"type\":\"pie\"}]},\"layout\":{\"autotypenumbers\":\"strict\",\"colorway\":[\"#636efa\",\"#EF553B\",\"#00cc96\",\"#ab63fa\",\"#FFA15A\",\"#19d3f3\",\"#FF6692\",\"#B6E880\",\"#FF97FF\",\"#FECB52\"],\"font\":{\"color\":\"#2a3f5f\"},\"hovermode\":\"closest\",\"hoverlabel\":{\"align\":\"left\"},\"paper_bgcolor\":\"white\",\"plot_bgcolor\":\"#E5ECF6\",\"polar\":{\"bgcolor\":\"#E5ECF6\",\"angularaxis\":{\"gridcolor\":\"white\",\"linecolor\":\"white\",\"ticks\":\"\"},\"radialaxis\":{\"gridcolor\":\"white\",\"linecolor\":\"white\",\"ticks\":\"\"}},\"ternary\":{\"bgcolor\":\"#E5ECF6\",\"aaxis\":{\"gridcolor\":\"white\",\"linecolor\":\"white\",\"ticks\":\"\"},\"baxis\":{\"gridcolor\":\"white\",\"linecolor\":\"white\",\"ticks\":\"\"},\"caxis\":{\"gridcolor\":\"white\",\"linecolor\":\"white\",\"ticks\":\"\"}},\"coloraxis\":{\"colorbar\":{\"outlinewidth\":0,\"ticks\":\"\"}},\"colorscale\":{\"sequential\":[[0.0,\"#0d0887\"],[0.1111111111111111,\"#46039f\"],[0.2222222222222222,\"#7201a8\"],[0.3333333333333333,\"#9c179e\"],[0.4444444444444444,\"#bd3786\"],[0.5555555555555556,\"#d8576b\"],[0.6666666666666666,\"#ed7953\"],[0.7777777777777778,\"#fb9f3a\"],[0.8888888888888888,\"#fdca26\"],[1.0,\"#f0f921\"]],\"sequentialminus\":[[0.0,\"#0d0887\"],[0.1111111111111111,\"#46039f\"],[0.2222222222222222,\"#7201a8\"],[0.3333333333333333,\"#9c179e\"],[0.4444444444444444,\"#bd3786\"],[0.5555555555555556,\"#d8576b\"],[0.6666666666666666,\"#ed7953\"],[0.7777777777777778,\"#fb9f3a\"],[0.8888888888888888,\"#fdca26\"],[1.0,\"#f0f921\"]],\"diverging\":[[0,\"#8e0152\"],[0.1,\"#c51b7d\"],[0.2,\"#de77ae\"],[0.3,\"#f1b6da\"],[0.4,\"#fde0ef\"],[0.5,\"#f7f7f7\"],[0.6,\"#e6f5d0\"],[0.7,\"#b8e186\"],[0.8,\"#7fbc41\"],[0.9,\"#4d9221\"],[1,\"#276419\"]]},\"xaxis\":{\"gridcolor\":\"white\",\"linecolor\":\"white\",\"ticks\":\"\",\"title\":{\"standoff\":15},\"zerolinecolor\":\"white\",\"automargin\":true,\"zerolinewidth\":2},\"yaxis\":{\"gridcolor\":\"white\",\"linecolor\":\"white\",\"ticks\":\"\",\"title\":{\"standoff\":15},\"zerolinecolor\":\"white\",\"automargin\":true,\"zerolinewidth\":2},\"scene\":{\"xaxis\":{\"backgroundcolor\":\"#E5ECF6\",\"gridcolor\":\"white\",\"linecolor\":\"white\",\"showbackground\":true,\"ticks\":\"\",\"zerolinecolor\":\"white\",\"gridwidth\":2},\"yaxis\":{\"backgroundcolor\":\"#E5ECF6\",\"gridcolor\":\"white\",\"linecolor\":\"white\",\"showbackground\":true,\"ticks\":\"\",\"zerolinecolor\":\"white\",\"gridwidth\":2},\"zaxis\":{\"backgroundcolor\":\"#E5ECF6\",\"gridcolor\":\"white\",\"linecolor\":\"white\",\"showbackground\":true,\"ticks\":\"\",\"zerolinecolor\":\"white\",\"gridwidth\":2}},\"shapedefaults\":{\"line\":{\"color\":\"#2a3f5f\"}},\"annotationdefaults\":{\"arrowcolor\":\"#2a3f5f\",\"arrowhead\":0,\"arrowwidth\":1},\"geo\":{\"bgcolor\":\"white\",\"landcolor\":\"#E5ECF6\",\"subunitcolor\":\"white\",\"showland\":true,\"showlakes\":true,\"lakecolor\":\"white\"},\"title\":{\"x\":0.05},\"mapbox\":{\"style\":\"light\"}}}},                        {\"responsive\": true}                    ).then(function(){\n",
              "                            \n",
              "var gd = document.getElementById('06bef1a1-64be-4d88-b209-ecfe04f8ed7a');\n",
              "var x = new MutationObserver(function (mutations, observer) {{\n",
              "        var display = window.getComputedStyle(gd).display;\n",
              "        if (!display || display === 'none') {{\n",
              "            console.log([gd, 'removed!']);\n",
              "            Plotly.purge(gd);\n",
              "            observer.disconnect();\n",
              "        }}\n",
              "}});\n",
              "\n",
              "// Listen for the removal of the full notebook cells\n",
              "var notebookContainer = gd.closest('#notebook-container');\n",
              "if (notebookContainer) {{\n",
              "    x.observe(notebookContainer, {childList: true});\n",
              "}}\n",
              "\n",
              "// Listen for the clearing of the current output cell\n",
              "var outputEl = gd.closest('.output');\n",
              "if (outputEl) {{\n",
              "    x.observe(outputEl, {childList: true});\n",
              "}}\n",
              "\n",
              "                        })                };                            </script>        </div>\n",
              "</body>\n",
              "</html>"
            ]
          },
          "metadata": {}
        }
      ]
    },
    {
      "cell_type": "code",
      "source": [
        "def detailed_objective(trial):\n",
        "  parametere = {\n",
        "      'n_estimators': trial.suggest_int('n_estimators', 100, 200),\n",
        "      'max_depth': trial.suggest_int('max_depth', 1, 10)\n",
        "  }\n",
        "  rf_pipeline = Pipeline([\n",
        "      ('skalerer', StandardScaler()),\n",
        "      ('modell', RandomForestRegressor(**parametere, random_state=random_seed))\n",
        "  ])\n",
        "\n",
        "  rf_pipeline.fit(X_trening, y_trening)\n",
        "  y_test_prediksjon = rf_pipeline.predict(X_test)\n",
        "  y_trening_prediksjon = rf_pipeline.predict(X_trening)\n",
        "\n",
        "  mse_test = mean_squared_error(y_test, y_test_prediksjon)\n",
        "  r2_test = r2_score(y_test, y_test_prediksjon)\n",
        "\n",
        "  mse_trening = mean_squared_error(y_trening, y_trening_prediksjon)\n",
        "  r2_trening = r2_score(y_trening, y_trening_prediksjon)\n",
        "\n",
        "  return mse_test, r2_test, mse_trening, r2_trening\n",
        "\n",
        "mse_test_resultat = detailed_objective(study.best_trial)[0]\n",
        "r2_test_resultat = detailed_objective(study.best_trial)[1]\n",
        "mse_trening_resultat = detailed_objective(study.best_trial)[2]\n",
        "r2_trening_resultat = detailed_objective(study.best_trial)[3]\n",
        "\n",
        "print(\"Beste hyperparametere for RandomForestRegressor: {}\".format(study.best_params))\n",
        "print(\"Test: MSE: {}, og R^2: {}\".format(mse_test_resultat, r2_test_resultat))\n",
        "print(\"Trening: MSE: {}, og R^2: {}\".format(mse_trening_resultat, r2_trening_resultat))"
      ],
      "metadata": {
        "colab": {
          "base_uri": "https://localhost:8080/"
        },
        "id": "Dbf_K1eubwGa",
        "outputId": "f2650fe1-12a3-4f34-daa6-838854137c8e"
      },
      "execution_count": null,
      "outputs": [
        {
          "output_type": "stream",
          "name": "stdout",
          "text": [
            "Beste hyperparametere for RandomForestRegressor: {'n_estimators': 119, 'max_depth': 10}\n",
            "Test: MSE: 651671.3204451383, og R^2: 0.884334381586855\n",
            "Trening: MSE: 90005.84287004697, og R^2: 0.9843802230176789\n"
          ]
        }
      ]
    }
  ]
}