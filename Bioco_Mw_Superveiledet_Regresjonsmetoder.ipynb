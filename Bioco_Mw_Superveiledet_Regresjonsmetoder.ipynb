{
  "cells": [
    {
      "cell_type": "markdown",
      "metadata": {
        "id": "view-in-github",
        "colab_type": "text"
      },
      "source": [
        "<a href=\"https://colab.research.google.com/github/PreyPython123/Master-V24-Semiveiledet-Regresjon/blob/Mw-Pradeep/Bioco_Mw_Superveiledet_Regresjonsmetoder.ipynb\" target=\"_parent\"><img src=\"https://colab.research.google.com/assets/colab-badge.svg\" alt=\"Open In Colab\"/></a>"
      ]
    },
    {
      "cell_type": "markdown",
      "metadata": {
        "id": "uPtuGVtCJOFj"
      },
      "source": [
        "# Importering, lasting og formattering"
      ]
    },
    {
      "cell_type": "markdown",
      "metadata": {
        "id": "ZNeQrag9Rlc_"
      },
      "source": [
        "Lasting av nødvendige bibliotek og pakker"
      ]
    },
    {
      "cell_type": "code",
      "execution_count": 1,
      "metadata": {
        "colab": {
          "base_uri": "https://localhost:8080/"
        },
        "id": "k5u1dZmp6cJ9",
        "outputId": "2e9d5283-216f-4966-e6b6-a30b9ffee660"
      },
      "outputs": [
        {
          "output_type": "stream",
          "name": "stdout",
          "text": [
            "Collecting optuna\n",
            "  Downloading optuna-3.6.1-py3-none-any.whl (380 kB)\n",
            "\u001b[2K     \u001b[90m━━━━━━━━━━━━━━━━━━━━━━━━━━━━━━━━━━━━━━━━\u001b[0m \u001b[32m380.1/380.1 kB\u001b[0m \u001b[31m5.8 MB/s\u001b[0m eta \u001b[36m0:00:00\u001b[0m\n",
            "\u001b[?25hCollecting alembic>=1.5.0 (from optuna)\n",
            "  Downloading alembic-1.13.1-py3-none-any.whl (233 kB)\n",
            "\u001b[2K     \u001b[90m━━━━━━━━━━━━━━━━━━━━━━━━━━━━━━━━━━━━━━━━\u001b[0m \u001b[32m233.4/233.4 kB\u001b[0m \u001b[31m9.4 MB/s\u001b[0m eta \u001b[36m0:00:00\u001b[0m\n",
            "\u001b[?25hCollecting colorlog (from optuna)\n",
            "  Downloading colorlog-6.8.2-py3-none-any.whl (11 kB)\n",
            "Requirement already satisfied: numpy in /usr/local/lib/python3.10/dist-packages (from optuna) (1.25.2)\n",
            "Requirement already satisfied: packaging>=20.0 in /usr/local/lib/python3.10/dist-packages (from optuna) (24.0)\n",
            "Requirement already satisfied: sqlalchemy>=1.3.0 in /usr/local/lib/python3.10/dist-packages (from optuna) (2.0.29)\n",
            "Requirement already satisfied: tqdm in /usr/local/lib/python3.10/dist-packages (from optuna) (4.66.2)\n",
            "Requirement already satisfied: PyYAML in /usr/local/lib/python3.10/dist-packages (from optuna) (6.0.1)\n",
            "Collecting Mako (from alembic>=1.5.0->optuna)\n",
            "  Downloading Mako-1.3.3-py3-none-any.whl (78 kB)\n",
            "\u001b[2K     \u001b[90m━━━━━━━━━━━━━━━━━━━━━━━━━━━━━━━━━━━━━━━━\u001b[0m \u001b[32m78.8/78.8 kB\u001b[0m \u001b[31m8.7 MB/s\u001b[0m eta \u001b[36m0:00:00\u001b[0m\n",
            "\u001b[?25hRequirement already satisfied: typing-extensions>=4 in /usr/local/lib/python3.10/dist-packages (from alembic>=1.5.0->optuna) (4.11.0)\n",
            "Requirement already satisfied: greenlet!=0.4.17 in /usr/local/lib/python3.10/dist-packages (from sqlalchemy>=1.3.0->optuna) (3.0.3)\n",
            "Requirement already satisfied: MarkupSafe>=0.9.2 in /usr/local/lib/python3.10/dist-packages (from Mako->alembic>=1.5.0->optuna) (2.1.5)\n",
            "Installing collected packages: Mako, colorlog, alembic, optuna\n",
            "Successfully installed Mako-1.3.3 alembic-1.13.1 colorlog-6.8.2 optuna-3.6.1\n"
          ]
        }
      ],
      "source": [
        "!pip install optuna"
      ]
    },
    {
      "cell_type": "code",
      "execution_count": 2,
      "metadata": {
        "colab": {
          "base_uri": "https://localhost:8080/"
        },
        "id": "nwEzUjnf0xLZ",
        "outputId": "f979c27d-91ed-46d9-e007-da96123234d2"
      },
      "outputs": [
        {
          "output_type": "stream",
          "name": "stdout",
          "text": [
            "Mounted at /content/drive/\n"
          ]
        }
      ],
      "source": [
        "from google.colab import drive\n",
        "drive.mount('/content/drive/')"
      ]
    },
    {
      "cell_type": "markdown",
      "metadata": {
        "id": "jT-YzIdVRply"
      },
      "source": [
        "Importering av nødvendig bibliotek og pakker"
      ]
    },
    {
      "cell_type": "code",
      "execution_count": 3,
      "metadata": {
        "id": "5_s-eJyVk3v0"
      },
      "outputs": [],
      "source": [
        "import pandas as pd\n",
        "import numpy as np\n",
        "import copy\n",
        "import math\n",
        "from statistics import mean, stdev\n",
        "\n",
        "from sklearn.preprocessing import StandardScaler\n",
        "from sklearn.model_selection import RepeatedStratifiedKFold\n",
        "from sklearn.pipeline import Pipeline"
      ]
    },
    {
      "cell_type": "code",
      "source": [
        "# Modeller\n",
        "from sklearn.ensemble import RandomForestRegressor\n",
        "from sklearn.neighbors import KNeighborsRegressor\n",
        "from sklearn.svm import SVR"
      ],
      "metadata": {
        "id": "EH3SQKCIfwnC"
      },
      "execution_count": 4,
      "outputs": []
    },
    {
      "cell_type": "code",
      "execution_count": 5,
      "metadata": {
        "id": "GrgCsoZhmayI"
      },
      "outputs": [],
      "source": [
        "# Hyperoptimalisering\n",
        "import optuna\n",
        "from optuna.visualization import plot_optimization_history\n",
        "\n",
        "# Utelukker utskriving av logg for hyperoptimalisering\n",
        "# optuna.logging.set_verbosity(optuna.logging.WARNING)"
      ]
    },
    {
      "cell_type": "markdown",
      "metadata": {
        "id": "qhRMrFFHlZuX"
      },
      "source": [
        "# Egendefinerte moduler"
      ]
    },
    {
      "cell_type": "code",
      "execution_count": 6,
      "metadata": {
        "colab": {
          "base_uri": "https://localhost:8080/"
        },
        "id": "FXgxrml5lg5B",
        "outputId": "18777d0c-2d89-4390-dc5b-235c2d8d6444"
      },
      "outputs": [
        {
          "output_type": "stream",
          "name": "stdout",
          "text": [
            "/content\n"
          ]
        }
      ],
      "source": [
        "!pwd\n",
        "! cp /content/drive/MyDrive/MasterV24/GitHub/oppdeling_trening_testsett.py /content/oppdeling_trening_testsett.py"
      ]
    },
    {
      "cell_type": "code",
      "execution_count": 7,
      "metadata": {
        "id": "tvOTDwKLf0q8"
      },
      "outputs": [],
      "source": [
        "from oppdeling_trening_testsett import trening_testsett_oppdeling_enzym\n",
        "from oppdeling_trening_testsett import trening_testsett_oppdeling_dag\n",
        "from oppdeling_trening_testsett import trening_validering_oppdeling_dag\n",
        "\n",
        "\n",
        "from oppdeling_trening_testsett import enzymfordeling"
      ]
    },
    {
      "cell_type": "code",
      "execution_count": 8,
      "metadata": {
        "colab": {
          "base_uri": "https://localhost:8080/"
        },
        "id": "JTs_zHhkiBpK",
        "outputId": "9cf24a12-d9b9-4ff5-f812-66103ee3a556"
      },
      "outputs": [
        {
          "output_type": "stream",
          "name": "stdout",
          "text": [
            "/content\n"
          ]
        }
      ],
      "source": [
        "!pwd\n",
        "! cp /content/drive/MyDrive/MasterV24/GitHub/moduler_optimalisering_evaluering_veiledet.py /content/moduler_optimalisering_evaluering_veiledet.py"
      ]
    },
    {
      "cell_type": "code",
      "execution_count": 9,
      "metadata": {
        "id": "A5GEVrXsiYd-"
      },
      "outputs": [],
      "source": [
        "from moduler_optimalisering_evaluering_veiledet import trening_rfr_enzym\n",
        "from moduler_optimalisering_evaluering_veiledet import trening_knr_enzym\n",
        "from moduler_optimalisering_evaluering_veiledet import trening_svr_enzym\n",
        "\n",
        "from moduler_optimalisering_evaluering_veiledet import trening_rfr_dag\n",
        "from moduler_optimalisering_evaluering_veiledet import trening_knr_dag\n",
        "from moduler_optimalisering_evaluering_veiledet import trening_svr_dag\n",
        "\n",
        "from moduler_optimalisering_evaluering_veiledet import veiledet_modell_evaluering_1\n",
        "from moduler_optimalisering_evaluering_veiledet import veiledet_modell_evaluering_2"
      ]
    },
    {
      "cell_type": "markdown",
      "metadata": {
        "id": "21cdLIoaSTR6"
      },
      "source": [
        "# Importering av relevant data"
      ]
    },
    {
      "cell_type": "code",
      "execution_count": 13,
      "metadata": {
        "id": "XeNQyDPZSTwY"
      },
      "outputs": [],
      "source": [
        "# Velger første kolonne med dato og tid som index\n",
        "data = pd.read_csv('/content/drive/MyDrive/MasterV24/Bioco_data/mw_data.csv',\n",
        "                            header=0,\n",
        "                            sep=',',\n",
        "                            index_col=0)\n",
        "\n",
        "# Normal produksjon\n",
        "data_normal = pd.read_csv('/content/drive/MyDrive/MasterV24/Bioco_data/mw_data_normal.csv',\n",
        "                                   header=0,\n",
        "                                   sep=',',\n",
        "                                   index_col=0)\n",
        "\n",
        "# Design produksjon\n",
        "data_design = pd.read_csv('/content/drive/MyDrive/MasterV24/Bioco_data/mw_data_design.csv',\n",
        "                                   header=0,\n",
        "                                   sep=',',\n",
        "                                   index_col=0)\n",
        "\n",
        "# Importerer rådata\n",
        "rå_data = pd.read_csv('/content/drive/MyDrive/MasterV24/BiocoData.csv',\n",
        "                      header=0,\n",
        "                      sep=';',\n",
        "                      index_col=0)\n",
        "\n",
        "# Formatterer index til riktig format og datatype\n",
        "data.index = pd.to_datetime(data.index,\n",
        "                            format='%Y-%m-%d %H:%M:%S')\n",
        "\n",
        "data_normal.index = pd.to_datetime(data_normal.index,\n",
        "                                   format='%Y-%m-%d %H:%M:%S')\n",
        "\n",
        "data_design.index = pd.to_datetime(data_design.index,\n",
        "                                   format='%Y-%m-%d %H:%M:%S')\n",
        "\n",
        "rå_data.index = pd.to_datetime(rå_data.index,\n",
        "                               format='%d-%m-%Y %H:%M:%S.%f')"
      ]
    },
    {
      "cell_type": "markdown",
      "metadata": {
        "id": "7Wl0nay5j2C4"
      },
      "source": [
        "Tilfeldighetsfrø"
      ]
    },
    {
      "cell_type": "code",
      "execution_count": 14,
      "metadata": {
        "id": "OxTGpIOmj4V7"
      },
      "outputs": [],
      "source": [
        "#Tilfeldighetsfrø\n",
        "random_seed = 123"
      ]
    },
    {
      "cell_type": "markdown",
      "metadata": {
        "id": "hPfDrou1pR0w"
      },
      "source": [
        "# Beskrivelse av datasett"
      ]
    },
    {
      "cell_type": "code",
      "execution_count": 15,
      "metadata": {
        "colab": {
          "base_uri": "https://localhost:8080/"
        },
        "id": "HsvZWJ7apQpL",
        "outputId": "90af8a06-d5f6-4a84-aea0-1242013c91de"
      },
      "outputs": [
        {
          "output_type": "stream",
          "name": "stdout",
          "text": [
            "<class 'pandas.core.frame.DataFrame'>\n",
            "DatetimeIndex: 28976 entries, 2022-10-31 17:37:00 to 2023-06-14 01:02:00\n",
            "Data columns (total 14 columns):\n",
            " #   Column         Non-Null Count  Dtype  \n",
            "---  ------         --------------  -----  \n",
            " 0   EnzymeType_A1  28976 non-null  int64  \n",
            " 1   EnzymeType_A2  28976 non-null  int64  \n",
            " 2   EnzymeType_B   28976 non-null  int64  \n",
            " 3   EnzymeType_C   28976 non-null  int64  \n",
            " 4   EnzymeType_D   28976 non-null  int64  \n",
            " 5   EnzymeType_E   28976 non-null  int64  \n",
            " 6   RawMatPercent  28976 non-null  float64\n",
            " 7   NIRfat         28976 non-null  float64\n",
            " 8   NIRash         28976 non-null  float64\n",
            " 9   NIRwater       28976 non-null  float64\n",
            " 10  TT08           28976 non-null  float64\n",
            " 11  TT20           28976 non-null  float64\n",
            " 12  TT12           28976 non-null  float64\n",
            " 13  Mw             455 non-null    float64\n",
            "dtypes: float64(8), int64(6)\n",
            "memory usage: 3.3 MB\n"
          ]
        }
      ],
      "source": [
        "data.info()"
      ]
    },
    {
      "cell_type": "code",
      "execution_count": 16,
      "metadata": {
        "colab": {
          "base_uri": "https://localhost:8080/"
        },
        "id": "PgpYbIMYghZf",
        "outputId": "b1795aa7-4a1f-4b4b-e554-f2a7e6c43cec"
      },
      "outputs": [
        {
          "output_type": "stream",
          "name": "stdout",
          "text": [
            "<class 'pandas.core.frame.DataFrame'>\n",
            "DatetimeIndex: 10466 entries, 2022-10-31 17:37:00 to 2023-06-13 23:59:00\n",
            "Data columns (total 14 columns):\n",
            " #   Column         Non-Null Count  Dtype  \n",
            "---  ------         --------------  -----  \n",
            " 0   EnzymeType_A1  10466 non-null  int64  \n",
            " 1   EnzymeType_A2  10466 non-null  int64  \n",
            " 2   EnzymeType_B   10466 non-null  int64  \n",
            " 3   EnzymeType_C   10466 non-null  int64  \n",
            " 4   EnzymeType_D   10466 non-null  int64  \n",
            " 5   EnzymeType_E   10466 non-null  int64  \n",
            " 6   RawMatPercent  10466 non-null  float64\n",
            " 7   NIRfat         10466 non-null  float64\n",
            " 8   NIRash         10466 non-null  float64\n",
            " 9   NIRwater       10466 non-null  float64\n",
            " 10  TT08           10466 non-null  float64\n",
            " 11  TT20           10466 non-null  float64\n",
            " 12  TT12           10466 non-null  float64\n",
            " 13  Mw             332 non-null    float64\n",
            "dtypes: float64(8), int64(6)\n",
            "memory usage: 1.2 MB\n"
          ]
        }
      ],
      "source": [
        "data_design.info()"
      ]
    },
    {
      "cell_type": "markdown",
      "metadata": {
        "id": "i_1rn21ITRJ4"
      },
      "source": [
        "# Lagring av resultater"
      ]
    },
    {
      "cell_type": "code",
      "execution_count": 18,
      "metadata": {
        "id": "EGIgRqWETUTx"
      },
      "outputs": [],
      "source": [
        "# Kolonner til dataframe for lagring av resultater fra opmtimalisering, trening\n",
        "# validering og testing\n",
        "\n",
        "dict_res_1_hel_test = {\"modell\": [],\n",
        "                       \"test_andel\": [],\n",
        "                       \"trening_andel\": [],\n",
        "                       \"trening_markert_antall\": [],\n",
        "                       \"tid_trening\": [],\n",
        "                       \"parametere\": [],\n",
        "                       \"RMSE_test\": [],\n",
        "                       \"R2_test\":[],\n",
        "                       \"MAE_test\":[],\n",
        "                       \"MAPE_test\":[],\n",
        "                       \"n_runder\": [],\n",
        "                       \"n_splitt\": [],\n",
        "                       \"tid_optimalisering\": []}\n",
        "\n",
        "dict_res_1_design_test = copy.deepcopy(dict_res_1_hel_test)\n",
        "dict_res_2_hel_test = copy.deepcopy(dict_res_1_hel_test)\n",
        "dict_res_2_design_test = copy.deepcopy(dict_res_1_hel_test)\n",
        "\n",
        "# Uten NIR\n",
        "dict_res_1_hel_test_NIR = copy.deepcopy(dict_res_1_hel_test)\n",
        "dict_res_1_design_test_NIR = copy.deepcopy(dict_res_1_hel_test)\n",
        "dict_res_2_hel_test_NIR = copy.deepcopy(dict_res_1_hel_test)\n",
        "dict_res_2_design_test_NIR = copy.deepcopy(dict_res_1_hel_test)\n",
        "\n",
        "\n",
        "dict_res_1_hel_trening = {\"modell\": [],\n",
        "                          \"test_andel\": [],\n",
        "                          \"trening_andel\": [],\n",
        "                          \"parametere\": [],\n",
        "                          \"n_splitt\": [],\n",
        "                          \"RMSE_val_snitt\": [],\n",
        "                          \"RMSE_val_std\": [],\n",
        "                          \"R2_val_snitt\":[],\n",
        "                          \"R2_val_std\":[],\n",
        "                          \"MAE_val_snitt\":[],\n",
        "                          \"MAE_val_std\":[],\n",
        "                          \"MAPE_val_snitt\":[],\n",
        "                          \"MAPE_val_std\":[],\n",
        "                          \"RMSE_trening_snitt\": [],\n",
        "                          \"RMSE_trening_std\": [],\n",
        "                          \"R2_trening_snitt\":[],\n",
        "                          \"R2_trening_std\":[],\n",
        "                          \"MAE_trening_snitt\":[],\n",
        "                          \"MAE_trening_std\":[],\n",
        "                          \"MAPE_trening_snitt\":[],\n",
        "                          \"MAPE_trening_std\":[],\n",
        "                          }\n",
        "\n",
        "dict_res_1_design_trening = copy.deepcopy(dict_res_1_hel_trening)\n",
        "dict_res_2_hel_trening = copy.deepcopy(dict_res_1_hel_trening)\n",
        "dict_res_2_design_trening = copy.deepcopy(dict_res_1_hel_trening)\n",
        "\n",
        "# Uten NIR\n",
        "dict_res_1_hel_trening_NIR = copy.deepcopy(dict_res_1_hel_trening)\n",
        "dict_res_1_design_trening_NIR = copy.deepcopy(dict_res_1_hel_trening)\n",
        "dict_res_2_hel_trening_NIR = copy.deepcopy(dict_res_1_hel_trening)\n",
        "dict_res_2_design_trening_NIR = copy.deepcopy(dict_res_1_hel_trening)"
      ]
    },
    {
      "cell_type": "markdown",
      "metadata": {
        "id": "76aWdlTDXp9I"
      },
      "source": [
        "# NIR målinger inkludert"
      ]
    },
    {
      "cell_type": "markdown",
      "metadata": {
        "id": "wQpsJkKShL_9"
      },
      "source": [
        "## Hele datasett"
      ]
    },
    {
      "cell_type": "markdown",
      "source": [
        "## Alternativ 1: Hele treningssett"
      ],
      "metadata": {
        "id": "RAPTeouaQcXa"
      }
    },
    {
      "cell_type": "code",
      "source": [
        "# Setter fast testandel og treningsandel\n",
        "test_andel = 0.2\n",
        "trenings_andel = 1.0\n",
        "\n",
        "\n",
        "# Deler datasettet i trening og testsett\n",
        "trening_markert, enzymtyper_markert, testsett, enzymtyper_test, \\\n",
        "trening_umarkert, enzymtyper_umarkert, trening\\\n",
        "= trening_testsett_oppdeling_enzym(rå_data,\n",
        "                                   data,\n",
        "                                   test_andel=test_andel)\n",
        "\n",
        "#Oversikt over fordelingen av enzymtyper i testsett\n",
        "print(\"Enzymtyper Fordeling: Test\")\n",
        "print(enzymfordeling(rå_data, testsett))"
      ],
      "metadata": {
        "id": "46il6J17QhFG"
      },
      "execution_count": null,
      "outputs": []
    },
    {
      "cell_type": "code",
      "source": [
        "# Antall runder til optimalisering\n",
        "n_runder = 100\n",
        "\n",
        "# Parametervalg for kryssvalidering\n",
        "splitt = 10\n",
        "gjentagelser = 10\n",
        "\n",
        "# Modelloptimalisering, trening og evaluering av RFR, KNR og SVR\n",
        "veiledet_modell_evaluering_1(test_dict_res=dict_res_1_hel_test,\n",
        "                             trening_dict_res=dict_res_1_hel_trening,\n",
        "                             treningssett_markert=trening_markert,\n",
        "                             enzymtyper_treningssett_markert=enzymtyper_markert,\n",
        "                             treningssett_umarkert=trening_umarkert,\n",
        "                             enzymtyper_treningssett_umarkert=enzymtyper_umarkert,\n",
        "                             treningssett=trening,\n",
        "                             testsett=testsett,\n",
        "                             splitt=splitt,\n",
        "                             gjentagelser=gjentagelser,\n",
        "                             n_runder=n_runder,\n",
        "                             test_andel=test_andel,\n",
        "                             trenings_andel=trenings_andel,\n",
        "                             random_seed=random_seed)"
      ],
      "metadata": {
        "id": "-1sgIF1zXb2O"
      },
      "execution_count": null,
      "outputs": []
    },
    {
      "cell_type": "markdown",
      "source": [
        "Velger beste modell"
      ],
      "metadata": {
        "id": "bwX1RP9pXiU_"
      }
    },
    {
      "cell_type": "code",
      "source": [],
      "metadata": {
        "id": "ioPAXcdFXkf7"
      },
      "execution_count": null,
      "outputs": []
    },
    {
      "cell_type": "markdown",
      "metadata": {
        "id": "lNTfChXaIZAf"
      },
      "source": [
        "## Alternativ 1: Forskjellige treningsandeler"
      ]
    },
    {
      "cell_type": "code",
      "execution_count": null,
      "metadata": {
        "colab": {
          "base_uri": "https://localhost:8080/"
        },
        "id": "jH1qpCxOIgAI",
        "outputId": "84c7cea1-6f91-4c43-e6e7-36b1d38a110e"
      },
      "outputs": [
        {
          "output_type": "stream",
          "name": "stdout",
          "text": [
            "Enzymtyper Fordeling: Test\n",
            "    Frekvens  Andel\n",
            "A2        31  34.07\n",
            "E         15  16.48\n",
            "B         14  15.38\n",
            "C         14  15.38\n",
            "D         13  14.29\n",
            "A1         4   4.40\n"
          ]
        }
      ],
      "source": [
        "# Antall runder til optimalisering\n",
        "n_runder = 50\n",
        "\n",
        "\n",
        "# Treningsandeler\n",
        "treningsandeler = [0.2, 0.4, 0.6, 0.8]\n",
        "\n",
        "# Går gjennom andeler av satt treningssett\n",
        "for trenings_andel in treningsandeler:\n",
        "\n",
        "  if trenings_andel < 1.0:\n",
        "\n",
        "      # Utelukker resterende andel fra trening av modell\n",
        "      ubenyttet_andel = (1.0-trenings_andel)\n",
        "\n",
        "      treningssett_markert, enzymtyper_treningssett_markert,\\\n",
        "      _, _, treningssett_umarkert, _, treningssett\\\n",
        "      = trening_testsett_oppdeling_enzym(rå_data,\n",
        "                                         trening,\n",
        "                                         test_andel=ubenyttet_andel,\n",
        "                                         random_seed=random_seed)\n",
        "\n",
        "  else:\n",
        "    treningssett_markert = trening_markert\n",
        "    enzymtyper_treningssett_markert = enzymtyper_markert\n",
        "    treningssett_umarkert = trening_umarkert\n",
        "    treningssett = trening\n",
        "\n",
        "  # Parameter til kryssvalidering\n",
        "  gjentagelser = 10\n",
        "\n",
        "  # Finner antall av enzymtype med minst antall\n",
        "  enzym_markert_info = enzymfordeling(rå_data, treningssett_markert)\n",
        "  enzymtype_min = enzym_markert_info['Frekvens'].min()\n",
        "\n",
        "  # Splitter etter minst antall hvis lavere enn 10. Ellers 10\n",
        "  splitt = 10 if enzymtype_min >= 10 else enzymtype_min\n",
        "\n",
        "  veiledet_modell_evaluering_1(test_dict_res=dict_res_1_hel_test,\n",
        "                              trening_dict_res=dict_res_1_hel_trening,\n",
        "                              treningssett_markert=treningssett_markert,\n",
        "                              enzymtyper_treningssett_markert=enzymtyper_treningssett_markert,\n",
        "                              treningssett_umarkert=treningssett_umarkert,\n",
        "                              enzymtyper_treningssett_umarkert=enzymtyper_umarkert,\n",
        "                              treningssett=treningssett,\n",
        "                              testsett=testsett,\n",
        "                              splitt=splitt,\n",
        "                              gjentagelser=gjentagelser,\n",
        "                              n_runder=n_runder,\n",
        "                              test_andel=test_andel,\n",
        "                              trenings_andel=trenings_andel,\n",
        "                              random_seed=random_seed)"
      ]
    },
    {
      "cell_type": "markdown",
      "source": [
        "## Alternativ 2: Hele treningssett"
      ],
      "metadata": {
        "id": "Vug3qjOcXxOJ"
      }
    },
    {
      "cell_type": "code",
      "source": [
        "# Definerer trenings- og testandel\n",
        "test_andel = 0.2\n",
        "trenings_andel = 1.0\n",
        "\n",
        "\n",
        "# Deler datasettet i trening og testsett\n",
        "trening_markert, testsett, trening_umarkert, trening\\\n",
        "= trening_testsett_oppdeling_dag(rå_data,\n",
        "                                 data,\n",
        "                                 test_andel=test_andel,\n",
        "                                 ekskluder_kalkun_kylling=True)\n",
        "\n",
        "#Oversikt over fordelingen av enzymtyper i testsett\n",
        "print(\"Enzymtyper Fordeling: Test\")\n",
        "print(enzymfordeling(rå_data, testsett))"
      ],
      "metadata": {
        "id": "JzADzCY1X0Zx"
      },
      "execution_count": null,
      "outputs": []
    },
    {
      "cell_type": "code",
      "source": [
        "# Parametervalg for kryssvalidering\n",
        "splitt = 10\n",
        "\n",
        "# Antall runder til optimalisering\n",
        "n_runder = 100\n",
        "\n",
        "# Modelloptimalisering, trening og evaluering av RFR, KNR og SVR\n",
        "veiledet_modell_evaluering_2(test_dict_res=dict_res_2_hel_test,\n",
        "                            trening_dict_res=dict_res_2_hel_trening,\n",
        "                            rå_data=rå_data,\n",
        "                            treningssett_markert=trening_markert,\n",
        "                            treningssett_umarkert=trening_umarkert,\n",
        "                            treningssett=trening,\n",
        "                            testsett=testsett,\n",
        "                            splitt=splitt,\n",
        "                            n_runder=n_runder,\n",
        "                            test_andel=test_andel,\n",
        "                            trenings_andel=trenings_andel,\n",
        "                            random_seed=random_seed)"
      ],
      "metadata": {
        "id": "-GW5AyE7X5Sh"
      },
      "execution_count": null,
      "outputs": []
    },
    {
      "cell_type": "markdown",
      "source": [
        "Velger beste modell"
      ],
      "metadata": {
        "id": "nEi8u82bX7Vg"
      }
    },
    {
      "cell_type": "code",
      "source": [],
      "metadata": {
        "id": "qOJEIwcyX9iw"
      },
      "execution_count": null,
      "outputs": []
    },
    {
      "cell_type": "markdown",
      "metadata": {
        "id": "8IO2r9GrkH4N"
      },
      "source": [
        "## Alternativ 2: Forskjellige treningssandeler"
      ]
    },
    {
      "cell_type": "code",
      "execution_count": null,
      "metadata": {
        "colab": {
          "base_uri": "https://localhost:8080/"
        },
        "id": "jV49bC6qkH4N",
        "outputId": "887d2392-1243-4e16-d683-262afa27023c"
      },
      "outputs": [
        {
          "output_type": "stream",
          "name": "stdout",
          "text": [
            "Enzymtyper Fordeling: Test\n",
            "    Frekvens  Andel\n",
            "A2        25  27.78\n",
            "B         16  17.78\n",
            "C         15  16.67\n",
            "E         15  16.67\n",
            "D         13  14.44\n",
            "A1         6   6.67\n"
          ]
        }
      ],
      "source": [
        "# Antall runder til optimalisering\n",
        "n_runder = 50\n",
        "\n",
        "# Treningsandeler\n",
        "trenings_andeler = [0.2, 0.4, 0.6, 0.8]\n",
        "\n",
        "# Går gjennom andeler av satt treningssett\n",
        "for trenings_andel in trenings_andeler:\n",
        "\n",
        "  if trenings_andel < 1.0:\n",
        "\n",
        "      # Utelukker resterende andel fra trening av modell\n",
        "      ubenyttet_andel = (1.0-trenings_andel)\n",
        "\n",
        "      treningssett_markert, _, treningssett_umarkert, treningssett\\\n",
        "      = trening_testsett_oppdeling_dag(rå_data,\n",
        "                                       trening,\n",
        "                                       test_andel=ubenyttet_andel,\n",
        "                                       ekskluder_kalkun_kylling=True)\n",
        "\n",
        "  else:\n",
        "    treningssett_markert = trening_markert\n",
        "    treningssett_umarkert = trening_umarkert\n",
        "    treningssett = trening\n",
        "\n",
        "  enzym_treningssett_markert = enzymfordeling(rå_data,\n",
        "                                              treningssett_markert)\n",
        "\n",
        "  print(\"Enzymtyper Fordeling: Treningssett markert andel:\", trenings_andel)\n",
        "  print(enzym_treningssett_markert)\n",
        "\n",
        "  # Finner antall av enzymtype med minst antall\n",
        "  enzymtype_min = enzym_treningssett_markert['Frekvens'].min()\n",
        "\n",
        "  # Splitter etter minst antall hvis lavere enn 10. Ellers 10\n",
        "  splitt = 10 if enzymtype_min >= 10 else enzymtype_min\n",
        "\n",
        "  veiledet_modell_evaluering_2(test_dict_res=dict_res_2_hel_test,\n",
        "                                trening_dict_res=dict_res_2_hel_trening,\n",
        "                                rå_data=rå_data,\n",
        "                                treningssett_markert=treningssett_markert,\n",
        "                                treningssett_umarkert=treningssett_umarkert,\n",
        "                                treningssett=treningssett,\n",
        "                                testsett=testsett,\n",
        "                                splitt=splitt,\n",
        "                                n_runder=n_runder,\n",
        "                                test_andel=test_andel,\n",
        "                                trenings_andel=trenings_andel,\n",
        "                                random_seed=random_seed)"
      ]
    },
    {
      "cell_type": "markdown",
      "metadata": {
        "id": "un6mDEGPFIHt"
      },
      "source": [
        "## Designproduksjon"
      ]
    },
    {
      "cell_type": "markdown",
      "source": [
        "## Alternativ 1: Hele treningssettet"
      ],
      "metadata": {
        "id": "q0psyx60YJs_"
      }
    },
    {
      "cell_type": "code",
      "source": [
        "# Setter fast testandel og treningsandel\n",
        "test_andel = 0.2\n",
        "trenings_andel = 1.0\n",
        "\n",
        "\n",
        "# Deler datasettet i trening og testsett\n",
        "trening_markert, enzymtyper_markert, testsett, enzymtyper_test, trening_umarkert,\\\n",
        "enzymtyper_umarkert, trening\\\n",
        "= trening_testsett_oppdeling_enzym(rå_data,\n",
        "                                   data_design,\n",
        "                                   test_andel=test_andel)\n",
        "\n",
        "#Oversikt over fordelingen av enzymtyper i testsett\n",
        "print(\"Enzymtyper Fordeling: Test\")\n",
        "print(enzymfordeling(rå_data, testsett))"
      ],
      "metadata": {
        "id": "HluFNlxSYOr-"
      },
      "execution_count": null,
      "outputs": []
    },
    {
      "cell_type": "code",
      "source": [
        "# Antall runder til optimalisering\n",
        "n_runder = 100\n",
        "\n",
        "# Parametervalg for kryssvalidering\n",
        "splitt = 10\n",
        "gjentagelser = 10\n",
        "\n",
        "\n",
        "# Modelloptimalisering, trening og evaluering av RFR, KNR og SVR\n",
        "veiledet_modell_evaluering_1(test_dict_res=dict_res_1_design_test,\n",
        "                             trening_dict_res=dict_res_1_design_trening,\n",
        "                             treningssett_markert=trening_markert,\n",
        "                             enzymtyper_treningssett_markert=enzymtyper_markert,\n",
        "                             treningssett_umarkert=trening_umarkert,\n",
        "                             enzymtyper_treningssett_umarkert=enzymtyper_umarkert,\n",
        "                             treningssett=trening,\n",
        "                             testsett=testsett,\n",
        "                             splitt=splitt,\n",
        "                             gjentagelser=gjentagelser,\n",
        "                             n_runder=n_runder,\n",
        "                             test_andel=test_andel,\n",
        "                             trenings_andel=trenings_andel,\n",
        "                             random_seed=random_seed)"
      ],
      "metadata": {
        "id": "CzUgBRVoYQhR"
      },
      "execution_count": null,
      "outputs": []
    },
    {
      "cell_type": "markdown",
      "source": [
        "Velger beste modell"
      ],
      "metadata": {
        "id": "4rwgZZzlYWyL"
      }
    },
    {
      "cell_type": "code",
      "source": [],
      "metadata": {
        "id": "VReVivuQYYZC"
      },
      "execution_count": null,
      "outputs": []
    },
    {
      "cell_type": "markdown",
      "metadata": {
        "id": "1vieNT4f6GdR"
      },
      "source": [
        "## Alternativ 1: Forskjellige treningsandeler"
      ]
    },
    {
      "cell_type": "code",
      "execution_count": null,
      "metadata": {
        "colab": {
          "base_uri": "https://localhost:8080/"
        },
        "id": "C12TzEE66GdS",
        "outputId": "4a80bb65-fb23-4322-b1c3-e72bce83fe20"
      },
      "outputs": [
        {
          "output_type": "stream",
          "name": "stdout",
          "text": [
            "Enzymtyper Fordeling: Test\n",
            "    Frekvens  Andel\n",
            "E         15  22.39\n",
            "B         13  19.40\n",
            "C         13  19.40\n",
            "D         12  17.91\n",
            "A2        10  14.93\n",
            "A1         4   5.97\n"
          ]
        }
      ],
      "source": [
        "# Antall runder til optimalisering\n",
        "n_runder = 50\n",
        "\n",
        "# Treningsandeler\n",
        "treningsandeler = [0.2, 0.4, 0.6, 0.8]\n",
        "\n",
        "# Går gjennom andeler av satt treningssett\n",
        "for trenings_andel in treningsandeler:\n",
        "\n",
        "  if trenings_andel < 1.0:\n",
        "\n",
        "      # Utelukker resterende andel fra trening av modell\n",
        "      ubenyttet_andel = (1.0-trenings_andel)\n",
        "\n",
        "      treningssett_markert, enzymtyper_treningssett_markert,\\\n",
        "      _, _, treningssett_umarkert, _, treningssett\\\n",
        "      = trening_testsett_oppdeling_enzym(rå_data,\n",
        "                                         trening,\n",
        "                                         test_andel=ubenyttet_andel,\n",
        "                                         random_seed=random_seed)\n",
        "\n",
        "  else:\n",
        "    treningssett_markert = trening_markert\n",
        "    enzymtyper_treningssett_markert = enzymtyper_markert\n",
        "    treningssett_umarkert = trening_umarkert\n",
        "    treningssett = trening\n",
        "\n",
        "  # Parameter til kryssvalidering\n",
        "  gjentagelser = 10\n",
        "\n",
        "  # Finner antall av enzymtype med minst antall\n",
        "  enzym_markert_info = enzymfordeling(rå_data, treningssett_markert)\n",
        "  enzymtype_min = enzym_markert_info['Frekvens'].min()\n",
        "\n",
        "  # Splitter etter minst antall hvis lavere enn 10. Ellers 10\n",
        "  splitt = 10 if enzymtype_min >= 10 else enzymtype_min\n",
        "\n",
        "  veiledet_modell_evaluering_1(test_dict_res=dict_res_1_design_test,\n",
        "                              trening_dict_res=dict_res_1_design_trening,\n",
        "                              treningssett_markert=treningssett_markert,\n",
        "                              enzymtyper_treningssett_markert=enzymtyper_treningssett_markert,\n",
        "                              treningssett_umarkert=treningssett_umarkert,\n",
        "                              enzymtyper_treningssett_umarkert=enzymtyper_umarkert,\n",
        "                              treningssett=treningssett,\n",
        "                              testsett=testsett,\n",
        "                              splitt=splitt,\n",
        "                              gjentagelser=gjentagelser,\n",
        "                              n_runder=n_runder,\n",
        "                              test_andel=test_andel,\n",
        "                              trenings_andel=trenings_andel,\n",
        "                              random_seed=random_seed)"
      ]
    },
    {
      "cell_type": "markdown",
      "metadata": {
        "id": "1P2OWTSr6GdT"
      },
      "source": [
        "### RandomForestRegressor"
      ]
    },
    {
      "cell_type": "code",
      "execution_count": null,
      "metadata": {
        "colab": {
          "base_uri": "https://localhost:8080/"
        },
        "id": "ZPWOOJVr6GdT",
        "outputId": "b6814ad7-8721-4601-b741-0056217856de"
      },
      "outputs": [
        {
          "output_type": "stream",
          "name": "stderr",
          "text": [
            "[I 2024-04-01 16:27:52,925] A new study created in memory with name: no-name-96ec4a62-609a-49bf-aba6-4c0219c7e745\n"
          ]
        },
        {
          "output_type": "stream",
          "name": "stdout",
          "text": [
            "Enzymtyper Fordeling: Treningssett markert andel: 0.4\n",
            "    Frekvens  Andel\n",
            "E         24  22.64\n",
            "B         21  19.81\n",
            "C         21  19.81\n",
            "D         19  17.92\n",
            "A2        15  14.15\n",
            "A1         6   5.66\n"
          ]
        },
        {
          "output_type": "stream",
          "name": "stderr",
          "text": [
            "[I 2024-04-01 16:28:13,698] Trial 0 finished with value: 734.4439171664216 and parameters: {'n_estimators': 198, 'max_depth': 6}. Best is trial 0 with value: 734.4439171664216.\n",
            "[I 2024-04-01 16:28:14,034] A new study created in memory with name: no-name-7f595372-25b4-46f0-9e7b-2d93f6e703d2\n"
          ]
        },
        {
          "output_type": "stream",
          "name": "stdout",
          "text": [
            "Enzymtyper Fordeling: Treningssett markert andel: 0.6\n",
            "    Frekvens  Andel\n",
            "E         36  22.64\n",
            "C         32  20.13\n",
            "B         31  19.50\n",
            "D         29  18.24\n",
            "A2        23  14.47\n",
            "A1         8   5.03\n"
          ]
        },
        {
          "output_type": "stream",
          "name": "stderr",
          "text": [
            "[I 2024-04-01 16:28:31,950] Trial 0 finished with value: 675.4344073050806 and parameters: {'n_estimators': 169, 'max_depth': 7}. Best is trial 0 with value: 675.4344073050806.\n",
            "[I 2024-04-01 16:28:32,277] A new study created in memory with name: no-name-e703b7e6-eef7-4c2d-97b3-af8adc2b33c0\n"
          ]
        },
        {
          "output_type": "stream",
          "name": "stdout",
          "text": [
            "Enzymtyper Fordeling: Treningssett markert andel: 0.8\n",
            "    Frekvens  Andel\n",
            "E         48  22.64\n",
            "C         43  20.28\n",
            "B         42  19.81\n",
            "D         38  17.92\n",
            "A2        30  14.15\n",
            "A1        11   5.19\n"
          ]
        },
        {
          "output_type": "stream",
          "name": "stderr",
          "text": [
            "[I 2024-04-01 16:28:46,720] Trial 0 finished with value: 761.993157058165 and parameters: {'n_estimators': 139, 'max_depth': 4}. Best is trial 0 with value: 761.993157058165.\n",
            "[I 2024-04-01 16:28:46,973] A new study created in memory with name: no-name-0457b5eb-3ac7-43cc-949e-1a75fc3140c0\n"
          ]
        },
        {
          "output_type": "stream",
          "name": "stdout",
          "text": [
            "Enzymtyper Fordeling: Treningssett markert andel: 1.0\n",
            "    Frekvens  Andel\n",
            "E         60  22.64\n",
            "C         53  20.00\n",
            "B         52  19.62\n",
            "D         48  18.11\n",
            "A2        38  14.34\n",
            "A1        14   5.28\n"
          ]
        },
        {
          "output_type": "stream",
          "name": "stderr",
          "text": [
            "[I 2024-04-01 16:29:05,692] Trial 0 finished with value: 553.7133909787998 and parameters: {'n_estimators': 139, 'max_depth': 9}. Best is trial 0 with value: 553.7133909787998.\n"
          ]
        },
        {
          "output_type": "execute_result",
          "data": {
            "text/plain": [
              "   Treningsandel   RMSE test   R2 test    MAE test  MAPE test  RMSE trening  \\\n",
              "0            0.4  771.655579  0.882570  583.790380   0.079633    343.777478   \n",
              "1            0.6  596.060863  0.929933  444.277693   0.056874    311.882719   \n",
              "2            0.8  776.672672  0.881038  608.212310   0.084684    591.927351   \n",
              "3            1.0  528.688348  0.944877  384.145997   0.048472    232.174899   \n",
              "\n",
              "   R2 trening  MAE trening  MAPE trening  \n",
              "0    0.976464   257.751708      0.037658  \n",
              "1    0.981435   219.741371      0.030999  \n",
              "2    0.933709   428.840622      0.062504  \n",
              "3    0.989627   154.996714      0.021093  "
            ],
            "text/html": [
              "\n",
              "  <div id=\"df-311fb03a-f77d-47a2-a074-ba00c087fd13\" class=\"colab-df-container\">\n",
              "    <div>\n",
              "<style scoped>\n",
              "    .dataframe tbody tr th:only-of-type {\n",
              "        vertical-align: middle;\n",
              "    }\n",
              "\n",
              "    .dataframe tbody tr th {\n",
              "        vertical-align: top;\n",
              "    }\n",
              "\n",
              "    .dataframe thead th {\n",
              "        text-align: right;\n",
              "    }\n",
              "</style>\n",
              "<table border=\"1\" class=\"dataframe\">\n",
              "  <thead>\n",
              "    <tr style=\"text-align: right;\">\n",
              "      <th></th>\n",
              "      <th>Treningsandel</th>\n",
              "      <th>RMSE test</th>\n",
              "      <th>R2 test</th>\n",
              "      <th>MAE test</th>\n",
              "      <th>MAPE test</th>\n",
              "      <th>RMSE trening</th>\n",
              "      <th>R2 trening</th>\n",
              "      <th>MAE trening</th>\n",
              "      <th>MAPE trening</th>\n",
              "    </tr>\n",
              "  </thead>\n",
              "  <tbody>\n",
              "    <tr>\n",
              "      <th>0</th>\n",
              "      <td>0.4</td>\n",
              "      <td>771.655579</td>\n",
              "      <td>0.882570</td>\n",
              "      <td>583.790380</td>\n",
              "      <td>0.079633</td>\n",
              "      <td>343.777478</td>\n",
              "      <td>0.976464</td>\n",
              "      <td>257.751708</td>\n",
              "      <td>0.037658</td>\n",
              "    </tr>\n",
              "    <tr>\n",
              "      <th>1</th>\n",
              "      <td>0.6</td>\n",
              "      <td>596.060863</td>\n",
              "      <td>0.929933</td>\n",
              "      <td>444.277693</td>\n",
              "      <td>0.056874</td>\n",
              "      <td>311.882719</td>\n",
              "      <td>0.981435</td>\n",
              "      <td>219.741371</td>\n",
              "      <td>0.030999</td>\n",
              "    </tr>\n",
              "    <tr>\n",
              "      <th>2</th>\n",
              "      <td>0.8</td>\n",
              "      <td>776.672672</td>\n",
              "      <td>0.881038</td>\n",
              "      <td>608.212310</td>\n",
              "      <td>0.084684</td>\n",
              "      <td>591.927351</td>\n",
              "      <td>0.933709</td>\n",
              "      <td>428.840622</td>\n",
              "      <td>0.062504</td>\n",
              "    </tr>\n",
              "    <tr>\n",
              "      <th>3</th>\n",
              "      <td>1.0</td>\n",
              "      <td>528.688348</td>\n",
              "      <td>0.944877</td>\n",
              "      <td>384.145997</td>\n",
              "      <td>0.048472</td>\n",
              "      <td>232.174899</td>\n",
              "      <td>0.989627</td>\n",
              "      <td>154.996714</td>\n",
              "      <td>0.021093</td>\n",
              "    </tr>\n",
              "  </tbody>\n",
              "</table>\n",
              "</div>\n",
              "    <div class=\"colab-df-buttons\">\n",
              "\n",
              "  <div class=\"colab-df-container\">\n",
              "    <button class=\"colab-df-convert\" onclick=\"convertToInteractive('df-311fb03a-f77d-47a2-a074-ba00c087fd13')\"\n",
              "            title=\"Convert this dataframe to an interactive table.\"\n",
              "            style=\"display:none;\">\n",
              "\n",
              "  <svg xmlns=\"http://www.w3.org/2000/svg\" height=\"24px\" viewBox=\"0 -960 960 960\">\n",
              "    <path d=\"M120-120v-720h720v720H120Zm60-500h600v-160H180v160Zm220 220h160v-160H400v160Zm0 220h160v-160H400v160ZM180-400h160v-160H180v160Zm440 0h160v-160H620v160ZM180-180h160v-160H180v160Zm440 0h160v-160H620v160Z\"/>\n",
              "  </svg>\n",
              "    </button>\n",
              "\n",
              "  <style>\n",
              "    .colab-df-container {\n",
              "      display:flex;\n",
              "      gap: 12px;\n",
              "    }\n",
              "\n",
              "    .colab-df-convert {\n",
              "      background-color: #E8F0FE;\n",
              "      border: none;\n",
              "      border-radius: 50%;\n",
              "      cursor: pointer;\n",
              "      display: none;\n",
              "      fill: #1967D2;\n",
              "      height: 32px;\n",
              "      padding: 0 0 0 0;\n",
              "      width: 32px;\n",
              "    }\n",
              "\n",
              "    .colab-df-convert:hover {\n",
              "      background-color: #E2EBFA;\n",
              "      box-shadow: 0px 1px 2px rgba(60, 64, 67, 0.3), 0px 1px 3px 1px rgba(60, 64, 67, 0.15);\n",
              "      fill: #174EA6;\n",
              "    }\n",
              "\n",
              "    .colab-df-buttons div {\n",
              "      margin-bottom: 4px;\n",
              "    }\n",
              "\n",
              "    [theme=dark] .colab-df-convert {\n",
              "      background-color: #3B4455;\n",
              "      fill: #D2E3FC;\n",
              "    }\n",
              "\n",
              "    [theme=dark] .colab-df-convert:hover {\n",
              "      background-color: #434B5C;\n",
              "      box-shadow: 0px 1px 3px 1px rgba(0, 0, 0, 0.15);\n",
              "      filter: drop-shadow(0px 1px 2px rgba(0, 0, 0, 0.3));\n",
              "      fill: #FFFFFF;\n",
              "    }\n",
              "  </style>\n",
              "\n",
              "    <script>\n",
              "      const buttonEl =\n",
              "        document.querySelector('#df-311fb03a-f77d-47a2-a074-ba00c087fd13 button.colab-df-convert');\n",
              "      buttonEl.style.display =\n",
              "        google.colab.kernel.accessAllowed ? 'block' : 'none';\n",
              "\n",
              "      async function convertToInteractive(key) {\n",
              "        const element = document.querySelector('#df-311fb03a-f77d-47a2-a074-ba00c087fd13');\n",
              "        const dataTable =\n",
              "          await google.colab.kernel.invokeFunction('convertToInteractive',\n",
              "                                                    [key], {});\n",
              "        if (!dataTable) return;\n",
              "\n",
              "        const docLinkHtml = 'Like what you see? Visit the ' +\n",
              "          '<a target=\"_blank\" href=https://colab.research.google.com/notebooks/data_table.ipynb>data table notebook</a>'\n",
              "          + ' to learn more about interactive tables.';\n",
              "        element.innerHTML = '';\n",
              "        dataTable['output_type'] = 'display_data';\n",
              "        await google.colab.output.renderOutput(dataTable, element);\n",
              "        const docLink = document.createElement('div');\n",
              "        docLink.innerHTML = docLinkHtml;\n",
              "        element.appendChild(docLink);\n",
              "      }\n",
              "    </script>\n",
              "  </div>\n",
              "\n",
              "\n",
              "<div id=\"df-8bc003ca-2019-481b-a56c-9127875133f3\">\n",
              "  <button class=\"colab-df-quickchart\" onclick=\"quickchart('df-8bc003ca-2019-481b-a56c-9127875133f3')\"\n",
              "            title=\"Suggest charts\"\n",
              "            style=\"display:none;\">\n",
              "\n",
              "<svg xmlns=\"http://www.w3.org/2000/svg\" height=\"24px\"viewBox=\"0 0 24 24\"\n",
              "     width=\"24px\">\n",
              "    <g>\n",
              "        <path d=\"M19 3H5c-1.1 0-2 .9-2 2v14c0 1.1.9 2 2 2h14c1.1 0 2-.9 2-2V5c0-1.1-.9-2-2-2zM9 17H7v-7h2v7zm4 0h-2V7h2v10zm4 0h-2v-4h2v4z\"/>\n",
              "    </g>\n",
              "</svg>\n",
              "  </button>\n",
              "\n",
              "<style>\n",
              "  .colab-df-quickchart {\n",
              "      --bg-color: #E8F0FE;\n",
              "      --fill-color: #1967D2;\n",
              "      --hover-bg-color: #E2EBFA;\n",
              "      --hover-fill-color: #174EA6;\n",
              "      --disabled-fill-color: #AAA;\n",
              "      --disabled-bg-color: #DDD;\n",
              "  }\n",
              "\n",
              "  [theme=dark] .colab-df-quickchart {\n",
              "      --bg-color: #3B4455;\n",
              "      --fill-color: #D2E3FC;\n",
              "      --hover-bg-color: #434B5C;\n",
              "      --hover-fill-color: #FFFFFF;\n",
              "      --disabled-bg-color: #3B4455;\n",
              "      --disabled-fill-color: #666;\n",
              "  }\n",
              "\n",
              "  .colab-df-quickchart {\n",
              "    background-color: var(--bg-color);\n",
              "    border: none;\n",
              "    border-radius: 50%;\n",
              "    cursor: pointer;\n",
              "    display: none;\n",
              "    fill: var(--fill-color);\n",
              "    height: 32px;\n",
              "    padding: 0;\n",
              "    width: 32px;\n",
              "  }\n",
              "\n",
              "  .colab-df-quickchart:hover {\n",
              "    background-color: var(--hover-bg-color);\n",
              "    box-shadow: 0 1px 2px rgba(60, 64, 67, 0.3), 0 1px 3px 1px rgba(60, 64, 67, 0.15);\n",
              "    fill: var(--button-hover-fill-color);\n",
              "  }\n",
              "\n",
              "  .colab-df-quickchart-complete:disabled,\n",
              "  .colab-df-quickchart-complete:disabled:hover {\n",
              "    background-color: var(--disabled-bg-color);\n",
              "    fill: var(--disabled-fill-color);\n",
              "    box-shadow: none;\n",
              "  }\n",
              "\n",
              "  .colab-df-spinner {\n",
              "    border: 2px solid var(--fill-color);\n",
              "    border-color: transparent;\n",
              "    border-bottom-color: var(--fill-color);\n",
              "    animation:\n",
              "      spin 1s steps(1) infinite;\n",
              "  }\n",
              "\n",
              "  @keyframes spin {\n",
              "    0% {\n",
              "      border-color: transparent;\n",
              "      border-bottom-color: var(--fill-color);\n",
              "      border-left-color: var(--fill-color);\n",
              "    }\n",
              "    20% {\n",
              "      border-color: transparent;\n",
              "      border-left-color: var(--fill-color);\n",
              "      border-top-color: var(--fill-color);\n",
              "    }\n",
              "    30% {\n",
              "      border-color: transparent;\n",
              "      border-left-color: var(--fill-color);\n",
              "      border-top-color: var(--fill-color);\n",
              "      border-right-color: var(--fill-color);\n",
              "    }\n",
              "    40% {\n",
              "      border-color: transparent;\n",
              "      border-right-color: var(--fill-color);\n",
              "      border-top-color: var(--fill-color);\n",
              "    }\n",
              "    60% {\n",
              "      border-color: transparent;\n",
              "      border-right-color: var(--fill-color);\n",
              "    }\n",
              "    80% {\n",
              "      border-color: transparent;\n",
              "      border-right-color: var(--fill-color);\n",
              "      border-bottom-color: var(--fill-color);\n",
              "    }\n",
              "    90% {\n",
              "      border-color: transparent;\n",
              "      border-bottom-color: var(--fill-color);\n",
              "    }\n",
              "  }\n",
              "</style>\n",
              "\n",
              "  <script>\n",
              "    async function quickchart(key) {\n",
              "      const quickchartButtonEl =\n",
              "        document.querySelector('#' + key + ' button');\n",
              "      quickchartButtonEl.disabled = true;  // To prevent multiple clicks.\n",
              "      quickchartButtonEl.classList.add('colab-df-spinner');\n",
              "      try {\n",
              "        const charts = await google.colab.kernel.invokeFunction(\n",
              "            'suggestCharts', [key], {});\n",
              "      } catch (error) {\n",
              "        console.error('Error during call to suggestCharts:', error);\n",
              "      }\n",
              "      quickchartButtonEl.classList.remove('colab-df-spinner');\n",
              "      quickchartButtonEl.classList.add('colab-df-quickchart-complete');\n",
              "    }\n",
              "    (() => {\n",
              "      let quickchartButtonEl =\n",
              "        document.querySelector('#df-8bc003ca-2019-481b-a56c-9127875133f3 button');\n",
              "      quickchartButtonEl.style.display =\n",
              "        google.colab.kernel.accessAllowed ? 'block' : 'none';\n",
              "    })();\n",
              "  </script>\n",
              "</div>\n",
              "    </div>\n",
              "  </div>\n"
            ],
            "application/vnd.google.colaboratory.intrinsic+json": {
              "type": "dataframe",
              "variable_name": "rfr_resultater_enzym",
              "summary": "{\n  \"name\": \"rfr_resultater_enzym\",\n  \"rows\": 4,\n  \"fields\": [\n    {\n      \"column\": \"Treningsandel\",\n      \"properties\": {\n        \"dtype\": \"number\",\n        \"std\": 0.2581988897471611,\n        \"min\": 0.4,\n        \"max\": 1.0,\n        \"num_unique_values\": 4,\n        \"samples\": [\n          0.6,\n          1.0,\n          0.4\n        ],\n        \"semantic_type\": \"\",\n        \"description\": \"\"\n      }\n    },\n    {\n      \"column\": \"RMSE test\",\n      \"properties\": {\n        \"dtype\": \"number\",\n        \"std\": 125.34873277082886,\n        \"min\": 528.6883477183056,\n        \"max\": 776.672672451918,\n        \"num_unique_values\": 4,\n        \"samples\": [\n          596.0608632277747,\n          528.6883477183056,\n          771.6555789826235\n        ],\n        \"semantic_type\": \"\",\n        \"description\": \"\"\n      }\n    },\n    {\n      \"column\": \"R2 test\",\n      \"properties\": {\n        \"dtype\": \"number\",\n        \"std\": 0.032681926752779554,\n        \"min\": 0.8810378975566002,\n        \"max\": 0.9448770998090381,\n        \"num_unique_values\": 4,\n        \"samples\": [\n          0.9299329558684162,\n          0.9448770998090381,\n          0.8825698589188055\n        ],\n        \"semantic_type\": \"\",\n        \"description\": \"\"\n      }\n    },\n    {\n      \"column\": \"MAE test\",\n      \"properties\": {\n        \"dtype\": \"number\",\n        \"std\": 108.24901569672396,\n        \"min\": 384.14599667658683,\n        \"max\": 608.2123098263896,\n        \"num_unique_values\": 4,\n        \"samples\": [\n          444.27769255163315,\n          384.14599667658683,\n          583.7903801671928\n        ],\n        \"semantic_type\": \"\",\n        \"description\": \"\"\n      }\n    },\n    {\n      \"column\": \"MAPE test\",\n      \"properties\": {\n        \"dtype\": \"number\",\n        \"std\": 0.017487664304749455,\n        \"min\": 0.048471564419991245,\n        \"max\": 0.0846835512911293,\n        \"num_unique_values\": 4,\n        \"samples\": [\n          0.05687377741565951,\n          0.048471564419991245,\n          0.07963306943133072\n        ],\n        \"semantic_type\": \"\",\n        \"description\": \"\"\n      }\n    },\n    {\n      \"column\": \"RMSE trening\",\n      \"properties\": {\n        \"dtype\": \"number\",\n        \"std\": 155.25541608911473,\n        \"min\": 232.17489884123333,\n        \"max\": 591.9273513624696,\n        \"num_unique_values\": 4,\n        \"samples\": [\n          311.88271900201227,\n          232.17489884123333,\n          343.77747838183313\n        ],\n        \"semantic_type\": \"\",\n        \"description\": \"\"\n      }\n    },\n    {\n      \"column\": \"R2 trening\",\n      \"properties\": {\n        \"dtype\": \"number\",\n        \"std\": 0.02499612740608155,\n        \"min\": 0.9337089060800392,\n        \"max\": 0.9896271457566105,\n        \"num_unique_values\": 4,\n        \"samples\": [\n          0.9814347265227367,\n          0.9896271457566105,\n          0.9764636515284922\n        ],\n        \"semantic_type\": \"\",\n        \"description\": \"\"\n      }\n    },\n    {\n      \"column\": \"MAE trening\",\n      \"properties\": {\n        \"dtype\": \"number\",\n        \"std\": 116.96853004980515,\n        \"min\": 154.9967137870125,\n        \"max\": 428.84062188786874,\n        \"num_unique_values\": 4,\n        \"samples\": [\n          219.74137124954737,\n          154.9967137870125,\n          257.751708299719\n        ],\n        \"semantic_type\": \"\",\n        \"description\": \"\"\n      }\n    },\n    {\n      \"column\": \"MAPE trening\",\n      \"properties\": {\n        \"dtype\": \"number\",\n        \"std\": 0.017658276811644245,\n        \"min\": 0.021092635874962844,\n        \"max\": 0.06250436171103843,\n        \"num_unique_values\": 4,\n        \"samples\": [\n          0.030998510548622852,\n          0.021092635874962844,\n          0.037658291901232196\n        ],\n        \"semantic_type\": \"\",\n        \"description\": \"\"\n      }\n    }\n  ]\n}"
            }
          },
          "metadata": {},
          "execution_count": 44
        }
      ],
      "source": [
        "# Går gjennom andeler av satt treningssett\n",
        "for trenings_andel in treningsandeler:\n",
        "\n",
        "  if trenings_andel < 1.0:\n",
        "\n",
        "      # Utelukker resterende andel fra trening av modell\n",
        "      ubenyttet_andel = (1.0-trenings_andel)\n",
        "\n",
        "      treningssett_markert, enzymtyper_treningssett_markert,\\\n",
        "      _, _, treningssett_umarkert, _, treningssett\\\n",
        "      = trening_testsett_oppdeling_enzym(rå_data,\n",
        "                                         trening,\n",
        "                                         test_andel=ubenyttet_andel,\n",
        "                                         random_seed=random_seed)\n",
        "\n",
        "  else:\n",
        "    treningssett_markert = trening_markert\n",
        "    enzymtyper_treningssett_markert = enzymtyper_markert\n",
        "    treningssett_umarkert = trening_umarkert\n",
        "    treningssett = trening\n",
        "\n",
        "  #Oversikt over fordelingen av enzymtyper i trening og testsett\n",
        "  enzymdata_trening_markert_andel = enzymfordeling(rå_data,\n",
        "                                                   treningssett_markert)\n",
        "\n",
        "  print(\"Enzymtyper Fordeling: Treningssett markert andel:\", trenings_andel)\n",
        "  print(enzymdata_trening_markert_andel)\n",
        "\n",
        "  # Modelloptimalisering\n",
        "  rfr_resultater, parametere = trening_rfr_enzym(treningssett_markert,\n",
        "                                                 enzymtyper_treningssett_markert,\n",
        "                                                 treningssett_umarkert,\n",
        "                                                 treningssett,\n",
        "                                                 X_test,\n",
        "                                                 y_test,\n",
        "                                                 splitt = splitt,\n",
        "                                                 gjentagelser = gjentagelser,\n",
        "                                                 n_runder = n_runder,\n",
        "                                                 trenings_andel=trenings_andel)\n",
        "\n",
        "  # Lagring av resultater\n",
        "  rfr_resultater_enzym.loc[len(rfr_resultater_enzym)] = rfr_resultater\n",
        "\n",
        "  # Lagring av informasjon om paramtere for treningsandel\n",
        "  dict_res(dict_res_1_design, 'RFR', test_andel,\n",
        "           trenings_andel, parametere, rfr_resultater)\n",
        "\n",
        "# Data med resultater fra treningsandeler\n",
        "rfr_resultater_enzym"
      ]
    },
    {
      "cell_type": "markdown",
      "metadata": {
        "id": "SAXhP62X6GdT"
      },
      "source": [
        "### KNeighborRegressor"
      ]
    },
    {
      "cell_type": "code",
      "execution_count": null,
      "metadata": {
        "id": "I4cwVp6e6GdT",
        "colab": {
          "base_uri": "https://localhost:8080/"
        },
        "outputId": "a984ad2c-6be6-461c-bbe2-b8401152d119"
      },
      "outputs": [
        {
          "output_type": "stream",
          "name": "stderr",
          "text": [
            "[I 2024-04-01 16:29:06,258] A new study created in memory with name: no-name-b2eb20e8-7d90-4946-a5d2-d0ad61cc315b\n",
            "[I 2024-04-01 16:29:06,851] Trial 0 finished with value: 928.842141651841 and parameters: {'n_neighbors': 10, 'p': 3}. Best is trial 0 with value: 928.842141651841.\n",
            "[I 2024-04-01 16:29:06,909] A new study created in memory with name: no-name-e14362f1-7c97-4999-8b9d-1eb326a6ac0d\n",
            "[I 2024-04-01 16:29:08,363] Trial 0 finished with value: 750.1137400398442 and parameters: {'n_neighbors': 9, 'p': 2}. Best is trial 0 with value: 750.1137400398442.\n",
            "[I 2024-04-01 16:29:08,450] A new study created in memory with name: no-name-e51cbefa-08bd-4bb2-82fe-7746c927c343\n",
            "[I 2024-04-01 16:29:09,902] Trial 0 finished with value: 608.5037662690844 and parameters: {'n_neighbors': 6, 'p': 8}. Best is trial 0 with value: 608.5037662690844.\n",
            "[I 2024-04-01 16:29:09,947] A new study created in memory with name: no-name-32c27be5-215a-4e1f-9b98-f3e66a40d4d3\n",
            "[I 2024-04-01 16:29:10,725] Trial 0 finished with value: 578.4435614361557 and parameters: {'n_neighbors': 2, 'p': 3}. Best is trial 0 with value: 578.4435614361557.\n"
          ]
        },
        {
          "output_type": "execute_result",
          "data": {
            "text/plain": [
              "   Treningsandel   RMSE test   R2 test    MAE test  MAPE test  RMSE trening  \\\n",
              "0            0.4  849.346109  0.857734  666.850474   0.094371    812.881718   \n",
              "1            0.6  595.361506  0.930097  441.152916   0.058682    577.087850   \n",
              "2            0.8  509.085195  0.948889  400.976825   0.053602    481.677780   \n",
              "3            1.0  551.251267  0.940072  405.863809   0.051577    272.525033   \n",
              "\n",
              "   R2 trening  MAE trening  MAPE trening  \n",
              "0    0.868405   607.529581      0.085629  \n",
              "1    0.936437   438.588074      0.059593  \n",
              "2    0.956103   342.201905      0.046587  \n",
              "3    0.985708   183.847936      0.024161  "
            ],
            "text/html": [
              "\n",
              "  <div id=\"df-60bcce20-661c-48a1-9c8c-5fa21675d17c\" class=\"colab-df-container\">\n",
              "    <div>\n",
              "<style scoped>\n",
              "    .dataframe tbody tr th:only-of-type {\n",
              "        vertical-align: middle;\n",
              "    }\n",
              "\n",
              "    .dataframe tbody tr th {\n",
              "        vertical-align: top;\n",
              "    }\n",
              "\n",
              "    .dataframe thead th {\n",
              "        text-align: right;\n",
              "    }\n",
              "</style>\n",
              "<table border=\"1\" class=\"dataframe\">\n",
              "  <thead>\n",
              "    <tr style=\"text-align: right;\">\n",
              "      <th></th>\n",
              "      <th>Treningsandel</th>\n",
              "      <th>RMSE test</th>\n",
              "      <th>R2 test</th>\n",
              "      <th>MAE test</th>\n",
              "      <th>MAPE test</th>\n",
              "      <th>RMSE trening</th>\n",
              "      <th>R2 trening</th>\n",
              "      <th>MAE trening</th>\n",
              "      <th>MAPE trening</th>\n",
              "    </tr>\n",
              "  </thead>\n",
              "  <tbody>\n",
              "    <tr>\n",
              "      <th>0</th>\n",
              "      <td>0.4</td>\n",
              "      <td>849.346109</td>\n",
              "      <td>0.857734</td>\n",
              "      <td>666.850474</td>\n",
              "      <td>0.094371</td>\n",
              "      <td>812.881718</td>\n",
              "      <td>0.868405</td>\n",
              "      <td>607.529581</td>\n",
              "      <td>0.085629</td>\n",
              "    </tr>\n",
              "    <tr>\n",
              "      <th>1</th>\n",
              "      <td>0.6</td>\n",
              "      <td>595.361506</td>\n",
              "      <td>0.930097</td>\n",
              "      <td>441.152916</td>\n",
              "      <td>0.058682</td>\n",
              "      <td>577.087850</td>\n",
              "      <td>0.936437</td>\n",
              "      <td>438.588074</td>\n",
              "      <td>0.059593</td>\n",
              "    </tr>\n",
              "    <tr>\n",
              "      <th>2</th>\n",
              "      <td>0.8</td>\n",
              "      <td>509.085195</td>\n",
              "      <td>0.948889</td>\n",
              "      <td>400.976825</td>\n",
              "      <td>0.053602</td>\n",
              "      <td>481.677780</td>\n",
              "      <td>0.956103</td>\n",
              "      <td>342.201905</td>\n",
              "      <td>0.046587</td>\n",
              "    </tr>\n",
              "    <tr>\n",
              "      <th>3</th>\n",
              "      <td>1.0</td>\n",
              "      <td>551.251267</td>\n",
              "      <td>0.940072</td>\n",
              "      <td>405.863809</td>\n",
              "      <td>0.051577</td>\n",
              "      <td>272.525033</td>\n",
              "      <td>0.985708</td>\n",
              "      <td>183.847936</td>\n",
              "      <td>0.024161</td>\n",
              "    </tr>\n",
              "  </tbody>\n",
              "</table>\n",
              "</div>\n",
              "    <div class=\"colab-df-buttons\">\n",
              "\n",
              "  <div class=\"colab-df-container\">\n",
              "    <button class=\"colab-df-convert\" onclick=\"convertToInteractive('df-60bcce20-661c-48a1-9c8c-5fa21675d17c')\"\n",
              "            title=\"Convert this dataframe to an interactive table.\"\n",
              "            style=\"display:none;\">\n",
              "\n",
              "  <svg xmlns=\"http://www.w3.org/2000/svg\" height=\"24px\" viewBox=\"0 -960 960 960\">\n",
              "    <path d=\"M120-120v-720h720v720H120Zm60-500h600v-160H180v160Zm220 220h160v-160H400v160Zm0 220h160v-160H400v160ZM180-400h160v-160H180v160Zm440 0h160v-160H620v160ZM180-180h160v-160H180v160Zm440 0h160v-160H620v160Z\"/>\n",
              "  </svg>\n",
              "    </button>\n",
              "\n",
              "  <style>\n",
              "    .colab-df-container {\n",
              "      display:flex;\n",
              "      gap: 12px;\n",
              "    }\n",
              "\n",
              "    .colab-df-convert {\n",
              "      background-color: #E8F0FE;\n",
              "      border: none;\n",
              "      border-radius: 50%;\n",
              "      cursor: pointer;\n",
              "      display: none;\n",
              "      fill: #1967D2;\n",
              "      height: 32px;\n",
              "      padding: 0 0 0 0;\n",
              "      width: 32px;\n",
              "    }\n",
              "\n",
              "    .colab-df-convert:hover {\n",
              "      background-color: #E2EBFA;\n",
              "      box-shadow: 0px 1px 2px rgba(60, 64, 67, 0.3), 0px 1px 3px 1px rgba(60, 64, 67, 0.15);\n",
              "      fill: #174EA6;\n",
              "    }\n",
              "\n",
              "    .colab-df-buttons div {\n",
              "      margin-bottom: 4px;\n",
              "    }\n",
              "\n",
              "    [theme=dark] .colab-df-convert {\n",
              "      background-color: #3B4455;\n",
              "      fill: #D2E3FC;\n",
              "    }\n",
              "\n",
              "    [theme=dark] .colab-df-convert:hover {\n",
              "      background-color: #434B5C;\n",
              "      box-shadow: 0px 1px 3px 1px rgba(0, 0, 0, 0.15);\n",
              "      filter: drop-shadow(0px 1px 2px rgba(0, 0, 0, 0.3));\n",
              "      fill: #FFFFFF;\n",
              "    }\n",
              "  </style>\n",
              "\n",
              "    <script>\n",
              "      const buttonEl =\n",
              "        document.querySelector('#df-60bcce20-661c-48a1-9c8c-5fa21675d17c button.colab-df-convert');\n",
              "      buttonEl.style.display =\n",
              "        google.colab.kernel.accessAllowed ? 'block' : 'none';\n",
              "\n",
              "      async function convertToInteractive(key) {\n",
              "        const element = document.querySelector('#df-60bcce20-661c-48a1-9c8c-5fa21675d17c');\n",
              "        const dataTable =\n",
              "          await google.colab.kernel.invokeFunction('convertToInteractive',\n",
              "                                                    [key], {});\n",
              "        if (!dataTable) return;\n",
              "\n",
              "        const docLinkHtml = 'Like what you see? Visit the ' +\n",
              "          '<a target=\"_blank\" href=https://colab.research.google.com/notebooks/data_table.ipynb>data table notebook</a>'\n",
              "          + ' to learn more about interactive tables.';\n",
              "        element.innerHTML = '';\n",
              "        dataTable['output_type'] = 'display_data';\n",
              "        await google.colab.output.renderOutput(dataTable, element);\n",
              "        const docLink = document.createElement('div');\n",
              "        docLink.innerHTML = docLinkHtml;\n",
              "        element.appendChild(docLink);\n",
              "      }\n",
              "    </script>\n",
              "  </div>\n",
              "\n",
              "\n",
              "<div id=\"df-7a83ac23-b6fc-4437-9d76-dc062a8986af\">\n",
              "  <button class=\"colab-df-quickchart\" onclick=\"quickchart('df-7a83ac23-b6fc-4437-9d76-dc062a8986af')\"\n",
              "            title=\"Suggest charts\"\n",
              "            style=\"display:none;\">\n",
              "\n",
              "<svg xmlns=\"http://www.w3.org/2000/svg\" height=\"24px\"viewBox=\"0 0 24 24\"\n",
              "     width=\"24px\">\n",
              "    <g>\n",
              "        <path d=\"M19 3H5c-1.1 0-2 .9-2 2v14c0 1.1.9 2 2 2h14c1.1 0 2-.9 2-2V5c0-1.1-.9-2-2-2zM9 17H7v-7h2v7zm4 0h-2V7h2v10zm4 0h-2v-4h2v4z\"/>\n",
              "    </g>\n",
              "</svg>\n",
              "  </button>\n",
              "\n",
              "<style>\n",
              "  .colab-df-quickchart {\n",
              "      --bg-color: #E8F0FE;\n",
              "      --fill-color: #1967D2;\n",
              "      --hover-bg-color: #E2EBFA;\n",
              "      --hover-fill-color: #174EA6;\n",
              "      --disabled-fill-color: #AAA;\n",
              "      --disabled-bg-color: #DDD;\n",
              "  }\n",
              "\n",
              "  [theme=dark] .colab-df-quickchart {\n",
              "      --bg-color: #3B4455;\n",
              "      --fill-color: #D2E3FC;\n",
              "      --hover-bg-color: #434B5C;\n",
              "      --hover-fill-color: #FFFFFF;\n",
              "      --disabled-bg-color: #3B4455;\n",
              "      --disabled-fill-color: #666;\n",
              "  }\n",
              "\n",
              "  .colab-df-quickchart {\n",
              "    background-color: var(--bg-color);\n",
              "    border: none;\n",
              "    border-radius: 50%;\n",
              "    cursor: pointer;\n",
              "    display: none;\n",
              "    fill: var(--fill-color);\n",
              "    height: 32px;\n",
              "    padding: 0;\n",
              "    width: 32px;\n",
              "  }\n",
              "\n",
              "  .colab-df-quickchart:hover {\n",
              "    background-color: var(--hover-bg-color);\n",
              "    box-shadow: 0 1px 2px rgba(60, 64, 67, 0.3), 0 1px 3px 1px rgba(60, 64, 67, 0.15);\n",
              "    fill: var(--button-hover-fill-color);\n",
              "  }\n",
              "\n",
              "  .colab-df-quickchart-complete:disabled,\n",
              "  .colab-df-quickchart-complete:disabled:hover {\n",
              "    background-color: var(--disabled-bg-color);\n",
              "    fill: var(--disabled-fill-color);\n",
              "    box-shadow: none;\n",
              "  }\n",
              "\n",
              "  .colab-df-spinner {\n",
              "    border: 2px solid var(--fill-color);\n",
              "    border-color: transparent;\n",
              "    border-bottom-color: var(--fill-color);\n",
              "    animation:\n",
              "      spin 1s steps(1) infinite;\n",
              "  }\n",
              "\n",
              "  @keyframes spin {\n",
              "    0% {\n",
              "      border-color: transparent;\n",
              "      border-bottom-color: var(--fill-color);\n",
              "      border-left-color: var(--fill-color);\n",
              "    }\n",
              "    20% {\n",
              "      border-color: transparent;\n",
              "      border-left-color: var(--fill-color);\n",
              "      border-top-color: var(--fill-color);\n",
              "    }\n",
              "    30% {\n",
              "      border-color: transparent;\n",
              "      border-left-color: var(--fill-color);\n",
              "      border-top-color: var(--fill-color);\n",
              "      border-right-color: var(--fill-color);\n",
              "    }\n",
              "    40% {\n",
              "      border-color: transparent;\n",
              "      border-right-color: var(--fill-color);\n",
              "      border-top-color: var(--fill-color);\n",
              "    }\n",
              "    60% {\n",
              "      border-color: transparent;\n",
              "      border-right-color: var(--fill-color);\n",
              "    }\n",
              "    80% {\n",
              "      border-color: transparent;\n",
              "      border-right-color: var(--fill-color);\n",
              "      border-bottom-color: var(--fill-color);\n",
              "    }\n",
              "    90% {\n",
              "      border-color: transparent;\n",
              "      border-bottom-color: var(--fill-color);\n",
              "    }\n",
              "  }\n",
              "</style>\n",
              "\n",
              "  <script>\n",
              "    async function quickchart(key) {\n",
              "      const quickchartButtonEl =\n",
              "        document.querySelector('#' + key + ' button');\n",
              "      quickchartButtonEl.disabled = true;  // To prevent multiple clicks.\n",
              "      quickchartButtonEl.classList.add('colab-df-spinner');\n",
              "      try {\n",
              "        const charts = await google.colab.kernel.invokeFunction(\n",
              "            'suggestCharts', [key], {});\n",
              "      } catch (error) {\n",
              "        console.error('Error during call to suggestCharts:', error);\n",
              "      }\n",
              "      quickchartButtonEl.classList.remove('colab-df-spinner');\n",
              "      quickchartButtonEl.classList.add('colab-df-quickchart-complete');\n",
              "    }\n",
              "    (() => {\n",
              "      let quickchartButtonEl =\n",
              "        document.querySelector('#df-7a83ac23-b6fc-4437-9d76-dc062a8986af button');\n",
              "      quickchartButtonEl.style.display =\n",
              "        google.colab.kernel.accessAllowed ? 'block' : 'none';\n",
              "    })();\n",
              "  </script>\n",
              "</div>\n",
              "    </div>\n",
              "  </div>\n"
            ],
            "application/vnd.google.colaboratory.intrinsic+json": {
              "type": "dataframe",
              "variable_name": "knr_resultater_enzym",
              "summary": "{\n  \"name\": \"knr_resultater_enzym\",\n  \"rows\": 4,\n  \"fields\": [\n    {\n      \"column\": \"Treningsandel\",\n      \"properties\": {\n        \"dtype\": \"number\",\n        \"std\": 0.2581988897471611,\n        \"min\": 0.4,\n        \"max\": 1.0,\n        \"num_unique_values\": 4,\n        \"samples\": [\n          0.6,\n          1.0,\n          0.4\n        ],\n        \"semantic_type\": \"\",\n        \"description\": \"\"\n      }\n    },\n    {\n      \"column\": \"RMSE test\",\n      \"properties\": {\n        \"dtype\": \"number\",\n        \"std\": 152.83801197289125,\n        \"min\": 509.08519528043615,\n        \"max\": 849.3461086953582,\n        \"num_unique_values\": 4,\n        \"samples\": [\n          595.361506074562,\n          551.2512669426619,\n          849.3461086953582\n        ],\n        \"semantic_type\": \"\",\n        \"description\": \"\"\n      }\n    },\n    {\n      \"column\": \"R2 test\",\n      \"properties\": {\n        \"dtype\": \"number\",\n        \"std\": 0.04168903215950873,\n        \"min\": 0.8577337170835867,\n        \"max\": 0.9488891013712699,\n        \"num_unique_values\": 4,\n        \"samples\": [\n          0.9300972784892246,\n          0.9400717241656601,\n          0.8577337170835867\n        ],\n        \"semantic_type\": \"\",\n        \"description\": \"\"\n      }\n    },\n    {\n      \"column\": \"MAE test\",\n      \"properties\": {\n        \"dtype\": \"number\",\n        \"std\": 126.69699607804236,\n        \"min\": 400.97682500066065,\n        \"max\": 666.8504735704853,\n        \"num_unique_values\": 4,\n        \"samples\": [\n          441.15291582867127,\n          405.8638086967608,\n          666.8504735704853\n        ],\n        \"semantic_type\": \"\",\n        \"description\": \"\"\n      }\n    },\n    {\n      \"column\": \"MAPE test\",\n      \"properties\": {\n        \"dtype\": \"number\",\n        \"std\": 0.020098634120723716,\n        \"min\": 0.051577488194450405,\n        \"max\": 0.09437093838735491,\n        \"num_unique_values\": 4,\n        \"samples\": [\n          0.05868248720722373,\n          0.051577488194450405,\n          0.09437093838735491\n        ],\n        \"semantic_type\": \"\",\n        \"description\": \"\"\n      }\n    },\n    {\n      \"column\": \"RMSE trening\",\n      \"properties\": {\n        \"dtype\": \"number\",\n        \"std\": 224.14403975864653,\n        \"min\": 272.5250333866792,\n        \"max\": 812.8817184837078,\n        \"num_unique_values\": 4,\n        \"samples\": [\n          577.0878500065775,\n          272.5250333866792,\n          812.8817184837078\n        ],\n        \"semantic_type\": \"\",\n        \"description\": \"\"\n      }\n    },\n    {\n      \"column\": \"R2 trening\",\n      \"properties\": {\n        \"dtype\": \"number\",\n        \"std\": 0.04980818605464965,\n        \"min\": 0.868405131320168,\n        \"max\": 0.9857084100062388,\n        \"num_unique_values\": 4,\n        \"samples\": [\n          0.9364372630752469,\n          0.9857084100062388,\n          0.868405131320168\n        ],\n        \"semantic_type\": \"\",\n        \"description\": \"\"\n      }\n    },\n    {\n      \"column\": \"MAE trening\",\n      \"properties\": {\n        \"dtype\": \"number\",\n        \"std\": 177.41311390286927,\n        \"min\": 183.84793563019582,\n        \"max\": 607.5295807391253,\n        \"num_unique_values\": 4,\n        \"samples\": [\n          438.5880741669423,\n          183.84793563019582,\n          607.5295807391253\n        ],\n        \"semantic_type\": \"\",\n        \"description\": \"\"\n      }\n    },\n    {\n      \"column\": \"MAPE trening\",\n      \"properties\": {\n        \"dtype\": \"number\",\n        \"std\": 0.02567098357198541,\n        \"min\": 0.024160996708723775,\n        \"max\": 0.0856290048747562,\n        \"num_unique_values\": 4,\n        \"samples\": [\n          0.059593001913121245,\n          0.024160996708723775,\n          0.0856290048747562\n        ],\n        \"semantic_type\": \"\",\n        \"description\": \"\"\n      }\n    }\n  ]\n}"
            }
          },
          "metadata": {},
          "execution_count": 45
        }
      ],
      "source": [
        "# Går gjennom andeler av satt treningssett\n",
        "for trenings_andel in treningsandeler:\n",
        "\n",
        "  if trenings_andel < 1.0:\n",
        "\n",
        "      # Utelukker resterende andel fra trening av modell\n",
        "      ubenyttet_andel = (1.0-trenings_andel)\n",
        "\n",
        "      treningssett_markert, enzymtyper_treningssett_markert,\\\n",
        "      _, _, treningssett_umarkert, _, treningssett\\\n",
        "      = trening_testsett_oppdeling_enzym(rå_data,\n",
        "                                         trening,\n",
        "                                         test_andel=ubenyttet_andel,\n",
        "                                         random_seed=random_seed)\n",
        "\n",
        "  else:\n",
        "    treningssett_markert = trening_markert\n",
        "    enzymtyper_treningssett_markert = enzymtyper_markert\n",
        "    treningssett_umarkert = trening_umarkert\n",
        "    treningssett = trening\n",
        "\n",
        "  # Modelloptimalisering\n",
        "  knr_resultater, parametere = trening_knr_enzym(treningssett_markert,\n",
        "                                                 enzymtyper_treningssett_markert,\n",
        "                                                 treningssett_umarkert,\n",
        "                                                 treningssett,\n",
        "                                                 X_test,\n",
        "                                                 y_test,\n",
        "                                                 splitt=splitt,\n",
        "                                                 gjentagelser=gjentagelser,\n",
        "                                                 n_runder=n_runder,\n",
        "                                                 trenings_andel=trenings_andel)\n",
        "\n",
        "\n",
        "  # Lagring av resultater\n",
        "  knr_resultater_enzym.loc[len(knr_resultater_enzym)] = knr_resultater\n",
        "\n",
        "  # Lagring av informasjon om paramtere for treningsandel\n",
        "  dict_res(dict_res_1_design, 'KNR', test_andel,\n",
        "           trenings_andel, parametere, knr_resultater)\n",
        "\n",
        "# Data med resultater fra treningsandeler\n",
        "knr_resultater_enzym"
      ]
    },
    {
      "cell_type": "markdown",
      "metadata": {
        "id": "vpY838hd6GdT"
      },
      "source": [
        "### SupportVectorRegressor"
      ]
    },
    {
      "cell_type": "code",
      "execution_count": null,
      "metadata": {
        "id": "LR5I0PcX6GdT",
        "colab": {
          "base_uri": "https://localhost:8080/"
        },
        "outputId": "76d1c66d-ff16-4bfe-d1a0-4697cbd3c654"
      },
      "outputs": [
        {
          "output_type": "stream",
          "name": "stderr",
          "text": [
            "[I 2024-04-01 16:29:10,882] A new study created in memory with name: no-name-c0d8a35e-bc91-460d-8f1d-7a3c4938e248\n",
            "[I 2024-04-01 16:29:11,578] Trial 0 finished with value: 605.0249778470508 and parameters: {'kernel': 'linear', 'C': 92, 'degree': 15, 'gamma': 'auto'}. Best is trial 0 with value: 605.0249778470508.\n",
            "[I 2024-04-01 16:29:11,608] A new study created in memory with name: no-name-25df5d0c-ee3d-4afe-8198-2b380b793096\n",
            "[I 2024-04-01 16:29:12,064] Trial 0 finished with value: 2247.858674180159 and parameters: {'kernel': 'rbf', 'C': 6, 'degree': 20, 'gamma': 'auto'}. Best is trial 0 with value: 2247.858674180159.\n",
            "[I 2024-04-01 16:29:12,097] A new study created in memory with name: no-name-39ab6bfa-911d-45f9-ae14-5cef6fa82dac\n",
            "[I 2024-04-01 16:29:12,627] Trial 0 finished with value: 570.3283690869977 and parameters: {'kernel': 'linear', 'C': 67, 'degree': 5, 'gamma': 'scale'}. Best is trial 0 with value: 570.3283690869977.\n",
            "[I 2024-04-01 16:29:12,649] A new study created in memory with name: no-name-eb72927e-3e50-4b9b-ae97-f0dc8fe3162c\n",
            "[I 2024-04-01 16:29:13,211] Trial 0 finished with value: 1718.588325471264 and parameters: {'kernel': 'rbf', 'C': 48, 'degree': 11, 'gamma': 'auto'}. Best is trial 0 with value: 1718.588325471264.\n"
          ]
        },
        {
          "output_type": "execute_result",
          "data": {
            "text/plain": [
              "   Treningsandel    RMSE test   R2 test     MAE test  MAPE test  RMSE trening  \\\n",
              "0            0.4   668.090478  0.911976   499.490221   0.065473    571.339337   \n",
              "1            0.6  2201.783231  0.043948  1962.202945   0.292593   2232.206459   \n",
              "2            0.8   631.650993  0.921316   464.550507   0.059886    546.986998   \n",
              "3            1.0  1553.129012  0.524284  1305.497511   0.194871   1582.369307   \n",
              "\n",
              "   R2 trening  MAE trening  MAPE trening  \n",
              "0    0.934991   368.393236      0.051463  \n",
              "1    0.048985  1977.318145      0.283956  \n",
              "2    0.943393   364.530037      0.049578  \n",
              "3    0.518182  1300.275671      0.186771  "
            ],
            "text/html": [
              "\n",
              "  <div id=\"df-713ed27b-831e-4ef9-a4c6-b490eccd7e43\" class=\"colab-df-container\">\n",
              "    <div>\n",
              "<style scoped>\n",
              "    .dataframe tbody tr th:only-of-type {\n",
              "        vertical-align: middle;\n",
              "    }\n",
              "\n",
              "    .dataframe tbody tr th {\n",
              "        vertical-align: top;\n",
              "    }\n",
              "\n",
              "    .dataframe thead th {\n",
              "        text-align: right;\n",
              "    }\n",
              "</style>\n",
              "<table border=\"1\" class=\"dataframe\">\n",
              "  <thead>\n",
              "    <tr style=\"text-align: right;\">\n",
              "      <th></th>\n",
              "      <th>Treningsandel</th>\n",
              "      <th>RMSE test</th>\n",
              "      <th>R2 test</th>\n",
              "      <th>MAE test</th>\n",
              "      <th>MAPE test</th>\n",
              "      <th>RMSE trening</th>\n",
              "      <th>R2 trening</th>\n",
              "      <th>MAE trening</th>\n",
              "      <th>MAPE trening</th>\n",
              "    </tr>\n",
              "  </thead>\n",
              "  <tbody>\n",
              "    <tr>\n",
              "      <th>0</th>\n",
              "      <td>0.4</td>\n",
              "      <td>668.090478</td>\n",
              "      <td>0.911976</td>\n",
              "      <td>499.490221</td>\n",
              "      <td>0.065473</td>\n",
              "      <td>571.339337</td>\n",
              "      <td>0.934991</td>\n",
              "      <td>368.393236</td>\n",
              "      <td>0.051463</td>\n",
              "    </tr>\n",
              "    <tr>\n",
              "      <th>1</th>\n",
              "      <td>0.6</td>\n",
              "      <td>2201.783231</td>\n",
              "      <td>0.043948</td>\n",
              "      <td>1962.202945</td>\n",
              "      <td>0.292593</td>\n",
              "      <td>2232.206459</td>\n",
              "      <td>0.048985</td>\n",
              "      <td>1977.318145</td>\n",
              "      <td>0.283956</td>\n",
              "    </tr>\n",
              "    <tr>\n",
              "      <th>2</th>\n",
              "      <td>0.8</td>\n",
              "      <td>631.650993</td>\n",
              "      <td>0.921316</td>\n",
              "      <td>464.550507</td>\n",
              "      <td>0.059886</td>\n",
              "      <td>546.986998</td>\n",
              "      <td>0.943393</td>\n",
              "      <td>364.530037</td>\n",
              "      <td>0.049578</td>\n",
              "    </tr>\n",
              "    <tr>\n",
              "      <th>3</th>\n",
              "      <td>1.0</td>\n",
              "      <td>1553.129012</td>\n",
              "      <td>0.524284</td>\n",
              "      <td>1305.497511</td>\n",
              "      <td>0.194871</td>\n",
              "      <td>1582.369307</td>\n",
              "      <td>0.518182</td>\n",
              "      <td>1300.275671</td>\n",
              "      <td>0.186771</td>\n",
              "    </tr>\n",
              "  </tbody>\n",
              "</table>\n",
              "</div>\n",
              "    <div class=\"colab-df-buttons\">\n",
              "\n",
              "  <div class=\"colab-df-container\">\n",
              "    <button class=\"colab-df-convert\" onclick=\"convertToInteractive('df-713ed27b-831e-4ef9-a4c6-b490eccd7e43')\"\n",
              "            title=\"Convert this dataframe to an interactive table.\"\n",
              "            style=\"display:none;\">\n",
              "\n",
              "  <svg xmlns=\"http://www.w3.org/2000/svg\" height=\"24px\" viewBox=\"0 -960 960 960\">\n",
              "    <path d=\"M120-120v-720h720v720H120Zm60-500h600v-160H180v160Zm220 220h160v-160H400v160Zm0 220h160v-160H400v160ZM180-400h160v-160H180v160Zm440 0h160v-160H620v160ZM180-180h160v-160H180v160Zm440 0h160v-160H620v160Z\"/>\n",
              "  </svg>\n",
              "    </button>\n",
              "\n",
              "  <style>\n",
              "    .colab-df-container {\n",
              "      display:flex;\n",
              "      gap: 12px;\n",
              "    }\n",
              "\n",
              "    .colab-df-convert {\n",
              "      background-color: #E8F0FE;\n",
              "      border: none;\n",
              "      border-radius: 50%;\n",
              "      cursor: pointer;\n",
              "      display: none;\n",
              "      fill: #1967D2;\n",
              "      height: 32px;\n",
              "      padding: 0 0 0 0;\n",
              "      width: 32px;\n",
              "    }\n",
              "\n",
              "    .colab-df-convert:hover {\n",
              "      background-color: #E2EBFA;\n",
              "      box-shadow: 0px 1px 2px rgba(60, 64, 67, 0.3), 0px 1px 3px 1px rgba(60, 64, 67, 0.15);\n",
              "      fill: #174EA6;\n",
              "    }\n",
              "\n",
              "    .colab-df-buttons div {\n",
              "      margin-bottom: 4px;\n",
              "    }\n",
              "\n",
              "    [theme=dark] .colab-df-convert {\n",
              "      background-color: #3B4455;\n",
              "      fill: #D2E3FC;\n",
              "    }\n",
              "\n",
              "    [theme=dark] .colab-df-convert:hover {\n",
              "      background-color: #434B5C;\n",
              "      box-shadow: 0px 1px 3px 1px rgba(0, 0, 0, 0.15);\n",
              "      filter: drop-shadow(0px 1px 2px rgba(0, 0, 0, 0.3));\n",
              "      fill: #FFFFFF;\n",
              "    }\n",
              "  </style>\n",
              "\n",
              "    <script>\n",
              "      const buttonEl =\n",
              "        document.querySelector('#df-713ed27b-831e-4ef9-a4c6-b490eccd7e43 button.colab-df-convert');\n",
              "      buttonEl.style.display =\n",
              "        google.colab.kernel.accessAllowed ? 'block' : 'none';\n",
              "\n",
              "      async function convertToInteractive(key) {\n",
              "        const element = document.querySelector('#df-713ed27b-831e-4ef9-a4c6-b490eccd7e43');\n",
              "        const dataTable =\n",
              "          await google.colab.kernel.invokeFunction('convertToInteractive',\n",
              "                                                    [key], {});\n",
              "        if (!dataTable) return;\n",
              "\n",
              "        const docLinkHtml = 'Like what you see? Visit the ' +\n",
              "          '<a target=\"_blank\" href=https://colab.research.google.com/notebooks/data_table.ipynb>data table notebook</a>'\n",
              "          + ' to learn more about interactive tables.';\n",
              "        element.innerHTML = '';\n",
              "        dataTable['output_type'] = 'display_data';\n",
              "        await google.colab.output.renderOutput(dataTable, element);\n",
              "        const docLink = document.createElement('div');\n",
              "        docLink.innerHTML = docLinkHtml;\n",
              "        element.appendChild(docLink);\n",
              "      }\n",
              "    </script>\n",
              "  </div>\n",
              "\n",
              "\n",
              "<div id=\"df-b54f2748-c008-4c17-a6a2-7ed448f4d2f7\">\n",
              "  <button class=\"colab-df-quickchart\" onclick=\"quickchart('df-b54f2748-c008-4c17-a6a2-7ed448f4d2f7')\"\n",
              "            title=\"Suggest charts\"\n",
              "            style=\"display:none;\">\n",
              "\n",
              "<svg xmlns=\"http://www.w3.org/2000/svg\" height=\"24px\"viewBox=\"0 0 24 24\"\n",
              "     width=\"24px\">\n",
              "    <g>\n",
              "        <path d=\"M19 3H5c-1.1 0-2 .9-2 2v14c0 1.1.9 2 2 2h14c1.1 0 2-.9 2-2V5c0-1.1-.9-2-2-2zM9 17H7v-7h2v7zm4 0h-2V7h2v10zm4 0h-2v-4h2v4z\"/>\n",
              "    </g>\n",
              "</svg>\n",
              "  </button>\n",
              "\n",
              "<style>\n",
              "  .colab-df-quickchart {\n",
              "      --bg-color: #E8F0FE;\n",
              "      --fill-color: #1967D2;\n",
              "      --hover-bg-color: #E2EBFA;\n",
              "      --hover-fill-color: #174EA6;\n",
              "      --disabled-fill-color: #AAA;\n",
              "      --disabled-bg-color: #DDD;\n",
              "  }\n",
              "\n",
              "  [theme=dark] .colab-df-quickchart {\n",
              "      --bg-color: #3B4455;\n",
              "      --fill-color: #D2E3FC;\n",
              "      --hover-bg-color: #434B5C;\n",
              "      --hover-fill-color: #FFFFFF;\n",
              "      --disabled-bg-color: #3B4455;\n",
              "      --disabled-fill-color: #666;\n",
              "  }\n",
              "\n",
              "  .colab-df-quickchart {\n",
              "    background-color: var(--bg-color);\n",
              "    border: none;\n",
              "    border-radius: 50%;\n",
              "    cursor: pointer;\n",
              "    display: none;\n",
              "    fill: var(--fill-color);\n",
              "    height: 32px;\n",
              "    padding: 0;\n",
              "    width: 32px;\n",
              "  }\n",
              "\n",
              "  .colab-df-quickchart:hover {\n",
              "    background-color: var(--hover-bg-color);\n",
              "    box-shadow: 0 1px 2px rgba(60, 64, 67, 0.3), 0 1px 3px 1px rgba(60, 64, 67, 0.15);\n",
              "    fill: var(--button-hover-fill-color);\n",
              "  }\n",
              "\n",
              "  .colab-df-quickchart-complete:disabled,\n",
              "  .colab-df-quickchart-complete:disabled:hover {\n",
              "    background-color: var(--disabled-bg-color);\n",
              "    fill: var(--disabled-fill-color);\n",
              "    box-shadow: none;\n",
              "  }\n",
              "\n",
              "  .colab-df-spinner {\n",
              "    border: 2px solid var(--fill-color);\n",
              "    border-color: transparent;\n",
              "    border-bottom-color: var(--fill-color);\n",
              "    animation:\n",
              "      spin 1s steps(1) infinite;\n",
              "  }\n",
              "\n",
              "  @keyframes spin {\n",
              "    0% {\n",
              "      border-color: transparent;\n",
              "      border-bottom-color: var(--fill-color);\n",
              "      border-left-color: var(--fill-color);\n",
              "    }\n",
              "    20% {\n",
              "      border-color: transparent;\n",
              "      border-left-color: var(--fill-color);\n",
              "      border-top-color: var(--fill-color);\n",
              "    }\n",
              "    30% {\n",
              "      border-color: transparent;\n",
              "      border-left-color: var(--fill-color);\n",
              "      border-top-color: var(--fill-color);\n",
              "      border-right-color: var(--fill-color);\n",
              "    }\n",
              "    40% {\n",
              "      border-color: transparent;\n",
              "      border-right-color: var(--fill-color);\n",
              "      border-top-color: var(--fill-color);\n",
              "    }\n",
              "    60% {\n",
              "      border-color: transparent;\n",
              "      border-right-color: var(--fill-color);\n",
              "    }\n",
              "    80% {\n",
              "      border-color: transparent;\n",
              "      border-right-color: var(--fill-color);\n",
              "      border-bottom-color: var(--fill-color);\n",
              "    }\n",
              "    90% {\n",
              "      border-color: transparent;\n",
              "      border-bottom-color: var(--fill-color);\n",
              "    }\n",
              "  }\n",
              "</style>\n",
              "\n",
              "  <script>\n",
              "    async function quickchart(key) {\n",
              "      const quickchartButtonEl =\n",
              "        document.querySelector('#' + key + ' button');\n",
              "      quickchartButtonEl.disabled = true;  // To prevent multiple clicks.\n",
              "      quickchartButtonEl.classList.add('colab-df-spinner');\n",
              "      try {\n",
              "        const charts = await google.colab.kernel.invokeFunction(\n",
              "            'suggestCharts', [key], {});\n",
              "      } catch (error) {\n",
              "        console.error('Error during call to suggestCharts:', error);\n",
              "      }\n",
              "      quickchartButtonEl.classList.remove('colab-df-spinner');\n",
              "      quickchartButtonEl.classList.add('colab-df-quickchart-complete');\n",
              "    }\n",
              "    (() => {\n",
              "      let quickchartButtonEl =\n",
              "        document.querySelector('#df-b54f2748-c008-4c17-a6a2-7ed448f4d2f7 button');\n",
              "      quickchartButtonEl.style.display =\n",
              "        google.colab.kernel.accessAllowed ? 'block' : 'none';\n",
              "    })();\n",
              "  </script>\n",
              "</div>\n",
              "    </div>\n",
              "  </div>\n"
            ],
            "application/vnd.google.colaboratory.intrinsic+json": {
              "type": "dataframe",
              "variable_name": "svr_resultater_enzym",
              "summary": "{\n  \"name\": \"svr_resultater_enzym\",\n  \"rows\": 4,\n  \"fields\": [\n    {\n      \"column\": \"Treningsandel\",\n      \"properties\": {\n        \"dtype\": \"number\",\n        \"std\": 0.2581988897471611,\n        \"min\": 0.4,\n        \"max\": 1.0,\n        \"num_unique_values\": 4,\n        \"samples\": [\n          0.6,\n          1.0,\n          0.4\n        ],\n        \"semantic_type\": \"\",\n        \"description\": \"\"\n      }\n    },\n    {\n      \"column\": \"RMSE test\",\n      \"properties\": {\n        \"dtype\": \"number\",\n        \"std\": 756.7487355650815,\n        \"min\": 631.6509925188069,\n        \"max\": 2201.783230777186,\n        \"num_unique_values\": 4,\n        \"samples\": [\n          2201.783230777186,\n          1553.1290117409212,\n          668.0904776387524\n        ],\n        \"semantic_type\": \"\",\n        \"description\": \"\"\n      }\n    },\n    {\n      \"column\": \"R2 test\",\n      \"properties\": {\n        \"dtype\": \"number\",\n        \"std\": 0.41452755263894964,\n        \"min\": 0.043947588596498166,\n        \"max\": 0.9213159061798237,\n        \"num_unique_values\": 4,\n        \"samples\": [\n          0.043947588596498166,\n          0.5242841230512252,\n          0.9119755854448086\n        ],\n        \"semantic_type\": \"\",\n        \"description\": \"\"\n      }\n    },\n    {\n      \"column\": \"MAE test\",\n      \"properties\": {\n        \"dtype\": \"number\",\n        \"std\": 717.159545584941,\n        \"min\": 464.55050743733267,\n        \"max\": 1962.2029454712917,\n        \"num_unique_values\": 4,\n        \"samples\": [\n          1962.2029454712917,\n          1305.4975114491256,\n          499.4902210151618\n        ],\n        \"semantic_type\": \"\",\n        \"description\": \"\"\n      }\n    },\n    {\n      \"column\": \"MAPE test\",\n      \"properties\": {\n        \"dtype\": \"number\",\n        \"std\": 0.11190840573233549,\n        \"min\": 0.059886182641925655,\n        \"max\": 0.29259339527757466,\n        \"num_unique_values\": 4,\n        \"samples\": [\n          0.29259339527757466,\n          0.19487110017288697,\n          0.06547311577611412\n        ],\n        \"semantic_type\": \"\",\n        \"description\": \"\"\n      }\n    },\n    {\n      \"column\": \"RMSE trening\",\n      \"properties\": {\n        \"dtype\": \"number\",\n        \"std\": 822.370745311737,\n        \"min\": 546.9869981066141,\n        \"max\": 2232.2064586664073,\n        \"num_unique_values\": 4,\n        \"samples\": [\n          2232.2064586664073,\n          1582.3693071760215,\n          571.3393369134399\n        ],\n        \"semantic_type\": \"\",\n        \"description\": \"\"\n      }\n    },\n    {\n      \"column\": \"R2 trening\",\n      \"properties\": {\n        \"dtype\": \"number\",\n        \"std\": 0.42423692483982106,\n        \"min\": 0.04898482190767428,\n        \"max\": 0.9433927084210155,\n        \"num_unique_values\": 4,\n        \"samples\": [\n          0.04898482190767428,\n          0.5181815277619717,\n          0.9349911482917279\n        ],\n        \"semantic_type\": \"\",\n        \"description\": \"\"\n      }\n    },\n    {\n      \"column\": \"MAE trening\",\n      \"properties\": {\n        \"dtype\": \"number\",\n        \"std\": 784.8646936481437,\n        \"min\": 364.53003732357445,\n        \"max\": 1977.318145356021,\n        \"num_unique_values\": 4,\n        \"samples\": [\n          1977.318145356021,\n          1300.2756711060383,\n          368.39323552247356\n        ],\n        \"semantic_type\": \"\",\n        \"description\": \"\"\n      }\n    },\n    {\n      \"column\": \"MAPE trening\",\n      \"properties\": {\n        \"dtype\": \"number\",\n        \"std\": 0.11385808100334653,\n        \"min\": 0.04957804825517063,\n        \"max\": 0.2839555769602346,\n        \"num_unique_values\": 4,\n        \"samples\": [\n          0.2839555769602346,\n          0.18677122852928568,\n          0.05146342227105998\n        ],\n        \"semantic_type\": \"\",\n        \"description\": \"\"\n      }\n    }\n  ]\n}"
            }
          },
          "metadata": {},
          "execution_count": 46
        }
      ],
      "source": [
        "# Går gjennom andeler av satt treningssett\n",
        "for trenings_andel in treningsandeler:\n",
        "\n",
        "  if trenings_andel < 1.0:\n",
        "\n",
        "      # Utelukker resterende andel fra trening av modell\n",
        "      ubenyttet_andel = (1.0-trenings_andel)\n",
        "\n",
        "      treningssett_markert, enzymtyper_treningssett_markert,\\\n",
        "      _, _, treningssett_umarkert, _, treningssett\\\n",
        "      = trening_testsett_oppdeling_enzym(rå_data,\n",
        "                                         trening,\n",
        "                                         test_andel=ubenyttet_andel,\n",
        "                                         random_seed=random_seed)\n",
        "\n",
        "  else:\n",
        "    treningssett_markert = trening_markert\n",
        "    enzymtyper_treningssett_markert = enzymtyper_markert\n",
        "    treningssett_umarkert = trening_umarkert\n",
        "    treningssett = trening\n",
        "\n",
        "  # Modelloptimalisering\n",
        "  svr_resultater, parametere = trening_svr_enzym(treningssett_markert,\n",
        "                                                 enzymtyper_treningssett_markert,\n",
        "                                                 treningssett_umarkert,\n",
        "                                                 treningssett,\n",
        "                                                 X_test,\n",
        "                                                 y_test,\n",
        "                                                 splitt=splitt,\n",
        "                                                 gjentagelser=gjentagelser,\n",
        "                                                 n_runder=n_runder,\n",
        "                                                 trenings_andel=trenings_andel)\n",
        "\n",
        "\n",
        "  # Lagring av resultater\n",
        "  svr_resultater_enzym.loc[len(svr_resultater_enzym)] = svr_resultater\n",
        "\n",
        "  # Lagring av informasjon om paramtere for treningsandel\n",
        "  dict_res(dict_res_1_design, 'SVR', test_andel,\n",
        "           trenings_andel, parametere, svr_resultater)\n",
        "\n",
        "# Data med resultater fra treningsandeler\n",
        "svr_resultater_enzym"
      ]
    },
    {
      "cell_type": "markdown",
      "source": [
        "## Alternativ 2: Hele treningssettet"
      ],
      "metadata": {
        "id": "wtMFbtXzYg3Z"
      }
    },
    {
      "cell_type": "code",
      "source": [
        "# Definerer trenings- ogtestandel\n",
        "test_andel = 0.2\n",
        "trenings_andel = 1.0\n",
        "\n",
        "# Deler datasettet i trening og testsett\n",
        "trening_markert, testsett, trening_umarkert, trening\\\n",
        "= trening_testsett_oppdeling_dag(rå_data,\n",
        "                                 data_design,\n",
        "                                 test_andel=test_andel,\n",
        "                                 ekskluder_kalkun_kylling=True)\n",
        "\n",
        "\n",
        "#Oversikt over fordelingen av enzymtyper i testsett\n",
        "print(\"Enzymtyper Fordeling: Test\")\n",
        "print(enzymfordeling(rå_data, testsett))"
      ],
      "metadata": {
        "id": "TZJ74ErPYlvc"
      },
      "execution_count": null,
      "outputs": []
    },
    {
      "cell_type": "code",
      "source": [
        "# Antall runder til optimalisering\n",
        "n_runder = 100\n",
        "\n",
        "# Parametervalg for kryssvalidering\n",
        "splitt = 10\n",
        "\n",
        "# Modelloptimalisering, trening og evaluering av RFR, KNR og SVR\n",
        "veiledet_modell_evaluering_2(test_dict_res=dict_res_2_design_test,\n",
        "                                trening_dict_res=dict_res_2_design_trening,\n",
        "                                rå_data=rå_data,\n",
        "                                treningssett_markert=trening_markert,\n",
        "                                treningssett_umarkert=trening_umarkert,\n",
        "                                treningssett=trening,\n",
        "                                testsett=testsett,\n",
        "                                splitt=splitt,\n",
        "                                n_runder=n_runder,\n",
        "                                test_andel=test_andel,\n",
        "                                trenings_andel=trenings_andel,\n",
        "                                random_seed=random_seed)"
      ],
      "metadata": {
        "id": "DgBu0bCgYqJT"
      },
      "execution_count": null,
      "outputs": []
    },
    {
      "cell_type": "markdown",
      "source": [
        "Velger beste modell"
      ],
      "metadata": {
        "id": "cWod9CnoYr31"
      }
    },
    {
      "cell_type": "code",
      "source": [],
      "metadata": {
        "id": "-z4DTEWLYtuh"
      },
      "execution_count": null,
      "outputs": []
    },
    {
      "cell_type": "markdown",
      "metadata": {
        "id": "tzEXmSrI6QHS"
      },
      "source": [
        "## Alternativ 2: Forskjellige treningssandeler"
      ]
    },
    {
      "cell_type": "code",
      "execution_count": null,
      "metadata": {
        "colab": {
          "base_uri": "https://localhost:8080/"
        },
        "id": "F0BrO4dS6QHT",
        "outputId": "160b4531-ed1c-4809-f08d-bcd7dd007288"
      },
      "outputs": [
        {
          "output_type": "stream",
          "name": "stdout",
          "text": [
            "Enzymtyper Fordeling: Test\n",
            "    Frekvens  Andel\n",
            "E         15  22.73\n",
            "B         13  19.70\n",
            "C         13  19.70\n",
            "D         12  18.18\n",
            "A2         9  13.64\n",
            "A1         4   6.06\n"
          ]
        }
      ],
      "source": [
        "# Antall runder til optimalisering\n",
        "n_runder = 50\n",
        "\n",
        "# Treningsandeler\n",
        "trenings_andeler = [0.2, 0.4, 0.6, 0.8]\n",
        "\n",
        "# Går gjennom andeler av satt treningssett\n",
        "for trenings_andel in trenings_andeler:\n",
        "\n",
        "  if trenings_andel < 1.0:\n",
        "\n",
        "      # Utelukker resterende andel fra trening av modell\n",
        "      ubenyttet_andel = (1.0-trenings_andel)\n",
        "\n",
        "      treningssett_markert, _, treningssett_umarkert, treningssett\\\n",
        "      = trening_testsett_oppdeling_dag(rå_data,\n",
        "                                       trening,\n",
        "                                       test_andel=ubenyttet_andel,\n",
        "                                       ekskluder_kalkun_kylling=True)\n",
        "\n",
        "  else:\n",
        "    treningssett_markert = trening_markert\n",
        "    treningssett_umarkert = trening_umarkert\n",
        "    treningssett = trening\n",
        "\n",
        "  enzym_treningssett_markert = enzymfordeling(rå_data,\n",
        "                                              treningssett_markert)\n",
        "\n",
        "  print(\"Enzymtyper Fordeling: Treningssett markert andel:\", trenings_andel)\n",
        "  print(enzym_treningssett_markert)\n",
        "\n",
        "  # Finner antall av enzymtype med minst antall\n",
        "  enzymtype_min = enzym_treningssett_markert['Frekvens'].min()\n",
        "\n",
        "  # Splitter etter minst antall hvis lavere enn 10. Ellers 10\n",
        "  splitt = 10 if enzymtype_min >= 10 else enzymtype_min\n",
        "\n",
        "  veiledet_modell_evaluering_2(test_dict_res=dict_res_2_design_test,\n",
        "                                trening_dict_res=dict_res_2_design_trening,\n",
        "                                rå_data=rå_data,\n",
        "                                treningssett_markert=treningssett_markert,\n",
        "                                treningssett_umarkert=treningssett_umarkert,\n",
        "                                treningssett=treningssett,\n",
        "                                testsett=testsett,\n",
        "                                splitt=splitt,\n",
        "                                n_runder=n_runder,\n",
        "                                test_andel=test_andel,\n",
        "                                trenings_andel=trenings_andel,\n",
        "                                random_seed=random_seed)"
      ]
    },
    {
      "cell_type": "markdown",
      "source": [
        "# Resultater"
      ],
      "metadata": {
        "id": "uSrySYfnBos2"
      }
    },
    {
      "cell_type": "markdown",
      "source": [
        "### Trening og valideringsresultater"
      ],
      "metadata": {
        "id": "cjDiUktfY6aA"
      }
    },
    {
      "cell_type": "code",
      "source": [
        "mw_resultater_1_hel_trening = pd.DataFrame(dict_res_1_hel_trening)\n",
        "mw_resultater_2_hel_trening = pd.DataFrame(dict_res_2_hel_trening)\n",
        "mw_resultater_1_design_trening  = pd.DataFrame(dict_res_1_design_trening)\n",
        "mw_resultater_2_design_trening  = pd.DataFrame(dict_res_1_design_trening)"
      ],
      "metadata": {
        "id": "1wnGKocKY3Vz"
      },
      "execution_count": null,
      "outputs": []
    },
    {
      "cell_type": "markdown",
      "source": [
        "### Testresultater"
      ],
      "metadata": {
        "id": "g3cmHiEMZAGh"
      }
    },
    {
      "cell_type": "code",
      "source": [
        "mw_resultater_1_hel_test = pd.DataFrame(dict_res_1_hel_test)\n",
        "mw_resultater_2_hel_test  = pd.DataFrame(dict_res_2_hel_test)\n",
        "mw_resultater_1_design_test  = pd.DataFrame(dict_res_1_design_test)\n",
        "mw_resultater_2_design_test = pd.DataFrame(dict_res_1_design_test)"
      ],
      "metadata": {
        "id": "3V8KTItjZFjM"
      },
      "execution_count": null,
      "outputs": []
    },
    {
      "cell_type": "markdown",
      "source": [
        "### Lagring av resultater"
      ],
      "metadata": {
        "id": "M86WohaGZILM"
      }
    },
    {
      "cell_type": "code",
      "source": [
        "mw_resultater_1_hel_trening.to_csv('/content/drive/MyDrive/MasterV24/Bioco_data/mw_resultater_1_hel_trening.csv')\n",
        "mw_resultater_2_hel_trening.to_csv('/content/drive/MyDrive/MasterV24/Bioco_data/mw_resultater_2_hel_trening.csv')\n",
        "\n",
        "mw_resultater_1_design_trening.to_csv('/content/drive/MyDrive/MasterV24/Bioco_data/mw_resultater_1_design_trening.csv')\n",
        "mw_resultater_2_design_trening.to_csv('/content/drive/MyDrive/MasterV24/Bioco_data/mw_resultater_2_design_trening.csv')\n",
        "\n",
        "mw_resultater_1_hel_test.to_csv('/content/drive/MyDrive/MasterV24/Bioco_data/mw_resultater_1_hel_test.csv')\n",
        "mw_resultater_2_hel_test.to_csv('/content/drive/MyDrive/MasterV24/Bioco_data/mw_resultater_2_hel_test.csv')\n",
        "\n",
        "mw_resultater_1_design_test.to_csv('/content/drive/MyDrive/MasterV24/Bioco_data/mw_resultater_1_design_test.csv')\n",
        "mw_resultater_2_design_test.to_csv('/content/drive/MyDrive/MasterV24/Bioco_data/mw_resultater_2_design_test.csv')"
      ],
      "metadata": {
        "id": "wj7na7dYZK1K"
      },
      "execution_count": null,
      "outputs": []
    },
    {
      "cell_type": "markdown",
      "metadata": {
        "id": "pnhtimdQn6n_"
      },
      "source": [
        "# NIR målinger ekskludert"
      ]
    },
    {
      "cell_type": "code",
      "execution_count": null,
      "metadata": {
        "id": "HVRjvKsSn6oM"
      },
      "outputs": [],
      "source": [
        "# Ekskluderer NIR målinger fra datasettene\n",
        "NIR_kolonner = ['NIRfat', 'NIRwater', 'NIRash']\n",
        "data_uten_NIR = data.drop(columns=NIR_kolonner)\n",
        "data_design_uten_NIR = data_design.drop(columns=NIR_kolonner)"
      ]
    },
    {
      "cell_type": "markdown",
      "metadata": {
        "id": "V7JH3CFOh_qc"
      },
      "source": [
        "## Hele datasett"
      ]
    },
    {
      "cell_type": "markdown",
      "source": [
        "## Alternativ 1: Hele treningssett"
      ],
      "metadata": {
        "id": "YqSO-EhOaSg8"
      }
    },
    {
      "cell_type": "code",
      "source": [
        "# Setter fast testandel og treningsandel\n",
        "test_andel = 0.2\n",
        "trenings_andel = 1.0\n",
        "\n",
        "\n",
        "# Deler datasettet i trening og testsett\n",
        "trening_markert, enzymtyper_markert, testsett, enzymtyper_test, \\\n",
        "trening_umarkert, enzymtyper_umarkert, trening\\\n",
        "= trening_testsett_oppdeling_enzym(rå_data,\n",
        "                                   data_uten_NIR,\n",
        "                                   test_andel=test_andel)\n",
        "\n",
        "#Oversikt over fordelingen av enzymtyper i testsett\n",
        "print(\"Enzymtyper Fordeling: Test\")\n",
        "print(enzymfordeling(rå_data, testsett))"
      ],
      "metadata": {
        "id": "vMVmqF1CaShG"
      },
      "execution_count": null,
      "outputs": []
    },
    {
      "cell_type": "code",
      "source": [
        "# Antall runder til optimalisering\n",
        "n_runder = 100\n",
        "\n",
        "# Parametervalg for kryssvalidering\n",
        "splitt = 10\n",
        "gjentagelser = 10\n",
        "\n",
        "# Modelloptimalisering, trening og evaluering av RFR, KNR og SVR\n",
        "veiledet_modell_evaluering_1(test_dict_res=dict_res_1_hel_test_NIR,\n",
        "                             trening_dict_res=dict_res_1_hel_trening_NIR,\n",
        "                             treningssett_markert=trening_markert,\n",
        "                             enzymtyper_treningssett_markert=enzymtyper_markert,\n",
        "                             treningssett_umarkert=trening_umarkert,\n",
        "                             enzymtyper_treningssett_umarkert=enzymtyper_umarkert,\n",
        "                             treningssett=trening,\n",
        "                             testsett=testsett,\n",
        "                             splitt=splitt,\n",
        "                             gjentagelser=gjentagelser,\n",
        "                             n_runder=n_runder,\n",
        "                             test_andel=test_andel,\n",
        "                             trenings_andel=trenings_andel,\n",
        "                             random_seed=random_seed)"
      ],
      "metadata": {
        "id": "QxzVRwzKaShG"
      },
      "execution_count": null,
      "outputs": []
    },
    {
      "cell_type": "markdown",
      "source": [
        "Velger beste modell"
      ],
      "metadata": {
        "id": "vNCdCj21aShG"
      }
    },
    {
      "cell_type": "code",
      "source": [],
      "metadata": {
        "id": "DY7Mpe1FaShG"
      },
      "execution_count": null,
      "outputs": []
    },
    {
      "cell_type": "markdown",
      "source": [
        "## Alternativ 2: Hele treningssett"
      ],
      "metadata": {
        "id": "IOJP5q3_aWH2"
      }
    },
    {
      "cell_type": "code",
      "source": [
        "# Definerer trenings- ogtestandel\n",
        "trenings_andel = 1.0\n",
        "test_andel = 0.2\n",
        "\n",
        "# Deler datasettet i trening og testsett\n",
        "trening_markert, testsett, trening_umarkert, trening\\\n",
        "= trening_testsett_oppdeling_dag(rå_data,\n",
        "                                 data_uten_NIR,\n",
        "                                 test_andel=test_andel,\n",
        "                                 ekskluder_kalkun_kylling=True)\n",
        "\n",
        "#Oversikt over fordelingen av enzymtyper i testsett\n",
        "print(\"Enzymtyper Fordeling: Test\")\n",
        "print(enzymfordeling(rå_data, testsett))"
      ],
      "metadata": {
        "id": "GcVZPOHFaWH3"
      },
      "execution_count": null,
      "outputs": []
    },
    {
      "cell_type": "code",
      "source": [
        "# Parametervalg for kryssvalidering\n",
        "splitt = 10\n",
        "\n",
        "# Antall runder til optimalisering\n",
        "n_runder = 100\n",
        "\n",
        "# Modelloptimalisering, trening og evaluering av RFR, KNR og SVR\n",
        "veiledet_modell_evaluering_2(test_dict_res=dict_res_2_hel_test_NIR,\n",
        "                            trening_dict_res=dict_res_2_hel_trening_NIR,\n",
        "                            rå_data=rå_data,\n",
        "                            treningssett_markert=trening_markert,\n",
        "                            treningssett_umarkert=trening_umarkert,\n",
        "                            treningssett=trening,\n",
        "                            testsett=testsett,\n",
        "                            splitt=splitt,\n",
        "                            n_runder=n_runder,\n",
        "                            test_andel=test_andel,\n",
        "                            trenings_andel=trenings_andel,\n",
        "                            random_seed=random_seed)"
      ],
      "metadata": {
        "id": "S577oARwaWH3"
      },
      "execution_count": null,
      "outputs": []
    },
    {
      "cell_type": "markdown",
      "source": [
        "Velger beste modell"
      ],
      "metadata": {
        "id": "-_BjKdALaWH3"
      }
    },
    {
      "cell_type": "code",
      "source": [],
      "metadata": {
        "id": "80DRfahGaWH3"
      },
      "execution_count": null,
      "outputs": []
    },
    {
      "cell_type": "markdown",
      "metadata": {
        "id": "QY-5_aKaacIy"
      },
      "source": [
        "## Designproduksjon"
      ]
    },
    {
      "cell_type": "markdown",
      "source": [
        "## Alternativ 1: Hele treningssettet"
      ],
      "metadata": {
        "id": "Wy2Ku-wAacIz"
      }
    },
    {
      "cell_type": "code",
      "source": [
        "# Setter fast testandel og treningsandel\n",
        "test_andel = 0.2\n",
        "trenings_andel = 1.0\n",
        "\n",
        "\n",
        "# Deler datasettet i trening og testsett\n",
        "trening_markert, enzymtyper_markert, testsett, enzymtyper_test, trening_umarkert,\\\n",
        "enzymtyper_umarkert, trening\\\n",
        "= trening_testsett_oppdeling_enzym(rå_data,\n",
        "                                   data_design_uten_NIR,\n",
        "                                   test_andel=test_andel)\n",
        "\n",
        "#Oversikt over fordelingen av enzymtyper i testsett\n",
        "print(\"Enzymtyper Fordeling: Test\")\n",
        "print(enzymfordeling(rå_data, testsett))"
      ],
      "metadata": {
        "id": "EBuoC7V_acIz"
      },
      "execution_count": null,
      "outputs": []
    },
    {
      "cell_type": "code",
      "source": [
        "# Antall runder til optimalisering\n",
        "n_runder = 100\n",
        "\n",
        "# Parametervalg for kryssvalidering\n",
        "splitt = 10\n",
        "gjentagelser = 10\n",
        "\n",
        "\n",
        "# Modelloptimalisering, trening og evaluering av RFR, KNR og SVR\n",
        "veiledet_modell_evaluering_1(test_dict_res=dict_res_1_design_test_NIR,\n",
        "                             trening_dict_res=dict_res_1_design_trening_NIR,\n",
        "                             treningssett_markert=trening_markert,\n",
        "                             enzymtyper_treningssett_markert=enzymtyper_markert,\n",
        "                             treningssett_umarkert=trening_umarkert,\n",
        "                             enzymtyper_treningssett_umarkert=enzymtyper_umarkert,\n",
        "                             treningssett=trening,\n",
        "                             testsett=testsett,\n",
        "                             splitt=splitt,\n",
        "                             gjentagelser=gjentagelser,\n",
        "                             n_runder=n_runder,\n",
        "                             test_andel=test_andel,\n",
        "                             trenings_andel=trenings_andel,\n",
        "                             random_seed=random_seed)"
      ],
      "metadata": {
        "id": "uxR9XRgracIz"
      },
      "execution_count": null,
      "outputs": []
    },
    {
      "cell_type": "markdown",
      "source": [
        "Velger beste modell"
      ],
      "metadata": {
        "id": "wsTRmjbXacIz"
      }
    },
    {
      "cell_type": "code",
      "source": [],
      "metadata": {
        "id": "SH0AmyojacIz"
      },
      "execution_count": null,
      "outputs": []
    },
    {
      "cell_type": "code",
      "source": [],
      "metadata": {
        "id": "vxNpUyFYafdy"
      },
      "execution_count": null,
      "outputs": []
    },
    {
      "cell_type": "markdown",
      "source": [
        "## Alternativ 2: Hele treningssettet"
      ],
      "metadata": {
        "id": "6NY_RLIGafof"
      }
    },
    {
      "cell_type": "code",
      "source": [
        "# Definerer trenings- ogtestandel\n",
        "trenings_andel = 1.0\n",
        "test_andel = 0.2\n",
        "\n",
        "# Deler datasettet i trening og testsett\n",
        "trening_markert, testsett, trening_umarkert, trening\\\n",
        "= trening_testsett_oppdeling_dag(rå_data,\n",
        "                                 data_design_uten_NIR,\n",
        "                                 test_andel=test_andel,\n",
        "                                 ekskluder_kalkun_kylling=True)\n",
        "\n",
        "\n",
        "#Oversikt over fordelingen av enzymtyper i testsett\n",
        "print(\"Enzymtyper Fordeling: Test\")\n",
        "print(enzymfordeling(rå_data, testsett))"
      ],
      "metadata": {
        "id": "OT45Bvfqafog"
      },
      "execution_count": null,
      "outputs": []
    },
    {
      "cell_type": "code",
      "source": [
        "# Antall runder til optimalisering\n",
        "n_runder = 100\n",
        "\n",
        "# Parametervalg for kryssvalidering\n",
        "splitt = 10\n",
        "\n",
        "# Modelloptimalisering, trening og evaluering av RFR, KNR og SVR\n",
        "veiledet_modell_evaluering_2(test_dict_res=dict_res_2_design_test_NIR,\n",
        "                                trening_dict_res=dict_res_2_design_trening_NIR,\n",
        "                                rå_data=rå_data,\n",
        "                                treningssett_markert=trening_markert,\n",
        "                                treningssett_umarkert=trening_umarkert,\n",
        "                                treningssett=trening,\n",
        "                                testsett=testsett,\n",
        "                                splitt=splitt,\n",
        "                                n_runder=n_runder,\n",
        "                                test_andel=test_andel,\n",
        "                                trenings_andel=trenings_andel,\n",
        "                                random_seed=random_seed)"
      ],
      "metadata": {
        "id": "oISaAkX9afog"
      },
      "execution_count": null,
      "outputs": []
    },
    {
      "cell_type": "markdown",
      "source": [
        "Velger beste modell"
      ],
      "metadata": {
        "id": "3BRp-arXafog"
      }
    },
    {
      "cell_type": "code",
      "source": [],
      "metadata": {
        "id": "d_fSkoCzafog"
      },
      "execution_count": null,
      "outputs": []
    },
    {
      "cell_type": "markdown",
      "source": [
        "## Resultater"
      ],
      "metadata": {
        "id": "5n10B-afapyR"
      }
    },
    {
      "cell_type": "markdown",
      "source": [
        "### Trening og valideringsresultater"
      ],
      "metadata": {
        "id": "m6GuKFy2bd2Q"
      }
    },
    {
      "cell_type": "code",
      "source": [
        "mw_resultater_1_hel_trening_NIR = pd.DataFrame(dict_res_1_hel_trening_NIR)\n",
        "mw_resultater_2_hel_trening_NIR  = pd.DataFrame(dict_res_2_hel_trening_NIR)\n",
        "mw_resultater_1_design_trening_NIR   = pd.DataFrame(dict_res_1_design_trening_NIR)\n",
        "mw_resultater_2_design_trening_NIR   = pd.DataFrame(dict_res_1_design_trening_NIR)"
      ],
      "metadata": {
        "id": "viBn2mVBbd2R"
      },
      "execution_count": null,
      "outputs": []
    },
    {
      "cell_type": "markdown",
      "source": [
        "### Testresultater"
      ],
      "metadata": {
        "id": "i6XS8lWUbd2R"
      }
    },
    {
      "cell_type": "code",
      "source": [
        "mw_resultater_1_hel_test_NIR = pd.DataFrame(dict_res_1_hel_test_NIR)\n",
        "mw_resultater_2_hel_test_NIR  = pd.DataFrame(dict_res_2_hel_test_NIR)\n",
        "mw_resultater_1_design_test_NIR  = pd.DataFrame(dict_res_1_design_test_NIR)\n",
        "mw_resultater_2_design_test_NIR = pd.DataFrame(dict_res_1_design_test_NIR)"
      ],
      "metadata": {
        "id": "tDyNo6Xsbd2R"
      },
      "execution_count": null,
      "outputs": []
    },
    {
      "cell_type": "markdown",
      "source": [
        "### Lagring av resultater"
      ],
      "metadata": {
        "id": "zwlPUluSbd2R"
      }
    },
    {
      "cell_type": "code",
      "source": [
        "mw_resultater_1_hel_trening_NIR.to_csv('/content/drive/MyDrive/MasterV24/Bioco_data/mw_resultater_1_hel_trening_NIR.csv')\n",
        "mw_resultater_2_hel_trening_NIR.to_csv('/content/drive/MyDrive/MasterV24/Bioco_data/mw_resultater_2_hel_trening_NIR.csv')\n",
        "\n",
        "mw_resultater_1_design_trening_NIR.to_csv('/content/drive/MyDrive/MasterV24/Bioco_data/mw_resultater_1_design_trening_NIR.csv')\n",
        "mw_resultater_2_design_trening_NIR.to_csv('/content/drive/MyDrive/MasterV24/Bioco_data/mw_resultater_2_design_trening_NIR.csv')\n",
        "\n",
        "mw_resultater_1_hel_test_NIR.to_csv('/content/drive/MyDrive/MasterV24/Bioco_data/mw_resultater_1_hel_test_NIR.csv')\n",
        "mw_resultater_2_hel_test_NIR.to_csv('/content/drive/MyDrive/MasterV24/Bioco_data/mw_resultater_2_hel_test_NIR.csv')\n",
        "\n",
        "mw_resultater_1_design_test_NIR.to_csv('/content/drive/MyDrive/MasterV24/Bioco_data/mw_resultater_1_design_test_NIR.csv')\n",
        "mw_resultater_2_design_test_NIR.to_csv('/content/drive/MyDrive/MasterV24/Bioco_data/mw_resultater_2_design_test_NIR.csv')"
      ],
      "metadata": {
        "id": "QAiEoqFObd2R"
      },
      "execution_count": null,
      "outputs": []
    }
  ],
  "metadata": {
    "colab": {
      "collapsed_sections": [
        "lNTfChXaIZAf",
        "Vug3qjOcXxOJ",
        "8IO2r9GrkH4N",
        "q0psyx60YJs_",
        "1vieNT4f6GdR",
        "wtMFbtXzYg3Z",
        "tzEXmSrI6QHS",
        "YqSO-EhOaSg8",
        "IOJP5q3_aWH2",
        "Wy2Ku-wAacIz",
        "6NY_RLIGafof"
      ],
      "provenance": [],
      "authorship_tag": "ABX9TyOF8L6O7sckUCkYDu6gA/sN",
      "include_colab_link": true
    },
    "kernelspec": {
      "display_name": "Python 3",
      "name": "python3"
    },
    "language_info": {
      "name": "python"
    }
  },
  "nbformat": 4,
  "nbformat_minor": 0
}