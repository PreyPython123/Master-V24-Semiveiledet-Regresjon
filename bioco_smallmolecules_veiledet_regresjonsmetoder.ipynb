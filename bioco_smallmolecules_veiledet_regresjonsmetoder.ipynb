{
  "nbformat": 4,
  "nbformat_minor": 0,
  "metadata": {
    "colab": {
      "provenance": [],
      "collapsed_sections": [
        "uPtuGVtCJOFj",
        "21cdLIoaSTR6",
        "i_1rn21ITRJ4",
        "frddyr4dN5CW",
        "wQpsJkKShL_9",
        "eSEqU-HmSlHL",
        "MkYKDmvPSlHM",
        "pnhtimdQn6n_",
        "BlPTIszOTrVD",
        "hX9_AnkRUCjj",
        "6QoJbRPZUk6t",
        "ItNTDh9mUpGx"
      ],
      "authorship_tag": "ABX9TyMUcg1ZmA5s+Sa8rq51ZXwU",
      "include_colab_link": true
    },
    "kernelspec": {
      "name": "python3",
      "display_name": "Python 3"
    },
    "language_info": {
      "name": "python"
    }
  },
  "cells": [
    {
      "cell_type": "markdown",
      "metadata": {
        "id": "view-in-github",
        "colab_type": "text"
      },
      "source": [
        "<a href=\"https://colab.research.google.com/github/PreyPython123/Master-V24-Semiveiledet-Regresjon/blob/smallmolecules-Pradeep/bioco_smallmolecules_veiledet_regresjonsmetoder.ipynb\" target=\"_parent\"><img src=\"https://colab.research.google.com/assets/colab-badge.svg\" alt=\"Open In Colab\"/></a>"
      ]
    },
    {
      "cell_type": "code",
      "source": [],
      "metadata": {
        "id": "yTLnqFQDRl-0"
      },
      "execution_count": null,
      "outputs": []
    },
    {
      "cell_type": "code",
      "execution_count": null,
      "metadata": {
        "colab": {
          "base_uri": "https://localhost:8080/"
        },
        "id": "nwEzUjnf0xLZ",
        "outputId": "213343ab-1c7a-47e6-bfba-bfa78e025ba1"
      },
      "outputs": [
        {
          "output_type": "stream",
          "name": "stdout",
          "text": [
            "Mounted at /content/drive/\n"
          ]
        }
      ],
      "source": [
        "from google.colab import drive\n",
        "drive.mount('/content/drive/')"
      ]
    },
    {
      "cell_type": "markdown",
      "metadata": {
        "id": "uPtuGVtCJOFj"
      },
      "source": [
        "# Importering, lasting og formattering"
      ]
    },
    {
      "cell_type": "markdown",
      "metadata": {
        "id": "ZNeQrag9Rlc_"
      },
      "source": [
        "Lasting av nødvendige bibliotek og pakker"
      ]
    },
    {
      "cell_type": "code",
      "execution_count": null,
      "metadata": {
        "colab": {
          "base_uri": "https://localhost:8080/"
        },
        "id": "k5u1dZmp6cJ9",
        "outputId": "1568059f-9910-4327-ce46-8d59ce9bed68"
      },
      "outputs": [
        {
          "output_type": "stream",
          "name": "stdout",
          "text": [
            "Collecting optuna\n",
            "  Downloading optuna-3.6.1-py3-none-any.whl (380 kB)\n",
            "\u001b[2K     \u001b[90m━━━━━━━━━━━━━━━━━━━━━━━━━━━━━━━━━━━━━━━━\u001b[0m \u001b[32m380.1/380.1 kB\u001b[0m \u001b[31m5.5 MB/s\u001b[0m eta \u001b[36m0:00:00\u001b[0m\n",
            "\u001b[?25hCollecting alembic>=1.5.0 (from optuna)\n",
            "  Downloading alembic-1.13.1-py3-none-any.whl (233 kB)\n",
            "\u001b[2K     \u001b[90m━━━━━━━━━━━━━━━━━━━━━━━━━━━━━━━━━━━━━━━━\u001b[0m \u001b[32m233.4/233.4 kB\u001b[0m \u001b[31m16.2 MB/s\u001b[0m eta \u001b[36m0:00:00\u001b[0m\n",
            "\u001b[?25hCollecting colorlog (from optuna)\n",
            "  Downloading colorlog-6.8.2-py3-none-any.whl (11 kB)\n",
            "Requirement already satisfied: numpy in /usr/local/lib/python3.10/dist-packages (from optuna) (1.25.2)\n",
            "Requirement already satisfied: packaging>=20.0 in /usr/local/lib/python3.10/dist-packages (from optuna) (24.0)\n",
            "Requirement already satisfied: sqlalchemy>=1.3.0 in /usr/local/lib/python3.10/dist-packages (from optuna) (2.0.29)\n",
            "Requirement already satisfied: tqdm in /usr/local/lib/python3.10/dist-packages (from optuna) (4.66.2)\n",
            "Requirement already satisfied: PyYAML in /usr/local/lib/python3.10/dist-packages (from optuna) (6.0.1)\n",
            "Collecting Mako (from alembic>=1.5.0->optuna)\n",
            "  Downloading Mako-1.3.3-py3-none-any.whl (78 kB)\n",
            "\u001b[2K     \u001b[90m━━━━━━━━━━━━━━━━━━━━━━━━━━━━━━━━━━━━━━━━\u001b[0m \u001b[32m78.8/78.8 kB\u001b[0m \u001b[31m9.7 MB/s\u001b[0m eta \u001b[36m0:00:00\u001b[0m\n",
            "\u001b[?25hRequirement already satisfied: typing-extensions>=4 in /usr/local/lib/python3.10/dist-packages (from alembic>=1.5.0->optuna) (4.11.0)\n",
            "Requirement already satisfied: greenlet!=0.4.17 in /usr/local/lib/python3.10/dist-packages (from sqlalchemy>=1.3.0->optuna) (3.0.3)\n",
            "Requirement already satisfied: MarkupSafe>=0.9.2 in /usr/local/lib/python3.10/dist-packages (from Mako->alembic>=1.5.0->optuna) (2.1.5)\n",
            "Installing collected packages: Mako, colorlog, alembic, optuna\n",
            "Successfully installed Mako-1.3.3 alembic-1.13.1 colorlog-6.8.2 optuna-3.6.1\n"
          ]
        }
      ],
      "source": [
        "!pip install optuna"
      ]
    },
    {
      "cell_type": "markdown",
      "metadata": {
        "id": "jT-YzIdVRply"
      },
      "source": [
        "Importering av nødvendig bibliotek og pakker"
      ]
    },
    {
      "cell_type": "code",
      "execution_count": null,
      "metadata": {
        "id": "5_s-eJyVk3v0"
      },
      "outputs": [],
      "source": [
        "import pandas as pd\n",
        "import numpy as np\n",
        "import copy\n",
        "import math\n",
        "from statistics import mean, stdev\n",
        "import time\n",
        "\n",
        "from sklearn.preprocessing import StandardScaler\n",
        "from sklearn.model_selection import RepeatedStratifiedKFold\n",
        "from sklearn.pipeline import Pipeline"
      ]
    },
    {
      "cell_type": "code",
      "source": [
        "# Modeller\n",
        "from sklearn.ensemble import RandomForestRegressor\n",
        "from sklearn.neighbors import KNeighborsRegressor\n",
        "from sklearn.svm import SVR"
      ],
      "metadata": {
        "id": "EH3SQKCIfwnC"
      },
      "execution_count": null,
      "outputs": []
    },
    {
      "cell_type": "code",
      "execution_count": null,
      "metadata": {
        "id": "GrgCsoZhmayI"
      },
      "outputs": [],
      "source": [
        "# Hyperoptimalisering\n",
        "import optuna\n",
        "from optuna.visualization import plot_optimization_history\n",
        "\n",
        "# Utelukker utskriving av logg for hyperoptimalisering\n",
        "# optuna.logging.set_verbosity(optuna.logging.WARNING)"
      ]
    },
    {
      "cell_type": "markdown",
      "metadata": {
        "id": "qhRMrFFHlZuX"
      },
      "source": [
        "# Egendefinerte moduler"
      ]
    },
    {
      "cell_type": "code",
      "execution_count": null,
      "metadata": {
        "colab": {
          "base_uri": "https://localhost:8080/"
        },
        "id": "FXgxrml5lg5B",
        "outputId": "00cea2b7-7be7-4ee5-882a-b4aae4082f65"
      },
      "outputs": [
        {
          "output_type": "stream",
          "name": "stdout",
          "text": [
            "/content\n"
          ]
        }
      ],
      "source": [
        "!pwd\n",
        "! cp /content/drive/MyDrive/MasterV24/GitHub/moduler_trening_validering_testing_evaluering.py /content/moduler_trening_validering_testing_evaluering.py"
      ]
    },
    {
      "cell_type": "code",
      "execution_count": null,
      "metadata": {
        "id": "tvOTDwKLf0q8"
      },
      "outputs": [],
      "source": [
        "from moduler_trening_validering_testing_evaluering import trening_testsett_oppdeling_enzym\n",
        "from moduler_trening_validering_testing_evaluering import trening_testsett_oppdeling_dag\n",
        "from moduler_trening_validering_testing_evaluering import trening_validering_oppdeling_dag\n",
        "\n",
        "from moduler_trening_validering_testing_evaluering import enzymfordeling\n",
        "from moduler_trening_validering_testing_evaluering import n_splitt_enzym\n",
        "from moduler_trening_validering_testing_evaluering import Resultat_evaluering\n",
        "from moduler_trening_validering_testing_evaluering import res_eval_opt\n",
        "from moduler_trening_validering_testing_evaluering import res_eval\n",
        "from moduler_trening_validering_testing_evaluering import Resultat_dicts"
      ]
    },
    {
      "cell_type": "code",
      "execution_count": null,
      "metadata": {
        "colab": {
          "base_uri": "https://localhost:8080/"
        },
        "id": "JTs_zHhkiBpK",
        "outputId": "2977b3f3-2218-49e3-d1dd-d7bfff4601f7"
      },
      "outputs": [
        {
          "output_type": "stream",
          "name": "stdout",
          "text": [
            "/content\n"
          ]
        }
      ],
      "source": [
        "!pwd\n",
        "! cp /content/drive/MyDrive/MasterV24/GitHub/moduler_optimalisering_evaluering_veiledet.py /content/moduler_optimalisering_evaluering_veiledet.py"
      ]
    },
    {
      "cell_type": "code",
      "execution_count": null,
      "metadata": {
        "id": "A5GEVrXsiYd-"
      },
      "outputs": [],
      "source": [
        "from moduler_optimalisering_evaluering_veiledet import trening_rfr_enzym\n",
        "from moduler_optimalisering_evaluering_veiledet import trening_knr_enzym\n",
        "from moduler_optimalisering_evaluering_veiledet import trening_svr_enzym\n",
        "\n",
        "from moduler_optimalisering_evaluering_veiledet import trening_rfr_dag\n",
        "from moduler_optimalisering_evaluering_veiledet import trening_knr_dag\n",
        "from moduler_optimalisering_evaluering_veiledet import trening_svr_dag\n",
        "\n",
        "from moduler_optimalisering_evaluering_veiledet import veiledet_modell_evaluering_1\n",
        "from moduler_optimalisering_evaluering_veiledet import veiledet_modell_evaluering_2"
      ]
    },
    {
      "cell_type": "markdown",
      "metadata": {
        "id": "21cdLIoaSTR6"
      },
      "source": [
        "# Importering av relevant data"
      ]
    },
    {
      "cell_type": "code",
      "execution_count": null,
      "metadata": {
        "id": "XeNQyDPZSTwY"
      },
      "outputs": [],
      "source": [
        "# Velger første kolonne med dato og tid som index\n",
        "data = pd.read_csv('/content/drive/MyDrive/MasterV24/Bioco_data/smallmolecules_data.csv',\n",
        "                            header=0,\n",
        "                            sep=',',\n",
        "                            index_col=0)\n",
        "\n",
        "# Design produksjon\n",
        "data_design = pd.read_csv('/content/drive/MyDrive/MasterV24/Bioco_data/smallmolecules_data_design.csv',\n",
        "                                   header=0,\n",
        "                                   sep=',',\n",
        "                                   index_col=0)\n",
        "\n",
        "# Importerer rådata\n",
        "rå_data = pd.read_csv('/content/drive/MyDrive/MasterV24/BiocoData.csv',\n",
        "                      header=0,\n",
        "                      sep=';',\n",
        "                      index_col=0)\n",
        "\n",
        "# Formatterer index til riktig format og datatype\n",
        "data.index = pd.to_datetime(data.index,\n",
        "                            format='%Y-%m-%d %H:%M:%S')\n",
        "\n",
        "data_design.index = pd.to_datetime(data_design.index,\n",
        "                                   format='%Y-%m-%d %H:%M:%S')\n",
        "\n",
        "rå_data.index = pd.to_datetime(rå_data.index,\n",
        "                               format='%d-%m-%Y %H:%M:%S.%f')"
      ]
    },
    {
      "cell_type": "markdown",
      "metadata": {
        "id": "i_1rn21ITRJ4"
      },
      "source": [
        "# Lagring av resultater"
      ]
    },
    {
      "cell_type": "code",
      "execution_count": null,
      "metadata": {
        "id": "EGIgRqWETUTx"
      },
      "outputs": [],
      "source": [
        "# Oppretter instans for lagring av resultater\n",
        "res = Resultat_dicts()"
      ]
    },
    {
      "cell_type": "markdown",
      "source": [
        "# Parametere til hyperoptimalisering"
      ],
      "metadata": {
        "id": "frddyr4dN5CW"
      }
    },
    {
      "cell_type": "code",
      "source": [
        "# Antall runder til optimalisering\n",
        "n_runder = 100\n",
        "\n",
        "# Parametervalg for kryssvalidering\n",
        "n_gjentagelser = 2"
      ],
      "metadata": {
        "id": "rlWMJLnyN5XO"
      },
      "execution_count": null,
      "outputs": []
    },
    {
      "cell_type": "markdown",
      "metadata": {
        "id": "7Wl0nay5j2C4"
      },
      "source": [
        "Tilfeldighetsfrø"
      ]
    },
    {
      "cell_type": "code",
      "execution_count": null,
      "metadata": {
        "id": "OxTGpIOmj4V7"
      },
      "outputs": [],
      "source": [
        "#Tilfeldighetsfrø\n",
        "random_seed = 2024"
      ]
    },
    {
      "cell_type": "markdown",
      "metadata": {
        "id": "76aWdlTDXp9I"
      },
      "source": [
        "# NIR målinger inkludert"
      ]
    },
    {
      "cell_type": "markdown",
      "metadata": {
        "id": "wQpsJkKShL_9"
      },
      "source": [
        "## Hele datasett"
      ]
    },
    {
      "cell_type": "markdown",
      "source": [
        "## Alternativ 1: 20% Testsett og Hele resterende treningssett"
      ],
      "metadata": {
        "id": "RAPTeouaQcXa"
      }
    },
    {
      "cell_type": "code",
      "source": [
        "# Setter fast testandel og treningsandel\n",
        "test_andel = 0.2\n",
        "trenings_andel = 1.0\n",
        "\n",
        "\n",
        "# Deler datasettet i trening og testsett\n",
        "trening_markert, enzymtyper_markert, testsett, _, _, _, trening\\\n",
        "= trening_testsett_oppdeling_enzym(rå_data,\n",
        "                                   data,\n",
        "                                   test_andel=test_andel)"
      ],
      "metadata": {
        "id": "46il6J17QhFG"
      },
      "execution_count": null,
      "outputs": []
    },
    {
      "cell_type": "code",
      "source": [
        "# Finner antall av enzymtype med minst antall\n",
        "n_splitt = n_splitt_enzym(rå_data,\n",
        "                          trening_markert)\n",
        "\n",
        "# Modelloptimalisering, trening og evaluering av RFR, KNR og SVR\n",
        "veiledet_modell_evaluering_1(dict_res_opt=res.dict_res_1_hel_opt,\n",
        "                             dict_res=res.dict_res_1_hel,\n",
        "                             treningssett_markert=trening_markert,\n",
        "                             enzymtyper_treningssett_markert=enzymtyper_markert,\n",
        "                             testsett=testsett,\n",
        "                             n_splitt=n_splitt,\n",
        "                             n_gjentagelser=n_gjentagelser,\n",
        "                             n_runder=n_runder,\n",
        "                             test_andel=test_andel,\n",
        "                             trenings_andel=trenings_andel,\n",
        "                             random_seed=random_seed)\n",
        "\n",
        "# Lagring av resultater\n",
        "res_1_hel = pd.DataFrame(res.dict_res_1_hel)\n",
        "res_1_hel_opt = pd.DataFrame(res.dict_res_1_hel_opt)\n",
        "\n",
        "res_1_hel.to_csv('/content/drive/MyDrive/MasterV24/Bioco_data/Resultater/smallmolecules/smallmolecules_resultater_1_hel.csv')\n",
        "res_1_hel_opt.to_csv('/content/drive/MyDrive/MasterV24/Bioco_data/Resultater/smallmolecules/smallmolecules_resultater_1_hel_opt.csv')"
      ],
      "metadata": {
        "id": "-1sgIF1zXb2O"
      },
      "execution_count": null,
      "outputs": []
    },
    {
      "cell_type": "markdown",
      "source": [
        "Velger beste modell"
      ],
      "metadata": {
        "id": "bwX1RP9pXiU_"
      }
    },
    {
      "cell_type": "code",
      "source": [],
      "metadata": {
        "id": "ioPAXcdFXkf7"
      },
      "execution_count": null,
      "outputs": []
    },
    {
      "cell_type": "markdown",
      "source": [
        "## Alternativ 2: 20% Testsett og resteremde hele treningssett"
      ],
      "metadata": {
        "id": "Vug3qjOcXxOJ"
      }
    },
    {
      "cell_type": "code",
      "source": [
        "# Definerer trenings- og testandel\n",
        "test_andel = 0.2\n",
        "trenings_andel = 1.0\n",
        "\n",
        "# Deler datasettet i trening og testsett\n",
        "trening_markert, testsett, _, trening\\\n",
        "= trening_testsett_oppdeling_dag(rå_data,\n",
        "                                 data,\n",
        "                                 test_andel=test_andel,\n",
        "                                 test_ekskluder_kalkun_kylling=True)"
      ],
      "metadata": {
        "id": "JzADzCY1X0Zx"
      },
      "execution_count": null,
      "outputs": []
    },
    {
      "cell_type": "code",
      "source": [
        "# Finner antall av enzymtype med minst antall\n",
        "n_splitt = n_splitt_enzym(rå_data,\n",
        "                          trening_markert)\n",
        "\n",
        "# Modelloptimalisering, trening og evaluering av RFR, KNR og SVR\n",
        "veiledet_modell_evaluering_2(dict_res_opt=res.dict_res_2_hel_opt,\n",
        "                             dict_res=res.dict_res_2_hel,\n",
        "                             rå_data=rå_data,\n",
        "                             treningssett_markert=trening_markert,\n",
        "                             testsett=testsett,\n",
        "                             n_splitt=n_splitt,\n",
        "                             n_runder=n_runder,\n",
        "                             test_andel=test_andel,\n",
        "                             trenings_andel=trenings_andel,\n",
        "                             random_seed=random_seed)\n",
        "\n",
        "res_2_hel = pd.DataFrame(res.dict_res_2_hel)\n",
        "res_2_hel_opt = pd.DataFrame(res.dict_res_2_hel_opt)\n",
        "\n",
        "res_2_hel.to_csv('/content/drive/MyDrive/MasterV24/Bioco_data/Resultater/smallmolecules/smallmolecules_resultater_2_hel.csv')\n",
        "res_2_hel_opt.to_csv('/content/drive/MyDrive/MasterV24/Bioco_data/Resultater/smallmolecules/smallmolecules_resultater_2_hel_opt.csv')"
      ],
      "metadata": {
        "id": "-GW5AyE7X5Sh"
      },
      "execution_count": null,
      "outputs": []
    },
    {
      "cell_type": "markdown",
      "source": [
        "Velger beste modell"
      ],
      "metadata": {
        "id": "nEi8u82bX7Vg"
      }
    },
    {
      "cell_type": "code",
      "source": [],
      "metadata": {
        "id": "qOJEIwcyX9iw"
      },
      "execution_count": null,
      "outputs": []
    },
    {
      "cell_type": "markdown",
      "metadata": {
        "id": "un6mDEGPFIHt"
      },
      "source": [
        "## Designproduksjon"
      ]
    },
    {
      "cell_type": "markdown",
      "source": [
        "## Alternativ 1: 80% Testsett og Hele resterende treningssett"
      ],
      "metadata": {
        "id": "eSEqU-HmSlHL"
      }
    },
    {
      "cell_type": "code",
      "source": [
        "# Setter fast testandel og treningsandel\n",
        "test_andel = 0.80\n",
        "trenings_andel = 1.0\n",
        "\n",
        "# Deler datasettet i trening og testsett\n",
        "trening_markert, enzymtyper_markert, testsett, _, _, _, trening\\\n",
        "= trening_testsett_oppdeling_enzym(rå_data,\n",
        "                                   data_design,\n",
        "                                   test_andel=test_andel)"
      ],
      "metadata": {
        "id": "paelAUWiSlHL"
      },
      "execution_count": null,
      "outputs": []
    },
    {
      "cell_type": "code",
      "source": [
        "# Finner antall av enzymtype med minst antall\n",
        "n_splitt = n_splitt_enzym(rå_data,\n",
        "                          trening_markert)\n",
        "\n",
        "# Modelloptimalisering, trening og evaluering av RFR, KNR og SVR\n",
        "veiledet_modell_evaluering_1(dict_res_opt=res.dict_res_1_design_opt,\n",
        "                             dict_res=res.dict_res_1_design,\n",
        "                             treningssett_markert=trening_markert,\n",
        "                             enzymtyper_treningssett_markert=enzymtyper_markert,\n",
        "                             testsett=testsett,\n",
        "                             n_splitt=n_splitt,\n",
        "                             n_gjentagelser=n_gjentagelser,\n",
        "                             n_runder=n_runder,\n",
        "                             test_andel=test_andel,\n",
        "                             trenings_andel=trenings_andel,\n",
        "                             random_seed=random_seed)\n",
        "\n",
        "res_1_design = pd.DataFrame(res.dict_res_1_design)\n",
        "res_1_design_opt = pd.DataFrame(res.dict_res_1_design_opt)\n",
        "\n",
        "res_1_design.to_csv('/content/drive/MyDrive/MasterV24/Bioco_data/Resultater/smallmolecules/smallmolecules_resultater_1_design.csv')\n",
        "res_1_design_opt.to_csv('/content/drive/MyDrive/MasterV24/Bioco_data/Resultater/smallmolecules/smallmolecules_resultater_1_design_opt.csv')"
      ],
      "metadata": {
        "colab": {
          "base_uri": "https://localhost:8080/"
        },
        "id": "w64oGKlwSlHL",
        "outputId": "74720478-b1f8-4f2f-dc9b-c174fbd3f4d8"
      },
      "execution_count": null,
      "outputs": [
        {
          "output_type": "stream",
          "name": "stderr",
          "text": [
            "[I 2024-04-28 15:36:41,658] A new study created in memory with name: no-name-13ad8672-a67f-4f70-8389-fa99e7589667\n",
            "[I 2024-04-28 15:36:42,066] Trial 1 finished with value: 4.287851594475565 and parameters: {'n_neighbors': 7, 'weights': 'uniform', 'p': 1}. Best is trial 1 with value: 4.287851594475565.\n",
            "[I 2024-04-28 15:36:42,097] Trial 0 finished with value: 4.382262579331768 and parameters: {'n_neighbors': 8, 'weights': 'distance', 'p': 10}. Best is trial 1 with value: 4.287851594475565.\n",
            "[I 2024-04-28 15:36:42,409] Trial 2 finished with value: 4.681101455047659 and parameters: {'n_neighbors': 2, 'weights': 'uniform', 'p': 3}. Best is trial 1 with value: 4.287851594475565.\n",
            "[I 2024-04-28 15:36:42,462] Trial 3 finished with value: 4.740376919200939 and parameters: {'n_neighbors': 2, 'weights': 'distance', 'p': 4}. Best is trial 1 with value: 4.287851594475565.\n",
            "[I 2024-04-28 15:36:42,791] Trial 4 finished with value: 4.442448791944665 and parameters: {'n_neighbors': 7, 'weights': 'uniform', 'p': 10}. Best is trial 1 with value: 4.287851594475565.\n",
            "[I 2024-04-28 15:36:43,159] Trial 5 finished with value: 4.416565775814692 and parameters: {'n_neighbors': 10, 'weights': 'distance', 'p': 10}. Best is trial 1 with value: 4.287851594475565.\n",
            "[I 2024-04-28 15:36:43,202] Trial 6 finished with value: 4.651832670995638 and parameters: {'n_neighbors': 3, 'weights': 'uniform', 'p': 9}. Best is trial 1 with value: 4.287851594475565.\n",
            "[I 2024-04-28 15:36:43,541] Trial 7 finished with value: 4.700602073804045 and parameters: {'n_neighbors': 2, 'weights': 'distance', 'p': 9}. Best is trial 1 with value: 4.287851594475565.\n",
            "[I 2024-04-28 15:36:43,580] Trial 8 finished with value: 4.4499746864778125 and parameters: {'n_neighbors': 9, 'weights': 'uniform', 'p': 6}. Best is trial 1 with value: 4.287851594475565.\n",
            "[I 2024-04-28 15:36:43,894] Trial 9 finished with value: 4.57852768336896 and parameters: {'n_neighbors': 3, 'weights': 'distance', 'p': 4}. Best is trial 1 with value: 4.287851594475565.\n",
            "[I 2024-04-28 15:36:43,938] Trial 10 finished with value: 5.328190530963433 and parameters: {'n_neighbors': 1, 'weights': 'distance', 'p': 9}. Best is trial 1 with value: 4.287851594475565.\n",
            "[I 2024-04-28 15:36:44,403] Trial 12 finished with value: 4.287851594475565 and parameters: {'n_neighbors': 7, 'weights': 'uniform', 'p': 1}. Best is trial 1 with value: 4.287851594475565.\n",
            "[I 2024-04-28 15:36:44,433] Trial 11 finished with value: 4.516333927571764 and parameters: {'n_neighbors': 5, 'weights': 'uniform', 'p': 1}. Best is trial 1 with value: 4.287851594475565.\n",
            "[I 2024-04-28 15:36:44,930] Trial 14 finished with value: 4.380812585744653 and parameters: {'n_neighbors': 6, 'weights': 'uniform', 'p': 1}. Best is trial 1 with value: 4.287851594475565.\n",
            "[I 2024-04-28 15:36:44,934] Trial 13 finished with value: 4.380812585744653 and parameters: {'n_neighbors': 6, 'weights': 'uniform', 'p': 1}. Best is trial 1 with value: 4.287851594475565.\n",
            "[I 2024-04-28 15:36:45,350] Trial 15 finished with value: 4.510088472768823 and parameters: {'n_neighbors': 5, 'weights': 'uniform', 'p': 3}. Best is trial 1 with value: 4.287851594475565.\n",
            "[I 2024-04-28 15:36:45,379] Trial 16 finished with value: 4.510088472768823 and parameters: {'n_neighbors': 5, 'weights': 'uniform', 'p': 3}. Best is trial 1 with value: 4.287851594475565.\n",
            "[I 2024-04-28 15:36:45,775] Trial 17 finished with value: 4.47620857667278 and parameters: {'n_neighbors': 8, 'weights': 'uniform', 'p': 6}. Best is trial 1 with value: 4.287851594475565.\n",
            "[I 2024-04-28 15:36:45,809] Trial 18 finished with value: 4.47620857667278 and parameters: {'n_neighbors': 8, 'weights': 'uniform', 'p': 6}. Best is trial 1 with value: 4.287851594475565.\n",
            "[I 2024-04-28 15:36:46,303] Trial 19 finished with value: 4.221702731481866 and parameters: {'n_neighbors': 7, 'weights': 'uniform', 'p': 2}. Best is trial 19 with value: 4.221702731481866.\n",
            "[I 2024-04-28 15:36:46,347] Trial 20 finished with value: 4.349677398282622 and parameters: {'n_neighbors': 10, 'weights': 'uniform', 'p': 2}. Best is trial 19 with value: 4.221702731481866.\n",
            "[I 2024-04-28 15:36:46,760] Trial 21 finished with value: 4.349677398282622 and parameters: {'n_neighbors': 10, 'weights': 'uniform', 'p': 2}. Best is trial 19 with value: 4.221702731481866.\n",
            "[I 2024-04-28 15:36:46,774] Trial 22 finished with value: 4.221702731481866 and parameters: {'n_neighbors': 7, 'weights': 'uniform', 'p': 2}. Best is trial 19 with value: 4.221702731481866.\n",
            "[I 2024-04-28 15:36:47,460] Trial 23 finished with value: 4.221702731481866 and parameters: {'n_neighbors': 7, 'weights': 'uniform', 'p': 2}. Best is trial 19 with value: 4.221702731481866.\n",
            "[I 2024-04-28 15:36:47,519] Trial 24 finished with value: 4.221702731481866 and parameters: {'n_neighbors': 7, 'weights': 'uniform', 'p': 2}. Best is trial 19 with value: 4.221702731481866.\n",
            "[I 2024-04-28 15:36:48,260] Trial 26 finished with value: 4.494047383091317 and parameters: {'n_neighbors': 6, 'weights': 'uniform', 'p': 4}. Best is trial 19 with value: 4.221702731481866.\n",
            "[I 2024-04-28 15:36:48,392] Trial 25 finished with value: 4.494047383091317 and parameters: {'n_neighbors': 6, 'weights': 'uniform', 'p': 4}. Best is trial 19 with value: 4.221702731481866.\n",
            "[I 2024-04-28 15:36:49,112] Trial 27 finished with value: 4.418785415979566 and parameters: {'n_neighbors': 9, 'weights': 'uniform', 'p': 5}. Best is trial 19 with value: 4.221702731481866.\n",
            "[I 2024-04-28 15:36:49,211] Trial 28 finished with value: 4.418785415979566 and parameters: {'n_neighbors': 9, 'weights': 'uniform', 'p': 5}. Best is trial 19 with value: 4.221702731481866.\n",
            "[I 2024-04-28 15:36:49,650] Trial 29 finished with value: 4.621308379931523 and parameters: {'n_neighbors': 4, 'weights': 'uniform', 'p': 7}. Best is trial 19 with value: 4.221702731481866.\n",
            "[I 2024-04-28 15:36:49,747] Trial 30 finished with value: 4.444913056989905 and parameters: {'n_neighbors': 4, 'weights': 'distance', 'p': 2}. Best is trial 19 with value: 4.221702731481866.\n",
            "[I 2024-04-28 15:36:50,289] Trial 31 finished with value: 4.168299216627328 and parameters: {'n_neighbors': 8, 'weights': 'distance', 'p': 2}. Best is trial 31 with value: 4.168299216627328.\n",
            "[I 2024-04-28 15:36:50,366] Trial 32 finished with value: 4.221702731481866 and parameters: {'n_neighbors': 7, 'weights': 'uniform', 'p': 2}. Best is trial 31 with value: 4.168299216627328.\n",
            "[I 2024-04-28 15:36:50,987] Trial 33 finished with value: 4.2136365928522 and parameters: {'n_neighbors': 8, 'weights': 'distance', 'p': 3}. Best is trial 31 with value: 4.168299216627328.\n",
            "[I 2024-04-28 15:36:51,070] Trial 34 finished with value: 4.2136365928522 and parameters: {'n_neighbors': 8, 'weights': 'distance', 'p': 3}. Best is trial 31 with value: 4.168299216627328.\n",
            "[I 2024-04-28 15:36:51,499] Trial 35 finished with value: 4.2136365928522 and parameters: {'n_neighbors': 8, 'weights': 'distance', 'p': 3}. Best is trial 31 with value: 4.168299216627328.\n",
            "[I 2024-04-28 15:36:51,604] Trial 36 finished with value: 4.2136365928522 and parameters: {'n_neighbors': 8, 'weights': 'distance', 'p': 3}. Best is trial 31 with value: 4.168299216627328.\n",
            "[I 2024-04-28 15:36:51,912] Trial 37 finished with value: 4.2136365928522 and parameters: {'n_neighbors': 8, 'weights': 'distance', 'p': 3}. Best is trial 31 with value: 4.168299216627328.\n",
            "[I 2024-04-28 15:36:51,991] Trial 38 finished with value: 4.243588276475409 and parameters: {'n_neighbors': 9, 'weights': 'distance', 'p': 3}. Best is trial 31 with value: 4.168299216627328.\n",
            "[I 2024-04-28 15:36:52,216] Trial 39 finished with value: 4.315278072564208 and parameters: {'n_neighbors': 9, 'weights': 'distance', 'p': 4}. Best is trial 31 with value: 4.168299216627328.\n",
            "[I 2024-04-28 15:36:52,449] Trial 40 finished with value: 4.317091952619987 and parameters: {'n_neighbors': 8, 'weights': 'distance', 'p': 4}. Best is trial 31 with value: 4.168299216627328.\n",
            "[I 2024-04-28 15:36:52,662] Trial 41 finished with value: 4.344200545545179 and parameters: {'n_neighbors': 8, 'weights': 'distance', 'p': 5}. Best is trial 31 with value: 4.168299216627328.\n",
            "[I 2024-04-28 15:36:52,854] Trial 42 finished with value: 4.2136365928522 and parameters: {'n_neighbors': 8, 'weights': 'distance', 'p': 3}. Best is trial 31 with value: 4.168299216627328.\n",
            "[I 2024-04-28 15:36:53,066] Trial 43 finished with value: 4.2136365928522 and parameters: {'n_neighbors': 8, 'weights': 'distance', 'p': 3}. Best is trial 31 with value: 4.168299216627328.\n",
            "[I 2024-04-28 15:36:53,269] Trial 44 finished with value: 4.243588276475409 and parameters: {'n_neighbors': 9, 'weights': 'distance', 'p': 3}. Best is trial 31 with value: 4.168299216627328.\n",
            "[I 2024-04-28 15:36:53,458] Trial 45 finished with value: 4.243588276475409 and parameters: {'n_neighbors': 9, 'weights': 'distance', 'p': 3}. Best is trial 31 with value: 4.168299216627328.\n",
            "[I 2024-04-28 15:36:53,639] Trial 46 finished with value: 4.302240984074652 and parameters: {'n_neighbors': 10, 'weights': 'distance', 'p': 4}. Best is trial 31 with value: 4.168299216627328.\n",
            "[I 2024-04-28 15:36:53,867] Trial 47 finished with value: 4.302240984074652 and parameters: {'n_neighbors': 10, 'weights': 'distance', 'p': 4}. Best is trial 31 with value: 4.168299216627328.\n",
            "[I 2024-04-28 15:36:53,970] Trial 48 finished with value: 4.201208914938722 and parameters: {'n_neighbors': 8, 'weights': 'distance', 'p': 1}. Best is trial 31 with value: 4.168299216627328.\n",
            "[I 2024-04-28 15:36:54,191] Trial 49 finished with value: 4.201208914938722 and parameters: {'n_neighbors': 8, 'weights': 'distance', 'p': 1}. Best is trial 31 with value: 4.168299216627328.\n",
            "[I 2024-04-28 15:36:54,418] Trial 50 finished with value: 4.3227828215180555 and parameters: {'n_neighbors': 6, 'weights': 'distance', 'p': 1}. Best is trial 31 with value: 4.168299216627328.\n",
            "[I 2024-04-28 15:36:54,653] Trial 51 finished with value: 4.3227828215180555 and parameters: {'n_neighbors': 6, 'weights': 'distance', 'p': 1}. Best is trial 31 with value: 4.168299216627328.\n",
            "[I 2024-04-28 15:36:54,831] Trial 52 finished with value: 4.201208914938722 and parameters: {'n_neighbors': 8, 'weights': 'distance', 'p': 1}. Best is trial 31 with value: 4.168299216627328.\n",
            "[I 2024-04-28 15:36:55,116] Trial 53 finished with value: 4.197104887301629 and parameters: {'n_neighbors': 9, 'weights': 'distance', 'p': 1}. Best is trial 31 with value: 4.168299216627328.\n",
            "[I 2024-04-28 15:36:55,279] Trial 54 finished with value: 4.197104887301629 and parameters: {'n_neighbors': 9, 'weights': 'distance', 'p': 1}. Best is trial 31 with value: 4.168299216627328.\n",
            "[I 2024-04-28 15:36:55,504] Trial 55 finished with value: 4.197104887301629 and parameters: {'n_neighbors': 9, 'weights': 'distance', 'p': 1}. Best is trial 31 with value: 4.168299216627328.\n",
            "[I 2024-04-28 15:36:55,619] Trial 56 finished with value: 4.197104887301629 and parameters: {'n_neighbors': 9, 'weights': 'distance', 'p': 1}. Best is trial 31 with value: 4.168299216627328.\n",
            "[I 2024-04-28 15:36:55,862] Trial 57 finished with value: 4.197104887301629 and parameters: {'n_neighbors': 9, 'weights': 'distance', 'p': 1}. Best is trial 31 with value: 4.168299216627328.\n",
            "[I 2024-04-28 15:36:55,996] Trial 58 finished with value: 4.206916389437756 and parameters: {'n_neighbors': 10, 'weights': 'distance', 'p': 1}. Best is trial 31 with value: 4.168299216627328.\n",
            "[I 2024-04-28 15:36:56,261] Trial 59 finished with value: 4.206916389437756 and parameters: {'n_neighbors': 10, 'weights': 'distance', 'p': 1}. Best is trial 31 with value: 4.168299216627328.\n",
            "[I 2024-04-28 15:36:56,429] Trial 60 finished with value: 4.197104887301629 and parameters: {'n_neighbors': 9, 'weights': 'distance', 'p': 1}. Best is trial 31 with value: 4.168299216627328.\n",
            "[I 2024-04-28 15:36:56,713] Trial 61 finished with value: 4.207433749836565 and parameters: {'n_neighbors': 9, 'weights': 'distance', 'p': 2}. Best is trial 31 with value: 4.168299216627328.\n",
            "[I 2024-04-28 15:36:56,860] Trial 62 finished with value: 4.197104887301629 and parameters: {'n_neighbors': 9, 'weights': 'distance', 'p': 1}. Best is trial 31 with value: 4.168299216627328.\n",
            "[I 2024-04-28 15:36:56,973] Trial 63 finished with value: 4.197104887301629 and parameters: {'n_neighbors': 9, 'weights': 'distance', 'p': 1}. Best is trial 31 with value: 4.168299216627328.\n",
            "[I 2024-04-28 15:36:57,154] Trial 64 finished with value: 4.197104887301629 and parameters: {'n_neighbors': 9, 'weights': 'distance', 'p': 1}. Best is trial 31 with value: 4.168299216627328.\n",
            "[I 2024-04-28 15:36:57,373] Trial 65 finished with value: 4.224579475027092 and parameters: {'n_neighbors': 10, 'weights': 'distance', 'p': 2}. Best is trial 31 with value: 4.168299216627328.\n",
            "[I 2024-04-28 15:36:57,484] Trial 66 finished with value: 4.224579475027092 and parameters: {'n_neighbors': 10, 'weights': 'distance', 'p': 2}. Best is trial 31 with value: 4.168299216627328.\n",
            "[I 2024-04-28 15:36:57,682] Trial 68 finished with value: 5.173237858160905 and parameters: {'n_neighbors': 1, 'weights': 'distance', 'p': 1}. Best is trial 31 with value: 4.168299216627328.\n",
            "[I 2024-04-28 15:36:57,741] Trial 67 finished with value: 4.422360928558475 and parameters: {'n_neighbors': 10, 'weights': 'distance', 'p': 8}. Best is trial 31 with value: 4.168299216627328.\n",
            "[I 2024-04-28 15:36:57,877] Trial 69 finished with value: 4.207433749836565 and parameters: {'n_neighbors': 9, 'weights': 'distance', 'p': 2}. Best is trial 31 with value: 4.168299216627328.\n",
            "[I 2024-04-28 15:36:58,010] Trial 70 finished with value: 4.207433749836565 and parameters: {'n_neighbors': 9, 'weights': 'distance', 'p': 2}. Best is trial 31 with value: 4.168299216627328.\n",
            "[I 2024-04-28 15:36:58,229] Trial 71 finished with value: 4.197104887301629 and parameters: {'n_neighbors': 9, 'weights': 'distance', 'p': 1}. Best is trial 31 with value: 4.168299216627328.\n",
            "[I 2024-04-28 15:36:58,371] Trial 72 finished with value: 4.197104887301629 and parameters: {'n_neighbors': 9, 'weights': 'distance', 'p': 1}. Best is trial 31 with value: 4.168299216627328.\n",
            "[I 2024-04-28 15:36:58,454] Trial 73 finished with value: 4.197104887301629 and parameters: {'n_neighbors': 9, 'weights': 'distance', 'p': 1}. Best is trial 31 with value: 4.168299216627328.\n",
            "[I 2024-04-28 15:36:58,618] Trial 74 finished with value: 4.197104887301629 and parameters: {'n_neighbors': 9, 'weights': 'distance', 'p': 1}. Best is trial 31 with value: 4.168299216627328.\n",
            "[I 2024-04-28 15:36:58,798] Trial 75 finished with value: 4.206916389437756 and parameters: {'n_neighbors': 10, 'weights': 'distance', 'p': 1}. Best is trial 31 with value: 4.168299216627328.\n",
            "[I 2024-04-28 15:36:58,978] Trial 77 finished with value: 4.207433749836565 and parameters: {'n_neighbors': 9, 'weights': 'distance', 'p': 2}. Best is trial 31 with value: 4.168299216627328.\n",
            "[I 2024-04-28 15:36:59,011] Trial 76 finished with value: 4.224579475027092 and parameters: {'n_neighbors': 10, 'weights': 'distance', 'p': 2}. Best is trial 31 with value: 4.168299216627328.\n",
            "[I 2024-04-28 15:36:59,243] Trial 79 finished with value: 4.197104887301629 and parameters: {'n_neighbors': 9, 'weights': 'distance', 'p': 1}. Best is trial 31 with value: 4.168299216627328.\n",
            "[I 2024-04-28 15:36:59,380] Trial 78 finished with value: 4.224579475027092 and parameters: {'n_neighbors': 10, 'weights': 'distance', 'p': 2}. Best is trial 31 with value: 4.168299216627328.\n",
            "[I 2024-04-28 15:36:59,599] Trial 81 finished with value: 4.240381190917521 and parameters: {'n_neighbors': 7, 'weights': 'distance', 'p': 1}. Best is trial 31 with value: 4.168299216627328.\n",
            "[I 2024-04-28 15:36:59,677] Trial 80 finished with value: 4.416565775814692 and parameters: {'n_neighbors': 10, 'weights': 'distance', 'p': 10}. Best is trial 31 with value: 4.168299216627328.\n",
            "[I 2024-04-28 15:36:59,852] Trial 82 finished with value: 4.197104887301629 and parameters: {'n_neighbors': 9, 'weights': 'distance', 'p': 1}. Best is trial 31 with value: 4.168299216627328.\n",
            "[I 2024-04-28 15:36:59,976] Trial 83 finished with value: 4.197104887301629 and parameters: {'n_neighbors': 9, 'weights': 'distance', 'p': 1}. Best is trial 31 with value: 4.168299216627328.\n",
            "[I 2024-04-28 15:37:00,128] Trial 84 finished with value: 4.197104887301629 and parameters: {'n_neighbors': 9, 'weights': 'distance', 'p': 1}. Best is trial 31 with value: 4.168299216627328.\n",
            "[I 2024-04-28 15:37:00,267] Trial 85 finished with value: 4.197104887301629 and parameters: {'n_neighbors': 9, 'weights': 'distance', 'p': 1}. Best is trial 31 with value: 4.168299216627328.\n",
            "[I 2024-04-28 15:37:00,424] Trial 86 finished with value: 4.207433749836565 and parameters: {'n_neighbors': 9, 'weights': 'distance', 'p': 2}. Best is trial 31 with value: 4.168299216627328.\n",
            "[I 2024-04-28 15:37:00,558] Trial 87 finished with value: 4.168299216627328 and parameters: {'n_neighbors': 8, 'weights': 'distance', 'p': 2}. Best is trial 31 with value: 4.168299216627328.\n",
            "[I 2024-04-28 15:37:00,843] Trial 88 finished with value: 4.168299216627328 and parameters: {'n_neighbors': 8, 'weights': 'distance', 'p': 2}. Best is trial 31 with value: 4.168299216627328.\n",
            "[I 2024-04-28 15:37:00,904] Trial 89 finished with value: 4.168299216627328 and parameters: {'n_neighbors': 8, 'weights': 'distance', 'p': 2}. Best is trial 31 with value: 4.168299216627328.\n",
            "[I 2024-04-28 15:37:01,223] Trial 90 finished with value: 4.183165318135788 and parameters: {'n_neighbors': 7, 'weights': 'distance', 'p': 2}. Best is trial 31 with value: 4.168299216627328.\n",
            "[I 2024-04-28 15:37:01,273] Trial 91 finished with value: 4.183165318135788 and parameters: {'n_neighbors': 7, 'weights': 'distance', 'p': 2}. Best is trial 31 with value: 4.168299216627328.\n",
            "[I 2024-04-28 15:37:01,540] Trial 92 finished with value: 4.183165318135788 and parameters: {'n_neighbors': 7, 'weights': 'distance', 'p': 2}. Best is trial 31 with value: 4.168299216627328.\n",
            "[I 2024-04-28 15:37:01,583] Trial 93 finished with value: 4.183165318135788 and parameters: {'n_neighbors': 7, 'weights': 'distance', 'p': 2}. Best is trial 31 with value: 4.168299216627328.\n",
            "[I 2024-04-28 15:37:01,862] Trial 94 finished with value: 4.183165318135788 and parameters: {'n_neighbors': 7, 'weights': 'distance', 'p': 2}. Best is trial 31 with value: 4.168299216627328.\n",
            "[I 2024-04-28 15:37:02,017] Trial 95 finished with value: 4.183165318135788 and parameters: {'n_neighbors': 7, 'weights': 'distance', 'p': 2}. Best is trial 31 with value: 4.168299216627328.\n",
            "[I 2024-04-28 15:37:02,216] Trial 96 finished with value: 4.183165318135788 and parameters: {'n_neighbors': 7, 'weights': 'distance', 'p': 2}. Best is trial 31 with value: 4.168299216627328.\n",
            "[I 2024-04-28 15:37:02,372] Trial 97 finished with value: 4.183165318135788 and parameters: {'n_neighbors': 7, 'weights': 'distance', 'p': 2}. Best is trial 31 with value: 4.168299216627328.\n",
            "[I 2024-04-28 15:37:02,571] Trial 98 finished with value: 4.256157724301205 and parameters: {'n_neighbors': 7, 'weights': 'distance', 'p': 3}. Best is trial 31 with value: 4.168299216627328.\n",
            "[I 2024-04-28 15:37:02,658] Trial 99 finished with value: 4.256157724301205 and parameters: {'n_neighbors': 7, 'weights': 'distance', 'p': 3}. Best is trial 31 with value: 4.168299216627328.\n",
            "[I 2024-04-28 15:37:02,680] A new study created in memory with name: no-name-271a2b47-8d06-4bdd-9565-fadd51ed7082\n",
            "[I 2024-04-28 15:37:36,213] Trial 1 finished with value: 4.023305768086933 and parameters: {'n_estimators': 644, 'criterion': 'friedman_mse', 'max_depth': 16, 'min_samples_leaf': 3, 'max_features': 0.689720257081701}. Best is trial 1 with value: 4.023305768086933.\n",
            "[I 2024-04-28 15:37:51,886] Trial 0 finished with value: 3.990976762920939 and parameters: {'n_estimators': 955, 'criterion': 'poisson', 'max_depth': 3, 'min_samples_leaf': 2, 'max_features': 0.9872256566469418}. Best is trial 0 with value: 3.990976762920939.\n",
            "[I 2024-04-28 15:38:04,146] Trial 3 finished with value: 4.3217880653027985 and parameters: {'n_estimators': 298, 'criterion': 'squared_error', 'max_depth': 7, 'min_samples_leaf': 3, 'max_features': 0.2150561241645817}. Best is trial 0 with value: 3.990976762920939.\n",
            "[I 2024-04-28 15:38:30,043] Trial 2 finished with value: 4.089876703382524 and parameters: {'n_estimators': 745, 'criterion': 'absolute_error', 'max_depth': 19, 'min_samples_leaf': 1, 'max_features': 0.24615344613151868}. Best is trial 0 with value: 3.990976762920939.\n",
            "[I 2024-04-28 15:38:42,453] Trial 4 finished with value: 4.163846927111327 and parameters: {'n_estimators': 968, 'criterion': 'friedman_mse', 'max_depth': 24, 'min_samples_leaf': 2, 'max_features': 0.19909068975791727}. Best is trial 0 with value: 3.990976762920939.\n",
            "[I 2024-04-28 15:38:55,636] Trial 5 finished with value: 4.607702464582964 and parameters: {'n_estimators': 568, 'criterion': 'absolute_error', 'max_depth': 10, 'min_samples_leaf': 5, 'max_features': 0.1549318978279866}. Best is trial 0 with value: 3.990976762920939.\n",
            "[I 2024-04-28 15:38:59,729] Trial 6 finished with value: 4.035385789617339 and parameters: {'n_estimators': 377, 'criterion': 'poisson', 'max_depth': 26, 'min_samples_leaf': 3, 'max_features': 0.5557445058621217}. Best is trial 0 with value: 3.990976762920939.\n",
            "[I 2024-04-28 15:39:12,115] Trial 8 finished with value: 4.032525077027317 and parameters: {'n_estimators': 291, 'criterion': 'squared_error', 'max_depth': 21, 'min_samples_leaf': 4, 'max_features': 0.8342839268885696}. Best is trial 0 with value: 3.990976762920939.\n",
            "[I 2024-04-28 15:39:22,907] Trial 9 finished with value: 4.105437700784243 and parameters: {'n_estimators': 266, 'criterion': 'poisson', 'max_depth': 23, 'min_samples_leaf': 4, 'max_features': 0.5796795458160091}. Best is trial 0 with value: 3.990976762920939.\n",
            "[I 2024-04-28 15:39:32,666] Trial 7 finished with value: 3.967326143070914 and parameters: {'n_estimators': 822, 'criterion': 'squared_error', 'max_depth': 29, 'min_samples_leaf': 3, 'max_features': 0.9354735961317945}. Best is trial 7 with value: 3.967326143070914.\n",
            "[I 2024-04-28 15:39:48,440] Trial 10 finished with value: 4.717723962774652 and parameters: {'n_estimators': 677, 'criterion': 'absolute_error', 'max_depth': 15, 'min_samples_leaf': 5, 'max_features': 0.12312236984525413}. Best is trial 7 with value: 3.967326143070914.\n",
            "[I 2024-04-28 15:40:14,232] Trial 11 finished with value: 4.003193092820655 and parameters: {'n_estimators': 802, 'criterion': 'squared_error', 'max_depth': 29, 'min_samples_leaf': 1, 'max_features': 0.9925536340284735}. Best is trial 7 with value: 3.967326143070914.\n",
            "[I 2024-04-28 15:40:30,684] Trial 12 finished with value: 4.07891060389476 and parameters: {'n_estimators': 996, 'criterion': 'poisson', 'max_depth': 2, 'min_samples_leaf': 1, 'max_features': 0.9465651695452663}. Best is trial 7 with value: 3.967326143070914.\n",
            "[I 2024-04-28 15:40:52,795] Trial 13 finished with value: 4.147462818991657 and parameters: {'n_estimators': 977, 'criterion': 'poisson', 'max_depth': 1, 'min_samples_leaf': 2, 'max_features': 0.9819357797544761}. Best is trial 7 with value: 3.967326143070914.\n",
            "[I 2024-04-28 15:41:10,312] Trial 14 finished with value: 3.9903245481540366 and parameters: {'n_estimators': 860, 'criterion': 'squared_error', 'max_depth': 3, 'min_samples_leaf': 2, 'max_features': 0.8064611012365663}. Best is trial 7 with value: 3.967326143070914.\n",
            "[I 2024-04-28 15:41:32,797] Trial 15 finished with value: 3.984579969116727 and parameters: {'n_estimators': 843, 'criterion': 'squared_error', 'max_depth': 9, 'min_samples_leaf': 2, 'max_features': 0.7924121267224968}. Best is trial 7 with value: 3.967326143070914.\n",
            "[I 2024-04-28 15:41:38,398] Trial 17 finished with value: 4.210325274584406 and parameters: {'n_estimators': 124, 'criterion': 'squared_error', 'max_depth': 11, 'min_samples_leaf': 4, 'max_features': 0.38991079536215606}. Best is trial 7 with value: 3.967326143070914.\n",
            "[I 2024-04-28 15:41:44,705] Trial 16 finished with value: 4.020059106099233 and parameters: {'n_estimators': 864, 'criterion': 'squared_error', 'max_depth': 10, 'min_samples_leaf': 4, 'max_features': 0.7798087846101123}. Best is trial 7 with value: 3.967326143070914.\n",
            "[I 2024-04-28 15:42:04,139] Trial 18 finished with value: 3.998992416275226 and parameters: {'n_estimators': 517, 'criterion': 'squared_error', 'max_depth': 29, 'min_samples_leaf': 2, 'max_features': 0.8024204126005338}. Best is trial 7 with value: 3.967326143070914.\n",
            "[I 2024-04-28 15:42:07,750] Trial 19 finished with value: 4.015100841802159 and parameters: {'n_estimators': 476, 'criterion': 'squared_error', 'max_depth': 30, 'min_samples_leaf': 2, 'max_features': 0.6798767973913479}. Best is trial 7 with value: 3.967326143070914.\n",
            "[I 2024-04-28 15:42:26,480] Trial 20 finished with value: 4.027255884170218 and parameters: {'n_estimators': 504, 'criterion': 'squared_error', 'max_depth': 15, 'min_samples_leaf': 3, 'max_features': 0.692263706207649}. Best is trial 7 with value: 3.967326143070914.\n",
            "[I 2024-04-28 15:42:39,762] Trial 21 finished with value: 3.9827599412727945 and parameters: {'n_estimators': 733, 'criterion': 'friedman_mse', 'max_depth': 15, 'min_samples_leaf': 3, 'max_features': 0.893934760579671}. Best is trial 7 with value: 3.967326143070914.\n",
            "[I 2024-04-28 15:43:04,842] Trial 22 finished with value: 3.97638032553334 and parameters: {'n_estimators': 873, 'criterion': 'squared_error', 'max_depth': 5, 'min_samples_leaf': 3, 'max_features': 0.8874622824181678}. Best is trial 7 with value: 3.967326143070914.\n",
            "[I 2024-04-28 15:43:11,579] Trial 23 finished with value: 3.9830888629716004 and parameters: {'n_estimators': 729, 'criterion': 'friedman_mse', 'max_depth': 6, 'min_samples_leaf': 3, 'max_features': 0.8694185234881355}. Best is trial 7 with value: 3.967326143070914.\n",
            "[I 2024-04-28 15:43:37,787] Trial 25 finished with value: 4.006898469021898 and parameters: {'n_estimators': 623, 'criterion': 'friedman_mse', 'max_depth': 18, 'min_samples_leaf': 4, 'max_features': 0.9092776600182568}. Best is trial 7 with value: 3.967326143070914.\n",
            "[I 2024-04-28 15:43:38,726] Trial 24 finished with value: 3.982687912243852 and parameters: {'n_estimators': 732, 'criterion': 'friedman_mse', 'max_depth': 7, 'min_samples_leaf': 3, 'max_features': 0.8787433525767248}. Best is trial 7 with value: 3.967326143070914.\n",
            "[I 2024-04-28 15:44:10,711] Trial 26 finished with value: 4.088296182193382 and parameters: {'n_estimators': 763, 'criterion': 'friedman_mse', 'max_depth': 13, 'min_samples_leaf': 3, 'max_features': 0.436070302859406}. Best is trial 7 with value: 3.967326143070914.\n",
            "[I 2024-04-28 15:44:13,557] Trial 27 finished with value: 4.035662731644173 and parameters: {'n_estimators': 796, 'criterion': 'friedman_mse', 'max_depth': 6, 'min_samples_leaf': 3, 'max_features': 0.47097862919594335}. Best is trial 7 with value: 3.967326143070914.\n",
            "[I 2024-04-28 15:44:46,103] Trial 28 finished with value: 4.046090689337329 and parameters: {'n_estimators': 911, 'criterion': 'friedman_mse', 'max_depth': 6, 'min_samples_leaf': 4, 'max_features': 0.7504020625706833}. Best is trial 7 with value: 3.967326143070914.\n",
            "[I 2024-04-28 15:44:57,667] Trial 29 finished with value: 4.030607241923805 and parameters: {'n_estimators': 920, 'criterion': 'absolute_error', 'max_depth': 5, 'min_samples_leaf': 4, 'max_features': 0.7484807299547992}. Best is trial 7 with value: 3.967326143070914.\n",
            "[I 2024-04-28 15:45:20,624] Trial 30 finished with value: 3.9927235219995163 and parameters: {'n_estimators': 684, 'criterion': 'absolute_error', 'max_depth': 5, 'min_samples_leaf': 3, 'max_features': 0.6348383921852303}. Best is trial 7 with value: 3.967326143070914.\n",
            "[I 2024-04-28 15:45:33,600] Trial 31 finished with value: 4.0173169849652215 and parameters: {'n_estimators': 905, 'criterion': 'squared_error', 'max_depth': 3, 'min_samples_leaf': 3, 'max_features': 0.6166444336670405}. Best is trial 7 with value: 3.967326143070914.\n",
            "[I 2024-04-28 15:45:46,651] Trial 32 finished with value: 3.9932416830633612 and parameters: {'n_estimators': 579, 'criterion': 'friedman_mse', 'max_depth': 12, 'min_samples_leaf': 3, 'max_features': 0.889693635173743}. Best is trial 7 with value: 3.967326143070914.\n",
            "[I 2024-04-28 15:45:59,786] Trial 33 finished with value: 3.9893639008157487 and parameters: {'n_estimators': 599, 'criterion': 'friedman_mse', 'max_depth': 13, 'min_samples_leaf': 3, 'max_features': 0.889858682664908}. Best is trial 7 with value: 3.967326143070914.\n",
            "[I 2024-04-28 15:46:17,347] Trial 34 finished with value: 3.976210769622839 and parameters: {'n_estimators': 692, 'criterion': 'friedman_mse', 'max_depth': 17, 'min_samples_leaf': 3, 'max_features': 0.9468772420456658}. Best is trial 7 with value: 3.967326143070914.\n",
            "[I 2024-04-28 15:46:29,901] Trial 35 finished with value: 3.97492203236682 and parameters: {'n_estimators': 712, 'criterion': 'friedman_mse', 'max_depth': 18, 'min_samples_leaf': 3, 'max_features': 0.9242741938876503}. Best is trial 7 with value: 3.967326143070914.\n",
            "[I 2024-04-28 15:46:47,934] Trial 36 finished with value: 3.991214617835133 and parameters: {'n_estimators': 675, 'criterion': 'friedman_mse', 'max_depth': 27, 'min_samples_leaf': 2, 'max_features': 0.9437286641304432}. Best is trial 7 with value: 3.967326143070914.\n",
            "[I 2024-04-28 15:47:00,167] Trial 37 finished with value: 3.9923466172252136 and parameters: {'n_estimators': 670, 'criterion': 'friedman_mse', 'max_depth': 18, 'min_samples_leaf': 2, 'max_features': 0.9480196871690026}. Best is trial 7 with value: 3.967326143070914.\n",
            "[I 2024-04-28 15:47:22,757] Trial 38 finished with value: 3.9674764302291305 and parameters: {'n_estimators': 812, 'criterion': 'squared_error', 'max_depth': 20, 'min_samples_leaf': 3, 'max_features': 0.9429334239089396}. Best is trial 7 with value: 3.967326143070914.\n",
            "[I 2024-04-28 15:47:38,909] Trial 39 finished with value: 3.9674889240636193 and parameters: {'n_estimators': 814, 'criterion': 'squared_error', 'max_depth': 21, 'min_samples_leaf': 3, 'max_features': 0.997757889935314}. Best is trial 7 with value: 3.967326143070914.\n",
            "[I 2024-04-28 15:48:00,056] Trial 40 finished with value: 3.989008372948365 and parameters: {'n_estimators': 791, 'criterion': 'poisson', 'max_depth': 22, 'min_samples_leaf': 4, 'max_features': 0.9454442116969547}. Best is trial 7 with value: 3.967326143070914.\n",
            "[I 2024-04-28 15:48:11,178] Trial 41 finished with value: 4.097841637241355 and parameters: {'n_estimators': 803, 'criterion': 'squared_error', 'max_depth': 21, 'min_samples_leaf': 5, 'max_features': 0.9956624987039074}. Best is trial 7 with value: 3.967326143070914.\n",
            "[I 2024-04-28 15:48:34,664] Trial 42 finished with value: 3.9819223307287794 and parameters: {'n_estimators': 771, 'criterion': 'squared_error', 'max_depth': 20, 'min_samples_leaf': 3, 'max_features': 0.8460978933481733}. Best is trial 7 with value: 3.967326143070914.\n",
            "[I 2024-04-28 15:48:48,218] Trial 43 finished with value: 3.9808668304978485 and parameters: {'n_estimators': 823, 'criterion': 'squared_error', 'max_depth': 20, 'min_samples_leaf': 3, 'max_features': 0.8390244125699686}. Best is trial 7 with value: 3.967326143070914.\n",
            "[I 2024-04-28 15:49:10,932] Trial 44 finished with value: 4.131336080677457 and parameters: {'n_estimators': 821, 'criterion': 'squared_error', 'max_depth': 25, 'min_samples_leaf': 3, 'max_features': 0.318853568522134}. Best is trial 7 with value: 3.967326143070914.\n",
            "[I 2024-04-28 15:49:19,956] Trial 45 finished with value: 3.9743124903365827 and parameters: {'n_estimators': 708, 'criterion': 'squared_error', 'max_depth': 25, 'min_samples_leaf': 3, 'max_features': 0.9402181349256945}. Best is trial 7 with value: 3.967326143070914.\n",
            "[I 2024-04-28 15:49:48,881] Trial 47 finished with value: 3.9871573991404023 and parameters: {'n_estimators': 722, 'criterion': 'squared_error', 'max_depth': 24, 'min_samples_leaf': 4, 'max_features': 0.9966329433513661}. Best is trial 7 with value: 3.967326143070914.\n",
            "[I 2024-04-28 15:49:51,954] Trial 46 finished with value: 3.9199905104318695 and parameters: {'n_estimators': 720, 'criterion': 'absolute_error', 'max_depth': 17, 'min_samples_leaf': 3, 'max_features': 0.9966189741720719}. Best is trial 46 with value: 3.9199905104318695.\n",
            "[I 2024-04-28 15:50:24,070] Trial 48 finished with value: 3.9888605454238877 and parameters: {'n_estimators': 932, 'criterion': 'squared_error', 'max_depth': 27, 'min_samples_leaf': 2, 'max_features': 0.9238458235564417}. Best is trial 46 with value: 3.9199905104318695.\n",
            "[I 2024-04-28 15:50:39,798] Trial 49 finished with value: 3.9643141643656152 and parameters: {'n_estimators': 945, 'criterion': 'absolute_error', 'max_depth': 27, 'min_samples_leaf': 2, 'max_features': 0.9677283724242854}. Best is trial 46 with value: 3.9199905104318695.\n",
            "[I 2024-04-28 15:50:51,295] Trial 50 finished with value: 3.9774093732701044 and parameters: {'n_estimators': 636, 'criterion': 'absolute_error', 'max_depth': 23, 'min_samples_leaf': 2, 'max_features': 0.9687448409554265}. Best is trial 46 with value: 3.9199905104318695.\n",
            "[I 2024-04-28 15:51:26,232] Trial 52 finished with value: 3.9659263405000797 and parameters: {'n_estimators': 878, 'criterion': 'absolute_error', 'max_depth': 27, 'min_samples_leaf': 2, 'max_features': 0.9936870270657576}. Best is trial 46 with value: 3.9199905104318695.\n",
            "[I 2024-04-28 15:51:31,224] Trial 51 finished with value: 3.9649533916083257 and parameters: {'n_estimators': 949, 'criterion': 'absolute_error', 'max_depth': 28, 'min_samples_leaf': 1, 'max_features': 0.9706206289593898}. Best is trial 46 with value: 3.9199905104318695.\n",
            "[I 2024-04-28 15:52:07,815] Trial 53 finished with value: 3.963944873569796 and parameters: {'n_estimators': 868, 'criterion': 'absolute_error', 'max_depth': 28, 'min_samples_leaf': 1, 'max_features': 0.9910002645421031}. Best is trial 46 with value: 3.9199905104318695.\n",
            "[I 2024-04-28 15:52:15,954] Trial 54 finished with value: 3.983452927367184 and parameters: {'n_estimators': 964, 'criterion': 'absolute_error', 'max_depth': 28, 'min_samples_leaf': 1, 'max_features': 0.8407977184450209}. Best is trial 46 with value: 3.9199905104318695.\n",
            "[I 2024-04-28 15:52:53,524] Trial 55 finished with value: 3.9810987732784553 and parameters: {'n_estimators': 961, 'criterion': 'absolute_error', 'max_depth': 28, 'min_samples_leaf': 1, 'max_features': 0.8480107006645811}. Best is trial 46 with value: 3.9199905104318695.\n",
            "[I 2024-04-28 15:52:58,165] Trial 56 finished with value: 3.9647501826827742 and parameters: {'n_estimators': 889, 'criterion': 'absolute_error', 'max_depth': 30, 'min_samples_leaf': 1, 'max_features': 0.9803763235725861}. Best is trial 46 with value: 3.9199905104318695.\n",
            "[I 2024-04-28 15:53:35,160] Trial 57 finished with value: 3.9647501826827742 and parameters: {'n_estimators': 889, 'criterion': 'absolute_error', 'max_depth': 30, 'min_samples_leaf': 1, 'max_features': 0.9711978304907714}. Best is trial 46 with value: 3.9199905104318695.\n",
            "[I 2024-04-28 15:53:45,047] Trial 58 finished with value: 3.9625759865797168 and parameters: {'n_estimators': 995, 'criterion': 'absolute_error', 'max_depth': 30, 'min_samples_leaf': 1, 'max_features': 0.9683621381085771}. Best is trial 46 with value: 3.9199905104318695.\n",
            "[I 2024-04-28 15:54:22,054] Trial 59 finished with value: 3.9617843737434213 and parameters: {'n_estimators': 990, 'criterion': 'absolute_error', 'max_depth': 30, 'min_samples_leaf': 1, 'max_features': 0.9651939277998526}. Best is trial 46 with value: 3.9199905104318695.\n",
            "[I 2024-04-28 15:54:31,317] Trial 60 finished with value: 3.9625759865797168 and parameters: {'n_estimators': 995, 'criterion': 'absolute_error', 'max_depth': 30, 'min_samples_leaf': 1, 'max_features': 0.9645647364666078}. Best is trial 46 with value: 3.9199905104318695.\n",
            "[I 2024-04-28 15:55:06,549] Trial 61 finished with value: 3.984448332782849 and parameters: {'n_estimators': 943, 'criterion': 'absolute_error', 'max_depth': 30, 'min_samples_leaf': 1, 'max_features': 0.9104211809219743}. Best is trial 46 with value: 3.9199905104318695.\n",
            "[I 2024-04-28 15:55:17,142] Trial 62 finished with value: 3.979363326602864 and parameters: {'n_estimators': 998, 'criterion': 'absolute_error', 'max_depth': 30, 'min_samples_leaf': 1, 'max_features': 0.9213136516919309}. Best is trial 46 with value: 3.9199905104318695.\n",
            "[I 2024-04-28 15:55:53,974] Trial 63 finished with value: 3.962845167588061 and parameters: {'n_estimators': 998, 'criterion': 'absolute_error', 'max_depth': 29, 'min_samples_leaf': 1, 'max_features': 0.9704562584950663}. Best is trial 46 with value: 3.9199905104318695.\n",
            "[I 2024-04-28 15:56:03,104] Trial 64 finished with value: 3.9797797764002807 and parameters: {'n_estimators': 1000, 'criterion': 'absolute_error', 'max_depth': 26, 'min_samples_leaf': 1, 'max_features': 0.8708062545148201}. Best is trial 46 with value: 3.9199905104318695.\n",
            "[I 2024-04-28 15:56:40,527] Trial 65 finished with value: 3.979363326602864 and parameters: {'n_estimators': 998, 'criterion': 'absolute_error', 'max_depth': 26, 'min_samples_leaf': 1, 'max_features': 0.8660361829371365}. Best is trial 46 with value: 3.9199905104318695.\n",
            "[I 2024-04-28 15:56:49,071] Trial 66 finished with value: 3.9816404605221836 and parameters: {'n_estimators': 974, 'criterion': 'absolute_error', 'max_depth': 25, 'min_samples_leaf': 1, 'max_features': 0.8186933281530759}. Best is trial 46 with value: 3.9199905104318695.\n",
            "[I 2024-04-28 15:57:25,188] Trial 68 finished with value: 4.045417712869816 and parameters: {'n_estimators': 854, 'criterion': 'absolute_error', 'max_depth': 29, 'min_samples_leaf': 1, 'max_features': 0.4988784367284135}. Best is trial 46 with value: 3.9199905104318695.\n",
            "[I 2024-04-28 15:57:25,822] Trial 67 finished with value: 3.9824095951511054 and parameters: {'n_estimators': 976, 'criterion': 'absolute_error', 'max_depth': 29, 'min_samples_leaf': 1, 'max_features': 0.8104741461500754}. Best is trial 46 with value: 3.9199905104318695.\n",
            "[I 2024-04-28 15:58:06,669] Trial 69 finished with value: 3.9866779359398037 and parameters: {'n_estimators': 929, 'criterion': 'absolute_error', 'max_depth': 28, 'min_samples_leaf': 1, 'max_features': 0.7742931978670614}. Best is trial 46 with value: 3.9199905104318695.\n",
            "[I 2024-04-28 15:58:07,347] Trial 70 finished with value: 3.987684340313476 and parameters: {'n_estimators': 929, 'criterion': 'absolute_error', 'max_depth': 28, 'min_samples_leaf': 1, 'max_features': 0.7663230950912512}. Best is trial 46 with value: 3.9199905104318695.\n",
            "[I 2024-04-28 15:58:26,985] Trial 71 finished with value: 3.982109310322917 and parameters: {'n_estimators': 450, 'criterion': 'absolute_error', 'max_depth': 29, 'min_samples_leaf': 1, 'max_features': 0.9653948112436296}. Best is trial 46 with value: 3.9199905104318695.\n",
            "[I 2024-04-28 15:58:47,587] Trial 72 finished with value: 3.9645054581992367 and parameters: {'n_estimators': 892, 'criterion': 'absolute_error', 'max_depth': 29, 'min_samples_leaf': 1, 'max_features': 0.9662273400342075}. Best is trial 46 with value: 3.9199905104318695.\n",
            "[I 2024-04-28 15:59:06,396] Trial 73 finished with value: 3.9845695397955785 and parameters: {'n_estimators': 877, 'criterion': 'absolute_error', 'max_depth': 30, 'min_samples_leaf': 1, 'max_features': 0.9024837417804588}. Best is trial 46 with value: 3.9199905104318695.\n",
            "[I 2024-04-28 15:59:32,954] Trial 74 finished with value: 3.984049680321344 and parameters: {'n_estimators': 905, 'criterion': 'absolute_error', 'max_depth': 27, 'min_samples_leaf': 1, 'max_features': 0.9034130632292829}. Best is trial 46 with value: 3.9199905104318695.\n",
            "[I 2024-04-28 15:59:41,424] Trial 75 finished with value: 3.9646423162200164 and parameters: {'n_estimators': 899, 'criterion': 'absolute_error', 'max_depth': 27, 'min_samples_leaf': 2, 'max_features': 0.9630315107789647}. Best is trial 46 with value: 3.9199905104318695.\n",
            "[I 2024-04-28 16:00:11,615] Trial 76 finished with value: 3.9637367555243963 and parameters: {'n_estimators': 846, 'criterion': 'absolute_error', 'max_depth': 29, 'min_samples_leaf': 2, 'max_features': 0.9556925152510646}. Best is trial 46 with value: 3.9199905104318695.\n",
            "[I 2024-04-28 16:00:20,764] Trial 77 finished with value: 3.994894916302964 and parameters: {'n_estimators': 955, 'criterion': 'poisson', 'max_depth': 29, 'min_samples_leaf': 1, 'max_features': 0.9249111959322679}. Best is trial 46 with value: 3.9199905104318695.\n",
            "[I 2024-04-28 16:00:45,877] Trial 78 finished with value: 3.9878123728615966 and parameters: {'n_estimators': 954, 'criterion': 'poisson', 'max_depth': 26, 'min_samples_leaf': 2, 'max_features': 0.9121724301725851}. Best is trial 46 with value: 3.9199905104318695.\n",
            "[I 2024-04-28 16:01:02,366] Trial 79 finished with value: 3.957054934927366 and parameters: {'n_estimators': 840, 'criterion': 'absolute_error', 'max_depth': 26, 'min_samples_leaf': 2, 'max_features': 0.8703301191413795}. Best is trial 46 with value: 3.9199905104318695.\n",
            "[I 2024-04-28 16:01:20,388] Trial 80 finished with value: 3.976705264289509 and parameters: {'n_estimators': 839, 'criterion': 'absolute_error', 'max_depth': 24, 'min_samples_leaf': 2, 'max_features': 0.7160752570476903}. Best is trial 46 with value: 3.9199905104318695.\n",
            "[I 2024-04-28 16:01:39,758] Trial 81 finished with value: 3.9567389125755223 and parameters: {'n_estimators': 843, 'criterion': 'absolute_error', 'max_depth': 24, 'min_samples_leaf': 2, 'max_features': 0.8691952883092454}. Best is trial 46 with value: 3.9199905104318695.\n",
            "[I 2024-04-28 16:02:03,995] Trial 82 finished with value: 3.9632381799103906 and parameters: {'n_estimators': 981, 'criterion': 'absolute_error', 'max_depth': 28, 'min_samples_leaf': 2, 'max_features': 0.9995091747583358}. Best is trial 46 with value: 3.9199905104318695.\n",
            "[I 2024-04-28 16:02:12,805] Trial 83 finished with value: 3.9637331643258196 and parameters: {'n_estimators': 769, 'criterion': 'absolute_error', 'max_depth': 28, 'min_samples_leaf': 2, 'max_features': 0.8713465988556088}. Best is trial 46 with value: 3.9199905104318695.\n",
            "[I 2024-04-28 16:02:36,733] Trial 84 finished with value: 3.964893709014366 and parameters: {'n_estimators': 760, 'criterion': 'absolute_error', 'max_depth': 30, 'min_samples_leaf': 2, 'max_features': 0.8691250174035636}. Best is trial 46 with value: 3.9199905104318695.\n",
            "[I 2024-04-28 16:02:44,670] Trial 86 finished with value: 3.958461816222165 and parameters: {'n_estimators': 163, 'criterion': 'absolute_error', 'max_depth': 26, 'min_samples_leaf': 2, 'max_features': 0.8915336630454237}. Best is trial 46 with value: 3.9199905104318695.\n",
            "[I 2024-04-28 16:02:45,515] Trial 85 finished with value: 3.9684610426760742 and parameters: {'n_estimators': 745, 'criterion': 'absolute_error', 'max_depth': 25, 'min_samples_leaf': 2, 'max_features': 0.8661636680744891}. Best is trial 46 with value: 3.9199905104318695.\n",
            "[I 2024-04-28 16:02:55,808] Trial 88 finished with value: 3.962789971793301 and parameters: {'n_estimators': 226, 'criterion': 'absolute_error', 'max_depth': 22, 'min_samples_leaf': 2, 'max_features': 0.9296517593133393}. Best is trial 46 with value: 3.9199905104318695.\n",
            "[I 2024-04-28 16:03:02,044] Trial 89 finished with value: 4.197794021745787 and parameters: {'n_estimators': 148, 'criterion': 'absolute_error', 'max_depth': 23, 'min_samples_leaf': 2, 'max_features': 0.20865997294154776}. Best is trial 46 with value: 3.9199905104318695.\n",
            "[I 2024-04-28 16:03:03,889] Trial 87 finished with value: 3.9827787830737367 and parameters: {'n_estimators': 432, 'criterion': 'absolute_error', 'max_depth': 26, 'min_samples_leaf': 2, 'max_features': 0.9292138509267731}. Best is trial 46 with value: 3.9199905104318695.\n",
            "[I 2024-04-28 16:03:12,094] Trial 90 finished with value: 3.9629413239639493 and parameters: {'n_estimators': 219, 'criterion': 'absolute_error', 'max_depth': 23, 'min_samples_leaf': 2, 'max_features': 0.9333645839338484}. Best is trial 46 with value: 3.9199905104318695.\n",
            "[I 2024-04-28 16:03:13,477] Trial 91 finished with value: 3.9595340024918917 and parameters: {'n_estimators': 204, 'criterion': 'absolute_error', 'max_depth': 14, 'min_samples_leaf': 2, 'max_features': 0.8233043386809233}. Best is trial 46 with value: 3.9199905104318695.\n",
            "[I 2024-04-28 16:03:20,653] Trial 92 finished with value: 3.956483828188208 and parameters: {'n_estimators': 201, 'criterion': 'absolute_error', 'max_depth': 24, 'min_samples_leaf': 2, 'max_features': 0.8933456494479186}. Best is trial 46 with value: 3.9199905104318695.\n",
            "[I 2024-04-28 16:03:21,861] Trial 93 finished with value: 3.9619529984769852 and parameters: {'n_estimators': 195, 'criterion': 'absolute_error', 'max_depth': 14, 'min_samples_leaf': 2, 'max_features': 0.8908288540038443}. Best is trial 46 with value: 3.9199905104318695.\n",
            "[I 2024-04-28 16:03:29,758] Trial 94 finished with value: 3.966644963096651 and parameters: {'n_estimators': 198, 'criterion': 'absolute_error', 'max_depth': 16, 'min_samples_leaf': 2, 'max_features': 0.8268096548912139}. Best is trial 46 with value: 3.9199905104318695.\n",
            "[I 2024-04-28 16:03:30,075] Trial 95 finished with value: 3.954845569257427 and parameters: {'n_estimators': 170, 'criterion': 'absolute_error', 'max_depth': 14, 'min_samples_leaf': 2, 'max_features': 0.8246244064479716}. Best is trial 46 with value: 3.9199905104318695.\n",
            "[I 2024-04-28 16:03:43,926] Trial 96 finished with value: 3.980670566524983 and parameters: {'n_estimators': 325, 'criterion': 'absolute_error', 'max_depth': 13, 'min_samples_leaf': 2, 'max_features': 0.7913997690587946}. Best is trial 46 with value: 3.9199905104318695.\n",
            "[I 2024-04-28 16:03:43,958] Trial 97 finished with value: 3.980976616228213 and parameters: {'n_estimators': 319, 'criterion': 'absolute_error', 'max_depth': 14, 'min_samples_leaf': 2, 'max_features': 0.7933199965175847}. Best is trial 46 with value: 3.9199905104318695.\n",
            "[I 2024-04-28 16:03:47,906] Trial 99 finished with value: 4.024145488463262 and parameters: {'n_estimators': 103, 'criterion': 'poisson', 'max_depth': 14, 'min_samples_leaf': 2, 'max_features': 0.737701213372247}. Best is trial 46 with value: 3.9199905104318695.\n",
            "[I 2024-04-28 16:03:48,475] Trial 98 finished with value: 3.961117642872767 and parameters: {'n_estimators': 100, 'criterion': 'absolute_error', 'max_depth': 14, 'min_samples_leaf': 2, 'max_features': 0.7489419430640399}. Best is trial 46 with value: 3.9199905104318695.\n",
            "[I 2024-04-28 16:03:49,702] A new study created in memory with name: no-name-96ba1640-5943-4039-a3d3-83d933956a76\n",
            "[I 2024-04-28 16:03:49,940] Trial 0 finished with value: 5.514542571859696 and parameters: {'kernel': 'poly', 'degree': 4, 'gamma': 'scale', 'C': 52.37007213093189, 'epsilon': 39.65937574089773}. Best is trial 0 with value: 5.514542571859696.\n",
            "[I 2024-04-28 16:03:49,973] Trial 1 finished with value: 5.514542571859696 and parameters: {'kernel': 'poly', 'degree': 18, 'gamma': 'auto', 'C': 27.35440530344659, 'epsilon': 41.91819225687894}. Best is trial 0 with value: 5.514542571859696.\n",
            "[I 2024-04-28 16:03:50,144] Trial 2 finished with value: 5.514542571859695 and parameters: {'kernel': 'linear', 'degree': 15, 'gamma': 'scale', 'C': 16.846933292356404, 'epsilon': 73.2008870384878}. Best is trial 2 with value: 5.514542571859695.\n",
            "[I 2024-04-28 16:03:50,219] Trial 3 finished with value: 5.514542571859697 and parameters: {'kernel': 'poly', 'degree': 13, 'gamma': 'auto', 'C': 94.77947888506445, 'epsilon': 78.16631137800235}. Best is trial 2 with value: 5.514542571859695.\n",
            "[I 2024-04-28 16:03:50,371] Trial 4 finished with value: 4.747081314584775 and parameters: {'kernel': 'linear', 'degree': 19, 'gamma': 'auto', 'C': 0.14317923549185532, 'epsilon': 6.758672341183375}. Best is trial 4 with value: 4.747081314584775.\n",
            "[I 2024-04-28 16:03:50,465] Trial 5 finished with value: 5.514542571859697 and parameters: {'kernel': 'linear', 'degree': 5, 'gamma': 'scale', 'C': 74.82651365484084, 'epsilon': 65.58116604450683}. Best is trial 4 with value: 4.747081314584775.\n",
            "[I 2024-04-28 16:03:50,602] Trial 6 finished with value: 5.514542571859695 and parameters: {'kernel': 'linear', 'degree': 13, 'gamma': 'scale', 'C': 56.97506286280268, 'epsilon': 82.10236165708953}. Best is trial 4 with value: 4.747081314584775.\n",
            "[I 2024-04-28 16:03:50,687] Trial 7 finished with value: 5.514542571859697 and parameters: {'kernel': 'poly', 'degree': 9, 'gamma': 'auto', 'C': 19.275472555685802, 'epsilon': 97.15216429394752}. Best is trial 4 with value: 4.747081314584775.\n",
            "[I 2024-04-28 16:03:50,828] Trial 8 finished with value: 5.514542571859696 and parameters: {'kernel': 'linear', 'degree': 16, 'gamma': 'scale', 'C': 96.50381557065325, 'epsilon': 35.52423144656231}. Best is trial 4 with value: 4.747081314584775.\n",
            "[I 2024-04-28 16:03:50,932] Trial 9 finished with value: 5.514542571859697 and parameters: {'kernel': 'linear', 'degree': 20, 'gamma': 'auto', 'C': 79.14242287709193, 'epsilon': 87.6654743105677}. Best is trial 4 with value: 4.747081314584775.\n",
            "[I 2024-04-28 16:03:51,108] Trial 10 finished with value: 5.514542571859696 and parameters: {'kernel': 'poly', 'degree': 11, 'gamma': 'scale', 'C': 1.495977023351667, 'epsilon': 15.703190176600225}. Best is trial 4 with value: 4.747081314584775.\n",
            "[I 2024-04-28 16:03:51,224] Trial 11 finished with value: 4.712342344922753 and parameters: {'kernel': 'rbf', 'degree': 9, 'gamma': 'auto', 'C': 40.37485545573707, 'epsilon': 4.942771694006105}. Best is trial 11 with value: 4.712342344922753.\n",
            "[I 2024-04-28 16:03:51,425] Trial 12 finished with value: 5.466350786709316 and parameters: {'kernel': 'rbf', 'degree': 16, 'gamma': 'auto', 'C': 1.5358877778107356, 'epsilon': 9.627587514076097}. Best is trial 11 with value: 4.712342344922753.\n",
            "[I 2024-04-28 16:03:51,509] Trial 13 finished with value: 4.174953239271044 and parameters: {'kernel': 'rbf', 'degree': 8, 'gamma': 'auto', 'C': 37.0960159601836, 'epsilon': 0.8340114951997419}. Best is trial 13 with value: 4.174953239271044.\n",
            "[I 2024-04-28 16:03:51,723] Trial 14 finished with value: 4.33332989186696 and parameters: {'kernel': 'rbf', 'degree': 7, 'gamma': 'auto', 'C': 36.243726331521714, 'epsilon': 2.8533188703478274}. Best is trial 13 with value: 4.174953239271044.\n",
            "[I 2024-04-28 16:03:51,828] Trial 15 finished with value: 5.514542571859696 and parameters: {'kernel': 'rbf', 'degree': 7, 'gamma': 'auto', 'C': 37.71483524042388, 'epsilon': 22.619569610987405}. Best is trial 13 with value: 4.174953239271044.\n",
            "[I 2024-04-28 16:03:51,995] Trial 16 finished with value: 5.514542571859696 and parameters: {'kernel': 'rbf', 'degree': 6, 'gamma': 'auto', 'C': 37.77495924331833, 'epsilon': 23.038497491716164}. Best is trial 13 with value: 4.174953239271044.\n",
            "[I 2024-04-28 16:03:52,104] Trial 17 finished with value: 5.514542571859696 and parameters: {'kernel': 'rbf', 'degree': 1, 'gamma': 'auto', 'C': 39.393613259970586, 'epsilon': 24.88629434982083}. Best is trial 13 with value: 4.174953239271044.\n",
            "[I 2024-04-28 16:03:52,261] Trial 18 finished with value: 5.514542571859697 and parameters: {'kernel': 'rbf', 'degree': 3, 'gamma': 'auto', 'C': 66.79790660320188, 'epsilon': 57.42879809309639}. Best is trial 13 with value: 4.174953239271044.\n",
            "[I 2024-04-28 16:03:52,426] Trial 19 finished with value: 5.514542571859696 and parameters: {'kernel': 'rbf', 'degree': 3, 'gamma': 'auto', 'C': 64.440300235922, 'epsilon': 56.43070827022613}. Best is trial 13 with value: 4.174953239271044.\n",
            "[I 2024-04-28 16:03:52,581] Trial 20 finished with value: 4.4821946282060345 and parameters: {'kernel': 'rbf', 'degree': 8, 'gamma': 'auto', 'C': 26.074022877487593, 'epsilon': 3.6416918309014967}. Best is trial 13 with value: 4.174953239271044.\n",
            "[I 2024-04-28 16:03:52,729] Trial 21 finished with value: 4.149542529458218 and parameters: {'kernel': 'rbf', 'degree': 8, 'gamma': 'auto', 'C': 25.926380708042323, 'epsilon': 1.1194565545527972}. Best is trial 21 with value: 4.149542529458218.\n",
            "[I 2024-04-28 16:03:52,904] Trial 22 finished with value: 4.173243406844463 and parameters: {'kernel': 'rbf', 'degree': 9, 'gamma': 'auto', 'C': 25.426053890681636, 'epsilon': 0.7587090917158141}. Best is trial 21 with value: 4.149542529458218.\n",
            "[I 2024-04-28 16:03:53,052] Trial 23 finished with value: 4.117859188207615 and parameters: {'kernel': 'rbf', 'degree': 11, 'gamma': 'auto', 'C': 13.044410784197566, 'epsilon': 1.52437215121438}. Best is trial 23 with value: 4.117859188207615.\n",
            "[I 2024-04-28 16:03:53,212] Trial 24 finished with value: 5.514542571859696 and parameters: {'kernel': 'rbf', 'degree': 11, 'gamma': 'auto', 'C': 11.218208220197175, 'epsilon': 17.016504596691206}. Best is trial 23 with value: 4.117859188207615.\n",
            "[I 2024-04-28 16:03:53,369] Trial 25 finished with value: 5.514542571859696 and parameters: {'kernel': 'rbf', 'degree': 11, 'gamma': 'auto', 'C': 9.376566921051285, 'epsilon': 16.204637572130263}. Best is trial 23 with value: 4.117859188207615.\n",
            "[I 2024-04-28 16:03:53,439] Trial 26 finished with value: 5.514542571859696 and parameters: {'kernel': 'rbf', 'degree': 13, 'gamma': 'auto', 'C': 12.100191059825624, 'epsilon': 13.580261402928848}. Best is trial 23 with value: 4.117859188207615.\n",
            "[I 2024-04-28 16:03:53,588] Trial 27 finished with value: 5.514542571859696 and parameters: {'kernel': 'rbf', 'degree': 13, 'gamma': 'auto', 'C': 26.570903073644864, 'epsilon': 32.13004021080271}. Best is trial 23 with value: 4.117859188207615.\n",
            "[I 2024-04-28 16:03:53,739] Trial 28 finished with value: 5.514542571859696 and parameters: {'kernel': 'rbf', 'degree': 10, 'gamma': 'auto', 'C': 24.118230481633184, 'epsilon': 31.361505748787316}. Best is trial 23 with value: 4.117859188207615.\n",
            "[I 2024-04-28 16:03:53,828] Trial 29 finished with value: 5.514542571859696 and parameters: {'kernel': 'rbf', 'degree': 10, 'gamma': 'auto', 'C': 20.22850882912054, 'epsilon': 30.99979952623345}. Best is trial 23 with value: 4.117859188207615.\n",
            "[I 2024-04-28 16:03:53,956] Trial 30 finished with value: 5.47861471672239 and parameters: {'kernel': 'rbf', 'degree': 5, 'gamma': 'scale', 'C': 50.400100109614215, 'epsilon': 11.41875204047963}. Best is trial 23 with value: 4.117859188207615.\n",
            "[I 2024-04-28 16:03:54,079] Trial 31 finished with value: 5.514542571859696 and parameters: {'kernel': 'rbf', 'degree': 4, 'gamma': 'scale', 'C': 55.67585679574995, 'epsilon': 41.96069391851265}. Best is trial 23 with value: 4.117859188207615.\n",
            "[I 2024-04-28 16:03:54,245] Trial 32 finished with value: 4.162895165474581 and parameters: {'kernel': 'rbf', 'degree': 8, 'gamma': 'auto', 'C': 32.06263983226364, 'epsilon': 1.381951935009338}. Best is trial 23 with value: 4.117859188207615.\n",
            "[I 2024-04-28 16:03:54,330] Trial 33 finished with value: 4.184705662906565 and parameters: {'kernel': 'rbf', 'degree': 8, 'gamma': 'auto', 'C': 45.59684138167622, 'epsilon': 1.5724294679704927}. Best is trial 23 with value: 4.117859188207615.\n",
            "[I 2024-04-28 16:03:54,460] Trial 34 finished with value: 13.050189587420617 and parameters: {'kernel': 'poly', 'degree': 9, 'gamma': 'auto', 'C': 31.711273732772373, 'epsilon': 1.5081132888253734}. Best is trial 23 with value: 4.117859188207615.\n",
            "[I 2024-04-28 16:03:54,574] Trial 35 finished with value: 5.433823304986707 and parameters: {'kernel': 'poly', 'degree': 12, 'gamma': 'auto', 'C': 31.274897043357957, 'epsilon': 8.55101585979422}. Best is trial 23 with value: 4.117859188207615.\n",
            "[I 2024-04-28 16:03:54,691] Trial 36 finished with value: 5.4822762531700615 and parameters: {'kernel': 'rbf', 'degree': 6, 'gamma': 'auto', 'C': 30.22150276201053, 'epsilon': 11.684074893521046}. Best is trial 23 with value: 4.117859188207615.\n",
            "[I 2024-04-28 16:03:54,814] Trial 37 finished with value: 5.514542571859696 and parameters: {'kernel': 'rbf', 'degree': 6, 'gamma': 'auto', 'C': 16.815205047359044, 'epsilon': 21.52124937572566}. Best is trial 23 with value: 4.117859188207615.\n",
            "[I 2024-04-28 16:03:54,944] Trial 38 finished with value: 5.514542571859696 and parameters: {'kernel': 'rbf', 'degree': 14, 'gamma': 'auto', 'C': 15.364135180962034, 'epsilon': 20.319359631337985}. Best is trial 23 with value: 4.117859188207615.\n",
            "[I 2024-04-28 16:03:55,056] Trial 39 finished with value: 4.578915131395622 and parameters: {'kernel': 'linear', 'degree': 15, 'gamma': 'auto', 'C': 8.678286034825872, 'epsilon': 6.476238433366368}. Best is trial 23 with value: 4.117859188207615.\n",
            "[I 2024-04-28 16:03:55,177] Trial 40 finished with value: 5.514542571859696 and parameters: {'kernel': 'linear', 'degree': 10, 'gamma': 'scale', 'C': 6.949181363084982, 'epsilon': 43.63562558432292}. Best is trial 23 with value: 4.117859188207615.\n",
            "[I 2024-04-28 16:03:55,308] Trial 41 finished with value: 5.514542571859696 and parameters: {'kernel': 'poly', 'degree': 12, 'gamma': 'scale', 'C': 45.29393977328668, 'epsilon': 27.20704759947671}. Best is trial 23 with value: 4.117859188207615.\n",
            "[I 2024-04-28 16:03:55,505] Trial 42 finished with value: 4.311897017619136 and parameters: {'kernel': 'rbf', 'degree': 8, 'gamma': 'auto', 'C': 44.14183856685509, 'epsilon': 0.09781261687700882}. Best is trial 23 with value: 4.117859188207615.\n",
            "[I 2024-04-28 16:03:55,554] Trial 43 finished with value: 5.277528771042189 and parameters: {'kernel': 'rbf', 'degree': 8, 'gamma': 'auto', 'C': 22.403705326980894, 'epsilon': 8.130403773079257}. Best is trial 23 with value: 4.117859188207615.\n",
            "[I 2024-04-28 16:03:55,695] Trial 44 finished with value: 5.24794626682009 and parameters: {'kernel': 'rbf', 'degree': 7, 'gamma': 'auto', 'C': 20.623884832930845, 'epsilon': 7.9219423692431175}. Best is trial 23 with value: 4.117859188207615.\n",
            "[I 2024-04-28 16:03:55,897] Trial 46 finished with value: 5.514542571859695 and parameters: {'kernel': 'rbf', 'degree': 9, 'gamma': 'auto', 'C': 30.706146644007777, 'epsilon': 69.32487217775024}. Best is trial 23 with value: 4.117859188207615.\n",
            "[I 2024-04-28 16:03:55,921] Trial 45 finished with value: 4.213970784625172 and parameters: {'kernel': 'rbf', 'degree': 7, 'gamma': 'auto', 'C': 33.49200084837247, 'epsilon': 0.5193233997775888}. Best is trial 23 with value: 4.117859188207615.\n",
            "[I 2024-04-28 16:03:56,150] Trial 47 finished with value: 4.238066123272879 and parameters: {'kernel': 'rbf', 'degree': 12, 'gamma': 'auto', 'C': 34.17551299873535, 'epsilon': 0.39920252158247516}. Best is trial 23 with value: 4.117859188207615.\n",
            "[I 2024-04-28 16:03:56,151] Trial 48 finished with value: 5.514542571859696 and parameters: {'kernel': 'linear', 'degree': 9, 'gamma': 'auto', 'C': 16.233087375875172, 'epsilon': 14.33398742826796}. Best is trial 23 with value: 4.117859188207615.\n",
            "[I 2024-04-28 16:03:56,374] Trial 50 finished with value: 44.90617391732037 and parameters: {'kernel': 'poly', 'degree': 18, 'gamma': 'auto', 'C': 27.68001118773202, 'epsilon': 5.263402310564048}. Best is trial 23 with value: 4.117859188207615.\n",
            "[I 2024-04-28 16:03:56,387] Trial 49 finished with value: 4.6974423564566745 and parameters: {'kernel': 'poly', 'degree': 5, 'gamma': 'auto', 'C': 42.710378304983934, 'epsilon': 5.6781293888888955}. Best is trial 23 with value: 4.117859188207615.\n",
            "[I 2024-04-28 16:03:56,591] Trial 51 finished with value: 5.514542571859696 and parameters: {'kernel': 'rbf', 'degree': 8, 'gamma': 'auto', 'C': 45.670574346116155, 'epsilon': 18.593907761985594}. Best is trial 23 with value: 4.117859188207615.\n",
            "[I 2024-04-28 16:03:56,628] Trial 52 finished with value: 5.514542571859696 and parameters: {'kernel': 'rbf', 'degree': 8, 'gamma': 'auto', 'C': 48.42847077580781, 'epsilon': 18.092034026946905}. Best is trial 23 with value: 4.117859188207615.\n",
            "[I 2024-04-28 16:03:56,847] Trial 53 finished with value: 5.4908369574813065 and parameters: {'kernel': 'rbf', 'degree': 8, 'gamma': 'auto', 'C': 54.246023324268606, 'epsilon': 12.009732395038043}. Best is trial 23 with value: 4.117859188207615.\n",
            "[I 2024-04-28 16:03:56,866] Trial 54 finished with value: 5.487352030291951 and parameters: {'kernel': 'rbf', 'degree': 10, 'gamma': 'auto', 'C': 86.09900048751595, 'epsilon': 11.879253758981188}. Best is trial 23 with value: 4.117859188207615.\n",
            "[I 2024-04-28 16:03:57,049] Trial 55 finished with value: 5.514542571859695 and parameters: {'kernel': 'rbf', 'degree': 6, 'gamma': 'auto', 'C': 60.500479165215765, 'epsilon': 97.79103493519808}. Best is trial 23 with value: 4.117859188207615.\n",
            "[I 2024-04-28 16:03:57,118] Trial 56 finished with value: 4.681666973397843 and parameters: {'kernel': 'rbf', 'degree': 6, 'gamma': 'auto', 'C': 36.735848030219415, 'epsilon': 4.768574101918766}. Best is trial 23 with value: 4.117859188207615.\n",
            "[I 2024-04-28 16:03:57,254] Trial 57 finished with value: 4.513545916619541 and parameters: {'kernel': 'rbf', 'degree': 9, 'gamma': 'scale', 'C': 37.632545578658565, 'epsilon': 3.665400612480224}. Best is trial 23 with value: 4.117859188207615.\n",
            "[I 2024-04-28 16:03:57,360] Trial 58 finished with value: 5.514542571859697 and parameters: {'kernel': 'rbf', 'degree': 9, 'gamma': 'scale', 'C': 40.65669439087907, 'epsilon': 91.32506269683938}. Best is trial 23 with value: 4.117859188207615.\n",
            "[I 2024-04-28 16:03:57,485] Trial 59 finished with value: 5.514542571859697 and parameters: {'kernel': 'rbf', 'degree': 7, 'gamma': 'auto', 'C': 4.769787226105354, 'epsilon': 88.29607345024766}. Best is trial 23 with value: 4.117859188207615.\n",
            "[I 2024-04-28 16:03:57,649] Trial 60 finished with value: 5.300463800467939 and parameters: {'kernel': 'linear', 'degree': 11, 'gamma': 'auto', 'C': 25.772074373840265, 'epsilon': 9.525913914862269}. Best is trial 23 with value: 4.117859188207615.\n",
            "[I 2024-04-28 16:03:57,723] Trial 61 finished with value: 5.2926306633049 and parameters: {'kernel': 'linear', 'degree': 10, 'gamma': 'auto', 'C': 24.314204114756695, 'epsilon': 9.462509821224945}. Best is trial 23 with value: 4.117859188207615.\n",
            "[I 2024-04-28 16:03:57,942] Trial 63 finished with value: 4.116695698153068 and parameters: {'kernel': 'rbf', 'degree': 7, 'gamma': 'auto', 'C': 13.101262399993002, 'epsilon': 1.5056210835618673}. Best is trial 63 with value: 4.116695698153068.\n",
            "[I 2024-04-28 16:03:57,953] Trial 62 finished with value: 4.244751157585888 and parameters: {'kernel': 'rbf', 'degree': 7, 'gamma': 'auto', 'C': 34.01045236890751, 'epsilon': 2.189464847610733}. Best is trial 63 with value: 4.116695698153068.\n",
            "[I 2024-04-28 16:03:58,180] Trial 64 finished with value: 4.420220291523723 and parameters: {'kernel': 'rbf', 'degree': 5, 'gamma': 'auto', 'C': 13.439320332140886, 'epsilon': 3.3909713664653642}. Best is trial 63 with value: 4.116695698153068.\n",
            "[I 2024-04-28 16:03:58,190] Trial 65 finished with value: 4.4665748613030365 and parameters: {'kernel': 'rbf', 'degree': 5, 'gamma': 'auto', 'C': 13.221606051465193, 'epsilon': 3.643021524489546}. Best is trial 63 with value: 4.116695698153068.\n",
            "[I 2024-04-28 16:03:58,368] Trial 66 finished with value: 5.514542571859695 and parameters: {'kernel': 'rbf', 'degree': 9, 'gamma': 'auto', 'C': 19.493077474955076, 'epsilon': 79.14381257997702}. Best is trial 63 with value: 4.116695698153068.\n",
            "[I 2024-04-28 16:03:58,436] Trial 67 finished with value: 5.514542571859696 and parameters: {'kernel': 'rbf', 'degree': 8, 'gamma': 'auto', 'C': 3.857163114815375, 'epsilon': 15.794270666371567}. Best is trial 63 with value: 4.116695698153068.\n",
            "[I 2024-04-28 16:03:58,569] Trial 68 finished with value: 5.514542571859696 and parameters: {'kernel': 'rbf', 'degree': 11, 'gamma': 'auto', 'C': 4.928288828126387, 'epsilon': 15.555038760344232}. Best is trial 63 with value: 4.116695698153068.\n",
            "[I 2024-04-28 16:03:58,681] Trial 69 finished with value: 4.327702228969734 and parameters: {'kernel': 'rbf', 'degree': 11, 'gamma': 'auto', 'C': 29.153201187631446, 'epsilon': 0.02341155804766415}. Best is trial 63 with value: 4.116695698153068.\n",
            "[I 2024-04-28 16:03:58,811] Trial 70 finished with value: 5.514542571859696 and parameters: {'kernel': 'rbf', 'degree': 10, 'gamma': 'auto', 'C': 28.093168051522348, 'epsilon': 60.24957344847062}. Best is trial 63 with value: 4.116695698153068.\n",
            "[I 2024-04-28 16:03:58,917] Trial 71 finished with value: 5.514542571859697 and parameters: {'kernel': 'rbf', 'degree': 4, 'gamma': 'auto', 'C': 50.14969467305878, 'epsilon': 60.84054045458447}. Best is trial 63 with value: 4.116695698153068.\n",
            "[I 2024-04-28 16:03:59,101] Trial 72 finished with value: 4.2009457536102195 and parameters: {'kernel': 'rbf', 'degree': 7, 'gamma': 'auto', 'C': 34.37980090867911, 'epsilon': 0.5928641463826952}. Best is trial 63 with value: 4.116695698153068.\n",
            "[I 2024-04-28 16:03:59,155] Trial 73 finished with value: 5.105541896661826 and parameters: {'kernel': 'rbf', 'degree': 7, 'gamma': 'auto', 'C': 33.70974320457318, 'epsilon': 7.0387148384289056}. Best is trial 63 with value: 4.116695698153068.\n",
            "[I 2024-04-28 16:03:59,399] Trial 75 finished with value: 5.514542571859696 and parameters: {'kernel': 'rbf', 'degree': 7, 'gamma': 'auto', 'C': 39.51813104865124, 'epsilon': 46.98845160671283}. Best is trial 63 with value: 4.116695698153068.\n",
            "[I 2024-04-28 16:03:59,400] Trial 74 finished with value: 5.0574971073441075 and parameters: {'kernel': 'rbf', 'degree': 7, 'gamma': 'auto', 'C': 22.872413603763263, 'epsilon': 6.796045623314275}. Best is trial 63 with value: 4.116695698153068.\n",
            "[I 2024-04-28 16:03:59,644] Trial 76 finished with value: 5.452440741459384 and parameters: {'kernel': 'rbf', 'degree': 8, 'gamma': 'auto', 'C': 17.582294706726543, 'epsilon': 10.335856095020082}. Best is trial 63 with value: 4.116695698153068.\n",
            "[I 2024-04-28 16:03:59,647] Trial 77 finished with value: 4.3322523144018845 and parameters: {'kernel': 'rbf', 'degree': 6, 'gamma': 'auto', 'C': 41.29523518781946, 'epsilon': 2.846613361146655}. Best is trial 63 with value: 4.116695698153068.\n",
            "[I 2024-04-28 16:03:59,835] Trial 78 finished with value: 5.514542571859696 and parameters: {'kernel': 'rbf', 'degree': 9, 'gamma': 'scale', 'C': 46.69645563350688, 'epsilon': 13.415390118448853}. Best is trial 63 with value: 4.116695698153068.\n",
            "[I 2024-04-28 16:03:59,917] Trial 79 finished with value: 4.97937279117146 and parameters: {'kernel': 'rbf', 'degree': 9, 'gamma': 'scale', 'C': 22.546229538716904, 'epsilon': 6.321073531401985}. Best is trial 63 with value: 4.116695698153068.\n",
            "[I 2024-04-28 16:04:00,050] Trial 80 finished with value: 12.492825900919032 and parameters: {'kernel': 'poly', 'degree': 12, 'gamma': 'auto', 'C': 35.867177794865, 'epsilon': 4.631806906429454}. Best is trial 63 with value: 4.116695698153068.\n",
            "[I 2024-04-28 16:04:00,166] Trial 81 finished with value: 7.893229415380961 and parameters: {'kernel': 'poly', 'degree': 6, 'gamma': 'auto', 'C': 35.2186076814472, 'epsilon': 2.6472553595055928}. Best is trial 63 with value: 4.116695698153068.\n",
            "[I 2024-04-28 16:04:00,341] Trial 82 finished with value: 4.22335561119869 and parameters: {'kernel': 'rbf', 'degree': 6, 'gamma': 'auto', 'C': 31.095896333692256, 'epsilon': 0.465225114498825}. Best is trial 63 with value: 4.116695698153068.\n",
            "[I 2024-04-28 16:04:00,414] Trial 83 finished with value: 4.2287682123857815 and parameters: {'kernel': 'rbf', 'degree': 8, 'gamma': 'auto', 'C': 31.91234815944629, 'epsilon': 0.4399250223559463}. Best is trial 63 with value: 4.116695698153068.\n",
            "[I 2024-04-28 16:04:00,599] Trial 84 finished with value: 4.169687359458983 and parameters: {'kernel': 'rbf', 'degree': 7, 'gamma': 'auto', 'C': 32.76560243272581, 'epsilon': 0.8061589926610851}. Best is trial 63 with value: 4.116695698153068.\n",
            "[I 2024-04-28 16:04:00,651] Trial 85 finished with value: 5.514542571859696 and parameters: {'kernel': 'rbf', 'degree': 7, 'gamma': 'auto', 'C': 43.36097815473886, 'epsilon': 37.27738838177885}. Best is trial 63 with value: 4.116695698153068.\n",
            "[I 2024-04-28 16:04:00,784] Trial 86 finished with value: 5.361368441693061 and parameters: {'kernel': 'rbf', 'degree': 8, 'gamma': 'auto', 'C': 26.219276179013768, 'epsilon': 8.757569244117981}. Best is trial 63 with value: 4.116695698153068.\n",
            "[I 2024-04-28 16:04:00,946] Trial 87 finished with value: 5.2682708550801465 and parameters: {'kernel': 'rbf', 'degree': 8, 'gamma': 'auto', 'C': 8.705091212870592, 'epsilon': 8.065640622704452}. Best is trial 63 with value: 4.116695698153068.\n",
            "[I 2024-04-28 16:04:01,033] Trial 88 finished with value: 4.8057031884729975 and parameters: {'kernel': 'rbf', 'degree': 10, 'gamma': 'auto', 'C': 9.805441696471714, 'epsilon': 5.4699720965470275}. Best is trial 63 with value: 4.116695698153068.\n",
            "[I 2024-04-28 16:04:01,245] Trial 89 finished with value: 4.784510211838423 and parameters: {'kernel': 'rbf', 'degree': 10, 'gamma': 'auto', 'C': 38.441288057938536, 'epsilon': 5.355178539061157}. Best is trial 63 with value: 4.116695698153068.\n",
            "[I 2024-04-28 16:04:01,268] Trial 90 finished with value: 5.507856165161203 and parameters: {'kernel': 'rbf', 'degree': 9, 'gamma': 'auto', 'C': 52.124401447939576, 'epsilon': 12.611937480360652}. Best is trial 63 with value: 4.116695698153068.\n",
            "[I 2024-04-28 16:04:01,440] Trial 91 finished with value: 5.372501691308428 and parameters: {'kernel': 'linear', 'degree': 9, 'gamma': 'auto', 'C': 20.646136862236467, 'epsilon': 10.741195729961262}. Best is trial 63 with value: 4.116695698153068.\n",
            "[I 2024-04-28 16:04:01,527] Trial 92 finished with value: 4.212983475273764 and parameters: {'kernel': 'rbf', 'degree': 7, 'gamma': 'auto', 'C': 33.53359719141893, 'epsilon': 1.9492274250290187}. Best is trial 63 with value: 4.116695698153068.\n",
            "[I 2024-04-28 16:04:01,697] Trial 93 finished with value: 4.203218927133419 and parameters: {'kernel': 'rbf', 'degree': 7, 'gamma': 'auto', 'C': 33.49840803012477, 'epsilon': 1.8580217952396847}. Best is trial 63 with value: 4.116695698153068.\n",
            "[I 2024-04-28 16:04:01,778] Trial 94 finished with value: 4.234427586615173 and parameters: {'kernel': 'rbf', 'degree': 7, 'gamma': 'auto', 'C': 28.65781491862305, 'epsilon': 2.1644907311991135}. Best is trial 63 with value: 4.116695698153068.\n",
            "[I 2024-04-28 16:04:01,925] Trial 95 finished with value: 4.331940806858319 and parameters: {'kernel': 'rbf', 'degree': 5, 'gamma': 'auto', 'C': 28.84457371993861, 'epsilon': 2.8467678182407603}. Best is trial 63 with value: 4.116695698153068.\n",
            "[I 2024-04-28 16:04:02,035] Trial 96 finished with value: 4.51772944700676 and parameters: {'kernel': 'rbf', 'degree': 6, 'gamma': 'auto', 'C': 42.25258422067113, 'epsilon': 3.8388325932882195}. Best is trial 63 with value: 4.116695698153068.\n",
            "[I 2024-04-28 16:04:02,161] Trial 97 finished with value: 4.624475951061688 and parameters: {'kernel': 'rbf', 'degree': 8, 'gamma': 'auto', 'C': 41.69766992838795, 'epsilon': 4.437465638003017}. Best is trial 63 with value: 4.116695698153068.\n",
            "[I 2024-04-28 16:04:02,270] Trial 98 finished with value: 5.161697593854267 and parameters: {'kernel': 'rbf', 'degree': 3, 'gamma': 'auto', 'C': 24.578691859895958, 'epsilon': 7.357237315845577}. Best is trial 63 with value: 4.116695698153068.\n",
            "[I 2024-04-28 16:04:02,364] Trial 99 finished with value: 5.194863297764389 and parameters: {'kernel': 'rbf', 'degree': 7, 'gamma': 'auto', 'C': 24.604796501135908, 'epsilon': 7.5573538464171754}. Best is trial 63 with value: 4.116695698153068.\n"
          ]
        }
      ]
    },
    {
      "cell_type": "markdown",
      "source": [
        "Velger beste modell"
      ],
      "metadata": {
        "id": "gJda_0KjSlHM"
      }
    },
    {
      "cell_type": "code",
      "source": [],
      "metadata": {
        "id": "5M495MopSlHM"
      },
      "execution_count": null,
      "outputs": []
    },
    {
      "cell_type": "markdown",
      "source": [
        "## Alternativ 2: 80% Testsett og resteremde hele treningssett"
      ],
      "metadata": {
        "id": "MkYKDmvPSlHM"
      }
    },
    {
      "cell_type": "code",
      "source": [
        "# Definerer trenings- og testandel\n",
        "test_andel = 0.80\n",
        "trenings_andel = 1.0\n",
        "\n",
        "\n",
        "# Deler datasettet i trening og testsett\n",
        "trening_markert, testsett, _, trening\\\n",
        "= trening_testsett_oppdeling_dag(rå_data,\n",
        "                                 data,\n",
        "                                 test_andel=test_andel,\n",
        "                                 test_ekskluder_kalkun_kylling=True)"
      ],
      "metadata": {
        "id": "cTrLKPYNSlHM"
      },
      "execution_count": null,
      "outputs": []
    },
    {
      "cell_type": "code",
      "source": [
        "# Finner antall av enzymtype med minst antall\n",
        "n_splitt = n_splitt_enzym(rå_data,\n",
        "                          trening_markert)\n",
        "\n",
        "# Modelloptimalisering, trening og evaluering av RFR, KNR og SVR\n",
        "veiledet_modell_evaluering_2(dict_res_opt=res.dict_res_2_design_opt,\n",
        "                             dict_res=res.dict_res_2_design,\n",
        "                             rå_data=rå_data,\n",
        "                             treningssett_markert=trening_markert,\n",
        "                             testsett=testsett,\n",
        "                             n_splitt=n_splitt,\n",
        "                             n_runder=n_runder,\n",
        "                             test_andel=test_andel,\n",
        "                             trenings_andel=trenings_andel,\n",
        "                             random_seed=random_seed)\n",
        "\n",
        "# Lagring av resultater\n",
        "res_2_design = pd.DataFrame(res.dict_res_2_design)\n",
        "res_2_design_opt = pd.DataFrame(res.dict_res_2_design_opt)\n",
        "\n",
        "res_2_design.to_csv('/content/drive/MyDrive/MasterV24/Bioco_data/Resultater/smallmolecules/smallmolecules_resultater_2_design.csv')\n",
        "res_2_design_opt.to_csv('/content/drive/MyDrive/MasterV24/Bioco_data/Resultater/smallmolecules/smallmolecules_resultater_2_design_opt.csv')"
      ],
      "metadata": {
        "id": "O8whKRqkSlHM"
      },
      "execution_count": null,
      "outputs": []
    },
    {
      "cell_type": "markdown",
      "source": [
        "Velger beste modell"
      ],
      "metadata": {
        "id": "_dUt92JQSlHM"
      }
    },
    {
      "cell_type": "code",
      "source": [],
      "metadata": {
        "id": "5EUiy5XlSlHM"
      },
      "execution_count": null,
      "outputs": []
    },
    {
      "cell_type": "markdown",
      "metadata": {
        "id": "pnhtimdQn6n_"
      },
      "source": [
        "# NIR målinger ekskludert"
      ]
    },
    {
      "cell_type": "code",
      "execution_count": null,
      "metadata": {
        "id": "HVRjvKsSn6oM"
      },
      "outputs": [],
      "source": [
        "# Ekskluderer NIR målinger fra datasettene\n",
        "NIR_kolonner = ['NIRfat', 'NIRwater', 'NIRash']\n",
        "data_uten_NIR = data.drop(columns=NIR_kolonner)\n",
        "data_design_uten_NIR = data_design.drop(columns=NIR_kolonner)"
      ]
    },
    {
      "cell_type": "code",
      "source": [
        "# Setter fast testandel og treningsandel\n",
        "test_andel = 0.2\n",
        "trenings_andel = 1.0"
      ],
      "metadata": {
        "id": "pX2IRFPSZRVl"
      },
      "execution_count": null,
      "outputs": []
    },
    {
      "cell_type": "markdown",
      "metadata": {
        "id": "kdiY6z2nTrVD"
      },
      "source": [
        "## Hele datasett"
      ]
    },
    {
      "cell_type": "markdown",
      "source": [
        "## Alternativ 1: 20% Testsett og Hele resterende treningssett"
      ],
      "metadata": {
        "id": "BlPTIszOTrVD"
      }
    },
    {
      "cell_type": "code",
      "source": [
        "# Deler datasettet i trening og testsett\n",
        "trening_markert, enzymtyper_markert, testsett, _, _, _, trening\\\n",
        "= trening_testsett_oppdeling_enzym(rå_data,\n",
        "                                   data_uten_NIR,\n",
        "                                   test_andel=test_andel)\n",
        "\n",
        "# Finner antall av enzymtype med minst antall\n",
        "n_splitt = n_splitt_enzym(rå_data,\n",
        "                          trening_markert)\n",
        "\n",
        "# Modelloptimalisering, trening og evaluering av RFR, KNR og SVR\n",
        "veiledet_modell_evaluering_1(dict_res_opt=res.dict_res_1_hel_opt_NIR,\n",
        "                             dict_res=res.dict_res_1_hel_NIR,\n",
        "                             treningssett_markert=trening_markert,\n",
        "                             enzymtyper_treningssett_markert=enzymtyper_markert,\n",
        "                             testsett=testsett,\n",
        "                             n_splitt=n_splitt,\n",
        "                             n_gjentagelser=n_gjentagelser,\n",
        "                             n_runder=n_runder,\n",
        "                             test_andel=test_andel,\n",
        "                             trenings_andel=trenings_andel,\n",
        "                             random_seed=random_seed)\n",
        "\n",
        "# Lagring av resultater\n",
        "res_1_hel_NIR = pd.DataFrame(res.dict_res_1_hel_NIR)\n",
        "res_1_hel_opt_NIR = pd.DataFrame(res.dict_res_1_hel_opt_NIR)\n",
        "\n",
        "res_1_hel_NIR.to_csv('/content/drive/MyDrive/MasterV24/Bioco_data/Resultater/smallmolecules/smallmolecules_resultater_1_hel_NIR.csv')\n",
        "res_1_hel_opt_NIR.to_csv('/content/drive/MyDrive/MasterV24/Bioco_data/Resultater/smallmolecules/smallmolecules_resultater_1_hel_opt_NIR.csv')"
      ],
      "metadata": {
        "colab": {
          "base_uri": "https://localhost:8080/"
        },
        "id": "rkpIuFkhTrVD",
        "outputId": "cc19f519-faa0-4ac6-ce49-9beed3fa67fe"
      },
      "execution_count": null,
      "outputs": [
        {
          "output_type": "stream",
          "name": "stderr",
          "text": [
            "[I 2024-04-28 17:08:14,148] A new study created in memory with name: no-name-4669d35b-7380-4fd0-ad2f-264ed39ba2d3\n",
            "[I 2024-04-28 17:08:14,350] Trial 0 finished with value: 4.8556516495155 and parameters: {'n_neighbors': 4, 'weights': 'distance', 'p': 5}. Best is trial 0 with value: 4.8556516495155.\n",
            "[I 2024-04-28 17:08:14,423] Trial 1 finished with value: 4.892032128883468 and parameters: {'n_neighbors': 6, 'weights': 'distance', 'p': 7}. Best is trial 0 with value: 4.8556516495155.\n",
            "[I 2024-04-28 17:08:14,567] Trial 2 finished with value: 5.038059871247649 and parameters: {'n_neighbors': 10, 'weights': 'uniform', 'p': 7}. Best is trial 0 with value: 4.8556516495155.\n",
            "[I 2024-04-28 17:08:14,633] Trial 3 finished with value: 5.055023084840119 and parameters: {'n_neighbors': 6, 'weights': 'uniform', 'p': 10}. Best is trial 0 with value: 4.8556516495155.\n",
            "[I 2024-04-28 17:08:14,780] Trial 4 finished with value: 4.895206621615353 and parameters: {'n_neighbors': 6, 'weights': 'distance', 'p': 5}. Best is trial 0 with value: 4.8556516495155.\n",
            "[I 2024-04-28 17:08:14,845] Trial 5 finished with value: 4.990823149301304 and parameters: {'n_neighbors': 6, 'weights': 'uniform', 'p': 3}. Best is trial 0 with value: 4.8556516495155.\n",
            "[I 2024-04-28 17:08:15,004] Trial 6 finished with value: 5.038059871247649 and parameters: {'n_neighbors': 10, 'weights': 'uniform', 'p': 7}. Best is trial 0 with value: 4.8556516495155.\n",
            "[I 2024-04-28 17:08:15,062] Trial 7 finished with value: 4.91682177538024 and parameters: {'n_neighbors': 5, 'weights': 'uniform', 'p': 3}. Best is trial 0 with value: 4.8556516495155.\n",
            "[I 2024-04-28 17:08:15,235] Trial 8 finished with value: 5.0683918367728475 and parameters: {'n_neighbors': 2, 'weights': 'distance', 'p': 6}. Best is trial 0 with value: 4.8556516495155.\n",
            "[I 2024-04-28 17:08:15,267] Trial 9 finished with value: 5.03286463960048 and parameters: {'n_neighbors': 2, 'weights': 'uniform', 'p': 9}. Best is trial 0 with value: 4.8556516495155.\n",
            "[I 2024-04-28 17:08:15,514] Trial 10 finished with value: 4.716373219438732 and parameters: {'n_neighbors': 4, 'weights': 'distance', 'p': 1}. Best is trial 10 with value: 4.716373219438732.\n",
            "[I 2024-04-28 17:08:15,515] Trial 11 finished with value: 4.71893153424972 and parameters: {'n_neighbors': 4, 'weights': 'distance', 'p': 2}. Best is trial 10 with value: 4.716373219438732.\n",
            "[I 2024-04-28 17:08:15,745] Trial 12 finished with value: 4.716373219438732 and parameters: {'n_neighbors': 4, 'weights': 'distance', 'p': 1}. Best is trial 10 with value: 4.716373219438732.\n",
            "[I 2024-04-28 17:08:15,773] Trial 13 finished with value: 4.716373219438732 and parameters: {'n_neighbors': 4, 'weights': 'distance', 'p': 1}. Best is trial 10 with value: 4.716373219438732.\n",
            "[I 2024-04-28 17:08:15,982] Trial 14 finished with value: 4.7182988905684935 and parameters: {'n_neighbors': 8, 'weights': 'distance', 'p': 1}. Best is trial 10 with value: 4.716373219438732.\n",
            "[I 2024-04-28 17:08:16,048] Trial 15 finished with value: 4.7182988905684935 and parameters: {'n_neighbors': 8, 'weights': 'distance', 'p': 1}. Best is trial 10 with value: 4.716373219438732.\n",
            "[I 2024-04-28 17:08:16,206] Trial 16 finished with value: 6.2372537347001025 and parameters: {'n_neighbors': 1, 'weights': 'distance', 'p': 3}. Best is trial 10 with value: 4.716373219438732.\n",
            "[I 2024-04-28 17:08:16,318] Trial 17 finished with value: 6.2372537347001025 and parameters: {'n_neighbors': 1, 'weights': 'distance', 'p': 3}. Best is trial 10 with value: 4.716373219438732.\n",
            "[I 2024-04-28 17:08:16,472] Trial 18 finished with value: 4.875596572468294 and parameters: {'n_neighbors': 3, 'weights': 'distance', 'p': 4}. Best is trial 10 with value: 4.716373219438732.\n",
            "[I 2024-04-28 17:08:16,535] Trial 19 finished with value: 4.875596572468294 and parameters: {'n_neighbors': 3, 'weights': 'distance', 'p': 4}. Best is trial 10 with value: 4.716373219438732.\n",
            "[I 2024-04-28 17:08:16,704] Trial 20 finished with value: 4.749806179061174 and parameters: {'n_neighbors': 8, 'weights': 'distance', 'p': 2}. Best is trial 10 with value: 4.716373219438732.\n",
            "[I 2024-04-28 17:08:16,789] Trial 21 finished with value: 4.749806179061174 and parameters: {'n_neighbors': 8, 'weights': 'distance', 'p': 2}. Best is trial 10 with value: 4.716373219438732.\n",
            "[I 2024-04-28 17:08:16,986] Trial 23 finished with value: 4.716373219438732 and parameters: {'n_neighbors': 4, 'weights': 'distance', 'p': 1}. Best is trial 10 with value: 4.716373219438732.\n",
            "[I 2024-04-28 17:08:17,017] Trial 22 finished with value: 4.716373219438732 and parameters: {'n_neighbors': 4, 'weights': 'distance', 'p': 1}. Best is trial 10 with value: 4.716373219438732.\n",
            "[I 2024-04-28 17:08:17,196] Trial 24 finished with value: 4.691221846046774 and parameters: {'n_neighbors': 5, 'weights': 'distance', 'p': 1}. Best is trial 24 with value: 4.691221846046774.\n",
            "[I 2024-04-28 17:08:17,268] Trial 25 finished with value: 4.77331402774961 and parameters: {'n_neighbors': 5, 'weights': 'distance', 'p': 2}. Best is trial 24 with value: 4.691221846046774.\n",
            "[I 2024-04-28 17:08:17,496] Trial 26 finished with value: 4.77331402774961 and parameters: {'n_neighbors': 5, 'weights': 'distance', 'p': 2}. Best is trial 24 with value: 4.691221846046774.\n",
            "[I 2024-04-28 17:08:17,518] Trial 27 finished with value: 4.786186200638397 and parameters: {'n_neighbors': 7, 'weights': 'distance', 'p': 2}. Best is trial 24 with value: 4.691221846046774.\n",
            "[I 2024-04-28 17:08:17,714] Trial 28 finished with value: 4.873184682334408 and parameters: {'n_neighbors': 7, 'weights': 'distance', 'p': 4}. Best is trial 24 with value: 4.691221846046774.\n",
            "[I 2024-04-28 17:08:17,779] Trial 29 finished with value: 4.812304369845342 and parameters: {'n_neighbors': 3, 'weights': 'distance', 'p': 1}. Best is trial 24 with value: 4.691221846046774.\n",
            "[I 2024-04-28 17:08:17,891] Trial 30 finished with value: 4.812304369845342 and parameters: {'n_neighbors': 3, 'weights': 'distance', 'p': 1}. Best is trial 24 with value: 4.691221846046774.\n",
            "[I 2024-04-28 17:08:18,124] Trial 31 finished with value: 5.0683918367728475 and parameters: {'n_neighbors': 2, 'weights': 'distance', 'p': 6}. Best is trial 24 with value: 4.691221846046774.\n",
            "[I 2024-04-28 17:08:18,126] Trial 32 finished with value: 4.716373219438732 and parameters: {'n_neighbors': 4, 'weights': 'distance', 'p': 1}. Best is trial 24 with value: 4.691221846046774.\n",
            "[I 2024-04-28 17:08:18,408] Trial 34 finished with value: 4.846722914333703 and parameters: {'n_neighbors': 5, 'weights': 'distance', 'p': 3}. Best is trial 24 with value: 4.691221846046774.\n",
            "[I 2024-04-28 17:08:18,437] Trial 33 finished with value: 4.77331402774961 and parameters: {'n_neighbors': 5, 'weights': 'distance', 'p': 2}. Best is trial 24 with value: 4.691221846046774.\n",
            "[I 2024-04-28 17:08:18,713] Trial 35 finished with value: 4.71893153424972 and parameters: {'n_neighbors': 4, 'weights': 'distance', 'p': 2}. Best is trial 24 with value: 4.691221846046774.\n",
            "[I 2024-04-28 17:08:18,744] Trial 36 finished with value: 4.970547678775122 and parameters: {'n_neighbors': 4, 'weights': 'uniform', 'p': 8}. Best is trial 24 with value: 4.691221846046774.\n",
            "[I 2024-04-28 17:08:18,991] Trial 37 finished with value: 5.062601367446799 and parameters: {'n_neighbors': 6, 'weights': 'uniform', 'p': 9}. Best is trial 24 with value: 4.691221846046774.\n",
            "[I 2024-04-28 17:08:19,055] Trial 38 finished with value: 4.8500711045327005 and parameters: {'n_neighbors': 6, 'weights': 'uniform', 'p': 1}. Best is trial 24 with value: 4.691221846046774.\n",
            "[I 2024-04-28 17:08:19,279] Trial 39 finished with value: 4.812304369845342 and parameters: {'n_neighbors': 3, 'weights': 'distance', 'p': 1}. Best is trial 24 with value: 4.691221846046774.\n",
            "[I 2024-04-28 17:08:19,358] Trial 40 finished with value: 4.916836932613436 and parameters: {'n_neighbors': 3, 'weights': 'distance', 'p': 5}. Best is trial 24 with value: 4.691221846046774.\n",
            "[I 2024-04-28 17:08:19,614] Trial 41 finished with value: 4.8730098303759455 and parameters: {'n_neighbors': 7, 'weights': 'distance', 'p': 5}. Best is trial 24 with value: 4.691221846046774.\n",
            "[I 2024-04-28 17:08:19,670] Trial 42 finished with value: 4.691221846046774 and parameters: {'n_neighbors': 5, 'weights': 'distance', 'p': 1}. Best is trial 24 with value: 4.691221846046774.\n",
            "[I 2024-04-28 17:08:19,942] Trial 43 finished with value: 4.691221846046774 and parameters: {'n_neighbors': 5, 'weights': 'distance', 'p': 1}. Best is trial 24 with value: 4.691221846046774.\n",
            "[I 2024-04-28 17:08:19,996] Trial 44 finished with value: 4.691221846046774 and parameters: {'n_neighbors': 5, 'weights': 'distance', 'p': 1}. Best is trial 24 with value: 4.691221846046774.\n",
            "[I 2024-04-28 17:08:20,209] Trial 45 finished with value: 4.846722914333703 and parameters: {'n_neighbors': 5, 'weights': 'distance', 'p': 3}. Best is trial 24 with value: 4.691221846046774.\n",
            "[I 2024-04-28 17:08:20,317] Trial 46 finished with value: 4.846722914333703 and parameters: {'n_neighbors': 5, 'weights': 'distance', 'p': 3}. Best is trial 24 with value: 4.691221846046774.\n",
            "[I 2024-04-28 17:08:20,538] Trial 47 finished with value: 4.953025519570712 and parameters: {'n_neighbors': 6, 'weights': 'uniform', 'p': 2}. Best is trial 24 with value: 4.691221846046774.\n",
            "[I 2024-04-28 17:08:20,647] Trial 48 finished with value: 4.953025519570712 and parameters: {'n_neighbors': 6, 'weights': 'uniform', 'p': 2}. Best is trial 24 with value: 4.691221846046774.\n",
            "[I 2024-04-28 17:08:20,842] Trial 49 finished with value: 4.716160475679943 and parameters: {'n_neighbors': 6, 'weights': 'distance', 'p': 1}. Best is trial 24 with value: 4.691221846046774.\n",
            "[I 2024-04-28 17:08:20,971] Trial 50 finished with value: 4.691221846046774 and parameters: {'n_neighbors': 5, 'weights': 'distance', 'p': 1}. Best is trial 24 with value: 4.691221846046774.\n",
            "[I 2024-04-28 17:08:21,160] Trial 51 finished with value: 4.711873260366355 and parameters: {'n_neighbors': 7, 'weights': 'distance', 'p': 1}. Best is trial 24 with value: 4.691221846046774.\n",
            "[I 2024-04-28 17:08:21,302] Trial 52 finished with value: 4.711873260366355 and parameters: {'n_neighbors': 7, 'weights': 'distance', 'p': 1}. Best is trial 24 with value: 4.691221846046774.\n",
            "[I 2024-04-28 17:08:21,504] Trial 53 finished with value: 4.711873260366355 and parameters: {'n_neighbors': 7, 'weights': 'distance', 'p': 1}. Best is trial 24 with value: 4.691221846046774.\n",
            "[I 2024-04-28 17:08:21,588] Trial 54 finished with value: 4.77331402774961 and parameters: {'n_neighbors': 5, 'weights': 'distance', 'p': 2}. Best is trial 24 with value: 4.691221846046774.\n",
            "[I 2024-04-28 17:08:21,876] Trial 55 finished with value: 4.740068716185823 and parameters: {'n_neighbors': 9, 'weights': 'distance', 'p': 2}. Best is trial 24 with value: 4.691221846046774.\n",
            "[I 2024-04-28 17:08:21,905] Trial 56 finished with value: 4.671719748794317 and parameters: {'n_neighbors': 9, 'weights': 'distance', 'p': 1}. Best is trial 56 with value: 4.671719748794317.\n",
            "[I 2024-04-28 17:08:22,197] Trial 57 finished with value: 4.716160475679943 and parameters: {'n_neighbors': 6, 'weights': 'distance', 'p': 1}. Best is trial 56 with value: 4.671719748794317.\n",
            "[I 2024-04-28 17:08:22,233] Trial 58 finished with value: 4.827286094615845 and parameters: {'n_neighbors': 10, 'weights': 'distance', 'p': 10}. Best is trial 56 with value: 4.671719748794317.\n",
            "[I 2024-04-28 17:08:22,435] Trial 59 finished with value: 4.846722914333703 and parameters: {'n_neighbors': 5, 'weights': 'distance', 'p': 3}. Best is trial 56 with value: 4.671719748794317.\n",
            "[I 2024-04-28 17:08:22,482] Trial 60 finished with value: 4.765257915053104 and parameters: {'n_neighbors': 9, 'weights': 'distance', 'p': 3}. Best is trial 56 with value: 4.671719748794317.\n",
            "[I 2024-04-28 17:08:22,693] Trial 62 finished with value: 4.691221846046774 and parameters: {'n_neighbors': 5, 'weights': 'distance', 'p': 1}. Best is trial 56 with value: 4.671719748794317.\n",
            "[I 2024-04-28 17:08:22,739] Trial 61 finished with value: 4.77331402774961 and parameters: {'n_neighbors': 5, 'weights': 'distance', 'p': 2}. Best is trial 56 with value: 4.671719748794317.\n",
            "[I 2024-04-28 17:08:22,875] Trial 63 finished with value: 4.716373219438732 and parameters: {'n_neighbors': 4, 'weights': 'distance', 'p': 1}. Best is trial 56 with value: 4.671719748794317.\n",
            "[I 2024-04-28 17:08:22,997] Trial 64 finished with value: 4.691221846046774 and parameters: {'n_neighbors': 5, 'weights': 'distance', 'p': 1}. Best is trial 56 with value: 4.671719748794317.\n",
            "[I 2024-04-28 17:08:23,131] Trial 65 finished with value: 4.691221846046774 and parameters: {'n_neighbors': 5, 'weights': 'distance', 'p': 1}. Best is trial 56 with value: 4.671719748794317.\n",
            "[I 2024-04-28 17:08:23,243] Trial 66 finished with value: 4.77331402774961 and parameters: {'n_neighbors': 5, 'weights': 'distance', 'p': 2}. Best is trial 56 with value: 4.671719748794317.\n",
            "[I 2024-04-28 17:08:23,369] Trial 67 finished with value: 4.80256280239581 and parameters: {'n_neighbors': 6, 'weights': 'distance', 'p': 2}. Best is trial 56 with value: 4.671719748794317.\n",
            "[I 2024-04-28 17:08:23,498] Trial 68 finished with value: 4.80256280239581 and parameters: {'n_neighbors': 6, 'weights': 'distance', 'p': 2}. Best is trial 56 with value: 4.671719748794317.\n",
            "[I 2024-04-28 17:08:23,618] Trial 69 finished with value: 4.716373219438732 and parameters: {'n_neighbors': 4, 'weights': 'distance', 'p': 1}. Best is trial 56 with value: 4.671719748794317.\n",
            "[I 2024-04-28 17:08:23,758] Trial 70 finished with value: 4.716373219438732 and parameters: {'n_neighbors': 4, 'weights': 'distance', 'p': 1}. Best is trial 56 with value: 4.671719748794317.\n",
            "[I 2024-04-28 17:08:23,875] Trial 71 finished with value: 4.716373219438732 and parameters: {'n_neighbors': 4, 'weights': 'distance', 'p': 1}. Best is trial 56 with value: 4.671719748794317.\n",
            "[I 2024-04-28 17:08:24,000] Trial 72 finished with value: 4.691221846046774 and parameters: {'n_neighbors': 5, 'weights': 'distance', 'p': 1}. Best is trial 56 with value: 4.671719748794317.\n",
            "[I 2024-04-28 17:08:24,115] Trial 73 finished with value: 4.691221846046774 and parameters: {'n_neighbors': 5, 'weights': 'distance', 'p': 1}. Best is trial 56 with value: 4.671719748794317.\n",
            "[I 2024-04-28 17:08:24,257] Trial 74 finished with value: 4.691221846046774 and parameters: {'n_neighbors': 5, 'weights': 'distance', 'p': 1}. Best is trial 56 with value: 4.671719748794317.\n",
            "[I 2024-04-28 17:08:24,371] Trial 75 finished with value: 4.691221846046774 and parameters: {'n_neighbors': 5, 'weights': 'distance', 'p': 1}. Best is trial 56 with value: 4.671719748794317.\n",
            "[I 2024-04-28 17:08:24,525] Trial 76 finished with value: 4.892032128883468 and parameters: {'n_neighbors': 6, 'weights': 'distance', 'p': 7}. Best is trial 56 with value: 4.671719748794317.\n",
            "[I 2024-04-28 17:08:24,641] Trial 77 finished with value: 5.063618880370357 and parameters: {'n_neighbors': 6, 'weights': 'uniform', 'p': 6}. Best is trial 56 with value: 4.671719748794317.\n",
            "[I 2024-04-28 17:08:24,770] Trial 78 finished with value: 4.720120545669709 and parameters: {'n_neighbors': 4, 'weights': 'uniform', 'p': 2}. Best is trial 56 with value: 4.671719748794317.\n",
            "[I 2024-04-28 17:08:24,869] Trial 79 finished with value: 4.71893153424972 and parameters: {'n_neighbors': 4, 'weights': 'distance', 'p': 2}. Best is trial 56 with value: 4.671719748794317.\n",
            "[I 2024-04-28 17:08:25,000] Trial 80 finished with value: 4.77331402774961 and parameters: {'n_neighbors': 5, 'weights': 'distance', 'p': 2}. Best is trial 56 with value: 4.671719748794317.\n",
            "[I 2024-04-28 17:08:25,119] Trial 81 finished with value: 4.691221846046774 and parameters: {'n_neighbors': 5, 'weights': 'distance', 'p': 1}. Best is trial 56 with value: 4.671719748794317.\n",
            "[I 2024-04-28 17:08:25,244] Trial 82 finished with value: 4.691221846046774 and parameters: {'n_neighbors': 5, 'weights': 'distance', 'p': 1}. Best is trial 56 with value: 4.671719748794317.\n",
            "[I 2024-04-28 17:08:25,372] Trial 83 finished with value: 4.691221846046774 and parameters: {'n_neighbors': 5, 'weights': 'distance', 'p': 1}. Best is trial 56 with value: 4.671719748794317.\n",
            "[I 2024-04-28 17:08:25,507] Trial 84 finished with value: 4.691221846046774 and parameters: {'n_neighbors': 5, 'weights': 'distance', 'p': 1}. Best is trial 56 with value: 4.671719748794317.\n",
            "[I 2024-04-28 17:08:25,617] Trial 85 finished with value: 4.716160475679943 and parameters: {'n_neighbors': 6, 'weights': 'distance', 'p': 1}. Best is trial 56 with value: 4.671719748794317.\n",
            "[I 2024-04-28 17:08:25,799] Trial 86 finished with value: 4.716160475679943 and parameters: {'n_neighbors': 6, 'weights': 'distance', 'p': 1}. Best is trial 56 with value: 4.671719748794317.\n",
            "[I 2024-04-28 17:08:25,869] Trial 87 finished with value: 4.77331402774961 and parameters: {'n_neighbors': 5, 'weights': 'distance', 'p': 2}. Best is trial 56 with value: 4.671719748794317.\n",
            "[I 2024-04-28 17:08:26,008] Trial 88 finished with value: 4.740068716185823 and parameters: {'n_neighbors': 9, 'weights': 'distance', 'p': 2}. Best is trial 56 with value: 4.671719748794317.\n",
            "[I 2024-04-28 17:08:26,129] Trial 89 finished with value: 4.671719748794317 and parameters: {'n_neighbors': 9, 'weights': 'distance', 'p': 1}. Best is trial 56 with value: 4.671719748794317.\n",
            "[I 2024-04-28 17:08:26,262] Trial 90 finished with value: 4.825585721255767 and parameters: {'n_neighbors': 4, 'weights': 'distance', 'p': 4}. Best is trial 56 with value: 4.671719748794317.\n",
            "[I 2024-04-28 17:08:26,375] Trial 91 finished with value: 4.671719748794317 and parameters: {'n_neighbors': 9, 'weights': 'distance', 'p': 1}. Best is trial 56 with value: 4.671719748794317.\n",
            "[I 2024-04-28 17:08:26,508] Trial 92 finished with value: 4.671719748794317 and parameters: {'n_neighbors': 9, 'weights': 'distance', 'p': 1}. Best is trial 56 with value: 4.671719748794317.\n",
            "[I 2024-04-28 17:08:26,695] Trial 93 finished with value: 4.671719748794317 and parameters: {'n_neighbors': 9, 'weights': 'distance', 'p': 1}. Best is trial 56 with value: 4.671719748794317.\n",
            "[I 2024-04-28 17:08:26,746] Trial 94 finished with value: 4.671719748794317 and parameters: {'n_neighbors': 9, 'weights': 'distance', 'p': 1}. Best is trial 56 with value: 4.671719748794317.\n",
            "[I 2024-04-28 17:08:26,922] Trial 95 finished with value: 4.67693800237843 and parameters: {'n_neighbors': 10, 'weights': 'distance', 'p': 1}. Best is trial 56 with value: 4.671719748794317.\n",
            "[I 2024-04-28 17:08:27,003] Trial 96 finished with value: 4.67693800237843 and parameters: {'n_neighbors': 10, 'weights': 'distance', 'p': 1}. Best is trial 56 with value: 4.671719748794317.\n",
            "[I 2024-04-28 17:08:27,173] Trial 97 finished with value: 4.671719748794317 and parameters: {'n_neighbors': 9, 'weights': 'distance', 'p': 1}. Best is trial 56 with value: 4.671719748794317.\n",
            "[I 2024-04-28 17:08:27,251] Trial 98 finished with value: 4.716378407948709 and parameters: {'n_neighbors': 10, 'weights': 'distance', 'p': 2}. Best is trial 56 with value: 4.671719748794317.\n",
            "[I 2024-04-28 17:08:27,344] Trial 99 finished with value: 4.802957580326321 and parameters: {'n_neighbors': 9, 'weights': 'distance', 'p': 9}. Best is trial 56 with value: 4.671719748794317.\n",
            "[I 2024-04-28 17:08:27,360] A new study created in memory with name: no-name-3ff778d7-ee3d-4105-9470-230ee7e928aa\n",
            "[I 2024-04-28 17:08:37,883] Trial 0 finished with value: 5.0594421532179465 and parameters: {'n_estimators': 254, 'criterion': 'poisson', 'max_depth': 3, 'min_samples_leaf': 4, 'max_features': 0.14476152115621416}. Best is trial 0 with value: 5.0594421532179465.\n"
          ]
        }
      ]
    },
    {
      "cell_type": "markdown",
      "source": [
        "Velger beste modell"
      ],
      "metadata": {
        "id": "ajig2WwSTrVE"
      }
    },
    {
      "cell_type": "code",
      "source": [],
      "metadata": {
        "id": "daBLbVgdTrVE"
      },
      "execution_count": null,
      "outputs": []
    },
    {
      "cell_type": "markdown",
      "source": [
        "## Alternativ 2: 20% Testsett og resteremde hele treningssett"
      ],
      "metadata": {
        "id": "hX9_AnkRUCjj"
      }
    },
    {
      "cell_type": "code",
      "source": [
        "# Deler datasettet i trening og testsett\n",
        "trening_markert, testsett, _, trening\\\n",
        "= trening_testsett_oppdeling_dag(rå_data,\n",
        "                                 data_uten_NIR,\n",
        "                                 test_andel=test_andel,\n",
        "                                 test_ekskluder_kalkun_kylling=True)\n",
        "\n",
        "# Finner antall av enzymtype med minst antall\n",
        "n_splitt = n_splitt_enzym(rå_data,\n",
        "                          trening_markert)\n",
        "\n",
        "# Modelloptimalisering, trening og evaluering av RFR, KNR og SVR\n",
        "veiledet_modell_evaluering_2(dict_res_opt=res.dict_res_2_hel_opt_NIR,\n",
        "                             dict_res=res.dict_res_2_hel_NIR,\n",
        "                             rå_data=rå_data,\n",
        "                             treningssett_markert=trening_markert,\n",
        "                             testsett=testsett,\n",
        "                             n_splitt=n_splitt,\n",
        "                             n_runder=n_runder,\n",
        "                             test_andel=test_andel,\n",
        "                             trenings_andel=trenings_andel,\n",
        "                             random_seed=random_seed)\n",
        "\n",
        "# Lagring av resulater\n",
        "res_2_hel_NIR = pd.DataFrame(res.dict_res_2_hel_NIR)\n",
        "res_2_hel_opt_NIR = pd.DataFrame(res.dict_res_2_hel_opt_NIR)\n",
        "\n",
        "res_2_hel_NIR.to_csv('/content/drive/MyDrive/MasterV24/Bioco_data/Resultater/smallmolecules/smallmolecules_resultater_2_hel_NIR.csv')\n",
        "res_2_hel_opt_NIR.to_csv('/content/drive/MyDrive/MasterV24/Bioco_data/Resultater/smallmolecules/smallmolecules_resultater_2_hel_opt_NIR.csv')"
      ],
      "metadata": {
        "id": "58AqbiTIUCjj"
      },
      "execution_count": null,
      "outputs": []
    },
    {
      "cell_type": "markdown",
      "source": [
        "Velger beste modell"
      ],
      "metadata": {
        "id": "XbJTLrDaUCjk"
      }
    },
    {
      "cell_type": "code",
      "source": [],
      "metadata": {
        "id": "f_imTA5IUCjk"
      },
      "execution_count": null,
      "outputs": []
    },
    {
      "cell_type": "markdown",
      "source": [
        "## Designsett"
      ],
      "metadata": {
        "id": "oo_ES-o-UK_3"
      }
    },
    {
      "cell_type": "markdown",
      "source": [
        "## Alternativ 1: 20% Testsett og Hele resterende treningssett"
      ],
      "metadata": {
        "id": "6QoJbRPZUk6t"
      }
    },
    {
      "cell_type": "code",
      "source": [
        "# Deler datasettet i trening og testsett\n",
        "trening_markert, enzymtyper_markert, testsett, _, _, _, trening\\\n",
        "= trening_testsett_oppdeling_enzym(rå_data,\n",
        "                                   data_design_uten_NIR,\n",
        "                                   test_andel=test_andel)\n",
        "# Finner antall av enzymtype med minst antall\n",
        "n_splitt = n_splitt_enzym(rå_data,\n",
        "                          trening_markert)\n",
        "\n",
        "# Modelloptimalisering, trening og evaluering av RFR, KNR og SVR\n",
        "veiledet_modell_evaluering_1(dict_res_opt=res.dict_res_1_design_opt_NIR,\n",
        "                             dict_res=res.dict_res_1_design_NIR,\n",
        "                             treningssett_markert=trening_markert,\n",
        "                             enzymtyper_treningssett_markert=enzymtyper_markert,\n",
        "                             testsett=testsett,\n",
        "                             n_splitt=n_splitt,\n",
        "                             n_gjentagelser=n_gjentagelser,\n",
        "                             n_runder=n_runder,\n",
        "                             test_andel=test_andel,\n",
        "                             trenings_andel=trenings_andel,\n",
        "                             random_seed=random_seed)\n",
        "\n",
        "# Lagring av resultater\n",
        "res_1_design_NIR = pd.DataFrame(res.dict_res_1_design_NIR)\n",
        "res_1_design_opt_NIR = pd.DataFrame(res.dict_res_1_design_opt_NIR)\n",
        "\n",
        "res_1_design_NIR.to_csv('/content/drive/MyDrive/MasterV24/Bioco_data/Resultater/smallmolecules/smallmolecules_resultater_1_design_NIR.csv')\n",
        "res_1_design_opt_NIR.to_csv('/content/drive/MyDrive/MasterV24/Bioco_data/Resultater/smallmolecules/smallmolecules_resultater_1_design_opt_NIR.csv')"
      ],
      "metadata": {
        "id": "hAtHMcxtUk6u"
      },
      "execution_count": null,
      "outputs": []
    },
    {
      "cell_type": "markdown",
      "source": [
        "Velger beste modell"
      ],
      "metadata": {
        "id": "K9bd15zMUk6u"
      }
    },
    {
      "cell_type": "code",
      "source": [],
      "metadata": {
        "id": "ZKob6a-sUk6u"
      },
      "execution_count": null,
      "outputs": []
    },
    {
      "cell_type": "markdown",
      "source": [
        "## Alternativ 2: 20% Testsett og resteremde hele treningssett"
      ],
      "metadata": {
        "id": "ItNTDh9mUpGx"
      }
    },
    {
      "cell_type": "code",
      "source": [
        "# Deler datasettet i trening og testsett\n",
        "trening_markert, testsett, _, trening\\\n",
        "= trening_testsett_oppdeling_dag(rå_data,\n",
        "                                 data,\n",
        "                                 test_andel=test_andel,\n",
        "                                 test_ekskluder_kalkun_kylling=True)\n",
        "\n",
        "# Finner antall av enzymtype med minst antall\n",
        "n_splitt = n_splitt_enzym(rå_data,\n",
        "                          trening_markert)\n",
        "\n",
        "# Modelloptimalisering, trening og evaluering av RFR, KNR og SVR\n",
        "veiledet_modell_evaluering_2(dict_res_opt=res.dict_res_2_design_opt_NIR,\n",
        "                             dict_res=res.dict_res_2_design_NIR,\n",
        "                             rå_data=rå_data,\n",
        "                             treningssett_markert=trening_markert,\n",
        "                             testsett=testsett,\n",
        "                             n_splitt=n_splitt,\n",
        "                             n_runder=n_runder,\n",
        "                             test_andel=test_andel,\n",
        "                             trenings_andel=trenings_andel,\n",
        "                             random_seed=random_seed)\n",
        "\n",
        "# Lagring av resultater\n",
        "res_2_design_NIR = pd.DataFrame(res.dict_res_2_design_NIR)\n",
        "res_2_design_opt_NIR = pd.DataFrame(res.dict_res_2_design_opt_NIR)\n",
        "\n",
        "res_2_design_NIR.to_csv('/content/drive/MyDrive/MasterV24/Bioco_data/Resultater/smallmolecules/smallmolecules_resultater_2_design_NIR.csv')\n",
        "res_2_design_opt_NIR.to_csv('/content/drive/MyDrive/MasterV24/Bioco_data/Resultater/smallmolecules/smallmolecules_resultater_2_design_opt_NIR.csv')"
      ],
      "metadata": {
        "id": "pH5wLeyGUpGy"
      },
      "execution_count": null,
      "outputs": []
    },
    {
      "cell_type": "markdown",
      "source": [
        "Velger beste modell"
      ],
      "metadata": {
        "id": "WFa2IU0mUpGy"
      }
    },
    {
      "cell_type": "code",
      "source": [],
      "metadata": {
        "id": "GKPY7_AHUpGy"
      },
      "execution_count": null,
      "outputs": []
    }
  ]
}