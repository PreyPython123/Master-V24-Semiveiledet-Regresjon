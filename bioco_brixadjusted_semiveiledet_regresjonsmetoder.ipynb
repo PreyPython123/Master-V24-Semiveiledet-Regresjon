{
  "cells": [
    {
      "cell_type": "markdown",
      "metadata": {
        "id": "view-in-github",
        "colab_type": "text"
      },
      "source": [
        "<a href=\"https://colab.research.google.com/github/PreyPython123/Master-V24-Semiveiledet-Regresjon/blob/brixadjusted-Pradeep/bioco_brixadjusted_semiveiledet_regresjonsmetoder.ipynb\" target=\"_parent\"><img src=\"https://colab.research.google.com/assets/colab-badge.svg\" alt=\"Open In Colab\"/></a>"
      ]
    },
    {
      "cell_type": "code",
      "execution_count": null,
      "metadata": {
        "colab": {
          "base_uri": "https://localhost:8080/"
        },
        "id": "nwEzUjnf0xLZ",
        "outputId": "8685fb95-29ab-4d4f-e5d8-4a03a9afd2f8"
      },
      "outputs": [
        {
          "output_type": "stream",
          "name": "stdout",
          "text": [
            "Mounted at /content/drive/\n"
          ]
        }
      ],
      "source": [
        "from google.colab import drive\n",
        "drive.mount('/content/drive/')"
      ]
    },
    {
      "cell_type": "markdown",
      "metadata": {
        "id": "uPtuGVtCJOFj"
      },
      "source": [
        "# Importering, lasting og formattering"
      ]
    },
    {
      "cell_type": "markdown",
      "metadata": {
        "id": "ZNeQrag9Rlc_"
      },
      "source": [
        "Lasting av nødvendige bibliotek og pakker"
      ]
    },
    {
      "cell_type": "code",
      "execution_count": null,
      "metadata": {
        "colab": {
          "base_uri": "https://localhost:8080/"
        },
        "id": "k5u1dZmp6cJ9",
        "outputId": "f9362756-54c4-42c6-a120-723ec281dd92"
      },
      "outputs": [
        {
          "output_type": "stream",
          "name": "stdout",
          "text": [
            "Collecting optuna\n",
            "  Downloading optuna-3.6.1-py3-none-any.whl (380 kB)\n",
            "\u001b[2K     \u001b[90m━━━━━━━━━━━━━━━━━━━━━━━━━━━━━━━━━━━━━━━━\u001b[0m \u001b[32m380.1/380.1 kB\u001b[0m \u001b[31m6.9 MB/s\u001b[0m eta \u001b[36m0:00:00\u001b[0m\n",
            "\u001b[?25hCollecting alembic>=1.5.0 (from optuna)\n",
            "  Downloading alembic-1.13.1-py3-none-any.whl (233 kB)\n",
            "\u001b[2K     \u001b[90m━━━━━━━━━━━━━━━━━━━━━━━━━━━━━━━━━━━━━━━━\u001b[0m \u001b[32m233.4/233.4 kB\u001b[0m \u001b[31m15.0 MB/s\u001b[0m eta \u001b[36m0:00:00\u001b[0m\n",
            "\u001b[?25hCollecting colorlog (from optuna)\n",
            "  Downloading colorlog-6.8.2-py3-none-any.whl (11 kB)\n",
            "Requirement already satisfied: numpy in /usr/local/lib/python3.10/dist-packages (from optuna) (1.25.2)\n",
            "Requirement already satisfied: packaging>=20.0 in /usr/local/lib/python3.10/dist-packages (from optuna) (24.0)\n",
            "Requirement already satisfied: sqlalchemy>=1.3.0 in /usr/local/lib/python3.10/dist-packages (from optuna) (2.0.30)\n",
            "Requirement already satisfied: tqdm in /usr/local/lib/python3.10/dist-packages (from optuna) (4.66.4)\n",
            "Requirement already satisfied: PyYAML in /usr/local/lib/python3.10/dist-packages (from optuna) (6.0.1)\n",
            "Collecting Mako (from alembic>=1.5.0->optuna)\n",
            "  Downloading Mako-1.3.5-py3-none-any.whl (78 kB)\n",
            "\u001b[2K     \u001b[90m━━━━━━━━━━━━━━━━━━━━━━━━━━━━━━━━━━━━━━━━\u001b[0m \u001b[32m78.6/78.6 kB\u001b[0m \u001b[31m6.9 MB/s\u001b[0m eta \u001b[36m0:00:00\u001b[0m\n",
            "\u001b[?25hRequirement already satisfied: typing-extensions>=4 in /usr/local/lib/python3.10/dist-packages (from alembic>=1.5.0->optuna) (4.12.1)\n",
            "Requirement already satisfied: greenlet!=0.4.17 in /usr/local/lib/python3.10/dist-packages (from sqlalchemy>=1.3.0->optuna) (3.0.3)\n",
            "Requirement already satisfied: MarkupSafe>=0.9.2 in /usr/local/lib/python3.10/dist-packages (from Mako->alembic>=1.5.0->optuna) (2.1.5)\n",
            "Installing collected packages: Mako, colorlog, alembic, optuna\n",
            "Successfully installed Mako-1.3.5 alembic-1.13.1 colorlog-6.8.2 optuna-3.6.1\n",
            "Collecting LAMDA-SSL\n",
            "  Downloading LAMDA_SSL-1.0.2-py3-none-any.whl (240 kB)\n",
            "\u001b[2K     \u001b[90m━━━━━━━━━━━━━━━━━━━━━━━━━━━━━━━━━━━━━━━━\u001b[0m \u001b[32m240.8/240.8 kB\u001b[0m \u001b[31m4.8 MB/s\u001b[0m eta \u001b[36m0:00:00\u001b[0m\n",
            "\u001b[?25hRequirement already satisfied: scikit-learn in /usr/local/lib/python3.10/dist-packages (from LAMDA-SSL) (1.2.2)\n",
            "Requirement already satisfied: torchtext in /usr/local/lib/python3.10/dist-packages (from LAMDA-SSL) (0.18.0)\n",
            "Requirement already satisfied: torchvision in /usr/local/lib/python3.10/dist-packages (from LAMDA-SSL) (0.18.0+cu121)\n",
            "Collecting torch-geometric (from LAMDA-SSL)\n",
            "  Downloading torch_geometric-2.5.3-py3-none-any.whl (1.1 MB)\n",
            "\u001b[2K     \u001b[90m━━━━━━━━━━━━━━━━━━━━━━━━━━━━━━━━━━━━━━━━\u001b[0m \u001b[32m1.1/1.1 MB\u001b[0m \u001b[31m34.1 MB/s\u001b[0m eta \u001b[36m0:00:00\u001b[0m\n",
            "\u001b[?25hRequirement already satisfied: Pillow in /usr/local/lib/python3.10/dist-packages (from LAMDA-SSL) (9.4.0)\n",
            "Requirement already satisfied: numpy in /usr/local/lib/python3.10/dist-packages (from LAMDA-SSL) (1.25.2)\n",
            "Requirement already satisfied: scipy in /usr/local/lib/python3.10/dist-packages (from LAMDA-SSL) (1.11.4)\n",
            "Requirement already satisfied: pandas in /usr/local/lib/python3.10/dist-packages (from LAMDA-SSL) (2.0.3)\n",
            "Requirement already satisfied: matplotlib in /usr/local/lib/python3.10/dist-packages (from LAMDA-SSL) (3.7.1)\n",
            "Requirement already satisfied: contourpy>=1.0.1 in /usr/local/lib/python3.10/dist-packages (from matplotlib->LAMDA-SSL) (1.2.1)\n",
            "Requirement already satisfied: cycler>=0.10 in /usr/local/lib/python3.10/dist-packages (from matplotlib->LAMDA-SSL) (0.12.1)\n",
            "Requirement already satisfied: fonttools>=4.22.0 in /usr/local/lib/python3.10/dist-packages (from matplotlib->LAMDA-SSL) (4.53.0)\n",
            "Requirement already satisfied: kiwisolver>=1.0.1 in /usr/local/lib/python3.10/dist-packages (from matplotlib->LAMDA-SSL) (1.4.5)\n",
            "Requirement already satisfied: packaging>=20.0 in /usr/local/lib/python3.10/dist-packages (from matplotlib->LAMDA-SSL) (24.0)\n",
            "Requirement already satisfied: pyparsing>=2.3.1 in /usr/local/lib/python3.10/dist-packages (from matplotlib->LAMDA-SSL) (3.1.2)\n",
            "Requirement already satisfied: python-dateutil>=2.7 in /usr/local/lib/python3.10/dist-packages (from matplotlib->LAMDA-SSL) (2.8.2)\n",
            "Requirement already satisfied: pytz>=2020.1 in /usr/local/lib/python3.10/dist-packages (from pandas->LAMDA-SSL) (2023.4)\n",
            "Requirement already satisfied: tzdata>=2022.1 in /usr/local/lib/python3.10/dist-packages (from pandas->LAMDA-SSL) (2024.1)\n",
            "Requirement already satisfied: joblib>=1.1.1 in /usr/local/lib/python3.10/dist-packages (from scikit-learn->LAMDA-SSL) (1.4.2)\n",
            "Requirement already satisfied: threadpoolctl>=2.0.0 in /usr/local/lib/python3.10/dist-packages (from scikit-learn->LAMDA-SSL) (3.5.0)\n",
            "Requirement already satisfied: tqdm in /usr/local/lib/python3.10/dist-packages (from torch-geometric->LAMDA-SSL) (4.66.4)\n",
            "Requirement already satisfied: fsspec in /usr/local/lib/python3.10/dist-packages (from torch-geometric->LAMDA-SSL) (2023.6.0)\n",
            "Requirement already satisfied: jinja2 in /usr/local/lib/python3.10/dist-packages (from torch-geometric->LAMDA-SSL) (3.1.4)\n",
            "Requirement already satisfied: aiohttp in /usr/local/lib/python3.10/dist-packages (from torch-geometric->LAMDA-SSL) (3.9.5)\n",
            "Requirement already satisfied: requests in /usr/local/lib/python3.10/dist-packages (from torch-geometric->LAMDA-SSL) (2.31.0)\n",
            "Requirement already satisfied: psutil>=5.8.0 in /usr/local/lib/python3.10/dist-packages (from torch-geometric->LAMDA-SSL) (5.9.5)\n",
            "Requirement already satisfied: torch>=2.3.0 in /usr/local/lib/python3.10/dist-packages (from torchtext->LAMDA-SSL) (2.3.0+cu121)\n",
            "Requirement already satisfied: filelock in /usr/local/lib/python3.10/dist-packages (from torch>=2.3.0->torchtext->LAMDA-SSL) (3.14.0)\n",
            "Requirement already satisfied: typing-extensions>=4.8.0 in /usr/local/lib/python3.10/dist-packages (from torch>=2.3.0->torchtext->LAMDA-SSL) (4.12.1)\n",
            "Requirement already satisfied: sympy in /usr/local/lib/python3.10/dist-packages (from torch>=2.3.0->torchtext->LAMDA-SSL) (1.12.1)\n",
            "Requirement already satisfied: networkx in /usr/local/lib/python3.10/dist-packages (from torch>=2.3.0->torchtext->LAMDA-SSL) (3.3)\n",
            "Collecting nvidia-cuda-nvrtc-cu12==12.1.105 (from torch>=2.3.0->torchtext->LAMDA-SSL)\n",
            "  Using cached nvidia_cuda_nvrtc_cu12-12.1.105-py3-none-manylinux1_x86_64.whl (23.7 MB)\n",
            "Collecting nvidia-cuda-runtime-cu12==12.1.105 (from torch>=2.3.0->torchtext->LAMDA-SSL)\n",
            "  Using cached nvidia_cuda_runtime_cu12-12.1.105-py3-none-manylinux1_x86_64.whl (823 kB)\n",
            "Collecting nvidia-cuda-cupti-cu12==12.1.105 (from torch>=2.3.0->torchtext->LAMDA-SSL)\n",
            "  Using cached nvidia_cuda_cupti_cu12-12.1.105-py3-none-manylinux1_x86_64.whl (14.1 MB)\n",
            "Collecting nvidia-cudnn-cu12==8.9.2.26 (from torch>=2.3.0->torchtext->LAMDA-SSL)\n",
            "  Using cached nvidia_cudnn_cu12-8.9.2.26-py3-none-manylinux1_x86_64.whl (731.7 MB)\n",
            "Collecting nvidia-cublas-cu12==12.1.3.1 (from torch>=2.3.0->torchtext->LAMDA-SSL)\n",
            "  Using cached nvidia_cublas_cu12-12.1.3.1-py3-none-manylinux1_x86_64.whl (410.6 MB)\n",
            "Collecting nvidia-cufft-cu12==11.0.2.54 (from torch>=2.3.0->torchtext->LAMDA-SSL)\n",
            "  Using cached nvidia_cufft_cu12-11.0.2.54-py3-none-manylinux1_x86_64.whl (121.6 MB)\n",
            "Collecting nvidia-curand-cu12==10.3.2.106 (from torch>=2.3.0->torchtext->LAMDA-SSL)\n",
            "  Using cached nvidia_curand_cu12-10.3.2.106-py3-none-manylinux1_x86_64.whl (56.5 MB)\n",
            "Collecting nvidia-cusolver-cu12==11.4.5.107 (from torch>=2.3.0->torchtext->LAMDA-SSL)\n",
            "  Using cached nvidia_cusolver_cu12-11.4.5.107-py3-none-manylinux1_x86_64.whl (124.2 MB)\n",
            "Collecting nvidia-cusparse-cu12==12.1.0.106 (from torch>=2.3.0->torchtext->LAMDA-SSL)\n",
            "  Using cached nvidia_cusparse_cu12-12.1.0.106-py3-none-manylinux1_x86_64.whl (196.0 MB)\n",
            "Collecting nvidia-nccl-cu12==2.20.5 (from torch>=2.3.0->torchtext->LAMDA-SSL)\n",
            "  Using cached nvidia_nccl_cu12-2.20.5-py3-none-manylinux2014_x86_64.whl (176.2 MB)\n",
            "Collecting nvidia-nvtx-cu12==12.1.105 (from torch>=2.3.0->torchtext->LAMDA-SSL)\n",
            "  Using cached nvidia_nvtx_cu12-12.1.105-py3-none-manylinux1_x86_64.whl (99 kB)\n",
            "Requirement already satisfied: triton==2.3.0 in /usr/local/lib/python3.10/dist-packages (from torch>=2.3.0->torchtext->LAMDA-SSL) (2.3.0)\n",
            "Collecting nvidia-nvjitlink-cu12 (from nvidia-cusolver-cu12==11.4.5.107->torch>=2.3.0->torchtext->LAMDA-SSL)\n",
            "  Downloading nvidia_nvjitlink_cu12-12.5.40-py3-none-manylinux2014_x86_64.whl (21.3 MB)\n",
            "\u001b[2K     \u001b[90m━━━━━━━━━━━━━━━━━━━━━━━━━━━━━━━━━━━━━━━━\u001b[0m \u001b[32m21.3/21.3 MB\u001b[0m \u001b[31m58.2 MB/s\u001b[0m eta \u001b[36m0:00:00\u001b[0m\n",
            "\u001b[?25hRequirement already satisfied: six>=1.5 in /usr/local/lib/python3.10/dist-packages (from python-dateutil>=2.7->matplotlib->LAMDA-SSL) (1.16.0)\n",
            "Requirement already satisfied: aiosignal>=1.1.2 in /usr/local/lib/python3.10/dist-packages (from aiohttp->torch-geometric->LAMDA-SSL) (1.3.1)\n",
            "Requirement already satisfied: attrs>=17.3.0 in /usr/local/lib/python3.10/dist-packages (from aiohttp->torch-geometric->LAMDA-SSL) (23.2.0)\n",
            "Requirement already satisfied: frozenlist>=1.1.1 in /usr/local/lib/python3.10/dist-packages (from aiohttp->torch-geometric->LAMDA-SSL) (1.4.1)\n",
            "Requirement already satisfied: multidict<7.0,>=4.5 in /usr/local/lib/python3.10/dist-packages (from aiohttp->torch-geometric->LAMDA-SSL) (6.0.5)\n",
            "Requirement already satisfied: yarl<2.0,>=1.0 in /usr/local/lib/python3.10/dist-packages (from aiohttp->torch-geometric->LAMDA-SSL) (1.9.4)\n",
            "Requirement already satisfied: async-timeout<5.0,>=4.0 in /usr/local/lib/python3.10/dist-packages (from aiohttp->torch-geometric->LAMDA-SSL) (4.0.3)\n",
            "Requirement already satisfied: MarkupSafe>=2.0 in /usr/local/lib/python3.10/dist-packages (from jinja2->torch-geometric->LAMDA-SSL) (2.1.5)\n",
            "Requirement already satisfied: charset-normalizer<4,>=2 in /usr/local/lib/python3.10/dist-packages (from requests->torch-geometric->LAMDA-SSL) (3.3.2)\n",
            "Requirement already satisfied: idna<4,>=2.5 in /usr/local/lib/python3.10/dist-packages (from requests->torch-geometric->LAMDA-SSL) (3.7)\n",
            "Requirement already satisfied: urllib3<3,>=1.21.1 in /usr/local/lib/python3.10/dist-packages (from requests->torch-geometric->LAMDA-SSL) (2.0.7)\n",
            "Requirement already satisfied: certifi>=2017.4.17 in /usr/local/lib/python3.10/dist-packages (from requests->torch-geometric->LAMDA-SSL) (2024.6.2)\n",
            "Requirement already satisfied: mpmath<1.4.0,>=1.1.0 in /usr/local/lib/python3.10/dist-packages (from sympy->torch>=2.3.0->torchtext->LAMDA-SSL) (1.3.0)\n",
            "Installing collected packages: nvidia-nvtx-cu12, nvidia-nvjitlink-cu12, nvidia-nccl-cu12, nvidia-curand-cu12, nvidia-cufft-cu12, nvidia-cuda-runtime-cu12, nvidia-cuda-nvrtc-cu12, nvidia-cuda-cupti-cu12, nvidia-cublas-cu12, nvidia-cusparse-cu12, nvidia-cudnn-cu12, torch-geometric, nvidia-cusolver-cu12, LAMDA-SSL\n",
            "Successfully installed LAMDA-SSL-1.0.2 nvidia-cublas-cu12-12.1.3.1 nvidia-cuda-cupti-cu12-12.1.105 nvidia-cuda-nvrtc-cu12-12.1.105 nvidia-cuda-runtime-cu12-12.1.105 nvidia-cudnn-cu12-8.9.2.26 nvidia-cufft-cu12-11.0.2.54 nvidia-curand-cu12-10.3.2.106 nvidia-cusolver-cu12-11.4.5.107 nvidia-cusparse-cu12-12.1.0.106 nvidia-nccl-cu12-2.20.5 nvidia-nvjitlink-cu12-12.5.40 nvidia-nvtx-cu12-12.1.105 torch-geometric-2.5.3\n"
          ]
        }
      ],
      "source": [
        "!pip install optuna\n",
        "!pip install LAMDA-SSL"
      ]
    },
    {
      "cell_type": "markdown",
      "metadata": {
        "id": "jT-YzIdVRply"
      },
      "source": [
        "Importering av nødvendig bibliotek og pakker"
      ]
    },
    {
      "cell_type": "code",
      "execution_count": null,
      "metadata": {
        "id": "nLn2QDaFijWw"
      },
      "outputs": [],
      "source": [
        "import pandas as pd\n",
        "import numpy as np\n",
        "import copy\n",
        "import math\n",
        "from statistics import mean, stdev\n",
        "import time"
      ]
    },
    {
      "cell_type": "code",
      "execution_count": null,
      "metadata": {
        "id": "DmFSuK8ARtBg"
      },
      "outputs": [],
      "source": [
        "from sklearn.model_selection import train_test_split\n",
        "from sklearn.pipeline import Pipeline\n",
        "from sklearn.preprocessing import StandardScaler\n",
        "from sklearn.model_selection import RepeatedStratifiedKFold\n",
        "import sklearn.model_selection\n",
        "\n",
        "# Modell\n",
        "from LAMDA_SSL.Algorithm.Regression.CoReg import CoReg"
      ]
    },
    {
      "cell_type": "code",
      "execution_count": null,
      "metadata": {
        "id": "aPjLVwvuiyIr"
      },
      "outputs": [],
      "source": [
        "import optuna\n",
        "from optuna.visualization import plot_optimization_history\n",
        "\n",
        "# Utelukker utskriving av logg for hyperoptimalisering\n",
        "# optuna.logging.set_verbosity(optuna.logging.WARNING)"
      ]
    },
    {
      "cell_type": "markdown",
      "metadata": {
        "id": "qhRMrFFHlZuX"
      },
      "source": [
        "# Egendefinerte moduler"
      ]
    },
    {
      "cell_type": "code",
      "execution_count": null,
      "metadata": {
        "id": "FXgxrml5lg5B",
        "colab": {
          "base_uri": "https://localhost:8080/"
        },
        "outputId": "1d0b9df9-da9e-4403-d46d-e07297094f3c"
      },
      "outputs": [
        {
          "output_type": "stream",
          "name": "stdout",
          "text": [
            "/content\n"
          ]
        }
      ],
      "source": [
        "!pwd\n",
        "! cp /content/drive/MyDrive/MasterV24/GitHub/moduler_trening_validering_testing_evaluering.py /content/moduler_trening_validering_testing_evaluering.py"
      ]
    },
    {
      "cell_type": "code",
      "execution_count": null,
      "metadata": {
        "id": "tvOTDwKLf0q8"
      },
      "outputs": [],
      "source": [
        "from moduler_trening_validering_testing_evaluering import trening_testsett_oppdeling_enzym\n",
        "from moduler_trening_validering_testing_evaluering import trening_testsett_oppdeling_dag\n",
        "from moduler_trening_validering_testing_evaluering import trening_validering_oppdeling_dag\n",
        "\n",
        "from moduler_trening_validering_testing_evaluering import enzymfordeling\n",
        "from moduler_trening_validering_testing_evaluering import n_splitt_enzym\n",
        "from moduler_trening_validering_testing_evaluering import umarkert_andel_dag\n",
        "from moduler_trening_validering_testing_evaluering import Resultat_evaluering\n",
        "from moduler_trening_validering_testing_evaluering import res_eval_opt\n",
        "from moduler_trening_validering_testing_evaluering import res_eval\n",
        "from moduler_trening_validering_testing_evaluering import Resultat_dicts_semi"
      ]
    },
    {
      "cell_type": "code",
      "execution_count": null,
      "metadata": {
        "id": "JTs_zHhkiBpK",
        "colab": {
          "base_uri": "https://localhost:8080/"
        },
        "outputId": "102df1de-e55a-4802-d0c5-24496bd4daa8"
      },
      "outputs": [
        {
          "output_type": "stream",
          "name": "stdout",
          "text": [
            "/content\n"
          ]
        }
      ],
      "source": [
        "!pwd\n",
        "! cp /content/drive/MyDrive/MasterV24/GitHub/moduler_optimalisering_evaluering_semiveiledet.py /content/moduler_optimalisering_evaluering_semiveiledet.py"
      ]
    },
    {
      "cell_type": "code",
      "execution_count": null,
      "metadata": {
        "id": "A5GEVrXsiYd-"
      },
      "outputs": [],
      "source": [
        "from moduler_optimalisering_evaluering_semiveiledet import BHD\n",
        "from moduler_optimalisering_evaluering_semiveiledet import SelfTrainingRandomForestRegressor\n",
        "\n",
        "from moduler_optimalisering_evaluering_semiveiledet import trening_coreg_enzym\n",
        "from moduler_optimalisering_evaluering_semiveiledet import trening_bhd_domene_enzym\n",
        "from moduler_optimalisering_evaluering_semiveiledet import trening_selvtrent_rfr_enzym\n",
        "\n",
        "from moduler_optimalisering_evaluering_semiveiledet import trening_coreg_dag\n",
        "from moduler_optimalisering_evaluering_semiveiledet import trening_bhd_domene_dag\n",
        "from moduler_optimalisering_evaluering_semiveiledet import trening_selvtrent_rfr_dag\n",
        "\n",
        "from moduler_optimalisering_evaluering_semiveiledet import semi_modell_evaluering_1\n",
        "from moduler_optimalisering_evaluering_semiveiledet import semi_modell_evaluering_2\n",
        "\n",
        "from moduler_optimalisering_evaluering_semiveiledet import bhd_andel_maks\n",
        "from moduler_optimalisering_evaluering_semiveiledet import andel_umarkert"
      ]
    },
    {
      "cell_type": "markdown",
      "metadata": {
        "id": "21cdLIoaSTR6"
      },
      "source": [
        "# Importering av relevant data"
      ]
    },
    {
      "cell_type": "code",
      "execution_count": null,
      "metadata": {
        "id": "XeNQyDPZSTwY"
      },
      "outputs": [],
      "source": [
        "# Velger første kolonne med dato og tid som index\n",
        "data = pd.read_csv('/content/drive/MyDrive/MasterV24/Bioco_data/brixadjusted_data.csv',\n",
        "                   header=0,\n",
        "                   sep=',',\n",
        "                   index_col=0)\n",
        "\n",
        "# Design produksjon\n",
        "data_design = pd.read_csv('/content/drive/MyDrive/MasterV24/Bioco_data/brixadjusted_data_design.csv',\n",
        "                          header=0,\n",
        "                          sep=',',\n",
        "                          index_col=0)\n",
        "\n",
        "# Importerer rådata\n",
        "rå_data = pd.read_csv('/content/drive/MyDrive/MasterV24/BiocoData.csv',\n",
        "                      header=0,\n",
        "                      sep=';',\n",
        "                      index_col=0)\n",
        "\n",
        "# Formatterer index til riktig format og datatype\n",
        "data.index = pd.to_datetime(data.index,\n",
        "                            format='%Y-%m-%d %H:%M:%S')\n",
        "\n",
        "data_design.index = pd.to_datetime(data_design.index,\n",
        "                                   format='%Y-%m-%d %H:%M:%S')\n",
        "\n",
        "rå_data.index = pd.to_datetime(rå_data.index,\n",
        "                               format='%d-%m-%Y %H:%M:%S.%f')"
      ]
    },
    {
      "cell_type": "markdown",
      "metadata": {
        "id": "7Wl0nay5j2C4"
      },
      "source": [
        "Tilfeldighetsfrø"
      ]
    },
    {
      "cell_type": "code",
      "execution_count": null,
      "metadata": {
        "id": "OxTGpIOmj4V7"
      },
      "outputs": [],
      "source": [
        "#Tilfeldighetsfrø\n",
        "random_seed = 2024"
      ]
    },
    {
      "cell_type": "markdown",
      "metadata": {
        "id": "i_1rn21ITRJ4"
      },
      "source": [
        "# Lagring av resultater"
      ]
    },
    {
      "cell_type": "code",
      "execution_count": null,
      "metadata": {
        "id": "EGIgRqWETUTx"
      },
      "outputs": [],
      "source": [
        "# Oppretter instans for lagring av res\n",
        "res_semi = Resultat_dicts_semi()"
      ]
    },
    {
      "cell_type": "markdown",
      "source": [
        "# Setter fast treningsandel og faste markerte andeler"
      ],
      "metadata": {
        "id": "lBAscBxqK7QZ"
      }
    },
    {
      "cell_type": "code",
      "source": [
        "# Fast treningsandel\n",
        "trenings_andel = 1.0\n",
        "\n",
        "# Markerte andeler til undersøkelse\n",
        "andel_av_markert = [0.5, 1.0, 2.0]"
      ],
      "metadata": {
        "id": "987yKTDLK_ur"
      },
      "execution_count": null,
      "outputs": []
    },
    {
      "cell_type": "markdown",
      "source": [
        "# Parametervalg for hyperoptimalisering"
      ],
      "metadata": {
        "id": "w57g39LGwyBz"
      }
    },
    {
      "cell_type": "code",
      "source": [
        "# Antall runder for hyperoptimalisering\n",
        "n_runder_hel = 100\n",
        "n_runder_andel = 100\n",
        "\n",
        "# Antall gjentagelser\n",
        "n_gjentagelser = 2"
      ],
      "metadata": {
        "id": "Tx_wgPo_xv-7"
      },
      "execution_count": null,
      "outputs": []
    },
    {
      "cell_type": "markdown",
      "metadata": {
        "id": "76aWdlTDXp9I"
      },
      "source": [
        "# NIR målinger inkludert"
      ]
    },
    {
      "cell_type": "markdown",
      "metadata": {
        "id": "wQpsJkKShL_9"
      },
      "source": [
        "## Hele datasett"
      ]
    },
    {
      "cell_type": "markdown",
      "metadata": {
        "id": "yNN1h11QTJ2y"
      },
      "source": [
        "## Alternativ 1: 20% testsett. Fordelt på enzymtype (ikke tatt hensyn til kontinuitet)"
      ]
    },
    {
      "cell_type": "code",
      "execution_count": null,
      "metadata": {
        "id": "j-oKygY5rRw0"
      },
      "outputs": [],
      "source": [
        "# Testandel\n",
        "test_andel = 0.2\n",
        "\n",
        "# Deler datasettet i trening og testsett\n",
        "trening_markert, enzymtyper_markert, testsett, _,\\\n",
        "trening_umarkert, enzymtyper_umarkert, trening\\\n",
        "= trening_testsett_oppdeling_enzym(rå_data,\n",
        "                                   data,\n",
        "                                   test_andel=test_andel)"
      ]
    },
    {
      "cell_type": "code",
      "execution_count": null,
      "metadata": {
        "id": "EmZJojj4jXKu"
      },
      "outputs": [],
      "source": [
        "# Går igjennom andeler av satt markerte andeler\n",
        "for andel in andel_av_markert:\n",
        "\n",
        "  # Finner tilsvarende umarkerte andel\n",
        "  umarkert_andel = andel_umarkert(andel, trening_markert, trening_umarkert)\n",
        "\n",
        "  # Filtrer umarkert sett\n",
        "  ubenyttet_andel = (1.0 - umarkert_andel)\n",
        "  treningssett_umarkert, _, enzymtyper_treningssett_umarkert, _\\\n",
        "  = train_test_split(trening_umarkert,\n",
        "                      enzymtyper_umarkert,\n",
        "                      test_size=ubenyttet_andel,\n",
        "                      stratify=enzymtyper_umarkert,\n",
        "                      random_state=random_seed)\n",
        "\n",
        "  # Treningssett\n",
        "  treningssett = pd.concat([trening_markert, treningssett_umarkert],\n",
        "                          axis=0)\n",
        "  treningssett = treningssett.sort_index(ascending=True)\n",
        "\n",
        "\n",
        "  # Antall splitt etter minste enxymtype\n",
        "  n_splitt = n_splitt_enzym(rå_data, trening_markert)\n",
        "\n",
        "  # Modelloptimalisering, trening og evaulering av Coreg, Selv-RFR og BHD\n",
        "  semi_modell_evaluering_1(dict_res_opt=res_semi.dict_res_1_hel_opt,\n",
        "                          dict_res=res_semi.dict_res_1_hel,\n",
        "                          rå_data=rå_data,\n",
        "                          treningssett_markert=trening_markert,\n",
        "                          enzymtyper_treningssett_markert=enzymtyper_markert,\n",
        "                          treningssett_umarkert=treningssett_umarkert,\n",
        "                          enzymtyper_treningssett_umarkert=enzymtyper_treningssett_umarkert,\n",
        "                          treningssett=treningssett,\n",
        "                          testsett=testsett,\n",
        "                          n_splitt=n_splitt,\n",
        "                          n_gjentagelser=n_gjentagelser,\n",
        "                          n_runder=n_runder_andel,\n",
        "                          test_andel=test_andel,\n",
        "                          trenings_andel=trenings_andel,\n",
        "                          random_seed=random_seed)\n",
        "\n",
        "  # Lagring av resulatater\n",
        "  res_1_hel_semi = pd.DataFrame(res_semi.dict_res_1_hel)\n",
        "  res_1_hel_opt_semi = pd.DataFrame(res_semi.dict_res_1_hel_opt)\n",
        "\n",
        "  res_1_hel_semi.to_csv('/content/drive/MyDrive/MasterV24/Bioco_data/Resultater/brixadjusted/brixadjusted_res_1_hel_semi.csv')\n",
        "  res_1_hel_opt_semi.to_csv('/content/drive/MyDrive/MasterV24/Bioco_data/Resultater/brixadjusted/brixadjusted_res_1_hel_opt_semi.csv')"
      ]
    },
    {
      "cell_type": "markdown",
      "metadata": {
        "id": "kvKjGVxrg57C"
      },
      "source": [
        "Beste modell"
      ]
    },
    {
      "cell_type": "code",
      "execution_count": null,
      "metadata": {
        "id": "Tk75jd3uz4j5"
      },
      "outputs": [],
      "source": []
    },
    {
      "cell_type": "markdown",
      "metadata": {
        "id": "IwENe1s1rmwy"
      },
      "source": [
        "## Alternativ 2: Et testsett fordelt på dag og kontinuitet"
      ]
    },
    {
      "cell_type": "code",
      "execution_count": null,
      "metadata": {
        "id": "JLlqSB4BQKYU"
      },
      "outputs": [],
      "source": [
        "# Testandel\n",
        "test_andel = 0.2\n",
        "\n",
        "# Deler datasettet i trening og testsett\n",
        "trening_markert, testsett, trening_umarkert, trening\\\n",
        "= trening_testsett_oppdeling_dag(rå_data,\n",
        "                                 data,\n",
        "                                 test_andel=test_andel,\n",
        "                                 test_ekskluder_kalkun_kylling=True)\n",
        "\n",
        "#Oversikt over fordelingen av enzymtyper i trening og testsett\n",
        "print(\"Enzymtyper Fordeling: Trening markert\")\n",
        "print(enzymfordeling(rå_data, trening_markert))\n",
        "print(\"Enzymtyper Fordeling: Test\")\n",
        "print(enzymfordeling(rå_data, testsett))\n",
        "print(\"Enzymtyper Fordeling: Trening umarkert\")\n",
        "print(enzymfordeling(rå_data, trening_umarkert))"
      ]
    },
    {
      "cell_type": "code",
      "execution_count": null,
      "metadata": {
        "id": "8Viu-m-nk262"
      },
      "outputs": [],
      "source": [
        "# Går igjennom andeler av markerte andeler\n",
        "for andel in andel_av_markert:\n",
        "\n",
        "  # Finner tilsvarende umarkerte andeler\n",
        "  umarkert_andel = andel_umarkert(andel, trening_markert, trening_umarkert)\n",
        "\n",
        "  # Filtrer umarkert sett\n",
        "  treningssett_umarkert, _ = umarkert_andel_dag(trening_umarkert,\n",
        "                                                umarkert_andel)\n",
        "\n",
        "  # Treningssett\n",
        "  treningssett = pd.concat([trening_markert, treningssett_umarkert],\n",
        "                          axis=0)\n",
        "  treningssett = treningssett.sort_index(ascending=True)\n",
        "\n",
        "\n",
        "  # Antall splitt etter minste enxymtype\n",
        "  n_splitt = n_splitt_enzym(rå_data, trening_markert)\n",
        "\n",
        "  # Modelloptimalisering\n",
        "  semi_modell_evaluering_2(dict_res_opt=res_semi.dict_res_2_hel_opt,\n",
        "                            dict_res=res_semi.dict_res_2_hel,\n",
        "                            rå_data=rå_data,\n",
        "                            treningssett_markert=trening_markert,\n",
        "                            treningssett_umarkert=treningssett_umarkert,\n",
        "                            treningssett=treningssett,\n",
        "                            testsett=testsett,\n",
        "                            n_splitt=n_splitt,\n",
        "                            n_runder=n_runder_andel,\n",
        "                            test_andel=test_andel,\n",
        "                            trenings_andel=trenings_andel,\n",
        "                            random_seed=random_seed)\n",
        "\n",
        "  # Lagring av resultater\n",
        "  res_2_hel_semi = pd.DataFrame(res_semi.dict_res_2_hel)\n",
        "  res_2_hel_opt_semi = pd.DataFrame(res_semi.dict_res_2_hel_opt)\n",
        "\n",
        "  res_2_hel_semi.to_csv('/content/drive/MyDrive/MasterV24/Bioco_data/Resultater/brixadjusted/brixadjusted_res_2_hel_semi.csv')\n",
        "  res_2_hel_opt_semi.to_csv('/content/drive/MyDrive/MasterV24/Bioco_data/Resultater/brixadjusted/brixadjusted_res_2_hel_opt_semi.csv')"
      ]
    },
    {
      "cell_type": "markdown",
      "metadata": {
        "id": "un6mDEGPFIHt"
      },
      "source": [
        "## Designproduksjon"
      ]
    },
    {
      "cell_type": "markdown",
      "metadata": {
        "id": "Z0yAUFfySrzl"
      },
      "source": [
        "## Alternativ 1: 80% testsett. Fordelt på enzymtype (ikke tatt hensyn til kontinuitet)"
      ]
    },
    {
      "cell_type": "code",
      "execution_count": null,
      "metadata": {
        "id": "ysMLWgXgSrzl"
      },
      "outputs": [],
      "source": [
        "# Testandel\n",
        "test_andel = 0.8\n",
        "\n",
        "# Deler datasettet i trening og testsett\n",
        "trening_markert, enzymtyper_markert, testsett, _,\\\n",
        "trening_umarkert, enzymtyper_umarkert, trening\\\n",
        "= trening_testsett_oppdeling_enzym(rå_data,\n",
        "                                   data_design,\n",
        "                                   test_andel=test_andel)"
      ]
    },
    {
      "cell_type": "code",
      "execution_count": null,
      "metadata": {
        "id": "StmGxWdLSrzm"
      },
      "outputs": [],
      "source": [
        "# Går igjennom andeler av markerte andeler\n",
        "for andel in andel_av_markert:\n",
        "\n",
        "  # Finner tilsvarende umarkerte andeler\n",
        "  umarkert_andel = andel_umarkert(andel, trening_markert, trening_umarkert)\n",
        "\n",
        "  # Filtrer umarkert sett\n",
        "  ubenyttet_andel = (1.0 - umarkert_andel)\n",
        "  treningssett_umarkert, _, enzymtyper_treningssett_umarkert, _\\\n",
        "  = train_test_split(trening_umarkert,\n",
        "                      enzymtyper_umarkert,\n",
        "                      test_size=ubenyttet_andel,\n",
        "                      stratify=enzymtyper_umarkert,\n",
        "                      random_state=random_seed)\n",
        "\n",
        "  # Treningssett\n",
        "  treningssett = pd.concat([trening_markert, treningssett_umarkert],\n",
        "                          axis=0)\n",
        "  treningssett = treningssett.sort_index(ascending=True)\n",
        "\n",
        "\n",
        "  # Antall splitt etter minste enxymtype\n",
        "  n_splitt = n_splitt_enzym(rå_data, trening_markert)\n",
        "\n",
        "\n",
        "  # Modelloptimalisering, trening og evaulering av Coreg, Selv-RFR og BHD\n",
        "  semi_modell_evaluering_1(dict_res_opt=res_semi.dict_res_1_design_opt,\n",
        "                            dict_res=res_semi.dict_res_1_design,\n",
        "                            rå_data=rå_data,\n",
        "                            treningssett_markert=trening_markert,\n",
        "                            enzymtyper_treningssett_markert=enzymtyper_markert,\n",
        "                            treningssett_umarkert=treningssett_umarkert,\n",
        "                            enzymtyper_treningssett_umarkert=enzymtyper_treningssett_umarkert,\n",
        "                            treningssett=treningssett,\n",
        "                            testsett=testsett,\n",
        "                            n_splitt=n_splitt,\n",
        "                            n_gjentagelser=n_gjentagelser,\n",
        "                            n_runder=n_runder_andel,\n",
        "                            test_andel=test_andel,\n",
        "                            trenings_andel=trenings_andel,\n",
        "                            random_seed=random_seed)\n",
        "\n",
        "  # Lagring av resulatater\n",
        "  res_1_design_semi = pd.DataFrame(res_semi.dict_res_1_design)\n",
        "  res_1_design_opt_semi = pd.DataFrame(res_semi.dict_res_1_design_opt)\n",
        "\n",
        "  res_1_design_semi.to_csv('/content/drive/MyDrive/MasterV24/Bioco_data/Resultater/brixadjusted/brixadjusted_res_1_design_semi.csv')\n",
        "  res_1_design_opt_semi.to_csv('/content/drive/MyDrive/MasterV24/Bioco_data/Resultater/brixadjusted/brixadjusted_res_1_design_opt_semi.csv')"
      ]
    },
    {
      "cell_type": "markdown",
      "metadata": {
        "id": "NlToFxjlSrzm"
      },
      "source": [
        "Beste modell"
      ]
    },
    {
      "cell_type": "code",
      "execution_count": null,
      "metadata": {
        "id": "zBrQPgMbSrzm"
      },
      "outputs": [],
      "source": []
    },
    {
      "cell_type": "markdown",
      "metadata": {
        "id": "4EHm1oIBSrzm"
      },
      "source": [
        "## Alternativ 2: Et testsett fordelt på dag og kontinuitet"
      ]
    },
    {
      "cell_type": "code",
      "execution_count": null,
      "metadata": {
        "id": "yDf-H922Srzm"
      },
      "outputs": [],
      "source": [
        "# testandel\n",
        "test_andel = 0.8\n",
        "\n",
        "# Deler datasettet i trening og testsett\n",
        "trening_markert, testsett, trening_umarkert, trening\\\n",
        "= trening_testsett_oppdeling_dag(rå_data,\n",
        "                                 data_design,\n",
        "                                 test_andel=test_andel,\n",
        "                                 test_ekskluder_kalkun_kylling=True)\n",
        "\n",
        "#Oversikt over fordelingen av enzymtyper i trening og testsett\n",
        "print(\"Enzymtyper Fordeling: Trening markert\")\n",
        "print(enzymfordeling(rå_data, trening_markert))\n",
        "print(\"Enzymtyper Fordeling: Test\")\n",
        "print(enzymfordeling(rå_data, testsett))\n",
        "print(\"Enzymtyper Fordeling: Trening umarkert\")\n",
        "print(enzymfordeling(rå_data, trening_umarkert))"
      ]
    },
    {
      "cell_type": "code",
      "execution_count": null,
      "metadata": {
        "id": "yAlp9n3HSrzn"
      },
      "outputs": [],
      "source": [
        "# Går igjennom andeler av markerte andeler\n",
        "for andel in andel_av_markert:\n",
        "\n",
        "  # Finner tilsvarende umarkerte andeler\n",
        "  umarkert_andel = andel_umarkert(andel, trening_markert, trening_umarkert)\n",
        "\n",
        "  # Filtrer umarkert sett\n",
        "  treningssett_umarkert, _ = umarkert_andel_dag(trening_umarkert,\n",
        "                                                umarkert_andel)\n",
        "\n",
        "  # Treningssett\n",
        "  treningssett = pd.concat([trening_markert, treningssett_umarkert],\n",
        "                          axis=0)\n",
        "  treningssett = treningssett.sort_index(ascending=True)\n",
        "\n",
        "\n",
        "  # Antall splitt etter minste enxymtype\n",
        "  n_splitt = n_splitt_enzym(rå_data, trening_markert)\n",
        "\n",
        "  #Modelloptimalisering\n",
        "  semi_modell_evaluering_2(dict_res_opt=res_semi.dict_res_2_design_opt,\n",
        "                        dict_res=res_semi.dict_res_2_design,\n",
        "                        rå_data=rå_data,\n",
        "                        treningssett_markert=trening_markert,\n",
        "                        treningssett_umarkert=treningssett_umarkert,\n",
        "                        treningssett=treningssett,\n",
        "                        testsett=testsett,\n",
        "                        n_splitt=n_splitt,\n",
        "                        n_runder=n_runder_andel,\n",
        "                        test_andel=test_andel,\n",
        "                        trenings_andel=trenings_andel,\n",
        "                        random_seed=random_seed)\n",
        "\n",
        "  # Lagring av resultater\n",
        "  res_2_design_semi = pd.DataFrame(res_semi.dict_res_2_design)\n",
        "  res_2_design_opt_semi = pd.DataFrame(res_semi.dict_res_2_design_opt)\n",
        "\n",
        "  res_2_design_semi.to_csv('/content/drive/MyDrive/MasterV24/Bioco_data/Resultater/brixadjusted/brixadjusted_res_2_design_semi.csv')\n",
        "  res_2_design_opt_semi.to_csv('/content/drive/MyDrive/MasterV24/Bioco_data/Resultater/brixadjusted/brixadjusted_res_2_design_opt_semi.csv')"
      ]
    },
    {
      "cell_type": "markdown",
      "metadata": {
        "id": "pnhtimdQn6n_"
      },
      "source": [
        "# NIR målinger ekskludert"
      ]
    },
    {
      "cell_type": "code",
      "execution_count": null,
      "metadata": {
        "id": "HVRjvKsSn6oM"
      },
      "outputs": [],
      "source": [
        "# Ekskluderer NIR målinger fra datasettene\n",
        "NIR_kolonner = ['NIRfat', 'NIRwater', 'NIRash']\n",
        "data_uten_NIR = data.drop(columns=NIR_kolonner)\n",
        "data_design_uten_NIR = data_design.drop(columns=NIR_kolonner)"
      ]
    },
    {
      "cell_type": "markdown",
      "source": [
        "### Fast testandel"
      ],
      "metadata": {
        "id": "JZZGobiJQB0i"
      }
    },
    {
      "cell_type": "code",
      "source": [
        "#test_andel\n",
        "test_andel = 0.2\n",
        "\n",
        "andel_av_markert = [2.0]"
      ],
      "metadata": {
        "id": "nBnMZrAaQEr3"
      },
      "execution_count": null,
      "outputs": []
    },
    {
      "cell_type": "markdown",
      "metadata": {
        "id": "FngOg-aynnWh"
      },
      "source": [
        "## Hele datasett"
      ]
    },
    {
      "cell_type": "markdown",
      "metadata": {
        "id": "xQN39OvtnnWi"
      },
      "source": [
        "## Alternativ 1: Et testsett. Fordelt på enzymtype (ikke tatt hensyn til kontinuitet)"
      ]
    },
    {
      "cell_type": "code",
      "execution_count": null,
      "metadata": {
        "id": "f9Hz_zKennWi",
        "colab": {
          "base_uri": "https://localhost:8080/",
          "height": 1000,
          "referenced_widgets": [
            "3b0c388eaa9c411eaa19c5c86a4bbb59",
            "5f118649da1c4aeea35c46e0f3bc749e",
            "c1433d57713144a7bbca587943ccbcca",
            "db798e521acb48a09ab2ab714c02c024",
            "d3aa65f56b8a4ac493b1b87db093c269",
            "35081b42665744aea9612c746eab61bc",
            "3724b059b1c146ae96f11f30602b39f4",
            "ad2e2ef1a6ca4055a37cca48ced9531e",
            "4c0e6a564cc64171b1d58dd8568a64df",
            "e4effbd60bf84e36b63979f37514b99e",
            "8491b798560f40b281617669d51861af"
          ]
        },
        "outputId": "e2c86e90-e094-44d8-b276-1ebc8a47979e"
      },
      "outputs": [
        {
          "metadata": {
            "tags": null
          },
          "name": "stderr",
          "output_type": "stream",
          "text": [
            "[I 2024-06-06 11:25:04,724] A new study created in memory with name: no-name-45e6555e-ecc1-48da-a9ca-ea85adf2df8a\n"
          ]
        },
        {
          "data": {
            "application/vnd.jupyter.widget-view+json": {
              "model_id": "3b0c388eaa9c411eaa19c5c86a4bbb59",
              "version_major": 2,
              "version_minor": 0
            },
            "text/plain": [
              "  0%|          | 0/100 [00:00<?, ?it/s]"
            ]
          },
          "metadata": {},
          "output_type": "display_data"
        },
        {
          "output_type": "stream",
          "name": "stdout",
          "text": [
            "[I 2024-06-06 11:37:15,740] Trial 0 finished with value: 0.01056629823619955 and parameters: {'k1': 7, 'k2': 4, 'p1': 2, 'p2': 8}. Best is trial 0 with value: 0.01056629823619955.\n",
            "[I 2024-06-06 11:43:49,641] Trial 2 pruned. \n",
            "[I 2024-06-06 11:44:22,136] Trial 3 pruned. \n",
            "[I 2024-06-06 11:44:33,073] Trial 1 finished with value: 0.010758746960628953 and parameters: {'k1': 6, 'k2': 5, 'p1': 7, 'p2': 9}. Best is trial 0 with value: 0.01056629823619955.\n",
            "[I 2024-06-06 11:48:12,686] Trial 5 pruned. \n",
            "[I 2024-06-06 11:57:20,168] Trial 4 pruned. \n",
            "[I 2024-06-06 12:04:36,211] Trial 7 pruned. \n",
            "[I 2024-06-06 12:05:10,639] Trial 6 finished with value: 0.010511270818713734 and parameters: {'k1': 10, 'k2': 2, 'p1': 5, 'p2': 6}. Best is trial 6 with value: 0.010511270818713734.\n",
            "[I 2024-06-06 12:08:35,830] Trial 8 pruned. \n",
            "[I 2024-06-06 12:17:20,103] Trial 10 pruned. \n",
            "[I 2024-06-06 12:20:31,204] Trial 9 finished with value: 0.010517826467209624 and parameters: {'k1': 6, 'k2': 7, 'p1': 6, 'p2': 1}. Best is trial 6 with value: 0.010511270818713734.\n",
            "[I 2024-06-06 12:31:17,566] Trial 11 pruned. \n",
            "[I 2024-06-06 12:33:56,467] Trial 12 pruned. \n",
            "[I 2024-06-06 12:44:29,157] Trial 13 pruned. \n",
            "[I 2024-06-06 12:51:44,878] Trial 14 finished with value: 0.010692075351861634 and parameters: {'k1': 8, 'k2': 7, 'p1': 1, 'p2': 5}. Best is trial 6 with value: 0.010511270818713734.\n",
            "[I 2024-06-06 12:54:52,280] Trial 15 finished with value: 0.010297488165297413 and parameters: {'k1': 4, 'k2': 3, 'p1': 1, 'p2': 5}. Best is trial 15 with value: 0.010297488165297413.\n",
            "[I 2024-06-06 13:02:59,549] Trial 16 finished with value: 0.010607803658181513 and parameters: {'k1': 4, 'k2': 3, 'p1': 8, 'p2': 2}. Best is trial 15 with value: 0.010297488165297413.\n",
            "[I 2024-06-06 13:05:31,822] Trial 17 finished with value: 0.010241415792211253 and parameters: {'k1': 4, 'k2': 3, 'p1': 1, 'p2': 6}. Best is trial 17 with value: 0.010241415792211253.\n",
            "[I 2024-06-06 13:08:37,773] Trial 18 pruned. \n",
            "[I 2024-06-06 13:16:49,445] Trial 19 finished with value: 0.010192093722354936 and parameters: {'k1': 3, 'k2': 4, 'p1': 1, 'p2': 5}. Best is trial 19 with value: 0.010192093722354936.\n",
            "[I 2024-06-06 13:19:48,995] Trial 20 finished with value: 0.01025649266879759 and parameters: {'k1': 3, 'k2': 4, 'p1': 1, 'p2': 5}. Best is trial 19 with value: 0.010192093722354936.\n",
            "[I 2024-06-06 13:22:31,778] Trial 21 pruned. \n",
            "[I 2024-06-06 13:25:46,805] Trial 22 pruned. \n",
            "[I 2024-06-06 13:33:25,396] Trial 23 finished with value: 0.01013324360662076 and parameters: {'k1': 3, 'k2': 4, 'p1': 1, 'p2': 6}. Best is trial 23 with value: 0.01013324360662076.\n",
            "[I 2024-06-06 13:38:29,616] Trial 24 finished with value: 0.01035081451101658 and parameters: {'k1': 3, 'k2': 6, 'p1': 1, 'p2': 6}. Best is trial 23 with value: 0.01013324360662076.\n",
            "[I 2024-06-06 13:39:32,866] Trial 25 pruned. \n",
            "[I 2024-06-06 13:45:20,770] Trial 26 pruned. \n",
            "[I 2024-06-06 13:54:54,710] Trial 27 finished with value: 0.010474175372308752 and parameters: {'k1': 5, 'k2': 6, 'p1': 1, 'p2': 8}. Best is trial 23 with value: 0.01013324360662076.\n",
            "[I 2024-06-06 13:55:11,260] Trial 28 finished with value: 0.01035294747790743 and parameters: {'k1': 5, 'k2': 2, 'p1': 1, 'p2': 8}. Best is trial 23 with value: 0.01013324360662076.\n",
            "[I 2024-06-06 13:59:55,533] Trial 29 pruned. \n",
            "[I 2024-06-06 14:01:37,155] Trial 30 pruned. \n",
            "[I 2024-06-06 14:04:31,635] Trial 31 pruned. \n",
            "[I 2024-06-06 14:06:24,141] Trial 32 pruned. \n",
            "[I 2024-06-06 14:15:21,947] Trial 33 finished with value: 0.01022561737930073 and parameters: {'k1': 3, 'k2': 4, 'p1': 1, 'p2': 5}. Best is trial 23 with value: 0.01013324360662076.\n",
            "[I 2024-06-06 14:18:24,932] Trial 34 finished with value: 0.010276764166760953 and parameters: {'k1': 3, 'k2': 5, 'p1': 1, 'p2': 4}. Best is trial 23 with value: 0.01013324360662076.\n",
            "[I 2024-06-06 14:23:24,576] Trial 35 pruned. \n",
            "[I 2024-06-06 14:25:43,998] Trial 36 pruned. \n",
            "[I 2024-06-06 14:30:41,364] Trial 37 pruned. \n",
            "[I 2024-06-06 14:33:10,609] Trial 38 pruned. \n",
            "[I 2024-06-06 14:37:57,910] Trial 39 pruned. \n",
            "[I 2024-06-06 14:39:11,930] Trial 40 pruned. \n",
            "[I 2024-06-06 14:43:13,929] Trial 41 pruned. \n",
            "[I 2024-06-06 14:48:36,554] Trial 42 finished with value: 0.010360720464255364 and parameters: {'k1': 3, 'k2': 3, 'p1': 1, 'p2': 5}. Best is trial 23 with value: 0.01013324360662076.\n",
            "[I 2024-06-06 14:48:43,588] Trial 43 pruned. \n",
            "[I 2024-06-06 14:54:01,907] Trial 45 pruned. \n",
            "[I 2024-06-06 15:00:38,156] Trial 46 pruned. \n",
            "[I 2024-06-06 15:05:45,559] Trial 47 pruned. \n",
            "[I 2024-06-06 15:06:58,193] Trial 44 finished with value: 0.01029931459214639 and parameters: {'k1': 3, 'k2': 10, 'p1': 1, 'p2': 5}. Best is trial 23 with value: 0.01013324360662076.\n",
            "[I 2024-06-06 15:11:00,996] Trial 49 pruned. \n",
            "[I 2024-06-06 15:18:47,101] Trial 48 finished with value: 0.010244907756304749 and parameters: {'k1': 3, 'k2': 6, 'p1': 1, 'p2': 6}. Best is trial 23 with value: 0.01013324360662076.\n",
            "[I 2024-06-06 15:24:25,111] Trial 50 finished with value: 0.010419564618330138 and parameters: {'k1': 4, 'k2': 6, 'p1': 1, 'p2': 4}. Best is trial 23 with value: 0.01013324360662076.\n",
            "[I 2024-06-06 15:30:46,343] Trial 51 pruned. \n",
            "[I 2024-06-06 15:31:40,225] Trial 52 pruned. \n",
            "[I 2024-06-06 15:37:14,568] Trial 53 pruned. \n",
            "[I 2024-06-06 15:43:10,697] Trial 55 pruned. \n",
            "[I 2024-06-06 15:44:46,344] Trial 54 finished with value: 0.01039668220516849 and parameters: {'k1': 4, 'k2': 5, 'p1': 1, 'p2': 5}. Best is trial 23 with value: 0.01013324360662076.\n",
            "[I 2024-06-06 15:52:12,532] Trial 56 finished with value: 0.010450754222233032 and parameters: {'k1': 2, 'k2': 4, 'p1': 1, 'p2': 5}. Best is trial 23 with value: 0.01013324360662076.\n",
            "[I 2024-06-06 15:52:17,724] Trial 57 pruned. \n",
            "[I 2024-06-06 15:58:32,404] Trial 58 pruned. \n",
            "[I 2024-06-06 15:59:25,142] Trial 59 pruned. \n",
            "[I 2024-06-06 16:04:39,001] Trial 60 pruned. \n",
            "[I 2024-06-06 16:09:09,273] Trial 61 finished with value: 0.010234444751243778 and parameters: {'k1': 3, 'k2': 3, 'p1': 1, 'p2': 6}. Best is trial 23 with value: 0.01013324360662076.\n",
            "[I 2024-06-06 16:11:14,724] Trial 62 pruned. \n",
            "[I 2024-06-06 16:14:36,050] Trial 63 pruned. \n",
            "[I 2024-06-06 16:21:06,857] Trial 64 finished with value: 0.010144546415090421 and parameters: {'k1': 3, 'k2': 3, 'p1': 1, 'p2': 6}. Best is trial 23 with value: 0.01013324360662076.\n",
            "[I 2024-06-06 16:25:47,314] Trial 65 finished with value: 0.010280750191902338 and parameters: {'k1': 4, 'k2': 3, 'p1': 1, 'p2': 6}. Best is trial 23 with value: 0.01013324360662076.\n",
            "[I 2024-06-06 16:26:21,623] Trial 66 pruned. \n",
            "[I 2024-06-06 16:33:33,203] Trial 67 pruned. \n",
            "[I 2024-06-06 16:35:02,962] Trial 68 pruned. \n",
            "[I 2024-06-06 16:38:01,264] Trial 70 pruned. \n",
            "[I 2024-06-06 16:41:32,768] Trial 69 pruned. \n",
            "[I 2024-06-06 16:46:02,957] Trial 71 pruned. \n",
            "[I 2024-06-06 16:51:55,164] Trial 72 finished with value: 0.010309983693338059 and parameters: {'k1': 3, 'k2': 4, 'p1': 1, 'p2': 5}. Best is trial 23 with value: 0.01013324360662076.\n",
            "[I 2024-06-06 16:56:24,714] Trial 74 pruned. \n",
            "[I 2024-06-06 16:57:23,291] Trial 73 finished with value: 0.010279429902188593 and parameters: {'k1': 3, 'k2': 4, 'p1': 1, 'p2': 5}. Best is trial 23 with value: 0.01013324360662076.\n",
            "[I 2024-06-06 17:02:19,298] Trial 75 pruned. \n",
            "[I 2024-06-06 17:03:18,836] Trial 76 pruned. \n",
            "[I 2024-06-06 17:07:07,208] Trial 77 pruned. \n",
            "[I 2024-06-06 17:08:55,630] Trial 78 pruned. \n",
            "[I 2024-06-06 17:16:44,578] Trial 80 pruned. \n",
            "[I 2024-06-06 17:17:04,128] Trial 79 finished with value: 0.010220631767500278 and parameters: {'k1': 3, 'k2': 4, 'p1': 1, 'p2': 5}. Best is trial 23 with value: 0.01013324360662076.\n",
            "[I 2024-06-06 17:21:09,983] Trial 81 pruned. \n",
            "[I 2024-06-06 17:28:20,836] Trial 82 finished with value: 0.010246970565241986 and parameters: {'k1': 3, 'k2': 4, 'p1': 1, 'p2': 5}. Best is trial 23 with value: 0.01013324360662076.\n",
            "[I 2024-06-06 17:32:12,244] Trial 83 finished with value: 0.01027616758797744 and parameters: {'k1': 3, 'k2': 4, 'p1': 1, 'p2': 5}. Best is trial 23 with value: 0.01013324360662076.\n",
            "[I 2024-06-06 17:39:16,912] Trial 84 finished with value: 0.010248493791500978 and parameters: {'k1': 3, 'k2': 4, 'p1': 1, 'p2': 5}. Best is trial 23 with value: 0.01013324360662076.\n",
            "[I 2024-06-06 17:44:05,583] Trial 85 finished with value: 0.010252701328086337 and parameters: {'k1': 4, 'k2': 4, 'p1': 1, 'p2': 4}. Best is trial 23 with value: 0.01013324360662076.\n",
            "[I 2024-06-06 17:44:08,750] Trial 86 pruned. \n",
            "[I 2024-06-06 17:50:09,125] Trial 88 pruned. \n",
            "[I 2024-06-06 17:50:09,918] Trial 87 pruned. \n",
            "[I 2024-06-06 17:56:14,082] Trial 90 pruned. \n",
            "[I 2024-06-06 17:57:06,259] Trial 89 pruned. \n"
          ]
        }
      ],
      "source": [
        "# Deler datasettet i trening og testsett\n",
        "trening_markert, enzymtyper_markert, testsett, enzymtyper_test, trening_umarkert,\\\n",
        "enzymtyper_umarkert, trening\\\n",
        "= trening_testsett_oppdeling_enzym(rå_data,\n",
        "                                   data_uten_NIR,\n",
        "                                   test_andel=test_andel)\n",
        "\n",
        "# Antall splitt etter minste enxymtype\n",
        "n_splitt = n_splitt_enzym(rå_data, trening_markert)\n",
        "\n",
        "# Modelloptimalisering, trening og evaulering av Coreg, Selv-RFR og BHD\n",
        "semi_modell_evaluering_1(dict_res_opt=res_semi.dict_res_1_hel_opt_NIR,\n",
        "                         dict_res=res_semi.dict_res_1_hel_NIR,\n",
        "                         rå_data=rå_data,\n",
        "                         treningssett_markert=trening_markert,\n",
        "                         enzymtyper_treningssett_markert=enzymtyper_markert,\n",
        "                         treningssett_umarkert=trening_umarkert,\n",
        "                         treningssett=trening,\n",
        "                         testsett=testsett,\n",
        "                         n_splitt=n_splitt,\n",
        "                         n_gjentagelser=n_gjentagelser,\n",
        "                         n_runder=n_runder_hel,\n",
        "                         test_andel=test_andel,\n",
        "                         trenings_andel=trenings_andel,\n",
        "                         random_seed=random_seed)\n",
        "\n",
        "# Lagring av resultater\n",
        "res_1_hel_semi_NIR = pd.DataFrame(res_semi.dict_res_1_hel_NIR)\n",
        "res_1_hel_opt_semi_NIR = pd.DataFrame(res_semi.dict_res_1_hel_opt_NIR)\n",
        "\n",
        "res_1_hel_semi_NIR.to_csv('/content/drive/MyDrive/MasterV24/Bioco_data/Resultater/brixadjusted/brixadjusted_res_1_hel_semi_NIR.csv')\n",
        "res_1_hel_opt_semi_NIR.to_csv('/content/drive/MyDrive/MasterV24/Bioco_data/Resultater/brixadjusted/brixadjusted_res_1_hel_opt_semi_NIR.csv')"
      ]
    },
    {
      "cell_type": "markdown",
      "metadata": {
        "id": "19PBB4sannWi"
      },
      "source": [
        "Beste modell"
      ]
    },
    {
      "cell_type": "code",
      "execution_count": null,
      "metadata": {
        "id": "EAhBuBY-nnWj"
      },
      "outputs": [],
      "source": []
    },
    {
      "cell_type": "markdown",
      "metadata": {
        "id": "49GQjZ88BoDa"
      },
      "source": [
        "## Alternativ 2: Manuell fordeling"
      ]
    },
    {
      "cell_type": "code",
      "execution_count": null,
      "metadata": {
        "id": "G5kb5K2Mq41R"
      },
      "outputs": [],
      "source": [
        "# Deler datasettet i trening og testsett\n",
        "trening_markert, testsett, trening_umarkert, trening\\\n",
        "= trening_testsett_oppdeling_dag(rå_data,\n",
        "                                 data_uten_NIR,\n",
        "                                 test_andel=test_andel,\n",
        "                                 test_ekskluder_kalkun_kylling=True)\n",
        "\n",
        "# Antall splitt etter minste enxymtype\n",
        "n_splitt = n_splitt_enzym(rå_data, trening_markert)\n",
        "\n",
        "# Modelloptimalisering, trening og evaulering av Coreg, Selv-RFR og BHD\n",
        "semi_modell_evaluering_2(dict_res_opt=res_semi.dict_res_2_hel_opt_NIR,\n",
        "                         dict_res=res_semi.dict_res_2_hel_NIR,\n",
        "                         rå_data=rå_data,\n",
        "                         treningssett_markert=trening_markert,\n",
        "                         treningssett_umarkert=trening_umarkert,\n",
        "                         treningssett=trening,\n",
        "                         testsett=testsett,\n",
        "                         n_splitt=n_splitt,\n",
        "                         n_runder=n_runder_hel,\n",
        "                         test_andel=test_andel,\n",
        "                         trenings_andel=trenings_andel,\n",
        "                         random_seed=random_seed)\n",
        "\n",
        "res_2_hel_semi_NIR = pd.DataFrame(res_semi.dict_res_2_hel_NIR)\n",
        "res_2_hel_opt_semi_NIR = pd.DataFrame(res_semi.dict_res_2_hel_opt_NIR)\n",
        "\n",
        "res_2_hel_semi_NIR.to_csv('/content/drive/MyDrive/MasterV24/Bioco_data/Resultater/brixadjusted/brixadjusted_res_2_hel_semi_NIR.csv')\n",
        "res_2_hel_opt_semi_NIR.to_csv('/content/drive/MyDrive/MasterV24/Bioco_data/Resultater/brixadjusted/brixadjusted_res_2_hel_opt_semi_NIR.csv')"
      ]
    },
    {
      "cell_type": "markdown",
      "metadata": {
        "id": "peq30NIare5I"
      },
      "source": [
        "Beste modell"
      ]
    },
    {
      "cell_type": "code",
      "execution_count": null,
      "metadata": {
        "id": "40FqPMn9re5Q"
      },
      "outputs": [],
      "source": []
    },
    {
      "cell_type": "markdown",
      "metadata": {
        "id": "wASf8kP1rpkq"
      },
      "source": [
        "## Designproduksjon"
      ]
    },
    {
      "cell_type": "markdown",
      "metadata": {
        "id": "pzkziEds6GK8"
      },
      "source": [
        "## Alternativ 1: Et testsett. Fordelt på enzymtype (ikke tatt hensyn til kontinuitet)"
      ]
    },
    {
      "cell_type": "code",
      "execution_count": null,
      "metadata": {
        "id": "5slwInDw6GK8"
      },
      "outputs": [],
      "source": [
        "# Deler datasettet i trening og testsett\n",
        "trening_markert, enzymtyper_markert, testsett, enzymtyper_test, trening_umarkert,\\\n",
        "enzymtyper_umarkert, trening\\\n",
        "= trening_testsett_oppdeling_enzym(rå_data,\n",
        "                                   data_design_uten_NIR,\n",
        "                                   test_andel=test_andel)\n",
        "\n",
        "# Antall splitt etter minste enxymtype\n",
        "n_splitt = n_splitt_enzym(rå_data, trening_markert)\n",
        "\n",
        "# Modelloptimalisering, trening og evaulering av Coreg, Selv-RFR og BHD\n",
        "semi_modell_evaluering_1(dict_res_opt=res_semi.dict_res_1_design_opt_NIR,\n",
        "                         dict_res=res_semi.dict_res_1_design_NIR,\n",
        "                         rå_data=rå_data,\n",
        "                         treningssett_markert=trening_markert,\n",
        "                         enzymtyper_treningssett_markert=enzymtyper_markert,\n",
        "                         treningssett_umarkert=trening_umarkert,\n",
        "                         enzymtyper_treningssett_umarkert=enzymtyper_umarkert,\n",
        "                         treningssett=trening,\n",
        "                         testsett=testsett,\n",
        "                         n_splitt=n_splitt,\n",
        "                         n_gjentagelser=n_gjentagelser,\n",
        "                         n_runder=n_runder_hel,\n",
        "                         test_andel=test_andel,\n",
        "                         trenings_andel=trenings_andel,\n",
        "                         random_seed=random_seed)\n",
        "\n",
        "# Lagring av resultater\n",
        "res_1_design_semi_NIR = pd.DataFrame(res_semi.dict_res_1_design_NIR)\n",
        "res_1_design_opt_semi_NIR = pd.DataFrame(res_semi.dict_res_1_design_opt_NIR)\n",
        "\n",
        "res_1_design_semi_NIR.to_csv('/content/drive/MyDrive/MasterV24/Bioco_data/Resultater/brixadjusted/brixadjusted_res_1_design_semi_NIR.csv')\n",
        "res_1_design_opt_semi_NIR.to_csv('/content/drive/MyDrive/MasterV24/Bioco_data/Resultater/brixadjusted/brixadjusted_res_1_design_opt_semi_NIR.csv')"
      ]
    },
    {
      "cell_type": "markdown",
      "metadata": {
        "id": "P9fQSICyr1G2"
      },
      "source": [
        "Beste modell"
      ]
    },
    {
      "cell_type": "code",
      "execution_count": null,
      "metadata": {
        "id": "mKwGbEdYr1G2"
      },
      "outputs": [],
      "source": []
    },
    {
      "cell_type": "markdown",
      "metadata": {
        "id": "9EuYJpT16GK9"
      },
      "source": [
        "## Alternativ 2: Et testsett fordelt på dag og kontinuitet"
      ]
    },
    {
      "cell_type": "code",
      "execution_count": null,
      "metadata": {
        "id": "UxOKnfcm6GK9"
      },
      "outputs": [],
      "source": [
        "# Deler datasettet i trening og testsett\n",
        "trening_markert, testsett, trening_umarkert, trening\\\n",
        "= trening_testsett_oppdeling_dag(rå_data,\n",
        "                                 data_design_uten_NIR,\n",
        "                                 test_andel=test_andel,\n",
        "                                 ekskluder_kalkun_kylling=True)\n",
        "\n",
        "# Antall splitt etter minste enxymtype\n",
        "n_splitt = n_splitt_enzym(rå_data, trening_markert)\n",
        "\n",
        "# Modelloptimalisering, trening og evaulering av Coreg, Selv-RFR og BHD\n",
        "semi_modell_evaluering_2(dict_res_opt=res_semi.dict_res_2_design_opt_NIR,\n",
        "                         dict_res=res_semi.dict_res_2_design_NIR,\n",
        "                         rå_data=rå_data,\n",
        "                         treningssett_markert=trening_markert,\n",
        "                         treningssett_umarkert=trening_umarkert,\n",
        "                         treningssett=trening,\n",
        "                         testsett=testsett,\n",
        "                         n_splitt=n_splitt,\n",
        "                         n_runder=n_runder_hel,\n",
        "                         test_andel=test_andel,\n",
        "                         trenings_andel=trenings_andel,\n",
        "                         random_seed=random_seed)\n",
        "\n",
        "# Lagring av resultater\n",
        "res_2_design_semi_NIR = pd.DataFrame(res_semi.dict_res_2_design_NIR)\n",
        "res_2_design_opt_semi_NIR = pd.DataFrame(res_semi.dict_res_2_design_opt_NIR)\n",
        "\n",
        "res_2_design_semi_NIR.to_csv('/content/drive/MyDrive/MasterV24/Bioco_data/Resultater/brixadjusted/brixadjusted_res_2_design_semi_NIR.csv')\n",
        "res_2_design_opt_semi_NIR.to_csv('/content/drive/MyDrive/MasterV24/Bioco_data/Resultater/brixadjusted/brixadjusted_res_2_design_opt_semi_NIR.csv')"
      ]
    },
    {
      "cell_type": "markdown",
      "metadata": {
        "id": "PCqCJyk0s4Zg"
      },
      "source": [
        "Beste modell"
      ]
    },
    {
      "cell_type": "code",
      "execution_count": null,
      "metadata": {
        "id": "Y2SaMdc9s4Zg"
      },
      "outputs": [],
      "source": []
    }
  ],
  "metadata": {
    "colab": {
      "provenance": [],
      "collapsed_sections": [
        "i_1rn21ITRJ4",
        "yNN1h11QTJ2y",
        "IwENe1s1rmwy",
        "Z0yAUFfySrzl",
        "4EHm1oIBSrzm",
        "pzkziEds6GK8",
        "9EuYJpT16GK9"
      ],
      "include_colab_link": true
    },
    "kernelspec": {
      "display_name": "Python 3",
      "name": "python3"
    },
    "language_info": {
      "name": "python"
    },
    "widgets": {
      "application/vnd.jupyter.widget-state+json": {
        "3b0c388eaa9c411eaa19c5c86a4bbb59": {
          "model_module": "@jupyter-widgets/controls",
          "model_name": "HBoxModel",
          "model_module_version": "1.5.0",
          "state": {
            "_dom_classes": [],
            "_model_module": "@jupyter-widgets/controls",
            "_model_module_version": "1.5.0",
            "_model_name": "HBoxModel",
            "_view_count": null,
            "_view_module": "@jupyter-widgets/controls",
            "_view_module_version": "1.5.0",
            "_view_name": "HBoxView",
            "box_style": "",
            "children": [
              "IPY_MODEL_5f118649da1c4aeea35c46e0f3bc749e",
              "IPY_MODEL_c1433d57713144a7bbca587943ccbcca",
              "IPY_MODEL_db798e521acb48a09ab2ab714c02c024"
            ],
            "layout": "IPY_MODEL_d3aa65f56b8a4ac493b1b87db093c269"
          }
        },
        "5f118649da1c4aeea35c46e0f3bc749e": {
          "model_module": "@jupyter-widgets/controls",
          "model_name": "HTMLModel",
          "model_module_version": "1.5.0",
          "state": {
            "_dom_classes": [],
            "_model_module": "@jupyter-widgets/controls",
            "_model_module_version": "1.5.0",
            "_model_name": "HTMLModel",
            "_view_count": null,
            "_view_module": "@jupyter-widgets/controls",
            "_view_module_version": "1.5.0",
            "_view_name": "HTMLView",
            "description": "",
            "description_tooltip": null,
            "layout": "IPY_MODEL_35081b42665744aea9612c746eab61bc",
            "placeholder": "​",
            "style": "IPY_MODEL_3724b059b1c146ae96f11f30602b39f4",
            "value": "Best trial: 23. Best value: 0.0101332:  91%"
          }
        },
        "c1433d57713144a7bbca587943ccbcca": {
          "model_module": "@jupyter-widgets/controls",
          "model_name": "FloatProgressModel",
          "model_module_version": "1.5.0",
          "state": {
            "_dom_classes": [],
            "_model_module": "@jupyter-widgets/controls",
            "_model_module_version": "1.5.0",
            "_model_name": "FloatProgressModel",
            "_view_count": null,
            "_view_module": "@jupyter-widgets/controls",
            "_view_module_version": "1.5.0",
            "_view_name": "ProgressView",
            "bar_style": "",
            "description": "",
            "description_tooltip": null,
            "layout": "IPY_MODEL_ad2e2ef1a6ca4055a37cca48ced9531e",
            "max": 100,
            "min": 0,
            "orientation": "horizontal",
            "style": "IPY_MODEL_4c0e6a564cc64171b1d58dd8568a64df",
            "value": 91
          }
        },
        "db798e521acb48a09ab2ab714c02c024": {
          "model_module": "@jupyter-widgets/controls",
          "model_name": "HTMLModel",
          "model_module_version": "1.5.0",
          "state": {
            "_dom_classes": [],
            "_model_module": "@jupyter-widgets/controls",
            "_model_module_version": "1.5.0",
            "_model_name": "HTMLModel",
            "_view_count": null,
            "_view_module": "@jupyter-widgets/controls",
            "_view_module_version": "1.5.0",
            "_view_name": "HTMLView",
            "description": "",
            "description_tooltip": null,
            "layout": "IPY_MODEL_e4effbd60bf84e36b63979f37514b99e",
            "placeholder": "​",
            "style": "IPY_MODEL_8491b798560f40b281617669d51861af",
            "value": " 91/100 [6:32:01&lt;27:04, 180.52s/it]"
          }
        },
        "d3aa65f56b8a4ac493b1b87db093c269": {
          "model_module": "@jupyter-widgets/base",
          "model_name": "LayoutModel",
          "model_module_version": "1.2.0",
          "state": {
            "_model_module": "@jupyter-widgets/base",
            "_model_module_version": "1.2.0",
            "_model_name": "LayoutModel",
            "_view_count": null,
            "_view_module": "@jupyter-widgets/base",
            "_view_module_version": "1.2.0",
            "_view_name": "LayoutView",
            "align_content": null,
            "align_items": null,
            "align_self": null,
            "border": null,
            "bottom": null,
            "display": null,
            "flex": null,
            "flex_flow": null,
            "grid_area": null,
            "grid_auto_columns": null,
            "grid_auto_flow": null,
            "grid_auto_rows": null,
            "grid_column": null,
            "grid_gap": null,
            "grid_row": null,
            "grid_template_areas": null,
            "grid_template_columns": null,
            "grid_template_rows": null,
            "height": null,
            "justify_content": null,
            "justify_items": null,
            "left": null,
            "margin": null,
            "max_height": null,
            "max_width": null,
            "min_height": null,
            "min_width": null,
            "object_fit": null,
            "object_position": null,
            "order": null,
            "overflow": null,
            "overflow_x": null,
            "overflow_y": null,
            "padding": null,
            "right": null,
            "top": null,
            "visibility": null,
            "width": null
          }
        },
        "35081b42665744aea9612c746eab61bc": {
          "model_module": "@jupyter-widgets/base",
          "model_name": "LayoutModel",
          "model_module_version": "1.2.0",
          "state": {
            "_model_module": "@jupyter-widgets/base",
            "_model_module_version": "1.2.0",
            "_model_name": "LayoutModel",
            "_view_count": null,
            "_view_module": "@jupyter-widgets/base",
            "_view_module_version": "1.2.0",
            "_view_name": "LayoutView",
            "align_content": null,
            "align_items": null,
            "align_self": null,
            "border": null,
            "bottom": null,
            "display": null,
            "flex": null,
            "flex_flow": null,
            "grid_area": null,
            "grid_auto_columns": null,
            "grid_auto_flow": null,
            "grid_auto_rows": null,
            "grid_column": null,
            "grid_gap": null,
            "grid_row": null,
            "grid_template_areas": null,
            "grid_template_columns": null,
            "grid_template_rows": null,
            "height": null,
            "justify_content": null,
            "justify_items": null,
            "left": null,
            "margin": null,
            "max_height": null,
            "max_width": null,
            "min_height": null,
            "min_width": null,
            "object_fit": null,
            "object_position": null,
            "order": null,
            "overflow": null,
            "overflow_x": null,
            "overflow_y": null,
            "padding": null,
            "right": null,
            "top": null,
            "visibility": null,
            "width": null
          }
        },
        "3724b059b1c146ae96f11f30602b39f4": {
          "model_module": "@jupyter-widgets/controls",
          "model_name": "DescriptionStyleModel",
          "model_module_version": "1.5.0",
          "state": {
            "_model_module": "@jupyter-widgets/controls",
            "_model_module_version": "1.5.0",
            "_model_name": "DescriptionStyleModel",
            "_view_count": null,
            "_view_module": "@jupyter-widgets/base",
            "_view_module_version": "1.2.0",
            "_view_name": "StyleView",
            "description_width": ""
          }
        },
        "ad2e2ef1a6ca4055a37cca48ced9531e": {
          "model_module": "@jupyter-widgets/base",
          "model_name": "LayoutModel",
          "model_module_version": "1.2.0",
          "state": {
            "_model_module": "@jupyter-widgets/base",
            "_model_module_version": "1.2.0",
            "_model_name": "LayoutModel",
            "_view_count": null,
            "_view_module": "@jupyter-widgets/base",
            "_view_module_version": "1.2.0",
            "_view_name": "LayoutView",
            "align_content": null,
            "align_items": null,
            "align_self": null,
            "border": null,
            "bottom": null,
            "display": null,
            "flex": null,
            "flex_flow": null,
            "grid_area": null,
            "grid_auto_columns": null,
            "grid_auto_flow": null,
            "grid_auto_rows": null,
            "grid_column": null,
            "grid_gap": null,
            "grid_row": null,
            "grid_template_areas": null,
            "grid_template_columns": null,
            "grid_template_rows": null,
            "height": null,
            "justify_content": null,
            "justify_items": null,
            "left": null,
            "margin": null,
            "max_height": null,
            "max_width": null,
            "min_height": null,
            "min_width": null,
            "object_fit": null,
            "object_position": null,
            "order": null,
            "overflow": null,
            "overflow_x": null,
            "overflow_y": null,
            "padding": null,
            "right": null,
            "top": null,
            "visibility": null,
            "width": null
          }
        },
        "4c0e6a564cc64171b1d58dd8568a64df": {
          "model_module": "@jupyter-widgets/controls",
          "model_name": "ProgressStyleModel",
          "model_module_version": "1.5.0",
          "state": {
            "_model_module": "@jupyter-widgets/controls",
            "_model_module_version": "1.5.0",
            "_model_name": "ProgressStyleModel",
            "_view_count": null,
            "_view_module": "@jupyter-widgets/base",
            "_view_module_version": "1.2.0",
            "_view_name": "StyleView",
            "bar_color": null,
            "description_width": ""
          }
        },
        "e4effbd60bf84e36b63979f37514b99e": {
          "model_module": "@jupyter-widgets/base",
          "model_name": "LayoutModel",
          "model_module_version": "1.2.0",
          "state": {
            "_model_module": "@jupyter-widgets/base",
            "_model_module_version": "1.2.0",
            "_model_name": "LayoutModel",
            "_view_count": null,
            "_view_module": "@jupyter-widgets/base",
            "_view_module_version": "1.2.0",
            "_view_name": "LayoutView",
            "align_content": null,
            "align_items": null,
            "align_self": null,
            "border": null,
            "bottom": null,
            "display": null,
            "flex": null,
            "flex_flow": null,
            "grid_area": null,
            "grid_auto_columns": null,
            "grid_auto_flow": null,
            "grid_auto_rows": null,
            "grid_column": null,
            "grid_gap": null,
            "grid_row": null,
            "grid_template_areas": null,
            "grid_template_columns": null,
            "grid_template_rows": null,
            "height": null,
            "justify_content": null,
            "justify_items": null,
            "left": null,
            "margin": null,
            "max_height": null,
            "max_width": null,
            "min_height": null,
            "min_width": null,
            "object_fit": null,
            "object_position": null,
            "order": null,
            "overflow": null,
            "overflow_x": null,
            "overflow_y": null,
            "padding": null,
            "right": null,
            "top": null,
            "visibility": null,
            "width": null
          }
        },
        "8491b798560f40b281617669d51861af": {
          "model_module": "@jupyter-widgets/controls",
          "model_name": "DescriptionStyleModel",
          "model_module_version": "1.5.0",
          "state": {
            "_model_module": "@jupyter-widgets/controls",
            "_model_module_version": "1.5.0",
            "_model_name": "DescriptionStyleModel",
            "_view_count": null,
            "_view_module": "@jupyter-widgets/base",
            "_view_module_version": "1.2.0",
            "_view_name": "StyleView",
            "description_width": ""
          }
        }
      }
    }
  },
  "nbformat": 4,
  "nbformat_minor": 0
}