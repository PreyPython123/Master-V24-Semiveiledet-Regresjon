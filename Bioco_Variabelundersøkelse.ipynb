{
  "nbformat": 4,
  "nbformat_minor": 0,
  "metadata": {
    "colab": {
      "provenance": [],
      "authorship_tag": "ABX9TyOh/bilLRCAniQJAII+xjWR",
      "include_colab_link": true
    },
    "kernelspec": {
      "name": "python3",
      "display_name": "Python 3"
    },
    "language_info": {
      "name": "python"
    }
  },
  "cells": [
    {
      "cell_type": "markdown",
      "metadata": {
        "id": "view-in-github",
        "colab_type": "text"
      },
      "source": [
        "<a href=\"https://colab.research.google.com/github/PreyPython123/Master-V24-Semiveiledet-Regresjon/blob/Variabelunders%C3%B8kelse-Pradeep/Bioco_Variabelunders%C3%B8kelse.ipynb\" target=\"_parent\"><img src=\"https://colab.research.google.com/assets/colab-badge.svg\" alt=\"Open In Colab\"/></a>"
      ]
    },
    {
      "cell_type": "markdown",
      "source": [
        "Importering av nødvendige bibliotek og pakker"
      ],
      "metadata": {
        "id": "Ons8d27_u5KM"
      }
    },
    {
      "cell_type": "code",
      "execution_count": null,
      "metadata": {
        "id": "H2d95-kXyTMq"
      },
      "outputs": [],
      "source": [
        "import pandas as pd\n",
        "import numpy as np\n",
        "import copy"
      ]
    },
    {
      "cell_type": "markdown",
      "source": [
        "Importering av data"
      ],
      "metadata": {
        "id": "yTY5mj83vFg5"
      }
    },
    {
      "cell_type": "code",
      "source": [
        "from google.colab import drive\n",
        "drive.mount('/content/drive')\n",
        "\n",
        "# Velger første kolonne med dato og tid som index\n",
        "behandlet_data = pd.read_csv('/content/drive/MyDrive/MasterV24/Bioco_data/ekstremverdi_data_behandlet_bioco_data.csv',\n",
        "                             header=0,\n",
        "                             sep=',',\n",
        "                             index_col=0)\n",
        "\n",
        "# Formatterer index til riktig format og datatype\n",
        "behandlet_data.index = pd.to_datetime(behandlet_data.index,\n",
        "                                      format='%Y-%m-%d %H:%M:%S')"
      ],
      "metadata": {
        "colab": {
          "base_uri": "https://localhost:8080/"
        },
        "id": "2Zy01fLxvHyh",
        "outputId": "71b474b2-4d3c-4680-e742-71561fd5d9ae"
      },
      "execution_count": null,
      "outputs": [
        {
          "output_type": "stream",
          "name": "stdout",
          "text": [
            "Mounted at /content/drive\n"
          ]
        }
      ]
    },
    {
      "cell_type": "markdown",
      "source": [
        "Oppdeling av data for hver kvalitetsmåling"
      ],
      "metadata": {
        "id": "V-5QmfCXxJJj"
      }
    },
    {
      "cell_type": "code",
      "source": [
        "# Lager en kopi av datasett for med en kvalitesmåling som respons hver\n",
        "collagen_data = behandlet_data.drop(columns=['Mw',\n",
        "                                             'SmallMolecules',\n",
        "                                             'BrixAdjusted'])\n",
        "\n",
        "mw_data = behandlet_data.drop(columns=['Collagen',\n",
        "                                       'SmallMolecules',\n",
        "                                       'BrixAdjusted'])\n",
        "\n",
        "smallmoleclues_data = behandlet_data.drop(columns=['Collagen',\n",
        "                                                   'Mw',\n",
        "                                                   'BrixAdjusted'])\n",
        "\n",
        "brixadjusted_data = behandlet_data.drop(columns=['Collagen',\n",
        "                                                 'Mw',\n",
        "                                                 'SmallMolecules'])"
      ],
      "metadata": {
        "id": "KKdS6QlxxJlU"
      },
      "execution_count": null,
      "outputs": []
    },
    {
      "cell_type": "markdown",
      "source": [
        "Lagring av alle datasett som csv filer"
      ],
      "metadata": {
        "id": "jKF06KZP-gTi"
      }
    },
    {
      "cell_type": "code",
      "source": [
        "collagen_data.to_csv('/content/drive/MyDrive/MasterV24/Bioco_data/collagen_data.csv')\n",
        "mw_data.to_csv('/content/drive/MyDrive/MasterV24/Bioco_data/mw_data.csv')\n",
        "smallmoleclues_data.to_csv('/content/drive/MyDrive/MasterV24/Bioco_data/smallmoleclues_data.csv')\n",
        "brixadjusted_data.to_csv('/content/drive/MyDrive/MasterV24/Bioco_data/brixadjusted_data.csv')"
      ],
      "metadata": {
        "id": "S9MsqjaQP9gS"
      },
      "execution_count": null,
      "outputs": []
    }
  ]
}