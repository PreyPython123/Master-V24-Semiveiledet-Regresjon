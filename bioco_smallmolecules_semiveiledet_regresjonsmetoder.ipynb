{
  "cells": [
    {
      "cell_type": "markdown",
      "metadata": {
        "id": "view-in-github",
        "colab_type": "text"
      },
      "source": [
        "<a href=\"https://colab.research.google.com/github/PreyPython123/Master-V24-Semiveiledet-Regresjon/blob/smallmolecules-Pradeep/bioco_smallmolecules_semiveiledet_regresjonsmetoder.ipynb\" target=\"_parent\"><img src=\"https://colab.research.google.com/assets/colab-badge.svg\" alt=\"Open In Colab\"/></a>"
      ]
    },
    {
      "cell_type": "code",
      "execution_count": null,
      "metadata": {
        "colab": {
          "base_uri": "https://localhost:8080/"
        },
        "id": "nwEzUjnf0xLZ",
        "outputId": "ebbf5f92-aa34-4cd9-bf0b-5326deb548f5"
      },
      "outputs": [
        {
          "output_type": "stream",
          "name": "stdout",
          "text": [
            "Mounted at /content/drive/\n"
          ]
        }
      ],
      "source": [
        "from google.colab import drive\n",
        "drive.mount('/content/drive/')"
      ]
    },
    {
      "cell_type": "markdown",
      "metadata": {
        "id": "uPtuGVtCJOFj"
      },
      "source": [
        "# Importering, lasting og formattering"
      ]
    },
    {
      "cell_type": "markdown",
      "metadata": {
        "id": "ZNeQrag9Rlc_"
      },
      "source": [
        "Lasting av nødvendige bibliotek og pakker"
      ]
    },
    {
      "cell_type": "code",
      "execution_count": null,
      "metadata": {
        "colab": {
          "base_uri": "https://localhost:8080/"
        },
        "id": "k5u1dZmp6cJ9",
        "outputId": "07d3053f-5a28-4d1f-c925-1d4fa6ad40d4"
      },
      "outputs": [
        {
          "output_type": "stream",
          "name": "stdout",
          "text": [
            "Collecting optuna\n",
            "  Downloading optuna-3.6.1-py3-none-any.whl (380 kB)\n",
            "\u001b[2K     \u001b[90m━━━━━━━━━━━━━━━━━━━━━━━━━━━━━━━━━━━━━━━━\u001b[0m \u001b[32m380.1/380.1 kB\u001b[0m \u001b[31m2.7 MB/s\u001b[0m eta \u001b[36m0:00:00\u001b[0m\n",
            "\u001b[?25hCollecting alembic>=1.5.0 (from optuna)\n",
            "  Downloading alembic-1.13.1-py3-none-any.whl (233 kB)\n",
            "\u001b[2K     \u001b[90m━━━━━━━━━━━━━━━━━━━━━━━━━━━━━━━━━━━━━━━━\u001b[0m \u001b[32m233.4/233.4 kB\u001b[0m \u001b[31m17.1 MB/s\u001b[0m eta \u001b[36m0:00:00\u001b[0m\n",
            "\u001b[?25hCollecting colorlog (from optuna)\n",
            "  Downloading colorlog-6.8.2-py3-none-any.whl (11 kB)\n",
            "Requirement already satisfied: numpy in /usr/local/lib/python3.10/dist-packages (from optuna) (1.25.2)\n",
            "Requirement already satisfied: packaging>=20.0 in /usr/local/lib/python3.10/dist-packages (from optuna) (24.0)\n",
            "Requirement already satisfied: sqlalchemy>=1.3.0 in /usr/local/lib/python3.10/dist-packages (from optuna) (2.0.29)\n",
            "Requirement already satisfied: tqdm in /usr/local/lib/python3.10/dist-packages (from optuna) (4.66.2)\n",
            "Requirement already satisfied: PyYAML in /usr/local/lib/python3.10/dist-packages (from optuna) (6.0.1)\n",
            "Collecting Mako (from alembic>=1.5.0->optuna)\n",
            "  Downloading Mako-1.3.3-py3-none-any.whl (78 kB)\n",
            "\u001b[2K     \u001b[90m━━━━━━━━━━━━━━━━━━━━━━━━━━━━━━━━━━━━━━━━\u001b[0m \u001b[32m78.8/78.8 kB\u001b[0m \u001b[31m8.8 MB/s\u001b[0m eta \u001b[36m0:00:00\u001b[0m\n",
            "\u001b[?25hRequirement already satisfied: typing-extensions>=4 in /usr/local/lib/python3.10/dist-packages (from alembic>=1.5.0->optuna) (4.11.0)\n",
            "Requirement already satisfied: greenlet!=0.4.17 in /usr/local/lib/python3.10/dist-packages (from sqlalchemy>=1.3.0->optuna) (3.0.3)\n",
            "Requirement already satisfied: MarkupSafe>=0.9.2 in /usr/local/lib/python3.10/dist-packages (from Mako->alembic>=1.5.0->optuna) (2.1.5)\n",
            "Installing collected packages: Mako, colorlog, alembic, optuna\n",
            "Successfully installed Mako-1.3.3 alembic-1.13.1 colorlog-6.8.2 optuna-3.6.1\n",
            "Collecting LAMDA-SSL\n",
            "  Downloading LAMDA_SSL-1.0.2-py3-none-any.whl (240 kB)\n",
            "\u001b[2K     \u001b[90m━━━━━━━━━━━━━━━━━━━━━━━━━━━━━━━━━━━━━━━━\u001b[0m \u001b[32m240.8/240.8 kB\u001b[0m \u001b[31m2.0 MB/s\u001b[0m eta \u001b[36m0:00:00\u001b[0m\n",
            "\u001b[?25hRequirement already satisfied: scikit-learn in /usr/local/lib/python3.10/dist-packages (from LAMDA-SSL) (1.2.2)\n",
            "Requirement already satisfied: torchtext in /usr/local/lib/python3.10/dist-packages (from LAMDA-SSL) (0.17.1)\n",
            "Requirement already satisfied: torchvision in /usr/local/lib/python3.10/dist-packages (from LAMDA-SSL) (0.17.1+cu121)\n",
            "Collecting torch-geometric (from LAMDA-SSL)\n",
            "  Downloading torch_geometric-2.5.3-py3-none-any.whl (1.1 MB)\n",
            "\u001b[2K     \u001b[90m━━━━━━━━━━━━━━━━━━━━━━━━━━━━━━━━━━━━━━━━\u001b[0m \u001b[32m1.1/1.1 MB\u001b[0m \u001b[31m11.4 MB/s\u001b[0m eta \u001b[36m0:00:00\u001b[0m\n",
            "\u001b[?25hRequirement already satisfied: Pillow in /usr/local/lib/python3.10/dist-packages (from LAMDA-SSL) (9.4.0)\n",
            "Requirement already satisfied: numpy in /usr/local/lib/python3.10/dist-packages (from LAMDA-SSL) (1.25.2)\n",
            "Requirement already satisfied: scipy in /usr/local/lib/python3.10/dist-packages (from LAMDA-SSL) (1.11.4)\n",
            "Requirement already satisfied: pandas in /usr/local/lib/python3.10/dist-packages (from LAMDA-SSL) (2.0.3)\n",
            "Requirement already satisfied: matplotlib in /usr/local/lib/python3.10/dist-packages (from LAMDA-SSL) (3.7.1)\n",
            "Requirement already satisfied: contourpy>=1.0.1 in /usr/local/lib/python3.10/dist-packages (from matplotlib->LAMDA-SSL) (1.2.1)\n",
            "Requirement already satisfied: cycler>=0.10 in /usr/local/lib/python3.10/dist-packages (from matplotlib->LAMDA-SSL) (0.12.1)\n",
            "Requirement already satisfied: fonttools>=4.22.0 in /usr/local/lib/python3.10/dist-packages (from matplotlib->LAMDA-SSL) (4.51.0)\n",
            "Requirement already satisfied: kiwisolver>=1.0.1 in /usr/local/lib/python3.10/dist-packages (from matplotlib->LAMDA-SSL) (1.4.5)\n",
            "Requirement already satisfied: packaging>=20.0 in /usr/local/lib/python3.10/dist-packages (from matplotlib->LAMDA-SSL) (24.0)\n",
            "Requirement already satisfied: pyparsing>=2.3.1 in /usr/local/lib/python3.10/dist-packages (from matplotlib->LAMDA-SSL) (3.1.2)\n",
            "Requirement already satisfied: python-dateutil>=2.7 in /usr/local/lib/python3.10/dist-packages (from matplotlib->LAMDA-SSL) (2.8.2)\n",
            "Requirement already satisfied: pytz>=2020.1 in /usr/local/lib/python3.10/dist-packages (from pandas->LAMDA-SSL) (2023.4)\n",
            "Requirement already satisfied: tzdata>=2022.1 in /usr/local/lib/python3.10/dist-packages (from pandas->LAMDA-SSL) (2024.1)\n",
            "Requirement already satisfied: joblib>=1.1.1 in /usr/local/lib/python3.10/dist-packages (from scikit-learn->LAMDA-SSL) (1.4.0)\n",
            "Requirement already satisfied: threadpoolctl>=2.0.0 in /usr/local/lib/python3.10/dist-packages (from scikit-learn->LAMDA-SSL) (3.4.0)\n",
            "Requirement already satisfied: tqdm in /usr/local/lib/python3.10/dist-packages (from torch-geometric->LAMDA-SSL) (4.66.2)\n",
            "Requirement already satisfied: fsspec in /usr/local/lib/python3.10/dist-packages (from torch-geometric->LAMDA-SSL) (2023.6.0)\n",
            "Requirement already satisfied: jinja2 in /usr/local/lib/python3.10/dist-packages (from torch-geometric->LAMDA-SSL) (3.1.3)\n",
            "Requirement already satisfied: aiohttp in /usr/local/lib/python3.10/dist-packages (from torch-geometric->LAMDA-SSL) (3.9.5)\n",
            "Requirement already satisfied: requests in /usr/local/lib/python3.10/dist-packages (from torch-geometric->LAMDA-SSL) (2.31.0)\n",
            "Requirement already satisfied: psutil>=5.8.0 in /usr/local/lib/python3.10/dist-packages (from torch-geometric->LAMDA-SSL) (5.9.5)\n",
            "Requirement already satisfied: torch==2.2.1 in /usr/local/lib/python3.10/dist-packages (from torchtext->LAMDA-SSL) (2.2.1+cu121)\n",
            "Requirement already satisfied: torchdata==0.7.1 in /usr/local/lib/python3.10/dist-packages (from torchtext->LAMDA-SSL) (0.7.1)\n",
            "Requirement already satisfied: filelock in /usr/local/lib/python3.10/dist-packages (from torch==2.2.1->torchtext->LAMDA-SSL) (3.13.4)\n",
            "Requirement already satisfied: typing-extensions>=4.8.0 in /usr/local/lib/python3.10/dist-packages (from torch==2.2.1->torchtext->LAMDA-SSL) (4.11.0)\n",
            "Requirement already satisfied: sympy in /usr/local/lib/python3.10/dist-packages (from torch==2.2.1->torchtext->LAMDA-SSL) (1.12)\n",
            "Requirement already satisfied: networkx in /usr/local/lib/python3.10/dist-packages (from torch==2.2.1->torchtext->LAMDA-SSL) (3.3)\n",
            "Collecting nvidia-cuda-nvrtc-cu12==12.1.105 (from torch==2.2.1->torchtext->LAMDA-SSL)\n",
            "  Using cached nvidia_cuda_nvrtc_cu12-12.1.105-py3-none-manylinux1_x86_64.whl (23.7 MB)\n",
            "Collecting nvidia-cuda-runtime-cu12==12.1.105 (from torch==2.2.1->torchtext->LAMDA-SSL)\n",
            "  Using cached nvidia_cuda_runtime_cu12-12.1.105-py3-none-manylinux1_x86_64.whl (823 kB)\n",
            "Collecting nvidia-cuda-cupti-cu12==12.1.105 (from torch==2.2.1->torchtext->LAMDA-SSL)\n",
            "  Using cached nvidia_cuda_cupti_cu12-12.1.105-py3-none-manylinux1_x86_64.whl (14.1 MB)\n",
            "Collecting nvidia-cudnn-cu12==8.9.2.26 (from torch==2.2.1->torchtext->LAMDA-SSL)\n",
            "  Using cached nvidia_cudnn_cu12-8.9.2.26-py3-none-manylinux1_x86_64.whl (731.7 MB)\n",
            "Collecting nvidia-cublas-cu12==12.1.3.1 (from torch==2.2.1->torchtext->LAMDA-SSL)\n",
            "  Using cached nvidia_cublas_cu12-12.1.3.1-py3-none-manylinux1_x86_64.whl (410.6 MB)\n",
            "Collecting nvidia-cufft-cu12==11.0.2.54 (from torch==2.2.1->torchtext->LAMDA-SSL)\n",
            "  Using cached nvidia_cufft_cu12-11.0.2.54-py3-none-manylinux1_x86_64.whl (121.6 MB)\n",
            "Collecting nvidia-curand-cu12==10.3.2.106 (from torch==2.2.1->torchtext->LAMDA-SSL)\n",
            "  Using cached nvidia_curand_cu12-10.3.2.106-py3-none-manylinux1_x86_64.whl (56.5 MB)\n",
            "Collecting nvidia-cusolver-cu12==11.4.5.107 (from torch==2.2.1->torchtext->LAMDA-SSL)\n",
            "  Using cached nvidia_cusolver_cu12-11.4.5.107-py3-none-manylinux1_x86_64.whl (124.2 MB)\n",
            "Collecting nvidia-cusparse-cu12==12.1.0.106 (from torch==2.2.1->torchtext->LAMDA-SSL)\n",
            "  Using cached nvidia_cusparse_cu12-12.1.0.106-py3-none-manylinux1_x86_64.whl (196.0 MB)\n",
            "Collecting nvidia-nccl-cu12==2.19.3 (from torch==2.2.1->torchtext->LAMDA-SSL)\n",
            "  Using cached nvidia_nccl_cu12-2.19.3-py3-none-manylinux1_x86_64.whl (166.0 MB)\n",
            "Collecting nvidia-nvtx-cu12==12.1.105 (from torch==2.2.1->torchtext->LAMDA-SSL)\n",
            "  Using cached nvidia_nvtx_cu12-12.1.105-py3-none-manylinux1_x86_64.whl (99 kB)\n",
            "Requirement already satisfied: triton==2.2.0 in /usr/local/lib/python3.10/dist-packages (from torch==2.2.1->torchtext->LAMDA-SSL) (2.2.0)\n",
            "Requirement already satisfied: urllib3>=1.25 in /usr/local/lib/python3.10/dist-packages (from torchdata==0.7.1->torchtext->LAMDA-SSL) (2.0.7)\n",
            "Collecting nvidia-nvjitlink-cu12 (from nvidia-cusolver-cu12==11.4.5.107->torch==2.2.1->torchtext->LAMDA-SSL)\n",
            "  Using cached nvidia_nvjitlink_cu12-12.4.127-py3-none-manylinux2014_x86_64.whl (21.1 MB)\n",
            "Requirement already satisfied: six>=1.5 in /usr/local/lib/python3.10/dist-packages (from python-dateutil>=2.7->matplotlib->LAMDA-SSL) (1.16.0)\n",
            "Requirement already satisfied: aiosignal>=1.1.2 in /usr/local/lib/python3.10/dist-packages (from aiohttp->torch-geometric->LAMDA-SSL) (1.3.1)\n",
            "Requirement already satisfied: attrs>=17.3.0 in /usr/local/lib/python3.10/dist-packages (from aiohttp->torch-geometric->LAMDA-SSL) (23.2.0)\n",
            "Requirement already satisfied: frozenlist>=1.1.1 in /usr/local/lib/python3.10/dist-packages (from aiohttp->torch-geometric->LAMDA-SSL) (1.4.1)\n",
            "Requirement already satisfied: multidict<7.0,>=4.5 in /usr/local/lib/python3.10/dist-packages (from aiohttp->torch-geometric->LAMDA-SSL) (6.0.5)\n",
            "Requirement already satisfied: yarl<2.0,>=1.0 in /usr/local/lib/python3.10/dist-packages (from aiohttp->torch-geometric->LAMDA-SSL) (1.9.4)\n",
            "Requirement already satisfied: async-timeout<5.0,>=4.0 in /usr/local/lib/python3.10/dist-packages (from aiohttp->torch-geometric->LAMDA-SSL) (4.0.3)\n",
            "Requirement already satisfied: MarkupSafe>=2.0 in /usr/local/lib/python3.10/dist-packages (from jinja2->torch-geometric->LAMDA-SSL) (2.1.5)\n",
            "Requirement already satisfied: charset-normalizer<4,>=2 in /usr/local/lib/python3.10/dist-packages (from requests->torch-geometric->LAMDA-SSL) (3.3.2)\n",
            "Requirement already satisfied: idna<4,>=2.5 in /usr/local/lib/python3.10/dist-packages (from requests->torch-geometric->LAMDA-SSL) (3.7)\n",
            "Requirement already satisfied: certifi>=2017.4.17 in /usr/local/lib/python3.10/dist-packages (from requests->torch-geometric->LAMDA-SSL) (2024.2.2)\n",
            "Requirement already satisfied: mpmath>=0.19 in /usr/local/lib/python3.10/dist-packages (from sympy->torch==2.2.1->torchtext->LAMDA-SSL) (1.3.0)\n",
            "Installing collected packages: nvidia-nvtx-cu12, nvidia-nvjitlink-cu12, nvidia-nccl-cu12, nvidia-curand-cu12, nvidia-cufft-cu12, nvidia-cuda-runtime-cu12, nvidia-cuda-nvrtc-cu12, nvidia-cuda-cupti-cu12, nvidia-cublas-cu12, nvidia-cusparse-cu12, nvidia-cudnn-cu12, torch-geometric, nvidia-cusolver-cu12, LAMDA-SSL\n",
            "Successfully installed LAMDA-SSL-1.0.2 nvidia-cublas-cu12-12.1.3.1 nvidia-cuda-cupti-cu12-12.1.105 nvidia-cuda-nvrtc-cu12-12.1.105 nvidia-cuda-runtime-cu12-12.1.105 nvidia-cudnn-cu12-8.9.2.26 nvidia-cufft-cu12-11.0.2.54 nvidia-curand-cu12-10.3.2.106 nvidia-cusolver-cu12-11.4.5.107 nvidia-cusparse-cu12-12.1.0.106 nvidia-nccl-cu12-2.19.3 nvidia-nvjitlink-cu12-12.4.127 nvidia-nvtx-cu12-12.1.105 torch-geometric-2.5.3\n"
          ]
        }
      ],
      "source": [
        "!pip install optuna\n",
        "!pip install LAMDA-SSL"
      ]
    },
    {
      "cell_type": "markdown",
      "metadata": {
        "id": "jT-YzIdVRply"
      },
      "source": [
        "Importering av nødvendig bibliotek og pakker"
      ]
    },
    {
      "cell_type": "code",
      "execution_count": null,
      "metadata": {
        "id": "nLn2QDaFijWw"
      },
      "outputs": [],
      "source": [
        "import pandas as pd\n",
        "import numpy as np\n",
        "import copy\n",
        "import math\n",
        "from statistics import mean, stdev\n",
        "import time"
      ]
    },
    {
      "cell_type": "code",
      "execution_count": null,
      "metadata": {
        "id": "DmFSuK8ARtBg"
      },
      "outputs": [],
      "source": [
        "from sklearn.model_selection import train_test_split\n",
        "from sklearn.pipeline import Pipeline\n",
        "from sklearn.preprocessing import StandardScaler\n",
        "from sklearn.model_selection import RepeatedStratifiedKFold\n",
        "import sklearn.model_selection\n",
        "\n",
        "# Modell\n",
        "from LAMDA_SSL.Algorithm.Regression.CoReg import CoReg"
      ]
    },
    {
      "cell_type": "code",
      "execution_count": null,
      "metadata": {
        "id": "aPjLVwvuiyIr"
      },
      "outputs": [],
      "source": [
        "import optuna\n",
        "from optuna.visualization import plot_optimization_history\n",
        "\n",
        "# Utelukker utskriving av logg for hyperoptimalisering\n",
        "# optuna.logging.set_verbosity(optuna.logging.WARNING)"
      ]
    },
    {
      "cell_type": "markdown",
      "metadata": {
        "id": "qhRMrFFHlZuX"
      },
      "source": [
        "# Egendefinerte moduler"
      ]
    },
    {
      "cell_type": "code",
      "execution_count": null,
      "metadata": {
        "id": "FXgxrml5lg5B",
        "colab": {
          "base_uri": "https://localhost:8080/"
        },
        "outputId": "246c50f2-c3d2-4358-922a-4152f1662a5b"
      },
      "outputs": [
        {
          "output_type": "stream",
          "name": "stdout",
          "text": [
            "/content\n",
            "cp: cannot stat '/content/drive/MyDrive/MasterV24/GitHub/moduler_trening_validering_testing_evaluering.py': No such file or directory\n"
          ]
        }
      ],
      "source": [
        "!pwd\n",
        "! cp /content/drive/MyDrive/MasterV24/GitHub/moduler_trening_validering_testing_evaluering.py /content/moduler_trening_validering_testing_evaluering.py"
      ]
    },
    {
      "cell_type": "code",
      "execution_count": null,
      "metadata": {
        "id": "tvOTDwKLf0q8",
        "colab": {
          "base_uri": "https://localhost:8080/",
          "height": 384
        },
        "outputId": "26b45c7a-44fe-4b27-e9cf-a9a514742b05"
      },
      "outputs": [
        {
          "output_type": "error",
          "ename": "ModuleNotFoundError",
          "evalue": "No module named 'moduler_trening_validering_testing_evaluering'",
          "traceback": [
            "\u001b[0;31m---------------------------------------------------------------------------\u001b[0m",
            "\u001b[0;31mModuleNotFoundError\u001b[0m                       Traceback (most recent call last)",
            "\u001b[0;32m<ipython-input-7-35b75b32e974>\u001b[0m in \u001b[0;36m<cell line: 1>\u001b[0;34m()\u001b[0m\n\u001b[0;32m----> 1\u001b[0;31m \u001b[0;32mfrom\u001b[0m \u001b[0mmoduler_trening_validering_testing_evaluering\u001b[0m \u001b[0;32mimport\u001b[0m \u001b[0mtrening_testsett_oppdeling_enzym\u001b[0m\u001b[0;34m\u001b[0m\u001b[0;34m\u001b[0m\u001b[0m\n\u001b[0m\u001b[1;32m      2\u001b[0m \u001b[0;32mfrom\u001b[0m \u001b[0mmoduler_trening_validering_testing_evaluering\u001b[0m \u001b[0;32mimport\u001b[0m \u001b[0mtrening_testsett_oppdeling_dag\u001b[0m\u001b[0;34m\u001b[0m\u001b[0;34m\u001b[0m\u001b[0m\n\u001b[1;32m      3\u001b[0m \u001b[0;32mfrom\u001b[0m \u001b[0mmoduler_trening_validering_testing_evaluering\u001b[0m \u001b[0;32mimport\u001b[0m \u001b[0mtrening_validering_oppdeling_dag\u001b[0m\u001b[0;34m\u001b[0m\u001b[0;34m\u001b[0m\u001b[0m\n\u001b[1;32m      4\u001b[0m \u001b[0;34m\u001b[0m\u001b[0m\n\u001b[1;32m      5\u001b[0m \u001b[0;32mfrom\u001b[0m \u001b[0mmoduler_trening_validering_testing_evaluering\u001b[0m \u001b[0;32mimport\u001b[0m \u001b[0menzymfordeling\u001b[0m\u001b[0;34m\u001b[0m\u001b[0;34m\u001b[0m\u001b[0m\n",
            "\u001b[0;31mModuleNotFoundError\u001b[0m: No module named 'moduler_trening_validering_testing_evaluering'",
            "",
            "\u001b[0;31m---------------------------------------------------------------------------\u001b[0;32m\nNOTE: If your import is failing due to a missing package, you can\nmanually install dependencies using either !pip or !apt.\n\nTo view examples of installing some common dependencies, click the\n\"Open Examples\" button below.\n\u001b[0;31m---------------------------------------------------------------------------\u001b[0m\n"
          ],
          "errorDetails": {
            "actions": [
              {
                "action": "open_url",
                "actionText": "Open Examples",
                "url": "/notebooks/snippets/importing_libraries.ipynb"
              }
            ]
          }
        }
      ],
      "source": [
        "from moduler_trening_validering_testing_evaluering import trening_testsett_oppdeling_enzym\n",
        "from moduler_trening_validering_testing_evaluering import trening_testsett_oppdeling_dag\n",
        "from moduler_trening_validering_testing_evaluering import trening_validering_oppdeling_dag\n",
        "\n",
        "from moduler_trening_validering_testing_evaluering import enzymfordeling\n",
        "from moduler_trening_validering_testing_evaluering import n_splitt_enzym\n",
        "from moduler_trening_validering_testing_evaluering import umarkert_andel_dag\n",
        "from moduler_trening_validering_testing_evaluering import Resultat_evaluering\n",
        "from moduler_trening_validering_testing_evaluering import res_eval_opt\n",
        "from moduler_trening_validering_testing_evaluering import res_eval\n",
        "from moduler_trening_validering_testing_evaluering import Resultat_dicts_semi"
      ]
    },
    {
      "cell_type": "code",
      "execution_count": null,
      "metadata": {
        "id": "JTs_zHhkiBpK"
      },
      "outputs": [],
      "source": [
        "!pwd\n",
        "! cp /content/drive/MyDrive/MasterV24/GitHub/moduler_optimalisering_evaluering_semiveiledet.py /content/moduler_optimalisering_evaluering_semiveiledet.py"
      ]
    },
    {
      "cell_type": "code",
      "execution_count": null,
      "metadata": {
        "id": "A5GEVrXsiYd-"
      },
      "outputs": [],
      "source": [
        "from moduler_optimalisering_evaluering_semiveiledet import BHD\n",
        "from moduler_optimalisering_evaluering_semiveiledet import SelfTrainingRandomForestRegressor\n",
        "\n",
        "from moduler_optimalisering_evaluering_semiveiledet import trening_coreg_enzym\n",
        "from moduler_optimalisering_evaluering_semiveiledet import trening_bhd_domene_enzym\n",
        "from moduler_optimalisering_evaluering_semiveiledet import trening_selvtrent_rfr_enzym\n",
        "\n",
        "from moduler_optimalisering_evaluering_semiveiledet import trening_coreg_dag\n",
        "from moduler_optimalisering_evaluering_semiveiledet import trening_bhd_domene_dag\n",
        "from moduler_optimalisering_evaluering_semiveiledet import trening_selvtrent_rfr_dag\n",
        "\n",
        "from moduler_optimalisering_evaluering_semiveiledet import semi_modell_evaluering_1\n",
        "from moduler_optimalisering_evaluering_semiveiledet import semi_modell_evaluering_2\n",
        "\n",
        "from moduler_optimalisering_evaluering_semiveiledet import bhd_andel_maks\n",
        "from moduler_optimalisering_evaluering_semiveiledet import andel_umarkert"
      ]
    },
    {
      "cell_type": "markdown",
      "metadata": {
        "id": "21cdLIoaSTR6"
      },
      "source": [
        "# Importering av relevant data"
      ]
    },
    {
      "cell_type": "code",
      "execution_count": null,
      "metadata": {
        "id": "XeNQyDPZSTwY"
      },
      "outputs": [],
      "source": [
        "# Velger første kolonne med dato og tid som index\n",
        "data = pd.read_csv('/content/drive/MyDrive/MasterV24/Bioco_data/smallmolecules_data.csv',\n",
        "                   header=0,\n",
        "                   sep=',',\n",
        "                   index_col=0)\n",
        "\n",
        "# Design produksjon\n",
        "data_design = pd.read_csv('/content/drive/MyDrive/MasterV24/Bioco_data/smallmolecules_data_design.csv',\n",
        "                          header=0,\n",
        "                          sep=',',\n",
        "                          index_col=0)\n",
        "\n",
        "# Importerer rådata\n",
        "rå_data = pd.read_csv('/content/drive/MyDrive/MasterV24/BiocoData.csv',\n",
        "                      header=0,\n",
        "                      sep=';',\n",
        "                      index_col=0)\n",
        "\n",
        "# Formatterer index til riktig format og datatype\n",
        "data.index = pd.to_datetime(data.index,\n",
        "                            format='%Y-%m-%d %H:%M:%S')\n",
        "\n",
        "data_design.index = pd.to_datetime(data_design.index,\n",
        "                                   format='%Y-%m-%d %H:%M:%S')\n",
        "\n",
        "rå_data.index = pd.to_datetime(rå_data.index,\n",
        "                               format='%d-%m-%Y %H:%M:%S.%f')"
      ]
    },
    {
      "cell_type": "markdown",
      "metadata": {
        "id": "7Wl0nay5j2C4"
      },
      "source": [
        "Tilfeldighetsfrø"
      ]
    },
    {
      "cell_type": "code",
      "execution_count": null,
      "metadata": {
        "id": "OxTGpIOmj4V7"
      },
      "outputs": [],
      "source": [
        "#Tilfeldighetsfrø\n",
        "random_seed = 2024"
      ]
    },
    {
      "cell_type": "markdown",
      "metadata": {
        "id": "i_1rn21ITRJ4"
      },
      "source": [
        "# Lagring av res"
      ]
    },
    {
      "cell_type": "code",
      "execution_count": null,
      "metadata": {
        "id": "EGIgRqWETUTx"
      },
      "outputs": [],
      "source": [
        "# Oppretter instans for lagring av res\n",
        "res_semi = Resultat_dicts_semi()"
      ]
    },
    {
      "cell_type": "markdown",
      "source": [
        "# Setter fast treningsandel og faste markerte andeler"
      ],
      "metadata": {
        "id": "lBAscBxqK7QZ"
      }
    },
    {
      "cell_type": "code",
      "source": [
        "# Fast treningsandel\n",
        "trenings_andel = 1.0\n",
        "\n",
        "# Markerte andeler til undersøkelse\n",
        "andel_av_markert = [0.5, 1.0]"
      ],
      "metadata": {
        "id": "987yKTDLK_ur"
      },
      "execution_count": null,
      "outputs": []
    },
    {
      "cell_type": "markdown",
      "source": [
        "# Parametervalg for hyperoptimalisering"
      ],
      "metadata": {
        "id": "w57g39LGwyBz"
      }
    },
    {
      "cell_type": "code",
      "source": [
        "# Antall runder for hyperoptimalisering\n",
        "n_runder_hel = 75\n",
        "n_runder_andel = 75\n",
        "\n",
        "# Antall gjentagelser\n",
        "n_gjentagelser = 2"
      ],
      "metadata": {
        "id": "Tx_wgPo_xv-7"
      },
      "execution_count": null,
      "outputs": []
    },
    {
      "cell_type": "markdown",
      "metadata": {
        "id": "76aWdlTDXp9I"
      },
      "source": [
        "# NIR målinger inkludert"
      ]
    },
    {
      "cell_type": "markdown",
      "metadata": {
        "id": "wQpsJkKShL_9"
      },
      "source": [
        "## Hele datasett"
      ]
    },
    {
      "cell_type": "markdown",
      "metadata": {
        "id": "yNN1h11QTJ2y"
      },
      "source": [
        "## Alternativ 1: 20% testsett. Fordelt på enzymtype (ikke tatt hensyn til kontinuitet)"
      ]
    },
    {
      "cell_type": "code",
      "execution_count": null,
      "metadata": {
        "id": "j-oKygY5rRw0"
      },
      "outputs": [],
      "source": [
        "# Testandel\n",
        "test_andel = 0.2\n",
        "\n",
        "# Deler datasettet i trening og testsett\n",
        "trening_markert, enzymtyper_markert, testsett, _,\\\n",
        "trening_umarkert, enzymtyper_umarkert, trening\\\n",
        "= trening_testsett_oppdeling_enzym(rå_data,\n",
        "                                   data,\n",
        "                                   test_andel=test_andel)"
      ]
    },
    {
      "cell_type": "code",
      "execution_count": null,
      "metadata": {
        "id": "EmZJojj4jXKu"
      },
      "outputs": [],
      "source": [
        "# Går igjennom andeler av satt markerte andeler\n",
        "for andel in andel_av_markert:\n",
        "\n",
        "  # Finner tilsvarende umarkerte andel\n",
        "  umarkert_andel = andel_umarkert(andel, trening_markert, trening_umarkert)\n",
        "\n",
        "  # Filtrer umarkert sett\n",
        "  ubenyttet_andel = (1.0 - umarkert_andel)\n",
        "  treningssett_umarkert, _, enzymtyper_treningssett_umarkert, _\\\n",
        "  = train_test_split(trening_umarkert,\n",
        "                      enzymtyper_umarkert,\n",
        "                      test_size=ubenyttet_andel,\n",
        "                      stratify=enzymtyper_umarkert,\n",
        "                      random_state=random_seed)\n",
        "\n",
        "  # Treningssett\n",
        "  treningssett = pd.concat([trening_markert, treningssett_umarkert],\n",
        "                          axis=0)\n",
        "  treningssett = treningssett.sort_index(ascending=True)\n",
        "\n",
        "\n",
        "  # Antall splitt etter minste enxymtype\n",
        "  n_splitt = n_splitt_enzym(rå_data, trening_markert)\n",
        "\n",
        "  # Modelloptimalisering, trening og evaulering av Coreg, Selv-RFR og BHD\n",
        "  semi_modell_evaluering_1(dict_res_opt=res_semi.dict_res_1_hel_opt,\n",
        "                          dict_res=res_semi.dict_res_1_hel,\n",
        "                          rå_data=rå_data,\n",
        "                          treningssett_markert=trening_markert,\n",
        "                          enzymtyper_treningssett_markert=enzymtyper_markert,\n",
        "                          treningssett_umarkert=treningssett_umarkert,\n",
        "                          enzymtyper_treningssett_umarkert=enzymtyper_treningssett_umarkert,\n",
        "                          treningssett=treningssett,\n",
        "                          testsett=testsett,\n",
        "                          n_splitt=n_splitt,\n",
        "                          n_gjentagelser=n_gjentagelser,\n",
        "                          n_runder=n_runder_andel,\n",
        "                          test_andel=test_andel,\n",
        "                          trenings_andel=trenings_andel,\n",
        "                          random_seed=random_seed)\n",
        "\n",
        "# Lagring av resulatater\n",
        "res_1_hel_semi = pd.DataFrame(res_semi.dict_res_1_hel)\n",
        "res_1_hel_opt_semi = pd.DataFrame(res_semi.dict_res_1_hel_opt)\n",
        "\n",
        "res_1_hel_semi.to_csv('/content/drive/MyDrive/MasterV24/Bioco_data/Resultater/smallmolecules/smallmolecules_res_1_hel_semi.csv')\n",
        "res_1_hel_opt_semi.to_csv('/content/drive/MyDrive/MasterV24/Bioco_data/Resultater/smallmolecules/smallmolecules_res_1_hel_opt_semi.csv')"
      ]
    },
    {
      "cell_type": "markdown",
      "metadata": {
        "id": "kvKjGVxrg57C"
      },
      "source": [
        "Beste modell"
      ]
    },
    {
      "cell_type": "code",
      "execution_count": null,
      "metadata": {
        "id": "Tk75jd3uz4j5"
      },
      "outputs": [],
      "source": []
    },
    {
      "cell_type": "markdown",
      "metadata": {
        "id": "IwENe1s1rmwy"
      },
      "source": [
        "## Alternativ 2: Et testsett fordelt på dag og kontinuitet"
      ]
    },
    {
      "cell_type": "code",
      "execution_count": null,
      "metadata": {
        "id": "JLlqSB4BQKYU"
      },
      "outputs": [],
      "source": [
        "# Testandel\n",
        "test_andel = 0.2\n",
        "\n",
        "# Deler datasettet i trening og testsett\n",
        "trening_markert, testsett, trening_umarkert, trening\\\n",
        "= trening_testsett_oppdeling_dag(rå_data,\n",
        "                                 data,\n",
        "                                 test_andel=test_andel,\n",
        "                                 test_ekskluder_kalkun_kylling=True)\n",
        "\n",
        "#Oversikt over fordelingen av enzymtyper i trening og testsett\n",
        "print(\"Enzymtyper Fordeling: Trening markert\")\n",
        "print(enzymfordeling(rå_data, trening_markert))\n",
        "print(\"Enzymtyper Fordeling: Test\")\n",
        "print(enzymfordeling(rå_data, testsett))\n",
        "print(\"Enzymtyper Fordeling: Trening umarkert\")\n",
        "print(enzymfordeling(rå_data, trening_umarkert))"
      ]
    },
    {
      "cell_type": "code",
      "execution_count": null,
      "metadata": {
        "id": "8Viu-m-nk262"
      },
      "outputs": [],
      "source": [
        "# Går igjennom andeler av markerte andeler\n",
        "for andel in andel_av_markert:\n",
        "\n",
        "  # Finner tilsvarende umarkerte andeler\n",
        "  umarkert_andel = andel_umarkert(andel, trening_markert, trening_umarkert)\n",
        "\n",
        "  # Filtrer umarkert sett\n",
        "  treningssett_umarkert, _ = umarkert_andel_dag(trening_umarkert,\n",
        "                                                umarkert_andel)\n",
        "\n",
        "  # Treningssett\n",
        "  treningssett = pd.concat([trening_markert, treningssett_umarkert],\n",
        "                          axis=0)\n",
        "  treningssett = treningssett.sort_index(ascending=True)\n",
        "\n",
        "\n",
        "  # Antall splitt etter minste enxymtype\n",
        "  n_splitt = n_splitt_enzym(rå_data, trening_markert)\n",
        "\n",
        "  # Modelloptimalisering\n",
        "  semi_modell_evaluering_2(dict_res_opt=res_semi.dict_res_2_hel_opt,\n",
        "                            dict_res=res_semi.dict_res_2_hel,\n",
        "                            rå_data=rå_data,\n",
        "                            treningssett_markert=trening_markert,\n",
        "                            treningssett_umarkert=treningssett_umarkert,\n",
        "                            treningssett=treningssett,\n",
        "                            testsett=testsett,\n",
        "                            n_splitt=n_splitt,\n",
        "                            n_runder=n_runder_andel,\n",
        "                            test_andel=test_andel,\n",
        "                            trenings_andel=trenings_andel,\n",
        "                            random_seed=random_seed)\n",
        "\n",
        "# Lagring av resultater\n",
        "res_2_hel_semi = pd.DataFrame(res_semi.dict_res_2_hel)\n",
        "res_2_hel_opt_semi = pd.DataFrame(res_semi.dict_res_2_hel_opt)\n",
        "\n",
        "res_2_hel_semi.to_csv('/content/drive/MyDrive/MasterV24/Bioco_data/Resultater/smallmolecules/smallmolecules_res_2_hel_semi.csv')\n",
        "res_2_hel_opt_semi.to_csv('/content/drive/MyDrive/MasterV24/Bioco_data/Resultater/smallmolecules/smallmolecules_res_2_hel_opt_semi.csv')"
      ]
    },
    {
      "cell_type": "markdown",
      "metadata": {
        "id": "un6mDEGPFIHt"
      },
      "source": [
        "## Designproduksjon"
      ]
    },
    {
      "cell_type": "markdown",
      "metadata": {
        "id": "Z0yAUFfySrzl"
      },
      "source": [
        "## Alternativ 1: 80% testsett. Fordelt på enzymtype (ikke tatt hensyn til kontinuitet)"
      ]
    },
    {
      "cell_type": "code",
      "execution_count": null,
      "metadata": {
        "id": "ysMLWgXgSrzl"
      },
      "outputs": [],
      "source": [
        "# Testandel\n",
        "test_andel = 0.8\n",
        "\n",
        "# Deler datasettet i trening og testsett\n",
        "trening_markert, enzymtyper_markert, testsett, _,\\\n",
        "trening_umarkert, enzymtyper_umarkert, trening\\\n",
        "= trening_testsett_oppdeling_enzym(rå_data,\n",
        "                                   data_design,\n",
        "                                   test_andel=test_andel)"
      ]
    },
    {
      "cell_type": "code",
      "execution_count": null,
      "metadata": {
        "colab": {
          "background_save": true,
          "base_uri": "https://localhost:8080/"
        },
        "id": "StmGxWdLSrzm",
        "outputId": "d923cd55-a579-4739-c02a-ad51731a9a53"
      },
      "outputs": [
        {
          "name": "stderr",
          "output_type": "stream",
          "text": [
            "[I 2024-04-22 20:26:46,972] A new study created in memory with name: no-name-d4765988-5d3a-480e-bcdc-0d26f5cf70fa\n",
            "[I 2024-04-22 20:39:08,606] Trial 0 finished with value: 773.5818846632824 and parameters: {'k1': 18, 'k2': 14, 'p1': 7, 'p2': 7, 'max_iters': 84, 'pool_size': 123}. Best is trial 0 with value: 773.5818846632824.\n",
            "[I 2024-04-22 20:45:44,168] A new study created in memory with name: no-name-7789f484-46ad-434a-91d5-43b0ddf9a098\n",
            "[I 2024-04-22 20:46:29,680] Trial 0 finished with value: 744.7789457467345 and parameters: {'n_estimators': 665, 'criterion': 'friedman_mse', 'max_depth': 28, 'min_samples_leaf': 2, 'max_features': 0.6373427447180475, 'maks_iterasjoner': 10, 'std_terskel': 0.029886293317025428}. Best is trial 0 with value: 744.7789457467345.\n",
            "[I 2024-04-22 20:47:44,856] A new study created in memory with name: no-name-4b2e5912-0342-41d8-8d42-379377e7806c\n",
            "[I 2024-04-22 20:48:16,205] Trial 0 finished with value: 1627.7980521794639 and parameters: {'k': 1069, 'graf_vektet_harmonic': 'False', 'initiell_respons': 'domain_median', 'alpha': 0.4445849630001404, 'maks_iterasjoner_harmonic': 46, 'maks_iterasjoner_heat': 61}. Best is trial 0 with value: 1627.7980521794639.\n"
          ]
        }
      ],
      "source": [
        "# Går igjennom andeler av markerte andeler\n",
        "for andel in andel_av_markert:\n",
        "\n",
        "  # Finner tilsvarende umarkerte andeler\n",
        "  umarkert_andel = andel_umarkert(andel, trening_markert, trening_umarkert)\n",
        "\n",
        "  # Filtrer umarkert sett\n",
        "  ubenyttet_andel = (1.0 - umarkert_andel)\n",
        "  treningssett_umarkert, _, enzymtyper_treningssett_umarkert, _\\\n",
        "  = train_test_split(trening_umarkert,\n",
        "                      enzymtyper_umarkert,\n",
        "                      test_size=ubenyttet_andel,\n",
        "                      stratify=enzymtyper_umarkert,\n",
        "                      random_state=random_seed)\n",
        "\n",
        "  # Treningssett\n",
        "  treningssett = pd.concat([trening_markert, treningssett_umarkert],\n",
        "                          axis=0)\n",
        "  treningssett = treningssett.sort_index(ascending=True)\n",
        "\n",
        "\n",
        "  # Antall splitt etter minste enxymtype\n",
        "  n_splitt = n_splitt_enzym(rå_data, trening_markert)\n",
        "\n",
        "\n",
        "  # Modelloptimalisering, trening og evaulering av Coreg, Selv-RFR og BHD\n",
        "  semi_modell_evaluering_1(dict_res_opt=res_semi.dict_res_1_design_opt,\n",
        "                            dict_res=res_semi.dict_res_1_design,\n",
        "                            rå_data=rå_data,\n",
        "                            treningssett_markert=trening_markert,\n",
        "                            enzymtyper_treningssett_markert=enzymtyper_markert,\n",
        "                            treningssett_umarkert=treningssett_umarkert,\n",
        "                            enzymtyper_treningssett_umarkert=enzymtyper_treningssett_umarkert,\n",
        "                            treningssett=treningssett,\n",
        "                            testsett=testsett,\n",
        "                            n_splitt=n_splitt,\n",
        "                            n_gjentagelser=n_gjentagelser,\n",
        "                            n_runder=n_runder_andel,\n",
        "                            test_andel=test_andel,\n",
        "                            trenings_andel=trenings_andel,\n",
        "                            random_seed=random_seed)\n",
        "\n",
        "# Lagring av resulatater\n",
        "res_1_design_semi = pd.DataFrame(res_semi.dict_res_1_design)\n",
        "res_1_design_opt_semi = pd.DataFrame(res_semi.dict_res_1_design_opt)\n",
        "\n",
        "res_1_design_semi.to_csv('/content/drive/MyDrive/MasterV24/Bioco_data/Resultater/smallmolecules/smallmolecules_res_1_design_semi.csv')\n",
        "res_1_design_opt_semi.to_csv('/content/drive/MyDrive/MasterV24/Bioco_data/Resultater/smallmolecules/smallmolecules_res_1_design_opt_semi.csv')"
      ]
    },
    {
      "cell_type": "markdown",
      "metadata": {
        "id": "NlToFxjlSrzm"
      },
      "source": [
        "Beste modell"
      ]
    },
    {
      "cell_type": "code",
      "execution_count": null,
      "metadata": {
        "id": "zBrQPgMbSrzm"
      },
      "outputs": [],
      "source": []
    },
    {
      "cell_type": "markdown",
      "metadata": {
        "id": "4EHm1oIBSrzm"
      },
      "source": [
        "## Alternativ 2: Et testsett fordelt på dag og kontinuitet"
      ]
    },
    {
      "cell_type": "code",
      "execution_count": null,
      "metadata": {
        "colab": {
          "background_save": true
        },
        "id": "yDf-H922Srzm"
      },
      "outputs": [],
      "source": [
        "# testandel\n",
        "test_andel = 0.8\n",
        "\n",
        "# Deler datasettet i trening og testsett\n",
        "trening_markert, testsett, trening_umarkert, trening\\\n",
        "= trening_testsett_oppdeling_dag(rå_data,\n",
        "                                 data_design,\n",
        "                                 test_andel=test_andel,\n",
        "                                 test_ekskluder_kalkun_kylling=True)\n",
        "\n",
        "#Oversikt over fordelingen av enzymtyper i trening og testsett\n",
        "print(\"Enzymtyper Fordeling: Trening markert\")\n",
        "print(enzymfordeling(rå_data, trening_markert))\n",
        "print(\"Enzymtyper Fordeling: Test\")\n",
        "print(enzymfordeling(rå_data, testsett))\n",
        "print(\"Enzymtyper Fordeling: Trening umarkert\")\n",
        "print(enzymfordeling(rå_data, trening_umarkert))"
      ]
    },
    {
      "cell_type": "code",
      "execution_count": null,
      "metadata": {
        "colab": {
          "background_save": true
        },
        "id": "yAlp9n3HSrzn"
      },
      "outputs": [],
      "source": [
        "# Går igjennom andeler av markerte andeler\n",
        "for andel in andel_av_markert:\n",
        "\n",
        "  # Finner tilsvarende umarkerte andeler\n",
        "  umarkert_andel = andel_umarkert(andel, trening_markert, trening_umarkert)\n",
        "\n",
        "  # Filtrer umarkert sett\n",
        "  treningssett_umarkert, _ = umarkert_andel_dag(trening_umarkert,\n",
        "                                                umarkert_andel)\n",
        "\n",
        "  # Treningssett\n",
        "  treningssett = pd.concat([trening_markert, treningssett_umarkert],\n",
        "                          axis=0)\n",
        "  treningssett = treningssett.sort_index(ascending=True)\n",
        "\n",
        "\n",
        "  # Antall splitt etter minste enxymtype\n",
        "  n_splitt = n_splitt_enzym(rå_data, trening_markert)\n",
        "\n",
        "  #Modelloptimalisering\n",
        "  semi_modell_evaluering_2(dict_res_opt=res_semi.dict_res_2_design_opt,\n",
        "                        dict_res=res_semi.dict_res_2_design,\n",
        "                        rå_data=rå_data,\n",
        "                        treningssett_markert=trening_markert,\n",
        "                        treningssett_umarkert=treningssett_umarkert,\n",
        "                        treningssett=treningssett,\n",
        "                        testsett=testsett,\n",
        "                        n_splitt=n_splitt,\n",
        "                        n_runder=n_runder_andel,\n",
        "                        test_andel=test_andel,\n",
        "                        trenings_andel=trenings_andel,\n",
        "                        random_seed=random_seed)\n",
        "\n",
        "# Lagring av resultater\n",
        "res_2_design_semi = pd.DataFrame(res_semi.dict_res_2_design)\n",
        "res_2_design_opt_semi = pd.DataFrame(res_semi.dict_res_2_design_opt)\n",
        "\n",
        "res_2_design_semi.to_csv('/content/drive/MyDrive/MasterV24/Bioco_data/Resultater/smallmolecules/smallmolecules_res_2_design_semi.csv')\n",
        "res_2_design_opt_semi.to_csv('/content/drive/MyDrive/MasterV24/Bioco_data/Resultater/smallmolecules/smallmolecules_res_2_design_opt_semi.csv')"
      ]
    },
    {
      "cell_type": "markdown",
      "metadata": {
        "id": "pnhtimdQn6n_"
      },
      "source": [
        "# NIR målinger ekskludert"
      ]
    },
    {
      "cell_type": "code",
      "execution_count": null,
      "metadata": {
        "id": "HVRjvKsSn6oM"
      },
      "outputs": [],
      "source": [
        "# Ekskluderer NIR målinger fra datasettene\n",
        "NIR_kolonner = ['NIRfat', 'NIRwater', 'NIRash']\n",
        "data_uten_NIR = data.drop(columns=NIR_kolonner)\n",
        "data_design_uten_NIR = data_design.drop(columns=NIR_kolonner)"
      ]
    },
    {
      "cell_type": "markdown",
      "source": [
        "### Fast testandel"
      ],
      "metadata": {
        "id": "JZZGobiJQB0i"
      }
    },
    {
      "cell_type": "code",
      "source": [
        "#test_andel\n",
        "test_andel = 0.2"
      ],
      "metadata": {
        "id": "nBnMZrAaQEr3"
      },
      "execution_count": null,
      "outputs": []
    },
    {
      "cell_type": "markdown",
      "metadata": {
        "id": "FngOg-aynnWh"
      },
      "source": [
        "## Hele datasett"
      ]
    },
    {
      "cell_type": "markdown",
      "metadata": {
        "id": "xQN39OvtnnWi"
      },
      "source": [
        "## Alternativ 1: Et testsett. Fordelt på enzymtype (ikke tatt hensyn til kontinuitet)"
      ]
    },
    {
      "cell_type": "code",
      "execution_count": null,
      "metadata": {
        "id": "f9Hz_zKennWi"
      },
      "outputs": [],
      "source": [
        "# Deler datasettet i trening og testsett\n",
        "trening_markert, enzymtyper_markert, testsett, enzymtyper_test, trening_umarkert,\\\n",
        "enzymtyper_umarkert, trening\\\n",
        "= trening_testsett_oppdeling_enzym(rå_data,\n",
        "                                   data_uten_NIR,\n",
        "                                   test_andel=test_andel)\n",
        "\n",
        "# Antall splitt etter minste enxymtype\n",
        "n_splitt = n_splitt_enzym(rå_data, trening_markert)\n",
        "\n",
        "# Modelloptimalisering, trening og evaulering av Coreg, Selv-RFR og BHD\n",
        "semi_modell_evaluering_1(dict_res_opt=res_semi.dict_res_1_hel_opt_NIR,\n",
        "                         dict_res=res_semi.dict_res_1_hel_NIR,\n",
        "                         rå_data=rå_data,\n",
        "                         treningssett_markert=trening_markert,\n",
        "                         enzymtyper_treningssett_markert=enzymtyper_markert,\n",
        "                         treningssett_umarkert=trening_umarkert,\n",
        "                         enzymtyper_treningssett_umarkert=enzymtyper_umarkert,\n",
        "                         treningssett=trening,\n",
        "                         testsett=testsett,\n",
        "                         n_splitt=n_splitt,\n",
        "                         n_gjentagelser=n_gjentagelser,\n",
        "                         n_runder=n_runder_hel,\n",
        "                         test_andel=test_andel,\n",
        "                         trenings_andel=trenings_andel,\n",
        "                         random_seed=random_seed)\n",
        "\n",
        "# Lagring av resultater\n",
        "res_1_hel_semi_NIR = pd.DataFrame(res_semi.dict_res_1_hel_NIR)\n",
        "res_1_hel_opt_semi_NIR = pd.DataFrame(res_semi.dict_res_1_hel_opt_NIR)\n",
        "\n",
        "res_1_hel_semi_NIR.to_csv('/content/drive/MyDrive/MasterV24/Bioco_data/Resultater/smallmolecules/smallmolecules_res_1_hel_semi_NIR.csv')\n",
        "res_1_hel_opt_semi_NIR.to_csv('/content/drive/MyDrive/MasterV24/Bioco_data/Resultater/smallmolecules/smallmolecules_res_1_hel_opt_semi_NIR.csv')"
      ]
    },
    {
      "cell_type": "markdown",
      "metadata": {
        "id": "19PBB4sannWi"
      },
      "source": [
        "Beste modell"
      ]
    },
    {
      "cell_type": "code",
      "execution_count": null,
      "metadata": {
        "id": "EAhBuBY-nnWj"
      },
      "outputs": [],
      "source": []
    },
    {
      "cell_type": "markdown",
      "metadata": {
        "id": "49GQjZ88BoDa"
      },
      "source": [
        "## Alternativ 2: Manuell fordeling"
      ]
    },
    {
      "cell_type": "code",
      "execution_count": null,
      "metadata": {
        "id": "G5kb5K2Mq41R"
      },
      "outputs": [],
      "source": [
        "# Deler datasettet i trening og testsett\n",
        "trening_markert, testsett, trening_umarkert, trening\\\n",
        "= trening_testsett_oppdeling_dag(rå_data,\n",
        "                                 data_uten_NIR,\n",
        "                                 test_andel=test_andel,\n",
        "                                 test_ekskluder_kalkun_kylling=True)\n",
        "\n",
        "# Antall splitt etter minste enxymtype\n",
        "n_splitt = n_splitt_enzym(rå_data, trening_markert)\n",
        "\n",
        "# Modelloptimalisering, trening og evaulering av Coreg, Selv-RFR og BHD\n",
        "semi_modell_evaluering_2(dict_res_opt=res_semi.dict_res_2_hel_opt_NIR,\n",
        "                         dict_res=res_semi.dict_res_2_hel_NIR,\n",
        "                         rå_data=rå_data,\n",
        "                         treningssett_markert=trening_markert,\n",
        "                         treningssett_umarkert=trening_umarkert,\n",
        "                         treningssett=trening,\n",
        "                         testsett=testsett,\n",
        "                         n_splitt=n_splitt,\n",
        "                         n_runder=n_runder_hel,\n",
        "                         test_andel=test_andel,\n",
        "                         trenings_andel=trenings_andel,\n",
        "                         random_seed=random_seed)\n",
        "\n",
        "res_2_hel_semi_NIR = pd.DataFrame(res_semi.dict_res_2_hel_NIR)\n",
        "res_2_hel_opt_semi_NIR = pd.DataFrame(res_semi.dict_res_2_hel_opt_NIR)\n",
        "\n",
        "res_2_hel_semi_NIR.to_csv('/content/drive/MyDrive/MasterV24/Bioco_data/Resultater/smallmolecules/smallmolecules_res_2_hel_semi_NIR.csv')\n",
        "res_2_hel_opt_semi_NIR.to_csv('/content/drive/MyDrive/MasterV24/Bioco_data/Resultater/smallmolecules/smallmolecules_res_2_hel_opt_semi_NIR.csv')"
      ]
    },
    {
      "cell_type": "markdown",
      "metadata": {
        "id": "peq30NIare5I"
      },
      "source": [
        "Beste modell"
      ]
    },
    {
      "cell_type": "code",
      "execution_count": null,
      "metadata": {
        "id": "40FqPMn9re5Q"
      },
      "outputs": [],
      "source": []
    },
    {
      "cell_type": "markdown",
      "metadata": {
        "id": "wASf8kP1rpkq"
      },
      "source": [
        "## Designproduksjon"
      ]
    },
    {
      "cell_type": "markdown",
      "metadata": {
        "id": "pzkziEds6GK8"
      },
      "source": [
        "## Alternativ 1: Et testsett. Fordelt på enzymtype (ikke tatt hensyn til kontinuitet)"
      ]
    },
    {
      "cell_type": "code",
      "execution_count": null,
      "metadata": {
        "id": "5slwInDw6GK8"
      },
      "outputs": [],
      "source": [
        "# Deler datasettet i trening og testsett\n",
        "trening_markert, enzymtyper_markert, testsett, enzymtyper_test, trening_umarkert,\\\n",
        "enzymtyper_umarkert, trening\\\n",
        "= trening_testsett_oppdeling_enzym(rå_data,\n",
        "                                   data_design_uten_NIR,\n",
        "                                   test_andel=test_andel)\n",
        "\n",
        "# Antall splitt etter minste enxymtype\n",
        "n_splitt = n_splitt_enzym(rå_data, trening_markert)\n",
        "\n",
        "# Modelloptimalisering, trening og evaulering av Coreg, Selv-RFR og BHD\n",
        "semi_modell_evaluering_1(dict_res_opt=res_semi.dict_res_1_design_opt_NIR,\n",
        "                         dict_res=res_semi.dict_res_1_design_NIR,\n",
        "                         rå_data=rå_data,\n",
        "                         treningssett_markert=trening_markert,\n",
        "                         enzymtyper_treningssett_markert=enzymtyper_markert,\n",
        "                         treningssett_umarkert=trening_umarkert,\n",
        "                         enzymtyper_treningssett_umarkert=enzymtyper_umarkert,\n",
        "                         treningssett=trening,\n",
        "                         testsett=testsett,\n",
        "                         n_splitt=n_splitt,\n",
        "                         n_gjentagelser=n_gjentagelser,\n",
        "                         n_runder=n_runder_hel,\n",
        "                         test_andel=test_andel,\n",
        "                         trenings_andel=trenings_andel,\n",
        "                         random_seed=random_seed)\n",
        "\n",
        "# Lagring av resultater\n",
        "res_1_design_semi_NIR = pd.DataFrame(res_semi.dict_res_1_design_NIR)\n",
        "res_1_design_opt_semi_NIR = pd.DataFrame(res_semi.dict_res_1_design_opt_NIR)\n",
        "\n",
        "res_1_design_semi_NIR.to_csv('/content/drive/MyDrive/MasterV24/Bioco_data/Resultater/smallmolecules/smallmolecules_res_1_design_semi_NIR.csv')\n",
        "res_1_design_opt_semi_NIR.to_csv('/content/drive/MyDrive/MasterV24/Bioco_data/Resultater/smallmolecules/smallmolecules_res_1_design_opt_semi_NIR.csv')"
      ]
    },
    {
      "cell_type": "markdown",
      "metadata": {
        "id": "P9fQSICyr1G2"
      },
      "source": [
        "Beste modell"
      ]
    },
    {
      "cell_type": "code",
      "execution_count": null,
      "metadata": {
        "id": "mKwGbEdYr1G2"
      },
      "outputs": [],
      "source": []
    },
    {
      "cell_type": "markdown",
      "metadata": {
        "id": "9EuYJpT16GK9"
      },
      "source": [
        "## Alternativ 2: Et testsett fordelt på dag og kontinuitet"
      ]
    },
    {
      "cell_type": "code",
      "execution_count": null,
      "metadata": {
        "id": "UxOKnfcm6GK9"
      },
      "outputs": [],
      "source": [
        "# Deler datasettet i trening og testsett\n",
        "trening_markert, testsett, trening_umarkert, trening\\\n",
        "= trening_testsett_oppdeling_dag(rå_data,\n",
        "                                 data_design_uten_NIR,\n",
        "                                 test_andel=test_andel,\n",
        "                                 ekskluder_kalkun_kylling=True)\n",
        "\n",
        "# Antall splitt etter minste enxymtype\n",
        "n_splitt = n_splitt_enzym(rå_data, trening_markert)\n",
        "\n",
        "# Modelloptimalisering, trening og evaulering av Coreg, Selv-RFR og BHD\n",
        "semi_modell_evaluering_2(dict_res_opt=res_semi.dict_res_2_design_opt_NIR,\n",
        "                         dict_res=res_semi.dict_res_2_design_NIR,\n",
        "                         rå_data=rå_data,\n",
        "                         treningssett_markert=trening_markert,\n",
        "                         treningssett_umarkert=trening_umarkert,\n",
        "                         treningssett=trening,\n",
        "                         testsett=testsett,\n",
        "                         n_splitt=n_splitt,\n",
        "                         n_runder=n_runder_hel,\n",
        "                         test_andel=test_andel,\n",
        "                         trenings_andel=trenings_andel,\n",
        "                         random_seed=random_seed)\n",
        "\n",
        "# Lagring av resultater\n",
        "res_2_design_semi_NIR = pd.DataFrame(res_semi.dict_res_2_design_NIR)\n",
        "res_2_design_opt_semi_NIR = pd.DataFrame(res_semi.dict_res_2_design_opt_NIR)\n",
        "\n",
        "res_2_design_semi_NIR.to_csv('/content/drive/MyDrive/MasterV24/Bioco_data/Resultater/smallmolecules/smallmolecules_res_2_design_semi_NIR.csv')\n",
        "res_2_design_opt_semi_NIR.to_csv('/content/drive/MyDrive/MasterV24/Bioco_data/Resultater/smallmolecules/smallmolecules_res_2_design_opt_semi_NIR.csv')"
      ]
    },
    {
      "cell_type": "markdown",
      "metadata": {
        "id": "PCqCJyk0s4Zg"
      },
      "source": [
        "Beste modell"
      ]
    },
    {
      "cell_type": "code",
      "execution_count": null,
      "metadata": {
        "id": "Y2SaMdc9s4Zg"
      },
      "outputs": [],
      "source": []
    }
  ],
  "metadata": {
    "colab": {
      "provenance": [],
      "collapsed_sections": [
        "uPtuGVtCJOFj",
        "21cdLIoaSTR6",
        "i_1rn21ITRJ4"
      ],
      "include_colab_link": true
    },
    "kernelspec": {
      "display_name": "Python 3",
      "name": "python3"
    },
    "language_info": {
      "name": "python"
    }
  },
  "nbformat": 4,
  "nbformat_minor": 0
}