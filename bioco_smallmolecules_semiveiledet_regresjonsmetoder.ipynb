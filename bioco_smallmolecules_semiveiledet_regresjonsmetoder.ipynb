{
  "cells": [
    {
      "cell_type": "markdown",
      "metadata": {
        "id": "view-in-github",
        "colab_type": "text"
      },
      "source": [
        "<a href=\"https://colab.research.google.com/github/PreyPython123/Master-V24-Semiveiledet-Regresjon/blob/smallmolecules-Pradeep/bioco_smallmolecules_semiveiledet_regresjonsmetoder.ipynb\" target=\"_parent\"><img src=\"https://colab.research.google.com/assets/colab-badge.svg\" alt=\"Open In Colab\"/></a>"
      ]
    },
    {
      "cell_type": "code",
      "execution_count": null,
      "metadata": {
        "colab": {
          "base_uri": "https://localhost:8080/"
        },
        "id": "nwEzUjnf0xLZ",
        "outputId": "b164daa3-a75a-4f3a-b4e4-211fae45b46f"
      },
      "outputs": [
        {
          "name": "stdout",
          "output_type": "stream",
          "text": [
            "Drive already mounted at /content/drive/; to attempt to forcibly remount, call drive.mount(\"/content/drive/\", force_remount=True).\n"
          ]
        }
      ],
      "source": [
        "from google.colab import drive\n",
        "drive.mount('/content/drive/')"
      ]
    },
    {
      "cell_type": "markdown",
      "metadata": {
        "id": "uPtuGVtCJOFj"
      },
      "source": [
        "# Importering, lasting og formattering"
      ]
    },
    {
      "cell_type": "markdown",
      "metadata": {
        "id": "ZNeQrag9Rlc_"
      },
      "source": [
        "Lasting av nødvendige bibliotek og pakker"
      ]
    },
    {
      "cell_type": "code",
      "execution_count": null,
      "metadata": {
        "colab": {
          "base_uri": "https://localhost:8080/"
        },
        "id": "k5u1dZmp6cJ9",
        "outputId": "cfa74066-aff7-4957-a461-a9071df1f6ce"
      },
      "outputs": [
        {
          "name": "stdout",
          "output_type": "stream",
          "text": [
            "Requirement already satisfied: optuna in /usr/local/lib/python3.10/dist-packages (3.6.1)\n",
            "Requirement already satisfied: alembic>=1.5.0 in /usr/local/lib/python3.10/dist-packages (from optuna) (1.13.1)\n",
            "Requirement already satisfied: colorlog in /usr/local/lib/python3.10/dist-packages (from optuna) (6.8.2)\n",
            "Requirement already satisfied: numpy in /usr/local/lib/python3.10/dist-packages (from optuna) (1.25.2)\n",
            "Requirement already satisfied: packaging>=20.0 in /usr/local/lib/python3.10/dist-packages (from optuna) (24.0)\n",
            "Requirement already satisfied: sqlalchemy>=1.3.0 in /usr/local/lib/python3.10/dist-packages (from optuna) (2.0.29)\n",
            "Requirement already satisfied: tqdm in /usr/local/lib/python3.10/dist-packages (from optuna) (4.66.2)\n",
            "Requirement already satisfied: PyYAML in /usr/local/lib/python3.10/dist-packages (from optuna) (6.0.1)\n",
            "Requirement already satisfied: Mako in /usr/local/lib/python3.10/dist-packages (from alembic>=1.5.0->optuna) (1.3.3)\n",
            "Requirement already satisfied: typing-extensions>=4 in /usr/local/lib/python3.10/dist-packages (from alembic>=1.5.0->optuna) (4.11.0)\n",
            "Requirement already satisfied: greenlet!=0.4.17 in /usr/local/lib/python3.10/dist-packages (from sqlalchemy>=1.3.0->optuna) (3.0.3)\n",
            "Requirement already satisfied: MarkupSafe>=0.9.2 in /usr/local/lib/python3.10/dist-packages (from Mako->alembic>=1.5.0->optuna) (2.1.5)\n",
            "Requirement already satisfied: LAMDA-SSL in /usr/local/lib/python3.10/dist-packages (1.0.2)\n",
            "Requirement already satisfied: scikit-learn in /usr/local/lib/python3.10/dist-packages (from LAMDA-SSL) (1.2.2)\n",
            "Requirement already satisfied: torchtext in /usr/local/lib/python3.10/dist-packages (from LAMDA-SSL) (0.17.1)\n",
            "Requirement already satisfied: torchvision in /usr/local/lib/python3.10/dist-packages (from LAMDA-SSL) (0.17.1+cu121)\n",
            "Requirement already satisfied: torch-geometric in /usr/local/lib/python3.10/dist-packages (from LAMDA-SSL) (2.5.3)\n",
            "Requirement already satisfied: Pillow in /usr/local/lib/python3.10/dist-packages (from LAMDA-SSL) (9.4.0)\n",
            "Requirement already satisfied: numpy in /usr/local/lib/python3.10/dist-packages (from LAMDA-SSL) (1.25.2)\n",
            "Requirement already satisfied: scipy in /usr/local/lib/python3.10/dist-packages (from LAMDA-SSL) (1.11.4)\n",
            "Requirement already satisfied: pandas in /usr/local/lib/python3.10/dist-packages (from LAMDA-SSL) (2.0.3)\n",
            "Requirement already satisfied: matplotlib in /usr/local/lib/python3.10/dist-packages (from LAMDA-SSL) (3.7.1)\n",
            "Requirement already satisfied: contourpy>=1.0.1 in /usr/local/lib/python3.10/dist-packages (from matplotlib->LAMDA-SSL) (1.2.1)\n",
            "Requirement already satisfied: cycler>=0.10 in /usr/local/lib/python3.10/dist-packages (from matplotlib->LAMDA-SSL) (0.12.1)\n",
            "Requirement already satisfied: fonttools>=4.22.0 in /usr/local/lib/python3.10/dist-packages (from matplotlib->LAMDA-SSL) (4.51.0)\n",
            "Requirement already satisfied: kiwisolver>=1.0.1 in /usr/local/lib/python3.10/dist-packages (from matplotlib->LAMDA-SSL) (1.4.5)\n",
            "Requirement already satisfied: packaging>=20.0 in /usr/local/lib/python3.10/dist-packages (from matplotlib->LAMDA-SSL) (24.0)\n",
            "Requirement already satisfied: pyparsing>=2.3.1 in /usr/local/lib/python3.10/dist-packages (from matplotlib->LAMDA-SSL) (3.1.2)\n",
            "Requirement already satisfied: python-dateutil>=2.7 in /usr/local/lib/python3.10/dist-packages (from matplotlib->LAMDA-SSL) (2.8.2)\n",
            "Requirement already satisfied: pytz>=2020.1 in /usr/local/lib/python3.10/dist-packages (from pandas->LAMDA-SSL) (2023.4)\n",
            "Requirement already satisfied: tzdata>=2022.1 in /usr/local/lib/python3.10/dist-packages (from pandas->LAMDA-SSL) (2024.1)\n",
            "Requirement already satisfied: joblib>=1.1.1 in /usr/local/lib/python3.10/dist-packages (from scikit-learn->LAMDA-SSL) (1.4.0)\n",
            "Requirement already satisfied: threadpoolctl>=2.0.0 in /usr/local/lib/python3.10/dist-packages (from scikit-learn->LAMDA-SSL) (3.5.0)\n",
            "Requirement already satisfied: tqdm in /usr/local/lib/python3.10/dist-packages (from torch-geometric->LAMDA-SSL) (4.66.2)\n",
            "Requirement already satisfied: fsspec in /usr/local/lib/python3.10/dist-packages (from torch-geometric->LAMDA-SSL) (2023.6.0)\n",
            "Requirement already satisfied: jinja2 in /usr/local/lib/python3.10/dist-packages (from torch-geometric->LAMDA-SSL) (3.1.3)\n",
            "Requirement already satisfied: aiohttp in /usr/local/lib/python3.10/dist-packages (from torch-geometric->LAMDA-SSL) (3.9.5)\n",
            "Requirement already satisfied: requests in /usr/local/lib/python3.10/dist-packages (from torch-geometric->LAMDA-SSL) (2.31.0)\n",
            "Requirement already satisfied: psutil>=5.8.0 in /usr/local/lib/python3.10/dist-packages (from torch-geometric->LAMDA-SSL) (5.9.5)\n",
            "Requirement already satisfied: torch==2.2.1 in /usr/local/lib/python3.10/dist-packages (from torchtext->LAMDA-SSL) (2.2.1+cu121)\n",
            "Requirement already satisfied: torchdata==0.7.1 in /usr/local/lib/python3.10/dist-packages (from torchtext->LAMDA-SSL) (0.7.1)\n",
            "Requirement already satisfied: filelock in /usr/local/lib/python3.10/dist-packages (from torch==2.2.1->torchtext->LAMDA-SSL) (3.14.0)\n",
            "Requirement already satisfied: typing-extensions>=4.8.0 in /usr/local/lib/python3.10/dist-packages (from torch==2.2.1->torchtext->LAMDA-SSL) (4.11.0)\n",
            "Requirement already satisfied: sympy in /usr/local/lib/python3.10/dist-packages (from torch==2.2.1->torchtext->LAMDA-SSL) (1.12)\n",
            "Requirement already satisfied: networkx in /usr/local/lib/python3.10/dist-packages (from torch==2.2.1->torchtext->LAMDA-SSL) (3.3)\n",
            "Requirement already satisfied: nvidia-cuda-nvrtc-cu12==12.1.105 in /usr/local/lib/python3.10/dist-packages (from torch==2.2.1->torchtext->LAMDA-SSL) (12.1.105)\n",
            "Requirement already satisfied: nvidia-cuda-runtime-cu12==12.1.105 in /usr/local/lib/python3.10/dist-packages (from torch==2.2.1->torchtext->LAMDA-SSL) (12.1.105)\n",
            "Requirement already satisfied: nvidia-cuda-cupti-cu12==12.1.105 in /usr/local/lib/python3.10/dist-packages (from torch==2.2.1->torchtext->LAMDA-SSL) (12.1.105)\n",
            "Requirement already satisfied: nvidia-cudnn-cu12==8.9.2.26 in /usr/local/lib/python3.10/dist-packages (from torch==2.2.1->torchtext->LAMDA-SSL) (8.9.2.26)\n",
            "Requirement already satisfied: nvidia-cublas-cu12==12.1.3.1 in /usr/local/lib/python3.10/dist-packages (from torch==2.2.1->torchtext->LAMDA-SSL) (12.1.3.1)\n",
            "Requirement already satisfied: nvidia-cufft-cu12==11.0.2.54 in /usr/local/lib/python3.10/dist-packages (from torch==2.2.1->torchtext->LAMDA-SSL) (11.0.2.54)\n",
            "Requirement already satisfied: nvidia-curand-cu12==10.3.2.106 in /usr/local/lib/python3.10/dist-packages (from torch==2.2.1->torchtext->LAMDA-SSL) (10.3.2.106)\n",
            "Requirement already satisfied: nvidia-cusolver-cu12==11.4.5.107 in /usr/local/lib/python3.10/dist-packages (from torch==2.2.1->torchtext->LAMDA-SSL) (11.4.5.107)\n",
            "Requirement already satisfied: nvidia-cusparse-cu12==12.1.0.106 in /usr/local/lib/python3.10/dist-packages (from torch==2.2.1->torchtext->LAMDA-SSL) (12.1.0.106)\n",
            "Requirement already satisfied: nvidia-nccl-cu12==2.19.3 in /usr/local/lib/python3.10/dist-packages (from torch==2.2.1->torchtext->LAMDA-SSL) (2.19.3)\n",
            "Requirement already satisfied: nvidia-nvtx-cu12==12.1.105 in /usr/local/lib/python3.10/dist-packages (from torch==2.2.1->torchtext->LAMDA-SSL) (12.1.105)\n",
            "Requirement already satisfied: triton==2.2.0 in /usr/local/lib/python3.10/dist-packages (from torch==2.2.1->torchtext->LAMDA-SSL) (2.2.0)\n",
            "Requirement already satisfied: urllib3>=1.25 in /usr/local/lib/python3.10/dist-packages (from torchdata==0.7.1->torchtext->LAMDA-SSL) (2.0.7)\n",
            "Requirement already satisfied: nvidia-nvjitlink-cu12 in /usr/local/lib/python3.10/dist-packages (from nvidia-cusolver-cu12==11.4.5.107->torch==2.2.1->torchtext->LAMDA-SSL) (12.4.127)\n",
            "Requirement already satisfied: six>=1.5 in /usr/local/lib/python3.10/dist-packages (from python-dateutil>=2.7->matplotlib->LAMDA-SSL) (1.16.0)\n",
            "Requirement already satisfied: aiosignal>=1.1.2 in /usr/local/lib/python3.10/dist-packages (from aiohttp->torch-geometric->LAMDA-SSL) (1.3.1)\n",
            "Requirement already satisfied: attrs>=17.3.0 in /usr/local/lib/python3.10/dist-packages (from aiohttp->torch-geometric->LAMDA-SSL) (23.2.0)\n",
            "Requirement already satisfied: frozenlist>=1.1.1 in /usr/local/lib/python3.10/dist-packages (from aiohttp->torch-geometric->LAMDA-SSL) (1.4.1)\n",
            "Requirement already satisfied: multidict<7.0,>=4.5 in /usr/local/lib/python3.10/dist-packages (from aiohttp->torch-geometric->LAMDA-SSL) (6.0.5)\n",
            "Requirement already satisfied: yarl<2.0,>=1.0 in /usr/local/lib/python3.10/dist-packages (from aiohttp->torch-geometric->LAMDA-SSL) (1.9.4)\n",
            "Requirement already satisfied: async-timeout<5.0,>=4.0 in /usr/local/lib/python3.10/dist-packages (from aiohttp->torch-geometric->LAMDA-SSL) (4.0.3)\n",
            "Requirement already satisfied: MarkupSafe>=2.0 in /usr/local/lib/python3.10/dist-packages (from jinja2->torch-geometric->LAMDA-SSL) (2.1.5)\n",
            "Requirement already satisfied: charset-normalizer<4,>=2 in /usr/local/lib/python3.10/dist-packages (from requests->torch-geometric->LAMDA-SSL) (3.3.2)\n",
            "Requirement already satisfied: idna<4,>=2.5 in /usr/local/lib/python3.10/dist-packages (from requests->torch-geometric->LAMDA-SSL) (3.7)\n",
            "Requirement already satisfied: certifi>=2017.4.17 in /usr/local/lib/python3.10/dist-packages (from requests->torch-geometric->LAMDA-SSL) (2024.2.2)\n",
            "Requirement already satisfied: mpmath>=0.19 in /usr/local/lib/python3.10/dist-packages (from sympy->torch==2.2.1->torchtext->LAMDA-SSL) (1.3.0)\n"
          ]
        }
      ],
      "source": [
        "!pip install optuna\n",
        "!pip install LAMDA-SSL"
      ]
    },
    {
      "cell_type": "markdown",
      "metadata": {
        "id": "jT-YzIdVRply"
      },
      "source": [
        "Importering av nødvendig bibliotek og pakker"
      ]
    },
    {
      "cell_type": "code",
      "execution_count": null,
      "metadata": {
        "id": "nLn2QDaFijWw"
      },
      "outputs": [],
      "source": [
        "import pandas as pd\n",
        "import numpy as np\n",
        "import copy\n",
        "import math\n",
        "from statistics import mean, stdev\n",
        "import time"
      ]
    },
    {
      "cell_type": "code",
      "execution_count": null,
      "metadata": {
        "id": "DmFSuK8ARtBg"
      },
      "outputs": [],
      "source": [
        "from sklearn.model_selection import train_test_split\n",
        "from sklearn.pipeline import Pipeline\n",
        "from sklearn.preprocessing import StandardScaler\n",
        "from sklearn.model_selection import RepeatedStratifiedKFold\n",
        "import sklearn.model_selection\n",
        "\n",
        "# Modell\n",
        "from LAMDA_SSL.Algorithm.Regression.CoReg import CoReg"
      ]
    },
    {
      "cell_type": "code",
      "execution_count": null,
      "metadata": {
        "id": "aPjLVwvuiyIr"
      },
      "outputs": [],
      "source": [
        "import optuna\n",
        "from optuna.visualization import plot_optimization_history\n",
        "\n",
        "# Utelukker utskriving av logg for hyperoptimalisering\n",
        "# optuna.logging.set_verbosity(optuna.logging.WARNING)"
      ]
    },
    {
      "cell_type": "markdown",
      "metadata": {
        "id": "qhRMrFFHlZuX"
      },
      "source": [
        "# Egendefinerte moduler"
      ]
    },
    {
      "cell_type": "code",
      "execution_count": null,
      "metadata": {
        "colab": {
          "base_uri": "https://localhost:8080/"
        },
        "id": "FXgxrml5lg5B",
        "outputId": "cf45e20f-71fa-4ecd-f4c0-181a2da9f595"
      },
      "outputs": [
        {
          "name": "stdout",
          "output_type": "stream",
          "text": [
            "/content\n"
          ]
        }
      ],
      "source": [
        "!pwd\n",
        "! cp /content/drive/MyDrive/MasterV24/GitHub/moduler_trening_validering_testing_evaluering.py /content/moduler_trening_validering_testing_evaluering.py"
      ]
    },
    {
      "cell_type": "code",
      "execution_count": null,
      "metadata": {
        "id": "tvOTDwKLf0q8"
      },
      "outputs": [],
      "source": [
        "from moduler_trening_validering_testing_evaluering import trening_testsett_oppdeling_enzym\n",
        "from moduler_trening_validering_testing_evaluering import trening_testsett_oppdeling_dag\n",
        "from moduler_trening_validering_testing_evaluering import trening_validering_oppdeling_dag\n",
        "\n",
        "from moduler_trening_validering_testing_evaluering import enzymfordeling\n",
        "from moduler_trening_validering_testing_evaluering import n_splitt_enzym\n",
        "from moduler_trening_validering_testing_evaluering import umarkert_andel_dag\n",
        "from moduler_trening_validering_testing_evaluering import Resultat_evaluering\n",
        "from moduler_trening_validering_testing_evaluering import res_eval_opt\n",
        "from moduler_trening_validering_testing_evaluering import res_eval\n",
        "from moduler_trening_validering_testing_evaluering import Resultat_dicts_semi"
      ]
    },
    {
      "cell_type": "code",
      "execution_count": null,
      "metadata": {
        "colab": {
          "base_uri": "https://localhost:8080/"
        },
        "id": "JTs_zHhkiBpK",
        "outputId": "065802a6-5575-4b32-a39d-f892507bb8c3"
      },
      "outputs": [
        {
          "name": "stdout",
          "output_type": "stream",
          "text": [
            "/content\n"
          ]
        }
      ],
      "source": [
        "!pwd\n",
        "! cp /content/drive/MyDrive/MasterV24/GitHub/moduler_optimalisering_evaluering_semiveiledet.py /content/moduler_optimalisering_evaluering_semiveiledet.py"
      ]
    },
    {
      "cell_type": "code",
      "execution_count": null,
      "metadata": {
        "id": "A5GEVrXsiYd-"
      },
      "outputs": [],
      "source": [
        "from moduler_optimalisering_evaluering_semiveiledet import BHD\n",
        "from moduler_optimalisering_evaluering_semiveiledet import SelfTrainingRandomForestRegressor\n",
        "\n",
        "from moduler_optimalisering_evaluering_semiveiledet import trening_coreg_enzym\n",
        "from moduler_optimalisering_evaluering_semiveiledet import trening_bhd_domene_enzym\n",
        "from moduler_optimalisering_evaluering_semiveiledet import trening_selvtrent_rfr_enzym\n",
        "\n",
        "from moduler_optimalisering_evaluering_semiveiledet import trening_coreg_dag\n",
        "from moduler_optimalisering_evaluering_semiveiledet import trening_bhd_domene_dag\n",
        "from moduler_optimalisering_evaluering_semiveiledet import trening_selvtrent_rfr_dag\n",
        "\n",
        "from moduler_optimalisering_evaluering_semiveiledet import semi_modell_evaluering_1\n",
        "from moduler_optimalisering_evaluering_semiveiledet import semi_modell_evaluering_2\n",
        "\n",
        "from moduler_optimalisering_evaluering_semiveiledet import bhd_andel_maks\n",
        "from moduler_optimalisering_evaluering_semiveiledet import andel_umarkert"
      ]
    },
    {
      "cell_type": "markdown",
      "metadata": {
        "id": "21cdLIoaSTR6"
      },
      "source": [
        "# Importering av relevant data"
      ]
    },
    {
      "cell_type": "code",
      "execution_count": null,
      "metadata": {
        "id": "XeNQyDPZSTwY"
      },
      "outputs": [],
      "source": [
        "# Velger første kolonne med dato og tid som index\n",
        "data = pd.read_csv('/content/drive/MyDrive/MasterV24/Bioco_data/smallmolecules_data.csv',\n",
        "                   header=0,\n",
        "                   sep=',',\n",
        "                   index_col=0)\n",
        "\n",
        "# Design produksjon\n",
        "data_design = pd.read_csv('/content/drive/MyDrive/MasterV24/Bioco_data/smallmolecules_data_design.csv',\n",
        "                          header=0,\n",
        "                          sep=',',\n",
        "                          index_col=0)\n",
        "\n",
        "# Importerer rådata\n",
        "rå_data = pd.read_csv('/content/drive/MyDrive/MasterV24/BiocoData.csv',\n",
        "                      header=0,\n",
        "                      sep=';',\n",
        "                      index_col=0)\n",
        "\n",
        "# Formatterer index til riktig format og datatype\n",
        "data.index = pd.to_datetime(data.index,\n",
        "                            format='%Y-%m-%d %H:%M:%S')\n",
        "\n",
        "data_design.index = pd.to_datetime(data_design.index,\n",
        "                                   format='%Y-%m-%d %H:%M:%S')\n",
        "\n",
        "rå_data.index = pd.to_datetime(rå_data.index,\n",
        "                               format='%d-%m-%Y %H:%M:%S.%f')"
      ]
    },
    {
      "cell_type": "markdown",
      "metadata": {
        "id": "7Wl0nay5j2C4"
      },
      "source": [
        "Tilfeldighetsfrø"
      ]
    },
    {
      "cell_type": "code",
      "execution_count": null,
      "metadata": {
        "id": "OxTGpIOmj4V7"
      },
      "outputs": [],
      "source": [
        "#Tilfeldighetsfrø\n",
        "random_seed = 2024"
      ]
    },
    {
      "cell_type": "markdown",
      "metadata": {
        "id": "i_1rn21ITRJ4"
      },
      "source": [
        "# Lagring av res"
      ]
    },
    {
      "cell_type": "code",
      "execution_count": null,
      "metadata": {
        "id": "EGIgRqWETUTx"
      },
      "outputs": [],
      "source": [
        "# Oppretter instans for lagring av res\n",
        "res_semi = Resultat_dicts_semi()"
      ]
    },
    {
      "cell_type": "markdown",
      "metadata": {
        "id": "lBAscBxqK7QZ"
      },
      "source": [
        "# Setter fast treningsandel og faste markerte andeler"
      ]
    },
    {
      "cell_type": "code",
      "execution_count": null,
      "metadata": {
        "id": "987yKTDLK_ur"
      },
      "outputs": [],
      "source": [
        "# Fast treningsandel\n",
        "trenings_andel = 1.0\n",
        "\n",
        "# Markerte andeler til undersøkelse\n",
        "andel_av_markert = [0.5, 1.0, 10.0]"
      ]
    },
    {
      "cell_type": "markdown",
      "metadata": {
        "id": "w57g39LGwyBz"
      },
      "source": [
        "# Parametervalg for hyperoptimalisering"
      ]
    },
    {
      "cell_type": "code",
      "execution_count": null,
      "metadata": {
        "id": "Tx_wgPo_xv-7"
      },
      "outputs": [],
      "source": [
        "# Antall runder for hyperoptimalisering\n",
        "n_runder_hel = 100\n",
        "n_runder_andel = 100\n",
        "\n",
        "# Antall gjentagelser\n",
        "n_gjentagelser = 2"
      ]
    },
    {
      "cell_type": "markdown",
      "metadata": {
        "id": "76aWdlTDXp9I"
      },
      "source": [
        "# NIR målinger inkludert"
      ]
    },
    {
      "cell_type": "markdown",
      "metadata": {
        "id": "wQpsJkKShL_9"
      },
      "source": [
        "## Hele datasett"
      ]
    },
    {
      "cell_type": "markdown",
      "metadata": {
        "id": "yNN1h11QTJ2y"
      },
      "source": [
        "## Alternativ 1: 20% testsett. Fordelt på enzymtype (ikke tatt hensyn til kontinuitet)"
      ]
    },
    {
      "cell_type": "code",
      "execution_count": null,
      "metadata": {
        "id": "j-oKygY5rRw0"
      },
      "outputs": [],
      "source": [
        "# Testandel\n",
        "test_andel = 0.2\n",
        "\n",
        "# Deler datasettet i trening og testsett\n",
        "trening_markert, enzymtyper_markert, testsett, _,\\\n",
        "trening_umarkert, enzymtyper_umarkert, trening\\\n",
        "= trening_testsett_oppdeling_enzym(rå_data,\n",
        "                                   data,\n",
        "                                   test_andel=test_andel)"
      ]
    },
    {
      "cell_type": "code",
      "execution_count": null,
      "metadata": {
        "id": "EmZJojj4jXKu"
      },
      "outputs": [],
      "source": [
        "# Går igjennom andeler av satt markerte andeler\n",
        "for andel in andel_av_markert:\n",
        "\n",
        "  # Finner tilsvarende umarkerte andel\n",
        "  umarkert_andel = andel_umarkert(andel, trening_markert, trening_umarkert)\n",
        "\n",
        "  # Filtrer umarkert sett\n",
        "  ubenyttet_andel = (1.0 - umarkert_andel)\n",
        "  treningssett_umarkert, _, enzymtyper_treningssett_umarkert, _\\\n",
        "  = train_test_split(trening_umarkert,\n",
        "                      enzymtyper_umarkert,\n",
        "                      test_size=ubenyttet_andel,\n",
        "                      stratify=enzymtyper_umarkert,\n",
        "                      random_state=random_seed)\n",
        "\n",
        "  # Treningssett\n",
        "  treningssett = pd.concat([trening_markert, treningssett_umarkert],\n",
        "                          axis=0)\n",
        "  treningssett = treningssett.sort_index(ascending=True)\n",
        "\n",
        "\n",
        "  # Antall splitt etter minste enxymtype\n",
        "  n_splitt = n_splitt_enzym(rå_data, trening_markert)\n",
        "\n",
        "  # Modelloptimalisering, trening og evaulering av Coreg, Selv-RFR og BHD\n",
        "  semi_modell_evaluering_1(dict_res_opt=res_semi.dict_res_1_hel_opt,\n",
        "                          dict_res=res_semi.dict_res_1_hel,\n",
        "                          rå_data=rå_data,\n",
        "                          treningssett_markert=trening_markert,\n",
        "                          enzymtyper_treningssett_markert=enzymtyper_markert,\n",
        "                          treningssett_umarkert=treningssett_umarkert,\n",
        "                          enzymtyper_treningssett_umarkert=enzymtyper_treningssett_umarkert,\n",
        "                          treningssett=treningssett,\n",
        "                          testsett=testsett,\n",
        "                          n_splitt=n_splitt,\n",
        "                          n_gjentagelser=n_gjentagelser,\n",
        "                          n_runder=n_runder_andel,\n",
        "                          test_andel=test_andel,\n",
        "                          trenings_andel=trenings_andel,\n",
        "                          random_seed=random_seed)\n",
        "\n",
        "  # Lagring av resulatater\n",
        "  res_1_hel_semi = pd.DataFrame(res_semi.dict_res_1_hel)\n",
        "  res_1_hel_opt_semi = pd.DataFrame(res_semi.dict_res_1_hel_opt)\n",
        "\n",
        "  res_1_hel_semi.to_csv('/content/drive/MyDrive/MasterV24/Bioco_data/Resultater/smallmolecules/smallmolecules_res_1_hel_semi.csv')\n",
        "  res_1_hel_opt_semi.to_csv('/content/drive/MyDrive/MasterV24/Bioco_data/Resultater/smallmolecules/smallmolecules_res_1_hel_opt_semi.csv')"
      ]
    },
    {
      "cell_type": "markdown",
      "metadata": {
        "id": "kvKjGVxrg57C"
      },
      "source": [
        "Beste modell"
      ]
    },
    {
      "cell_type": "code",
      "execution_count": null,
      "metadata": {
        "id": "Tk75jd3uz4j5"
      },
      "outputs": [],
      "source": []
    },
    {
      "cell_type": "markdown",
      "metadata": {
        "id": "IwENe1s1rmwy"
      },
      "source": [
        "## Alternativ 2: Et testsett fordelt på dag og kontinuitet"
      ]
    },
    {
      "cell_type": "code",
      "execution_count": null,
      "metadata": {
        "id": "JLlqSB4BQKYU"
      },
      "outputs": [],
      "source": [
        "# Testandel\n",
        "test_andel = 0.2\n",
        "\n",
        "# Deler datasettet i trening og testsett\n",
        "trening_markert, testsett, trening_umarkert, trening\\\n",
        "= trening_testsett_oppdeling_dag(rå_data,\n",
        "                                 data,\n",
        "                                 test_andel=test_andel,\n",
        "                                 test_ekskluder_kalkun_kylling=True)\n",
        "\n",
        "#Oversikt over fordelingen av enzymtyper i trening og testsett\n",
        "print(\"Enzymtyper Fordeling: Trening markert\")\n",
        "print(enzymfordeling(rå_data, trening_markert))\n",
        "print(\"Enzymtyper Fordeling: Test\")\n",
        "print(enzymfordeling(rå_data, testsett))\n",
        "print(\"Enzymtyper Fordeling: Trening umarkert\")\n",
        "print(enzymfordeling(rå_data, trening_umarkert))"
      ]
    },
    {
      "cell_type": "code",
      "execution_count": null,
      "metadata": {
        "id": "8Viu-m-nk262"
      },
      "outputs": [],
      "source": [
        "# Går igjennom andeler av markerte andeler\n",
        "for andel in andel_av_markert:\n",
        "\n",
        "  # Finner tilsvarende umarkerte andeler\n",
        "  umarkert_andel = andel_umarkert(andel, trening_markert, trening_umarkert)\n",
        "\n",
        "  # Filtrer umarkert sett\n",
        "  treningssett_umarkert, _ = umarkert_andel_dag(trening_umarkert,\n",
        "                                                umarkert_andel)\n",
        "\n",
        "  # Treningssett\n",
        "  treningssett = pd.concat([trening_markert, treningssett_umarkert],\n",
        "                          axis=0)\n",
        "  treningssett = treningssett.sort_index(ascending=True)\n",
        "\n",
        "\n",
        "  # Antall splitt etter minste enxymtype\n",
        "  n_splitt = n_splitt_enzym(rå_data, trening_markert)\n",
        "\n",
        "  # Modelloptimalisering\n",
        "  semi_modell_evaluering_2(dict_res_opt=res_semi.dict_res_2_hel_opt,\n",
        "                            dict_res=res_semi.dict_res_2_hel,\n",
        "                            rå_data=rå_data,\n",
        "                            treningssett_markert=trening_markert,\n",
        "                            treningssett_umarkert=treningssett_umarkert,\n",
        "                            treningssett=treningssett,\n",
        "                            testsett=testsett,\n",
        "                            n_splitt=n_splitt,\n",
        "                            n_runder=n_runder_andel,\n",
        "                            test_andel=test_andel,\n",
        "                            trenings_andel=trenings_andel,\n",
        "                            random_seed=random_seed)\n",
        "\n",
        "  # Lagring av resultater\n",
        "  res_2_hel_semi = pd.DataFrame(res_semi.dict_res_2_hel)\n",
        "  res_2_hel_opt_semi = pd.DataFrame(res_semi.dict_res_2_hel_opt)\n",
        "\n",
        "  res_2_hel_semi.to_csv('/content/drive/MyDrive/MasterV24/Bioco_data/Resultater/smallmolecules/smallmolecules_res_2_hel_semi.csv')\n",
        "  res_2_hel_opt_semi.to_csv('/content/drive/MyDrive/MasterV24/Bioco_data/Resultater/smallmolecules/smallmolecules_res_2_hel_opt_semi.csv')"
      ]
    },
    {
      "cell_type": "markdown",
      "metadata": {
        "id": "un6mDEGPFIHt"
      },
      "source": [
        "## Designproduksjon"
      ]
    },
    {
      "cell_type": "markdown",
      "metadata": {
        "id": "Z0yAUFfySrzl"
      },
      "source": [
        "## Alternativ 1: 80% testsett. Fordelt på enzymtype (ikke tatt hensyn til kontinuitet)"
      ]
    },
    {
      "cell_type": "code",
      "execution_count": null,
      "metadata": {
        "id": "ysMLWgXgSrzl"
      },
      "outputs": [],
      "source": [
        "# Testandel\n",
        "test_andel = 0.8\n",
        "\n",
        "# Deler datasettet i trening og testsett\n",
        "trening_markert, enzymtyper_markert, testsett, _,\\\n",
        "trening_umarkert, enzymtyper_umarkert, trening\\\n",
        "= trening_testsett_oppdeling_enzym(rå_data,\n",
        "                                   data_design,\n",
        "                                   test_andel=test_andel)"
      ]
    },
    {
      "cell_type": "code",
      "execution_count": null,
      "metadata": {
        "colab": {
          "base_uri": "https://localhost:8080/"
        },
        "id": "StmGxWdLSrzm",
        "outputId": "b4a3ace0-f885-4ba8-efea-ec83f3140e92"
      },
      "outputs": [
        {
          "name": "stderr",
          "output_type": "stream",
          "text": [
            "[I 2024-05-03 00:58:53,541] A new study created in memory with name: no-name-5a8d4abd-f437-4507-8cba-63005add9bf2\n",
            "[I 2024-05-03 00:59:34,312] Trial 0 finished with value: 0.9432494812590041 and parameters: {'k1': 9, 'k2': 4, 'p1': 9, 'p2': 9, 'max_iters': 2, 'pool_size': 100}. Best is trial 0 with value: 0.9432494812590041.\n",
            "[I 2024-05-03 01:00:31,677] Trial 1 finished with value: 1.2974444166218213 and parameters: {'k1': 20, 'k2': 20, 'p1': 1, 'p2': 2, 'max_iters': 27, 'pool_size': 14}. Best is trial 0 with value: 0.9432494812590041.\n",
            "[I 2024-05-03 01:01:01,947] Trial 2 finished with value: 0.8191104689416712 and parameters: {'k1': 1, 'k2': 6, 'p1': 9, 'p2': 3, 'max_iters': 10, 'pool_size': 33}. Best is trial 2 with value: 0.8191104689416712.\n",
            "[I 2024-05-03 01:02:29,442] Trial 3 finished with value: 0.9434079666457058 and parameters: {'k1': 16, 'k2': 2, 'p1': 3, 'p2': 9, 'max_iters': 42, 'pool_size': 25}. Best is trial 2 with value: 0.8191104689416712.\n",
            "[I 2024-05-03 01:04:29,080] Trial 5 finished with value: 1.058126828091183 and parameters: {'k1': 8, 'k2': 17, 'p1': 5, 'p2': 5, 'max_iters': 30, 'pool_size': 16}. Best is trial 2 with value: 0.8191104689416712.\n",
            "[I 2024-05-03 01:04:42,262] Trial 6 finished with value: 0.9407786372296819 and parameters: {'k1': 18, 'k2': 1, 'p1': 1, 'p2': 6, 'max_iters': 14, 'pool_size': 5}. Best is trial 2 with value: 0.8191104689416712.\n",
            "[I 2024-05-03 01:05:13,353] Trial 4 finished with value: 1.2930505985783347 and parameters: {'k1': 18, 'k2': 19, 'p1': 5, 'p2': 9, 'max_iters': 44, 'pool_size': 51}. Best is trial 2 with value: 0.8191104689416712.\n",
            "[I 2024-05-03 01:05:45,054] Trial 7 finished with value: 0.8646611703448029 and parameters: {'k1': 6, 'k2': 2, 'p1': 9, 'p2': 4, 'max_iters': 36, 'pool_size': 39}. Best is trial 2 with value: 0.8191104689416712.\n",
            "[I 2024-05-03 01:05:58,133] Trial 9 finished with value: 0.9902503121314953 and parameters: {'k1': 14, 'k2': 3, 'p1': 4, 'p2': 4, 'max_iters': 1, 'pool_size': 85}. Best is trial 2 with value: 0.8191104689416712.\n",
            "[I 2024-05-03 01:07:59,597] Trial 8 finished with value: 0.9776761050900766 and parameters: {'k1': 20, 'k2': 2, 'p1': 8, 'p2': 3, 'max_iters': 46, 'pool_size': 74}. Best is trial 2 with value: 0.8191104689416712.\n",
            "[I 2024-05-03 01:08:12,097] Trial 10 finished with value: 0.958104278414959 and parameters: {'k1': 17, 'k2': 4, 'p1': 8, 'p2': 1, 'max_iters': 42, 'pool_size': 49}. Best is trial 2 with value: 0.8191104689416712.\n",
            "[I 2024-05-03 01:08:52,037] Trial 11 finished with value: 0.795620252061887 and parameters: {'k1': 2, 'k2': 8, 'p1': 7, 'p2': 1, 'max_iters': 15, 'pool_size': 39}. Best is trial 11 with value: 0.795620252061887.\n",
            "[I 2024-05-03 01:09:58,117] Trial 13 finished with value: 0.8034895189047004 and parameters: {'k1': 1, 'k2': 9, 'p1': 7, 'p2': 1, 'max_iters': 15, 'pool_size': 33}. Best is trial 11 with value: 0.795620252061887.\n",
            "[I 2024-05-03 01:11:01,505] Trial 12 finished with value: 0.8356113994619014 and parameters: {'k1': 1, 'k2': 10, 'p1': 10, 'p2': 6, 'max_iters': 16, 'pool_size': 37}. Best is trial 11 with value: 0.795620252061887.\n",
            "[I 2024-05-03 01:11:17,613] Trial 14 finished with value: 0.8030892233620959 and parameters: {'k1': 1, 'k2': 10, 'p1': 7, 'p2': 1, 'max_iters': 18, 'pool_size': 66}. Best is trial 11 with value: 0.795620252061887.\n",
            "[I 2024-05-03 01:12:38,284] Trial 15 finished with value: 0.8713359748559556 and parameters: {'k1': 4, 'k2': 10, 'p1': 7, 'p2': 1, 'max_iters': 20, 'pool_size': 69}. Best is trial 11 with value: 0.795620252061887.\n",
            "[I 2024-05-03 01:13:05,295] Trial 16 finished with value: 0.9144532813044141 and parameters: {'k1': 5, 'k2': 13, 'p1': 7, 'p2': 1, 'max_iters': 21, 'pool_size': 66}. Best is trial 11 with value: 0.795620252061887.\n",
            "[I 2024-05-03 01:14:47,574] Trial 17 finished with value: 1.0017306523983536 and parameters: {'k1': 4, 'k2': 14, 'p1': 6, 'p2': 7, 'max_iters': 22, 'pool_size': 67}. Best is trial 11 with value: 0.795620252061887.\n",
            "[I 2024-05-03 01:15:01,990] Trial 18 finished with value: 1.1143130195294306 and parameters: {'k1': 12, 'k2': 13, 'p1': 6, 'p2': 7, 'max_iters': 8, 'pool_size': 55}. Best is trial 11 with value: 0.795620252061887.\n",
            "[I 2024-05-03 01:16:14,939] Trial 19 finished with value: 1.023795843996502 and parameters: {'k1': 12, 'k2': 8, 'p1': 3, 'p2': 3, 'max_iters': 7, 'pool_size': 50}. Best is trial 11 with value: 0.795620252061887.\n",
            "[I 2024-05-03 01:16:39,751] Trial 20 finished with value: 0.9841753430749671 and parameters: {'k1': 7, 'k2': 6, 'p1': 3, 'p2': 3, 'max_iters': 34, 'pool_size': 85}. Best is trial 11 with value: 0.795620252061887.\n",
            "[I 2024-05-03 01:17:23,927] Trial 21 finished with value: 0.8956929166004101 and parameters: {'k1': 3, 'k2': 7, 'p1': 10, 'p2': 2, 'max_iters': 33, 'pool_size': 86}. Best is trial 11 with value: 0.795620252061887.\n",
            "[I 2024-05-03 01:17:47,591] Trial 22 finished with value: 0.8225086327340577 and parameters: {'k1': 2, 'k2': 8, 'p1': 7, 'p2': 2, 'max_iters': 15, 'pool_size': 30}. Best is trial 11 with value: 0.795620252061887.\n",
            "[I 2024-05-03 01:18:34,997] Trial 23 finished with value: 0.8195882596029869 and parameters: {'k1': 2, 'k2': 9, 'p1': 7, 'p2': 2, 'max_iters': 15, 'pool_size': 26}. Best is trial 11 with value: 0.795620252061887.\n",
            "[I 2024-05-03 01:19:14,340] Trial 24 finished with value: 0.8752903005814014 and parameters: {'k1': 3, 'k2': 11, 'p1': 8, 'p2': 1, 'max_iters': 12, 'pool_size': 44}. Best is trial 11 with value: 0.795620252061887.\n",
            "[I 2024-05-03 01:20:18,902] Trial 25 finished with value: 0.8892842880159462 and parameters: {'k1': 3, 'k2': 12, 'p1': 8, 'p2': 1, 'max_iters': 25, 'pool_size': 60}. Best is trial 11 with value: 0.795620252061887.\n",
            "[I 2024-05-03 01:21:10,109] Trial 26 finished with value: 0.8391087288653127 and parameters: {'k1': 1, 'k2': 12, 'p1': 6, 'p2': 1, 'max_iters': 24, 'pool_size': 58}. Best is trial 11 with value: 0.795620252061887.\n",
            "[I 2024-05-03 01:21:53,368] Trial 27 finished with value: 0.9215753830636283 and parameters: {'k1': 1, 'k2': 15, 'p1': 6, 'p2': 4, 'max_iters': 6, 'pool_size': 42}. Best is trial 11 with value: 0.795620252061887.\n",
            "[I 2024-05-03 01:22:49,279] Trial 29 finished with value: 0.9358518304007838 and parameters: {'k1': 6, 'k2': 6, 'p1': 5, 'p2': 2, 'max_iters': 19, 'pool_size': 19}. Best is trial 11 with value: 0.795620252061887.\n",
            "[I 2024-05-03 01:23:20,916] Trial 30 finished with value: 0.9545830717111814 and parameters: {'k1': 9, 'k2': 5, 'p1': 9, 'p2': 10, 'max_iters': 3, 'pool_size': 98}. Best is trial 11 with value: 0.795620252061887.\n",
            "[I 2024-05-03 01:23:26,546] Trial 31 finished with value: 0.945776725775604 and parameters: {'k1': 5, 'k2': 9, 'p1': 4, 'p2': 2, 'max_iters': 18, 'pool_size': 2}. Best is trial 11 with value: 0.795620252061887.\n",
            "[I 2024-05-03 01:23:46,522] Trial 28 finished with value: 1.0029357423600114 and parameters: {'k1': 6, 'k2': 15, 'p1': 5, 'p2': 4, 'max_iters': 19, 'pool_size': 43}. Best is trial 11 with value: 0.795620252061887.\n",
            "[I 2024-05-03 01:24:28,975] Trial 32 finished with value: 0.8019687337096985 and parameters: {'k1': 1, 'k2': 7, 'p1': 9, 'p2': 3, 'max_iters': 10, 'pool_size': 33}. Best is trial 11 with value: 0.795620252061887.\n",
            "[I 2024-05-03 01:25:00,965] Trial 33 finished with value: 0.8630553579352201 and parameters: {'k1': 2, 'k2': 7, 'p1': 9, 'p2': 3, 'max_iters': 11, 'pool_size': 32}. Best is trial 11 with value: 0.795620252061887.\n",
            "[I 2024-05-03 01:25:16,325] Trial 34 finished with value: 0.8321515740641571 and parameters: {'k1': 2, 'k2': 8, 'p1': 8, 'p2': 2, 'max_iters': 10, 'pool_size': 34}. Best is trial 11 with value: 0.795620252061887.\n",
            "[I 2024-05-03 01:25:29,278] Trial 35 finished with value: 0.8751167835776832 and parameters: {'k1': 4, 'k2': 9, 'p1': 7, 'p2': 1, 'max_iters': 4, 'pool_size': 22}. Best is trial 11 with value: 0.795620252061887.\n",
            "[I 2024-05-03 01:25:49,188] Trial 36 finished with value: 0.8681438596021518 and parameters: {'k1': 4, 'k2': 9, 'p1': 7, 'p2': 1, 'max_iters': 5, 'pool_size': 24}. Best is trial 11 with value: 0.795620252061887.\n",
            "[I 2024-05-03 01:26:48,447] Trial 37 finished with value: 0.8171115756489304 and parameters: {'k1': 1, 'k2': 5, 'p1': 10, 'p2': 3, 'max_iters': 50, 'pool_size': 28}. Best is trial 11 with value: 0.795620252061887.\n",
            "[I 2024-05-03 01:27:24,152] Trial 38 finished with value: 0.8608901003175673 and parameters: {'k1': 1, 'k2': 11, 'p1': 10, 'p2': 5, 'max_iters': 13, 'pool_size': 48}. Best is trial 11 with value: 0.795620252061887.\n",
            "[I 2024-05-03 01:28:13,417] Trial 39 finished with value: 1.0384975838396302 and parameters: {'k1': 10, 'k2': 11, 'p1': 9, 'p2': 5, 'max_iters': 28, 'pool_size': 13}. Best is trial 11 with value: 0.795620252061887.\n",
            "[I 2024-05-03 01:28:27,578] Trial 40 finished with value: 0.9865439534543937 and parameters: {'k1': 10, 'k2': 10, 'p1': 8, 'p2': 2, 'max_iters': 29, 'pool_size': 11}. Best is trial 11 with value: 0.795620252061887.\n",
            "[I 2024-05-03 01:28:40,471] Trial 41 finished with value: 0.9629351289876038 and parameters: {'k1': 8, 'k2': 7, 'p1': 8, 'p2': 2, 'max_iters': 9, 'pool_size': 9}. Best is trial 11 with value: 0.795620252061887.\n",
            "[I 2024-05-03 01:29:27,096] Trial 42 finished with value: 0.8756274851469388 and parameters: {'k1': 2, 'k2': 5, 'p1': 10, 'p2': 3, 'max_iters': 17, 'pool_size': 29}. Best is trial 11 with value: 0.795620252061887.\n",
            "[I 2024-05-03 01:29:37,718] Trial 43 finished with value: 0.9187320096713483 and parameters: {'k1': 3, 'k2': 4, 'p1': 9, 'p2': 3, 'max_iters': 17, 'pool_size': 28}. Best is trial 11 with value: 0.795620252061887.\n",
            "[I 2024-05-03 01:30:33,681] Trial 45 finished with value: 0.7837175298604938 and parameters: {'k1': 1, 'k2': 5, 'p1': 10, 'p2': 1, 'max_iters': 37, 'pool_size': 36}. Best is trial 45 with value: 0.7837175298604938.\n",
            "[I 2024-05-03 01:31:19,331] Trial 44 finished with value: 0.8172388072830723 and parameters: {'k1': 1, 'k2': 5, 'p1': 9, 'p2': 3, 'max_iters': 50, 'pool_size': 37}. Best is trial 45 with value: 0.7837175298604938.\n",
            "[I 2024-05-03 01:31:22,365] Trial 46 finished with value: 0.8049961673901628 and parameters: {'k1': 1, 'k2': 3, 'p1': 9, 'p2': 1, 'max_iters': 24, 'pool_size': 39}. Best is trial 45 with value: 0.7837175298604938.\n",
            "[I 2024-05-03 01:32:37,665] Trial 47 finished with value: 0.8679509301102427 and parameters: {'k1': 5, 'k2': 3, 'p1': 6, 'p2': 1, 'max_iters': 13, 'pool_size': 36}. Best is trial 45 with value: 0.7837175298604938.\n",
            "[I 2024-05-03 01:33:32,147] Trial 48 finished with value: 1.0018369314389826 and parameters: {'k1': 5, 'k2': 20, 'p1': 6, 'p2': 1, 'max_iters': 39, 'pool_size': 76}. Best is trial 45 with value: 0.7837175298604938.\n",
            "[I 2024-05-03 01:34:39,810] Trial 50 finished with value: 0.8795379101647631 and parameters: {'k1': 3, 'k2': 6, 'p1': 2, 'p2': 8, 'max_iters': 31, 'pool_size': 55}. Best is trial 45 with value: 0.7837175298604938.\n",
            "[I 2024-05-03 01:35:13,324] Trial 49 finished with value: 0.9812687194502127 and parameters: {'k1': 15, 'k2': 6, 'p1': 8, 'p2': 2, 'max_iters': 38, 'pool_size': 54}. Best is trial 45 with value: 0.7837175298604938.\n",
            "[I 2024-05-03 01:35:31,624] Trial 51 finished with value: 0.8287197644225284 and parameters: {'k1': 2, 'k2': 1, 'p1': 10, 'p2': 2, 'max_iters': 22, 'pool_size': 46}. Best is trial 45 with value: 0.7837175298604938.\n",
            "[I 2024-05-03 01:35:56,360] Trial 52 finished with value: 0.8388806884646907 and parameters: {'k1': 2, 'k2': 3, 'p1': 10, 'p2': 1, 'max_iters': 23, 'pool_size': 40}. Best is trial 45 with value: 0.7837175298604938.\n",
            "[I 2024-05-03 01:36:21,085] Trial 53 finished with value: 0.8373997525717637 and parameters: {'k1': 2, 'k2': 3, 'p1': 9, 'p2': 1, 'max_iters': 26, 'pool_size': 40}. Best is trial 45 with value: 0.7837175298604938.\n",
            "[I 2024-05-03 01:37:16,365] Trial 55 finished with value: 0.7810745302475955 and parameters: {'k1': 1, 'k2': 7, 'p1': 7, 'p2': 1, 'max_iters': 15, 'pool_size': 20}. Best is trial 55 with value: 0.7810745302475955.\n",
            "[I 2024-05-03 01:37:17,833] Trial 54 finished with value: 0.783101444412817 and parameters: {'k1': 1, 'k2': 8, 'p1': 9, 'p2': 1, 'max_iters': 20, 'pool_size': 34}. Best is trial 55 with value: 0.7810745302475955.\n",
            "[I 2024-05-03 01:38:17,484] Trial 57 finished with value: 0.865295099993989 and parameters: {'k1': 3, 'k2': 8, 'p1': 8, 'p2': 2, 'max_iters': 20, 'pool_size': 17}. Best is trial 55 with value: 0.7810745302475955.\n",
            "[I 2024-05-03 01:38:18,284] Trial 56 finished with value: 0.8682063988627828 and parameters: {'k1': 3, 'k2': 8, 'p1': 7, 'p2': 2, 'max_iters': 15, 'pool_size': 18}. Best is trial 55 with value: 0.7810745302475955.\n",
            "[I 2024-05-03 01:39:16,219] Trial 59 finished with value: 0.8534774365841693 and parameters: {'k1': 4, 'k2': 7, 'p1': 5, 'p2': 1, 'max_iters': 11, 'pool_size': 21}. Best is trial 55 with value: 0.7810745302475955.\n",
            "[I 2024-05-03 01:39:22,165] Trial 58 finished with value: 0.8590359569068936 and parameters: {'k1': 4, 'k2': 8, 'p1': 7, 'p2': 1, 'max_iters': 15, 'pool_size': 21}. Best is trial 55 with value: 0.7810745302475955.\n",
            "[I 2024-05-03 01:41:14,592] Trial 60 finished with value: 1.0793270762026803 and parameters: {'k1': 19, 'k2': 10, 'p1': 9, 'p2': 1, 'max_iters': 8, 'pool_size': 61}. Best is trial 55 with value: 0.7810745302475955.\n",
            "[I 2024-05-03 01:42:14,568] Trial 62 finished with value: 0.801609384490091 and parameters: {'k1': 1, 'k2': 9, 'p1': 7, 'p2': 1, 'max_iters': 13, 'pool_size': 34}. Best is trial 55 with value: 0.7810745302475955.\n",
            "[I 2024-05-03 01:43:03,103] Trial 63 finished with value: 0.7811079104195404 and parameters: {'k1': 1, 'k2': 7, 'p1': 8, 'p2': 1, 'max_iters': 13, 'pool_size': 32}. Best is trial 55 with value: 0.7810745302475955.\n",
            "[I 2024-05-03 01:43:43,588] Trial 61 finished with value: 1.122591622304845 and parameters: {'k1': 19, 'k2': 10, 'p1': 8, 'p2': 6, 'max_iters': 45, 'pool_size': 32}. Best is trial 55 with value: 0.7810745302475955.\n",
            "[I 2024-05-03 01:43:55,379] Trial 64 finished with value: 0.8008689014066311 and parameters: {'k1': 1, 'k2': 7, 'p1': 8, 'p2': 2, 'max_iters': 12, 'pool_size': 33}. Best is trial 55 with value: 0.7810745302475955.\n",
            "[I 2024-05-03 01:44:40,410] Trial 65 finished with value: 0.7788244700480982 and parameters: {'k1': 1, 'k2': 7, 'p1': 8, 'p2': 1, 'max_iters': 13, 'pool_size': 25}. Best is trial 65 with value: 0.7788244700480982.\n",
            "[I 2024-05-03 01:44:53,443] Trial 66 finished with value: 0.8026392268392534 and parameters: {'k1': 2, 'k2': 6, 'p1': 7, 'p2': 1, 'max_iters': 12, 'pool_size': 25}. Best is trial 65 with value: 0.7788244700480982.\n",
            "[I 2024-05-03 01:45:38,618] Trial 67 finished with value: 0.8462724865448674 and parameters: {'k1': 2, 'k2': 6, 'p1': 8, 'p2': 2, 'max_iters': 16, 'pool_size': 27}. Best is trial 65 with value: 0.7788244700480982.\n",
            "[I 2024-05-03 01:45:49,345] Trial 68 finished with value: 0.8580840246861802 and parameters: {'k1': 2, 'k2': 6, 'p1': 8, 'p2': 2, 'max_iters': 16, 'pool_size': 26}. Best is trial 65 with value: 0.7788244700480982.\n",
            "[I 2024-05-03 01:46:28,247] Trial 69 finished with value: 0.8436079926559512 and parameters: {'k1': 3, 'k2': 4, 'p1': 8, 'p2': 1, 'max_iters': 21, 'pool_size': 44}. Best is trial 65 with value: 0.7788244700480982.\n",
            "[I 2024-05-03 01:47:19,641] Trial 70 finished with value: 0.9034497553893571 and parameters: {'k1': 12, 'k2': 4, 'p1': 8, 'p2': 1, 'max_iters': 21, 'pool_size': 15}. Best is trial 65 with value: 0.7788244700480982.\n",
            "[I 2024-05-03 01:48:16,615] Trial 72 finished with value: 0.7756432464445885 and parameters: {'k1': 1, 'k2': 7, 'p1': 7, 'p2': 1, 'max_iters': 14, 'pool_size': 35}. Best is trial 72 with value: 0.7756432464445885.\n",
            "[I 2024-05-03 01:48:36,994] Trial 71 finished with value: 1.1201601383595157 and parameters: {'k1': 12, 'k2': 18, 'p1': 9, 'p2': 2, 'max_iters': 7, 'pool_size': 31}. Best is trial 72 with value: 0.7756432464445885.\n",
            "[I 2024-05-03 01:49:21,370] Trial 73 finished with value: 0.7942927669291584 and parameters: {'k1': 1, 'k2': 7, 'p1': 6, 'p2': 1, 'max_iters': 14, 'pool_size': 36}. Best is trial 72 with value: 0.7756432464445885.\n",
            "[I 2024-05-03 01:49:32,428] Trial 74 finished with value: 0.7813244124430924 and parameters: {'k1': 1, 'k2': 7, 'p1': 7, 'p2': 1, 'max_iters': 18, 'pool_size': 36}. Best is trial 72 with value: 0.7756432464445885.\n",
            "[I 2024-05-03 01:49:37,058] A new study created in memory with name: no-name-d3317510-0284-4098-947d-7c0f197554b6\n",
            "[I 2024-05-03 01:49:45,061] Trial 0 finished with value: 0.9726664187009819 and parameters: {'n_estimators': 223, 'criterion': 'squared_error', 'max_depth': 14, 'min_samples_leaf': 4, 'max_features': 0.41500000000000004, 'maks_iterasjoner': 18, 'std_terskel': 0.018000000000000002}. Best is trial 0 with value: 0.9726664187009819.\n",
            "[I 2024-05-03 01:49:52,983] Trial 1 finished with value: 0.9683877773459311 and parameters: {'n_estimators': 390, 'criterion': 'poisson', 'max_depth': 28, 'min_samples_leaf': 2, 'max_features': 0.28, 'maks_iterasjoner': 4, 'std_terskel': 0.016}. Best is trial 1 with value: 0.9683877773459311.\n",
            "[I 2024-05-03 01:49:58,201] Trial 2 finished with value: 0.7692483756763502 and parameters: {'n_estimators': 276, 'criterion': 'squared_error', 'max_depth': 23, 'min_samples_leaf': 1, 'max_features': 0.826, 'maks_iterasjoner': 19, 'std_terskel': 0.016}. Best is trial 2 with value: 0.7692483756763502.\n",
            "[I 2024-05-03 01:50:09,197] Trial 3 finished with value: 0.8409631743206217 and parameters: {'n_estimators': 435, 'criterion': 'poisson', 'max_depth': 7, 'min_samples_leaf': 3, 'max_features': 0.641, 'maks_iterasjoner': 2, 'std_terskel': 0.01}. Best is trial 2 with value: 0.7692483756763502.\n",
            "[I 2024-05-03 01:50:16,897] Trial 4 finished with value: 0.9320269404397924 and parameters: {'n_estimators': 500, 'criterion': 'squared_error', 'max_depth': 13, 'min_samples_leaf': 1, 'max_features': 0.249, 'maks_iterasjoner': 16, 'std_terskel': 0.015}. Best is trial 2 with value: 0.7692483756763502.\n",
            "[I 2024-05-03 01:50:20,424] Trial 5 finished with value: 0.7830027877389311 and parameters: {'n_estimators': 237, 'criterion': 'friedman_mse', 'max_depth': 10, 'min_samples_leaf': 1, 'max_features': 0.874, 'maks_iterasjoner': 10, 'std_terskel': 0.03}. Best is trial 2 with value: 0.7692483756763502.\n",
            "[I 2024-05-03 01:50:31,555] Trial 7 finished with value: 0.9649964181274979 and parameters: {'n_estimators': 300, 'criterion': 'squared_error', 'max_depth': 20, 'min_samples_leaf': 5, 'max_features': 0.589, 'maks_iterasjoner': 4, 'std_terskel': 0.015}. Best is trial 2 with value: 0.7692483756763502.\n",
            "[I 2024-05-03 01:50:37,491] Trial 6 finished with value: 0.8484378980569365 and parameters: {'n_estimators': 334, 'criterion': 'friedman_mse', 'max_depth': 2, 'min_samples_leaf': 1, 'max_features': 0.8109999999999999, 'maks_iterasjoner': 18, 'std_terskel': 0.024}. Best is trial 2 with value: 0.7692483756763502.\n",
            "[I 2024-05-03 01:50:48,299] Trial 9 finished with value: 0.895187288792001 and parameters: {'n_estimators': 285, 'criterion': 'poisson', 'max_depth': 21, 'min_samples_leaf': 4, 'max_features': 0.588, 'maks_iterasjoner': 3, 'std_terskel': 0.011}. Best is trial 2 with value: 0.7692483756763502.\n",
            "[I 2024-05-03 01:50:48,356] Trial 8 finished with value: 0.9021435505812998 and parameters: {'n_estimators': 444, 'criterion': 'poisson', 'max_depth': 4, 'min_samples_leaf': 4, 'max_features': 0.5780000000000001, 'maks_iterasjoner': 3, 'std_terskel': 0.024}. Best is trial 2 with value: 0.7692483756763502.\n",
            "[I 2024-05-03 01:50:53,593] Trial 10 finished with value: 1.3294682460131078 and parameters: {'n_estimators': 175, 'criterion': 'poisson', 'max_depth': 1, 'min_samples_leaf': 2, 'max_features': 0.279, 'maks_iterasjoner': 6, 'std_terskel': 0.020999999999999998}. Best is trial 2 with value: 0.7692483756763502.\n",
            "[I 2024-05-03 01:50:54,536] Trial 11 finished with value: 0.7908004404263642 and parameters: {'n_estimators': 112, 'criterion': 'absolute_error', 'max_depth': 30, 'min_samples_leaf': 2, 'max_features': 0.985, 'maks_iterasjoner': 13, 'std_terskel': 0.020999999999999998}. Best is trial 2 with value: 0.7692483756763502.\n",
            "[I 2024-05-03 01:51:00,961] Trial 12 finished with value: 0.7768897750038154 and parameters: {'n_estimators': 139, 'criterion': 'friedman_mse', 'max_depth': 30, 'min_samples_leaf': 1, 'max_features': 0.967, 'maks_iterasjoner': 12, 'std_terskel': 0.028000000000000004}. Best is trial 2 with value: 0.7692483756763502.\n",
            "[I 2024-05-03 01:51:04,011] Trial 13 finished with value: 0.7764208057120834 and parameters: {'n_estimators': 219, 'criterion': 'friedman_mse', 'max_depth': 23, 'min_samples_leaf': 1, 'max_features': 0.846, 'maks_iterasjoner': 9, 'std_terskel': 0.028000000000000004}. Best is trial 2 with value: 0.7692483756763502.\n",
            "[I 2024-05-03 01:51:06,725] Trial 14 finished with value: 0.7726015941935226 and parameters: {'n_estimators': 109, 'criterion': 'friedman_mse', 'max_depth': 24, 'min_samples_leaf': 1, 'max_features': 0.79, 'maks_iterasjoner': 10, 'std_terskel': 0.028999999999999998}. Best is trial 2 with value: 0.7692483756763502.\n",
            "[I 2024-05-03 01:51:13,077] Trial 15 finished with value: 0.8155386708996847 and parameters: {'n_estimators': 219, 'criterion': 'absolute_error', 'max_depth': 23, 'min_samples_leaf': 2, 'max_features': 0.762, 'maks_iterasjoner': 8, 'std_terskel': 0.026000000000000002}. Best is trial 2 with value: 0.7692483756763502.\n",
            "[I 2024-05-03 01:51:13,137] Trial 16 finished with value: 0.8095250407352188 and parameters: {'n_estimators': 161, 'criterion': 'absolute_error', 'max_depth': 25, 'min_samples_leaf': 2, 'max_features': 0.717, 'maks_iterasjoner': 20, 'std_terskel': 0.013000000000000001}. Best is trial 2 with value: 0.7692483756763502.\n",
            "[I 2024-05-03 01:51:25,078] Trial 18 finished with value: 1.2199184494421158 and parameters: {'n_estimators': 343, 'criterion': 'squared_error', 'max_depth': 18, 'min_samples_leaf': 3, 'max_features': 0.122, 'maks_iterasjoner': 14, 'std_terskel': 0.019000000000000003}. Best is trial 2 with value: 0.7692483756763502.\n",
            "[I 2024-05-03 01:51:27,267] Trial 17 finished with value: 0.8999743437502274 and parameters: {'n_estimators': 357, 'criterion': 'squared_error', 'max_depth': 18, 'min_samples_leaf': 3, 'max_features': 0.491, 'maks_iterasjoner': 14, 'std_terskel': 0.019000000000000003}. Best is trial 2 with value: 0.7692483756763502.\n",
            "[I 2024-05-03 01:51:35,057] Trial 19 finished with value: 0.926216414605982 and parameters: {'n_estimators': 266, 'criterion': 'friedman_mse', 'max_depth': 17, 'min_samples_leaf': 3, 'max_features': 0.43500000000000005, 'maks_iterasjoner': 7, 'std_terskel': 0.024}. Best is trial 2 with value: 0.7692483756763502.\n",
            "[I 2024-05-03 01:51:39,010] Trial 21 finished with value: 0.7823753645504387 and parameters: {'n_estimators': 104, 'criterion': 'squared_error', 'max_depth': 26, 'min_samples_leaf': 1, 'max_features': 0.699, 'maks_iterasjoner': 12, 'std_terskel': 0.017}. Best is trial 2 with value: 0.7692483756763502.\n",
            "[I 2024-05-03 01:51:39,280] Trial 20 finished with value: 0.7953488058204267 and parameters: {'n_estimators': 266, 'criterion': 'friedman_mse', 'max_depth': 26, 'min_samples_leaf': 1, 'max_features': 0.6769999999999999, 'maks_iterasjoner': 7, 'std_terskel': 0.023}. Best is trial 2 with value: 0.7692483756763502.\n",
            "[I 2024-05-03 01:51:47,772] Trial 22 finished with value: 0.7834287372958632 and parameters: {'n_estimators': 187, 'criterion': 'friedman_mse', 'max_depth': 23, 'min_samples_leaf': 1, 'max_features': 0.874, 'maks_iterasjoner': 9, 'std_terskel': 0.028000000000000004}. Best is trial 2 with value: 0.7692483756763502.\n",
            "[I 2024-05-03 01:51:48,420] Trial 23 finished with value: 0.7843105117539528 and parameters: {'n_estimators': 189, 'criterion': 'friedman_mse', 'max_depth': 22, 'min_samples_leaf': 1, 'max_features': 0.86, 'maks_iterasjoner': 9, 'std_terskel': 0.03}. Best is trial 2 with value: 0.7692483756763502.\n",
            "[I 2024-05-03 01:51:57,520] Trial 24 finished with value: 0.7716688769064886 and parameters: {'n_estimators': 205, 'criterion': 'friedman_mse', 'max_depth': 22, 'min_samples_leaf': 2, 'max_features': 0.878, 'maks_iterasjoner': 10, 'std_terskel': 0.03}. Best is trial 2 with value: 0.7692483756763502.\n",
            "[I 2024-05-03 01:51:58,910] Trial 25 finished with value: 0.7768669211101702 and parameters: {'n_estimators': 242, 'criterion': 'friedman_mse', 'max_depth': 25, 'min_samples_leaf': 2, 'max_features': 0.928, 'maks_iterasjoner': 11, 'std_terskel': 0.027000000000000003}. Best is trial 2 with value: 0.7692483756763502.\n",
            "[I 2024-05-03 01:52:04,008] Trial 26 finished with value: 0.779936306977607 and parameters: {'n_estimators': 131, 'criterion': 'friedman_mse', 'max_depth': 20, 'min_samples_leaf': 2, 'max_features': 0.9339999999999999, 'maks_iterasjoner': 11, 'std_terskel': 0.027000000000000003}. Best is trial 2 with value: 0.7692483756763502.\n",
            "[I 2024-05-03 01:52:05,134] Trial 27 finished with value: 0.7907050784511489 and parameters: {'n_estimators': 135, 'criterion': 'friedman_mse', 'max_depth': 20, 'min_samples_leaf': 2, 'max_features': 0.769, 'maks_iterasjoner': 16, 'std_terskel': 0.03}. Best is trial 2 with value: 0.7692483756763502.\n",
            "[I 2024-05-03 01:52:11,041] Trial 29 finished with value: 0.771929211853971 and parameters: {'n_estimators': 159, 'criterion': 'squared_error', 'max_depth': 15, 'min_samples_leaf': 2, 'max_features': 0.778, 'maks_iterasjoner': 15, 'std_terskel': 0.013000000000000001}. Best is trial 2 with value: 0.7692483756763502.\n",
            "[I 2024-05-03 01:52:11,448] Trial 28 finished with value: 0.7738168589967006 and parameters: {'n_estimators': 142, 'criterion': 'squared_error', 'max_depth': 28, 'min_samples_leaf': 2, 'max_features': 0.803, 'maks_iterasjoner': 15, 'std_terskel': 0.03}. Best is trial 2 with value: 0.7692483756763502.\n",
            "[I 2024-05-03 01:52:20,225] Trial 30 finished with value: 0.7715702737820371 and parameters: {'n_estimators': 200, 'criterion': 'squared_error', 'max_depth': 14, 'min_samples_leaf': 2, 'max_features': 0.907, 'maks_iterasjoner': 19, 'std_terskel': 0.013000000000000001}. Best is trial 2 with value: 0.7692483756763502.\n",
            "[I 2024-05-03 01:52:22,902] Trial 31 finished with value: 0.9209846245387009 and parameters: {'n_estimators': 315, 'criterion': 'squared_error', 'max_depth': 14, 'min_samples_leaf': 5, 'max_features': 0.733, 'maks_iterasjoner': 20, 'std_terskel': 0.013000000000000001}. Best is trial 2 with value: 0.7692483756763502.\n",
            "[I 2024-05-03 01:52:29,027] Trial 32 finished with value: 0.8013435639180966 and parameters: {'n_estimators': 203, 'criterion': 'squared_error', 'max_depth': 14, 'min_samples_leaf': 3, 'max_features': 0.915, 'maks_iterasjoner': 20, 'std_terskel': 0.013000000000000001}. Best is trial 2 with value: 0.7692483756763502.\n",
            "[I 2024-05-03 01:52:31,195] Trial 33 finished with value: 0.8019583749822597 and parameters: {'n_estimators': 202, 'criterion': 'squared_error', 'max_depth': 11, 'min_samples_leaf': 3, 'max_features': 0.9, 'maks_iterasjoner': 18, 'std_terskel': 0.013000000000000001}. Best is trial 2 with value: 0.7692483756763502.\n",
            "[I 2024-05-03 01:52:38,174] Trial 34 finished with value: 0.7752318462762837 and parameters: {'n_estimators': 258, 'criterion': 'squared_error', 'max_depth': 11, 'min_samples_leaf': 2, 'max_features': 0.997, 'maks_iterasjoner': 18, 'std_terskel': 0.012}. Best is trial 2 with value: 0.7692483756763502.\n",
            "[I 2024-05-03 01:52:41,073] Trial 35 finished with value: 0.7748248260645829 and parameters: {'n_estimators': 255, 'criterion': 'squared_error', 'max_depth': 10, 'min_samples_leaf': 2, 'max_features': 0.998, 'maks_iterasjoner': 17, 'std_terskel': 0.011}. Best is trial 2 with value: 0.7692483756763502.\n",
            "[I 2024-05-03 01:52:45,466] Trial 36 finished with value: 0.8093518174239704 and parameters: {'n_estimators': 166, 'criterion': 'squared_error', 'max_depth': 16, 'min_samples_leaf': 2, 'max_features': 0.675, 'maks_iterasjoner': 17, 'std_terskel': 0.015}. Best is trial 2 with value: 0.7692483756763502.\n",
            "[I 2024-05-03 01:52:47,471] Trial 37 finished with value: 0.8406632432637211 and parameters: {'n_estimators': 165, 'criterion': 'squared_error', 'max_depth': 16, 'min_samples_leaf': 3, 'max_features': 0.663, 'maks_iterasjoner': 19, 'std_terskel': 0.015}. Best is trial 2 with value: 0.7692483756763502.\n",
            "[I 2024-05-03 01:52:54,192] Trial 38 finished with value: 0.7982702592232901 and parameters: {'n_estimators': 234, 'criterion': 'squared_error', 'max_depth': 7, 'min_samples_leaf': 3, 'max_features': 0.839, 'maks_iterasjoner': 19, 'std_terskel': 0.016}. Best is trial 2 with value: 0.7692483756763502.\n",
            "[I 2024-05-03 01:52:57,559] Trial 39 finished with value: 0.7982702592232901 and parameters: {'n_estimators': 234, 'criterion': 'squared_error', 'max_depth': 7, 'min_samples_leaf': 3, 'max_features': 0.829, 'maks_iterasjoner': 16, 'std_terskel': 0.017}. Best is trial 2 with value: 0.7692483756763502.\n",
            "[I 2024-05-03 01:53:11,037] Trial 41 finished with value: 1.025894524331024 and parameters: {'n_estimators': 390, 'criterion': 'poisson', 'max_depth': 13, 'min_samples_leaf': 4, 'max_features': 0.34299999999999997, 'maks_iterasjoner': 15, 'std_terskel': 0.01}. Best is trial 2 with value: 0.7692483756763502.\n",
            "[I 2024-05-03 01:53:16,044] Trial 40 finished with value: 0.8007647851688452 and parameters: {'n_estimators': 403, 'criterion': 'absolute_error', 'max_depth': 13, 'min_samples_leaf': 1, 'max_features': 0.617, 'maks_iterasjoner': 16, 'std_terskel': 0.017}. Best is trial 2 with value: 0.7692483756763502.\n",
            "[I 2024-05-03 01:53:17,232] Trial 42 finished with value: 0.7889625800173125 and parameters: {'n_estimators': 119, 'criterion': 'absolute_error', 'max_depth': 18, 'min_samples_leaf': 1, 'max_features': 0.78, 'maks_iterasjoner': 10, 'std_terskel': 0.014}. Best is trial 2 with value: 0.7692483756763502.\n",
            "[I 2024-05-03 01:53:21,771] Trial 43 finished with value: 0.7773101107317145 and parameters: {'n_estimators': 152, 'criterion': 'friedman_mse', 'max_depth': 19, 'min_samples_leaf': 1, 'max_features': 0.777, 'maks_iterasjoner': 10, 'std_terskel': 0.014}. Best is trial 2 with value: 0.7692483756763502.\n",
            "[I 2024-05-03 01:53:23,454] Trial 44 finished with value: 0.7854217286364771 and parameters: {'n_estimators': 150, 'criterion': 'friedman_mse', 'max_depth': 28, 'min_samples_leaf': 1, 'max_features': 0.889, 'maks_iterasjoner': 12, 'std_terskel': 0.011}. Best is trial 2 with value: 0.7692483756763502.\n",
            "[I 2024-05-03 01:53:30,025] Trial 45 finished with value: 0.7689372029774504 and parameters: {'n_estimators': 187, 'criterion': 'poisson', 'max_depth': 28, 'min_samples_leaf': 1, 'max_features': 0.889, 'maks_iterasjoner': 12, 'std_terskel': 0.011}. Best is trial 45 with value: 0.7689372029774504.\n",
            "[I 2024-05-03 01:53:38,045] Trial 46 finished with value: 0.774488008264621 and parameters: {'n_estimators': 289, 'criterion': 'poisson', 'max_depth': 22, 'min_samples_leaf': 2, 'max_features': 0.956, 'maks_iterasjoner': 19, 'std_terskel': 0.028999999999999998}. Best is trial 45 with value: 0.7689372029774504.\n",
            "[I 2024-05-03 01:53:38,556] Trial 47 finished with value: 0.7730648467140071 and parameters: {'n_estimators': 204, 'criterion': 'poisson', 'max_depth': 27, 'min_samples_leaf': 2, 'max_features': 0.93, 'maks_iterasjoner': 13, 'std_terskel': 0.01}. Best is trial 45 with value: 0.7689372029774504.\n",
            "[I 2024-05-03 01:53:44,890] Trial 48 finished with value: 0.7927861778482529 and parameters: {'n_estimators': 185, 'criterion': 'poisson', 'max_depth': 27, 'min_samples_leaf': 2, 'max_features': 0.739, 'maks_iterasjoner': 17, 'std_terskel': 0.012}. Best is trial 45 with value: 0.7689372029774504.\n",
            "[I 2024-05-03 01:53:45,933] Trial 49 finished with value: 0.8313570531085375 and parameters: {'n_estimators': 185, 'criterion': 'poisson', 'max_depth': 29, 'min_samples_leaf': 1, 'max_features': 0.533, 'maks_iterasjoner': 17, 'std_terskel': 0.012}. Best is trial 45 with value: 0.7689372029774504.\n",
            "[I 2024-05-03 01:53:56,320] Trial 51 finished with value: 0.7667179981858494 and parameters: {'n_estimators': 221, 'criterion': 'poisson', 'max_depth': 15, 'min_samples_leaf': 1, 'max_features': 0.822, 'maks_iterasjoner': 14, 'std_terskel': 0.020999999999999998}. Best is trial 51 with value: 0.7667179981858494.\n",
            "[I 2024-05-03 01:54:03,680] Trial 50 finished with value: 0.7765133999248224 and parameters: {'n_estimators': 476, 'criterion': 'poisson', 'max_depth': 30, 'min_samples_leaf': 1, 'max_features': 0.824, 'maks_iterasjoner': 14, 'std_terskel': 0.012}. Best is trial 51 with value: 0.7667179981858494.\n",
            "[I 2024-05-03 01:54:06,533] Trial 52 finished with value: 0.7678649514624653 and parameters: {'n_estimators': 219, 'criterion': 'poisson', 'max_depth': 12, 'min_samples_leaf': 1, 'max_features': 0.833, 'maks_iterasjoner': 13, 'std_terskel': 0.020999999999999998}. Best is trial 51 with value: 0.7667179981858494.\n",
            "[I 2024-05-03 01:54:12,768] Trial 53 finished with value: 0.7703871058079674 and parameters: {'n_estimators': 220, 'criterion': 'poisson', 'max_depth': 15, 'min_samples_leaf': 1, 'max_features': 0.889, 'maks_iterasjoner': 12, 'std_terskel': 0.020999999999999998}. Best is trial 51 with value: 0.7667179981858494.\n",
            "[I 2024-05-03 01:54:15,005] Trial 54 finished with value: 0.7708822648556573 and parameters: {'n_estimators': 221, 'criterion': 'poisson', 'max_depth': 12, 'min_samples_leaf': 1, 'max_features': 0.875, 'maks_iterasjoner': 13, 'std_terskel': 0.022}. Best is trial 51 with value: 0.7667179981858494.\n",
            "[I 2024-05-03 01:54:24,653] Trial 55 finished with value: 0.7650449770405988 and parameters: {'n_estimators': 279, 'criterion': 'poisson', 'max_depth': 12, 'min_samples_leaf': 1, 'max_features': 0.947, 'maks_iterasjoner': 13, 'std_terskel': 0.020999999999999998}. Best is trial 55 with value: 0.7650449770405988.\n",
            "[I 2024-05-03 01:54:26,685] Trial 56 finished with value: 0.7652292187698192 and parameters: {'n_estimators': 276, 'criterion': 'poisson', 'max_depth': 12, 'min_samples_leaf': 1, 'max_features': 0.951, 'maks_iterasjoner': 13, 'std_terskel': 0.020999999999999998}. Best is trial 55 with value: 0.7650449770405988.\n",
            "[I 2024-05-03 01:54:38,036] Trial 57 finished with value: 0.7723494470398936 and parameters: {'n_estimators': 282, 'criterion': 'poisson', 'max_depth': 9, 'min_samples_leaf': 1, 'max_features': 0.847, 'maks_iterasjoner': 12, 'std_terskel': 0.02}. Best is trial 55 with value: 0.7650449770405988.\n",
            "[I 2024-05-03 01:54:40,896] Trial 58 finished with value: 0.769173705864539 and parameters: {'n_estimators': 311, 'criterion': 'poisson', 'max_depth': 8, 'min_samples_leaf': 1, 'max_features': 0.959, 'maks_iterasjoner': 1, 'std_terskel': 0.02}. Best is trial 55 with value: 0.7650449770405988.\n",
            "[I 2024-05-03 01:54:51,248] Trial 59 finished with value: 0.7699096929333207 and parameters: {'n_estimators': 316, 'criterion': 'poisson', 'max_depth': 9, 'min_samples_leaf': 1, 'max_features': 0.949, 'maks_iterasjoner': 14, 'std_terskel': 0.023}. Best is trial 55 with value: 0.7650449770405988.\n",
            "[I 2024-05-03 01:54:53,762] Trial 60 finished with value: 0.7743258735414272 and parameters: {'n_estimators': 316, 'criterion': 'poisson', 'max_depth': 5, 'min_samples_leaf': 1, 'max_features': 0.95, 'maks_iterasjoner': 2, 'std_terskel': 0.023}. Best is trial 55 with value: 0.7650449770405988.\n",
            "[I 2024-05-03 01:55:05,907] Trial 61 finished with value: 0.7726973932261328 and parameters: {'n_estimators': 360, 'criterion': 'poisson', 'max_depth': 6, 'min_samples_leaf': 1, 'max_features': 0.956, 'maks_iterasjoner': 1, 'std_terskel': 0.019000000000000003}. Best is trial 55 with value: 0.7650449770405988.\n",
            "[I 2024-05-03 01:55:06,310] Trial 62 finished with value: 0.77091572789255 and parameters: {'n_estimators': 299, 'criterion': 'poisson', 'max_depth': 9, 'min_samples_leaf': 1, 'max_features': 0.977, 'maks_iterasjoner': 5, 'std_terskel': 0.019000000000000003}. Best is trial 55 with value: 0.7650449770405988.\n",
            "[I 2024-05-03 01:55:15,101] Trial 64 finished with value: 0.8452646129420651 and parameters: {'n_estimators': 245, 'criterion': 'poisson', 'max_depth': 2, 'min_samples_leaf': 1, 'max_features': 0.8109999999999999, 'maks_iterasjoner': 13, 'std_terskel': 0.02}. Best is trial 55 with value: 0.7650449770405988.\n",
            "[I 2024-05-03 01:55:18,381] Trial 63 finished with value: 0.7711894521486659 and parameters: {'n_estimators': 281, 'criterion': 'poisson', 'max_depth': 9, 'min_samples_leaf': 1, 'max_features': 0.977, 'maks_iterasjoner': 13, 'std_terskel': 0.020999999999999998}. Best is trial 55 with value: 0.7650449770405988.\n",
            "[I 2024-05-03 01:55:26,701] Trial 65 finished with value: 0.7709539586054612 and parameters: {'n_estimators': 273, 'criterion': 'poisson', 'max_depth': 12, 'min_samples_leaf': 1, 'max_features': 0.852, 'maks_iterasjoner': 11, 'std_terskel': 0.022}. Best is trial 55 with value: 0.7650449770405988.\n",
            "[I 2024-05-03 01:55:30,122] Trial 66 finished with value: 0.7710578783185897 and parameters: {'n_estimators': 269, 'criterion': 'poisson', 'max_depth': 17, 'min_samples_leaf': 1, 'max_features': 0.907, 'maks_iterasjoner': 14, 'std_terskel': 0.025}. Best is trial 55 with value: 0.7650449770405988.\n",
            "[I 2024-05-03 01:55:41,162] Trial 67 finished with value: 0.7704074066978487 and parameters: {'n_estimators': 329, 'criterion': 'poisson', 'max_depth': 12, 'min_samples_leaf': 1, 'max_features': 0.916, 'maks_iterasjoner': 8, 'std_terskel': 0.025}. Best is trial 55 with value: 0.7650449770405988.\n",
            "[I 2024-05-03 01:55:44,175] Trial 68 finished with value: 0.7639732604249826 and parameters: {'n_estimators': 335, 'criterion': 'poisson', 'max_depth': 12, 'min_samples_leaf': 1, 'max_features': 0.924, 'maks_iterasjoner': 8, 'std_terskel': 0.022}. Best is trial 68 with value: 0.7639732604249826.\n",
            "[I 2024-05-03 01:55:52,638] Trial 69 finished with value: 0.9764132315217855 and parameters: {'n_estimators': 302, 'criterion': 'poisson', 'max_depth': 8, 'min_samples_leaf': 1, 'max_features': 0.135, 'maks_iterasjoner': 11, 'std_terskel': 0.018000000000000002}. Best is trial 68 with value: 0.7639732604249826.\n",
            "[I 2024-05-03 01:55:57,431] Trial 70 finished with value: 0.9725138068322046 and parameters: {'n_estimators': 362, 'criterion': 'poisson', 'max_depth': 11, 'min_samples_leaf': 1, 'max_features': 0.10300000000000001, 'maks_iterasjoner': 5, 'std_terskel': 0.020999999999999998}. Best is trial 68 with value: 0.7639732604249826.\n",
            "[I 2024-05-03 01:56:08,452] Trial 71 finished with value: 0.7650308124368581 and parameters: {'n_estimators': 357, 'criterion': 'poisson', 'max_depth': 11, 'min_samples_leaf': 1, 'max_features': 0.9339999999999999, 'maks_iterasjoner': 4, 'std_terskel': 0.022}. Best is trial 68 with value: 0.7639732604249826.\n",
            "[I 2024-05-03 01:56:12,164] Trial 72 finished with value: 0.764868532404335 and parameters: {'n_estimators': 335, 'criterion': 'poisson', 'max_depth': 10, 'min_samples_leaf': 1, 'max_features': 0.93, 'maks_iterasjoner': 15, 'std_terskel': 0.022}. Best is trial 68 with value: 0.7639732604249826.\n",
            "[I 2024-05-03 01:56:24,241] Trial 74 finished with value: 0.8932777989509344 and parameters: {'n_estimators': 341, 'criterion': 'poisson', 'max_depth': 10, 'min_samples_leaf': 5, 'max_features': 0.87, 'maks_iterasjoner': 14, 'std_terskel': 0.022}. Best is trial 68 with value: 0.7639732604249826.\n",
            "[I 2024-05-03 01:56:24,472] Trial 73 finished with value: 0.7639623308324679 and parameters: {'n_estimators': 382, 'criterion': 'poisson', 'max_depth': 13, 'min_samples_leaf': 1, 'max_features': 0.9339999999999999, 'maks_iterasjoner': 3, 'std_terskel': 0.022}. Best is trial 73 with value: 0.7639623308324679.\n",
            "[I 2024-05-03 01:56:25,467] A new study created in memory with name: no-name-601062aa-6a75-49fd-8728-16bdf2034c43\n",
            "[I 2024-05-03 01:56:26,460] Trial 0 finished with value: 1.212058979133832 and parameters: {'k': 77, 'graf_vektet_harmonic': True, 'initiell_respons': 'domain_median', 'alpha': 0.061, 'maks_iterasjoner_harmonic': 17, 'maks_iterasjoner_heat': 95}. Best is trial 0 with value: 1.212058979133832.\n",
            "[I 2024-05-03 01:56:27,518] Trial 1 finished with value: 1.9920828215332747 and parameters: {'k': 57, 'graf_vektet_harmonic': True, 'initiell_respons': 'domain_mean', 'alpha': 0.983, 'maks_iterasjoner_harmonic': 24, 'maks_iterasjoner_heat': 77}. Best is trial 0 with value: 1.212058979133832.\n",
            "[I 2024-05-03 01:56:28,520] Trial 2 finished with value: 1.2467050555725696 and parameters: {'k': 51, 'graf_vektet_harmonic': True, 'initiell_respons': 'domain_median', 'alpha': 0.23500000000000001, 'maks_iterasjoner_harmonic': 83, 'maks_iterasjoner_heat': 67}. Best is trial 0 with value: 1.212058979133832.\n",
            "[I 2024-05-03 01:56:29,461] Trial 3 finished with value: 1.3179046625988338 and parameters: {'k': 53, 'graf_vektet_harmonic': False, 'initiell_respons': 'domain_median', 'alpha': 0.731, 'maks_iterasjoner_harmonic': 71, 'maks_iterasjoner_heat': 22}. Best is trial 0 with value: 1.212058979133832.\n",
            "[I 2024-05-03 01:56:29,948] Trial 4 finished with value: 1.273282275446625 and parameters: {'k': 85, 'graf_vektet_harmonic': False, 'initiell_respons': 'domain_median', 'alpha': 0.247, 'maks_iterasjoner_harmonic': 49, 'maks_iterasjoner_heat': 7}. Best is trial 0 with value: 1.212058979133832.\n",
            "[I 2024-05-03 01:56:30,388] Trial 5 finished with value: 1.952909070757347 and parameters: {'k': 54, 'graf_vektet_harmonic': True, 'initiell_respons': 'domain_median', 'alpha': 0.928, 'maks_iterasjoner_harmonic': 70, 'maks_iterasjoner_heat': 78}. Best is trial 0 with value: 1.212058979133832.\n",
            "[I 2024-05-03 01:56:30,839] Trial 6 finished with value: 1.5200100117611604 and parameters: {'k': 66, 'graf_vektet_harmonic': True, 'initiell_respons': 'domain_mean', 'alpha': 0.518, 'maks_iterasjoner_harmonic': 30, 'maks_iterasjoner_heat': 32}. Best is trial 0 with value: 1.212058979133832.\n",
            "[I 2024-05-03 01:56:31,293] Trial 7 finished with value: 1.2455770906551502 and parameters: {'k': 85, 'graf_vektet_harmonic': False, 'initiell_respons': 'domain_mean', 'alpha': 0.321, 'maks_iterasjoner_harmonic': 44, 'maks_iterasjoner_heat': 16}. Best is trial 0 with value: 1.212058979133832.\n",
            "[I 2024-05-03 01:56:31,759] Trial 8 finished with value: 1.965772362362874 and parameters: {'k': 70, 'graf_vektet_harmonic': True, 'initiell_respons': 'domain_mean', 'alpha': 0.9530000000000001, 'maks_iterasjoner_harmonic': 92, 'maks_iterasjoner_heat': 74}. Best is trial 0 with value: 1.212058979133832.\n",
            "[I 2024-05-03 01:56:32,213] Trial 9 finished with value: 1.289870294040244 and parameters: {'k': 78, 'graf_vektet_harmonic': False, 'initiell_respons': 'domain_median', 'alpha': 0.381, 'maks_iterasjoner_harmonic': 37, 'maks_iterasjoner_heat': 11}. Best is trial 0 with value: 1.212058979133832.\n",
            "[I 2024-05-03 01:56:32,685] Trial 10 finished with value: 1.2397893085859164 and parameters: {'k': 94, 'graf_vektet_harmonic': True, 'initiell_respons': 'domain_median', 'alpha': 0.016, 'maks_iterasjoner_harmonic': 1, 'maks_iterasjoner_heat': 100}. Best is trial 0 with value: 1.212058979133832.\n",
            "[I 2024-05-03 01:56:33,156] Trial 11 finished with value: 1.2571498406900832 and parameters: {'k': 97, 'graf_vektet_harmonic': True, 'initiell_respons': 'domain_median', 'alpha': 0.001, 'maks_iterasjoner_harmonic': 3, 'maks_iterasjoner_heat': 100}. Best is trial 0 with value: 1.212058979133832.\n",
            "[I 2024-05-03 01:56:33,620] Trial 12 finished with value: 1.2484429041368297 and parameters: {'k': 96, 'graf_vektet_harmonic': True, 'initiell_respons': 'domain_median', 'alpha': 0.008, 'maks_iterasjoner_harmonic': 1, 'maks_iterasjoner_heat': 98}. Best is trial 0 with value: 1.212058979133832.\n",
            "[I 2024-05-03 01:56:34,104] Trial 13 finished with value: 1.2010918783580102 and parameters: {'k': 85, 'graf_vektet_harmonic': True, 'initiell_respons': 'domain_median', 'alpha': 0.131, 'maks_iterasjoner_harmonic': 16, 'maks_iterasjoner_heat': 50}. Best is trial 13 with value: 1.2010918783580102.\n",
            "[I 2024-05-03 01:56:34,568] Trial 14 finished with value: 1.2096043680897455 and parameters: {'k': 79, 'graf_vektet_harmonic': True, 'initiell_respons': 'domain_median', 'alpha': 0.169, 'maks_iterasjoner_harmonic': 19, 'maks_iterasjoner_heat': 46}. Best is trial 13 with value: 1.2010918783580102.\n",
            "[I 2024-05-03 01:56:35,061] Trial 15 finished with value: 1.5081695251395228 and parameters: {'k': 86, 'graf_vektet_harmonic': True, 'initiell_respons': 'domain_median', 'alpha': 0.498, 'maks_iterasjoner_harmonic': 17, 'maks_iterasjoner_heat': 46}. Best is trial 13 with value: 1.2010918783580102.\n",
            "[I 2024-05-03 01:56:35,533] Trial 16 finished with value: 1.2093749095140365 and parameters: {'k': 65, 'graf_vektet_harmonic': True, 'initiell_respons': 'domain_median', 'alpha': 0.165, 'maks_iterasjoner_harmonic': 60, 'maks_iterasjoner_heat': 52}. Best is trial 13 with value: 1.2010918783580102.\n",
            "[I 2024-05-03 01:56:36,009] Trial 17 finished with value: 1.2026309230445256 and parameters: {'k': 61, 'graf_vektet_harmonic': True, 'initiell_respons': 'domain_median', 'alpha': 0.139, 'maks_iterasjoner_harmonic': 64, 'maks_iterasjoner_heat': 60}. Best is trial 13 with value: 1.2010918783580102.\n",
            "[I 2024-05-03 01:56:36,509] Trial 18 finished with value: 1.2554312363500817 and parameters: {'k': 60, 'graf_vektet_harmonic': False, 'initiell_respons': 'domain_mean', 'alpha': 0.496, 'maks_iterasjoner_harmonic': 62, 'maks_iterasjoner_heat': 59}. Best is trial 13 with value: 1.2010918783580102.\n",
            "[I 2024-05-03 01:56:37,010] Trial 19 finished with value: 1.696630354559546 and parameters: {'k': 72, 'graf_vektet_harmonic': True, 'initiell_respons': 'domain_median', 'alpha': 0.664, 'maks_iterasjoner_harmonic': 96, 'maks_iterasjoner_heat': 32}. Best is trial 13 with value: 1.2010918783580102.\n",
            "[I 2024-05-03 01:56:37,487] Trial 20 finished with value: 1.2008548708358548 and parameters: {'k': 89, 'graf_vektet_harmonic': True, 'initiell_respons': 'domain_median', 'alpha': 0.125, 'maks_iterasjoner_harmonic': 56, 'maks_iterasjoner_heat': 35}. Best is trial 20 with value: 1.2008548708358548.\n",
            "[I 2024-05-03 01:56:37,991] Trial 21 finished with value: 1.2016012125841031 and parameters: {'k': 90, 'graf_vektet_harmonic': True, 'initiell_respons': 'domain_median', 'alpha': 0.133, 'maks_iterasjoner_harmonic': 59, 'maks_iterasjoner_heat': 31}. Best is trial 20 with value: 1.2008548708358548.\n",
            "[I 2024-05-03 01:56:38,454] Trial 22 finished with value: 1.311836108066509 and parameters: {'k': 90, 'graf_vektet_harmonic': True, 'initiell_respons': 'domain_median', 'alpha': 0.313, 'maks_iterasjoner_harmonic': 53, 'maks_iterasjoner_heat': 36}. Best is trial 20 with value: 1.2008548708358548.\n",
            "[I 2024-05-03 01:56:38,923] Trial 23 finished with value: 1.2004161682789516 and parameters: {'k': 89, 'graf_vektet_harmonic': True, 'initiell_respons': 'domain_median', 'alpha': 0.112, 'maks_iterasjoner_harmonic': 40, 'maks_iterasjoner_heat': 26}. Best is trial 23 with value: 1.2004161682789516.\n",
            "[I 2024-05-03 01:56:39,501] Trial 24 finished with value: 1.3806155654624217 and parameters: {'k': 82, 'graf_vektet_harmonic': True, 'initiell_respons': 'domain_median', 'alpha': 0.38, 'maks_iterasjoner_harmonic': 37, 'maks_iterasjoner_heat': 22}. Best is trial 23 with value: 1.2004161682789516.\n",
            "[I 2024-05-03 01:56:40,388] Trial 25 finished with value: 1.2009986309316316 and parameters: {'k': 91, 'graf_vektet_harmonic': True, 'initiell_respons': 'domain_median', 'alpha': 0.10300000000000001, 'maks_iterasjoner_harmonic': 42, 'maks_iterasjoner_heat': 40}. Best is trial 23 with value: 1.2004161682789516.\n",
            "[I 2024-05-03 01:56:41,535] Trial 26 finished with value: 1.2403613576861023 and parameters: {'k': 91, 'graf_vektet_harmonic': False, 'initiell_respons': 'domain_mean', 'alpha': 0.259, 'maks_iterasjoner_harmonic': 40, 'maks_iterasjoner_heat': 2}. Best is trial 23 with value: 1.2004161682789516.\n",
            "[I 2024-05-03 01:56:42,612] Trial 27 finished with value: 1.204120939576459 and parameters: {'k': 99, 'graf_vektet_harmonic': True, 'initiell_respons': 'domain_median', 'alpha': 0.085, 'maks_iterasjoner_harmonic': 48, 'maks_iterasjoner_heat': 37}. Best is trial 23 with value: 1.2004161682789516.\n",
            "[I 2024-05-03 01:56:43,293] Trial 28 finished with value: 1.422886982304682 and parameters: {'k': 94, 'graf_vektet_harmonic': True, 'initiell_respons': 'domain_median', 'alpha': 0.419, 'maks_iterasjoner_harmonic': 33, 'maks_iterasjoner_heat': 23}. Best is trial 23 with value: 1.2004161682789516.\n",
            "[I 2024-05-03 01:56:43,766] Trial 29 finished with value: 1.2045087378550028 and parameters: {'k': 81, 'graf_vektet_harmonic': True, 'initiell_respons': 'domain_median', 'alpha': 0.084, 'maks_iterasjoner_harmonic': 78, 'maks_iterasjoner_heat': 41}. Best is trial 23 with value: 1.2004161682789516.\n",
            "[I 2024-05-03 01:56:44,251] Trial 30 finished with value: 1.2338319681726968 and parameters: {'k': 74, 'graf_vektet_harmonic': True, 'initiell_respons': 'domain_median', 'alpha': 0.215, 'maks_iterasjoner_harmonic': 56, 'maks_iterasjoner_heat': 26}. Best is trial 23 with value: 1.2004161682789516.\n",
            "[I 2024-05-03 01:56:44,753] Trial 31 finished with value: 1.2052718644819713 and parameters: {'k': 88, 'graf_vektet_harmonic': True, 'initiell_respons': 'domain_median', 'alpha': 0.082, 'maks_iterasjoner_harmonic': 10, 'maks_iterasjoner_heat': 52}. Best is trial 23 with value: 1.2004161682789516.\n",
            "[I 2024-05-03 01:56:45,252] Trial 32 finished with value: 1.2180818016647823 and parameters: {'k': 92, 'graf_vektet_harmonic': True, 'initiell_respons': 'domain_median', 'alpha': 0.187, 'maks_iterasjoner_harmonic': 30, 'maks_iterasjoner_heat': 43}. Best is trial 23 with value: 1.2004161682789516.\n",
            "[I 2024-05-03 01:56:45,730] Trial 33 finished with value: 1.2010734091903472 and parameters: {'k': 84, 'graf_vektet_harmonic': True, 'initiell_respons': 'domain_median', 'alpha': 0.098, 'maks_iterasjoner_harmonic': 25, 'maks_iterasjoner_heat': 56}. Best is trial 23 with value: 1.2004161682789516.\n",
            "[I 2024-05-03 01:56:46,220] Trial 34 finished with value: 1.214137331537646 and parameters: {'k': 82, 'graf_vektet_harmonic': True, 'initiell_respons': 'domain_median', 'alpha': 0.057, 'maks_iterasjoner_harmonic': 25, 'maks_iterasjoner_heat': 87}. Best is trial 23 with value: 1.2004161682789516.\n",
            "[I 2024-05-03 01:56:46,704] Trial 35 finished with value: 1.2749473853675057 and parameters: {'k': 88, 'graf_vektet_harmonic': True, 'initiell_respons': 'domain_median', 'alpha': 0.272, 'maks_iterasjoner_harmonic': 44, 'maks_iterasjoner_heat': 59}. Best is trial 23 with value: 1.2004161682789516.\n",
            "[I 2024-05-03 01:56:47,217] Trial 36 finished with value: 1.3119881922022836 and parameters: {'k': 94, 'graf_vektet_harmonic': False, 'initiell_respons': 'domain_mean', 'alpha': 0.665, 'maks_iterasjoner_harmonic': 27, 'maks_iterasjoner_heat': 16}. Best is trial 23 with value: 1.2004161682789516.\n",
            "[I 2024-05-03 01:56:47,702] Trial 37 finished with value: 1.206069823013556 and parameters: {'k': 88, 'graf_vektet_harmonic': True, 'initiell_respons': 'domain_median', 'alpha': 0.078, 'maks_iterasjoner_harmonic': 50, 'maks_iterasjoner_heat': 38}. Best is trial 23 with value: 1.2004161682789516.\n",
            "[I 2024-05-03 01:56:48,214] Trial 38 finished with value: 1.8442964181007129 and parameters: {'k': 83, 'graf_vektet_harmonic': True, 'initiell_respons': 'domain_median', 'alpha': 0.811, 'maks_iterasjoner_harmonic': 68, 'maks_iterasjoner_heat': 64}. Best is trial 23 with value: 1.2004161682789516.\n",
            "[I 2024-05-03 01:56:48,695] Trial 39 finished with value: 1.2300522511548768 and parameters: {'k': 75, 'graf_vektet_harmonic': False, 'initiell_respons': 'domain_mean', 'alpha': 0.215, 'maks_iterasjoner_harmonic': 44, 'maks_iterasjoner_heat': 28}. Best is trial 23 with value: 1.2004161682789516.\n",
            "[I 2024-05-03 01:56:49,172] Trial 40 finished with value: 1.2893085068791295 and parameters: {'k': 99, 'graf_vektet_harmonic': True, 'initiell_respons': 'domain_median', 'alpha': 0.289, 'maks_iterasjoner_harmonic': 36, 'maks_iterasjoner_heat': 71}. Best is trial 23 with value: 1.2004161682789516.\n",
            "[I 2024-05-03 01:56:49,676] Trial 41 finished with value: 1.205828535669566 and parameters: {'k': 85, 'graf_vektet_harmonic': True, 'initiell_respons': 'domain_median', 'alpha': 0.155, 'maks_iterasjoner_harmonic': 20, 'maks_iterasjoner_heat': 49}. Best is trial 23 with value: 1.2004161682789516.\n",
            "[I 2024-05-03 01:56:50,155] Trial 42 finished with value: 1.1995066282351057 and parameters: {'k': 86, 'graf_vektet_harmonic': True, 'initiell_respons': 'domain_median', 'alpha': 0.11800000000000001, 'maks_iterasjoner_harmonic': 13, 'maks_iterasjoner_heat': 17}. Best is trial 42 with value: 1.1995066282351057.\n",
            "[I 2024-05-03 01:56:50,631] Trial 43 finished with value: 1.2206429619087389 and parameters: {'k': 92, 'graf_vektet_harmonic': True, 'initiell_respons': 'domain_median', 'alpha': 0.046, 'maks_iterasjoner_harmonic': 10, 'maks_iterasjoner_heat': 17}. Best is trial 42 with value: 1.1995066282351057.\n",
            "[I 2024-05-03 01:56:51,103] Trial 44 finished with value: 1.2002791582408086 and parameters: {'k': 80, 'graf_vektet_harmonic': True, 'initiell_respons': 'domain_median', 'alpha': 0.106, 'maks_iterasjoner_harmonic': 31, 'maks_iterasjoner_heat': 11}. Best is trial 42 with value: 1.1995066282351057.\n",
            "[I 2024-05-03 01:56:51,602] Trial 45 finished with value: 1.2386525987575356 and parameters: {'k': 79, 'graf_vektet_harmonic': True, 'initiell_respons': 'domain_median', 'alpha': 0.221, 'maks_iterasjoner_harmonic': 40, 'maks_iterasjoner_heat': 9}. Best is trial 42 with value: 1.1995066282351057.\n",
            "[I 2024-05-03 01:56:52,089] Trial 46 finished with value: 1.3786800511242023 and parameters: {'k': 87, 'graf_vektet_harmonic': True, 'initiell_respons': 'domain_median', 'alpha': 0.357, 'maks_iterasjoner_harmonic': 11, 'maks_iterasjoner_heat': 3}. Best is trial 42 with value: 1.1995066282351057.\n",
            "[I 2024-05-03 01:56:52,602] Trial 47 finished with value: 1.222167779343515 and parameters: {'k': 49, 'graf_vektet_harmonic': False, 'initiell_respons': 'domain_mean', 'alpha': 0.033, 'maks_iterasjoner_harmonic': 46, 'maks_iterasjoner_heat': 13}. Best is trial 42 with value: 1.1995066282351057.\n",
            "[I 2024-05-03 01:56:53,267] Trial 48 finished with value: 1.220679073283694 and parameters: {'k': 77, 'graf_vektet_harmonic': True, 'initiell_respons': 'domain_median', 'alpha': 0.191, 'maks_iterasjoner_harmonic': 76, 'maks_iterasjoner_heat': 19}. Best is trial 42 with value: 1.1995066282351057.\n",
            "[I 2024-05-03 01:56:54,120] Trial 49 finished with value: 1.2004652827372637 and parameters: {'k': 80, 'graf_vektet_harmonic': True, 'initiell_respons': 'domain_median', 'alpha': 0.12, 'maks_iterasjoner_harmonic': 55, 'maks_iterasjoner_heat': 27}. Best is trial 42 with value: 1.1995066282351057.\n",
            "[I 2024-05-03 01:56:55,063] Trial 50 finished with value: 1.2529515354926515 and parameters: {'k': 80, 'graf_vektet_harmonic': True, 'initiell_respons': 'domain_median', 'alpha': 0.24, 'maks_iterasjoner_harmonic': 54, 'maks_iterasjoner_heat': 7}. Best is trial 42 with value: 1.1995066282351057.\n",
            "[I 2024-05-03 01:56:56,127] Trial 51 finished with value: 1.2008077448476513 and parameters: {'k': 77, 'graf_vektet_harmonic': True, 'initiell_respons': 'domain_median', 'alpha': 0.127, 'maks_iterasjoner_harmonic': 32, 'maks_iterasjoner_heat': 27}. Best is trial 42 with value: 1.1995066282351057.\n",
            "[I 2024-05-03 01:56:56,949] Trial 52 finished with value: 1.201456286135665 and parameters: {'k': 77, 'graf_vektet_harmonic': True, 'initiell_respons': 'domain_median', 'alpha': 0.136, 'maks_iterasjoner_harmonic': 29, 'maks_iterasjoner_heat': 27}. Best is trial 42 with value: 1.1995066282351057.\n",
            "[I 2024-05-03 01:56:57,416] Trial 53 finished with value: 1.2435513014550215 and parameters: {'k': 72, 'graf_vektet_harmonic': True, 'initiell_respons': 'domain_median', 'alpha': 0.015, 'maks_iterasjoner_harmonic': 22, 'maks_iterasjoner_heat': 12}. Best is trial 42 with value: 1.1995066282351057.\n",
            "[I 2024-05-03 01:56:57,930] Trial 54 finished with value: 1.200572542268089 and parameters: {'k': 75, 'graf_vektet_harmonic': True, 'initiell_respons': 'domain_median', 'alpha': 0.11800000000000001, 'maks_iterasjoner_harmonic': 66, 'maks_iterasjoner_heat': 22}. Best is trial 42 with value: 1.1995066282351057.\n",
            "[I 2024-05-03 01:56:58,399] Trial 55 finished with value: 1.2151791995035075 and parameters: {'k': 67, 'graf_vektet_harmonic': True, 'initiell_respons': 'domain_median', 'alpha': 0.181, 'maks_iterasjoner_harmonic': 33, 'maks_iterasjoner_heat': 20}. Best is trial 42 with value: 1.1995066282351057.\n",
            "[I 2024-05-03 01:56:58,890] Trial 56 finished with value: 1.2007209710697921 and parameters: {'k': 75, 'graf_vektet_harmonic': True, 'initiell_respons': 'domain_median', 'alpha': 0.123, 'maks_iterasjoner_harmonic': 67, 'maks_iterasjoner_heat': 24}. Best is trial 42 with value: 1.1995066282351057.\n",
            "[I 2024-05-03 01:56:59,391] Trial 57 finished with value: 1.4591628017233327 and parameters: {'k': 75, 'graf_vektet_harmonic': True, 'initiell_respons': 'domain_median', 'alpha': 0.451, 'maks_iterasjoner_harmonic': 65, 'maks_iterasjoner_heat': 24}. Best is trial 42 with value: 1.1995066282351057.\n",
            "[I 2024-05-03 01:56:59,930] Trial 58 finished with value: 1.2240249976987685 and parameters: {'k': 69, 'graf_vektet_harmonic': False, 'initiell_respons': 'domain_mean', 'alpha': 0.042, 'maks_iterasjoner_harmonic': 69, 'maks_iterasjoner_heat': 15}. Best is trial 42 with value: 1.1995066282351057.\n",
            "[I 2024-05-03 01:57:00,413] Trial 59 finished with value: 1.258159816495313 and parameters: {'k': 72, 'graf_vektet_harmonic': True, 'initiell_respons': 'domain_median', 'alpha': 0.0, 'maks_iterasjoner_harmonic': 85, 'maks_iterasjoner_heat': 5}. Best is trial 42 with value: 1.1995066282351057.\n",
            "[I 2024-05-03 01:57:00,920] Trial 60 finished with value: 1.3337057451848486 and parameters: {'k': 80, 'graf_vektet_harmonic': True, 'initiell_respons': 'domain_median', 'alpha': 0.335, 'maks_iterasjoner_harmonic': 76, 'maks_iterasjoner_heat': 32}. Best is trial 42 with value: 1.1995066282351057.\n",
            "[I 2024-05-03 01:57:01,397] Trial 61 finished with value: 1.2027930684543806 and parameters: {'k': 77, 'graf_vektet_harmonic': True, 'initiell_respons': 'domain_median', 'alpha': 0.14, 'maks_iterasjoner_harmonic': 58, 'maks_iterasjoner_heat': 28}. Best is trial 42 with value: 1.1995066282351057.\n",
            "[I 2024-05-03 01:57:01,890] Trial 62 finished with value: 1.2003369026660715 and parameters: {'k': 70, 'graf_vektet_harmonic': True, 'initiell_respons': 'domain_median', 'alpha': 0.111, 'maks_iterasjoner_harmonic': 14, 'maks_iterasjoner_heat': 20}. Best is trial 42 with value: 1.1995066282351057.\n",
            "[I 2024-05-03 01:57:02,354] Trial 63 finished with value: 1.1995441765144328 and parameters: {'k': 70, 'graf_vektet_harmonic': True, 'initiell_respons': 'domain_median', 'alpha': 0.111, 'maks_iterasjoner_harmonic': 15, 'maks_iterasjoner_heat': 11}. Best is trial 42 with value: 1.1995066282351057.\n",
            "[I 2024-05-03 01:57:02,826] Trial 64 finished with value: 1.212633433201165 and parameters: {'k': 65, 'graf_vektet_harmonic': True, 'initiell_respons': 'domain_median', 'alpha': 0.061, 'maks_iterasjoner_harmonic': 7, 'maks_iterasjoner_heat': 10}. Best is trial 42 with value: 1.1995066282351057.\n",
            "[I 2024-05-03 01:57:03,308] Trial 65 finished with value: 1.212096377104724 and parameters: {'k': 70, 'graf_vektet_harmonic': True, 'initiell_respons': 'domain_median', 'alpha': 0.17300000000000001, 'maks_iterasjoner_harmonic': 16, 'maks_iterasjoner_heat': 19}. Best is trial 42 with value: 1.1995066282351057.\n",
            "[I 2024-05-03 01:57:03,780] Trial 66 finished with value: 1.2286543319684589 and parameters: {'k': 63, 'graf_vektet_harmonic': True, 'initiell_respons': 'domain_median', 'alpha': 0.20600000000000002, 'maks_iterasjoner_harmonic': 14, 'maks_iterasjoner_heat': 14}. Best is trial 42 with value: 1.1995066282351057.\n",
            "[I 2024-05-03 01:57:04,290] Trial 67 finished with value: 1.2043387228264506 and parameters: {'k': 70, 'graf_vektet_harmonic': True, 'initiell_respons': 'domain_median', 'alpha': 0.10300000000000001, 'maks_iterasjoner_harmonic': 6, 'maks_iterasjoner_heat': 9}. Best is trial 42 with value: 1.1995066282351057.\n",
            "[I 2024-05-03 01:57:04,762] Trial 68 finished with value: 1.3051515193635672 and parameters: {'k': 57, 'graf_vektet_harmonic': True, 'initiell_respons': 'domain_median', 'alpha': 0.295, 'maks_iterasjoner_harmonic': 5, 'maks_iterasjoner_heat': 20}. Best is trial 42 with value: 1.1995066282351057.\n",
            "[I 2024-05-03 01:57:05,279] Trial 69 finished with value: 1.211682931134589 and parameters: {'k': 73, 'graf_vektet_harmonic': True, 'initiell_respons': 'domain_median', 'alpha': 0.159, 'maks_iterasjoner_harmonic': 14, 'maks_iterasjoner_heat': 1}. Best is trial 42 with value: 1.1995066282351057.\n",
            "[I 2024-05-03 01:57:05,797] Trial 70 finished with value: 1.2804334672257085 and parameters: {'k': 67, 'graf_vektet_harmonic': False, 'initiell_respons': 'domain_mean', 'alpha': 0.595, 'maks_iterasjoner_harmonic': 22, 'maks_iterasjoner_heat': 7}. Best is trial 42 with value: 1.1995066282351057.\n",
            "[I 2024-05-03 01:57:06,310] Trial 71 finished with value: 1.2005859114133255 and parameters: {'k': 68, 'graf_vektet_harmonic': True, 'initiell_respons': 'domain_median', 'alpha': 0.117, 'maks_iterasjoner_harmonic': 72, 'maks_iterasjoner_heat': 24}. Best is trial 42 with value: 1.1995066282351057.\n",
            "[I 2024-05-03 01:57:06,864] Trial 72 finished with value: 1.2006945273071157 and parameters: {'k': 68, 'graf_vektet_harmonic': True, 'initiell_respons': 'domain_median', 'alpha': 0.11, 'maks_iterasjoner_harmonic': 74, 'maks_iterasjoner_heat': 33}. Best is trial 42 with value: 1.1995066282351057.\n",
            "[I 2024-05-03 01:57:07,697] Trial 73 finished with value: 1.2061541834232203 and parameters: {'k': 63, 'graf_vektet_harmonic': True, 'initiell_respons': 'domain_median', 'alpha': 0.078, 'maks_iterasjoner_harmonic': 82, 'maks_iterasjoner_heat': 17}. Best is trial 42 with value: 1.1995066282351057.\n",
            "[I 2024-05-03 01:57:08,459] Trial 74 finished with value: 1.259889271195769 and parameters: {'k': 71, 'graf_vektet_harmonic': True, 'initiell_respons': 'domain_median', 'alpha': 0.254, 'maks_iterasjoner_harmonic': 19, 'maks_iterasjoner_heat': 23}. Best is trial 42 with value: 1.1995066282351057.\n",
            "[I 2024-05-03 01:57:47,875] A new study created in memory with name: no-name-053e21b6-ec8a-4432-b2a8-b7c74ec9284c\n",
            "[I 2024-05-03 02:02:21,439] Trial 1 finished with value: 0.8296861581799605 and parameters: {'k1': 6, 'k2': 1, 'p1': 4, 'p2': 2, 'max_iters': 45, 'pool_size': 95}. Best is trial 1 with value: 0.8296861581799605.\n",
            "[I 2024-05-03 02:06:37,079] Trial 2 finished with value: 0.9441215202439182 and parameters: {'k1': 16, 'k2': 4, 'p1': 4, 'p2': 1, 'max_iters': 16, 'pool_size': 37}. Best is trial 1 with value: 0.8296861581799605.\n",
            "[I 2024-05-03 02:08:13,123] Trial 0 finished with value: 1.1219681026712862 and parameters: {'k1': 9, 'k2': 18, 'p1': 9, 'p2': 9, 'max_iters': 20, 'pool_size': 65}. Best is trial 1 with value: 0.8296861581799605.\n",
            "[I 2024-05-03 02:11:50,557] Trial 3 finished with value: 0.9404731183317031 and parameters: {'k1': 4, 'k2': 10, 'p1': 8, 'p2': 4, 'max_iters': 19, 'pool_size': 67}. Best is trial 1 with value: 0.8296861581799605.\n",
            "[I 2024-05-03 02:12:14,358] Trial 5 finished with value: 0.9021875403400852 and parameters: {'k1': 4, 'k2': 4, 'p1': 1, 'p2': 1, 'max_iters': 15, 'pool_size': 12}. Best is trial 1 with value: 0.8296861581799605.\n",
            "[I 2024-05-03 02:17:44,988] Trial 4 finished with value: 1.0396340761695302 and parameters: {'k1': 20, 'k2': 5, 'p1': 5, 'p2': 9, 'max_iters': 21, 'pool_size': 68}. Best is trial 1 with value: 0.8296861581799605.\n",
            "[I 2024-05-03 02:19:39,875] Trial 6 finished with value: 0.9506516120171536 and parameters: {'k1': 5, 'k2': 12, 'p1': 7, 'p2': 3, 'max_iters': 39, 'pool_size': 70}. Best is trial 1 with value: 0.8296861581799605.\n",
            "[I 2024-05-03 02:23:31,808] Trial 8 finished with value: 0.9319325612183854 and parameters: {'k1': 20, 'k2': 2, 'p1': 2, 'p2': 4, 'max_iters': 43, 'pool_size': 25}. Best is trial 1 with value: 0.8296861581799605.\n",
            "[I 2024-05-03 02:24:05,174] Trial 7 finished with value: 1.2203133984508892 and parameters: {'k1': 20, 'k2': 14, 'p1': 4, 'p2': 9, 'max_iters': 28, 'pool_size': 13}. Best is trial 1 with value: 0.8296861581799605.\n",
            "[I 2024-05-03 02:30:11,090] Trial 10 finished with value: 0.9016455793709796 and parameters: {'k1': 15, 'k2': 1, 'p1': 4, 'p2': 6, 'max_iters': 24, 'pool_size': 39}. Best is trial 1 with value: 0.8296861581799605.\n",
            "[I 2024-05-03 02:30:20,160] Trial 9 finished with value: 0.9282673845501086 and parameters: {'k1': 2, 'k2': 14, 'p1': 7, 'p2': 10, 'max_iters': 25, 'pool_size': 73}. Best is trial 1 with value: 0.8296861581799605.\n",
            "[I 2024-05-03 02:30:51,060] Trial 12 finished with value: 0.91593935534905 and parameters: {'k1': 13, 'k2': 1, 'p1': 3, 'p2': 6, 'max_iters': 2, 'pool_size': 44}. Best is trial 1 with value: 0.8296861581799605.\n",
            "[I 2024-05-03 02:31:13,511] Trial 11 finished with value: 0.8426460115386549 and parameters: {'k1': 1, 'k2': 8, 'p1': 6, 'p2': 6, 'max_iters': 4, 'pool_size': 99}. Best is trial 1 with value: 0.8296861581799605.\n",
            "[I 2024-05-03 02:32:26,175] Trial 14 finished with value: 1.0785730095060306 and parameters: {'k1': 8, 'k2': 8, 'p1': 6, 'p2': 7, 'max_iters': 3, 'pool_size': 97}. Best is trial 1 with value: 0.8296861581799605.\n",
            "[I 2024-05-03 02:36:48,816] Trial 15 finished with value: 0.7979381692828794 and parameters: {'k1': 1, 'k2': 7, 'p1': 10, 'p2': 3, 'max_iters': 50, 'pool_size': 98}. Best is trial 15 with value: 0.7979381692828794.\n",
            "[I 2024-05-03 02:38:39,757] Trial 13 finished with value: 1.0022128855808168 and parameters: {'k1': 9, 'k2': 8, 'p1': 6, 'p2': 6, 'max_iters': 50, 'pool_size': 96}. Best is trial 15 with value: 0.7979381692828794.\n",
            "[I 2024-05-03 02:43:27,368] Trial 16 finished with value: 0.9537114670143627 and parameters: {'k1': 7, 'k2': 7, 'p1': 10, 'p2': 3, 'max_iters': 50, 'pool_size': 87}. Best is trial 15 with value: 0.7979381692828794.\n",
            "[I 2024-05-03 02:43:34,470] Trial 17 finished with value: 0.9590942744450441 and parameters: {'k1': 6, 'k2': 5, 'p1': 10, 'p2': 3, 'max_iters': 36, 'pool_size': 85}. Best is trial 15 with value: 0.7979381692828794.\n",
            "[I 2024-05-03 02:49:47,598] Trial 19 finished with value: 0.9025424951273266 and parameters: {'k1': 2, 'k2': 17, 'p1': 8, 'p2': 2, 'max_iters': 44, 'pool_size': 82}. Best is trial 15 with value: 0.7979381692828794.\n",
            "[I 2024-05-03 02:50:30,360] Trial 18 finished with value: 0.9434464429307544 and parameters: {'k1': 6, 'k2': 5, 'p1': 10, 'p2': 2, 'max_iters': 35, 'pool_size': 83}. Best is trial 15 with value: 0.7979381692828794.\n",
            "[I 2024-05-03 02:54:52,234] Trial 20 finished with value: 0.8949503433792222 and parameters: {'k1': 11, 'k2': 3, 'p1': 2, 'p2': 4, 'max_iters': 32, 'pool_size': 54}. Best is trial 15 with value: 0.7979381692828794.\n",
            "[I 2024-05-03 02:58:17,648] Trial 22 finished with value: 0.8546202162602374 and parameters: {'k1': 1, 'k2': 11, 'p1': 5, 'p2': 5, 'max_iters': 9, 'pool_size': 100}. Best is trial 15 with value: 0.7979381692828794.\n",
            "[I 2024-05-03 02:59:27,872] Trial 21 finished with value: 0.9926117897766576 and parameters: {'k1': 11, 'k2': 11, 'p1': 2, 'p2': 4, 'max_iters': 31, 'pool_size': 54}. Best is trial 15 with value: 0.7979381692828794.\n",
            "[I 2024-05-03 03:03:34,538] Trial 23 finished with value: 0.896672047061605 and parameters: {'k1': 3, 'k2': 7, 'p1': 3, 'p2': 7, 'max_iters': 45, 'pool_size': 91}. Best is trial 15 with value: 0.7979381692828794.\n",
            "[I 2024-05-03 03:05:08,710] Trial 24 finished with value: 0.9099172775833096 and parameters: {'k1': 3, 'k2': 7, 'p1': 8, 'p2': 7, 'max_iters': 44, 'pool_size': 93}. Best is trial 15 with value: 0.7979381692828794.\n",
            "[I 2024-05-03 03:05:12,647] Trial 25 finished with value: 0.8197666925585275 and parameters: {'k1': 1, 'k2': 9, 'p1': 8, 'p2': 2, 'max_iters': 9, 'pool_size': 77}. Best is trial 15 with value: 0.7979381692828794.\n",
            "[I 2024-05-03 03:07:58,323] Trial 26 finished with value: 0.889694651276725 and parameters: {'k1': 1, 'k2': 14, 'p1': 7, 'p2': 2, 'max_iters': 8, 'pool_size': 76}. Best is trial 15 with value: 0.7979381692828794.\n",
            "[I 2024-05-03 03:08:58,623] Trial 27 finished with value: 0.8637922725255898 and parameters: {'k1': 1, 'k2': 13, 'p1': 9, 'p2': 2, 'max_iters': 12, 'pool_size': 76}. Best is trial 15 with value: 0.7979381692828794.\n",
            "[I 2024-05-03 03:15:00,013] Trial 28 finished with value: 0.8671936857335486 and parameters: {'k1': 5, 'k2': 9, 'p1': 9, 'p2': 1, 'max_iters': 40, 'pool_size': 78}. Best is trial 15 with value: 0.7979381692828794.\n",
            "[I 2024-05-03 03:17:53,123] Trial 29 finished with value: 0.978257791400135 and parameters: {'k1': 5, 'k2': 20, 'p1': 9, 'p2': 1, 'max_iters': 40, 'pool_size': 58}. Best is trial 15 with value: 0.7979381692828794.\n",
            "[I 2024-05-03 03:27:40,315] Trial 30 finished with value: 1.0563111524343283 and parameters: {'k1': 8, 'k2': 19, 'p1': 9, 'p2': 3, 'max_iters': 47, 'pool_size': 64}. Best is trial 15 with value: 0.7979381692828794.\n",
            "[I 2024-05-03 03:28:50,173] Trial 31 finished with value: 1.0599510709428512 and parameters: {'k1': 9, 'k2': 16, 'p1': 10, 'p2': 3, 'max_iters': 47, 'pool_size': 61}. Best is trial 15 with value: 0.7979381692828794.\n",
            "[I 2024-05-03 03:29:12,354] Trial 32 finished with value: 0.9286902935549832 and parameters: {'k1': 3, 'k2': 9, 'p1': 6, 'p2': 5, 'max_iters': 5, 'pool_size': 91}. Best is trial 15 with value: 0.7979381692828794.\n",
            "[I 2024-05-03 03:30:28,129] Trial 33 finished with value: 0.9298933428293285 and parameters: {'k1': 3, 'k2': 9, 'p1': 6, 'p2': 5, 'max_iters': 5, 'pool_size': 90}. Best is trial 15 with value: 0.7979381692828794.\n",
            "[I 2024-05-03 03:31:03,302] Trial 34 finished with value: 0.862948881959402 and parameters: {'k1': 2, 'k2': 6, 'p1': 5, 'p2': 8, 'max_iters': 7, 'pool_size': 88}. Best is trial 15 with value: 0.7979381692828794.\n",
            "[I 2024-05-03 03:32:33,561] Trial 35 finished with value: 0.7996728225164804 and parameters: {'k1': 1, 'k2': 6, 'p1': 8, 'p2': 2, 'max_iters': 14, 'pool_size': 96}. Best is trial 15 with value: 0.7979381692828794.\n",
            "[I 2024-05-03 03:34:10,023] Trial 36 finished with value: 0.8888746065072166 and parameters: {'k1': 4, 'k2': 3, 'p1': 8, 'p2': 2, 'max_iters': 16, 'pool_size': 97}. Best is trial 15 with value: 0.7979381692828794.\n",
            "[I 2024-05-03 03:35:17,417] Trial 37 finished with value: 0.848515101312295 and parameters: {'k1': 4, 'k2': 3, 'p1': 8, 'p2': 1, 'max_iters': 16, 'pool_size': 100}. Best is trial 15 with value: 0.7979381692828794.\n",
            "[I 2024-05-03 03:35:31,972] Trial 39 finished with value: 0.898776235733502 and parameters: {'k1': 6, 'k2': 6, 'p1': 7, 'p2': 1, 'max_iters': 20, 'pool_size': 3}. Best is trial 15 with value: 0.7979381692828794.\n",
            "[I 2024-05-03 03:37:56,726] Trial 38 finished with value: 0.8713803995187012 and parameters: {'k1': 4, 'k2': 4, 'p1': 7, 'p2': 1, 'max_iters': 19, 'pool_size': 81}. Best is trial 15 with value: 0.7979381692828794.\n",
            "[I 2024-05-03 03:38:10,682] Trial 40 finished with value: 0.8520615675672951 and parameters: {'k1': 2, 'k2': 10, 'p1': 4, 'p2': 2, 'max_iters': 12, 'pool_size': 81}. Best is trial 15 with value: 0.7979381692828794.\n",
            "[I 2024-05-03 03:41:29,793] Trial 42 finished with value: 0.8124328313241109 and parameters: {'k1': 1, 'k2': 8, 'p1': 5, 'p2': 4, 'max_iters': 12, 'pool_size': 94}. Best is trial 15 with value: 0.7979381692828794.\n",
            "[I 2024-05-03 03:43:48,343] Trial 41 finished with value: 1.0904495108550019 and parameters: {'k1': 18, 'k2': 10, 'p1': 4, 'p2': 2, 'max_iters': 11, 'pool_size': 72}. Best is trial 15 with value: 0.7979381692828794.\n",
            "[I 2024-05-03 03:45:09,916] Trial 43 finished with value: 0.8885961508685248 and parameters: {'k1': 2, 'k2': 10, 'p1': 5, 'p2': 4, 'max_iters': 12, 'pool_size': 93}. Best is trial 15 with value: 0.7979381692828794.\n",
            "[I 2024-05-03 03:48:05,395] Trial 44 finished with value: 0.8233224907901175 and parameters: {'k1': 1, 'k2': 6, 'p1': 5, 'p2': 4, 'max_iters': 23, 'pool_size': 94}. Best is trial 15 with value: 0.7979381692828794.\n",
            "[I 2024-05-03 03:49:10,550] Trial 45 finished with value: 0.8177431942454937 and parameters: {'k1': 1, 'k2': 6, 'p1': 3, 'p2': 3, 'max_iters': 22, 'pool_size': 87}. Best is trial 15 with value: 0.7979381692828794.\n",
            "[I 2024-05-03 03:51:53,024] Trial 47 finished with value: 0.8299102003664631 and parameters: {'k1': 1, 'k2': 5, 'p1': 3, 'p2': 3, 'max_iters': 15, 'pool_size': 86}. Best is trial 15 with value: 0.7979381692828794.\n",
            "[I 2024-05-03 03:52:29,841] Trial 46 finished with value: 0.8229287724936006 and parameters: {'k1': 1, 'k2': 6, 'p1': 5, 'p2': 4, 'max_iters': 23, 'pool_size': 87}. Best is trial 15 with value: 0.7979381692828794.\n",
            "[I 2024-05-03 03:55:57,053] Trial 48 finished with value: 0.8568945657753707 and parameters: {'k1': 3, 'k2': 8, 'p1': 1, 'p2': 3, 'max_iters': 18, 'pool_size': 68}. Best is trial 15 with value: 0.7979381692828794.\n",
            "[I 2024-05-03 03:56:22,069] Trial 50 finished with value: 0.9333693450067642 and parameters: {'k1': 2, 'k2': 12, 'p1': 7, 'p2': 3, 'max_iters': 1, 'pool_size': 95}. Best is trial 15 with value: 0.7979381692828794.\n",
            "[I 2024-05-03 03:57:15,783] Trial 49 finished with value: 0.8599326164595295 and parameters: {'k1': 3, 'k2': 8, 'p1': 1, 'p2': 3, 'max_iters': 29, 'pool_size': 46}. Best is trial 15 with value: 0.7979381692828794.\n",
            "[I 2024-05-03 03:59:14,040] Trial 52 finished with value: 0.8383349735313057 and parameters: {'k1': 1, 'k2': 7, 'p1': 3, 'p2': 4, 'max_iters': 23, 'pool_size': 25}. Best is trial 15 with value: 0.7979381692828794.\n",
            "[I 2024-05-03 03:59:49,912] Trial 51 finished with value: 0.9371671888959737 and parameters: {'k1': 4, 'k2': 7, 'p1': 8, 'p2': 3, 'max_iters': 28, 'pool_size': 27}. Best is trial 15 with value: 0.7979381692828794.\n",
            "[I 2024-05-03 04:03:19,221] Trial 53 finished with value: 0.8731736826623862 and parameters: {'k1': 2, 'k2': 6, 'p1': 4, 'p2': 5, 'max_iters': 27, 'pool_size': 87}. Best is trial 15 with value: 0.7979381692828794.\n",
            "[I 2024-05-03 04:05:28,781] Trial 54 finished with value: 1.0183777226299442 and parameters: {'k1': 13, 'k2': 6, 'p1': 4, 'p2': 5, 'max_iters': 14, 'pool_size': 88}. Best is trial 15 with value: 0.7979381692828794.\n",
            "[I 2024-05-03 04:08:33,819] Trial 56 finished with value: 0.8159997197629589 and parameters: {'k1': 1, 'k2': 4, 'p1': 6, 'p2': 4, 'max_iters': 21, 'pool_size': 79}. Best is trial 15 with value: 0.7979381692828794.\n",
            "[I 2024-05-03 04:10:48,718] Trial 57 finished with value: 0.8560538471013563 and parameters: {'k1': 2, 'k2': 5, 'p1': 10, 'p2': 2, 'max_iters': 18, 'pool_size': 78}. Best is trial 15 with value: 0.7979381692828794.\n",
            "[I 2024-05-03 04:10:56,243] Trial 55 finished with value: 1.0201146764151265 and parameters: {'k1': 14, 'k2': 5, 'p1': 6, 'p2': 4, 'max_iters': 18, 'pool_size': 78}. Best is trial 15 with value: 0.7979381692828794.\n",
            "[I 2024-05-03 04:13:08,958] Trial 58 finished with value: 0.9309072854282284 and parameters: {'k1': 5, 'k2': 4, 'p1': 8, 'p2': 4, 'max_iters': 10, 'pool_size': 83}. Best is trial 15 with value: 0.7979381692828794.\n",
            "[I 2024-05-03 04:14:54,897] Trial 59 finished with value: 0.868599375826538 and parameters: {'k1': 5, 'k2': 2, 'p1': 8, 'p2': 10, 'max_iters': 21, 'pool_size': 84}. Best is trial 15 with value: 0.7979381692828794.\n",
            "[I 2024-05-03 04:16:23,328] Trial 60 finished with value: 0.8428355753033788 and parameters: {'k1': 2, 'k2': 9, 'p1': 7, 'p2': 2, 'max_iters': 14, 'pool_size': 97}. Best is trial 15 with value: 0.7979381692828794.\n",
            "[I 2024-05-03 04:17:24,600] Trial 61 finished with value: 0.8337864379143483 and parameters: {'k1': 1, 'k2': 9, 'p1': 2, 'p2': 2, 'max_iters': 14, 'pool_size': 97}. Best is trial 15 with value: 0.7979381692828794.\n",
            "[I 2024-05-03 04:20:35,424] Trial 62 finished with value: 0.8143149285886208 and parameters: {'k1': 1, 'k2': 4, 'p1': 5, 'p2': 4, 'max_iters': 25, 'pool_size': 90}. Best is trial 15 with value: 0.7979381692828794.\n",
            "[I 2024-05-03 04:22:46,717] Trial 63 finished with value: 0.8085326232855147 and parameters: {'k1': 1, 'k2': 8, 'p1': 5, 'p2': 4, 'max_iters': 25, 'pool_size': 71}. Best is trial 15 with value: 0.7979381692828794.\n",
            "[I 2024-05-03 04:23:38,858] Trial 64 finished with value: 0.8151588769013127 and parameters: {'k1': 1, 'k2': 2, 'p1': 6, 'p2': 3, 'max_iters': 31, 'pool_size': 91}. Best is trial 15 with value: 0.7979381692828794.\n",
            "[I 2024-05-03 04:25:45,229] Trial 65 finished with value: 0.869576355228438 and parameters: {'k1': 3, 'k2': 2, 'p1': 5, 'p2': 4, 'max_iters': 26, 'pool_size': 91}. Best is trial 15 with value: 0.7979381692828794.\n",
            "[I 2024-05-03 04:26:35,716] Trial 66 finished with value: 0.8725898494605896 and parameters: {'k1': 3, 'k2': 2, 'p1': 6, 'p2': 5, 'max_iters': 26, 'pool_size': 92}. Best is trial 15 with value: 0.7979381692828794.\n",
            "[I 2024-05-03 04:29:13,453] Trial 67 finished with value: 0.8133374132424264 and parameters: {'k1': 2, 'k2': 1, 'p1': 6, 'p2': 5, 'max_iters': 34, 'pool_size': 73}. Best is trial 15 with value: 0.7979381692828794.\n",
            "[I 2024-05-03 04:30:05,087] Trial 68 finished with value: 0.8108771071533044 and parameters: {'k1': 2, 'k2': 1, 'p1': 5, 'p2': 3, 'max_iters': 35, 'pool_size': 73}. Best is trial 15 with value: 0.7979381692828794.\n",
            "[I 2024-05-03 04:31:46,539] Trial 69 finished with value: 0.8433829432015914 and parameters: {'k1': 2, 'k2': 2, 'p1': 5, 'p2': 6, 'max_iters': 34, 'pool_size': 70}. Best is trial 15 with value: 0.7979381692828794.\n",
            "[I 2024-05-03 04:33:30,999] Trial 70 finished with value: 0.8050882542733842 and parameters: {'k1': 2, 'k2': 1, 'p1': 5, 'p2': 6, 'max_iters': 35, 'pool_size': 65}. Best is trial 15 with value: 0.7979381692828794.\n",
            "[I 2024-05-03 04:36:25,021] Trial 71 finished with value: 0.8109458605401436 and parameters: {'k1': 4, 'k2': 1, 'p1': 5, 'p2': 5, 'max_iters': 42, 'pool_size': 64}. Best is trial 15 with value: 0.7979381692828794.\n",
            "[I 2024-05-03 04:38:08,477] Trial 72 finished with value: 0.8178172918746952 and parameters: {'k1': 4, 'k2': 1, 'p1': 5, 'p2': 6, 'max_iters': 37, 'pool_size': 64}. Best is trial 15 with value: 0.7979381692828794.\n",
            "[I 2024-05-03 04:39:49,404] Trial 73 finished with value: 0.8045713807155073 and parameters: {'k1': 2, 'k2': 1, 'p1': 4, 'p2': 5, 'max_iters': 37, 'pool_size': 59}. Best is trial 15 with value: 0.7979381692828794.\n",
            "[I 2024-05-03 04:40:48,069] Trial 74 finished with value: 0.8241287468097184 and parameters: {'k1': 3, 'k2': 1, 'p1': 4, 'p2': 6, 'max_iters': 42, 'pool_size': 58}. Best is trial 15 with value: 0.7979381692828794.\n",
            "[I 2024-05-03 04:40:59,612] A new study created in memory with name: no-name-68709b7e-9f87-44a2-a63b-936155ee41df\n",
            "[I 2024-05-03 04:41:12,060] Trial 0 finished with value: 0.9601144997696061 and parameters: {'n_estimators': 310, 'criterion': 'squared_error', 'max_depth': 24, 'min_samples_leaf': 1, 'max_features': 0.156, 'maks_iterasjoner': 4, 'std_terskel': 0.025}. Best is trial 0 with value: 0.9601144997696061.\n",
            "[I 2024-05-03 04:41:14,556] Trial 1 finished with value: 0.8240326612615759 and parameters: {'n_estimators': 396, 'criterion': 'squared_error', 'max_depth': 23, 'min_samples_leaf': 3, 'max_features': 0.757, 'maks_iterasjoner': 15, 'std_terskel': 0.028000000000000004}. Best is trial 1 with value: 0.8240326612615759.\n",
            "[I 2024-05-03 04:41:24,520] Trial 2 finished with value: 1.0119570987427555 and parameters: {'n_estimators': 334, 'criterion': 'squared_error', 'max_depth': 27, 'min_samples_leaf': 5, 'max_features': 0.508, 'maks_iterasjoner': 20, 'std_terskel': 0.011}. Best is trial 1 with value: 0.8240326612615759.\n",
            "[I 2024-05-03 04:41:25,105] Trial 3 finished with value: 0.8974591663414359 and parameters: {'n_estimators': 244, 'criterion': 'friedman_mse', 'max_depth': 5, 'min_samples_leaf': 3, 'max_features': 0.507, 'maks_iterasjoner': 6, 'std_terskel': 0.015}. Best is trial 1 with value: 0.8240326612615759.\n",
            "[I 2024-05-03 04:41:41,708] Trial 5 finished with value: 0.8958530224559608 and parameters: {'n_estimators': 434, 'criterion': 'poisson', 'max_depth': 18, 'min_samples_leaf': 5, 'max_features': 0.901, 'maks_iterasjoner': 2, 'std_terskel': 0.013000000000000001}. Best is trial 1 with value: 0.8240326612615759.\n",
            "[I 2024-05-03 04:41:42,804] Trial 4 finished with value: 1.1691186715819297 and parameters: {'n_estimators': 434, 'criterion': 'absolute_error', 'max_depth': 9, 'min_samples_leaf': 5, 'max_features': 0.232, 'maks_iterasjoner': 13, 'std_terskel': 0.015}. Best is trial 1 with value: 0.8240326612615759.\n",
            "[I 2024-05-03 04:41:48,677] Trial 6 finished with value: 0.8420341264415458 and parameters: {'n_estimators': 124, 'criterion': 'poisson', 'max_depth': 24, 'min_samples_leaf': 4, 'max_features': 0.974, 'maks_iterasjoner': 9, 'std_terskel': 0.03}. Best is trial 1 with value: 0.8240326612615759.\n",
            "[I 2024-05-03 04:41:58,108] Trial 8 finished with value: 1.1005700538369871 and parameters: {'n_estimators': 271, 'criterion': 'squared_error', 'max_depth': 22, 'min_samples_leaf': 2, 'max_features': 0.10400000000000001, 'maks_iterasjoner': 16, 'std_terskel': 0.018000000000000002}. Best is trial 1 with value: 0.8240326612615759.\n",
            "[I 2024-05-03 04:41:59,480] Trial 7 finished with value: 0.8184252295107539 and parameters: {'n_estimators': 333, 'criterion': 'absolute_error', 'max_depth': 7, 'min_samples_leaf': 2, 'max_features': 0.728, 'maks_iterasjoner': 14, 'std_terskel': 0.028999999999999998}. Best is trial 7 with value: 0.8184252295107539.\n",
            "[I 2024-05-03 04:42:05,490] Trial 10 finished with value: 1.0643683476465895 and parameters: {'n_estimators': 136, 'criterion': 'absolute_error', 'max_depth': 10, 'min_samples_leaf': 3, 'max_features': 0.29600000000000004, 'maks_iterasjoner': 11, 'std_terskel': 0.017}. Best is trial 7 with value: 0.8184252295107539.\n",
            "[I 2024-05-03 04:42:10,966] Trial 9 finished with value: 0.7839078283069946 and parameters: {'n_estimators': 328, 'criterion': 'poisson', 'max_depth': 6, 'min_samples_leaf': 1, 'max_features': 0.7, 'maks_iterasjoner': 14, 'std_terskel': 0.020999999999999998}. Best is trial 9 with value: 0.7839078283069946.\n",
            "[I 2024-05-03 04:42:19,101] Trial 12 finished with value: 1.0791920428013002 and parameters: {'n_estimators': 205, 'criterion': 'poisson', 'max_depth': 1, 'min_samples_leaf': 1, 'max_features': 0.706, 'maks_iterasjoner': 19, 'std_terskel': 0.020999999999999998}. Best is trial 9 with value: 0.7839078283069946.\n",
            "[I 2024-05-03 04:42:31,611] Trial 11 finished with value: 0.925496054516518 and parameters: {'n_estimators': 497, 'criterion': 'absolute_error', 'max_depth': 2, 'min_samples_leaf': 1, 'max_features': 0.702, 'maks_iterasjoner': 20, 'std_terskel': 0.023}. Best is trial 9 with value: 0.7839078283069946.\n",
            "[I 2024-05-03 04:42:37,011] Trial 13 finished with value: 0.8173790624484751 and parameters: {'n_estimators': 361, 'criterion': 'absolute_error', 'max_depth': 12, 'min_samples_leaf': 2, 'max_features': 0.712, 'maks_iterasjoner': 16, 'std_terskel': 0.023}. Best is trial 9 with value: 0.7839078283069946.\n",
            "[I 2024-05-03 04:42:46,363] Trial 14 finished with value: 0.7738639969256736 and parameters: {'n_estimators': 362, 'criterion': 'friedman_mse', 'max_depth': 12, 'min_samples_leaf': 2, 'max_features': 0.821, 'maks_iterasjoner': 9, 'std_terskel': 0.026000000000000002}. Best is trial 14 with value: 0.7738639969256736.\n",
            "[I 2024-05-03 04:42:51,516] Trial 15 finished with value: 0.8915381288519477 and parameters: {'n_estimators': 384, 'criterion': 'friedman_mse', 'max_depth': 13, 'min_samples_leaf': 2, 'max_features': 0.402, 'maks_iterasjoner': 17, 'std_terskel': 0.024}. Best is trial 14 with value: 0.7738639969256736.\n",
            "[I 2024-05-03 04:42:56,812] Trial 16 finished with value: 0.7733419191796675 and parameters: {'n_estimators': 224, 'criterion': 'friedman_mse', 'max_depth': 17, 'min_samples_leaf': 2, 'max_features': 0.85, 'maks_iterasjoner': 8, 'std_terskel': 0.026000000000000002}. Best is trial 16 with value: 0.7733419191796675.\n",
            "[I 2024-05-03 04:43:02,248] Trial 17 finished with value: 0.7773214684297903 and parameters: {'n_estimators': 218, 'criterion': 'friedman_mse', 'max_depth': 16, 'min_samples_leaf': 1, 'max_features': 0.845, 'maks_iterasjoner': 8, 'std_terskel': 0.026000000000000002}. Best is trial 16 with value: 0.7733419191796675.\n",
            "[I 2024-05-03 04:43:03,161] Trial 18 finished with value: 0.8573092101000805 and parameters: {'n_estimators': 177, 'criterion': 'friedman_mse', 'max_depth': 18, 'min_samples_leaf': 4, 'max_features': 0.848, 'maks_iterasjoner': 8, 'std_terskel': 0.027000000000000003}. Best is trial 16 with value: 0.7733419191796675.\n",
            "[I 2024-05-03 04:43:10,375] Trial 19 finished with value: 0.8517803021042907 and parameters: {'n_estimators': 174, 'criterion': 'friedman_mse', 'max_depth': 19, 'min_samples_leaf': 4, 'max_features': 0.998, 'maks_iterasjoner': 6, 'std_terskel': 0.027000000000000003}. Best is trial 16 with value: 0.7733419191796675.\n",
            "[I 2024-05-03 04:43:13,787] Trial 20 finished with value: 0.8091138909063961 and parameters: {'n_estimators': 262, 'criterion': 'friedman_mse', 'max_depth': 14, 'min_samples_leaf': 2, 'max_features': 0.602, 'maks_iterasjoner': 11, 'std_terskel': 0.019000000000000003}. Best is trial 16 with value: 0.7733419191796675.\n",
            "[I 2024-05-03 04:43:19,970] Trial 21 finished with value: 0.8091138909063962 and parameters: {'n_estimators': 262, 'criterion': 'friedman_mse', 'max_depth': 13, 'min_samples_leaf': 2, 'max_features': 0.592, 'maks_iterasjoner': 11, 'std_terskel': 0.019000000000000003}. Best is trial 16 with value: 0.7733419191796675.\n",
            "[I 2024-05-03 04:43:24,358] Trial 22 finished with value: 0.782981701662304 and parameters: {'n_estimators': 214, 'criterion': 'friedman_mse', 'max_depth': 17, 'min_samples_leaf': 1, 'max_features': 0.866, 'maks_iterasjoner': 8, 'std_terskel': 0.026000000000000002}. Best is trial 16 with value: 0.7733419191796675.\n",
            "[I 2024-05-03 04:43:30,426] Trial 23 finished with value: 0.778103118795473 and parameters: {'n_estimators': 214, 'criterion': 'friedman_mse', 'max_depth': 16, 'min_samples_leaf': 1, 'max_features': 0.839, 'maks_iterasjoner': 7, 'std_terskel': 0.026000000000000002}. Best is trial 16 with value: 0.7733419191796675.\n",
            "[I 2024-05-03 04:43:36,222] Trial 24 finished with value: 0.7718310120566723 and parameters: {'n_estimators': 288, 'criterion': 'friedman_mse', 'max_depth': 16, 'min_samples_leaf': 2, 'max_features': 0.8099999999999999, 'maks_iterasjoner': 6, 'std_terskel': 0.025}. Best is trial 24 with value: 0.7718310120566723.\n",
            "[I 2024-05-03 04:43:40,118] Trial 25 finished with value: 0.7752076384284136 and parameters: {'n_estimators': 171, 'criterion': 'friedman_mse', 'max_depth': 21, 'min_samples_leaf': 2, 'max_features': 0.796, 'maks_iterasjoner': 4, 'std_terskel': 0.03}. Best is trial 24 with value: 0.7718310120566723.\n",
            "[I 2024-05-03 04:43:46,700] Trial 26 finished with value: 0.7970314013658558 and parameters: {'n_estimators': 290, 'criterion': 'friedman_mse', 'max_depth': 21, 'min_samples_leaf': 3, 'max_features': 0.93, 'maks_iterasjoner': 4, 'std_terskel': 0.022}. Best is trial 24 with value: 0.7718310120566723.\n",
            "[I 2024-05-03 04:43:50,608] Trial 27 finished with value: 0.7955367913265876 and parameters: {'n_estimators': 281, 'criterion': 'friedman_mse', 'max_depth': 10, 'min_samples_leaf': 3, 'max_features': 0.94, 'maks_iterasjoner': 1, 'std_terskel': 0.023}. Best is trial 24 with value: 0.7718310120566723.\n",
            "[I 2024-05-03 04:44:00,204] Trial 28 finished with value: 0.8032929847151088 and parameters: {'n_estimators': 358, 'criterion': 'friedman_mse', 'max_depth': 10, 'min_samples_leaf': 2, 'max_features': 0.632, 'maks_iterasjoner': 2, 'std_terskel': 0.024}. Best is trial 24 with value: 0.7718310120566723.\n",
            "[I 2024-05-03 04:44:04,699] Trial 29 finished with value: 0.8030920521695458 and parameters: {'n_estimators': 363, 'criterion': 'friedman_mse', 'max_depth': 30, 'min_samples_leaf': 2, 'max_features': 0.635, 'maks_iterasjoner': 10, 'std_terskel': 0.025}. Best is trial 24 with value: 0.7718310120566723.\n",
            "[I 2024-05-03 04:44:14,043] Trial 30 finished with value: 0.7718038592488374 and parameters: {'n_estimators': 307, 'criterion': 'friedman_mse', 'max_depth': 30, 'min_samples_leaf': 2, 'max_features': 0.795, 'maks_iterasjoner': 5, 'std_terskel': 0.025}. Best is trial 30 with value: 0.7718038592488374.\n",
            "[I 2024-05-03 04:44:18,706] Trial 31 finished with value: 0.8004459029911053 and parameters: {'n_estimators': 310, 'criterion': 'squared_error', 'max_depth': 15, 'min_samples_leaf': 3, 'max_features': 0.784, 'maks_iterasjoner': 5, 'std_terskel': 0.028000000000000004}. Best is trial 30 with value: 0.7718038592488374.\n",
            "[I 2024-05-03 04:44:28,660] Trial 32 finished with value: 0.7715611365946901 and parameters: {'n_estimators': 316, 'criterion': 'friedman_mse', 'max_depth': 29, 'min_samples_leaf': 2, 'max_features': 0.78, 'maks_iterasjoner': 5, 'std_terskel': 0.028000000000000004}. Best is trial 32 with value: 0.7715611365946901.\n",
            "[I 2024-05-03 04:44:32,804] Trial 33 finished with value: 0.77190153318858 and parameters: {'n_estimators': 305, 'criterion': 'friedman_mse', 'max_depth': 27, 'min_samples_leaf': 2, 'max_features': 0.791, 'maks_iterasjoner': 6, 'std_terskel': 0.025}. Best is trial 32 with value: 0.7715611365946901.\n",
            "[I 2024-05-03 04:44:42,334] Trial 34 finished with value: 0.7729857902014496 and parameters: {'n_estimators': 313, 'criterion': 'friedman_mse', 'max_depth': 27, 'min_samples_leaf': 2, 'max_features': 0.781, 'maks_iterasjoner': 3, 'std_terskel': 0.028000000000000004}. Best is trial 32 with value: 0.7715611365946901.\n",
            "[I 2024-05-03 04:44:44,306] Trial 35 finished with value: 0.8193681749262091 and parameters: {'n_estimators': 311, 'criterion': 'squared_error', 'max_depth': 28, 'min_samples_leaf': 3, 'max_features': 0.757, 'maks_iterasjoner': 3, 'std_terskel': 0.028000000000000004}. Best is trial 32 with value: 0.7715611365946901.\n",
            "[I 2024-05-03 04:44:53,841] Trial 36 finished with value: 0.894990820313682 and parameters: {'n_estimators': 302, 'criterion': 'squared_error', 'max_depth': 30, 'min_samples_leaf': 3, 'max_features': 0.495, 'maks_iterasjoner': 6, 'std_terskel': 0.028000000000000004}. Best is trial 32 with value: 0.7715611365946901.\n",
            "[I 2024-05-03 04:44:53,894] Trial 37 finished with value: 0.894877052233291 and parameters: {'n_estimators': 247, 'criterion': 'friedman_mse', 'max_depth': 30, 'min_samples_leaf': 3, 'max_features': 0.496, 'maks_iterasjoner': 6, 'std_terskel': 0.024}. Best is trial 32 with value: 0.7715611365946901.\n",
            "[I 2024-05-03 04:45:11,927] Trial 39 finished with value: 0.7746709564960998 and parameters: {'n_estimators': 427, 'criterion': 'friedman_mse', 'max_depth': 25, 'min_samples_leaf': 1, 'max_features': 0.9, 'maks_iterasjoner': 5, 'std_terskel': 0.01}. Best is trial 32 with value: 0.7715611365946901.\n",
            "[I 2024-05-03 04:45:18,933] Trial 38 finished with value: 0.7993653705957564 and parameters: {'n_estimators': 411, 'criterion': 'friedman_mse', 'max_depth': 26, 'min_samples_leaf': 1, 'max_features': 0.66, 'maks_iterasjoner': 5, 'std_terskel': 0.03}. Best is trial 32 with value: 0.7715611365946901.\n",
            "[I 2024-05-03 04:45:32,170] Trial 40 finished with value: 0.8100458718024806 and parameters: {'n_estimators': 409, 'criterion': 'poisson', 'max_depth': 25, 'min_samples_leaf': 2, 'max_features': 0.669, 'maks_iterasjoner': 5, 'std_terskel': 0.03}. Best is trial 32 with value: 0.7715611365946901.\n",
            "[I 2024-05-03 04:45:32,609] Trial 41 finished with value: 0.8193809665668148 and parameters: {'n_estimators': 341, 'criterion': 'poisson', 'max_depth': 27, 'min_samples_leaf': 2, 'max_features': 0.56, 'maks_iterasjoner': 1, 'std_terskel': 0.025}. Best is trial 32 with value: 0.7715611365946901.\n",
            "[I 2024-05-03 04:45:46,240] Trial 42 finished with value: 0.7887475133750976 and parameters: {'n_estimators': 324, 'criterion': 'friedman_mse', 'max_depth': 28, 'min_samples_leaf': 2, 'max_features': 0.761, 'maks_iterasjoner': 3, 'std_terskel': 0.028999999999999998}. Best is trial 32 with value: 0.7715611365946901.\n",
            "[I 2024-05-03 04:45:46,665] Trial 43 finished with value: 0.7722590423768265 and parameters: {'n_estimators': 289, 'criterion': 'friedman_mse', 'max_depth': 28, 'min_samples_leaf': 2, 'max_features': 0.782, 'maks_iterasjoner': 3, 'std_terskel': 0.028999999999999998}. Best is trial 32 with value: 0.7715611365946901.\n",
            "[I 2024-05-03 04:45:58,655] Trial 45 finished with value: 0.7747685206773994 and parameters: {'n_estimators': 287, 'criterion': 'friedman_mse', 'max_depth': 23, 'min_samples_leaf': 2, 'max_features': 0.895, 'maks_iterasjoner': 7, 'std_terskel': 0.027000000000000003}. Best is trial 32 with value: 0.7715611365946901.\n",
            "[I 2024-05-03 04:45:58,688] Trial 44 finished with value: 0.7720295335518201 and parameters: {'n_estimators': 292, 'criterion': 'friedman_mse', 'max_depth': 23, 'min_samples_leaf': 2, 'max_features': 0.795, 'maks_iterasjoner': 3, 'std_terskel': 0.027000000000000003}. Best is trial 32 with value: 0.7715611365946901.\n",
            "[I 2024-05-03 04:46:08,421] Trial 47 finished with value: 0.8436359089507689 and parameters: {'n_estimators': 244, 'criterion': 'absolute_error', 'max_depth': 24, 'min_samples_leaf': 3, 'max_features': 0.738, 'maks_iterasjoner': 4, 'std_terskel': 0.022}. Best is trial 32 with value: 0.7715611365946901.\n",
            "[I 2024-05-03 04:46:08,777] Trial 46 finished with value: 0.8443239164301846 and parameters: {'n_estimators': 246, 'criterion': 'absolute_error', 'max_depth': 24, 'min_samples_leaf': 3, 'max_features': 0.742, 'maks_iterasjoner': 2, 'std_terskel': 0.020999999999999998}. Best is trial 32 with value: 0.7715611365946901.\n",
            "[I 2024-05-03 04:46:22,397] Trial 48 finished with value: 0.7710040435911337 and parameters: {'n_estimators': 332, 'criterion': 'friedman_mse', 'max_depth': 29, 'min_samples_leaf': 1, 'max_features': 0.941, 'maks_iterasjoner': 2, 'std_terskel': 0.013000000000000001}. Best is trial 48 with value: 0.7710040435911337.\n",
            "[I 2024-05-03 04:46:22,837] Trial 49 finished with value: 0.7696351372653962 and parameters: {'n_estimators': 344, 'criterion': 'friedman_mse', 'max_depth': 29, 'min_samples_leaf': 1, 'max_features': 0.932, 'maks_iterasjoner': 7, 'std_terskel': 0.013000000000000001}. Best is trial 49 with value: 0.7696351372653962.\n",
            "[I 2024-05-03 04:46:38,365] Trial 50 finished with value: 0.7630692527545511 and parameters: {'n_estimators': 386, 'criterion': 'squared_error', 'max_depth': 30, 'min_samples_leaf': 1, 'max_features': 0.952, 'maks_iterasjoner': 7, 'std_terskel': 0.016}. Best is trial 50 with value: 0.7630692527545511.\n",
            "[I 2024-05-03 04:46:38,772] Trial 51 finished with value: 0.7632144228670403 and parameters: {'n_estimators': 385, 'criterion': 'squared_error', 'max_depth': 29, 'min_samples_leaf': 1, 'max_features': 0.987, 'maks_iterasjoner': 7, 'std_terskel': 0.013000000000000001}. Best is trial 50 with value: 0.7630692527545511.\n",
            "[I 2024-05-03 04:46:55,230] Trial 53 finished with value: 0.7632734142541964 and parameters: {'n_estimators': 380, 'criterion': 'squared_error', 'max_depth': 29, 'min_samples_leaf': 1, 'max_features': 0.954, 'maks_iterasjoner': 9, 'std_terskel': 0.013000000000000001}. Best is trial 50 with value: 0.7630692527545511.\n",
            "[I 2024-05-03 04:46:57,784] Trial 52 finished with value: 0.7629498375216484 and parameters: {'n_estimators': 473, 'criterion': 'squared_error', 'max_depth': 29, 'min_samples_leaf': 1, 'max_features': 0.963, 'maks_iterasjoner': 7, 'std_terskel': 0.014}. Best is trial 52 with value: 0.7629498375216484.\n",
            "[I 2024-05-03 04:47:14,593] Trial 54 finished with value: 0.7629883646190049 and parameters: {'n_estimators': 462, 'criterion': 'squared_error', 'max_depth': 29, 'min_samples_leaf': 1, 'max_features': 0.961, 'maks_iterasjoner': 10, 'std_terskel': 0.013000000000000001}. Best is trial 52 with value: 0.7629498375216484.\n",
            "[I 2024-05-03 04:47:17,232] Trial 55 finished with value: 0.7630152217540844 and parameters: {'n_estimators': 469, 'criterion': 'squared_error', 'max_depth': 29, 'min_samples_leaf': 1, 'max_features': 0.954, 'maks_iterasjoner': 12, 'std_terskel': 0.013000000000000001}. Best is trial 52 with value: 0.7629498375216484.\n",
            "[I 2024-05-03 04:47:33,504] Trial 56 finished with value: 0.7626518627472537 and parameters: {'n_estimators': 477, 'criterion': 'squared_error', 'max_depth': 26, 'min_samples_leaf': 1, 'max_features': 0.995, 'maks_iterasjoner': 12, 'std_terskel': 0.014}. Best is trial 56 with value: 0.7626518627472537.\n",
            "[I 2024-05-03 04:47:37,705] Trial 57 finished with value: 0.7635956358312834 and parameters: {'n_estimators': 495, 'criterion': 'squared_error', 'max_depth': 26, 'min_samples_leaf': 1, 'max_features': 0.996, 'maks_iterasjoner': 12, 'std_terskel': 0.015}. Best is trial 56 with value: 0.7626518627472537.\n",
            "[I 2024-05-03 04:47:53,561] Trial 58 finished with value: 0.7629498375216484 and parameters: {'n_estimators': 473, 'criterion': 'squared_error', 'max_depth': 26, 'min_samples_leaf': 1, 'max_features': 0.968, 'maks_iterasjoner': 13, 'std_terskel': 0.015}. Best is trial 56 with value: 0.7626518627472537.\n",
            "[I 2024-05-03 04:47:56,995] Trial 59 finished with value: 0.7629498375216482 and parameters: {'n_estimators': 473, 'criterion': 'squared_error', 'max_depth': 26, 'min_samples_leaf': 1, 'max_features': 0.976, 'maks_iterasjoner': 13, 'std_terskel': 0.014}. Best is trial 56 with value: 0.7626518627472537.\n",
            "[I 2024-05-03 04:48:12,245] Trial 60 finished with value: 0.7682502134778966 and parameters: {'n_estimators': 473, 'criterion': 'squared_error', 'max_depth': 26, 'min_samples_leaf': 1, 'max_features': 0.889, 'maks_iterasjoner': 13, 'std_terskel': 0.016}. Best is trial 56 with value: 0.7626518627472537.\n",
            "[I 2024-05-03 04:48:15,812] Trial 61 finished with value: 0.7683650238683595 and parameters: {'n_estimators': 468, 'criterion': 'squared_error', 'max_depth': 26, 'min_samples_leaf': 1, 'max_features': 0.881, 'maks_iterasjoner': 13, 'std_terskel': 0.012}. Best is trial 56 with value: 0.7626518627472537.\n",
            "[I 2024-05-03 04:48:29,772] Trial 62 finished with value: 0.7634047017957996 and parameters: {'n_estimators': 459, 'criterion': 'squared_error', 'max_depth': 25, 'min_samples_leaf': 1, 'max_features': 0.966, 'maks_iterasjoner': 13, 'std_terskel': 0.014}. Best is trial 56 with value: 0.7626518627472537.\n",
            "[I 2024-05-03 04:48:35,746] Trial 63 finished with value: 0.7634329659138627 and parameters: {'n_estimators': 457, 'criterion': 'squared_error', 'max_depth': 28, 'min_samples_leaf': 1, 'max_features': 0.962, 'maks_iterasjoner': 14, 'std_terskel': 0.014}. Best is trial 56 with value: 0.7626518627472537.\n",
            "[I 2024-05-03 04:48:49,367] Trial 64 finished with value: 0.7687037820935139 and parameters: {'n_estimators': 447, 'criterion': 'squared_error', 'max_depth': 28, 'min_samples_leaf': 1, 'max_features': 0.915, 'maks_iterasjoner': 15, 'std_terskel': 0.016}. Best is trial 56 with value: 0.7626518627472537.\n",
            "[I 2024-05-03 04:48:55,505] Trial 65 finished with value: 0.7684795475000461 and parameters: {'n_estimators': 485, 'criterion': 'squared_error', 'max_depth': 22, 'min_samples_leaf': 1, 'max_features': 0.917, 'maks_iterasjoner': 15, 'std_terskel': 0.017}. Best is trial 56 with value: 0.7626518627472537.\n",
            "[I 2024-05-03 04:49:06,626] Trial 66 finished with value: 0.9330489638218572 and parameters: {'n_estimators': 485, 'criterion': 'squared_error', 'max_depth': 22, 'min_samples_leaf': 1, 'max_features': 0.23500000000000001, 'maks_iterasjoner': 12, 'std_terskel': 0.011}. Best is trial 56 with value: 0.7626518627472537.\n",
            "[I 2024-05-03 04:49:12,657] Trial 67 finished with value: 0.7633184581530579 and parameters: {'n_estimators': 437, 'criterion': 'squared_error', 'max_depth': 20, 'min_samples_leaf': 1, 'max_features': 0.97, 'maks_iterasjoner': 12, 'std_terskel': 0.011}. Best is trial 56 with value: 0.7626518627472537.\n",
            "[I 2024-05-03 04:49:25,399] Trial 68 finished with value: 0.7634464970325294 and parameters: {'n_estimators': 439, 'criterion': 'squared_error', 'max_depth': 27, 'min_samples_leaf': 1, 'max_features': 0.994, 'maks_iterasjoner': 10, 'std_terskel': 0.014}. Best is trial 56 with value: 0.7626518627472537.\n",
            "[I 2024-05-03 04:49:27,482] Trial 69 finished with value: 0.8878876406806993 and parameters: {'n_estimators': 423, 'criterion': 'squared_error', 'max_depth': 30, 'min_samples_leaf': 5, 'max_features': 0.997, 'maks_iterasjoner': 10, 'std_terskel': 0.014}. Best is trial 56 with value: 0.7626518627472537.\n",
            "[I 2024-05-03 04:49:40,284] Trial 70 finished with value: 0.8951385357438973 and parameters: {'n_estimators': 425, 'criterion': 'squared_error', 'max_depth': 30, 'min_samples_leaf': 5, 'max_features': 0.873, 'maks_iterasjoner': 11, 'std_terskel': 0.015}. Best is trial 56 with value: 0.7626518627472537.\n",
            "[I 2024-05-03 04:49:49,053] Trial 71 finished with value: 0.7682114029150475 and parameters: {'n_estimators': 475, 'criterion': 'squared_error', 'max_depth': 25, 'min_samples_leaf': 1, 'max_features': 0.865, 'maks_iterasjoner': 11, 'std_terskel': 0.015}. Best is trial 56 with value: 0.7626518627472537.\n",
            "[I 2024-05-03 04:49:59,598] Trial 72 finished with value: 0.778956940331794 and parameters: {'n_estimators': 474, 'criterion': 'squared_error', 'max_depth': 4, 'min_samples_leaf': 1, 'max_features': 0.966, 'maks_iterasjoner': 9, 'std_terskel': 0.012}. Best is trial 56 with value: 0.7626518627472537.\n",
            "[I 2024-05-03 04:50:07,895] Trial 73 finished with value: 0.7633543078599293 and parameters: {'n_estimators': 452, 'criterion': 'squared_error', 'max_depth': 29, 'min_samples_leaf': 1, 'max_features': 0.975, 'maks_iterasjoner': 9, 'std_terskel': 0.012}. Best is trial 56 with value: 0.7626518627472537.\n",
            "[I 2024-05-03 04:50:13,599] Trial 74 finished with value: 0.7635852039862747 and parameters: {'n_estimators': 494, 'criterion': 'squared_error', 'max_depth': 29, 'min_samples_leaf': 1, 'max_features': 0.924, 'maks_iterasjoner': 14, 'std_terskel': 0.012}. Best is trial 56 with value: 0.7626518627472537.\n",
            "[I 2024-05-03 04:50:14,776] A new study created in memory with name: no-name-521e56ff-fec4-41f2-a152-4adf7e6eb622\n",
            "[I 2024-05-03 04:50:15,342] Trial 0 finished with value: 1.3248561812838162 and parameters: {'k': 111, 'graf_vektet_harmonic': False, 'initiell_respons': 'domain_median', 'alpha': 0.43, 'maks_iterasjoner_harmonic': 96, 'maks_iterasjoner_heat': 44}. Best is trial 0 with value: 1.3248561812838162.\n",
            "[I 2024-05-03 04:50:15,885] Trial 1 finished with value: 1.354295790340337 and parameters: {'k': 72, 'graf_vektet_harmonic': False, 'initiell_respons': 'domain_mean', 'alpha': 0.895, 'maks_iterasjoner_harmonic': 10, 'maks_iterasjoner_heat': 8}. Best is trial 0 with value: 1.3248561812838162.\n",
            "[I 2024-05-03 04:50:16,431] Trial 2 finished with value: 1.3702486959229412 and parameters: {'k': 88, 'graf_vektet_harmonic': False, 'initiell_respons': 'domain_mean', 'alpha': 0.891, 'maks_iterasjoner_harmonic': 74, 'maks_iterasjoner_heat': 73}. Best is trial 0 with value: 1.3248561812838162.\n",
            "[I 2024-05-03 04:50:16,951] Trial 3 finished with value: 2.117308034588659 and parameters: {'k': 73, 'graf_vektet_harmonic': True, 'initiell_respons': 'domain_mean', 'alpha': 0.724, 'maks_iterasjoner_harmonic': 53, 'maks_iterasjoner_heat': 42}. Best is trial 0 with value: 1.3248561812838162.\n",
            "[I 2024-05-03 04:50:17,471] Trial 4 finished with value: 2.461422466027625 and parameters: {'k': 129, 'graf_vektet_harmonic': True, 'initiell_respons': 'domain_mean', 'alpha': 0.793, 'maks_iterasjoner_harmonic': 34, 'maks_iterasjoner_heat': 2}. Best is trial 0 with value: 1.3248561812838162.\n",
            "[I 2024-05-03 04:50:17,996] Trial 5 finished with value: 2.0882176047840177 and parameters: {'k': 82, 'graf_vektet_harmonic': True, 'initiell_respons': 'domain_mean', 'alpha': 0.667, 'maks_iterasjoner_harmonic': 38, 'maks_iterasjoner_heat': 6}. Best is trial 0 with value: 1.3248561812838162.\n",
            "[I 2024-05-03 04:50:18,580] Trial 6 finished with value: 1.3967357114038448 and parameters: {'k': 129, 'graf_vektet_harmonic': False, 'initiell_respons': 'domain_mean', 'alpha': 0.912, 'maks_iterasjoner_harmonic': 76, 'maks_iterasjoner_heat': 56}. Best is trial 0 with value: 1.3248561812838162.\n",
            "[I 2024-05-03 04:50:19,120] Trial 7 finished with value: 2.0407083967813553 and parameters: {'k': 94, 'graf_vektet_harmonic': True, 'initiell_respons': 'domain_median', 'alpha': 0.685, 'maks_iterasjoner_harmonic': 57, 'maks_iterasjoner_heat': 92}. Best is trial 0 with value: 1.3248561812838162.\n",
            "[I 2024-05-03 04:50:19,653] Trial 8 finished with value: 1.2515282893881057 and parameters: {'k': 109, 'graf_vektet_harmonic': True, 'initiell_respons': 'domain_median', 'alpha': 0.081, 'maks_iterasjoner_harmonic': 25, 'maks_iterasjoner_heat': 31}. Best is trial 8 with value: 1.2515282893881057.\n",
            "[I 2024-05-03 04:50:20,186] Trial 9 finished with value: 2.2939728808596906 and parameters: {'k': 122, 'graf_vektet_harmonic': True, 'initiell_respons': 'domain_mean', 'alpha': 0.866, 'maks_iterasjoner_harmonic': 23, 'maks_iterasjoner_heat': 67}. Best is trial 8 with value: 1.2515282893881057.\n",
            "[I 2024-05-03 04:50:20,746] Trial 10 finished with value: 1.255878962506902 and parameters: {'k': 106, 'graf_vektet_harmonic': True, 'initiell_respons': 'domain_median', 'alpha': 0.011, 'maks_iterasjoner_harmonic': 3, 'maks_iterasjoner_heat': 29}. Best is trial 8 with value: 1.2515282893881057.\n",
            "[I 2024-05-03 04:50:21,293] Trial 11 finished with value: 1.24828890601429 and parameters: {'k': 107, 'graf_vektet_harmonic': True, 'initiell_respons': 'domain_median', 'alpha': 0.028, 'maks_iterasjoner_harmonic': 7, 'maks_iterasjoner_heat': 27}. Best is trial 11 with value: 1.24828890601429.\n",
            "[I 2024-05-03 04:50:21,877] Trial 12 finished with value: 1.25625326804006 and parameters: {'k': 112, 'graf_vektet_harmonic': True, 'initiell_respons': 'domain_median', 'alpha': 0.004, 'maks_iterasjoner_harmonic': 19, 'maks_iterasjoner_heat': 24}. Best is trial 11 with value: 1.24828890601429.\n",
            "[I 2024-05-03 04:50:22,793] Trial 13 finished with value: 1.3637990613978512 and parameters: {'k': 102, 'graf_vektet_harmonic': True, 'initiell_respons': 'domain_median', 'alpha': 0.22, 'maks_iterasjoner_harmonic': 32, 'maks_iterasjoner_heat': 24}. Best is trial 11 with value: 1.24828890601429.\n",
            "[I 2024-05-03 04:50:23,820] Trial 14 finished with value: 1.4225706824357915 and parameters: {'k': 117, 'graf_vektet_harmonic': True, 'initiell_respons': 'domain_median', 'alpha': 0.214, 'maks_iterasjoner_harmonic': 2, 'maks_iterasjoner_heat': 32}. Best is trial 11 with value: 1.24828890601429.\n",
            "[I 2024-05-03 04:50:24,986] Trial 15 finished with value: 1.37409829747975 and parameters: {'k': 96, 'graf_vektet_harmonic': True, 'initiell_respons': 'domain_median', 'alpha': 0.228, 'maks_iterasjoner_harmonic': 18, 'maks_iterasjoner_heat': 15}. Best is trial 11 with value: 1.24828890601429.\n",
            "[I 2024-05-03 04:50:25,876] Trial 16 finished with value: 1.6179766849820592 and parameters: {'k': 105, 'graf_vektet_harmonic': True, 'initiell_respons': 'domain_median', 'alpha': 0.401, 'maks_iterasjoner_harmonic': 43, 'maks_iterasjoner_heat': 53}. Best is trial 11 with value: 1.24828890601429.\n",
            "[I 2024-05-03 04:50:26,425] Trial 17 finished with value: 1.2553956354923113 and parameters: {'k': 120, 'graf_vektet_harmonic': True, 'initiell_respons': 'domain_median', 'alpha': 0.092, 'maks_iterasjoner_harmonic': 27, 'maks_iterasjoner_heat': 40}. Best is trial 11 with value: 1.24828890601429.\n",
            "[I 2024-05-03 04:50:27,002] Trial 18 finished with value: 1.2981218331793432 and parameters: {'k': 89, 'graf_vektet_harmonic': False, 'initiell_respons': 'domain_median', 'alpha': 0.317, 'maks_iterasjoner_harmonic': 13, 'maks_iterasjoner_heat': 18}. Best is trial 11 with value: 1.24828890601429.\n",
            "[I 2024-05-03 04:50:27,557] Trial 19 finished with value: 1.820906198912719 and parameters: {'k': 115, 'graf_vektet_harmonic': True, 'initiell_respons': 'domain_median', 'alpha': 0.532, 'maks_iterasjoner_harmonic': 10, 'maks_iterasjoner_heat': 35}. Best is trial 11 with value: 1.24828890601429.\n",
            "[I 2024-05-03 04:50:28,140] Trial 20 finished with value: 1.2718735315468161 and parameters: {'k': 101, 'graf_vektet_harmonic': True, 'initiell_respons': 'domain_median', 'alpha': 0.123, 'maks_iterasjoner_harmonic': 65, 'maks_iterasjoner_heat': 75}. Best is trial 11 with value: 1.24828890601429.\n",
            "[I 2024-05-03 04:50:28,675] Trial 21 finished with value: 1.2482240491968764 and parameters: {'k': 123, 'graf_vektet_harmonic': True, 'initiell_respons': 'domain_median', 'alpha': 0.065, 'maks_iterasjoner_harmonic': 26, 'maks_iterasjoner_heat': 39}. Best is trial 21 with value: 1.2482240491968764.\n",
            "[I 2024-05-03 04:50:29,248] Trial 22 finished with value: 1.2761413484678863 and parameters: {'k': 123, 'graf_vektet_harmonic': True, 'initiell_respons': 'domain_median', 'alpha': 0.129, 'maks_iterasjoner_harmonic': 44, 'maks_iterasjoner_heat': 50}. Best is trial 21 with value: 1.2482240491968764.\n",
            "[I 2024-05-03 04:50:29,808] Trial 23 finished with value: 1.2478294942161106 and parameters: {'k': 112, 'graf_vektet_harmonic': True, 'initiell_respons': 'domain_median', 'alpha': 0.065, 'maks_iterasjoner_harmonic': 25, 'maks_iterasjoner_heat': 17}. Best is trial 23 with value: 1.2478294942161106.\n",
            "[I 2024-05-03 04:50:30,393] Trial 24 finished with value: 1.4809004906521708 and parameters: {'k': 132, 'graf_vektet_harmonic': True, 'initiell_respons': 'domain_median', 'alpha': 0.307, 'maks_iterasjoner_harmonic': 12, 'maks_iterasjoner_heat': 16}. Best is trial 23 with value: 1.2478294942161106.\n",
            "[I 2024-05-03 04:50:30,975] Trial 25 finished with value: 1.4601726992064792 and parameters: {'k': 124, 'graf_vektet_harmonic': True, 'initiell_respons': 'domain_median', 'alpha': 0.152, 'maks_iterasjoner_harmonic': 1, 'maks_iterasjoner_heat': 21}. Best is trial 23 with value: 1.2478294942161106.\n",
            "[I 2024-05-03 04:50:31,581] Trial 26 finished with value: 1.2588068513620758 and parameters: {'k': 115, 'graf_vektet_harmonic': False, 'initiell_respons': 'domain_median', 'alpha': 0.009000000000000001, 'maks_iterasjoner_harmonic': 31, 'maks_iterasjoner_heat': 10}. Best is trial 23 with value: 1.2478294942161106.\n",
            "[I 2024-05-03 04:50:32,146] Trial 27 finished with value: 1.8733365029152158 and parameters: {'k': 107, 'graf_vektet_harmonic': True, 'initiell_respons': 'domain_median', 'alpha': 0.5660000000000001, 'maks_iterasjoner_harmonic': 42, 'maks_iterasjoner_heat': 37}. Best is trial 23 with value: 1.2478294942161106.\n",
            "[I 2024-05-03 04:50:32,693] Trial 28 finished with value: 1.5440481338471774 and parameters: {'k': 66, 'graf_vektet_harmonic': True, 'initiell_respons': 'domain_median', 'alpha': 0.352, 'maks_iterasjoner_harmonic': 14, 'maks_iterasjoner_heat': 47}. Best is trial 23 with value: 1.2478294942161106.\n",
            "[I 2024-05-03 04:50:33,282] Trial 29 finished with value: 1.2928436491676936 and parameters: {'k': 112, 'graf_vektet_harmonic': False, 'initiell_respons': 'domain_median', 'alpha': 0.261, 'maks_iterasjoner_harmonic': 22, 'maks_iterasjoner_heat': 61}. Best is trial 23 with value: 1.2478294942161106.\n",
            "[I 2024-05-03 04:50:33,833] Trial 30 finished with value: 2.440853318340969 and parameters: {'k': 118, 'graf_vektet_harmonic': True, 'initiell_respons': 'domain_median', 'alpha': 0.996, 'maks_iterasjoner_harmonic': 49, 'maks_iterasjoner_heat': 27}. Best is trial 23 with value: 1.2478294942161106.\n",
            "[I 2024-05-03 04:50:34,407] Trial 31 finished with value: 1.2485742239890678 and parameters: {'k': 109, 'graf_vektet_harmonic': True, 'initiell_respons': 'domain_median', 'alpha': 0.067, 'maks_iterasjoner_harmonic': 26, 'maks_iterasjoner_heat': 33}. Best is trial 23 with value: 1.2478294942161106.\n",
            "[I 2024-05-03 04:50:34,964] Trial 32 finished with value: 1.2496099174430702 and parameters: {'k': 111, 'graf_vektet_harmonic': True, 'initiell_respons': 'domain_median', 'alpha': 0.07200000000000001, 'maks_iterasjoner_harmonic': 30, 'maks_iterasjoner_heat': 43}. Best is trial 23 with value: 1.2478294942161106.\n",
            "[I 2024-05-03 04:50:35,547] Trial 33 finished with value: 1.313761767667815 and parameters: {'k': 102, 'graf_vektet_harmonic': True, 'initiell_respons': 'domain_median', 'alpha': 0.17300000000000001, 'maks_iterasjoner_harmonic': 86, 'maks_iterasjoner_heat': 10}. Best is trial 23 with value: 1.2478294942161106.\n",
            "[I 2024-05-03 04:50:36,842] Trial 34 finished with value: 1.2545137516861757 and parameters: {'k': 97, 'graf_vektet_harmonic': False, 'initiell_respons': 'domain_median', 'alpha': 0.066, 'maks_iterasjoner_harmonic': 6, 'maks_iterasjoner_heat': 40}. Best is trial 23 with value: 1.2478294942161106.\n",
            "[I 2024-05-03 04:50:37,843] Trial 35 finished with value: 1.2253209079674003 and parameters: {'k': 91, 'graf_vektet_harmonic': True, 'initiell_respons': 'domain_mean', 'alpha': 0.053, 'maks_iterasjoner_harmonic': 37, 'maks_iterasjoner_heat': 36}. Best is trial 35 with value: 1.2253209079674003.\n",
            "[I 2024-05-03 04:50:39,051] Trial 36 finished with value: 1.695959925801154 and parameters: {'k': 81, 'graf_vektet_harmonic': True, 'initiell_respons': 'domain_mean', 'alpha': 0.442, 'maks_iterasjoner_harmonic': 35, 'maks_iterasjoner_heat': 100}. Best is trial 35 with value: 1.2253209079674003.\n",
            "[I 2024-05-03 04:50:39,730] Trial 37 finished with value: 1.2447005269564178 and parameters: {'k': 92, 'graf_vektet_harmonic': False, 'initiell_respons': 'domain_mean', 'alpha': 0.17500000000000002, 'maks_iterasjoner_harmonic': 97, 'maks_iterasjoner_heat': 4}. Best is trial 35 with value: 1.2253209079674003.\n",
            "[I 2024-05-03 04:50:40,318] Trial 38 finished with value: 1.2423152596091591 and parameters: {'k': 90, 'graf_vektet_harmonic': False, 'initiell_respons': 'domain_mean', 'alpha': 0.155, 'maks_iterasjoner_harmonic': 95, 'maks_iterasjoner_heat': 1}. Best is trial 35 with value: 1.2253209079674003.\n",
            "[I 2024-05-03 04:50:40,903] Trial 39 finished with value: 1.2411217770301448 and parameters: {'k': 88, 'graf_vektet_harmonic': False, 'initiell_respons': 'domain_mean', 'alpha': 0.154, 'maks_iterasjoner_harmonic': 98, 'maks_iterasjoner_heat': 2}. Best is trial 35 with value: 1.2253209079674003.\n",
            "[I 2024-05-03 04:50:41,502] Trial 40 finished with value: 1.2451087082668368 and parameters: {'k': 91, 'graf_vektet_harmonic': False, 'initiell_respons': 'domain_mean', 'alpha': 0.178, 'maks_iterasjoner_harmonic': 100, 'maks_iterasjoner_heat': 5}. Best is trial 35 with value: 1.2253209079674003.\n",
            "[I 2024-05-03 04:50:42,090] Trial 41 finished with value: 1.2620649287709431 and parameters: {'k': 91, 'graf_vektet_harmonic': False, 'initiell_respons': 'domain_mean', 'alpha': 0.269, 'maks_iterasjoner_harmonic': 100, 'maks_iterasjoner_heat': 2}. Best is trial 35 with value: 1.2253209079674003.\n",
            "[I 2024-05-03 04:50:42,673] Trial 42 finished with value: 1.2456581868502201 and parameters: {'k': 84, 'graf_vektet_harmonic': False, 'initiell_respons': 'domain_mean', 'alpha': 0.181, 'maks_iterasjoner_harmonic': 91, 'maks_iterasjoner_heat': 1}. Best is trial 35 with value: 1.2253209079674003.\n",
            "[I 2024-05-03 04:50:43,272] Trial 43 finished with value: 1.2412293306527888 and parameters: {'k': 85, 'graf_vektet_harmonic': False, 'initiell_respons': 'domain_mean', 'alpha': 0.16, 'maks_iterasjoner_harmonic': 83, 'maks_iterasjoner_heat': 7}. Best is trial 35 with value: 1.2253209079674003.\n",
            "[I 2024-05-03 04:50:44,152] Trial 44 finished with value: 1.2355903229337892 and parameters: {'k': 76, 'graf_vektet_harmonic': False, 'initiell_respons': 'domain_mean', 'alpha': 0.131, 'maks_iterasjoner_harmonic': 84, 'maks_iterasjoner_heat': 11}. Best is trial 35 with value: 1.2253209079674003.\n",
            "[I 2024-05-03 04:50:44,753] Trial 45 finished with value: 1.2360938037958007 and parameters: {'k': 85, 'graf_vektet_harmonic': False, 'initiell_respons': 'domain_mean', 'alpha': 0.11900000000000001, 'maks_iterasjoner_harmonic': 82, 'maks_iterasjoner_heat': 11}. Best is trial 35 with value: 1.2253209079674003.\n",
            "[I 2024-05-03 04:50:45,346] Trial 46 finished with value: 1.234195534065204 and parameters: {'k': 78, 'graf_vektet_harmonic': False, 'initiell_respons': 'domain_mean', 'alpha': 0.114, 'maks_iterasjoner_harmonic': 81, 'maks_iterasjoner_heat': 11}. Best is trial 35 with value: 1.2253209079674003.\n",
            "[I 2024-05-03 04:50:45,977] Trial 47 finished with value: 1.233947151862541 and parameters: {'k': 77, 'graf_vektet_harmonic': False, 'initiell_respons': 'domain_mean', 'alpha': 0.113, 'maks_iterasjoner_harmonic': 72, 'maks_iterasjoner_heat': 11}. Best is trial 35 with value: 1.2253209079674003.\n",
            "[I 2024-05-03 04:50:46,561] Trial 48 finished with value: 1.2327972781133354 and parameters: {'k': 77, 'graf_vektet_harmonic': False, 'initiell_respons': 'domain_mean', 'alpha': 0.101, 'maks_iterasjoner_harmonic': 70, 'maks_iterasjoner_heat': 13}. Best is trial 35 with value: 1.2253209079674003.\n",
            "[I 2024-05-03 04:50:47,144] Trial 49 finished with value: 1.2282822647213556 and parameters: {'k': 77, 'graf_vektet_harmonic': False, 'initiell_respons': 'domain_mean', 'alpha': 0.04, 'maks_iterasjoner_harmonic': 68, 'maks_iterasjoner_heat': 14}. Best is trial 35 with value: 1.2253209079674003.\n",
            "[I 2024-05-03 04:50:47,725] Trial 50 finished with value: 1.2276846760238975 and parameters: {'k': 77, 'graf_vektet_harmonic': False, 'initiell_respons': 'domain_mean', 'alpha': 0.028, 'maks_iterasjoner_harmonic': 68, 'maks_iterasjoner_heat': 21}. Best is trial 35 with value: 1.2253209079674003.\n",
            "[I 2024-05-03 04:50:48,299] Trial 51 finished with value: 1.227508554721352 and parameters: {'k': 77, 'graf_vektet_harmonic': False, 'initiell_respons': 'domain_mean', 'alpha': 0.024, 'maks_iterasjoner_harmonic': 67, 'maks_iterasjoner_heat': 22}. Best is trial 35 with value: 1.2253209079674003.\n",
            "[I 2024-05-03 04:50:48,883] Trial 52 finished with value: 1.2276628857185419 and parameters: {'k': 70, 'graf_vektet_harmonic': False, 'initiell_respons': 'domain_mean', 'alpha': 0.041, 'maks_iterasjoner_harmonic': 67, 'maks_iterasjoner_heat': 22}. Best is trial 35 with value: 1.2253209079674003.\n",
            "[I 2024-05-03 04:50:49,736] Trial 53 finished with value: 1.2274873561916653 and parameters: {'k': 72, 'graf_vektet_harmonic': False, 'initiell_respons': 'domain_mean', 'alpha': 0.031, 'maks_iterasjoner_harmonic': 62, 'maks_iterasjoner_heat': 22}. Best is trial 35 with value: 1.2253209079674003.\n",
            "[I 2024-05-03 04:50:51,419] Trial 54 finished with value: 1.2271932288137675 and parameters: {'k': 70, 'graf_vektet_harmonic': False, 'initiell_respons': 'domain_mean', 'alpha': 0.027, 'maks_iterasjoner_harmonic': 61, 'maks_iterasjoner_heat': 20}. Best is trial 35 with value: 1.2253209079674003.\n",
            "[I 2024-05-03 04:50:52,761] Trial 55 finished with value: 1.226720735433295 and parameters: {'k': 69, 'graf_vektet_harmonic': False, 'initiell_respons': 'domain_mean', 'alpha': 0.003, 'maks_iterasjoner_harmonic': 61, 'maks_iterasjoner_heat': 22}. Best is trial 35 with value: 1.2253209079674003.\n",
            "[I 2024-05-03 04:50:53,337] Trial 56 finished with value: 1.2267793978337793 and parameters: {'k': 70, 'graf_vektet_harmonic': False, 'initiell_respons': 'domain_mean', 'alpha': 0.007, 'maks_iterasjoner_harmonic': 56, 'maks_iterasjoner_heat': 24}. Best is trial 35 with value: 1.2253209079674003.\n",
            "[I 2024-05-03 04:50:53,913] Trial 57 finished with value: 1.2267552642671058 and parameters: {'k': 71, 'graf_vektet_harmonic': False, 'initiell_respons': 'domain_mean', 'alpha': 0.004, 'maks_iterasjoner_harmonic': 59, 'maks_iterasjoner_heat': 29}. Best is trial 35 with value: 1.2253209079674003.\n",
            "[I 2024-05-03 04:50:54,475] Trial 58 finished with value: 1.2267171151416831 and parameters: {'k': 70, 'graf_vektet_harmonic': False, 'initiell_respons': 'domain_mean', 'alpha': 0.001, 'maks_iterasjoner_harmonic': 61, 'maks_iterasjoner_heat': 28}. Best is trial 35 with value: 1.2253209079674003.\n",
            "[I 2024-05-03 04:50:55,070] Trial 59 finished with value: 1.2266899818689503 and parameters: {'k': 66, 'graf_vektet_harmonic': False, 'initiell_respons': 'domain_mean', 'alpha': 0.002, 'maks_iterasjoner_harmonic': 57, 'maks_iterasjoner_heat': 29}. Best is trial 35 with value: 1.2253209079674003.\n",
            "[I 2024-05-03 04:50:55,631] Trial 60 finished with value: 1.2990516104362082 and parameters: {'k': 66, 'graf_vektet_harmonic': False, 'initiell_respons': 'domain_mean', 'alpha': 0.615, 'maks_iterasjoner_harmonic': 54, 'maks_iterasjoner_heat': 28}. Best is trial 35 with value: 1.2253209079674003.\n",
            "[I 2024-05-03 04:50:56,227] Trial 61 finished with value: 1.226779422941056 and parameters: {'k': 70, 'graf_vektet_harmonic': False, 'initiell_respons': 'domain_mean', 'alpha': 0.007, 'maks_iterasjoner_harmonic': 61, 'maks_iterasjoner_heat': 31}. Best is trial 35 with value: 1.2253209079674003.\n",
            "[I 2024-05-03 04:50:56,797] Trial 62 finished with value: 1.3287883675430978 and parameters: {'k': 69, 'graf_vektet_harmonic': False, 'initiell_respons': 'domain_mean', 'alpha': 0.758, 'maks_iterasjoner_harmonic': 50, 'maks_iterasjoner_heat': 31}. Best is trial 35 with value: 1.2253209079674003.\n",
            "[I 2024-05-03 04:50:57,378] Trial 63 finished with value: 1.2267501800899627 and parameters: {'k': 68, 'graf_vektet_harmonic': False, 'initiell_respons': 'domain_mean', 'alpha': 0.012, 'maks_iterasjoner_harmonic': 57, 'maks_iterasjoner_heat': 26}. Best is trial 35 with value: 1.2253209079674003.\n",
            "[I 2024-05-03 04:50:57,983] Trial 64 finished with value: 1.2305093146563033 and parameters: {'k': 74, 'graf_vektet_harmonic': False, 'initiell_respons': 'domain_mean', 'alpha': 0.081, 'maks_iterasjoner_harmonic': 55, 'maks_iterasjoner_heat': 25}. Best is trial 35 with value: 1.2253209079674003.\n",
            "[I 2024-05-03 04:50:58,568] Trial 65 finished with value: 1.2267081272796885 and parameters: {'k': 68, 'graf_vektet_harmonic': False, 'initiell_respons': 'domain_mean', 'alpha': 0.002, 'maks_iterasjoner_harmonic': 59, 'maks_iterasjoner_heat': 34}. Best is trial 35 with value: 1.2253209079674003.\n",
            "[I 2024-05-03 04:50:59,138] Trial 66 finished with value: 1.2277702426628385 and parameters: {'k': 68, 'graf_vektet_harmonic': False, 'initiell_respons': 'domain_mean', 'alpha': 0.054, 'maks_iterasjoner_harmonic': 46, 'maks_iterasjoner_heat': 35}. Best is trial 35 with value: 1.2253209079674003.\n",
            "[I 2024-05-03 04:50:59,726] Trial 67 finished with value: 1.230810178031814 and parameters: {'k': 74, 'graf_vektet_harmonic': False, 'initiell_respons': 'domain_mean', 'alpha': 0.085, 'maks_iterasjoner_harmonic': 60, 'maks_iterasjoner_heat': 37}. Best is trial 35 with value: 1.2253209079674003.\n",
            "[I 2024-05-03 04:51:00,304] Trial 68 finished with value: 1.227619010036983 and parameters: {'k': 67, 'graf_vektet_harmonic': False, 'initiell_respons': 'domain_mean', 'alpha': 0.054, 'maks_iterasjoner_harmonic': 76, 'maks_iterasjoner_heat': 44}. Best is trial 35 with value: 1.2253209079674003.\n",
            "[I 2024-05-03 04:51:00,897] Trial 69 finished with value: 1.226814621917904 and parameters: {'k': 73, 'graf_vektet_harmonic': False, 'initiell_respons': 'domain_mean', 'alpha': 0.006, 'maks_iterasjoner_harmonic': 51, 'maks_iterasjoner_heat': 34}. Best is trial 35 with value: 1.2253209079674003.\n",
            "[I 2024-05-03 04:51:01,500] Trial 70 finished with value: 1.2267704495451397 and parameters: {'k': 80, 'graf_vektet_harmonic': False, 'initiell_respons': 'domain_mean', 'alpha': 0.002, 'maks_iterasjoner_harmonic': 39, 'maks_iterasjoner_heat': 47}. Best is trial 35 with value: 1.2253209079674003.\n",
            "[I 2024-05-03 04:51:02,105] Trial 71 finished with value: 1.226810823108764 and parameters: {'k': 81, 'graf_vektet_harmonic': False, 'initiell_respons': 'domain_mean', 'alpha': 0.003, 'maks_iterasjoner_harmonic': 39, 'maks_iterasjoner_heat': 49}. Best is trial 35 with value: 1.2253209079674003.\n",
            "[I 2024-05-03 04:51:02,823] Trial 72 finished with value: 1.230550801154556 and parameters: {'k': 72, 'graf_vektet_harmonic': False, 'initiell_respons': 'domain_mean', 'alpha': 0.08600000000000001, 'maks_iterasjoner_harmonic': 58, 'maks_iterasjoner_heat': 58}. Best is trial 35 with value: 1.2253209079674003.\n",
            "[I 2024-05-03 04:51:04,074] Trial 73 finished with value: 1.2284202063633558 and parameters: {'k': 72, 'graf_vektet_harmonic': False, 'initiell_respons': 'domain_mean', 'alpha': 0.052000000000000005, 'maks_iterasjoner_harmonic': 64, 'maks_iterasjoner_heat': 29}. Best is trial 35 with value: 1.2253209079674003.\n",
            "[I 2024-05-03 04:51:05,367] Trial 74 finished with value: 1.2409425952180544 and parameters: {'k': 68, 'graf_vektet_harmonic': False, 'initiell_respons': 'domain_mean', 'alpha': 0.212, 'maks_iterasjoner_harmonic': 47, 'maks_iterasjoner_heat': 46}. Best is trial 35 with value: 1.2253209079674003.\n",
            "[I 2024-05-03 04:53:03,726] A new study created in memory with name: no-name-23b9af45-3a58-4af3-99d2-1ec051159736\n",
            "[I 2024-05-03 04:57:31,529] Trial 1 finished with value: 1.403348592866547 and parameters: {'k1': 20, 'k2': 15, 'p1': 4, 'p2': 10, 'max_iters': 7, 'pool_size': 48}. Best is trial 1 with value: 1.403348592866547.\n",
            "[I 2024-05-03 04:58:33,922] Trial 0 finished with value: 1.210161895061212 and parameters: {'k1': 12, 'k2': 10, 'p1': 5, 'p2': 6, 'max_iters': 9, 'pool_size': 72}. Best is trial 0 with value: 1.210161895061212.\n",
            "[I 2024-05-03 05:05:39,805] Trial 2 finished with value: 1.0118203161404025 and parameters: {'k1': 12, 'k2': 8, 'p1': 4, 'p2': 6, 'max_iters': 32, 'pool_size': 32}. Best is trial 2 with value: 1.0118203161404025.\n",
            "[I 2024-05-03 05:15:59,328] Trial 4 finished with value: 0.9137058866573007 and parameters: {'k1': 2, 'k2': 18, 'p1': 5, 'p2': 3, 'max_iters': 21, 'pool_size': 63}. Best is trial 4 with value: 0.9137058866573007.\n",
            "[I 2024-05-03 05:26:28,253] Trial 3 finished with value: 0.9647687855660069 and parameters: {'k1': 7, 'k2': 13, 'p1': 6, 'p2': 4, 'max_iters': 37, 'pool_size': 85}. Best is trial 4 with value: 0.9137058866573007.\n",
            "[I 2024-05-03 05:27:55,000] Trial 6 finished with value: 1.0612874778721197 and parameters: {'k1': 9, 'k2': 6, 'p1': 8, 'p2': 4, 'max_iters': 9, 'pool_size': 19}. Best is trial 4 with value: 0.9137058866573007.\n",
            "[I 2024-05-03 05:31:08,323] Trial 5 finished with value: 1.0908965988376673 and parameters: {'k1': 9, 'k2': 16, 'p1': 10, 'p2': 1, 'max_iters': 21, 'pool_size': 99}. Best is trial 4 with value: 0.9137058866573007.\n",
            "[I 2024-05-03 05:34:38,507] Trial 7 finished with value: 1.3399835727124496 and parameters: {'k1': 19, 'k2': 16, 'p1': 4, 'p2': 4, 'max_iters': 6, 'pool_size': 73}. Best is trial 4 with value: 0.9137058866573007.\n",
            "[I 2024-05-03 05:34:55,918] Trial 9 finished with value: 1.0897936676513829 and parameters: {'k1': 4, 'k2': 18, 'p1': 7, 'p2': 7, 'max_iters': 2, 'pool_size': 16}. Best is trial 4 with value: 0.9137058866573007.\n",
            "[I 2024-05-03 05:35:46,220] Trial 8 finished with value: 1.004396131837937 and parameters: {'k1': 14, 'k2': 3, 'p1': 7, 'p2': 1, 'max_iters': 13, 'pool_size': 56}. Best is trial 4 with value: 0.9137058866573007.\n",
            "[I 2024-05-03 05:43:22,760] Trial 10 finished with value: 0.8114550413117935 and parameters: {'k1': 2, 'k2': 6, 'p1': 3, 'p2': 9, 'max_iters': 12, 'pool_size': 97}. Best is trial 10 with value: 0.8114550413117935.\n",
            "[I 2024-05-03 05:46:29,129] Trial 11 finished with value: 0.8849756845582074 and parameters: {'k1': 1, 'k2': 20, 'p1': 1, 'p2': 2, 'max_iters': 48, 'pool_size': 45}. Best is trial 10 with value: 0.8114550413117935.\n",
            "[I 2024-05-03 05:46:32,208] Trial 13 finished with value: 0.843853678693938 and parameters: {'k1': 1, 'k2': 1, 'p1': 2, 'p2': 9, 'max_iters': 48, 'pool_size': 40}. Best is trial 10 with value: 0.8114550413117935.\n",
            "[I 2024-05-03 05:49:52,615] Trial 14 finished with value: 0.7959343047742109 and parameters: {'k1': 5, 'k2': 1, 'p1': 1, 'p2': 10, 'max_iters': 48, 'pool_size': 33}. Best is trial 14 with value: 0.7959343047742109.\n",
            "[I 2024-05-03 05:50:10,902] Trial 15 finished with value: 0.925898800515921 and parameters: {'k1': 5, 'k2': 4, 'p1': 2, 'p2': 8, 'max_iters': 37, 'pool_size': 4}. Best is trial 14 with value: 0.7959343047742109.\n",
            "[I 2024-05-03 05:53:46,087] Trial 16 finished with value: 0.7892548592549016 and parameters: {'k1': 5, 'k2': 1, 'p1': 1, 'p2': 10, 'max_iters': 17, 'pool_size': 100}. Best is trial 16 with value: 0.7892548592549016.\n",
            "[I 2024-05-03 05:56:14,379] Trial 17 finished with value: 0.7917568274869936 and parameters: {'k1': 6, 'k2': 2, 'p1': 1, 'p2': 9, 'max_iters': 29, 'pool_size': 31}. Best is trial 16 with value: 0.7892548592549016.\n",
            "[I 2024-05-03 05:58:41,891] Trial 18 finished with value: 0.8608197787714995 and parameters: {'k1': 8, 'k2': 4, 'p1': 2, 'p2': 8, 'max_iters': 27, 'pool_size': 23}. Best is trial 16 with value: 0.7892548592549016.\n",
            "[I 2024-05-03 05:59:27,795] Trial 19 finished with value: 1.1394493298429575 and parameters: {'k1': 16, 'k2': 10, 'p1': 1, 'p2': 8, 'max_iters': 19, 'pool_size': 5}. Best is trial 16 with value: 0.7892548592549016.\n",
            "[I 2024-05-03 06:04:23,611] Trial 12 finished with value: 1.0015291561111588 and parameters: {'k1': 1, 'k2': 20, 'p1': 1, 'p2': 10, 'max_iters': 21, 'pool_size': 100}. Best is trial 16 with value: 0.7892548592549016.\n",
            "[I 2024-05-03 06:12:19,279] Trial 20 finished with value: 0.8932957246452424 and parameters: {'k1': 6, 'k2': 7, 'p1': 3, 'p2': 10, 'max_iters': 29, 'pool_size': 80}. Best is trial 16 with value: 0.7892548592549016.\n",
            "[I 2024-05-03 06:15:07,863] Trial 22 finished with value: 0.7924093520167331 and parameters: {'k1': 4, 'k2': 1, 'p1': 1, 'p2': 9, 'max_iters': 42, 'pool_size': 34}. Best is trial 16 with value: 0.7892548592549016.\n",
            "[I 2024-05-03 06:17:29,585] Trial 21 finished with value: 0.8932369237803517 and parameters: {'k1': 6, 'k2': 7, 'p1': 3, 'p2': 7, 'max_iters': 27, 'pool_size': 81}. Best is trial 16 with value: 0.7892548592549016.\n",
            "[I 2024-05-03 06:20:12,625] Trial 23 finished with value: 0.7718229967843857 and parameters: {'k1': 4, 'k2': 2, 'p1': 3, 'p2': 9, 'max_iters': 42, 'pool_size': 34}. Best is trial 23 with value: 0.7718229967843857.\n",
            "[I 2024-05-03 06:20:37,347] Trial 24 finished with value: 0.7734026059786523 and parameters: {'k1': 4, 'k2': 2, 'p1': 2, 'p2': 9, 'max_iters': 42, 'pool_size': 30}. Best is trial 23 with value: 0.7718229967843857.\n",
            "[I 2024-05-03 06:26:11,980] Trial 25 finished with value: 0.7865098261962897 and parameters: {'k1': 4, 'k2': 3, 'p1': 2, 'p2': 9, 'max_iters': 34, 'pool_size': 56}. Best is trial 23 with value: 0.7718229967843857.\n",
            "[I 2024-05-03 06:28:50,108] Trial 26 finished with value: 0.7827536522083679 and parameters: {'k1': 3, 'k2': 4, 'p1': 2, 'p2': 7, 'max_iters': 43, 'pool_size': 57}. Best is trial 23 with value: 0.7718229967843857.\n",
            "[I 2024-05-03 06:34:46,103] Trial 27 finished with value: 0.7835741666621203 and parameters: {'k1': 3, 'k2': 4, 'p1': 3, 'p2': 7, 'max_iters': 42, 'pool_size': 57}. Best is trial 23 with value: 0.7718229967843857.\n",
            "[I 2024-05-03 06:34:52,308] Trial 28 finished with value: 0.7845127579261483 and parameters: {'k1': 3, 'k2': 4, 'p1': 3, 'p2': 7, 'max_iters': 43, 'pool_size': 41}. Best is trial 23 with value: 0.7718229967843857.\n",
            "[I 2024-05-03 06:40:55,306] Trial 29 finished with value: 0.9158021736169769 and parameters: {'k1': 10, 'k2': 5, 'p1': 4, 'p2': 5, 'max_iters': 42, 'pool_size': 25}. Best is trial 23 with value: 0.7718229967843857.\n",
            "[I 2024-05-03 06:58:26,631] Trial 31 finished with value: 0.9693790988379573 and parameters: {'k1': 8, 'k2': 9, 'p1': 5, 'p2': 6, 'max_iters': 39, 'pool_size': 66}. Best is trial 23 with value: 0.7718229967843857.\n",
            "[I 2024-05-03 06:59:32,937] Trial 30 finished with value: 1.0286161884943312 and parameters: {'k1': 11, 'k2': 10, 'p1': 5, 'p2': 6, 'max_iters': 44, 'pool_size': 68}. Best is trial 23 with value: 0.7718229967843857.\n",
            "[I 2024-05-03 07:05:47,090] Trial 32 finished with value: 0.7867134695868656 and parameters: {'k1': 3, 'k2': 3, 'p1': 3, 'p2': 8, 'max_iters': 45, 'pool_size': 54}. Best is trial 23 with value: 0.7718229967843857.\n",
            "[I 2024-05-03 07:07:46,796] Trial 33 finished with value: 0.791024314324181 and parameters: {'k1': 3, 'k2': 3, 'p1': 3, 'p2': 8, 'max_iters': 50, 'pool_size': 51}. Best is trial 23 with value: 0.7718229967843857.\n",
            "[I 2024-05-03 07:12:08,413] Trial 34 finished with value: 0.7744198955567765 and parameters: {'k1': 3, 'k2': 5, 'p1': 2, 'p2': 7, 'max_iters': 39, 'pool_size': 50}. Best is trial 23 with value: 0.7718229967843857.\n",
            "[I 2024-05-03 07:18:31,630] Trial 35 finished with value: 0.889323314530495 and parameters: {'k1': 2, 'k2': 12, 'p1': 4, 'p2': 7, 'max_iters': 39, 'pool_size': 43}. Best is trial 23 with value: 0.7718229967843857.\n",
            "[I 2024-05-03 07:22:45,613] Trial 36 finished with value: 0.9101344180060783 and parameters: {'k1': 2, 'k2': 12, 'p1': 2, 'p2': 7, 'max_iters': 38, 'pool_size': 47}. Best is trial 23 with value: 0.7718229967843857.\n",
            "[I 2024-05-03 07:25:08,871] Trial 38 finished with value: 0.9399387425443697 and parameters: {'k1': 7, 'k2': 6, 'p1': 2, 'p2': 5, 'max_iters': 35, 'pool_size': 13}. Best is trial 23 with value: 0.7718229967843857.\n",
            "[I 2024-05-03 07:26:26,884] Trial 37 finished with value: 0.8659832590569536 and parameters: {'k1': 7, 'k2': 6, 'p1': 2, 'p2': 6, 'max_iters': 34, 'pool_size': 49}. Best is trial 23 with value: 0.7718229967843857.\n",
            "[I 2024-05-03 07:41:30,266] Trial 39 finished with value: 1.0147345030358972 and parameters: {'k1': 13, 'k2': 8, 'p1': 4, 'p2': 5, 'max_iters': 32, 'pool_size': 61}. Best is trial 23 with value: 0.7718229967843857.\n",
            "[I 2024-05-03 07:46:48,575] Trial 41 finished with value: 0.7659763741313945 and parameters: {'k1': 4, 'k2': 2, 'p1': 10, 'p2': 8, 'max_iters': 45, 'pool_size': 39}. Best is trial 41 with value: 0.7659763741313945.\n",
            "[I 2024-05-03 07:50:39,632] Trial 40 finished with value: 1.0408501853343135 and parameters: {'k1': 13, 'k2': 8, 'p1': 10, 'p2': 5, 'max_iters': 46, 'pool_size': 62}. Best is trial 41 with value: 0.7659763741313945.\n",
            "[I 2024-05-03 07:50:49,401] Trial 42 finished with value: 0.7818948081450772 and parameters: {'k1': 4, 'k2': 2, 'p1': 9, 'p2': 8, 'max_iters': 46, 'pool_size': 29}. Best is trial 41 with value: 0.7659763741313945.\n",
            "[I 2024-05-03 07:55:21,692] Trial 43 finished with value: 0.7893009690601178 and parameters: {'k1': 4, 'k2': 2, 'p1': 6, 'p2': 8, 'max_iters': 40, 'pool_size': 38}. Best is trial 41 with value: 0.7659763741313945.\n",
            "[I 2024-05-03 07:56:37,495] Trial 44 finished with value: 0.7519664913732855 and parameters: {'k1': 5, 'k2': 2, 'p1': 9, 'p2': 8, 'max_iters': 46, 'pool_size': 36}. Best is trial 44 with value: 0.7519664913732855.\n",
            "[I 2024-05-03 07:59:56,817] Trial 45 finished with value: 0.7619791351214888 and parameters: {'k1': 5, 'k2': 2, 'p1': 9, 'p2': 9, 'max_iters': 47, 'pool_size': 28}. Best is trial 44 with value: 0.7519664913732855.\n",
            "[I 2024-05-03 08:02:57,226] Trial 46 finished with value: 0.7682669284587531 and parameters: {'k1': 5, 'k2': 2, 'p1': 8, 'p2': 9, 'max_iters': 49, 'pool_size': 37}. Best is trial 44 with value: 0.7519664913732855.\n",
            "[I 2024-05-03 08:07:33,934] Trial 47 finished with value: 0.7713330159608064 and parameters: {'k1': 7, 'k2': 2, 'p1': 9, 'p2': 9, 'max_iters': 49, 'pool_size': 37}. Best is trial 44 with value: 0.7519664913732855.\n",
            "[I 2024-05-03 08:11:07,447] Trial 48 finished with value: 0.8189607731745814 and parameters: {'k1': 8, 'k2': 2, 'p1': 9, 'p2': 10, 'max_iters': 50, 'pool_size': 36}. Best is trial 44 with value: 0.7519664913732855.\n",
            "[I 2024-05-03 08:13:46,973] Trial 49 finished with value: 0.9022645547348559 and parameters: {'k1': 8, 'k2': 5, 'p1': 9, 'p2': 10, 'max_iters': 50, 'pool_size': 23}. Best is trial 44 with value: 0.7519664913732855.\n",
            "[I 2024-05-03 08:16:19,639] Trial 51 finished with value: 0.7928185393517428 and parameters: {'k1': 6, 'k2': 1, 'p1': 8, 'p2': 9, 'max_iters': 47, 'pool_size': 20}. Best is trial 44 with value: 0.7519664913732855.\n",
            "[I 2024-05-03 08:18:25,080] Trial 50 finished with value: 0.9324063019338961 and parameters: {'k1': 9, 'k2': 5, 'p1': 9, 'p2': 9, 'max_iters': 48, 'pool_size': 25}. Best is trial 44 with value: 0.7519664913732855.\n",
            "[I 2024-05-03 08:21:25,432] Trial 52 finished with value: 0.7970015828630546 and parameters: {'k1': 5, 'k2': 3, 'p1': 8, 'p2': 9, 'max_iters': 48, 'pool_size': 28}. Best is trial 44 with value: 0.7519664913732855.\n",
            "[I 2024-05-03 08:24:56,260] Trial 53 finished with value: 0.824462693051726 and parameters: {'k1': 5, 'k2': 3, 'p1': 8, 'p2': 9, 'max_iters': 45, 'pool_size': 38}. Best is trial 44 with value: 0.7519664913732855.\n",
            "[I 2024-05-03 08:28:46,206] Trial 54 finished with value: 0.7880642481613175 and parameters: {'k1': 7, 'k2': 2, 'p1': 10, 'p2': 8, 'max_iters': 46, 'pool_size': 38}. Best is trial 44 with value: 0.7519664913732855.\n",
            "[I 2024-05-03 08:32:42,288] Trial 55 finished with value: 0.8138051814312179 and parameters: {'k1': 7, 'k2': 1, 'p1': 10, 'p2': 8, 'max_iters': 50, 'pool_size': 44}. Best is trial 44 with value: 0.7519664913732855.\n",
            "[I 2024-05-03 08:35:42,053] Trial 56 finished with value: 0.8099837010856468 and parameters: {'k1': 6, 'k2': 1, 'p1': 7, 'p2': 10, 'max_iters': 50, 'pool_size': 44}. Best is trial 44 with value: 0.7519664913732855.\n",
            "[I 2024-05-03 08:37:53,178] Trial 58 finished with value: 0.8124772458945524 and parameters: {'k1': 5, 'k2': 2, 'p1': 9, 'p2': 9, 'max_iters': 44, 'pool_size': 15}. Best is trial 44 with value: 0.7519664913732855.\n",
            "[I 2024-05-03 08:41:05,630] Trial 59 finished with value: 0.783232435787328 and parameters: {'k1': 1, 'k2': 4, 'p1': 10, 'p2': 10, 'max_iters': 36, 'pool_size': 34}. Best is trial 44 with value: 0.7519664913732855.\n",
            "[I 2024-05-03 08:41:25,079] Trial 60 finished with value: 1.1202996064467894 and parameters: {'k1': 6, 'k2': 15, 'p1': 9, 'p2': 2, 'max_iters': 2, 'pool_size': 27}. Best is trial 44 with value: 0.7519664913732855.\n",
            "[I 2024-05-03 08:44:37,061] Trial 57 finished with value: 1.005541882692039 and parameters: {'k1': 6, 'k2': 14, 'p1': 7, 'p2': 10, 'max_iters': 44, 'pool_size': 33}. Best is trial 44 with value: 0.7519664913732855.\n",
            "[I 2024-05-03 08:47:00,981] Trial 61 finished with value: 0.8073468180216896 and parameters: {'k1': 5, 'k2': 3, 'p1': 6, 'p2': 9, 'max_iters': 47, 'pool_size': 32}. Best is trial 44 with value: 0.7519664913732855.\n",
            "[I 2024-05-03 08:49:23,870] Trial 63 finished with value: 0.7763333248184976 and parameters: {'k1': 4, 'k2': 2, 'p1': 10, 'p2': 9, 'max_iters': 41, 'pool_size': 19}. Best is trial 44 with value: 0.7519664913732855.\n",
            "[I 2024-05-03 08:52:13,991] Trial 64 finished with value: 0.79698795091603 and parameters: {'k1': 2, 'k2': 2, 'p1': 8, 'p2': 9, 'max_iters': 41, 'pool_size': 30}. Best is trial 44 with value: 0.7519664913732855.\n",
            "[I 2024-05-03 08:52:24,838] Trial 62 finished with value: 0.9826315521716487 and parameters: {'k1': 20, 'k2': 3, 'p1': 10, 'p2': 9, 'max_iters': 41, 'pool_size': 20}. Best is trial 44 with value: 0.7519664913732855.\n",
            "[I 2024-05-03 08:57:15,186] Trial 65 finished with value: 0.7777363552267449 and parameters: {'k1': 4, 'k2': 1, 'p1': 9, 'p2': 8, 'max_iters': 48, 'pool_size': 40}. Best is trial 44 with value: 0.7519664913732855.\n",
            "[I 2024-05-03 09:00:44,254] Trial 67 finished with value: 0.9977855880638038 and parameters: {'k1': 16, 'k2': 4, 'p1': 8, 'p2': 10, 'max_iters': 43, 'pool_size': 10}. Best is trial 44 with value: 0.7519664913732855.\n",
            "[I 2024-05-03 09:03:48,871] Trial 66 finished with value: 0.9742627566981769 and parameters: {'k1': 16, 'k2': 1, 'p1': 9, 'p2': 8, 'max_iters': 48, 'pool_size': 41}. Best is trial 44 with value: 0.7519664913732855.\n",
            "[I 2024-05-03 09:04:41,708] Trial 68 finished with value: 0.7828759670784158 and parameters: {'k1': 5, 'k2': 1, 'p1': 9, 'p2': 8, 'max_iters': 45, 'pool_size': 35}. Best is trial 44 with value: 0.7519664913732855.\n",
            "[I 2024-05-03 09:09:52,632] Trial 70 finished with value: 0.7835150696760745 and parameters: {'k1': 3, 'k2': 3, 'p1': 10, 'p2': 9, 'max_iters': 37, 'pool_size': 46}. Best is trial 44 with value: 0.7519664913732855.\n",
            "[I 2024-05-03 09:11:33,795] Trial 71 finished with value: 0.9357574389550819 and parameters: {'k1': 10, 'k2': 2, 'p1': 8, 'p2': 10, 'max_iters': 13, 'pool_size': 26}. Best is trial 44 with value: 0.7519664913732855.\n",
            "[I 2024-05-03 09:13:31,932] Trial 69 finished with value: 0.8920563624141711 and parameters: {'k1': 10, 'k2': 3, 'p1': 10, 'p2': 8, 'max_iters': 45, 'pool_size': 36}. Best is trial 44 with value: 0.7519664913732855.\n",
            "[I 2024-05-03 09:15:36,532] Trial 72 finished with value: 0.8013392916179497 and parameters: {'k1': 3, 'k2': 5, 'p1': 1, 'p2': 7, 'max_iters': 24, 'pool_size': 50}. Best is trial 44 with value: 0.7519664913732855.\n",
            "[I 2024-05-03 09:21:24,446] Trial 73 finished with value: 0.7559106692168811 and parameters: {'k1': 2, 'k2': 5, 'p1': 1, 'p2': 7, 'max_iters': 43, 'pool_size': 51}. Best is trial 44 with value: 0.7519664913732855.\n",
            "[I 2024-05-03 09:21:39,923] Trial 74 finished with value: 0.7759895627348089 and parameters: {'k1': 3, 'k2': 4, 'p1': 2, 'p2': 9, 'max_iters': 39, 'pool_size': 52}. Best is trial 44 with value: 0.7519664913732855.\n",
            "[I 2024-05-03 09:21:56,523] A new study created in memory with name: no-name-eea5923a-945a-4c72-857d-3bc6c1e59bd8\n",
            "[I 2024-05-03 09:22:11,538] Trial 1 finished with value: 1.1447719677948722 and parameters: {'n_estimators': 408, 'criterion': 'squared_error', 'max_depth': 11, 'min_samples_leaf': 4, 'max_features': 0.159, 'maks_iterasjoner': 1, 'std_terskel': 0.014}. Best is trial 1 with value: 1.1447719677948722.\n",
            "[I 2024-05-03 09:22:14,200] Trial 0 finished with value: 1.120110062751673 and parameters: {'n_estimators': 390, 'criterion': 'absolute_error', 'max_depth': 4, 'min_samples_leaf': 5, 'max_features': 0.36, 'maks_iterasjoner': 11, 'std_terskel': 0.023}. Best is trial 0 with value: 1.120110062751673.\n",
            "[I 2024-05-03 09:22:20,939] Trial 2 finished with value: 1.372885601203169 and parameters: {'n_estimators': 237, 'criterion': 'poisson', 'max_depth': 2, 'min_samples_leaf': 4, 'max_features': 0.113, 'maks_iterasjoner': 7, 'std_terskel': 0.028999999999999998}. Best is trial 0 with value: 1.120110062751673.\n",
            "[I 2024-05-03 09:22:30,933] Trial 3 finished with value: 0.9041965875996555 and parameters: {'n_estimators': 412, 'criterion': 'poisson', 'max_depth': 5, 'min_samples_leaf': 5, 'max_features': 0.773, 'maks_iterasjoner': 12, 'std_terskel': 0.019000000000000003}. Best is trial 3 with value: 0.9041965875996555.\n",
            "[I 2024-05-03 09:22:37,523] Trial 4 finished with value: 1.1202050386673137 and parameters: {'n_estimators': 384, 'criterion': 'absolute_error', 'max_depth': 20, 'min_samples_leaf': 5, 'max_features': 0.33, 'maks_iterasjoner': 20, 'std_terskel': 0.02}. Best is trial 3 with value: 0.9041965875996555.\n",
            "[I 2024-05-03 09:22:43,024] Trial 6 finished with value: 0.8367825738783295 and parameters: {'n_estimators': 112, 'criterion': 'squared_error', 'max_depth': 7, 'min_samples_leaf': 1, 'max_features': 0.482, 'maks_iterasjoner': 12, 'std_terskel': 0.017}. Best is trial 6 with value: 0.8367825738783295.\n",
            "[I 2024-05-03 09:22:43,646] Trial 5 finished with value: 0.9988916965293149 and parameters: {'n_estimators': 340, 'criterion': 'poisson', 'max_depth': 4, 'min_samples_leaf': 2, 'max_features': 0.277, 'maks_iterasjoner': 15, 'std_terskel': 0.018000000000000002}. Best is trial 6 with value: 0.8367825738783295.\n",
            "[I 2024-05-03 09:22:58,359] Trial 7 finished with value: 0.8705472410718553 and parameters: {'n_estimators': 276, 'criterion': 'absolute_error', 'max_depth': 14, 'min_samples_leaf': 1, 'max_features': 0.35, 'maks_iterasjoner': 5, 'std_terskel': 0.025}. Best is trial 6 with value: 0.8367825738783295.\n",
            "[I 2024-05-03 09:23:01,534] Trial 8 finished with value: 0.9406167045533452 and parameters: {'n_estimators': 469, 'criterion': 'absolute_error', 'max_depth': 13, 'min_samples_leaf': 4, 'max_features': 0.544, 'maks_iterasjoner': 14, 'std_terskel': 0.019000000000000003}. Best is trial 6 with value: 0.8367825738783295.\n",
            "[I 2024-05-03 09:23:12,286] Trial 9 finished with value: 0.7810169407452239 and parameters: {'n_estimators': 218, 'criterion': 'absolute_error', 'max_depth': 19, 'min_samples_leaf': 1, 'max_features': 0.989, 'maks_iterasjoner': 10, 'std_terskel': 0.020999999999999998}. Best is trial 9 with value: 0.7810169407452239.\n",
            "[I 2024-05-03 09:23:14,222] Trial 10 finished with value: 1.4063358749588215 and parameters: {'n_estimators': 368, 'criterion': 'absolute_error', 'max_depth': 3, 'min_samples_leaf': 5, 'max_features': 0.10800000000000001, 'maks_iterasjoner': 8, 'std_terskel': 0.020999999999999998}. Best is trial 9 with value: 0.7810169407452239.\n",
            "[I 2024-05-03 09:23:18,870] Trial 12 finished with value: 0.7718223373628755 and parameters: {'n_estimators': 108, 'criterion': 'squared_error', 'max_depth': 29, 'min_samples_leaf': 1, 'max_features': 0.958, 'maks_iterasjoner': 17, 'std_terskel': 0.012}. Best is trial 12 with value: 0.7718223373628755.\n",
            "[I 2024-05-03 09:23:18,983] Trial 11 finished with value: 0.7789504060533774 and parameters: {'n_estimators': 171, 'criterion': 'friedman_mse', 'max_depth': 30, 'min_samples_leaf': 2, 'max_features': 0.993, 'maks_iterasjoner': 7, 'std_terskel': 0.011}. Best is trial 12 with value: 0.7718223373628755.\n",
            "[I 2024-05-03 09:23:23,567] Trial 14 finished with value: 0.7788031203245436 and parameters: {'n_estimators': 102, 'criterion': 'friedman_mse', 'max_depth': 30, 'min_samples_leaf': 2, 'max_features': 0.9329999999999999, 'maks_iterasjoner': 20, 'std_terskel': 0.01}. Best is trial 12 with value: 0.7718223373628755.\n",
            "[I 2024-05-03 09:23:23,987] Trial 13 finished with value: 0.7791208517913462 and parameters: {'n_estimators': 111, 'criterion': 'friedman_mse', 'max_depth': 29, 'min_samples_leaf': 2, 'max_features': 0.989, 'maks_iterasjoner': 19, 'std_terskel': 0.012}. Best is trial 12 with value: 0.7718223373628755.\n",
            "[I 2024-05-03 09:23:29,135] Trial 15 finished with value: 0.7731249936938555 and parameters: {'n_estimators': 114, 'criterion': 'friedman_mse', 'max_depth': 30, 'min_samples_leaf': 2, 'max_features': 0.794, 'maks_iterasjoner': 20, 'std_terskel': 0.01}. Best is trial 12 with value: 0.7718223373628755.\n",
            "[I 2024-05-03 09:23:30,617] Trial 16 finished with value: 0.820095071748385 and parameters: {'n_estimators': 168, 'criterion': 'friedman_mse', 'max_depth': 25, 'min_samples_leaf': 3, 'max_features': 0.761, 'maks_iterasjoner': 18, 'std_terskel': 0.01}. Best is trial 12 with value: 0.7718223373628755.\n",
            "[I 2024-05-03 09:23:37,641] Trial 17 finished with value: 0.8008321137180036 and parameters: {'n_estimators': 179, 'criterion': 'squared_error', 'max_depth': 24, 'min_samples_leaf': 3, 'max_features': 0.774, 'maks_iterasjoner': 17, 'std_terskel': 0.014}. Best is trial 12 with value: 0.7718223373628755.\n",
            "[I 2024-05-03 09:23:39,450] Trial 18 finished with value: 0.7996276401055051 and parameters: {'n_estimators': 186, 'criterion': 'squared_error', 'max_depth': 25, 'min_samples_leaf': 3, 'max_features': 0.8059999999999999, 'maks_iterasjoner': 16, 'std_terskel': 0.015}. Best is trial 12 with value: 0.7718223373628755.\n",
            "[I 2024-05-03 09:23:48,996] Trial 19 finished with value: 0.7969807349604651 and parameters: {'n_estimators': 279, 'criterion': 'squared_error', 'max_depth': 25, 'min_samples_leaf': 1, 'max_features': 0.66, 'maks_iterasjoner': 16, 'std_terskel': 0.015}. Best is trial 12 with value: 0.7718223373628755.\n",
            "[I 2024-05-03 09:23:50,839] Trial 20 finished with value: 0.7965593331372529 and parameters: {'n_estimators': 291, 'criterion': 'friedman_mse', 'max_depth': 19, 'min_samples_leaf': 1, 'max_features': 0.631, 'maks_iterasjoner': 14, 'std_terskel': 0.013000000000000001}. Best is trial 12 with value: 0.7718223373628755.\n",
            "[I 2024-05-03 09:23:55,397] Trial 21 finished with value: 0.7694487925756143 and parameters: {'n_estimators': 139, 'criterion': 'friedman_mse', 'max_depth': 19, 'min_samples_leaf': 2, 'max_features': 0.901, 'maks_iterasjoner': 14, 'std_terskel': 0.012}. Best is trial 21 with value: 0.7694487925756143.\n",
            "[I 2024-05-03 09:23:56,629] Trial 22 finished with value: 0.7691657482205647 and parameters: {'n_estimators': 129, 'criterion': 'friedman_mse', 'max_depth': 28, 'min_samples_leaf': 2, 'max_features': 0.878, 'maks_iterasjoner': 20, 'std_terskel': 0.01}. Best is trial 22 with value: 0.7691657482205647.\n",
            "[I 2024-05-03 09:24:00,771] Trial 23 finished with value: 0.7689765889883513 and parameters: {'n_estimators': 144, 'criterion': 'friedman_mse', 'max_depth': 22, 'min_samples_leaf': 2, 'max_features': 0.857, 'maks_iterasjoner': 17, 'std_terskel': 0.012}. Best is trial 23 with value: 0.7689765889883513.\n",
            "[I 2024-05-03 09:24:02,081] Trial 24 finished with value: 0.769222208587561 and parameters: {'n_estimators': 146, 'criterion': 'friedman_mse', 'max_depth': 22, 'min_samples_leaf': 2, 'max_features': 0.887, 'maks_iterasjoner': 17, 'std_terskel': 0.016}. Best is trial 23 with value: 0.7689765889883513.\n",
            "[I 2024-05-03 09:24:08,026] Trial 25 finished with value: 0.7675296593127231 and parameters: {'n_estimators': 143, 'criterion': 'friedman_mse', 'max_depth': 22, 'min_samples_leaf': 2, 'max_features': 0.886, 'maks_iterasjoner': 18, 'std_terskel': 0.016}. Best is trial 25 with value: 0.7675296593127231.\n",
            "[I 2024-05-03 09:24:12,021] Trial 26 finished with value: 0.8020356159024444 and parameters: {'n_estimators': 225, 'criterion': 'friedman_mse', 'max_depth': 22, 'min_samples_leaf': 3, 'max_features': 0.873, 'maks_iterasjoner': 18, 'std_terskel': 0.017}. Best is trial 25 with value: 0.7675296593127231.\n",
            "[I 2024-05-03 09:24:16,144] Trial 27 finished with value: 0.8023820330844064 and parameters: {'n_estimators': 214, 'criterion': 'friedman_mse', 'max_depth': 27, 'min_samples_leaf': 3, 'max_features': 0.862, 'maks_iterasjoner': 18, 'std_terskel': 0.016}. Best is trial 25 with value: 0.7675296593127231.\n",
            "[I 2024-05-03 09:24:20,402] Trial 28 finished with value: 0.8395634594247295 and parameters: {'n_estimators': 211, 'criterion': 'friedman_mse', 'max_depth': 27, 'min_samples_leaf': 3, 'max_features': 0.6859999999999999, 'maks_iterasjoner': 19, 'std_terskel': 0.013000000000000001}. Best is trial 25 with value: 0.7675296593127231.\n",
            "[I 2024-05-03 09:24:22,968] Trial 29 finished with value: 0.7884943264574232 and parameters: {'n_estimators': 145, 'criterion': 'friedman_mse', 'max_depth': 16, 'min_samples_leaf': 2, 'max_features': 0.693, 'maks_iterasjoner': 19, 'std_terskel': 0.013000000000000001}. Best is trial 25 with value: 0.7675296593127231.\n",
            "[I 2024-05-03 09:24:31,823] Trial 30 finished with value: 0.7876960580712231 and parameters: {'n_estimators': 252, 'criterion': 'friedman_mse', 'max_depth': 16, 'min_samples_leaf': 2, 'max_features': 0.698, 'maks_iterasjoner': 12, 'std_terskel': 0.025}. Best is trial 25 with value: 0.7675296593127231.\n",
            "[I 2024-05-03 09:24:33,062] Trial 31 finished with value: 0.8477899178294446 and parameters: {'n_estimators': 263, 'criterion': 'friedman_mse', 'max_depth': 22, 'min_samples_leaf': 2, 'max_features': 0.47, 'maks_iterasjoner': 12, 'std_terskel': 0.024}. Best is trial 25 with value: 0.7675296593127231.\n",
            "[I 2024-05-03 09:24:38,263] Trial 32 finished with value: 0.7690138761157639 and parameters: {'n_estimators': 145, 'criterion': 'friedman_mse', 'max_depth': 22, 'min_samples_leaf': 2, 'max_features': 0.874, 'maks_iterasjoner': 16, 'std_terskel': 0.016}. Best is trial 25 with value: 0.7675296593127231.\n",
            "[I 2024-05-03 09:24:39,600] Trial 33 finished with value: 0.7742474842914454 and parameters: {'n_estimators': 142, 'criterion': 'friedman_mse', 'max_depth': 22, 'min_samples_leaf': 2, 'max_features': 0.842, 'maks_iterasjoner': 17, 'std_terskel': 0.015}. Best is trial 25 with value: 0.7675296593127231.\n",
            "[I 2024-05-03 09:24:47,049] Trial 35 finished with value: 0.8204305536826899 and parameters: {'n_estimators': 197, 'criterion': 'poisson', 'max_depth': 17, 'min_samples_leaf': 3, 'max_features': 0.732, 'maks_iterasjoner': 15, 'std_terskel': 0.011}. Best is trial 25 with value: 0.7675296593127231.\n",
            "[I 2024-05-03 09:25:00,683] Trial 36 finished with value: 0.7723788974861383 and parameters: {'n_estimators': 324, 'criterion': 'friedman_mse', 'max_depth': 10, 'min_samples_leaf': 1, 'max_features': 0.826, 'maks_iterasjoner': 2, 'std_terskel': 0.014}. Best is trial 25 with value: 0.7675296593127231.\n",
            "[I 2024-05-03 09:25:00,691] Trial 34 finished with value: 0.781368127581119 and parameters: {'n_estimators': 139, 'criterion': 'friedman_mse', 'max_depth': 27, 'min_samples_leaf': 2, 'max_features': 0.85, 'maks_iterasjoner': 16, 'std_terskel': 0.03}. Best is trial 25 with value: 0.7675296593127231.\n",
            "[I 2024-05-03 09:25:07,598] Trial 37 finished with value: 0.8509940858578479 and parameters: {'n_estimators': 165, 'criterion': 'poisson', 'max_depth': 23, 'min_samples_leaf': 4, 'max_features': 0.92, 'maks_iterasjoner': 10, 'std_terskel': 0.018000000000000002}. Best is trial 25 with value: 0.7675296593127231.\n",
            "[I 2024-05-03 09:25:07,650] Trial 38 finished with value: 0.8431183684720818 and parameters: {'n_estimators': 163, 'criterion': 'poisson', 'max_depth': 24, 'min_samples_leaf': 4, 'max_features': 0.924, 'maks_iterasjoner': 10, 'std_terskel': 0.018000000000000002}. Best is trial 25 with value: 0.7675296593127231.\n",
            "[I 2024-05-03 09:25:13,328] Trial 39 finished with value: 0.812114740155549 and parameters: {'n_estimators': 131, 'criterion': 'friedman_mse', 'max_depth': 21, 'min_samples_leaf': 2, 'max_features': 0.605, 'maks_iterasjoner': 20, 'std_terskel': 0.022}. Best is trial 25 with value: 0.7675296593127231.\n",
            "[I 2024-05-03 09:25:24,245] Trial 41 finished with value: 0.9718562434517164 and parameters: {'n_estimators': 243, 'criterion': 'friedman_mse', 'max_depth': 18, 'min_samples_leaf': 1, 'max_features': 0.20700000000000002, 'maks_iterasjoner': 13, 'std_terskel': 0.028000000000000004}. Best is trial 25 with value: 0.7675296593127231.\n",
            "[I 2024-05-03 09:25:28,507] Trial 40 finished with value: 0.8018134663738943 and parameters: {'n_estimators': 491, 'criterion': 'friedman_mse', 'max_depth': 20, 'min_samples_leaf': 2, 'max_features': 0.617, 'maks_iterasjoner': 20, 'std_terskel': 0.028000000000000004}. Best is trial 25 with value: 0.7675296593127231.\n",
            "[I 2024-05-03 09:25:32,967] Trial 42 finished with value: 0.770045262014776 and parameters: {'n_estimators': 194, 'criterion': 'friedman_mse', 'max_depth': 21, 'min_samples_leaf': 2, 'max_features': 0.892, 'maks_iterasjoner': 18, 'std_terskel': 0.016}. Best is trial 25 with value: 0.7675296593127231.\n",
            "[I 2024-05-03 09:25:36,793] Trial 43 finished with value: 0.7698537243150543 and parameters: {'n_estimators': 195, 'criterion': 'friedman_mse', 'max_depth': 14, 'min_samples_leaf': 2, 'max_features': 0.893, 'maks_iterasjoner': 15, 'std_terskel': 0.016}. Best is trial 25 with value: 0.7675296593127231.\n",
            "[I 2024-05-03 09:25:39,079] Trial 44 finished with value: 0.7867575694546836 and parameters: {'n_estimators': 155, 'criterion': 'friedman_mse', 'max_depth': 12, 'min_samples_leaf': 2, 'max_features': 0.742, 'maks_iterasjoner': 15, 'std_terskel': 0.019000000000000003}. Best is trial 25 with value: 0.7675296593127231.\n",
            "[I 2024-05-03 09:25:44,270] Trial 45 finished with value: 0.8124710022960885 and parameters: {'n_estimators': 156, 'criterion': 'absolute_error', 'max_depth': 26, 'min_samples_leaf': 3, 'max_features': 0.955, 'maks_iterasjoner': 17, 'std_terskel': 0.019000000000000003}. Best is trial 25 with value: 0.7675296593127231.\n",
            "[I 2024-05-03 09:25:45,462] Trial 46 finished with value: 0.8152985750722549 and parameters: {'n_estimators': 120, 'criterion': 'absolute_error', 'max_depth': 8, 'min_samples_leaf': 3, 'max_features': 0.945, 'maks_iterasjoner': 17, 'std_terskel': 0.011}. Best is trial 25 with value: 0.7675296593127231.\n",
            "[I 2024-05-03 09:25:49,607] Trial 47 finished with value: 0.7708937396653313 and parameters: {'n_estimators': 121, 'criterion': 'friedman_mse', 'max_depth': 20, 'min_samples_leaf': 1, 'max_features': 0.8089999999999999, 'maks_iterasjoner': 19, 'std_terskel': 0.017}. Best is trial 25 with value: 0.7675296593127231.\n",
            "[I 2024-05-03 09:25:50,434] Trial 48 finished with value: 0.770316035721297 and parameters: {'n_estimators': 125, 'criterion': 'friedman_mse', 'max_depth': 23, 'min_samples_leaf': 1, 'max_features': 0.818, 'maks_iterasjoner': 19, 'std_terskel': 0.017}. Best is trial 25 with value: 0.7675296593127231.\n",
            "[I 2024-05-03 09:25:55,370] Trial 49 finished with value: 0.777711612254701 and parameters: {'n_estimators': 122, 'criterion': 'friedman_mse', 'max_depth': 28, 'min_samples_leaf': 2, 'max_features': 0.999, 'maks_iterasjoner': 16, 'std_terskel': 0.012}. Best is trial 25 with value: 0.7675296593127231.\n",
            "[I 2024-05-03 09:26:03,665] Trial 51 finished with value: 0.8803908394970932 and parameters: {'n_estimators': 180, 'criterion': 'poisson', 'max_depth': 17, 'min_samples_leaf': 2, 'max_features': 0.394, 'maks_iterasjoner': 13, 'std_terskel': 0.02}. Best is trial 25 with value: 0.7675296593127231.\n",
            "[I 2024-05-03 09:26:07,588] Trial 50 finished with value: 0.7719346107557069 and parameters: {'n_estimators': 445, 'criterion': 'poisson', 'max_depth': 28, 'min_samples_leaf': 2, 'max_features': 0.994, 'maks_iterasjoner': 16, 'std_terskel': 0.02}. Best is trial 25 with value: 0.7675296593127231.\n",
            "[I 2024-05-03 09:26:08,144] Trial 52 finished with value: 0.7728387306038698 and parameters: {'n_estimators': 100, 'criterion': 'friedman_mse', 'max_depth': 19, 'min_samples_leaf': 2, 'max_features': 0.877, 'maks_iterasjoner': 14, 'std_terskel': 0.014}. Best is trial 25 with value: 0.7675296593127231.\n",
            "[I 2024-05-03 09:26:14,449] Trial 53 finished with value: 0.769013876115764 and parameters: {'n_estimators': 145, 'criterion': 'friedman_mse', 'max_depth': 18, 'min_samples_leaf': 2, 'max_features': 0.895, 'maks_iterasjoner': 18, 'std_terskel': 0.014}. Best is trial 25 with value: 0.7675296593127231.\n",
            "[I 2024-05-03 09:26:14,682] Trial 54 finished with value: 0.7685345447911596 and parameters: {'n_estimators': 148, 'criterion': 'friedman_mse', 'max_depth': 23, 'min_samples_leaf': 2, 'max_features': 0.909, 'maks_iterasjoner': 18, 'std_terskel': 0.012}. Best is trial 25 with value: 0.7675296593127231.\n",
            "[I 2024-05-03 09:26:20,272] Trial 55 finished with value: 0.7736649101289692 and parameters: {'n_estimators': 151, 'criterion': 'friedman_mse', 'max_depth': 24, 'min_samples_leaf': 2, 'max_features': 0.78, 'maks_iterasjoner': 18, 'std_terskel': 0.015}. Best is trial 25 with value: 0.7675296593127231.\n",
            "[I 2024-05-03 09:26:20,984] Trial 56 finished with value: 0.7715276841229135 and parameters: {'n_estimators': 157, 'criterion': 'squared_error', 'max_depth': 24, 'min_samples_leaf': 2, 'max_features': 0.782, 'maks_iterasjoner': 18, 'std_terskel': 0.011}. Best is trial 25 with value: 0.7675296593127231.\n",
            "[I 2024-05-03 09:26:28,414] Trial 57 finished with value: 0.7732812377253029 and parameters: {'n_estimators': 175, 'criterion': 'squared_error', 'max_depth': 21, 'min_samples_leaf': 1, 'max_features': 0.954, 'maks_iterasjoner': 20, 'std_terskel': 0.01}. Best is trial 25 with value: 0.7675296593127231.\n",
            "[I 2024-05-03 09:26:29,012] Trial 58 finished with value: 0.77519855305338 and parameters: {'n_estimators': 182, 'criterion': 'friedman_mse', 'max_depth': 21, 'min_samples_leaf': 1, 'max_features': 0.954, 'maks_iterasjoner': 20, 'std_terskel': 0.01}. Best is trial 25 with value: 0.7675296593127231.\n",
            "[I 2024-05-03 09:26:33,359] Trial 59 finished with value: 0.8014098847314435 and parameters: {'n_estimators': 133, 'criterion': 'friedman_mse', 'max_depth': 26, 'min_samples_leaf': 3, 'max_features': 0.919, 'maks_iterasjoner': 19, 'std_terskel': 0.013000000000000001}. Best is trial 25 with value: 0.7675296593127231.\n",
            "[I 2024-05-03 09:26:35,249] Trial 60 finished with value: 0.8197773357060446 and parameters: {'n_estimators': 133, 'criterion': 'absolute_error', 'max_depth': 26, 'min_samples_leaf': 3, 'max_features': 0.844, 'maks_iterasjoner': 19, 'std_terskel': 0.013000000000000001}. Best is trial 25 with value: 0.7675296593127231.\n",
            "[I 2024-05-03 09:26:40,511] Trial 62 finished with value: 0.7698493142370155 and parameters: {'n_estimators': 107, 'criterion': 'friedman_mse', 'max_depth': 23, 'min_samples_leaf': 2, 'max_features': 0.869, 'maks_iterasjoner': 17, 'std_terskel': 0.014}. Best is trial 25 with value: 0.7675296593127231.\n",
            "[I 2024-05-03 09:26:45,902] Trial 63 finished with value: 1.0767186399740176 and parameters: {'n_estimators': 148, 'criterion': 'friedman_mse', 'max_depth': 1, 'min_samples_leaf': 2, 'max_features': 0.897, 'maks_iterasjoner': 18, 'std_terskel': 0.012}. Best is trial 25 with value: 0.7675296593127231.\n",
            "[I 2024-05-03 09:26:51,223] Trial 61 finished with value: 0.7945913923067196 and parameters: {'n_estimators': 353, 'criterion': 'absolute_error', 'max_depth': 18, 'min_samples_leaf': 2, 'max_features': 0.86, 'maks_iterasjoner': 4, 'std_terskel': 0.012}. Best is trial 25 with value: 0.7675296593127231.\n",
            "[I 2024-05-03 09:26:53,792] Trial 64 finished with value: 0.7737160433062377 and parameters: {'n_estimators': 205, 'criterion': 'friedman_mse', 'max_depth': 18, 'min_samples_leaf': 2, 'max_features': 0.832, 'maks_iterasjoner': 17, 'std_terskel': 0.015}. Best is trial 25 with value: 0.7675296593127231.\n",
            "[I 2024-05-03 09:27:00,239] Trial 65 finished with value: 0.785127767101957 and parameters: {'n_estimators': 202, 'criterion': 'friedman_mse', 'max_depth': 22, 'min_samples_leaf': 2, 'max_features': 0.748, 'maks_iterasjoner': 16, 'std_terskel': 0.016}. Best is trial 25 with value: 0.7675296593127231.\n",
            "[I 2024-05-03 09:27:03,717] Trial 66 finished with value: 0.7836617283419344 and parameters: {'n_estimators': 229, 'criterion': 'friedman_mse', 'max_depth': 14, 'min_samples_leaf': 2, 'max_features': 0.742, 'maks_iterasjoner': 16, 'std_terskel': 0.016}. Best is trial 25 with value: 0.7675296593127231.\n",
            "[I 2024-05-03 09:27:09,834] Trial 67 finished with value: 0.8902174234311165 and parameters: {'n_estimators': 230, 'criterion': 'friedman_mse', 'max_depth': 15, 'min_samples_leaf': 5, 'max_features': 0.97, 'maks_iterasjoner': 15, 'std_terskel': 0.011}. Best is trial 25 with value: 0.7675296593127231.\n",
            "[I 2024-05-03 09:27:11,624] Trial 68 finished with value: 0.779599784563808 and parameters: {'n_estimators': 169, 'criterion': 'friedman_mse', 'max_depth': 25, 'min_samples_leaf': 2, 'max_features': 0.977, 'maks_iterasjoner': 18, 'std_terskel': 0.011}. Best is trial 25 with value: 0.7675296593127231.\n",
            "[I 2024-05-03 09:27:17,005] Trial 69 finished with value: 0.7699044340348508 and parameters: {'n_estimators': 169, 'criterion': 'friedman_mse', 'max_depth': 25, 'min_samples_leaf': 2, 'max_features': 0.919, 'maks_iterasjoner': 18, 'std_terskel': 0.013000000000000001}. Best is trial 25 with value: 0.7675296593127231.\n",
            "[I 2024-05-03 09:27:22,933] Trial 71 finished with value: 0.7954993894347977 and parameters: {'n_estimators': 113, 'criterion': 'friedman_mse', 'max_depth': 20, 'min_samples_leaf': 3, 'max_features': 0.801, 'maks_iterasjoner': 9, 'std_terskel': 0.014}. Best is trial 25 with value: 0.7675296593127231.\n",
            "[I 2024-05-03 09:27:27,318] Trial 70 finished with value: 0.8027716010403492 and parameters: {'n_estimators': 408, 'criterion': 'friedman_mse', 'max_depth': 20, 'min_samples_leaf': 3, 'max_features': 0.922, 'maks_iterasjoner': 9, 'std_terskel': 0.014}. Best is trial 25 with value: 0.7675296593127231.\n",
            "[I 2024-05-03 09:27:29,282] Trial 72 finished with value: 0.7680420334433904 and parameters: {'n_estimators': 142, 'criterion': 'friedman_mse', 'max_depth': 19, 'min_samples_leaf': 2, 'max_features': 0.903, 'maks_iterasjoner': 14, 'std_terskel': 0.012}. Best is trial 25 with value: 0.7675296593127231.\n",
            "[I 2024-05-03 09:27:32,818] Trial 73 finished with value: 0.7680420334433903 and parameters: {'n_estimators': 142, 'criterion': 'friedman_mse', 'max_depth': 23, 'min_samples_leaf': 2, 'max_features': 0.894, 'maks_iterasjoner': 17, 'std_terskel': 0.012}. Best is trial 25 with value: 0.7675296593127231.\n",
            "[I 2024-05-03 09:27:34,060] Trial 74 finished with value: 0.7684293940787531 and parameters: {'n_estimators': 140, 'criterion': 'friedman_mse', 'max_depth': 23, 'min_samples_leaf': 2, 'max_features': 0.879, 'maks_iterasjoner': 17, 'std_terskel': 0.012}. Best is trial 25 with value: 0.7675296593127231.\n",
            "[I 2024-05-03 09:27:34,599] A new study created in memory with name: no-name-956a8133-7209-4453-b6ef-3ce315f88004\n",
            "[I 2024-05-03 09:27:41,318] Trial 0 finished with value: 1.3490828122536005 and parameters: {'k': 374, 'graf_vektet_harmonic': False, 'initiell_respons': 'domain_mean', 'alpha': 0.892, 'maks_iterasjoner_harmonic': 84, 'maks_iterasjoner_heat': 24}. Best is trial 0 with value: 1.3490828122536005.\n",
            "[I 2024-05-03 09:27:45,829] Trial 1 finished with value: 1.3694671761325128 and parameters: {'k': 695, 'graf_vektet_harmonic': False, 'initiell_respons': 'domain_median', 'alpha': 0.962, 'maks_iterasjoner_harmonic': 62, 'maks_iterasjoner_heat': 7}. Best is trial 0 with value: 1.3490828122536005.\n",
            "[I 2024-05-03 09:27:50,560] Trial 2 finished with value: 3.54527275848992 and parameters: {'k': 702, 'graf_vektet_harmonic': True, 'initiell_respons': 'domain_mean', 'alpha': 0.9590000000000001, 'maks_iterasjoner_harmonic': 67, 'maks_iterasjoner_heat': 33}. Best is trial 0 with value: 1.3490828122536005.\n",
            "[I 2024-05-03 09:27:55,429] Trial 3 finished with value: 1.2459802953080379 and parameters: {'k': 514, 'graf_vektet_harmonic': False, 'initiell_respons': 'domain_mean', 'alpha': 0.246, 'maks_iterasjoner_harmonic': 62, 'maks_iterasjoner_heat': 26}. Best is trial 3 with value: 1.2459802953080379.\n",
            "[I 2024-05-03 09:28:00,018] Trial 4 finished with value: 1.3420774480524715 and parameters: {'k': 709, 'graf_vektet_harmonic': False, 'initiell_respons': 'domain_mean', 'alpha': 0.935, 'maks_iterasjoner_harmonic': 72, 'maks_iterasjoner_heat': 10}. Best is trial 3 with value: 1.2459802953080379.\n",
            "[I 2024-05-03 09:28:05,252] Trial 5 finished with value: 1.300161069664488 and parameters: {'k': 693, 'graf_vektet_harmonic': True, 'initiell_respons': 'domain_mean', 'alpha': 0.09, 'maks_iterasjoner_harmonic': 97, 'maks_iterasjoner_heat': 11}. Best is trial 3 with value: 1.2459802953080379.\n",
            "[I 2024-05-03 09:28:08,764] Trial 6 finished with value: 3.5405784791150974 and parameters: {'k': 454, 'graf_vektet_harmonic': True, 'initiell_respons': 'domain_median', 'alpha': 0.968, 'maks_iterasjoner_harmonic': 14, 'maks_iterasjoner_heat': 59}. Best is trial 3 with value: 1.2459802953080379.\n",
            "[I 2024-05-03 09:28:12,144] Trial 7 finished with value: 3.262311775554002 and parameters: {'k': 608, 'graf_vektet_harmonic': True, 'initiell_respons': 'domain_median', 'alpha': 0.8290000000000001, 'maks_iterasjoner_harmonic': 10, 'maks_iterasjoner_heat': 31}. Best is trial 3 with value: 1.2459802953080379.\n",
            "[I 2024-05-03 09:28:15,691] Trial 8 finished with value: 1.2561095324021785 and parameters: {'k': 402, 'graf_vektet_harmonic': False, 'initiell_respons': 'domain_median', 'alpha': 0.23700000000000002, 'maks_iterasjoner_harmonic': 40, 'maks_iterasjoner_heat': 24}. Best is trial 3 with value: 1.2459802953080379.\n",
            "[I 2024-05-03 09:28:21,014] Trial 9 finished with value: 2.776982201654432 and parameters: {'k': 563, 'graf_vektet_harmonic': True, 'initiell_respons': 'domain_median', 'alpha': 0.63, 'maks_iterasjoner_harmonic': 58, 'maks_iterasjoner_heat': 34}. Best is trial 3 with value: 1.2459802953080379.\n",
            "[I 2024-05-03 09:28:24,939] Trial 10 finished with value: 1.2559152899623862 and parameters: {'k': 505, 'graf_vektet_harmonic': False, 'initiell_respons': 'domain_mean', 'alpha': 0.387, 'maks_iterasjoner_harmonic': 37, 'maks_iterasjoner_heat': 84}. Best is trial 3 with value: 1.2459802953080379.\n",
            "[I 2024-05-03 09:28:28,811] Trial 11 finished with value: 1.2563349978374898 and parameters: {'k': 479, 'graf_vektet_harmonic': False, 'initiell_respons': 'domain_mean', 'alpha': 0.36, 'maks_iterasjoner_harmonic': 34, 'maks_iterasjoner_heat': 93}. Best is trial 3 with value: 1.2459802953080379.\n",
            "[I 2024-05-03 09:28:34,744] Trial 12 finished with value: 1.3003085893162112 and parameters: {'k': 516, 'graf_vektet_harmonic': False, 'initiell_respons': 'domain_mean', 'alpha': 0.495, 'maks_iterasjoner_harmonic': 31, 'maks_iterasjoner_heat': 74}. Best is trial 3 with value: 1.2459802953080379.\n",
            "[I 2024-05-03 09:28:39,037] Trial 13 finished with value: 1.2263775888521484 and parameters: {'k': 589, 'graf_vektet_harmonic': False, 'initiell_respons': 'domain_mean', 'alpha': 0.061, 'maks_iterasjoner_harmonic': 45, 'maks_iterasjoner_heat': 99}. Best is trial 13 with value: 1.2263775888521484.\n",
            "[I 2024-05-03 09:28:43,266] Trial 14 finished with value: 1.2262466860528645 and parameters: {'k': 588, 'graf_vektet_harmonic': False, 'initiell_respons': 'domain_mean', 'alpha': 0.046, 'maks_iterasjoner_harmonic': 45, 'maks_iterasjoner_heat': 52}. Best is trial 14 with value: 1.2262466860528645.\n",
            "[I 2024-05-03 09:28:49,407] Trial 15 finished with value: 1.2189963044697198 and parameters: {'k': 619, 'graf_vektet_harmonic': False, 'initiell_respons': 'domain_mean', 'alpha': 0.055, 'maks_iterasjoner_harmonic': 23, 'maks_iterasjoner_heat': 55}. Best is trial 15 with value: 1.2189963044697198.\n",
            "[I 2024-05-03 09:28:53,707] Trial 16 finished with value: 1.221406441427961 and parameters: {'k': 655, 'graf_vektet_harmonic': False, 'initiell_respons': 'domain_mean', 'alpha': 0.03, 'maks_iterasjoner_harmonic': 23, 'maks_iterasjoner_heat': 54}. Best is trial 15 with value: 1.2189963044697198.\n",
            "[I 2024-05-03 09:28:58,606] Trial 17 finished with value: 1.2341635608754746 and parameters: {'k': 650, 'graf_vektet_harmonic': False, 'initiell_respons': 'domain_mean', 'alpha': 0.182, 'maks_iterasjoner_harmonic': 22, 'maks_iterasjoner_heat': 64}. Best is trial 15 with value: 1.2189963044697198.\n",
            "[I 2024-05-03 09:29:04,016] Trial 18 finished with value: 3.2452941052207294 and parameters: {'k': 649, 'graf_vektet_harmonic': False, 'initiell_respons': 'domain_mean', 'alpha': 0.676, 'maks_iterasjoner_harmonic': 1, 'maks_iterasjoner_heat': 43}. Best is trial 15 with value: 1.2189963044697198.\n",
            "[I 2024-05-03 09:29:08,303] Trial 19 finished with value: 1.22581083506899 and parameters: {'k': 640, 'graf_vektet_harmonic': False, 'initiell_respons': 'domain_mean', 'alpha': 0.155, 'maks_iterasjoner_harmonic': 24, 'maks_iterasjoner_heat': 72}. Best is trial 15 with value: 1.2189963044697198.\n",
            "[I 2024-05-03 09:29:13,595] Trial 20 finished with value: 1.8699777800263444 and parameters: {'k': 622, 'graf_vektet_harmonic': False, 'initiell_respons': 'domain_mean', 'alpha': 0.363, 'maks_iterasjoner_harmonic': 5, 'maks_iterasjoner_heat': 46}. Best is trial 15 with value: 1.2189963044697198.\n",
            "[I 2024-05-03 09:29:18,700] Trial 21 finished with value: 1.2260410567005968 and parameters: {'k': 643, 'graf_vektet_harmonic': False, 'initiell_respons': 'domain_mean', 'alpha': 0.003, 'maks_iterasjoner_harmonic': 23, 'maks_iterasjoner_heat': 70}. Best is trial 15 with value: 1.2189963044697198.\n",
            "[I 2024-05-03 09:29:23,097] Trial 22 finished with value: 1.2264142948672732 and parameters: {'k': 671, 'graf_vektet_harmonic': False, 'initiell_respons': 'domain_mean', 'alpha': 0.147, 'maks_iterasjoner_harmonic': 21, 'maks_iterasjoner_heat': 82}. Best is trial 15 with value: 1.2189963044697198.\n",
            "[I 2024-05-03 09:29:29,231] Trial 23 finished with value: 1.222326852979482 and parameters: {'k': 562, 'graf_vektet_harmonic': False, 'initiell_respons': 'domain_mean', 'alpha': 0.128, 'maks_iterasjoner_harmonic': 25, 'maks_iterasjoner_heat': 54}. Best is trial 15 with value: 1.2189963044697198.\n",
            "[I 2024-05-03 09:29:33,310] Trial 24 finished with value: 1.3283217663333715 and parameters: {'k': 560, 'graf_vektet_harmonic': False, 'initiell_respons': 'domain_mean', 'alpha': 0.23800000000000002, 'maks_iterasjoner_harmonic': 14, 'maks_iterasjoner_heat': 54}. Best is trial 15 with value: 1.2189963044697198.\n",
            "[I 2024-05-03 09:29:37,481] Trial 25 finished with value: 1.225146727050026 and parameters: {'k': 590, 'graf_vektet_harmonic': False, 'initiell_respons': 'domain_mean', 'alpha': 0.011, 'maks_iterasjoner_harmonic': 29, 'maks_iterasjoner_heat': 45}. Best is trial 15 with value: 1.2189963044697198.\n",
            "[I 2024-05-03 09:29:42,851] Trial 26 finished with value: 1.321960426666565 and parameters: {'k': 559, 'graf_vektet_harmonic': True, 'initiell_respons': 'domain_median', 'alpha': 0.1, 'maks_iterasjoner_harmonic': 52, 'maks_iterasjoner_heat': 62}. Best is trial 15 with value: 1.2189963044697198.\n",
            "[I 2024-05-03 09:29:46,777] Trial 27 finished with value: 1.3500805880069238 and parameters: {'k': 533, 'graf_vektet_harmonic': False, 'initiell_respons': 'domain_mean', 'alpha': 0.304, 'maks_iterasjoner_harmonic': 17, 'maks_iterasjoner_heat': 56}. Best is trial 15 with value: 1.2189963044697198.\n",
            "[I 2024-05-03 09:29:51,112] Trial 28 finished with value: 1.2951496694976836 and parameters: {'k': 673, 'graf_vektet_harmonic': False, 'initiell_respons': 'domain_mean', 'alpha': 0.47000000000000003, 'maks_iterasjoner_harmonic': 28, 'maks_iterasjoner_heat': 39}. Best is trial 15 with value: 1.2189963044697198.\n",
            "[I 2024-05-03 09:29:57,140] Trial 29 finished with value: 1.278604034452969 and parameters: {'k': 617, 'graf_vektet_harmonic': False, 'initiell_respons': 'domain_mean', 'alpha': 0.128, 'maks_iterasjoner_harmonic': 7, 'maks_iterasjoner_heat': 68}. Best is trial 15 with value: 1.2189963044697198.\n",
            "[I 2024-05-03 09:30:00,949] Trial 30 finished with value: 1.2910555439371252 and parameters: {'k': 452, 'graf_vektet_harmonic': False, 'initiell_respons': 'domain_mean', 'alpha': 0.621, 'maks_iterasjoner_harmonic': 42, 'maks_iterasjoner_heat': 79}. Best is trial 15 with value: 1.2189963044697198.\n",
            "[I 2024-05-03 09:30:05,124] Trial 31 finished with value: 1.2261579085082266 and parameters: {'k': 588, 'graf_vektet_harmonic': False, 'initiell_respons': 'domain_mean', 'alpha': 0.004, 'maks_iterasjoner_harmonic': 30, 'maks_iterasjoner_heat': 47}. Best is trial 15 with value: 1.2189963044697198.\n",
            "[I 2024-05-03 09:30:11,277] Trial 32 finished with value: 1.2247092654184248 and parameters: {'k': 602, 'graf_vektet_harmonic': False, 'initiell_respons': 'domain_mean', 'alpha': 0.006, 'maks_iterasjoner_harmonic': 17, 'maks_iterasjoner_heat': 42}. Best is trial 15 with value: 1.2189963044697198.\n",
            "[I 2024-05-03 09:30:15,405] Trial 33 finished with value: 1.2918135624122404 and parameters: {'k': 621, 'graf_vektet_harmonic': False, 'initiell_respons': 'domain_mean', 'alpha': 0.194, 'maks_iterasjoner_harmonic': 13, 'maks_iterasjoner_heat': 39}. Best is trial 15 with value: 1.2189963044697198.\n",
            "[I 2024-05-03 09:30:19,698] Trial 34 finished with value: 1.2180267005833723 and parameters: {'k': 674, 'graf_vektet_harmonic': False, 'initiell_respons': 'domain_mean', 'alpha': 0.082, 'maks_iterasjoner_harmonic': 19, 'maks_iterasjoner_heat': 51}. Best is trial 34 with value: 1.2180267005833723.\n",
            "[I 2024-05-03 09:30:26,263] Trial 35 finished with value: 1.225515030882409 and parameters: {'k': 714, 'graf_vektet_harmonic': False, 'initiell_respons': 'domain_mean', 'alpha': 0.096, 'maks_iterasjoner_harmonic': 36, 'maks_iterasjoner_heat': 51}. Best is trial 34 with value: 1.2180267005833723.\n",
            "[I 2024-05-03 09:30:29,960] Trial 36 finished with value: 1.7760055892165796 and parameters: {'k': 674, 'graf_vektet_harmonic': True, 'initiell_respons': 'domain_median', 'alpha': 0.28300000000000003, 'maks_iterasjoner_harmonic': 51, 'maks_iterasjoner_heat': 64}. Best is trial 34 with value: 1.2180267005833723.\n",
            "[I 2024-05-03 09:30:35,506] Trial 37 finished with value: 1.2307281636965124 and parameters: {'k': 690, 'graf_vektet_harmonic': False, 'initiell_respons': 'domain_mean', 'alpha': 0.068, 'maks_iterasjoner_harmonic': 76, 'maks_iterasjoner_heat': 57}. Best is trial 34 with value: 1.2180267005833723.\n",
            "[I 2024-05-03 09:30:40,079] Trial 38 finished with value: 1.545193915007436 and parameters: {'k': 722, 'graf_vektet_harmonic': True, 'initiell_respons': 'domain_mean', 'alpha': 0.197, 'maks_iterasjoner_harmonic': 18, 'maks_iterasjoner_heat': 18}. Best is trial 34 with value: 1.2180267005833723.\n",
            "[I 2024-05-03 09:30:44,770] Trial 39 finished with value: 1.4560843206734693 and parameters: {'k': 666, 'graf_vektet_harmonic': False, 'initiell_respons': 'domain_median', 'alpha': 0.8210000000000001, 'maks_iterasjoner_harmonic': 100, 'maks_iterasjoner_heat': 1}. Best is trial 34 with value: 1.2180267005833723.\n",
            "[I 2024-05-03 09:30:51,028] Trial 40 finished with value: 1.2366556014157848 and parameters: {'k': 633, 'graf_vektet_harmonic': False, 'initiell_respons': 'domain_mean', 'alpha': 0.124, 'maks_iterasjoner_harmonic': 90, 'maks_iterasjoner_heat': 32}. Best is trial 34 with value: 1.2180267005833723.\n",
            "[I 2024-05-03 09:30:55,401] Trial 41 finished with value: 1.221353321685802 and parameters: {'k': 601, 'graf_vektet_harmonic': False, 'initiell_respons': 'domain_mean', 'alpha': 0.038, 'maks_iterasjoner_harmonic': 26, 'maks_iterasjoner_heat': 39}. Best is trial 34 with value: 1.2180267005833723.\n",
            "[I 2024-05-03 09:30:59,527] Trial 42 finished with value: 1.2203317704408514 and parameters: {'k': 570, 'graf_vektet_harmonic': False, 'initiell_respons': 'domain_mean', 'alpha': 0.05, 'maks_iterasjoner_harmonic': 26, 'maks_iterasjoner_heat': 49}. Best is trial 34 with value: 1.2180267005833723.\n",
            "[I 2024-05-03 09:31:05,780] Trial 43 finished with value: 1.2163451579787767 and parameters: {'k': 691, 'graf_vektet_harmonic': False, 'initiell_respons': 'domain_mean', 'alpha': 0.056, 'maks_iterasjoner_harmonic': 10, 'maks_iterasjoner_heat': 49}. Best is trial 43 with value: 1.2163451579787767.\n",
            "[I 2024-05-03 09:31:09,983] Trial 44 finished with value: 1.2209666190932578 and parameters: {'k': 690, 'graf_vektet_harmonic': False, 'initiell_respons': 'domain_mean', 'alpha': 0.065, 'maks_iterasjoner_harmonic': 7, 'maks_iterasjoner_heat': 36}. Best is trial 43 with value: 1.2163451579787767.\n",
            "[I 2024-05-03 09:31:13,568] Trial 45 finished with value: 1.27113323522748 and parameters: {'k': 695, 'graf_vektet_harmonic': True, 'initiell_respons': 'domain_median', 'alpha': 0.075, 'maks_iterasjoner_harmonic': 1, 'maks_iterasjoner_heat': 28}. Best is trial 43 with value: 1.2163451579787767.\n",
            "[I 2024-05-03 09:31:19,685] Trial 46 finished with value: 1.5166707256146323 and parameters: {'k': 698, 'graf_vektet_harmonic': False, 'initiell_respons': 'domain_mean', 'alpha': 0.291, 'maks_iterasjoner_harmonic': 8, 'maks_iterasjoner_heat': 20}. Best is trial 43 with value: 1.2163451579787767.\n",
            "[I 2024-05-03 09:31:23,952] Trial 47 finished with value: 1.2924292325993778 and parameters: {'k': 687, 'graf_vektet_harmonic': False, 'initiell_respons': 'domain_mean', 'alpha': 0.194, 'maks_iterasjoner_harmonic': 12, 'maks_iterasjoner_heat': 35}. Best is trial 43 with value: 1.2163451579787767.\n",
            "[I 2024-05-03 09:31:28,206] Trial 48 finished with value: 1.71535034658934 and parameters: {'k': 723, 'graf_vektet_harmonic': False, 'initiell_respons': 'domain_mean', 'alpha': 0.422, 'maks_iterasjoner_harmonic': 8, 'maks_iterasjoner_heat': 60}. Best is trial 43 with value: 1.2163451579787767.\n",
            "[I 2024-05-03 09:31:33,796] Trial 49 finished with value: 1.2710526946283747 and parameters: {'k': 660, 'graf_vektet_harmonic': True, 'initiell_respons': 'domain_mean', 'alpha': 0.07100000000000001, 'maks_iterasjoner_harmonic': 33, 'maks_iterasjoner_heat': 49}. Best is trial 43 with value: 1.2163451579787767.\n",
            "[I 2024-05-03 09:31:37,246] Trial 50 finished with value: 1.5951354526478752 and parameters: {'k': 393, 'graf_vektet_harmonic': False, 'initiell_respons': 'domain_median', 'alpha': 0.25, 'maks_iterasjoner_harmonic': 4, 'maks_iterasjoner_heat': 50}. Best is trial 43 with value: 1.2163451579787767.\n",
            "[I 2024-05-03 09:31:42,603] Trial 51 finished with value: 1.2174592565280282 and parameters: {'k': 537, 'graf_vektet_harmonic': False, 'initiell_respons': 'domain_mean', 'alpha': 0.047, 'maks_iterasjoner_harmonic': 18, 'maks_iterasjoner_heat': 38}. Best is trial 43 with value: 1.2163451579787767.\n",
            "[I 2024-05-03 09:31:49,084] Trial 52 finished with value: 1.2442668753806427 and parameters: {'k': 529, 'graf_vektet_harmonic': False, 'initiell_respons': 'domain_mean', 'alpha': 0.158, 'maks_iterasjoner_harmonic': 17, 'maks_iterasjoner_heat': 36}. Best is trial 43 with value: 1.2163451579787767.\n",
            "[I 2024-05-03 09:31:52,766] Trial 53 finished with value: 1.2158046835951446 and parameters: {'k': 476, 'graf_vektet_harmonic': False, 'initiell_respons': 'domain_mean', 'alpha': 0.047, 'maks_iterasjoner_harmonic': 10, 'maks_iterasjoner_heat': 29}. Best is trial 53 with value: 1.2158046835951446.\n",
            "[I 2024-05-03 09:31:56,456] Trial 54 finished with value: 1.2337517537404756 and parameters: {'k': 483, 'graf_vektet_harmonic': False, 'initiell_respons': 'domain_mean', 'alpha': 0.105, 'maks_iterasjoner_harmonic': 12, 'maks_iterasjoner_heat': 25}. Best is trial 53 with value: 1.2158046835951446.\n",
            "[I 2024-05-03 09:32:02,137] Trial 55 finished with value: 1.2178233609807683 and parameters: {'k': 451, 'graf_vektet_harmonic': False, 'initiell_respons': 'domain_mean', 'alpha': 0.045, 'maks_iterasjoner_harmonic': 19, 'maks_iterasjoner_heat': 29}. Best is trial 53 with value: 1.2158046835951446.\n",
            "[I 2024-05-03 09:32:05,710] Trial 56 finished with value: 1.2411048910972644 and parameters: {'k': 427, 'graf_vektet_harmonic': False, 'initiell_respons': 'domain_mean', 'alpha': 0.166, 'maks_iterasjoner_harmonic': 20, 'maks_iterasjoner_heat': 14}. Best is trial 53 with value: 1.2158046835951446.\n",
            "[I 2024-05-03 09:32:09,769] Trial 57 finished with value: 1.2163972314462732 and parameters: {'k': 465, 'graf_vektet_harmonic': False, 'initiell_respons': 'domain_mean', 'alpha': 0.042, 'maks_iterasjoner_harmonic': 14, 'maks_iterasjoner_heat': 29}. Best is trial 53 with value: 1.2158046835951446.\n",
            "[I 2024-05-03 09:32:15,396] Trial 58 finished with value: 1.2385339375608069 and parameters: {'k': 465, 'graf_vektet_harmonic': False, 'initiell_respons': 'domain_mean', 'alpha': 0.10200000000000001, 'maks_iterasjoner_harmonic': 10, 'maks_iterasjoner_heat': 21}. Best is trial 53 with value: 1.2158046835951446.\n",
            "[I 2024-05-03 09:32:19,035] Trial 59 finished with value: 1.2180484677680015 and parameters: {'k': 448, 'graf_vektet_harmonic': False, 'initiell_respons': 'domain_mean', 'alpha': 0.03, 'maks_iterasjoner_harmonic': 15, 'maks_iterasjoner_heat': 29}. Best is trial 53 with value: 1.2158046835951446.\n",
            "[I 2024-05-03 09:32:22,710] Trial 60 finished with value: 1.5972545719602382 and parameters: {'k': 500, 'graf_vektet_harmonic': False, 'initiell_respons': 'domain_mean', 'alpha': 0.229, 'maks_iterasjoner_harmonic': 3, 'maks_iterasjoner_heat': 30}. Best is trial 53 with value: 1.2158046835951446.\n",
            "[I 2024-05-03 09:32:27,723] Trial 61 finished with value: 1.217215168937093 and parameters: {'k': 436, 'graf_vektet_harmonic': False, 'initiell_respons': 'domain_mean', 'alpha': 0.035, 'maks_iterasjoner_harmonic': 15, 'maks_iterasjoner_heat': 28}. Best is trial 53 with value: 1.2158046835951446.\n",
            "[I 2024-05-03 09:32:31,646] Trial 62 finished with value: 1.2160390118499478 and parameters: {'k': 416, 'graf_vektet_harmonic': False, 'initiell_respons': 'domain_mean', 'alpha': 0.034, 'maks_iterasjoner_harmonic': 11, 'maks_iterasjoner_heat': 23}. Best is trial 53 with value: 1.2158046835951446.\n",
            "[I 2024-05-03 09:32:35,130] Trial 63 finished with value: 1.2165602798633002 and parameters: {'k': 426, 'graf_vektet_harmonic': False, 'initiell_respons': 'domain_mean', 'alpha': 0.032, 'maks_iterasjoner_harmonic': 12, 'maks_iterasjoner_heat': 16}. Best is trial 53 with value: 1.2158046835951446.\n",
            "[I 2024-05-03 09:32:38,611] Trial 64 finished with value: 1.2713139594053267 and parameters: {'k': 421, 'graf_vektet_harmonic': False, 'initiell_respons': 'domain_mean', 'alpha': 0.137, 'maks_iterasjoner_harmonic': 10, 'maks_iterasjoner_heat': 13}. Best is trial 53 with value: 1.2158046835951446.\n",
            "[I 2024-05-03 09:32:44,065] Trial 65 finished with value: 1.2170224859971108 and parameters: {'k': 431, 'graf_vektet_harmonic': False, 'initiell_respons': 'domain_mean', 'alpha': 0.018000000000000002, 'maks_iterasjoner_harmonic': 5, 'maks_iterasjoner_heat': 8}. Best is trial 53 with value: 1.2158046835951446.\n",
            "[I 2024-05-03 09:32:47,318] Trial 66 finished with value: 1.2143430272488436 and parameters: {'k': 375, 'graf_vektet_harmonic': False, 'initiell_respons': 'domain_mean', 'alpha': 0.028, 'maks_iterasjoner_harmonic': 1, 'maks_iterasjoner_heat': 5}. Best is trial 66 with value: 1.2143430272488436.\n",
            "[I 2024-05-03 09:32:50,607] Trial 67 finished with value: 1.2230566179030076 and parameters: {'k': 373, 'graf_vektet_harmonic': False, 'initiell_respons': 'domain_mean', 'alpha': 0.005, 'maks_iterasjoner_harmonic': 4, 'maks_iterasjoner_heat': 5}. Best is trial 66 with value: 1.2143430272488436.\n",
            "[I 2024-05-03 09:32:54,288] Trial 68 finished with value: 1.3199166845170038 and parameters: {'k': 395, 'graf_vektet_harmonic': True, 'initiell_respons': 'domain_mean', 'alpha': 0.108, 'maks_iterasjoner_harmonic': 1, 'maks_iterasjoner_heat': 8}. Best is trial 66 with value: 1.2143430272488436.\n",
            "[I 2024-05-03 09:32:58,825] Trial 69 finished with value: 1.241478866990225 and parameters: {'k': 412, 'graf_vektet_harmonic': False, 'initiell_respons': 'domain_median', 'alpha': 0.02, 'maks_iterasjoner_harmonic': 6, 'maks_iterasjoner_heat': 17}. Best is trial 66 with value: 1.2143430272488436.\n",
            "[I 2024-05-03 09:33:02,418] Trial 70 finished with value: 1.3083032350647046 and parameters: {'k': 367, 'graf_vektet_harmonic': False, 'initiell_respons': 'domain_mean', 'alpha': 0.669, 'maks_iterasjoner_harmonic': 66, 'maks_iterasjoner_heat': 4}. Best is trial 66 with value: 1.2143430272488436.\n",
            "[I 2024-05-03 09:33:05,897] Trial 71 finished with value: 1.2261046462315075 and parameters: {'k': 428, 'graf_vektet_harmonic': False, 'initiell_respons': 'domain_mean', 'alpha': 0.081, 'maks_iterasjoner_harmonic': 10, 'maks_iterasjoner_heat': 11}. Best is trial 66 with value: 1.2143430272488436.\n",
            "[I 2024-05-03 09:33:11,463] Trial 72 finished with value: 1.2176282911030638 and parameters: {'k': 443, 'graf_vektet_harmonic': False, 'initiell_respons': 'domain_mean', 'alpha': 0.03, 'maks_iterasjoner_harmonic': 14, 'maks_iterasjoner_heat': 23}. Best is trial 66 with value: 1.2143430272488436.\n",
            "[I 2024-05-03 09:33:15,068] Trial 73 finished with value: 1.253987133962994 and parameters: {'k': 471, 'graf_vektet_harmonic': False, 'initiell_respons': 'domain_mean', 'alpha': 0.121, 'maks_iterasjoner_harmonic': 10, 'maks_iterasjoner_heat': 15}. Best is trial 66 with value: 1.2143430272488436.\n",
            "[I 2024-05-03 09:33:18,409] Trial 74 finished with value: 2.5912209863586164 and parameters: {'k': 388, 'graf_vektet_harmonic': False, 'initiell_respons': 'domain_mean', 'alpha': 0.5640000000000001, 'maks_iterasjoner_harmonic': 4, 'maks_iterasjoner_heat': 9}. Best is trial 66 with value: 1.2143430272488436.\n"
          ]
        }
      ],
      "source": [
        "# Går igjennom andeler av markerte andeler\n",
        "for andel in andel_av_markert:\n",
        "\n",
        "  # Finner tilsvarende umarkerte andeler\n",
        "  umarkert_andel = andel_umarkert(andel, trening_markert, trening_umarkert)\n",
        "\n",
        "  # Filtrer umarkert sett\n",
        "  ubenyttet_andel = (1.0 - umarkert_andel)\n",
        "  treningssett_umarkert, _, enzymtyper_treningssett_umarkert, _\\\n",
        "  = train_test_split(trening_umarkert,\n",
        "                      enzymtyper_umarkert,\n",
        "                      test_size=ubenyttet_andel,\n",
        "                      stratify=enzymtyper_umarkert,\n",
        "                      random_state=random_seed)\n",
        "\n",
        "  # Treningssett\n",
        "  treningssett = pd.concat([trening_markert, treningssett_umarkert],\n",
        "                          axis=0)\n",
        "  treningssett = treningssett.sort_index(ascending=True)\n",
        "\n",
        "\n",
        "  # Antall splitt etter minste enxymtype\n",
        "  n_splitt = n_splitt_enzym(rå_data, trening_markert)\n",
        "\n",
        "\n",
        "  # Modelloptimalisering, trening og evaulering av Coreg, Selv-RFR og BHD\n",
        "  semi_modell_evaluering_1(dict_res_opt=res_semi.dict_res_1_design_opt,\n",
        "                            dict_res=res_semi.dict_res_1_design,\n",
        "                            rå_data=rå_data,\n",
        "                            treningssett_markert=trening_markert,\n",
        "                            enzymtyper_treningssett_markert=enzymtyper_markert,\n",
        "                            treningssett_umarkert=treningssett_umarkert,\n",
        "                            enzymtyper_treningssett_umarkert=enzymtyper_treningssett_umarkert,\n",
        "                            treningssett=treningssett,\n",
        "                            testsett=testsett,\n",
        "                            n_splitt=n_splitt,\n",
        "                            n_gjentagelser=n_gjentagelser,\n",
        "                            n_runder=n_runder_andel,\n",
        "                            test_andel=test_andel,\n",
        "                            trenings_andel=trenings_andel,\n",
        "                            random_seed=random_seed)\n",
        "\n",
        "  # Lagring av resulatater\n",
        "  res_1_design_semi = pd.DataFrame(res_semi.dict_res_1_design)\n",
        "  res_1_design_opt_semi = pd.DataFrame(res_semi.dict_res_1_design_opt)\n",
        "\n",
        "  res_1_design_semi.to_csv('/content/drive/MyDrive/MasterV24/Bioco_data/Resultater/smallmolecules/smallmolecules_res_1_design_semi.csv')\n",
        "  res_1_design_opt_semi.to_csv('/content/drive/MyDrive/MasterV24/Bioco_data/Resultater/smallmolecules/smallmolecules_res_1_design_opt_semi.csv')"
      ]
    },
    {
      "cell_type": "markdown",
      "metadata": {
        "id": "NlToFxjlSrzm"
      },
      "source": [
        "Beste modell"
      ]
    },
    {
      "cell_type": "code",
      "execution_count": null,
      "metadata": {
        "id": "zBrQPgMbSrzm"
      },
      "outputs": [],
      "source": []
    },
    {
      "cell_type": "markdown",
      "metadata": {
        "id": "4EHm1oIBSrzm"
      },
      "source": [
        "## Alternativ 2: Et testsett fordelt på dag og kontinuitet"
      ]
    },
    {
      "cell_type": "code",
      "execution_count": null,
      "metadata": {
        "colab": {
          "base_uri": "https://localhost:8080/"
        },
        "id": "yDf-H922Srzm",
        "outputId": "71b28f5a-9ef7-4dca-a9c9-13f0e80baff6"
      },
      "outputs": [
        {
          "name": "stdout",
          "output_type": "stream",
          "text": [
            "Enzymtyper Fordeling: Trening markert\n",
            "            Frekvens  Andel\n",
            "EnzymeCode                 \n",
            "B                 39  20.97\n",
            "E                 39  20.97\n",
            "C                 38  20.43\n",
            "D                 37  19.89\n",
            "A2                29  15.59\n",
            "A1                 4   2.15\n",
            "Enzymtyper Fordeling: Test\n",
            "            Frekvens  Andel\n",
            "EnzymeCode                 \n",
            "E                 36  24.66\n",
            "C                 28  19.18\n",
            "B                 26  17.81\n",
            "D                 23  15.75\n",
            "A2                19  13.01\n",
            "A1                14   9.59\n",
            "Enzymtyper Fordeling: Trening umarkert\n",
            "            Frekvens  Andel\n",
            "EnzymeCode                 \n",
            "D               1926  19.01\n",
            "A1              1826  18.02\n",
            "B               1728  17.05\n",
            "C               1699  16.77\n",
            "E               1631  16.09\n",
            "A2              1324  13.06\n"
          ]
        }
      ],
      "source": [
        "# testandel\n",
        "test_andel = 0.8\n",
        "\n",
        "# Deler datasettet i trening og testsett\n",
        "trening_markert, testsett, trening_umarkert, trening\\\n",
        "= trening_testsett_oppdeling_dag(rå_data,\n",
        "                                 data_design,\n",
        "                                 test_andel=test_andel,\n",
        "                                 test_ekskluder_kalkun_kylling=True)\n",
        "\n",
        "#Oversikt over fordelingen av enzymtyper i trening og testsett\n",
        "print(\"Enzymtyper Fordeling: Trening markert\")\n",
        "print(enzymfordeling(rå_data, trening_markert))\n",
        "print(\"Enzymtyper Fordeling: Test\")\n",
        "print(enzymfordeling(rå_data, testsett))\n",
        "print(\"Enzymtyper Fordeling: Trening umarkert\")\n",
        "print(enzymfordeling(rå_data, trening_umarkert))"
      ]
    },
    {
      "cell_type": "code",
      "execution_count": null,
      "metadata": {
        "colab": {
          "background_save": true,
          "base_uri": "https://localhost:8080/"
        },
        "id": "yAlp9n3HSrzn",
        "outputId": "c071f391-0ff1-400d-f863-205d8d14310b"
      },
      "outputs": [
        {
          "name": "stderr",
          "output_type": "stream",
          "text": [
            "[I 2024-05-03 13:09:03,037] A new study created in memory with name: no-name-6f948776-5b07-4e51-8467-89ddf5ae5f55\n",
            "[I 2024-05-03 13:13:53,895] Trial 1 finished with value: 0.7332144691259612 and parameters: {'k1': 18, 'k2': 4, 'p1': 1, 'p2': 4, 'max_iters': 20, 'pool_size': 170}. Best is trial 1 with value: 0.7332144691259612.\n",
            "[I 2024-05-03 13:18:07,547] Trial 0 finished with value: 0.8464390799462637 and parameters: {'k1': 3, 'k2': 15, 'p1': 5, 'p2': 9, 'max_iters': 36, 'pool_size': 55}. Best is trial 1 with value: 0.7332144691259612.\n",
            "[I 2024-05-03 13:20:11,211] Trial 2 finished with value: 0.7199390420204909 and parameters: {'k1': 16, 'k2': 3, 'p1': 2, 'p2': 5, 'max_iters': 40, 'pool_size': 91}. Best is trial 2 with value: 0.7199390420204909.\n",
            "[I 2024-05-03 13:21:04,210] Trial 3 finished with value: 0.7921181746070953 and parameters: {'k1': 15, 'k2': 4, 'p1': 2, 'p2': 9, 'max_iters': 12, 'pool_size': 70}. Best is trial 2 with value: 0.7199390420204909.\n",
            "[I 2024-05-03 13:23:32,855] Trial 4 finished with value: 0.9639930431211512 and parameters: {'k1': 7, 'k2': 8, 'p1': 10, 'p2': 10, 'max_iters': 16, 'pool_size': 59}. Best is trial 2 with value: 0.7199390420204909.\n",
            "[I 2024-05-03 13:25:11,208] Trial 6 finished with value: 0.7465514715826792 and parameters: {'k1': 7, 'k2': 4, 'p1': 1, 'p2': 10, 'max_iters': 33, 'pool_size': 43}. Best is trial 2 with value: 0.7199390420204909.\n",
            "[I 2024-05-03 13:30:39,110] Trial 5 finished with value: 1.0346056265476649 and parameters: {'k1': 11, 'k2': 13, 'p1': 9, 'p2': 5, 'max_iters': 49, 'pool_size': 98}. Best is trial 2 with value: 0.7199390420204909.\n",
            "[I 2024-05-03 13:34:02,587] Trial 8 finished with value: 0.8266781275456617 and parameters: {'k1': 1, 'k2': 14, 'p1': 7, 'p2': 6, 'max_iters': 12, 'pool_size': 129}. Best is trial 2 with value: 0.7199390420204909.\n",
            "[I 2024-05-03 13:34:52,785] Trial 9 finished with value: 0.7568982902817288 and parameters: {'k1': 1, 'k2': 3, 'p1': 10, 'p2': 2, 'max_iters': 35, 'pool_size': 25}. Best is trial 2 with value: 0.7199390420204909.\n",
            "[I 2024-05-03 13:37:35,213] Trial 7 finished with value: 1.1491779437010587 and parameters: {'k1': 14, 'k2': 16, 'p1': 6, 'p2': 8, 'max_iters': 42, 'pool_size': 189}. Best is trial 2 with value: 0.7199390420204909.\n",
            "[I 2024-05-03 13:39:49,107] Trial 11 finished with value: 0.9954154765383587 and parameters: {'k1': 20, 'k2': 9, 'p1': 4, 'p2': 2, 'max_iters': 4, 'pool_size': 131}. Best is trial 2 with value: 0.7199390420204909.\n",
            "[I 2024-05-03 13:40:22,402] Trial 10 finished with value: 0.8983205853540082 and parameters: {'k1': 8, 'k2': 10, 'p1': 7, 'p2': 2, 'max_iters': 46, 'pool_size': 158}. Best is trial 2 with value: 0.7199390420204909.\n",
            "[I 2024-05-03 13:48:23,026] Trial 12 finished with value: 0.8404357518818588 and parameters: {'k1': 20, 'k2': 1, 'p1': 3, 'p2': 4, 'max_iters': 24, 'pool_size': 195}. Best is trial 2 with value: 0.7199390420204909.\n",
            "[I 2024-05-03 13:49:22,644] Trial 13 finished with value: 0.8325934214401745 and parameters: {'k1': 20, 'k2': 1, 'p1': 3, 'p2': 5, 'max_iters': 25, 'pool_size': 194}. Best is trial 2 with value: 0.7199390420204909.\n",
            "[I 2024-05-03 13:55:48,346] Trial 15 finished with value: 0.844774212730299 and parameters: {'k1': 16, 'k2': 7, 'p1': 1, 'p2': 7, 'max_iters': 20, 'pool_size': 93}. Best is trial 2 with value: 0.7199390420204909.\n",
            "[I 2024-05-03 13:55:51,535] Trial 14 finished with value: 0.7901521889832286 and parameters: {'k1': 16, 'k2': 7, 'p1': 1, 'p2': 4, 'max_iters': 25, 'pool_size': 96}. Best is trial 2 with value: 0.7199390420204909.\n",
            "[I 2024-05-03 14:06:53,467] Trial 16 finished with value: 0.997650391573049 and parameters: {'k1': 17, 'k2': 20, 'p1': 2, 'p2': 4, 'max_iters': 30, 'pool_size': 137}. Best is trial 2 with value: 0.7199390420204909.\n",
            "[I 2024-05-03 14:09:02,531] Trial 17 finished with value: 0.9635944278392646 and parameters: {'k1': 12, 'k2': 19, 'p1': 3, 'p2': 4, 'max_iters': 31, 'pool_size': 132}. Best is trial 2 with value: 0.7199390420204909.\n",
            "[I 2024-05-03 14:13:08,112] Trial 18 finished with value: 0.7815026035416981 and parameters: {'k1': 12, 'k2': 5, 'p1': 4, 'p2': 1, 'max_iters': 41, 'pool_size': 170}. Best is trial 2 with value: 0.7199390420204909.\n",
            "[I 2024-05-03 14:13:13,732] Trial 20 finished with value: 1.0549653392089373 and parameters: {'k1': 18, 'k2': 11, 'p1': 2, 'p2': 6, 'max_iters': 1, 'pool_size': 3}. Best is trial 2 with value: 0.7199390420204909.\n",
            "[I 2024-05-03 14:16:12,249] Trial 19 finished with value: 0.7938695184656043 and parameters: {'k1': 13, 'k2': 5, 'p1': 4, 'p2': 1, 'max_iters': 40, 'pool_size': 168}. Best is trial 2 with value: 0.7199390420204909.\n",
            "[I 2024-05-03 14:17:44,219] Trial 22 finished with value: 0.7274645400254764 and parameters: {'k1': 8, 'k2': 2, 'p1': 1, 'p2': 7, 'max_iters': 31, 'pool_size': 37}. Best is trial 2 with value: 0.7199390420204909.\n",
            "[I 2024-05-03 14:20:09,423] Trial 23 finished with value: 0.730395652574704 and parameters: {'k1': 9, 'k2': 2, 'p1': 1, 'p2': 7, 'max_iters': 19, 'pool_size': 75}. Best is trial 2 with value: 0.7199390420204909.\n",
            "[I 2024-05-03 14:22:18,807] Trial 21 finished with value: 0.9041287237670302 and parameters: {'k1': 14, 'k2': 6, 'p1': 5, 'p2': 7, 'max_iters': 40, 'pool_size': 79}. Best is trial 2 with value: 0.7199390420204909.\n",
            "[I 2024-05-03 14:23:28,415] Trial 24 finished with value: 0.7385663875804379 and parameters: {'k1': 9, 'k2': 2, 'p1': 2, 'p2': 7, 'max_iters': 29, 'pool_size': 80}. Best is trial 2 with value: 0.7199390420204909.\n",
            "[I 2024-05-03 14:24:05,117] Trial 25 finished with value: 0.7420190000518965 and parameters: {'k1': 9, 'k2': 2, 'p1': 2, 'p2': 7, 'max_iters': 28, 'pool_size': 30}. Best is trial 2 with value: 0.7199390420204909.\n",
            "[I 2024-05-03 14:24:52,921] Trial 26 finished with value: 0.7329063108862215 and parameters: {'k1': 5, 'k2': 2, 'p1': 1, 'p2': 8, 'max_iters': 37, 'pool_size': 30}. Best is trial 2 with value: 0.7199390420204909.\n",
            "[I 2024-05-03 14:26:32,511] Trial 27 finished with value: 0.7341071105510082 and parameters: {'k1': 4, 'k2': 2, 'p1': 1, 'p2': 8, 'max_iters': 37, 'pool_size': 113}. Best is trial 2 with value: 0.7199390420204909.\n",
            "[I 2024-05-03 14:27:44,963] Trial 28 finished with value: 0.7415657941894978 and parameters: {'k1': 5, 'k2': 1, 'p1': 3, 'p2': 6, 'max_iters': 20, 'pool_size': 111}. Best is trial 2 with value: 0.7199390420204909.\n",
            "[I 2024-05-03 14:29:57,154] Trial 29 finished with value: 0.8992862692987544 and parameters: {'k1': 10, 'k2': 6, 'p1': 3, 'p2': 6, 'max_iters': 20, 'pool_size': 57}. Best is trial 2 with value: 0.7199390420204909.\n",
            "[I 2024-05-03 14:30:07,098] Trial 31 finished with value: 0.7418489246075507 and parameters: {'k1': 6, 'k2': 3, 'p1': 5, 'p2': 9, 'max_iters': 46, 'pool_size': 4}. Best is trial 2 with value: 0.7199390420204909.\n",
            "[I 2024-05-03 14:31:25,520] Trial 32 finished with value: 0.7019414481701636 and parameters: {'k1': 3, 'k2': 3, 'p1': 1, 'p2': 8, 'max_iters': 37, 'pool_size': 34}. Best is trial 32 with value: 0.7019414481701636.\n",
            "[I 2024-05-03 14:31:55,277] Trial 30 finished with value: 0.8856367967523017 and parameters: {'k1': 10, 'k2': 6, 'p1': 5, 'p2': 9, 'max_iters': 46, 'pool_size': 51}. Best is trial 32 with value: 0.7019414481701636.\n",
            "[I 2024-05-03 14:32:47,499] Trial 34 finished with value: 0.7323999430765248 and parameters: {'k1': 3, 'k2': 4, 'p1': 2, 'p2': 8, 'max_iters': 34, 'pool_size': 17}. Best is trial 32 with value: 0.7019414481701636.\n",
            "[I 2024-05-03 14:33:29,860] Trial 33 finished with value: 0.7122604943602957 and parameters: {'k1': 3, 'k2': 3, 'p1': 1, 'p2': 8, 'max_iters': 34, 'pool_size': 48}. Best is trial 32 with value: 0.7019414481701636.\n",
            "[I 2024-05-03 14:33:54,067] Trial 35 finished with value: 0.7030520685640674 and parameters: {'k1': 3, 'k2': 3, 'p1': 1, 'p2': 7, 'max_iters': 15, 'pool_size': 43}. Best is trial 32 with value: 0.7019414481701636.\n",
            "[I 2024-05-03 14:35:12,016] Trial 37 finished with value: 0.7225622552573856 and parameters: {'k1': 2, 'k2': 4, 'p1': 2, 'p2': 5, 'max_iters': 12, 'pool_size': 64}. Best is trial 32 with value: 0.7019414481701636.\n",
            "[I 2024-05-03 14:35:20,143] Trial 36 finished with value: 0.7023956639423277 and parameters: {'k1': 2, 'k2': 3, 'p1': 1, 'p2': 5, 'max_iters': 37, 'pool_size': 43}. Best is trial 32 with value: 0.7019414481701636.\n",
            "[I 2024-05-03 14:37:41,161] Trial 39 finished with value: 0.784949503871408 and parameters: {'k1': 3, 'k2': 8, 'p1': 1, 'p2': 10, 'max_iters': 37, 'pool_size': 45}. Best is trial 32 with value: 0.7019414481701636.\n",
            "[I 2024-05-03 14:38:03,863] Trial 40 finished with value: 0.7535953318988541 and parameters: {'k1': 3, 'k2': 5, 'p1': 8, 'p2': 9, 'max_iters': 8, 'pool_size': 18}. Best is trial 32 with value: 0.7019414481701636.\n",
            "[I 2024-05-03 14:38:16,325] Trial 38 finished with value: 0.7847795465627613 and parameters: {'k1': 3, 'k2': 8, 'p1': 2, 'p2': 10, 'max_iters': 50, 'pool_size': 45}. Best is trial 32 with value: 0.7019414481701636.\n",
            "[I 2024-05-03 14:40:07,123] Trial 41 finished with value: 0.7197549398862186 and parameters: {'k1': 2, 'k2': 4, 'p1': 2, 'p2': 8, 'max_iters': 44, 'pool_size': 65}. Best is trial 32 with value: 0.7019414481701636.\n",
            "[I 2024-05-03 14:40:59,516] Trial 42 finished with value: 0.7376780604698333 and parameters: {'k1': 1, 'k2': 3, 'p1': 1, 'p2': 5, 'max_iters': 43, 'pool_size': 70}. Best is trial 32 with value: 0.7019414481701636.\n",
            "[I 2024-05-03 14:42:00,398] Trial 43 finished with value: 0.7342518278930605 and parameters: {'k1': 1, 'k2': 3, 'p1': 1, 'p2': 8, 'max_iters': 44, 'pool_size': 65}. Best is trial 32 with value: 0.7019414481701636.\n",
            "[I 2024-05-03 14:42:26,836] Trial 44 finished with value: 0.7067040581629678 and parameters: {'k1': 2, 'k2': 4, 'p1': 1, 'p2': 8, 'max_iters': 16, 'pool_size': 53}. Best is trial 32 with value: 0.7019414481701636.\n",
            "[I 2024-05-03 14:43:03,775] Trial 46 finished with value: 0.7614629789641931 and parameters: {'k1': 5, 'k2': 5, 'p1': 1, 'p2': 3, 'max_iters': 15, 'pool_size': 15}. Best is trial 32 with value: 0.7019414481701636.\n",
            "[I 2024-05-03 14:43:12,330] Trial 45 finished with value: 0.7614100988307877 and parameters: {'k1': 5, 'k2': 4, 'p1': 2, 'p2': 8, 'max_iters': 15, 'pool_size': 37}. Best is trial 32 with value: 0.7019414481701636.\n",
            "[I 2024-05-03 14:43:37,213] Trial 47 finished with value: 0.7575879898866267 and parameters: {'k1': 4, 'k2': 1, 'p1': 3, 'p2': 8, 'max_iters': 8, 'pool_size': 38}. Best is trial 32 with value: 0.7019414481701636.\n",
            "[I 2024-05-03 14:44:34,404] Trial 48 finished with value: 0.8378568000468015 and parameters: {'k1': 2, 'k2': 12, 'p1': 6, 'p2': 9, 'max_iters': 8, 'pool_size': 52}. Best is trial 32 with value: 0.7019414481701636.\n",
            "[I 2024-05-03 14:45:59,084] Trial 49 finished with value: 0.7633672696976294 and parameters: {'k1': 2, 'k2': 7, 'p1': 6, 'p2': 9, 'max_iters': 23, 'pool_size': 53}. Best is trial 32 with value: 0.7019414481701636.\n",
            "[I 2024-05-03 14:48:06,052] Trial 50 finished with value: 0.7755527039599498 and parameters: {'k1': 4, 'k2': 7, 'p1': 1, 'p2': 6, 'max_iters': 23, 'pool_size': 85}. Best is trial 32 with value: 0.7019414481701636.\n",
            "[I 2024-05-03 14:48:38,178] Trial 51 finished with value: 0.8779333518825221 and parameters: {'k1': 4, 'k2': 17, 'p1': 1, 'p2': 6, 'max_iters': 27, 'pool_size': 23}. Best is trial 32 with value: 0.7019414481701636.\n",
            "[I 2024-05-03 14:49:07,085] Trial 52 finished with value: 0.7148397121912724 and parameters: {'k1': 2, 'k2': 3, 'p1': 2, 'p2': 8, 'max_iters': 33, 'pool_size': 25}. Best is trial 32 with value: 0.7019414481701636.\n",
            "[I 2024-05-03 14:49:20,133] Trial 54 finished with value: 0.7359625862780808 and parameters: {'k1': 1, 'k2': 4, 'p1': 2, 'p2': 7, 'max_iters': 33, 'pool_size': 10}. Best is trial 32 with value: 0.7019414481701636.\n",
            "[I 2024-05-03 14:50:20,008] Trial 53 finished with value: 0.7139689908006386 and parameters: {'k1': 2, 'k2': 3, 'p1': 2, 'p2': 8, 'max_iters': 33, 'pool_size': 46}. Best is trial 32 with value: 0.7019414481701636.\n",
            "[I 2024-05-03 14:50:46,677] Trial 55 finished with value: 0.7158144678099847 and parameters: {'k1': 6, 'k2': 3, 'p1': 1, 'p2': 8, 'max_iters': 35, 'pool_size': 28}. Best is trial 32 with value: 0.7019414481701636.\n",
            "[I 2024-05-03 14:51:52,885] Trial 56 finished with value: 0.7189199905971684 and parameters: {'k1': 6, 'k2': 3, 'p1': 1, 'p2': 7, 'max_iters': 39, 'pool_size': 31}. Best is trial 32 with value: 0.7019414481701636.\n",
            "[I 2024-05-03 14:52:17,350] Trial 57 finished with value: 0.7482317051234453 and parameters: {'k1': 6, 'k2': 1, 'p1': 4, 'p2': 7, 'max_iters': 17, 'pool_size': 44}. Best is trial 32 with value: 0.7019414481701636.\n",
            "[I 2024-05-03 14:53:27,707] Trial 59 finished with value: 0.7985659974669649 and parameters: {'k1': 1, 'k2': 5, 'p1': 3, 'p2': 5, 'max_iters': 32, 'pool_size': 58}. Best is trial 32 with value: 0.7019414481701636.\n",
            "[I 2024-05-03 14:54:12,315] Trial 58 finished with value: 0.7447406069062488 and parameters: {'k1': 3, 'k2': 5, 'p1': 4, 'p2': 10, 'max_iters': 32, 'pool_size': 46}. Best is trial 32 with value: 0.7019414481701636.\n",
            "[I 2024-05-03 14:54:21,865] Trial 60 finished with value: 0.7949421569142845 and parameters: {'k1': 4, 'k2': 6, 'p1': 2, 'p2': 10, 'max_iters': 10, 'pool_size': 39}. Best is trial 32 with value: 0.7019414481701636.\n",
            "[I 2024-05-03 14:54:58,575] Trial 62 finished with value: 0.7360121512200525 and parameters: {'k1': 2, 'k2': 2, 'p1': 1, 'p2': 9, 'max_iters': 35, 'pool_size': 23}. Best is trial 32 with value: 0.7019414481701636.\n",
            "[I 2024-05-03 14:55:02,933] Trial 61 finished with value: 0.7405356544772418 and parameters: {'k1': 4, 'k2': 2, 'p1': 9, 'p2': 3, 'max_iters': 10, 'pool_size': 36}. Best is trial 32 with value: 0.7019414481701636.\n",
            "[I 2024-05-03 14:55:28,835] Trial 64 finished with value: 0.7296775626460186 and parameters: {'k1': 2, 'k2': 4, 'p1': 2, 'p2': 8, 'max_iters': 38, 'pool_size': 13}. Best is trial 32 with value: 0.7019414481701636.\n",
            "[I 2024-05-03 14:56:05,851] Trial 63 finished with value: 0.7209322083614904 and parameters: {'k1': 2, 'k2': 4, 'p1': 2, 'p2': 8, 'max_iters': 39, 'pool_size': 34}. Best is trial 32 with value: 0.7019414481701636.\n",
            "[I 2024-05-03 14:56:13,322] Trial 66 finished with value: 0.8257404118623757 and parameters: {'k1': 1, 'k2': 1, 'p1': 1, 'p2': 9, 'max_iters': 27, 'pool_size': 51}. Best is trial 32 with value: 0.7019414481701636.\n",
            "[I 2024-05-03 14:56:46,732] Trial 65 finished with value: 0.7785008222762325 and parameters: {'k1': 3, 'k2': 1, 'p1': 1, 'p2': 8, 'max_iters': 27, 'pool_size': 50}. Best is trial 32 with value: 0.7019414481701636.\n",
            "[I 2024-05-03 14:57:16,861] Trial 67 finished with value: 0.7188249664965516 and parameters: {'k1': 3, 'k2': 3, 'p1': 3, 'p2': 7, 'max_iters': 29, 'pool_size': 21}. Best is trial 32 with value: 0.7019414481701636.\n",
            "[I 2024-05-03 14:58:52,371] Trial 68 finished with value: 0.7317501770666265 and parameters: {'k1': 7, 'k2': 3, 'p1': 3, 'p2': 7, 'max_iters': 29, 'pool_size': 25}. Best is trial 32 with value: 0.7019414481701636.\n",
            "[I 2024-05-03 14:59:32,915] Trial 69 finished with value: 0.7227860426096702 and parameters: {'k1': 7, 'k2': 2, 'p1': 2, 'p2': 7, 'max_iters': 34, 'pool_size': 61}. Best is trial 32 with value: 0.7019414481701636.\n",
            "[I 2024-05-03 15:02:39,854] Trial 71 finished with value: 0.7947231623728798 and parameters: {'k1': 2, 'k2': 10, 'p1': 1, 'p2': 9, 'max_iters': 17, 'pool_size': 69}. Best is trial 32 with value: 0.7019414481701636.\n",
            "[I 2024-05-03 15:03:27,316] Trial 70 finished with value: 0.8058116021405755 and parameters: {'k1': 2, 'k2': 10, 'p1': 2, 'p2': 9, 'max_iters': 35, 'pool_size': 61}. Best is trial 32 with value: 0.7019414481701636.\n",
            "[I 2024-05-03 15:03:41,873] Trial 72 finished with value: 0.706673922836321 and parameters: {'k1': 3, 'k2': 3, 'p1': 1, 'p2': 8, 'max_iters': 35, 'pool_size': 29}. Best is trial 32 with value: 0.7019414481701636.\n",
            "[I 2024-05-03 15:04:06,724] Trial 74 finished with value: 0.7124507409401004 and parameters: {'k1': 3, 'k2': 3, 'p1': 1, 'p2': 8, 'max_iters': 36, 'pool_size': 8}. Best is trial 32 with value: 0.7019414481701636.\n",
            "[I 2024-05-03 15:04:21,209] Trial 73 finished with value: 0.7133819394590197 and parameters: {'k1': 3, 'k2': 3, 'p1': 1, 'p2': 8, 'max_iters': 41, 'pool_size': 26}. Best is trial 32 with value: 0.7019414481701636.\n",
            "[I 2024-05-03 15:04:26,758] A new study created in memory with name: no-name-c3dc1ede-e548-4fc7-93e5-1d444680c494\n",
            "[I 2024-05-03 15:04:36,481] Trial 1 finished with value: 1.1876892344935384 and parameters: {'n_estimators': 180, 'criterion': 'poisson', 'max_depth': 3, 'min_samples_leaf': 3, 'max_features': 0.199, 'maks_iterasjoner': 14, 'std_terskel': 0.01}. Best is trial 1 with value: 1.1876892344935384.\n",
            "[I 2024-05-03 15:04:45,054] Trial 0 finished with value: 0.8039302158125987 and parameters: {'n_estimators': 361, 'criterion': 'friedman_mse', 'max_depth': 11, 'min_samples_leaf': 1, 'max_features': 0.554, 'maks_iterasjoner': 15, 'std_terskel': 0.020999999999999998}. Best is trial 0 with value: 0.8039302158125987.\n",
            "[I 2024-05-03 15:04:45,135] Trial 2 finished with value: 0.9392207180027309 and parameters: {'n_estimators': 186, 'criterion': 'squared_error', 'max_depth': 27, 'min_samples_leaf': 5, 'max_features': 0.397, 'maks_iterasjoner': 10, 'std_terskel': 0.012}. Best is trial 0 with value: 0.8039302158125987.\n",
            "[I 2024-05-03 15:04:55,398] Trial 4 finished with value: 0.959339250803259 and parameters: {'n_estimators': 213, 'criterion': 'squared_error', 'max_depth': 30, 'min_samples_leaf': 2, 'max_features': 0.23700000000000002, 'maks_iterasjoner': 6, 'std_terskel': 0.014}. Best is trial 0 with value: 0.8039302158125987.\n",
            "[I 2024-05-03 15:05:03,486] Trial 3 finished with value: 0.8914810873622391 and parameters: {'n_estimators': 486, 'criterion': 'friedman_mse', 'max_depth': 29, 'min_samples_leaf': 1, 'max_features': 0.28900000000000003, 'maks_iterasjoner': 2, 'std_terskel': 0.028000000000000004}. Best is trial 0 with value: 0.8039302158125987.\n",
            "[I 2024-05-03 15:05:13,472] Trial 5 finished with value: 0.8006871220403756 and parameters: {'n_estimators': 388, 'criterion': 'poisson', 'max_depth': 20, 'min_samples_leaf': 3, 'max_features': 0.803, 'maks_iterasjoner': 10, 'std_terskel': 0.03}. Best is trial 5 with value: 0.8006871220403756.\n",
            "[I 2024-05-03 15:05:24,622] Trial 7 finished with value: 0.8914178204272429 and parameters: {'n_estimators': 355, 'criterion': 'poisson', 'max_depth': 25, 'min_samples_leaf': 4, 'max_features': 0.517, 'maks_iterasjoner': 18, 'std_terskel': 0.014}. Best is trial 5 with value: 0.8006871220403756.\n",
            "[I 2024-05-03 15:05:25,825] Trial 6 finished with value: 0.8121273266639475 and parameters: {'n_estimators': 362, 'criterion': 'squared_error', 'max_depth': 5, 'min_samples_leaf': 5, 'max_features': 0.854, 'maks_iterasjoner': 10, 'std_terskel': 0.028999999999999998}. Best is trial 5 with value: 0.8006871220403756.\n",
            "[I 2024-05-03 15:05:33,887] Trial 9 finished with value: 0.9437122497692245 and parameters: {'n_estimators': 100, 'criterion': 'friedman_mse', 'max_depth': 7, 'min_samples_leaf': 3, 'max_features': 0.358, 'maks_iterasjoner': 2, 'std_terskel': 0.011}. Best is trial 5 with value: 0.8006871220403756.\n",
            "[I 2024-05-03 15:05:36,404] Trial 8 finished with value: 0.7915648760805065 and parameters: {'n_estimators': 113, 'criterion': 'poisson', 'max_depth': 18, 'min_samples_leaf': 2, 'max_features': 0.862, 'maks_iterasjoner': 1, 'std_terskel': 0.027000000000000003}. Best is trial 8 with value: 0.7915648760805065.\n",
            "[I 2024-05-03 15:05:44,947] Trial 10 finished with value: 0.772158557700338 and parameters: {'n_estimators': 234, 'criterion': 'friedman_mse', 'max_depth': 15, 'min_samples_leaf': 1, 'max_features': 0.983, 'maks_iterasjoner': 11, 'std_terskel': 0.023}. Best is trial 10 with value: 0.772158557700338.\n",
            "[I 2024-05-03 15:05:48,758] Trial 11 finished with value: 0.8054487904034795 and parameters: {'n_estimators': 102, 'criterion': 'absolute_error', 'max_depth': 17, 'min_samples_leaf': 2, 'max_features': 0.932, 'maks_iterasjoner': 7, 'std_terskel': 0.024}. Best is trial 10 with value: 0.772158557700338.\n",
            "[I 2024-05-03 15:05:55,977] Trial 12 finished with value: 0.8092633090350108 and parameters: {'n_estimators': 104, 'criterion': 'absolute_error', 'max_depth': 16, 'min_samples_leaf': 2, 'max_features': 0.987, 'maks_iterasjoner': 5, 'std_terskel': 0.022}. Best is trial 10 with value: 0.772158557700338.\n",
            "[I 2024-05-03 15:06:04,909] Trial 14 finished with value: 0.7984083510379772 and parameters: {'n_estimators': 261, 'criterion': 'poisson', 'max_depth': 11, 'min_samples_leaf': 1, 'max_features': 0.727, 'maks_iterasjoner': 14, 'std_terskel': 0.025}. Best is trial 10 with value: 0.772158557700338.\n",
            "[I 2024-05-03 15:06:08,748] Trial 13 finished with value: 0.7913803132431244 and parameters: {'n_estimators': 261, 'criterion': 'absolute_error', 'max_depth': 12, 'min_samples_leaf': 2, 'max_features': 0.995, 'maks_iterasjoner': 6, 'std_terskel': 0.024}. Best is trial 10 with value: 0.772158557700338.\n",
            "[I 2024-05-03 15:06:18,526] Trial 15 finished with value: 0.7804658644364986 and parameters: {'n_estimators': 273, 'criterion': 'friedman_mse', 'max_depth': 22, 'min_samples_leaf': 2, 'max_features': 0.694, 'maks_iterasjoner': 19, 'std_terskel': 0.018000000000000002}. Best is trial 10 with value: 0.772158557700338.\n",
            "[I 2024-05-03 15:06:28,595] Trial 16 finished with value: 0.800438538577097 and parameters: {'n_estimators': 285, 'criterion': 'absolute_error', 'max_depth': 11, 'min_samples_leaf': 1, 'max_features': 0.625, 'maks_iterasjoner': 8, 'std_terskel': 0.018000000000000002}. Best is trial 10 with value: 0.772158557700338.\n",
            "[I 2024-05-03 15:06:33,683] Trial 17 finished with value: 0.7889331615290762 and parameters: {'n_estimators': 307, 'criterion': 'friedman_mse', 'max_depth': 21, 'min_samples_leaf': 1, 'max_features': 0.673, 'maks_iterasjoner': 19, 'std_terskel': 0.018000000000000002}. Best is trial 10 with value: 0.772158557700338.\n",
            "[I 2024-05-03 15:06:42,508] Trial 18 finished with value: 0.8373099955604013 and parameters: {'n_estimators': 316, 'criterion': 'friedman_mse', 'max_depth': 22, 'min_samples_leaf': 4, 'max_features': 0.71, 'maks_iterasjoner': 20, 'std_terskel': 0.017}. Best is trial 10 with value: 0.772158557700338.\n",
            "[I 2024-05-03 15:06:52,654] Trial 19 finished with value: 0.842978440868394 and parameters: {'n_estimators': 441, 'criterion': 'friedman_mse', 'max_depth': 24, 'min_samples_leaf': 4, 'max_features': 0.758, 'maks_iterasjoner': 17, 'std_terskel': 0.018000000000000002}. Best is trial 10 with value: 0.772158557700338.\n",
            "[I 2024-05-03 15:06:59,097] Trial 20 finished with value: 0.7771087199212187 and parameters: {'n_estimators': 429, 'criterion': 'friedman_mse', 'max_depth': 24, 'min_samples_leaf': 2, 'max_features': 0.791, 'maks_iterasjoner': 16, 'std_terskel': 0.019000000000000003}. Best is trial 10 with value: 0.772158557700338.\n",
            "[I 2024-05-03 15:07:02,985] Trial 21 finished with value: 0.8358484067944285 and parameters: {'n_estimators': 233, 'criterion': 'friedman_mse', 'max_depth': 14, 'min_samples_leaf': 2, 'max_features': 0.5680000000000001, 'maks_iterasjoner': 12, 'std_terskel': 0.02}. Best is trial 10 with value: 0.772158557700338.\n",
            "[I 2024-05-03 15:07:12,925] Trial 22 finished with value: 0.7805990482802018 and parameters: {'n_estimators': 235, 'criterion': 'friedman_mse', 'max_depth': 24, 'min_samples_leaf': 2, 'max_features': 0.886, 'maks_iterasjoner': 16, 'std_terskel': 0.02}. Best is trial 10 with value: 0.772158557700338.\n",
            "[I 2024-05-03 15:07:18,601] Trial 23 finished with value: 0.7766945495136387 and parameters: {'n_estimators': 426, 'criterion': 'friedman_mse', 'max_depth': 24, 'min_samples_leaf': 2, 'max_features': 0.846, 'maks_iterasjoner': 16, 'std_terskel': 0.016}. Best is trial 10 with value: 0.772158557700338.\n",
            "[I 2024-05-03 15:07:33,301] Trial 24 finished with value: 0.7739590614776727 and parameters: {'n_estimators': 432, 'criterion': 'friedman_mse', 'max_depth': 19, 'min_samples_leaf': 1, 'max_features': 0.783, 'maks_iterasjoner': 12, 'std_terskel': 0.016}. Best is trial 10 with value: 0.772158557700338.\n",
            "[I 2024-05-03 15:07:37,631] Trial 25 finished with value: 0.774187224531539 and parameters: {'n_estimators': 434, 'criterion': 'friedman_mse', 'max_depth': 19, 'min_samples_leaf': 1, 'max_features': 0.8099999999999999, 'maks_iterasjoner': 13, 'std_terskel': 0.015}. Best is trial 10 with value: 0.772158557700338.\n",
            "[I 2024-05-03 15:07:52,382] Trial 26 finished with value: 0.7725142332859233 and parameters: {'n_estimators': 500, 'criterion': 'friedman_mse', 'max_depth': 18, 'min_samples_leaf': 1, 'max_features': 0.941, 'maks_iterasjoner': 12, 'std_terskel': 0.015}. Best is trial 10 with value: 0.772158557700338.\n",
            "[I 2024-05-03 15:07:54,030] Trial 27 finished with value: 0.7729929753610817 and parameters: {'n_estimators': 482, 'criterion': 'friedman_mse', 'max_depth': 14, 'min_samples_leaf': 1, 'max_features': 0.9339999999999999, 'maks_iterasjoner': 12, 'std_terskel': 0.013000000000000001}. Best is trial 10 with value: 0.772158557700338.\n",
            "[I 2024-05-03 15:08:07,457] Trial 28 finished with value: 0.9456915817006514 and parameters: {'n_estimators': 492, 'criterion': 'friedman_mse', 'max_depth': 14, 'min_samples_leaf': 1, 'max_features': 0.10700000000000001, 'maks_iterasjoner': 12, 'std_terskel': 0.013000000000000001}. Best is trial 10 with value: 0.772158557700338.\n",
            "[I 2024-05-03 15:08:17,475] Trial 29 finished with value: 0.7725905334363554 and parameters: {'n_estimators': 496, 'criterion': 'friedman_mse', 'max_depth': 14, 'min_samples_leaf': 1, 'max_features': 0.9339999999999999, 'maks_iterasjoner': 9, 'std_terskel': 0.013000000000000001}. Best is trial 10 with value: 0.772158557700338.\n",
            "[I 2024-05-03 15:08:25,712] Trial 30 finished with value: 0.7694239000892023 and parameters: {'n_estimators': 468, 'criterion': 'friedman_mse', 'max_depth': 8, 'min_samples_leaf': 1, 'max_features': 0.928, 'maks_iterasjoner': 9, 'std_terskel': 0.01}. Best is trial 30 with value: 0.7694239000892023.\n",
            "[I 2024-05-03 15:08:33,758] Trial 31 finished with value: 0.7749472024626881 and parameters: {'n_estimators': 459, 'criterion': 'squared_error', 'max_depth': 8, 'min_samples_leaf': 1, 'max_features': 0.93, 'maks_iterasjoner': 8, 'std_terskel': 0.020999999999999998}. Best is trial 30 with value: 0.7694239000892023.\n",
            "[I 2024-05-03 15:08:46,561] Trial 32 finished with value: 0.7695913099253018 and parameters: {'n_estimators': 460, 'criterion': 'friedman_mse', 'max_depth': 8, 'min_samples_leaf': 1, 'max_features': 0.9349999999999999, 'maks_iterasjoner': 8, 'std_terskel': 0.01}. Best is trial 30 with value: 0.7694239000892023.\n",
            "[I 2024-05-03 15:08:46,579] Trial 33 finished with value: 1.112584121758746 and parameters: {'n_estimators': 500, 'criterion': 'friedman_mse', 'max_depth': 2, 'min_samples_leaf': 1, 'max_features': 0.994, 'maks_iterasjoner': 8, 'std_terskel': 0.01}. Best is trial 30 with value: 0.7694239000892023.\n",
            "[I 2024-05-03 15:09:02,682] Trial 35 finished with value: 0.7679083277294478 and parameters: {'n_estimators': 401, 'criterion': 'friedman_mse', 'max_depth': 8, 'min_samples_leaf': 1, 'max_features': 0.897, 'maks_iterasjoner': 11, 'std_terskel': 0.01}. Best is trial 35 with value: 0.7679083277294478.\n",
            "[I 2024-05-03 15:09:06,997] Trial 34 finished with value: 0.7675536894671251 and parameters: {'n_estimators': 463, 'criterion': 'friedman_mse', 'max_depth': 8, 'min_samples_leaf': 1, 'max_features': 0.892, 'maks_iterasjoner': 4, 'std_terskel': 0.011}. Best is trial 34 with value: 0.7675536894671251.\n",
            "[I 2024-05-03 15:09:17,813] Trial 36 finished with value: 0.7680825848229224 and parameters: {'n_estimators': 399, 'criterion': 'friedman_mse', 'max_depth': 8, 'min_samples_leaf': 1, 'max_features': 0.893, 'maks_iterasjoner': 4, 'std_terskel': 0.01}. Best is trial 34 with value: 0.7675536894671251.\n",
            "[I 2024-05-03 15:09:25,712] Trial 37 finished with value: 0.8682485423213836 and parameters: {'n_estimators': 396, 'criterion': 'squared_error', 'max_depth': 8, 'min_samples_leaf': 3, 'max_features': 0.494, 'maks_iterasjoner': 3, 'std_terskel': 0.01}. Best is trial 34 with value: 0.7675536894671251.\n",
            "[I 2024-05-03 15:09:33,492] Trial 38 finished with value: 0.8055267723638363 and parameters: {'n_estimators': 401, 'criterion': 'squared_error', 'max_depth': 5, 'min_samples_leaf': 3, 'max_features': 0.885, 'maks_iterasjoner': 4, 'std_terskel': 0.011}. Best is trial 34 with value: 0.7675536894671251.\n",
            "[I 2024-05-03 15:09:39,947] Trial 39 finished with value: 0.8055073057421599 and parameters: {'n_estimators': 405, 'criterion': 'friedman_mse', 'max_depth': 5, 'min_samples_leaf': 1, 'max_features': 0.881, 'maks_iterasjoner': 4, 'std_terskel': 0.012}. Best is trial 34 with value: 0.7675536894671251.\n",
            "[I 2024-05-03 15:09:50,013] Trial 41 finished with value: 1.4127254875257071 and parameters: {'n_estimators': 363, 'criterion': 'poisson', 'max_depth': 1, 'min_samples_leaf': 2, 'max_features': 0.636, 'maks_iterasjoner': 1, 'std_terskel': 0.012}. Best is trial 34 with value: 0.7675536894671251.\n",
            "[I 2024-05-03 15:09:51,061] Trial 40 finished with value: 0.8103204967431415 and parameters: {'n_estimators': 342, 'criterion': 'poisson', 'max_depth': 5, 'min_samples_leaf': 1, 'max_features': 0.829, 'maks_iterasjoner': 4, 'std_terskel': 0.011}. Best is trial 34 with value: 0.7675536894671251.\n",
            "[I 2024-05-03 15:10:08,263] Trial 42 finished with value: 0.7672891700897801 and parameters: {'n_estimators': 465, 'criterion': 'friedman_mse', 'max_depth': 9, 'min_samples_leaf': 1, 'max_features': 0.836, 'maks_iterasjoner': 6, 'std_terskel': 0.01}. Best is trial 42 with value: 0.7672891700897801.\n",
            "[I 2024-05-03 15:10:10,648] Trial 43 finished with value: 0.7734757075646198 and parameters: {'n_estimators': 463, 'criterion': 'friedman_mse', 'max_depth': 9, 'min_samples_leaf': 1, 'max_features': 0.903, 'maks_iterasjoner': 6, 'std_terskel': 0.01}. Best is trial 42 with value: 0.7672891700897801.\n",
            "[I 2024-05-03 15:10:24,641] Trial 45 finished with value: 0.8526501377197838 and parameters: {'n_estimators': 378, 'criterion': 'friedman_mse', 'max_depth': 10, 'min_samples_leaf': 5, 'max_features': 0.748, 'maks_iterasjoner': 5, 'std_terskel': 0.012}. Best is trial 42 with value: 0.7672891700897801.\n",
            "[I 2024-05-03 15:10:30,503] Trial 44 finished with value: 0.7857830247406424 and parameters: {'n_estimators': 465, 'criterion': 'friedman_mse', 'max_depth': 10, 'min_samples_leaf': 1, 'max_features': 0.759, 'maks_iterasjoner': 5, 'std_terskel': 0.011}. Best is trial 42 with value: 0.7672891700897801.\n",
            "[I 2024-05-03 15:10:39,981] Trial 46 finished with value: 0.7891931699697206 and parameters: {'n_estimators': 471, 'criterion': 'friedman_mse', 'max_depth': 6, 'min_samples_leaf': 1, 'max_features': 0.857, 'maks_iterasjoner': 10, 'std_terskel': 0.011}. Best is trial 42 with value: 0.7672891700897801.\n",
            "[I 2024-05-03 15:10:53,656] Trial 48 finished with value: 0.9742574676408327 and parameters: {'n_estimators': 335, 'criterion': 'absolute_error', 'max_depth': 3, 'min_samples_leaf': 2, 'max_features': 0.824, 'maks_iterasjoner': 2, 'std_terskel': 0.014}. Best is trial 42 with value: 0.7672891700897801.\n",
            "[I 2024-05-03 15:10:57,697] Trial 47 finished with value: 0.8173372095022129 and parameters: {'n_estimators': 415, 'criterion': 'absolute_error', 'max_depth': 6, 'min_samples_leaf': 2, 'max_features': 0.839, 'maks_iterasjoner': 10, 'std_terskel': 0.014}. Best is trial 42 with value: 0.7672891700897801.\n",
            "[I 2024-05-03 15:11:08,633] Trial 49 finished with value: 0.8769091024105361 and parameters: {'n_estimators': 411, 'criterion': 'friedman_mse', 'max_depth': 12, 'min_samples_leaf': 2, 'max_features': 0.45599999999999996, 'maks_iterasjoner': 7, 'std_terskel': 0.012}. Best is trial 42 with value: 0.7672891700897801.\n",
            "[I 2024-05-03 15:11:18,367] Trial 50 finished with value: 0.7758679035718136 and parameters: {'n_estimators': 447, 'criterion': 'friedman_mse', 'max_depth': 7, 'min_samples_leaf': 1, 'max_features': 0.972, 'maks_iterasjoner': 7, 'std_terskel': 0.012}. Best is trial 42 with value: 0.7672891700897801.\n",
            "[I 2024-05-03 15:11:24,682] Trial 51 finished with value: 0.7793372159554066 and parameters: {'n_estimators': 380, 'criterion': 'squared_error', 'max_depth': 7, 'min_samples_leaf': 1, 'max_features': 0.966, 'maks_iterasjoner': 3, 'std_terskel': 0.01}. Best is trial 42 with value: 0.7672891700897801.\n",
            "[I 2024-05-03 15:11:35,612] Trial 52 finished with value: 0.7738729365669826 and parameters: {'n_estimators': 452, 'criterion': 'friedman_mse', 'max_depth': 9, 'min_samples_leaf': 1, 'max_features': 0.905, 'maks_iterasjoner': 9, 'std_terskel': 0.01}. Best is trial 42 with value: 0.7672891700897801.\n",
            "[I 2024-05-03 15:11:44,044] Trial 53 finished with value: 0.773892497302107 and parameters: {'n_estimators': 451, 'criterion': 'friedman_mse', 'max_depth': 9, 'min_samples_leaf': 1, 'max_features': 0.91, 'maks_iterasjoner': 9, 'std_terskel': 0.01}. Best is trial 42 with value: 0.7672891700897801.\n",
            "[I 2024-05-03 15:11:51,234] Trial 54 finished with value: 1.078603585144114 and parameters: {'n_estimators': 483, 'criterion': 'friedman_mse', 'max_depth': 3, 'min_samples_leaf': 1, 'max_features': 0.32, 'maks_iterasjoner': 6, 'std_terskel': 0.011}. Best is trial 42 with value: 0.7672891700897801.\n",
            "[I 2024-05-03 15:12:03,380] Trial 55 finished with value: 0.86626045594896 and parameters: {'n_estimators': 476, 'criterion': 'friedman_mse', 'max_depth': 12, 'min_samples_leaf': 1, 'max_features': 0.321, 'maks_iterasjoner': 7, 'std_terskel': 0.011}. Best is trial 42 with value: 0.7672891700897801.\n",
            "[I 2024-05-03 15:12:09,834] Trial 56 finished with value: 0.7702534948213272 and parameters: {'n_estimators': 477, 'criterion': 'friedman_mse', 'max_depth': 12, 'min_samples_leaf': 1, 'max_features': 0.866, 'maks_iterasjoner': 8, 'std_terskel': 0.013000000000000001}. Best is trial 42 with value: 0.7672891700897801.\n",
            "[I 2024-05-03 15:12:10,891] Trial 57 finished with value: 0.8440282363780065 and parameters: {'n_estimators': 165, 'criterion': 'poisson', 'max_depth': 4, 'min_samples_leaf': 1, 'max_features': 0.958, 'maks_iterasjoner': 11, 'std_terskel': 0.013000000000000001}. Best is trial 42 with value: 0.7672891700897801.\n",
            "[I 2024-05-03 15:12:25,075] Trial 59 finished with value: 0.8190537040982475 and parameters: {'n_estimators': 420, 'criterion': 'friedman_mse', 'max_depth': 8, 'min_samples_leaf': 3, 'max_features': 0.768, 'maks_iterasjoner': 3, 'std_terskel': 0.026000000000000002}. Best is trial 42 with value: 0.7672891700897801.\n",
            "[I 2024-05-03 15:12:28,085] Trial 58 finished with value: 0.7766259761562153 and parameters: {'n_estimators': 422, 'criterion': 'poisson', 'max_depth': 10, 'min_samples_leaf': 1, 'max_features': 0.956, 'maks_iterasjoner': 11, 'std_terskel': 0.011}. Best is trial 42 with value: 0.7672891700897801.\n",
            "[I 2024-05-03 15:12:43,106] Trial 60 finished with value: 0.778063949428763 and parameters: {'n_estimators': 387, 'criterion': 'friedman_mse', 'max_depth': 10, 'min_samples_leaf': 2, 'max_features': 0.8059999999999999, 'maks_iterasjoner': 5, 'std_terskel': 0.01}. Best is trial 42 with value: 0.7672891700897801.\n",
            "[I 2024-05-03 15:12:46,374] Trial 61 finished with value: 0.810156595185666 and parameters: {'n_estimators': 441, 'criterion': 'friedman_mse', 'max_depth': 7, 'min_samples_leaf': 4, 'max_features': 0.803, 'maks_iterasjoner': 6, 'std_terskel': 0.01}. Best is trial 42 with value: 0.7672891700897801.\n",
            "[I 2024-05-03 15:13:01,529] Trial 62 finished with value: 0.7705838374462297 and parameters: {'n_estimators': 472, 'criterion': 'friedman_mse', 'max_depth': 12, 'min_samples_leaf': 1, 'max_features': 0.874, 'maks_iterasjoner': 8, 'std_terskel': 0.013000000000000001}. Best is trial 42 with value: 0.7672891700897801.\n",
            "[I 2024-05-03 15:13:04,203] Trial 63 finished with value: 0.7678930452941366 and parameters: {'n_estimators': 473, 'criterion': 'friedman_mse', 'max_depth': 13, 'min_samples_leaf': 1, 'max_features': 0.869, 'maks_iterasjoner': 8, 'std_terskel': 0.012}. Best is trial 42 with value: 0.7672891700897801.\n",
            "[I 2024-05-03 15:13:17,868] Trial 64 finished with value: 0.7699983653484382 and parameters: {'n_estimators': 457, 'criterion': 'friedman_mse', 'max_depth': 11, 'min_samples_leaf': 1, 'max_features': 0.849, 'maks_iterasjoner': 9, 'std_terskel': 0.011}. Best is trial 42 with value: 0.7672891700897801.\n",
            "[I 2024-05-03 15:13:23,102] Trial 65 finished with value: 0.7890086927638519 and parameters: {'n_estimators': 459, 'criterion': 'friedman_mse', 'max_depth': 6, 'min_samples_leaf': 1, 'max_features': 0.913, 'maks_iterasjoner': 9, 'std_terskel': 0.012}. Best is trial 42 with value: 0.7672891700897801.\n",
            "[I 2024-05-03 15:13:35,429] Trial 66 finished with value: 0.789255650279457 and parameters: {'n_estimators': 439, 'criterion': 'friedman_mse', 'max_depth': 6, 'min_samples_leaf': 1, 'max_features': 0.906, 'maks_iterasjoner': 7, 'std_terskel': 0.014}. Best is trial 42 with value: 0.7672891700897801.\n",
            "[I 2024-05-03 15:13:41,983] Trial 67 finished with value: 0.7725383699750181 and parameters: {'n_estimators': 488, 'criterion': 'friedman_mse', 'max_depth': 9, 'min_samples_leaf': 1, 'max_features': 0.997, 'maks_iterasjoner': 7, 'std_terskel': 0.01}. Best is trial 42 with value: 0.7672891700897801.\n",
            "[I 2024-05-03 15:13:54,613] Trial 69 finished with value: 0.8071010276581604 and parameters: {'n_estimators': 430, 'criterion': 'friedman_mse', 'max_depth': 16, 'min_samples_leaf': 2, 'max_features': 0.689, 'maks_iterasjoner': 10, 'std_terskel': 0.015}. Best is trial 42 with value: 0.7672891700897801.\n",
            "[I 2024-05-03 15:14:04,257] Trial 68 finished with value: 0.8321004278125755 and parameters: {'n_estimators': 436, 'criterion': 'absolute_error', 'max_depth': 8, 'min_samples_leaf': 2, 'max_features': 0.6869999999999999, 'maks_iterasjoner': 10, 'std_terskel': 0.01}. Best is trial 42 with value: 0.7672891700897801.\n",
            "[I 2024-05-03 15:14:10,439] Trial 70 finished with value: 1.108072737426627 and parameters: {'n_estimators': 482, 'criterion': 'absolute_error', 'max_depth': 13, 'min_samples_leaf': 5, 'max_features': 0.229, 'maks_iterasjoner': 14, 'std_terskel': 0.012}. Best is trial 42 with value: 0.7672891700897801.\n",
            "[I 2024-05-03 15:14:20,788] Trial 71 finished with value: 0.7850016639716837 and parameters: {'n_estimators': 326, 'criterion': 'friedman_mse', 'max_depth': 13, 'min_samples_leaf': 1, 'max_features': 0.73, 'maks_iterasjoner': 14, 'std_terskel': 0.011}. Best is trial 42 with value: 0.7672891700897801.\n",
            "[I 2024-05-03 15:14:28,299] Trial 72 finished with value: 0.7699029362940052 and parameters: {'n_estimators': 451, 'criterion': 'friedman_mse', 'max_depth': 11, 'min_samples_leaf': 1, 'max_features': 0.854, 'maks_iterasjoner': 9, 'std_terskel': 0.011}. Best is trial 42 with value: 0.7672891700897801.\n",
            "[I 2024-05-03 15:14:38,095] Trial 73 finished with value: 0.7700716831123647 and parameters: {'n_estimators': 458, 'criterion': 'friedman_mse', 'max_depth': 11, 'min_samples_leaf': 1, 'max_features': 0.849, 'maks_iterasjoner': 9, 'std_terskel': 0.011}. Best is trial 42 with value: 0.7672891700897801.\n",
            "[I 2024-05-03 15:14:40,957] Trial 74 finished with value: 0.7723593685687704 and parameters: {'n_estimators': 448, 'criterion': 'friedman_mse', 'max_depth': 11, 'min_samples_leaf': 1, 'max_features': 0.9349999999999999, 'maks_iterasjoner': 5, 'std_terskel': 0.012}. Best is trial 42 with value: 0.7672891700897801.\n",
            "[I 2024-05-03 15:14:42,245] A new study created in memory with name: no-name-24a7f37a-7154-449e-9e73-2cf5f4dfccfc\n",
            "[I 2024-05-03 15:14:45,501] Trial 0 finished with value: 1.0750765039352832 and parameters: {'k': 278, 'graf_vektet_harmonic': False, 'initiell_respons': 'domain_mean', 'alpha': 0.124, 'maks_iterasjoner_harmonic': 3, 'maks_iterasjoner_heat': 25}. Best is trial 0 with value: 1.0750765039352832.\n",
            "[I 2024-05-03 15:14:49,604] Trial 1 finished with value: 1.0628683305638698 and parameters: {'k': 226, 'graf_vektet_harmonic': False, 'initiell_respons': 'domain_median', 'alpha': 0.732, 'maks_iterasjoner_harmonic': 59, 'maks_iterasjoner_heat': 95}. Best is trial 1 with value: 1.0628683305638698.\n",
            "[I 2024-05-03 15:14:52,382] Trial 2 finished with value: 1.11211903473337 and parameters: {'k': 258, 'graf_vektet_harmonic': False, 'initiell_respons': 'domain_mean', 'alpha': 0.715, 'maks_iterasjoner_harmonic': 70, 'maks_iterasjoner_heat': 39}. Best is trial 1 with value: 1.0628683305638698.\n",
            "[I 2024-05-03 15:14:55,139] Trial 3 finished with value: 1.8538806213162629 and parameters: {'k': 268, 'graf_vektet_harmonic': True, 'initiell_respons': 'domain_median', 'alpha': 0.342, 'maks_iterasjoner_harmonic': 79, 'maks_iterasjoner_heat': 86}. Best is trial 1 with value: 1.0628683305638698.\n",
            "[I 2024-05-03 15:14:57,927] Trial 4 finished with value: 1.011970730087105 and parameters: {'k': 161, 'graf_vektet_harmonic': False, 'initiell_respons': 'domain_mean', 'alpha': 0.14200000000000002, 'maks_iterasjoner_harmonic': 100, 'maks_iterasjoner_heat': 55}. Best is trial 4 with value: 1.011970730087105.\n",
            "[I 2024-05-03 15:15:02,376] Trial 5 finished with value: 1.037746104877118 and parameters: {'k': 232, 'graf_vektet_harmonic': False, 'initiell_respons': 'domain_mean', 'alpha': 0.389, 'maks_iterasjoner_harmonic': 74, 'maks_iterasjoner_heat': 99}. Best is trial 4 with value: 1.011970730087105.\n",
            "[I 2024-05-03 15:15:05,468] Trial 6 finished with value: 1.1230603502068024 and parameters: {'k': 266, 'graf_vektet_harmonic': False, 'initiell_respons': 'domain_mean', 'alpha': 0.717, 'maks_iterasjoner_harmonic': 62, 'maks_iterasjoner_heat': 32}. Best is trial 4 with value: 1.011970730087105.\n",
            "[I 2024-05-03 15:15:08,202] Trial 7 finished with value: 2.3276131529482056 and parameters: {'k': 271, 'graf_vektet_harmonic': True, 'initiell_respons': 'domain_mean', 'alpha': 0.498, 'maks_iterasjoner_harmonic': 24, 'maks_iterasjoner_heat': 32}. Best is trial 4 with value: 1.011970730087105.\n",
            "[I 2024-05-03 15:15:10,907] Trial 8 finished with value: 1.0067851140659048 and parameters: {'k': 158, 'graf_vektet_harmonic': False, 'initiell_respons': 'domain_mean', 'alpha': 0.192, 'maks_iterasjoner_harmonic': 27, 'maks_iterasjoner_heat': 92}. Best is trial 8 with value: 1.0067851140659048.\n",
            "[I 2024-05-03 15:15:14,557] Trial 9 finished with value: 3.0877871674783175 and parameters: {'k': 250, 'graf_vektet_harmonic': True, 'initiell_respons': 'domain_median', 'alpha': 0.882, 'maks_iterasjoner_harmonic': 23, 'maks_iterasjoner_heat': 47}. Best is trial 8 with value: 1.0067851140659048.\n",
            "[I 2024-05-03 15:15:18,055] Trial 10 finished with value: 1.580992591399983 and parameters: {'k': 140, 'graf_vektet_harmonic': True, 'initiell_respons': 'domain_median', 'alpha': 0.232, 'maks_iterasjoner_harmonic': 37, 'maks_iterasjoner_heat': 3}. Best is trial 8 with value: 1.0067851140659048.\n",
            "[I 2024-05-03 15:15:20,885] Trial 11 finished with value: 1.0320054240449716 and parameters: {'k': 166, 'graf_vektet_harmonic': False, 'initiell_respons': 'domain_mean', 'alpha': 0.047, 'maks_iterasjoner_harmonic': 100, 'maks_iterasjoner_heat': 70}. Best is trial 8 with value: 1.0067851140659048.\n",
            "[I 2024-05-03 15:15:23,694] Trial 12 finished with value: 1.0403727613571454 and parameters: {'k': 186, 'graf_vektet_harmonic': False, 'initiell_respons': 'domain_mean', 'alpha': 0.021, 'maks_iterasjoner_harmonic': 100, 'maks_iterasjoner_heat': 65}. Best is trial 8 with value: 1.0067851140659048.\n",
            "[I 2024-05-03 15:15:26,496] Trial 13 finished with value: 1.0025637927954554 and parameters: {'k': 144, 'graf_vektet_harmonic': False, 'initiell_respons': 'domain_mean', 'alpha': 0.214, 'maks_iterasjoner_harmonic': 41, 'maks_iterasjoner_heat': 70}. Best is trial 13 with value: 1.0025637927954554.\n",
            "[I 2024-05-03 15:15:30,766] Trial 14 finished with value: 0.9998579117547837 and parameters: {'k': 140, 'graf_vektet_harmonic': False, 'initiell_respons': 'domain_mean', 'alpha': 0.28300000000000003, 'maks_iterasjoner_harmonic': 40, 'maks_iterasjoner_heat': 79}. Best is trial 14 with value: 0.9998579117547837.\n",
            "[I 2024-05-03 15:15:33,715] Trial 15 finished with value: 1.0137356544298726 and parameters: {'k': 190, 'graf_vektet_harmonic': False, 'initiell_respons': 'domain_mean', 'alpha': 0.326, 'maks_iterasjoner_harmonic': 44, 'maks_iterasjoner_heat': 75}. Best is trial 14 with value: 0.9998579117547837.\n",
            "[I 2024-05-03 15:15:36,537] Trial 16 finished with value: 1.020168476226194 and parameters: {'k': 139, 'graf_vektet_harmonic': False, 'initiell_respons': 'domain_mean', 'alpha': 0.499, 'maks_iterasjoner_harmonic': 10, 'maks_iterasjoner_heat': 79}. Best is trial 14 with value: 0.9998579117547837.\n",
            "[I 2024-05-03 15:15:39,386] Trial 17 finished with value: 1.020723936313888 and parameters: {'k': 187, 'graf_vektet_harmonic': False, 'initiell_respons': 'domain_mean', 'alpha': 0.393, 'maks_iterasjoner_harmonic': 48, 'maks_iterasjoner_heat': 60}. Best is trial 14 with value: 0.9998579117547837.\n",
            "[I 2024-05-03 15:15:43,401] Trial 18 finished with value: 1.6693660580022436 and parameters: {'k': 207, 'graf_vektet_harmonic': True, 'initiell_respons': 'domain_median', 'alpha': 0.274, 'maks_iterasjoner_harmonic': 31, 'maks_iterasjoner_heat': 82}. Best is trial 14 with value: 0.9998579117547837.\n",
            "[I 2024-05-03 15:15:46,756] Trial 19 finished with value: 1.0461527242621351 and parameters: {'k': 173, 'graf_vektet_harmonic': False, 'initiell_respons': 'domain_mean', 'alpha': 0.588, 'maks_iterasjoner_harmonic': 16, 'maks_iterasjoner_heat': 49}. Best is trial 14 with value: 0.9998579117547837.\n",
            "[I 2024-05-03 15:15:49,560] Trial 20 finished with value: 1.038199940233387 and parameters: {'k': 152, 'graf_vektet_harmonic': False, 'initiell_respons': 'domain_mean', 'alpha': 0.5760000000000001, 'maks_iterasjoner_harmonic': 41, 'maks_iterasjoner_heat': 68}. Best is trial 14 with value: 0.9998579117547837.\n",
            "[I 2024-05-03 15:15:52,356] Trial 21 finished with value: 1.0057564595365311 and parameters: {'k': 152, 'graf_vektet_harmonic': False, 'initiell_respons': 'domain_mean', 'alpha': 0.187, 'maks_iterasjoner_harmonic': 31, 'maks_iterasjoner_heat': 89}. Best is trial 14 with value: 0.9998579117547837.\n",
            "[I 2024-05-03 15:15:56,159] Trial 22 finished with value: 1.014244794919203 and parameters: {'k': 150, 'graf_vektet_harmonic': False, 'initiell_respons': 'domain_mean', 'alpha': 0.121, 'maks_iterasjoner_harmonic': 55, 'maks_iterasjoner_heat': 87}. Best is trial 14 with value: 0.9998579117547837.\n",
            "[I 2024-05-03 15:15:59,703] Trial 23 finished with value: 1.0072859862377892 and parameters: {'k': 175, 'graf_vektet_harmonic': False, 'initiell_respons': 'domain_mean', 'alpha': 0.266, 'maks_iterasjoner_harmonic': 34, 'maks_iterasjoner_heat': 72}. Best is trial 14 with value: 0.9998579117547837.\n",
            "[I 2024-05-03 15:16:02,624] Trial 24 finished with value: 1.0117362028305072 and parameters: {'k': 147, 'graf_vektet_harmonic': False, 'initiell_respons': 'domain_mean', 'alpha': 0.418, 'maks_iterasjoner_harmonic': 50, 'maks_iterasjoner_heat': 80}. Best is trial 14 with value: 0.9998579117547837.\n",
            "[I 2024-05-03 15:16:05,424] Trial 25 finished with value: 1.0295906009825635 and parameters: {'k': 203, 'graf_vektet_harmonic': False, 'initiell_respons': 'domain_mean', 'alpha': 0.068, 'maks_iterasjoner_harmonic': 18, 'maks_iterasjoner_heat': 100}. Best is trial 14 with value: 0.9998579117547837.\n",
            "[I 2024-05-03 15:16:08,438] Trial 26 finished with value: 1.467448170495499 and parameters: {'k': 169, 'graf_vektet_harmonic': True, 'initiell_respons': 'domain_median', 'alpha': 0.2, 'maks_iterasjoner_harmonic': 40, 'maks_iterasjoner_heat': 60}. Best is trial 14 with value: 0.9998579117547837.\n",
            "[I 2024-05-03 15:16:12,750] Trial 27 finished with value: 0.9999627333141752 and parameters: {'k': 139, 'graf_vektet_harmonic': False, 'initiell_respons': 'domain_mean', 'alpha': 0.306, 'maks_iterasjoner_harmonic': 33, 'maks_iterasjoner_heat': 87}. Best is trial 14 with value: 0.9998579117547837.\n",
            "[I 2024-05-03 15:16:15,667] Trial 28 finished with value: 1.0002121728459459 and parameters: {'k': 139, 'graf_vektet_harmonic': False, 'initiell_respons': 'domain_mean', 'alpha': 0.313, 'maks_iterasjoner_harmonic': 47, 'maks_iterasjoner_heat': 77}. Best is trial 14 with value: 0.9998579117547837.\n",
            "[I 2024-05-03 15:16:18,408] Trial 29 finished with value: 1.4095208523424285 and parameters: {'k': 179, 'graf_vektet_harmonic': False, 'initiell_respons': 'domain_mean', 'alpha': 0.437, 'maks_iterasjoner_harmonic': 2, 'maks_iterasjoner_heat': 15}. Best is trial 14 with value: 0.9998579117547837.\n",
            "[I 2024-05-03 15:16:21,445] Trial 30 finished with value: 1.0059470228573262 and parameters: {'k': 163, 'graf_vektet_harmonic': False, 'initiell_respons': 'domain_mean', 'alpha': 0.309, 'maks_iterasjoner_harmonic': 65, 'maks_iterasjoner_heat': 78}. Best is trial 14 with value: 0.9998579117547837.\n",
            "[I 2024-05-03 15:16:25,746] Trial 31 finished with value: 1.0109045103739203 and parameters: {'k': 141, 'graf_vektet_harmonic': False, 'initiell_respons': 'domain_mean', 'alpha': 0.133, 'maks_iterasjoner_harmonic': 54, 'maks_iterasjoner_heat': 65}. Best is trial 14 with value: 0.9998579117547837.\n",
            "[I 2024-05-03 15:16:28,879] Trial 32 finished with value: 1.0010203294960243 and parameters: {'k': 146, 'graf_vektet_harmonic': False, 'initiell_respons': 'domain_mean', 'alpha': 0.262, 'maks_iterasjoner_harmonic': 45, 'maks_iterasjoner_heat': 83}. Best is trial 14 with value: 0.9998579117547837.\n",
            "[I 2024-05-03 15:16:31,783] Trial 33 finished with value: 1.0072583067064664 and parameters: {'k': 155, 'graf_vektet_harmonic': False, 'initiell_respons': 'domain_mean', 'alpha': 0.34500000000000003, 'maks_iterasjoner_harmonic': 48, 'maks_iterasjoner_heat': 94}. Best is trial 14 with value: 0.9998579117547837.\n",
            "[I 2024-05-03 15:16:34,720] Trial 34 finished with value: 1.004136807671626 and parameters: {'k': 139, 'graf_vektet_harmonic': False, 'initiell_respons': 'domain_median', 'alpha': 0.559, 'maks_iterasjoner_harmonic': 60, 'maks_iterasjoner_heat': 84}. Best is trial 14 with value: 0.9998579117547837.\n",
            "[I 2024-05-03 15:16:38,338] Trial 35 finished with value: 1.0050179409442737 and parameters: {'k': 158, 'graf_vektet_harmonic': False, 'initiell_respons': 'domain_mean', 'alpha': 0.28800000000000003, 'maks_iterasjoner_harmonic': 54, 'maks_iterasjoner_heat': 92}. Best is trial 14 with value: 0.9998579117547837.\n",
            "[I 2024-05-03 15:16:42,024] Trial 36 finished with value: 1.042613486453744 and parameters: {'k': 220, 'graf_vektet_harmonic': False, 'initiell_respons': 'domain_mean', 'alpha': 0.466, 'maks_iterasjoner_harmonic': 84, 'maks_iterasjoner_heat': 87}. Best is trial 14 with value: 0.9998579117547837.\n",
            "[I 2024-05-03 15:16:44,842] Trial 37 finished with value: 1.933538780911787 and parameters: {'k': 149, 'graf_vektet_harmonic': True, 'initiell_respons': 'domain_mean', 'alpha': 0.352, 'maks_iterasjoner_harmonic': 45, 'maks_iterasjoner_heat': 58}. Best is trial 14 with value: 0.9998579117547837.\n",
            "[I 2024-05-03 15:16:47,768] Trial 38 finished with value: 1.1054158494306188 and parameters: {'k': 236, 'graf_vektet_harmonic': False, 'initiell_respons': 'domain_median', 'alpha': 0.929, 'maks_iterasjoner_harmonic': 69, 'maks_iterasjoner_heat': 76}. Best is trial 14 with value: 0.9998579117547837.\n",
            "[I 2024-05-03 15:16:50,633] Trial 39 finished with value: 1.0216398689967796 and parameters: {'k': 164, 'graf_vektet_harmonic': False, 'initiell_respons': 'domain_mean', 'alpha': 0.089, 'maks_iterasjoner_harmonic': 35, 'maks_iterasjoner_heat': 97}. Best is trial 14 with value: 0.9998579117547837.\n",
            "[I 2024-05-03 15:16:54,768] Trial 40 finished with value: 1.0934162393590885 and parameters: {'k': 197, 'graf_vektet_harmonic': False, 'initiell_respons': 'domain_mean', 'alpha': 0.792, 'maks_iterasjoner_harmonic': 26, 'maks_iterasjoner_heat': 43}. Best is trial 14 with value: 0.9998579117547837.\n",
            "[I 2024-05-03 15:16:57,569] Trial 41 finished with value: 1.0015203635756005 and parameters: {'k': 145, 'graf_vektet_harmonic': False, 'initiell_respons': 'domain_mean', 'alpha': 0.23600000000000002, 'maks_iterasjoner_harmonic': 41, 'maks_iterasjoner_heat': 74}. Best is trial 14 with value: 0.9998579117547837.\n",
            "[I 2024-05-03 15:17:00,321] Trial 42 finished with value: 1.0014837282423894 and parameters: {'k': 147, 'graf_vektet_harmonic': False, 'initiell_respons': 'domain_mean', 'alpha': 0.254, 'maks_iterasjoner_harmonic': 39, 'maks_iterasjoner_heat': 74}. Best is trial 14 with value: 0.9998579117547837.\n",
            "[I 2024-05-03 15:17:03,245] Trial 43 finished with value: 1.009689451923113 and parameters: {'k': 160, 'graf_vektet_harmonic': False, 'initiell_respons': 'domain_mean', 'alpha': 0.161, 'maks_iterasjoner_harmonic': 30, 'maks_iterasjoner_heat': 83}. Best is trial 14 with value: 0.9998579117547837.\n",
            "[I 2024-05-03 15:17:07,319] Trial 44 finished with value: 1.009316155425976 and parameters: {'k': 155, 'graf_vektet_harmonic': False, 'initiell_respons': 'domain_mean', 'alpha': 0.369, 'maks_iterasjoner_harmonic': 38, 'maks_iterasjoner_heat': 90}. Best is trial 14 with value: 0.9998579117547837.\n",
            "[I 2024-05-03 15:17:10,440] Trial 45 finished with value: 1.6494751227174027 and parameters: {'k': 146, 'graf_vektet_harmonic': True, 'initiell_respons': 'domain_mean', 'alpha': 0.251, 'maks_iterasjoner_harmonic': 45, 'maks_iterasjoner_heat': 65}. Best is trial 14 with value: 0.9998579117547837.\n",
            "[I 2024-05-03 15:17:13,218] Trial 46 finished with value: 1.0431743078213724 and parameters: {'k': 139, 'graf_vektet_harmonic': False, 'initiell_respons': 'domain_mean', 'alpha': 0.634, 'maks_iterasjoner_harmonic': 22, 'maks_iterasjoner_heat': 53}. Best is trial 14 with value: 0.9998579117547837.\n",
            "[I 2024-05-03 15:17:15,960] Trial 47 finished with value: 0.9912635339669306 and parameters: {'k': 147, 'graf_vektet_harmonic': False, 'initiell_respons': 'domain_median', 'alpha': 0.311, 'maks_iterasjoner_harmonic': 53, 'maks_iterasjoner_heat': 85}. Best is trial 47 with value: 0.9912635339669306.\n",
            "[I 2024-05-03 15:17:19,344] Trial 48 finished with value: 0.9972085332021998 and parameters: {'k': 170, 'graf_vektet_harmonic': False, 'initiell_respons': 'domain_median', 'alpha': 0.306, 'maks_iterasjoner_harmonic': 57, 'maks_iterasjoner_heat': 96}. Best is trial 47 with value: 0.9912635339669306.\n",
            "[I 2024-05-03 15:17:23,036] Trial 49 finished with value: 1.7775033657517711 and parameters: {'k': 169, 'graf_vektet_harmonic': True, 'initiell_respons': 'domain_median', 'alpha': 0.314, 'maks_iterasjoner_harmonic': 86, 'maks_iterasjoner_heat': 96}. Best is trial 47 with value: 0.9912635339669306.\n",
            "[I 2024-05-03 15:17:25,862] Trial 50 finished with value: 0.9958883955118722 and parameters: {'k': 157, 'graf_vektet_harmonic': False, 'initiell_respons': 'domain_median', 'alpha': 0.447, 'maks_iterasjoner_harmonic': 57, 'maks_iterasjoner_heat': 100}. Best is trial 47 with value: 0.9912635339669306.\n",
            "[I 2024-05-03 15:17:28,782] Trial 51 finished with value: 0.9964988873398916 and parameters: {'k': 157, 'graf_vektet_harmonic': False, 'initiell_respons': 'domain_median', 'alpha': 0.454, 'maks_iterasjoner_harmonic': 57, 'maks_iterasjoner_heat': 93}. Best is trial 47 with value: 0.9912635339669306.\n",
            "[I 2024-05-03 15:17:31,607] Trial 52 finished with value: 1.0114533515751578 and parameters: {'k': 179, 'graf_vektet_harmonic': False, 'initiell_respons': 'domain_median', 'alpha': 0.534, 'maks_iterasjoner_harmonic': 64, 'maks_iterasjoner_heat': 100}. Best is trial 47 with value: 0.9912635339669306.\n",
            "[I 2024-05-03 15:17:35,921] Trial 53 finished with value: 0.9966975068013755 and parameters: {'k': 158, 'graf_vektet_harmonic': False, 'initiell_respons': 'domain_median', 'alpha': 0.45, 'maks_iterasjoner_harmonic': 57, 'maks_iterasjoner_heat': 93}. Best is trial 47 with value: 0.9912635339669306.\n",
            "[I 2024-05-03 15:17:38,874] Trial 54 finished with value: 0.9993241355920056 and parameters: {'k': 158, 'graf_vektet_harmonic': False, 'initiell_respons': 'domain_median', 'alpha': 0.47700000000000004, 'maks_iterasjoner_harmonic': 73, 'maks_iterasjoner_heat': 94}. Best is trial 47 with value: 0.9912635339669306.\n",
            "[I 2024-05-03 15:17:41,655] Trial 55 finished with value: 1.002078878471893 and parameters: {'k': 169, 'graf_vektet_harmonic': False, 'initiell_respons': 'domain_median', 'alpha': 0.482, 'maks_iterasjoner_harmonic': 76, 'maks_iterasjoner_heat': 94}. Best is trial 47 with value: 0.9912635339669306.\n",
            "[I 2024-05-03 15:17:44,370] Trial 56 finished with value: 1.0274511862743563 and parameters: {'k': 181, 'graf_vektet_harmonic': False, 'initiell_respons': 'domain_median', 'alpha': 0.624, 'maks_iterasjoner_harmonic': 58, 'maks_iterasjoner_heat': 91}. Best is trial 47 with value: 0.9912635339669306.\n",
            "[I 2024-05-03 15:17:48,331] Trial 57 finished with value: 0.9962237260485576 and parameters: {'k': 159, 'graf_vektet_harmonic': False, 'initiell_respons': 'domain_median', 'alpha': 0.441, 'maks_iterasjoner_harmonic': 72, 'maks_iterasjoner_heat': 98}. Best is trial 47 with value: 0.9912635339669306.\n",
            "[I 2024-05-03 15:17:52,101] Trial 58 finished with value: 0.9966253923296958 and parameters: {'k': 173, 'graf_vektet_harmonic': False, 'initiell_respons': 'domain_median', 'alpha': 0.395, 'maks_iterasjoner_harmonic': 67, 'maks_iterasjoner_heat': 97}. Best is trial 47 with value: 0.9912635339669306.\n",
            "[I 2024-05-03 15:17:54,861] Trial 59 finished with value: 0.9922298212179349 and parameters: {'k': 154, 'graf_vektet_harmonic': False, 'initiell_respons': 'domain_median', 'alpha': 0.40800000000000003, 'maks_iterasjoner_harmonic': 68, 'maks_iterasjoner_heat': 100}. Best is trial 47 with value: 0.9912635339669306.\n",
            "[I 2024-05-03 15:17:57,699] Trial 60 finished with value: 2.006144761218592 and parameters: {'k': 165, 'graf_vektet_harmonic': True, 'initiell_respons': 'domain_median', 'alpha': 0.399, 'maks_iterasjoner_harmonic': 68, 'maks_iterasjoner_heat': 100}. Best is trial 47 with value: 0.9912635339669306.\n",
            "[I 2024-05-03 15:18:00,473] Trial 61 finished with value: 0.9953570698209032 and parameters: {'k': 155, 'graf_vektet_harmonic': False, 'initiell_respons': 'domain_median', 'alpha': 0.446, 'maks_iterasjoner_harmonic': 63, 'maks_iterasjoner_heat': 97}. Best is trial 47 with value: 0.9912635339669306.\n",
            "[I 2024-05-03 15:18:04,684] Trial 62 finished with value: 1.0017281508431857 and parameters: {'k': 154, 'graf_vektet_harmonic': False, 'initiell_respons': 'domain_median', 'alpha': 0.514, 'maks_iterasjoner_harmonic': 82, 'maks_iterasjoner_heat': 97}. Best is trial 47 with value: 0.9912635339669306.\n",
            "[I 2024-05-03 15:18:07,416] Trial 63 finished with value: 0.9940856084188445 and parameters: {'k': 161, 'graf_vektet_harmonic': False, 'initiell_respons': 'domain_median', 'alpha': 0.41500000000000004, 'maks_iterasjoner_harmonic': 90, 'maks_iterasjoner_heat': 89}. Best is trial 47 with value: 0.9912635339669306.\n",
            "[I 2024-05-03 15:18:10,260] Trial 64 finished with value: 1.059253893434535 and parameters: {'k': 278, 'graf_vektet_harmonic': False, 'initiell_respons': 'domain_median', 'alpha': 0.441, 'maks_iterasjoner_harmonic': 92, 'maks_iterasjoner_heat': 89}. Best is trial 47 with value: 0.9912635339669306.\n",
            "[I 2024-05-03 15:18:13,106] Trial 65 finished with value: 0.9946008828056795 and parameters: {'k': 162, 'graf_vektet_harmonic': False, 'initiell_respons': 'domain_median', 'alpha': 0.418, 'maks_iterasjoner_harmonic': 72, 'maks_iterasjoner_heat': 86}. Best is trial 47 with value: 0.9912635339669306.\n",
            "[I 2024-05-03 15:18:17,527] Trial 66 finished with value: 0.9907679809410561 and parameters: {'k': 151, 'graf_vektet_harmonic': False, 'initiell_respons': 'domain_median', 'alpha': 0.374, 'maks_iterasjoner_harmonic': 72, 'maks_iterasjoner_heat': 32}. Best is trial 66 with value: 0.9907679809410561.\n",
            "[I 2024-05-03 15:18:20,531] Trial 67 finished with value: 0.9907141132982487 and parameters: {'k': 151, 'graf_vektet_harmonic': False, 'initiell_respons': 'domain_median', 'alpha': 0.368, 'maks_iterasjoner_harmonic': 77, 'maks_iterasjoner_heat': 26}. Best is trial 67 with value: 0.9907141132982487.\n",
            "[I 2024-05-03 15:18:23,230] Trial 68 finished with value: 0.9905097927847336 and parameters: {'k': 150, 'graf_vektet_harmonic': False, 'initiell_respons': 'domain_median', 'alpha': 0.371, 'maks_iterasjoner_harmonic': 78, 'maks_iterasjoner_heat': 27}. Best is trial 68 with value: 0.9905097927847336.\n",
            "[I 2024-05-03 15:18:26,400] Trial 69 finished with value: 0.9909022560380045 and parameters: {'k': 152, 'graf_vektet_harmonic': False, 'initiell_respons': 'domain_median', 'alpha': 0.37, 'maks_iterasjoner_harmonic': 78, 'maks_iterasjoner_heat': 30}. Best is trial 68 with value: 0.9905097927847336.\n",
            "[I 2024-05-03 15:18:30,566] Trial 70 finished with value: 0.9906923644280038 and parameters: {'k': 150, 'graf_vektet_harmonic': False, 'initiell_respons': 'domain_median', 'alpha': 0.34400000000000003, 'maks_iterasjoner_harmonic': 92, 'maks_iterasjoner_heat': 29}. Best is trial 68 with value: 0.9905097927847336.\n",
            "[I 2024-05-03 15:18:34,042] Trial 71 finished with value: 0.9909255058767973 and parameters: {'k': 152, 'graf_vektet_harmonic': False, 'initiell_respons': 'domain_median', 'alpha': 0.373, 'maks_iterasjoner_harmonic': 91, 'maks_iterasjoner_heat': 29}. Best is trial 68 with value: 0.9905097927847336.\n",
            "[I 2024-05-03 15:18:36,866] Trial 72 finished with value: 0.9907069972402338 and parameters: {'k': 151, 'graf_vektet_harmonic': False, 'initiell_respons': 'domain_median', 'alpha': 0.366, 'maks_iterasjoner_harmonic': 78, 'maks_iterasjoner_heat': 27}. Best is trial 68 with value: 0.9905097927847336.\n",
            "[I 2024-05-03 15:18:39,667] Trial 73 finished with value: 0.9905547908485868 and parameters: {'k': 150, 'graf_vektet_harmonic': False, 'initiell_respons': 'domain_median', 'alpha': 0.375, 'maks_iterasjoner_harmonic': 95, 'maks_iterasjoner_heat': 28}. Best is trial 68 with value: 0.9905097927847336.\n",
            "[I 2024-05-03 15:18:42,465] Trial 74 finished with value: 0.9904744298184753 and parameters: {'k': 150, 'graf_vektet_harmonic': False, 'initiell_respons': 'domain_median', 'alpha': 0.364, 'maks_iterasjoner_harmonic': 95, 'maks_iterasjoner_heat': 27}. Best is trial 74 with value: 0.9904744298184753.\n",
            "[I 2024-05-03 15:19:29,602] A new study created in memory with name: no-name-4c17f408-891f-49b5-8fa4-60c4bb7429e9\n",
            "[I 2024-05-03 15:24:09,102] Trial 1 finished with value: 0.7349580970995974 and parameters: {'k1': 5, 'k2': 1, 'p1': 3, 'p2': 10, 'max_iters': 35, 'pool_size': 91}. Best is trial 1 with value: 0.7349580970995974.\n",
            "[I 2024-05-03 15:25:44,911] Trial 2 finished with value: 0.8046806423108622 and parameters: {'k1': 1, 'k2': 7, 'p1': 2, 'p2': 10, 'max_iters': 12, 'pool_size': 69}. Best is trial 1 with value: 0.7349580970995974.\n",
            "[I 2024-05-03 15:30:07,940] Trial 0 finished with value: 0.8825004139253596 and parameters: {'k1': 4, 'k2': 14, 'p1': 8, 'p2': 5, 'max_iters': 22, 'pool_size': 131}. Best is trial 1 with value: 0.7349580970995974.\n",
            "[I 2024-05-03 15:34:27,654] Trial 4 finished with value: 0.9752963338178013 and parameters: {'k1': 13, 'k2': 16, 'p1': 7, 'p2': 1, 'max_iters': 12, 'pool_size': 77}. Best is trial 1 with value: 0.7349580970995974.\n",
            "[I 2024-05-03 15:38:29,969] Trial 5 finished with value: 0.7490031501232421 and parameters: {'k1': 3, 'k2': 3, 'p1': 7, 'p2': 5, 'max_iters': 44, 'pool_size': 62}. Best is trial 1 with value: 0.7349580970995974.\n",
            "[I 2024-05-03 15:48:54,901] Trial 6 finished with value: 0.7712086324459339 and parameters: {'k1': 18, 'k2': 8, 'p1': 1, 'p2': 1, 'max_iters': 20, 'pool_size': 164}. Best is trial 1 with value: 0.7349580970995974.\n",
            "[I 2024-05-03 15:51:18,254] Trial 7 finished with value: 0.8552822064703245 and parameters: {'k1': 1, 'k2': 10, 'p1': 4, 'p2': 9, 'max_iters': 11, 'pool_size': 84}. Best is trial 1 with value: 0.7349580970995974.\n",
            "[I 2024-05-03 15:52:54,795] Trial 3 finished with value: 1.04489435383354 and parameters: {'k1': 19, 'k2': 6, 'p1': 7, 'p2': 6, 'max_iters': 26, 'pool_size': 164}. Best is trial 1 with value: 0.7349580970995974.\n",
            "[I 2024-05-03 15:53:47,354] Trial 8 finished with value: 0.8369412306942247 and parameters: {'k1': 1, 'k2': 15, 'p1': 9, 'p2': 6, 'max_iters': 10, 'pool_size': 69}. Best is trial 1 with value: 0.7349580970995974.\n",
            "[I 2024-05-03 15:55:51,342] Trial 10 finished with value: 0.8052777575315262 and parameters: {'k1': 4, 'k2': 1, 'p1': 8, 'p2': 4, 'max_iters': 29, 'pool_size': 68}. Best is trial 1 with value: 0.7349580970995974.\n",
            "[I 2024-05-03 15:59:19,868] Trial 11 finished with value: 0.9976940636306633 and parameters: {'k1': 8, 'k2': 19, 'p1': 4, 'p2': 8, 'max_iters': 43, 'pool_size': 20}. Best is trial 1 with value: 0.7349580970995974.\n",
            "[I 2024-05-03 16:00:17,769] Trial 12 finished with value: 0.8186098881833841 and parameters: {'k1': 8, 'k2': 1, 'p1': 5, 'p2': 3, 'max_iters': 47, 'pool_size': 20}. Best is trial 1 with value: 0.7349580970995974.\n",
            "[I 2024-05-03 16:08:13,549] Trial 13 finished with value: 0.8487951939817061 and parameters: {'k1': 6, 'k2': 4, 'p1': 10, 'p2': 8, 'max_iters': 37, 'pool_size': 130}. Best is trial 1 with value: 0.7349580970995974.\n",
            "[I 2024-05-03 16:11:09,372] Trial 9 finished with value: 1.0471876393394488 and parameters: {'k1': 19, 'k2': 6, 'p1': 9, 'p2': 6, 'max_iters': 49, 'pool_size': 94}. Best is trial 1 with value: 0.7349580970995974.\n",
            "[I 2024-05-03 16:14:51,277] Trial 15 finished with value: 0.7398861250232381 and parameters: {'k1': 12, 'k2': 4, 'p1': 2, 'p2': 3, 'max_iters': 36, 'pool_size': 40}. Best is trial 1 with value: 0.7349580970995974.\n",
            "[I 2024-05-03 16:18:04,897] Trial 16 finished with value: 0.7615012570096751 and parameters: {'k1': 13, 'k2': 3, 'p1': 2, 'p2': 3, 'max_iters': 34, 'pool_size': 39}. Best is trial 1 with value: 0.7349580970995974.\n",
            "[I 2024-05-03 16:24:55,756] Trial 14 finished with value: 0.8104549797842515 and parameters: {'k1': 12, 'k2': 4, 'p1': 3, 'p2': 7, 'max_iters': 36, 'pool_size': 117}. Best is trial 1 with value: 0.7349580970995974.\n",
            "[I 2024-05-03 16:27:45,895] Trial 18 finished with value: 0.973704635900915 and parameters: {'k1': 16, 'k2': 11, 'p1': 1, 'p2': 3, 'max_iters': 3, 'pool_size': 193}. Best is trial 1 with value: 0.7349580970995974.\n",
            "[I 2024-05-03 16:31:35,941] Trial 19 finished with value: 0.7534836825632022 and parameters: {'k1': 10, 'k2': 1, 'p1': 3, 'p2': 10, 'max_iters': 31, 'pool_size': 44}. Best is trial 1 with value: 0.7349580970995974.\n",
            "[I 2024-05-03 16:32:04,136] Trial 20 finished with value: 1.0202921280844162 and parameters: {'k1': 16, 'k2': 10, 'p1': 5, 'p2': 2, 'max_iters': 40, 'pool_size': 4}. Best is trial 1 with value: 0.7349580970995974.\n",
            "[I 2024-05-03 16:34:30,476] Trial 17 finished with value: 0.8554183410454315 and parameters: {'k1': 13, 'k2': 11, 'p1': 3, 'p2': 2, 'max_iters': 37, 'pool_size': 117}. Best is trial 1 with value: 0.7349580970995974.\n",
            "[I 2024-05-03 16:37:27,514] Trial 22 finished with value: 0.7581773312969728 and parameters: {'k1': 4, 'k2': 3, 'p1': 6, 'p2': 5, 'max_iters': 44, 'pool_size': 42}. Best is trial 1 with value: 0.7349580970995974.\n",
            "[I 2024-05-03 16:38:31,396] Trial 21 finished with value: 0.7899051451432442 and parameters: {'k1': 8, 'k2': 4, 'p1': 3, 'p2': 8, 'max_iters': 20, 'pool_size': 110}. Best is trial 1 with value: 0.7349580970995974.\n",
            "[I 2024-05-03 16:41:16,340] Trial 23 finished with value: 0.8249647258015838 and parameters: {'k1': 6, 'k2': 5, 'p1': 6, 'p2': 4, 'max_iters': 43, 'pool_size': 56}. Best is trial 1 with value: 0.7349580970995974.\n",
            "[I 2024-05-03 16:42:45,406] Trial 24 finished with value: 0.7744267774946733 and parameters: {'k1': 6, 'k2': 3, 'p1': 6, 'p2': 4, 'max_iters': 42, 'pool_size': 49}. Best is trial 1 with value: 0.7349580970995974.\n",
            "[I 2024-05-03 16:44:56,001] Trial 25 finished with value: 0.7896116159419995 and parameters: {'k1': 3, 'k2': 2, 'p1': 2, 'p2': 4, 'max_iters': 32, 'pool_size': 91}. Best is trial 1 with value: 0.7349580970995974.\n",
            "[I 2024-05-03 16:47:46,243] Trial 27 finished with value: 0.8071220696363034 and parameters: {'k1': 3, 'k2': 9, 'p1': 4, 'p2': 7, 'max_iters': 50, 'pool_size': 22}. Best is trial 1 with value: 0.7349580970995974.\n",
            "[I 2024-05-03 16:52:09,062] Trial 28 finished with value: 0.7740459468303758 and parameters: {'k1': 9, 'k2': 6, 'p1': 1, 'p2': 5, 'max_iters': 27, 'pool_size': 57}. Best is trial 1 with value: 0.7349580970995974.\n",
            "[I 2024-05-03 16:52:22,070] Trial 26 finished with value: 0.8900823860937286 and parameters: {'k1': 10, 'k2': 8, 'p1': 2, 'p2': 7, 'max_iters': 32, 'pool_size': 90}. Best is trial 1 with value: 0.7349580970995974.\n",
            "[I 2024-05-03 16:54:26,625] Trial 30 finished with value: 0.7767227560798063 and parameters: {'k1': 5, 'k2': 2, 'p1': 7, 'p2': 5, 'max_iters': 40, 'pool_size': 29}. Best is trial 1 with value: 0.7349580970995974.\n",
            "[I 2024-05-03 16:55:13,462] Trial 29 finished with value: 0.8127645744487457 and parameters: {'k1': 11, 'k2': 2, 'p1': 7, 'p2': 2, 'max_iters': 39, 'pool_size': 32}. Best is trial 1 with value: 0.7349580970995974.\n",
            "[I 2024-05-03 16:55:22,900] Trial 32 finished with value: 0.8314178978527925 and parameters: {'k1': 16, 'k2': 1, 'p1': 3, 'p2': 10, 'max_iters': 30, 'pool_size': 3}. Best is trial 1 with value: 0.7349580970995974.\n",
            "[I 2024-05-03 16:58:49,437] Trial 33 finished with value: 0.7628278557101137 and parameters: {'k1': 10, 'k2': 1, 'p1': 4, 'p2': 9, 'max_iters': 23, 'pool_size': 57}. Best is trial 1 with value: 0.7349580970995974.\n",
            "[I 2024-05-03 17:03:16,331] Trial 31 finished with value: 0.8764120514581436 and parameters: {'k1': 15, 'k2': 5, 'p1': 5, 'p2': 2, 'max_iters': 22, 'pool_size': 103}. Best is trial 1 with value: 0.7349580970995974.\n",
            "[I 2024-05-03 17:06:06,686] Trial 35 finished with value: 0.7093292638234591 and parameters: {'k1': 2, 'k2': 3, 'p1': 2, 'p2': 10, 'max_iters': 34, 'pool_size': 68}. Best is trial 35 with value: 0.7093292638234591.\n",
            "[I 2024-05-03 17:10:46,445] Trial 34 finished with value: 0.821762144740765 and parameters: {'k1': 2, 'k2': 13, 'p1': 2, 'p2': 10, 'max_iters': 35, 'pool_size': 106}. Best is trial 35 with value: 0.7093292638234591.\n",
            "[I 2024-05-03 17:11:24,611] Trial 36 finished with value: 0.764719991820564 and parameters: {'k1': 3, 'k2': 7, 'p1': 1, 'p2': 9, 'max_iters': 35, 'pool_size': 77}. Best is trial 35 with value: 0.7093292638234591.\n",
            "[I 2024-05-03 17:14:44,196] Trial 37 finished with value: 0.7225051740410637 and parameters: {'k1': 2, 'k2': 5, 'p1': 1, 'p2': 9, 'max_iters': 46, 'pool_size': 72}. Best is trial 35 with value: 0.7093292638234591.\n",
            "[I 2024-05-03 17:16:18,145] Trial 38 finished with value: 0.7190328795120307 and parameters: {'k1': 2, 'k2': 5, 'p1': 8, 'p2': 9, 'max_iters': 46, 'pool_size': 78}. Best is trial 35 with value: 0.7093292638234591.\n",
            "[I 2024-05-03 17:18:33,732] Trial 39 finished with value: 0.7458071623751221 and parameters: {'k1': 1, 'k2': 5, 'p1': 2, 'p2': 9, 'max_iters': 46, 'pool_size': 81}. Best is trial 35 with value: 0.7093292638234591.\n",
            "[I 2024-05-03 17:20:15,845] Trial 40 finished with value: 0.8024340075416055 and parameters: {'k1': 1, 'k2': 7, 'p1': 1, 'p2': 9, 'max_iters': 47, 'pool_size': 78}. Best is trial 35 with value: 0.7093292638234591.\n",
            "[I 2024-05-03 17:23:15,252] Trial 42 finished with value: 0.7695838888398188 and parameters: {'k1': 2, 'k2': 6, 'p1': 2, 'p2': 10, 'max_iters': 25, 'pool_size': 70}. Best is trial 35 with value: 0.7093292638234591.\n",
            "[I 2024-05-03 17:25:33,068] Trial 43 finished with value: 0.768037763996636 and parameters: {'k1': 5, 'k2': 4, 'p1': 8, 'p2': 10, 'max_iters': 16, 'pool_size': 65}. Best is trial 35 with value: 0.7093292638234591.\n",
            "[I 2024-05-03 17:29:09,025] Trial 44 finished with value: 0.7151772610065981 and parameters: {'k1': 2, 'k2': 2, 'p1': 1, 'p2': 8, 'max_iters': 39, 'pool_size': 95}. Best is trial 35 with value: 0.7093292638234591.\n",
            "[I 2024-05-03 17:30:15,278] Trial 41 finished with value: 0.7622380051510076 and parameters: {'k1': 2, 'k2': 7, 'p1': 1, 'p2': 9, 'max_iters': 47, 'pool_size': 154}. Best is trial 35 with value: 0.7093292638234591.\n",
            "[I 2024-05-03 17:34:01,835] Trial 45 finished with value: 0.7141612730469458 and parameters: {'k1': 2, 'k2': 2, 'p1': 1, 'p2': 8, 'max_iters': 46, 'pool_size': 138}. Best is trial 35 with value: 0.7093292638234591.\n",
            "[I 2024-05-03 17:37:47,703] Trial 46 finished with value: 0.7264062081301657 and parameters: {'k1': 5, 'k2': 2, 'p1': 9, 'p2': 8, 'max_iters': 41, 'pool_size': 95}. Best is trial 35 with value: 0.7093292638234591.\n",
            "[I 2024-05-03 17:39:31,438] Trial 47 finished with value: 0.7220931683666426 and parameters: {'k1': 4, 'k2': 2, 'p1': 1, 'p2': 8, 'max_iters': 45, 'pool_size': 152}. Best is trial 35 with value: 0.7093292638234591.\n",
            "[I 2024-05-03 17:48:24,865] Trial 49 finished with value: 0.6980950822131025 and parameters: {'k1': 4, 'k2': 3, 'p1': 1, 'p2': 8, 'max_iters': 44, 'pool_size': 148}. Best is trial 49 with value: 0.6980950822131025.\n",
            "[I 2024-05-03 17:57:16,446] Trial 48 finished with value: 0.8746566212015033 and parameters: {'k1': 2, 'k2': 17, 'p1': 1, 'p2': 8, 'max_iters': 45, 'pool_size': 131}. Best is trial 49 with value: 0.6980950822131025.\n"
          ]
        }
      ],
      "source": [
        "# Går igjennom andeler av markerte andeler\n",
        "for andel in andel_av_markert:\n",
        "\n",
        "  # Finner tilsvarende umarkerte andeler\n",
        "  umarkert_andel = andel_umarkert(andel, trening_markert, trening_umarkert)\n",
        "\n",
        "  # Filtrer umarkert sett\n",
        "  treningssett_umarkert, _ = umarkert_andel_dag(trening_umarkert,\n",
        "                                                umarkert_andel)\n",
        "\n",
        "  # Treningssett\n",
        "  treningssett = pd.concat([trening_markert, treningssett_umarkert],\n",
        "                          axis=0)\n",
        "  treningssett = treningssett.sort_index(ascending=True)\n",
        "\n",
        "\n",
        "  # Antall splitt etter minste enxymtype\n",
        "  n_splitt = n_splitt_enzym(rå_data, trening_markert)\n",
        "\n",
        "  #Modelloptimalisering\n",
        "  semi_modell_evaluering_2(dict_res_opt=res_semi.dict_res_2_design_opt,\n",
        "                        dict_res=res_semi.dict_res_2_design,\n",
        "                        rå_data=rå_data,\n",
        "                        treningssett_markert=trening_markert,\n",
        "                        treningssett_umarkert=treningssett_umarkert,\n",
        "                        treningssett=treningssett,\n",
        "                        testsett=testsett,\n",
        "                        n_splitt=n_splitt,\n",
        "                        n_runder=n_runder_andel,\n",
        "                        test_andel=test_andel,\n",
        "                        trenings_andel=trenings_andel,\n",
        "                        random_seed=random_seed)\n",
        "\n",
        "  # Lagring av resultater\n",
        "  res_2_design_semi = pd.DataFrame(res_semi.dict_res_2_design)\n",
        "  res_2_design_opt_semi = pd.DataFrame(res_semi.dict_res_2_design_opt)\n",
        "\n",
        "  res_2_design_semi.to_csv('/content/drive/MyDrive/MasterV24/Bioco_data/Resultater/smallmolecules/smallmolecules_res_2_design_semi.csv')\n",
        "  res_2_design_opt_semi.to_csv('/content/drive/MyDrive/MasterV24/Bioco_data/Resultater/smallmolecules/smallmolecules_res_2_design_opt_semi.csv')"
      ]
    },
    {
      "cell_type": "markdown",
      "metadata": {
        "id": "pnhtimdQn6n_"
      },
      "source": [
        "# NIR målinger ekskludert"
      ]
    },
    {
      "cell_type": "code",
      "execution_count": null,
      "metadata": {
        "id": "HVRjvKsSn6oM"
      },
      "outputs": [],
      "source": [
        "# Ekskluderer NIR målinger fra datasettene\n",
        "NIR_kolonner = ['NIRfat', 'NIRwater', 'NIRash']\n",
        "data_uten_NIR = data.drop(columns=NIR_kolonner)\n",
        "data_design_uten_NIR = data_design.drop(columns=NIR_kolonner)"
      ]
    },
    {
      "cell_type": "markdown",
      "metadata": {
        "id": "JZZGobiJQB0i"
      },
      "source": [
        "### Fast testandel"
      ]
    },
    {
      "cell_type": "code",
      "execution_count": null,
      "metadata": {
        "id": "nBnMZrAaQEr3"
      },
      "outputs": [],
      "source": [
        "#test_andel\n",
        "test_andel = 0.2"
      ]
    },
    {
      "cell_type": "markdown",
      "metadata": {
        "id": "FngOg-aynnWh"
      },
      "source": [
        "## Hele datasett"
      ]
    },
    {
      "cell_type": "markdown",
      "metadata": {
        "id": "xQN39OvtnnWi"
      },
      "source": [
        "## Alternativ 1: Et testsett. Fordelt på enzymtype (ikke tatt hensyn til kontinuitet)"
      ]
    },
    {
      "cell_type": "code",
      "execution_count": null,
      "metadata": {
        "id": "f9Hz_zKennWi"
      },
      "outputs": [],
      "source": [
        "# Deler datasettet i trening og testsett\n",
        "trening_markert, enzymtyper_markert, testsett, enzymtyper_test, trening_umarkert,\\\n",
        "enzymtyper_umarkert, trening\\\n",
        "= trening_testsett_oppdeling_enzym(rå_data,\n",
        "                                   data_uten_NIR,\n",
        "                                   test_andel=test_andel)\n",
        "\n",
        "# Antall splitt etter minste enxymtype\n",
        "n_splitt = n_splitt_enzym(rå_data, trening_markert)\n",
        "\n",
        "# Modelloptimalisering, trening og evaulering av Coreg, Selv-RFR og BHD\n",
        "semi_modell_evaluering_1(dict_res_opt=res_semi.dict_res_1_hel_opt_NIR,\n",
        "                         dict_res=res_semi.dict_res_1_hel_NIR,\n",
        "                         rå_data=rå_data,\n",
        "                         treningssett_markert=trening_markert,\n",
        "                         enzymtyper_treningssett_markert=enzymtyper_markert,\n",
        "                         treningssett_umarkert=trening_umarkert,\n",
        "                         enzymtyper_treningssett_umarkert=enzymtyper_umarkert,\n",
        "                         treningssett=trening,\n",
        "                         testsett=testsett,\n",
        "                         n_splitt=n_splitt,\n",
        "                         n_gjentagelser=n_gjentagelser,\n",
        "                         n_runder=n_runder_hel,\n",
        "                         test_andel=test_andel,\n",
        "                         trenings_andel=trenings_andel,\n",
        "                         random_seed=random_seed)\n",
        "\n",
        "# Lagring av resultater\n",
        "res_1_hel_semi_NIR = pd.DataFrame(res_semi.dict_res_1_hel_NIR)\n",
        "res_1_hel_opt_semi_NIR = pd.DataFrame(res_semi.dict_res_1_hel_opt_NIR)\n",
        "\n",
        "res_1_hel_semi_NIR.to_csv('/content/drive/MyDrive/MasterV24/Bioco_data/Resultater/smallmolecules/smallmolecules_res_1_hel_semi_NIR.csv')\n",
        "res_1_hel_opt_semi_NIR.to_csv('/content/drive/MyDrive/MasterV24/Bioco_data/Resultater/smallmolecules/smallmolecules_res_1_hel_opt_semi_NIR.csv')"
      ]
    },
    {
      "cell_type": "markdown",
      "metadata": {
        "id": "19PBB4sannWi"
      },
      "source": [
        "Beste modell"
      ]
    },
    {
      "cell_type": "code",
      "execution_count": null,
      "metadata": {
        "id": "EAhBuBY-nnWj"
      },
      "outputs": [],
      "source": []
    },
    {
      "cell_type": "markdown",
      "metadata": {
        "id": "49GQjZ88BoDa"
      },
      "source": [
        "## Alternativ 2: Manuell fordeling"
      ]
    },
    {
      "cell_type": "code",
      "execution_count": null,
      "metadata": {
        "id": "G5kb5K2Mq41R"
      },
      "outputs": [],
      "source": [
        "# Deler datasettet i trening og testsett\n",
        "trening_markert, testsett, trening_umarkert, trening\\\n",
        "= trening_testsett_oppdeling_dag(rå_data,\n",
        "                                 data_uten_NIR,\n",
        "                                 test_andel=test_andel,\n",
        "                                 test_ekskluder_kalkun_kylling=True)\n",
        "\n",
        "# Antall splitt etter minste enxymtype\n",
        "n_splitt = n_splitt_enzym(rå_data, trening_markert)\n",
        "\n",
        "# Modelloptimalisering, trening og evaulering av Coreg, Selv-RFR og BHD\n",
        "semi_modell_evaluering_2(dict_res_opt=res_semi.dict_res_2_hel_opt_NIR,\n",
        "                         dict_res=res_semi.dict_res_2_hel_NIR,\n",
        "                         rå_data=rå_data,\n",
        "                         treningssett_markert=trening_markert,\n",
        "                         treningssett_umarkert=trening_umarkert,\n",
        "                         treningssett=trening,\n",
        "                         testsett=testsett,\n",
        "                         n_splitt=n_splitt,\n",
        "                         n_runder=n_runder_hel,\n",
        "                         test_andel=test_andel,\n",
        "                         trenings_andel=trenings_andel,\n",
        "                         random_seed=random_seed)\n",
        "\n",
        "res_2_hel_semi_NIR = pd.DataFrame(res_semi.dict_res_2_hel_NIR)\n",
        "res_2_hel_opt_semi_NIR = pd.DataFrame(res_semi.dict_res_2_hel_opt_NIR)\n",
        "\n",
        "res_2_hel_semi_NIR.to_csv('/content/drive/MyDrive/MasterV24/Bioco_data/Resultater/smallmolecules/smallmolecules_res_2_hel_semi_NIR.csv')\n",
        "res_2_hel_opt_semi_NIR.to_csv('/content/drive/MyDrive/MasterV24/Bioco_data/Resultater/smallmolecules/smallmolecules_res_2_hel_opt_semi_NIR.csv')"
      ]
    },
    {
      "cell_type": "markdown",
      "metadata": {
        "id": "peq30NIare5I"
      },
      "source": [
        "Beste modell"
      ]
    },
    {
      "cell_type": "code",
      "execution_count": null,
      "metadata": {
        "id": "40FqPMn9re5Q"
      },
      "outputs": [],
      "source": []
    },
    {
      "cell_type": "markdown",
      "metadata": {
        "id": "wASf8kP1rpkq"
      },
      "source": [
        "## Designproduksjon"
      ]
    },
    {
      "cell_type": "markdown",
      "metadata": {
        "id": "pzkziEds6GK8"
      },
      "source": [
        "## Alternativ 1: Et testsett. Fordelt på enzymtype (ikke tatt hensyn til kontinuitet)"
      ]
    },
    {
      "cell_type": "code",
      "execution_count": null,
      "metadata": {
        "id": "5slwInDw6GK8"
      },
      "outputs": [],
      "source": [
        "# Deler datasettet i trening og testsett\n",
        "trening_markert, enzymtyper_markert, testsett, enzymtyper_test, trening_umarkert,\\\n",
        "enzymtyper_umarkert, trening\\\n",
        "= trening_testsett_oppdeling_enzym(rå_data,\n",
        "                                   data_design_uten_NIR,\n",
        "                                   test_andel=test_andel)\n",
        "\n",
        "# Antall splitt etter minste enxymtype\n",
        "n_splitt = n_splitt_enzym(rå_data, trening_markert)\n",
        "\n",
        "# Modelloptimalisering, trening og evaulering av Coreg, Selv-RFR og BHD\n",
        "semi_modell_evaluering_1(dict_res_opt=res_semi.dict_res_1_design_opt_NIR,\n",
        "                         dict_res=res_semi.dict_res_1_design_NIR,\n",
        "                         rå_data=rå_data,\n",
        "                         treningssett_markert=trening_markert,\n",
        "                         enzymtyper_treningssett_markert=enzymtyper_markert,\n",
        "                         treningssett_umarkert=trening_umarkert,\n",
        "                         enzymtyper_treningssett_umarkert=enzymtyper_umarkert,\n",
        "                         treningssett=trening,\n",
        "                         testsett=testsett,\n",
        "                         n_splitt=n_splitt,\n",
        "                         n_gjentagelser=n_gjentagelser,\n",
        "                         n_runder=n_runder_hel,\n",
        "                         test_andel=test_andel,\n",
        "                         trenings_andel=trenings_andel,\n",
        "                         random_seed=random_seed)\n",
        "\n",
        "# Lagring av resultater\n",
        "res_1_design_semi_NIR = pd.DataFrame(res_semi.dict_res_1_design_NIR)\n",
        "res_1_design_opt_semi_NIR = pd.DataFrame(res_semi.dict_res_1_design_opt_NIR)\n",
        "\n",
        "res_1_design_semi_NIR.to_csv('/content/drive/MyDrive/MasterV24/Bioco_data/Resultater/smallmolecules/smallmolecules_res_1_design_semi_NIR.csv')\n",
        "res_1_design_opt_semi_NIR.to_csv('/content/drive/MyDrive/MasterV24/Bioco_data/Resultater/smallmolecules/smallmolecules_res_1_design_opt_semi_NIR.csv')"
      ]
    },
    {
      "cell_type": "markdown",
      "metadata": {
        "id": "P9fQSICyr1G2"
      },
      "source": [
        "Beste modell"
      ]
    },
    {
      "cell_type": "code",
      "execution_count": null,
      "metadata": {
        "id": "mKwGbEdYr1G2"
      },
      "outputs": [],
      "source": []
    },
    {
      "cell_type": "markdown",
      "metadata": {
        "id": "9EuYJpT16GK9"
      },
      "source": [
        "## Alternativ 2: Et testsett fordelt på dag og kontinuitet"
      ]
    },
    {
      "cell_type": "code",
      "execution_count": null,
      "metadata": {
        "id": "UxOKnfcm6GK9"
      },
      "outputs": [],
      "source": [
        "# Deler datasettet i trening og testsett\n",
        "trening_markert, testsett, trening_umarkert, trening\\\n",
        "= trening_testsett_oppdeling_dag(rå_data,\n",
        "                                 data_design_uten_NIR,\n",
        "                                 test_andel=test_andel,\n",
        "                                 ekskluder_kalkun_kylling=True)\n",
        "\n",
        "# Antall splitt etter minste enxymtype\n",
        "n_splitt = n_splitt_enzym(rå_data, trening_markert)\n",
        "\n",
        "# Modelloptimalisering, trening og evaulering av Coreg, Selv-RFR og BHD\n",
        "semi_modell_evaluering_2(dict_res_opt=res_semi.dict_res_2_design_opt_NIR,\n",
        "                         dict_res=res_semi.dict_res_2_design_NIR,\n",
        "                         rå_data=rå_data,\n",
        "                         treningssett_markert=trening_markert,\n",
        "                         treningssett_umarkert=trening_umarkert,\n",
        "                         treningssett=trening,\n",
        "                         testsett=testsett,\n",
        "                         n_splitt=n_splitt,\n",
        "                         n_runder=n_runder_hel,\n",
        "                         test_andel=test_andel,\n",
        "                         trenings_andel=trenings_andel,\n",
        "                         random_seed=random_seed)\n",
        "\n",
        "# Lagring av resultater\n",
        "res_2_design_semi_NIR = pd.DataFrame(res_semi.dict_res_2_design_NIR)\n",
        "res_2_design_opt_semi_NIR = pd.DataFrame(res_semi.dict_res_2_design_opt_NIR)\n",
        "\n",
        "res_2_design_semi_NIR.to_csv('/content/drive/MyDrive/MasterV24/Bioco_data/Resultater/smallmolecules/smallmolecules_res_2_design_semi_NIR.csv')\n",
        "res_2_design_opt_semi_NIR.to_csv('/content/drive/MyDrive/MasterV24/Bioco_data/Resultater/smallmolecules/smallmolecules_res_2_design_opt_semi_NIR.csv')"
      ]
    },
    {
      "cell_type": "markdown",
      "metadata": {
        "id": "PCqCJyk0s4Zg"
      },
      "source": [
        "Beste modell"
      ]
    },
    {
      "cell_type": "code",
      "execution_count": null,
      "metadata": {
        "id": "Y2SaMdc9s4Zg"
      },
      "outputs": [],
      "source": []
    }
  ],
  "metadata": {
    "colab": {
      "collapsed_sections": [
        "qhRMrFFHlZuX",
        "21cdLIoaSTR6",
        "i_1rn21ITRJ4"
      ],
      "provenance": [],
      "include_colab_link": true
    },
    "kernelspec": {
      "display_name": "Python 3",
      "name": "python3"
    },
    "language_info": {
      "name": "python"
    }
  },
  "nbformat": 4,
  "nbformat_minor": 0
}