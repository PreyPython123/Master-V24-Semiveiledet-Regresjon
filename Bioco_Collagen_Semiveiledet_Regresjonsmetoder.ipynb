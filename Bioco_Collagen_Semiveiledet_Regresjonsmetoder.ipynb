{
  "nbformat": 4,
  "nbformat_minor": 0,
  "metadata": {
    "colab": {
      "provenance": [],
      "authorship_tag": "ABX9TyPQdokgXyOEHdh3ApDWcjqf",
      "include_colab_link": true
    },
    "kernelspec": {
      "name": "python3",
      "display_name": "Python 3"
    },
    "language_info": {
      "name": "python"
    },
    "accelerator": "TPU"
  },
  "cells": [
    {
      "cell_type": "markdown",
      "metadata": {
        "id": "view-in-github",
        "colab_type": "text"
      },
      "source": [
        "<a href=\"https://colab.research.google.com/github/PreyPython123/Master-V24-Semiveiledet-Regresjon/blob/Collagen-Pradeep/Bioco_Collagen_Semiveiledet_Regresjonsmetoder.ipynb\" target=\"_parent\"><img src=\"https://colab.research.google.com/assets/colab-badge.svg\" alt=\"Open In Colab\"/></a>"
      ]
    },
    {
      "cell_type": "markdown",
      "source": [
        "Lasting av nødvendige bibliotek og pakker"
      ],
      "metadata": {
        "id": "UHH_8xCUDrUM"
      }
    },
    {
      "cell_type": "code",
      "execution_count": null,
      "metadata": {
        "id": "5tLKkZ946uMg",
        "colab": {
          "base_uri": "https://localhost:8080/"
        },
        "outputId": "6fe20b4e-bd83-484f-c129-4975312f87be"
      },
      "outputs": [
        {
          "output_type": "stream",
          "name": "stdout",
          "text": [
            "Collecting LAMDA-SSL\n",
            "  Downloading LAMDA_SSL-1.0.2-py3-none-any.whl (240 kB)\n",
            "\u001b[2K     \u001b[90m━━━━━━━━━━━━━━━━━━━━━━━━━━━━━━━━━━━━━━━━\u001b[0m \u001b[32m240.8/240.8 kB\u001b[0m \u001b[31m4.5 MB/s\u001b[0m eta \u001b[36m0:00:00\u001b[0m\n",
            "\u001b[?25hRequirement already satisfied: scikit-learn in /usr/local/lib/python3.10/dist-packages (from LAMDA-SSL) (1.2.2)\n",
            "Requirement already satisfied: torchtext in /usr/local/lib/python3.10/dist-packages (from LAMDA-SSL) (0.16.0)\n",
            "Requirement already satisfied: torchvision in /usr/local/lib/python3.10/dist-packages (from LAMDA-SSL) (0.16.0+cu121)\n",
            "Collecting torch-geometric (from LAMDA-SSL)\n",
            "  Downloading torch_geometric-2.4.0-py3-none-any.whl (1.0 MB)\n",
            "\u001b[2K     \u001b[90m━━━━━━━━━━━━━━━━━━━━━━━━━━━━━━━━━━━━━━━━\u001b[0m \u001b[32m1.0/1.0 MB\u001b[0m \u001b[31m13.8 MB/s\u001b[0m eta \u001b[36m0:00:00\u001b[0m\n",
            "\u001b[?25hRequirement already satisfied: Pillow in /usr/local/lib/python3.10/dist-packages (from LAMDA-SSL) (9.4.0)\n",
            "Requirement already satisfied: numpy in /usr/local/lib/python3.10/dist-packages (from LAMDA-SSL) (1.23.5)\n",
            "Requirement already satisfied: scipy in /usr/local/lib/python3.10/dist-packages (from LAMDA-SSL) (1.11.4)\n",
            "Requirement already satisfied: pandas in /usr/local/lib/python3.10/dist-packages (from LAMDA-SSL) (1.5.3)\n",
            "Requirement already satisfied: matplotlib in /usr/local/lib/python3.10/dist-packages (from LAMDA-SSL) (3.7.1)\n",
            "Requirement already satisfied: contourpy>=1.0.1 in /usr/local/lib/python3.10/dist-packages (from matplotlib->LAMDA-SSL) (1.2.0)\n",
            "Requirement already satisfied: cycler>=0.10 in /usr/local/lib/python3.10/dist-packages (from matplotlib->LAMDA-SSL) (0.12.1)\n",
            "Requirement already satisfied: fonttools>=4.22.0 in /usr/local/lib/python3.10/dist-packages (from matplotlib->LAMDA-SSL) (4.48.1)\n",
            "Requirement already satisfied: kiwisolver>=1.0.1 in /usr/local/lib/python3.10/dist-packages (from matplotlib->LAMDA-SSL) (1.4.5)\n",
            "Requirement already satisfied: packaging>=20.0 in /usr/local/lib/python3.10/dist-packages (from matplotlib->LAMDA-SSL) (23.2)\n",
            "Requirement already satisfied: pyparsing>=2.3.1 in /usr/local/lib/python3.10/dist-packages (from matplotlib->LAMDA-SSL) (3.1.1)\n",
            "Requirement already satisfied: python-dateutil>=2.7 in /usr/local/lib/python3.10/dist-packages (from matplotlib->LAMDA-SSL) (2.8.2)\n",
            "Requirement already satisfied: pytz>=2020.1 in /usr/local/lib/python3.10/dist-packages (from pandas->LAMDA-SSL) (2023.4)\n",
            "Requirement already satisfied: joblib>=1.1.1 in /usr/local/lib/python3.10/dist-packages (from scikit-learn->LAMDA-SSL) (1.3.2)\n",
            "Requirement already satisfied: threadpoolctl>=2.0.0 in /usr/local/lib/python3.10/dist-packages (from scikit-learn->LAMDA-SSL) (3.2.0)\n",
            "Requirement already satisfied: tqdm in /usr/local/lib/python3.10/dist-packages (from torch-geometric->LAMDA-SSL) (4.66.1)\n",
            "Requirement already satisfied: jinja2 in /usr/local/lib/python3.10/dist-packages (from torch-geometric->LAMDA-SSL) (3.1.3)\n",
            "Requirement already satisfied: requests in /usr/local/lib/python3.10/dist-packages (from torch-geometric->LAMDA-SSL) (2.31.0)\n",
            "Requirement already satisfied: psutil>=5.8.0 in /usr/local/lib/python3.10/dist-packages (from torch-geometric->LAMDA-SSL) (5.9.5)\n",
            "Requirement already satisfied: torch==2.1.0 in /usr/local/lib/python3.10/dist-packages (from torchtext->LAMDA-SSL) (2.1.0+cu121)\n",
            "Requirement already satisfied: torchdata==0.7.0 in /usr/local/lib/python3.10/dist-packages (from torchtext->LAMDA-SSL) (0.7.0)\n",
            "Requirement already satisfied: filelock in /usr/local/lib/python3.10/dist-packages (from torch==2.1.0->torchtext->LAMDA-SSL) (3.13.1)\n",
            "Requirement already satisfied: typing-extensions in /usr/local/lib/python3.10/dist-packages (from torch==2.1.0->torchtext->LAMDA-SSL) (4.9.0)\n",
            "Requirement already satisfied: sympy in /usr/local/lib/python3.10/dist-packages (from torch==2.1.0->torchtext->LAMDA-SSL) (1.12)\n",
            "Requirement already satisfied: networkx in /usr/local/lib/python3.10/dist-packages (from torch==2.1.0->torchtext->LAMDA-SSL) (3.2.1)\n",
            "Requirement already satisfied: fsspec in /usr/local/lib/python3.10/dist-packages (from torch==2.1.0->torchtext->LAMDA-SSL) (2023.6.0)\n",
            "Requirement already satisfied: triton==2.1.0 in /usr/local/lib/python3.10/dist-packages (from torch==2.1.0->torchtext->LAMDA-SSL) (2.1.0)\n",
            "Requirement already satisfied: urllib3>=1.25 in /usr/local/lib/python3.10/dist-packages (from torchdata==0.7.0->torchtext->LAMDA-SSL) (2.0.7)\n",
            "Requirement already satisfied: six>=1.5 in /usr/local/lib/python3.10/dist-packages (from python-dateutil>=2.7->matplotlib->LAMDA-SSL) (1.16.0)\n",
            "Requirement already satisfied: MarkupSafe>=2.0 in /usr/local/lib/python3.10/dist-packages (from jinja2->torch-geometric->LAMDA-SSL) (2.1.5)\n",
            "Requirement already satisfied: charset-normalizer<4,>=2 in /usr/local/lib/python3.10/dist-packages (from requests->torch-geometric->LAMDA-SSL) (3.3.2)\n",
            "Requirement already satisfied: idna<4,>=2.5 in /usr/local/lib/python3.10/dist-packages (from requests->torch-geometric->LAMDA-SSL) (3.6)\n",
            "Requirement already satisfied: certifi>=2017.4.17 in /usr/local/lib/python3.10/dist-packages (from requests->torch-geometric->LAMDA-SSL) (2024.2.2)\n",
            "Requirement already satisfied: mpmath>=0.19 in /usr/local/lib/python3.10/dist-packages (from sympy->torch==2.1.0->torchtext->LAMDA-SSL) (1.3.0)\n",
            "Installing collected packages: torch-geometric, LAMDA-SSL\n",
            "Successfully installed LAMDA-SSL-1.0.2 torch-geometric-2.4.0\n",
            "Collecting optuna\n",
            "  Downloading optuna-3.5.0-py3-none-any.whl (413 kB)\n",
            "\u001b[2K     \u001b[90m━━━━━━━━━━━━━━━━━━━━━━━━━━━━━━━━━━━━━━━━\u001b[0m \u001b[32m413.4/413.4 kB\u001b[0m \u001b[31m5.7 MB/s\u001b[0m eta \u001b[36m0:00:00\u001b[0m\n",
            "\u001b[?25hCollecting alembic>=1.5.0 (from optuna)\n",
            "  Downloading alembic-1.13.1-py3-none-any.whl (233 kB)\n",
            "\u001b[2K     \u001b[90m━━━━━━━━━━━━━━━━━━━━━━━━━━━━━━━━━━━━━━━━\u001b[0m \u001b[32m233.4/233.4 kB\u001b[0m \u001b[31m10.9 MB/s\u001b[0m eta \u001b[36m0:00:00\u001b[0m\n",
            "\u001b[?25hCollecting colorlog (from optuna)\n",
            "  Downloading colorlog-6.8.2-py3-none-any.whl (11 kB)\n",
            "Requirement already satisfied: numpy in /usr/local/lib/python3.10/dist-packages (from optuna) (1.23.5)\n",
            "Requirement already satisfied: packaging>=20.0 in /usr/local/lib/python3.10/dist-packages (from optuna) (23.2)\n",
            "Requirement already satisfied: sqlalchemy>=1.3.0 in /usr/local/lib/python3.10/dist-packages (from optuna) (2.0.25)\n",
            "Requirement already satisfied: tqdm in /usr/local/lib/python3.10/dist-packages (from optuna) (4.66.1)\n",
            "Requirement already satisfied: PyYAML in /usr/local/lib/python3.10/dist-packages (from optuna) (6.0.1)\n",
            "Collecting Mako (from alembic>=1.5.0->optuna)\n",
            "  Downloading Mako-1.3.2-py3-none-any.whl (78 kB)\n",
            "\u001b[2K     \u001b[90m━━━━━━━━━━━━━━━━━━━━━━━━━━━━━━━━━━━━━━━━\u001b[0m \u001b[32m78.7/78.7 kB\u001b[0m \u001b[31m8.0 MB/s\u001b[0m eta \u001b[36m0:00:00\u001b[0m\n",
            "\u001b[?25hRequirement already satisfied: typing-extensions>=4 in /usr/local/lib/python3.10/dist-packages (from alembic>=1.5.0->optuna) (4.9.0)\n",
            "Requirement already satisfied: greenlet!=0.4.17 in /usr/local/lib/python3.10/dist-packages (from sqlalchemy>=1.3.0->optuna) (3.0.3)\n",
            "Requirement already satisfied: MarkupSafe>=0.9.2 in /usr/local/lib/python3.10/dist-packages (from Mako->alembic>=1.5.0->optuna) (2.1.5)\n",
            "Installing collected packages: Mako, colorlog, alembic, optuna\n",
            "Successfully installed Mako-1.3.2 alembic-1.13.1 colorlog-6.8.2 optuna-3.5.0\n"
          ]
        }
      ],
      "source": [
        "!pip install LAMDA-SSL\n",
        "!pip install optuna"
      ]
    },
    {
      "cell_type": "markdown",
      "source": [
        "Importering av nødvendige bibliotek og pakker"
      ],
      "metadata": {
        "id": "923VSc_0EEtW"
      }
    },
    {
      "cell_type": "code",
      "source": [
        "import pandas as pd\n",
        "import numpy as np\n",
        "import copy\n",
        "\n",
        "from sklearn.model_selection import train_test_split\n",
        "from sklearn.pipeline import Pipeline\n",
        "from sklearn.preprocessing import StandardScaler\n",
        "\n",
        "from LAMDA_SSL.Algorithm.Regression.CoReg import CoReg\n",
        "\n",
        "from sklearn.metrics import mean_squared_error, r2_score\n",
        "\n",
        "import optuna\n",
        "from optuna.visualization import plot_optimization_history"
      ],
      "metadata": {
        "id": "2gdgQQYQE8kC"
      },
      "execution_count": null,
      "outputs": []
    },
    {
      "cell_type": "markdown",
      "source": [
        "Importering av relevant data"
      ],
      "metadata": {
        "id": "u20L2D2SGGiY"
      }
    },
    {
      "cell_type": "code",
      "source": [
        "from google.colab import drive\n",
        "drive.mount('/content/drive')\n",
        "\n",
        "# Velger første kolonne med dato og tid som index\n",
        "collagen_data = pd.read_csv('/content/drive/MyDrive/MasterV24/Bioco_data/collagen_data.csv',\n",
        "                            header=0,\n",
        "                            sep=',',\n",
        "                            index_col=0)\n",
        "\n",
        "# Formatterer index til riktig format og datatype\n",
        "collagen_data.index = pd.to_datetime(collagen_data.index,\n",
        "                                     format='%Y-%m-%d %H:%M:%S')"
      ],
      "metadata": {
        "colab": {
          "base_uri": "https://localhost:8080/"
        },
        "id": "oP_KO9wVGLQN",
        "outputId": "ac52d174-31e6-4b7d-c2c2-ecfa788f881e"
      },
      "execution_count": null,
      "outputs": [
        {
          "output_type": "stream",
          "name": "stdout",
          "text": [
            "Mounted at /content/drive\n"
          ]
        }
      ]
    },
    {
      "cell_type": "markdown",
      "source": [
        "Tilfeldighetsfrø"
      ],
      "metadata": {
        "id": "D0_0NpYTkg1j"
      }
    },
    {
      "cell_type": "code",
      "source": [
        "#Tilfeldighetsfrø\n",
        "random_seed = 123"
      ],
      "metadata": {
        "id": "bddk677ckjLT"
      },
      "execution_count": null,
      "outputs": []
    },
    {
      "cell_type": "markdown",
      "source": [
        "# NIR målinger inkludert"
      ],
      "metadata": {
        "id": "o06hbA1dkl3W"
      }
    },
    {
      "cell_type": "markdown",
      "source": [
        "Markert og umarkert del av datasettet"
      ],
      "metadata": {
        "id": "i37IqsNsTjEl"
      }
    },
    {
      "cell_type": "code",
      "source": [
        "# Deler opp markert del av datasettet\n",
        "collagen_markert = collagen_data.dropna(subset='Collagen')\n",
        "collagen_umarkert = collagen_data[collagen_data['Collagen'].isna()]"
      ],
      "metadata": {
        "id": "QLrK1f2PTiu1"
      },
      "execution_count": null,
      "outputs": []
    },
    {
      "cell_type": "markdown",
      "source": [
        "## Oppdeling av datasett til trening og testsett"
      ],
      "metadata": {
        "id": "9SFWf2xhI1oo"
      }
    },
    {
      "cell_type": "markdown",
      "source": [
        "### Alternativ 1: Fordelt etter Enzymtype"
      ],
      "metadata": {
        "id": "_X--jxi1kyig"
      }
    },
    {
      "cell_type": "code",
      "source": [
        "# Legger til kategorisk variabel for enzymtype til fordeling av datsettet\n",
        "collagen_markert['EnzymType'] = collagen_markert.filter(like='EnzymeType_').idxmax(axis=1).str.split('_').str[1].astype('category')\n",
        "\n",
        "# Splitter datasett i collagendataasett og kategorisk enzymtype\n",
        "collagen_enzymetypes = collagen_markert['EnzymType']\n",
        "collagen_markert.drop(columns=['EnzymType'], inplace=True)\n",
        "\n",
        "# Splitter trening og testdata etter enzymtype\n",
        "collagen_trening_markert, collagen_test_markert, _, _ = train_test_split(collagen_markert,\n",
        "                                                                         collagen_enzymetypes,\n",
        "                                                                         test_size = 0.20,\n",
        "                                                                         stratify = collagen_enzymetypes,\n",
        "                                                                         random_state = random_seed)\n",
        "\n",
        "# Deler opp datasettene til prediktorer og respons, for trening og testsett\n",
        "X_trening_markert = collagen_trening_markert.iloc[:, :-1]\n",
        "X_trening_umarkert = collagen_umarkert.iloc[:, :-1]\n",
        "X_test = collagen_test_markert.iloc[:, :-1]\n",
        "y_trening_markert = collagen_trening_markert.iloc[:, -1]\n",
        "y_test = collagen_test_markert.iloc[:, -1]\n",
        "\n",
        "# Lager et fullstendig treningssett, både markert og umarkert del av datasettet\n",
        "collagen_prediktor_data = collagen_data.iloc[:, :-1]\n",
        "felles_indeks = collagen_prediktor_data.index.intersection(X_test.index)\n",
        "X_trening = collagen_prediktor_data.drop(felles_indeks)"
      ],
      "metadata": {
        "colab": {
          "base_uri": "https://localhost:8080/"
        },
        "id": "L9mDBrjtI2Hs",
        "outputId": "eac502d6-14ad-46ac-e88c-d49994480110"
      },
      "execution_count": null,
      "outputs": [
        {
          "output_type": "stream",
          "name": "stderr",
          "text": [
            "<ipython-input-5-b7e95a4236ad>:6: SettingWithCopyWarning: \n",
            "A value is trying to be set on a copy of a slice from a DataFrame.\n",
            "Try using .loc[row_indexer,col_indexer] = value instead\n",
            "\n",
            "See the caveats in the documentation: https://pandas.pydata.org/pandas-docs/stable/user_guide/indexing.html#returning-a-view-versus-a-copy\n",
            "  collagen_markert['EnzymType'] = collagen_markert.filter(like='EnzymeType_').idxmax(axis=1).str.split('_').str[1].astype('category')\n",
            "<ipython-input-5-b7e95a4236ad>:10: SettingWithCopyWarning: \n",
            "A value is trying to be set on a copy of a slice from a DataFrame\n",
            "\n",
            "See the caveats in the documentation: https://pandas.pydata.org/pandas-docs/stable/user_guide/indexing.html#returning-a-view-versus-a-copy\n",
            "  collagen_markert.drop(columns=['EnzymType'], inplace=True)\n"
          ]
        }
      ]
    },
    {
      "cell_type": "markdown",
      "source": [
        "Skalerer data etter fullstendig treningsdata"
      ],
      "metadata": {
        "id": "kLIWgikHBzd8"
      }
    },
    {
      "cell_type": "code",
      "source": [
        "skalerer = StandardScaler()\n",
        "skalerer.fit(X_trening)\n",
        "X_trening_markert_transformert = skalerer.transform(X_trening_markert)\n",
        "X_trening_umarkert_transformert = skalerer.transform(X_trening_umarkert)\n",
        "X_test_transformert = skalerer.transform(X_test)"
      ],
      "metadata": {
        "id": "NYL8Grj-7cRb"
      },
      "execution_count": null,
      "outputs": []
    },
    {
      "cell_type": "markdown",
      "source": [
        "**CoReg**"
      ],
      "metadata": {
        "id": "hbNcKzQkK-7f"
      }
    },
    {
      "cell_type": "markdown",
      "source": [
        "Hyperparamter optimalisering med Optuna"
      ],
      "metadata": {
        "id": "Ypo6bR3GDqe4"
      }
    },
    {
      "cell_type": "code",
      "source": [
        "def objective(trial):\n",
        "  parametere = {\n",
        "      'k1': trial.suggest_int('k1', 1, 10),\n",
        "      'k2': trial.suggest_int('k2', 1, 10),\n",
        "      'p1': trial.suggest_int('p1', 1, 10),\n",
        "      'p2': trial.suggest_int('p2', 1, 10)\n",
        "  }\n",
        "\n",
        "  coreg = CoReg()\n",
        "\n",
        "  coreg.fit(X_trening_markert_transformert, y_trening_markert.values, X_trening_umarkert_transformert)\n",
        "  y_test_prediksjon = coreg.predict(X_test_transformert)\n",
        "  mse_test = mean_squared_error(y_test, y_test_prediksjon)\n",
        "  return mse_test\n",
        "\n",
        "if __name__ == \"__main__\":\n",
        "  study = optuna.create_study(direction='minimize')\n",
        "  study.optimize(objective, n_trials=10)\n",
        "\n",
        "plot_optimization_history(study)"
      ],
      "metadata": {
        "colab": {
          "base_uri": "https://localhost:8080/",
          "height": 758
        },
        "id": "ElXWcSbVLBBz",
        "outputId": "e39a9c79-06a7-46d1-e764-4a2caac0cdc4"
      },
      "execution_count": null,
      "outputs": [
        {
          "output_type": "stream",
          "name": "stderr",
          "text": [
            "[I 2024-02-09 10:29:21,189] A new study created in memory with name: no-name-0e6e59c1-9202-4135-8ac4-cfef5b9dfc85\n",
            "[I 2024-02-09 10:31:33,774] Trial 0 finished with value: 13.787147646037315 and parameters: {'k1': 6, 'k2': 10, 'p1': 1, 'p2': 8}. Best is trial 0 with value: 13.787147646037315.\n",
            "[I 2024-02-09 10:33:41,377] Trial 1 finished with value: 14.067948943850967 and parameters: {'k1': 6, 'k2': 2, 'p1': 5, 'p2': 6}. Best is trial 0 with value: 13.787147646037315.\n",
            "[I 2024-02-09 10:36:03,144] Trial 2 finished with value: 15.294312736548319 and parameters: {'k1': 4, 'k2': 2, 'p1': 6, 'p2': 4}. Best is trial 0 with value: 13.787147646037315.\n",
            "[I 2024-02-09 10:38:11,195] Trial 3 finished with value: 15.543994497955705 and parameters: {'k1': 10, 'k2': 3, 'p1': 3, 'p2': 7}. Best is trial 0 with value: 13.787147646037315.\n",
            "[I 2024-02-09 10:40:25,258] Trial 4 finished with value: 14.655544421682329 and parameters: {'k1': 3, 'k2': 2, 'p1': 5, 'p2': 6}. Best is trial 0 with value: 13.787147646037315.\n",
            "[I 2024-02-09 10:42:50,877] Trial 5 finished with value: 13.895292156109118 and parameters: {'k1': 7, 'k2': 6, 'p1': 2, 'p2': 2}. Best is trial 0 with value: 13.787147646037315.\n",
            "[I 2024-02-09 10:45:01,606] Trial 6 finished with value: 13.90573879089788 and parameters: {'k1': 8, 'k2': 9, 'p1': 8, 'p2': 2}. Best is trial 0 with value: 13.787147646037315.\n",
            "[I 2024-02-09 10:47:14,084] Trial 7 finished with value: 14.281582533683576 and parameters: {'k1': 10, 'k2': 3, 'p1': 3, 'p2': 9}. Best is trial 0 with value: 13.787147646037315.\n",
            "[I 2024-02-09 10:49:21,774] Trial 8 finished with value: 16.348885836892993 and parameters: {'k1': 8, 'k2': 2, 'p1': 5, 'p2': 4}. Best is trial 0 with value: 13.787147646037315.\n",
            "[I 2024-02-09 10:51:31,453] Trial 9 finished with value: 13.47663060677055 and parameters: {'k1': 9, 'k2': 2, 'p1': 9, 'p2': 10}. Best is trial 9 with value: 13.47663060677055.\n"
          ]
        },
        {
          "output_type": "display_data",
          "data": {
            "text/html": [
              "<html>\n",
              "<head><meta charset=\"utf-8\" /></head>\n",
              "<body>\n",
              "    <div>            <script src=\"https://cdnjs.cloudflare.com/ajax/libs/mathjax/2.7.5/MathJax.js?config=TeX-AMS-MML_SVG\"></script><script type=\"text/javascript\">if (window.MathJax && window.MathJax.Hub && window.MathJax.Hub.Config) {window.MathJax.Hub.Config({SVG: {font: \"STIX-Web\"}});}</script>                <script type=\"text/javascript\">window.PlotlyConfig = {MathJaxConfig: 'local'};</script>\n",
              "        <script charset=\"utf-8\" src=\"https://cdn.plot.ly/plotly-2.24.1.min.js\"></script>                <div id=\"04eb49ba-0af4-48ac-9d36-4cae10b7f293\" class=\"plotly-graph-div\" style=\"height:525px; width:100%;\"></div>            <script type=\"text/javascript\">                                    window.PLOTLYENV=window.PLOTLYENV || {};                                    if (document.getElementById(\"04eb49ba-0af4-48ac-9d36-4cae10b7f293\")) {                    Plotly.newPlot(                        \"04eb49ba-0af4-48ac-9d36-4cae10b7f293\",                        [{\"mode\":\"markers\",\"name\":\"Objective Value\",\"x\":[0,1,2,3,4,5,6,7,8,9],\"y\":[13.787147646037315,14.067948943850967,15.294312736548319,15.543994497955705,14.655544421682329,13.895292156109118,13.90573879089788,14.281582533683576,16.348885836892993,13.47663060677055],\"type\":\"scatter\"},{\"mode\":\"lines\",\"name\":\"Best Value\",\"x\":[0,1,2,3,4,5,6,7,8,9],\"y\":[13.787147646037315,13.787147646037315,13.787147646037315,13.787147646037315,13.787147646037315,13.787147646037315,13.787147646037315,13.787147646037315,13.787147646037315,13.47663060677055],\"type\":\"scatter\"},{\"marker\":{\"color\":\"#cccccc\"},\"mode\":\"markers\",\"name\":\"Infeasible Trial\",\"showlegend\":false,\"x\":[],\"y\":[],\"type\":\"scatter\"}],                        {\"title\":{\"text\":\"Optimization History Plot\"},\"xaxis\":{\"title\":{\"text\":\"Trial\"}},\"yaxis\":{\"title\":{\"text\":\"Objective Value\"}},\"template\":{\"data\":{\"histogram2dcontour\":[{\"type\":\"histogram2dcontour\",\"colorbar\":{\"outlinewidth\":0,\"ticks\":\"\"},\"colorscale\":[[0.0,\"#0d0887\"],[0.1111111111111111,\"#46039f\"],[0.2222222222222222,\"#7201a8\"],[0.3333333333333333,\"#9c179e\"],[0.4444444444444444,\"#bd3786\"],[0.5555555555555556,\"#d8576b\"],[0.6666666666666666,\"#ed7953\"],[0.7777777777777778,\"#fb9f3a\"],[0.8888888888888888,\"#fdca26\"],[1.0,\"#f0f921\"]]}],\"choropleth\":[{\"type\":\"choropleth\",\"colorbar\":{\"outlinewidth\":0,\"ticks\":\"\"}}],\"histogram2d\":[{\"type\":\"histogram2d\",\"colorbar\":{\"outlinewidth\":0,\"ticks\":\"\"},\"colorscale\":[[0.0,\"#0d0887\"],[0.1111111111111111,\"#46039f\"],[0.2222222222222222,\"#7201a8\"],[0.3333333333333333,\"#9c179e\"],[0.4444444444444444,\"#bd3786\"],[0.5555555555555556,\"#d8576b\"],[0.6666666666666666,\"#ed7953\"],[0.7777777777777778,\"#fb9f3a\"],[0.8888888888888888,\"#fdca26\"],[1.0,\"#f0f921\"]]}],\"heatmap\":[{\"type\":\"heatmap\",\"colorbar\":{\"outlinewidth\":0,\"ticks\":\"\"},\"colorscale\":[[0.0,\"#0d0887\"],[0.1111111111111111,\"#46039f\"],[0.2222222222222222,\"#7201a8\"],[0.3333333333333333,\"#9c179e\"],[0.4444444444444444,\"#bd3786\"],[0.5555555555555556,\"#d8576b\"],[0.6666666666666666,\"#ed7953\"],[0.7777777777777778,\"#fb9f3a\"],[0.8888888888888888,\"#fdca26\"],[1.0,\"#f0f921\"]]}],\"heatmapgl\":[{\"type\":\"heatmapgl\",\"colorbar\":{\"outlinewidth\":0,\"ticks\":\"\"},\"colorscale\":[[0.0,\"#0d0887\"],[0.1111111111111111,\"#46039f\"],[0.2222222222222222,\"#7201a8\"],[0.3333333333333333,\"#9c179e\"],[0.4444444444444444,\"#bd3786\"],[0.5555555555555556,\"#d8576b\"],[0.6666666666666666,\"#ed7953\"],[0.7777777777777778,\"#fb9f3a\"],[0.8888888888888888,\"#fdca26\"],[1.0,\"#f0f921\"]]}],\"contourcarpet\":[{\"type\":\"contourcarpet\",\"colorbar\":{\"outlinewidth\":0,\"ticks\":\"\"}}],\"contour\":[{\"type\":\"contour\",\"colorbar\":{\"outlinewidth\":0,\"ticks\":\"\"},\"colorscale\":[[0.0,\"#0d0887\"],[0.1111111111111111,\"#46039f\"],[0.2222222222222222,\"#7201a8\"],[0.3333333333333333,\"#9c179e\"],[0.4444444444444444,\"#bd3786\"],[0.5555555555555556,\"#d8576b\"],[0.6666666666666666,\"#ed7953\"],[0.7777777777777778,\"#fb9f3a\"],[0.8888888888888888,\"#fdca26\"],[1.0,\"#f0f921\"]]}],\"surface\":[{\"type\":\"surface\",\"colorbar\":{\"outlinewidth\":0,\"ticks\":\"\"},\"colorscale\":[[0.0,\"#0d0887\"],[0.1111111111111111,\"#46039f\"],[0.2222222222222222,\"#7201a8\"],[0.3333333333333333,\"#9c179e\"],[0.4444444444444444,\"#bd3786\"],[0.5555555555555556,\"#d8576b\"],[0.6666666666666666,\"#ed7953\"],[0.7777777777777778,\"#fb9f3a\"],[0.8888888888888888,\"#fdca26\"],[1.0,\"#f0f921\"]]}],\"mesh3d\":[{\"type\":\"mesh3d\",\"colorbar\":{\"outlinewidth\":0,\"ticks\":\"\"}}],\"scatter\":[{\"fillpattern\":{\"fillmode\":\"overlay\",\"size\":10,\"solidity\":0.2},\"type\":\"scatter\"}],\"parcoords\":[{\"type\":\"parcoords\",\"line\":{\"colorbar\":{\"outlinewidth\":0,\"ticks\":\"\"}}}],\"scatterpolargl\":[{\"type\":\"scatterpolargl\",\"marker\":{\"colorbar\":{\"outlinewidth\":0,\"ticks\":\"\"}}}],\"bar\":[{\"error_x\":{\"color\":\"#2a3f5f\"},\"error_y\":{\"color\":\"#2a3f5f\"},\"marker\":{\"line\":{\"color\":\"#E5ECF6\",\"width\":0.5},\"pattern\":{\"fillmode\":\"overlay\",\"size\":10,\"solidity\":0.2}},\"type\":\"bar\"}],\"scattergeo\":[{\"type\":\"scattergeo\",\"marker\":{\"colorbar\":{\"outlinewidth\":0,\"ticks\":\"\"}}}],\"scatterpolar\":[{\"type\":\"scatterpolar\",\"marker\":{\"colorbar\":{\"outlinewidth\":0,\"ticks\":\"\"}}}],\"histogram\":[{\"marker\":{\"pattern\":{\"fillmode\":\"overlay\",\"size\":10,\"solidity\":0.2}},\"type\":\"histogram\"}],\"scattergl\":[{\"type\":\"scattergl\",\"marker\":{\"colorbar\":{\"outlinewidth\":0,\"ticks\":\"\"}}}],\"scatter3d\":[{\"type\":\"scatter3d\",\"line\":{\"colorbar\":{\"outlinewidth\":0,\"ticks\":\"\"}},\"marker\":{\"colorbar\":{\"outlinewidth\":0,\"ticks\":\"\"}}}],\"scattermapbox\":[{\"type\":\"scattermapbox\",\"marker\":{\"colorbar\":{\"outlinewidth\":0,\"ticks\":\"\"}}}],\"scatterternary\":[{\"type\":\"scatterternary\",\"marker\":{\"colorbar\":{\"outlinewidth\":0,\"ticks\":\"\"}}}],\"scattercarpet\":[{\"type\":\"scattercarpet\",\"marker\":{\"colorbar\":{\"outlinewidth\":0,\"ticks\":\"\"}}}],\"carpet\":[{\"aaxis\":{\"endlinecolor\":\"#2a3f5f\",\"gridcolor\":\"white\",\"linecolor\":\"white\",\"minorgridcolor\":\"white\",\"startlinecolor\":\"#2a3f5f\"},\"baxis\":{\"endlinecolor\":\"#2a3f5f\",\"gridcolor\":\"white\",\"linecolor\":\"white\",\"minorgridcolor\":\"white\",\"startlinecolor\":\"#2a3f5f\"},\"type\":\"carpet\"}],\"table\":[{\"cells\":{\"fill\":{\"color\":\"#EBF0F8\"},\"line\":{\"color\":\"white\"}},\"header\":{\"fill\":{\"color\":\"#C8D4E3\"},\"line\":{\"color\":\"white\"}},\"type\":\"table\"}],\"barpolar\":[{\"marker\":{\"line\":{\"color\":\"#E5ECF6\",\"width\":0.5},\"pattern\":{\"fillmode\":\"overlay\",\"size\":10,\"solidity\":0.2}},\"type\":\"barpolar\"}],\"pie\":[{\"automargin\":true,\"type\":\"pie\"}]},\"layout\":{\"autotypenumbers\":\"strict\",\"colorway\":[\"#636efa\",\"#EF553B\",\"#00cc96\",\"#ab63fa\",\"#FFA15A\",\"#19d3f3\",\"#FF6692\",\"#B6E880\",\"#FF97FF\",\"#FECB52\"],\"font\":{\"color\":\"#2a3f5f\"},\"hovermode\":\"closest\",\"hoverlabel\":{\"align\":\"left\"},\"paper_bgcolor\":\"white\",\"plot_bgcolor\":\"#E5ECF6\",\"polar\":{\"bgcolor\":\"#E5ECF6\",\"angularaxis\":{\"gridcolor\":\"white\",\"linecolor\":\"white\",\"ticks\":\"\"},\"radialaxis\":{\"gridcolor\":\"white\",\"linecolor\":\"white\",\"ticks\":\"\"}},\"ternary\":{\"bgcolor\":\"#E5ECF6\",\"aaxis\":{\"gridcolor\":\"white\",\"linecolor\":\"white\",\"ticks\":\"\"},\"baxis\":{\"gridcolor\":\"white\",\"linecolor\":\"white\",\"ticks\":\"\"},\"caxis\":{\"gridcolor\":\"white\",\"linecolor\":\"white\",\"ticks\":\"\"}},\"coloraxis\":{\"colorbar\":{\"outlinewidth\":0,\"ticks\":\"\"}},\"colorscale\":{\"sequential\":[[0.0,\"#0d0887\"],[0.1111111111111111,\"#46039f\"],[0.2222222222222222,\"#7201a8\"],[0.3333333333333333,\"#9c179e\"],[0.4444444444444444,\"#bd3786\"],[0.5555555555555556,\"#d8576b\"],[0.6666666666666666,\"#ed7953\"],[0.7777777777777778,\"#fb9f3a\"],[0.8888888888888888,\"#fdca26\"],[1.0,\"#f0f921\"]],\"sequentialminus\":[[0.0,\"#0d0887\"],[0.1111111111111111,\"#46039f\"],[0.2222222222222222,\"#7201a8\"],[0.3333333333333333,\"#9c179e\"],[0.4444444444444444,\"#bd3786\"],[0.5555555555555556,\"#d8576b\"],[0.6666666666666666,\"#ed7953\"],[0.7777777777777778,\"#fb9f3a\"],[0.8888888888888888,\"#fdca26\"],[1.0,\"#f0f921\"]],\"diverging\":[[0,\"#8e0152\"],[0.1,\"#c51b7d\"],[0.2,\"#de77ae\"],[0.3,\"#f1b6da\"],[0.4,\"#fde0ef\"],[0.5,\"#f7f7f7\"],[0.6,\"#e6f5d0\"],[0.7,\"#b8e186\"],[0.8,\"#7fbc41\"],[0.9,\"#4d9221\"],[1,\"#276419\"]]},\"xaxis\":{\"gridcolor\":\"white\",\"linecolor\":\"white\",\"ticks\":\"\",\"title\":{\"standoff\":15},\"zerolinecolor\":\"white\",\"automargin\":true,\"zerolinewidth\":2},\"yaxis\":{\"gridcolor\":\"white\",\"linecolor\":\"white\",\"ticks\":\"\",\"title\":{\"standoff\":15},\"zerolinecolor\":\"white\",\"automargin\":true,\"zerolinewidth\":2},\"scene\":{\"xaxis\":{\"backgroundcolor\":\"#E5ECF6\",\"gridcolor\":\"white\",\"linecolor\":\"white\",\"showbackground\":true,\"ticks\":\"\",\"zerolinecolor\":\"white\",\"gridwidth\":2},\"yaxis\":{\"backgroundcolor\":\"#E5ECF6\",\"gridcolor\":\"white\",\"linecolor\":\"white\",\"showbackground\":true,\"ticks\":\"\",\"zerolinecolor\":\"white\",\"gridwidth\":2},\"zaxis\":{\"backgroundcolor\":\"#E5ECF6\",\"gridcolor\":\"white\",\"linecolor\":\"white\",\"showbackground\":true,\"ticks\":\"\",\"zerolinecolor\":\"white\",\"gridwidth\":2}},\"shapedefaults\":{\"line\":{\"color\":\"#2a3f5f\"}},\"annotationdefaults\":{\"arrowcolor\":\"#2a3f5f\",\"arrowhead\":0,\"arrowwidth\":1},\"geo\":{\"bgcolor\":\"white\",\"landcolor\":\"#E5ECF6\",\"subunitcolor\":\"white\",\"showland\":true,\"showlakes\":true,\"lakecolor\":\"white\"},\"title\":{\"x\":0.05},\"mapbox\":{\"style\":\"light\"}}}},                        {\"responsive\": true}                    ).then(function(){\n",
              "                            \n",
              "var gd = document.getElementById('04eb49ba-0af4-48ac-9d36-4cae10b7f293');\n",
              "var x = new MutationObserver(function (mutations, observer) {{\n",
              "        var display = window.getComputedStyle(gd).display;\n",
              "        if (!display || display === 'none') {{\n",
              "            console.log([gd, 'removed!']);\n",
              "            Plotly.purge(gd);\n",
              "            observer.disconnect();\n",
              "        }}\n",
              "}});\n",
              "\n",
              "// Listen for the removal of the full notebook cells\n",
              "var notebookContainer = gd.closest('#notebook-container');\n",
              "if (notebookContainer) {{\n",
              "    x.observe(notebookContainer, {childList: true});\n",
              "}}\n",
              "\n",
              "// Listen for the clearing of the current output cell\n",
              "var outputEl = gd.closest('.output');\n",
              "if (outputEl) {{\n",
              "    x.observe(outputEl, {childList: true});\n",
              "}}\n",
              "\n",
              "                        })                };                            </script>        </div>\n",
              "</body>\n",
              "</html>"
            ]
          },
          "metadata": {}
        }
      ]
    },
    {
      "cell_type": "markdown",
      "source": [
        "Evauleringer av beste modell"
      ],
      "metadata": {
        "id": "R6uVeByLP23-"
      }
    },
    {
      "cell_type": "code",
      "source": [
        "def detailed_objective(trial):\n",
        "  parametere = {\n",
        "      'k1': trial.suggest_int('k1', 1, 10),\n",
        "      'k2': trial.suggest_int('k2', 1, 10),\n",
        "      'p1': trial.suggest_int('p1', 1, 10),\n",
        "      'p2': trial.suggest_int('p2', 1, 10)\n",
        "  }\n",
        "\n",
        "  coreg = CoReg()\n",
        "\n",
        "  coreg.fit(X_trening_markert_transformert, y_trening_markert.values, X_trening_umarkert_transformert)\n",
        "  y_test_prediksjon = coreg.predict(X_test_transformert)\n",
        "  y_trening_prediksjon = coreg.predict(X_trening_markert_transformert)\n",
        "\n",
        "  mse_test = mean_squared_error(y_test, y_test_prediksjon)\n",
        "  r2_test = r2_score(y_test, y_test_prediksjon)\n",
        "\n",
        "  mse_trening = mean_squared_error(y_trening_markert, y_trening_prediksjon)\n",
        "  r2_trening = r2_score(y_trening_markert, y_trening_prediksjon)\n",
        "\n",
        "  return mse_test, r2_test, mse_trening, r2_trening\n",
        "\n",
        "mse_test_resultat = detailed_objective(study.best_trial)[0]\n",
        "r2_test_resultat = detailed_objective(study.best_trial)[1]\n",
        "mse_trening_resultat = detailed_objective(study.best_trial)[2]\n",
        "r2_trening_resultat = detailed_objective(study.best_trial)[3]\n",
        "\n",
        "print(\"Beste hyperparametere for CoReg: {}\".format(study.best_params))\n",
        "print(\"Test: MSE: {}, og R^2: {}\".format(mse_test_resultat, r2_test_resultat))\n",
        "print(\"Trening: MSE: {}, og R^2: {}\".format(mse_trening_resultat, r2_trening_resultat))"
      ],
      "metadata": {
        "colab": {
          "base_uri": "https://localhost:8080/"
        },
        "id": "AkO7mvWBQXBS",
        "outputId": "d83299a2-9dc6-474b-9945-e5565cba064f"
      },
      "execution_count": null,
      "outputs": [
        {
          "output_type": "stream",
          "name": "stdout",
          "text": [
            "Beste hyperparametere for CoReg: {'k1': 9, 'k2': 2, 'p1': 9, 'p2': 10}\n",
            "Test: MSE: 14.62126212740936, og R^2: 0.5750354914795336\n",
            "Trening: MSE: 1.6441313422956731, og R^2: 0.9214526096644635\n"
          ]
        }
      ]
    },
    {
      "cell_type": "markdown",
      "source": [
        "### Alternativ 2: Fordelt på ukentlig og daglig variasjon i produksjon m/kontinuitet"
      ],
      "metadata": {
        "id": "NuWdaawzRF64"
      }
    },
    {
      "cell_type": "code",
      "source": [
        "# Lager nytt trening og testsett\n",
        "collagen_trening2 = copy.deepcopy(collagen_markert)\n",
        "collagen_test2 = pd.DataFrame(columns = list(collagen_trening2.columns))\n",
        "\n",
        "# Definere andel av datasettet som testsett\n",
        "andel = 0.2\n",
        "\n",
        "# Går gjennom hver dag, hver uke og samler første andel av rader til testsett\n",
        "for uke in collagen_markert.index.isocalendar().week.unique():\n",
        "  for dag in collagen_markert.index.isocalendar().day.unique():\n",
        "    data = collagen_markert[(collagen_markert.index.isocalendar().week == uke) &\n",
        "     (collagen_markert.index.isocalendar().day == dag)]\n",
        "    test_rader = (data.shape[0])*andel\n",
        "    test_data_dag = data.head(round(test_rader))\n",
        "\n",
        "    collagen_test2 = pd.concat([collagen_test2, test_data_dag])\n",
        "    collagen_trening2.drop(test_data_dag.index, inplace=True)"
      ],
      "metadata": {
        "id": "5aJx38dTHDeA"
      },
      "execution_count": null,
      "outputs": []
    },
    {
      "cell_type": "code",
      "source": [
        "# Deler opp datasettene til prediktorer og respons, for trening og testsett\n",
        "X_trening_markert2 = collagen_trening2.iloc[:, :-1]\n",
        "X_trening_umarkert = collagen_umarkert.iloc[:, :-1]\n",
        "X_test2 = collagen_test2.iloc[:, :-1]\n",
        "y_trening_markert2 = collagen_trening2.iloc[:, -1]\n",
        "y_test2 = collagen_test2.iloc[:, -1]\n",
        "\n",
        "# Lager et fullstendig treningssett, både markert og umarkert del av datasettet\n",
        "collagen_prediktor_data = collagen_data.iloc[:, :-1]\n",
        "felles_indeks = collagen_prediktor_data.index.intersection(X_test2.index)\n",
        "X_trening2 = collagen_prediktor_data.drop(felles_indeks)\n",
        "\n",
        "skalerer = StandardScaler()\n",
        "skalerer.fit(X_trening2)\n",
        "X_trening_markert_transformert2 = skalerer.transform(X_trening_markert2)\n",
        "X_trening_umarkert_transformert2 = skalerer.transform(X_trening_umarkert)\n",
        "X_test_transformert2 = skalerer.transform(X_test2)"
      ],
      "metadata": {
        "id": "31_twxUsPt7t"
      },
      "execution_count": null,
      "outputs": []
    },
    {
      "cell_type": "markdown",
      "source": [
        "**CoReg**"
      ],
      "metadata": {
        "id": "OyRukryER9hk"
      }
    },
    {
      "cell_type": "markdown",
      "source": [
        "Hyperparamter optimalisering med Optuna"
      ],
      "metadata": {
        "id": "jnOYCVFkR9hl"
      }
    },
    {
      "cell_type": "code",
      "source": [
        "def objective(trial):\n",
        "  parametere = {\n",
        "      'k1': trial.suggest_int('k1', 1, 10),\n",
        "      'k2': trial.suggest_int('k2', 1, 10),\n",
        "      'p1': trial.suggest_int('p1', 1, 10),\n",
        "      'p2': trial.suggest_int('p2', 1, 10)\n",
        "  }\n",
        "\n",
        "  coreg = CoReg()\n",
        "\n",
        "  coreg.fit(X_trening_markert_transformert2, y_trening_markert2.values, X_trening_umarkert_transformert2)\n",
        "  y_test_prediksjon = coreg.predict(X_test_transformert2)\n",
        "  mse_test = mean_squared_error(y_test2, y_test_prediksjon)\n",
        "  return mse_test\n",
        "\n",
        "if __name__ == \"__main__\":\n",
        "  study = optuna.create_study(direction='minimize')\n",
        "  study.optimize(objective, n_trials=10)\n",
        "\n",
        "plot_optimization_history(study)"
      ],
      "metadata": {
        "colab": {
          "base_uri": "https://localhost:8080/",
          "height": 738
        },
        "outputId": "6a0b596e-8e50-4973-b820-613ff96eb734",
        "id": "uCDIk4YrR9hl"
      },
      "execution_count": null,
      "outputs": [
        {
          "output_type": "stream",
          "name": "stderr",
          "text": [
            "[I 2024-02-09 14:39:29,616] A new study created in memory with name: no-name-3f5ef366-942f-4c32-9e42-1ee9e08aeeac\n",
            "[I 2024-02-09 14:41:51,464] Trial 0 finished with value: 12.308964014873418 and parameters: {'k1': 4, 'k2': 6, 'p1': 7, 'p2': 3}. Best is trial 0 with value: 12.308964014873418.\n",
            "[I 2024-02-09 14:44:15,958] Trial 1 finished with value: 10.965744651806304 and parameters: {'k1': 6, 'k2': 4, 'p1': 10, 'p2': 9}. Best is trial 1 with value: 10.965744651806304.\n",
            "[I 2024-02-09 14:46:41,403] Trial 2 finished with value: 10.522858866928095 and parameters: {'k1': 7, 'k2': 2, 'p1': 5, 'p2': 8}. Best is trial 2 with value: 10.522858866928095.\n",
            "[I 2024-02-09 14:49:03,360] Trial 3 finished with value: 9.768933229134998 and parameters: {'k1': 7, 'k2': 9, 'p1': 5, 'p2': 8}. Best is trial 3 with value: 9.768933229134998.\n",
            "[I 2024-02-09 14:51:30,047] Trial 4 finished with value: 13.296437269124802 and parameters: {'k1': 3, 'k2': 7, 'p1': 8, 'p2': 3}. Best is trial 3 with value: 9.768933229134998.\n",
            "[I 2024-02-09 14:53:51,884] Trial 5 finished with value: 11.000597958973348 and parameters: {'k1': 4, 'k2': 10, 'p1': 10, 'p2': 4}. Best is trial 3 with value: 9.768933229134998.\n",
            "[I 2024-02-09 14:56:13,666] Trial 6 finished with value: 9.592025697773176 and parameters: {'k1': 6, 'k2': 6, 'p1': 8, 'p2': 10}. Best is trial 6 with value: 9.592025697773176.\n",
            "[I 2024-02-09 14:58:37,447] Trial 7 finished with value: 11.475951156825843 and parameters: {'k1': 1, 'k2': 9, 'p1': 9, 'p2': 2}. Best is trial 6 with value: 9.592025697773176.\n",
            "[I 2024-02-09 15:00:58,008] Trial 8 finished with value: 10.814692500836625 and parameters: {'k1': 3, 'k2': 1, 'p1': 8, 'p2': 2}. Best is trial 6 with value: 9.592025697773176.\n",
            "[I 2024-02-09 15:03:17,206] Trial 9 finished with value: 12.914308552058 and parameters: {'k1': 9, 'k2': 3, 'p1': 7, 'p2': 1}. Best is trial 6 with value: 9.592025697773176.\n"
          ]
        },
        {
          "output_type": "display_data",
          "data": {
            "text/html": [
              "<html>\n",
              "<head><meta charset=\"utf-8\" /></head>\n",
              "<body>\n",
              "    <div>            <script src=\"https://cdnjs.cloudflare.com/ajax/libs/mathjax/2.7.5/MathJax.js?config=TeX-AMS-MML_SVG\"></script><script type=\"text/javascript\">if (window.MathJax && window.MathJax.Hub && window.MathJax.Hub.Config) {window.MathJax.Hub.Config({SVG: {font: \"STIX-Web\"}});}</script>                <script type=\"text/javascript\">window.PlotlyConfig = {MathJaxConfig: 'local'};</script>\n",
              "        <script charset=\"utf-8\" src=\"https://cdn.plot.ly/plotly-2.24.1.min.js\"></script>                <div id=\"8a187076-b541-4d8e-b818-39fb4cb505a4\" class=\"plotly-graph-div\" style=\"height:525px; width:100%;\"></div>            <script type=\"text/javascript\">                                    window.PLOTLYENV=window.PLOTLYENV || {};                                    if (document.getElementById(\"8a187076-b541-4d8e-b818-39fb4cb505a4\")) {                    Plotly.newPlot(                        \"8a187076-b541-4d8e-b818-39fb4cb505a4\",                        [{\"mode\":\"markers\",\"name\":\"Objective Value\",\"x\":[0,1,2,3,4,5,6,7,8,9],\"y\":[12.308964014873418,10.965744651806304,10.522858866928095,9.768933229134998,13.296437269124802,11.000597958973348,9.592025697773176,11.475951156825843,10.814692500836625,12.914308552058],\"type\":\"scatter\"},{\"mode\":\"lines\",\"name\":\"Best Value\",\"x\":[0,1,2,3,4,5,6,7,8,9],\"y\":[12.308964014873418,10.965744651806304,10.522858866928095,9.768933229134998,9.768933229134998,9.768933229134998,9.592025697773176,9.592025697773176,9.592025697773176,9.592025697773176],\"type\":\"scatter\"},{\"marker\":{\"color\":\"#cccccc\"},\"mode\":\"markers\",\"name\":\"Infeasible Trial\",\"showlegend\":false,\"x\":[],\"y\":[],\"type\":\"scatter\"}],                        {\"title\":{\"text\":\"Optimization History Plot\"},\"xaxis\":{\"title\":{\"text\":\"Trial\"}},\"yaxis\":{\"title\":{\"text\":\"Objective Value\"}},\"template\":{\"data\":{\"histogram2dcontour\":[{\"type\":\"histogram2dcontour\",\"colorbar\":{\"outlinewidth\":0,\"ticks\":\"\"},\"colorscale\":[[0.0,\"#0d0887\"],[0.1111111111111111,\"#46039f\"],[0.2222222222222222,\"#7201a8\"],[0.3333333333333333,\"#9c179e\"],[0.4444444444444444,\"#bd3786\"],[0.5555555555555556,\"#d8576b\"],[0.6666666666666666,\"#ed7953\"],[0.7777777777777778,\"#fb9f3a\"],[0.8888888888888888,\"#fdca26\"],[1.0,\"#f0f921\"]]}],\"choropleth\":[{\"type\":\"choropleth\",\"colorbar\":{\"outlinewidth\":0,\"ticks\":\"\"}}],\"histogram2d\":[{\"type\":\"histogram2d\",\"colorbar\":{\"outlinewidth\":0,\"ticks\":\"\"},\"colorscale\":[[0.0,\"#0d0887\"],[0.1111111111111111,\"#46039f\"],[0.2222222222222222,\"#7201a8\"],[0.3333333333333333,\"#9c179e\"],[0.4444444444444444,\"#bd3786\"],[0.5555555555555556,\"#d8576b\"],[0.6666666666666666,\"#ed7953\"],[0.7777777777777778,\"#fb9f3a\"],[0.8888888888888888,\"#fdca26\"],[1.0,\"#f0f921\"]]}],\"heatmap\":[{\"type\":\"heatmap\",\"colorbar\":{\"outlinewidth\":0,\"ticks\":\"\"},\"colorscale\":[[0.0,\"#0d0887\"],[0.1111111111111111,\"#46039f\"],[0.2222222222222222,\"#7201a8\"],[0.3333333333333333,\"#9c179e\"],[0.4444444444444444,\"#bd3786\"],[0.5555555555555556,\"#d8576b\"],[0.6666666666666666,\"#ed7953\"],[0.7777777777777778,\"#fb9f3a\"],[0.8888888888888888,\"#fdca26\"],[1.0,\"#f0f921\"]]}],\"heatmapgl\":[{\"type\":\"heatmapgl\",\"colorbar\":{\"outlinewidth\":0,\"ticks\":\"\"},\"colorscale\":[[0.0,\"#0d0887\"],[0.1111111111111111,\"#46039f\"],[0.2222222222222222,\"#7201a8\"],[0.3333333333333333,\"#9c179e\"],[0.4444444444444444,\"#bd3786\"],[0.5555555555555556,\"#d8576b\"],[0.6666666666666666,\"#ed7953\"],[0.7777777777777778,\"#fb9f3a\"],[0.8888888888888888,\"#fdca26\"],[1.0,\"#f0f921\"]]}],\"contourcarpet\":[{\"type\":\"contourcarpet\",\"colorbar\":{\"outlinewidth\":0,\"ticks\":\"\"}}],\"contour\":[{\"type\":\"contour\",\"colorbar\":{\"outlinewidth\":0,\"ticks\":\"\"},\"colorscale\":[[0.0,\"#0d0887\"],[0.1111111111111111,\"#46039f\"],[0.2222222222222222,\"#7201a8\"],[0.3333333333333333,\"#9c179e\"],[0.4444444444444444,\"#bd3786\"],[0.5555555555555556,\"#d8576b\"],[0.6666666666666666,\"#ed7953\"],[0.7777777777777778,\"#fb9f3a\"],[0.8888888888888888,\"#fdca26\"],[1.0,\"#f0f921\"]]}],\"surface\":[{\"type\":\"surface\",\"colorbar\":{\"outlinewidth\":0,\"ticks\":\"\"},\"colorscale\":[[0.0,\"#0d0887\"],[0.1111111111111111,\"#46039f\"],[0.2222222222222222,\"#7201a8\"],[0.3333333333333333,\"#9c179e\"],[0.4444444444444444,\"#bd3786\"],[0.5555555555555556,\"#d8576b\"],[0.6666666666666666,\"#ed7953\"],[0.7777777777777778,\"#fb9f3a\"],[0.8888888888888888,\"#fdca26\"],[1.0,\"#f0f921\"]]}],\"mesh3d\":[{\"type\":\"mesh3d\",\"colorbar\":{\"outlinewidth\":0,\"ticks\":\"\"}}],\"scatter\":[{\"fillpattern\":{\"fillmode\":\"overlay\",\"size\":10,\"solidity\":0.2},\"type\":\"scatter\"}],\"parcoords\":[{\"type\":\"parcoords\",\"line\":{\"colorbar\":{\"outlinewidth\":0,\"ticks\":\"\"}}}],\"scatterpolargl\":[{\"type\":\"scatterpolargl\",\"marker\":{\"colorbar\":{\"outlinewidth\":0,\"ticks\":\"\"}}}],\"bar\":[{\"error_x\":{\"color\":\"#2a3f5f\"},\"error_y\":{\"color\":\"#2a3f5f\"},\"marker\":{\"line\":{\"color\":\"#E5ECF6\",\"width\":0.5},\"pattern\":{\"fillmode\":\"overlay\",\"size\":10,\"solidity\":0.2}},\"type\":\"bar\"}],\"scattergeo\":[{\"type\":\"scattergeo\",\"marker\":{\"colorbar\":{\"outlinewidth\":0,\"ticks\":\"\"}}}],\"scatterpolar\":[{\"type\":\"scatterpolar\",\"marker\":{\"colorbar\":{\"outlinewidth\":0,\"ticks\":\"\"}}}],\"histogram\":[{\"marker\":{\"pattern\":{\"fillmode\":\"overlay\",\"size\":10,\"solidity\":0.2}},\"type\":\"histogram\"}],\"scattergl\":[{\"type\":\"scattergl\",\"marker\":{\"colorbar\":{\"outlinewidth\":0,\"ticks\":\"\"}}}],\"scatter3d\":[{\"type\":\"scatter3d\",\"line\":{\"colorbar\":{\"outlinewidth\":0,\"ticks\":\"\"}},\"marker\":{\"colorbar\":{\"outlinewidth\":0,\"ticks\":\"\"}}}],\"scattermapbox\":[{\"type\":\"scattermapbox\",\"marker\":{\"colorbar\":{\"outlinewidth\":0,\"ticks\":\"\"}}}],\"scatterternary\":[{\"type\":\"scatterternary\",\"marker\":{\"colorbar\":{\"outlinewidth\":0,\"ticks\":\"\"}}}],\"scattercarpet\":[{\"type\":\"scattercarpet\",\"marker\":{\"colorbar\":{\"outlinewidth\":0,\"ticks\":\"\"}}}],\"carpet\":[{\"aaxis\":{\"endlinecolor\":\"#2a3f5f\",\"gridcolor\":\"white\",\"linecolor\":\"white\",\"minorgridcolor\":\"white\",\"startlinecolor\":\"#2a3f5f\"},\"baxis\":{\"endlinecolor\":\"#2a3f5f\",\"gridcolor\":\"white\",\"linecolor\":\"white\",\"minorgridcolor\":\"white\",\"startlinecolor\":\"#2a3f5f\"},\"type\":\"carpet\"}],\"table\":[{\"cells\":{\"fill\":{\"color\":\"#EBF0F8\"},\"line\":{\"color\":\"white\"}},\"header\":{\"fill\":{\"color\":\"#C8D4E3\"},\"line\":{\"color\":\"white\"}},\"type\":\"table\"}],\"barpolar\":[{\"marker\":{\"line\":{\"color\":\"#E5ECF6\",\"width\":0.5},\"pattern\":{\"fillmode\":\"overlay\",\"size\":10,\"solidity\":0.2}},\"type\":\"barpolar\"}],\"pie\":[{\"automargin\":true,\"type\":\"pie\"}]},\"layout\":{\"autotypenumbers\":\"strict\",\"colorway\":[\"#636efa\",\"#EF553B\",\"#00cc96\",\"#ab63fa\",\"#FFA15A\",\"#19d3f3\",\"#FF6692\",\"#B6E880\",\"#FF97FF\",\"#FECB52\"],\"font\":{\"color\":\"#2a3f5f\"},\"hovermode\":\"closest\",\"hoverlabel\":{\"align\":\"left\"},\"paper_bgcolor\":\"white\",\"plot_bgcolor\":\"#E5ECF6\",\"polar\":{\"bgcolor\":\"#E5ECF6\",\"angularaxis\":{\"gridcolor\":\"white\",\"linecolor\":\"white\",\"ticks\":\"\"},\"radialaxis\":{\"gridcolor\":\"white\",\"linecolor\":\"white\",\"ticks\":\"\"}},\"ternary\":{\"bgcolor\":\"#E5ECF6\",\"aaxis\":{\"gridcolor\":\"white\",\"linecolor\":\"white\",\"ticks\":\"\"},\"baxis\":{\"gridcolor\":\"white\",\"linecolor\":\"white\",\"ticks\":\"\"},\"caxis\":{\"gridcolor\":\"white\",\"linecolor\":\"white\",\"ticks\":\"\"}},\"coloraxis\":{\"colorbar\":{\"outlinewidth\":0,\"ticks\":\"\"}},\"colorscale\":{\"sequential\":[[0.0,\"#0d0887\"],[0.1111111111111111,\"#46039f\"],[0.2222222222222222,\"#7201a8\"],[0.3333333333333333,\"#9c179e\"],[0.4444444444444444,\"#bd3786\"],[0.5555555555555556,\"#d8576b\"],[0.6666666666666666,\"#ed7953\"],[0.7777777777777778,\"#fb9f3a\"],[0.8888888888888888,\"#fdca26\"],[1.0,\"#f0f921\"]],\"sequentialminus\":[[0.0,\"#0d0887\"],[0.1111111111111111,\"#46039f\"],[0.2222222222222222,\"#7201a8\"],[0.3333333333333333,\"#9c179e\"],[0.4444444444444444,\"#bd3786\"],[0.5555555555555556,\"#d8576b\"],[0.6666666666666666,\"#ed7953\"],[0.7777777777777778,\"#fb9f3a\"],[0.8888888888888888,\"#fdca26\"],[1.0,\"#f0f921\"]],\"diverging\":[[0,\"#8e0152\"],[0.1,\"#c51b7d\"],[0.2,\"#de77ae\"],[0.3,\"#f1b6da\"],[0.4,\"#fde0ef\"],[0.5,\"#f7f7f7\"],[0.6,\"#e6f5d0\"],[0.7,\"#b8e186\"],[0.8,\"#7fbc41\"],[0.9,\"#4d9221\"],[1,\"#276419\"]]},\"xaxis\":{\"gridcolor\":\"white\",\"linecolor\":\"white\",\"ticks\":\"\",\"title\":{\"standoff\":15},\"zerolinecolor\":\"white\",\"automargin\":true,\"zerolinewidth\":2},\"yaxis\":{\"gridcolor\":\"white\",\"linecolor\":\"white\",\"ticks\":\"\",\"title\":{\"standoff\":15},\"zerolinecolor\":\"white\",\"automargin\":true,\"zerolinewidth\":2},\"scene\":{\"xaxis\":{\"backgroundcolor\":\"#E5ECF6\",\"gridcolor\":\"white\",\"linecolor\":\"white\",\"showbackground\":true,\"ticks\":\"\",\"zerolinecolor\":\"white\",\"gridwidth\":2},\"yaxis\":{\"backgroundcolor\":\"#E5ECF6\",\"gridcolor\":\"white\",\"linecolor\":\"white\",\"showbackground\":true,\"ticks\":\"\",\"zerolinecolor\":\"white\",\"gridwidth\":2},\"zaxis\":{\"backgroundcolor\":\"#E5ECF6\",\"gridcolor\":\"white\",\"linecolor\":\"white\",\"showbackground\":true,\"ticks\":\"\",\"zerolinecolor\":\"white\",\"gridwidth\":2}},\"shapedefaults\":{\"line\":{\"color\":\"#2a3f5f\"}},\"annotationdefaults\":{\"arrowcolor\":\"#2a3f5f\",\"arrowhead\":0,\"arrowwidth\":1},\"geo\":{\"bgcolor\":\"white\",\"landcolor\":\"#E5ECF6\",\"subunitcolor\":\"white\",\"showland\":true,\"showlakes\":true,\"lakecolor\":\"white\"},\"title\":{\"x\":0.05},\"mapbox\":{\"style\":\"light\"}}}},                        {\"responsive\": true}                    ).then(function(){\n",
              "                            \n",
              "var gd = document.getElementById('8a187076-b541-4d8e-b818-39fb4cb505a4');\n",
              "var x = new MutationObserver(function (mutations, observer) {{\n",
              "        var display = window.getComputedStyle(gd).display;\n",
              "        if (!display || display === 'none') {{\n",
              "            console.log([gd, 'removed!']);\n",
              "            Plotly.purge(gd);\n",
              "            observer.disconnect();\n",
              "        }}\n",
              "}});\n",
              "\n",
              "// Listen for the removal of the full notebook cells\n",
              "var notebookContainer = gd.closest('#notebook-container');\n",
              "if (notebookContainer) {{\n",
              "    x.observe(notebookContainer, {childList: true});\n",
              "}}\n",
              "\n",
              "// Listen for the clearing of the current output cell\n",
              "var outputEl = gd.closest('.output');\n",
              "if (outputEl) {{\n",
              "    x.observe(outputEl, {childList: true});\n",
              "}}\n",
              "\n",
              "                        })                };                            </script>        </div>\n",
              "</body>\n",
              "</html>"
            ]
          },
          "metadata": {}
        }
      ]
    },
    {
      "cell_type": "markdown",
      "source": [
        "Evauleringer av beste modell"
      ],
      "metadata": {
        "id": "BLuySA0JR9hm"
      }
    },
    {
      "cell_type": "code",
      "source": [
        "def detailed_objective(trial):\n",
        "  parametere = {\n",
        "      'k1': trial.suggest_int('k1', 1, 10),\n",
        "      'k2': trial.suggest_int('k2', 1, 10),\n",
        "      'p1': trial.suggest_int('p1', 1, 10),\n",
        "      'p2': trial.suggest_int('p2', 1, 10)\n",
        "  }\n",
        "\n",
        "  coreg = CoReg()\n",
        "\n",
        "  coreg.fit(X_trening_markert_transformert, y_trening_markert.values, X_trening_umarkert_transformert)\n",
        "  y_test_prediksjon = coreg.predict(X_test_transformert)\n",
        "  y_trening_prediksjon = coreg.predict(X_trening_markert_transformert)\n",
        "\n",
        "  mse_test = mean_squared_error(y_test, y_test_prediksjon)\n",
        "  r2_test = r2_score(y_test, y_test_prediksjon)\n",
        "\n",
        "  mse_trening = mean_squared_error(y_trening_markert, y_trening_prediksjon)\n",
        "  r2_trening = r2_score(y_trening_markert, y_trening_prediksjon)\n",
        "\n",
        "  return mse_test, r2_test, mse_trening, r2_trening\n",
        "\n",
        "mse_test_resultat = detailed_objective(study.best_trial)[0]\n",
        "r2_test_resultat = detailed_objective(study.best_trial)[1]\n",
        "mse_trening_resultat = detailed_objective(study.best_trial)[2]\n",
        "r2_trening_resultat = detailed_objective(study.best_trial)[3]\n",
        "\n",
        "print(\"Beste hyperparametere for CoReg: {}\".format(study.best_params))\n",
        "print(\"Test: MSE: {}, og R^2: {}\".format(mse_test_resultat, r2_test_resultat))\n",
        "print(\"Trening: MSE: {}, og R^2: {}\".format(mse_trening_resultat, r2_trening_resultat))"
      ],
      "metadata": {
        "colab": {
          "base_uri": "https://localhost:8080/"
        },
        "outputId": "d83299a2-9dc6-474b-9945-e5565cba064f",
        "id": "o0rngql0R9hm"
      },
      "execution_count": null,
      "outputs": [
        {
          "output_type": "stream",
          "name": "stdout",
          "text": [
            "Beste hyperparametere for CoReg: {'k1': 9, 'k2': 2, 'p1': 9, 'p2': 10}\n",
            "Test: MSE: 14.62126212740936, og R^2: 0.5750354914795336\n",
            "Trening: MSE: 1.6441313422956731, og R^2: 0.9214526096644635\n"
          ]
        }
      ]
    }
  ]
}