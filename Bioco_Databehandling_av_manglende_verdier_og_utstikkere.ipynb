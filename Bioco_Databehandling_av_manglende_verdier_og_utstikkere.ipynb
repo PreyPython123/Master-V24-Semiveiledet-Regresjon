{
  "nbformat": 4,
  "nbformat_minor": 0,
  "metadata": {
    "colab": {
      "provenance": [],
      "authorship_tag": "ABX9TyOVEsC978FRjgPp36UHUlVi",
      "include_colab_link": true
    },
    "kernelspec": {
      "name": "python3",
      "display_name": "Python 3"
    },
    "language_info": {
      "name": "python"
    }
  },
  "cells": [
    {
      "cell_type": "markdown",
      "metadata": {
        "id": "view-in-github",
        "colab_type": "text"
      },
      "source": [
        "<a href=\"https://colab.research.google.com/github/PreyPython123/Master-V24-Semiveiledet-Regresjon/blob/Dataforst%C3%A5else-og-unders%C3%B8kelse-Pradeep/Bioco_Databehandling_av_manglende_verdier_og_utstikkere.ipynb\" target=\"_parent\"><img src=\"https://colab.research.google.com/assets/colab-badge.svg\" alt=\"Open In Colab\"/></a>"

      ]
    },
    {
      "cell_type": "markdown",
      "source": [
        "Lasting av nødvendige pakker og bibliotek"
      ],
      "metadata": {
        "id": "GQBTgF29R_ap"
      }
    },
    {
      "cell_type": "code",
      "source": [
        "! pip install pyod"
      ],
      "metadata": {
        "id": "-tRTZpwOSJjX",
        "colab": {
          "base_uri": "https://localhost:8080/"
        },
        "outputId": "9188f5a5-154e-45cc-afec-5459eb0ad2ed"
      },
      "execution_count": 1,
      "outputs": [
        {
          "output_type": "stream",
          "name": "stdout",
          "text": [
            "Collecting pyod\n",
            "  Downloading pyod-1.1.2.tar.gz (160 kB)\n",
            "\u001b[?25l     \u001b[90m━━━━━━━━━━━━━━━━━━━━━━━━━━━━━━━━━━━━━━━━\u001b[0m \u001b[32m0.0/160.5 kB\u001b[0m \u001b[31m?\u001b[0m eta \u001b[36m-:--:--\u001b[0m\r\u001b[2K     \u001b[91m━━━━━━━━━━━━━━━━━━━━━━━━━━━━━━━━━━━━━━\u001b[0m\u001b[90m╺\u001b[0m\u001b[90m━\u001b[0m \u001b[32m153.6/160.5 kB\u001b[0m \u001b[31m4.7 MB/s\u001b[0m eta \u001b[36m0:00:01\u001b[0m\r\u001b[2K     \u001b[90m━━━━━━━━━━━━━━━━━━━━━━━━━━━━━━━━━━━━━━━━\u001b[0m \u001b[32m160.5/160.5 kB\u001b[0m \u001b[31m3.3 MB/s\u001b[0m eta \u001b[36m0:00:00\u001b[0m\n",
            "\u001b[?25h  Preparing metadata (setup.py) ... \u001b[?25l\u001b[?25hdone\n",
            "Requirement already satisfied: joblib in /usr/local/lib/python3.10/dist-packages (from pyod) (1.3.2)\n",
            "Requirement already satisfied: matplotlib in /usr/local/lib/python3.10/dist-packages (from pyod) (3.7.1)\n",
            "Requirement already satisfied: numpy>=1.19 in /usr/local/lib/python3.10/dist-packages (from pyod) (1.23.5)\n",
            "Requirement already satisfied: numba>=0.51 in /usr/local/lib/python3.10/dist-packages (from pyod) (0.58.1)\n",
            "Requirement already satisfied: scipy>=1.5.1 in /usr/local/lib/python3.10/dist-packages (from pyod) (1.11.4)\n",
            "Requirement already satisfied: scikit-learn>=0.22.0 in /usr/local/lib/python3.10/dist-packages (from pyod) (1.2.2)\n",
            "Requirement already satisfied: six in /usr/local/lib/python3.10/dist-packages (from pyod) (1.16.0)\n",
            "Requirement already satisfied: llvmlite<0.42,>=0.41.0dev0 in /usr/local/lib/python3.10/dist-packages (from numba>=0.51->pyod) (0.41.1)\n",
            "Requirement already satisfied: threadpoolctl>=2.0.0 in /usr/local/lib/python3.10/dist-packages (from scikit-learn>=0.22.0->pyod) (3.2.0)\n",
            "Requirement already satisfied: contourpy>=1.0.1 in /usr/local/lib/python3.10/dist-packages (from matplotlib->pyod) (1.2.0)\n",
            "Requirement already satisfied: cycler>=0.10 in /usr/local/lib/python3.10/dist-packages (from matplotlib->pyod) (0.12.1)\n",
            "Requirement already satisfied: fonttools>=4.22.0 in /usr/local/lib/python3.10/dist-packages (from matplotlib->pyod) (4.47.2)\n",
            "Requirement already satisfied: kiwisolver>=1.0.1 in /usr/local/lib/python3.10/dist-packages (from matplotlib->pyod) (1.4.5)\n",
            "Requirement already satisfied: packaging>=20.0 in /usr/local/lib/python3.10/dist-packages (from matplotlib->pyod) (23.2)\n",
            "Requirement already satisfied: pillow>=6.2.0 in /usr/local/lib/python3.10/dist-packages (from matplotlib->pyod) (9.4.0)\n",
            "Requirement already satisfied: pyparsing>=2.3.1 in /usr/local/lib/python3.10/dist-packages (from matplotlib->pyod) (3.1.1)\n",
            "Requirement already satisfied: python-dateutil>=2.7 in /usr/local/lib/python3.10/dist-packages (from matplotlib->pyod) (2.8.2)\n",
            "Building wheels for collected packages: pyod\n",
            "  Building wheel for pyod (setup.py) ... \u001b[?25l\u001b[?25hdone\n",
            "  Created wheel for pyod: filename=pyod-1.1.2-py3-none-any.whl size=190292 sha256=3b25192cc965da1d46d65e2437cda01f40b5839cc9db8ed97a7beea499800609\n",
            "  Stored in directory: /root/.cache/pip/wheels/81/1b/61/aa85b78c3c0c8871f4231e3f4a03bb23cecb7db829498380ee\n",
            "Successfully built pyod\n",
            "Installing collected packages: pyod\n",
            "Successfully installed pyod-1.1.2\n"
          ]
        }
      ]
    },
    {
      "cell_type": "markdown",
      "source": [
        "Importering av nødvendige pakker og bibliotek"
      ],
      "metadata": {
        "id": "UnKseMxNSJ5Z"
      }
    },
    {
      "cell_type": "code",
      "source": [
        "import pandas as pd\n",
        "import numpy as np\n",
        "import copy\n",
        "from datetime import datetime\n",
        "\n",
        "from pyod.models.hbos import HBOS"
      ],
      "metadata": {
        "id": "z6VlWO7ESNWB"
      },
      "execution_count": 20,
      "outputs": []
    },
    {
      "cell_type": "markdown",
      "source": [
        "Importering av data"
      ],
      "metadata": {
        "id": "IMnqlLDKSNpJ"
      }
    },
    {
      "cell_type": "code",
      "source": [
        "from google.colab import drive\n",
        "drive.mount('/content/drive')\n",
        "\n",
        "# Velger første kolonne med dato og tid som index\n",
        "bioco_data = pd.read_csv('/content/drive/MyDrive/MasterV24/Bioco_data/førbehandlet_bioco_data.csv',\n",
        "                         header=0,\n",
        "                         sep=',',\n",
        "                         index_col=0)\n",
        "\n",
        "# Formatterer index til riktig format og datatype\n",
        "bioco_data.index = pd.to_datetime(bioco_data.index,\n",
        "                                  format='%Y-%m-%d %H:%M:%S')"
      ],
      "metadata": {
        "colab": {
          "base_uri": "https://localhost:8080/"
        },
        "id": "3okYBetzSRrr",
        "outputId": "c62294df-faf3-474f-f0bf-60b82de95e2f"
      },
      "execution_count": 3,
      "outputs": [
        {
          "output_type": "stream",
          "name": "stdout",
          "text": [
            "Drive already mounted at /content/drive; to attempt to forcibly remount, call drive.mount(\"/content/drive\", force_remount=True).\n"
          ]
        }
      ]
    },
    {
      "cell_type": "markdown",
      "source": [
        "Oppdeling av data til prediktorer- og responsvariabler"
      ],
      "metadata": {
        "id": "KKG9d0VKJwry"
      }
    },
    {
      "cell_type": "code",
      "source": [
        "# Datasett for prediktorer\n",
        "prediktor_data = bioco_data.iloc[:, :-4]\n",
        "\n",
        "# Verdier for prediktorer\n",
        "X = prediktor_data.values\n",
        "\n",
        "# Datasett for hver kvalitetsmåling\n",
        "collagen = bioco_data['Collagen']\n",
        "mw = bioco_data['Mw']\n",
        "smallmolecules = bioco_data['SmallMolecules']\n",
        "brixadjusted = bioco_data['BrixAdjusted']"
      ],
      "metadata": {
        "id": "Svt4JDn6KH2-"
      },
      "execution_count": 4,
      "outputs": []
    },
    {
      "cell_type": "markdown",
      "source": [
        "# Behandling av manglende verdier"
      ],
      "metadata": {
        "id": "Tdq49s8wNRfK"
      }
    },
    {
      "cell_type": "markdown",
      "source": [
        "Oversikt over antall manglende verider for per kolonne"
      ],
      "metadata": {
        "id": "CWDz5G1g3sHj"
      }
    },
    {
      "cell_type": "code",
      "source": [
        "bioco_data.isnull().sum()"
      ],
      "metadata": {
        "colab": {
          "base_uri": "https://localhost:8080/"
        },
        "id": "x9wbCE2c3yRE",
        "outputId": "07a0c43d-580d-4b29-a35f-084398dfe6f3"
      },
      "execution_count": 5,
      "outputs": [
        {
          "output_type": "execute_result",
          "data": {
            "text/plain": [
              "EnzymeType_A1         0\n",
              "EnzymeType_A2         0\n",
              "EnzymeType_B          0\n",
              "EnzymeType_C          0\n",
              "EnzymeType_D          0\n",
              "EnzymeType_E          0\n",
              "RawMatFlow           55\n",
              "WaterFlow            55\n",
              "RawMatPercent        55\n",
              "NIRfat            14187\n",
              "NIRprotein        15731\n",
              "NIRash            13976\n",
              "NIRwater          13958\n",
              "TT07                 50\n",
              "TT08                 45\n",
              "PT03                 25\n",
              "TT20                 25\n",
              "TT09                 15\n",
              "TT12                  0\n",
              "Collagen          43152\n",
              "Mw                42711\n",
              "SmallMolecules    42711\n",
              "BrixAdjusted      42711\n",
              "dtype: int64"
            ]
          },
          "metadata": {},
          "execution_count": 5
        }
      ]
    },
    {
      "cell_type": "markdown",
      "source": [
        "Oversikt over rader med manglende verdier for RawMatflow"
      ],
      "metadata": {
        "id": "bKChyUmFNb4L"
      }
    },
    {
      "cell_type": "code",
      "source": [
        "# Henter ut index til rader med manglende verdier for \"RawMatFlow\"\n",
        "rawmat_manglende_index = bioco_data[bioco_data['RawMatFlow'].isnull()].index\n",
        "\n",
        "# Sjekker hvilke andre kolonner som har manglende verdier for samme rader\n",
        "bioco_data[rawmat_manglende_index[0]:rawmat_manglende_index[-1]].isnull().sum()\n",
        "\n",
        "# Dropper de spesifikke rader fra datasett\n",
        "bioco_data.drop(bioco_data.loc[rawmat_manglende_index[0]:rawmat_manglende_index[-1]].index,\n",
        "                inplace=True)"
      ],
      "metadata": {
        "id": "n4tUgB555yNw"
      },
      "execution_count": 6,
      "outputs": []
    },
    {
      "cell_type": "markdown",
      "source": [
        "Oppdeling av datasett for med og uten NIR"
      ],
      "metadata": {
        "id": "20lhtiHeRP7U"
      }
    },
    {
      "cell_type": "code",
      "source": [
        "# Lager en kopi av data for uten NIR målinger\n",
        "data_utenNIR = copy.deepcopy(bioco_data)\n",
        "\n",
        "# Utelukker kolonner med NIR målinger fra nye datasettet\n",
        "data_utenNIR.drop(columns=['NIRfat',\n",
        "                           'NIRprotein',\n",
        "                           'NIRash',\n",
        "                           'NIRwater'],\n",
        "                  inplace=True)"
      ],
      "metadata": {
        "id": "bY9oM1hhTLoX"
      },
      "execution_count": 49,
      "outputs": []
    },
    {
      "cell_type": "markdown",
      "source": [
        "Oversikt over rader med manglende verdier for NIRfat"
      ],
      "metadata": {
        "id": "UHwRS04jEDsG"
      }
    },
    {
      "cell_type": "code",
      "source": [
        "# Henter ut index til rader med manglende verdier for \"NIRfat\"\n",
        "nirfat_manglende_index = bioco_data[bioco_data['NIRfat'].isnull()].index\n",
        "\n",
        "# Lager liste for å lagre start og slutttid for serie med manglende verdier\n",
        "nirfat_manglende_index_start = list()\n",
        "nirfat_manglende_index_slutt = list()\n",
        "\n",
        "# Legger til starttid for første serie med manglende verdier\n",
        "nirfat_manglende_index_start.append(nirfat_manglende_index[0])\n",
        "\n",
        "# Lagrer alle start og slutttid for serier med manglende verdier\n",
        "for i in range(1, len(nirfat_manglende_index)):\n",
        "  tidsdiff = nirfat_manglende_index[i] - nirfat_manglende_index[i-1]\n",
        "\n",
        "  if tidsdiff.total_seconds() > 60:\n",
        "    nirfat_manglende_index_slutt.append(nirfat_manglende_index[i-1])\n",
        "    nirfat_manglende_index_start.append(nirfat_manglende_index[i])\n",
        "nirfat_manglende_index_slutt.append(nirfat_manglende_index[-1])\n",
        "\n",
        "for i,j in zip(nirfat_manglende_index_start, nirfat_manglende_index_slutt):\n",
        "  tidsdiff = ((j-i).total_seconds())/60 + 1\n",
        "  print(\"Tidsdiff\", tidsdiff)\n",
        "  nirfat_mangel = bioco_data[i:j].isnull().sum()['NIRfat']\n",
        "  respons_mangel = bioco_data[i:j].isnull().sum()[['Collagen', 'Mw', 'SmallMolecules', 'BrixAdjusted']]\n",
        "  if nirfat_mangel > min(respons_mangel.values):\n",
        "    print(\"Tidsintervallet {} til {} har flere manglende NIRfat målinger enn kvalitetsmålinger\".format(i, j))\n",
        "    print(\"NIRfat {}\".format(nirfat_mangel))\n",
        "    print(respons_mangel)\n",
        "  else:\n",
        "    print(\"Tidsintervallet {} til {} har like manglende NIRfat målinger som kvalitetsmålinger\".format(i, j))"
      ],
      "metadata": {
        "colab": {
          "base_uri": "https://localhost:8080/"
        },
        "id": "QxPd09zMEIod",
        "outputId": "33bb8864-0e2c-4ace-f3ed-0016ada35a54"
      },
      "execution_count": 82,
      "outputs": [
        {
          "output_type": "stream",
          "name": "stdout",
          "text": [
            "Tidsdiff 127.0\n",
            "Tidsintervallet 2022-10-31 15:30:00 til 2022-10-31 17:36:00 har like manglende NIRfat målinger som kvalitetsmålinger\n",
            "Tidsdiff 13.0\n",
            "Tidsintervallet 2022-11-02 05:07:00 til 2022-11-02 05:19:00 har like manglende NIRfat målinger som kvalitetsmålinger\n",
            "Tidsdiff 10.0\n",
            "Tidsintervallet 2022-11-02 10:47:00 til 2022-11-02 10:56:00 har like manglende NIRfat målinger som kvalitetsmålinger\n",
            "Tidsdiff 35.0\n",
            "Tidsintervallet 2022-11-03 01:59:00 til 2022-11-03 02:33:00 har like manglende NIRfat målinger som kvalitetsmålinger\n",
            "Tidsdiff 537.0\n",
            "Tidsintervallet 2022-11-04 15:08:00 til 2022-11-05 00:04:00 har flere manglende NIRfat målinger enn kvalitetsmålinger\n",
            "NIRfat 537\n",
            "Collagen          537\n",
            "Mw                536\n",
            "SmallMolecules    536\n",
            "BrixAdjusted      536\n",
            "dtype: int64\n",
            "Tidsdiff 16.0\n",
            "Tidsintervallet 2022-11-07 16:24:00 til 2022-11-07 16:39:00 har like manglende NIRfat målinger som kvalitetsmålinger\n",
            "Tidsdiff 65.0\n",
            "Tidsintervallet 2022-11-08 22:15:00 til 2022-11-08 23:19:00 har like manglende NIRfat målinger som kvalitetsmålinger\n",
            "Tidsdiff 36.0\n",
            "Tidsintervallet 2022-11-08 23:22:00 til 2022-11-08 23:57:00 har like manglende NIRfat målinger som kvalitetsmålinger\n",
            "Tidsdiff 47.0\n",
            "Tidsintervallet 2022-11-09 01:39:00 til 2022-11-09 02:25:00 har like manglende NIRfat målinger som kvalitetsmålinger\n",
            "Tidsdiff 30.0\n",
            "Tidsintervallet 2022-11-09 04:53:00 til 2022-11-09 05:22:00 har like manglende NIRfat målinger som kvalitetsmålinger\n",
            "Tidsdiff 13.0\n",
            "Tidsintervallet 2022-11-09 06:25:00 til 2022-11-09 06:37:00 har like manglende NIRfat målinger som kvalitetsmålinger\n",
            "Tidsdiff 17.0\n",
            "Tidsintervallet 2022-11-09 11:11:00 til 2022-11-09 11:27:00 har like manglende NIRfat målinger som kvalitetsmålinger\n",
            "Tidsdiff 30.0\n",
            "Tidsintervallet 2022-11-11 05:48:00 til 2022-11-11 06:17:00 har flere manglende NIRfat målinger enn kvalitetsmålinger\n",
            "NIRfat 30\n",
            "Collagen          30\n",
            "Mw                29\n",
            "SmallMolecules    29\n",
            "BrixAdjusted      29\n",
            "dtype: int64\n",
            "Tidsdiff 782.0\n",
            "Tidsintervallet 2022-11-11 14:58:00 til 2022-11-12 03:59:00 har like manglende NIRfat målinger som kvalitetsmålinger\n",
            "Tidsdiff 5055.0\n",
            "Tidsintervallet 2022-11-14 18:01:00 til 2022-11-18 06:15:00 har like manglende NIRfat målinger som kvalitetsmålinger\n",
            "Tidsdiff 1140.0\n",
            "Tidsintervallet 2022-11-18 08:45:00 til 2022-11-19 03:44:00 har like manglende NIRfat målinger som kvalitetsmålinger\n",
            "Tidsdiff 53.0\n",
            "Tidsintervallet 2022-11-21 16:23:00 til 2022-11-21 17:15:00 har flere manglende NIRfat målinger enn kvalitetsmålinger\n",
            "NIRfat 53\n",
            "Collagen          53\n",
            "Mw                52\n",
            "SmallMolecules    52\n",
            "BrixAdjusted      52\n",
            "dtype: int64\n",
            "Tidsdiff 12.0\n",
            "Tidsintervallet 2022-11-23 05:54:00 til 2022-11-23 06:05:00 har like manglende NIRfat målinger som kvalitetsmålinger\n",
            "Tidsdiff 23.0\n",
            "Tidsintervallet 2022-11-23 08:59:00 til 2022-11-23 09:21:00 har like manglende NIRfat målinger som kvalitetsmålinger\n",
            "Tidsdiff 13.0\n",
            "Tidsintervallet 2022-11-23 13:47:00 til 2022-11-23 13:59:00 har like manglende NIRfat målinger som kvalitetsmålinger\n",
            "Tidsdiff 16.0\n",
            "Tidsintervallet 2022-11-23 20:15:00 til 2022-11-23 20:30:00 har like manglende NIRfat målinger som kvalitetsmålinger\n",
            "Tidsdiff 16.0\n",
            "Tidsintervallet 2022-11-28 14:38:00 til 2022-11-28 14:53:00 har like manglende NIRfat målinger som kvalitetsmålinger\n",
            "Tidsdiff 13.0\n",
            "Tidsintervallet 2022-11-30 04:17:00 til 2022-11-30 04:29:00 har like manglende NIRfat målinger som kvalitetsmålinger\n",
            "Tidsdiff 17.0\n",
            "Tidsintervallet 2022-11-30 10:20:00 til 2022-11-30 10:36:00 har like manglende NIRfat målinger som kvalitetsmålinger\n",
            "Tidsdiff 13.0\n",
            "Tidsintervallet 2022-11-30 22:22:00 til 2022-11-30 22:34:00 har like manglende NIRfat målinger som kvalitetsmålinger\n",
            "Tidsdiff 16.0\n",
            "Tidsintervallet 2022-12-01 00:44:00 til 2022-12-01 00:59:00 har like manglende NIRfat målinger som kvalitetsmålinger\n",
            "Tidsdiff 8.0\n",
            "Tidsintervallet 2022-12-01 12:53:00 til 2022-12-01 13:00:00 har like manglende NIRfat målinger som kvalitetsmålinger\n",
            "Tidsdiff 17.0\n",
            "Tidsintervallet 2022-12-01 14:59:00 til 2022-12-01 15:15:00 har like manglende NIRfat målinger som kvalitetsmålinger\n",
            "Tidsdiff 30.0\n",
            "Tidsintervallet 2022-12-02 07:38:00 til 2022-12-02 08:07:00 har like manglende NIRfat målinger som kvalitetsmålinger\n",
            "Tidsdiff 30.0\n",
            "Tidsintervallet 2022-12-02 09:16:00 til 2022-12-02 09:45:00 har like manglende NIRfat målinger som kvalitetsmålinger\n",
            "Tidsdiff 903.0\n",
            "Tidsintervallet 2022-12-02 15:27:00 til 2022-12-03 06:29:00 har flere manglende NIRfat målinger enn kvalitetsmålinger\n",
            "NIRfat 903\n",
            "Collagen          902\n",
            "Mw                900\n",
            "SmallMolecules    900\n",
            "BrixAdjusted      900\n",
            "dtype: int64\n",
            "Tidsdiff 4424.0\n",
            "Tidsintervallet 2022-12-05 17:26:00 til 2022-12-08 19:09:00 har flere manglende NIRfat målinger enn kvalitetsmålinger\n",
            "NIRfat 4424\n",
            "Collagen          4415\n",
            "Mw                4353\n",
            "SmallMolecules    4353\n",
            "BrixAdjusted      4353\n",
            "dtype: int64\n",
            "Tidsdiff 21.0\n",
            "Tidsintervallet 2022-12-09 09:07:00 til 2022-12-09 09:27:00 har like manglende NIRfat målinger som kvalitetsmålinger\n",
            "Tidsdiff 30.0\n",
            "Tidsintervallet 2022-12-09 21:47:00 til 2022-12-09 22:16:00 har like manglende NIRfat målinger som kvalitetsmålinger\n",
            "Tidsdiff 31.0\n",
            "Tidsintervallet 2022-12-12 16:20:00 til 2022-12-12 16:50:00 har like manglende NIRfat målinger som kvalitetsmålinger\n",
            "Tidsdiff 18.0\n",
            "Tidsintervallet 2022-12-13 08:58:00 til 2022-12-13 09:15:00 har flere manglende NIRfat målinger enn kvalitetsmålinger\n",
            "NIRfat 18\n",
            "Collagen          18\n",
            "Mw                17\n",
            "SmallMolecules    17\n",
            "BrixAdjusted      17\n",
            "dtype: int64\n",
            "Tidsdiff 30.0\n",
            "Tidsintervallet 2022-12-14 00:26:00 til 2022-12-14 00:55:00 har like manglende NIRfat målinger som kvalitetsmålinger\n",
            "Tidsdiff 11.0\n",
            "Tidsintervallet 2022-12-14 05:55:00 til 2022-12-14 06:05:00 har like manglende NIRfat målinger som kvalitetsmålinger\n",
            "Tidsdiff 37.0\n",
            "Tidsintervallet 2022-12-14 08:36:00 til 2022-12-14 09:12:00 har like manglende NIRfat målinger som kvalitetsmålinger\n",
            "Tidsdiff 30.0\n",
            "Tidsintervallet 2022-12-14 12:49:00 til 2022-12-14 13:18:00 har flere manglende NIRfat målinger enn kvalitetsmålinger\n",
            "NIRfat 30\n",
            "Collagen          30\n",
            "Mw                29\n",
            "SmallMolecules    29\n",
            "BrixAdjusted      29\n",
            "dtype: int64\n",
            "Tidsdiff 67.0\n",
            "Tidsintervallet 2022-12-15 10:07:00 til 2022-12-15 11:13:00 har like manglende NIRfat målinger som kvalitetsmålinger\n",
            "Tidsdiff 39.0\n",
            "Tidsintervallet 2022-12-15 14:08:00 til 2022-12-15 14:46:00 har like manglende NIRfat målinger som kvalitetsmålinger\n",
            "Tidsdiff 36.0\n",
            "Tidsintervallet 2022-12-15 19:48:00 til 2022-12-15 20:23:00 har like manglende NIRfat målinger som kvalitetsmålinger\n",
            "Tidsdiff 30.0\n",
            "Tidsintervallet 2022-12-15 23:29:00 til 2022-12-15 23:58:00 har flere manglende NIRfat målinger enn kvalitetsmålinger\n",
            "NIRfat 30\n",
            "Collagen          30\n",
            "Mw                29\n",
            "SmallMolecules    29\n",
            "BrixAdjusted      29\n",
            "dtype: int64\n",
            "Tidsdiff 30.0\n",
            "Tidsintervallet 2022-12-16 04:50:00 til 2022-12-16 05:19:00 har like manglende NIRfat målinger som kvalitetsmålinger\n",
            "Tidsdiff 11.0\n",
            "Tidsintervallet 2022-12-16 06:02:00 til 2022-12-16 06:12:00 har like manglende NIRfat målinger som kvalitetsmålinger\n",
            "Tidsdiff 16.0\n",
            "Tidsintervallet 2022-12-16 09:05:00 til 2022-12-16 09:20:00 har like manglende NIRfat målinger som kvalitetsmålinger\n",
            "Tidsdiff 17.0\n",
            "Tidsintervallet 2022-12-17 00:11:00 til 2022-12-17 00:27:00 har like manglende NIRfat målinger som kvalitetsmålinger\n",
            "Tidsdiff 26.0\n",
            "Tidsintervallet 2023-06-12 17:48:00 til 2023-06-12 18:13:00 har like manglende NIRfat målinger som kvalitetsmålinger\n",
            "Tidsdiff 80.0\n",
            "Tidsintervallet 2023-06-12 20:58:00 til 2023-06-12 22:17:00 har like manglende NIRfat målinger som kvalitetsmålinger\n",
            "Tidsdiff 15.0\n",
            "Tidsintervallet 2023-06-14 00:52:00 til 2023-06-14 01:06:00 har like manglende NIRfat målinger som kvalitetsmålinger\n"
          ]
        }
      ]
    },
    {
      "cell_type": "markdown",
      "source": [
        "Dropper rader med manglende verdier for NIRfat, kun der kvalitetsmålinger også har manglende verdier"
      ],
      "metadata": {
        "id": "BrWatok3b5c0"
      }
    },
    {
      "cell_type": "code",
      "source": [
        "data_prosessert = bioco_data[~(bioco_data['NIRfat'].isna() & bioco_data[['Collagen', 'Mw', 'SmallMolecules', 'BrixAdjusted']].isna().all(axis=1))]"
      ],
      "metadata": {
        "id": "A-JMKCvgHLjG"
      },
      "execution_count": 73,
      "outputs": []
    },
    {
      "cell_type": "markdown",
      "source": [
        "Behandling av resterende manglende verdier"
      ],
      "metadata": {
        "id": "l8YlCiEEeCYz"
      }
    },
    {
      "cell_type": "code",
      "source": [],
      "metadata": {
        "id": "En9GXBaPgjlO"
      },
      "execution_count": null,
      "outputs": []
    },
    {
      "cell_type": "markdown",
      "source": [
        "# Inspeksjon av mulige ekstremverdier"
      ],
      "metadata": {
        "id": "xpv8M0zUHpSG"
      }
    },
    {
      "cell_type": "markdown",
      "source": [
        "## Ekstremverdi inspeksjon med HBOS"
      ],
      "metadata": {
        "id": "v2-00O35Hwnc"
      }
    },
    {
      "cell_type": "code",
      "source": [
        "hbos = HBOS()\n",
        "hbos.fit(X)\n",
        "\n",
        "y_predikert = hbos.labels_\n",
        "y_scores = hbos.decision_scores_"
      ],
      "metadata": {
        "colab": {
          "base_uri": "https://localhost:8080/",
          "height": 408
        },
        "id": "V50HeXX5IGAs",
        "outputId": "180c23f4-247b-4513-f38c-12d8c55fb6fe"
      },
      "execution_count": null,
      "outputs": [
        {
          "output_type": "error",
          "ename": "ValueError",
          "evalue": "Input contains NaN.",
          "traceback": [
            "\u001b[0;31m---------------------------------------------------------------------------\u001b[0m",
            "\u001b[0;31mValueError\u001b[0m                                Traceback (most recent call last)",
            "\u001b[0;32m<ipython-input-13-3294d88800e9>\u001b[0m in \u001b[0;36m<cell line: 2>\u001b[0;34m()\u001b[0m\n\u001b[1;32m      1\u001b[0m \u001b[0mhbos\u001b[0m \u001b[0;34m=\u001b[0m \u001b[0mHBOS\u001b[0m\u001b[0;34m(\u001b[0m\u001b[0;34m)\u001b[0m\u001b[0;34m\u001b[0m\u001b[0;34m\u001b[0m\u001b[0m\n\u001b[0;32m----> 2\u001b[0;31m \u001b[0mhbos\u001b[0m\u001b[0;34m.\u001b[0m\u001b[0mfit\u001b[0m\u001b[0;34m(\u001b[0m\u001b[0mX\u001b[0m\u001b[0;34m)\u001b[0m\u001b[0;34m\u001b[0m\u001b[0;34m\u001b[0m\u001b[0m\n\u001b[0m\u001b[1;32m      3\u001b[0m \u001b[0;34m\u001b[0m\u001b[0m\n\u001b[1;32m      4\u001b[0m \u001b[0my_predikert\u001b[0m \u001b[0;34m=\u001b[0m \u001b[0mhbos\u001b[0m\u001b[0;34m.\u001b[0m\u001b[0mlabels_\u001b[0m\u001b[0;34m\u001b[0m\u001b[0;34m\u001b[0m\u001b[0m\n\u001b[1;32m      5\u001b[0m \u001b[0my_scores\u001b[0m \u001b[0;34m=\u001b[0m \u001b[0mhbos\u001b[0m\u001b[0;34m.\u001b[0m\u001b[0mdecision_scores_\u001b[0m\u001b[0;34m\u001b[0m\u001b[0;34m\u001b[0m\u001b[0m\n",
            "\u001b[0;32m/usr/local/lib/python3.10/dist-packages/pyod/models/hbos.py\u001b[0m in \u001b[0;36mfit\u001b[0;34m(self, X, y)\u001b[0m\n\u001b[1;32m    100\u001b[0m         \"\"\"\n\u001b[1;32m    101\u001b[0m         \u001b[0;31m# validate inputs X and y (optional)\u001b[0m\u001b[0;34m\u001b[0m\u001b[0;34m\u001b[0m\u001b[0m\n\u001b[0;32m--> 102\u001b[0;31m         \u001b[0mX\u001b[0m \u001b[0;34m=\u001b[0m \u001b[0mcheck_array\u001b[0m\u001b[0;34m(\u001b[0m\u001b[0mX\u001b[0m\u001b[0;34m)\u001b[0m\u001b[0;34m\u001b[0m\u001b[0;34m\u001b[0m\u001b[0m\n\u001b[0m\u001b[1;32m    103\u001b[0m         \u001b[0mself\u001b[0m\u001b[0;34m.\u001b[0m\u001b[0m_set_n_classes\u001b[0m\u001b[0;34m(\u001b[0m\u001b[0my\u001b[0m\u001b[0;34m)\u001b[0m\u001b[0;34m\u001b[0m\u001b[0;34m\u001b[0m\u001b[0m\n\u001b[1;32m    104\u001b[0m \u001b[0;34m\u001b[0m\u001b[0m\n",
            "\u001b[0;32m/usr/local/lib/python3.10/dist-packages/sklearn/utils/validation.py\u001b[0m in \u001b[0;36mcheck_array\u001b[0;34m(array, accept_sparse, accept_large_sparse, dtype, order, copy, force_all_finite, ensure_2d, allow_nd, ensure_min_samples, ensure_min_features, estimator, input_name)\u001b[0m\n\u001b[1;32m    919\u001b[0m \u001b[0;34m\u001b[0m\u001b[0m\n\u001b[1;32m    920\u001b[0m         \u001b[0;32mif\u001b[0m \u001b[0mforce_all_finite\u001b[0m\u001b[0;34m:\u001b[0m\u001b[0;34m\u001b[0m\u001b[0;34m\u001b[0m\u001b[0m\n\u001b[0;32m--> 921\u001b[0;31m             _assert_all_finite(\n\u001b[0m\u001b[1;32m    922\u001b[0m                 \u001b[0marray\u001b[0m\u001b[0;34m,\u001b[0m\u001b[0;34m\u001b[0m\u001b[0;34m\u001b[0m\u001b[0m\n\u001b[1;32m    923\u001b[0m                 \u001b[0minput_name\u001b[0m\u001b[0;34m=\u001b[0m\u001b[0minput_name\u001b[0m\u001b[0;34m,\u001b[0m\u001b[0;34m\u001b[0m\u001b[0;34m\u001b[0m\u001b[0m\n",
            "\u001b[0;32m/usr/local/lib/python3.10/dist-packages/sklearn/utils/validation.py\u001b[0m in \u001b[0;36m_assert_all_finite\u001b[0;34m(X, allow_nan, msg_dtype, estimator_name, input_name)\u001b[0m\n\u001b[1;32m    159\u001b[0m                 \u001b[0;34m\"#estimators-that-handle-nan-values\"\u001b[0m\u001b[0;34m\u001b[0m\u001b[0;34m\u001b[0m\u001b[0m\n\u001b[1;32m    160\u001b[0m             )\n\u001b[0;32m--> 161\u001b[0;31m         \u001b[0;32mraise\u001b[0m \u001b[0mValueError\u001b[0m\u001b[0;34m(\u001b[0m\u001b[0mmsg_err\u001b[0m\u001b[0;34m)\u001b[0m\u001b[0;34m\u001b[0m\u001b[0;34m\u001b[0m\u001b[0m\n\u001b[0m\u001b[1;32m    162\u001b[0m \u001b[0;34m\u001b[0m\u001b[0m\n\u001b[1;32m    163\u001b[0m \u001b[0;34m\u001b[0m\u001b[0m\n",
            "\u001b[0;31mValueError\u001b[0m: Input contains NaN."
          ]
        }
      ]
    },
    {
      "cell_type": "markdown",
      "source": [
        "Oppdeling av original datasett for hver kvalitetsmåling"
      ],
      "metadata": {
        "id": "F6D9oFXxN21p"
      }
    },
    {
      "cell_type": "code",
      "execution_count": null,
      "metadata": {
        "id": "NHPC7AUM7EFp"
      },
      "outputs": [],
      "source": [
        "# Trekker ut prediktorer som et eget datasett\n",
        "prediktor_data = bioco_rå_data.iloc[:, :-4]\n",
        "\n",
        "# Datasett for \"Collagen\"\n",
        "collagen_datasett = pd.concat([prediktor,\n",
        "                               bioco_rå_data['Collagen']],\n",
        "                              axis=1)\n",
        "\n",
        "# Datasett for \"Mw\"\n",
        "mw_datasett = pd.concat([prediktor,\n",
        "                         bioco_rå_data['Mw']],\n",
        "                        axis=1)\n",
        "\n",
        "# Datasett for \"SmallMolecules\"\n",
        "smallmolecules_datasett = pd.concat([prediktor,\n",
        "                                     bioco_rå_data['SmallMolecules']],\n",
        "                                    axis=1)\n",
        "\n",
        "# Datasett for \"BrixAdjusted\"\n",
        "brixadjusted_datasett = pd.concat([prediktor,\n",
        "                                   bioco_rå_data['BrixAdjusted']],\n",
        "                                  axis=1)"
      ]
    },
    {
      "cell_type": "markdown",
      "source": [
        "Lagrer hvert datasett som csv"
      ],
      "metadata": {
        "id": "RCkELUJ5N9Tl"
      }
    },
    {
      "cell_type": "code",
      "source": [
        "# Collagen datasett som csv fil\n",
        "collagen_datasett.to_csv('')"
      ],
      "metadata": {
        "id": "K1CZmo6ZN_hi"
      },
      "execution_count": null,
      "outputs": []
    }
  ]
}