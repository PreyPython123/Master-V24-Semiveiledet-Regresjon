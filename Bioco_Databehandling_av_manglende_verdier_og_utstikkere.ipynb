{
  "nbformat": 4,
  "nbformat_minor": 0,
  "metadata": {
    "colab": {
      "provenance": [],
      "authorship_tag": "ABX9TyOXQMklWmKLAqwYNVvFLBvP",
      "include_colab_link": true
    },
    "kernelspec": {
      "name": "python3",
      "display_name": "Python 3"
    },
    "language_info": {
      "name": "python"
    }
  },
  "cells": [
    {
      "cell_type": "markdown",
      "metadata": {
        "id": "view-in-github",
        "colab_type": "text"
      },
      "source": [
        "<a href=\"https://colab.research.google.com/github/PreyPython123/Master-V24-Semiveiledet-Regresjon/blob/Databehandling-Pradeep/Bioco_Databehandling_av_manglende_verdier_og_utstikkere.ipynb\" target=\"_parent\"><img src=\"https://colab.research.google.com/assets/colab-badge.svg\" alt=\"Open In Colab\"/></a>"
      ]
    },
    {
      "cell_type": "markdown",
      "source": [
        "Lasting av nødvendige pakker og bibliotek"
      ],
      "metadata": {
        "id": "GQBTgF29R_ap"
      }
    },
    {
      "cell_type": "code",
      "source": [
        "! pip install pyod"
      ],
      "metadata": {
        "id": "-tRTZpwOSJjX",
        "colab": {
          "base_uri": "https://localhost:8080/"
        },
        "outputId": "685892a0-2452-4cab-8903-df333f0ec710"
      },
      "execution_count": 1,
      "outputs": [
        {
          "output_type": "stream",
          "name": "stdout",
          "text": [
            "Requirement already satisfied: pyod in /usr/local/lib/python3.10/dist-packages (1.1.2)\n",
            "Requirement already satisfied: joblib in /usr/local/lib/python3.10/dist-packages (from pyod) (1.3.2)\n",
            "Requirement already satisfied: matplotlib in /usr/local/lib/python3.10/dist-packages (from pyod) (3.7.1)\n",
            "Requirement already satisfied: numpy>=1.19 in /usr/local/lib/python3.10/dist-packages (from pyod) (1.23.5)\n",
            "Requirement already satisfied: numba>=0.51 in /usr/local/lib/python3.10/dist-packages (from pyod) (0.58.1)\n",
            "Requirement already satisfied: scipy>=1.5.1 in /usr/local/lib/python3.10/dist-packages (from pyod) (1.11.4)\n",
            "Requirement already satisfied: scikit-learn>=0.22.0 in /usr/local/lib/python3.10/dist-packages (from pyod) (1.2.2)\n",
            "Requirement already satisfied: six in /usr/local/lib/python3.10/dist-packages (from pyod) (1.16.0)\n",
            "Requirement already satisfied: llvmlite<0.42,>=0.41.0dev0 in /usr/local/lib/python3.10/dist-packages (from numba>=0.51->pyod) (0.41.1)\n",
            "Requirement already satisfied: threadpoolctl>=2.0.0 in /usr/local/lib/python3.10/dist-packages (from scikit-learn>=0.22.0->pyod) (3.2.0)\n",
            "Requirement already satisfied: contourpy>=1.0.1 in /usr/local/lib/python3.10/dist-packages (from matplotlib->pyod) (1.2.0)\n",
            "Requirement already satisfied: cycler>=0.10 in /usr/local/lib/python3.10/dist-packages (from matplotlib->pyod) (0.12.1)\n",
            "Requirement already satisfied: fonttools>=4.22.0 in /usr/local/lib/python3.10/dist-packages (from matplotlib->pyod) (4.47.2)\n",
            "Requirement already satisfied: kiwisolver>=1.0.1 in /usr/local/lib/python3.10/dist-packages (from matplotlib->pyod) (1.4.5)\n",
            "Requirement already satisfied: packaging>=20.0 in /usr/local/lib/python3.10/dist-packages (from matplotlib->pyod) (23.2)\n",
            "Requirement already satisfied: pillow>=6.2.0 in /usr/local/lib/python3.10/dist-packages (from matplotlib->pyod) (9.4.0)\n",
            "Requirement already satisfied: pyparsing>=2.3.1 in /usr/local/lib/python3.10/dist-packages (from matplotlib->pyod) (3.1.1)\n",
            "Requirement already satisfied: python-dateutil>=2.7 in /usr/local/lib/python3.10/dist-packages (from matplotlib->pyod) (2.8.2)\n"
          ]
        }
      ]
    },
    {
      "cell_type": "markdown",
      "source": [
        "Importering av nødvendige pakker og bibliotek"
      ],
      "metadata": {
        "id": "UnKseMxNSJ5Z"
      }
    },
    {
      "cell_type": "code",
      "source": [
        "import pandas as pd\n",
        "import numpy as np\n",
        "import copy\n",
        "from datetime import datetime\n",
        "\n",
        "import matplotlib.pyplot as plt\n",
        "import seaborn as sns\n",
        "\n",
        "\n",
        "from pyod.models.hbos import HBOS"
      ],
      "metadata": {
        "id": "z6VlWO7ESNWB"
      },
      "execution_count": 17,
      "outputs": []
    },
    {
      "cell_type": "markdown",
      "source": [
        "Importering av data"
      ],
      "metadata": {
        "id": "IMnqlLDKSNpJ"
      }
    },
    {
      "cell_type": "code",
      "source": [
        "from google.colab import drive\n",
        "drive.mount('/content/drive')\n",
        "\n",
        "# Velger første kolonne med dato og tid som index\n",
        "bioco_data = pd.read_csv('/content/drive/MyDrive/MasterV24/Bioco_data/førbehandlet_bioco_data.csv',\n",
        "                         header=0,\n",
        "                         sep=',',\n",
        "                         index_col=0)\n",
        "\n",
        "# Formatterer index til riktig format og datatype\n",
        "bioco_data.index = pd.to_datetime(bioco_data.index,\n",
        "                                  format='%Y-%m-%d %H:%M:%S')"
      ],
      "metadata": {
        "colab": {
          "base_uri": "https://localhost:8080/"
        },
        "id": "3okYBetzSRrr",
        "outputId": "1191f271-6177-4a66-c48e-b68382a027d6"
      },
      "execution_count": 3,
      "outputs": [
        {
          "output_type": "stream",
          "name": "stdout",
          "text": [
            "Drive already mounted at /content/drive; to attempt to forcibly remount, call drive.mount(\"/content/drive\", force_remount=True).\n"
          ]
        }
      ]
    },
    {
      "cell_type": "markdown",
      "source": [
        "# Behandling av manglende verdier"
      ],
      "metadata": {
        "id": "Tdq49s8wNRfK"
      }
    },
    {
      "cell_type": "markdown",
      "source": [
        "Oversikt over antall manglende verider for per kolonne"
      ],
      "metadata": {
        "id": "CWDz5G1g3sHj"
      }
    },
    {
      "cell_type": "code",
      "source": [
        "bioco_data.isnull().sum()"
      ],
      "metadata": {
        "colab": {
          "base_uri": "https://localhost:8080/"
        },
        "id": "x9wbCE2c3yRE",
        "outputId": "4be9443c-5fad-4350-9246-abd421d9d0e1"
      },
      "execution_count": 4,
      "outputs": [
        {
          "output_type": "execute_result",
          "data": {
            "text/plain": [
              "EnzymeType_A1         0\n",
              "EnzymeType_A2         0\n",
              "EnzymeType_B          0\n",
              "EnzymeType_C          0\n",
              "EnzymeType_D          0\n",
              "EnzymeType_E          0\n",
              "RawMatFlow           55\n",
              "WaterFlow            55\n",
              "RawMatPercent        55\n",
              "NIRfat            14187\n",
              "NIRprotein        15731\n",
              "NIRash            13976\n",
              "NIRwater          13958\n",
              "TT07                 50\n",
              "TT08                 45\n",
              "PT03                 25\n",
              "TT20                 25\n",
              "TT09                 15\n",
              "TT12                  0\n",
              "Collagen          43152\n",
              "Mw                42711\n",
              "SmallMolecules    42711\n",
              "BrixAdjusted      42711\n",
              "dtype: int64"
            ]
          },
          "metadata": {},
          "execution_count": 4
        }
      ]
    },
    {
      "cell_type": "markdown",
      "source": [
        "Oversikt over rader med manglende verdier for RawMatflow"
      ],
      "metadata": {
        "id": "bKChyUmFNb4L"
      }
    },
    {
      "cell_type": "code",
      "source": [
        "# Henter ut index til rader med manglende verdier for \"RawMatFlow\"\n",
        "rawmat_manglende_index = bioco_data[bioco_data['RawMatFlow'].isnull()].index\n",
        "\n",
        "# Sjekker hvilke andre kolonner som har manglende verdier for samme rader\n",
        "bioco_data[rawmat_manglende_index[0]:rawmat_manglende_index[-1]].isnull().sum()\n",
        "\n",
        "# Dropper de spesifikke rader fra datasett\n",
        "prosessert_data = bioco_data.drop(bioco_data.loc[rawmat_manglende_index[0]:rawmat_manglende_index[-1]].index)"
      ],
      "metadata": {
        "id": "n4tUgB555yNw"
      },
      "execution_count": 5,
      "outputs": []
    },
    {
      "cell_type": "markdown",
      "source": [
        "## Behandling av manglende verdier for NIR målinger"
      ],
      "metadata": {
        "id": "pt20t9CbcPeK"
      }
    },
    {
      "cell_type": "markdown",
      "source": [
        "### Dropping av bestemte intervaller med manglende verdier"
      ],
      "metadata": {
        "id": "m_b6VbwJeJwf"
      }
    },
    {
      "cell_type": "markdown",
      "source": [
        "Oversikt over rader med manglende verdier for NIRfat"
      ],
      "metadata": {
        "id": "UHwRS04jEDsG"
      }
    },
    {
      "cell_type": "code",
      "source": [
        "# Henter ut index til rader med manglende verdier for \"NIRfat\"\n",
        "nirfat_manglende_index = prosessert_data[prosessert_data['NIRfat'].isnull()].index\n",
        "\n",
        "# Lager liste for å lagre start og slutttid for serie med manglende verdier\n",
        "nirfat_manglende_index_start = list()\n",
        "nirfat_manglende_index_slutt = list()\n",
        "\n",
        "# Legger til starttid for første serie med manglende verdier\n",
        "nirfat_manglende_index_start.append(nirfat_manglende_index[0])\n",
        "\n",
        "# Lagrer alle start og slutttid for serier med manglende verdier\n",
        "for i in range(1, len(nirfat_manglende_index)):\n",
        "  tidsdiff = nirfat_manglende_index[i] - nirfat_manglende_index[i-1]\n",
        "\n",
        "  if tidsdiff.total_seconds() > 60:\n",
        "    nirfat_manglende_index_slutt.append(nirfat_manglende_index[i-1])\n",
        "    nirfat_manglende_index_start.append(nirfat_manglende_index[i])\n",
        "\n",
        "# Legger til slutttid for siste serie med manglende verdier\n",
        "nirfat_manglende_index_slutt.append(nirfat_manglende_index[-1])\n",
        "\n",
        "# Maks grense på korte intervall for interpolering\n",
        "diff_max = 15\n",
        "\n",
        "# Lagring av antall manglende verdier i korte intervaller\n",
        "res_nir_manglende_korteintervall = 0\n",
        "\n",
        "# Lager liste for start og slutt på korte intervaller med manglende verdier for NIRfat\n",
        "nirfat_manglende_maks15 = list()\n",
        "\n",
        "# Lager liste for start og slutt på lengre intervaller med manglende verdier for NIRfat\n",
        "nirfat_manglende_min15 = list()\n",
        "\n",
        "\n",
        "for i,j in zip(nirfat_manglende_index_start, nirfat_manglende_index_slutt):\n",
        "  nirfat_mangel = prosessert_data[i:j].isnull().sum()['NIRfat']\n",
        "\n",
        "# Lagrer alle start og sluttid for korte intervaller mindre enn maks tid\n",
        "  if nirfat_mangel <= diff_max:\n",
        "    nirfat_manglende_maks15.append((i,j))\n",
        "\n",
        "    # Summerer antall manglende verdier i de korte intertaller\n",
        "    res_nir_manglende_korteintervall += nirfat_mangel\n",
        "\n",
        "    # Sjekker om de korte intervaller inneholder kvalitetsmålinger\n",
        "    respons_mangel = prosessert_data[i:j].isnull().sum()[['Collagen',\n",
        "                                                          'Mw',\n",
        "                                                          'SmallMolecules',\n",
        "                                                          'BrixAdjusted']]\n",
        "    if nirfat_mangel > min(respons_mangel.values):\n",
        "      print(\"Tidsintervallet {} til {} har flere manglende NIRfat målinger enn kvalitetsmålinger\".format(i, j))\n",
        "      print(\"NIRfat {}\".format(nirfat_mangel))\n",
        "      print(respons_mangel)\n",
        "\n",
        "# Lagrer alle start og slutttid for lengre intervaller mer enn maks tid\n",
        "  else:\n",
        "    nirfat_manglende_min15.append((i,j))\n",
        "\n",
        "print(res_nir_manglende_korteintervall,\n",
        "      \"av\",\n",
        "      prosessert_data.isnull().sum()['NIRfat'],\n",
        "      \"NIRfat målinger som mangler er i kortere intervaller enn\",\n",
        "      diff_max,\n",
        "      \"min\")\n",
        "\n",
        "# Dropper de intervaller mer enn maks tid med manglende verider for NIRfat\n",
        "for start, end in nirfat_manglende_min15:\n",
        "    prosessert_data = prosessert_data[(prosessert_data.index < start) | (prosessert_data.index > end)]"
      ],
      "metadata": {
        "colab": {
          "base_uri": "https://localhost:8080/"
        },
        "id": "QxPd09zMEIod",
        "outputId": "3cfd6186-dfe5-4297-a3f3-57276e4f9140"
      },
      "execution_count": 6,
      "outputs": [
        {
          "output_type": "stream",
          "name": "stdout",
          "text": [
            "132 av 14132 NIRfat målinger som mangler er i kortere intervaller enn 15 min\n"
          ]
        }
      ]
    },
    {
      "cell_type": "markdown",
      "source": [
        "Oversikt over manglende verdier for NIRwater"
      ],
      "metadata": {
        "id": "LxZxv8kCcJoz"
      }
    },
    {
      "cell_type": "code",
      "source": [
        "# Henter ut index til rader med manglende verdier for \"NIRwater\"\n",
        "nirwater_manglende_index = prosessert_data[prosessert_data['NIRwater'].isnull()].index\n",
        "\n",
        "# Lager liste for å lagre start og slutttid for serie med manglende verdier\n",
        "nirwater_manglende_index_start = list()\n",
        "nirwater_manglende_index_slutt = list()\n",
        "\n",
        "# Legger til starttid for første serie med manglende verdier\n",
        "nirwater_manglende_index_start.append(nirwater_manglende_index[0])\n",
        "\n",
        "# Lagrer alle start og slutttid for serier med manglende verdier\n",
        "for i in range(1, len(nirwater_manglende_index)):\n",
        "  tidsdiff = nirwater_manglende_index[i] - nirwater_manglende_index[i-1]\n",
        "\n",
        "  if tidsdiff.total_seconds() > 60:\n",
        "    nirwater_manglende_index_slutt.append(nirwater_manglende_index[i-1])\n",
        "    nirwater_manglende_index_start.append(nirwater_manglende_index[i])\n",
        "\n",
        "# Legger til sluttid for siste serie med manglende verdier\n",
        "nirwater_manglende_index_slutt.append(nirwater_manglende_index[-1])\n",
        "\n",
        "# Maks grense på korte intervall for interpolering\n",
        "diff_max = 15\n",
        "\n",
        "# Lagring av antall manglende verider i korte intervaller\n",
        "res_water_manglende_korteintervall = 0\n",
        "\n",
        "# Lager liste for start og slutt på korte intervaller med manglende verdier for NIRwater\n",
        "nirwater_manglende_maks15 = list()\n",
        "\n",
        "# Lager liste for start og slutt på lengre intervaller med manglende verdier for NIRwater\n",
        "nirwater_manglende_min15 = list()\n",
        "\n",
        "\n",
        "for i,j in zip(nirwater_manglende_index_start, nirwater_manglende_index_slutt):\n",
        "  nirwater_mangel = prosessert_data[i:j].isnull().sum()['NIRwater']\n",
        "\n",
        "# Lagrer alle start og sluttid for korte intervaller mindre enn maks tid\n",
        "  if nirwater_mangel <= diff_max:\n",
        "    nirwater_manglende_maks15.append((i,j))\n",
        "\n",
        "    # Summerer antall manglende verdier i de korte intertaller\n",
        "    res_water_manglende_korteintervall += nirwater_mangel\n",
        "\n",
        "    # Sjekker om de korte intervaller inneholder kvalitetsmålinger\n",
        "    respons_mangel = prosessert_data[i:j].isnull().sum()[['Collagen',\n",
        "                                                          'Mw',\n",
        "                                                          'SmallMolecules',\n",
        "                                                          'BrixAdjusted']]\n",
        "    if nirwater_mangel > min(respons_mangel.values):\n",
        "      print(\"Tidsintervallet {} til {} har flere manglende NIRwater målinger enn kvalitetsmålinger\".format(i, j))\n",
        "      print(\"NIRwater {}\".format(nirwater_mangel))\n",
        "      print(respons_mangel)\n",
        "\n",
        "# Lagrer alle start og slutttid for lengre intervaller mer enn maks tid\n",
        "  else:\n",
        "    nirwater_manglende_min15.append((i,j))\n",
        "\n",
        "print(res_water_manglende_korteintervall,\n",
        "      \"av\",\n",
        "      prosessert_data.isnull().sum()['NIRwater'],\n",
        "      \"NIRwater målinger som mangler er i kortere intervaller enn\",\n",
        "      diff_max,\n",
        "      \"min\")\n",
        "\n",
        "# Dropper de intervaller mer enn makstid med manglende verdier for NIRwater\n",
        "for start, end in nirwater_manglende_min15:\n",
        "    prosessert_data = prosessert_data[(prosessert_data.index < start) | (prosessert_data.index > end)]"
      ],
      "metadata": {
        "colab": {
          "base_uri": "https://localhost:8080/"
        },
        "id": "KF2_NrB-ZXSs",
        "outputId": "58a6ef55-0998-41fa-c092-0b49b68ddc7f"
      },
      "execution_count": 7,
      "outputs": [
        {
          "output_type": "stream",
          "name": "stdout",
          "text": [
            "144 av 204 NIRwater målinger som mangler er i kortere intervaller enn 15 min\n"
          ]
        }
      ]
    },
    {
      "cell_type": "markdown",
      "source": [
        "Oversikt over manglende verdier for NIRash"
      ],
      "metadata": {
        "id": "ZmJtHYaQb-s5"
      }
    },
    {
      "cell_type": "code",
      "source": [
        "# Henter ut index til rader med manglende verdier for \"NIRash\"\n",
        "nirash_manglende_index = prosessert_data[prosessert_data['NIRash'].isnull()].index\n",
        "\n",
        "# Lager liste for å lagre start og slutttid for serie med manglende verdier\n",
        "nirash_manglende_index_start = list()\n",
        "nirash_manglende_index_slutt = list()\n",
        "\n",
        "# Legger til starttid for første serie med manglende verdier\n",
        "nirash_manglende_index_start.append(nirash_manglende_index[0])\n",
        "\n",
        "# Lagrer alle start og slutttid for serier med manglende verdier\n",
        "for i in range(1, len(nirash_manglende_index)):\n",
        "  tidsdiff = nirash_manglende_index[i] - nirash_manglende_index[i-1]\n",
        "\n",
        "  if tidsdiff.total_seconds() > 60:\n",
        "    nirash_manglende_index_slutt.append(nirash_manglende_index[i-1])\n",
        "    nirash_manglende_index_start.append(nirash_manglende_index[i])\n",
        "\n",
        "# Legger til sluttid for siste serie med manglende verdier\n",
        "nirash_manglende_index_slutt.append(nirash_manglende_index[-1])\n",
        "\n",
        "# Maks grense på korte intervall for interpolering\n",
        "diff_max = 15\n",
        "\n",
        "# Lagring av antall manglende verider i korte intervaller\n",
        "res_ash_manglende_korteintervall = 0\n",
        "\n",
        "# Lager liste for start og slutt på korte intervaller med manglende verdier for NIRash\n",
        "nirash_manglende_maks15 = list()\n",
        "\n",
        "# Lager liste for start og slutt på lengre intervaller med manglende verdier for NIRash\n",
        "nirash_manglende_min15 = list()\n",
        "\n",
        "\n",
        "for i,j in zip(nirash_manglende_index_start, nirash_manglende_index_slutt):\n",
        "  nirash_mangel = prosessert_data[i:j].isnull().sum()['NIRash']\n",
        "\n",
        "# Lagrer alle start og sluttid for korte intervaller mindre enn maks tid\n",
        "  if nirash_mangel <= diff_max:\n",
        "    nirash_manglende_maks15.append((i,j))\n",
        "\n",
        "    # Summerer antall manglende verdier i de korte intertaller\n",
        "    res_water_manglende_korteintervall += nirash_mangel\n",
        "\n",
        "    # Sjekker om de korte intervaller inneholder kvalitetsmålinger\n",
        "    respons_mangel = prosessert_data[i:j].isnull().sum()[['Collagen',\n",
        "                                                          'Mw',\n",
        "                                                          'SmallMolecules',\n",
        "                                                          'BrixAdjusted']]\n",
        "    if nirash_mangel > min(respons_mangel.values):\n",
        "      print(\"Tidsintervallet {} til {} har flere manglende NIRash målinger enn kvalitetsmålinger\".format(i, j))\n",
        "      print(\"NIRash {}\".format(nirash_mangel))\n",
        "      print(respons_mangel)\n",
        "\n",
        "# Lagrer alle start og slutttid for lengre intervaller mer enn maks tid\n",
        "  else:\n",
        "    nirash_manglende_min15.append((i,j))\n",
        "\n",
        "print(res_ash_manglende_korteintervall,\n",
        "      \"av\",\n",
        "      prosessert_data.isnull().sum()['NIRash'],\n",
        "      \"NIRash målinger som mangler er i kortere intervaller enn\",\n",
        "      diff_max,\n",
        "      \"min\")"
      ],
      "metadata": {
        "colab": {
          "base_uri": "https://localhost:8080/"
        },
        "id": "mMkDl1LVb_MU",
        "outputId": "fd2448d3-efbb-4dbc-f1d9-acf836455d13"
      },
      "execution_count": 8,
      "outputs": [
        {
          "output_type": "stream",
          "name": "stdout",
          "text": [
            "0 av 148 NIRash målinger som mangler er i kortere intervaller enn 15 min\n"
          ]
        }
      ]
    },
    {
      "cell_type": "markdown",
      "source": [
        "## Interpolering av resterende manglende verdier"
      ],
      "metadata": {
        "id": "l8YlCiEEeCYz"
      }
    },
    {
      "cell_type": "markdown",
      "source": [
        "LOF for behandling av manglende verdier"
      ],
      "metadata": {
        "id": "6xNnTvgJiyWd"
      }
    },
    {
      "cell_type": "code",
      "source": [
        "# Datasett for prediktorer\n",
        "prediktorer = prosessert_data.iloc[:, :-4].columns\n",
        "\n",
        "# Går gjennom prediktorer og interpolerer med LOF\n",
        "for prediktor in prediktorer:\n",
        "  prosessert_data[prediktor] = prosessert_data[prediktor].fillna(method = 'ffill')"
      ],
      "metadata": {
        "id": "En9GXBaPgjlO"
      },
      "execution_count": 13,
      "outputs": []
    },
    {
      "cell_type": "markdown",
      "source": [
        "# Inspeksjon av mulige ekstremverdier"
      ],
      "metadata": {
        "id": "xpv8M0zUHpSG"
      }
    },
    {
      "cell_type": "markdown",
      "source": [
        "Henter prediktorer verdiene som skal undersøkes"
      ],
      "metadata": {
        "id": "GPIUlrCue5_t"
      }
    },
    {
      "cell_type": "code",
      "source": [
        "prediktor_data = prosessert_data.iloc[:, :-4]\n",
        "X = prediktor_data.values"
      ],
      "metadata": {
        "id": "Y_prRRHde5Ra"
      },
      "execution_count": 14,
      "outputs": []
    },
    {
      "cell_type": "markdown",
      "source": [
        "## Ekstremverdi inspeksjon med HBOS"
      ],
      "metadata": {
        "id": "v2-00O35Hwnc"
      }
    },
    {
      "cell_type": "code",
      "source": [
        "hbos = HBOS()\n",
        "hbos.fit(X)\n",
        "\n",
        "y_predikert = hbos.labels_\n",
        "y_scores = hbos.decision_scores_"
      ],
      "metadata": {
        "id": "V50HeXX5IGAs"
      },
      "execution_count": 15,
      "outputs": []
    },
    {
      "cell_type": "markdown",
      "source": [
        "Oppdeling av original datasett for hver kvalitetsmåling"
      ],
      "metadata": {
        "id": "F6D9oFXxN21p"
      }
    },
    {
      "cell_type": "code",
      "execution_count": null,
      "metadata": {
        "id": "NHPC7AUM7EFp"
      },
      "outputs": [],
      "source": [
        "# Trekker ut prediktorer som et eget datasett\n",
        "prediktor_data = bioco_rå_data.iloc[:, :-4]\n",
        "\n",
        "# Datasett for \"Collagen\"\n",
        "collagen_datasett = pd.concat([prediktor,\n",
        "                               bioco_rå_data['Collagen']],\n",
        "                              axis=1)\n",
        "\n",
        "# Datasett for \"Mw\"\n",
        "mw_datasett = pd.concat([prediktor,\n",
        "                         bioco_rå_data['Mw']],\n",
        "                        axis=1)\n",
        "\n",
        "# Datasett for \"SmallMolecules\"\n",
        "smallmolecules_datasett = pd.concat([prediktor,\n",
        "                                     bioco_rå_data['SmallMolecules']],\n",
        "                                    axis=1)\n",
        "\n",
        "# Datasett for \"BrixAdjusted\"\n",
        "brixadjusted_datasett = pd.concat([prediktor,\n",
        "                                   bioco_rå_data['BrixAdjusted']],\n",
        "                                  axis=1)"
      ]
    },
    {
      "cell_type": "markdown",
      "source": [
        "Lagrer hvert datasett som csv"
      ],
      "metadata": {
        "id": "RCkELUJ5N9Tl"
      }
    },
    {
      "cell_type": "code",
      "source": [
        "# Collagen datasett som csv fil\n",
        "collagen_datasett.to_csv('')"
      ],
      "metadata": {
        "id": "K1CZmo6ZN_hi"
      },
      "execution_count": null,
      "outputs": []
    }
  ]
}