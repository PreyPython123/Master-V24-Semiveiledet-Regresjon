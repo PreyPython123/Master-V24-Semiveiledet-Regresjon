{
  "nbformat": 4,
  "nbformat_minor": 0,
  "metadata": {
    "colab": {
      "provenance": [],
      "authorship_tag": "ABX9TyM5abzXP+beD7SZCQ1BkkeS",
      "include_colab_link": true
    },
    "kernelspec": {
      "name": "python3",
      "display_name": "Python 3"
    },
    "language_info": {
      "name": "python"
    }
  },
  "cells": [
    {
      "cell_type": "markdown",
      "metadata": {
        "id": "view-in-github",
        "colab_type": "text"
      },
      "source": [
        "<a href=\"https://colab.research.google.com/github/PreyPython123/Master-V24-Semiveiledet-Regresjon/blob/Databehandling-Pradeep/Bioco_Databehandling_av_manglende_verdier_og_utstikkere.ipynb\" target=\"_parent\"><img src=\"https://colab.research.google.com/assets/colab-badge.svg\" alt=\"Open In Colab\"/></a>"
      ]
    },
    {
      "cell_type": "markdown",
      "source": [
        "Lasting av nødvendige pakker og bibliotek"
      ],
      "metadata": {
        "id": "GQBTgF29R_ap"
      }
    },
    {
      "cell_type": "code",
      "source": [],
      "metadata": {
        "id": "-tRTZpwOSJjX"
      },
      "execution_count": null,
      "outputs": []
    },
    {
      "cell_type": "markdown",
      "source": [
        "Importering av nødvendige pakker og bibliotek"
      ],
      "metadata": {
        "id": "UnKseMxNSJ5Z"
      }
    },
    {
      "cell_type": "code",
      "source": [
        "import pandas as pd\n",
        "import numpy as np"
      ],
      "metadata": {
        "id": "z6VlWO7ESNWB"
      },
      "execution_count": 2,
      "outputs": []
    },
    {
      "cell_type": "markdown",
      "source": [
        "Importering av data"
      ],
      "metadata": {
        "id": "IMnqlLDKSNpJ"
      }
    },
    {
      "cell_type": "code",
      "source": [
        "from google.colab import drive\n",
        "drive.mount('/content/drive')\n",
        "\n",
        "# Velger første kolonne med dato og tid som index\n",
        "bioco_data = pd.read_csv('/content/drive/MyDrive/MasterV24/Bioco_data/førbehandlet_bioco_data.csv',\n",
        "                         header=0,\n",
        "                         sep=';',\n",
        "                         index_col=0)"
      ],
      "metadata": {
        "colab": {
          "base_uri": "https://localhost:8080/"
        },
        "id": "3okYBetzSRrr",
        "outputId": "3fa09c79-7069-4c0c-cb3b-b60dc94be5d8"
      },
      "execution_count": 4,
      "outputs": [
        {
          "output_type": "stream",
          "name": "stdout",
          "text": [
            "Drive already mounted at /content/drive; to attempt to forcibly remount, call drive.mount(\"/content/drive\", force_remount=True).\n"
          ]
        }
      ]
    },
    {
      "cell_type": "markdown",
      "source": [
        "Oppdeling av original datasett for hver kvalitetsmåling"
      ],
      "metadata": {
        "id": "F6D9oFXxN21p"
      }
    },
    {
      "cell_type": "code",
      "execution_count": null,
      "metadata": {
        "id": "NHPC7AUM7EFp"
      },
      "outputs": [],
      "source": [
        "# Trekker ut forklaringsvariabler som et eget datasett\n",
        "forklaringsvariabler_data = bioco_rå_data.iloc[:, :-4]\n",
        "\n",
        "# Datasett for \"Collagen\"\n",
        "collagen_datasett = pd.concat([forklaringsvariabler_data,\n",
        "                               bioco_rå_data['Collagen']],\n",
        "                              axis=1)\n",
        "\n",
        "# Datasett for \"Mw\"\n",
        "mw_datasett = pd.concat([forklaringsvariabler_data,\n",
        "                         bioco_rå_data['Mw']],\n",
        "                        axis=1)\n",
        "\n",
        "# Datasett for \"SmallMolecules\"\n",
        "smallmolecules_datasett = pd.concat([forklaringsvariabler_data,\n",
        "                                     bioco_rå_data['SmallMolecules']],\n",
        "                                    axis=1)\n",
        "\n",
        "# Datasett for \"BrixAdjusted\"\n",
        "brixadjusted_datasett = pd.concat([forklaringsvariabler_data,\n",
        "                                   bioco_rå_data['BrixAdjusted']],\n",
        "                                  axis=1)"
      ]
    },
    {
      "cell_type": "markdown",
      "source": [
        "Lagrer hvert datasett som csv"
      ],
      "metadata": {
        "id": "RCkELUJ5N9Tl"
      }
    },
    {
      "cell_type": "code",
      "source": [
        "# Collagen datasett som csv fil\n",
        "collagen_datasett.to_csv('')"
      ],
      "metadata": {
        "id": "K1CZmo6ZN_hi"
      },
      "execution_count": null,
      "outputs": []
    }
  ]
}