{
  "nbformat": 4,
  "nbformat_minor": 0,
  "metadata": {
    "colab": {
      "provenance": [],
      "authorship_tag": "ABX9TyOYVKAz4dkUzEYgtRWzidws",
      "include_colab_link": true
    },
    "kernelspec": {
      "name": "python3",
      "display_name": "Python 3"
    },
    "language_info": {
      "name": "python"
    }
  },
  "cells": [
    {
      "cell_type": "markdown",
      "metadata": {
        "id": "view-in-github",
        "colab_type": "text"
      },
      "source": [
        "<a href=\"https://colab.research.google.com/github/PreyPython123/Master-V24-Semiveiledet-Regresjon/blob/Databehandling-Pradeep/Bioco_Databehandling_av_manglende_verdier_og_utstikkere.ipynb\" target=\"_parent\"><img src=\"https://colab.research.google.com/assets/colab-badge.svg\" alt=\"Open In Colab\"/></a>"
      ]
    },
    {
      "cell_type": "markdown",
      "source": [
        "Lasting av nødvendige pakker og bibliotek"
      ],
      "metadata": {
        "id": "GQBTgF29R_ap"
      }
    },
    {
      "cell_type": "code",
      "source": [
        "! pip install pyod"
      ],
      "metadata": {
        "id": "-tRTZpwOSJjX",
        "colab": {
          "base_uri": "https://localhost:8080/"
        },
        "outputId": "512426d6-aa4c-4913-bbd6-ea3f1a93f8f5"
      },
      "execution_count": null,
      "outputs": [
        {
          "output_type": "stream",
          "name": "stdout",
          "text": [
            "Collecting pyod\n",
            "  Downloading pyod-1.1.2.tar.gz (160 kB)\n",
            "\u001b[?25l     \u001b[90m━━━━━━━━━━━━━━━━━━━━━━━━━━━━━━━━━━━━━━━━\u001b[0m \u001b[32m0.0/160.5 kB\u001b[0m \u001b[31m?\u001b[0m eta \u001b[36m-:--:--\u001b[0m\r\u001b[2K     \u001b[91m━━━━━━━━━━━━━━━━━━━━━━━━━━━━━━━━━━━━━━\u001b[0m\u001b[90m╺\u001b[0m\u001b[90m━\u001b[0m \u001b[32m153.6/160.5 kB\u001b[0m \u001b[31m4.7 MB/s\u001b[0m eta \u001b[36m0:00:01\u001b[0m\r\u001b[2K     \u001b[90m━━━━━━━━━━━━━━━━━━━━━━━━━━━━━━━━━━━━━━━━\u001b[0m \u001b[32m160.5/160.5 kB\u001b[0m \u001b[31m3.3 MB/s\u001b[0m eta \u001b[36m0:00:00\u001b[0m\n",
            "\u001b[?25h  Preparing metadata (setup.py) ... \u001b[?25l\u001b[?25hdone\n",
            "Requirement already satisfied: joblib in /usr/local/lib/python3.10/dist-packages (from pyod) (1.3.2)\n",
            "Requirement already satisfied: matplotlib in /usr/local/lib/python3.10/dist-packages (from pyod) (3.7.1)\n",
            "Requirement already satisfied: numpy>=1.19 in /usr/local/lib/python3.10/dist-packages (from pyod) (1.23.5)\n",
            "Requirement already satisfied: numba>=0.51 in /usr/local/lib/python3.10/dist-packages (from pyod) (0.58.1)\n",
            "Requirement already satisfied: scipy>=1.5.1 in /usr/local/lib/python3.10/dist-packages (from pyod) (1.11.4)\n",
            "Requirement already satisfied: scikit_learn>=0.22.0 in /usr/local/lib/python3.10/dist-packages (from pyod) (1.2.2)\n",
            "Requirement already satisfied: six in /usr/local/lib/python3.10/dist-packages (from pyod) (1.16.0)\n",
            "Requirement already satisfied: llvmlite<0.42,>=0.41.0dev0 in /usr/local/lib/python3.10/dist-packages (from numba>=0.51->pyod) (0.41.1)\n",
            "Requirement already satisfied: threadpoolctl>=2.0.0 in /usr/local/lib/python3.10/dist-packages (from scikit_learn>=0.22.0->pyod) (3.2.0)\n",
            "Requirement already satisfied: contourpy>=1.0.1 in /usr/local/lib/python3.10/dist-packages (from matplotlib->pyod) (1.2.0)\n",
            "Requirement already satisfied: cycler>=0.10 in /usr/local/lib/python3.10/dist-packages (from matplotlib->pyod) (0.12.1)\n",
            "Requirement already satisfied: fonttools>=4.22.0 in /usr/local/lib/python3.10/dist-packages (from matplotlib->pyod) (4.47.2)\n",
            "Requirement already satisfied: kiwisolver>=1.0.1 in /usr/local/lib/python3.10/dist-packages (from matplotlib->pyod) (1.4.5)\n",
            "Requirement already satisfied: packaging>=20.0 in /usr/local/lib/python3.10/dist-packages (from matplotlib->pyod) (23.2)\n",
            "Requirement already satisfied: pillow>=6.2.0 in /usr/local/lib/python3.10/dist-packages (from matplotlib->pyod) (9.4.0)\n",
            "Requirement already satisfied: pyparsing>=2.3.1 in /usr/local/lib/python3.10/dist-packages (from matplotlib->pyod) (3.1.1)\n",
            "Requirement already satisfied: python-dateutil>=2.7 in /usr/local/lib/python3.10/dist-packages (from matplotlib->pyod) (2.8.2)\n",
            "Building wheels for collected packages: pyod\n",
            "  Building wheel for pyod (setup.py) ... \u001b[?25l\u001b[?25hdone\n",
            "  Created wheel for pyod: filename=pyod-1.1.2-py3-none-any.whl size=190292 sha256=3b25192cc965da1d46d65e2437cda01f40b5839cc9db8ed97a7beea499800609\n",
            "  Stored in directory: /root/.cache/pip/wheels/81/1b/61/aa85b78c3c0c8871f4231e3f4a03bb23cecb7db829498380ee\n",
            "Successfully built pyod\n",
            "Installing collected packages: pyod\n",
            "Successfully installed pyod-1.1.2\n"
          ]
        }
      ]
    },
    {
      "cell_type": "markdown",
      "source": [
        "Importering av nødvendige pakker og bibliotek"
      ],
      "metadata": {
        "id": "UnKseMxNSJ5Z"
      }
    },
    {
      "cell_type": "code",
      "source": [
        "import pandas as pd\n",
        "import numpy as np\n",
        "\n",
        "from pyod.models.hbos import HBOS"
      ],
      "metadata": {
        "id": "z6VlWO7ESNWB"
      },
      "execution_count": null,
      "outputs": []
    },
    {
      "cell_type": "markdown",
      "source": [
        "Importering av data"
      ],
      "metadata": {
        "id": "IMnqlLDKSNpJ"
      }
    },
    {
      "cell_type": "code",
      "source": [
        "from google.colab import drive\n",
        "drive.mount('/content/drive')\n",
        "\n",
        "# Velger første kolonne med dato og tid som index\n",
        "bioco_data = pd.read_csv('/content/drive/MyDrive/MasterV24/Bioco_data/førbehandlet_bioco_data.csv',\n",
        "                         header=0,\n",
        "                         sep=',',\n",
        "                         index_col=0)"
      ],
      "metadata": {
        "colab": {
          "base_uri": "https://localhost:8080/"
        },
        "id": "3okYBetzSRrr",
        "outputId": "44456c50-7c05-45a7-a9a6-d2c99d7772df"
      },
      "execution_count": null,
      "outputs": [
        {
          "output_type": "stream",
          "name": "stdout",
          "text": [
            "Drive already mounted at /content/drive; to attempt to forcibly remount, call drive.mount(\"/content/drive\", force_remount=True).\n"
          ]
        }
      ]
    },
    {
      "cell_type": "markdown",
      "source": [
        "Oppdeling av data til prediktorer- og responsvariabler"
      ],
      "metadata": {
        "id": "KKG9d0VKJwry"
      }
    },
    {
      "cell_type": "code",
      "source": [
        "# Datasett for prediktorer\n",
        "prediktor_data = bioco_data.iloc[:, :-4]\n",
        "\n",
        "# Verdier for prediktorer\n",
        "X = prediktor_data.values\n",
        "\n",
        "# Datasett for hver kvalitetsmåling\n",
        "collagen = bioco_data['Collagen']\n",
        "mw = bioco_data['Mw']\n",
        "smallmolecules = bioco_data['SmallMolecules']\n",
        "brixadjusted = bioco_data['BrixAdjusted']"
      ],
      "metadata": {
        "id": "Svt4JDn6KH2-"
      },
      "execution_count": null,
      "outputs": []
    },
    {
      "cell_type": "markdown",
      "source": [
        "# Behandling av manglende verdier"
      ],
      "metadata": {
        "id": "Tdq49s8wNRfK"
      }
    },
    {
      "cell_type": "markdown",
      "source": [
        "Oversikt over antall manglende verider for per kolonne"
      ],
      "metadata": {
        "id": "CWDz5G1g3sHj"
      }
    },
    {
      "cell_type": "code",
      "source": [
        "bioco_data.isnull().sum()"
      ],
      "metadata": {
        "colab": {
          "base_uri": "https://localhost:8080/"
        },
        "id": "x9wbCE2c3yRE",
        "outputId": "07f8d79c-4430-4265-d929-00abbe0a167c"
      },
      "execution_count": 36,
      "outputs": [
        {
          "output_type": "execute_result",
          "data": {
            "text/plain": [
              "EnzymeType_A1         0\n",
              "EnzymeType_A2         0\n",
              "EnzymeType_B          0\n",
              "EnzymeType_C          0\n",
              "EnzymeType_D          0\n",
              "EnzymeType_E          0\n",
              "RawMatFlow            0\n",
              "WaterFlow             0\n",
              "RawMatPercent         0\n",
              "NIRfat            14132\n",
              "NIRprotein        15676\n",
              "NIRash            13921\n",
              "NIRwater          13903\n",
              "TT07                  0\n",
              "TT08                  0\n",
              "PT03                  0\n",
              "TT20                  0\n",
              "TT09                  0\n",
              "TT12                  0\n",
              "Collagen          43097\n",
              "Mw                42656\n",
              "SmallMolecules    42656\n",
              "BrixAdjusted      42656\n",
              "dtype: int64"
            ]
          },
          "metadata": {},
          "execution_count": 36
        }
      ]
    },
    {
      "cell_type": "markdown",
      "source": [
        "Oversikt over rader med manglende verdier for RawMatflow"
      ],
      "metadata": {
        "id": "bKChyUmFNb4L"
      }
    },
    {
      "cell_type": "code",
      "source": [
        "# Henter ut index til rader med manglende verdier for \"RawMatFlow\"\n",
        "rawmat_manglende_index = bioco_data[bioco_data['RawMatFlow'].isnull()].index\n",
        "\n",
        "# Sjekker hvilke andre kolonner som har manglende verdier for samme rader\n",
        "bioco_data[rawmat_manglende_index[0]:rawmat_manglende_index[-1]].isnull().sum()\n",
        "\n",
        "# Sletter de spesifikke rader fra datasett\n",
        "bioco_data.drop(bioco_data.loc[rawmat_manglende_index[0]:rawmat_manglende_index[-1]].index,\n",
        "                inplace=True)"
      ],
      "metadata": {
        "id": "n4tUgB555yNw"
      },
      "execution_count": null,
      "outputs": []
    },
    {
      "cell_type": "markdown",
      "source": [
        "Oversikt over rader med manglende verdier for NIRfat"
      ],
      "metadata": {
        "id": "UHwRS04jEDsG"
      }
    },
    {
      "cell_type": "code",
      "source": [
        "# Henter ut index til rader med manglende verdier for \"NIRfat\"\n",
        "nirfat_manglende_index = bioco_data[bioco_data['NIRfat'].isnull()].index"
      ],
      "metadata": {
        "id": "QxPd09zMEIod"
      },
      "execution_count": 42,
      "outputs": []
    },
    {
      "cell_type": "markdown",
      "source": [
        "# Inspeksjon av mulige ekstremverdier"
      ],
      "metadata": {
        "id": "xpv8M0zUHpSG"
      }
    },
    {
      "cell_type": "markdown",
      "source": [
        "## Ekstremverdi inspeksjon med HBOS"
      ],
      "metadata": {
        "id": "v2-00O35Hwnc"
      }
    },
    {
      "cell_type": "code",
      "source": [
        "hbos = HBOS()\n",
        "hbos.fit(X)\n",
        "\n",
        "y_predikert = hbos.labels_\n",
        "y_scores = hbos.decision_scores_"
      ],
      "metadata": {
        "colab": {
          "base_uri": "https://localhost:8080/",
          "height": 408
        },
        "id": "V50HeXX5IGAs",
        "outputId": "180c23f4-247b-4513-f38c-12d8c55fb6fe"
      },
      "execution_count": null,
      "outputs": [
        {
          "output_type": "error",
          "ename": "ValueError",
          "evalue": "Input contains NaN.",
          "traceback": [
            "\u001b[0;31m---------------------------------------------------------------------------\u001b[0m",
            "\u001b[0;31mValueError\u001b[0m                                Traceback (most recent call last)",
            "\u001b[0;32m<ipython-input-13-3294d88800e9>\u001b[0m in \u001b[0;36m<cell line: 2>\u001b[0;34m()\u001b[0m\n\u001b[1;32m      1\u001b[0m \u001b[0mhbos\u001b[0m \u001b[0;34m=\u001b[0m \u001b[0mHBOS\u001b[0m\u001b[0;34m(\u001b[0m\u001b[0;34m)\u001b[0m\u001b[0;34m\u001b[0m\u001b[0;34m\u001b[0m\u001b[0m\n\u001b[0;32m----> 2\u001b[0;31m \u001b[0mhbos\u001b[0m\u001b[0;34m.\u001b[0m\u001b[0mfit\u001b[0m\u001b[0;34m(\u001b[0m\u001b[0mX\u001b[0m\u001b[0;34m)\u001b[0m\u001b[0;34m\u001b[0m\u001b[0;34m\u001b[0m\u001b[0m\n\u001b[0m\u001b[1;32m      3\u001b[0m \u001b[0;34m\u001b[0m\u001b[0m\n\u001b[1;32m      4\u001b[0m \u001b[0my_predikert\u001b[0m \u001b[0;34m=\u001b[0m \u001b[0mhbos\u001b[0m\u001b[0;34m.\u001b[0m\u001b[0mlabels_\u001b[0m\u001b[0;34m\u001b[0m\u001b[0;34m\u001b[0m\u001b[0m\n\u001b[1;32m      5\u001b[0m \u001b[0my_scores\u001b[0m \u001b[0;34m=\u001b[0m \u001b[0mhbos\u001b[0m\u001b[0;34m.\u001b[0m\u001b[0mdecision_scores_\u001b[0m\u001b[0;34m\u001b[0m\u001b[0;34m\u001b[0m\u001b[0m\n",
            "\u001b[0;32m/usr/local/lib/python3.10/dist-packages/pyod/models/hbos.py\u001b[0m in \u001b[0;36mfit\u001b[0;34m(self, X, y)\u001b[0m\n\u001b[1;32m    100\u001b[0m         \"\"\"\n\u001b[1;32m    101\u001b[0m         \u001b[0;31m# validate inputs X and y (optional)\u001b[0m\u001b[0;34m\u001b[0m\u001b[0;34m\u001b[0m\u001b[0m\n\u001b[0;32m--> 102\u001b[0;31m         \u001b[0mX\u001b[0m \u001b[0;34m=\u001b[0m \u001b[0mcheck_array\u001b[0m\u001b[0;34m(\u001b[0m\u001b[0mX\u001b[0m\u001b[0;34m)\u001b[0m\u001b[0;34m\u001b[0m\u001b[0;34m\u001b[0m\u001b[0m\n\u001b[0m\u001b[1;32m    103\u001b[0m         \u001b[0mself\u001b[0m\u001b[0;34m.\u001b[0m\u001b[0m_set_n_classes\u001b[0m\u001b[0;34m(\u001b[0m\u001b[0my\u001b[0m\u001b[0;34m)\u001b[0m\u001b[0;34m\u001b[0m\u001b[0;34m\u001b[0m\u001b[0m\n\u001b[1;32m    104\u001b[0m \u001b[0;34m\u001b[0m\u001b[0m\n",
            "\u001b[0;32m/usr/local/lib/python3.10/dist-packages/sklearn/utils/validation.py\u001b[0m in \u001b[0;36mcheck_array\u001b[0;34m(array, accept_sparse, accept_large_sparse, dtype, order, copy, force_all_finite, ensure_2d, allow_nd, ensure_min_samples, ensure_min_features, estimator, input_name)\u001b[0m\n\u001b[1;32m    919\u001b[0m \u001b[0;34m\u001b[0m\u001b[0m\n\u001b[1;32m    920\u001b[0m         \u001b[0;32mif\u001b[0m \u001b[0mforce_all_finite\u001b[0m\u001b[0;34m:\u001b[0m\u001b[0;34m\u001b[0m\u001b[0;34m\u001b[0m\u001b[0m\n\u001b[0;32m--> 921\u001b[0;31m             _assert_all_finite(\n\u001b[0m\u001b[1;32m    922\u001b[0m                 \u001b[0marray\u001b[0m\u001b[0;34m,\u001b[0m\u001b[0;34m\u001b[0m\u001b[0;34m\u001b[0m\u001b[0m\n\u001b[1;32m    923\u001b[0m                 \u001b[0minput_name\u001b[0m\u001b[0;34m=\u001b[0m\u001b[0minput_name\u001b[0m\u001b[0;34m,\u001b[0m\u001b[0;34m\u001b[0m\u001b[0;34m\u001b[0m\u001b[0m\n",
            "\u001b[0;32m/usr/local/lib/python3.10/dist-packages/sklearn/utils/validation.py\u001b[0m in \u001b[0;36m_assert_all_finite\u001b[0;34m(X, allow_nan, msg_dtype, estimator_name, input_name)\u001b[0m\n\u001b[1;32m    159\u001b[0m                 \u001b[0;34m\"#estimators-that-handle-nan-values\"\u001b[0m\u001b[0;34m\u001b[0m\u001b[0;34m\u001b[0m\u001b[0m\n\u001b[1;32m    160\u001b[0m             )\n\u001b[0;32m--> 161\u001b[0;31m         \u001b[0;32mraise\u001b[0m \u001b[0mValueError\u001b[0m\u001b[0;34m(\u001b[0m\u001b[0mmsg_err\u001b[0m\u001b[0;34m)\u001b[0m\u001b[0;34m\u001b[0m\u001b[0;34m\u001b[0m\u001b[0m\n\u001b[0m\u001b[1;32m    162\u001b[0m \u001b[0;34m\u001b[0m\u001b[0m\n\u001b[1;32m    163\u001b[0m \u001b[0;34m\u001b[0m\u001b[0m\n",
            "\u001b[0;31mValueError\u001b[0m: Input contains NaN."
          ]
        }
      ]
    },
    {
      "cell_type": "markdown",
      "source": [
        "Oppdeling av original datasett for hver kvalitetsmåling"
      ],
      "metadata": {
        "id": "F6D9oFXxN21p"
      }
    },
    {
      "cell_type": "code",
      "execution_count": null,
      "metadata": {
        "id": "NHPC7AUM7EFp"
      },
      "outputs": [],
      "source": [
        "# Trekker ut prediktorer som et eget datasett\n",
        "prediktor_data = bioco_rå_data.iloc[:, :-4]\n",
        "\n",
        "# Datasett for \"Collagen\"\n",
        "collagen_datasett = pd.concat([prediktor,\n",
        "                               bioco_rå_data['Collagen']],\n",
        "                              axis=1)\n",
        "\n",
        "# Datasett for \"Mw\"\n",
        "mw_datasett = pd.concat([prediktor,\n",
        "                         bioco_rå_data['Mw']],\n",
        "                        axis=1)\n",
        "\n",
        "# Datasett for \"SmallMolecules\"\n",
        "smallmolecules_datasett = pd.concat([prediktor,\n",
        "                                     bioco_rå_data['SmallMolecules']],\n",
        "                                    axis=1)\n",
        "\n",
        "# Datasett for \"BrixAdjusted\"\n",
        "brixadjusted_datasett = pd.concat([prediktor,\n",
        "                                   bioco_rå_data['BrixAdjusted']],\n",
        "                                  axis=1)"
      ]
    },
    {
      "cell_type": "markdown",
      "source": [
        "Lagrer hvert datasett som csv"
      ],
      "metadata": {
        "id": "RCkELUJ5N9Tl"
      }
    },
    {
      "cell_type": "code",
      "source": [
        "# Collagen datasett som csv fil\n",
        "collagen_datasett.to_csv('')"
      ],
      "metadata": {
        "id": "K1CZmo6ZN_hi"
      },
      "execution_count": null,
      "outputs": []
    }
  ]
}