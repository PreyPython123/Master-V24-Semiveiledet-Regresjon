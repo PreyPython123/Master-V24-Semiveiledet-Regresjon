{
  "nbformat": 4,
  "nbformat_minor": 0,
  "metadata": {
    "colab": {
      "provenance": [],
      "authorship_tag": "ABX9TyNKkqZBqfAPCFFhcTzWrFu4",
      "include_colab_link": true
    },
    "kernelspec": {
      "name": "python3",
      "display_name": "Python 3"
    },
    "language_info": {
      "name": "python"
    }
  },
  "cells": [
    {
      "cell_type": "markdown",
      "metadata": {
        "id": "view-in-github",
        "colab_type": "text"
      },
      "source": [
        "<a href=\"https://colab.research.google.com/github/PreyPython123/Master-V24-Semiveiledet-Regresjon/blob/Dataforst%C3%A5else-og-unders%C3%B8kelse-Pradeep/Bioco_Dataforst%C3%A5else%2C_Dataunders%C3%B8kelse_og_Visualisering.ipynb\" target=\"_parent\"><img src=\"https://colab.research.google.com/assets/colab-badge.svg\" alt=\"Open In Colab\"/></a>"
      ]
    },
    {
      "cell_type": "markdown",
      "source": [
        "# Dataforståelse og Dataundersøkelse"
      ],
      "metadata": {
        "id": "eHvpz3Tjb1L-"
      }
    },
    {
      "cell_type": "markdown",
      "source": [
        "Lasting av nødvendige bibiotek og pakker"
      ],
      "metadata": {
        "id": "KUiU9Upmy76L"
      }
    },
    {
      "cell_type": "code",
      "source": [
        "!pip install hoggorm\n",
        "!pip install hoggormPlot"
      ],
      "metadata": {
        "colab": {
          "base_uri": "https://localhost:8080/"
        },
        "id": "fz7-W0DBzHAc",
        "outputId": "4c17144e-8274-43f5-95b0-fc99dfb66aac"
      },
      "execution_count": 1,
      "outputs": [
        {
          "output_type": "stream",
          "name": "stdout",
          "text": [
            "Collecting hoggorm\n",
            "  Downloading hoggorm-0.13.3-py2.py3-none-any.whl (47 kB)\n",
            "\u001b[?25l     \u001b[90m━━━━━━━━━━━━━━━━━━━━━━━━━━━━━━━━━━━━━━━━\u001b[0m \u001b[32m0.0/47.6 kB\u001b[0m \u001b[31m?\u001b[0m eta \u001b[36m-:--:--\u001b[0m\r\u001b[2K     \u001b[90m━━━━━━━━━━━━━━━━━━━━━━━━━━━━━━━━━━━━━━━━\u001b[0m \u001b[32m47.6/47.6 kB\u001b[0m \u001b[31m1.2 MB/s\u001b[0m eta \u001b[36m0:00:00\u001b[0m\n",
            "\u001b[?25hRequirement already satisfied: numpy>=1.9 in /usr/local/lib/python3.10/dist-packages (from hoggorm) (1.23.5)\n",
            "Installing collected packages: hoggorm\n",
            "Successfully installed hoggorm-0.13.3\n",
            "Collecting hoggormPlot\n",
            "  Downloading hoggormplot-0.13.2-py2.py3-none-any.whl (18 kB)\n",
            "Requirement already satisfied: numpy>=1.9 in /usr/local/lib/python3.10/dist-packages (from hoggormPlot) (1.23.5)\n",
            "Installing collected packages: hoggormPlot\n",
            "Successfully installed hoggormPlot-0.13.2\n"
          ]
        }
      ]
    },
    {
      "cell_type": "markdown",
      "source": [
        "Importering av nødvendige bibliotek og pakker"
      ],
      "metadata": {
        "id": "n0pam9AVcMJs"
      }
    },
    {
      "cell_type": "code",
      "source": [
        "import pandas as pd\n",
        "import numpy as np\n",
        "\n",
        "import copy\n",
        "\n",
        "import hoggorm as ho\n",
        "import hoggormplot as hop\n",
        "\n",
        "import seaborn as sns\n",
        "import matplotlib.pyplot as plt"
      ],
      "metadata": {
        "id": "6OQrySVXcLs3"
      },
      "execution_count": 3,
      "outputs": []
    },
    {
      "cell_type": "markdown",
      "source": [
        "Importering av data og omgjøring til DataFrame"
      ],
      "metadata": {
        "id": "fWayyZLg0T-U"
      }
    },
    {
      "cell_type": "code",
      "source": [
        "from google.colab import drive\n",
        "drive.mount('/content/drive')\n",
        "\n",
        "# Velger første kolonne med dato og tid som index\n",
        "bioco_rå_data = pd.read_csv('/content/drive/MyDrive/MasterV24/BiocoData.csv',\n",
        "                            header=0,\n",
        "                            sep=';',\n",
        "                            index_col=0)"
      ],
      "metadata": {
        "colab": {
          "base_uri": "https://localhost:8080/"
        },
        "id": "uIpESu3P0Wxi",
        "outputId": "6ffd9ad9-f909-4cdc-8068-4086cfdc50d9"
      },
      "execution_count": 12,
      "outputs": [
        {
          "output_type": "stream",
          "name": "stdout",
          "text": [
            "Drive already mounted at /content/drive; to attempt to forcibly remount, call drive.mount(\"/content/drive\", force_remount=True).\n"
          ]
        }
      ]
    },
    {
      "cell_type": "markdown",
      "source": [
        "Formattering av datasett før videre undersøkelse"
      ],
      "metadata": {
        "id": "ZOQrUqSq1J6_"
      }
    },
    {
      "cell_type": "code",
      "source": [
        "# Gjør om index med dato og tid til riktig format\n",
        "bioco_rå_data.index = pd.to_datetime(bioco_rå_data.index,\n",
        "                                     format='%d-%m-%Y %H:%M:%S.%f')"
      ],
      "metadata": {
        "id": "3sKZ-M_u2GYW"
      },
      "execution_count": 13,
      "outputs": []
    },
    {
      "cell_type": "markdown",
      "source": [
        "Utelukking av kolonner i datasett før videre undersøkelse"
      ],
      "metadata": {
        "id": "PoAjNZGj3kLW"
      }
    },
    {
      "cell_type": "code",
      "source": [
        "# Dropper kolonner \"product_SampleID\" og \"testset\" som ikke er relevant\n",
        "bioco_rå_data.drop(columns=['product_sampleID', 'testset'],\n",
        "                   inplace = True)\n",
        "\n",
        "# Dropper kolonne \"RawMaterialMix\" som er lite informativt\n",
        "bioco_rå_data.drop(columns=['RawMaterialMix'],\n",
        "                   inplace = True)\n",
        "\n",
        "# Dropper kolonner \"Brix\", \"Yield\" og \"Yield_withoutNIR\", da \"BrixAdjusted\"\n",
        "# dekker samme informasjon\n",
        "bioco_rå_data.drop(columns=['Brix', 'Yield', 'Yield_withoutNIR'],\n",
        "                   inplace = True)\n"
      ],
      "metadata": {
        "id": "_bLzchYY3mMb"
      },
      "execution_count": 14,
      "outputs": []
    },
    {
      "cell_type": "markdown",
      "source": [
        "Informasjon om antall faktiske observasjoner og datatyper for hver kolonne"
      ],
      "metadata": {
        "id": "JbHfmLfp3yIE"
      }
    },
    {
      "cell_type": "code",
      "source": [
        "bioco_rå_data.info()"
      ],
      "metadata": {
        "colab": {
          "base_uri": "https://localhost:8080/"
        },
        "id": "3maW05wF4ZCm",
        "outputId": "cf48cbda-cc4c-485b-e32e-2e2454c3dd50"
      },
      "execution_count": 15,
      "outputs": [
        {
          "output_type": "stream",
          "name": "stdout",
          "text": [
            "<class 'pandas.core.frame.DataFrame'>\n",
            "DatetimeIndex: 43251 entries, 2022-10-31 15:30:00 to 2023-06-14 01:06:00\n",
            "Data columns (total 18 columns):\n",
            " #   Column          Non-Null Count  Dtype  \n",
            "---  ------          --------------  -----  \n",
            " 0   EnzymeCode      43251 non-null  object \n",
            " 1   RawMatFlow      43196 non-null  float64\n",
            " 2   WaterFlow       43196 non-null  float64\n",
            " 3   RawMatPercent   43196 non-null  float64\n",
            " 4   NIRfat          29064 non-null  float64\n",
            " 5   NIRprotein      27520 non-null  float64\n",
            " 6   NIRash          29275 non-null  float64\n",
            " 7   NIRwater        29293 non-null  float64\n",
            " 8   TT07            43201 non-null  float64\n",
            " 9   TT08            43206 non-null  float64\n",
            " 10  PT03            43226 non-null  float64\n",
            " 11  TT20            43226 non-null  float64\n",
            " 12  TT09            43236 non-null  float64\n",
            " 13  TT12            43251 non-null  float64\n",
            " 14  Collagen        99 non-null     float64\n",
            " 15  Mw              540 non-null    float64\n",
            " 16  SmallMolecules  540 non-null    float64\n",
            " 17  BrixAdjusted    540 non-null    float64\n",
            "dtypes: float64(17), object(1)\n",
            "memory usage: 6.3+ MB\n"
          ]
        }
      ]
    },
    {
      "cell_type": "markdown",
      "source": [
        "## Inspeksjon av manglende verdier"
      ],
      "metadata": {
        "id": "lge8V6xl4wRT"
      }
    },
    {
      "cell_type": "markdown",
      "source": [
        "Kolonne og antaller manglende verdier"
      ],
      "metadata": {
        "id": "vVzqYDFb5T97"
      }
    },
    {
      "cell_type": "code",
      "source": [
        "bioco_rå_data.isnull().sum()"
      ],
      "metadata": {
        "colab": {
          "base_uri": "https://localhost:8080/"
        },
        "id": "sOMxlyHK4-uc",
        "outputId": "e714f633-238a-4cb1-ac75-aba22904beb9"
      },
      "execution_count": 16,
      "outputs": [
        {
          "output_type": "execute_result",
          "data": {
            "text/plain": [
              "EnzymeCode            0\n",
              "RawMatFlow           55\n",
              "WaterFlow            55\n",
              "RawMatPercent        55\n",
              "NIRfat            14187\n",
              "NIRprotein        15731\n",
              "NIRash            13976\n",
              "NIRwater          13958\n",
              "TT07                 50\n",
              "TT08                 45\n",
              "PT03                 25\n",
              "TT20                 25\n",
              "TT09                 15\n",
              "TT12                  0\n",
              "Collagen          43152\n",
              "Mw                42711\n",
              "SmallMolecules    42711\n",
              "BrixAdjusted      42711\n",
              "dtype: int64"
            ]
          },
          "metadata": {},
          "execution_count": 16
        }
      ]
    }
  ]
}