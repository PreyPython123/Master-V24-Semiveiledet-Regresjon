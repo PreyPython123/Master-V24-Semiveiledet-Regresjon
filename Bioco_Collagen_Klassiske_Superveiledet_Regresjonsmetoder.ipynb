{
  "nbformat": 4,
  "nbformat_minor": 0,
  "metadata": {
    "colab": {
      "provenance": [],
      "authorship_tag": "ABX9TyMdH2v25/XLDu0WX8OXiIhK",
      "include_colab_link": true
    },
    "kernelspec": {
      "name": "python3",
      "display_name": "Python 3"
    },
    "language_info": {
      "name": "python"
    },
    "accelerator": "TPU"
  },
  "cells": [
    {
      "cell_type": "markdown",
      "metadata": {
        "id": "view-in-github",
        "colab_type": "text"
      },
      "source": [
        "<a href=\"https://colab.research.google.com/github/PreyPython123/Master-V24-Semiveiledet-Regresjon/blob/Collagen-Pradeep/Bioco_Collagen_Klassiske_Superveiledet_Regresjonsmetoder.ipynb\" target=\"_parent\"><img src=\"https://colab.research.google.com/assets/colab-badge.svg\" alt=\"Open In Colab\"/></a>"
      ]
    },
    {
      "cell_type": "markdown",
      "source": [
        "Lasting av nødvendige bibliotek og pakker"
      ],
      "metadata": {
        "id": "ZNeQrag9Rlc_"
      }
    },
    {
      "cell_type": "code",
      "execution_count": 2,
      "metadata": {
        "id": "k5u1dZmp6cJ9",
        "colab": {
          "base_uri": "https://localhost:8080/"
        },
        "outputId": "dcdb4c19-37ef-4342-ea8e-8fbbdfcd5ea7"
      },
      "outputs": [
        {
          "output_type": "stream",
          "name": "stdout",
          "text": [
            "Collecting optuna\n",
            "  Downloading optuna-3.5.0-py3-none-any.whl (413 kB)\n",
            "\u001b[2K     \u001b[90m━━━━━━━━━━━━━━━━━━━━━━━━━━━━━━━━━━━━━━━━\u001b[0m \u001b[32m413.4/413.4 kB\u001b[0m \u001b[31m5.1 MB/s\u001b[0m eta \u001b[36m0:00:00\u001b[0m\n",
            "\u001b[?25hCollecting alembic>=1.5.0 (from optuna)\n",
            "  Downloading alembic-1.13.1-py3-none-any.whl (233 kB)\n",
            "\u001b[2K     \u001b[90m━━━━━━━━━━━━━━━━━━━━━━━━━━━━━━━━━━━━━━━━\u001b[0m \u001b[32m233.4/233.4 kB\u001b[0m \u001b[31m6.9 MB/s\u001b[0m eta \u001b[36m0:00:00\u001b[0m\n",
            "\u001b[?25hCollecting colorlog (from optuna)\n",
            "  Downloading colorlog-6.8.2-py3-none-any.whl (11 kB)\n",
            "Requirement already satisfied: numpy in /usr/local/lib/python3.10/dist-packages (from optuna) (1.23.5)\n",
            "Requirement already satisfied: packaging>=20.0 in /usr/local/lib/python3.10/dist-packages (from optuna) (23.2)\n",
            "Requirement already satisfied: sqlalchemy>=1.3.0 in /usr/local/lib/python3.10/dist-packages (from optuna) (2.0.25)\n",
            "Requirement already satisfied: tqdm in /usr/local/lib/python3.10/dist-packages (from optuna) (4.66.1)\n",
            "Requirement already satisfied: PyYAML in /usr/local/lib/python3.10/dist-packages (from optuna) (6.0.1)\n",
            "Collecting Mako (from alembic>=1.5.0->optuna)\n",
            "  Downloading Mako-1.3.2-py3-none-any.whl (78 kB)\n",
            "\u001b[2K     \u001b[90m━━━━━━━━━━━━━━━━━━━━━━━━━━━━━━━━━━━━━━━━\u001b[0m \u001b[32m78.7/78.7 kB\u001b[0m \u001b[31m5.2 MB/s\u001b[0m eta \u001b[36m0:00:00\u001b[0m\n",
            "\u001b[?25hRequirement already satisfied: typing-extensions>=4 in /usr/local/lib/python3.10/dist-packages (from alembic>=1.5.0->optuna) (4.9.0)\n",
            "Requirement already satisfied: greenlet!=0.4.17 in /usr/local/lib/python3.10/dist-packages (from sqlalchemy>=1.3.0->optuna) (3.0.3)\n",
            "Requirement already satisfied: MarkupSafe>=0.9.2 in /usr/local/lib/python3.10/dist-packages (from Mako->alembic>=1.5.0->optuna) (2.1.5)\n",
            "Installing collected packages: Mako, colorlog, alembic, optuna\n",
            "Successfully installed Mako-1.3.2 alembic-1.13.1 colorlog-6.8.2 optuna-3.5.0\n"
          ]
        }
      ],
      "source": [
        "!pip install optuna"
      ]
    },
    {
      "cell_type": "markdown",
      "source": [
        "Importering av nødvendig bibliotek og pakker"
      ],
      "metadata": {
        "id": "jT-YzIdVRply"
      }
    },
    {
      "cell_type": "code",
      "source": [
        "import pandas as pd\n",
        "import numpy as np\n",
        "\n",
        "from sklearn.model_selection import train_test_split\n",
        "from sklearn.pipeline import Pipeline\n",
        "from sklearn.preprocessing import StandardScaler\n",
        "\n",
        "from sklearn.ensemble import RandomForestRegressor\n",
        "\n",
        "from sklearn.metrics import mean_squared_error, r2_score\n",
        "\n",
        "import optuna\n",
        "from optuna.visualization import plot_optimization_history"
      ],
      "metadata": {
        "id": "DmFSuK8ARtBg"
      },
      "execution_count": 3,
      "outputs": []
    },
    {
      "cell_type": "markdown",
      "source": [
        "Importering av relevant data"
      ],
      "metadata": {
        "id": "21cdLIoaSTR6"
      }
    },
    {
      "cell_type": "code",
      "source": [
        "from google.colab import drive\n",
        "drive.mount('/content/drive')\n",
        "\n",
        "# Velger første kolonne med dato og tid som index\n",
        "collagen_data = pd.read_csv('/content/drive/MyDrive/MasterV24/Bioco_data/collagen_data.csv',\n",
        "                            header=0,\n",
        "                            sep=',',\n",
        "                            index_col=0)\n",
        "\n",
        "# Formatterer index til riktig format og datatype\n",
        "collagen_data.index = pd.to_datetime(collagen_data.index,\n",
        "                                     format='%Y-%m-%d %H:%M:%S')"
      ],
      "metadata": {
        "colab": {
          "base_uri": "https://localhost:8080/"
        },
        "id": "XeNQyDPZSTwY",
        "outputId": "a2a56131-e879-493a-8b28-a28fbfe74b2b"
      },
      "execution_count": 4,
      "outputs": [
        {
          "output_type": "stream",
          "name": "stdout",
          "text": [
            "Mounted at /content/drive\n"
          ]
        }
      ]
    },
    {
      "cell_type": "markdown",
      "source": [
        "Beskrivelse av datasett"
      ],
      "metadata": {
        "id": "hPfDrou1pR0w"
      }
    },
    {
      "cell_type": "code",
      "source": [
        "collagen_data.info()"
      ],
      "metadata": {
        "colab": {
          "base_uri": "https://localhost:8080/"
        },
        "id": "HsvZWJ7apQpL",
        "outputId": "e2e34afe-5960-4675-ed54-ac5720459677"
      },
      "execution_count": 4,
      "outputs": [
        {
          "output_type": "stream",
          "name": "stdout",
          "text": [
            "<class 'pandas.core.frame.DataFrame'>\n",
            "DatetimeIndex: 29136 entries, 2022-10-31 17:37:00 to 2023-06-14 01:06:00\n",
            "Data columns (total 17 columns):\n",
            " #   Column         Non-Null Count  Dtype  \n",
            "---  ------         --------------  -----  \n",
            " 0   EnzymeType_A1  29136 non-null  int64  \n",
            " 1   EnzymeType_A2  29136 non-null  int64  \n",
            " 2   EnzymeType_B   29136 non-null  int64  \n",
            " 3   EnzymeType_C   29136 non-null  int64  \n",
            " 4   EnzymeType_D   29136 non-null  int64  \n",
            " 5   EnzymeType_E   29136 non-null  int64  \n",
            " 6   RawMatFlow     29136 non-null  float64\n",
            " 7   NIRfat         29136 non-null  float64\n",
            " 8   NIRash         29136 non-null  float64\n",
            " 9   NIRwater       29136 non-null  float64\n",
            " 10  TT07           29136 non-null  float64\n",
            " 11  TT08           29136 non-null  float64\n",
            " 12  PT03           29136 non-null  float64\n",
            " 13  TT20           29136 non-null  float64\n",
            " 14  TT09           29136 non-null  float64\n",
            " 15  TT12           29136 non-null  float64\n",
            " 16  Collagen       89 non-null     float64\n",
            "dtypes: float64(11), int64(6)\n",
            "memory usage: 4.0 MB\n"
          ]
        }
      ]
    },
    {
      "cell_type": "markdown",
      "source": [
        "Tilfeldighetsfrø"
      ],
      "metadata": {
        "id": "7Wl0nay5j2C4"
      }
    },
    {
      "cell_type": "code",
      "source": [
        "#Tilfeldighetsfrø\n",
        "random_seed = 123"
      ],
      "metadata": {
        "id": "OxTGpIOmj4V7"
      },
      "execution_count": null,
      "outputs": []
    },
    {
      "cell_type": "markdown",
      "source": [
        "# NIR målinger inkludert"
      ],
      "metadata": {
        "id": "76aWdlTDXp9I"
      }
    },
    {
      "cell_type": "markdown",
      "source": [
        "## Oppdeling av datasett for trening og testing"
      ],
      "metadata": {
        "id": "yNN1h11QTJ2y"
      }
    },
    {
      "cell_type": "markdown",
      "source": [
        "### Alternativ 1: Fordelt på Enzymtyper"
      ],
      "metadata": {
        "id": "-Cr-DTtVGSFg"
      }
    },
    {
      "cell_type": "code",
      "source": [
        "\n",
        "# Deler opp markert del av datasettet\n",
        "collagen_markert = collagen_data.dropna(subset='Collagen')\n",
        "\n",
        "# Legger til kategorisk variabel for enzymtype til fordeling av datsettet\n",
        "collagen_markert['EnzymType'] = collagen_markert.filter(like='EnzymeType_').idxmax(axis=1).str.split('_').str[1].astype('category')\n",
        "\n",
        "# Splitter datasett i collagendataasett og kategorisk enzymtype\n",
        "collagen_enzymetypes = collagen_markert['EnzymType']\n",
        "collagen_markert.drop(columns=['EnzymType'], inplace=True)\n",
        "\n",
        "# Splitter trening og testdata etter enzymtype\n",
        "collagen_trening, collagen_test, _, _ = train_test_split(collagen_markert,\n",
        "                                                         collagen_enzymetypes,\n",
        "                                                         test_size = 0.20,\n",
        "                                                         stratify = collagen_enzymetypes,\n",
        "                                                         random_state = random_seed)\n",
        "\n",
        "# Deler opp datasettene til prediktorer og respons, for trening og testsett\n",
        "X_trening = collagen_trening.iloc[:, :-1]\n",
        "X_test = collagen_test.iloc[:, :-1]\n",
        "y_trening = collagen_trening.iloc[:, -1]\n",
        "y_test = collagen_test.iloc[:, -1]"
      ],
      "metadata": {
        "colab": {
          "base_uri": "https://localhost:8080/"
        },
        "id": "jovL3AV6TM6H",
        "outputId": "1fbad373-ca92-42cd-cccd-2cbd1c703518"
      },
      "execution_count": 5,
      "outputs": [
        {
          "output_type": "stream",
          "name": "stderr",
          "text": [
            "<ipython-input-5-539fbeb5839f>:8: SettingWithCopyWarning: \n",
            "A value is trying to be set on a copy of a slice from a DataFrame.\n",
            "Try using .loc[row_indexer,col_indexer] = value instead\n",
            "\n",
            "See the caveats in the documentation: https://pandas.pydata.org/pandas-docs/stable/user_guide/indexing.html#returning-a-view-versus-a-copy\n",
            "  collagen_markert['EnzymType'] = collagen_markert.filter(like='EnzymeType_').idxmax(axis=1).str.split('_').str[1].astype('category')\n",
            "<ipython-input-5-539fbeb5839f>:12: SettingWithCopyWarning: \n",
            "A value is trying to be set on a copy of a slice from a DataFrame\n",
            "\n",
            "See the caveats in the documentation: https://pandas.pydata.org/pandas-docs/stable/user_guide/indexing.html#returning-a-view-versus-a-copy\n",
            "  collagen_markert.drop(columns=['EnzymType'], inplace=True)\n"
          ]
        }
      ]
    },
    {
      "cell_type": "markdown",
      "source": [
        "## RandomForestRegressor"
      ],
      "metadata": {
        "id": "cIgUu1qErjKz"
      }
    },
    {
      "cell_type": "markdown",
      "source": [
        "Hyperparamter optimalisering med Optuna"
      ],
      "metadata": {
        "id": "2Ds0DtmgRRlv"
      }
    },
    {
      "cell_type": "code",
      "source": [
        "def objective(trial):\n",
        "  parametere = {\n",
        "      'n_estimators': trial.suggest_int('n_estimators', 100, 200),\n",
        "      'max_depth': trial.suggest_int('max_depth', 1, 10)\n",
        "  }\n",
        "  rf_pipeline = Pipeline([\n",
        "      ('skalerer', StandardScaler()),\n",
        "      ('modell', RandomForestRegressor(**parametere, random_state=random_seed))\n",
        "  ])\n",
        "\n",
        "  rf_pipeline.fit(X_trening, y_trening)\n",
        "  y_test_prediksjon = rf_pipeline.predict(X_test)\n",
        "  mse_test = mean_squared_error(y_test, y_test_prediksjon)\n",
        "  return mse_test\n",
        "\n",
        "if __name__ == \"__main__\":\n",
        "  study = optuna.create_study(direction='minimize')\n",
        "  study.optimize(objective, n_trials=100)\n",
        "\n",
        "plot_optimization_history(study)"
      ],
      "metadata": {
        "colab": {
          "base_uri": "https://localhost:8080/",
          "height": 1000
        },
        "id": "Gr_wm-oNRVZ3",
        "outputId": "2028c96f-d394-452c-d613-690a64ba6829"
      },
      "execution_count": 15,
      "outputs": [
        {
          "output_type": "stream",
          "name": "stderr",
          "text": [
            "[I 2024-02-07 19:21:15,172] A new study created in memory with name: no-name-b208823e-8400-42e0-9ddc-2d05a9e42931\n",
            "[I 2024-02-07 19:21:15,441] Trial 0 finished with value: 17.91362976155749 and parameters: {'n_estimators': 117, 'max_depth': 3}. Best is trial 0 with value: 17.91362976155749.\n",
            "[I 2024-02-07 19:21:15,832] Trial 1 finished with value: 16.54522097059663 and parameters: {'n_estimators': 152, 'max_depth': 7}. Best is trial 1 with value: 16.54522097059663.\n",
            "[I 2024-02-07 19:21:16,198] Trial 2 finished with value: 16.358466305926918 and parameters: {'n_estimators': 138, 'max_depth': 8}. Best is trial 2 with value: 16.358466305926918.\n",
            "[I 2024-02-07 19:21:16,602] Trial 3 finished with value: 24.31152551972791 and parameters: {'n_estimators': 180, 'max_depth': 1}. Best is trial 2 with value: 16.358466305926918.\n",
            "[I 2024-02-07 19:21:17,053] Trial 4 finished with value: 16.883196817243242 and parameters: {'n_estimators': 171, 'max_depth': 5}. Best is trial 2 with value: 16.358466305926918.\n",
            "[I 2024-02-07 19:21:17,547] Trial 5 finished with value: 16.933486013308396 and parameters: {'n_estimators': 190, 'max_depth': 6}. Best is trial 2 with value: 16.358466305926918.\n",
            "[I 2024-02-07 19:21:17,780] Trial 6 finished with value: 19.376658823817188 and parameters: {'n_estimators': 172, 'max_depth': 2}. Best is trial 2 with value: 16.358466305926918.\n",
            "[I 2024-02-07 19:21:17,955] Trial 7 finished with value: 24.54829783047604 and parameters: {'n_estimators': 112, 'max_depth': 1}. Best is trial 2 with value: 16.358466305926918.\n",
            "[I 2024-02-07 19:21:18,150] Trial 8 finished with value: 24.33695814660655 and parameters: {'n_estimators': 147, 'max_depth': 1}. Best is trial 2 with value: 16.358466305926918.\n",
            "[I 2024-02-07 19:21:18,338] Trial 9 finished with value: 16.513516271380446 and parameters: {'n_estimators': 117, 'max_depth': 9}. Best is trial 2 with value: 16.358466305926918.\n",
            "[I 2024-02-07 19:21:18,573] Trial 10 finished with value: 16.607673310583493 and parameters: {'n_estimators': 140, 'max_depth': 10}. Best is trial 2 with value: 16.358466305926918.\n",
            "[I 2024-02-07 19:21:18,793] Trial 11 finished with value: 16.400628887153346 and parameters: {'n_estimators': 128, 'max_depth': 9}. Best is trial 2 with value: 16.358466305926918.\n",
            "[I 2024-02-07 19:21:19,035] Trial 12 finished with value: 16.225193635688857 and parameters: {'n_estimators': 131, 'max_depth': 8}. Best is trial 12 with value: 16.225193635688857.\n",
            "[I 2024-02-07 19:21:19,210] Trial 13 finished with value: 17.027446775146785 and parameters: {'n_estimators': 103, 'max_depth': 7}. Best is trial 12 with value: 16.225193635688857.\n",
            "[I 2024-02-07 19:21:19,430] Trial 14 finished with value: 16.337672697789014 and parameters: {'n_estimators': 133, 'max_depth': 8}. Best is trial 12 with value: 16.225193635688857.\n",
            "[I 2024-02-07 19:21:19,695] Trial 15 finished with value: 16.72221499311159 and parameters: {'n_estimators': 158, 'max_depth': 5}. Best is trial 12 with value: 16.225193635688857.\n",
            "[I 2024-02-07 19:21:19,910] Trial 16 finished with value: 16.50710841617167 and parameters: {'n_estimators': 129, 'max_depth': 10}. Best is trial 12 with value: 16.225193635688857.\n",
            "[I 2024-02-07 19:21:20,133] Trial 17 finished with value: 16.215294027627227 and parameters: {'n_estimators': 129, 'max_depth': 8}. Best is trial 17 with value: 16.215294027627227.\n",
            "[I 2024-02-07 19:21:20,375] Trial 18 finished with value: 16.917568373293093 and parameters: {'n_estimators': 160, 'max_depth': 4}. Best is trial 17 with value: 16.215294027627227.\n",
            "[I 2024-02-07 19:21:20,545] Trial 19 finished with value: 17.062680584620196 and parameters: {'n_estimators': 104, 'max_depth': 7}. Best is trial 17 with value: 16.215294027627227.\n",
            "[I 2024-02-07 19:21:20,751] Trial 20 finished with value: 16.629679207878723 and parameters: {'n_estimators': 124, 'max_depth': 6}. Best is trial 17 with value: 16.215294027627227.\n",
            "[I 2024-02-07 19:21:21,007] Trial 21 finished with value: 16.377536149336517 and parameters: {'n_estimators': 137, 'max_depth': 8}. Best is trial 17 with value: 16.215294027627227.\n",
            "[I 2024-02-07 19:21:21,364] Trial 22 finished with value: 16.35701053425955 and parameters: {'n_estimators': 134, 'max_depth': 8}. Best is trial 17 with value: 16.215294027627227.\n",
            "[I 2024-02-07 19:21:21,619] Trial 23 finished with value: 16.555909421918003 and parameters: {'n_estimators': 146, 'max_depth': 9}. Best is trial 17 with value: 16.215294027627227.\n",
            "[I 2024-02-07 19:21:21,868] Trial 24 finished with value: 16.22537313062332 and parameters: {'n_estimators': 123, 'max_depth': 8}. Best is trial 17 with value: 16.215294027627227.\n",
            "[I 2024-02-07 19:21:22,114] Trial 25 finished with value: 16.524521065207338 and parameters: {'n_estimators': 121, 'max_depth': 7}. Best is trial 17 with value: 16.215294027627227.\n",
            "[I 2024-02-07 19:21:22,372] Trial 26 finished with value: 16.892747155922123 and parameters: {'n_estimators': 109, 'max_depth': 9}. Best is trial 17 with value: 16.215294027627227.\n",
            "[I 2024-02-07 19:21:22,689] Trial 27 finished with value: 16.70170374045078 and parameters: {'n_estimators': 113, 'max_depth': 10}. Best is trial 17 with value: 16.215294027627227.\n",
            "[I 2024-02-07 19:21:23,329] Trial 28 finished with value: 16.1279219616204 and parameters: {'n_estimators': 125, 'max_depth': 8}. Best is trial 28 with value: 16.1279219616204.\n",
            "[I 2024-02-07 19:21:23,744] Trial 29 finished with value: 16.75512147463889 and parameters: {'n_estimators': 142, 'max_depth': 6}. Best is trial 28 with value: 16.1279219616204.\n",
            "[I 2024-02-07 19:21:23,987] Trial 30 finished with value: 16.93328726369531 and parameters: {'n_estimators': 156, 'max_depth': 4}. Best is trial 28 with value: 16.1279219616204.\n",
            "[I 2024-02-07 19:21:24,212] Trial 31 finished with value: 16.19574105294748 and parameters: {'n_estimators': 124, 'max_depth': 8}. Best is trial 28 with value: 16.1279219616204.\n",
            "[I 2024-02-07 19:21:24,428] Trial 32 finished with value: 16.51569183382972 and parameters: {'n_estimators': 119, 'max_depth': 7}. Best is trial 28 with value: 16.1279219616204.\n",
            "[I 2024-02-07 19:21:24,754] Trial 33 finished with value: 16.40140444938513 and parameters: {'n_estimators': 129, 'max_depth': 9}. Best is trial 28 with value: 16.1279219616204.\n",
            "[I 2024-02-07 19:21:24,987] Trial 34 finished with value: 16.20314220501841 and parameters: {'n_estimators': 126, 'max_depth': 8}. Best is trial 28 with value: 16.1279219616204.\n",
            "[I 2024-02-07 19:21:25,254] Trial 35 finished with value: 16.93398348863385 and parameters: {'n_estimators': 100, 'max_depth': 7}. Best is trial 28 with value: 16.1279219616204.\n",
            "[I 2024-02-07 19:21:25,466] Trial 36 finished with value: 17.021752871338492 and parameters: {'n_estimators': 110, 'max_depth': 6}. Best is trial 28 with value: 16.1279219616204.\n",
            "[I 2024-02-07 19:21:25,730] Trial 37 finished with value: 16.1279219616204 and parameters: {'n_estimators': 125, 'max_depth': 8}. Best is trial 28 with value: 16.1279219616204.\n",
            "[I 2024-02-07 19:21:26,136] Trial 38 finished with value: 16.57794086632447 and parameters: {'n_estimators': 115, 'max_depth': 9}. Best is trial 28 with value: 16.1279219616204.\n",
            "[I 2024-02-07 19:21:26,504] Trial 39 finished with value: 16.510534070610706 and parameters: {'n_estimators': 124, 'max_depth': 7}. Best is trial 28 with value: 16.1279219616204.\n",
            "[I 2024-02-07 19:21:26,741] Trial 40 finished with value: 16.704468152089124 and parameters: {'n_estimators': 152, 'max_depth': 5}. Best is trial 28 with value: 16.1279219616204.\n",
            "[I 2024-02-07 19:21:26,967] Trial 41 finished with value: 16.317487774024315 and parameters: {'n_estimators': 136, 'max_depth': 8}. Best is trial 28 with value: 16.1279219616204.\n",
            "[I 2024-02-07 19:21:27,225] Trial 42 finished with value: 16.20314220501841 and parameters: {'n_estimators': 126, 'max_depth': 8}. Best is trial 28 with value: 16.1279219616204.\n",
            "[I 2024-02-07 19:21:27,552] Trial 43 finished with value: 16.491211236901243 and parameters: {'n_estimators': 118, 'max_depth': 9}. Best is trial 28 with value: 16.1279219616204.\n",
            "[I 2024-02-07 19:21:28,090] Trial 44 finished with value: 16.674934441289054 and parameters: {'n_estimators': 195, 'max_depth': 10}. Best is trial 28 with value: 16.1279219616204.\n",
            "[I 2024-02-07 19:21:28,866] Trial 45 finished with value: 16.1279219616204 and parameters: {'n_estimators': 125, 'max_depth': 8}. Best is trial 28 with value: 16.1279219616204.\n",
            "[I 2024-02-07 19:21:29,396] Trial 46 finished with value: 16.681713474938775 and parameters: {'n_estimators': 142, 'max_depth': 7}. Best is trial 28 with value: 16.1279219616204.\n",
            "[I 2024-02-07 19:21:30,022] Trial 47 finished with value: 17.026413098235068 and parameters: {'n_estimators': 107, 'max_depth': 9}. Best is trial 28 with value: 16.1279219616204.\n",
            "[I 2024-02-07 19:21:30,773] Trial 48 finished with value: 19.48501208323345 and parameters: {'n_estimators': 114, 'max_depth': 2}. Best is trial 28 with value: 16.1279219616204.\n",
            "[I 2024-02-07 19:21:31,479] Trial 49 finished with value: 16.15980740280381 and parameters: {'n_estimators': 120, 'max_depth': 8}. Best is trial 28 with value: 16.1279219616204.\n",
            "[I 2024-02-07 19:21:31,910] Trial 50 finished with value: 16.653887450001708 and parameters: {'n_estimators': 180, 'max_depth': 10}. Best is trial 28 with value: 16.1279219616204.\n",
            "[I 2024-02-07 19:21:32,273] Trial 51 finished with value: 16.22567348419298 and parameters: {'n_estimators': 121, 'max_depth': 8}. Best is trial 28 with value: 16.1279219616204.\n",
            "[I 2024-02-07 19:21:32,675] Trial 52 finished with value: 16.225193635688857 and parameters: {'n_estimators': 131, 'max_depth': 8}. Best is trial 28 with value: 16.1279219616204.\n",
            "[I 2024-02-07 19:21:32,935] Trial 53 finished with value: 16.612747352823224 and parameters: {'n_estimators': 117, 'max_depth': 7}. Best is trial 28 with value: 16.1279219616204.\n",
            "[I 2024-02-07 19:21:33,191] Trial 54 finished with value: 16.367144970365548 and parameters: {'n_estimators': 125, 'max_depth': 9}. Best is trial 28 with value: 16.1279219616204.\n",
            "[I 2024-02-07 19:21:33,706] Trial 55 finished with value: 16.323254129826278 and parameters: {'n_estimators': 140, 'max_depth': 8}. Best is trial 28 with value: 16.1279219616204.\n",
            "[I 2024-02-07 19:21:33,931] Trial 56 finished with value: 16.337672697789014 and parameters: {'n_estimators': 133, 'max_depth': 8}. Best is trial 28 with value: 16.1279219616204.\n",
            "[I 2024-02-07 19:21:34,202] Trial 57 finished with value: 17.209120046897805 and parameters: {'n_estimators': 106, 'max_depth': 6}. Best is trial 28 with value: 16.1279219616204.\n",
            "[I 2024-02-07 19:21:34,592] Trial 58 finished with value: 16.577282972361388 and parameters: {'n_estimators': 147, 'max_depth': 7}. Best is trial 28 with value: 16.1279219616204.\n",
            "[I 2024-02-07 19:21:34,813] Trial 59 finished with value: 16.20885923685076 and parameters: {'n_estimators': 127, 'max_depth': 8}. Best is trial 28 with value: 16.1279219616204.\n",
            "[I 2024-02-07 19:21:35,277] Trial 60 finished with value: 16.4646394346105 and parameters: {'n_estimators': 165, 'max_depth': 9}. Best is trial 28 with value: 16.1279219616204.\n",
            "[I 2024-02-07 19:21:35,544] Trial 61 finished with value: 16.22537313062332 and parameters: {'n_estimators': 123, 'max_depth': 8}. Best is trial 28 with value: 16.1279219616204.\n",
            "[I 2024-02-07 19:21:36,003] Trial 62 finished with value: 16.479708420480975 and parameters: {'n_estimators': 120, 'max_depth': 7}. Best is trial 28 with value: 16.1279219616204.\n",
            "[I 2024-02-07 19:21:36,333] Trial 63 finished with value: 16.20885923685076 and parameters: {'n_estimators': 127, 'max_depth': 8}. Best is trial 28 with value: 16.1279219616204.\n",
            "[I 2024-02-07 19:21:36,558] Trial 64 finished with value: 16.391245792917783 and parameters: {'n_estimators': 131, 'max_depth': 9}. Best is trial 28 with value: 16.1279219616204.\n",
            "[I 2024-02-07 19:21:36,768] Trial 65 finished with value: 16.487684214086194 and parameters: {'n_estimators': 111, 'max_depth': 8}. Best is trial 28 with value: 16.1279219616204.\n",
            "[I 2024-02-07 19:21:36,970] Trial 66 finished with value: 16.721408744430313 and parameters: {'n_estimators': 116, 'max_depth': 7}. Best is trial 28 with value: 16.1279219616204.\n",
            "[I 2024-02-07 19:21:37,193] Trial 67 finished with value: 16.747467599368164 and parameters: {'n_estimators': 137, 'max_depth': 6}. Best is trial 28 with value: 16.1279219616204.\n",
            "[I 2024-02-07 19:21:37,425] Trial 68 finished with value: 16.529122622266094 and parameters: {'n_estimators': 134, 'max_depth': 9}. Best is trial 28 with value: 16.1279219616204.\n",
            "[I 2024-02-07 19:21:37,661] Trial 69 finished with value: 16.20314220501841 and parameters: {'n_estimators': 126, 'max_depth': 8}. Best is trial 28 with value: 16.1279219616204.\n",
            "[I 2024-02-07 19:21:37,888] Trial 70 finished with value: 16.524521065207338 and parameters: {'n_estimators': 121, 'max_depth': 7}. Best is trial 28 with value: 16.1279219616204.\n",
            "[I 2024-02-07 19:21:38,130] Trial 71 finished with value: 16.1279219616204 and parameters: {'n_estimators': 125, 'max_depth': 8}. Best is trial 28 with value: 16.1279219616204.\n",
            "[I 2024-02-07 19:21:38,503] Trial 72 finished with value: 16.215294027627227 and parameters: {'n_estimators': 129, 'max_depth': 8}. Best is trial 28 with value: 16.1279219616204.\n",
            "[I 2024-02-07 19:21:39,106] Trial 73 finished with value: 16.47070039900833 and parameters: {'n_estimators': 123, 'max_depth': 9}. Best is trial 28 with value: 16.1279219616204.\n",
            "[I 2024-02-07 19:21:39,368] Trial 74 finished with value: 16.26527599749304 and parameters: {'n_estimators': 118, 'max_depth': 8}. Best is trial 28 with value: 16.1279219616204.\n",
            "[I 2024-02-07 19:21:39,596] Trial 75 finished with value: 16.301528065816665 and parameters: {'n_estimators': 132, 'max_depth': 8}. Best is trial 28 with value: 16.1279219616204.\n",
            "[I 2024-02-07 19:21:39,807] Trial 76 finished with value: 16.711622200193574 and parameters: {'n_estimators': 113, 'max_depth': 7}. Best is trial 28 with value: 16.1279219616204.\n",
            "[I 2024-02-07 19:21:40,032] Trial 77 finished with value: 16.3950769367667 and parameters: {'n_estimators': 126, 'max_depth': 9}. Best is trial 28 with value: 16.1279219616204.\n",
            "[I 2024-02-07 19:21:40,500] Trial 78 finished with value: 16.64814304079533 and parameters: {'n_estimators': 135, 'max_depth': 10}. Best is trial 28 with value: 16.1279219616204.\n",
            "[I 2024-02-07 19:21:40,950] Trial 79 finished with value: 16.323254129826278 and parameters: {'n_estimators': 140, 'max_depth': 8}. Best is trial 28 with value: 16.1279219616204.\n",
            "[I 2024-02-07 19:21:41,267] Trial 80 finished with value: 16.789201712951122 and parameters: {'n_estimators': 129, 'max_depth': 4}. Best is trial 28 with value: 16.1279219616204.\n",
            "[I 2024-02-07 19:21:41,582] Trial 81 finished with value: 16.20314220501841 and parameters: {'n_estimators': 126, 'max_depth': 8}. Best is trial 28 with value: 16.1279219616204.\n",
            "[I 2024-02-07 19:21:41,930] Trial 82 finished with value: 16.280381345692497 and parameters: {'n_estimators': 122, 'max_depth': 8}. Best is trial 28 with value: 16.1279219616204.\n",
            "[I 2024-02-07 19:21:42,256] Trial 83 finished with value: 16.51569183382972 and parameters: {'n_estimators': 119, 'max_depth': 7}. Best is trial 28 with value: 16.1279219616204.\n",
            "[I 2024-02-07 19:21:43,311] Trial 84 finished with value: 16.1279219616204 and parameters: {'n_estimators': 125, 'max_depth': 8}. Best is trial 28 with value: 16.1279219616204.\n",
            "[I 2024-02-07 19:21:44,098] Trial 85 finished with value: 16.57794086632447 and parameters: {'n_estimators': 115, 'max_depth': 9}. Best is trial 28 with value: 16.1279219616204.\n",
            "[I 2024-02-07 19:21:44,802] Trial 86 finished with value: 16.197005812853735 and parameters: {'n_estimators': 130, 'max_depth': 8}. Best is trial 28 with value: 16.1279219616204.\n",
            "[I 2024-02-07 19:21:45,189] Trial 87 finished with value: 16.391245792917783 and parameters: {'n_estimators': 131, 'max_depth': 9}. Best is trial 28 with value: 16.1279219616204.\n",
            "[I 2024-02-07 19:21:45,516] Trial 88 finished with value: 16.510534070610706 and parameters: {'n_estimators': 124, 'max_depth': 7}. Best is trial 28 with value: 16.1279219616204.\n",
            "[I 2024-02-07 19:21:45,731] Trial 89 finished with value: 16.195035298237308 and parameters: {'n_estimators': 119, 'max_depth': 8}. Best is trial 28 with value: 16.1279219616204.\n",
            "[I 2024-02-07 19:21:45,917] Trial 90 finished with value: 16.690993509755305 and parameters: {'n_estimators': 108, 'max_depth': 8}. Best is trial 28 with value: 16.1279219616204.\n",
            "[I 2024-02-07 19:21:46,146] Trial 91 finished with value: 16.15980740280381 and parameters: {'n_estimators': 120, 'max_depth': 8}. Best is trial 28 with value: 16.1279219616204.\n",
            "[I 2024-02-07 19:21:46,351] Trial 92 finished with value: 16.15980740280381 and parameters: {'n_estimators': 120, 'max_depth': 8}. Best is trial 28 with value: 16.1279219616204.\n",
            "[I 2024-02-07 19:21:46,567] Trial 93 finished with value: 16.28750021920344 and parameters: {'n_estimators': 117, 'max_depth': 8}. Best is trial 28 with value: 16.1279219616204.\n",
            "[I 2024-02-07 19:21:46,782] Trial 94 finished with value: 16.524521065207338 and parameters: {'n_estimators': 121, 'max_depth': 7}. Best is trial 28 with value: 16.1279219616204.\n",
            "[I 2024-02-07 19:21:46,989] Trial 95 finished with value: 16.733399205320936 and parameters: {'n_estimators': 111, 'max_depth': 9}. Best is trial 28 with value: 16.1279219616204.\n",
            "[I 2024-02-07 19:21:47,212] Trial 96 finished with value: 16.195035298237308 and parameters: {'n_estimators': 119, 'max_depth': 8}. Best is trial 28 with value: 16.1279219616204.\n",
            "[I 2024-02-07 19:21:47,404] Trial 97 finished with value: 16.31775401983378 and parameters: {'n_estimators': 114, 'max_depth': 8}. Best is trial 28 with value: 16.1279219616204.\n",
            "[I 2024-02-07 19:21:47,624] Trial 98 finished with value: 16.26527599749304 and parameters: {'n_estimators': 118, 'max_depth': 8}. Best is trial 28 with value: 16.1279219616204.\n",
            "[I 2024-02-07 19:21:47,805] Trial 99 finished with value: 17.027446775146785 and parameters: {'n_estimators': 103, 'max_depth': 7}. Best is trial 28 with value: 16.1279219616204.\n"
          ]
        },
        {
          "output_type": "display_data",
          "data": {
            "text/html": [
              "<html>\n",
              "<head><meta charset=\"utf-8\" /></head>\n",
              "<body>\n",
              "    <div>            <script src=\"https://cdnjs.cloudflare.com/ajax/libs/mathjax/2.7.5/MathJax.js?config=TeX-AMS-MML_SVG\"></script><script type=\"text/javascript\">if (window.MathJax && window.MathJax.Hub && window.MathJax.Hub.Config) {window.MathJax.Hub.Config({SVG: {font: \"STIX-Web\"}});}</script>                <script type=\"text/javascript\">window.PlotlyConfig = {MathJaxConfig: 'local'};</script>\n",
              "        <script charset=\"utf-8\" src=\"https://cdn.plot.ly/plotly-2.24.1.min.js\"></script>                <div id=\"60e73f48-c47b-4c9a-a768-956e8bc1be15\" class=\"plotly-graph-div\" style=\"height:525px; width:100%;\"></div>            <script type=\"text/javascript\">                                    window.PLOTLYENV=window.PLOTLYENV || {};                                    if (document.getElementById(\"60e73f48-c47b-4c9a-a768-956e8bc1be15\")) {                    Plotly.newPlot(                        \"60e73f48-c47b-4c9a-a768-956e8bc1be15\",                        [{\"mode\":\"markers\",\"name\":\"Objective Value\",\"x\":[0,1,2,3,4,5,6,7,8,9,10,11,12,13,14,15,16,17,18,19,20,21,22,23,24,25,26,27,28,29,30,31,32,33,34,35,36,37,38,39,40,41,42,43,44,45,46,47,48,49,50,51,52,53,54,55,56,57,58,59,60,61,62,63,64,65,66,67,68,69,70,71,72,73,74,75,76,77,78,79,80,81,82,83,84,85,86,87,88,89,90,91,92,93,94,95,96,97,98,99],\"y\":[17.91362976155749,16.54522097059663,16.358466305926918,24.31152551972791,16.883196817243242,16.933486013308396,19.376658823817188,24.54829783047604,24.33695814660655,16.513516271380446,16.607673310583493,16.400628887153346,16.225193635688857,17.027446775146785,16.337672697789014,16.72221499311159,16.50710841617167,16.215294027627227,16.917568373293093,17.062680584620196,16.629679207878723,16.377536149336517,16.35701053425955,16.555909421918003,16.22537313062332,16.524521065207338,16.892747155922123,16.70170374045078,16.1279219616204,16.75512147463889,16.93328726369531,16.19574105294748,16.51569183382972,16.40140444938513,16.20314220501841,16.93398348863385,17.021752871338492,16.1279219616204,16.57794086632447,16.510534070610706,16.704468152089124,16.317487774024315,16.20314220501841,16.491211236901243,16.674934441289054,16.1279219616204,16.681713474938775,17.026413098235068,19.48501208323345,16.15980740280381,16.653887450001708,16.22567348419298,16.225193635688857,16.612747352823224,16.367144970365548,16.323254129826278,16.337672697789014,17.209120046897805,16.577282972361388,16.20885923685076,16.4646394346105,16.22537313062332,16.479708420480975,16.20885923685076,16.391245792917783,16.487684214086194,16.721408744430313,16.747467599368164,16.529122622266094,16.20314220501841,16.524521065207338,16.1279219616204,16.215294027627227,16.47070039900833,16.26527599749304,16.301528065816665,16.711622200193574,16.3950769367667,16.64814304079533,16.323254129826278,16.789201712951122,16.20314220501841,16.280381345692497,16.51569183382972,16.1279219616204,16.57794086632447,16.197005812853735,16.391245792917783,16.510534070610706,16.195035298237308,16.690993509755305,16.15980740280381,16.15980740280381,16.28750021920344,16.524521065207338,16.733399205320936,16.195035298237308,16.31775401983378,16.26527599749304,17.027446775146785],\"type\":\"scatter\"},{\"mode\":\"lines\",\"name\":\"Best Value\",\"x\":[0,1,2,3,4,5,6,7,8,9,10,11,12,13,14,15,16,17,18,19,20,21,22,23,24,25,26,27,28,29,30,31,32,33,34,35,36,37,38,39,40,41,42,43,44,45,46,47,48,49,50,51,52,53,54,55,56,57,58,59,60,61,62,63,64,65,66,67,68,69,70,71,72,73,74,75,76,77,78,79,80,81,82,83,84,85,86,87,88,89,90,91,92,93,94,95,96,97,98,99],\"y\":[17.91362976155749,16.54522097059663,16.358466305926918,16.358466305926918,16.358466305926918,16.358466305926918,16.358466305926918,16.358466305926918,16.358466305926918,16.358466305926918,16.358466305926918,16.358466305926918,16.225193635688857,16.225193635688857,16.225193635688857,16.225193635688857,16.225193635688857,16.215294027627227,16.215294027627227,16.215294027627227,16.215294027627227,16.215294027627227,16.215294027627227,16.215294027627227,16.215294027627227,16.215294027627227,16.215294027627227,16.215294027627227,16.1279219616204,16.1279219616204,16.1279219616204,16.1279219616204,16.1279219616204,16.1279219616204,16.1279219616204,16.1279219616204,16.1279219616204,16.1279219616204,16.1279219616204,16.1279219616204,16.1279219616204,16.1279219616204,16.1279219616204,16.1279219616204,16.1279219616204,16.1279219616204,16.1279219616204,16.1279219616204,16.1279219616204,16.1279219616204,16.1279219616204,16.1279219616204,16.1279219616204,16.1279219616204,16.1279219616204,16.1279219616204,16.1279219616204,16.1279219616204,16.1279219616204,16.1279219616204,16.1279219616204,16.1279219616204,16.1279219616204,16.1279219616204,16.1279219616204,16.1279219616204,16.1279219616204,16.1279219616204,16.1279219616204,16.1279219616204,16.1279219616204,16.1279219616204,16.1279219616204,16.1279219616204,16.1279219616204,16.1279219616204,16.1279219616204,16.1279219616204,16.1279219616204,16.1279219616204,16.1279219616204,16.1279219616204,16.1279219616204,16.1279219616204,16.1279219616204,16.1279219616204,16.1279219616204,16.1279219616204,16.1279219616204,16.1279219616204,16.1279219616204,16.1279219616204,16.1279219616204,16.1279219616204,16.1279219616204,16.1279219616204,16.1279219616204,16.1279219616204,16.1279219616204,16.1279219616204],\"type\":\"scatter\"},{\"marker\":{\"color\":\"#cccccc\"},\"mode\":\"markers\",\"name\":\"Infeasible Trial\",\"showlegend\":false,\"x\":[],\"y\":[],\"type\":\"scatter\"}],                        {\"title\":{\"text\":\"Optimization History Plot\"},\"xaxis\":{\"title\":{\"text\":\"Trial\"}},\"yaxis\":{\"title\":{\"text\":\"Objective Value\"}},\"template\":{\"data\":{\"histogram2dcontour\":[{\"type\":\"histogram2dcontour\",\"colorbar\":{\"outlinewidth\":0,\"ticks\":\"\"},\"colorscale\":[[0.0,\"#0d0887\"],[0.1111111111111111,\"#46039f\"],[0.2222222222222222,\"#7201a8\"],[0.3333333333333333,\"#9c179e\"],[0.4444444444444444,\"#bd3786\"],[0.5555555555555556,\"#d8576b\"],[0.6666666666666666,\"#ed7953\"],[0.7777777777777778,\"#fb9f3a\"],[0.8888888888888888,\"#fdca26\"],[1.0,\"#f0f921\"]]}],\"choropleth\":[{\"type\":\"choropleth\",\"colorbar\":{\"outlinewidth\":0,\"ticks\":\"\"}}],\"histogram2d\":[{\"type\":\"histogram2d\",\"colorbar\":{\"outlinewidth\":0,\"ticks\":\"\"},\"colorscale\":[[0.0,\"#0d0887\"],[0.1111111111111111,\"#46039f\"],[0.2222222222222222,\"#7201a8\"],[0.3333333333333333,\"#9c179e\"],[0.4444444444444444,\"#bd3786\"],[0.5555555555555556,\"#d8576b\"],[0.6666666666666666,\"#ed7953\"],[0.7777777777777778,\"#fb9f3a\"],[0.8888888888888888,\"#fdca26\"],[1.0,\"#f0f921\"]]}],\"heatmap\":[{\"type\":\"heatmap\",\"colorbar\":{\"outlinewidth\":0,\"ticks\":\"\"},\"colorscale\":[[0.0,\"#0d0887\"],[0.1111111111111111,\"#46039f\"],[0.2222222222222222,\"#7201a8\"],[0.3333333333333333,\"#9c179e\"],[0.4444444444444444,\"#bd3786\"],[0.5555555555555556,\"#d8576b\"],[0.6666666666666666,\"#ed7953\"],[0.7777777777777778,\"#fb9f3a\"],[0.8888888888888888,\"#fdca26\"],[1.0,\"#f0f921\"]]}],\"heatmapgl\":[{\"type\":\"heatmapgl\",\"colorbar\":{\"outlinewidth\":0,\"ticks\":\"\"},\"colorscale\":[[0.0,\"#0d0887\"],[0.1111111111111111,\"#46039f\"],[0.2222222222222222,\"#7201a8\"],[0.3333333333333333,\"#9c179e\"],[0.4444444444444444,\"#bd3786\"],[0.5555555555555556,\"#d8576b\"],[0.6666666666666666,\"#ed7953\"],[0.7777777777777778,\"#fb9f3a\"],[0.8888888888888888,\"#fdca26\"],[1.0,\"#f0f921\"]]}],\"contourcarpet\":[{\"type\":\"contourcarpet\",\"colorbar\":{\"outlinewidth\":0,\"ticks\":\"\"}}],\"contour\":[{\"type\":\"contour\",\"colorbar\":{\"outlinewidth\":0,\"ticks\":\"\"},\"colorscale\":[[0.0,\"#0d0887\"],[0.1111111111111111,\"#46039f\"],[0.2222222222222222,\"#7201a8\"],[0.3333333333333333,\"#9c179e\"],[0.4444444444444444,\"#bd3786\"],[0.5555555555555556,\"#d8576b\"],[0.6666666666666666,\"#ed7953\"],[0.7777777777777778,\"#fb9f3a\"],[0.8888888888888888,\"#fdca26\"],[1.0,\"#f0f921\"]]}],\"surface\":[{\"type\":\"surface\",\"colorbar\":{\"outlinewidth\":0,\"ticks\":\"\"},\"colorscale\":[[0.0,\"#0d0887\"],[0.1111111111111111,\"#46039f\"],[0.2222222222222222,\"#7201a8\"],[0.3333333333333333,\"#9c179e\"],[0.4444444444444444,\"#bd3786\"],[0.5555555555555556,\"#d8576b\"],[0.6666666666666666,\"#ed7953\"],[0.7777777777777778,\"#fb9f3a\"],[0.8888888888888888,\"#fdca26\"],[1.0,\"#f0f921\"]]}],\"mesh3d\":[{\"type\":\"mesh3d\",\"colorbar\":{\"outlinewidth\":0,\"ticks\":\"\"}}],\"scatter\":[{\"fillpattern\":{\"fillmode\":\"overlay\",\"size\":10,\"solidity\":0.2},\"type\":\"scatter\"}],\"parcoords\":[{\"type\":\"parcoords\",\"line\":{\"colorbar\":{\"outlinewidth\":0,\"ticks\":\"\"}}}],\"scatterpolargl\":[{\"type\":\"scatterpolargl\",\"marker\":{\"colorbar\":{\"outlinewidth\":0,\"ticks\":\"\"}}}],\"bar\":[{\"error_x\":{\"color\":\"#2a3f5f\"},\"error_y\":{\"color\":\"#2a3f5f\"},\"marker\":{\"line\":{\"color\":\"#E5ECF6\",\"width\":0.5},\"pattern\":{\"fillmode\":\"overlay\",\"size\":10,\"solidity\":0.2}},\"type\":\"bar\"}],\"scattergeo\":[{\"type\":\"scattergeo\",\"marker\":{\"colorbar\":{\"outlinewidth\":0,\"ticks\":\"\"}}}],\"scatterpolar\":[{\"type\":\"scatterpolar\",\"marker\":{\"colorbar\":{\"outlinewidth\":0,\"ticks\":\"\"}}}],\"histogram\":[{\"marker\":{\"pattern\":{\"fillmode\":\"overlay\",\"size\":10,\"solidity\":0.2}},\"type\":\"histogram\"}],\"scattergl\":[{\"type\":\"scattergl\",\"marker\":{\"colorbar\":{\"outlinewidth\":0,\"ticks\":\"\"}}}],\"scatter3d\":[{\"type\":\"scatter3d\",\"line\":{\"colorbar\":{\"outlinewidth\":0,\"ticks\":\"\"}},\"marker\":{\"colorbar\":{\"outlinewidth\":0,\"ticks\":\"\"}}}],\"scattermapbox\":[{\"type\":\"scattermapbox\",\"marker\":{\"colorbar\":{\"outlinewidth\":0,\"ticks\":\"\"}}}],\"scatterternary\":[{\"type\":\"scatterternary\",\"marker\":{\"colorbar\":{\"outlinewidth\":0,\"ticks\":\"\"}}}],\"scattercarpet\":[{\"type\":\"scattercarpet\",\"marker\":{\"colorbar\":{\"outlinewidth\":0,\"ticks\":\"\"}}}],\"carpet\":[{\"aaxis\":{\"endlinecolor\":\"#2a3f5f\",\"gridcolor\":\"white\",\"linecolor\":\"white\",\"minorgridcolor\":\"white\",\"startlinecolor\":\"#2a3f5f\"},\"baxis\":{\"endlinecolor\":\"#2a3f5f\",\"gridcolor\":\"white\",\"linecolor\":\"white\",\"minorgridcolor\":\"white\",\"startlinecolor\":\"#2a3f5f\"},\"type\":\"carpet\"}],\"table\":[{\"cells\":{\"fill\":{\"color\":\"#EBF0F8\"},\"line\":{\"color\":\"white\"}},\"header\":{\"fill\":{\"color\":\"#C8D4E3\"},\"line\":{\"color\":\"white\"}},\"type\":\"table\"}],\"barpolar\":[{\"marker\":{\"line\":{\"color\":\"#E5ECF6\",\"width\":0.5},\"pattern\":{\"fillmode\":\"overlay\",\"size\":10,\"solidity\":0.2}},\"type\":\"barpolar\"}],\"pie\":[{\"automargin\":true,\"type\":\"pie\"}]},\"layout\":{\"autotypenumbers\":\"strict\",\"colorway\":[\"#636efa\",\"#EF553B\",\"#00cc96\",\"#ab63fa\",\"#FFA15A\",\"#19d3f3\",\"#FF6692\",\"#B6E880\",\"#FF97FF\",\"#FECB52\"],\"font\":{\"color\":\"#2a3f5f\"},\"hovermode\":\"closest\",\"hoverlabel\":{\"align\":\"left\"},\"paper_bgcolor\":\"white\",\"plot_bgcolor\":\"#E5ECF6\",\"polar\":{\"bgcolor\":\"#E5ECF6\",\"angularaxis\":{\"gridcolor\":\"white\",\"linecolor\":\"white\",\"ticks\":\"\"},\"radialaxis\":{\"gridcolor\":\"white\",\"linecolor\":\"white\",\"ticks\":\"\"}},\"ternary\":{\"bgcolor\":\"#E5ECF6\",\"aaxis\":{\"gridcolor\":\"white\",\"linecolor\":\"white\",\"ticks\":\"\"},\"baxis\":{\"gridcolor\":\"white\",\"linecolor\":\"white\",\"ticks\":\"\"},\"caxis\":{\"gridcolor\":\"white\",\"linecolor\":\"white\",\"ticks\":\"\"}},\"coloraxis\":{\"colorbar\":{\"outlinewidth\":0,\"ticks\":\"\"}},\"colorscale\":{\"sequential\":[[0.0,\"#0d0887\"],[0.1111111111111111,\"#46039f\"],[0.2222222222222222,\"#7201a8\"],[0.3333333333333333,\"#9c179e\"],[0.4444444444444444,\"#bd3786\"],[0.5555555555555556,\"#d8576b\"],[0.6666666666666666,\"#ed7953\"],[0.7777777777777778,\"#fb9f3a\"],[0.8888888888888888,\"#fdca26\"],[1.0,\"#f0f921\"]],\"sequentialminus\":[[0.0,\"#0d0887\"],[0.1111111111111111,\"#46039f\"],[0.2222222222222222,\"#7201a8\"],[0.3333333333333333,\"#9c179e\"],[0.4444444444444444,\"#bd3786\"],[0.5555555555555556,\"#d8576b\"],[0.6666666666666666,\"#ed7953\"],[0.7777777777777778,\"#fb9f3a\"],[0.8888888888888888,\"#fdca26\"],[1.0,\"#f0f921\"]],\"diverging\":[[0,\"#8e0152\"],[0.1,\"#c51b7d\"],[0.2,\"#de77ae\"],[0.3,\"#f1b6da\"],[0.4,\"#fde0ef\"],[0.5,\"#f7f7f7\"],[0.6,\"#e6f5d0\"],[0.7,\"#b8e186\"],[0.8,\"#7fbc41\"],[0.9,\"#4d9221\"],[1,\"#276419\"]]},\"xaxis\":{\"gridcolor\":\"white\",\"linecolor\":\"white\",\"ticks\":\"\",\"title\":{\"standoff\":15},\"zerolinecolor\":\"white\",\"automargin\":true,\"zerolinewidth\":2},\"yaxis\":{\"gridcolor\":\"white\",\"linecolor\":\"white\",\"ticks\":\"\",\"title\":{\"standoff\":15},\"zerolinecolor\":\"white\",\"automargin\":true,\"zerolinewidth\":2},\"scene\":{\"xaxis\":{\"backgroundcolor\":\"#E5ECF6\",\"gridcolor\":\"white\",\"linecolor\":\"white\",\"showbackground\":true,\"ticks\":\"\",\"zerolinecolor\":\"white\",\"gridwidth\":2},\"yaxis\":{\"backgroundcolor\":\"#E5ECF6\",\"gridcolor\":\"white\",\"linecolor\":\"white\",\"showbackground\":true,\"ticks\":\"\",\"zerolinecolor\":\"white\",\"gridwidth\":2},\"zaxis\":{\"backgroundcolor\":\"#E5ECF6\",\"gridcolor\":\"white\",\"linecolor\":\"white\",\"showbackground\":true,\"ticks\":\"\",\"zerolinecolor\":\"white\",\"gridwidth\":2}},\"shapedefaults\":{\"line\":{\"color\":\"#2a3f5f\"}},\"annotationdefaults\":{\"arrowcolor\":\"#2a3f5f\",\"arrowhead\":0,\"arrowwidth\":1},\"geo\":{\"bgcolor\":\"white\",\"landcolor\":\"#E5ECF6\",\"subunitcolor\":\"white\",\"showland\":true,\"showlakes\":true,\"lakecolor\":\"white\"},\"title\":{\"x\":0.05},\"mapbox\":{\"style\":\"light\"}}}},                        {\"responsive\": true}                    ).then(function(){\n",
              "                            \n",
              "var gd = document.getElementById('60e73f48-c47b-4c9a-a768-956e8bc1be15');\n",
              "var x = new MutationObserver(function (mutations, observer) {{\n",
              "        var display = window.getComputedStyle(gd).display;\n",
              "        if (!display || display === 'none') {{\n",
              "            console.log([gd, 'removed!']);\n",
              "            Plotly.purge(gd);\n",
              "            observer.disconnect();\n",
              "        }}\n",
              "}});\n",
              "\n",
              "// Listen for the removal of the full notebook cells\n",
              "var notebookContainer = gd.closest('#notebook-container');\n",
              "if (notebookContainer) {{\n",
              "    x.observe(notebookContainer, {childList: true});\n",
              "}}\n",
              "\n",
              "// Listen for the clearing of the current output cell\n",
              "var outputEl = gd.closest('.output');\n",
              "if (outputEl) {{\n",
              "    x.observe(outputEl, {childList: true});\n",
              "}}\n",
              "\n",
              "                        })                };                            </script>        </div>\n",
              "</body>\n",
              "</html>"
            ]
          },
          "metadata": {}
        }
      ]
    },
    {
      "cell_type": "markdown",
      "source": [
        "Evauleringer av beste modell"
      ],
      "metadata": {
        "id": "QlsyU7zY7ADP"
      }
    },
    {
      "cell_type": "code",
      "source": [
        "def detailed_objective(trial):\n",
        "  parametere = {\n",
        "      'n_estimators': trial.suggest_int('n_estimators', 100, 200),\n",
        "      'max_depth': trial.suggest_int('max_depth', 1, 10)\n",
        "  }\n",
        "  rf_pipeline = Pipeline([\n",
        "      ('skalerer', StandardScaler()),\n",
        "      ('modell', RandomForestRegressor(**parametere, random_state=random_seed))\n",
        "  ])\n",
        "\n",
        "  rf_pipeline.fit(X_trening, y_trening)\n",
        "  y_test_prediksjon = rf_pipeline.predict(X_test)\n",
        "  y_trening_prediksjon = rf_pipeline.predict(X_trening)\n",
        "\n",
        "  mse_test = mean_squared_error(y_test, y_test_prediksjon)\n",
        "  r2_test = r2_score(y_test, y_test_prediksjon)\n",
        "\n",
        "  mse_trening = mean_squared_error(y_trening, y_trening_prediksjon)\n",
        "  r2_trening = r2_score(y_trening, y_trening_prediksjon)\n",
        "\n",
        "  return mse_test, r2_test, mse_trening, r2_trening\n",
        "\n",
        "mse_test_resultat = detailed_objective(study.best_trial)[0]\n",
        "r2_test_resultat = detailed_objective(study.best_trial)[1]\n",
        "mse_trening_resultat = detailed_objective(study.best_trial)[2]\n",
        "r2_trening_resultat = detailed_objective(study.best_trial)[3]\n",
        "\n",
        "print(\"Beste hyperparametere for RandomForestRegressor: {}\".format(study.best_params))\n",
        "print(\"Test: MSE: {}, og R^2: {}\".format(mse_test_resultat, r2_test_resultat))\n",
        "print(\"Trening: MSE: {}, og R^2: {}\".format(mse_trening_resultat, r2_trening_resultat))"
      ],
      "metadata": {
        "colab": {
          "base_uri": "https://localhost:8080/"
        },
        "id": "JrxN1-YQ7FUe",
        "outputId": "bf0d24a5-9dbb-4b88-992b-7be94616120f"
      },
      "execution_count": 17,
      "outputs": [
        {
          "output_type": "stream",
          "name": "stdout",
          "text": [
            "Beste hyperparametere for RandomForestRegressor: {'n_estimators': 125, 'max_depth': 8}\n",
            "Test: MSE: 16.1279219616204, og R^2: 0.5359083947487182\n",
            "Trening: MSE: 1.6344692049527287, og R^2: 0.9354977759025687\n"
          ]
        }
      ]
    },
    {
      "cell_type": "markdown",
      "source": [
        "# NIR målinger ekskludert"
      ],
      "metadata": {
        "id": "XWTOFeY8Xv-D"
      }
    },
    {
      "cell_type": "code",
      "source": [],
      "metadata": {
        "id": "kCciKFdHXyaa"
      },
      "execution_count": null,
      "outputs": []
    }
  ]
}