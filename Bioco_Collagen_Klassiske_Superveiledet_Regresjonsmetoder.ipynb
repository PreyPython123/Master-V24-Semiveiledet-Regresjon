{
  "nbformat": 4,
  "nbformat_minor": 0,
  "metadata": {
    "colab": {
      "provenance": [],
      "collapsed_sections": [
        "uPtuGVtCJOFj",
        "qhRMrFFHlZuX",
        "21cdLIoaSTR6",
        "i_1rn21ITRJ4",
        "frddyr4dN5CW",
        "wQpsJkKShL_9",
        "RAPTeouaQcXa",
        "Vug3qjOcXxOJ",
        "BlPTIszOTrVD",
        "hX9_AnkRUCjj",
        "6QoJbRPZUk6t",
        "ItNTDh9mUpGx"
      ],
      "authorship_tag": "ABX9TyPdZ7Wdt6GOUxSpYYzl/g6M",
      "include_colab_link": true
    },
    "kernelspec": {
      "name": "python3",
      "display_name": "Python 3"
    },
    "language_info": {
      "name": "python"
    }
  },
  "cells": [
    {
      "cell_type": "markdown",
      "metadata": {
        "id": "view-in-github",
        "colab_type": "text"
      },
      "source": [
        "<a href=\"https://colab.research.google.com/github/PreyPython123/Master-V24-Semiveiledet-Regresjon/blob/Collagen-Pradeep/Bioco_Collagen_Klassiske_Superveiledet_Regresjonsmetoder.ipynb\" target=\"_parent\"><img src=\"https://colab.research.google.com/assets/colab-badge.svg\" alt=\"Open In Colab\"/></a>"
      ]
    },
    {
      "cell_type": "code",
      "execution_count": 1,
      "metadata": {
        "colab": {
          "base_uri": "https://localhost:8080/"
        },
        "id": "nwEzUjnf0xLZ",
        "outputId": "35dcc8b1-d886-4a65-8962-e7f18d492c81"
      },
      "outputs": [
        {
          "output_type": "stream",
          "name": "stdout",
          "text": [
            "Mounted at /content/drive/\n"
          ]
        }
      ],
      "source": [
        "from google.colab import drive\n",
        "drive.mount('/content/drive/')"
      ]
    },
    {
      "cell_type": "markdown",
      "metadata": {
        "id": "uPtuGVtCJOFj"
      },
      "source": [
        "# Importering, lasting og formattering"
      ]
    },
    {
      "cell_type": "markdown",
      "metadata": {
        "id": "ZNeQrag9Rlc_"
      },
      "source": [
        "Lasting av nødvendige bibliotek og pakker"
      ]
    },
    {
      "cell_type": "code",
      "execution_count": 2,
      "metadata": {
        "colab": {
          "base_uri": "https://localhost:8080/"
        },
        "id": "k5u1dZmp6cJ9",
        "outputId": "9bf1d8aa-cf85-4443-fabe-4a17b067c02c"
      },
      "outputs": [
        {
          "output_type": "stream",
          "name": "stdout",
          "text": [
            "Collecting optuna\n",
            "  Downloading optuna-3.6.1-py3-none-any.whl (380 kB)\n",
            "\u001b[2K     \u001b[90m━━━━━━━━━━━━━━━━━━━━━━━━━━━━━━━━━━━━━━━━\u001b[0m \u001b[32m380.1/380.1 kB\u001b[0m \u001b[31m2.8 MB/s\u001b[0m eta \u001b[36m0:00:00\u001b[0m\n",
            "\u001b[?25hCollecting alembic>=1.5.0 (from optuna)\n",
            "  Downloading alembic-1.13.1-py3-none-any.whl (233 kB)\n",
            "\u001b[2K     \u001b[90m━━━━━━━━━━━━━━━━━━━━━━━━━━━━━━━━━━━━━━━━\u001b[0m \u001b[32m233.4/233.4 kB\u001b[0m \u001b[31m17.0 MB/s\u001b[0m eta \u001b[36m0:00:00\u001b[0m\n",
            "\u001b[?25hCollecting colorlog (from optuna)\n",
            "  Downloading colorlog-6.8.2-py3-none-any.whl (11 kB)\n",
            "Requirement already satisfied: numpy in /usr/local/lib/python3.10/dist-packages (from optuna) (1.25.2)\n",
            "Requirement already satisfied: packaging>=20.0 in /usr/local/lib/python3.10/dist-packages (from optuna) (24.0)\n",
            "Requirement already satisfied: sqlalchemy>=1.3.0 in /usr/local/lib/python3.10/dist-packages (from optuna) (2.0.29)\n",
            "Requirement already satisfied: tqdm in /usr/local/lib/python3.10/dist-packages (from optuna) (4.66.2)\n",
            "Requirement already satisfied: PyYAML in /usr/local/lib/python3.10/dist-packages (from optuna) (6.0.1)\n",
            "Collecting Mako (from alembic>=1.5.0->optuna)\n",
            "  Downloading Mako-1.3.3-py3-none-any.whl (78 kB)\n",
            "\u001b[2K     \u001b[90m━━━━━━━━━━━━━━━━━━━━━━━━━━━━━━━━━━━━━━━━\u001b[0m \u001b[32m78.8/78.8 kB\u001b[0m \u001b[31m7.6 MB/s\u001b[0m eta \u001b[36m0:00:00\u001b[0m\n",
            "\u001b[?25hRequirement already satisfied: typing-extensions>=4 in /usr/local/lib/python3.10/dist-packages (from alembic>=1.5.0->optuna) (4.11.0)\n",
            "Requirement already satisfied: greenlet!=0.4.17 in /usr/local/lib/python3.10/dist-packages (from sqlalchemy>=1.3.0->optuna) (3.0.3)\n",
            "Requirement already satisfied: MarkupSafe>=0.9.2 in /usr/local/lib/python3.10/dist-packages (from Mako->alembic>=1.5.0->optuna) (2.1.5)\n",
            "Installing collected packages: Mako, colorlog, alembic, optuna\n",
            "Successfully installed Mako-1.3.3 alembic-1.13.1 colorlog-6.8.2 optuna-3.6.1\n"
          ]
        }
      ],
      "source": [
        "!pip install optuna"
      ]
    },
    {
      "cell_type": "markdown",
      "metadata": {
        "id": "jT-YzIdVRply"
      },
      "source": [
        "Importering av nødvendig bibliotek og pakker"
      ]
    },
    {
      "cell_type": "code",
      "execution_count": 3,
      "metadata": {
        "id": "5_s-eJyVk3v0"
      },
      "outputs": [],
      "source": [
        "import pandas as pd\n",
        "import numpy as np\n",
        "import copy\n",
        "import math\n",
        "from statistics import mean, stdev\n",
        "\n",
        "from sklearn.preprocessing import StandardScaler\n",
        "from sklearn.model_selection import RepeatedStratifiedKFold\n",
        "from sklearn.pipeline import Pipeline"
      ]
    },
    {
      "cell_type": "code",
      "source": [
        "# Modeller\n",
        "from sklearn.ensemble import RandomForestRegressor\n",
        "from sklearn.neighbors import KNeighborsRegressor\n",
        "from sklearn.svm import SVR"
      ],
      "metadata": {
        "id": "EH3SQKCIfwnC"
      },
      "execution_count": 4,
      "outputs": []
    },
    {
      "cell_type": "code",
      "execution_count": 5,
      "metadata": {
        "id": "GrgCsoZhmayI"
      },
      "outputs": [],
      "source": [
        "# Hyperoptimalisering\n",
        "import optuna\n",
        "from optuna.visualization import plot_optimization_history\n",
        "\n",
        "# Utelukker utskriving av logg for hyperoptimalisering\n",
        "#optuna.logging.set_verbosity(optuna.logging.WARNING)"
      ]
    },
    {
      "cell_type": "markdown",
      "metadata": {
        "id": "qhRMrFFHlZuX"
      },
      "source": [
        "# Egendefinerte moduler"
      ]
    },
    {
      "cell_type": "code",
      "execution_count": 6,
      "metadata": {
        "colab": {
          "base_uri": "https://localhost:8080/"
        },
        "id": "FXgxrml5lg5B",
        "outputId": "50d67596-db41-41b6-bca4-5bbf46196935"
      },
      "outputs": [
        {
          "output_type": "stream",
          "name": "stdout",
          "text": [
            "/content\n"
          ]
        }
      ],
      "source": [
        "!pwd\n",
        "! cp /content/drive/MyDrive/MasterV24/GitHub/moduler_trening_validering_testing_evaluering.py /content/moduler_trening_validering_testing_evaluering.py"
      ]
    },
    {
      "cell_type": "code",
      "execution_count": 7,
      "metadata": {
        "id": "tvOTDwKLf0q8"
      },
      "outputs": [],
      "source": [
        "from moduler_trening_validering_testing_evaluering import trening_testsett_oppdeling_enzym\n",
        "from moduler_trening_validering_testing_evaluering import trening_testsett_oppdeling_dag\n",
        "from moduler_trening_validering_testing_evaluering import trening_validering_oppdeling_dag\n",
        "\n",
        "from moduler_trening_validering_testing_evaluering import enzymfordeling\n",
        "from moduler_trening_validering_testing_evaluering import n_splitt_enzym\n",
        "from moduler_trening_validering_testing_evaluering import Resultat_evaluering\n",
        "from moduler_trening_validering_testing_evaluering import res_eval_opt\n",
        "from moduler_trening_validering_testing_evaluering import res_eval\n",
        "from moduler_trening_validering_testing_evaluering import Resultat_dicts"
      ]
    },
    {
      "cell_type": "code",
      "execution_count": 8,
      "metadata": {
        "colab": {
          "base_uri": "https://localhost:8080/"
        },
        "id": "JTs_zHhkiBpK",
        "outputId": "c8d5717c-fc25-47dc-b105-5908929b169d"
      },
      "outputs": [
        {
          "output_type": "stream",
          "name": "stdout",
          "text": [
            "/content\n"
          ]
        }
      ],
      "source": [
        "!pwd\n",
        "! cp /content/drive/MyDrive/MasterV24/GitHub/moduler_optimalisering_evaluering_veiledet.py /content/moduler_optimalisering_evaluering_veiledet.py"
      ]
    },
    {
      "cell_type": "code",
      "execution_count": 9,
      "metadata": {
        "id": "A5GEVrXsiYd-"
      },
      "outputs": [],
      "source": [
        "from moduler_optimalisering_evaluering_veiledet import trening_rfr_enzym\n",
        "from moduler_optimalisering_evaluering_veiledet import trening_knr_enzym\n",
        "from moduler_optimalisering_evaluering_veiledet import trening_svr_enzym\n",
        "\n",
        "from moduler_optimalisering_evaluering_veiledet import trening_rfr_dag\n",
        "from moduler_optimalisering_evaluering_veiledet import trening_knr_dag\n",
        "from moduler_optimalisering_evaluering_veiledet import trening_svr_dag\n",
        "\n",
        "from moduler_optimalisering_evaluering_veiledet import veiledet_modell_evaluering_1\n",
        "from moduler_optimalisering_evaluering_veiledet import veiledet_modell_evaluering_2"
      ]
    },
    {
      "cell_type": "markdown",
      "metadata": {
        "id": "21cdLIoaSTR6"
      },
      "source": [
        "# Importering av relevant data"
      ]
    },
    {
      "cell_type": "code",
      "execution_count": 10,
      "metadata": {
        "id": "XeNQyDPZSTwY"
      },
      "outputs": [],
      "source": [
        "# Velger første kolonne med dato og tid som index\n",
        "data = pd.read_csv('/content/drive/MyDrive/MasterV24/Bioco_data/collagen_data.csv',\n",
        "                            header=0,\n",
        "                            sep=',',\n",
        "                            index_col=0)\n",
        "\n",
        "# Design produksjon\n",
        "data_design = pd.read_csv('/content/drive/MyDrive/MasterV24/Bioco_data/collagen_data_design.csv',\n",
        "                                   header=0,\n",
        "                                   sep=',',\n",
        "                                   index_col=0)\n",
        "\n",
        "# Importerer rådata\n",
        "rå_data = pd.read_csv('/content/drive/MyDrive/MasterV24/BiocoData.csv',\n",
        "                      header=0,\n",
        "                      sep=';',\n",
        "                      index_col=0)\n",
        "\n",
        "# Formatterer index til riktig format og datatype\n",
        "data.index = pd.to_datetime(data.index,\n",
        "                            format='%Y-%m-%d %H:%M:%S')\n",
        "\n",
        "data_design.index = pd.to_datetime(data_design.index,\n",
        "                                   format='%Y-%m-%d %H:%M:%S')\n",
        "\n",
        "rå_data.index = pd.to_datetime(rå_data.index,\n",
        "                               format='%d-%m-%Y %H:%M:%S.%f')"
      ]
    },
    {
      "cell_type": "markdown",
      "metadata": {
        "id": "i_1rn21ITRJ4"
      },
      "source": [
        "# Lagring av resultater"
      ]
    },
    {
      "cell_type": "code",
      "execution_count": 11,
      "metadata": {
        "id": "EGIgRqWETUTx"
      },
      "outputs": [],
      "source": [
        "# Oppretter instans for lagring av resultater\n",
        "res = Resultat_dicts()"
      ]
    },
    {
      "cell_type": "markdown",
      "source": [
        "# Parametere til hyperoptimalisering"
      ],
      "metadata": {
        "id": "frddyr4dN5CW"
      }
    },
    {
      "cell_type": "code",
      "source": [
        "# Antall runder til optimalisering\n",
        "n_runder = 100\n",
        "\n",
        "# Parametervalg for kryssvalidering\n",
        "n_gjentagelser = 5"
      ],
      "metadata": {
        "id": "rlWMJLnyN5XO"
      },
      "execution_count": 12,
      "outputs": []
    },
    {
      "cell_type": "markdown",
      "metadata": {
        "id": "7Wl0nay5j2C4"
      },
      "source": [
        "Tilfeldighetsfrø"
      ]
    },
    {
      "cell_type": "code",
      "execution_count": 13,
      "metadata": {
        "id": "OxTGpIOmj4V7"
      },
      "outputs": [],
      "source": [
        "#Tilfeldighetsfrø\n",
        "random_seed = 2024"
      ]
    },
    {
      "cell_type": "markdown",
      "source": [
        "# Testandel og treningsandel"
      ],
      "metadata": {
        "id": "aM_OCydB25if"
      }
    },
    {
      "cell_type": "code",
      "source": [
        "# Setter fast testandel og fast andel av avsatt treningsandel\n",
        "test_andel = 0.2\n",
        "trenings_andel =1.0"
      ],
      "metadata": {
        "id": "uFZn1bVM2_zv"
      },
      "execution_count": 15,
      "outputs": []
    },
    {
      "cell_type": "markdown",
      "metadata": {
        "id": "76aWdlTDXp9I"
      },
      "source": [
        "# NIR målinger inkludert"
      ]
    },
    {
      "cell_type": "markdown",
      "metadata": {
        "id": "wQpsJkKShL_9"
      },
      "source": [
        "## Hele datasett"
      ]
    },
    {
      "cell_type": "markdown",
      "source": [
        "## Alternativ 1: 25% Testsett og Hele resterende treningssett"
      ],
      "metadata": {
        "id": "RAPTeouaQcXa"
      }
    },
    {
      "cell_type": "code",
      "source": [
        "# Deler datasettet i trening og testsett\n",
        "trening_markert, enzymtyper_markert, testsett, _, _, _, trening\\\n",
        "= trening_testsett_oppdeling_enzym(rå_data,\n",
        "                                   data,\n",
        "                                   test_andel=test_andel)"
      ],
      "metadata": {
        "id": "46il6J17QhFG"
      },
      "execution_count": 16,
      "outputs": []
    },
    {
      "cell_type": "code",
      "source": [
        "# Finner antall av enzymtype med minst antall\n",
        "n_splitt = n_splitt_enzym(rå_data,\n",
        "                          trening_markert)\n",
        "\n",
        "# Modelloptimalisering, trening og evaluering av RFR, KNR og SVR\n",
        "veiledet_modell_evaluering_1(dict_res_opt=res.dict_res_1_hel_opt,\n",
        "                             dict_res=res.dict_res_1_hel,\n",
        "                             treningssett_markert=trening_markert,\n",
        "                             enzymtyper_treningssett_markert=enzymtyper_markert,\n",
        "                             testsett=testsett,\n",
        "                             n_splitt=n_splitt,\n",
        "                             n_gjentagelser=n_gjentagelser,\n",
        "                             n_runder=n_runder,\n",
        "                             test_andel=test_andel,\n",
        "                             trenings_andel=trenings_andel,\n",
        "                             random_seed=random_seed)"
      ],
      "metadata": {
        "id": "-1sgIF1zXb2O",
        "colab": {
          "base_uri": "https://localhost:8080/"
        },
        "outputId": "11ba7fde-b4b0-440d-bb3e-15f5bd714321"
      },
      "execution_count": 17,
      "outputs": [
        {
          "output_type": "stream",
          "name": "stderr",
          "text": [
            "[I 2024-05-01 11:14:45,889] A new study created in memory with name: no-name-1210bc6c-cb95-49f0-a59e-a63f1d08a340\n",
            "[I 2024-05-01 11:14:46,136] Trial 0 finished with value: 4.408354779819278 and parameters: {'n_neighbors': 12, 'weights': 'distance', 'p': 10}. Best is trial 0 with value: 4.408354779819278.\n",
            "[I 2024-05-01 11:14:46,166] Trial 1 finished with value: 4.415718799505095 and parameters: {'n_neighbors': 2, 'weights': 'distance', 'p': 8}. Best is trial 0 with value: 4.408354779819278.\n",
            "[I 2024-05-01 11:14:46,400] Trial 2 finished with value: 4.4563895949013785 and parameters: {'n_neighbors': 2, 'weights': 'uniform', 'p': 4}. Best is trial 0 with value: 4.408354779819278.\n",
            "[I 2024-05-01 11:14:46,447] Trial 3 finished with value: 4.48790637542236 and parameters: {'n_neighbors': 6, 'weights': 'uniform', 'p': 8}. Best is trial 0 with value: 4.408354779819278.\n",
            "[I 2024-05-01 11:14:46,716] Trial 4 finished with value: 4.257013855541446 and parameters: {'n_neighbors': 11, 'weights': 'distance', 'p': 4}. Best is trial 4 with value: 4.257013855541446.\n",
            "[I 2024-05-01 11:14:46,952] Trial 5 finished with value: 4.405332271149499 and parameters: {'n_neighbors': 19, 'weights': 'distance', 'p': 5}. Best is trial 4 with value: 4.257013855541446.\n",
            "[I 2024-05-01 11:14:47,016] Trial 6 finished with value: 4.632806484815572 and parameters: {'n_neighbors': 19, 'weights': 'uniform', 'p': 6}. Best is trial 4 with value: 4.257013855541446.\n",
            "[I 2024-05-01 11:14:47,212] Trial 7 finished with value: 4.04315504748482 and parameters: {'n_neighbors': 14, 'weights': 'distance', 'p': 2}. Best is trial 7 with value: 4.04315504748482.\n",
            "[I 2024-05-01 11:14:47,312] Trial 8 finished with value: 4.288120921305374 and parameters: {'n_neighbors': 7, 'weights': 'uniform', 'p': 3}. Best is trial 7 with value: 4.04315504748482.\n",
            "[I 2024-05-01 11:14:47,498] Trial 9 finished with value: 4.3190870643744725 and parameters: {'n_neighbors': 11, 'weights': 'distance', 'p': 6}. Best is trial 7 with value: 4.04315504748482.\n",
            "[I 2024-05-01 11:14:47,619] Trial 10 finished with value: 4.45350281805029 and parameters: {'n_neighbors': 8, 'weights': 'uniform', 'p': 6}. Best is trial 7 with value: 4.04315504748482.\n",
            "[I 2024-05-01 11:14:47,818] Trial 11 finished with value: 4.006943150888074 and parameters: {'n_neighbors': 15, 'weights': 'distance', 'p': 1}. Best is trial 11 with value: 4.006943150888074.\n",
            "[I 2024-05-01 11:14:47,891] Trial 12 finished with value: 3.993103548415879 and parameters: {'n_neighbors': 14, 'weights': 'distance', 'p': 1}. Best is trial 12 with value: 3.993103548415879.\n",
            "[I 2024-05-01 11:14:48,007] Trial 13 finished with value: 4.006943150888074 and parameters: {'n_neighbors': 15, 'weights': 'distance', 'p': 1}. Best is trial 12 with value: 3.993103548415879.\n",
            "[I 2024-05-01 11:14:48,164] Trial 14 finished with value: 4.023735092353524 and parameters: {'n_neighbors': 16, 'weights': 'distance', 'p': 1}. Best is trial 12 with value: 3.993103548415879.\n",
            "[I 2024-05-01 11:14:48,214] Trial 15 finished with value: 4.023735092353524 and parameters: {'n_neighbors': 16, 'weights': 'distance', 'p': 1}. Best is trial 12 with value: 3.993103548415879.\n",
            "[I 2024-05-01 11:14:48,436] Trial 16 finished with value: 4.223905152184724 and parameters: {'n_neighbors': 17, 'weights': 'distance', 'p': 3}. Best is trial 12 with value: 3.993103548415879.\n",
            "[I 2024-05-01 11:14:48,442] Trial 17 finished with value: 4.332556543825919 and parameters: {'n_neighbors': 20, 'weights': 'distance', 'p': 3}. Best is trial 12 with value: 3.993103548415879.\n",
            "[I 2024-05-01 11:14:48,641] Trial 18 finished with value: 4.03199562976143 and parameters: {'n_neighbors': 13, 'weights': 'distance', 'p': 2}. Best is trial 12 with value: 3.993103548415879.\n",
            "[I 2024-05-01 11:14:48,723] Trial 19 finished with value: 4.04315504748482 and parameters: {'n_neighbors': 14, 'weights': 'distance', 'p': 2}. Best is trial 12 with value: 3.993103548415879.\n",
            "[I 2024-05-01 11:14:48,882] Trial 20 finished with value: 3.962156662331812 and parameters: {'n_neighbors': 9, 'weights': 'distance', 'p': 2}. Best is trial 20 with value: 3.962156662331812.\n",
            "[I 2024-05-01 11:14:48,970] Trial 21 finished with value: 4.364328932406052 and parameters: {'n_neighbors': 9, 'weights': 'distance', 'p': 8}. Best is trial 20 with value: 3.962156662331812.\n",
            "[I 2024-05-01 11:14:49,109] Trial 22 finished with value: 4.009861019891092 and parameters: {'n_neighbors': 9, 'weights': 'distance', 'p': 1}. Best is trial 20 with value: 3.962156662331812.\n",
            "[I 2024-05-01 11:14:49,192] Trial 23 finished with value: 3.976939515069239 and parameters: {'n_neighbors': 10, 'weights': 'distance', 'p': 1}. Best is trial 20 with value: 3.962156662331812.\n",
            "[I 2024-05-01 11:14:49,335] Trial 25 finished with value: 4.070932921214162 and parameters: {'n_neighbors': 5, 'weights': 'distance', 'p': 2}. Best is trial 20 with value: 3.962156662331812.\n",
            "[I 2024-05-01 11:14:49,527] Trial 26 finished with value: 4.287828369086849 and parameters: {'n_neighbors': 4, 'weights': 'distance', 'p': 4}. Best is trial 20 with value: 3.962156662331812.\n",
            "[I 2024-05-01 11:14:49,559] Trial 24 finished with value: 4.118306123490871 and parameters: {'n_neighbors': 17, 'weights': 'distance', 'p': 2}. Best is trial 20 with value: 3.962156662331812.\n",
            "[I 2024-05-01 11:14:49,702] Trial 27 finished with value: 4.029182291790888 and parameters: {'n_neighbors': 9, 'weights': 'uniform', 'p': 2}. Best is trial 20 with value: 3.962156662331812.\n",
            "[I 2024-05-01 11:14:49,829] Trial 28 finished with value: 4.198952880592995 and parameters: {'n_neighbors': 9, 'weights': 'uniform', 'p': 3}. Best is trial 20 with value: 3.962156662331812.\n",
            "[I 2024-05-01 11:14:49,964] Trial 29 finished with value: 4.147835425278215 and parameters: {'n_neighbors': 10, 'weights': 'distance', 'p': 3}. Best is trial 20 with value: 3.962156662331812.\n",
            "[I 2024-05-01 11:14:50,047] Trial 30 finished with value: 4.410799894267643 and parameters: {'n_neighbors': 12, 'weights': 'distance', 'p': 9}. Best is trial 20 with value: 3.962156662331812.\n",
            "[I 2024-05-01 11:14:50,234] Trial 31 finished with value: 4.410799894267643 and parameters: {'n_neighbors': 12, 'weights': 'distance', 'p': 9}. Best is trial 20 with value: 3.962156662331812.\n",
            "[I 2024-05-01 11:14:50,298] Trial 32 finished with value: 3.9627339736928464 and parameters: {'n_neighbors': 12, 'weights': 'distance', 'p': 1}. Best is trial 20 with value: 3.962156662331812.\n",
            "[I 2024-05-01 11:14:50,454] Trial 33 finished with value: 3.9685333536270715 and parameters: {'n_neighbors': 13, 'weights': 'distance', 'p': 1}. Best is trial 20 with value: 3.962156662331812.\n",
            "[I 2024-05-01 11:14:50,537] Trial 34 finished with value: 3.9627339736928464 and parameters: {'n_neighbors': 12, 'weights': 'distance', 'p': 1}. Best is trial 20 with value: 3.962156662331812.\n",
            "[I 2024-05-01 11:14:50,703] Trial 35 finished with value: 4.0206218739379525 and parameters: {'n_neighbors': 12, 'weights': 'distance', 'p': 2}. Best is trial 20 with value: 3.962156662331812.\n",
            "[I 2024-05-01 11:14:50,773] Trial 36 finished with value: 4.0206218739379525 and parameters: {'n_neighbors': 12, 'weights': 'distance', 'p': 2}. Best is trial 20 with value: 3.962156662331812.\n",
            "[I 2024-05-01 11:14:50,970] Trial 37 finished with value: 4.674564381913132 and parameters: {'n_neighbors': 1, 'weights': 'distance', 'p': 4}. Best is trial 20 with value: 3.962156662331812.\n",
            "[I 2024-05-01 11:14:51,013] Trial 38 finished with value: 4.290545674713022 and parameters: {'n_neighbors': 7, 'weights': 'distance', 'p': 4}. Best is trial 20 with value: 3.962156662331812.\n",
            "[I 2024-05-01 11:14:51,222] Trial 39 finished with value: 4.1484447446404005 and parameters: {'n_neighbors': 7, 'weights': 'uniform', 'p': 1}. Best is trial 20 with value: 3.962156662331812.\n",
            "[I 2024-05-01 11:14:51,256] Trial 40 finished with value: 4.446717119894512 and parameters: {'n_neighbors': 13, 'weights': 'uniform', 'p': 5}. Best is trial 20 with value: 3.962156662331812.\n",
            "[I 2024-05-01 11:14:51,428] Trial 41 finished with value: 3.9685333536270715 and parameters: {'n_neighbors': 13, 'weights': 'distance', 'p': 1}. Best is trial 20 with value: 3.962156662331812.\n",
            "[I 2024-05-01 11:14:51,508] Trial 42 finished with value: 3.976939515069239 and parameters: {'n_neighbors': 10, 'weights': 'distance', 'p': 1}. Best is trial 20 with value: 3.962156662331812.\n",
            "[I 2024-05-01 11:14:51,709] Trial 43 finished with value: 4.340256946317651 and parameters: {'n_neighbors': 11, 'weights': 'distance', 'p': 7}. Best is trial 20 with value: 3.962156662331812.\n",
            "[I 2024-05-01 11:14:51,743] Trial 44 finished with value: 4.340256946317651 and parameters: {'n_neighbors': 11, 'weights': 'distance', 'p': 7}. Best is trial 20 with value: 3.962156662331812.\n",
            "[I 2024-05-01 11:14:51,969] Trial 45 finished with value: 3.9685333536270715 and parameters: {'n_neighbors': 13, 'weights': 'distance', 'p': 1}. Best is trial 20 with value: 3.962156662331812.\n",
            "[I 2024-05-01 11:14:51,980] Trial 46 finished with value: 3.993103548415879 and parameters: {'n_neighbors': 14, 'weights': 'distance', 'p': 1}. Best is trial 20 with value: 3.962156662331812.\n",
            "[I 2024-05-01 11:14:52,163] Trial 47 finished with value: 4.112669624554653 and parameters: {'n_neighbors': 13, 'weights': 'distance', 'p': 3}. Best is trial 20 with value: 3.962156662331812.\n",
            "[I 2024-05-01 11:14:52,235] Trial 48 finished with value: 4.163293587669779 and parameters: {'n_neighbors': 15, 'weights': 'distance', 'p': 3}. Best is trial 20 with value: 3.962156662331812.\n",
            "[I 2024-05-01 11:14:52,375] Trial 49 finished with value: 4.059052802154341 and parameters: {'n_neighbors': 15, 'weights': 'distance', 'p': 2}. Best is trial 20 with value: 3.962156662331812.\n",
            "[I 2024-05-01 11:14:52,484] Trial 50 finished with value: 4.063665910754886 and parameters: {'n_neighbors': 8, 'weights': 'uniform', 'p': 2}. Best is trial 20 with value: 3.962156662331812.\n",
            "[I 2024-05-01 11:14:52,621] Trial 51 finished with value: 4.1227517227358295 and parameters: {'n_neighbors': 8, 'weights': 'uniform', 'p': 1}. Best is trial 20 with value: 3.962156662331812.\n",
            "[I 2024-05-01 11:14:52,728] Trial 52 finished with value: 3.966300133578758 and parameters: {'n_neighbors': 11, 'weights': 'distance', 'p': 1}. Best is trial 20 with value: 3.962156662331812.\n",
            "[I 2024-05-01 11:14:52,861] Trial 53 finished with value: 3.9685333536270715 and parameters: {'n_neighbors': 13, 'weights': 'distance', 'p': 1}. Best is trial 20 with value: 3.962156662331812.\n",
            "[I 2024-05-01 11:14:52,992] Trial 54 finished with value: 3.976939515069239 and parameters: {'n_neighbors': 10, 'weights': 'distance', 'p': 1}. Best is trial 20 with value: 3.962156662331812.\n",
            "[I 2024-05-01 11:14:53,109] Trial 55 finished with value: 3.966300133578758 and parameters: {'n_neighbors': 11, 'weights': 'distance', 'p': 1}. Best is trial 20 with value: 3.962156662331812.\n",
            "[I 2024-05-01 11:14:53,232] Trial 56 finished with value: 4.019675862779904 and parameters: {'n_neighbors': 11, 'weights': 'distance', 'p': 2}. Best is trial 20 with value: 3.962156662331812.\n",
            "[I 2024-05-01 11:14:53,348] Trial 57 finished with value: 4.019675862779904 and parameters: {'n_neighbors': 11, 'weights': 'distance', 'p': 2}. Best is trial 20 with value: 3.962156662331812.\n",
            "[I 2024-05-01 11:14:53,469] Trial 58 finished with value: 4.019675862779904 and parameters: {'n_neighbors': 11, 'weights': 'distance', 'p': 2}. Best is trial 20 with value: 3.962156662331812.\n",
            "[I 2024-05-01 11:14:53,650] Trial 59 finished with value: 3.976939515069239 and parameters: {'n_neighbors': 10, 'weights': 'distance', 'p': 1}. Best is trial 20 with value: 3.962156662331812.\n",
            "[I 2024-05-01 11:14:53,721] Trial 60 finished with value: 3.993103548415879 and parameters: {'n_neighbors': 14, 'weights': 'distance', 'p': 1}. Best is trial 20 with value: 3.962156662331812.\n",
            "[I 2024-05-01 11:14:53,841] Trial 61 finished with value: 4.023735092353524 and parameters: {'n_neighbors': 16, 'weights': 'distance', 'p': 1}. Best is trial 20 with value: 3.962156662331812.\n",
            "[I 2024-05-01 11:14:54,022] Trial 62 finished with value: 3.9627339736928464 and parameters: {'n_neighbors': 12, 'weights': 'distance', 'p': 1}. Best is trial 20 with value: 3.962156662331812.\n",
            "[I 2024-05-01 11:14:54,070] Trial 63 finished with value: 3.9627339736928464 and parameters: {'n_neighbors': 12, 'weights': 'distance', 'p': 1}. Best is trial 20 with value: 3.962156662331812.\n",
            "[I 2024-05-01 11:14:54,275] Trial 64 finished with value: 4.0206218739379525 and parameters: {'n_neighbors': 12, 'weights': 'distance', 'p': 2}. Best is trial 20 with value: 3.962156662331812.\n",
            "[I 2024-05-01 11:14:54,307] Trial 65 finished with value: 4.0206218739379525 and parameters: {'n_neighbors': 12, 'weights': 'distance', 'p': 2}. Best is trial 20 with value: 3.962156662331812.\n",
            "[I 2024-05-01 11:14:54,490] Trial 66 finished with value: 3.9627339736928464 and parameters: {'n_neighbors': 12, 'weights': 'distance', 'p': 1}. Best is trial 20 with value: 3.962156662331812.\n",
            "[I 2024-05-01 11:14:54,550] Trial 67 finished with value: 4.009861019891092 and parameters: {'n_neighbors': 9, 'weights': 'distance', 'p': 1}. Best is trial 20 with value: 3.962156662331812.\n",
            "[I 2024-05-01 11:14:54,761] Trial 68 finished with value: 4.115959464540101 and parameters: {'n_neighbors': 9, 'weights': 'distance', 'p': 3}. Best is trial 20 with value: 3.962156662331812.\n",
            "[I 2024-05-01 11:14:54,786] Trial 69 finished with value: 4.121359541797088 and parameters: {'n_neighbors': 14, 'weights': 'distance', 'p': 3}. Best is trial 20 with value: 3.962156662331812.\n",
            "[I 2024-05-01 11:14:55,000] Trial 71 finished with value: 4.0206218739379525 and parameters: {'n_neighbors': 12, 'weights': 'distance', 'p': 2}. Best is trial 20 with value: 3.962156662331812.\n",
            "[I 2024-05-01 11:14:55,035] Trial 70 finished with value: 4.0206218739379525 and parameters: {'n_neighbors': 12, 'weights': 'distance', 'p': 2}. Best is trial 20 with value: 3.962156662331812.\n",
            "[I 2024-05-01 11:14:55,241] Trial 73 finished with value: 3.966300133578758 and parameters: {'n_neighbors': 11, 'weights': 'distance', 'p': 1}. Best is trial 20 with value: 3.962156662331812.\n",
            "[I 2024-05-01 11:14:55,285] Trial 72 finished with value: 3.966300133578758 and parameters: {'n_neighbors': 11, 'weights': 'distance', 'p': 1}. Best is trial 20 with value: 3.962156662331812.\n",
            "[I 2024-05-01 11:14:55,437] Trial 74 finished with value: 3.976939515069239 and parameters: {'n_neighbors': 10, 'weights': 'distance', 'p': 1}. Best is trial 20 with value: 3.962156662331812.\n",
            "[I 2024-05-01 11:14:55,528] Trial 75 finished with value: 3.976939515069239 and parameters: {'n_neighbors': 10, 'weights': 'distance', 'p': 1}. Best is trial 20 with value: 3.962156662331812.\n",
            "[I 2024-05-01 11:14:55,685] Trial 76 finished with value: 3.9959507551686833 and parameters: {'n_neighbors': 10, 'weights': 'distance', 'p': 2}. Best is trial 20 with value: 3.962156662331812.\n",
            "[I 2024-05-01 11:14:55,775] Trial 77 finished with value: 4.0206218739379525 and parameters: {'n_neighbors': 12, 'weights': 'distance', 'p': 2}. Best is trial 20 with value: 3.962156662331812.\n",
            "[I 2024-05-01 11:14:55,923] Trial 78 finished with value: 4.1227517227358295 and parameters: {'n_neighbors': 8, 'weights': 'uniform', 'p': 1}. Best is trial 20 with value: 3.962156662331812.\n",
            "[I 2024-05-01 11:14:56,029] Trial 79 finished with value: 4.162223342977668 and parameters: {'n_neighbors': 14, 'weights': 'uniform', 'p': 1}. Best is trial 20 with value: 3.962156662331812.\n",
            "[I 2024-05-01 11:14:56,142] Trial 80 finished with value: 4.0544409168299635 and parameters: {'n_neighbors': 6, 'weights': 'distance', 'p': 1}. Best is trial 20 with value: 3.962156662331812.\n",
            "[I 2024-05-01 11:14:56,288] Trial 81 finished with value: 3.9685333536270715 and parameters: {'n_neighbors': 13, 'weights': 'distance', 'p': 1}. Best is trial 20 with value: 3.962156662331812.\n",
            "[I 2024-05-01 11:14:56,376] Trial 82 finished with value: 3.966300133578758 and parameters: {'n_neighbors': 11, 'weights': 'distance', 'p': 1}. Best is trial 20 with value: 3.962156662331812.\n",
            "[I 2024-05-01 11:14:56,528] Trial 83 finished with value: 3.966300133578758 and parameters: {'n_neighbors': 11, 'weights': 'distance', 'p': 1}. Best is trial 20 with value: 3.962156662331812.\n",
            "[I 2024-05-01 11:14:56,627] Trial 84 finished with value: 3.966300133578758 and parameters: {'n_neighbors': 11, 'weights': 'distance', 'p': 1}. Best is trial 20 with value: 3.962156662331812.\n",
            "[I 2024-05-01 11:14:56,749] Trial 85 finished with value: 3.9627339736928464 and parameters: {'n_neighbors': 12, 'weights': 'distance', 'p': 1}. Best is trial 20 with value: 3.962156662331812.\n",
            "[I 2024-05-01 11:14:56,952] Trial 87 finished with value: 4.322672261391906 and parameters: {'n_neighbors': 12, 'weights': 'distance', 'p': 5}. Best is trial 20 with value: 3.962156662331812.\n",
            "[I 2024-05-01 11:14:56,976] Trial 86 finished with value: 4.408354779819278 and parameters: {'n_neighbors': 12, 'weights': 'distance', 'p': 10}. Best is trial 20 with value: 3.962156662331812.\n",
            "[I 2024-05-01 11:14:57,126] Trial 88 finished with value: 4.03199562976143 and parameters: {'n_neighbors': 13, 'weights': 'distance', 'p': 2}. Best is trial 20 with value: 3.962156662331812.\n",
            "[I 2024-05-01 11:14:57,253] Trial 89 finished with value: 4.03199562976143 and parameters: {'n_neighbors': 13, 'weights': 'distance', 'p': 2}. Best is trial 20 with value: 3.962156662331812.\n",
            "[I 2024-05-01 11:14:57,381] Trial 90 finished with value: 3.9685333536270715 and parameters: {'n_neighbors': 13, 'weights': 'distance', 'p': 1}. Best is trial 20 with value: 3.962156662331812.\n",
            "[I 2024-05-01 11:14:57,510] Trial 91 finished with value: 3.976939515069239 and parameters: {'n_neighbors': 10, 'weights': 'distance', 'p': 1}. Best is trial 20 with value: 3.962156662331812.\n",
            "[I 2024-05-01 11:14:57,701] Trial 93 finished with value: 3.966300133578758 and parameters: {'n_neighbors': 11, 'weights': 'distance', 'p': 1}. Best is trial 20 with value: 3.962156662331812.\n",
            "[I 2024-05-01 11:14:57,790] Trial 92 finished with value: 3.976939515069239 and parameters: {'n_neighbors': 10, 'weights': 'distance', 'p': 1}. Best is trial 20 with value: 3.962156662331812.\n",
            "[I 2024-05-01 11:14:58,052] Trial 94 finished with value: 4.009861019891092 and parameters: {'n_neighbors': 9, 'weights': 'distance', 'p': 1}. Best is trial 20 with value: 3.962156662331812.\n",
            "[I 2024-05-01 11:14:58,083] Trial 95 finished with value: 3.9627339736928464 and parameters: {'n_neighbors': 12, 'weights': 'distance', 'p': 1}. Best is trial 20 with value: 3.962156662331812.\n",
            "[I 2024-05-01 11:14:58,338] Trial 96 finished with value: 4.0206218739379525 and parameters: {'n_neighbors': 12, 'weights': 'distance', 'p': 2}. Best is trial 20 with value: 3.962156662331812.\n",
            "[I 2024-05-01 11:14:58,400] Trial 97 finished with value: 4.0206218739379525 and parameters: {'n_neighbors': 12, 'weights': 'distance', 'p': 2}. Best is trial 20 with value: 3.962156662331812.\n",
            "[I 2024-05-01 11:14:58,644] Trial 98 finished with value: 4.04315504748482 and parameters: {'n_neighbors': 14, 'weights': 'distance', 'p': 2}. Best is trial 20 with value: 3.962156662331812.\n",
            "[I 2024-05-01 11:14:58,674] Trial 99 finished with value: 4.006943150888074 and parameters: {'n_neighbors': 15, 'weights': 'distance', 'p': 1}. Best is trial 20 with value: 3.962156662331812.\n",
            "[I 2024-05-01 11:14:58,701] A new study created in memory with name: no-name-d1babead-fa95-42e2-b5cf-cb5c6adccea3\n",
            "[I 2024-05-01 11:15:16,572] Trial 0 finished with value: 3.832610658503907 and parameters: {'n_estimators': 404, 'criterion': 'absolute_error', 'max_depth': 14, 'min_samples_leaf': 4, 'max_features': 0.8069999999999999}. Best is trial 0 with value: 3.832610658503907.\n",
            "[I 2024-05-01 11:15:17,941] Trial 1 finished with value: 3.7520484803694596 and parameters: {'n_estimators': 409, 'criterion': 'absolute_error', 'max_depth': 25, 'min_samples_leaf': 3, 'max_features': 0.604}. Best is trial 1 with value: 3.7520484803694596.\n",
            "[I 2024-05-01 11:15:25,734] Trial 2 finished with value: 3.8454480377295353 and parameters: {'n_estimators': 242, 'criterion': 'poisson', 'max_depth': 24, 'min_samples_leaf': 4, 'max_features': 0.528}. Best is trial 1 with value: 3.7520484803694596.\n",
            "[I 2024-05-01 11:15:36,920] Trial 3 finished with value: 3.855669222168001 and parameters: {'n_estimators': 417, 'criterion': 'squared_error', 'max_depth': 23, 'min_samples_leaf': 1, 'max_features': 0.137}. Best is trial 1 with value: 3.7520484803694596.\n",
            "[I 2024-05-01 11:15:43,588] Trial 4 finished with value: 3.766984600695923 and parameters: {'n_estimators': 456, 'criterion': 'squared_error', 'max_depth': 8, 'min_samples_leaf': 4, 'max_features': 0.839}. Best is trial 1 with value: 3.7520484803694596.\n",
            "[I 2024-05-01 11:15:52,509] Trial 5 finished with value: 3.6149995351762776 and parameters: {'n_estimators': 307, 'criterion': 'squared_error', 'max_depth': 19, 'min_samples_leaf': 1, 'max_features': 1.0}. Best is trial 5 with value: 3.6149995351762776.\n",
            "[I 2024-05-01 11:15:53,825] Trial 6 finished with value: 3.854236877161536 and parameters: {'n_estimators': 288, 'criterion': 'squared_error', 'max_depth': 26, 'min_samples_leaf': 2, 'max_features': 0.185}. Best is trial 5 with value: 3.6149995351762776.\n",
            "[I 2024-05-01 11:16:08,951] Trial 8 finished with value: 3.6166647318803413 and parameters: {'n_estimators': 283, 'criterion': 'squared_error', 'max_depth': 26, 'min_samples_leaf': 1, 'max_features': 0.969}. Best is trial 5 with value: 3.6149995351762776.\n",
            "[I 2024-05-01 11:16:10,700] Trial 7 finished with value: 3.7792638979535726 and parameters: {'n_estimators': 496, 'criterion': 'squared_error', 'max_depth': 20, 'min_samples_leaf': 4, 'max_features': 0.691}. Best is trial 5 with value: 3.6149995351762776.\n",
            "[I 2024-05-01 11:16:26,463] Trial 9 finished with value: 3.8112077679254797 and parameters: {'n_estimators': 480, 'criterion': 'absolute_error', 'max_depth': 14, 'min_samples_leaf': 3, 'max_features': 0.389}. Best is trial 5 with value: 3.6149995351762776.\n",
            "[I 2024-05-01 11:16:30,775] Trial 11 finished with value: 3.674218115579522 and parameters: {'n_estimators': 130, 'criterion': 'friedman_mse', 'max_depth': 5, 'min_samples_leaf': 2, 'max_features': 0.98}. Best is trial 5 with value: 3.6149995351762776.\n",
            "[I 2024-05-01 11:16:35,674] Trial 10 finished with value: 3.6102110923965403 and parameters: {'n_estimators': 401, 'criterion': 'absolute_error', 'max_depth': 9, 'min_samples_leaf': 1, 'max_features': 0.6799999999999999}. Best is trial 10 with value: 3.6102110923965403.\n",
            "[I 2024-05-01 11:16:41,391] Trial 12 finished with value: 3.6250866875441843 and parameters: {'n_estimators': 212, 'criterion': 'squared_error', 'max_depth': 30, 'min_samples_leaf': 1, 'max_features': 0.991}. Best is trial 10 with value: 3.6102110923965403.\n",
            "[I 2024-05-01 11:16:53,704] Trial 13 finished with value: 3.634148459806213 and parameters: {'n_estimators': 344, 'criterion': 'poisson', 'max_depth': 9, 'min_samples_leaf': 1, 'max_features': 0.41600000000000004}. Best is trial 10 with value: 3.6102110923965403.\n",
            "[I 2024-05-01 11:16:53,735] Trial 14 finished with value: 4.3141431538818065 and parameters: {'n_estimators': 366, 'criterion': 'friedman_mse', 'max_depth': 1, 'min_samples_leaf': 2, 'max_features': 0.42600000000000005}. Best is trial 10 with value: 3.6102110923965403.\n",
            "[I 2024-05-01 11:17:08,009] Trial 15 finished with value: 3.6242750210413517 and parameters: {'n_estimators': 351, 'criterion': 'friedman_mse', 'max_depth': 18, 'min_samples_leaf': 2, 'max_features': 0.776}. Best is trial 10 with value: 3.6102110923965403.\n",
            "[I 2024-05-01 11:17:08,905] Trial 16 finished with value: 3.9330393192614626 and parameters: {'n_estimators': 334, 'criterion': 'absolute_error', 'max_depth': 18, 'min_samples_leaf': 5, 'max_features': 0.8109999999999999}. Best is trial 10 with value: 3.6102110923965403.\n",
            "[I 2024-05-01 11:17:14,438] Trial 17 finished with value: 3.9577454600946713 and parameters: {'n_estimators': 180, 'criterion': 'absolute_error', 'max_depth': 11, 'min_samples_leaf': 5, 'max_features': 0.672}. Best is trial 10 with value: 3.6102110923965403.\n",
            "[I 2024-05-01 11:17:19,222] Trial 18 finished with value: 3.6508555247348666 and parameters: {'n_estimators': 184, 'criterion': 'absolute_error', 'max_depth': 11, 'min_samples_leaf': 1, 'max_features': 0.265}. Best is trial 10 with value: 3.6102110923965403.\n",
            "[I 2024-05-01 11:17:25,803] Trial 19 finished with value: 3.671870776774246 and parameters: {'n_estimators': 264, 'criterion': 'poisson', 'max_depth': 4, 'min_samples_leaf': 3, 'max_features': 0.898}. Best is trial 10 with value: 3.6102110923965403.\n",
            "[I 2024-05-01 11:17:29,217] Trial 20 finished with value: 3.76843457194142 and parameters: {'n_estimators': 263, 'criterion': 'poisson', 'max_depth': 3, 'min_samples_leaf': 3, 'max_features': 0.537}. Best is trial 10 with value: 3.6102110923965403.\n",
            "[I 2024-05-01 11:17:38,975] Trial 21 finished with value: 3.6018622580402955 and parameters: {'n_estimators': 322, 'criterion': 'squared_error', 'max_depth': 16, 'min_samples_leaf': 2, 'max_features': 0.555}. Best is trial 21 with value: 3.6018622580402955.\n",
            "[I 2024-05-01 11:17:44,282] Trial 22 finished with value: 3.6048514399614926 and parameters: {'n_estimators': 314, 'criterion': 'squared_error', 'max_depth': 28, 'min_samples_leaf': 1, 'max_features': 0.904}. Best is trial 21 with value: 3.6018622580402955.\n",
            "[I 2024-05-01 11:17:52,687] Trial 23 finished with value: 3.634990804352966 and parameters: {'n_estimators': 322, 'criterion': 'squared_error', 'max_depth': 16, 'min_samples_leaf': 2, 'max_features': 0.673}. Best is trial 21 with value: 3.6018622580402955.\n",
            "[I 2024-05-01 11:18:01,186] Trial 24 finished with value: 3.6345661528348883 and parameters: {'n_estimators': 381, 'criterion': 'squared_error', 'max_depth': 30, 'min_samples_leaf': 2, 'max_features': 0.642}. Best is trial 21 with value: 3.6018622580402955.\n",
            "[I 2024-05-01 11:18:09,223] Trial 25 finished with value: 3.611553370980377 and parameters: {'n_estimators': 383, 'criterion': 'squared_error', 'max_depth': 30, 'min_samples_leaf': 2, 'max_features': 0.603}. Best is trial 21 with value: 3.6018622580402955.\n",
            "[I 2024-05-01 11:18:18,740] Trial 26 finished with value: 3.5845746577104167 and parameters: {'n_estimators': 436, 'criterion': 'squared_error', 'max_depth': 22, 'min_samples_leaf': 1, 'max_features': 0.747}. Best is trial 26 with value: 3.5845746577104167.\n",
            "[I 2024-05-01 11:18:33,474] Trial 28 finished with value: 3.584332139204056 and parameters: {'n_estimators': 439, 'criterion': 'squared_error', 'max_depth': 22, 'min_samples_leaf': 1, 'max_features': 0.735}. Best is trial 28 with value: 3.584332139204056.\n",
            "[I 2024-05-01 11:18:36,761] Trial 27 finished with value: 3.6044615679422396 and parameters: {'n_estimators': 436, 'criterion': 'absolute_error', 'max_depth': 22, 'min_samples_leaf': 1, 'max_features': 0.762}. Best is trial 28 with value: 3.584332139204056.\n",
            "[I 2024-05-01 11:18:51,338] Trial 29 finished with value: 3.608849037025389 and parameters: {'n_estimators': 452, 'criterion': 'squared_error', 'max_depth': 21, 'min_samples_leaf': 2, 'max_features': 0.732}. Best is trial 28 with value: 3.584332139204056.\n",
            "[I 2024-05-01 11:18:56,655] Trial 30 finished with value: 3.6260676278629664 and parameters: {'n_estimators': 457, 'criterion': 'squared_error', 'max_depth': 21, 'min_samples_leaf': 2, 'max_features': 0.487}. Best is trial 28 with value: 3.584332139204056.\n",
            "[I 2024-05-01 11:19:07,091] Trial 31 finished with value: 3.615386272848852 and parameters: {'n_estimators': 437, 'criterion': 'squared_error', 'max_depth': 16, 'min_samples_leaf': 1, 'max_features': 0.45999999999999996}. Best is trial 28 with value: 3.584332139204056.\n",
            "[I 2024-05-01 11:19:18,788] Trial 32 finished with value: 3.6025687374675748 and parameters: {'n_estimators': 426, 'criterion': 'absolute_error', 'max_depth': 16, 'min_samples_leaf': 1, 'max_features': 0.75}. Best is trial 28 with value: 3.584332139204056.\n",
            "[I 2024-05-01 11:19:28,318] Trial 33 finished with value: 3.6025587903857668 and parameters: {'n_estimators': 420, 'criterion': 'absolute_error', 'max_depth': 23, 'min_samples_leaf': 1, 'max_features': 0.745}. Best is trial 28 with value: 3.584332139204056.\n",
            "[I 2024-05-01 11:19:39,517] Trial 34 finished with value: 3.587096736207247 and parameters: {'n_estimators': 478, 'criterion': 'friedman_mse', 'max_depth': 13, 'min_samples_leaf': 1, 'max_features': 0.608}. Best is trial 28 with value: 3.584332139204056.\n",
            "[I 2024-05-01 11:19:45,750] Trial 35 finished with value: 3.591428745186871 and parameters: {'n_estimators': 400, 'criterion': 'friedman_mse', 'max_depth': 24, 'min_samples_leaf': 1, 'max_features': 0.582}. Best is trial 28 with value: 3.584332139204056.\n",
            "[I 2024-05-01 11:19:59,554] Trial 36 finished with value: 3.587566873212796 and parameters: {'n_estimators': 483, 'criterion': 'friedman_mse', 'max_depth': 12, 'min_samples_leaf': 1, 'max_features': 0.586}. Best is trial 28 with value: 3.584332139204056.\n",
            "[I 2024-05-01 11:20:05,960] Trial 37 finished with value: 3.5878756026584813 and parameters: {'n_estimators': 480, 'criterion': 'friedman_mse', 'max_depth': 13, 'min_samples_leaf': 1, 'max_features': 0.5760000000000001}. Best is trial 28 with value: 3.584332139204056.\n",
            "[I 2024-05-01 11:20:21,328] Trial 38 finished with value: 3.5973023582560337 and parameters: {'n_estimators': 477, 'criterion': 'friedman_mse', 'max_depth': 12, 'min_samples_leaf': 1, 'max_features': 0.849}. Best is trial 28 with value: 3.584332139204056.\n",
            "[I 2024-05-01 11:20:27,546] Trial 39 finished with value: 3.5956833566761275 and parameters: {'n_estimators': 497, 'criterion': 'friedman_mse', 'max_depth': 11, 'min_samples_leaf': 1, 'max_features': 0.848}. Best is trial 28 with value: 3.584332139204056.\n",
            "[I 2024-05-01 11:20:41,950] Trial 40 finished with value: 3.5933396735322725 and parameters: {'n_estimators': 463, 'criterion': 'friedman_mse', 'max_depth': 6, 'min_samples_leaf': 1, 'max_features': 0.626}. Best is trial 28 with value: 3.584332139204056.\n",
            "[I 2024-05-01 11:20:45,598] Trial 41 finished with value: 3.775314914995514 and parameters: {'n_estimators': 460, 'criterion': 'friedman_mse', 'max_depth': 18, 'min_samples_leaf': 4, 'max_features': 0.636}. Best is trial 28 with value: 3.584332139204056.\n",
            "[I 2024-05-01 11:21:03,416] Trial 42 finished with value: 3.6063817420794866 and parameters: {'n_estimators': 478, 'criterion': 'friedman_mse', 'max_depth': 14, 'min_samples_leaf': 1, 'max_features': 0.499}. Best is trial 28 with value: 3.584332139204056.\n",
            "[I 2024-05-01 11:21:04,960] Trial 43 finished with value: 3.6146379501724493 and parameters: {'n_estimators': 484, 'criterion': 'friedman_mse', 'max_depth': 14, 'min_samples_leaf': 1, 'max_features': 0.345}. Best is trial 28 with value: 3.584332139204056.\n",
            "[I 2024-05-01 11:21:24,192] Trial 45 finished with value: 3.5863925912765415 and parameters: {'n_estimators': 442, 'criterion': 'friedman_mse', 'max_depth': 13, 'min_samples_leaf': 1, 'max_features': 0.5630000000000001}. Best is trial 28 with value: 3.584332139204056.\n",
            "[I 2024-05-01 11:21:24,290] Trial 44 finished with value: 3.5885452154984465 and parameters: {'n_estimators': 496, 'criterion': 'friedman_mse', 'max_depth': 14, 'min_samples_leaf': 1, 'max_features': 0.592}. Best is trial 28 with value: 3.584332139204056.\n",
            "[I 2024-05-01 11:21:42,244] Trial 46 finished with value: 3.675046730716937 and parameters: {'n_estimators': 403, 'criterion': 'friedman_mse', 'max_depth': 8, 'min_samples_leaf': 3, 'max_features': 0.702}. Best is trial 28 with value: 3.584332139204056.\n",
            "[I 2024-05-01 11:21:43,686] Trial 47 finished with value: 3.6734922573569193 and parameters: {'n_estimators': 439, 'criterion': 'friedman_mse', 'max_depth': 7, 'min_samples_leaf': 3, 'max_features': 0.705}. Best is trial 28 with value: 3.584332139204056.\n",
            "[I 2024-05-01 11:21:59,885] Trial 49 finished with value: 3.636476436777078 and parameters: {'n_estimators': 388, 'criterion': 'poisson', 'max_depth': 19, 'min_samples_leaf': 2, 'max_features': 0.505}. Best is trial 28 with value: 3.584332139204056.\n",
            "[I 2024-05-01 11:22:00,455] Trial 48 finished with value: 3.6100676285149884 and parameters: {'n_estimators': 431, 'criterion': 'friedman_mse', 'max_depth': 25, 'min_samples_leaf': 2, 'max_features': 0.707}. Best is trial 28 with value: 3.584332139204056.\n",
            "[I 2024-05-01 11:22:15,762] Trial 51 finished with value: 3.600819542901929 and parameters: {'n_estimators': 361, 'criterion': 'squared_error', 'max_depth': 10, 'min_samples_leaf': 1, 'max_features': 0.801}. Best is trial 28 with value: 3.584332139204056.\n",
            "[I 2024-05-01 11:22:17,784] Trial 50 finished with value: 3.5778861086264566 and parameters: {'n_estimators': 416, 'criterion': 'friedman_mse', 'max_depth': 27, 'min_samples_leaf': 1, 'max_features': 0.791}. Best is trial 50 with value: 3.5778861086264566.\n",
            "[I 2024-05-01 11:22:36,712] Trial 52 finished with value: 3.5864269538213316 and parameters: {'n_estimators': 468, 'criterion': 'friedman_mse', 'max_depth': 12, 'min_samples_leaf': 1, 'max_features': 0.55}. Best is trial 50 with value: 3.5778861086264566.\n",
            "[I 2024-05-01 11:22:37,191] Trial 53 finished with value: 3.5782873951277727 and parameters: {'n_estimators': 415, 'criterion': 'friedman_mse', 'max_depth': 26, 'min_samples_leaf': 1, 'max_features': 0.801}. Best is trial 50 with value: 3.5778861086264566.\n",
            "[I 2024-05-01 11:22:54,148] Trial 54 finished with value: 3.6006622717848358 and parameters: {'n_estimators': 416, 'criterion': 'friedman_mse', 'max_depth': 27, 'min_samples_leaf': 1, 'max_features': 0.884}. Best is trial 50 with value: 3.5778861086264566.\n",
            "[I 2024-05-01 11:22:55,236] Trial 55 finished with value: 3.601823372213074 and parameters: {'n_estimators': 411, 'criterion': 'friedman_mse', 'max_depth': 27, 'min_samples_leaf': 1, 'max_features': 0.919}. Best is trial 50 with value: 3.5778861086264566.\n",
            "[I 2024-05-01 11:23:12,594] Trial 56 finished with value: 3.5795314939073046 and parameters: {'n_estimators': 449, 'criterion': 'friedman_mse', 'max_depth': 27, 'min_samples_leaf': 1, 'max_features': 0.815}. Best is trial 50 with value: 3.5778861086264566.\n",
            "[I 2024-05-01 11:23:15,854] Trial 57 finished with value: 3.6005588068503016 and parameters: {'n_estimators': 446, 'criterion': 'poisson', 'max_depth': 25, 'min_samples_leaf': 1, 'max_features': 0.946}. Best is trial 50 with value: 3.5778861086264566.\n",
            "[I 2024-05-01 11:23:30,989] Trial 59 finished with value: 3.624239194847488 and parameters: {'n_estimators': 369, 'criterion': 'squared_error', 'max_depth': 28, 'min_samples_leaf': 2, 'max_features': 0.8059999999999999}. Best is trial 50 with value: 3.5778861086264566.\n",
            "[I 2024-05-01 11:23:31,911] Trial 58 finished with value: 3.626841871299698 and parameters: {'n_estimators': 446, 'criterion': 'poisson', 'max_depth': 28, 'min_samples_leaf': 2, 'max_features': 0.94}. Best is trial 50 with value: 3.5778861086264566.\n",
            "[I 2024-05-01 11:23:45,293] Trial 60 finished with value: 3.8820787354880992 and parameters: {'n_estimators': 396, 'criterion': 'squared_error', 'max_depth': 28, 'min_samples_leaf': 5, 'max_features': 0.866}. Best is trial 50 with value: 3.5778861086264566.\n",
            "[I 2024-05-01 11:23:50,604] Trial 61 finished with value: 3.6083260065557714 and parameters: {'n_estimators': 397, 'criterion': 'squared_error', 'max_depth': 23, 'min_samples_leaf': 1, 'max_features': 0.866}. Best is trial 50 with value: 3.5778861086264566.\n",
            "[I 2024-05-01 11:24:04,246] Trial 62 finished with value: 3.5786072333507977 and parameters: {'n_estimators': 462, 'criterion': 'friedman_mse', 'max_depth': 26, 'min_samples_leaf': 1, 'max_features': 0.79}. Best is trial 50 with value: 3.5778861086264566.\n",
            "[I 2024-05-01 11:24:10,872] Trial 63 finished with value: 3.579978870975589 and parameters: {'n_estimators': 464, 'criterion': 'friedman_mse', 'max_depth': 26, 'min_samples_leaf': 1, 'max_features': 0.797}. Best is trial 50 with value: 3.5778861086264566.\n",
            "[I 2024-05-01 11:24:22,965] Trial 64 finished with value: 3.577711496895999 and parameters: {'n_estimators': 424, 'criterion': 'friedman_mse', 'max_depth': 26, 'min_samples_leaf': 1, 'max_features': 0.785}. Best is trial 64 with value: 3.577711496895999.\n",
            "[I 2024-05-01 11:24:29,270] Trial 65 finished with value: 3.579071893930484 and parameters: {'n_estimators': 428, 'criterion': 'friedman_mse', 'max_depth': 26, 'min_samples_leaf': 1, 'max_features': 0.824}. Best is trial 64 with value: 3.577711496895999.\n",
            "[I 2024-05-01 11:24:40,946] Trial 66 finished with value: 3.577446478939834 and parameters: {'n_estimators': 419, 'criterion': 'friedman_mse', 'max_depth': 26, 'min_samples_leaf': 1, 'max_features': 0.784}. Best is trial 66 with value: 3.577446478939834.\n",
            "[I 2024-05-01 11:24:46,903] Trial 67 finished with value: 3.5765038025677254 and parameters: {'n_estimators': 421, 'criterion': 'friedman_mse', 'max_depth': 26, 'min_samples_leaf': 1, 'max_features': 0.786}. Best is trial 67 with value: 3.5765038025677254.\n",
            "[I 2024-05-01 11:24:59,784] Trial 68 finished with value: 3.576503802567726 and parameters: {'n_estimators': 421, 'criterion': 'friedman_mse', 'max_depth': 29, 'min_samples_leaf': 1, 'max_features': 0.784}. Best is trial 67 with value: 3.5765038025677254.\n",
            "[I 2024-05-01 11:25:01,913] Trial 69 finished with value: 3.625988620309004 and parameters: {'n_estimators': 375, 'criterion': 'friedman_mse', 'max_depth': 29, 'min_samples_leaf': 2, 'max_features': 0.774}. Best is trial 67 with value: 3.5765038025677254.\n",
            "[I 2024-05-01 11:25:18,273] Trial 70 finished with value: 3.7684994022998937 and parameters: {'n_estimators': 376, 'criterion': 'friedman_mse', 'max_depth': 24, 'min_samples_leaf': 4, 'max_features': 0.776}. Best is trial 67 with value: 3.5765038025677254.\n",
            "[I 2024-05-01 11:25:19,060] Trial 71 finished with value: 3.766581338634453 and parameters: {'n_estimators': 354, 'criterion': 'friedman_mse', 'max_depth': 24, 'min_samples_leaf': 4, 'max_features': 0.78}. Best is trial 67 with value: 3.5765038025677254.\n",
            "[I 2024-05-01 11:25:23,883] Trial 73 finished with value: 3.608839801413131 and parameters: {'n_estimators': 103, 'criterion': 'friedman_mse', 'max_depth': 25, 'min_samples_leaf': 1, 'max_features': 0.824}. Best is trial 67 with value: 3.5765038025677254.\n",
            "[I 2024-05-01 11:25:36,606] Trial 72 finished with value: 3.577150589777277 and parameters: {'n_estimators': 417, 'criterion': 'friedman_mse', 'max_depth': 26, 'min_samples_leaf': 1, 'max_features': 0.838}. Best is trial 67 with value: 3.5765038025677254.\n",
            "[I 2024-05-01 11:25:42,360] Trial 74 finished with value: 3.5765038025677254 and parameters: {'n_estimators': 421, 'criterion': 'friedman_mse', 'max_depth': 29, 'min_samples_leaf': 1, 'max_features': 0.83}. Best is trial 67 with value: 3.5765038025677254.\n",
            "[I 2024-05-01 11:25:54,532] Trial 75 finished with value: 3.589687543314372 and parameters: {'n_estimators': 416, 'criterion': 'friedman_mse', 'max_depth': 29, 'min_samples_leaf': 1, 'max_features': 0.731}. Best is trial 67 with value: 3.5765038025677254.\n",
            "[I 2024-05-01 11:26:01,335] Trial 76 finished with value: 3.601823372213074 and parameters: {'n_estimators': 411, 'criterion': 'friedman_mse', 'max_depth': 29, 'min_samples_leaf': 1, 'max_features': 0.875}. Best is trial 67 with value: 3.5765038025677254.\n",
            "[I 2024-05-01 11:26:10,560] Trial 77 finished with value: 3.84815905722125 and parameters: {'n_estimators': 389, 'criterion': 'friedman_mse', 'max_depth': 29, 'min_samples_leaf': 1, 'max_features': 0.10700000000000001}. Best is trial 67 with value: 3.5765038025677254.\n",
            "[I 2024-05-01 11:26:18,295] Trial 78 finished with value: 3.8589622138715374 and parameters: {'n_estimators': 423, 'criterion': 'friedman_mse', 'max_depth': 30, 'min_samples_leaf': 1, 'max_features': 0.10600000000000001}. Best is trial 67 with value: 3.5765038025677254.\n",
            "[I 2024-05-01 11:26:26,186] Trial 79 finished with value: 3.5863227716267083 and parameters: {'n_estimators': 337, 'criterion': 'friedman_mse', 'max_depth': 30, 'min_samples_leaf': 1, 'max_features': 0.842}. Best is trial 67 with value: 3.5765038025677254.\n",
            "[I 2024-05-01 11:26:35,571] Trial 80 finished with value: 3.601155477403513 and parameters: {'n_estimators': 407, 'criterion': 'friedman_mse', 'max_depth': 27, 'min_samples_leaf': 1, 'max_features': 0.661}. Best is trial 67 with value: 3.5765038025677254.\n",
            "[I 2024-05-01 11:26:43,550] Trial 81 finished with value: 3.6020921496987395 and parameters: {'n_estimators': 406, 'criterion': 'friedman_mse', 'max_depth': 27, 'min_samples_leaf': 1, 'max_features': 0.672}. Best is trial 67 with value: 3.5765038025677254.\n",
            "[I 2024-05-01 11:26:54,865] Trial 82 finished with value: 3.6007050607286555 and parameters: {'n_estimators': 422, 'criterion': 'friedman_mse', 'max_depth': 25, 'min_samples_leaf': 1, 'max_features': 0.898}. Best is trial 67 with value: 3.5765038025677254.\n",
            "[I 2024-05-01 11:27:01,029] Trial 83 finished with value: 3.588529407158641 and parameters: {'n_estimators': 425, 'criterion': 'friedman_mse', 'max_depth': 26, 'min_samples_leaf': 1, 'max_features': 0.721}. Best is trial 67 with value: 3.5765038025677254.\n",
            "[I 2024-05-01 11:27:04,929] Trial 84 finished with value: 3.5938285152298723 and parameters: {'n_estimators': 237, 'criterion': 'friedman_mse', 'max_depth': 26, 'min_samples_leaf': 1, 'max_features': 0.79}. Best is trial 67 with value: 3.5765038025677254.\n",
            "[I 2024-05-01 11:27:17,586] Trial 85 finished with value: 3.590750191851969 and parameters: {'n_estimators': 390, 'criterion': 'friedman_mse', 'max_depth': 28, 'min_samples_leaf': 1, 'max_features': 0.761}. Best is trial 67 with value: 3.5765038025677254.\n",
            "[I 2024-05-01 11:27:22,013] Trial 86 finished with value: 3.584148976951772 and parameters: {'n_estimators': 394, 'criterion': 'friedman_mse', 'max_depth': 28, 'min_samples_leaf': 1, 'max_features': 0.833}. Best is trial 67 with value: 3.5765038025677254.\n",
            "[I 2024-05-01 11:27:40,736] Trial 87 finished with value: 3.603220679871529 and parameters: {'n_estimators': 454, 'criterion': 'absolute_error', 'max_depth': 23, 'min_samples_leaf': 1, 'max_features': 0.854}. Best is trial 67 with value: 3.5765038025677254.\n",
            "[I 2024-05-01 11:27:44,302] Trial 88 finished with value: 3.605065672886343 and parameters: {'n_estimators': 451, 'criterion': 'absolute_error', 'max_depth': 25, 'min_samples_leaf': 1, 'max_features': 0.856}. Best is trial 67 with value: 3.5765038025677254.\n",
            "[I 2024-05-01 11:27:57,706] Trial 89 finished with value: 3.6100570731686115 and parameters: {'n_estimators': 432, 'criterion': 'friedman_mse', 'max_depth': 24, 'min_samples_leaf': 2, 'max_features': 0.756}. Best is trial 67 with value: 3.5765038025677254.\n",
            "[I 2024-05-01 11:28:03,002] Trial 90 finished with value: 3.6121282814765974 and parameters: {'n_estimators': 434, 'criterion': 'friedman_mse', 'max_depth': 27, 'min_samples_leaf': 2, 'max_features': 0.754}. Best is trial 67 with value: 3.5765038025677254.\n",
            "[I 2024-05-01 11:28:17,192] Trial 91 finished with value: 3.601924087360172 and parameters: {'n_estimators': 417, 'criterion': 'friedman_mse', 'max_depth': 27, 'min_samples_leaf': 1, 'max_features': 0.926}. Best is trial 67 with value: 3.5765038025677254.\n",
            "[I 2024-05-01 11:28:24,033] Trial 92 finished with value: 3.5791425699290835 and parameters: {'n_estimators': 468, 'criterion': 'friedman_mse', 'max_depth': 26, 'min_samples_leaf': 1, 'max_features': 0.814}. Best is trial 67 with value: 3.5765038025677254.\n",
            "[I 2024-05-01 11:28:35,844] Trial 93 finished with value: 3.5800994478281116 and parameters: {'n_estimators': 429, 'criterion': 'friedman_mse', 'max_depth': 26, 'min_samples_leaf': 1, 'max_features': 0.821}. Best is trial 67 with value: 3.5765038025677254.\n",
            "[I 2024-05-01 11:28:42,822] Trial 94 finished with value: 3.6005030417277064 and parameters: {'n_estimators': 424, 'criterion': 'friedman_mse', 'max_depth': 26, 'min_samples_leaf': 1, 'max_features': 0.888}. Best is trial 67 with value: 3.5765038025677254.\n",
            "[I 2024-05-01 11:28:49,736] Trial 95 finished with value: 3.589594517127691 and parameters: {'n_estimators': 301, 'criterion': 'friedman_mse', 'max_depth': 29, 'min_samples_leaf': 1, 'max_features': 0.789}. Best is trial 67 with value: 3.5765038025677254.\n",
            "[I 2024-05-01 11:29:01,442] Trial 96 finished with value: 3.5806026138359006 and parameters: {'n_estimators': 403, 'criterion': 'friedman_mse', 'max_depth': 29, 'min_samples_leaf': 1, 'max_features': 0.794}. Best is trial 67 with value: 3.5765038025677254.\n",
            "[I 2024-05-01 11:29:05,788] Trial 97 finished with value: 3.587061569794254 and parameters: {'n_estimators': 381, 'criterion': 'friedman_mse', 'max_depth': 24, 'min_samples_leaf': 1, 'max_features': 0.832}. Best is trial 67 with value: 3.5765038025677254.\n",
            "[I 2024-05-01 11:29:18,490] Trial 98 finished with value: 3.6129920720983963 and parameters: {'n_estimators': 383, 'criterion': 'poisson', 'max_depth': 24, 'min_samples_leaf': 1, 'max_features': 0.831}. Best is trial 67 with value: 3.5765038025677254.\n",
            "[I 2024-05-01 11:29:21,167] Trial 99 finished with value: 3.5938252833114976 and parameters: {'n_estimators': 442, 'criterion': 'poisson', 'max_depth': 23, 'min_samples_leaf': 1, 'max_features': 0.719}. Best is trial 67 with value: 3.5765038025677254.\n",
            "[I 2024-05-01 11:29:22,018] A new study created in memory with name: no-name-16261138-d705-4da4-bf79-287feb8b80d2\n",
            "[I 2024-05-01 11:29:22,260] Trial 0 finished with value: 5.4045934636435575 and parameters: {'kernel': 'poly', 'degree': 18, 'gamma': 'auto', 'C': 1.792, 'epsilon': 21.82}. Best is trial 0 with value: 5.4045934636435575.\n",
            "[I 2024-05-01 11:29:22,282] Trial 1 finished with value: 5.4045934636435575 and parameters: {'kernel': 'linear', 'degree': 15, 'gamma': 'scale', 'C': 51.841, 'epsilon': 87.69300000000001}. Best is trial 0 with value: 5.4045934636435575.\n",
            "[I 2024-05-01 11:29:22,484] Trial 2 finished with value: 5.4045934636435575 and parameters: {'kernel': 'rbf', 'degree': 18, 'gamma': 'scale', 'C': 89.861, 'epsilon': 88.01100000000001}. Best is trial 0 with value: 5.4045934636435575.\n",
            "[I 2024-05-01 11:29:22,551] Trial 3 finished with value: 5.175494622496238 and parameters: {'kernel': 'linear', 'degree': 6, 'gamma': 'scale', 'C': 2.3179999999999996, 'epsilon': 10.455}. Best is trial 3 with value: 5.175494622496238.\n",
            "[I 2024-05-01 11:29:22,709] Trial 4 finished with value: 5.4045934636435575 and parameters: {'kernel': 'poly', 'degree': 20, 'gamma': 'scale', 'C': 90.43900000000001, 'epsilon': 76.426}. Best is trial 3 with value: 5.175494622496238.\n",
            "[I 2024-05-01 11:29:22,870] Trial 5 finished with value: 5.4045934636435575 and parameters: {'kernel': 'rbf', 'degree': 5, 'gamma': 'scale', 'C': 24.708000000000002, 'epsilon': 60.421}. Best is trial 3 with value: 5.175494622496238.\n",
            "[I 2024-05-01 11:29:22,999] Trial 6 finished with value: 5.4045934636435575 and parameters: {'kernel': 'rbf', 'degree': 4, 'gamma': 'scale', 'C': 37.982, 'epsilon': 39.924}. Best is trial 3 with value: 5.175494622496238.\n",
            "[I 2024-05-01 11:29:23,128] Trial 7 finished with value: 5.4045934636435575 and parameters: {'kernel': 'rbf', 'degree': 17, 'gamma': 'scale', 'C': 36.442, 'epsilon': 79.19900000000001}. Best is trial 3 with value: 5.175494622496238.\n",
            "[I 2024-05-01 11:29:23,266] Trial 8 finished with value: 5.4045934636435575 and parameters: {'kernel': 'rbf', 'degree': 17, 'gamma': 'scale', 'C': 64.23200000000001, 'epsilon': 59.022}. Best is trial 3 with value: 5.175494622496238.\n",
            "[I 2024-05-01 11:29:23,516] Trial 10 finished with value: 5.4045934636435575 and parameters: {'kernel': 'rbf', 'degree': 4, 'gamma': 'scale', 'C': 41.768, 'epsilon': 53.823}. Best is trial 3 with value: 5.175494622496238.\n",
            "[I 2024-05-01 11:29:23,567] Trial 9 finished with value: 4.126611933189125 and parameters: {'kernel': 'linear', 'degree': 20, 'gamma': 'auto', 'C': 75.054, 'epsilon': 2.481}. Best is trial 9 with value: 4.126611933189125.\n",
            "[I 2024-05-01 11:29:23,860] Trial 11 finished with value: 3.727981286677091 and parameters: {'kernel': 'linear', 'degree': 9, 'gamma': 'auto', 'C': 8.105, 'epsilon': 5.319}. Best is trial 11 with value: 3.727981286677091.\n",
            "[I 2024-05-01 11:29:24,095] Trial 12 finished with value: 3.917659006763301 and parameters: {'kernel': 'linear', 'degree': 10, 'gamma': 'auto', 'C': 69.15700000000001, 'epsilon': 3.167}. Best is trial 11 with value: 3.727981286677091.\n",
            "[I 2024-05-01 11:29:24,401] Trial 14 finished with value: 5.4045934636435575 and parameters: {'kernel': 'linear', 'degree': 10, 'gamma': 'auto', 'C': 18.152, 'epsilon': 27.226000000000003}. Best is trial 11 with value: 3.727981286677091.\n",
            "[I 2024-05-01 11:29:24,406] Trial 13 finished with value: 4.188173114594478 and parameters: {'kernel': 'linear', 'degree': 11, 'gamma': 'auto', 'C': 76.536, 'epsilon': 1.588}. Best is trial 11 with value: 3.727981286677091.\n",
            "[I 2024-05-01 11:29:24,752] Trial 16 finished with value: 5.4045934636435575 and parameters: {'kernel': 'linear', 'degree': 10, 'gamma': 'auto', 'C': 58.071, 'epsilon': 25.004}. Best is trial 11 with value: 3.727981286677091.\n",
            "[I 2024-05-01 11:29:24,757] Trial 15 finished with value: 5.4045934636435575 and parameters: {'kernel': 'linear', 'degree': 9, 'gamma': 'auto', 'C': 54.546, 'epsilon': 21.110000000000003}. Best is trial 11 with value: 3.727981286677091.\n",
            "[I 2024-05-01 11:29:25,092] Trial 17 finished with value: 5.4045934636435575 and parameters: {'kernel': 'linear', 'degree': 13, 'gamma': 'auto', 'C': 99.81200000000001, 'epsilon': 40.243}. Best is trial 11 with value: 3.727981286677091.\n",
            "[I 2024-05-01 11:29:25,105] Trial 18 finished with value: 5.4045934636435575 and parameters: {'kernel': 'linear', 'degree': 13, 'gamma': 'auto', 'C': 72.266, 'epsilon': 38.897999999999996}. Best is trial 11 with value: 3.727981286677091.\n",
            "[I 2024-05-01 11:29:25,325] Trial 19 finished with value: 5.4045934636435575 and parameters: {'kernel': 'poly', 'degree': 1, 'gamma': 'auto', 'C': 16.999000000000002, 'epsilon': 14.798}. Best is trial 11 with value: 3.727981286677091.\n",
            "[I 2024-05-01 11:29:25,386] Trial 20 finished with value: 5.289571783454523 and parameters: {'kernel': 'poly', 'degree': 1, 'gamma': 'auto', 'C': 15.861, 'epsilon': 11.119}. Best is trial 11 with value: 3.727981286677091.\n",
            "[I 2024-05-01 11:29:25,663] Trial 21 finished with value: 4.238444494169152 and parameters: {'kernel': 'linear', 'degree': 7, 'gamma': 'auto', 'C': 72.78, 'epsilon': 1.3980000000000001}. Best is trial 11 with value: 3.727981286677091.\n",
            "[I 2024-05-01 11:29:25,928] Trial 22 finished with value: 4.310728302792026 and parameters: {'kernel': 'linear', 'degree': 8, 'gamma': 'auto', 'C': 77.346, 'epsilon': 0.6}. Best is trial 11 with value: 3.727981286677091.\n",
            "[I 2024-05-01 11:29:26,106] Trial 24 finished with value: 5.215952636699603 and parameters: {'kernel': 'linear', 'degree': 12, 'gamma': 'auto', 'C': 64.932, 'epsilon': 10.693}. Best is trial 11 with value: 3.727981286677091.\n",
            "[I 2024-05-01 11:29:26,291] Trial 25 finished with value: 5.4045934636435575 and parameters: {'kernel': 'linear', 'degree': 14, 'gamma': 'auto', 'C': 86.277, 'epsilon': 31.37}. Best is trial 11 with value: 3.727981286677091.\n",
            "[I 2024-05-01 11:29:26,326] Trial 23 finished with value: 4.3113784507956545 and parameters: {'kernel': 'linear', 'degree': 8, 'gamma': 'auto', 'C': 81.93, 'epsilon': 0.624}. Best is trial 11 with value: 3.727981286677091.\n",
            "[I 2024-05-01 11:29:26,469] Trial 26 finished with value: 5.4045934636435575 and parameters: {'kernel': 'linear', 'degree': 8, 'gamma': 'auto', 'C': 43.733, 'epsilon': 15.706}. Best is trial 11 with value: 3.727981286677091.\n",
            "[I 2024-05-01 11:29:26,595] Trial 27 finished with value: 5.4045934636435575 and parameters: {'kernel': 'linear', 'degree': 15, 'gamma': 'auto', 'C': 66.76700000000001, 'epsilon': 99.376}. Best is trial 11 with value: 3.727981286677091.\n",
            "[I 2024-05-01 11:29:26,742] Trial 28 finished with value: 4.034729125936671 and parameters: {'kernel': 'linear', 'degree': 15, 'gamma': 'auto', 'C': 65.311, 'epsilon': 6.397}. Best is trial 11 with value: 3.727981286677091.\n",
            "[I 2024-05-01 11:29:26,863] Trial 29 finished with value: 4.71055187490308 and parameters: {'kernel': 'linear', 'degree': 11, 'gamma': 'auto', 'C': 30.538000000000004, 'epsilon': 8.573}. Best is trial 11 with value: 3.727981286677091.\n",
            "[I 2024-05-01 11:29:27,037] Trial 30 finished with value: 5.4045934636435575 and parameters: {'kernel': 'poly', 'degree': 11, 'gamma': 'auto', 'C': 4.014, 'epsilon': 19.335}. Best is trial 11 with value: 3.727981286677091.\n",
            "[I 2024-05-01 11:29:27,130] Trial 31 finished with value: 5.4045934636435575 and parameters: {'kernel': 'poly', 'degree': 15, 'gamma': 'auto', 'C': 59.159, 'epsilon': 19.308000000000003}. Best is trial 11 with value: 3.727981286677091.\n",
            "[I 2024-05-01 11:29:27,333] Trial 32 finished with value: 4.4156148401704325 and parameters: {'kernel': 'linear', 'degree': 20, 'gamma': 'auto', 'C': 49.025999999999996, 'epsilon': 7.627}. Best is trial 11 with value: 3.727981286677091.\n",
            "[I 2024-05-01 11:29:27,408] Trial 33 finished with value: 4.232193302727424 and parameters: {'kernel': 'linear', 'degree': 20, 'gamma': 'auto', 'C': 47.397999999999996, 'epsilon': 7.017}. Best is trial 11 with value: 3.727981286677091.\n",
            "[I 2024-05-01 11:29:27,615] Trial 34 finished with value: 5.4045934636435575 and parameters: {'kernel': 'linear', 'degree': 18, 'gamma': 'auto', 'C': 69.83200000000001, 'epsilon': 30.981}. Best is trial 11 with value: 3.727981286677091.\n",
            "[I 2024-05-01 11:29:27,695] Trial 35 finished with value: 5.4045934636435575 and parameters: {'kernel': 'linear', 'degree': 17, 'gamma': 'auto', 'C': 69.406, 'epsilon': 32.015}. Best is trial 11 with value: 3.727981286677091.\n",
            "[I 2024-05-01 11:29:27,856] Trial 36 finished with value: 3.9671971639150865 and parameters: {'kernel': 'linear', 'degree': 16, 'gamma': 'auto', 'C': 92.799, 'epsilon': 6.18}. Best is trial 11 with value: 3.727981286677091.\n",
            "[I 2024-05-01 11:29:27,964] Trial 37 finished with value: 5.4045934636435575 and parameters: {'kernel': 'linear', 'degree': 13, 'gamma': 'auto', 'C': 94.049, 'epsilon': 15.504}. Best is trial 11 with value: 3.727981286677091.\n",
            "[I 2024-05-01 11:29:28,148] Trial 38 finished with value: 5.4045934636435575 and parameters: {'kernel': 'linear', 'degree': 15, 'gamma': 'auto', 'C': 80.82900000000001, 'epsilon': 69.82600000000001}. Best is trial 11 with value: 3.727981286677091.\n",
            "[I 2024-05-01 11:29:28,258] Trial 39 finished with value: 3.9784208571381607 and parameters: {'kernel': 'linear', 'degree': 15, 'gamma': 'auto', 'C': 98.34, 'epsilon': 6.217}. Best is trial 11 with value: 3.727981286677091.\n",
            "[I 2024-05-01 11:29:28,411] Trial 40 finished with value: 5.4045934636435575 and parameters: {'kernel': 'rbf', 'degree': 16, 'gamma': 'scale', 'C': 96.307, 'epsilon': 14.225}. Best is trial 11 with value: 3.727981286677091.\n",
            "[I 2024-05-01 11:29:28,557] Trial 41 finished with value: 5.4045934636435575 and parameters: {'kernel': 'rbf', 'degree': 6, 'gamma': 'scale', 'C': 99.995, 'epsilon': 15.299}. Best is trial 11 with value: 3.727981286677091.\n",
            "[I 2024-05-01 11:29:28,692] Trial 42 finished with value: 3.6511080951276504 and parameters: {'kernel': 'linear', 'degree': 12, 'gamma': 'auto', 'C': 88.012, 'epsilon': 5.046}. Best is trial 42 with value: 3.6511080951276504.\n",
            "[I 2024-05-01 11:29:28,851] Trial 43 finished with value: 3.7028670865392104 and parameters: {'kernel': 'linear', 'degree': 14, 'gamma': 'auto', 'C': 87.94800000000001, 'epsilon': 5.239}. Best is trial 42 with value: 3.6511080951276504.\n",
            "[I 2024-05-01 11:29:28,965] Trial 44 finished with value: 3.9388536454152443 and parameters: {'kernel': 'linear', 'degree': 12, 'gamma': 'auto', 'C': 88.60600000000001, 'epsilon': 6.084}. Best is trial 42 with value: 3.6511080951276504.\n",
            "[I 2024-05-01 11:29:29,178] Trial 45 finished with value: 5.4045934636435575 and parameters: {'kernel': 'linear', 'degree': 12, 'gamma': 'auto', 'C': 87.962, 'epsilon': 22.562}. Best is trial 42 with value: 3.6511080951276504.\n",
            "[I 2024-05-01 11:29:29,237] Trial 46 finished with value: 5.251470424406425 and parameters: {'kernel': 'linear', 'degree': 12, 'gamma': 'auto', 'C': 88.56500000000001, 'epsilon': 10.9}. Best is trial 42 with value: 3.6511080951276504.\n",
            "[I 2024-05-01 11:29:29,488] Trial 47 finished with value: 3.564200760419069 and parameters: {'kernel': 'linear', 'degree': 9, 'gamma': 'scale', 'C': 83.28500000000001, 'epsilon': 4.104}. Best is trial 47 with value: 3.564200760419069.\n",
            "[I 2024-05-01 11:29:29,524] Trial 48 finished with value: 6.870647699399282 and parameters: {'kernel': 'poly', 'degree': 9, 'gamma': 'scale', 'C': 80.90400000000001, 'epsilon': 4.49}. Best is trial 47 with value: 3.564200760419069.\n",
            "[I 2024-05-01 11:29:29,685] Trial 49 finished with value: 5.4045934636435575 and parameters: {'kernel': 'poly', 'degree': 9, 'gamma': 'scale', 'C': 84.269, 'epsilon': 48.617}. Best is trial 47 with value: 3.564200760419069.\n",
            "[I 2024-05-01 11:29:29,801] Trial 50 finished with value: 5.4045934636435575 and parameters: {'kernel': 'rbf', 'degree': 9, 'gamma': 'scale', 'C': 83.147, 'epsilon': 47.76}. Best is trial 47 with value: 3.564200760419069.\n",
            "[I 2024-05-01 11:29:30,020] Trial 51 finished with value: 4.090564617355873 and parameters: {'kernel': 'rbf', 'degree': 10, 'gamma': 'scale', 'C': 77.20800000000001, 'epsilon': 3.767}. Best is trial 47 with value: 3.564200760419069.\n",
            "[I 2024-05-01 11:29:30,072] Trial 52 finished with value: 5.326414337113096 and parameters: {'kernel': 'linear', 'degree': 10, 'gamma': 'scale', 'C': 91.768, 'epsilon': 11.328}. Best is trial 47 with value: 3.564200760419069.\n",
            "[I 2024-05-01 11:29:30,240] Trial 53 finished with value: 5.4045934636435575 and parameters: {'kernel': 'linear', 'degree': 11, 'gamma': 'scale', 'C': 90.263, 'epsilon': 17.942}. Best is trial 47 with value: 3.564200760419069.\n",
            "[I 2024-05-01 11:29:30,466] Trial 54 finished with value: 4.18221924502648 and parameters: {'kernel': 'linear', 'degree': 12, 'gamma': 'scale', 'C': 6.946, 'epsilon': 0.456}. Best is trial 47 with value: 3.564200760419069.\n",
            "[I 2024-05-01 11:29:30,497] Trial 55 finished with value: 5.4045934636435575 and parameters: {'kernel': 'linear', 'degree': 13, 'gamma': 'auto', 'C': 58.855, 'epsilon': 25.735000000000003}. Best is trial 47 with value: 3.564200760419069.\n",
            "[I 2024-05-01 11:29:30,710] Trial 56 finished with value: 5.314377026159096 and parameters: {'kernel': 'linear', 'degree': 5, 'gamma': 'auto', 'C': 85.46400000000001, 'epsilon': 11.26}. Best is trial 47 with value: 3.564200760419069.\n",
            "[I 2024-05-01 11:29:30,779] Trial 57 finished with value: 5.4002428937940845 and parameters: {'kernel': 'linear', 'degree': 5, 'gamma': 'auto', 'C': 79.251, 'epsilon': 12.039}. Best is trial 47 with value: 3.564200760419069.\n",
            "[I 2024-05-01 11:29:30,984] Trial 58 finished with value: 3.6016573772588205 and parameters: {'kernel': 'linear', 'degree': 14, 'gamma': 'auto', 'C': 74.53800000000001, 'epsilon': 4.845}. Best is trial 47 with value: 3.564200760419069.\n",
            "[I 2024-05-01 11:29:31,134] Trial 59 finished with value: 3.994496185336996 and parameters: {'kernel': 'linear', 'degree': 14, 'gamma': 'auto', 'C': 74.43400000000001, 'epsilon': 3.566}. Best is trial 47 with value: 3.564200760419069.\n",
            "[I 2024-05-01 11:29:31,365] Trial 61 finished with value: 5.4045934636435575 and parameters: {'kernel': 'linear', 'degree': 7, 'gamma': 'auto', 'C': 61.6, 'epsilon': 22.560000000000002}. Best is trial 47 with value: 3.564200760419069.\n",
            "[I 2024-05-01 11:29:31,393] Trial 60 finished with value: 3.933088680264905 and parameters: {'kernel': 'linear', 'degree': 14, 'gamma': 'auto', 'C': 73.46300000000001, 'epsilon': 3.122}. Best is trial 47 with value: 3.564200760419069.\n",
            "[I 2024-05-01 11:29:31,639] Trial 62 finished with value: 3.9441237338526176 and parameters: {'kernel': 'linear', 'degree': 14, 'gamma': 'auto', 'C': 53.949999999999996, 'epsilon': 2.877}. Best is trial 47 with value: 3.564200760419069.\n",
            "[I 2024-05-01 11:29:31,764] Trial 63 finished with value: 4.310422625808155 and parameters: {'kernel': 'linear', 'degree': 14, 'gamma': 'auto', 'C': 70.53800000000001, 'epsilon': 0.592}. Best is trial 47 with value: 3.564200760419069.\n",
            "[I 2024-05-01 11:29:31,994] Trial 65 finished with value: 4.8580590553460725 and parameters: {'kernel': 'linear', 'degree': 16, 'gamma': 'auto', 'C': 29.118000000000002, 'epsilon': 9.043}. Best is trial 47 with value: 3.564200760419069.\n",
            "[I 2024-05-01 11:29:32,015] Trial 64 finished with value: 4.296433207793234 and parameters: {'kernel': 'linear', 'degree': 14, 'gamma': 'auto', 'C': 71.11500000000001, 'epsilon': 1.068}. Best is trial 47 with value: 3.564200760419069.\n",
            "[I 2024-05-01 11:29:32,209] Trial 66 finished with value: 5.4045934636435575 and parameters: {'kernel': 'linear', 'degree': 13, 'gamma': 'auto', 'C': 75.024, 'epsilon': 13.448}. Best is trial 47 with value: 3.564200760419069.\n",
            "[I 2024-05-01 11:29:32,317] Trial 67 finished with value: 5.4045934636435575 and parameters: {'kernel': 'linear', 'degree': 8, 'gamma': 'auto', 'C': 77.197, 'epsilon': 13.617}. Best is trial 47 with value: 3.564200760419069.\n",
            "[I 2024-05-01 11:29:32,496] Trial 68 finished with value: 5.4045934636435575 and parameters: {'kernel': 'linear', 'degree': 11, 'gamma': 'auto', 'C': 10.579, 'epsilon': 17.589000000000002}. Best is trial 47 with value: 3.564200760419069.\n",
            "[I 2024-05-01 11:29:32,606] Trial 69 finished with value: 4.765577256536169 and parameters: {'kernel': 'linear', 'degree': 10, 'gamma': 'auto', 'C': 10.285, 'epsilon': 8.748}. Best is trial 47 with value: 3.564200760419069.\n",
            "[I 2024-05-01 11:29:32,773] Trial 70 finished with value: 5.4045934636435575 and parameters: {'kernel': 'linear', 'degree': 10, 'gamma': 'auto', 'C': 67.71100000000001, 'epsilon': 62.991}. Best is trial 47 with value: 3.564200760419069.\n",
            "[I 2024-05-01 11:29:32,905] Trial 71 finished with value: 5.4045934636435575 and parameters: {'kernel': 'poly', 'degree': 9, 'gamma': 'scale', 'C': 67.31, 'epsilon': 91.99000000000001}. Best is trial 47 with value: 3.564200760419069.\n",
            "[I 2024-05-01 11:29:33,062] Trial 72 finished with value: 3.5603533337276705 and parameters: {'kernel': 'linear', 'degree': 12, 'gamma': 'auto', 'C': 86.176, 'epsilon': 4.519}. Best is trial 72 with value: 3.5603533337276705.\n",
            "[I 2024-05-01 11:29:33,220] Trial 73 finished with value: 3.709843199101769 and parameters: {'kernel': 'linear', 'degree': 13, 'gamma': 'auto', 'C': 85.81, 'epsilon': 5.263}. Best is trial 72 with value: 3.5603533337276705.\n",
            "[I 2024-05-01 11:29:33,368] Trial 74 finished with value: 3.775647701532096 and parameters: {'kernel': 'linear', 'degree': 13, 'gamma': 'auto', 'C': 94.876, 'epsilon': 3.884}. Best is trial 72 with value: 3.5603533337276705.\n",
            "[I 2024-05-01 11:29:33,491] Trial 75 finished with value: 3.8429341323123714 and parameters: {'kernel': 'linear', 'degree': 13, 'gamma': 'auto', 'C': 94.31, 'epsilon': 5.743}. Best is trial 72 with value: 3.5603533337276705.\n",
            "[I 2024-05-01 11:29:33,671] Trial 76 finished with value: 4.8266677897138575 and parameters: {'kernel': 'linear', 'degree': 13, 'gamma': 'auto', 'C': 85.789, 'epsilon': 8.943}. Best is trial 72 with value: 3.5603533337276705.\n",
            "[I 2024-05-01 11:29:33,788] Trial 77 finished with value: 4.723078973080927 and parameters: {'kernel': 'linear', 'degree': 11, 'gamma': 'auto', 'C': 86.051, 'epsilon': 8.612}. Best is trial 72 with value: 3.5603533337276705.\n",
            "[I 2024-05-01 11:29:33,946] Trial 78 finished with value: 3.615911129300959 and parameters: {'kernel': 'linear', 'degree': 12, 'gamma': 'auto', 'C': 96.22600000000001, 'epsilon': 4.902}. Best is trial 72 with value: 3.5603533337276705.\n",
            "[I 2024-05-01 11:29:34,085] Trial 79 finished with value: 3.5723081487618145 and parameters: {'kernel': 'linear', 'degree': 12, 'gamma': 'auto', 'C': 93.95100000000001, 'epsilon': 4.731}. Best is trial 72 with value: 3.5603533337276705.\n",
            "[I 2024-05-01 11:29:34,247] Trial 80 finished with value: 5.4045934636435575 and parameters: {'kernel': 'linear', 'degree': 12, 'gamma': 'auto', 'C': 97.07400000000001, 'epsilon': 20.212000000000003}. Best is trial 72 with value: 3.5603533337276705.\n",
            "[I 2024-05-01 11:29:34,393] Trial 81 finished with value: 5.4045934636435575 and parameters: {'kernel': 'rbf', 'degree': 12, 'gamma': 'auto', 'C': 97.652, 'epsilon': 16.87}. Best is trial 72 with value: 3.5603533337276705.\n",
            "[I 2024-05-01 11:29:34,524] Trial 82 finished with value: 3.7080033840948343 and parameters: {'kernel': 'linear', 'degree': 12, 'gamma': 'auto', 'C': 91.07400000000001, 'epsilon': 5.257}. Best is trial 72 with value: 3.5603533337276705.\n",
            "[I 2024-05-01 11:29:34,683] Trial 83 finished with value: 4.142979309952161 and parameters: {'kernel': 'linear', 'degree': 11, 'gamma': 'auto', 'C': 91.159, 'epsilon': 6.745}. Best is trial 72 with value: 3.5603533337276705.\n",
            "[I 2024-05-01 11:29:34,835] Trial 84 finished with value: 5.4045934636435575 and parameters: {'kernel': 'linear', 'degree': 12, 'gamma': 'auto', 'C': 91.29, 'epsilon': 12.84}. Best is trial 72 with value: 3.5603533337276705.\n",
            "[I 2024-05-01 11:29:35,205] Trial 85 finished with value: 4.296928769300598 and parameters: {'kernel': 'linear', 'degree': 12, 'gamma': 'auto', 'C': 82.742, 'epsilon': 0.24100000000000002}. Best is trial 72 with value: 3.5603533337276705.\n",
            "[I 2024-05-01 11:29:35,382] Trial 86 finished with value: 4.302181453040092 and parameters: {'kernel': 'linear', 'degree': 14, 'gamma': 'auto', 'C': 82.379, 'epsilon': 0.374}. Best is trial 72 with value: 3.5603533337276705.\n",
            "[I 2024-05-01 11:29:35,605] Trial 87 finished with value: 3.6540382928222828 and parameters: {'kernel': 'linear', 'degree': 13, 'gamma': 'auto', 'C': 79.52600000000001, 'epsilon': 5.058}. Best is trial 72 with value: 3.5603533337276705.\n",
            "[I 2024-05-01 11:29:35,773] Trial 88 finished with value: 5.058563694192131 and parameters: {'kernel': 'linear', 'degree': 15, 'gamma': 'scale', 'C': 88.14200000000001, 'epsilon': 9.839}. Best is trial 72 with value: 3.5603533337276705.\n",
            "[I 2024-05-01 11:29:35,971] Trial 89 finished with value: 5.0546303646657496 and parameters: {'kernel': 'linear', 'degree': 15, 'gamma': 'scale', 'C': 78.777, 'epsilon': 9.822}. Best is trial 72 with value: 3.5603533337276705.\n",
            "[I 2024-05-01 11:29:36,188] Trial 90 finished with value: 5.4045934636435575 and parameters: {'kernel': 'poly', 'degree': 11, 'gamma': 'auto', 'C': 79.33300000000001, 'epsilon': 81.11500000000001}. Best is trial 72 with value: 3.5603533337276705.\n",
            "[I 2024-05-01 11:29:36,361] Trial 91 finished with value: 5.4045934636435575 and parameters: {'kernel': 'poly', 'degree': 11, 'gamma': 'auto', 'C': 93.90700000000001, 'epsilon': 43.813}. Best is trial 72 with value: 3.5603533337276705.\n",
            "[I 2024-05-01 11:29:36,603] Trial 92 finished with value: 3.6291612829639863 and parameters: {'kernel': 'linear', 'degree': 13, 'gamma': 'auto', 'C': 93.19600000000001, 'epsilon': 4.959}. Best is trial 72 with value: 3.5603533337276705.\n",
            "[I 2024-05-01 11:29:36,799] Trial 93 finished with value: 3.860389120575576 and parameters: {'kernel': 'linear', 'degree': 13, 'gamma': 'auto', 'C': 87.644, 'epsilon': 5.808}. Best is trial 72 with value: 3.5603533337276705.\n",
            "[I 2024-05-01 11:29:37,177] Trial 94 finished with value: 3.9955565061437217 and parameters: {'kernel': 'linear', 'degree': 2, 'gamma': 'auto', 'C': 89.56700000000001, 'epsilon': 3.016}. Best is trial 72 with value: 3.5603533337276705.\n",
            "[I 2024-05-01 11:29:37,293] Trial 95 finished with value: 3.947206177603088 and parameters: {'kernel': 'linear', 'degree': 12, 'gamma': 'auto', 'C': 95.61200000000001, 'epsilon': 3.416}. Best is trial 72 with value: 3.5603533337276705.\n",
            "[I 2024-05-01 11:29:37,580] Trial 96 finished with value: 4.398777827947036 and parameters: {'kernel': 'linear', 'degree': 12, 'gamma': 'auto', 'C': 91.57400000000001, 'epsilon': 7.574}. Best is trial 72 with value: 3.5603533337276705.\n",
            "[I 2024-05-01 11:29:37,705] Trial 97 finished with value: 4.441610489567425 and parameters: {'kernel': 'linear', 'degree': 14, 'gamma': 'auto', 'C': 92.858, 'epsilon': 7.71}. Best is trial 72 with value: 3.5603533337276705.\n",
            "[I 2024-05-01 11:29:37,981] Trial 98 finished with value: 5.39768212708151 and parameters: {'kernel': 'linear', 'degree': 14, 'gamma': 'auto', 'C': 99.59, 'epsilon': 12.003}. Best is trial 72 with value: 3.5603533337276705.\n",
            "[I 2024-05-01 11:29:38,039] Trial 99 finished with value: 5.4045934636435575 and parameters: {'kernel': 'rbf', 'degree': 13, 'gamma': 'auto', 'C': 98.82600000000001, 'epsilon': 14.872}. Best is trial 72 with value: 3.5603533337276705.\n"
          ]
        }
      ]
    },
    {
      "cell_type": "markdown",
      "source": [
        "Lagring av resultater"
      ],
      "metadata": {
        "id": "rhtY8WGq_jcr"
      }
    },
    {
      "cell_type": "code",
      "source": [
        "res_1_hel = pd.DataFrame(res.dict_res_1_hel)\n",
        "res_1_hel_opt = pd.DataFrame(res.dict_res_1_hel_opt)\n",
        "\n",
        "res_1_hel.to_csv('/content/drive/MyDrive/MasterV24/Bioco_data/Resultater/collagen/collagen_resultater_1_hel.csv')\n",
        "res_1_hel_opt.to_csv('/content/drive/MyDrive/MasterV24/Bioco_data/Resultater/collagen/collagen_resultater_1_hel_opt.csv')"
      ],
      "metadata": {
        "id": "ZMEjdoR6_jcr"
      },
      "execution_count": 18,
      "outputs": []
    },
    {
      "cell_type": "markdown",
      "source": [
        "Velger beste modell"
      ],
      "metadata": {
        "id": "bwX1RP9pXiU_"
      }
    },
    {
      "cell_type": "code",
      "source": [],
      "metadata": {
        "id": "ioPAXcdFXkf7"
      },
      "execution_count": null,
      "outputs": []
    },
    {
      "cell_type": "markdown",
      "source": [
        "## Alternativ 2: 20% Testsett og resteremde hele treningssett"
      ],
      "metadata": {
        "id": "Vug3qjOcXxOJ"
      }
    },
    {
      "cell_type": "code",
      "source": [
        "# Deler datasettet i trening og testsett\n",
        "trening_markert, testsett, _, trening\\\n",
        "= trening_testsett_oppdeling_dag(rå_data,\n",
        "                                 data,\n",
        "                                 test_andel=test_andel,\n",
        "                                 test_ekskluder_kalkun_kylling=True)"
      ],
      "metadata": {
        "id": "JzADzCY1X0Zx"
      },
      "execution_count": 20,
      "outputs": []
    },
    {
      "cell_type": "code",
      "source": [
        "# Finner antall av enzymtype med minst antall\n",
        "n_splitt = n_splitt_enzym(rå_data,\n",
        "                          trening_markert)\n",
        "\n",
        "# Modelloptimalisering, trening og evaluering av RFR, KNR og SVR\n",
        "veiledet_modell_evaluering_2(dict_res_opt=res.dict_res_2_hel_opt,\n",
        "                             dict_res=res.dict_res_2_hel,\n",
        "                             rå_data=rå_data,\n",
        "                             treningssett_markert=trening_markert,\n",
        "                             testsett=testsett,\n",
        "                             n_splitt=n_splitt,\n",
        "                             n_runder=n_runder,\n",
        "                             test_andel=test_andel,\n",
        "                             trenings_andel=trenings_andel,\n",
        "                             random_seed=random_seed)"
      ],
      "metadata": {
        "id": "-GW5AyE7X5Sh",
        "colab": {
          "base_uri": "https://localhost:8080/"
        },
        "outputId": "8899a364-7d50-4832-d527-ccdc819242d5"
      },
      "execution_count": 21,
      "outputs": [
        {
          "output_type": "stream",
          "name": "stderr",
          "text": [
            "[I 2024-05-01 11:32:51,596] A new study created in memory with name: no-name-0567ffa7-ea45-40f3-ae60-a44a7d42917b\n",
            "[I 2024-05-01 11:32:52,474] Trial 0 finished with value: 5.155926300332452 and parameters: {'n_neighbors': 18, 'weights': 'distance', 'p': 10}. Best is trial 0 with value: 5.155926300332452.\n",
            "[I 2024-05-01 11:32:52,482] Trial 1 finished with value: 4.81226984910519 and parameters: {'n_neighbors': 15, 'weights': 'distance', 'p': 8}. Best is trial 1 with value: 4.81226984910519.\n",
            "[I 2024-05-01 11:32:54,306] Trial 3 finished with value: 4.187833924641045 and parameters: {'n_neighbors': 7, 'weights': 'distance', 'p': 2}. Best is trial 3 with value: 4.187833924641045.\n",
            "[I 2024-05-01 11:32:54,310] Trial 2 finished with value: 5.364840574707749 and parameters: {'n_neighbors': 17, 'weights': 'uniform', 'p': 10}. Best is trial 3 with value: 4.187833924641045.\n",
            "[I 2024-05-01 11:32:55,739] Trial 5 finished with value: 4.293077919582408 and parameters: {'n_neighbors': 6, 'weights': 'uniform', 'p': 7}. Best is trial 3 with value: 4.187833924641045.\n",
            "[I 2024-05-01 11:32:55,864] Trial 4 finished with value: 5.064932137325765 and parameters: {'n_neighbors': 18, 'weights': 'uniform', 'p': 4}. Best is trial 3 with value: 4.187833924641045.\n",
            "[I 2024-05-01 11:32:57,018] Trial 6 finished with value: 4.7881216040717245 and parameters: {'n_neighbors': 1, 'weights': 'uniform', 'p': 10}. Best is trial 3 with value: 4.187833924641045.\n",
            "[I 2024-05-01 11:32:57,125] Trial 7 finished with value: 4.478176734297721 and parameters: {'n_neighbors': 9, 'weights': 'uniform', 'p': 5}. Best is trial 3 with value: 4.187833924641045.\n",
            "[I 2024-05-01 11:32:58,046] Trial 8 finished with value: 4.4126196411179315 and parameters: {'n_neighbors': 10, 'weights': 'distance', 'p': 4}. Best is trial 3 with value: 4.187833924641045.\n",
            "[I 2024-05-01 11:32:58,077] Trial 9 finished with value: 4.6479480935662085 and parameters: {'n_neighbors': 12, 'weights': 'distance', 'p': 8}. Best is trial 3 with value: 4.187833924641045.\n",
            "[I 2024-05-01 11:32:58,756] Trial 10 finished with value: 3.947558547321451 and parameters: {'n_neighbors': 4, 'weights': 'distance', 'p': 1}. Best is trial 10 with value: 3.947558547321451.\n",
            "[I 2024-05-01 11:32:58,903] Trial 11 finished with value: 3.947558547321451 and parameters: {'n_neighbors': 4, 'weights': 'distance', 'p': 1}. Best is trial 10 with value: 3.947558547321451.\n",
            "[I 2024-05-01 11:32:59,456] Trial 12 finished with value: 3.947558547321451 and parameters: {'n_neighbors': 4, 'weights': 'distance', 'p': 1}. Best is trial 10 with value: 3.947558547321451.\n",
            "[I 2024-05-01 11:32:59,761] Trial 13 finished with value: 4.23182741590401 and parameters: {'n_neighbors': 2, 'weights': 'distance', 'p': 1}. Best is trial 10 with value: 3.947558547321451.\n",
            "[I 2024-05-01 11:33:00,174] Trial 14 finished with value: 4.283340687509694 and parameters: {'n_neighbors': 2, 'weights': 'distance', 'p': 2}. Best is trial 10 with value: 3.947558547321451.\n",
            "[I 2024-05-01 11:33:00,573] Trial 15 finished with value: 4.050462276433348 and parameters: {'n_neighbors': 4, 'weights': 'distance', 'p': 3}. Best is trial 10 with value: 3.947558547321451.\n",
            "[I 2024-05-01 11:33:01,053] Trial 16 finished with value: 4.014617250184223 and parameters: {'n_neighbors': 5, 'weights': 'distance', 'p': 3}. Best is trial 10 with value: 3.947558547321451.\n",
            "[I 2024-05-01 11:33:01,235] Trial 17 finished with value: 4.074587198300276 and parameters: {'n_neighbors': 7, 'weights': 'distance', 'p': 1}. Best is trial 10 with value: 3.947558547321451.\n",
            "[I 2024-05-01 11:33:01,833] Trial 18 finished with value: 4.259926330838286 and parameters: {'n_neighbors': 13, 'weights': 'distance', 'p': 1}. Best is trial 10 with value: 3.947558547321451.\n",
            "[I 2024-05-01 11:33:02,009] Trial 19 finished with value: 4.654740473862549 and parameters: {'n_neighbors': 13, 'weights': 'distance', 'p': 6}. Best is trial 10 with value: 3.947558547321451.\n",
            "[I 2024-05-01 11:33:02,561] Trial 20 finished with value: 4.330376061610768 and parameters: {'n_neighbors': 8, 'weights': 'distance', 'p': 6}. Best is trial 10 with value: 3.947558547321451.\n",
            "[I 2024-05-01 11:33:02,748] Trial 21 finished with value: 4.29400559505114 and parameters: {'n_neighbors': 8, 'weights': 'distance', 'p': 3}. Best is trial 10 with value: 3.947558547321451.\n",
            "[I 2024-05-01 11:33:03,409] Trial 22 finished with value: 3.921634026104486 and parameters: {'n_neighbors': 4, 'weights': 'distance', 'p': 2}. Best is trial 22 with value: 3.921634026104486.\n",
            "[I 2024-05-01 11:33:03,456] Trial 23 finished with value: 4.072255563287495 and parameters: {'n_neighbors': 3, 'weights': 'distance', 'p': 2}. Best is trial 22 with value: 3.921634026104486.\n",
            "[I 2024-05-01 11:33:04,175] Trial 24 finished with value: 4.072255563287495 and parameters: {'n_neighbors': 3, 'weights': 'distance', 'p': 2}. Best is trial 22 with value: 3.921634026104486.\n",
            "[I 2024-05-01 11:33:04,203] Trial 25 finished with value: 3.914546001989602 and parameters: {'n_neighbors': 5, 'weights': 'distance', 'p': 2}. Best is trial 25 with value: 3.914546001989602.\n",
            "[I 2024-05-01 11:33:04,849] Trial 26 finished with value: 4.416756203476395 and parameters: {'n_neighbors': 5, 'weights': 'uniform', 'p': 4}. Best is trial 25 with value: 3.914546001989602.\n",
            "[I 2024-05-01 11:33:04,960] Trial 27 finished with value: 4.48759156407286 and parameters: {'n_neighbors': 6, 'weights': 'uniform', 'p': 4}. Best is trial 25 with value: 3.914546001989602.\n",
            "[I 2024-05-01 11:33:05,613] Trial 28 finished with value: 4.995657659295077 and parameters: {'n_neighbors': 1, 'weights': 'distance', 'p': 3}. Best is trial 25 with value: 3.914546001989602.\n",
            "[I 2024-05-01 11:33:05,845] Trial 29 finished with value: 4.995657659295077 and parameters: {'n_neighbors': 1, 'weights': 'distance', 'p': 3}. Best is trial 25 with value: 3.914546001989602.\n",
            "[I 2024-05-01 11:33:06,489] Trial 30 finished with value: 4.281060154419748 and parameters: {'n_neighbors': 11, 'weights': 'distance', 'p': 2}. Best is trial 25 with value: 3.914546001989602.\n",
            "[I 2024-05-01 11:33:07,087] Trial 31 finished with value: 4.6109649298384 and parameters: {'n_neighbors': 20, 'weights': 'distance', 'p': 2}. Best is trial 25 with value: 3.914546001989602.\n",
            "[I 2024-05-01 11:33:07,448] Trial 32 finished with value: 3.947558547321451 and parameters: {'n_neighbors': 4, 'weights': 'distance', 'p': 1}. Best is trial 25 with value: 3.914546001989602.\n",
            "[I 2024-05-01 11:33:07,981] Trial 33 finished with value: 3.947558547321451 and parameters: {'n_neighbors': 4, 'weights': 'distance', 'p': 1}. Best is trial 25 with value: 3.914546001989602.\n",
            "[I 2024-05-01 11:33:08,361] Trial 34 finished with value: 4.14154574499928 and parameters: {'n_neighbors': 6, 'weights': 'distance', 'p': 1}. Best is trial 25 with value: 3.914546001989602.\n",
            "[I 2024-05-01 11:33:08,857] Trial 35 finished with value: 4.073504276959826 and parameters: {'n_neighbors': 6, 'weights': 'distance', 'p': 2}. Best is trial 25 with value: 3.914546001989602.\n",
            "[I 2024-05-01 11:33:09,212] Trial 36 finished with value: 4.072255563287495 and parameters: {'n_neighbors': 3, 'weights': 'distance', 'p': 2}. Best is trial 25 with value: 3.914546001989602.\n",
            "[I 2024-05-01 11:33:09,764] Trial 37 finished with value: 4.072255563287495 and parameters: {'n_neighbors': 3, 'weights': 'distance', 'p': 2}. Best is trial 25 with value: 3.914546001989602.\n",
            "[I 2024-05-01 11:33:10,173] Trial 38 finished with value: 4.676675396097927 and parameters: {'n_neighbors': 15, 'weights': 'distance', 'p': 5}. Best is trial 25 with value: 3.914546001989602.\n",
            "[I 2024-05-01 11:33:10,940] Trial 39 finished with value: 5.015124337009488 and parameters: {'n_neighbors': 16, 'weights': 'uniform', 'p': 5}. Best is trial 25 with value: 3.914546001989602.\n",
            "[I 2024-05-01 11:33:11,236] Trial 40 finished with value: 4.44336295683188 and parameters: {'n_neighbors': 7, 'weights': 'uniform', 'p': 9}. Best is trial 25 with value: 3.914546001989602.\n",
            "[I 2024-05-01 11:33:11,610] Trial 41 finished with value: 4.5732317463035095 and parameters: {'n_neighbors': 8, 'weights': 'uniform', 'p': 9}. Best is trial 25 with value: 3.914546001989602.\n",
            "[I 2024-05-01 11:33:12,002] Trial 42 finished with value: 3.9989065423663517 and parameters: {'n_neighbors': 5, 'weights': 'distance', 'p': 1}. Best is trial 25 with value: 3.914546001989602.\n",
            "[I 2024-05-01 11:33:12,474] Trial 43 finished with value: 3.9989065423663517 and parameters: {'n_neighbors': 5, 'weights': 'distance', 'p': 1}. Best is trial 25 with value: 3.914546001989602.\n",
            "[I 2024-05-01 11:33:12,702] Trial 44 finished with value: 4.23182741590401 and parameters: {'n_neighbors': 2, 'weights': 'distance', 'p': 1}. Best is trial 25 with value: 3.914546001989602.\n",
            "[I 2024-05-01 11:33:13,203] Trial 45 finished with value: 4.23182741590401 and parameters: {'n_neighbors': 2, 'weights': 'distance', 'p': 1}. Best is trial 25 with value: 3.914546001989602.\n",
            "[I 2024-05-01 11:33:13,577] Trial 46 finished with value: 4.050462276433348 and parameters: {'n_neighbors': 4, 'weights': 'distance', 'p': 3}. Best is trial 25 with value: 3.914546001989602.\n",
            "[I 2024-05-01 11:33:13,930] Trial 47 finished with value: 4.050462276433348 and parameters: {'n_neighbors': 4, 'weights': 'distance', 'p': 3}. Best is trial 25 with value: 3.914546001989602.\n",
            "[I 2024-05-01 11:33:14,334] Trial 48 finished with value: 4.292619834281354 and parameters: {'n_neighbors': 10, 'weights': 'distance', 'p': 2}. Best is trial 25 with value: 3.914546001989602.\n",
            "[I 2024-05-01 11:33:14,760] Trial 49 finished with value: 4.328977676656761 and parameters: {'n_neighbors': 9, 'weights': 'distance', 'p': 4}. Best is trial 25 with value: 3.914546001989602.\n",
            "[I 2024-05-01 11:33:15,002] Trial 50 finished with value: 4.214799514264346 and parameters: {'n_neighbors': 9, 'weights': 'distance', 'p': 2}. Best is trial 25 with value: 3.914546001989602.\n",
            "[I 2024-05-01 11:33:15,538] Trial 51 finished with value: 4.074587198300276 and parameters: {'n_neighbors': 7, 'weights': 'distance', 'p': 1}. Best is trial 25 with value: 3.914546001989602.\n",
            "[I 2024-05-01 11:33:15,778] Trial 52 finished with value: 3.9989065423663517 and parameters: {'n_neighbors': 5, 'weights': 'distance', 'p': 1}. Best is trial 25 with value: 3.914546001989602.\n",
            "[I 2024-05-01 11:33:16,246] Trial 53 finished with value: 3.947558547321451 and parameters: {'n_neighbors': 4, 'weights': 'distance', 'p': 1}. Best is trial 25 with value: 3.914546001989602.\n",
            "[I 2024-05-01 11:33:16,606] Trial 54 finished with value: 4.23182741590401 and parameters: {'n_neighbors': 2, 'weights': 'distance', 'p': 1}. Best is trial 25 with value: 3.914546001989602.\n",
            "[I 2024-05-01 11:33:17,005] Trial 55 finished with value: 4.23182741590401 and parameters: {'n_neighbors': 2, 'weights': 'distance', 'p': 1}. Best is trial 25 with value: 3.914546001989602.\n",
            "[I 2024-05-01 11:33:17,353] Trial 56 finished with value: 4.234619779835174 and parameters: {'n_neighbors': 3, 'weights': 'distance', 'p': 7}. Best is trial 25 with value: 3.914546001989602.\n",
            "[I 2024-05-01 11:33:17,760] Trial 57 finished with value: 4.234619779835174 and parameters: {'n_neighbors': 3, 'weights': 'distance', 'p': 7}. Best is trial 25 with value: 3.914546001989602.\n",
            "[I 2024-05-01 11:33:18,054] Trial 58 finished with value: 3.921634026104486 and parameters: {'n_neighbors': 4, 'weights': 'distance', 'p': 2}. Best is trial 25 with value: 3.914546001989602.\n",
            "[I 2024-05-01 11:33:18,491] Trial 59 finished with value: 4.073504276959826 and parameters: {'n_neighbors': 6, 'weights': 'distance', 'p': 2}. Best is trial 25 with value: 3.914546001989602.\n",
            "[I 2024-05-01 11:33:18,847] Trial 60 finished with value: 4.073504276959826 and parameters: {'n_neighbors': 6, 'weights': 'distance', 'p': 2}. Best is trial 25 with value: 3.914546001989602.\n",
            "[I 2024-05-01 11:33:19,246] Trial 61 finished with value: 4.094469835166799 and parameters: {'n_neighbors': 5, 'weights': 'uniform', 'p': 3}. Best is trial 25 with value: 3.914546001989602.\n",
            "[I 2024-05-01 11:33:19,698] Trial 62 finished with value: 3.921634026104486 and parameters: {'n_neighbors': 4, 'weights': 'distance', 'p': 2}. Best is trial 25 with value: 3.914546001989602.\n",
            "[I 2024-05-01 11:33:20,024] Trial 63 finished with value: 3.947558547321451 and parameters: {'n_neighbors': 4, 'weights': 'distance', 'p': 1}. Best is trial 25 with value: 3.914546001989602.\n",
            "[I 2024-05-01 11:33:20,373] Trial 64 finished with value: 4.995657659295077 and parameters: {'n_neighbors': 1, 'weights': 'distance', 'p': 3}. Best is trial 25 with value: 3.914546001989602.\n",
            "[I 2024-05-01 11:33:20,855] Trial 65 finished with value: 5.0803798034308105 and parameters: {'n_neighbors': 1, 'weights': 'distance', 'p': 2}. Best is trial 25 with value: 3.914546001989602.\n",
            "[I 2024-05-01 11:33:21,470] Trial 66 finished with value: 4.072255563287495 and parameters: {'n_neighbors': 3, 'weights': 'distance', 'p': 2}. Best is trial 25 with value: 3.914546001989602.\n",
            "[I 2024-05-01 11:33:21,724] Trial 67 finished with value: 3.914546001989602 and parameters: {'n_neighbors': 5, 'weights': 'distance', 'p': 2}. Best is trial 25 with value: 3.914546001989602.\n",
            "[I 2024-05-01 11:33:22,353] Trial 68 finished with value: 4.014617250184223 and parameters: {'n_neighbors': 5, 'weights': 'distance', 'p': 3}. Best is trial 25 with value: 3.914546001989602.\n",
            "[I 2024-05-01 11:33:22,627] Trial 69 finished with value: 4.014617250184223 and parameters: {'n_neighbors': 5, 'weights': 'distance', 'p': 3}. Best is trial 25 with value: 3.914546001989602.\n",
            "[I 2024-05-01 11:33:23,284] Trial 70 finished with value: 4.234431130588844 and parameters: {'n_neighbors': 7, 'weights': 'distance', 'p': 3}. Best is trial 25 with value: 3.914546001989602.\n",
            "[I 2024-05-01 11:33:23,563] Trial 71 finished with value: 4.187833924641045 and parameters: {'n_neighbors': 7, 'weights': 'distance', 'p': 2}. Best is trial 25 with value: 3.914546001989602.\n",
            "[I 2024-05-01 11:33:24,234] Trial 72 finished with value: 3.921634026104486 and parameters: {'n_neighbors': 4, 'weights': 'distance', 'p': 2}. Best is trial 25 with value: 3.914546001989602.\n",
            "[I 2024-05-01 11:33:24,344] Trial 73 finished with value: 3.921634026104486 and parameters: {'n_neighbors': 4, 'weights': 'distance', 'p': 2}. Best is trial 25 with value: 3.914546001989602.\n",
            "[I 2024-05-01 11:33:24,930] Trial 74 finished with value: 3.921634026104486 and parameters: {'n_neighbors': 4, 'weights': 'distance', 'p': 2}. Best is trial 25 with value: 3.914546001989602.\n",
            "[I 2024-05-01 11:33:25,103] Trial 75 finished with value: 4.073504276959826 and parameters: {'n_neighbors': 6, 'weights': 'distance', 'p': 2}. Best is trial 25 with value: 3.914546001989602.\n",
            "[I 2024-05-01 11:33:25,774] Trial 76 finished with value: 4.072255563287495 and parameters: {'n_neighbors': 3, 'weights': 'distance', 'p': 2}. Best is trial 25 with value: 3.914546001989602.\n",
            "[I 2024-05-01 11:33:25,867] Trial 77 finished with value: 4.072255563287495 and parameters: {'n_neighbors': 3, 'weights': 'distance', 'p': 2}. Best is trial 25 with value: 3.914546001989602.\n",
            "[I 2024-05-01 11:33:26,450] Trial 78 finished with value: 4.167080563130604 and parameters: {'n_neighbors': 4, 'weights': 'uniform', 'p': 4}. Best is trial 25 with value: 3.914546001989602.\n",
            "[I 2024-05-01 11:33:26,642] Trial 79 finished with value: 4.167080563130604 and parameters: {'n_neighbors': 4, 'weights': 'uniform', 'p': 4}. Best is trial 25 with value: 3.914546001989602.\n",
            "[I 2024-05-01 11:33:27,090] Trial 80 finished with value: 4.014617250184223 and parameters: {'n_neighbors': 5, 'weights': 'distance', 'p': 3}. Best is trial 25 with value: 3.914546001989602.\n",
            "[I 2024-05-01 11:33:27,407] Trial 81 finished with value: 4.014617250184223 and parameters: {'n_neighbors': 5, 'weights': 'distance', 'p': 3}. Best is trial 25 with value: 3.914546001989602.\n",
            "[I 2024-05-01 11:33:27,881] Trial 82 finished with value: 3.914546001989602 and parameters: {'n_neighbors': 5, 'weights': 'distance', 'p': 2}. Best is trial 25 with value: 3.914546001989602.\n",
            "[I 2024-05-01 11:33:28,187] Trial 83 finished with value: 3.921634026104486 and parameters: {'n_neighbors': 4, 'weights': 'distance', 'p': 2}. Best is trial 25 with value: 3.914546001989602.\n",
            "[I 2024-05-01 11:33:28,614] Trial 84 finished with value: 3.921634026104486 and parameters: {'n_neighbors': 4, 'weights': 'distance', 'p': 2}. Best is trial 25 with value: 3.914546001989602.\n",
            "[I 2024-05-01 11:33:29,099] Trial 85 finished with value: 4.073504276959826 and parameters: {'n_neighbors': 6, 'weights': 'distance', 'p': 2}. Best is trial 25 with value: 3.914546001989602.\n",
            "[I 2024-05-01 11:33:29,432] Trial 86 finished with value: 4.073504276959826 and parameters: {'n_neighbors': 6, 'weights': 'distance', 'p': 2}. Best is trial 25 with value: 3.914546001989602.\n",
            "[I 2024-05-01 11:33:29,775] Trial 87 finished with value: 4.232981669372977 and parameters: {'n_neighbors': 2, 'weights': 'distance', 'p': 3}. Best is trial 25 with value: 3.914546001989602.\n",
            "[I 2024-05-01 11:33:30,150] Trial 88 finished with value: 4.232981669372977 and parameters: {'n_neighbors': 2, 'weights': 'distance', 'p': 3}. Best is trial 25 with value: 3.914546001989602.\n",
            "[I 2024-05-01 11:33:30,489] Trial 89 finished with value: 4.072255563287495 and parameters: {'n_neighbors': 3, 'weights': 'distance', 'p': 2}. Best is trial 25 with value: 3.914546001989602.\n",
            "[I 2024-05-01 11:33:31,122] Trial 90 finished with value: 4.1565659221689595 and parameters: {'n_neighbors': 8, 'weights': 'distance', 'p': 2}. Best is trial 25 with value: 3.914546001989602.\n",
            "[I 2024-05-01 11:33:31,243] Trial 91 finished with value: 3.914546001989602 and parameters: {'n_neighbors': 5, 'weights': 'distance', 'p': 2}. Best is trial 25 with value: 3.914546001989602.\n",
            "[I 2024-05-01 11:33:31,914] Trial 92 finished with value: 3.914546001989602 and parameters: {'n_neighbors': 5, 'weights': 'distance', 'p': 2}. Best is trial 25 with value: 3.914546001989602.\n",
            "[I 2024-05-01 11:33:32,020] Trial 93 finished with value: 3.914546001989602 and parameters: {'n_neighbors': 5, 'weights': 'distance', 'p': 2}. Best is trial 25 with value: 3.914546001989602.\n",
            "[I 2024-05-01 11:33:32,634] Trial 94 finished with value: 3.914546001989602 and parameters: {'n_neighbors': 5, 'weights': 'distance', 'p': 2}. Best is trial 25 with value: 3.914546001989602.\n",
            "[I 2024-05-01 11:33:32,780] Trial 95 finished with value: 3.914546001989602 and parameters: {'n_neighbors': 5, 'weights': 'distance', 'p': 2}. Best is trial 25 with value: 3.914546001989602.\n",
            "[I 2024-05-01 11:33:33,450] Trial 96 finished with value: 3.9989065423663517 and parameters: {'n_neighbors': 5, 'weights': 'distance', 'p': 1}. Best is trial 25 with value: 3.914546001989602.\n",
            "[I 2024-05-01 11:33:33,558] Trial 97 finished with value: 3.9989065423663517 and parameters: {'n_neighbors': 5, 'weights': 'distance', 'p': 1}. Best is trial 25 with value: 3.914546001989602.\n",
            "[I 2024-05-01 11:33:34,187] Trial 98 finished with value: 4.234431130588844 and parameters: {'n_neighbors': 7, 'weights': 'distance', 'p': 3}. Best is trial 25 with value: 3.914546001989602.\n",
            "[I 2024-05-01 11:33:34,336] Trial 99 finished with value: 4.234431130588844 and parameters: {'n_neighbors': 7, 'weights': 'distance', 'p': 3}. Best is trial 25 with value: 3.914546001989602.\n",
            "[I 2024-05-01 11:33:34,362] A new study created in memory with name: no-name-765052ac-c2bd-48ad-bff4-4cae53c65763\n",
            "[I 2024-05-01 11:33:37,478] Trial 0 finished with value: 3.998736039561755 and parameters: {'n_estimators': 166, 'criterion': 'friedman_mse', 'max_depth': 23, 'min_samples_leaf': 1, 'max_features': 0.117}. Best is trial 0 with value: 3.998736039561755.\n",
            "[I 2024-05-01 11:33:39,096] Trial 1 finished with value: 4.258188725180121 and parameters: {'n_estimators': 315, 'criterion': 'absolute_error', 'max_depth': 27, 'min_samples_leaf': 4, 'max_features': 0.188}. Best is trial 0 with value: 3.998736039561755.\n",
            "[I 2024-05-01 11:33:41,417] Trial 3 finished with value: 4.787134620855085 and parameters: {'n_estimators': 248, 'criterion': 'absolute_error', 'max_depth': 15, 'min_samples_leaf': 5, 'max_features': 0.10600000000000001}. Best is trial 0 with value: 3.998736039561755.\n",
            "[I 2024-05-01 11:33:42,862] Trial 2 finished with value: 3.8860216000815786 and parameters: {'n_estimators': 452, 'criterion': 'squared_error', 'max_depth': 12, 'min_samples_leaf': 1, 'max_features': 0.2}. Best is trial 2 with value: 3.8860216000815786.\n",
            "[I 2024-05-01 11:33:45,166] Trial 5 finished with value: 4.369217842707741 and parameters: {'n_estimators': 255, 'criterion': 'squared_error', 'max_depth': 1, 'min_samples_leaf': 5, 'max_features': 0.939}. Best is trial 2 with value: 3.8860216000815786.\n",
            "[I 2024-05-01 11:33:45,838] Trial 4 finished with value: 3.7008952674639 and parameters: {'n_estimators': 409, 'criterion': 'friedman_mse', 'max_depth': 4, 'min_samples_leaf': 2, 'max_features': 0.513}. Best is trial 4 with value: 3.7008952674639.\n",
            "[I 2024-05-01 11:33:49,731] Trial 7 finished with value: 3.785798150485974 and parameters: {'n_estimators': 350, 'criterion': 'poisson', 'max_depth': 22, 'min_samples_leaf': 2, 'max_features': 0.318}. Best is trial 4 with value: 3.7008952674639.\n",
            "[I 2024-05-01 11:33:49,745] Trial 6 finished with value: 3.681207068842345 and parameters: {'n_estimators': 434, 'criterion': 'poisson', 'max_depth': 13, 'min_samples_leaf': 5, 'max_features': 0.916}. Best is trial 6 with value: 3.681207068842345.\n",
            "[I 2024-05-01 11:33:52,680] Trial 9 finished with value: 4.5839005006903495 and parameters: {'n_estimators': 264, 'criterion': 'squared_error', 'max_depth': 1, 'min_samples_leaf': 1, 'max_features': 0.644}. Best is trial 6 with value: 3.681207068842345.\n",
            "[I 2024-05-01 11:33:54,332] Trial 8 finished with value: 3.8488724767127236 and parameters: {'n_estimators': 417, 'criterion': 'friedman_mse', 'max_depth': 7, 'min_samples_leaf': 5, 'max_features': 0.496}. Best is trial 6 with value: 3.681207068842345.\n",
            "[I 2024-05-01 11:33:56,961] Trial 10 finished with value: 4.15827175858415 and parameters: {'n_estimators': 345, 'criterion': 'absolute_error', 'max_depth': 28, 'min_samples_leaf': 3, 'max_features': 0.20700000000000002}. Best is trial 6 with value: 3.681207068842345.\n",
            "[I 2024-05-01 11:33:58,526] Trial 11 finished with value: 3.542769297512753 and parameters: {'n_estimators': 497, 'criterion': 'poisson', 'max_depth': 10, 'min_samples_leaf': 3, 'max_features': 0.974}. Best is trial 11 with value: 3.542769297512753.\n",
            "[I 2024-05-01 11:34:02,338] Trial 12 finished with value: 3.5629421009898743 and parameters: {'n_estimators': 491, 'criterion': 'poisson', 'max_depth': 8, 'min_samples_leaf': 3, 'max_features': 0.913}. Best is trial 11 with value: 3.542769297512753.\n",
            "[I 2024-05-01 11:34:04,462] Trial 13 finished with value: 3.542769297512753 and parameters: {'n_estimators': 497, 'criterion': 'poisson', 'max_depth': 10, 'min_samples_leaf': 3, 'max_features': 0.998}. Best is trial 11 with value: 3.542769297512753.\n",
            "[I 2024-05-01 11:34:08,100] Trial 14 finished with value: 3.585889222892016 and parameters: {'n_estimators': 485, 'criterion': 'poisson', 'max_depth': 8, 'min_samples_leaf': 3, 'max_features': 0.777}. Best is trial 11 with value: 3.542769297512753.\n",
            "[I 2024-05-01 11:34:09,414] Trial 16 finished with value: 3.6740843224404673 and parameters: {'n_estimators': 101, 'criterion': 'poisson', 'max_depth': 19, 'min_samples_leaf': 4, 'max_features': 0.753}. Best is trial 11 with value: 3.542769297512753.\n",
            "[I 2024-05-01 11:34:10,008] Trial 15 finished with value: 3.639239455567462 and parameters: {'n_estimators': 498, 'criterion': 'poisson', 'max_depth': 9, 'min_samples_leaf': 4, 'max_features': 0.735}. Best is trial 11 with value: 3.542769297512753.\n",
            "[I 2024-05-01 11:34:13,176] Trial 17 finished with value: 3.5397767321190075 and parameters: {'n_estimators': 376, 'criterion': 'poisson', 'max_depth': 11, 'min_samples_leaf': 2, 'max_features': 0.793}. Best is trial 17 with value: 3.5397767321190075.\n",
            "[I 2024-05-01 11:34:14,094] Trial 18 finished with value: 3.518411897291643 and parameters: {'n_estimators': 386, 'criterion': 'poisson', 'max_depth': 18, 'min_samples_leaf': 2, 'max_features': 0.995}. Best is trial 18 with value: 3.518411897291643.\n",
            "[I 2024-05-01 11:34:17,201] Trial 19 finished with value: 3.5413895068148538 and parameters: {'n_estimators': 370, 'criterion': 'poisson', 'max_depth': 16, 'min_samples_leaf': 2, 'max_features': 0.83}. Best is trial 18 with value: 3.518411897291643.\n",
            "[I 2024-05-01 11:34:18,054] Trial 20 finished with value: 3.5413227192340706 and parameters: {'n_estimators': 383, 'criterion': 'poisson', 'max_depth': 18, 'min_samples_leaf': 2, 'max_features': 0.831}. Best is trial 18 with value: 3.518411897291643.\n",
            "[I 2024-05-01 11:34:21,858] Trial 21 finished with value: 3.5955234055362073 and parameters: {'n_estimators': 395, 'criterion': 'poisson', 'max_depth': 18, 'min_samples_leaf': 2, 'max_features': 0.629}. Best is trial 18 with value: 3.518411897291643.\n",
            "[I 2024-05-01 11:34:22,657] Trial 22 finished with value: 3.6013410103994072 and parameters: {'n_estimators': 386, 'criterion': 'poisson', 'max_depth': 19, 'min_samples_leaf': 2, 'max_features': 0.617}. Best is trial 18 with value: 3.518411897291643.\n",
            "[I 2024-05-01 11:34:25,095] Trial 23 finished with value: 3.5528364091486493 and parameters: {'n_estimators': 300, 'criterion': 'poisson', 'max_depth': 21, 'min_samples_leaf': 2, 'max_features': 0.843}. Best is trial 18 with value: 3.518411897291643.\n",
            "[I 2024-05-01 11:34:25,921] Trial 24 finished with value: 3.5468976634594425 and parameters: {'n_estimators': 307, 'criterion': 'poisson', 'max_depth': 22, 'min_samples_leaf': 2, 'max_features': 0.845}. Best is trial 18 with value: 3.518411897291643.\n",
            "[I 2024-05-01 11:34:28,650] Trial 25 finished with value: 3.549707305986849 and parameters: {'n_estimators': 318, 'criterion': 'poisson', 'max_depth': 24, 'min_samples_leaf': 1, 'max_features': 0.833}. Best is trial 18 with value: 3.518411897291643.\n",
            "[I 2024-05-01 11:34:29,807] Trial 26 finished with value: 3.6633089144241726 and parameters: {'n_estimators': 453, 'criterion': 'poisson', 'max_depth': 25, 'min_samples_leaf': 1, 'max_features': 0.395}. Best is trial 18 with value: 3.518411897291643.\n",
            "[I 2024-05-01 11:34:34,028] Trial 28 finished with value: 3.6418058157750415 and parameters: {'n_estimators': 359, 'criterion': 'friedman_mse', 'max_depth': 13, 'min_samples_leaf': 2, 'max_features': 0.664}. Best is trial 18 with value: 3.518411897291643.\n",
            "[I 2024-05-01 11:34:34,116] Trial 27 finished with value: 3.6165679244397406 and parameters: {'n_estimators': 447, 'criterion': 'friedman_mse', 'max_depth': 15, 'min_samples_leaf': 1, 'max_features': 0.688}. Best is trial 18 with value: 3.518411897291643.\n",
            "[I 2024-05-01 11:34:36,540] Trial 30 finished with value: 3.6714499209473432 and parameters: {'n_estimators': 184, 'criterion': 'absolute_error', 'max_depth': 30, 'min_samples_leaf': 2, 'max_features': 0.915}. Best is trial 18 with value: 3.518411897291643.\n",
            "[I 2024-05-01 11:34:37,185] Trial 29 finished with value: 3.6695499539995913 and parameters: {'n_estimators': 219, 'criterion': 'absolute_error', 'max_depth': 17, 'min_samples_leaf': 2, 'max_features': 0.908}. Best is trial 18 with value: 3.518411897291643.\n",
            "[I 2024-05-01 11:34:40,451] Trial 31 finished with value: 3.6433459035365785 and parameters: {'n_estimators': 381, 'criterion': 'squared_error', 'max_depth': 17, 'min_samples_leaf': 1, 'max_features': 0.5630000000000001}. Best is trial 18 with value: 3.518411897291643.\n",
            "[I 2024-05-01 11:34:40,455] Trial 32 finished with value: 3.5411409593028425 and parameters: {'n_estimators': 371, 'criterion': 'poisson', 'max_depth': 17, 'min_samples_leaf': 2, 'max_features': 0.8039999999999999}. Best is trial 18 with value: 3.518411897291643.\n",
            "[I 2024-05-01 11:34:44,151] Trial 34 finished with value: 3.5444017612868497 and parameters: {'n_estimators': 329, 'criterion': 'poisson', 'max_depth': 20, 'min_samples_leaf': 2, 'max_features': 0.792}. Best is trial 18 with value: 3.518411897291643.\n",
            "[I 2024-05-01 11:34:44,187] Trial 33 finished with value: 3.546879165883635 and parameters: {'n_estimators': 332, 'criterion': 'poisson', 'max_depth': 20, 'min_samples_leaf': 2, 'max_features': 0.792}. Best is trial 18 with value: 3.518411897291643.\n",
            "[I 2024-05-01 11:34:48,578] Trial 35 finished with value: 3.570493818589142 and parameters: {'n_estimators': 409, 'criterion': 'poisson', 'max_depth': 12, 'min_samples_leaf': 3, 'max_features': 0.862}. Best is trial 18 with value: 3.518411897291643.\n",
            "[I 2024-05-01 11:34:48,779] Trial 36 finished with value: 3.5667442641416782 and parameters: {'n_estimators': 424, 'criterion': 'poisson', 'max_depth': 14, 'min_samples_leaf': 3, 'max_features': 0.868}. Best is trial 18 with value: 3.518411897291643.\n",
            "[I 2024-05-01 11:34:51,694] Trial 38 finished with value: 3.6408115557844765 and parameters: {'n_estimators': 282, 'criterion': 'squared_error', 'max_depth': 5, 'min_samples_leaf': 1, 'max_features': 0.726}. Best is trial 18 with value: 3.518411897291643.\n",
            "[I 2024-05-01 11:34:51,957] Trial 37 finished with value: 3.620440392956371 and parameters: {'n_estimators': 290, 'criterion': 'squared_error', 'max_depth': 14, 'min_samples_leaf': 1, 'max_features': 0.713}. Best is trial 18 with value: 3.518411897291643.\n",
            "[I 2024-05-01 11:34:55,867] Trial 40 finished with value: 3.6534248812704373 and parameters: {'n_estimators': 465, 'criterion': 'friedman_mse', 'max_depth': 11, 'min_samples_leaf': 2, 'max_features': 0.5680000000000001}. Best is trial 18 with value: 3.518411897291643.\n",
            "[I 2024-05-01 11:34:56,025] Trial 39 finished with value: 3.565158337073301 and parameters: {'n_estimators': 398, 'criterion': 'friedman_mse', 'max_depth': 11, 'min_samples_leaf': 1, 'max_features': 0.987}. Best is trial 18 with value: 3.518411897291643.\n",
            "[I 2024-05-01 11:35:00,321] Trial 42 finished with value: 3.5412176747100497 and parameters: {'n_estimators': 368, 'criterion': 'poisson', 'max_depth': 17, 'min_samples_leaf': 2, 'max_features': 0.814}. Best is trial 18 with value: 3.518411897291643.\n",
            "[I 2024-05-01 11:35:01,142] Trial 41 finished with value: 3.7431665771236178 and parameters: {'n_estimators': 363, 'criterion': 'absolute_error', 'max_depth': 16, 'min_samples_leaf': 4, 'max_features': 0.954}. Best is trial 18 with value: 3.518411897291643.\n",
            "[I 2024-05-01 11:35:04,025] Trial 43 finished with value: 3.5227521121395977 and parameters: {'n_estimators': 364, 'criterion': 'poisson', 'max_depth': 17, 'min_samples_leaf': 2, 'max_features': 0.884}. Best is trial 18 with value: 3.518411897291643.\n",
            "[I 2024-05-01 11:35:04,811] Trial 44 finished with value: 3.5199669526016497 and parameters: {'n_estimators': 347, 'criterion': 'poisson', 'max_depth': 18, 'min_samples_leaf': 2, 'max_features': 0.876}. Best is trial 18 with value: 3.518411897291643.\n",
            "[I 2024-05-01 11:35:07,532] Trial 45 finished with value: 3.5693018936636625 and parameters: {'n_estimators': 342, 'criterion': 'poisson', 'max_depth': 15, 'min_samples_leaf': 3, 'max_features': 0.889}. Best is trial 18 with value: 3.518411897291643.\n",
            "[I 2024-05-01 11:35:08,621] Trial 46 finished with value: 3.5225794297133635 and parameters: {'n_estimators': 342, 'criterion': 'poisson', 'max_depth': 14, 'min_samples_leaf': 2, 'max_features': 0.892}. Best is trial 18 with value: 3.518411897291643.\n",
            "[I 2024-05-01 11:35:12,067] Trial 48 finished with value: 3.546231015540826 and parameters: {'n_estimators': 324, 'criterion': 'poisson', 'max_depth': 14, 'min_samples_leaf': 3, 'max_features': 0.9349999999999999}. Best is trial 18 with value: 3.518411897291643.\n",
            "[I 2024-05-01 11:35:12,191] Trial 47 finished with value: 3.5148349221879336 and parameters: {'n_estimators': 418, 'criterion': 'poisson', 'max_depth': 23, 'min_samples_leaf': 2, 'max_features': 0.949}. Best is trial 47 with value: 3.5148349221879336.\n",
            "[I 2024-05-01 11:35:15,517] Trial 49 finished with value: 3.521935106069078 and parameters: {'n_estimators': 268, 'criterion': 'poisson', 'max_depth': 12, 'min_samples_leaf': 2, 'max_features': 0.96}. Best is trial 47 with value: 3.5148349221879336.\n",
            "[I 2024-05-01 11:35:16,771] Trial 50 finished with value: 3.5451772411440166 and parameters: {'n_estimators': 433, 'criterion': 'poisson', 'max_depth': 25, 'min_samples_leaf': 3, 'max_features': 0.971}. Best is trial 47 with value: 3.5148349221879336.\n",
            "[I 2024-05-01 11:35:17,897] Trial 51 finished with value: 3.5429480328084395 and parameters: {'n_estimators': 199, 'criterion': 'poisson', 'max_depth': 26, 'min_samples_leaf': 3, 'max_features': 0.967}. Best is trial 47 with value: 3.5148349221879336.\n",
            "[I 2024-05-01 11:35:19,827] Trial 52 finished with value: 3.5203361841948198 and parameters: {'n_estimators': 270, 'criterion': 'poisson', 'max_depth': 23, 'min_samples_leaf': 2, 'max_features': 0.953}. Best is trial 47 with value: 3.5148349221879336.\n",
            "[I 2024-05-01 11:35:20,692] Trial 53 finished with value: 3.5169421047147136 and parameters: {'n_estimators': 234, 'criterion': 'poisson', 'max_depth': 22, 'min_samples_leaf': 2, 'max_features': 0.891}. Best is trial 47 with value: 3.5148349221879336.\n",
            "[I 2024-05-01 11:35:22,729] Trial 54 finished with value: 3.5217675132134163 and parameters: {'n_estimators': 266, 'criterion': 'poisson', 'max_depth': 23, 'min_samples_leaf': 2, 'max_features': 0.9369999999999999}. Best is trial 47 with value: 3.5148349221879336.\n",
            "[I 2024-05-01 11:35:23,241] Trial 55 finished with value: 3.5100392479075158 and parameters: {'n_estimators': 239, 'criterion': 'poisson', 'max_depth': 23, 'min_samples_leaf': 2, 'max_features': 1.0}. Best is trial 55 with value: 3.5100392479075158.\n",
            "[I 2024-05-01 11:35:25,754] Trial 56 finished with value: 3.5033387521121977 and parameters: {'n_estimators': 233, 'criterion': 'poisson', 'max_depth': 23, 'min_samples_leaf': 2, 'max_features': 0.932}. Best is trial 56 with value: 3.5033387521121977.\n",
            "[I 2024-05-01 11:35:26,611] Trial 57 finished with value: 3.5141807267239917 and parameters: {'n_estimators': 234, 'criterion': 'poisson', 'max_depth': 28, 'min_samples_leaf': 2, 'max_features': 1.0}. Best is trial 56 with value: 3.5033387521121977.\n",
            "[I 2024-05-01 11:35:29,340] Trial 58 finished with value: 3.6219676187091654 and parameters: {'n_estimators': 234, 'criterion': 'absolute_error', 'max_depth': 28, 'min_samples_leaf': 1, 'max_features': 0.997}. Best is trial 56 with value: 3.5033387521121977.\n",
            "[I 2024-05-01 11:35:29,894] Trial 59 finished with value: 3.6138099756826927 and parameters: {'n_estimators': 239, 'criterion': 'absolute_error', 'max_depth': 30, 'min_samples_leaf': 1, 'max_features': 0.999}. Best is trial 56 with value: 3.5033387521121977.\n",
            "[I 2024-05-01 11:35:31,867] Trial 61 finished with value: 3.7792936983284884 and parameters: {'n_estimators': 216, 'criterion': 'squared_error', 'max_depth': 27, 'min_samples_leaf': 2, 'max_features': 0.27}. Best is trial 56 with value: 3.5033387521121977.\n",
            "[I 2024-05-01 11:35:32,592] Trial 60 finished with value: 3.568993486255069 and parameters: {'n_estimators': 239, 'criterion': 'squared_error', 'max_depth': 27, 'min_samples_leaf': 2, 'max_features': 0.99}. Best is trial 56 with value: 3.5033387521121977.\n",
            "[I 2024-05-01 11:35:33,998] Trial 62 finished with value: 3.520535857837923 and parameters: {'n_estimators': 148, 'criterion': 'poisson', 'max_depth': 22, 'min_samples_leaf': 2, 'max_features': 0.907}. Best is trial 56 with value: 3.5033387521121977.\n",
            "[I 2024-05-01 11:35:34,889] Trial 63 finished with value: 3.5427707409333307 and parameters: {'n_estimators': 172, 'criterion': 'poisson', 'max_depth': 22, 'min_samples_leaf': 2, 'max_features': 0.918}. Best is trial 56 with value: 3.5033387521121977.\n",
            "[I 2024-05-01 11:35:36,164] Trial 64 finished with value: 3.6569465174148164 and parameters: {'n_estimators': 160, 'criterion': 'poisson', 'max_depth': 21, 'min_samples_leaf': 2, 'max_features': 0.43800000000000006}. Best is trial 56 with value: 3.5033387521121977.\n",
            "[I 2024-05-01 11:35:37,427] Trial 65 finished with value: 3.5047467386444517 and parameters: {'n_estimators': 209, 'criterion': 'poisson', 'max_depth': 24, 'min_samples_leaf': 2, 'max_features': 0.9339999999999999}. Best is trial 56 with value: 3.5033387521121977.\n",
            "[I 2024-05-01 11:35:39,176] Trial 66 finished with value: 3.514695902422212 and parameters: {'n_estimators': 253, 'criterion': 'poisson', 'max_depth': 24, 'min_samples_leaf': 2, 'max_features': 0.9349999999999999}. Best is trial 56 with value: 3.5033387521121977.\n",
            "[I 2024-05-01 11:35:41,061] Trial 67 finished with value: 3.501449631876447 and parameters: {'n_estimators': 213, 'criterion': 'poisson', 'max_depth': 24, 'min_samples_leaf': 2, 'max_features': 0.9339999999999999}. Best is trial 67 with value: 3.501449631876447.\n",
            "[I 2024-05-01 11:35:42,454] Trial 68 finished with value: 3.6636924962413353 and parameters: {'n_estimators': 252, 'criterion': 'poisson', 'max_depth': 24, 'min_samples_leaf': 5, 'max_features': 0.9359999999999999}. Best is trial 67 with value: 3.501449631876447.\n",
            "[I 2024-05-01 11:35:43,693] Trial 69 finished with value: 3.5773181365141316 and parameters: {'n_estimators': 213, 'criterion': 'poisson', 'max_depth': 25, 'min_samples_leaf': 3, 'max_features': 0.756}. Best is trial 67 with value: 3.501449631876447.\n",
            "[I 2024-05-01 11:35:44,977] Trial 70 finished with value: 3.581999700014473 and parameters: {'n_estimators': 211, 'criterion': 'poisson', 'max_depth': 25, 'min_samples_leaf': 3, 'max_features': 0.767}. Best is trial 67 with value: 3.501449631876447.\n",
            "[I 2024-05-01 11:35:46,115] Trial 71 finished with value: 3.5418443023094763 and parameters: {'n_estimators': 201, 'criterion': 'poisson', 'max_depth': 29, 'min_samples_leaf': 3, 'max_features': 0.857}. Best is trial 67 with value: 3.501449631876447.\n",
            "[I 2024-05-01 11:35:47,853] Trial 72 finished with value: 3.507078618663666 and parameters: {'n_estimators': 227, 'criterion': 'poisson', 'max_depth': 24, 'min_samples_leaf': 2, 'max_features': 0.939}. Best is trial 67 with value: 3.501449631876447.\n",
            "[I 2024-05-01 11:35:49,068] Trial 73 finished with value: 3.5006300874086542 and parameters: {'n_estimators': 230, 'criterion': 'poisson', 'max_depth': 24, 'min_samples_leaf': 2, 'max_features': 0.93}. Best is trial 73 with value: 3.5006300874086542.\n",
            "[I 2024-05-01 11:35:50,400] Trial 74 finished with value: 3.5164391759842233 and parameters: {'n_estimators': 187, 'criterion': 'poisson', 'max_depth': 24, 'min_samples_leaf': 2, 'max_features': 0.931}. Best is trial 73 with value: 3.5006300874086542.\n",
            "[I 2024-05-01 11:35:51,317] Trial 75 finished with value: 3.53264898550957 and parameters: {'n_estimators': 190, 'criterion': 'poisson', 'max_depth': 26, 'min_samples_leaf': 2, 'max_features': 0.923}. Best is trial 73 with value: 3.5006300874086542.\n",
            "[I 2024-05-01 11:35:54,097] Trial 76 finished with value: 4.190050745103579 and parameters: {'n_estimators': 227, 'criterion': 'friedman_mse', 'max_depth': 26, 'min_samples_leaf': 2, 'max_features': 0.134}. Best is trial 73 with value: 3.5006300874086542.\n",
            "[I 2024-05-01 11:35:55,296] Trial 77 finished with value: 3.5753158851270124 and parameters: {'n_estimators': 223, 'criterion': 'friedman_mse', 'max_depth': 26, 'min_samples_leaf': 2, 'max_features': 0.97}. Best is trial 73 with value: 3.5006300874086542.\n",
            "[I 2024-05-01 11:35:57,879] Trial 78 finished with value: 3.5155504304646708 and parameters: {'n_estimators': 251, 'criterion': 'poisson', 'max_depth': 28, 'min_samples_leaf': 2, 'max_features': 0.972}. Best is trial 73 with value: 3.5006300874086542.\n",
            "[I 2024-05-01 11:35:59,048] Trial 79 finished with value: 3.541701971921943 and parameters: {'n_estimators': 254, 'criterion': 'poisson', 'max_depth': 28, 'min_samples_leaf': 2, 'max_features': 0.845}. Best is trial 73 with value: 3.5006300874086542.\n",
            "[I 2024-05-01 11:36:01,164] Trial 80 finished with value: 3.553190749242231 and parameters: {'n_estimators': 285, 'criterion': 'poisson', 'max_depth': 21, 'min_samples_leaf': 1, 'max_features': 0.841}. Best is trial 73 with value: 3.5006300874086542.\n",
            "[I 2024-05-01 11:36:02,281] Trial 81 finished with value: 3.5728162055436226 and parameters: {'n_estimators': 278, 'criterion': 'poisson', 'max_depth': 21, 'min_samples_leaf': 1, 'max_features': 0.906}. Best is trial 73 with value: 3.5006300874086542.\n",
            "[I 2024-05-01 11:36:03,635] Trial 82 finished with value: 3.501911695012346 and parameters: {'n_estimators': 207, 'criterion': 'poisson', 'max_depth': 24, 'min_samples_leaf': 2, 'max_features': 0.955}. Best is trial 73 with value: 3.5006300874086542.\n",
            "[I 2024-05-01 11:36:05,172] Trial 83 finished with value: 3.502894945458353 and parameters: {'n_estimators': 243, 'criterion': 'poisson', 'max_depth': 23, 'min_samples_leaf': 2, 'max_features': 0.955}. Best is trial 73 with value: 3.5006300874086542.\n",
            "[I 2024-05-01 11:36:05,783] Trial 84 finished with value: 3.5004750545899066 and parameters: {'n_estimators': 201, 'criterion': 'poisson', 'max_depth': 24, 'min_samples_leaf': 2, 'max_features': 0.951}. Best is trial 84 with value: 3.5004750545899066.\n",
            "[I 2024-05-01 11:36:08,223] Trial 85 finished with value: 3.5222751094445277 and parameters: {'n_estimators': 201, 'criterion': 'poisson', 'max_depth': 24, 'min_samples_leaf': 2, 'max_features': 0.871}. Best is trial 84 with value: 3.5004750545899066.\n",
            "[I 2024-05-01 11:36:08,362] Trial 86 finished with value: 3.5374538491752348 and parameters: {'n_estimators': 139, 'criterion': 'poisson', 'max_depth': 24, 'min_samples_leaf': 2, 'max_features': 0.87}. Best is trial 84 with value: 3.5004750545899066.\n",
            "[I 2024-05-01 11:36:10,527] Trial 87 finished with value: 3.5208757607547225 and parameters: {'n_estimators': 147, 'criterion': 'poisson', 'max_depth': 20, 'min_samples_leaf': 2, 'max_features': 0.897}. Best is trial 84 with value: 3.5004750545899066.\n",
            "[I 2024-05-01 11:36:10,584] Trial 88 finished with value: 3.534963781580035 and parameters: {'n_estimators': 166, 'criterion': 'poisson', 'max_depth': 23, 'min_samples_leaf': 2, 'max_features': 0.821}. Best is trial 84 with value: 3.5004750545899066.\n",
            "[I 2024-05-01 11:36:12,801] Trial 89 finished with value: 3.5167231160846493 and parameters: {'n_estimators': 171, 'criterion': 'poisson', 'max_depth': 23, 'min_samples_leaf': 2, 'max_features': 0.953}. Best is trial 84 with value: 3.5004750545899066.\n",
            "[I 2024-05-01 11:36:12,924] Trial 90 finished with value: 3.6048861864121067 and parameters: {'n_estimators': 179, 'criterion': 'poisson', 'max_depth': 23, 'min_samples_leaf': 4, 'max_features': 0.958}. Best is trial 84 with value: 3.5004750545899066.\n",
            "[I 2024-05-01 11:36:15,383] Trial 91 finished with value: 3.5029497163185397 and parameters: {'n_estimators': 205, 'criterion': 'poisson', 'max_depth': 25, 'min_samples_leaf': 2, 'max_features': 0.97}. Best is trial 84 with value: 3.5004750545899066.\n",
            "[I 2024-05-01 11:36:15,494] Trial 92 finished with value: 3.5033030815934607 and parameters: {'n_estimators': 204, 'criterion': 'poisson', 'max_depth': 25, 'min_samples_leaf': 2, 'max_features': 0.98}. Best is trial 84 with value: 3.5004750545899066.\n",
            "[I 2024-05-01 11:36:17,950] Trial 93 finished with value: 3.5029497163185397 and parameters: {'n_estimators': 205, 'criterion': 'poisson', 'max_depth': 25, 'min_samples_leaf': 2, 'max_features': 0.977}. Best is trial 84 with value: 3.5004750545899066.\n",
            "[I 2024-05-01 11:36:18,019] Trial 94 finished with value: 3.501911695012346 and parameters: {'n_estimators': 207, 'criterion': 'poisson', 'max_depth': 25, 'min_samples_leaf': 2, 'max_features': 0.978}. Best is trial 84 with value: 3.5004750545899066.\n",
            "[I 2024-05-01 11:36:20,704] Trial 95 finished with value: 3.5015221788478854 and parameters: {'n_estimators': 206, 'criterion': 'poisson', 'max_depth': 25, 'min_samples_leaf': 2, 'max_features': 0.977}. Best is trial 84 with value: 3.5004750545899066.\n",
            "[I 2024-05-01 11:36:21,287] Trial 96 finished with value: 3.690288468214631 and parameters: {'n_estimators': 196, 'criterion': 'absolute_error', 'max_depth': 25, 'min_samples_leaf': 2, 'max_features': 0.974}. Best is trial 84 with value: 3.5004750545899066.\n",
            "[I 2024-05-01 11:36:23,629] Trial 98 finished with value: 3.5159361250942194 and parameters: {'n_estimators': 179, 'criterion': 'poisson', 'max_depth': 27, 'min_samples_leaf': 2, 'max_features': 0.971}. Best is trial 84 with value: 3.5004750545899066.\n",
            "[I 2024-05-01 11:36:24,502] Trial 97 finished with value: 3.6884436665732725 and parameters: {'n_estimators': 195, 'criterion': 'absolute_error', 'max_depth': 25, 'min_samples_leaf': 2, 'max_features': 0.981}. Best is trial 84 with value: 3.5004750545899066.\n",
            "[I 2024-05-01 11:36:25,078] Trial 99 finished with value: 3.546211869134094 and parameters: {'n_estimators': 206, 'criterion': 'squared_error', 'max_depth': 26, 'min_samples_leaf': 2, 'max_features': 0.912}. Best is trial 84 with value: 3.5004750545899066.\n",
            "[I 2024-05-01 11:36:25,391] A new study created in memory with name: no-name-8089c659-4631-4862-a535-afadbb2eaef4\n",
            "[I 2024-05-01 11:36:26,109] Trial 0 finished with value: 5.55973179314993 and parameters: {'kernel': 'rbf', 'degree': 18, 'gamma': 'auto', 'C': 81.19900000000001, 'epsilon': 51.321}. Best is trial 0 with value: 5.55973179314993.\n",
            "[I 2024-05-01 11:36:26,117] Trial 1 finished with value: 5.559731793149929 and parameters: {'kernel': 'rbf', 'degree': 4, 'gamma': 'scale', 'C': 20.752000000000002, 'epsilon': 39.132999999999996}. Best is trial 1 with value: 5.559731793149929.\n",
            "[I 2024-05-01 11:36:26,808] Trial 2 finished with value: 5.559731793149929 and parameters: {'kernel': 'poly', 'degree': 8, 'gamma': 'scale', 'C': 16.273000000000003, 'epsilon': 44.513999999999996}. Best is trial 1 with value: 5.559731793149929.\n",
            "[I 2024-05-01 11:36:26,921] Trial 3 finished with value: 5.559731793149929 and parameters: {'kernel': 'linear', 'degree': 9, 'gamma': 'auto', 'C': 25.28, 'epsilon': 37.487}. Best is trial 1 with value: 5.559731793149929.\n",
            "[I 2024-05-01 11:36:27,431] Trial 4 finished with value: 5.559731793149929 and parameters: {'kernel': 'rbf', 'degree': 10, 'gamma': 'scale', 'C': 60.54, 'epsilon': 18.167}. Best is trial 1 with value: 5.559731793149929.\n",
            "[I 2024-05-01 11:36:27,779] Trial 5 finished with value: 5.559731793149929 and parameters: {'kernel': 'rbf', 'degree': 4, 'gamma': 'auto', 'C': 97.81, 'epsilon': 20.372000000000003}. Best is trial 1 with value: 5.559731793149929.\n",
            "[I 2024-05-01 11:36:28,122] Trial 6 finished with value: 5.559731793149929 and parameters: {'kernel': 'poly', 'degree': 15, 'gamma': 'auto', 'C': 55.598, 'epsilon': 64.33900000000001}. Best is trial 1 with value: 5.559731793149929.\n",
            "[I 2024-05-01 11:36:28,441] Trial 7 finished with value: 5.559731793149929 and parameters: {'kernel': 'rbf', 'degree': 3, 'gamma': 'scale', 'C': 31.110000000000003, 'epsilon': 17.263}. Best is trial 1 with value: 5.559731793149929.\n",
            "[I 2024-05-01 11:36:28,911] Trial 8 finished with value: 5.559731793149931 and parameters: {'kernel': 'linear', 'degree': 8, 'gamma': 'auto', 'C': 34.425, 'epsilon': 77.50800000000001}. Best is trial 1 with value: 5.559731793149929.\n",
            "[I 2024-05-01 11:36:29,235] Trial 9 finished with value: 5.559731793149929 and parameters: {'kernel': 'poly', 'degree': 3, 'gamma': 'auto', 'C': 97.75800000000001, 'epsilon': 95.766}. Best is trial 1 with value: 5.559731793149929.\n",
            "[I 2024-05-01 11:36:29,612] Trial 10 finished with value: 5.559731793149929 and parameters: {'kernel': 'rbf', 'degree': 2, 'gamma': 'scale', 'C': 90.408, 'epsilon': 52.618}. Best is trial 1 with value: 5.559731793149929.\n",
            "[I 2024-05-01 11:36:30,028] Trial 11 finished with value: 4.108442541274776 and parameters: {'kernel': 'rbf', 'degree': 1, 'gamma': 'scale', 'C': 2.0989999999999998, 'epsilon': 0.42300000000000004}. Best is trial 11 with value: 4.108442541274776.\n",
            "[I 2024-05-01 11:36:30,510] Trial 12 finished with value: 7.512925502104903 and parameters: {'kernel': 'poly', 'degree': 6, 'gamma': 'scale', 'C': 2.284, 'epsilon': 0.128}. Best is trial 11 with value: 4.108442541274776.\n",
            "[I 2024-05-01 11:36:30,696] Trial 13 finished with value: 3.991842429503569 and parameters: {'kernel': 'rbf', 'degree': 1, 'gamma': 'scale', 'C': 4.606, 'epsilon': 2.13}. Best is trial 13 with value: 3.991842429503569.\n",
            "[I 2024-05-01 11:36:31,328] Trial 14 finished with value: 5.267658015943214 and parameters: {'kernel': 'rbf', 'degree': 1, 'gamma': 'scale', 'C': 0.47700000000000004, 'epsilon': 0.34}. Best is trial 13 with value: 3.991842429503569.\n",
            "[I 2024-05-01 11:36:31,497] Trial 15 finished with value: 3.9878324352453314 and parameters: {'kernel': 'rbf', 'degree': 1, 'gamma': 'scale', 'C': 2.679, 'epsilon': 1.6660000000000001}. Best is trial 15 with value: 3.9878324352453314.\n",
            "[I 2024-05-01 11:36:32,056] Trial 16 finished with value: 5.559731793149929 and parameters: {'kernel': 'rbf', 'degree': 13, 'gamma': 'scale', 'C': 41.437, 'epsilon': 26.182000000000002}. Best is trial 15 with value: 3.9878324352453314.\n",
            "[I 2024-05-01 11:36:32,272] Trial 17 finished with value: 5.559731793149929 and parameters: {'kernel': 'linear', 'degree': 14, 'gamma': 'scale', 'C': 40.935, 'epsilon': 26.796000000000003}. Best is trial 15 with value: 3.9878324352453314.\n",
            "[I 2024-05-01 11:36:32,984] Trial 18 finished with value: 4.861164442818142 and parameters: {'kernel': 'linear', 'degree': 6, 'gamma': 'scale', 'C': 11.774000000000001, 'epsilon': 9.158}. Best is trial 15 with value: 3.9878324352453314.\n",
            "[I 2024-05-01 11:36:33,203] Trial 19 finished with value: 5.559731793149929 and parameters: {'kernel': 'rbf', 'degree': 6, 'gamma': 'scale', 'C': 12.583, 'epsilon': 17.047}. Best is trial 15 with value: 3.9878324352453314.\n",
            "[I 2024-05-01 11:36:33,941] Trial 20 finished with value: 5.407290883516362 and parameters: {'kernel': 'rbf', 'degree': 6, 'gamma': 'scale', 'C': 71.96600000000001, 'epsilon': 10.699}. Best is trial 15 with value: 3.9878324352453314.\n",
            "[I 2024-05-01 11:36:34,111] Trial 21 finished with value: 5.559731793149929 and parameters: {'kernel': 'rbf', 'degree': 12, 'gamma': 'scale', 'C': 72.09, 'epsilon': 31.864}. Best is trial 15 with value: 3.9878324352453314.\n",
            "[I 2024-05-01 11:36:34,865] Trial 22 finished with value: 5.2653143600441545 and parameters: {'kernel': 'rbf', 'degree': 1, 'gamma': 'scale', 'C': 6.265, 'epsilon': 7.372}. Best is trial 15 with value: 3.9878324352453314.\n",
            "[I 2024-05-01 11:36:35,039] Trial 23 finished with value: 4.581265424599632 and parameters: {'kernel': 'rbf', 'degree': 1, 'gamma': 'scale', 'C': 8.964, 'epsilon': 4.748}. Best is trial 15 with value: 3.9878324352453314.\n",
            "[I 2024-05-01 11:36:35,915] Trial 24 finished with value: 3.780975388079369 and parameters: {'kernel': 'rbf', 'degree': 1, 'gamma': 'scale', 'C': 9.517, 'epsilon': 0.87}. Best is trial 24 with value: 3.780975388079369.\n",
            "[I 2024-05-01 11:36:35,989] Trial 25 finished with value: 5.497448927499713 and parameters: {'kernel': 'rbf', 'degree': 4, 'gamma': 'scale', 'C': 18.685000000000002, 'epsilon': 12.031}. Best is trial 24 with value: 3.780975388079369.\n",
            "[I 2024-05-01 11:36:36,724] Trial 26 finished with value: 5.559731793149931 and parameters: {'kernel': 'rbf', 'degree': 4, 'gamma': 'scale', 'C': 25.994000000000003, 'epsilon': 67.375}. Best is trial 24 with value: 3.780975388079369.\n",
            "[I 2024-05-01 11:36:36,766] Trial 27 finished with value: 5.559731793149929 and parameters: {'kernel': 'rbf', 'degree': 17, 'gamma': 'scale', 'C': 29.028000000000002, 'epsilon': 62.563}. Best is trial 24 with value: 3.780975388079369.\n",
            "[I 2024-05-01 11:36:37,480] Trial 28 finished with value: 5.559731793149929 and parameters: {'kernel': 'rbf', 'degree': 3, 'gamma': 'scale', 'C': 8.634, 'epsilon': 26.558000000000003}. Best is trial 24 with value: 3.780975388079369.\n",
            "[I 2024-05-01 11:36:37,605] Trial 29 finished with value: 5.559731793149929 and parameters: {'kernel': 'poly', 'degree': 3, 'gamma': 'scale', 'C': 9.877, 'epsilon': 24.256000000000004}. Best is trial 24 with value: 3.780975388079369.\n",
            "[I 2024-05-01 11:36:38,039] Trial 30 finished with value: 5.559731793149929 and parameters: {'kernel': 'linear', 'degree': 18, 'gamma': 'auto', 'C': 38.027, 'epsilon': 89.153}. Best is trial 24 with value: 3.780975388079369.\n",
            "[I 2024-05-01 11:36:38,527] Trial 31 finished with value: 5.559731793149929 and parameters: {'kernel': 'linear', 'degree': 20, 'gamma': 'auto', 'C': 40.966, 'epsilon': 14.008000000000001}. Best is trial 24 with value: 3.780975388079369.\n",
            "[I 2024-05-01 11:36:38,848] Trial 32 finished with value: 4.586986369075168 and parameters: {'kernel': 'rbf', 'degree': 1, 'gamma': 'scale', 'C': 1.0210000000000001, 'epsilon': 0.603}. Best is trial 24 with value: 3.780975388079369.\n",
            "[I 2024-05-01 11:36:39,347] Trial 33 finished with value: 5.649939456773647 and parameters: {'kernel': 'rbf', 'degree': 1, 'gamma': 'scale', 'C': 0.112, 'epsilon': 0.015}. Best is trial 24 with value: 3.780975388079369.\n",
            "[I 2024-05-01 11:36:39,679] Trial 34 finished with value: 4.778964767762424 and parameters: {'kernel': 'rbf', 'degree': 2, 'gamma': 'scale', 'C': 19.053, 'epsilon': 5.366}. Best is trial 24 with value: 3.780975388079369.\n",
            "[I 2024-05-01 11:36:40,061] Trial 35 finished with value: 5.225926254766206 and parameters: {'kernel': 'rbf', 'degree': 2, 'gamma': 'scale', 'C': 20.772000000000002, 'epsilon': 6.7989999999999995}. Best is trial 24 with value: 3.780975388079369.\n",
            "[I 2024-05-01 11:36:40,586] Trial 36 finished with value: 5.559731793149929 and parameters: {'kernel': 'rbf', 'degree': 5, 'gamma': 'scale', 'C': 15.348, 'epsilon': 37.778}. Best is trial 24 with value: 3.780975388079369.\n",
            "[I 2024-05-01 11:36:40,881] Trial 37 finished with value: 5.559731793149929 and parameters: {'kernel': 'rbf', 'degree': 5, 'gamma': 'scale', 'C': 15.208, 'epsilon': 13.486}. Best is trial 24 with value: 3.780975388079369.\n",
            "[I 2024-05-01 11:36:41,294] Trial 38 finished with value: 5.559731793149929 and parameters: {'kernel': 'rbf', 'degree': 8, 'gamma': 'scale', 'C': 5.203, 'epsilon': 48.445}. Best is trial 24 with value: 3.780975388079369.\n",
            "[I 2024-05-01 11:36:41,716] Trial 39 finished with value: 5.559731793149929 and parameters: {'kernel': 'poly', 'degree': 8, 'gamma': 'scale', 'C': 5.008, 'epsilon': 46.574999999999996}. Best is trial 24 with value: 3.780975388079369.\n",
            "[I 2024-05-01 11:36:42,087] Trial 40 finished with value: 5.559731793149929 and parameters: {'kernel': 'poly', 'degree': 2, 'gamma': 'auto', 'C': 48.064, 'epsilon': 19.927000000000003}. Best is trial 24 with value: 3.780975388079369.\n",
            "[I 2024-05-01 11:36:42,651] Trial 41 finished with value: 5.559731793149929 and parameters: {'kernel': 'rbf', 'degree': 10, 'gamma': 'auto', 'C': 48.005, 'epsilon': 20.988000000000003}. Best is trial 24 with value: 3.780975388079369.\n",
            "[I 2024-05-01 11:36:42,876] Trial 42 finished with value: 4.940987204870995 and parameters: {'kernel': 'rbf', 'degree': 1, 'gamma': 'scale', 'C': 21.488000000000003, 'epsilon': 5.818}. Best is trial 24 with value: 3.780975388079369.\n",
            "[I 2024-05-01 11:36:43,383] Trial 43 finished with value: 4.735818943813267 and parameters: {'kernel': 'rbf', 'degree': 1, 'gamma': 'scale', 'C': 8.76, 'epsilon': 5.223}. Best is trial 24 with value: 3.780975388079369.\n",
            "[I 2024-05-01 11:36:43,783] Trial 44 finished with value: 4.568410149077322 and parameters: {'kernel': 'rbf', 'degree': 3, 'gamma': 'scale', 'C': 9.565, 'epsilon': 4.708}. Best is trial 24 with value: 3.780975388079369.\n",
            "[I 2024-05-01 11:36:44,110] Trial 45 finished with value: 4.508254572987605 and parameters: {'kernel': 'rbf', 'degree': 4, 'gamma': 'scale', 'C': 12.753, 'epsilon': 4.512}. Best is trial 24 with value: 3.780975388079369.\n",
            "[I 2024-05-01 11:36:44,564] Trial 46 finished with value: 5.559731793149929 and parameters: {'kernel': 'rbf', 'degree': 4, 'gamma': 'scale', 'C': 24.128000000000004, 'epsilon': 14.725}. Best is trial 24 with value: 3.780975388079369.\n",
            "[I 2024-05-01 11:36:44,970] Trial 47 finished with value: 5.559731793149929 and parameters: {'kernel': 'rbf', 'degree': 5, 'gamma': 'scale', 'C': 24.651000000000003, 'epsilon': 15.119}. Best is trial 24 with value: 3.780975388079369.\n",
            "[I 2024-05-01 11:36:45,300] Trial 48 finished with value: 5.353442168186067 and parameters: {'kernel': 'rbf', 'degree': 2, 'gamma': 'scale', 'C': 5.082, 'epsilon': 10.043}. Best is trial 24 with value: 3.780975388079369.\n",
            "[I 2024-05-01 11:36:45,919] Trial 49 finished with value: 5.559731793149929 and parameters: {'kernel': 'linear', 'degree': 2, 'gamma': 'scale', 'C': 14.441, 'epsilon': 34.178}. Best is trial 24 with value: 3.780975388079369.\n",
            "[I 2024-05-01 11:36:46,349] Trial 50 finished with value: 5.559731793149929 and parameters: {'kernel': 'linear', 'degree': 3, 'gamma': 'scale', 'C': 15.383000000000001, 'epsilon': 54.647}. Best is trial 24 with value: 3.780975388079369.\n",
            "[I 2024-05-01 11:36:46,896] Trial 51 finished with value: 3.9449076881610514 and parameters: {'kernel': 'rbf', 'degree': 7, 'gamma': 'auto', 'C': 32.128, 'epsilon': 2.1959999999999997}. Best is trial 24 with value: 3.780975388079369.\n",
            "[I 2024-05-01 11:36:47,342] Trial 52 finished with value: 3.8594130926416663 and parameters: {'kernel': 'rbf', 'degree': 3, 'gamma': 'scale', 'C': 4.71, 'epsilon': 1.686}. Best is trial 24 with value: 3.780975388079369.\n",
            "[I 2024-05-01 11:36:47,871] Trial 53 finished with value: 4.016024106791899 and parameters: {'kernel': 'rbf', 'degree': 7, 'gamma': 'auto', 'C': 33.738, 'epsilon': 2.489}. Best is trial 24 with value: 3.780975388079369.\n",
            "[I 2024-05-01 11:36:48,275] Trial 54 finished with value: 3.9546351523744496 and parameters: {'kernel': 'rbf', 'degree': 9, 'gamma': 'auto', 'C': 57.126, 'epsilon': 1.885}. Best is trial 24 with value: 3.780975388079369.\n",
            "[I 2024-05-01 11:36:48,787] Trial 55 finished with value: 5.332318861833397 and parameters: {'kernel': 'rbf', 'degree': 10, 'gamma': 'auto', 'C': 32.126, 'epsilon': 9.984}. Best is trial 24 with value: 3.780975388079369.\n",
            "[I 2024-05-01 11:36:49,297] Trial 56 finished with value: 5.394909071373496 and parameters: {'kernel': 'rbf', 'degree': 10, 'gamma': 'auto', 'C': 63.94, 'epsilon': 10.672}. Best is trial 24 with value: 3.780975388079369.\n",
            "[I 2024-05-01 11:36:49,693] Trial 57 finished with value: 5.2864660226330695 and parameters: {'kernel': 'rbf', 'degree': 9, 'gamma': 'auto', 'C': 56.546, 'epsilon': 8.995}. Best is trial 24 with value: 3.780975388079369.\n",
            "[I 2024-05-01 11:36:49,988] Trial 58 finished with value: 5.559731793149929 and parameters: {'kernel': 'poly', 'degree': 12, 'gamma': 'auto', 'C': 54.861, 'epsilon': 21.879}. Best is trial 24 with value: 3.780975388079369.\n",
            "[I 2024-05-01 11:36:50,500] Trial 59 finished with value: 5.559731793149929 and parameters: {'kernel': 'poly', 'degree': 5, 'gamma': 'auto', 'C': 67.43100000000001, 'epsilon': 22.593000000000004}. Best is trial 24 with value: 3.780975388079369.\n",
            "[I 2024-05-01 11:36:50,825] Trial 60 finished with value: 5.559731793149929 and parameters: {'kernel': 'rbf', 'degree': 7, 'gamma': 'auto', 'C': 66.444, 'epsilon': 16.581000000000003}. Best is trial 24 with value: 3.780975388079369.\n",
            "[I 2024-05-01 11:36:51,628] Trial 61 finished with value: 5.559731793149929 and parameters: {'kernel': 'rbf', 'degree': 7, 'gamma': 'auto', 'C': 51.973, 'epsilon': 16.901000000000003}. Best is trial 24 with value: 3.780975388079369.\n",
            "[I 2024-05-01 11:36:51,805] Trial 62 finished with value: 4.3051020636172925 and parameters: {'kernel': 'rbf', 'degree': 7, 'gamma': 'auto', 'C': 45.076, 'epsilon': 3.8}. Best is trial 24 with value: 3.780975388079369.\n",
            "[I 2024-05-01 11:36:52,620] Trial 63 finished with value: 4.049553526040661 and parameters: {'kernel': 'rbf', 'degree': 9, 'gamma': 'auto', 'C': 45.048, 'epsilon': 2.52}. Best is trial 24 with value: 3.780975388079369.\n",
            "[I 2024-05-01 11:36:52,769] Trial 64 finished with value: 3.9724947929579764 and parameters: {'kernel': 'rbf', 'degree': 9, 'gamma': 'auto', 'C': 36.37, 'epsilon': 2.274}. Best is trial 24 with value: 3.780975388079369.\n",
            "[I 2024-05-01 11:36:53,564] Trial 65 finished with value: 3.8880605969570476 and parameters: {'kernel': 'rbf', 'degree': 6, 'gamma': 'auto', 'C': 37.743, 'epsilon': 1.678}. Best is trial 24 with value: 3.780975388079369.\n",
            "[I 2024-05-01 11:36:53,750] Trial 66 finished with value: 5.209249405226252 and parameters: {'kernel': 'rbf', 'degree': 12, 'gamma': 'auto', 'C': 29.685000000000002, 'epsilon': 7.609}. Best is trial 24 with value: 3.780975388079369.\n",
            "[I 2024-05-01 11:36:54,598] Trial 67 finished with value: 5.188739829173269 and parameters: {'kernel': 'rbf', 'degree': 11, 'gamma': 'auto', 'C': 36.793, 'epsilon': 7.167}. Best is trial 24 with value: 3.780975388079369.\n",
            "[I 2024-05-01 11:36:54,678] Trial 68 finished with value: 3.977139340309451 and parameters: {'kernel': 'rbf', 'degree': 9, 'gamma': 'auto', 'C': 39.08, 'epsilon': 0.49}. Best is trial 24 with value: 3.780975388079369.\n",
            "[I 2024-05-01 11:36:55,421] Trial 69 finished with value: 4.0158298439642905 and parameters: {'kernel': 'rbf', 'degree': 9, 'gamma': 'auto', 'C': 36.871, 'epsilon': 0.108}. Best is trial 24 with value: 3.780975388079369.\n",
            "[I 2024-05-01 11:36:55,519] Trial 70 finished with value: 5.559731793149929 and parameters: {'kernel': 'rbf', 'degree': 9, 'gamma': 'auto', 'C': 59.39, 'epsilon': 41.881}. Best is trial 24 with value: 3.780975388079369.\n",
            "[I 2024-05-01 11:36:56,082] Trial 71 finished with value: 5.520203401871463 and parameters: {'kernel': 'rbf', 'degree': 11, 'gamma': 'auto', 'C': 41.943, 'epsilon': 12.354}. Best is trial 24 with value: 3.780975388079369.\n",
            "[I 2024-05-01 11:36:56,366] Trial 72 finished with value: 4.078264087427292 and parameters: {'kernel': 'rbf', 'degree': 8, 'gamma': 'auto', 'C': 42.563, 'epsilon': 2.6439999999999997}. Best is trial 24 with value: 3.780975388079369.\n",
            "[I 2024-05-01 11:36:56,931] Trial 73 finished with value: 4.080984150447934 and parameters: {'kernel': 'rbf', 'degree': 8, 'gamma': 'auto', 'C': 27.235000000000003, 'epsilon': 2.799}. Best is trial 24 with value: 3.780975388079369.\n",
            "[I 2024-05-01 11:36:57,210] Trial 74 finished with value: 4.127224689176952 and parameters: {'kernel': 'rbf', 'degree': 6, 'gamma': 'auto', 'C': 51.76, 'epsilon': 0.20600000000000002}. Best is trial 24 with value: 3.780975388079369.\n",
            "[I 2024-05-01 11:36:57,621] Trial 75 finished with value: 5.2866740479936745 and parameters: {'kernel': 'rbf', 'degree': 6, 'gamma': 'auto', 'C': 82.22800000000001, 'epsilon': 9.002}. Best is trial 24 with value: 3.780975388079369.\n",
            "[I 2024-05-01 11:36:58,126] Trial 76 finished with value: 5.202637918290177 and parameters: {'kernel': 'rbf', 'degree': 9, 'gamma': 'auto', 'C': 35.239, 'epsilon': 7.477}. Best is trial 24 with value: 3.780975388079369.\n",
            "[I 2024-05-01 11:36:58,440] Trial 77 finished with value: 5.181134994506982 and parameters: {'kernel': 'rbf', 'degree': 10, 'gamma': 'auto', 'C': 35.346, 'epsilon': 6.97}. Best is trial 24 with value: 3.780975388079369.\n",
            "[I 2024-05-01 11:36:59,005] Trial 78 finished with value: 5.559731793149931 and parameters: {'kernel': 'linear', 'degree': 8, 'gamma': 'auto', 'C': 39.219, 'epsilon': 77.86500000000001}. Best is trial 24 with value: 3.780975388079369.\n",
            "[I 2024-05-01 11:36:59,268] Trial 79 finished with value: 5.559731793149931 and parameters: {'kernel': 'linear', 'degree': 7, 'gamma': 'auto', 'C': 2.31, 'epsilon': 77.882}. Best is trial 24 with value: 3.780975388079369.\n",
            "[I 2024-05-01 11:36:59,993] Trial 80 finished with value: 5.469439161590076 and parameters: {'kernel': 'rbf', 'degree': 7, 'gamma': 'auto', 'C': 31.453000000000003, 'epsilon': 11.713}. Best is trial 24 with value: 3.780975388079369.\n",
            "[I 2024-05-01 11:37:00,366] Trial 81 finished with value: 5.452316208471837 and parameters: {'kernel': 'rbf', 'degree': 11, 'gamma': 'auto', 'C': 44.905, 'epsilon': 11.49}. Best is trial 24 with value: 3.780975388079369.\n",
            "[I 2024-05-01 11:37:01,013] Trial 82 finished with value: 4.18390164003325 and parameters: {'kernel': 'rbf', 'degree': 3, 'gamma': 'scale', 'C': 3.21, 'epsilon': 2.6039999999999996}. Best is trial 24 with value: 3.780975388079369.\n",
            "[I 2024-05-01 11:37:01,365] Trial 83 finished with value: 4.153666183560178 and parameters: {'kernel': 'rbf', 'degree': 3, 'gamma': 'scale', 'C': 3.5229999999999997, 'epsilon': 2.6149999999999998}. Best is trial 24 with value: 3.780975388079369.\n",
            "[I 2024-05-01 11:37:01,973] Trial 84 finished with value: 4.3177744867502685 and parameters: {'kernel': 'rbf', 'degree': 2, 'gamma': 'scale', 'C': 7.11, 'epsilon': 3.771}. Best is trial 24 with value: 3.780975388079369.\n",
            "[I 2024-05-01 11:37:02,416] Trial 85 finished with value: 4.556427476379213 and parameters: {'kernel': 'rbf', 'degree': 2, 'gamma': 'scale', 'C': 6.978, 'epsilon': 4.618}. Best is trial 24 with value: 3.780975388079369.\n",
            "[I 2024-05-01 11:37:03,071] Trial 86 finished with value: 4.965665069209026 and parameters: {'kernel': 'rbf', 'degree': 1, 'gamma': 'scale', 'C': 11.513, 'epsilon': 5.893}. Best is trial 24 with value: 3.780975388079369.\n",
            "[I 2024-05-01 11:37:03,228] Trial 87 finished with value: 3.840390057660829 and parameters: {'kernel': 'rbf', 'degree': 1, 'gamma': 'scale', 'C': 12.279, 'epsilon': 0.057}. Best is trial 24 with value: 3.780975388079369.\n",
            "[I 2024-05-01 11:37:03,809] Trial 88 finished with value: 3.819128327597422 and parameters: {'kernel': 'rbf', 'degree': 1, 'gamma': 'auto', 'C': 19.226000000000003, 'epsilon': 0.48400000000000004}. Best is trial 24 with value: 3.780975388079369.\n",
            "[I 2024-05-01 11:37:04,054] Trial 89 finished with value: 5.559731793149929 and parameters: {'kernel': 'poly', 'degree': 1, 'gamma': 'auto', 'C': 18.207, 'epsilon': 18.87}. Best is trial 24 with value: 3.780975388079369.\n",
            "[I 2024-05-01 11:37:04,767] Trial 90 finished with value: 4.941433890614864 and parameters: {'kernel': 'poly', 'degree': 4, 'gamma': 'auto', 'C': 22.472, 'epsilon': 0.012}. Best is trial 24 with value: 3.780975388079369.\n",
            "[I 2024-05-01 11:37:04,904] Trial 91 finished with value: 3.811548269165162 and parameters: {'kernel': 'rbf', 'degree': 2, 'gamma': 'auto', 'C': 18.055000000000003, 'epsilon': 0.096}. Best is trial 24 with value: 3.780975388079369.\n",
            "[I 2024-05-01 11:37:05,465] Trial 92 finished with value: 5.281605701216553 and parameters: {'kernel': 'rbf', 'degree': 1, 'gamma': 'auto', 'C': 17.879, 'epsilon': 8.789}. Best is trial 24 with value: 3.780975388079369.\n",
            "[I 2024-05-01 11:37:05,753] Trial 93 finished with value: 5.260118459260355 and parameters: {'kernel': 'rbf', 'degree': 1, 'gamma': 'auto', 'C': 17.406000000000002, 'epsilon': 8.436}. Best is trial 24 with value: 3.780975388079369.\n",
            "[I 2024-05-01 11:37:06,277] Trial 94 finished with value: 4.783564864412056 and parameters: {'kernel': 'rbf', 'degree': 2, 'gamma': 'auto', 'C': 27.103, 'epsilon': 5.434}. Best is trial 24 with value: 3.780975388079369.\n",
            "[I 2024-05-01 11:37:06,621] Trial 95 finished with value: 4.799255866484266 and parameters: {'kernel': 'rbf', 'degree': 2, 'gamma': 'auto', 'C': 27.357000000000003, 'epsilon': 5.478}. Best is trial 24 with value: 3.780975388079369.\n",
            "[I 2024-05-01 11:37:07,048] Trial 96 finished with value: 3.8267156049656204 and parameters: {'kernel': 'rbf', 'degree': 3, 'gamma': 'auto', 'C': 11.838, 'epsilon': 1.905}. Best is trial 24 with value: 3.780975388079369.\n",
            "[I 2024-05-01 11:37:07,513] Trial 97 finished with value: 3.763732462584445 and parameters: {'kernel': 'rbf', 'degree': 3, 'gamma': 'auto', 'C': 12.126, 'epsilon': 1.542}. Best is trial 97 with value: 3.763732462584445.\n",
            "[I 2024-05-01 11:37:07,897] Trial 98 finished with value: 5.559731793149931 and parameters: {'kernel': 'rbf', 'degree': 3, 'gamma': 'auto', 'C': 13.199, 'epsilon': 99.28200000000001}. Best is trial 97 with value: 3.763732462584445.\n",
            "[I 2024-05-01 11:37:08,204] Trial 99 finished with value: 3.813746410075419 and parameters: {'kernel': 'rbf', 'degree': 3, 'gamma': 'auto', 'C': 12.687, 'epsilon': 1.837}. Best is trial 97 with value: 3.763732462584445.\n"
          ]
        }
      ]
    },
    {
      "cell_type": "markdown",
      "source": [
        "Lagring av resultater"
      ],
      "metadata": {
        "id": "fSoCXuldMy4N"
      }
    },
    {
      "cell_type": "code",
      "source": [
        "res_2_hel = pd.DataFrame(res.dict_res_2_hel)\n",
        "res_2_hel_opt = pd.DataFrame(res.dict_res_2_hel_opt)\n",
        "\n",
        "res_2_hel.to_csv('/content/drive/MyDrive/MasterV24/Bioco_data/Resultater/collagen/collagen_resultater_2_hel.csv')\n",
        "res_2_hel_opt.to_csv('/content/drive/MyDrive/MasterV24/Bioco_data/Resultater/collagen/collagen_resultater_2_hel_opt.csv')"
      ],
      "metadata": {
        "id": "NI500ZYUMy4N"
      },
      "execution_count": 22,
      "outputs": []
    },
    {
      "cell_type": "markdown",
      "source": [
        "Velger beste modell"
      ],
      "metadata": {
        "id": "nEi8u82bX7Vg"
      }
    },
    {
      "cell_type": "code",
      "source": [],
      "metadata": {
        "id": "qOJEIwcyX9iw"
      },
      "execution_count": null,
      "outputs": []
    },
    {
      "cell_type": "markdown",
      "metadata": {
        "id": "un6mDEGPFIHt"
      },
      "source": [
        "## Designproduksjon"
      ]
    },
    {
      "cell_type": "markdown",
      "source": [
        "## Alternativ 1: 20% Testsett og Hele resterende treningssett"
      ],
      "metadata": {
        "id": "eSEqU-HmSlHL"
      }
    },
    {
      "cell_type": "code",
      "source": [
        "# Deler datasettet i trening og testsett\n",
        "trening_markert, enzymtyper_markert, testsett, _, _, _, trening\\\n",
        "= trening_testsett_oppdeling_enzym(rå_data,\n",
        "                                   data_design,\n",
        "                                   test_andel=test_andel)"
      ],
      "metadata": {
        "id": "paelAUWiSlHL"
      },
      "execution_count": 23,
      "outputs": []
    },
    {
      "cell_type": "code",
      "source": [
        "# Finner antall av enzymtype med minst antall\n",
        "n_splitt = n_splitt_enzym(rå_data,\n",
        "                          trening_markert)\n",
        "\n",
        "# Modelloptimalisering, trening og evaluering av RFR, KNR og SVR\n",
        "veiledet_modell_evaluering_1(dict_res_opt=res.dict_res_1_design_opt,\n",
        "                             dict_res=res.dict_res_1_design,\n",
        "                             treningssett_markert=trening_markert,\n",
        "                             enzymtyper_treningssett_markert=enzymtyper_markert,\n",
        "                             testsett=testsett,\n",
        "                             n_splitt=n_splitt,\n",
        "                             n_gjentagelser=n_gjentagelser,\n",
        "                             n_runder=n_runder,\n",
        "                             test_andel=test_andel,\n",
        "                             trenings_andel=trenings_andel,\n",
        "                             random_seed=random_seed)"
      ],
      "metadata": {
        "colab": {
          "base_uri": "https://localhost:8080/"
        },
        "id": "w64oGKlwSlHL",
        "outputId": "842022b6-c913-498f-c758-1178b56db3cf"
      },
      "execution_count": 24,
      "outputs": [
        {
          "output_type": "stream",
          "name": "stderr",
          "text": [
            "[I 2024-05-01 11:37:09,253] A new study created in memory with name: no-name-581053b5-c498-4712-a256-3c4f135bb2b7\n",
            "[I 2024-05-01 11:37:09,442] Trial 1 finished with value: 4.958575421848693 and parameters: {'n_neighbors': 2, 'weights': 'distance', 'p': 7}. Best is trial 1 with value: 4.958575421848693.\n",
            "[I 2024-05-01 11:37:09,588] Trial 2 finished with value: 4.479073217261023 and parameters: {'n_neighbors': 7, 'weights': 'uniform', 'p': 9}. Best is trial 2 with value: 4.479073217261023.\n",
            "[I 2024-05-01 11:37:09,595] Trial 0 finished with value: 4.7140712413306565 and parameters: {'n_neighbors': 16, 'weights': 'uniform', 'p': 10}. Best is trial 2 with value: 4.479073217261023.\n",
            "[I 2024-05-01 11:37:09,800] Trial 3 finished with value: 4.642791080777212 and parameters: {'n_neighbors': 15, 'weights': 'uniform', 'p': 9}. Best is trial 2 with value: 4.479073217261023.\n",
            "[I 2024-05-01 11:37:09,827] Trial 4 finished with value: 4.4300807724523485 and parameters: {'n_neighbors': 11, 'weights': 'uniform', 'p': 7}. Best is trial 4 with value: 4.4300807724523485.\n",
            "[I 2024-05-01 11:37:09,985] Trial 5 finished with value: 5.394334081820286 and parameters: {'n_neighbors': 1, 'weights': 'distance', 'p': 9}. Best is trial 4 with value: 4.4300807724523485.\n",
            "[I 2024-05-01 11:37:10,044] Trial 6 finished with value: 4.500166520021631 and parameters: {'n_neighbors': 4, 'weights': 'distance', 'p': 1}. Best is trial 4 with value: 4.4300807724523485.\n",
            "[I 2024-05-01 11:37:10,175] Trial 8 finished with value: 4.795051792195964 and parameters: {'n_neighbors': 2, 'weights': 'distance', 'p': 1}. Best is trial 4 with value: 4.4300807724523485.\n",
            "[I 2024-05-01 11:37:10,316] Trial 9 finished with value: 4.124342470728028 and parameters: {'n_neighbors': 8, 'weights': 'uniform', 'p': 1}. Best is trial 9 with value: 4.124342470728028.\n",
            "[I 2024-05-01 11:37:10,391] Trial 7 finished with value: 4.286338117797132 and parameters: {'n_neighbors': 16, 'weights': 'distance', 'p': 1}. Best is trial 9 with value: 4.124342470728028.\n",
            "[I 2024-05-01 11:37:10,524] Trial 10 finished with value: 4.457218555213001 and parameters: {'n_neighbors': 13, 'weights': 'uniform', 'p': 4}. Best is trial 9 with value: 4.124342470728028.\n",
            "[I 2024-05-01 11:37:10,658] Trial 11 finished with value: 4.902016166346124 and parameters: {'n_neighbors': 20, 'weights': 'uniform', 'p': 4}. Best is trial 9 with value: 4.124342470728028.\n",
            "[I 2024-05-01 11:37:10,832] Trial 13 finished with value: 4.215235647882716 and parameters: {'n_neighbors': 8, 'weights': 'distance', 'p': 3}. Best is trial 9 with value: 4.124342470728028.\n",
            "[I 2024-05-01 11:37:10,838] Trial 12 finished with value: 4.61413806485717 and parameters: {'n_neighbors': 20, 'weights': 'distance', 'p': 3}. Best is trial 9 with value: 4.124342470728028.\n",
            "[I 2024-05-01 11:37:11,050] Trial 14 finished with value: 4.24287998006647 and parameters: {'n_neighbors': 7, 'weights': 'uniform', 'p': 3}. Best is trial 9 with value: 4.124342470728028.\n",
            "[I 2024-05-01 11:37:11,072] Trial 15 finished with value: 4.24287998006647 and parameters: {'n_neighbors': 7, 'weights': 'uniform', 'p': 3}. Best is trial 9 with value: 4.124342470728028.\n",
            "[I 2024-05-01 11:37:11,278] Trial 16 finished with value: 4.107220671713144 and parameters: {'n_neighbors': 8, 'weights': 'distance', 'p': 2}. Best is trial 16 with value: 4.107220671713144.\n",
            "[I 2024-05-01 11:37:11,301] Trial 17 finished with value: 4.1432574289691475 and parameters: {'n_neighbors': 10, 'weights': 'distance', 'p': 2}. Best is trial 16 with value: 4.107220671713144.\n",
            "[I 2024-05-01 11:37:11,538] Trial 18 finished with value: 4.463677752046167 and parameters: {'n_neighbors': 5, 'weights': 'distance', 'p': 5}. Best is trial 16 with value: 4.107220671713144.\n",
            "[I 2024-05-01 11:37:11,561] Trial 19 finished with value: 4.463677752046167 and parameters: {'n_neighbors': 5, 'weights': 'distance', 'p': 5}. Best is trial 16 with value: 4.107220671713144.\n",
            "[I 2024-05-01 11:37:11,725] Trial 21 finished with value: 4.235087526434418 and parameters: {'n_neighbors': 10, 'weights': 'uniform', 'p': 2}. Best is trial 16 with value: 4.107220671713144.\n",
            "[I 2024-05-01 11:37:11,893] Trial 22 finished with value: 4.1432574289691475 and parameters: {'n_neighbors': 10, 'weights': 'distance', 'p': 2}. Best is trial 16 with value: 4.107220671713144.\n",
            "[I 2024-05-01 11:37:11,978] Trial 20 finished with value: 4.26099821028716 and parameters: {'n_neighbors': 11, 'weights': 'uniform', 'p': 2}. Best is trial 16 with value: 4.107220671713144.\n",
            "[I 2024-05-01 11:37:12,158] Trial 24 finished with value: 4.0651332504082465 and parameters: {'n_neighbors': 9, 'weights': 'distance', 'p': 1}. Best is trial 24 with value: 4.0651332504082465.\n",
            "[I 2024-05-01 11:37:12,302] Trial 25 finished with value: 4.114433707273789 and parameters: {'n_neighbors': 8, 'weights': 'distance', 'p': 1}. Best is trial 24 with value: 4.0651332504082465.\n",
            "[I 2024-05-01 11:37:12,331] Trial 23 finished with value: 4.170881105144535 and parameters: {'n_neighbors': 12, 'weights': 'distance', 'p': 2}. Best is trial 24 with value: 4.0651332504082465.\n",
            "[I 2024-05-01 11:37:12,535] Trial 27 finished with value: 4.0651332504082465 and parameters: {'n_neighbors': 9, 'weights': 'distance', 'p': 1}. Best is trial 24 with value: 4.0651332504082465.\n",
            "[I 2024-05-01 11:37:12,611] Trial 26 finished with value: 4.171506907645235 and parameters: {'n_neighbors': 13, 'weights': 'distance', 'p': 1}. Best is trial 24 with value: 4.0651332504082465.\n",
            "[I 2024-05-01 11:37:12,780] Trial 29 finished with value: 4.4915834638234875 and parameters: {'n_neighbors': 5, 'weights': 'distance', 'p': 4}. Best is trial 24 with value: 4.0651332504082465.\n",
            "[I 2024-05-01 11:37:12,877] Trial 28 finished with value: 4.347231041197773 and parameters: {'n_neighbors': 14, 'weights': 'distance', 'p': 4}. Best is trial 24 with value: 4.0651332504082465.\n",
            "[I 2024-05-01 11:37:13,083] Trial 30 finished with value: 4.426889986806665 and parameters: {'n_neighbors': 14, 'weights': 'distance', 'p': 7}. Best is trial 24 with value: 4.0651332504082465.\n",
            "[I 2024-05-01 11:37:13,179] Trial 31 finished with value: 4.602946464891792 and parameters: {'n_neighbors': 18, 'weights': 'distance', 'p': 6}. Best is trial 24 with value: 4.0651332504082465.\n",
            "[I 2024-05-01 11:37:13,378] Trial 32 finished with value: 4.0651332504082465 and parameters: {'n_neighbors': 9, 'weights': 'distance', 'p': 1}. Best is trial 24 with value: 4.0651332504082465.\n",
            "[I 2024-05-01 11:37:13,523] Trial 33 finished with value: 4.0651332504082465 and parameters: {'n_neighbors': 9, 'weights': 'distance', 'p': 1}. Best is trial 24 with value: 4.0651332504082465.\n",
            "[I 2024-05-01 11:37:13,709] Trial 34 finished with value: 4.107220671713144 and parameters: {'n_neighbors': 8, 'weights': 'distance', 'p': 2}. Best is trial 24 with value: 4.0651332504082465.\n",
            "[I 2024-05-01 11:37:13,805] Trial 35 finished with value: 4.0651332504082465 and parameters: {'n_neighbors': 9, 'weights': 'distance', 'p': 1}. Best is trial 24 with value: 4.0651332504082465.\n",
            "[I 2024-05-01 11:37:14,043] Trial 36 finished with value: 4.0651332504082465 and parameters: {'n_neighbors': 9, 'weights': 'distance', 'p': 1}. Best is trial 24 with value: 4.0651332504082465.\n",
            "[I 2024-05-01 11:37:14,099] Trial 37 finished with value: 4.4589932589774195 and parameters: {'n_neighbors': 6, 'weights': 'distance', 'p': 10}. Best is trial 24 with value: 4.0651332504082465.\n",
            "[I 2024-05-01 11:37:14,369] Trial 38 finished with value: 4.4372924351957845 and parameters: {'n_neighbors': 6, 'weights': 'distance', 'p': 8}. Best is trial 24 with value: 4.0651332504082465.\n",
            "[I 2024-05-01 11:37:14,442] Trial 39 finished with value: 4.241906298649196 and parameters: {'n_neighbors': 12, 'weights': 'distance', 'p': 3}. Best is trial 24 with value: 4.0651332504082465.\n",
            "[I 2024-05-01 11:37:14,718] Trial 40 finished with value: 4.241906298649196 and parameters: {'n_neighbors': 12, 'weights': 'distance', 'p': 3}. Best is trial 24 with value: 4.0651332504082465.\n",
            "[I 2024-05-01 11:37:14,753] Trial 41 finished with value: 4.649721576280364 and parameters: {'n_neighbors': 3, 'weights': 'distance', 'p': 1}. Best is trial 24 with value: 4.0651332504082465.\n",
            "[I 2024-05-01 11:37:14,999] Trial 42 finished with value: 4.0651332504082465 and parameters: {'n_neighbors': 9, 'weights': 'distance', 'p': 1}. Best is trial 24 with value: 4.0651332504082465.\n",
            "[I 2024-05-01 11:37:15,051] Trial 43 finished with value: 4.0651332504082465 and parameters: {'n_neighbors': 9, 'weights': 'distance', 'p': 1}. Best is trial 24 with value: 4.0651332504082465.\n",
            "[I 2024-05-01 11:37:15,285] Trial 44 finished with value: 4.0651332504082465 and parameters: {'n_neighbors': 9, 'weights': 'distance', 'p': 1}. Best is trial 24 with value: 4.0651332504082465.\n",
            "[I 2024-05-01 11:37:15,363] Trial 45 finished with value: 4.13985557526368 and parameters: {'n_neighbors': 11, 'weights': 'distance', 'p': 2}. Best is trial 24 with value: 4.0651332504082465.\n",
            "[I 2024-05-01 11:37:15,623] Trial 46 finished with value: 4.13985557526368 and parameters: {'n_neighbors': 11, 'weights': 'distance', 'p': 2}. Best is trial 24 with value: 4.0651332504082465.\n",
            "[I 2024-05-01 11:37:15,671] Trial 47 finished with value: 4.346989151969508 and parameters: {'n_neighbors': 6, 'weights': 'distance', 'p': 1}. Best is trial 24 with value: 4.0651332504082465.\n",
            "[I 2024-05-01 11:37:15,953] Trial 48 finished with value: 4.346989151969508 and parameters: {'n_neighbors': 6, 'weights': 'distance', 'p': 1}. Best is trial 24 with value: 4.0651332504082465.\n",
            "[I 2024-05-01 11:37:16,002] Trial 49 finished with value: 4.172270284974696 and parameters: {'n_neighbors': 7, 'weights': 'distance', 'p': 1}. Best is trial 24 with value: 4.0651332504082465.\n",
            "[I 2024-05-01 11:37:16,303] Trial 50 finished with value: 4.217427113788795 and parameters: {'n_neighbors': 7, 'weights': 'distance', 'p': 3}. Best is trial 24 with value: 4.0651332504082465.\n",
            "[I 2024-05-01 11:37:16,337] Trial 51 finished with value: 4.192156739412792 and parameters: {'n_neighbors': 10, 'weights': 'distance', 'p': 3}. Best is trial 24 with value: 4.0651332504082465.\n",
            "[I 2024-05-01 11:37:16,595] Trial 52 finished with value: 4.165041071307496 and parameters: {'n_neighbors': 9, 'weights': 'distance', 'p': 2}. Best is trial 24 with value: 4.0651332504082465.\n",
            "[I 2024-05-01 11:37:16,647] Trial 53 finished with value: 4.165041071307496 and parameters: {'n_neighbors': 9, 'weights': 'distance', 'p': 2}. Best is trial 24 with value: 4.0651332504082465.\n",
            "[I 2024-05-01 11:37:16,870] Trial 54 finished with value: 4.10081305233247 and parameters: {'n_neighbors': 9, 'weights': 'uniform', 'p': 1}. Best is trial 24 with value: 4.0651332504082465.\n",
            "[I 2024-05-01 11:37:16,895] Trial 55 finished with value: 4.124342470728028 and parameters: {'n_neighbors': 8, 'weights': 'uniform', 'p': 1}. Best is trial 24 with value: 4.0651332504082465.\n",
            "[I 2024-05-01 11:37:17,137] Trial 57 finished with value: 4.065297402086969 and parameters: {'n_neighbors': 10, 'weights': 'distance', 'p': 1}. Best is trial 24 with value: 4.0651332504082465.\n",
            "[I 2024-05-01 11:37:17,140] Trial 56 finished with value: 4.065297402086969 and parameters: {'n_neighbors': 10, 'weights': 'distance', 'p': 1}. Best is trial 24 with value: 4.0651332504082465.\n",
            "[I 2024-05-01 11:37:17,299] Trial 59 finished with value: 4.167075354866417 and parameters: {'n_neighbors': 7, 'weights': 'distance', 'p': 2}. Best is trial 24 with value: 4.0651332504082465.\n",
            "[I 2024-05-01 11:37:17,480] Trial 58 finished with value: 4.170881105144535 and parameters: {'n_neighbors': 12, 'weights': 'distance', 'p': 2}. Best is trial 24 with value: 4.0651332504082465.\n",
            "[I 2024-05-01 11:37:17,635] Trial 61 finished with value: 4.107220671713144 and parameters: {'n_neighbors': 8, 'weights': 'distance', 'p': 2}. Best is trial 24 with value: 4.0651332504082465.\n",
            "[I 2024-05-01 11:37:17,640] Trial 60 finished with value: 4.170881105144535 and parameters: {'n_neighbors': 12, 'weights': 'distance', 'p': 2}. Best is trial 24 with value: 4.0651332504082465.\n",
            "[I 2024-05-01 11:37:17,868] Trial 62 finished with value: 4.0651332504082465 and parameters: {'n_neighbors': 9, 'weights': 'distance', 'p': 1}. Best is trial 24 with value: 4.0651332504082465.\n",
            "[I 2024-05-01 11:37:17,975] Trial 63 finished with value: 4.0651332504082465 and parameters: {'n_neighbors': 9, 'weights': 'distance', 'p': 1}. Best is trial 24 with value: 4.0651332504082465.\n",
            "[I 2024-05-01 11:37:18,124] Trial 64 finished with value: 4.106603671400707 and parameters: {'n_neighbors': 11, 'weights': 'distance', 'p': 1}. Best is trial 24 with value: 4.0651332504082465.\n",
            "[I 2024-05-01 11:37:18,319] Trial 66 finished with value: 4.114433707273789 and parameters: {'n_neighbors': 8, 'weights': 'distance', 'p': 1}. Best is trial 24 with value: 4.0651332504082465.\n",
            "[I 2024-05-01 11:37:18,325] Trial 65 finished with value: 4.106603671400707 and parameters: {'n_neighbors': 11, 'weights': 'distance', 'p': 1}. Best is trial 24 with value: 4.0651332504082465.\n",
            "[I 2024-05-01 11:37:18,549] Trial 67 finished with value: 4.235087526434418 and parameters: {'n_neighbors': 10, 'weights': 'uniform', 'p': 2}. Best is trial 24 with value: 4.0651332504082465.\n",
            "[I 2024-05-01 11:37:18,594] Trial 68 finished with value: 4.235087526434418 and parameters: {'n_neighbors': 10, 'weights': 'uniform', 'p': 2}. Best is trial 24 with value: 4.0651332504082465.\n",
            "[I 2024-05-01 11:37:18,819] Trial 69 finished with value: 4.4074737719244474 and parameters: {'n_neighbors': 7, 'weights': 'distance', 'p': 9}. Best is trial 24 with value: 4.0651332504082465.\n",
            "[I 2024-05-01 11:37:18,862] Trial 70 finished with value: 4.395026924082523 and parameters: {'n_neighbors': 7, 'weights': 'distance', 'p': 8}. Best is trial 24 with value: 4.0651332504082465.\n",
            "[I 2024-05-01 11:37:19,045] Trial 72 finished with value: 4.0651332504082465 and parameters: {'n_neighbors': 9, 'weights': 'distance', 'p': 1}. Best is trial 24 with value: 4.0651332504082465.\n",
            "[I 2024-05-01 11:37:19,185] Trial 71 finished with value: 4.171506907645235 and parameters: {'n_neighbors': 13, 'weights': 'distance', 'p': 1}. Best is trial 24 with value: 4.0651332504082465.\n",
            "[I 2024-05-01 11:37:19,243] Trial 73 finished with value: 4.114433707273789 and parameters: {'n_neighbors': 8, 'weights': 'distance', 'p': 1}. Best is trial 24 with value: 4.0651332504082465.\n",
            "[I 2024-05-01 11:37:19,383] Trial 74 finished with value: 4.114433707273789 and parameters: {'n_neighbors': 8, 'weights': 'distance', 'p': 1}. Best is trial 24 with value: 4.0651332504082465.\n",
            "[I 2024-05-01 11:37:19,507] Trial 75 finished with value: 4.0651332504082465 and parameters: {'n_neighbors': 9, 'weights': 'distance', 'p': 1}. Best is trial 24 with value: 4.0651332504082465.\n",
            "[I 2024-05-01 11:37:19,651] Trial 76 finished with value: 4.165041071307496 and parameters: {'n_neighbors': 9, 'weights': 'distance', 'p': 2}. Best is trial 24 with value: 4.0651332504082465.\n",
            "[I 2024-05-01 11:37:19,830] Trial 77 finished with value: 4.13985557526368 and parameters: {'n_neighbors': 11, 'weights': 'distance', 'p': 2}. Best is trial 24 with value: 4.0651332504082465.\n",
            "[I 2024-05-01 11:37:19,967] Trial 78 finished with value: 4.106603671400707 and parameters: {'n_neighbors': 11, 'weights': 'distance', 'p': 1}. Best is trial 24 with value: 4.0651332504082465.\n",
            "[I 2024-05-01 11:37:20,024] Trial 79 finished with value: 4.065297402086969 and parameters: {'n_neighbors': 10, 'weights': 'distance', 'p': 1}. Best is trial 24 with value: 4.0651332504082465.\n",
            "[I 2024-05-01 11:37:20,226] Trial 80 finished with value: 4.318094834728635 and parameters: {'n_neighbors': 10, 'weights': 'distance', 'p': 6}. Best is trial 24 with value: 4.0651332504082465.\n",
            "[I 2024-05-01 11:37:20,278] Trial 81 finished with value: 4.345449952169911 and parameters: {'n_neighbors': 8, 'weights': 'distance', 'p': 6}. Best is trial 24 with value: 4.0651332504082465.\n",
            "[I 2024-05-01 11:37:20,420] Trial 82 finished with value: 4.0651332504082465 and parameters: {'n_neighbors': 9, 'weights': 'distance', 'p': 1}. Best is trial 24 with value: 4.0651332504082465.\n",
            "[I 2024-05-01 11:37:20,549] Trial 83 finished with value: 4.0651332504082465 and parameters: {'n_neighbors': 9, 'weights': 'distance', 'p': 1}. Best is trial 24 with value: 4.0651332504082465.\n",
            "[I 2024-05-01 11:37:20,669] Trial 84 finished with value: 4.0651332504082465 and parameters: {'n_neighbors': 9, 'weights': 'distance', 'p': 1}. Best is trial 24 with value: 4.0651332504082465.\n",
            "[I 2024-05-01 11:37:20,805] Trial 85 finished with value: 4.167075354866417 and parameters: {'n_neighbors': 7, 'weights': 'distance', 'p': 2}. Best is trial 24 with value: 4.0651332504082465.\n",
            "[I 2024-05-01 11:37:20,923] Trial 86 finished with value: 4.107220671713144 and parameters: {'n_neighbors': 8, 'weights': 'distance', 'p': 2}. Best is trial 24 with value: 4.0651332504082465.\n",
            "[I 2024-05-01 11:37:21,058] Trial 87 finished with value: 4.114433707273789 and parameters: {'n_neighbors': 8, 'weights': 'distance', 'p': 1}. Best is trial 24 with value: 4.0651332504082465.\n",
            "[I 2024-05-01 11:37:21,179] Trial 88 finished with value: 4.065297402086969 and parameters: {'n_neighbors': 10, 'weights': 'distance', 'p': 1}. Best is trial 24 with value: 4.0651332504082465.\n",
            "[I 2024-05-01 11:37:21,407] Trial 89 finished with value: 4.346989151969508 and parameters: {'n_neighbors': 6, 'weights': 'distance', 'p': 1}. Best is trial 24 with value: 4.0651332504082465.\n",
            "[I 2024-05-01 11:37:21,409] Trial 90 finished with value: 4.3332467775508405 and parameters: {'n_neighbors': 6, 'weights': 'distance', 'p': 3}. Best is trial 24 with value: 4.0651332504082465.\n",
            "[I 2024-05-01 11:37:21,610] Trial 92 finished with value: 4.0651332504082465 and parameters: {'n_neighbors': 9, 'weights': 'distance', 'p': 1}. Best is trial 24 with value: 4.0651332504082465.\n",
            "[I 2024-05-01 11:37:21,683] Trial 91 finished with value: 4.0651332504082465 and parameters: {'n_neighbors': 9, 'weights': 'distance', 'p': 1}. Best is trial 24 with value: 4.0651332504082465.\n",
            "[I 2024-05-01 11:37:21,822] Trial 93 finished with value: 4.0651332504082465 and parameters: {'n_neighbors': 9, 'weights': 'distance', 'p': 1}. Best is trial 24 with value: 4.0651332504082465.\n",
            "[I 2024-05-01 11:37:21,955] Trial 94 finished with value: 4.065297402086969 and parameters: {'n_neighbors': 10, 'weights': 'distance', 'p': 1}. Best is trial 24 with value: 4.0651332504082465.\n",
            "[I 2024-05-01 11:37:22,069] Trial 95 finished with value: 4.1432574289691475 and parameters: {'n_neighbors': 10, 'weights': 'distance', 'p': 2}. Best is trial 24 with value: 4.0651332504082465.\n",
            "[I 2024-05-01 11:37:22,219] Trial 96 finished with value: 4.653654746580423 and parameters: {'n_neighbors': 17, 'weights': 'uniform', 'p': 1}. Best is trial 24 with value: 4.0651332504082465.\n",
            "[I 2024-05-01 11:37:22,335] Trial 97 finished with value: 4.653654746580423 and parameters: {'n_neighbors': 17, 'weights': 'uniform', 'p': 1}. Best is trial 24 with value: 4.0651332504082465.\n",
            "[I 2024-05-01 11:37:22,468] Trial 98 finished with value: 4.167075354866417 and parameters: {'n_neighbors': 7, 'weights': 'distance', 'p': 2}. Best is trial 24 with value: 4.0651332504082465.\n",
            "[I 2024-05-01 11:37:22,562] Trial 99 finished with value: 4.167075354866417 and parameters: {'n_neighbors': 7, 'weights': 'distance', 'p': 2}. Best is trial 24 with value: 4.0651332504082465.\n",
            "[I 2024-05-01 11:37:22,579] A new study created in memory with name: no-name-284d3ed5-0aec-4353-b230-b09d1fc62f4c\n",
            "[I 2024-05-01 11:37:35,937] Trial 0 finished with value: 4.131974122968359 and parameters: {'n_estimators': 430, 'criterion': 'squared_error', 'max_depth': 22, 'min_samples_leaf': 5, 'max_features': 0.46499999999999997}. Best is trial 0 with value: 4.131974122968359.\n",
            "[I 2024-05-01 11:37:37,195] Trial 1 finished with value: 4.144335746176871 and parameters: {'n_estimators': 217, 'criterion': 'absolute_error', 'max_depth': 13, 'min_samples_leaf': 1, 'max_features': 0.129}. Best is trial 0 with value: 4.131974122968359.\n",
            "[I 2024-05-01 11:37:50,580] Trial 2 finished with value: 3.9087007862294367 and parameters: {'n_estimators': 401, 'criterion': 'poisson', 'max_depth': 11, 'min_samples_leaf': 3, 'max_features': 0.652}. Best is trial 2 with value: 3.9087007862294367.\n",
            "[I 2024-05-01 11:37:54,305] Trial 3 finished with value: 3.9206647966462005 and parameters: {'n_estimators': 377, 'criterion': 'friedman_mse', 'max_depth': 4, 'min_samples_leaf': 1, 'max_features': 0.98}. Best is trial 2 with value: 3.9087007862294367.\n",
            "[I 2024-05-01 11:37:56,484] Trial 4 finished with value: 4.03421349815864 and parameters: {'n_estimators': 128, 'criterion': 'poisson', 'max_depth': 16, 'min_samples_leaf': 1, 'max_features': 0.364}. Best is trial 2 with value: 3.9087007862294367.\n",
            "[I 2024-05-01 11:37:59,859] Trial 5 finished with value: 3.9369717233440267 and parameters: {'n_estimators': 109, 'criterion': 'friedman_mse', 'max_depth': 12, 'min_samples_leaf': 4, 'max_features': 0.708}. Best is trial 2 with value: 3.9087007862294367.\n",
            "[I 2024-05-01 11:38:02,662] Trial 6 finished with value: 4.001032076209546 and parameters: {'n_estimators': 165, 'criterion': 'friedman_mse', 'max_depth': 23, 'min_samples_leaf': 5, 'max_features': 0.8069999999999999}. Best is trial 2 with value: 3.9087007862294367.\n",
            "[I 2024-05-01 11:38:05,236] Trial 7 finished with value: 3.9975292366086754 and parameters: {'n_estimators': 138, 'criterion': 'poisson', 'max_depth': 26, 'min_samples_leaf': 2, 'max_features': 0.537}. Best is trial 2 with value: 3.9087007862294367.\n",
            "[I 2024-05-01 11:38:14,195] Trial 9 finished with value: 4.0600716352095585 and parameters: {'n_estimators': 245, 'criterion': 'friedman_mse', 'max_depth': 7, 'min_samples_leaf': 2, 'max_features': 0.30700000000000005}. Best is trial 2 with value: 3.9087007862294367.\n",
            "[I 2024-05-01 11:38:19,281] Trial 10 finished with value: 3.9256458889533343 and parameters: {'n_estimators': 151, 'criterion': 'poisson', 'max_depth': 13, 'min_samples_leaf': 1, 'max_features': 0.501}. Best is trial 2 with value: 3.9087007862294367.\n",
            "[I 2024-05-01 11:38:19,641] Trial 8 finished with value: 3.9392216158113684 and parameters: {'n_estimators': 288, 'criterion': 'absolute_error', 'max_depth': 13, 'min_samples_leaf': 1, 'max_features': 0.959}. Best is trial 2 with value: 3.9087007862294367.\n",
            "[I 2024-05-01 11:38:35,055] Trial 12 finished with value: 4.017589918635993 and parameters: {'n_estimators': 404, 'criterion': 'squared_error', 'max_depth': 1, 'min_samples_leaf': 3, 'max_features': 0.962}. Best is trial 2 with value: 3.9087007862294367.\n",
            "[I 2024-05-01 11:38:41,076] Trial 11 finished with value: 3.891486780628009 and parameters: {'n_estimators': 492, 'criterion': 'squared_error', 'max_depth': 30, 'min_samples_leaf': 3, 'max_features': 0.6789999999999999}. Best is trial 11 with value: 3.891486780628009.\n",
            "[I 2024-05-01 11:38:51,017] Trial 13 finished with value: 3.8865913684656097 and parameters: {'n_estimators': 365, 'criterion': 'friedman_mse', 'max_depth': 3, 'min_samples_leaf': 3, 'max_features': 0.724}. Best is trial 13 with value: 3.8865913684656097.\n",
            "[I 2024-05-01 11:39:01,556] Trial 14 finished with value: 3.890997278173747 and parameters: {'n_estimators': 500, 'criterion': 'squared_error', 'max_depth': 20, 'min_samples_leaf': 3, 'max_features': 0.69}. Best is trial 13 with value: 3.8865913684656097.\n",
            "[I 2024-05-01 11:39:11,183] Trial 15 finished with value: 3.888559384844903 and parameters: {'n_estimators': 500, 'criterion': 'squared_error', 'max_depth': 30, 'min_samples_leaf': 4, 'max_features': 0.814}. Best is trial 13 with value: 3.8865913684656097.\n",
            "[I 2024-05-01 11:39:22,176] Trial 16 finished with value: 3.888477332907072 and parameters: {'n_estimators': 490, 'criterion': 'squared_error', 'max_depth': 18, 'min_samples_leaf': 4, 'max_features': 0.814}. Best is trial 13 with value: 3.8865913684656097.\n",
            "[I 2024-05-01 11:39:25,577] Trial 17 finished with value: 3.884782710423874 and parameters: {'n_estimators': 333, 'criterion': 'squared_error', 'max_depth': 7, 'min_samples_leaf': 4, 'max_features': 0.856}. Best is trial 17 with value: 3.884782710423874.\n",
            "[I 2024-05-01 11:39:36,996] Trial 18 finished with value: 3.9036205931123753 and parameters: {'n_estimators': 337, 'criterion': 'friedman_mse', 'max_depth': 18, 'min_samples_leaf': 4, 'max_features': 0.841}. Best is trial 17 with value: 3.884782710423874.\n",
            "[I 2024-05-01 11:39:39,724] Trial 19 finished with value: 3.901724602491136 and parameters: {'n_estimators': 340, 'criterion': 'friedman_mse', 'max_depth': 7, 'min_samples_leaf': 4, 'max_features': 0.826}. Best is trial 17 with value: 3.884782710423874.\n",
            "[I 2024-05-01 11:39:52,572] Trial 21 finished with value: 4.2068296558733556 and parameters: {'n_estimators': 292, 'criterion': 'absolute_error', 'max_depth': 1, 'min_samples_leaf': 2, 'max_features': 0.601}. Best is trial 17 with value: 3.884782710423874.\n",
            "[I 2024-05-01 11:39:54,163] Trial 20 finished with value: 3.9550426339151823 and parameters: {'n_estimators': 305, 'criterion': 'absolute_error', 'max_depth': 7, 'min_samples_leaf': 2, 'max_features': 0.599}. Best is trial 17 with value: 3.884782710423874.\n",
            "[I 2024-05-01 11:40:11,439] Trial 23 finished with value: 3.980266228559322 and parameters: {'n_estimators': 446, 'criterion': 'squared_error', 'max_depth': 3, 'min_samples_leaf': 5, 'max_features': 0.881}. Best is trial 17 with value: 3.884782710423874.\n",
            "[I 2024-05-01 11:40:11,910] Trial 22 finished with value: 3.874059946527135 and parameters: {'n_estimators': 452, 'criterion': 'squared_error', 'max_depth': 8, 'min_samples_leaf': 4, 'max_features': 0.897}. Best is trial 22 with value: 3.874059946527135.\n",
            "[I 2024-05-01 11:40:26,086] Trial 24 finished with value: 3.913445847181564 and parameters: {'n_estimators': 360, 'criterion': 'squared_error', 'max_depth': 5, 'min_samples_leaf': 4, 'max_features': 0.75}. Best is trial 22 with value: 3.874059946527135.\n",
            "[I 2024-05-01 11:40:28,088] Trial 25 finished with value: 3.8817755487302286 and parameters: {'n_estimators': 361, 'criterion': 'squared_error', 'max_depth': 9, 'min_samples_leaf': 3, 'max_features': 0.738}. Best is trial 22 with value: 3.874059946527135.\n",
            "[I 2024-05-01 11:40:44,655] Trial 27 finished with value: 3.9797850884001766 and parameters: {'n_estimators': 453, 'criterion': 'squared_error', 'max_depth': 9, 'min_samples_leaf': 5, 'max_features': 0.905}. Best is trial 22 with value: 3.874059946527135.\n",
            "[I 2024-05-01 11:40:46,719] Trial 26 finished with value: 3.861298488306954 and parameters: {'n_estimators': 444, 'criterion': 'squared_error', 'max_depth': 9, 'min_samples_leaf': 3, 'max_features': 0.891}. Best is trial 26 with value: 3.861298488306954.\n",
            "[I 2024-05-01 11:40:55,524] Trial 28 finished with value: 3.8973617244532943 and parameters: {'n_estimators': 255, 'criterion': 'squared_error', 'max_depth': 10, 'min_samples_leaf': 3, 'max_features': 0.755}. Best is trial 26 with value: 3.861298488306954.\n",
            "[I 2024-05-01 11:41:05,508] Trial 29 finished with value: 3.8609310621887474 and parameters: {'n_estimators': 457, 'criterion': 'squared_error', 'max_depth': 10, 'min_samples_leaf': 3, 'max_features': 0.9349999999999999}. Best is trial 29 with value: 3.8609310621887474.\n",
            "[I 2024-05-01 11:41:12,859] Trial 30 finished with value: 3.8656393431471088 and parameters: {'n_estimators': 422, 'criterion': 'squared_error', 'max_depth': 9, 'min_samples_leaf': 3, 'max_features': 0.9339999999999999}. Best is trial 29 with value: 3.8609310621887474.\n",
            "[I 2024-05-01 11:41:26,524] Trial 31 finished with value: 3.943702397015948 and parameters: {'n_estimators': 460, 'criterion': 'squared_error', 'max_depth': 16, 'min_samples_leaf': 2, 'max_features': 0.917}. Best is trial 29 with value: 3.8609310621887474.\n",
            "[I 2024-05-01 11:41:29,492] Trial 32 finished with value: 3.8608820166668054 and parameters: {'n_estimators': 422, 'criterion': 'squared_error', 'max_depth': 16, 'min_samples_leaf': 3, 'max_features': 0.909}. Best is trial 32 with value: 3.8608820166668054.\n",
            "[I 2024-05-01 11:41:44,025] Trial 33 finished with value: 3.8660310133513387 and parameters: {'n_estimators': 418, 'criterion': 'squared_error', 'max_depth': 9, 'min_samples_leaf': 3, 'max_features': 0.986}. Best is trial 32 with value: 3.8608820166668054.\n",
            "[I 2024-05-01 11:41:46,073] Trial 34 finished with value: 3.8664610199387206 and parameters: {'n_estimators': 403, 'criterion': 'squared_error', 'max_depth': 15, 'min_samples_leaf': 3, 'max_features': 0.998}. Best is trial 32 with value: 3.8608820166668054.\n",
            "[I 2024-05-01 11:42:00,436] Trial 35 finished with value: 3.9682189654765954 and parameters: {'n_estimators': 391, 'criterion': 'squared_error', 'max_depth': 14, 'min_samples_leaf': 2, 'max_features': 0.9329999999999999}. Best is trial 32 with value: 3.8608820166668054.\n",
            "[I 2024-05-01 11:42:05,379] Trial 36 finished with value: 3.9656807330660993 and parameters: {'n_estimators': 438, 'criterion': 'squared_error', 'max_depth': 11, 'min_samples_leaf': 2, 'max_features': 0.927}. Best is trial 32 with value: 3.8608820166668054.\n",
            "[I 2024-05-01 11:42:18,786] Trial 37 finished with value: 4.191636391105076 and parameters: {'n_estimators': 474, 'criterion': 'squared_error', 'max_depth': 11, 'min_samples_leaf': 3, 'max_features': 0.191}. Best is trial 32 with value: 3.8608820166668054.\n",
            "[I 2024-05-01 11:42:26,231] Trial 38 finished with value: 3.8785056311337227 and parameters: {'n_estimators': 470, 'criterion': 'poisson', 'max_depth': 11, 'min_samples_leaf': 3, 'max_features': 0.784}. Best is trial 32 with value: 3.8608820166668054.\n",
            "[I 2024-05-01 11:42:35,440] Trial 39 finished with value: 3.965038402327104 and parameters: {'n_estimators': 426, 'criterion': 'poisson', 'max_depth': 17, 'min_samples_leaf': 3, 'max_features': 0.41200000000000003}. Best is trial 32 with value: 3.8608820166668054.\n",
            "[I 2024-05-01 11:42:46,433] Trial 40 finished with value: 3.9957551716244195 and parameters: {'n_estimators': 421, 'criterion': 'absolute_error', 'max_depth': 5, 'min_samples_leaf': 3, 'max_features': 0.405}. Best is trial 32 with value: 3.8608820166668054.\n",
            "[I 2024-05-01 11:43:00,178] Trial 41 finished with value: 3.917251297540208 and parameters: {'n_estimators': 419, 'criterion': 'absolute_error', 'max_depth': 5, 'min_samples_leaf': 2, 'max_features': 0.869}. Best is trial 32 with value: 3.8608820166668054.\n",
            "[I 2024-05-01 11:43:02,747] Trial 42 finished with value: 3.865565047678071 and parameters: {'n_estimators': 417, 'criterion': 'squared_error', 'max_depth': 13, 'min_samples_leaf': 3, 'max_features': 0.997}. Best is trial 32 with value: 3.8608820166668054.\n",
            "[I 2024-05-01 11:43:17,034] Trial 43 finished with value: 3.871319334345945 and parameters: {'n_estimators': 386, 'criterion': 'squared_error', 'max_depth': 13, 'min_samples_leaf': 3, 'max_features': 0.981}. Best is trial 32 with value: 3.8608820166668054.\n",
            "[I 2024-05-01 11:43:19,053] Trial 44 finished with value: 3.8713193343459453 and parameters: {'n_estimators': 386, 'criterion': 'squared_error', 'max_depth': 13, 'min_samples_leaf': 3, 'max_features': 0.953}. Best is trial 32 with value: 3.8608820166668054.\n",
            "[I 2024-05-01 11:43:35,459] Trial 45 finished with value: 3.8662928823067144 and parameters: {'n_estimators': 438, 'criterion': 'squared_error', 'max_depth': 15, 'min_samples_leaf': 3, 'max_features': 0.954}. Best is trial 32 with value: 3.8608820166668054.\n",
            "[I 2024-05-01 11:43:36,766] Trial 46 finished with value: 3.862179871694507 and parameters: {'n_estimators': 439, 'criterion': 'squared_error', 'max_depth': 15, 'min_samples_leaf': 3, 'max_features': 0.865}. Best is trial 32 with value: 3.8608820166668054.\n",
            "[I 2024-05-01 11:43:43,808] Trial 47 finished with value: 3.9477997654343246 and parameters: {'n_estimators': 185, 'criterion': 'squared_error', 'max_depth': 20, 'min_samples_leaf': 2, 'max_features': 0.879}. Best is trial 32 with value: 3.8608820166668054.\n",
            "[I 2024-05-01 11:43:45,220] Trial 48 finished with value: 3.949780822780296 and parameters: {'n_estimators': 181, 'criterion': 'squared_error', 'max_depth': 21, 'min_samples_leaf': 2, 'max_features': 0.868}. Best is trial 32 with value: 3.8608820166668054.\n",
            "[I 2024-05-01 11:44:04,044] Trial 49 finished with value: 3.878652845175414 and parameters: {'n_estimators': 472, 'criterion': 'poisson', 'max_depth': 23, 'min_samples_leaf': 3, 'max_features': 1.0}. Best is trial 32 with value: 3.8608820166668054.\n",
            "[I 2024-05-01 11:44:04,092] Trial 50 finished with value: 3.865741607181101 and parameters: {'n_estimators': 465, 'criterion': 'squared_error', 'max_depth': 17, 'min_samples_leaf': 3, 'max_features': 0.791}. Best is trial 32 with value: 3.8608820166668054.\n",
            "[I 2024-05-01 11:44:20,854] Trial 51 finished with value: 3.868840690027517 and parameters: {'n_estimators': 406, 'criterion': 'squared_error', 'max_depth': 17, 'min_samples_leaf': 3, 'max_features': 0.925}. Best is trial 32 with value: 3.8608820166668054.\n",
            "[I 2024-05-01 11:44:20,959] Trial 52 finished with value: 3.867683819718693 and parameters: {'n_estimators': 401, 'criterion': 'squared_error', 'max_depth': 12, 'min_samples_leaf': 3, 'max_features': 0.928}. Best is trial 32 with value: 3.8608820166668054.\n",
            "[I 2024-05-01 11:44:39,043] Trial 53 finished with value: 3.893640478560006 and parameters: {'n_estimators': 432, 'criterion': 'squared_error', 'max_depth': 12, 'min_samples_leaf': 4, 'max_features': 0.843}. Best is trial 32 with value: 3.8608820166668054.\n",
            "[I 2024-05-01 11:44:41,095] Trial 54 finished with value: 3.8884208149418447 and parameters: {'n_estimators': 482, 'criterion': 'squared_error', 'max_depth': 14, 'min_samples_leaf': 4, 'max_features': 0.841}. Best is trial 32 with value: 3.8608820166668054.\n",
            "[I 2024-05-01 11:44:58,793] Trial 55 finished with value: 3.8666528725088876 and parameters: {'n_estimators': 486, 'criterion': 'friedman_mse', 'max_depth': 14, 'min_samples_leaf': 3, 'max_features': 0.959}. Best is trial 32 with value: 3.8608820166668054.\n",
            "[I 2024-05-01 11:44:59,808] Trial 56 finished with value: 3.8704431399590327 and parameters: {'n_estimators': 448, 'criterion': 'friedman_mse', 'max_depth': 14, 'min_samples_leaf': 3, 'max_features': 0.962}. Best is trial 32 with value: 3.8608820166668054.\n",
            "[I 2024-05-01 11:45:15,617] Trial 58 finished with value: 3.8970203702013135 and parameters: {'n_estimators': 377, 'criterion': 'squared_error', 'max_depth': 10, 'min_samples_leaf': 3, 'max_features': 0.635}. Best is trial 32 with value: 3.8608820166668054.\n",
            "[I 2024-05-01 11:45:17,169] Trial 57 finished with value: 3.8698886070318896 and parameters: {'n_estimators': 442, 'criterion': 'squared_error', 'max_depth': 10, 'min_samples_leaf': 3, 'max_features': 0.774}. Best is trial 32 with value: 3.8608820166668054.\n",
            "[I 2024-05-01 11:45:29,407] Trial 59 finished with value: 3.886650852527699 and parameters: {'n_estimators': 323, 'criterion': 'squared_error', 'max_depth': 8, 'min_samples_leaf': 4, 'max_features': 0.896}. Best is trial 32 with value: 3.8608820166668054.\n",
            "[I 2024-05-01 11:45:30,317] Trial 60 finished with value: 3.892822653070922 and parameters: {'n_estimators': 314, 'criterion': 'squared_error', 'max_depth': 19, 'min_samples_leaf': 4, 'max_features': 0.889}. Best is trial 32 with value: 3.8608820166668054.\n",
            "[I 2024-05-01 11:45:47,889] Trial 62 finished with value: 3.8655912330894853 and parameters: {'n_estimators': 464, 'criterion': 'squared_error', 'max_depth': 17, 'min_samples_leaf': 3, 'max_features': 0.8089999999999999}. Best is trial 32 with value: 3.8608820166668054.\n",
            "[I 2024-05-01 11:45:51,813] Trial 61 finished with value: 3.9271742766192013 and parameters: {'n_estimators': 409, 'criterion': 'absolute_error', 'max_depth': 26, 'min_samples_leaf': 2, 'max_features': 0.8089999999999999}. Best is trial 32 with value: 3.8608820166668054.\n",
            "[I 2024-05-01 11:46:04,058] Trial 63 finished with value: 3.8717857979640526 and parameters: {'n_estimators': 413, 'criterion': 'squared_error', 'max_depth': 16, 'min_samples_leaf': 3, 'max_features': 0.8119999999999999}. Best is trial 32 with value: 3.8608820166668054.\n",
            "[I 2024-05-01 11:46:11,046] Trial 64 finished with value: 3.8714063126482707 and parameters: {'n_estimators': 459, 'criterion': 'squared_error', 'max_depth': 16, 'min_samples_leaf': 3, 'max_features': 0.71}. Best is trial 32 with value: 3.8608820166668054.\n",
            "[I 2024-05-01 11:46:23,214] Trial 65 finished with value: 3.8557290343489985 and parameters: {'n_estimators': 460, 'criterion': 'squared_error', 'max_depth': 12, 'min_samples_leaf': 3, 'max_features': 0.855}. Best is trial 65 with value: 3.8557290343489985.\n",
            "[I 2024-05-01 11:46:29,292] Trial 66 finished with value: 3.859980815888841 and parameters: {'n_estimators': 434, 'criterion': 'squared_error', 'max_depth': 18, 'min_samples_leaf': 3, 'max_features': 0.855}. Best is trial 65 with value: 3.8557290343489985.\n",
            "[I 2024-05-01 11:46:45,554] Trial 67 finished with value: 3.855972781978587 and parameters: {'n_estimators': 491, 'criterion': 'squared_error', 'max_depth': 18, 'min_samples_leaf': 3, 'max_features': 0.858}. Best is trial 65 with value: 3.8557290343489985.\n",
            "[I 2024-05-01 11:46:49,578] Trial 68 finished with value: 4.095180510852479 and parameters: {'n_estimators': 499, 'criterion': 'poisson', 'max_depth': 19, 'min_samples_leaf': 3, 'max_features': 0.28400000000000003}. Best is trial 65 with value: 3.8557290343489985.\n",
            "[I 2024-05-01 11:47:06,647] Trial 69 finished with value: 3.876032358810812 and parameters: {'n_estimators': 481, 'criterion': 'poisson', 'max_depth': 19, 'min_samples_leaf': 3, 'max_features': 0.773}. Best is trial 65 with value: 3.8557290343489985.\n",
            "[I 2024-05-01 11:47:09,739] Trial 70 finished with value: 3.8644157631459124 and parameters: {'n_estimators': 480, 'criterion': 'squared_error', 'max_depth': 19, 'min_samples_leaf': 3, 'max_features': 0.842}. Best is trial 65 with value: 3.8557290343489985.\n",
            "[I 2024-05-01 11:47:26,605] Trial 72 finished with value: 3.865169559360926 and parameters: {'n_estimators': 453, 'criterion': 'squared_error', 'max_depth': 21, 'min_samples_leaf': 3, 'max_features': 0.84}. Best is trial 65 with value: 3.8557290343489985.\n",
            "[I 2024-05-01 11:47:27,532] Trial 71 finished with value: 3.9463924972368867 and parameters: {'n_estimators': 451, 'criterion': 'squared_error', 'max_depth': 23, 'min_samples_leaf': 2, 'max_features': 0.856}. Best is trial 65 with value: 3.8557290343489985.\n",
            "[I 2024-05-01 11:47:47,212] Trial 73 finished with value: 3.855892459339106 and parameters: {'n_estimators': 492, 'criterion': 'squared_error', 'max_depth': 24, 'min_samples_leaf': 3, 'max_features': 0.859}. Best is trial 65 with value: 3.8557290343489985.\n",
            "[I 2024-05-01 11:47:48,099] Trial 74 finished with value: 3.8550721748532584 and parameters: {'n_estimators': 488, 'criterion': 'squared_error', 'max_depth': 18, 'min_samples_leaf': 3, 'max_features': 0.89}. Best is trial 74 with value: 3.8550721748532584.\n",
            "[I 2024-05-01 11:47:58,269] Trial 75 finished with value: 3.872579163099488 and parameters: {'n_estimators': 269, 'criterion': 'squared_error', 'max_depth': 26, 'min_samples_leaf': 3, 'max_features': 0.881}. Best is trial 74 with value: 3.8550721748532584.\n",
            "[I 2024-05-01 11:48:08,788] Trial 76 finished with value: 3.856031325815783 and parameters: {'n_estimators': 494, 'criterion': 'squared_error', 'max_depth': 25, 'min_samples_leaf': 3, 'max_features': 0.908}. Best is trial 74 with value: 3.8550721748532584.\n",
            "[I 2024-05-01 11:48:18,432] Trial 77 finished with value: 3.872038693418462 and parameters: {'n_estimators': 492, 'criterion': 'squared_error', 'max_depth': 28, 'min_samples_leaf': 4, 'max_features': 0.907}. Best is trial 74 with value: 3.8550721748532584.\n",
            "[I 2024-05-01 11:48:29,876] Trial 78 finished with value: 3.8779726578915312 and parameters: {'n_estimators': 496, 'criterion': 'friedman_mse', 'max_depth': 25, 'min_samples_leaf': 4, 'max_features': 0.913}. Best is trial 74 with value: 3.8550721748532584.\n",
            "[I 2024-05-01 11:48:38,804] Trial 79 finished with value: 3.9237132018114744 and parameters: {'n_estimators': 474, 'criterion': 'squared_error', 'max_depth': 28, 'min_samples_leaf': 3, 'max_features': 0.523}. Best is trial 74 with value: 3.8550721748532584.\n",
            "[I 2024-05-01 11:48:48,892] Trial 80 finished with value: 3.890729745576446 and parameters: {'n_estimators': 479, 'criterion': 'squared_error', 'max_depth': 22, 'min_samples_leaf': 3, 'max_features': 0.553}. Best is trial 74 with value: 3.8550721748532584.\n",
            "[I 2024-05-01 11:49:05,089] Trial 81 finished with value: 3.8476992855222383 and parameters: {'n_estimators': 489, 'criterion': 'absolute_error', 'max_depth': 24, 'min_samples_leaf': 3, 'max_features': 0.944}. Best is trial 81 with value: 3.8476992855222383.\n",
            "[I 2024-05-01 11:49:06,610] Trial 82 finished with value: 3.858500482151634 and parameters: {'n_estimators': 488, 'criterion': 'squared_error', 'max_depth': 24, 'min_samples_leaf': 3, 'max_features': 0.946}. Best is trial 81 with value: 3.8476992855222383.\n",
            "[I 2024-05-01 11:49:26,668] Trial 83 finished with value: 3.8476992855222383 and parameters: {'n_estimators': 489, 'criterion': 'absolute_error', 'max_depth': 24, 'min_samples_leaf': 3, 'max_features': 0.945}. Best is trial 81 with value: 3.8476992855222383.\n",
            "[I 2024-05-01 11:49:27,992] Trial 84 finished with value: 3.8480124036947356 and parameters: {'n_estimators': 486, 'criterion': 'absolute_error', 'max_depth': 25, 'min_samples_leaf': 3, 'max_features': 0.952}. Best is trial 81 with value: 3.8476992855222383.\n",
            "[I 2024-05-01 11:49:48,320] Trial 85 finished with value: 3.847204792745001 and parameters: {'n_estimators': 491, 'criterion': 'absolute_error', 'max_depth': 24, 'min_samples_leaf': 3, 'max_features': 0.975}. Best is trial 85 with value: 3.847204792745001.\n",
            "[I 2024-05-01 11:49:49,739] Trial 86 finished with value: 3.849381489270188 and parameters: {'n_estimators': 499, 'criterion': 'absolute_error', 'max_depth': 24, 'min_samples_leaf': 3, 'max_features': 0.973}. Best is trial 85 with value: 3.847204792745001.\n",
            "[I 2024-05-01 11:49:53,603] Trial 88 finished with value: 3.8773801011322018 and parameters: {'n_estimators': 102, 'criterion': 'absolute_error', 'max_depth': 27, 'min_samples_leaf': 3, 'max_features': 0.969}. Best is trial 85 with value: 3.847204792745001.\n",
            "[I 2024-05-01 11:50:12,868] Trial 89 finished with value: 3.8498029851765585 and parameters: {'n_estimators': 500, 'criterion': 'absolute_error', 'max_depth': 24, 'min_samples_leaf': 3, 'max_features': 0.971}. Best is trial 85 with value: 3.847204792745001.\n",
            "[I 2024-05-01 11:50:16,657] Trial 87 finished with value: 3.912923658867365 and parameters: {'n_estimators': 499, 'criterion': 'absolute_error', 'max_depth': 25, 'min_samples_leaf': 1, 'max_features': 0.978}. Best is trial 85 with value: 3.847204792745001.\n",
            "[I 2024-05-01 11:50:35,188] Trial 90 finished with value: 3.9015416703640224 and parameters: {'n_estimators': 465, 'criterion': 'absolute_error', 'max_depth': 24, 'min_samples_leaf': 2, 'max_features': 0.979}. Best is trial 85 with value: 3.847204792745001.\n",
            "[I 2024-05-01 11:50:35,395] Trial 91 finished with value: 3.8475190961116645 and parameters: {'n_estimators': 467, 'criterion': 'absolute_error', 'max_depth': 24, 'min_samples_leaf': 3, 'max_features': 0.977}. Best is trial 85 with value: 3.847204792745001.\n",
            "[I 2024-05-01 11:50:55,267] Trial 93 finished with value: 3.847319697775955 and parameters: {'n_estimators': 471, 'criterion': 'absolute_error', 'max_depth': 22, 'min_samples_leaf': 3, 'max_features': 0.943}. Best is trial 85 with value: 3.847204792745001.\n",
            "[I 2024-05-01 11:50:56,203] Trial 92 finished with value: 3.8472890525788066 and parameters: {'n_estimators': 487, 'criterion': 'absolute_error', 'max_depth': 22, 'min_samples_leaf': 3, 'max_features': 0.943}. Best is trial 85 with value: 3.847204792745001.\n",
            "[I 2024-05-01 11:51:16,032] Trial 94 finished with value: 3.8481381631315044 and parameters: {'n_estimators': 470, 'criterion': 'absolute_error', 'max_depth': 22, 'min_samples_leaf': 3, 'max_features': 0.941}. Best is trial 85 with value: 3.847204792745001.\n",
            "[I 2024-05-01 11:51:16,953] Trial 95 finished with value: 3.846749004248134 and parameters: {'n_estimators': 472, 'criterion': 'absolute_error', 'max_depth': 22, 'min_samples_leaf': 3, 'max_features': 0.946}. Best is trial 95 with value: 3.846749004248134.\n",
            "[I 2024-05-01 11:51:37,169] Trial 96 finished with value: 3.8473196977759545 and parameters: {'n_estimators': 471, 'criterion': 'absolute_error', 'max_depth': 22, 'min_samples_leaf': 3, 'max_features': 0.939}. Best is trial 95 with value: 3.846749004248134.\n",
            "[I 2024-05-01 11:51:38,612] Trial 97 finished with value: 3.8473196977759545 and parameters: {'n_estimators': 471, 'criterion': 'absolute_error', 'max_depth': 22, 'min_samples_leaf': 3, 'max_features': 0.95}. Best is trial 95 with value: 3.846749004248134.\n",
            "[I 2024-05-01 11:51:57,836] Trial 98 finished with value: 3.8473196977759545 and parameters: {'n_estimators': 471, 'criterion': 'absolute_error', 'max_depth': 22, 'min_samples_leaf': 3, 'max_features': 0.94}. Best is trial 95 with value: 3.846749004248134.\n",
            "[I 2024-05-01 11:51:58,580] Trial 99 finished with value: 3.835394145892507 and parameters: {'n_estimators': 475, 'criterion': 'absolute_error', 'max_depth': 22, 'min_samples_leaf': 3, 'max_features': 1.0}. Best is trial 99 with value: 3.835394145892507.\n",
            "[I 2024-05-01 11:51:59,339] A new study created in memory with name: no-name-5f74e4bc-e558-4361-97a3-b0e1013d5c13\n",
            "[I 2024-05-01 11:51:59,522] Trial 0 finished with value: 5.315269574514096 and parameters: {'kernel': 'poly', 'degree': 20, 'gamma': 'auto', 'C': 44.415, 'epsilon': 70.546}. Best is trial 0 with value: 5.315269574514096.\n",
            "[I 2024-05-01 11:51:59,543] Trial 1 finished with value: 5.315269574514096 and parameters: {'kernel': 'linear', 'degree': 5, 'gamma': 'auto', 'C': 93.834, 'epsilon': 62.699}. Best is trial 0 with value: 5.315269574514096.\n",
            "[I 2024-05-01 11:51:59,724] Trial 3 finished with value: 5.315269574514096 and parameters: {'kernel': 'rbf', 'degree': 11, 'gamma': 'auto', 'C': 53.653, 'epsilon': 87.129}. Best is trial 0 with value: 5.315269574514096.\n",
            "[I 2024-05-01 11:51:59,752] Trial 2 finished with value: 1763.0157011867125 and parameters: {'kernel': 'poly', 'degree': 20, 'gamma': 'scale', 'C': 13.684, 'epsilon': 0.901}. Best is trial 0 with value: 5.315269574514096.\n",
            "[I 2024-05-01 11:51:59,931] Trial 4 finished with value: 5.315269574514097 and parameters: {'kernel': 'linear', 'degree': 2, 'gamma': 'scale', 'C': 61.089999999999996, 'epsilon': 15.165000000000001}. Best is trial 0 with value: 5.315269574514096.\n",
            "[I 2024-05-01 11:51:59,949] Trial 5 finished with value: 5.315269574514097 and parameters: {'kernel': 'rbf', 'degree': 3, 'gamma': 'scale', 'C': 10.563, 'epsilon': 59.43}. Best is trial 0 with value: 5.315269574514096.\n",
            "[I 2024-05-01 11:52:00,143] Trial 7 finished with value: 5.315269574514097 and parameters: {'kernel': 'poly', 'degree': 10, 'gamma': 'scale', 'C': 50.128, 'epsilon': 60.071}. Best is trial 0 with value: 5.315269574514096.\n",
            "[I 2024-05-01 11:52:00,173] Trial 6 finished with value: 5.315269574514097 and parameters: {'kernel': 'poly', 'degree': 12, 'gamma': 'scale', 'C': 91.772, 'epsilon': 61.054}. Best is trial 0 with value: 5.315269574514096.\n",
            "[I 2024-05-01 11:52:00,368] Trial 9 finished with value: 5.315269574514097 and parameters: {'kernel': 'linear', 'degree': 2, 'gamma': 'scale', 'C': 86.69900000000001, 'epsilon': 77.45500000000001}. Best is trial 0 with value: 5.315269574514096.\n",
            "[I 2024-05-01 11:52:00,382] Trial 8 finished with value: 6.670560940706372 and parameters: {'kernel': 'poly', 'degree': 11, 'gamma': 'auto', 'C': 24.233, 'epsilon': 3.9299999999999997}. Best is trial 0 with value: 5.315269574514096.\n",
            "[I 2024-05-01 11:52:00,557] Trial 10 finished with value: 5.315269574514096 and parameters: {'kernel': 'linear', 'degree': 6, 'gamma': 'scale', 'C': 19.924000000000003, 'epsilon': 92.37400000000001}. Best is trial 0 with value: 5.315269574514096.\n",
            "[I 2024-05-01 11:52:00,659] Trial 11 finished with value: 5.315269574514097 and parameters: {'kernel': 'poly', 'degree': 20, 'gamma': 'auto', 'C': 32.711999999999996, 'epsilon': 28.503000000000004}. Best is trial 0 with value: 5.315269574514096.\n",
            "[I 2024-05-01 11:52:00,818] Trial 12 finished with value: 5.315269574514097 and parameters: {'kernel': 'linear', 'degree': 20, 'gamma': 'auto', 'C': 69.72900000000001, 'epsilon': 34.106}. Best is trial 0 with value: 5.315269574514096.\n",
            "[I 2024-05-01 11:52:00,915] Trial 13 finished with value: 5.315269574514097 and parameters: {'kernel': 'linear', 'degree': 16, 'gamma': 'auto', 'C': 72.459, 'epsilon': 43.531}. Best is trial 0 with value: 5.315269574514096.\n",
            "[I 2024-05-01 11:52:01,069] Trial 14 finished with value: 5.315269574514097 and parameters: {'kernel': 'linear', 'degree': 16, 'gamma': 'auto', 'C': 74.373, 'epsilon': 74.168}. Best is trial 0 with value: 5.315269574514096.\n",
            "[I 2024-05-01 11:52:01,171] Trial 15 finished with value: 5.315269574514097 and parameters: {'kernel': 'rbf', 'degree': 7, 'gamma': 'auto', 'C': 32.714999999999996, 'epsilon': 74.74600000000001}. Best is trial 0 with value: 5.315269574514096.\n",
            "[I 2024-05-01 11:52:01,375] Trial 16 finished with value: 5.315269574514096 and parameters: {'kernel': 'rbf', 'degree': 7, 'gamma': 'auto', 'C': 40.358, 'epsilon': 74.552}. Best is trial 0 with value: 5.315269574514096.\n",
            "[I 2024-05-01 11:52:01,445] Trial 17 finished with value: 5.315269574514097 and parameters: {'kernel': 'poly', 'degree': 6, 'gamma': 'auto', 'C': 98.86300000000001, 'epsilon': 52.214999999999996}. Best is trial 0 with value: 5.315269574514096.\n",
            "[I 2024-05-01 11:52:01,675] Trial 18 finished with value: 5.3152695745140965 and parameters: {'kernel': 'poly', 'degree': 16, 'gamma': 'auto', 'C': 96.414, 'epsilon': 48.785}. Best is trial 0 with value: 5.315269574514096.\n",
            "[I 2024-05-01 11:52:01,774] Trial 19 finished with value: 5.315269574514096 and parameters: {'kernel': 'linear', 'degree': 15, 'gamma': 'auto', 'C': 39.936, 'epsilon': 98.766}. Best is trial 0 with value: 5.315269574514096.\n",
            "[I 2024-05-01 11:52:02,018] Trial 20 finished with value: 5.315269574514097 and parameters: {'kernel': 'linear', 'degree': 14, 'gamma': 'auto', 'C': 1.2650000000000001, 'epsilon': 98.602}. Best is trial 0 with value: 5.315269574514096.\n",
            "[I 2024-05-01 11:52:02,123] Trial 21 finished with value: 5.315269574514097 and parameters: {'kernel': 'linear', 'degree': 4, 'gamma': 'auto', 'C': 0.34600000000000003, 'epsilon': 65.787}. Best is trial 0 with value: 5.315269574514096.\n",
            "[I 2024-05-01 11:52:02,371] Trial 22 finished with value: 5.315269574514097 and parameters: {'kernel': 'rbf', 'degree': 9, 'gamma': 'auto', 'C': 56.406, 'epsilon': 82.881}. Best is trial 0 with value: 5.315269574514096.\n",
            "[I 2024-05-01 11:52:02,499] Trial 23 finished with value: 5.315269574514096 and parameters: {'kernel': 'rbf', 'degree': 9, 'gamma': 'auto', 'C': 54.574999999999996, 'epsilon': 86.73100000000001}. Best is trial 0 with value: 5.315269574514096.\n",
            "[I 2024-05-01 11:52:02,712] Trial 24 finished with value: 5.315269574514097 and parameters: {'kernel': 'rbf', 'degree': 13, 'gamma': 'auto', 'C': 84.825, 'epsilon': 86.531}. Best is trial 0 with value: 5.315269574514096.\n",
            "[I 2024-05-01 11:52:02,822] Trial 25 finished with value: 5.315269574514096 and parameters: {'kernel': 'rbf', 'degree': 18, 'gamma': 'auto', 'C': 83.01700000000001, 'epsilon': 67.748}. Best is trial 0 with value: 5.315269574514096.\n",
            "[I 2024-05-01 11:52:03,077] Trial 26 finished with value: 5.315269574514096 and parameters: {'kernel': 'rbf', 'degree': 1, 'gamma': 'auto', 'C': 63.702999999999996, 'epsilon': 68.16000000000001}. Best is trial 0 with value: 5.315269574514096.\n",
            "[I 2024-05-01 11:52:03,183] Trial 27 finished with value: 5.315269574514096 and parameters: {'kernel': 'poly', 'degree': 18, 'gamma': 'auto', 'C': 65.07900000000001, 'epsilon': 68.367}. Best is trial 0 with value: 5.315269574514096.\n",
            "[I 2024-05-01 11:52:03,442] Trial 28 finished with value: 5.3152695745140965 and parameters: {'kernel': 'poly', 'degree': 18, 'gamma': 'auto', 'C': 44.903, 'epsilon': 52.166}. Best is trial 0 with value: 5.315269574514096.\n",
            "[I 2024-05-01 11:52:03,527] Trial 29 finished with value: 5.315269574514096 and parameters: {'kernel': 'rbf', 'degree': 5, 'gamma': 'auto', 'C': 41.644999999999996, 'epsilon': 53.967}. Best is trial 0 with value: 5.315269574514096.\n",
            "[I 2024-05-01 11:52:03,777] Trial 30 finished with value: 5.315269574514096 and parameters: {'kernel': 'rbf', 'degree': 4, 'gamma': 'auto', 'C': 78.09100000000001, 'epsilon': 80.23200000000001}. Best is trial 0 with value: 5.315269574514096.\n",
            "[I 2024-05-01 11:52:03,861] Trial 31 finished with value: 5.3152695745140965 and parameters: {'kernel': 'poly', 'degree': 9, 'gamma': 'auto', 'C': 78.06500000000001, 'epsilon': 40.065}. Best is trial 0 with value: 5.315269574514096.\n",
            "[I 2024-05-01 11:52:04,105] Trial 32 finished with value: 5.315269574514097 and parameters: {'kernel': 'linear', 'degree': 8, 'gamma': 'scale', 'C': 18.182000000000002, 'epsilon': 92.37100000000001}. Best is trial 0 with value: 5.315269574514096.\n",
            "[I 2024-05-01 11:52:04,202] Trial 33 finished with value: 5.315269574514097 and parameters: {'kernel': 'linear', 'degree': 6, 'gamma': 'scale', 'C': 19.646, 'epsilon': 92.358}. Best is trial 0 with value: 5.315269574514096.\n",
            "[I 2024-05-01 11:52:04,488] Trial 34 finished with value: 5.315269574514097 and parameters: {'kernel': 'linear', 'degree': 6, 'gamma': 'scale', 'C': 29.413000000000004, 'epsilon': 93.042}. Best is trial 0 with value: 5.315269574514096.\n",
            "[I 2024-05-01 11:52:04,582] Trial 35 finished with value: 5.315269574514096 and parameters: {'kernel': 'linear', 'degree': 3, 'gamma': 'scale', 'C': 9.082, 'epsilon': 91.18900000000001}. Best is trial 0 with value: 5.315269574514096.\n",
            "[I 2024-05-01 11:52:04,837] Trial 36 finished with value: 5.315269574514097 and parameters: {'kernel': 'linear', 'degree': 3, 'gamma': 'scale', 'C': 57.108, 'epsilon': 84.02600000000001}. Best is trial 0 with value: 5.315269574514096.\n",
            "[I 2024-05-01 11:52:04,979] Trial 37 finished with value: 5.315269574514097 and parameters: {'kernel': 'linear', 'degree': 12, 'gamma': 'scale', 'C': 49.158, 'epsilon': 83.709}. Best is trial 0 with value: 5.315269574514096.\n",
            "[I 2024-05-01 11:52:05,221] Trial 38 finished with value: 5.315269574514097 and parameters: {'kernel': 'poly', 'degree': 11, 'gamma': 'scale', 'C': 49.13, 'epsilon': 61.192}. Best is trial 0 with value: 5.315269574514096.\n",
            "[I 2024-05-01 11:52:05,311] Trial 39 finished with value: 5.315269574514097 and parameters: {'kernel': 'poly', 'degree': 11, 'gamma': 'scale', 'C': 25.797, 'epsilon': 64.037}. Best is trial 0 with value: 5.315269574514096.\n",
            "[I 2024-05-01 11:52:05,465] Trial 40 finished with value: 5.315269574514097 and parameters: {'kernel': 'poly', 'degree': 5, 'gamma': 'scale', 'C': 25.204, 'epsilon': 19.514000000000003}. Best is trial 0 with value: 5.315269574514096.\n",
            "[I 2024-05-01 11:52:05,596] Trial 41 finished with value: 5.315269574514097 and parameters: {'kernel': 'linear', 'degree': 1, 'gamma': 'scale', 'C': 8.743, 'epsilon': 57.025}. Best is trial 0 with value: 5.315269574514096.\n",
            "[I 2024-05-01 11:52:05,725] Trial 42 finished with value: 5.315269574514096 and parameters: {'kernel': 'rbf', 'degree': 7, 'gamma': 'auto', 'C': 36.254999999999995, 'epsilon': 73.694}. Best is trial 0 with value: 5.315269574514096.\n",
            "[I 2024-05-01 11:52:05,871] Trial 43 finished with value: 5.315269574514096 and parameters: {'kernel': 'rbf', 'degree': 7, 'gamma': 'auto', 'C': 36.918, 'epsilon': 76.616}. Best is trial 0 with value: 5.315269574514096.\n",
            "[I 2024-05-01 11:52:05,995] Trial 44 finished with value: 5.315269574514096 and parameters: {'kernel': 'rbf', 'degree': 7, 'gamma': 'auto', 'C': 45.096, 'epsilon': 77.843}. Best is trial 0 with value: 5.315269574514096.\n",
            "[I 2024-05-01 11:52:06,133] Trial 45 finished with value: 5.315269574514097 and parameters: {'kernel': 'rbf', 'degree': 8, 'gamma': 'auto', 'C': 44.624, 'epsilon': 71.56200000000001}. Best is trial 0 with value: 5.315269574514096.\n",
            "[I 2024-05-01 11:52:06,290] Trial 46 finished with value: 5.315269574514096 and parameters: {'kernel': 'rbf', 'degree': 5, 'gamma': 'auto', 'C': 90.47200000000001, 'epsilon': 80.462}. Best is trial 0 with value: 5.315269574514096.\n",
            "[I 2024-05-01 11:52:06,428] Trial 47 finished with value: 4.4278538282532 and parameters: {'kernel': 'rbf', 'degree': 5, 'gamma': 'auto', 'C': 68.41900000000001, 'epsilon': 0.63}. Best is trial 47 with value: 4.4278538282532.\n",
            "[I 2024-05-01 11:52:06,599] Trial 48 finished with value: 5.3152695745140965 and parameters: {'kernel': 'linear', 'degree': 10, 'gamma': 'auto', 'C': 19.501, 'epsilon': 33.333}. Best is trial 47 with value: 4.4278538282532.\n",
            "[I 2024-05-01 11:52:06,699] Trial 49 finished with value: 4.362239702891002 and parameters: {'kernel': 'linear', 'degree': 2, 'gamma': 'auto', 'C': 66.74300000000001, 'epsilon': 5.64}. Best is trial 49 with value: 4.362239702891002.\n",
            "[I 2024-05-01 11:52:06,966] Trial 51 finished with value: 9.644294080726505 and parameters: {'kernel': 'poly', 'degree': 2, 'gamma': 'auto', 'C': 60.71, 'epsilon': 0.29500000000000004}. Best is trial 49 with value: 4.362239702891002.\n",
            "[I 2024-05-01 11:52:06,993] Trial 50 finished with value: 4.856176609925502 and parameters: {'kernel': 'linear', 'degree': 2, 'gamma': 'auto', 'C': 65.87400000000001, 'epsilon': 0.139}. Best is trial 49 with value: 4.362239702891002.\n",
            "[I 2024-05-01 11:52:07,230] Trial 52 finished with value: 4.631448902148212 and parameters: {'kernel': 'linear', 'degree': 4, 'gamma': 'auto', 'C': 68.644, 'epsilon': 7.155}. Best is trial 49 with value: 4.362239702891002.\n",
            "[I 2024-05-01 11:52:07,269] Trial 53 finished with value: 4.921889876395029 and parameters: {'kernel': 'linear', 'degree': 2, 'gamma': 'auto', 'C': 67.885, 'epsilon': 8.542}. Best is trial 49 with value: 4.362239702891002.\n",
            "[I 2024-05-01 11:52:07,529] Trial 54 finished with value: 4.50481018653515 and parameters: {'kernel': 'linear', 'degree': 2, 'gamma': 'auto', 'C': 69.516, 'epsilon': 6.4959999999999996}. Best is trial 49 with value: 4.362239702891002.\n",
            "[I 2024-05-01 11:52:07,576] Trial 55 finished with value: 4.81888431789817 and parameters: {'kernel': 'linear', 'degree': 2, 'gamma': 'auto', 'C': 70.009, 'epsilon': 8.063}. Best is trial 49 with value: 4.362239702891002.\n",
            "[I 2024-05-01 11:52:07,785] Trial 56 finished with value: 4.6608078518081095 and parameters: {'kernel': 'linear', 'degree': 2, 'gamma': 'auto', 'C': 72.83600000000001, 'epsilon': 7.3069999999999995}. Best is trial 49 with value: 4.362239702891002.\n",
            "[I 2024-05-01 11:52:07,871] Trial 57 finished with value: 4.72498114383314 and parameters: {'kernel': 'linear', 'degree': 4, 'gamma': 'auto', 'C': 72.66300000000001, 'epsilon': 7.632}. Best is trial 49 with value: 4.362239702891002.\n",
            "[I 2024-05-01 11:52:08,025] Trial 58 finished with value: 5.315269574514097 and parameters: {'kernel': 'linear', 'degree': 3, 'gamma': 'auto', 'C': 74.052, 'epsilon': 14.525}. Best is trial 49 with value: 4.362239702891002.\n",
            "[I 2024-05-01 11:52:08,188] Trial 59 finished with value: 5.315269574514097 and parameters: {'kernel': 'linear', 'degree': 4, 'gamma': 'auto', 'C': 75.774, 'epsilon': 20.482000000000003}. Best is trial 49 with value: 4.362239702891002.\n",
            "[I 2024-05-01 11:52:08,302] Trial 60 finished with value: 5.3152695745140965 and parameters: {'kernel': 'linear', 'degree': 4, 'gamma': 'auto', 'C': 78.125, 'epsilon': 19.439000000000004}. Best is trial 49 with value: 4.362239702891002.\n",
            "[I 2024-05-01 11:52:08,511] Trial 61 finished with value: 4.404687071319129 and parameters: {'kernel': 'linear', 'degree': 1, 'gamma': 'auto', 'C': 70.364, 'epsilon': 5.893}. Best is trial 49 with value: 4.362239702891002.\n",
            "[I 2024-05-01 11:52:08,603] Trial 62 finished with value: 4.480222544918726 and parameters: {'kernel': 'linear', 'degree': 1, 'gamma': 'auto', 'C': 70.98100000000001, 'epsilon': 6.356}. Best is trial 49 with value: 4.362239702891002.\n",
            "[I 2024-05-01 11:52:08,803] Trial 63 finished with value: 3.98336217009379 and parameters: {'kernel': 'linear', 'degree': 1, 'gamma': 'auto', 'C': 61.383, 'epsilon': 3.838}. Best is trial 63 with value: 3.98336217009379.\n",
            "[I 2024-05-01 11:52:08,946] Trial 64 finished with value: 3.980449441034833 and parameters: {'kernel': 'linear', 'degree': 1, 'gamma': 'auto', 'C': 60.308, 'epsilon': 3.828}. Best is trial 64 with value: 3.980449441034833.\n",
            "[I 2024-05-01 11:52:09,056] Trial 65 finished with value: 5.315269574514097 and parameters: {'kernel': 'linear', 'degree': 1, 'gamma': 'auto', 'C': 59.881, 'epsilon': 13.012}. Best is trial 64 with value: 3.980449441034833.\n",
            "[I 2024-05-01 11:52:09,298] Trial 66 finished with value: 4.011753413376141 and parameters: {'kernel': 'linear', 'degree': 1, 'gamma': 'auto', 'C': 63.202999999999996, 'epsilon': 3.481}. Best is trial 64 with value: 3.980449441034833.\n",
            "[I 2024-05-01 11:52:09,388] Trial 67 finished with value: 4.124050429819744 and parameters: {'kernel': 'linear', 'degree': 1, 'gamma': 'auto', 'C': 62.742, 'epsilon': 4.453}. Best is trial 64 with value: 3.980449441034833.\n",
            "[I 2024-05-01 11:52:09,564] Trial 68 finished with value: 3.992491330726956 and parameters: {'kernel': 'linear', 'degree': 1, 'gamma': 'auto', 'C': 62.705999999999996, 'epsilon': 3.593}. Best is trial 64 with value: 3.980449441034833.\n",
            "[I 2024-05-01 11:52:09,697] Trial 69 finished with value: 4.002530303067601 and parameters: {'kernel': 'linear', 'degree': 1, 'gamma': 'auto', 'C': 57.659, 'epsilon': 3.522}. Best is trial 64 with value: 3.980449441034833.\n",
            "[I 2024-05-01 11:52:09,840] Trial 70 finished with value: 5.232606086630021 and parameters: {'kernel': 'linear', 'degree': 1, 'gamma': 'auto', 'C': 52.565, 'epsilon': 11.209}. Best is trial 64 with value: 3.980449441034833.\n",
            "[I 2024-05-01 11:52:10,005] Trial 71 finished with value: 4.136671751295671 and parameters: {'kernel': 'linear', 'degree': 3, 'gamma': 'auto', 'C': 52.04, 'epsilon': 4.143}. Best is trial 64 with value: 3.980449441034833.\n",
            "[I 2024-05-01 11:52:10,146] Trial 72 finished with value: 4.02406915684441 and parameters: {'kernel': 'linear', 'degree': 1, 'gamma': 'auto', 'C': 62.755, 'epsilon': 3.952}. Best is trial 64 with value: 3.980449441034833.\n",
            "[I 2024-05-01 11:52:10,335] Trial 73 finished with value: 4.301044750076354 and parameters: {'kernel': 'linear', 'degree': 3, 'gamma': 'auto', 'C': 63.248, 'epsilon': 2.8689999999999998}. Best is trial 64 with value: 3.980449441034833.\n",
            "[I 2024-05-01 11:52:10,486] Trial 74 finished with value: 4.110184374165383 and parameters: {'kernel': 'linear', 'degree': 3, 'gamma': 'auto', 'C': 62.253, 'epsilon': 3.2289999999999996}. Best is trial 64 with value: 3.980449441034833.\n",
            "[I 2024-05-01 11:52:10,642] Trial 75 finished with value: 5.218881177139344 and parameters: {'kernel': 'linear', 'degree': 1, 'gamma': 'auto', 'C': 56.330999999999996, 'epsilon': 10.85}. Best is trial 64 with value: 3.980449441034833.\n",
            "[I 2024-05-01 11:52:10,791] Trial 76 finished with value: 5.237625123516529 and parameters: {'kernel': 'linear', 'degree': 1, 'gamma': 'auto', 'C': 59.283, 'epsilon': 11.33}. Best is trial 64 with value: 3.980449441034833.\n",
            "[I 2024-05-01 11:52:10,941] Trial 77 finished with value: 5.3152695745140965 and parameters: {'kernel': 'linear', 'degree': 1, 'gamma': 'auto', 'C': 60.354, 'epsilon': 23.799000000000003}. Best is trial 64 with value: 3.980449441034833.\n",
            "[I 2024-05-01 11:52:11,105] Trial 78 finished with value: 5.3152695745140965 and parameters: {'kernel': 'linear', 'degree': 3, 'gamma': 'auto', 'C': 62.616, 'epsilon': 15.804}. Best is trial 64 with value: 3.980449441034833.\n",
            "[I 2024-05-01 11:52:11,242] Trial 79 finished with value: 5.315269574514097 and parameters: {'kernel': 'linear', 'degree': 3, 'gamma': 'auto', 'C': 63.134, 'epsilon': 18.315}. Best is trial 64 with value: 3.980449441034833.\n",
            "[I 2024-05-01 11:52:11,455] Trial 80 finished with value: 4.3276785487427665 and parameters: {'kernel': 'linear', 'degree': 2, 'gamma': 'auto', 'C': 57.234, 'epsilon': 2.784}. Best is trial 64 with value: 3.980449441034833.\n",
            "[I 2024-05-01 11:52:11,573] Trial 81 finished with value: 4.0257904767972095 and parameters: {'kernel': 'linear', 'degree': 2, 'gamma': 'auto', 'C': 57.908, 'epsilon': 3.377}. Best is trial 64 with value: 3.980449441034833.\n",
            "[I 2024-05-01 11:52:11,767] Trial 82 finished with value: 4.1783033400141605 and parameters: {'kernel': 'linear', 'degree': 1, 'gamma': 'auto', 'C': 52.129, 'epsilon': 3.1199999999999997}. Best is trial 64 with value: 3.980449441034833.\n",
            "[I 2024-05-01 11:52:11,901] Trial 83 finished with value: 4.18515072565412 and parameters: {'kernel': 'linear', 'degree': 1, 'gamma': 'auto', 'C': 55.002, 'epsilon': 3.0989999999999998}. Best is trial 64 with value: 3.980449441034833.\n",
            "[I 2024-05-01 11:52:12,056] Trial 84 finished with value: 5.195666080321503 and parameters: {'kernel': 'linear', 'degree': 1, 'gamma': 'auto', 'C': 54.734, 'epsilon': 10.13}. Best is trial 64 with value: 3.980449441034833.\n",
            "[I 2024-05-01 11:52:12,208] Trial 85 finished with value: 5.315269574514097 and parameters: {'kernel': 'linear', 'degree': 2, 'gamma': 'auto', 'C': 47.961999999999996, 'epsilon': 16.234}. Best is trial 64 with value: 3.980449441034833.\n",
            "[I 2024-05-01 11:52:12,363] Trial 86 finished with value: 5.283519226005688 and parameters: {'kernel': 'linear', 'degree': 2, 'gamma': 'auto', 'C': 47.996, 'epsilon': 12.28}. Best is trial 64 with value: 3.980449441034833.\n",
            "[I 2024-05-01 11:52:12,576] Trial 87 finished with value: 4.126822030756106 and parameters: {'kernel': 'linear', 'degree': 2, 'gamma': 'auto', 'C': 64.99000000000001, 'epsilon': 4.193}. Best is trial 64 with value: 3.980449441034833.\n",
            "[I 2024-05-01 11:52:12,687] Trial 88 finished with value: 4.1296013891656065 and parameters: {'kernel': 'linear', 'degree': 2, 'gamma': 'auto', 'C': 58.752, 'epsilon': 4.2909999999999995}. Best is trial 64 with value: 3.980449441034833.\n",
            "[I 2024-05-01 11:52:12,853] Trial 89 finished with value: 5.165324669379716 and parameters: {'kernel': 'linear', 'degree': 3, 'gamma': 'auto', 'C': 57.504, 'epsilon': 9.764}. Best is trial 64 with value: 3.980449441034833.\n",
            "[I 2024-05-01 11:52:12,997] Trial 90 finished with value: 5.168063910847669 and parameters: {'kernel': 'linear', 'degree': 3, 'gamma': 'auto', 'C': 61.804, 'epsilon': 9.784}. Best is trial 64 with value: 3.980449441034833.\n",
            "[I 2024-05-01 11:52:13,261] Trial 91 finished with value: 4.7162200032151 and parameters: {'kernel': 'linear', 'degree': 1, 'gamma': 'auto', 'C': 61.786, 'epsilon': 1.854}. Best is trial 64 with value: 3.980449441034833.\n",
            "[I 2024-05-01 11:52:13,322] Trial 92 finished with value: 4.761414707138262 and parameters: {'kernel': 'linear', 'degree': 1, 'gamma': 'auto', 'C': 66.83000000000001, 'epsilon': 1.2570000000000001}. Best is trial 64 with value: 3.980449441034833.\n",
            "[I 2024-05-01 11:52:13,561] Trial 93 finished with value: 4.212042164449529 and parameters: {'kernel': 'linear', 'degree': 2, 'gamma': 'auto', 'C': 65.82100000000001, 'epsilon': 5.069}. Best is trial 64 with value: 3.980449441034833.\n",
            "[I 2024-05-01 11:52:13,638] Trial 94 finished with value: 4.14305308593323 and parameters: {'kernel': 'linear', 'degree': 2, 'gamma': 'auto', 'C': 65.33000000000001, 'epsilon': 4.829}. Best is trial 64 with value: 3.980449441034833.\n",
            "[I 2024-05-01 11:52:13,916] Trial 96 finished with value: 5.315269574514097 and parameters: {'kernel': 'linear', 'degree': 1, 'gamma': 'auto', 'C': 50.933, 'epsilon': 13.556000000000001}. Best is trial 64 with value: 3.980449441034833.\n",
            "[I 2024-05-01 11:52:14,002] Trial 95 finished with value: 4.801031549084422 and parameters: {'kernel': 'linear', 'degree': 2, 'gamma': 'auto', 'C': 64.64500000000001, 'epsilon': 0.406}. Best is trial 64 with value: 3.980449441034833.\n",
            "[I 2024-05-01 11:52:14,139] Trial 97 finished with value: 4.986225805227356 and parameters: {'kernel': 'linear', 'degree': 2, 'gamma': 'auto', 'C': 64.32600000000001, 'epsilon': 8.827}. Best is trial 64 with value: 3.980449441034833.\n",
            "[I 2024-05-01 11:52:14,315] Trial 98 finished with value: 5.315269574514097 and parameters: {'kernel': 'linear', 'degree': 3, 'gamma': 'auto', 'C': 54.758, 'epsilon': 21.964000000000002}. Best is trial 64 with value: 3.980449441034833.\n",
            "[I 2024-05-01 11:52:14,424] Trial 99 finished with value: 5.315269574514097 and parameters: {'kernel': 'linear', 'degree': 3, 'gamma': 'auto', 'C': 58.558, 'epsilon': 25.973000000000003}. Best is trial 64 with value: 3.980449441034833.\n"
          ]
        }
      ]
    },
    {
      "cell_type": "markdown",
      "source": [
        "Lagring av resultater"
      ],
      "metadata": {
        "id": "UeK0ls2PSlHL"
      }
    },
    {
      "cell_type": "code",
      "source": [
        "res_1_design = pd.DataFrame(res.dict_res_1_design)\n",
        "res_1_design_opt = pd.DataFrame(res.dict_res_1_design_opt)\n",
        "\n",
        "res_1_design.to_csv('/content/drive/MyDrive/MasterV24/Bioco_data/Resultater/collagen/collagen_resultater_1_design.csv')\n",
        "res_1_design_opt.to_csv('/content/drive/MyDrive/MasterV24/Bioco_data/Resultater/collagen/collagen_resultater_1_design_opt.csv')"
      ],
      "metadata": {
        "id": "yiX1TwLLSlHM"
      },
      "execution_count": 25,
      "outputs": []
    },
    {
      "cell_type": "markdown",
      "source": [
        "Velger beste modell"
      ],
      "metadata": {
        "id": "gJda_0KjSlHM"
      }
    },
    {
      "cell_type": "code",
      "source": [],
      "metadata": {
        "id": "5M495MopSlHM"
      },
      "execution_count": null,
      "outputs": []
    },
    {
      "cell_type": "markdown",
      "source": [
        "## Alternativ 2: 20% Testsett og resteremde hele treningssett"
      ],
      "metadata": {
        "id": "MkYKDmvPSlHM"
      }
    },
    {
      "cell_type": "code",
      "source": [
        "# Deler datasettet i trening og testsett\n",
        "trening_markert, testsett, _, trening\\\n",
        "= trening_testsett_oppdeling_dag(rå_data,\n",
        "                                 data,\n",
        "                                 test_andel=test_andel,\n",
        "                                 test_ekskluder_kalkun_kylling=True)"
      ],
      "metadata": {
        "id": "cTrLKPYNSlHM"
      },
      "execution_count": 26,
      "outputs": []
    },
    {
      "cell_type": "code",
      "source": [
        "# Finner antall av enzymtype med minst antall\n",
        "n_splitt = n_splitt_enzym(rå_data,\n",
        "                          trening_markert)\n",
        "\n",
        "# Modelloptimalisering, trening og evaluering av RFR, KNR og SVR\n",
        "veiledet_modell_evaluering_2(dict_res_opt=res.dict_res_2_design_opt,\n",
        "                             dict_res=res.dict_res_2_design,\n",
        "                             rå_data=rå_data,\n",
        "                             treningssett_markert=trening_markert,\n",
        "                             testsett=testsett,\n",
        "                             n_splitt=n_splitt,\n",
        "                             n_runder=n_runder,\n",
        "                             test_andel=test_andel,\n",
        "                             trenings_andel=trenings_andel,\n",
        "                             random_seed=random_seed)"
      ],
      "metadata": {
        "colab": {
          "base_uri": "https://localhost:8080/"
        },
        "outputId": "4a8f3ad2-31b3-43bd-eca3-45a0c0f676d5",
        "id": "O8whKRqkSlHM"
      },
      "execution_count": 27,
      "outputs": [
        {
          "output_type": "stream",
          "name": "stderr",
          "text": [
            "[I 2024-05-01 11:52:22,932] A new study created in memory with name: no-name-01cc5f20-c957-4ac3-94fe-bf30ef58c14f\n",
            "[I 2024-05-01 11:52:23,661] Trial 0 finished with value: 4.220970528315588 and parameters: {'n_neighbors': 7, 'weights': 'distance', 'p': 7}. Best is trial 0 with value: 4.220970528315588.\n",
            "[I 2024-05-01 11:52:23,768] Trial 1 finished with value: 5.357815074321426 and parameters: {'n_neighbors': 20, 'weights': 'uniform', 'p': 6}. Best is trial 0 with value: 4.220970528315588.\n",
            "[I 2024-05-01 11:52:24,301] Trial 2 finished with value: 4.356868498617171 and parameters: {'n_neighbors': 14, 'weights': 'distance', 'p': 2}. Best is trial 0 with value: 4.220970528315588.\n",
            "[I 2024-05-01 11:52:24,565] Trial 3 finished with value: 4.23182741590401 and parameters: {'n_neighbors': 2, 'weights': 'distance', 'p': 1}. Best is trial 0 with value: 4.220970528315588.\n",
            "[I 2024-05-01 11:52:24,969] Trial 4 finished with value: 5.49884500250772 and parameters: {'n_neighbors': 19, 'weights': 'uniform', 'p': 9}. Best is trial 0 with value: 4.220970528315588.\n",
            "[I 2024-05-01 11:52:25,383] Trial 5 finished with value: 4.335989413551411 and parameters: {'n_neighbors': 6, 'weights': 'uniform', 'p': 3}. Best is trial 0 with value: 4.220970528315588.\n",
            "[I 2024-05-01 11:52:25,696] Trial 6 finished with value: 5.051504676524507 and parameters: {'n_neighbors': 14, 'weights': 'uniform', 'p': 10}. Best is trial 0 with value: 4.220970528315588.\n",
            "[I 2024-05-01 11:52:26,119] Trial 7 finished with value: 4.411353485573196 and parameters: {'n_neighbors': 2, 'weights': 'uniform', 'p': 9}. Best is trial 0 with value: 4.220970528315588.\n",
            "[I 2024-05-01 11:52:26,434] Trial 8 finished with value: 4.5055953701471445 and parameters: {'n_neighbors': 13, 'weights': 'uniform', 'p': 2}. Best is trial 0 with value: 4.220970528315588.\n",
            "[I 2024-05-01 11:52:26,964] Trial 9 finished with value: 5.176876850163021 and parameters: {'n_neighbors': 15, 'weights': 'uniform', 'p': 10}. Best is trial 0 with value: 4.220970528315588.\n",
            "[I 2024-05-01 11:52:27,127] Trial 10 finished with value: 4.506971349325891 and parameters: {'n_neighbors': 11, 'weights': 'distance', 'p': 6}. Best is trial 0 with value: 4.220970528315588.\n",
            "[I 2024-05-01 11:52:27,732] Trial 11 finished with value: 4.330376061610768 and parameters: {'n_neighbors': 8, 'weights': 'distance', 'p': 6}. Best is trial 0 with value: 4.220970528315588.\n",
            "[I 2024-05-01 11:52:27,973] Trial 12 finished with value: 4.280580493323397 and parameters: {'n_neighbors': 5, 'weights': 'distance', 'p': 4}. Best is trial 0 with value: 4.220970528315588.\n",
            "[I 2024-05-01 11:52:28,616] Trial 14 finished with value: 4.23182741590401 and parameters: {'n_neighbors': 2, 'weights': 'distance', 'p': 1}. Best is trial 0 with value: 4.220970528315588.\n",
            "[I 2024-05-01 11:52:28,619] Trial 13 finished with value: 4.980484728919906 and parameters: {'n_neighbors': 1, 'weights': 'distance', 'p': 4}. Best is trial 0 with value: 4.220970528315588.\n",
            "[I 2024-05-01 11:52:29,451] Trial 15 finished with value: 4.008943248440184 and parameters: {'n_neighbors': 5, 'weights': 'distance', 'p': 8}. Best is trial 15 with value: 4.008943248440184.\n",
            "[I 2024-05-01 11:52:29,575] Trial 16 finished with value: 4.008943248440184 and parameters: {'n_neighbors': 5, 'weights': 'distance', 'p': 8}. Best is trial 15 with value: 4.008943248440184.\n",
            "[I 2024-05-01 11:52:30,406] Trial 17 finished with value: 4.321567562184664 and parameters: {'n_neighbors': 8, 'weights': 'distance', 'p': 8}. Best is trial 15 with value: 4.008943248440184.\n",
            "[I 2024-05-01 11:52:30,500] Trial 18 finished with value: 4.420555698396332 and parameters: {'n_neighbors': 9, 'weights': 'distance', 'p': 8}. Best is trial 15 with value: 4.008943248440184.\n",
            "[I 2024-05-01 11:52:31,293] Trial 19 finished with value: 4.026066329511677 and parameters: {'n_neighbors': 4, 'weights': 'distance', 'p': 8}. Best is trial 15 with value: 4.008943248440184.\n",
            "[I 2024-05-01 11:52:31,392] Trial 20 finished with value: 4.026066329511677 and parameters: {'n_neighbors': 4, 'weights': 'distance', 'p': 8}. Best is trial 15 with value: 4.008943248440184.\n",
            "[I 2024-05-01 11:52:32,270] Trial 21 finished with value: 3.989313390203943 and parameters: {'n_neighbors': 4, 'weights': 'distance', 'p': 7}. Best is trial 21 with value: 3.989313390203943.\n",
            "[I 2024-05-01 11:52:32,341] Trial 22 finished with value: 4.050673578427384 and parameters: {'n_neighbors': 5, 'weights': 'distance', 'p': 7}. Best is trial 21 with value: 3.989313390203943.\n",
            "[I 2024-05-01 11:52:33,086] Trial 24 finished with value: 4.54390403296453 and parameters: {'n_neighbors': 11, 'weights': 'distance', 'p': 7}. Best is trial 21 with value: 3.989313390203943.\n",
            "[I 2024-05-01 11:52:33,090] Trial 23 finished with value: 3.989313390203943 and parameters: {'n_neighbors': 4, 'weights': 'distance', 'p': 7}. Best is trial 21 with value: 3.989313390203943.\n",
            "[I 2024-05-01 11:52:33,803] Trial 25 finished with value: 4.308109089198191 and parameters: {'n_neighbors': 3, 'weights': 'distance', 'p': 5}. Best is trial 21 with value: 3.989313390203943.\n",
            "[I 2024-05-01 11:52:33,891] Trial 26 finished with value: 4.308109089198191 and parameters: {'n_neighbors': 3, 'weights': 'distance', 'p': 5}. Best is trial 21 with value: 3.989313390203943.\n",
            "[I 2024-05-01 11:52:34,548] Trial 27 finished with value: 4.2813198440172595 and parameters: {'n_neighbors': 7, 'weights': 'distance', 'p': 9}. Best is trial 21 with value: 3.989313390203943.\n",
            "[I 2024-05-01 11:52:34,655] Trial 28 finished with value: 4.2813198440172595 and parameters: {'n_neighbors': 7, 'weights': 'distance', 'p': 9}. Best is trial 21 with value: 3.989313390203943.\n",
            "[I 2024-05-01 11:52:35,247] Trial 29 finished with value: 4.47172703846307 and parameters: {'n_neighbors': 10, 'weights': 'distance', 'p': 7}. Best is trial 21 with value: 3.989313390203943.\n",
            "[I 2024-05-01 11:52:35,578] Trial 30 finished with value: 4.47172703846307 and parameters: {'n_neighbors': 10, 'weights': 'distance', 'p': 7}. Best is trial 21 with value: 3.989313390203943.\n",
            "[I 2024-05-01 11:52:35,861] Trial 31 finished with value: 3.989313390203943 and parameters: {'n_neighbors': 4, 'weights': 'distance', 'p': 7}. Best is trial 21 with value: 3.989313390203943.\n",
            "[I 2024-05-01 11:52:36,376] Trial 32 finished with value: 4.050673578427384 and parameters: {'n_neighbors': 5, 'weights': 'distance', 'p': 7}. Best is trial 21 with value: 3.989313390203943.\n",
            "[I 2024-05-01 11:52:36,640] Trial 33 finished with value: 4.80875875665981 and parameters: {'n_neighbors': 1, 'weights': 'distance', 'p': 7}. Best is trial 21 with value: 3.989313390203943.\n",
            "[I 2024-05-01 11:52:37,093] Trial 34 finished with value: 4.844233485467133 and parameters: {'n_neighbors': 1, 'weights': 'distance', 'p': 6}. Best is trial 21 with value: 3.989313390203943.\n",
            "[I 2024-05-01 11:52:37,477] Trial 35 finished with value: 4.186379244787101 and parameters: {'n_neighbors': 3, 'weights': 'distance', 'p': 6}. Best is trial 21 with value: 3.989313390203943.\n",
            "[I 2024-05-01 11:52:37,905] Trial 36 finished with value: 4.272657118837746 and parameters: {'n_neighbors': 6, 'weights': 'distance', 'p': 5}. Best is trial 21 with value: 3.989313390203943.\n",
            "[I 2024-05-01 11:52:38,188] Trial 37 finished with value: 4.272657118837746 and parameters: {'n_neighbors': 6, 'weights': 'distance', 'p': 5}. Best is trial 21 with value: 3.989313390203943.\n",
            "[I 2024-05-01 11:52:38,728] Trial 38 finished with value: 5.349951353011246 and parameters: {'n_neighbors': 18, 'weights': 'uniform', 'p': 8}. Best is trial 21 with value: 3.989313390203943.\n",
            "[I 2024-05-01 11:52:39,019] Trial 39 finished with value: 4.0860860423716705 and parameters: {'n_neighbors': 4, 'weights': 'uniform', 'p': 8}. Best is trial 21 with value: 3.989313390203943.\n",
            "[I 2024-05-01 11:52:39,530] Trial 40 finished with value: 4.228640701001077 and parameters: {'n_neighbors': 3, 'weights': 'uniform', 'p': 10}. Best is trial 21 with value: 3.989313390203943.\n",
            "[I 2024-05-01 11:52:39,779] Trial 41 finished with value: 4.3655021790123225 and parameters: {'n_neighbors': 8, 'weights': 'distance', 'p': 10}. Best is trial 21 with value: 3.989313390203943.\n",
            "[I 2024-05-01 11:52:40,301] Trial 42 finished with value: 4.057272371255548 and parameters: {'n_neighbors': 5, 'weights': 'distance', 'p': 9}. Best is trial 21 with value: 3.989313390203943.\n",
            "[I 2024-05-01 11:52:40,681] Trial 43 finished with value: 4.057272371255548 and parameters: {'n_neighbors': 5, 'weights': 'distance', 'p': 9}. Best is trial 21 with value: 3.989313390203943.\n",
            "[I 2024-05-01 11:52:40,977] Trial 44 finished with value: 4.152678402975683 and parameters: {'n_neighbors': 6, 'weights': 'distance', 'p': 7}. Best is trial 21 with value: 3.989313390203943.\n",
            "[I 2024-05-01 11:52:41,388] Trial 45 finished with value: 4.152678402975683 and parameters: {'n_neighbors': 6, 'weights': 'distance', 'p': 7}. Best is trial 21 with value: 3.989313390203943.\n",
            "[I 2024-05-01 11:52:41,832] Trial 46 finished with value: 4.441512927965394 and parameters: {'n_neighbors': 2, 'weights': 'distance', 'p': 6}. Best is trial 21 with value: 3.989313390203943.\n",
            "[I 2024-05-01 11:52:42,088] Trial 47 finished with value: 4.441512927965394 and parameters: {'n_neighbors': 2, 'weights': 'distance', 'p': 6}. Best is trial 21 with value: 3.989313390203943.\n",
            "[I 2024-05-01 11:52:42,767] Trial 48 finished with value: 4.026066329511677 and parameters: {'n_neighbors': 4, 'weights': 'distance', 'p': 8}. Best is trial 21 with value: 3.989313390203943.\n",
            "[I 2024-05-01 11:52:43,094] Trial 49 finished with value: 4.0860860423716705 and parameters: {'n_neighbors': 4, 'weights': 'uniform', 'p': 8}. Best is trial 21 with value: 3.989313390203943.\n",
            "[I 2024-05-01 11:52:43,655] Trial 50 finished with value: 4.926799789494671 and parameters: {'n_neighbors': 12, 'weights': 'uniform', 'p': 8}. Best is trial 21 with value: 3.989313390203943.\n",
            "[I 2024-05-01 11:52:44,009] Trial 51 finished with value: 4.720146966924889 and parameters: {'n_neighbors': 13, 'weights': 'distance', 'p': 9}. Best is trial 21 with value: 3.989313390203943.\n",
            "[I 2024-05-01 11:52:44,569] Trial 52 finished with value: 3.9368074857545188 and parameters: {'n_neighbors': 4, 'weights': 'distance', 'p': 9}. Best is trial 52 with value: 3.9368074857545188.\n",
            "[I 2024-05-01 11:52:44,917] Trial 53 finished with value: 4.026066329511677 and parameters: {'n_neighbors': 4, 'weights': 'distance', 'p': 8}. Best is trial 52 with value: 3.9368074857545188.\n",
            "[I 2024-05-01 11:52:45,470] Trial 54 finished with value: 4.2813198440172595 and parameters: {'n_neighbors': 7, 'weights': 'distance', 'p': 9}. Best is trial 52 with value: 3.9368074857545188.\n",
            "[I 2024-05-01 11:52:45,893] Trial 55 finished with value: 4.2813198440172595 and parameters: {'n_neighbors': 7, 'weights': 'distance', 'p': 9}. Best is trial 52 with value: 3.9368074857545188.\n",
            "[I 2024-05-01 11:52:46,370] Trial 56 finished with value: 4.234619779835174 and parameters: {'n_neighbors': 3, 'weights': 'distance', 'p': 7}. Best is trial 52 with value: 3.9368074857545188.\n",
            "[I 2024-05-01 11:52:46,540] Trial 57 finished with value: 4.234619779835174 and parameters: {'n_neighbors': 3, 'weights': 'distance', 'p': 7}. Best is trial 52 with value: 3.9368074857545188.\n",
            "[I 2024-05-01 11:52:47,169] Trial 58 finished with value: 4.434188294592695 and parameters: {'n_neighbors': 9, 'weights': 'distance', 'p': 10}. Best is trial 52 with value: 3.9368074857545188.\n",
            "[I 2024-05-01 11:52:47,319] Trial 59 finished with value: 4.443247292820734 and parameters: {'n_neighbors': 2, 'weights': 'distance', 'p': 10}. Best is trial 52 with value: 3.9368074857545188.\n",
            "[I 2024-05-01 11:52:47,833] Trial 60 finished with value: 4.008943248440184 and parameters: {'n_neighbors': 5, 'weights': 'distance', 'p': 8}. Best is trial 52 with value: 3.9368074857545188.\n",
            "[I 2024-05-01 11:52:48,101] Trial 61 finished with value: 4.008943248440184 and parameters: {'n_neighbors': 5, 'weights': 'distance', 'p': 8}. Best is trial 52 with value: 3.9368074857545188.\n",
            "[I 2024-05-01 11:52:48,507] Trial 62 finished with value: 4.008943248440184 and parameters: {'n_neighbors': 5, 'weights': 'distance', 'p': 8}. Best is trial 52 with value: 3.9368074857545188.\n",
            "[I 2024-05-01 11:52:48,878] Trial 63 finished with value: 4.026066329511677 and parameters: {'n_neighbors': 4, 'weights': 'distance', 'p': 8}. Best is trial 52 with value: 3.9368074857545188.\n",
            "[I 2024-05-01 11:52:49,344] Trial 64 finished with value: 4.180679505178217 and parameters: {'n_neighbors': 6, 'weights': 'distance', 'p': 8}. Best is trial 52 with value: 3.9368074857545188.\n",
            "[I 2024-05-01 11:52:49,694] Trial 65 finished with value: 4.152678402975683 and parameters: {'n_neighbors': 6, 'weights': 'distance', 'p': 7}. Best is trial 52 with value: 3.9368074857545188.\n",
            "[I 2024-05-01 11:52:50,077] Trial 66 finished with value: 5.028583657144937 and parameters: {'n_neighbors': 17, 'weights': 'distance', 'p': 9}. Best is trial 52 with value: 3.9368074857545188.\n",
            "[I 2024-05-01 11:52:50,495] Trial 67 finished with value: 3.9368074857545188 and parameters: {'n_neighbors': 4, 'weights': 'distance', 'p': 9}. Best is trial 52 with value: 3.9368074857545188.\n",
            "[I 2024-05-01 11:52:50,791] Trial 68 finished with value: 4.441512927965394 and parameters: {'n_neighbors': 2, 'weights': 'distance', 'p': 6}. Best is trial 52 with value: 3.9368074857545188.\n",
            "[I 2024-05-01 11:52:51,266] Trial 69 finished with value: 5.0803798034308105 and parameters: {'n_neighbors': 1, 'weights': 'distance', 'p': 2}. Best is trial 52 with value: 3.9368074857545188.\n",
            "[I 2024-05-01 11:52:51,591] Trial 70 finished with value: 4.995657659295077 and parameters: {'n_neighbors': 1, 'weights': 'distance', 'p': 3}. Best is trial 52 with value: 3.9368074857545188.\n",
            "[I 2024-05-01 11:52:52,082] Trial 71 finished with value: 4.192028817416198 and parameters: {'n_neighbors': 3, 'weights': 'distance', 'p': 9}. Best is trial 52 with value: 3.9368074857545188.\n",
            "[I 2024-05-01 11:52:52,319] Trial 72 finished with value: 4.192028817416198 and parameters: {'n_neighbors': 3, 'weights': 'distance', 'p': 9}. Best is trial 52 with value: 3.9368074857545188.\n",
            "[I 2024-05-01 11:52:52,730] Trial 73 finished with value: 4.050673578427384 and parameters: {'n_neighbors': 5, 'weights': 'distance', 'p': 7}. Best is trial 52 with value: 3.9368074857545188.\n",
            "[I 2024-05-01 11:52:53,317] Trial 74 finished with value: 4.050673578427384 and parameters: {'n_neighbors': 5, 'weights': 'distance', 'p': 7}. Best is trial 52 with value: 3.9368074857545188.\n",
            "[I 2024-05-01 11:52:53,471] Trial 75 finished with value: 4.026066329511677 and parameters: {'n_neighbors': 4, 'weights': 'distance', 'p': 8}. Best is trial 52 with value: 3.9368074857545188.\n",
            "[I 2024-05-01 11:52:54,048] Trial 76 finished with value: 3.996162147654385 and parameters: {'n_neighbors': 4, 'weights': 'uniform', 'p': 9}. Best is trial 52 with value: 3.9368074857545188.\n",
            "[I 2024-05-01 11:52:54,239] Trial 77 finished with value: 4.44336295683188 and parameters: {'n_neighbors': 7, 'weights': 'uniform', 'p': 9}. Best is trial 52 with value: 3.9368074857545188.\n",
            "[I 2024-05-01 11:52:54,717] Trial 78 finished with value: 4.004712562401272 and parameters: {'n_neighbors': 4, 'weights': 'uniform', 'p': 10}. Best is trial 52 with value: 3.9368074857545188.\n",
            "[I 2024-05-01 11:52:55,023] Trial 79 finished with value: 4.004712562401272 and parameters: {'n_neighbors': 4, 'weights': 'uniform', 'p': 10}. Best is trial 52 with value: 3.9368074857545188.\n",
            "[I 2024-05-01 11:52:55,438] Trial 80 finished with value: 4.004712562401272 and parameters: {'n_neighbors': 4, 'weights': 'uniform', 'p': 10}. Best is trial 52 with value: 3.9368074857545188.\n",
            "[I 2024-05-01 11:52:55,902] Trial 81 finished with value: 4.004712562401272 and parameters: {'n_neighbors': 4, 'weights': 'uniform', 'p': 10}. Best is trial 52 with value: 3.9368074857545188.\n",
            "[I 2024-05-01 11:52:56,433] Trial 82 finished with value: 4.004712562401272 and parameters: {'n_neighbors': 4, 'weights': 'uniform', 'p': 10}. Best is trial 52 with value: 3.9368074857545188.\n",
            "[I 2024-05-01 11:52:56,826] Trial 83 finished with value: 4.228640701001077 and parameters: {'n_neighbors': 3, 'weights': 'uniform', 'p': 10}. Best is trial 52 with value: 3.9368074857545188.\n",
            "[I 2024-05-01 11:52:57,371] Trial 84 finished with value: 4.228640701001077 and parameters: {'n_neighbors': 3, 'weights': 'uniform', 'p': 10}. Best is trial 52 with value: 3.9368074857545188.\n",
            "[I 2024-05-01 11:52:57,777] Trial 85 finished with value: 4.228640701001077 and parameters: {'n_neighbors': 3, 'weights': 'uniform', 'p': 10}. Best is trial 52 with value: 3.9368074857545188.\n",
            "[I 2024-05-01 11:52:58,271] Trial 86 finished with value: 4.411353485573196 and parameters: {'n_neighbors': 2, 'weights': 'uniform', 'p': 10}. Best is trial 52 with value: 3.9368074857545188.\n",
            "[I 2024-05-01 11:52:58,666] Trial 87 finished with value: 4.004712562401272 and parameters: {'n_neighbors': 4, 'weights': 'uniform', 'p': 10}. Best is trial 52 with value: 3.9368074857545188.\n",
            "[I 2024-05-01 11:52:59,237] Trial 88 finished with value: 4.004712562401272 and parameters: {'n_neighbors': 4, 'weights': 'uniform', 'p': 10}. Best is trial 52 with value: 3.9368074857545188.\n",
            "[I 2024-05-01 11:52:59,586] Trial 89 finished with value: 4.324558026314936 and parameters: {'n_neighbors': 6, 'weights': 'uniform', 'p': 9}. Best is trial 52 with value: 3.9368074857545188.\n",
            "[I 2024-05-01 11:52:59,863] Trial 90 finished with value: 4.324558026314936 and parameters: {'n_neighbors': 6, 'weights': 'uniform', 'p': 9}. Best is trial 52 with value: 3.9368074857545188.\n",
            "[I 2024-05-01 11:53:00,289] Trial 91 finished with value: 4.411353485573196 and parameters: {'n_neighbors': 2, 'weights': 'uniform', 'p': 9}. Best is trial 52 with value: 3.9368074857545188.\n",
            "[I 2024-05-01 11:53:00,691] Trial 92 finished with value: 4.004712562401272 and parameters: {'n_neighbors': 4, 'weights': 'uniform', 'p': 10}. Best is trial 52 with value: 3.9368074857545188.\n",
            "[I 2024-05-01 11:53:01,039] Trial 93 finished with value: 4.004712562401272 and parameters: {'n_neighbors': 4, 'weights': 'uniform', 'p': 10}. Best is trial 52 with value: 3.9368074857545188.\n",
            "[I 2024-05-01 11:53:01,609] Trial 94 finished with value: 4.004712562401272 and parameters: {'n_neighbors': 4, 'weights': 'uniform', 'p': 10}. Best is trial 52 with value: 3.9368074857545188.\n",
            "[I 2024-05-01 11:53:01,824] Trial 95 finished with value: 4.197744940666485 and parameters: {'n_neighbors': 5, 'weights': 'uniform', 'p': 10}. Best is trial 52 with value: 3.9368074857545188.\n",
            "[I 2024-05-01 11:53:02,330] Trial 96 finished with value: 4.228640701001077 and parameters: {'n_neighbors': 3, 'weights': 'uniform', 'p': 10}. Best is trial 52 with value: 3.9368074857545188.\n",
            "[I 2024-05-01 11:53:02,615] Trial 97 finished with value: 4.219964122809138 and parameters: {'n_neighbors': 3, 'weights': 'uniform', 'p': 4}. Best is trial 52 with value: 3.9368074857545188.\n",
            "[I 2024-05-01 11:53:03,107] Trial 98 finished with value: 4.411353485573196 and parameters: {'n_neighbors': 2, 'weights': 'uniform', 'p': 9}. Best is trial 52 with value: 3.9368074857545188.\n",
            "[I 2024-05-01 11:53:03,307] Trial 99 finished with value: 4.188224309830156 and parameters: {'n_neighbors': 5, 'weights': 'uniform', 'p': 9}. Best is trial 52 with value: 3.9368074857545188.\n",
            "[I 2024-05-01 11:53:03,326] A new study created in memory with name: no-name-46341a67-f74c-4697-abb7-473cb2e393fc\n",
            "[I 2024-05-01 11:53:05,007] Trial 1 finished with value: 3.7974669657750475 and parameters: {'n_estimators': 116, 'criterion': 'friedman_mse', 'max_depth': 27, 'min_samples_leaf': 5, 'max_features': 0.763}. Best is trial 1 with value: 3.7974669657750475.\n",
            "[I 2024-05-01 11:53:07,175] Trial 0 finished with value: 4.420288963884991 and parameters: {'n_estimators': 414, 'criterion': 'absolute_error', 'max_depth': 6, 'min_samples_leaf': 3, 'max_features': 0.15000000000000002}. Best is trial 1 with value: 3.7974669657750475.\n",
            "[I 2024-05-01 11:53:08,500] Trial 2 finished with value: 3.6287271363029667 and parameters: {'n_estimators': 181, 'criterion': 'absolute_error', 'max_depth': 12, 'min_samples_leaf': 1, 'max_features': 0.97}. Best is trial 2 with value: 3.6287271363029667.\n",
            "[I 2024-05-01 11:53:10,949] Trial 3 finished with value: 3.6252799713090833 and parameters: {'n_estimators': 408, 'criterion': 'squared_error', 'max_depth': 8, 'min_samples_leaf': 2, 'max_features': 0.689}. Best is trial 3 with value: 3.6252799713090833.\n",
            "[I 2024-05-01 11:53:13,024] Trial 4 finished with value: 3.853125533311004 and parameters: {'n_estimators': 461, 'criterion': 'squared_error', 'max_depth': 4, 'min_samples_leaf': 1, 'max_features': 0.317}. Best is trial 3 with value: 3.6252799713090833.\n",
            "[I 2024-05-01 11:53:14,645] Trial 5 finished with value: 3.66865443572875 and parameters: {'n_estimators': 199, 'criterion': 'absolute_error', 'max_depth': 11, 'min_samples_leaf': 2, 'max_features': 0.895}. Best is trial 3 with value: 3.6252799713090833.\n",
            "[I 2024-05-01 11:53:15,970] Trial 6 finished with value: 3.8027718346879436 and parameters: {'n_estimators': 236, 'criterion': 'absolute_error', 'max_depth': 4, 'min_samples_leaf': 2, 'max_features': 0.471}. Best is trial 3 with value: 3.6252799713090833.\n",
            "[I 2024-05-01 11:53:17,011] Trial 7 finished with value: 3.7522704082018556 and parameters: {'n_estimators': 236, 'criterion': 'friedman_mse', 'max_depth': 19, 'min_samples_leaf': 5, 'max_features': 0.71}. Best is trial 3 with value: 3.6252799713090833.\n",
            "[I 2024-05-01 11:53:18,308] Trial 8 finished with value: 4.797890943344591 and parameters: {'n_estimators': 209, 'criterion': 'absolute_error', 'max_depth': 1, 'min_samples_leaf': 1, 'max_features': 0.366}. Best is trial 3 with value: 3.6252799713090833.\n",
            "[I 2024-05-01 11:53:19,778] Trial 10 finished with value: 3.8012869416221777 and parameters: {'n_estimators': 126, 'criterion': 'friedman_mse', 'max_depth': 12, 'min_samples_leaf': 4, 'max_features': 0.358}. Best is trial 3 with value: 3.6252799713090833.\n",
            "[I 2024-05-01 11:53:21,428] Trial 9 finished with value: 3.5692749133069555 and parameters: {'n_estimators': 402, 'criterion': 'poisson', 'max_depth': 16, 'min_samples_leaf': 3, 'max_features': 0.88}. Best is trial 9 with value: 3.5692749133069555.\n",
            "[I 2024-05-01 11:53:23,299] Trial 11 finished with value: 3.6501075381773544 and parameters: {'n_estimators': 368, 'criterion': 'squared_error', 'max_depth': 21, 'min_samples_leaf': 3, 'max_features': 0.64}. Best is trial 9 with value: 3.5692749133069555.\n",
            "[I 2024-05-01 11:53:25,106] Trial 12 finished with value: 3.6075154959933244 and parameters: {'n_estimators': 372, 'criterion': 'poisson', 'max_depth': 20, 'min_samples_leaf': 3, 'max_features': 0.699}. Best is trial 9 with value: 3.5692749133069555.\n",
            "[I 2024-05-01 11:53:27,498] Trial 13 finished with value: 3.52700273315306 and parameters: {'n_estimators': 330, 'criterion': 'poisson', 'max_depth': 17, 'min_samples_leaf': 2, 'max_features': 0.855}. Best is trial 13 with value: 3.52700273315306.\n",
            "[I 2024-05-01 11:53:29,302] Trial 14 finished with value: 3.6145163010861854 and parameters: {'n_estimators': 322, 'criterion': 'poisson', 'max_depth': 24, 'min_samples_leaf': 4, 'max_features': 0.822}. Best is trial 13 with value: 3.52700273315306.\n",
            "[I 2024-05-01 11:53:30,738] Trial 15 finished with value: 3.598175815623501 and parameters: {'n_estimators': 305, 'criterion': 'poisson', 'max_depth': 26, 'min_samples_leaf': 4, 'max_features': 0.859}. Best is trial 13 with value: 3.52700273315306.\n",
            "[I 2024-05-01 11:53:32,372] Trial 16 finished with value: 3.6042688258969027 and parameters: {'n_estimators': 291, 'criterion': 'poisson', 'max_depth': 16, 'min_samples_leaf': 4, 'max_features': 0.997}. Best is trial 13 with value: 3.52700273315306.\n",
            "[I 2024-05-01 11:53:35,585] Trial 17 finished with value: 3.5147795031038713 and parameters: {'n_estimators': 469, 'criterion': 'poisson', 'max_depth': 16, 'min_samples_leaf': 2, 'max_features': 0.988}. Best is trial 17 with value: 3.5147795031038713.\n",
            "[I 2024-05-01 11:53:37,119] Trial 18 finished with value: 3.5952976367111003 and parameters: {'n_estimators': 498, 'criterion': 'poisson', 'max_depth': 30, 'min_samples_leaf': 2, 'max_features': 0.553}. Best is trial 17 with value: 3.5147795031038713.\n",
            "[I 2024-05-01 11:53:40,090] Trial 19 finished with value: 3.596036145263465 and parameters: {'n_estimators': 447, 'criterion': 'poisson', 'max_depth': 23, 'min_samples_leaf': 2, 'max_features': 0.559}. Best is trial 17 with value: 3.5147795031038713.\n",
            "[I 2024-05-01 11:53:43,461] Trial 20 finished with value: 3.52299545380104 and parameters: {'n_estimators': 461, 'criterion': 'poisson', 'max_depth': 14, 'min_samples_leaf': 2, 'max_features': 1.0}. Best is trial 17 with value: 3.5147795031038713.\n",
            "[I 2024-05-01 11:53:46,863] Trial 21 finished with value: 3.516420977265006 and parameters: {'n_estimators': 496, 'criterion': 'poisson', 'max_depth': 18, 'min_samples_leaf': 1, 'max_features': 0.96}. Best is trial 17 with value: 3.5147795031038713.\n",
            "[I 2024-05-01 11:53:48,035] Trial 22 finished with value: 3.5155107258531113 and parameters: {'n_estimators': 499, 'criterion': 'poisson', 'max_depth': 14, 'min_samples_leaf': 2, 'max_features': 0.95}. Best is trial 17 with value: 3.5147795031038713.\n",
            "[I 2024-05-01 11:53:51,527] Trial 23 finished with value: 3.516087902199769 and parameters: {'n_estimators': 482, 'criterion': 'poisson', 'max_depth': 13, 'min_samples_leaf': 1, 'max_features': 0.974}. Best is trial 17 with value: 3.5147795031038713.\n",
            "[I 2024-05-01 11:53:52,458] Trial 24 finished with value: 3.5145597609622623 and parameters: {'n_estimators': 500, 'criterion': 'poisson', 'max_depth': 9, 'min_samples_leaf': 1, 'max_features': 0.926}. Best is trial 24 with value: 3.5145597609622623.\n",
            "[I 2024-05-01 11:53:56,663] Trial 25 finished with value: 3.5355794654157524 and parameters: {'n_estimators': 442, 'criterion': 'poisson', 'max_depth': 9, 'min_samples_leaf': 1, 'max_features': 0.8}. Best is trial 24 with value: 3.5145597609622623.\n",
            "[I 2024-05-01 11:53:58,034] Trial 26 finished with value: 3.536124879167751 and parameters: {'n_estimators': 439, 'criterion': 'poisson', 'max_depth': 9, 'min_samples_leaf': 1, 'max_features': 0.793}. Best is trial 24 with value: 3.5145597609622623.\n",
            "[I 2024-05-01 11:54:00,729] Trial 27 finished with value: 3.5220988420044006 and parameters: {'n_estimators': 427, 'criterion': 'poisson', 'max_depth': 9, 'min_samples_leaf': 2, 'max_features': 0.905}. Best is trial 24 with value: 3.5145597609622623.\n",
            "[I 2024-05-01 11:54:02,780] Trial 28 finished with value: 3.5158919226371768 and parameters: {'n_estimators': 476, 'criterion': 'poisson', 'max_depth': 14, 'min_samples_leaf': 2, 'max_features': 0.9329999999999999}. Best is trial 24 with value: 3.5145597609622623.\n",
            "[I 2024-05-01 11:54:05,581] Trial 29 finished with value: 3.5483359597950956 and parameters: {'n_estimators': 474, 'criterion': 'friedman_mse', 'max_depth': 14, 'min_samples_leaf': 2, 'max_features': 0.9339999999999999}. Best is trial 24 with value: 3.5145597609622623.\n",
            "[I 2024-05-01 11:54:06,072] Trial 30 finished with value: 3.6799815077926046 and parameters: {'n_estimators': 379, 'criterion': 'friedman_mse', 'max_depth': 7, 'min_samples_leaf': 3, 'max_features': 0.612}. Best is trial 24 with value: 3.5145597609622623.\n",
            "[I 2024-05-01 11:54:09,614] Trial 31 finished with value: 3.649668822261862 and parameters: {'n_estimators': 377, 'criterion': 'squared_error', 'max_depth': 6, 'min_samples_leaf': 3, 'max_features': 0.617}. Best is trial 24 with value: 3.5145597609622623.\n",
            "[I 2024-05-01 11:54:12,464] Trial 32 finished with value: 3.5214674800934365 and parameters: {'n_estimators': 498, 'criterion': 'poisson', 'max_depth': 14, 'min_samples_leaf': 2, 'max_features': 0.914}. Best is trial 24 with value: 3.5145597609622623.\n",
            "[I 2024-05-01 11:54:13,960] Trial 33 finished with value: 4.016126897422413 and parameters: {'n_estimators': 496, 'criterion': 'poisson', 'max_depth': 11, 'min_samples_leaf': 2, 'max_features': 0.183}. Best is trial 24 with value: 3.5145597609622623.\n",
            "[I 2024-05-01 11:54:17,221] Trial 34 finished with value: 3.5504095278019747 and parameters: {'n_estimators': 472, 'criterion': 'poisson', 'max_depth': 11, 'min_samples_leaf': 1, 'max_features': 0.757}. Best is trial 24 with value: 3.5145597609622623.\n",
            "[I 2024-05-01 11:54:18,080] Trial 35 finished with value: 3.5494645422668247 and parameters: {'n_estimators': 409, 'criterion': 'poisson', 'max_depth': 15, 'min_samples_leaf': 1, 'max_features': 0.748}. Best is trial 24 with value: 3.5145597609622623.\n",
            "[I 2024-05-01 11:54:22,098] Trial 36 finished with value: 3.5262431565391417 and parameters: {'n_estimators': 413, 'criterion': 'poisson', 'max_depth': 16, 'min_samples_leaf': 1, 'max_features': 0.842}. Best is trial 24 with value: 3.5145597609622623.\n",
            "[I 2024-05-01 11:54:23,505] Trial 37 finished with value: 3.5657827665862323 and parameters: {'n_estimators': 454, 'criterion': 'squared_error', 'max_depth': 17, 'min_samples_leaf': 3, 'max_features': 0.931}. Best is trial 24 with value: 3.5145597609622623.\n",
            "[I 2024-05-01 11:54:28,184] Trial 39 finished with value: 4.313977147785862 and parameters: {'n_estimators': 474, 'criterion': 'absolute_error', 'max_depth': 12, 'min_samples_leaf': 2, 'max_features': 0.1}. Best is trial 24 with value: 3.5145597609622623.\n",
            "[I 2024-05-01 11:54:28,920] Trial 38 finished with value: 3.7089768134947065 and parameters: {'n_estimators': 453, 'criterion': 'absolute_error', 'max_depth': 4, 'min_samples_leaf': 2, 'max_features': 0.932}. Best is trial 24 with value: 3.5145597609622623.\n",
            "[I 2024-05-01 11:54:32,625] Trial 40 finished with value: 3.9058202949687724 and parameters: {'n_estimators': 430, 'criterion': 'absolute_error', 'max_depth': 3, 'min_samples_leaf': 2, 'max_features': 0.46499999999999997}. Best is trial 24 with value: 3.5145597609622623.\n",
            "[I 2024-05-01 11:54:32,709] Trial 41 finished with value: 3.557396837223364 and parameters: {'n_estimators': 435, 'criterion': 'poisson', 'max_depth': 19, 'min_samples_leaf': 1, 'max_features': 0.88}. Best is trial 24 with value: 3.5145597609622623.\n",
            "[I 2024-05-01 11:54:37,753] Trial 42 finished with value: 3.51524272158592 and parameters: {'n_estimators': 478, 'criterion': 'poisson', 'max_depth': 12, 'min_samples_leaf': 1, 'max_features': 0.965}. Best is trial 24 with value: 3.5145597609622623.\n",
            "[I 2024-05-01 11:54:39,160] Trial 43 finished with value: 3.516087902199769 and parameters: {'n_estimators': 482, 'criterion': 'poisson', 'max_depth': 13, 'min_samples_leaf': 1, 'max_features': 0.98}. Best is trial 24 with value: 3.5145597609622623.\n",
            "[I 2024-05-01 11:54:42,442] Trial 44 finished with value: 3.5192958692339547 and parameters: {'n_estimators': 474, 'criterion': 'poisson', 'max_depth': 10, 'min_samples_leaf': 1, 'max_features': 0.956}. Best is trial 24 with value: 3.5145597609622623.\n",
            "[I 2024-05-01 11:54:43,218] Trial 45 finished with value: 3.5165864494956907 and parameters: {'n_estimators': 396, 'criterion': 'poisson', 'max_depth': 10, 'min_samples_leaf': 1, 'max_features': 0.951}. Best is trial 24 with value: 3.5145597609622623.\n",
            "[I 2024-05-01 11:54:46,797] Trial 46 finished with value: 3.5909305692549136 and parameters: {'n_estimators': 390, 'criterion': 'squared_error', 'max_depth': 15, 'min_samples_leaf': 1, 'max_features': 0.905}. Best is trial 24 with value: 3.5145597609622623.\n",
            "[I 2024-05-01 11:54:47,079] Trial 47 finished with value: 3.5670979895471318 and parameters: {'n_estimators': 460, 'criterion': 'friedman_mse', 'max_depth': 7, 'min_samples_leaf': 2, 'max_features': 0.882}. Best is trial 24 with value: 3.5145597609622623.\n",
            "[I 2024-05-01 11:54:48,690] Trial 48 finished with value: 3.663578265805884 and parameters: {'n_estimators': 103, 'criterion': 'friedman_mse', 'max_depth': 7, 'min_samples_leaf': 2, 'max_features': 0.826}. Best is trial 24 with value: 3.5145597609622623.\n",
            "[I 2024-05-01 11:54:49,575] Trial 49 finished with value: 3.694269086434044 and parameters: {'n_estimators': 162, 'criterion': 'poisson', 'max_depth': 12, 'min_samples_leaf': 5, 'max_features': 0.792}. Best is trial 24 with value: 3.5145597609622623.\n",
            "[I 2024-05-01 11:54:52,700] Trial 50 finished with value: 3.604562579402039 and parameters: {'n_estimators': 356, 'criterion': 'poisson', 'max_depth': 18, 'min_samples_leaf': 3, 'max_features': 0.718}. Best is trial 24 with value: 3.5145597609622623.\n",
            "[I 2024-05-01 11:54:53,898] Trial 51 finished with value: 3.5455827171638 and parameters: {'n_estimators': 352, 'criterion': 'poisson', 'max_depth': 18, 'min_samples_leaf': 3, 'max_features': 1.0}. Best is trial 24 with value: 3.5145597609622623.\n",
            "[I 2024-05-01 11:54:57,862] Trial 52 finished with value: 3.5152486686558637 and parameters: {'n_estimators': 485, 'criterion': 'poisson', 'max_depth': 13, 'min_samples_leaf': 1, 'max_features': 0.979}. Best is trial 24 with value: 3.5145597609622623.\n",
            "[I 2024-05-01 11:54:58,979] Trial 53 finished with value: 3.517026425711252 and parameters: {'n_estimators': 483, 'criterion': 'poisson', 'max_depth': 13, 'min_samples_leaf': 1, 'max_features': 0.97}. Best is trial 24 with value: 3.5145597609622623.\n",
            "[I 2024-05-01 11:55:00,988] Trial 54 finished with value: 3.5556469909360904 and parameters: {'n_estimators': 266, 'criterion': 'poisson', 'max_depth': 13, 'min_samples_leaf': 1, 'max_features': 0.868}. Best is trial 24 with value: 3.5145597609622623.\n",
            "[I 2024-05-01 11:55:01,684] Trial 55 finished with value: 3.5520055328541966 and parameters: {'n_estimators': 261, 'criterion': 'poisson', 'max_depth': 22, 'min_samples_leaf': 1, 'max_features': 0.852}. Best is trial 24 with value: 3.5145597609622623.\n",
            "[I 2024-05-01 11:55:06,289] Trial 56 finished with value: 3.523769811120177 and parameters: {'n_estimators': 461, 'criterion': 'poisson', 'max_depth': 15, 'min_samples_leaf': 2, 'max_features': 0.902}. Best is trial 24 with value: 3.5145597609622623.\n",
            "[I 2024-05-01 11:55:07,095] Trial 57 finished with value: 3.513085374392989 and parameters: {'n_estimators': 425, 'criterion': 'poisson', 'max_depth': 15, 'min_samples_leaf': 2, 'max_features': 0.9369999999999999}. Best is trial 57 with value: 3.513085374392989.\n",
            "[I 2024-05-01 11:55:10,544] Trial 58 finished with value: 3.514834922187933 and parameters: {'n_estimators': 418, 'criterion': 'poisson', 'max_depth': 11, 'min_samples_leaf': 2, 'max_features': 0.946}. Best is trial 57 with value: 3.513085374392989.\n",
            "[I 2024-05-01 11:55:11,464] Trial 59 finished with value: 3.667812227271673 and parameters: {'n_estimators': 421, 'criterion': 'poisson', 'max_depth': 20, 'min_samples_leaf': 1, 'max_features': 0.45799999999999996}. Best is trial 57 with value: 3.513085374392989.\n",
            "[I 2024-05-01 11:55:14,022] Trial 60 finished with value: 3.743006797136175 and parameters: {'n_estimators': 421, 'criterion': 'squared_error', 'max_depth': 10, 'min_samples_leaf': 1, 'max_features': 0.259}. Best is trial 57 with value: 3.513085374392989.\n",
            "[I 2024-05-01 11:55:17,555] Trial 61 finished with value: 3.612689375817432 and parameters: {'n_estimators': 450, 'criterion': 'absolute_error', 'max_depth': 10, 'min_samples_leaf': 1, 'max_features': 0.818}. Best is trial 57 with value: 3.513085374392989.\n",
            "[I 2024-05-01 11:55:19,884] Trial 62 finished with value: 3.5164302071254876 and parameters: {'n_estimators': 492, 'criterion': 'poisson', 'max_depth': 12, 'min_samples_leaf': 2, 'max_features': 0.965}. Best is trial 57 with value: 3.513085374392989.\n",
            "[I 2024-05-01 11:55:22,574] Trial 63 finished with value: 3.5153139710409107 and parameters: {'n_estimators': 500, 'criterion': 'poisson', 'max_depth': 17, 'min_samples_leaf': 2, 'max_features': 0.973}. Best is trial 57 with value: 3.513085374392989.\n",
            "[I 2024-05-01 11:55:24,329] Trial 64 finished with value: 3.518540873796682 and parameters: {'n_estimators': 444, 'criterion': 'poisson', 'max_depth': 17, 'min_samples_leaf': 2, 'max_features': 1.0}. Best is trial 57 with value: 3.513085374392989.\n",
            "[I 2024-05-01 11:55:27,108] Trial 65 finished with value: 3.513950043746716 and parameters: {'n_estimators': 463, 'criterion': 'poisson', 'max_depth': 17, 'min_samples_leaf': 2, 'max_features': 0.989}. Best is trial 57 with value: 3.513085374392989.\n",
            "[I 2024-05-01 11:55:29,061] Trial 66 finished with value: 3.5231321582155295 and parameters: {'n_estimators': 466, 'criterion': 'poisson', 'max_depth': 8, 'min_samples_leaf': 2, 'max_features': 0.919}. Best is trial 57 with value: 3.513085374392989.\n",
            "[I 2024-05-01 11:55:31,848] Trial 67 finished with value: 3.561432433937097 and parameters: {'n_estimators': 464, 'criterion': 'poisson', 'max_depth': 16, 'min_samples_leaf': 3, 'max_features': 0.916}. Best is trial 57 with value: 3.513085374392989.\n",
            "[I 2024-05-01 11:55:34,982] Trial 68 finished with value: 3.5629370152820896 and parameters: {'n_estimators': 486, 'criterion': 'poisson', 'max_depth': 16, 'min_samples_leaf': 3, 'max_features': 0.886}. Best is trial 57 with value: 3.513085374392989.\n",
            "[I 2024-05-01 11:55:36,332] Trial 69 finished with value: 3.6051390450817427 and parameters: {'n_estimators': 486, 'criterion': 'poisson', 'max_depth': 11, 'min_samples_leaf': 4, 'max_features': 0.884}. Best is trial 57 with value: 3.513085374392989.\n",
            "[I 2024-05-01 11:55:39,881] Trial 70 finished with value: 3.5132597028178716 and parameters: {'n_estimators': 437, 'criterion': 'poisson', 'max_depth': 11, 'min_samples_leaf': 1, 'max_features': 0.981}. Best is trial 57 with value: 3.513085374392989.\n",
            "[I 2024-05-01 11:55:40,005] Trial 71 finished with value: 3.513984544738082 and parameters: {'n_estimators': 437, 'criterion': 'poisson', 'max_depth': 14, 'min_samples_leaf': 2, 'max_features': 0.942}. Best is trial 57 with value: 3.513085374392989.\n",
            "[I 2024-05-01 11:55:44,925] Trial 73 finished with value: 3.5123798939773776 and parameters: {'n_estimators': 436, 'criterion': 'poisson', 'max_depth': 8, 'min_samples_leaf': 2, 'max_features': 0.944}. Best is trial 73 with value: 3.5123798939773776.\n",
            "[I 2024-05-01 11:55:44,996] Trial 72 finished with value: 3.51600264657152 and parameters: {'n_estimators': 440, 'criterion': 'poisson', 'max_depth': 8, 'min_samples_leaf': 1, 'max_features': 0.945}. Best is trial 73 with value: 3.5123798939773776.\n",
            "[I 2024-05-01 11:55:48,928] Trial 75 finished with value: 3.5262283524460276 and parameters: {'n_estimators': 402, 'criterion': 'poisson', 'max_depth': 9, 'min_samples_leaf': 2, 'max_features': 0.85}. Best is trial 73 with value: 3.5123798939773776.\n",
            "[I 2024-05-01 11:55:48,961] Trial 74 finished with value: 3.5176204407813625 and parameters: {'n_estimators': 401, 'criterion': 'poisson', 'max_depth': 8, 'min_samples_leaf': 2, 'max_features': 0.932}. Best is trial 73 with value: 3.5123798939773776.\n",
            "[I 2024-05-01 11:55:53,151] Trial 77 finished with value: 3.560676924099889 and parameters: {'n_estimators': 428, 'criterion': 'friedman_mse', 'max_depth': 15, 'min_samples_leaf': 2, 'max_features': 1.0}. Best is trial 73 with value: 3.5123798939773776.\n",
            "[I 2024-05-01 11:55:53,184] Trial 76 finished with value: 3.511490502044772 and parameters: {'n_estimators': 425, 'criterion': 'poisson', 'max_depth': 6, 'min_samples_leaf': 2, 'max_features': 0.998}. Best is trial 76 with value: 3.511490502044772.\n",
            "[I 2024-05-01 11:55:57,564] Trial 79 finished with value: 4.144597047291134 and parameters: {'n_estimators': 435, 'criterion': 'squared_error', 'max_depth': 2, 'min_samples_leaf': 2, 'max_features': 0.42000000000000004}. Best is trial 76 with value: 3.511490502044772.\n",
            "[I 2024-05-01 11:55:57,747] Trial 78 finished with value: 3.529994340342554 and parameters: {'n_estimators': 388, 'criterion': 'poisson', 'max_depth': 6, 'min_samples_leaf': 2, 'max_features': 0.909}. Best is trial 76 with value: 3.511490502044772.\n",
            "[I 2024-05-01 11:56:01,657] Trial 80 finished with value: 3.52746882743488 and parameters: {'n_estimators': 451, 'criterion': 'poisson', 'max_depth': 6, 'min_samples_leaf': 2, 'max_features': 0.919}. Best is trial 76 with value: 3.511490502044772.\n",
            "[I 2024-05-01 11:56:04,128] Trial 81 finished with value: 3.7138783719539603 and parameters: {'n_estimators': 450, 'criterion': 'absolute_error', 'max_depth': 4, 'min_samples_leaf': 2, 'max_features': 0.979}. Best is trial 76 with value: 3.511490502044772.\n",
            "[I 2024-05-01 11:56:05,321] Trial 82 finished with value: 3.5183278683297443 and parameters: {'n_estimators': 414, 'criterion': 'poisson', 'max_depth': 5, 'min_samples_leaf': 2, 'max_features': 0.949}. Best is trial 76 with value: 3.511490502044772.\n",
            "[I 2024-05-01 11:56:08,371] Trial 83 finished with value: 3.514834922187933 and parameters: {'n_estimators': 418, 'criterion': 'poisson', 'max_depth': 19, 'min_samples_leaf': 2, 'max_features': 0.944}. Best is trial 76 with value: 3.511490502044772.\n",
            "[I 2024-05-01 11:56:09,171] Trial 84 finished with value: 3.5137263206934444 and parameters: {'n_estimators': 419, 'criterion': 'poisson', 'max_depth': 9, 'min_samples_leaf': 2, 'max_features': 0.944}. Best is trial 76 with value: 3.511490502044772.\n",
            "[I 2024-05-01 11:56:13,631] Trial 85 finished with value: 3.54833799058948 and parameters: {'n_estimators': 427, 'criterion': 'poisson', 'max_depth': 11, 'min_samples_leaf': 3, 'max_features': 0.981}. Best is trial 76 with value: 3.511490502044772.\n",
            "[I 2024-05-01 11:56:14,482] Trial 86 finished with value: 3.5418717681837766 and parameters: {'n_estimators': 440, 'criterion': 'poisson', 'max_depth': 8, 'min_samples_leaf': 3, 'max_features': 0.982}. Best is trial 76 with value: 3.511490502044772.\n",
            "[I 2024-05-01 11:56:17,583] Trial 87 finished with value: 3.5211816104253986 and parameters: {'n_estimators': 366, 'criterion': 'poisson', 'max_depth': 7, 'min_samples_leaf': 2, 'max_features': 0.866}. Best is trial 76 with value: 3.511490502044772.\n",
            "[I 2024-05-01 11:56:19,008] Trial 88 finished with value: 3.523673354590854 and parameters: {'n_estimators': 466, 'criterion': 'poisson', 'max_depth': 7, 'min_samples_leaf': 2, 'max_features': 0.896}. Best is trial 76 with value: 3.511490502044772.\n",
            "[I 2024-05-01 11:56:21,485] Trial 89 finished with value: 3.6013410103994072 and parameters: {'n_estimators': 386, 'criterion': 'poisson', 'max_depth': 14, 'min_samples_leaf': 2, 'max_features': 0.649}. Best is trial 76 with value: 3.511490502044772.\n",
            "[I 2024-05-01 11:56:22,721] Trial 90 finished with value: 3.605763592361275 and parameters: {'n_estimators': 335, 'criterion': 'poisson', 'max_depth': 14, 'min_samples_leaf': 2, 'max_features': 0.67}. Best is trial 76 with value: 3.511490502044772.\n",
            "[I 2024-05-01 11:56:25,736] Trial 91 finished with value: 3.600639767272458 and parameters: {'n_estimators': 407, 'criterion': 'friedman_mse', 'max_depth': 5, 'min_samples_leaf': 2, 'max_features': 0.835}. Best is trial 76 with value: 3.511490502044772.\n",
            "[I 2024-05-01 11:56:28,219] Trial 92 finished with value: 3.514338774236335 and parameters: {'n_estimators': 408, 'criterion': 'poisson', 'max_depth': 9, 'min_samples_leaf': 2, 'max_features': 0.954}. Best is trial 76 with value: 3.511490502044772.\n",
            "[I 2024-05-01 11:56:30,084] Trial 93 finished with value: 3.5114677531957232 and parameters: {'n_estimators': 432, 'criterion': 'poisson', 'max_depth': 9, 'min_samples_leaf': 2, 'max_features': 0.957}. Best is trial 93 with value: 3.5114677531957232.\n",
            "[I 2024-05-01 11:56:32,279] Trial 94 finished with value: 3.6674187705006154 and parameters: {'n_estimators': 431, 'criterion': 'poisson', 'max_depth': 9, 'min_samples_leaf': 2, 'max_features': 0.527}. Best is trial 93 with value: 3.5114677531957232.\n",
            "[I 2024-05-01 11:56:34,358] Trial 95 finished with value: 3.5126003382282525 and parameters: {'n_estimators': 430, 'criterion': 'poisson', 'max_depth': 10, 'min_samples_leaf': 2, 'max_features': 0.958}. Best is trial 93 with value: 3.5114677531957232.\n",
            "[I 2024-05-01 11:56:36,615] Trial 96 finished with value: 3.5153392614510177 and parameters: {'n_estimators': 409, 'criterion': 'poisson', 'max_depth': 9, 'min_samples_leaf': 2, 'max_features': 0.9329999999999999}. Best is trial 93 with value: 3.5114677531957232.\n",
            "[I 2024-05-01 11:56:38,243] Trial 97 finished with value: 3.513683338984662 and parameters: {'n_estimators': 394, 'criterion': 'poisson', 'max_depth': 10, 'min_samples_leaf': 2, 'max_features': 0.954}. Best is trial 93 with value: 3.5114677531957232.\n",
            "[I 2024-05-01 11:56:41,627] Trial 98 finished with value: 3.5153435650478184 and parameters: {'n_estimators': 399, 'criterion': 'poisson', 'max_depth': 10, 'min_samples_leaf': 2, 'max_features': 0.96}. Best is trial 93 with value: 3.5114677531957232.\n",
            "[I 2024-05-01 11:56:42,070] Trial 99 finished with value: 3.5280404592131305 and parameters: {'n_estimators': 396, 'criterion': 'poisson', 'max_depth': 10, 'min_samples_leaf': 2, 'max_features': 0.897}. Best is trial 93 with value: 3.5114677531957232.\n",
            "[I 2024-05-01 11:56:42,724] A new study created in memory with name: no-name-6cdef0c8-4e19-4f08-946f-79b3ed30bf99\n",
            "[I 2024-05-01 11:56:43,464] Trial 0 finished with value: 5.559731793149929 and parameters: {'kernel': 'linear', 'degree': 13, 'gamma': 'scale', 'C': 97.91300000000001, 'epsilon': 23.377000000000002}. Best is trial 0 with value: 5.559731793149929.\n",
            "[I 2024-05-01 11:56:43,470] Trial 1 finished with value: 5.559731793149929 and parameters: {'kernel': 'linear', 'degree': 6, 'gamma': 'scale', 'C': 32.546, 'epsilon': 99.77900000000001}. Best is trial 0 with value: 5.559731793149929.\n",
            "[I 2024-05-01 11:56:44,202] Trial 3 finished with value: 5.559731793149929 and parameters: {'kernel': 'linear', 'degree': 3, 'gamma': 'auto', 'C': 11.211, 'epsilon': 24.275000000000002}. Best is trial 0 with value: 5.559731793149929.\n",
            "[I 2024-05-01 11:56:44,211] Trial 2 finished with value: 5.559731793149931 and parameters: {'kernel': 'linear', 'degree': 18, 'gamma': 'scale', 'C': 97.203, 'epsilon': 71.548}. Best is trial 0 with value: 5.559731793149929.\n",
            "[I 2024-05-01 11:56:44,931] Trial 5 finished with value: 5.559731793149929 and parameters: {'kernel': 'poly', 'degree': 1, 'gamma': 'scale', 'C': 49.577999999999996, 'epsilon': 47.293}. Best is trial 0 with value: 5.559731793149929.\n",
            "[I 2024-05-01 11:56:44,990] Trial 4 finished with value: 5.559731793149929 and parameters: {'kernel': 'linear', 'degree': 16, 'gamma': 'auto', 'C': 5.241, 'epsilon': 13.671}. Best is trial 0 with value: 5.559731793149929.\n",
            "[I 2024-05-01 11:56:45,545] Trial 6 finished with value: 5.559731793149929 and parameters: {'kernel': 'poly', 'degree': 9, 'gamma': 'scale', 'C': 61.317, 'epsilon': 82.813}. Best is trial 0 with value: 5.559731793149929.\n",
            "[I 2024-05-01 11:56:45,777] Trial 7 finished with value: 5.559731793149929 and parameters: {'kernel': 'poly', 'degree': 11, 'gamma': 'auto', 'C': 57.932, 'epsilon': 75.111}. Best is trial 0 with value: 5.559731793149929.\n",
            "[I 2024-05-01 11:56:46,338] Trial 8 finished with value: 5.559731793149931 and parameters: {'kernel': 'linear', 'degree': 2, 'gamma': 'auto', 'C': 36.321, 'epsilon': 81.44800000000001}. Best is trial 0 with value: 5.559731793149929.\n",
            "[I 2024-05-01 11:56:46,554] Trial 9 finished with value: 5.559731793149929 and parameters: {'kernel': 'poly', 'degree': 18, 'gamma': 'auto', 'C': 3.1159999999999997, 'epsilon': 38.683}. Best is trial 0 with value: 5.559731793149929.\n",
            "[I 2024-05-01 11:56:46,989] Trial 10 finished with value: 5.559731793149929 and parameters: {'kernel': 'rbf', 'degree': 6, 'gamma': 'auto', 'C': 29.081000000000003, 'epsilon': 46.849}. Best is trial 0 with value: 5.559731793149929.\n",
            "[I 2024-05-01 11:56:47,429] Trial 11 finished with value: 4.065408192359373 and parameters: {'kernel': 'rbf', 'degree': 12, 'gamma': 'scale', 'C': 97.93100000000001, 'epsilon': 1.07}. Best is trial 11 with value: 4.065408192359373.\n",
            "[I 2024-05-01 11:56:47,777] Trial 12 finished with value: 5.559731793149931 and parameters: {'kernel': 'linear', 'degree': 12, 'gamma': 'scale', 'C': 99.95800000000001, 'epsilon': 99.19300000000001}. Best is trial 11 with value: 4.065408192359373.\n",
            "[I 2024-05-01 11:56:48,251] Trial 13 finished with value: 4.719383558821394 and parameters: {'kernel': 'rbf', 'degree': 14, 'gamma': 'scale', 'C': 99.96900000000001, 'epsilon': 5.1819999999999995}. Best is trial 11 with value: 4.065408192359373.\n",
            "[I 2024-05-01 11:56:48,466] Trial 14 finished with value: 4.1589637251855125 and parameters: {'kernel': 'rbf', 'degree': 14, 'gamma': 'scale', 'C': 79.739, 'epsilon': 0.508}. Best is trial 11 with value: 4.065408192359373.\n",
            "[I 2024-05-01 11:56:49,047] Trial 15 finished with value: 4.1741251903923615 and parameters: {'kernel': 'rbf', 'degree': 15, 'gamma': 'scale', 'C': 78.94500000000001, 'epsilon': 2.895}. Best is trial 11 with value: 4.065408192359373.\n",
            "[I 2024-05-01 11:56:49,274] Trial 16 finished with value: 4.232867443825105 and parameters: {'kernel': 'rbf', 'degree': 20, 'gamma': 'scale', 'C': 80.763, 'epsilon': 3.3699999999999997}. Best is trial 11 with value: 4.065408192359373.\n",
            "[I 2024-05-01 11:56:50,028] Trial 17 finished with value: 5.559731793149929 and parameters: {'kernel': 'rbf', 'degree': 9, 'gamma': 'scale', 'C': 81.48500000000001, 'epsilon': 25.598000000000003}. Best is trial 11 with value: 4.065408192359373.\n",
            "[I 2024-05-01 11:56:50,191] Trial 18 finished with value: 5.559731793149929 and parameters: {'kernel': 'rbf', 'degree': 9, 'gamma': 'scale', 'C': 81.914, 'epsilon': 26.990000000000002}. Best is trial 11 with value: 4.065408192359373.\n",
            "[I 2024-05-01 11:56:50,979] Trial 19 finished with value: 5.559731793149929 and parameters: {'kernel': 'rbf', 'degree': 9, 'gamma': 'scale', 'C': 71.11800000000001, 'epsilon': 13.437}. Best is trial 11 with value: 4.065408192359373.\n",
            "[I 2024-05-01 11:56:51,168] Trial 20 finished with value: 5.559731793149929 and parameters: {'kernel': 'rbf', 'degree': 17, 'gamma': 'scale', 'C': 68.66600000000001, 'epsilon': 60.915}. Best is trial 11 with value: 4.065408192359373.\n",
            "[I 2024-05-01 11:56:51,922] Trial 21 finished with value: 5.559731793149929 and parameters: {'kernel': 'rbf', 'degree': 17, 'gamma': 'scale', 'C': 89.08300000000001, 'epsilon': 62.499}. Best is trial 11 with value: 4.065408192359373.\n",
            "[I 2024-05-01 11:56:52,135] Trial 22 finished with value: 3.9799043956929356 and parameters: {'kernel': 'rbf', 'degree': 16, 'gamma': 'scale', 'C': 87.37400000000001, 'epsilon': 1.5290000000000001}. Best is trial 22 with value: 3.9799043956929356.\n",
            "[I 2024-05-01 11:56:52,889] Trial 23 finished with value: 4.069368114279912 and parameters: {'kernel': 'rbf', 'degree': 15, 'gamma': 'scale', 'C': 86.281, 'epsilon': 1.038}. Best is trial 22 with value: 3.9799043956929356.\n",
            "[I 2024-05-01 11:56:52,977] Trial 24 finished with value: 5.3988325887125015 and parameters: {'kernel': 'rbf', 'degree': 14, 'gamma': 'scale', 'C': 89.89200000000001, 'epsilon': 10.602}. Best is trial 22 with value: 3.9799043956929356.\n",
            "[I 2024-05-01 11:56:53,588] Trial 25 finished with value: 5.559731793149929 and parameters: {'kernel': 'rbf', 'degree': 19, 'gamma': 'scale', 'C': 90.32600000000001, 'epsilon': 18.417}. Best is trial 22 with value: 3.9799043956929356.\n",
            "[I 2024-05-01 11:56:53,813] Trial 26 finished with value: 5.559731793149929 and parameters: {'kernel': 'rbf', 'degree': 20, 'gamma': 'scale', 'C': 69.56700000000001, 'epsilon': 14.211}. Best is trial 22 with value: 3.9799043956929356.\n",
            "[I 2024-05-01 11:56:54,342] Trial 27 finished with value: 5.559731793149929 and parameters: {'kernel': 'rbf', 'degree': 12, 'gamma': 'scale', 'C': 71.143, 'epsilon': 37.937}. Best is trial 22 with value: 3.9799043956929356.\n",
            "[I 2024-05-01 11:56:54,721] Trial 28 finished with value: 5.559731793149929 and parameters: {'kernel': 'rbf', 'degree': 12, 'gamma': 'scale', 'C': 89.128, 'epsilon': 30.310000000000002}. Best is trial 22 with value: 3.9799043956929356.\n",
            "[I 2024-05-01 11:56:55,038] Trial 29 finished with value: 5.559731793149929 and parameters: {'kernel': 'rbf', 'degree': 16, 'gamma': 'scale', 'C': 89.388, 'epsilon': 36.071999999999996}. Best is trial 22 with value: 3.9799043956929356.\n",
            "[I 2024-05-01 11:56:55,683] Trial 30 finished with value: 5.225926254766206 and parameters: {'kernel': 'rbf', 'degree': 15, 'gamma': 'scale', 'C': 46.053, 'epsilon': 6.7989999999999995}. Best is trial 22 with value: 3.9799043956929356.\n",
            "[I 2024-05-01 11:56:55,811] Trial 31 finished with value: 6.8208577478136405 and parameters: {'kernel': 'poly', 'degree': 13, 'gamma': 'scale', 'C': 51.936, 'epsilon': 8.532}. Best is trial 22 with value: 3.9799043956929356.\n",
            "[I 2024-05-01 11:56:56,412] Trial 32 finished with value: 4.031570667449445 and parameters: {'kernel': 'rbf', 'degree': 13, 'gamma': 'scale', 'C': 76.069, 'epsilon': 2.247}. Best is trial 22 with value: 3.9799043956929356.\n",
            "[I 2024-05-01 11:56:56,628] Trial 33 finished with value: 4.057236831748536 and parameters: {'kernel': 'rbf', 'degree': 14, 'gamma': 'scale', 'C': 76.661, 'epsilon': 0.933}. Best is trial 22 with value: 3.9799043956929356.\n",
            "[I 2024-05-01 11:56:57,316] Trial 34 finished with value: 5.559731793149929 and parameters: {'kernel': 'rbf', 'degree': 11, 'gamma': 'scale', 'C': 94.009, 'epsilon': 18.162000000000003}. Best is trial 22 with value: 3.9799043956929356.\n",
            "[I 2024-05-01 11:56:57,435] Trial 35 finished with value: 5.559731793149929 and parameters: {'kernel': 'rbf', 'degree': 7, 'gamma': 'scale', 'C': 93.808, 'epsilon': 20.430000000000003}. Best is trial 22 with value: 3.9799043956929356.\n",
            "[I 2024-05-01 11:56:58,031] Trial 36 finished with value: 5.294348192773531 and parameters: {'kernel': 'rbf', 'degree': 6, 'gamma': 'auto', 'C': 61.135, 'epsilon': 9.244}. Best is trial 22 with value: 3.9799043956929356.\n",
            "[I 2024-05-01 11:56:58,232] Trial 37 finished with value: 5.0317185571405565 and parameters: {'kernel': 'linear', 'degree': 13, 'gamma': 'auto', 'C': 76.46900000000001, 'epsilon': 9.905}. Best is trial 22 with value: 3.9799043956929356.\n",
            "[I 2024-05-01 11:56:58,795] Trial 38 finished with value: 5.559731793149929 and parameters: {'kernel': 'linear', 'degree': 13, 'gamma': 'scale', 'C': 65.563, 'epsilon': 13.732}. Best is trial 22 with value: 3.9799043956929356.\n",
            "[I 2024-05-01 11:56:59,029] Trial 39 finished with value: 5.559731793149929 and parameters: {'kernel': 'poly', 'degree': 10, 'gamma': 'scale', 'C': 73.894, 'epsilon': 15.651}. Best is trial 22 with value: 3.9799043956929356.\n",
            "[I 2024-05-01 11:56:59,679] Trial 40 finished with value: 19.601606310031638 and parameters: {'kernel': 'poly', 'degree': 10, 'gamma': 'scale', 'C': 75.38900000000001, 'epsilon': 0.445}. Best is trial 22 with value: 3.9799043956929356.\n",
            "[I 2024-05-01 11:56:59,833] Trial 41 finished with value: 4.162309606591219 and parameters: {'kernel': 'rbf', 'degree': 16, 'gamma': 'scale', 'C': 84.114, 'epsilon': 0.528}. Best is trial 22 with value: 3.9799043956929356.\n",
            "[I 2024-05-01 11:57:00,358] Trial 42 finished with value: 5.036242134770667 and parameters: {'kernel': 'rbf', 'degree': 16, 'gamma': 'scale', 'C': 86.26700000000001, 'epsilon': 6.093}. Best is trial 22 with value: 3.9799043956929356.\n",
            "[I 2024-05-01 11:57:00,665] Trial 43 finished with value: 4.8151635973339975 and parameters: {'kernel': 'rbf', 'degree': 15, 'gamma': 'scale', 'C': 94.159, 'epsilon': 5.4719999999999995}. Best is trial 22 with value: 3.9799043956929356.\n",
            "[I 2024-05-01 11:57:01,135] Trial 44 finished with value: 4.90224562172079 and parameters: {'kernel': 'rbf', 'degree': 15, 'gamma': 'scale', 'C': 96.644, 'epsilon': 5.71}. Best is trial 22 with value: 3.9799043956929356.\n",
            "[I 2024-05-01 11:57:01,444] Trial 45 finished with value: 5.559731793149929 and parameters: {'kernel': 'rbf', 'degree': 18, 'gamma': 'scale', 'C': 24.765, 'epsilon': 22.269000000000002}. Best is trial 22 with value: 3.9799043956929356.\n",
            "[I 2024-05-01 11:57:01,940] Trial 46 finished with value: 5.559731793149929 and parameters: {'kernel': 'rbf', 'degree': 18, 'gamma': 'auto', 'C': 85.00200000000001, 'epsilon': 21.795}. Best is trial 22 with value: 3.9799043956929356.\n",
            "[I 2024-05-01 11:57:02,384] Trial 47 finished with value: 3.52808234724937 and parameters: {'kernel': 'linear', 'degree': 17, 'gamma': 'auto', 'C': 85.25500000000001, 'epsilon': 0.163}. Best is trial 47 with value: 3.52808234724937.\n",
            "[I 2024-05-01 11:57:02,790] Trial 48 finished with value: 3.409534158403316 and parameters: {'kernel': 'linear', 'degree': 14, 'gamma': 'scale', 'C': 56.174, 'epsilon': 0.47500000000000003}. Best is trial 48 with value: 3.409534158403316.\n",
            "[I 2024-05-01 11:57:03,535] Trial 49 finished with value: 5.559731793149929 and parameters: {'kernel': 'linear', 'degree': 12, 'gamma': 'auto', 'C': 65.244, 'epsilon': 30.432000000000002}. Best is trial 48 with value: 3.409534158403316.\n",
            "[I 2024-05-01 11:57:03,775] Trial 50 finished with value: 5.291328708990506 and parameters: {'kernel': 'linear', 'degree': 17, 'gamma': 'auto', 'C': 54.51, 'epsilon': 10.981}. Best is trial 48 with value: 3.409534158403316.\n",
            "[I 2024-05-01 11:57:04,503] Trial 51 finished with value: 5.437096681780022 and parameters: {'kernel': 'linear', 'degree': 17, 'gamma': 'auto', 'C': 38.942, 'epsilon': 12.019}. Best is trial 48 with value: 3.409534158403316.\n",
            "[I 2024-05-01 11:57:04,780] Trial 52 finished with value: 3.859175621172037 and parameters: {'kernel': 'linear', 'degree': 14, 'gamma': 'auto', 'C': 34.739, 'epsilon': 3.877}. Best is trial 48 with value: 3.409534158403316.\n",
            "[I 2024-05-01 11:57:05,571] Trial 53 finished with value: 3.528293017618167 and parameters: {'kernel': 'linear', 'degree': 14, 'gamma': 'auto', 'C': 59.04, 'epsilon': 0.165}. Best is trial 48 with value: 3.409534158403316.\n",
            "[I 2024-05-01 11:57:05,782] Trial 54 finished with value: 3.843962058118468 and parameters: {'kernel': 'linear', 'degree': 14, 'gamma': 'auto', 'C': 14.952, 'epsilon': 3.7249999999999996}. Best is trial 48 with value: 3.409534158403316.\n",
            "[I 2024-05-01 11:57:06,561] Trial 55 finished with value: 5.559731793149931 and parameters: {'kernel': 'linear', 'degree': 14, 'gamma': 'auto', 'C': 43.16, 'epsilon': 92.376}. Best is trial 48 with value: 3.409534158403316.\n",
            "[I 2024-05-01 11:57:06,669] Trial 56 finished with value: 5.559731793149929 and parameters: {'kernel': 'linear', 'degree': 19, 'gamma': 'auto', 'C': 16.235000000000003, 'epsilon': 92.391}. Best is trial 48 with value: 3.409534158403316.\n",
            "[I 2024-05-01 11:57:07,313] Trial 57 finished with value: 4.3989551470731625 and parameters: {'kernel': 'linear', 'degree': 16, 'gamma': 'auto', 'C': 10.892, 'epsilon': 5.936}. Best is trial 48 with value: 3.409534158403316.\n",
            "[I 2024-05-01 11:57:07,499] Trial 58 finished with value: 5.559731793149929 and parameters: {'kernel': 'linear', 'degree': 16, 'gamma': 'auto', 'C': 8.827, 'epsilon': 55.836}. Best is trial 48 with value: 3.409534158403316.\n",
            "[I 2024-05-01 11:57:08,098] Trial 59 finished with value: 5.559731793149929 and parameters: {'kernel': 'linear', 'degree': 3, 'gamma': 'auto', 'C': 27.236, 'epsilon': 15.755}. Best is trial 48 with value: 3.409534158403316.\n",
            "[I 2024-05-01 11:57:08,320] Trial 60 finished with value: 5.559731793149929 and parameters: {'kernel': 'linear', 'degree': 19, 'gamma': 'auto', 'C': 22.859, 'epsilon': 17.829}. Best is trial 48 with value: 3.409534158403316.\n",
            "[I 2024-05-01 11:57:08,937] Trial 61 finished with value: 3.965203321830245 and parameters: {'kernel': 'linear', 'degree': 19, 'gamma': 'auto', 'C': 17.574, 'epsilon': 3.952}. Best is trial 48 with value: 3.409534158403316.\n",
            "[I 2024-05-01 11:57:09,148] Trial 62 finished with value: 3.558372589170806 and parameters: {'kernel': 'linear', 'degree': 14, 'gamma': 'auto', 'C': 55.539, 'epsilon': 2.606}. Best is trial 48 with value: 3.409534158403316.\n",
            "[I 2024-05-01 11:57:09,627] Trial 63 finished with value: 3.5815292176248352 and parameters: {'kernel': 'linear', 'degree': 18, 'gamma': 'auto', 'C': 17.878000000000004, 'epsilon': 3.21}. Best is trial 48 with value: 3.409534158403316.\n",
            "[I 2024-05-01 11:57:09,986] Trial 64 finished with value: 4.112033885142749 and parameters: {'kernel': 'linear', 'degree': 11, 'gamma': 'auto', 'C': 18.841, 'epsilon': 4.699}. Best is trial 48 with value: 3.409534158403316.\n",
            "[I 2024-05-01 11:57:10,403] Trial 65 finished with value: 4.711329014417278 and parameters: {'kernel': 'linear', 'degree': 14, 'gamma': 'auto', 'C': 57.557, 'epsilon': 8.393}. Best is trial 48 with value: 3.409534158403316.\n",
            "[I 2024-05-01 11:57:10,800] Trial 66 finished with value: 4.8036403990339425 and parameters: {'kernel': 'linear', 'degree': 14, 'gamma': 'auto', 'C': 33.552, 'epsilon': 8.88}. Best is trial 48 with value: 3.409534158403316.\n",
            "[I 2024-05-01 11:57:11,263] Trial 67 finished with value: 5.559731793149929 and parameters: {'kernel': 'linear', 'degree': 15, 'gamma': 'auto', 'C': 1.182, 'epsilon': 44.788}. Best is trial 48 with value: 3.409534158403316.\n",
            "[I 2024-05-01 11:57:11,685] Trial 68 finished with value: 5.4017271742616515 and parameters: {'kernel': 'linear', 'degree': 17, 'gamma': 'auto', 'C': 0.7120000000000001, 'epsilon': 11.775}. Best is trial 48 with value: 3.409534158403316.\n",
            "[I 2024-05-01 11:57:12,120] Trial 69 finished with value: 3.683724269551588 and parameters: {'kernel': 'linear', 'degree': 17, 'gamma': 'auto', 'C': 47.602, 'epsilon': 3.5149999999999997}. Best is trial 48 with value: 3.409534158403316.\n",
            "[I 2024-05-01 11:57:12,525] Trial 70 finished with value: 3.678189440213278 and parameters: {'kernel': 'linear', 'degree': 13, 'gamma': 'auto', 'C': 45.23, 'epsilon': 3.4909999999999997}. Best is trial 48 with value: 3.409534158403316.\n",
            "[I 2024-05-01 11:57:12,941] Trial 71 finished with value: 5.559731793149931 and parameters: {'kernel': 'linear', 'degree': 20, 'gamma': 'auto', 'C': 46.839, 'epsilon': 72.828}. Best is trial 48 with value: 3.409534158403316.\n",
            "[I 2024-05-01 11:57:13,341] Trial 72 finished with value: 3.663346680924292 and parameters: {'kernel': 'linear', 'degree': 18, 'gamma': 'auto', 'C': 49.339999999999996, 'epsilon': 3.4139999999999997}. Best is trial 48 with value: 3.409534158403316.\n",
            "[I 2024-05-01 11:57:13,861] Trial 73 finished with value: 3.509428168005373 and parameters: {'kernel': 'linear', 'degree': 18, 'gamma': 'auto', 'C': 52.724, 'epsilon': 0.29800000000000004}. Best is trial 48 with value: 3.409534158403316.\n",
            "[I 2024-05-01 11:57:14,191] Trial 74 finished with value: 3.5827999020290457 and parameters: {'kernel': 'linear', 'degree': 17, 'gamma': 'auto', 'C': 50.921, 'epsilon': 0.06999999999999999}. Best is trial 48 with value: 3.409534158403316.\n",
            "[I 2024-05-01 11:57:15,081] Trial 75 finished with value: 3.5197323829090177 and parameters: {'kernel': 'linear', 'degree': 18, 'gamma': 'auto', 'C': 51.701, 'epsilon': 0.263}. Best is trial 48 with value: 3.409534158403316.\n",
            "[I 2024-05-01 11:57:15,181] Trial 76 finished with value: 4.597957593922805 and parameters: {'kernel': 'linear', 'degree': 18, 'gamma': 'auto', 'C': 51.964, 'epsilon': 7.499}. Best is trial 48 with value: 3.409534158403316.\n",
            "[I 2024-05-01 11:57:16,149] Trial 77 finished with value: 3.402549880859107 and parameters: {'kernel': 'linear', 'degree': 19, 'gamma': 'auto', 'C': 54.208999999999996, 'epsilon': 0.438}. Best is trial 77 with value: 3.402549880859107.\n",
            "[I 2024-05-01 11:57:16,281] Trial 78 finished with value: 3.5285819709969664 and parameters: {'kernel': 'linear', 'degree': 19, 'gamma': 'auto', 'C': 41.227, 'epsilon': 0.193}. Best is trial 77 with value: 3.402549880859107.\n",
            "[I 2024-05-01 11:57:17,306] Trial 79 finished with value: 4.678816590362504 and parameters: {'kernel': 'linear', 'degree': 20, 'gamma': 'auto', 'C': 57.371, 'epsilon': 8.206}. Best is trial 77 with value: 3.402549880859107.\n",
            "[I 2024-05-01 11:57:17,488] Trial 80 finished with value: 4.7273721359833 and parameters: {'kernel': 'linear', 'degree': 20, 'gamma': 'auto', 'C': 39.565999999999995, 'epsilon': 8.482}. Best is trial 77 with value: 3.402549880859107.\n",
            "[I 2024-05-01 11:57:18,496] Trial 81 finished with value: 377.38510484814884 and parameters: {'kernel': 'poly', 'degree': 19, 'gamma': 'auto', 'C': 61.109, 'epsilon': 0.026000000000000002}. Best is trial 77 with value: 3.402549880859107.\n",
            "[I 2024-05-01 11:57:18,795] Trial 82 finished with value: 3.4347270928040503 and parameters: {'kernel': 'linear', 'degree': 19, 'gamma': 'auto', 'C': 61.551, 'epsilon': 0.685}. Best is trial 77 with value: 3.402549880859107.\n",
            "[I 2024-05-01 11:57:19,851] Trial 83 finished with value: 3.5639329890397633 and parameters: {'kernel': 'linear', 'degree': 19, 'gamma': 'auto', 'C': 53.686, 'epsilon': 2.0229999999999997}. Best is trial 77 with value: 3.402549880859107.\n",
            "[I 2024-05-01 11:57:20,076] Trial 84 finished with value: 5.538702939046626 and parameters: {'kernel': 'linear', 'degree': 19, 'gamma': 'auto', 'C': 55.117, 'epsilon': 12.698}. Best is trial 77 with value: 3.402549880859107.\n",
            "[I 2024-05-01 11:57:21,040] Trial 85 finished with value: 4.5321016245582975 and parameters: {'kernel': 'linear', 'degree': 20, 'gamma': 'auto', 'C': 63.733, 'epsilon': 6.482}. Best is trial 77 with value: 3.402549880859107.\n",
            "[I 2024-05-01 11:57:21,356] Trial 86 finished with value: 4.554685674154898 and parameters: {'kernel': 'linear', 'degree': 18, 'gamma': 'auto', 'C': 64.489, 'epsilon': 6.943}. Best is trial 77 with value: 3.402549880859107.\n",
            "[I 2024-05-01 11:57:22,227] Trial 87 finished with value: 5.165299624561121 and parameters: {'kernel': 'linear', 'degree': 18, 'gamma': 'auto', 'C': 59.455, 'epsilon': 10.416}. Best is trial 77 with value: 3.402549880859107.\n",
            "[I 2024-05-01 11:57:22,505] Trial 88 finished with value: 5.266594826444635 and parameters: {'kernel': 'linear', 'degree': 19, 'gamma': 'auto', 'C': 60.201, 'epsilon': 10.795}. Best is trial 77 with value: 3.402549880859107.\n",
            "[I 2024-05-01 11:57:23,408] Trial 89 finished with value: 3.5288188822092117 and parameters: {'kernel': 'linear', 'degree': 19, 'gamma': 'auto', 'C': 42.388, 'epsilon': 0.15100000000000002}. Best is trial 77 with value: 3.402549880859107.\n",
            "[I 2024-05-01 11:57:23,732] Trial 90 finished with value: 3.5298291395716186 and parameters: {'kernel': 'linear', 'degree': 17, 'gamma': 'auto', 'C': 43.867, 'epsilon': 0.18000000000000002}. Best is trial 77 with value: 3.402549880859107.\n",
            "[I 2024-05-01 11:57:24,506] Trial 91 finished with value: 500.9466655103779 and parameters: {'kernel': 'poly', 'degree': 20, 'gamma': 'auto', 'C': 39.535, 'epsilon': 0.08}. Best is trial 77 with value: 3.402549880859107.\n",
            "[I 2024-05-01 11:57:24,613] Trial 92 finished with value: 3.4516715335325916 and parameters: {'kernel': 'linear', 'degree': 17, 'gamma': 'auto', 'C': 41.243, 'epsilon': 1.355}. Best is trial 77 with value: 3.402549880859107.\n",
            "[I 2024-05-01 11:57:25,218] Trial 93 finished with value: 4.41739406569067 and parameters: {'kernel': 'linear', 'degree': 17, 'gamma': 'auto', 'C': 43.223, 'epsilon': 5.731}. Best is trial 77 with value: 3.402549880859107.\n",
            "[I 2024-05-01 11:57:25,480] Trial 94 finished with value: 4.419584826800103 and parameters: {'kernel': 'linear', 'degree': 18, 'gamma': 'auto', 'C': 41.106, 'epsilon': 5.654}. Best is trial 77 with value: 3.402549880859107.\n",
            "[I 2024-05-01 11:57:25,892] Trial 95 finished with value: 5.559731793149931 and parameters: {'kernel': 'linear', 'degree': 19, 'gamma': 'auto', 'C': 37.876, 'epsilon': 66.549}. Best is trial 77 with value: 3.402549880859107.\n",
            "[I 2024-05-01 11:57:26,394] Trial 96 finished with value: 3.5745653306326792 and parameters: {'kernel': 'linear', 'degree': 19, 'gamma': 'auto', 'C': 31.223000000000003, 'epsilon': 2.1109999999999998}. Best is trial 77 with value: 3.402549880859107.\n",
            "[I 2024-05-01 11:57:26,757] Trial 97 finished with value: 3.5725998777215504 and parameters: {'kernel': 'linear', 'degree': 19, 'gamma': 'auto', 'C': 31.380000000000003, 'epsilon': 2.094}. Best is trial 77 with value: 3.402549880859107.\n",
            "[I 2024-05-01 11:57:27,178] Trial 98 finished with value: 5.559731793149929 and parameters: {'kernel': 'linear', 'degree': 18, 'gamma': 'auto', 'C': 48.616, 'epsilon': 15.294}. Best is trial 77 with value: 3.402549880859107.\n",
            "[I 2024-05-01 11:57:27,509] Trial 99 finished with value: 5.559731793149929 and parameters: {'kernel': 'linear', 'degree': 18, 'gamma': 'auto', 'C': 48.667, 'epsilon': 13.972}. Best is trial 77 with value: 3.402549880859107.\n"
          ]
        }
      ]
    },
    {
      "cell_type": "markdown",
      "source": [
        "Lagring av resultater"
      ],
      "metadata": {
        "id": "VtojBbM_SlHM"
      }
    },
    {
      "cell_type": "code",
      "source": [
        "res_2_design = pd.DataFrame(res.dict_res_2_design)\n",
        "res_2_design_opt = pd.DataFrame(res.dict_res_2_design_opt)\n",
        "\n",
        "res_2_design.to_csv('/content/drive/MyDrive/MasterV24/Bioco_data/Resultater/collagen/collagen_resultater_2_design.csv')\n",
        "res_2_design_opt.to_csv('/content/drive/MyDrive/MasterV24/Bioco_data/Resultater/collagen/collagen_resultater_2_design_opt.csv')"
      ],
      "metadata": {
        "id": "M9chJfcgSlHM"
      },
      "execution_count": 28,
      "outputs": []
    },
    {
      "cell_type": "markdown",
      "source": [
        "Velger beste modell"
      ],
      "metadata": {
        "id": "_dUt92JQSlHM"
      }
    },
    {
      "cell_type": "code",
      "source": [],
      "metadata": {
        "id": "5EUiy5XlSlHM"
      },
      "execution_count": null,
      "outputs": []
    },
    {
      "cell_type": "markdown",
      "metadata": {
        "id": "pnhtimdQn6n_"
      },
      "source": [
        "# NIR målinger ekskludert"
      ]
    },
    {
      "cell_type": "code",
      "execution_count": 30,
      "metadata": {
        "id": "HVRjvKsSn6oM"
      },
      "outputs": [],
      "source": [
        "# Ekskluderer NIR målinger fra datasettene\n",
        "NIR_kolonner = ['NIRfat', 'NIRwater', 'NIRash']\n",
        "data_uten_NIR = data.drop(columns=NIR_kolonner)\n",
        "data_design_uten_NIR = data_design.drop(columns=NIR_kolonner)"
      ]
    },
    {
      "cell_type": "markdown",
      "metadata": {
        "id": "kdiY6z2nTrVD"
      },
      "source": [
        "## Hele datasett"
      ]
    },
    {
      "cell_type": "markdown",
      "source": [
        "## Alternativ 2: 20% Testsett og resteremde hele treningssett"
      ],
      "metadata": {
        "id": "hX9_AnkRUCjj"
      }
    },
    {
      "cell_type": "code",
      "source": [
        "# Deler datasettet i trening og testsett\n",
        "trening_markert, testsett, _, trening\\\n",
        "= trening_testsett_oppdeling_dag(rå_data,\n",
        "                                 data_uten_NIR,\n",
        "                                 test_andel=test_andel,\n",
        "                                 test_ekskluder_kalkun_kylling=True)\n",
        "\n",
        "# Finner antall av enzymtype med minst antall\n",
        "n_splitt = n_splitt_enzym(rå_data,\n",
        "                          trening_markert)\n",
        "\n",
        "# Modelloptimalisering, trening og evaluering av RFR, KNR og SVR\n",
        "veiledet_modell_evaluering_2(dict_res_opt=res.dict_res_2_hel_opt_NIR,\n",
        "                             dict_res=res.dict_res_2_hel_NIR,\n",
        "                             rå_data=rå_data,\n",
        "                             treningssett_markert=trening_markert,\n",
        "                             testsett=testsett,\n",
        "                             n_splitt=n_splitt,\n",
        "                             n_runder=n_runder,\n",
        "                             test_andel=test_andel,\n",
        "                             trenings_andel=trenings_andel,\n",
        "                             random_seed=random_seed)"
      ],
      "metadata": {
        "colab": {
          "base_uri": "https://localhost:8080/"
        },
        "outputId": "8b86c6ac-5b78-4006-eedc-5a18d05f09c1",
        "id": "58AqbiTIUCjj"
      },
      "execution_count": null,
      "outputs": [
        {
          "output_type": "stream",
          "name": "stderr",
          "text": [
            "[I 2024-05-01 12:30:13,422] A new study created in memory with name: no-name-2dd925a6-25b8-4d20-af2e-fbb06f8e8754\n",
            "[I 2024-05-01 12:30:14,188] Trial 0 finished with value: 5.047108935995656 and parameters: {'n_neighbors': 9, 'weights': 'uniform', 'p': 8}. Best is trial 0 with value: 5.047108935995656.\n",
            "[I 2024-05-01 12:30:14,195] Trial 1 finished with value: 5.625145252224232 and parameters: {'n_neighbors': 18, 'weights': 'uniform', 'p': 8}. Best is trial 0 with value: 5.047108935995656.\n",
            "[I 2024-05-01 12:30:14,880] Trial 2 finished with value: 4.9640695884214665 and parameters: {'n_neighbors': 12, 'weights': 'distance', 'p': 6}. Best is trial 2 with value: 4.9640695884214665.\n",
            "[I 2024-05-01 12:30:14,980] Trial 3 finished with value: 4.994693951764754 and parameters: {'n_neighbors': 12, 'weights': 'distance', 'p': 5}. Best is trial 2 with value: 4.9640695884214665.\n",
            "[I 2024-05-01 12:30:15,607] Trial 4 finished with value: 4.7509172100371595 and parameters: {'n_neighbors': 5, 'weights': 'distance', 'p': 10}. Best is trial 4 with value: 4.7509172100371595.\n",
            "[I 2024-05-01 12:30:15,854] Trial 5 finished with value: 5.512763623398297 and parameters: {'n_neighbors': 14, 'weights': 'uniform', 'p': 4}. Best is trial 4 with value: 4.7509172100371595.\n",
            "[I 2024-05-01 12:30:16,209] Trial 6 finished with value: 4.702013125000215 and parameters: {'n_neighbors': 3, 'weights': 'uniform', 'p': 2}. Best is trial 6 with value: 4.702013125000215.\n",
            "[I 2024-05-01 12:30:16,692] Trial 7 finished with value: 5.376315316267268 and parameters: {'n_neighbors': 13, 'weights': 'uniform', 'p': 8}. Best is trial 6 with value: 4.702013125000215.\n",
            "[I 2024-05-01 12:30:16,943] Trial 8 finished with value: 6.058763822616655 and parameters: {'n_neighbors': 1, 'weights': 'uniform', 'p': 4}. Best is trial 6 with value: 4.702013125000215.\n",
            "[I 2024-05-01 12:30:17,472] Trial 9 finished with value: 4.653788325532023 and parameters: {'n_neighbors': 7, 'weights': 'distance', 'p': 7}. Best is trial 9 with value: 4.653788325532023.\n",
            "[I 2024-05-01 12:30:17,667] Trial 10 finished with value: 5.201742433099271 and parameters: {'n_neighbors': 18, 'weights': 'distance', 'p': 10}. Best is trial 9 with value: 4.653788325532023.\n",
            "[I 2024-05-01 12:30:18,266] Trial 11 finished with value: 4.8131525672449085 and parameters: {'n_neighbors': 7, 'weights': 'distance', 'p': 1}. Best is trial 9 with value: 4.653788325532023.\n",
            "[I 2024-05-01 12:30:18,389] Trial 12 finished with value: 4.890824241594118 and parameters: {'n_neighbors': 5, 'weights': 'distance', 'p': 1}. Best is trial 9 with value: 4.653788325532023.\n",
            "[I 2024-05-01 12:30:19,033] Trial 13 finished with value: 4.921283420376145 and parameters: {'n_neighbors': 3, 'weights': 'uniform', 'p': 1}. Best is trial 9 with value: 4.653788325532023.\n",
            "[I 2024-05-01 12:30:19,161] Trial 14 finished with value: 6.3215274395952665 and parameters: {'n_neighbors': 1, 'weights': 'uniform', 'p': 3}. Best is trial 9 with value: 4.653788325532023.\n",
            "[I 2024-05-01 12:30:19,924] Trial 15 finished with value: 5.0980964699194455 and parameters: {'n_neighbors': 8, 'weights': 'uniform', 'p': 3}. Best is trial 9 with value: 4.653788325532023.\n",
            "[I 2024-05-01 12:30:20,115] Trial 16 finished with value: 4.674423976521416 and parameters: {'n_neighbors': 8, 'weights': 'distance', 'p': 6}. Best is trial 9 with value: 4.653788325532023.\n",
            "[I 2024-05-01 12:30:21,246] Trial 17 finished with value: 4.760054166605945 and parameters: {'n_neighbors': 5, 'weights': 'distance', 'p': 6}. Best is trial 9 with value: 4.653788325532023.\n",
            "[I 2024-05-01 12:30:21,386] Trial 18 finished with value: 4.831060625736659 and parameters: {'n_neighbors': 10, 'weights': 'distance', 'p': 6}. Best is trial 9 with value: 4.653788325532023.\n",
            "[I 2024-05-01 12:30:22,460] Trial 19 finished with value: 5.062108184023037 and parameters: {'n_neighbors': 15, 'weights': 'distance', 'p': 7}. Best is trial 9 with value: 4.653788325532023.\n",
            "[I 2024-05-01 12:30:22,538] Trial 20 finished with value: 5.062108184023037 and parameters: {'n_neighbors': 15, 'weights': 'distance', 'p': 7}. Best is trial 9 with value: 4.653788325532023.\n",
            "[I 2024-05-01 12:30:23,579] Trial 22 finished with value: 4.6986239290882965 and parameters: {'n_neighbors': 7, 'weights': 'distance', 'p': 5}. Best is trial 9 with value: 4.653788325532023.\n",
            "[I 2024-05-01 12:30:23,704] Trial 21 finished with value: 4.641942743534125 and parameters: {'n_neighbors': 7, 'weights': 'distance', 'p': 9}. Best is trial 21 with value: 4.641942743534125.\n",
            "[I 2024-05-01 12:30:25,421] Trial 23 finished with value: 4.6986239290882965 and parameters: {'n_neighbors': 7, 'weights': 'distance', 'p': 5}. Best is trial 21 with value: 4.641942743534125.\n",
            "[I 2024-05-01 12:30:25,462] Trial 24 finished with value: 4.779181354051756 and parameters: {'n_neighbors': 10, 'weights': 'distance', 'p': 9}. Best is trial 21 with value: 4.641942743534125.\n",
            "[I 2024-05-01 12:30:26,368] Trial 25 finished with value: 4.779181354051756 and parameters: {'n_neighbors': 10, 'weights': 'distance', 'p': 9}. Best is trial 21 with value: 4.641942743534125.\n",
            "[I 2024-05-01 12:30:26,417] Trial 26 finished with value: 4.797135025117376 and parameters: {'n_neighbors': 6, 'weights': 'distance', 'p': 9}. Best is trial 21 with value: 4.641942743534125.\n",
            "[I 2024-05-01 12:30:27,441] Trial 27 finished with value: 4.803259819253139 and parameters: {'n_neighbors': 6, 'weights': 'distance', 'p': 7}. Best is trial 21 with value: 4.641942743534125.\n",
            "[I 2024-05-01 12:30:27,485] Trial 28 finished with value: 4.767917404436663 and parameters: {'n_neighbors': 3, 'weights': 'distance', 'p': 7}. Best is trial 21 with value: 4.641942743534125.\n",
            "[I 2024-05-01 12:30:28,443] Trial 29 finished with value: 4.652414933382824 and parameters: {'n_neighbors': 8, 'weights': 'distance', 'p': 7}. Best is trial 21 with value: 4.641942743534125.\n",
            "[I 2024-05-01 12:30:28,491] Trial 30 finished with value: 4.73330224362013 and parameters: {'n_neighbors': 9, 'weights': 'distance', 'p': 8}. Best is trial 21 with value: 4.641942743534125.\n",
            "[I 2024-05-01 12:30:29,407] Trial 32 finished with value: 4.652414933382824 and parameters: {'n_neighbors': 8, 'weights': 'distance', 'p': 7}. Best is trial 21 with value: 4.641942743534125.\n",
            "[I 2024-05-01 12:30:29,420] Trial 31 finished with value: 4.73330224362013 and parameters: {'n_neighbors': 9, 'weights': 'distance', 'p': 8}. Best is trial 21 with value: 4.641942743534125.\n",
            "[I 2024-05-01 12:30:30,243] Trial 33 finished with value: 4.937432509321541 and parameters: {'n_neighbors': 11, 'weights': 'distance', 'p': 9}. Best is trial 21 with value: 4.641942743534125.\n",
            "[I 2024-05-01 12:30:30,332] Trial 34 finished with value: 4.937432509321541 and parameters: {'n_neighbors': 11, 'weights': 'distance', 'p': 9}. Best is trial 21 with value: 4.641942743534125.\n",
            "[I 2024-05-01 12:30:30,959] Trial 35 finished with value: 4.652414933382824 and parameters: {'n_neighbors': 8, 'weights': 'distance', 'p': 7}. Best is trial 21 with value: 4.641942743534125.\n",
            "[I 2024-05-01 12:30:31,108] Trial 36 finished with value: 4.652414933382824 and parameters: {'n_neighbors': 8, 'weights': 'distance', 'p': 7}. Best is trial 21 with value: 4.641942743534125.\n",
            "[I 2024-05-01 12:30:31,674] Trial 37 finished with value: 4.707305449364135 and parameters: {'n_neighbors': 4, 'weights': 'distance', 'p': 8}. Best is trial 21 with value: 4.641942743534125.\n",
            "[I 2024-05-01 12:30:31,896] Trial 38 finished with value: 4.73330224362013 and parameters: {'n_neighbors': 9, 'weights': 'distance', 'p': 8}. Best is trial 21 with value: 4.641942743534125.\n",
            "[I 2024-05-01 12:30:32,638] Trial 39 finished with value: 4.699366027210539 and parameters: {'n_neighbors': 9, 'weights': 'distance', 'p': 10}. Best is trial 21 with value: 4.641942743534125.\n",
            "[I 2024-05-01 12:30:32,967] Trial 40 finished with value: 4.899742050080649 and parameters: {'n_neighbors': 12, 'weights': 'distance', 'p': 10}. Best is trial 21 with value: 4.641942743534125.\n",
            "[I 2024-05-01 12:30:33,269] Trial 41 finished with value: 5.403960648778828 and parameters: {'n_neighbors': 12, 'weights': 'uniform', 'p': 5}. Best is trial 21 with value: 4.641942743534125.\n",
            "[I 2024-05-01 12:30:33,788] Trial 42 finished with value: 4.652414933382824 and parameters: {'n_neighbors': 8, 'weights': 'distance', 'p': 7}. Best is trial 21 with value: 4.641942743534125.\n",
            "[I 2024-05-01 12:30:34,091] Trial 43 finished with value: 4.652414933382824 and parameters: {'n_neighbors': 8, 'weights': 'distance', 'p': 7}. Best is trial 21 with value: 4.641942743534125.\n",
            "[I 2024-05-01 12:30:34,543] Trial 44 finished with value: 4.816860870358501 and parameters: {'n_neighbors': 6, 'weights': 'distance', 'p': 6}. Best is trial 21 with value: 4.641942743534125.\n",
            "[I 2024-05-01 12:30:34,934] Trial 45 finished with value: 4.816860870358501 and parameters: {'n_neighbors': 6, 'weights': 'distance', 'p': 6}. Best is trial 21 with value: 4.641942743534125.\n",
            "[I 2024-05-01 12:30:35,355] Trial 46 finished with value: 4.742537469002166 and parameters: {'n_neighbors': 5, 'weights': 'distance', 'p': 8}. Best is trial 21 with value: 4.641942743534125.\n",
            "[I 2024-05-01 12:30:35,768] Trial 47 finished with value: 4.707305449364135 and parameters: {'n_neighbors': 4, 'weights': 'distance', 'p': 8}. Best is trial 21 with value: 4.641942743534125.\n",
            "[I 2024-05-01 12:30:36,021] Trial 48 finished with value: 4.889525677621876 and parameters: {'n_neighbors': 4, 'weights': 'uniform', 'p': 4}. Best is trial 21 with value: 4.641942743534125.\n",
            "[I 2024-05-01 12:30:36,705] Trial 49 finished with value: 5.0054066614942485 and parameters: {'n_neighbors': 8, 'weights': 'uniform', 'p': 4}. Best is trial 21 with value: 4.641942743534125.\n",
            "[I 2024-05-01 12:30:36,801] Trial 50 finished with value: 4.652414933382824 and parameters: {'n_neighbors': 8, 'weights': 'distance', 'p': 7}. Best is trial 21 with value: 4.641942743534125.\n",
            "[I 2024-05-01 12:30:37,457] Trial 51 finished with value: 4.653788325532023 and parameters: {'n_neighbors': 7, 'weights': 'distance', 'p': 7}. Best is trial 21 with value: 4.641942743534125.\n",
            "[I 2024-05-01 12:30:37,585] Trial 52 finished with value: 4.653788325532023 and parameters: {'n_neighbors': 7, 'weights': 'distance', 'p': 7}. Best is trial 21 with value: 4.641942743534125.\n",
            "[I 2024-05-01 12:30:38,354] Trial 53 finished with value: 5.19899579891074 and parameters: {'n_neighbors': 20, 'weights': 'distance', 'p': 6}. Best is trial 21 with value: 4.641942743534125.\n",
            "[I 2024-05-01 12:30:38,501] Trial 54 finished with value: 4.831060625736659 and parameters: {'n_neighbors': 10, 'weights': 'distance', 'p': 6}. Best is trial 21 with value: 4.641942743534125.\n",
            "[I 2024-05-01 12:30:39,241] Trial 55 finished with value: 4.848579050722353 and parameters: {'n_neighbors': 10, 'weights': 'distance', 'p': 8}. Best is trial 21 with value: 4.641942743534125.\n",
            "[I 2024-05-01 12:30:39,434] Trial 56 finished with value: 4.713751285072817 and parameters: {'n_neighbors': 8, 'weights': 'distance', 'p': 5}. Best is trial 21 with value: 4.641942743534125.\n",
            "[I 2024-05-01 12:30:40,156] Trial 57 finished with value: 4.758224448836012 and parameters: {'n_neighbors': 9, 'weights': 'distance', 'p': 5}. Best is trial 21 with value: 4.641942743534125.\n",
            "[I 2024-05-01 12:30:40,412] Trial 58 finished with value: 4.733529470130154 and parameters: {'n_neighbors': 9, 'weights': 'distance', 'p': 7}. Best is trial 21 with value: 4.641942743534125.\n",
            "[I 2024-05-01 12:30:41,086] Trial 59 finished with value: 4.903539035102492 and parameters: {'n_neighbors': 11, 'weights': 'distance', 'p': 7}. Best is trial 21 with value: 4.641942743534125.\n",
            "[I 2024-05-01 12:30:41,325] Trial 60 finished with value: 5.464879128850731 and parameters: {'n_neighbors': 13, 'weights': 'uniform', 'p': 6}. Best is trial 21 with value: 4.641942743534125.\n",
            "[I 2024-05-01 12:30:42,111] Trial 61 finished with value: 5.382932264565107 and parameters: {'n_neighbors': 13, 'weights': 'uniform', 'p': 9}. Best is trial 21 with value: 4.641942743534125.\n",
            "[I 2024-05-01 12:30:42,152] Trial 62 finished with value: 4.652414933382824 and parameters: {'n_neighbors': 8, 'weights': 'distance', 'p': 7}. Best is trial 21 with value: 4.641942743534125.\n",
            "[I 2024-05-01 12:30:42,818] Trial 63 finished with value: 4.650273647311968 and parameters: {'n_neighbors': 8, 'weights': 'distance', 'p': 8}. Best is trial 21 with value: 4.641942743534125.\n",
            "[I 2024-05-01 12:30:42,961] Trial 64 finished with value: 4.798275332891197 and parameters: {'n_neighbors': 6, 'weights': 'distance', 'p': 8}. Best is trial 21 with value: 4.641942743534125.\n",
            "[I 2024-05-01 12:30:43,652] Trial 65 finished with value: 4.798275332891197 and parameters: {'n_neighbors': 6, 'weights': 'distance', 'p': 8}. Best is trial 21 with value: 4.641942743534125.\n",
            "[I 2024-05-01 12:30:43,804] Trial 66 finished with value: 4.651593113277928 and parameters: {'n_neighbors': 7, 'weights': 'distance', 'p': 8}. Best is trial 21 with value: 4.641942743534125.\n",
            "[I 2024-05-01 12:30:44,281] Trial 67 finished with value: 4.641942743534125 and parameters: {'n_neighbors': 7, 'weights': 'distance', 'p': 9}. Best is trial 21 with value: 4.641942743534125.\n",
            "[I 2024-05-01 12:30:44,634] Trial 68 finished with value: 4.641942743534125 and parameters: {'n_neighbors': 7, 'weights': 'distance', 'p': 9}. Best is trial 21 with value: 4.641942743534125.\n",
            "[I 2024-05-01 12:30:45,059] Trial 69 finished with value: 4.641942743534125 and parameters: {'n_neighbors': 7, 'weights': 'distance', 'p': 9}. Best is trial 21 with value: 4.641942743534125.\n",
            "[I 2024-05-01 12:30:45,454] Trial 70 finished with value: 4.641942743534125 and parameters: {'n_neighbors': 7, 'weights': 'distance', 'p': 9}. Best is trial 21 with value: 4.641942743534125.\n",
            "[I 2024-05-01 12:30:45,824] Trial 71 finished with value: 4.7502004081391185 and parameters: {'n_neighbors': 5, 'weights': 'distance', 'p': 9}. Best is trial 21 with value: 4.641942743534125.\n",
            "[I 2024-05-01 12:30:46,187] Trial 72 finished with value: 4.7502004081391185 and parameters: {'n_neighbors': 5, 'weights': 'distance', 'p': 9}. Best is trial 21 with value: 4.641942743534125.\n",
            "[I 2024-05-01 12:30:46,669] Trial 73 finished with value: 4.66830160192092 and parameters: {'n_neighbors': 7, 'weights': 'distance', 'p': 10}. Best is trial 21 with value: 4.641942743534125.\n",
            "[I 2024-05-01 12:30:47,068] Trial 74 finished with value: 4.66830160192092 and parameters: {'n_neighbors': 7, 'weights': 'distance', 'p': 10}. Best is trial 21 with value: 4.641942743534125.\n",
            "[I 2024-05-01 12:30:47,432] Trial 75 finished with value: 4.66830160192092 and parameters: {'n_neighbors': 7, 'weights': 'distance', 'p': 10}. Best is trial 21 with value: 4.641942743534125.\n",
            "[I 2024-05-01 12:30:47,785] Trial 76 finished with value: 4.641942743534125 and parameters: {'n_neighbors': 7, 'weights': 'distance', 'p': 9}. Best is trial 21 with value: 4.641942743534125.\n",
            "[I 2024-05-01 12:30:48,288] Trial 77 finished with value: 4.797135025117376 and parameters: {'n_neighbors': 6, 'weights': 'distance', 'p': 9}. Best is trial 21 with value: 4.641942743534125.\n",
            "[I 2024-05-01 12:30:48,609] Trial 78 finished with value: 4.797135025117376 and parameters: {'n_neighbors': 6, 'weights': 'distance', 'p': 9}. Best is trial 21 with value: 4.641942743534125.\n",
            "[I 2024-05-01 12:30:49,182] Trial 79 finished with value: 4.704727382911985 and parameters: {'n_neighbors': 3, 'weights': 'distance', 'p': 9}. Best is trial 21 with value: 4.641942743534125.\n",
            "[I 2024-05-01 12:30:49,365] Trial 80 finished with value: 5.1580658733575495 and parameters: {'n_neighbors': 2, 'weights': 'distance', 'p': 9}. Best is trial 21 with value: 4.641942743534125.\n",
            "[I 2024-05-01 12:30:50,104] Trial 81 finished with value: 4.66830160192092 and parameters: {'n_neighbors': 7, 'weights': 'distance', 'p': 10}. Best is trial 21 with value: 4.641942743534125.\n",
            "[I 2024-05-01 12:30:50,150] Trial 82 finished with value: 4.66830160192092 and parameters: {'n_neighbors': 7, 'weights': 'distance', 'p': 10}. Best is trial 21 with value: 4.641942743534125.\n",
            "[I 2024-05-01 12:30:50,807] Trial 83 finished with value: 4.651593113277928 and parameters: {'n_neighbors': 7, 'weights': 'distance', 'p': 8}. Best is trial 21 with value: 4.641942743534125.\n",
            "[I 2024-05-01 12:30:50,945] Trial 84 finished with value: 4.742537469002166 and parameters: {'n_neighbors': 5, 'weights': 'distance', 'p': 8}. Best is trial 21 with value: 4.641942743534125.\n",
            "[I 2024-05-01 12:30:51,680] Trial 85 finished with value: 4.7502004081391185 and parameters: {'n_neighbors': 5, 'weights': 'distance', 'p': 9}. Best is trial 21 with value: 4.641942743534125.\n",
            "[I 2024-05-01 12:30:51,748] Trial 86 finished with value: 4.7382437244479085 and parameters: {'n_neighbors': 9, 'weights': 'distance', 'p': 9}. Best is trial 21 with value: 4.641942743534125.\n",
            "[I 2024-05-01 12:30:52,617] Trial 87 finished with value: 4.7382437244479085 and parameters: {'n_neighbors': 9, 'weights': 'distance', 'p': 9}. Best is trial 21 with value: 4.641942743534125.\n",
            "[I 2024-05-01 12:30:52,695] Trial 88 finished with value: 4.706833200071085 and parameters: {'n_neighbors': 4, 'weights': 'distance', 'p': 9}. Best is trial 21 with value: 4.641942743534125.\n",
            "[I 2024-05-01 12:30:53,568] Trial 89 finished with value: 4.798275332891197 and parameters: {'n_neighbors': 6, 'weights': 'distance', 'p': 8}. Best is trial 21 with value: 4.641942743534125.\n",
            "[I 2024-05-01 12:30:53,616] Trial 90 finished with value: 4.798275332891197 and parameters: {'n_neighbors': 6, 'weights': 'distance', 'p': 8}. Best is trial 21 with value: 4.641942743534125.\n",
            "[I 2024-05-01 12:30:54,446] Trial 91 finished with value: 4.651593113277928 and parameters: {'n_neighbors': 7, 'weights': 'distance', 'p': 8}. Best is trial 21 with value: 4.641942743534125.\n",
            "[I 2024-05-01 12:30:54,579] Trial 92 finished with value: 4.650273647311968 and parameters: {'n_neighbors': 8, 'weights': 'distance', 'p': 8}. Best is trial 21 with value: 4.641942743534125.\n",
            "[I 2024-05-01 12:30:55,439] Trial 93 finished with value: 4.651593113277928 and parameters: {'n_neighbors': 7, 'weights': 'distance', 'p': 8}. Best is trial 21 with value: 4.641942743534125.\n",
            "[I 2024-05-01 12:30:55,534] Trial 94 finished with value: 4.649188484994112 and parameters: {'n_neighbors': 8, 'weights': 'distance', 'p': 9}. Best is trial 21 with value: 4.641942743534125.\n",
            "[I 2024-05-01 12:30:56,153] Trial 95 finished with value: 4.6541942286635125 and parameters: {'n_neighbors': 8, 'weights': 'distance', 'p': 10}. Best is trial 21 with value: 4.641942743534125.\n",
            "[I 2024-05-01 12:30:56,347] Trial 96 finished with value: 4.6541942286635125 and parameters: {'n_neighbors': 8, 'weights': 'distance', 'p': 10}. Best is trial 21 with value: 4.641942743534125.\n",
            "[I 2024-05-01 12:30:56,961] Trial 97 finished with value: 4.902567394152849 and parameters: {'n_neighbors': 8, 'weights': 'uniform', 'p': 9}. Best is trial 21 with value: 4.641942743534125.\n",
            "[I 2024-05-01 12:30:57,123] Trial 98 finished with value: 5.0565896235638395 and parameters: {'n_neighbors': 9, 'weights': 'uniform', 'p': 9}. Best is trial 21 with value: 4.641942743534125.\n",
            "[I 2024-05-01 12:30:57,477] Trial 99 finished with value: 4.7382437244479085 and parameters: {'n_neighbors': 9, 'weights': 'distance', 'p': 9}. Best is trial 21 with value: 4.641942743534125.\n",
            "[I 2024-05-01 12:30:57,499] A new study created in memory with name: no-name-3d4d61a7-9b45-41ae-9e44-a56a4ce1ef2d\n",
            "[I 2024-05-01 12:30:59,676] Trial 0 finished with value: 4.809988312263782 and parameters: {'n_estimators': 177, 'criterion': 'friedman_mse', 'max_depth': 18, 'min_samples_leaf': 5, 'max_features': 0.911}. Best is trial 0 with value: 4.809988312263782.\n",
            "[I 2024-05-01 12:31:00,062] Trial 1 finished with value: 4.890117208321893 and parameters: {'n_estimators': 183, 'criterion': 'friedman_mse', 'max_depth': 12, 'min_samples_leaf': 4, 'max_features': 0.584}. Best is trial 0 with value: 4.809988312263782.\n",
            "[I 2024-05-01 12:31:02,957] Trial 3 finished with value: 4.783834924600079 and parameters: {'n_estimators': 330, 'criterion': 'friedman_mse', 'max_depth': 17, 'min_samples_leaf': 5, 'max_features': 0.994}. Best is trial 3 with value: 4.783834924600079.\n",
            "[I 2024-05-01 12:31:04,409] Trial 4 finished with value: 5.293642875230534 and parameters: {'n_estimators': 153, 'criterion': 'squared_error', 'max_depth': 1, 'min_samples_leaf': 2, 'max_features': 0.819}. Best is trial 3 with value: 4.783834924600079.\n",
            "[I 2024-05-01 12:31:05,084] Trial 2 finished with value: 4.790860043589758 and parameters: {'n_estimators': 398, 'criterion': 'poisson', 'max_depth': 13, 'min_samples_leaf': 1, 'max_features': 0.274}. Best is trial 3 with value: 4.783834924600079.\n",
            "[I 2024-05-01 12:31:07,726] Trial 6 finished with value: 4.9782605664380695 and parameters: {'n_estimators': 189, 'criterion': 'poisson', 'max_depth': 13, 'min_samples_leaf': 2, 'max_features': 0.621}. Best is trial 3 with value: 4.783834924600079.\n",
            "[I 2024-05-01 12:31:07,958] Trial 5 finished with value: 4.963599618779988 and parameters: {'n_estimators': 314, 'criterion': 'poisson', 'max_depth': 21, 'min_samples_leaf': 2, 'max_features': 0.42300000000000004}. Best is trial 3 with value: 4.783834924600079.\n",
            "[I 2024-05-01 12:31:11,366] Trial 8 finished with value: 4.864971922059111 and parameters: {'n_estimators': 286, 'criterion': 'squared_error', 'max_depth': 4, 'min_samples_leaf': 2, 'max_features': 0.357}. Best is trial 3 with value: 4.783834924600079.\n",
            "[I 2024-05-01 12:31:12,226] Trial 7 finished with value: 5.0106480559411954 and parameters: {'n_estimators': 369, 'criterion': 'poisson', 'max_depth': 3, 'min_samples_leaf': 1, 'max_features': 0.277}. Best is trial 3 with value: 4.783834924600079.\n",
            "[I 2024-05-01 12:31:14,473] Trial 10 finished with value: 4.778798954471508 and parameters: {'n_estimators': 165, 'criterion': 'absolute_error', 'max_depth': 29, 'min_samples_leaf': 1, 'max_features': 0.135}. Best is trial 10 with value: 4.778798954471508.\n",
            "[I 2024-05-01 12:31:15,742] Trial 9 finished with value: 4.761392020581448 and parameters: {'n_estimators': 418, 'criterion': 'absolute_error', 'max_depth': 22, 'min_samples_leaf': 5, 'max_features': 0.729}. Best is trial 9 with value: 4.761392020581448.\n",
            "[I 2024-05-01 12:31:18,924] Trial 11 finished with value: 5.026057415524857 and parameters: {'n_estimators': 475, 'criterion': 'absolute_error', 'max_depth': 29, 'min_samples_leaf': 3, 'max_features': 0.1}. Best is trial 9 with value: 4.761392020581448.\n",
            "[I 2024-05-01 12:31:20,396] Trial 12 finished with value: 4.769742579710018 and parameters: {'n_estimators': 468, 'criterion': 'absolute_error', 'max_depth': 30, 'min_samples_leaf': 4, 'max_features': 0.707}. Best is trial 9 with value: 4.761392020581448.\n",
            "[I 2024-05-01 12:31:24,505] Trial 13 finished with value: 4.766795432287987 and parameters: {'n_estimators': 497, 'criterion': 'absolute_error', 'max_depth': 30, 'min_samples_leaf': 4, 'max_features': 0.75}. Best is trial 9 with value: 4.761392020581448.\n",
            "[I 2024-05-01 12:31:26,775] Trial 14 finished with value: 4.762254718260881 and parameters: {'n_estimators': 488, 'criterion': 'absolute_error', 'max_depth': 24, 'min_samples_leaf': 4, 'max_features': 0.74}. Best is trial 9 with value: 4.761392020581448.\n",
            "[I 2024-05-01 12:31:29,037] Trial 15 finished with value: 4.75806072561436 and parameters: {'n_estimators': 424, 'criterion': 'absolute_error', 'max_depth': 24, 'min_samples_leaf': 4, 'max_features': 0.766}. Best is trial 15 with value: 4.75806072561436.\n",
            "[I 2024-05-01 12:31:30,775] Trial 16 finished with value: 4.864104062424166 and parameters: {'n_estimators': 423, 'criterion': 'absolute_error', 'max_depth': 24, 'min_samples_leaf': 5, 'max_features': 0.497}. Best is trial 15 with value: 4.75806072561436.\n",
            "[I 2024-05-01 12:31:33,067] Trial 17 finished with value: 4.862690771298553 and parameters: {'n_estimators': 415, 'criterion': 'absolute_error', 'max_depth': 24, 'min_samples_leaf': 5, 'max_features': 0.491}. Best is trial 15 with value: 4.75806072561436.\n",
            "[I 2024-05-01 12:31:34,011] Trial 18 finished with value: 4.904598794309136 and parameters: {'n_estimators': 272, 'criterion': 'absolute_error', 'max_depth': 24, 'min_samples_leaf': 3, 'max_features': 0.898}. Best is trial 15 with value: 4.75806072561436.\n",
            "[I 2024-05-01 12:31:37,005] Trial 20 finished with value: 4.922936287012893 and parameters: {'n_estimators': 246, 'criterion': 'squared_error', 'max_depth': 20, 'min_samples_leaf': 3, 'max_features': 0.656}. Best is trial 15 with value: 4.75806072561436.\n",
            "[I 2024-05-01 12:31:37,626] Trial 19 finished with value: 4.913215781659532 and parameters: {'n_estimators': 256, 'criterion': 'absolute_error', 'max_depth': 20, 'min_samples_leaf': 3, 'max_features': 0.845}. Best is trial 15 with value: 4.75806072561436.\n",
            "[I 2024-05-01 12:31:38,828] Trial 21 finished with value: 4.742894269490259 and parameters: {'n_estimators': 105, 'criterion': 'absolute_error', 'max_depth': 9, 'min_samples_leaf': 4, 'max_features': 0.818}. Best is trial 21 with value: 4.742894269490259.\n",
            "[I 2024-05-01 12:31:42,125] Trial 22 finished with value: 4.761987393630011 and parameters: {'n_estimators': 443, 'criterion': 'absolute_error', 'max_depth': 26, 'min_samples_leaf': 4, 'max_features': 0.751}. Best is trial 21 with value: 4.742894269490259.\n",
            "[I 2024-05-01 12:31:43,271] Trial 23 finished with value: 4.762810053006496 and parameters: {'n_estimators': 439, 'criterion': 'absolute_error', 'max_depth': 8, 'min_samples_leaf': 4, 'max_features': 0.829}. Best is trial 21 with value: 4.742894269490259.\n",
            "[I 2024-05-01 12:31:43,987] Trial 24 finished with value: 4.709343368252124 and parameters: {'n_estimators': 114, 'criterion': 'absolute_error', 'max_depth': 9, 'min_samples_leaf': 5, 'max_features': 0.997}. Best is trial 24 with value: 4.709343368252124.\n",
            "[I 2024-05-01 12:31:45,035] Trial 25 finished with value: 4.729078067320938 and parameters: {'n_estimators': 105, 'criterion': 'absolute_error', 'max_depth': 9, 'min_samples_leaf': 5, 'max_features': 0.983}. Best is trial 24 with value: 4.709343368252124.\n",
            "[I 2024-05-01 12:31:45,861] Trial 26 finished with value: 4.659831520011327 and parameters: {'n_estimators': 113, 'criterion': 'absolute_error', 'max_depth': 9, 'min_samples_leaf': 4, 'max_features': 0.978}. Best is trial 26 with value: 4.659831520011327.\n",
            "[I 2024-05-01 12:31:46,452] Trial 27 finished with value: 4.727003154300283 and parameters: {'n_estimators': 110, 'criterion': 'absolute_error', 'max_depth': 8, 'min_samples_leaf': 5, 'max_features': 0.997}. Best is trial 26 with value: 4.659831520011327.\n",
            "[I 2024-05-01 12:31:48,180] Trial 28 finished with value: 4.7456290949468825 and parameters: {'n_estimators': 112, 'criterion': 'squared_error', 'max_depth': 7, 'min_samples_leaf': 5, 'max_features': 0.987}. Best is trial 26 with value: 4.659831520011327.\n",
            "[I 2024-05-01 12:31:48,687] Trial 29 finished with value: 4.75886680786892 and parameters: {'n_estimators': 138, 'criterion': 'friedman_mse', 'max_depth': 6, 'min_samples_leaf': 5, 'max_features': 0.917}. Best is trial 26 with value: 4.659831520011327.\n",
            "[I 2024-05-01 12:31:51,548] Trial 30 finished with value: 4.808783533759879 and parameters: {'n_estimators': 221, 'criterion': 'friedman_mse', 'max_depth': 5, 'min_samples_leaf': 5, 'max_features': 0.914}. Best is trial 26 with value: 4.659831520011327.\n",
            "[I 2024-05-01 12:31:51,577] Trial 31 finished with value: 4.809095206091774 and parameters: {'n_estimators': 207, 'criterion': 'friedman_mse', 'max_depth': 11, 'min_samples_leaf': 5, 'max_features': 0.928}. Best is trial 26 with value: 4.659831520011327.\n",
            "[I 2024-05-01 12:31:53,478] Trial 32 finished with value: 4.71401164266629 and parameters: {'n_estimators': 131, 'criterion': 'absolute_error', 'max_depth': 10, 'min_samples_leaf': 5, 'max_features': 0.998}. Best is trial 26 with value: 4.659831520011327.\n"
          ]
        }
      ]
    },
    {
      "cell_type": "markdown",
      "source": [
        "Lagring av resultater"
      ],
      "metadata": {
        "id": "ZPcVQ7WrUCjj"
      }
    },
    {
      "cell_type": "code",
      "source": [
        "res_2_hel_NIR = pd.DataFrame(res.dict_res_2_hel_NIR)\n",
        "res_2_hel_opt_NIR = pd.DataFrame(res.dict_res_2_hel_opt_NIR)\n",
        "\n",
        "res_2_hel_NIR.to_csv('/content/drive/MyDrive/MasterV24/Bioco_data/Resultater/collagen/collagen_resultater_2_hel_NIR.csv')\n",
        "res_2_hel_opt_NIR.to_csv('/content/drive/MyDrive/MasterV24/Bioco_data/Resultater/collagen/collagen_resultater_2_hel_opt_NIR.csv')"
      ],
      "metadata": {
        "id": "0YkuHXAcUCjk"
      },
      "execution_count": null,
      "outputs": []
    },
    {
      "cell_type": "markdown",
      "source": [
        "Velger beste modell"
      ],
      "metadata": {
        "id": "XbJTLrDaUCjk"
      }
    },
    {
      "cell_type": "code",
      "source": [],
      "metadata": {
        "id": "f_imTA5IUCjk"
      },
      "execution_count": null,
      "outputs": []
    },
    {
      "cell_type": "markdown",
      "source": [
        "## Designsett"
      ],
      "metadata": {
        "id": "oo_ES-o-UK_3"
      }
    },
    {
      "cell_type": "markdown",
      "source": [
        "## Alternativ 2: 20% Testsett og resteremde hele treningssett"
      ],
      "metadata": {
        "id": "ItNTDh9mUpGx"
      }
    },
    {
      "cell_type": "code",
      "source": [
        "# Deler datasettet i trening og testsett\n",
        "trening_markert, testsett, _, trening\\\n",
        "= trening_testsett_oppdeling_dag(rå_data,\n",
        "                                 data,\n",
        "                                 test_andel=test_andel,\n",
        "                                 test_ekskluder_kalkun_kylling=True)\n",
        "\n",
        "# Finner antall av enzymtype med minst antall\n",
        "n_splitt = n_splitt_enzym(rå_data,\n",
        "                          trening_markert)\n",
        "\n",
        "# Modelloptimalisering, trening og evaluering av RFR, KNR og SVR\n",
        "veiledet_modell_evaluering_2(dict_res_opt=res.dict_res_2_design_opt_NIR,\n",
        "                             dict_res=res.dict_res_2_design_NIR,\n",
        "                             rå_data=rå_data,\n",
        "                             treningssett_markert=trening_markert,\n",
        "                             testsett=testsett,\n",
        "                             n_splitt=n_splitt,\n",
        "                             n_runder=n_runder,\n",
        "                             test_andel=test_andel,\n",
        "                             trenings_andel=trenings_andel,\n",
        "                             random_seed=random_seed)"
      ],
      "metadata": {
        "id": "pH5wLeyGUpGy"
      },
      "execution_count": null,
      "outputs": []
    },
    {
      "cell_type": "markdown",
      "source": [
        "Lagring av resultater"
      ],
      "metadata": {
        "id": "XlO88i0yUpGy"
      }
    },
    {
      "cell_type": "code",
      "source": [
        "res_2_design_NIR = pd.DataFrame(res.dict_res_2_design_NIR)\n",
        "res_2_design_opt_NIR = pd.DataFrame(res.dict_res_2_design_opt_NIR)\n",
        "\n",
        "res_2_design_NIR.to_csv('/content/drive/MyDrive/MasterV24/Bioco_data/Resultater/collagen/collagen_resultater_2_design_NIR.csv')\n",
        "res_2_design_opt_NIR.to_csv('/content/drive/MyDrive/MasterV24/Bioco_data/Resultater/collagen/collagen_resultater_2_design_opt_NIR.csv')"
      ],
      "metadata": {
        "id": "Cy32D9BDUpGy"
      },
      "execution_count": null,
      "outputs": []
    },
    {
      "cell_type": "markdown",
      "source": [
        "Velger beste modell"
      ],
      "metadata": {
        "id": "WFa2IU0mUpGy"
      }
    },
    {
      "cell_type": "code",
      "source": [],
      "metadata": {
        "id": "GKPY7_AHUpGy"
      },
      "execution_count": null,
      "outputs": []
    }
  ]
}