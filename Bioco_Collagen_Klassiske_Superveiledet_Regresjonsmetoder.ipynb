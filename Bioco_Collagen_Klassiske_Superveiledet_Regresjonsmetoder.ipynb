{
  "nbformat": 4,
  "nbformat_minor": 0,
  "metadata": {
    "colab": {
      "provenance": [],
      "authorship_tag": "ABX9TyNmf+tgcuNxwlzTMW4r+C/9",
      "include_colab_link": true
    },
    "kernelspec": {
      "name": "python3",
      "display_name": "Python 3"
    },
    "language_info": {
      "name": "python"
    }
  },
  "cells": [
    {
      "cell_type": "markdown",
      "metadata": {
        "id": "view-in-github",
        "colab_type": "text"
      },
      "source": [
        "<a href=\"https://colab.research.google.com/github/PreyPython123/Master-V24-Semiveiledet-Regresjon/blob/Collagen-Pradeep/Bioco_Collagen_Klassiske_Superveiledet_Regresjonsmetoder.ipynb\" target=\"_parent\"><img src=\"https://colab.research.google.com/assets/colab-badge.svg\" alt=\"Open In Colab\"/></a>"
      ]
    },
    {
      "cell_type": "markdown",
      "source": [
        "Lasting av nødvendige bibliotek og pakker"
      ],
      "metadata": {
        "id": "ZNeQrag9Rlc_"
      }
    },
    {
      "cell_type": "code",
      "execution_count": null,
      "metadata": {
        "id": "k5u1dZmp6cJ9"
      },
      "outputs": [],
      "source": []
    },
    {
      "cell_type": "markdown",
      "source": [
        "Importering av nødvendig bibliotek og pakker"
      ],
      "metadata": {
        "id": "jT-YzIdVRply"
      }
    },
    {
      "cell_type": "code",
      "source": [
        "import pandas as pd\n",
        "import numpy as np\n",
        "\n",
        "from sklearn.model_selection import train_test_split\n",
        "\n",
        "from sklearn.ensemble import RandomForestRegressor\n",
        "\n",
        "from sklearn.metrics import mean_squared_error, r2_score"
      ],
      "metadata": {
        "id": "DmFSuK8ARtBg"
      },
      "execution_count": 11,
      "outputs": []
    },
    {
      "cell_type": "markdown",
      "source": [
        "Importering av relevant data"
      ],
      "metadata": {
        "id": "21cdLIoaSTR6"
      }
    },
    {
      "cell_type": "code",
      "source": [
        "from google.colab import drive\n",
        "drive.mount('/content/drive')\n",
        "\n",
        "# Velger første kolonne med dato og tid som index\n",
        "collagen_data = pd.read_csv('/content/drive/MyDrive/MasterV24/Bioco_data/collagen_data.csv',\n",
        "                            header=0,\n",
        "                            sep=',',\n",
        "                            index_col=0)\n",
        "\n",
        "# Formatterer index til riktig format og datatype\n",
        "collagen_data.index = pd.to_datetime(collagen_data.index,\n",
        "                                     format='%Y-%m-%d %H:%M:%S')"
      ],
      "metadata": {
        "colab": {
          "base_uri": "https://localhost:8080/"
        },
        "id": "XeNQyDPZSTwY",
        "outputId": "989401fe-9450-48b4-9597-52fb05aaa0b9"
      },
      "execution_count": 2,
      "outputs": [
        {
          "output_type": "stream",
          "name": "stdout",
          "text": [
            "Mounted at /content/drive\n"
          ]
        }
      ]
    },
    {
      "cell_type": "markdown",
      "source": [
        "Beskrivelse av datasett"
      ],
      "metadata": {
        "id": "hPfDrou1pR0w"
      }
    },
    {
      "cell_type": "code",
      "source": [
        "collagen_data.info()"
      ],
      "metadata": {
        "colab": {
          "base_uri": "https://localhost:8080/"
        },
        "id": "HsvZWJ7apQpL",
        "outputId": "d8564ea0-6780-4f7d-bdcd-249f50f7c8d3"
      },
      "execution_count": 3,
      "outputs": [
        {
          "output_type": "stream",
          "name": "stdout",
          "text": [
            "<class 'pandas.core.frame.DataFrame'>\n",
            "DatetimeIndex: 29136 entries, 2022-10-31 17:37:00 to 2023-06-14 01:06:00\n",
            "Data columns (total 17 columns):\n",
            " #   Column         Non-Null Count  Dtype  \n",
            "---  ------         --------------  -----  \n",
            " 0   EnzymeType_A1  29136 non-null  int64  \n",
            " 1   EnzymeType_A2  29136 non-null  int64  \n",
            " 2   EnzymeType_B   29136 non-null  int64  \n",
            " 3   EnzymeType_C   29136 non-null  int64  \n",
            " 4   EnzymeType_D   29136 non-null  int64  \n",
            " 5   EnzymeType_E   29136 non-null  int64  \n",
            " 6   RawMatFlow     29136 non-null  float64\n",
            " 7   NIRfat         29136 non-null  float64\n",
            " 8   NIRash         29136 non-null  float64\n",
            " 9   NIRwater       29136 non-null  float64\n",
            " 10  TT07           29136 non-null  float64\n",
            " 11  TT08           29136 non-null  float64\n",
            " 12  PT03           29136 non-null  float64\n",
            " 13  TT20           29136 non-null  float64\n",
            " 14  TT09           29136 non-null  float64\n",
            " 15  TT12           29136 non-null  float64\n",
            " 16  Collagen       89 non-null     float64\n",
            "dtypes: float64(11), int64(6)\n",
            "memory usage: 4.0 MB\n"
          ]
        }
      ]
    },
    {
      "cell_type": "markdown",
      "source": [
        "# Oppdeling av datasett for trening og testing"
      ],
      "metadata": {
        "id": "yNN1h11QTJ2y"
      }
    },
    {
      "cell_type": "code",
      "source": [
        "#Tilfeldighetsfrø\n",
        "random_seed = 123\n",
        "\n",
        "# Deler opp markert del av datasettet\n",
        "collagen_markert = collagen_data.dropna(subset='Collagen')\n",
        "\n",
        "# Legger til kategorisk variabel for enzymtype til fordeling av datsettet\n",
        "collagen_markert['EnzymType'] = collagen_markert.filter(like='EnzymeType_').idxmax(axis=1).str.split('_').str[1].astype('category')\n",
        "\n",
        "# Splitter datasett i collagendataasett og kategorisk enzymtype\n",
        "collagen_enzymetypes = collagen_markert['EnzymType']\n",
        "collagen_markert.drop(columns=['EnzymType'], inplace=True)\n",
        "\n",
        "# Splitter trening og testdata etter enzymtype\n",
        "collagen_trening, collagen_test, _, _ = train_test_split(collagen_markert,\n",
        "                                                         collagen_enzymetypes,\n",
        "                                                         test_size = 0.25,\n",
        "                                                         stratify = collagen_enzymetypes,\n",
        "                                                         random_state = random_seed)\n",
        "\n",
        "# Deler opp datasettene til prediktorer og respons, for trening og testsett\n",
        "X_trening = collagen_trening.iloc[:, :-1]\n",
        "X_test = collagen_test.iloc[:, :-1]\n",
        "y_trening = collagen_trening.iloc[:, -1]\n",
        "y_test = collagen_test.iloc[:, :-1]"
      ],
      "metadata": {
        "colab": {
          "base_uri": "https://localhost:8080/"
        },
        "id": "jovL3AV6TM6H",
        "outputId": "02978751-0b26-4538-f3dc-c0823ae9cd6b"
      },
      "execution_count": 26,
      "outputs": [
        {
          "output_type": "stream",
          "name": "stderr",
          "text": [
            "<ipython-input-26-90b520abb1a0>:8: SettingWithCopyWarning: \n",
            "A value is trying to be set on a copy of a slice from a DataFrame.\n",
            "Try using .loc[row_indexer,col_indexer] = value instead\n",
            "\n",
            "See the caveats in the documentation: https://pandas.pydata.org/pandas-docs/stable/user_guide/indexing.html#returning-a-view-versus-a-copy\n",
            "  collagen_markert['EnzymType'] = collagen_markert.filter(like='EnzymeType_').idxmax(axis=1).str.split('_').str[1].astype('category')\n",
            "<ipython-input-26-90b520abb1a0>:12: SettingWithCopyWarning: \n",
            "A value is trying to be set on a copy of a slice from a DataFrame\n",
            "\n",
            "See the caveats in the documentation: https://pandas.pydata.org/pandas-docs/stable/user_guide/indexing.html#returning-a-view-versus-a-copy\n",
            "  collagen_markert.drop(columns=['EnzymType'], inplace=True)\n"
          ]
        }
      ]
    },
    {
      "cell_type": "code",
      "source": [],
      "metadata": {
        "id": "Qjc15TE0DXpG"
      },
      "execution_count": null,
      "outputs": []
    },
    {
      "cell_type": "markdown",
      "source": [],
      "metadata": {
        "id": "cIgUu1qErjKz"
      }
    }
  ]
}