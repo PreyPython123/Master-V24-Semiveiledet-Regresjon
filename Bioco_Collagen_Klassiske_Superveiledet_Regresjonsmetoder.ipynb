{
  "nbformat": 4,
  "nbformat_minor": 0,
  "metadata": {
    "colab": {
      "provenance": [],
      "authorship_tag": "ABX9TyNVQZKxUudviy0DZIU9JiK6",
      "include_colab_link": true
    },
    "kernelspec": {
      "name": "python3",
      "display_name": "Python 3"
    },
    "language_info": {
      "name": "python"
    },
    "accelerator": "TPU"
  },
  "cells": [
    {
      "cell_type": "markdown",
      "metadata": {
        "id": "view-in-github",
        "colab_type": "text"
      },
      "source": [
        "<a href=\"https://colab.research.google.com/github/PreyPython123/Master-V24-Semiveiledet-Regresjon/blob/Collagen-Pradeep/Bioco_Collagen_Klassiske_Superveiledet_Regresjonsmetoder.ipynb\" target=\"_parent\"><img src=\"https://colab.research.google.com/assets/colab-badge.svg\" alt=\"Open In Colab\"/></a>"
      ]
    },
    {
      "cell_type": "markdown",
      "source": [
        "Lasting av nødvendige bibliotek og pakker"
      ],
      "metadata": {
        "id": "ZNeQrag9Rlc_"
      }
    },
    {
      "cell_type": "code",
      "execution_count": 1,
      "metadata": {
        "id": "k5u1dZmp6cJ9",
        "colab": {
          "base_uri": "https://localhost:8080/"
        },
        "outputId": "2379a1e1-2786-4373-9d75-b8f1ffdb332f"
      },
      "outputs": [
        {
          "output_type": "stream",
          "name": "stdout",
          "text": [
            "Requirement already satisfied: optuna in /usr/local/lib/python3.10/dist-packages (3.5.0)\n",
            "Requirement already satisfied: alembic>=1.5.0 in /usr/local/lib/python3.10/dist-packages (from optuna) (1.13.1)\n",
            "Requirement already satisfied: colorlog in /usr/local/lib/python3.10/dist-packages (from optuna) (6.8.2)\n",
            "Requirement already satisfied: numpy in /usr/local/lib/python3.10/dist-packages (from optuna) (1.23.5)\n",
            "Requirement already satisfied: packaging>=20.0 in /usr/local/lib/python3.10/dist-packages (from optuna) (23.2)\n",
            "Requirement already satisfied: sqlalchemy>=1.3.0 in /usr/local/lib/python3.10/dist-packages (from optuna) (2.0.25)\n",
            "Requirement already satisfied: tqdm in /usr/local/lib/python3.10/dist-packages (from optuna) (4.66.1)\n",
            "Requirement already satisfied: PyYAML in /usr/local/lib/python3.10/dist-packages (from optuna) (6.0.1)\n",
            "Requirement already satisfied: Mako in /usr/local/lib/python3.10/dist-packages (from alembic>=1.5.0->optuna) (1.3.2)\n",
            "Requirement already satisfied: typing-extensions>=4 in /usr/local/lib/python3.10/dist-packages (from alembic>=1.5.0->optuna) (4.9.0)\n",
            "Requirement already satisfied: greenlet!=0.4.17 in /usr/local/lib/python3.10/dist-packages (from sqlalchemy>=1.3.0->optuna) (3.0.3)\n",
            "Requirement already satisfied: MarkupSafe>=0.9.2 in /usr/local/lib/python3.10/dist-packages (from Mako->alembic>=1.5.0->optuna) (2.1.5)\n"
          ]
        }
      ],
      "source": [
        "!pip install optuna"
      ]
    },
    {
      "cell_type": "markdown",
      "source": [
        "Importering av nødvendig bibliotek og pakker"
      ],
      "metadata": {
        "id": "jT-YzIdVRply"
      }
    },
    {
      "cell_type": "code",
      "source": [
        "import pandas as pd\n",
        "import numpy as np\n",
        "import copy\n",
        "import math\n",
        "\n",
        "from sklearn.model_selection import train_test_split\n",
        "from sklearn.pipeline import Pipeline\n",
        "from sklearn.preprocessing import StandardScaler\n",
        "\n",
        "from sklearn.ensemble import RandomForestRegressor\n",
        "\n",
        "from sklearn.metrics import mean_squared_error, r2_score\n",
        "\n",
        "import optuna\n",
        "from optuna.visualization import plot_optimization_history"
      ],
      "metadata": {
        "id": "DmFSuK8ARtBg"
      },
      "execution_count": 2,
      "outputs": []
    },
    {
      "cell_type": "markdown",
      "source": [
        "Importering av relevant data"
      ],
      "metadata": {
        "id": "21cdLIoaSTR6"
      }
    },
    {
      "cell_type": "code",
      "source": [
        "from google.colab import drive\n",
        "drive.mount('/content/drive/')"
      ],
      "metadata": {
        "colab": {
          "base_uri": "https://localhost:8080/"
        },
        "id": "nwEzUjnf0xLZ",
        "outputId": "55ba383c-81ef-4f7b-cb01-eb5a34cb77c7"
      },
      "execution_count": 3,
      "outputs": [
        {
          "output_type": "stream",
          "name": "stdout",
          "text": [
            "Drive already mounted at /content/drive/; to attempt to forcibly remount, call drive.mount(\"/content/drive/\", force_remount=True).\n"
          ]
        }
      ]
    },
    {
      "cell_type": "code",
      "source": [
        "%cd /content/drive/MyDrive/MasterV24/GitHub/\n",
        "%ls\n",
        "#from oppdeling_trening_testsett import oppdeling_enzymtype"
      ],
      "metadata": {
        "colab": {
          "base_uri": "https://localhost:8080/"
        },
        "id": "Y5M8ShuJ1EQg",
        "outputId": "82ccc1c3-f38c-44de-a709-b2faf3c73250"
      },
      "execution_count": 4,
      "outputs": [
        {
          "output_type": "stream",
          "name": "stdout",
          "text": [
            "/content/drive/MyDrive/MasterV24/GitHub\n",
            "'Bioco_BrixAdjusted: Semiveiledet Regresjonsmetoder.ipynb'\n",
            "'Bioco_BrixAdjusted: Superveiledet Regresjonsmetoder.ipynb'\n",
            "'Bioco_Collagen: Klassiske Superveiledet Regresjonsmetoder.ipynb'\n",
            "'Bioco_Collagen: Semiveiledet Regresjonsmetoder.ipynb'\n",
            "'Bioco: Databehandling av ekstremverdier.ipynb'\n",
            "'Bioco: Databehandling av manglende verdier.ipynb'\n",
            "'Bioco: Dataprosessering, Dataforståelse og Dataundersøkelse.ipynb'\n",
            "'Bioco_Mw: Semiveiledet Regresjonsmetoder.ipynb'\n",
            "'Bioco_Mw: Superveiledet Regresjonsmetoder.ipynb'\n",
            "'Bioco_Smallmolecules: Semiveiledet Regresjonsmetoder.ipynb'\n",
            "'Bioco_Smallmolecules: Superveiledet Regresjonsmetoder.ipynb'\n",
            "'Bioco: Variabelundersøkelse.ipynb'\n",
            " Oppdeling_trening_testsett.ipynb\n",
            " \u001b[0m\u001b[01;34m__pycache__\u001b[0m/\n"
          ]
        }
      ]
    },
    {
      "cell_type": "code",
      "source": [
        "# Velger første kolonne med dato og tid som index\n",
        "collagen_data = pd.read_csv('/content/drive/MyDrive/MasterV24/Bioco_data/collagen_data.csv',\n",
        "                            header=0,\n",
        "                            sep=',',\n",
        "                            index_col=0)\n",
        "\n",
        "# Formatterer index til riktig format og datatype\n",
        "collagen_data.index = pd.to_datetime(collagen_data.index,\n",
        "                                     format='%Y-%m-%d %H:%M:%S')"
      ],
      "metadata": {
        "id": "XeNQyDPZSTwY"
      },
      "execution_count": 5,
      "outputs": []
    },
    {
      "cell_type": "markdown",
      "source": [
        "Beskrivelse av datasett"
      ],
      "metadata": {
        "id": "hPfDrou1pR0w"
      }
    },
    {
      "cell_type": "code",
      "source": [
        "collagen_data.info()"
      ],
      "metadata": {
        "colab": {
          "base_uri": "https://localhost:8080/"
        },
        "id": "HsvZWJ7apQpL",
        "outputId": "01d46183-2594-4054-f9dc-02b4379d937d"
      },
      "execution_count": 6,
      "outputs": [
        {
          "output_type": "stream",
          "name": "stdout",
          "text": [
            "<class 'pandas.core.frame.DataFrame'>\n",
            "DatetimeIndex: 29136 entries, 2022-10-31 17:37:00 to 2023-06-14 01:06:00\n",
            "Data columns (total 17 columns):\n",
            " #   Column         Non-Null Count  Dtype  \n",
            "---  ------         --------------  -----  \n",
            " 0   EnzymeType_A1  29136 non-null  int64  \n",
            " 1   EnzymeType_A2  29136 non-null  int64  \n",
            " 2   EnzymeType_B   29136 non-null  int64  \n",
            " 3   EnzymeType_C   29136 non-null  int64  \n",
            " 4   EnzymeType_D   29136 non-null  int64  \n",
            " 5   EnzymeType_E   29136 non-null  int64  \n",
            " 6   RawMatFlow     29136 non-null  float64\n",
            " 7   NIRfat         29136 non-null  float64\n",
            " 8   NIRash         29136 non-null  float64\n",
            " 9   NIRwater       29136 non-null  float64\n",
            " 10  TT07           29136 non-null  float64\n",
            " 11  TT08           29136 non-null  float64\n",
            " 12  PT03           29136 non-null  float64\n",
            " 13  TT20           29136 non-null  float64\n",
            " 14  TT09           29136 non-null  float64\n",
            " 15  TT12           29136 non-null  float64\n",
            " 16  Collagen       89 non-null     float64\n",
            "dtypes: float64(11), int64(6)\n",
            "memory usage: 4.0 MB\n"
          ]
        }
      ]
    },
    {
      "cell_type": "markdown",
      "source": [
        "Tilfeldighetsfrø"
      ],
      "metadata": {
        "id": "7Wl0nay5j2C4"
      }
    },
    {
      "cell_type": "code",
      "source": [
        "#Tilfeldighetsfrø\n",
        "random_seed = 123"
      ],
      "metadata": {
        "id": "OxTGpIOmj4V7"
      },
      "execution_count": 7,
      "outputs": []
    },
    {
      "cell_type": "markdown",
      "source": [
        "# Oppdeling av datasett"
      ],
      "metadata": {
        "id": "kQHehJWhXI0O"
      }
    },
    {
      "cell_type": "markdown",
      "source": [
        "## Alternativ 1: Fordelt på enzymtyper"
      ],
      "metadata": {
        "id": "cIO0moKDXLLg"
      }
    },
    {
      "cell_type": "code",
      "source": [
        " def trening_testsett_oppdeling_enzym(df, test_size=0.2, random_seed=123):\n",
        "\n",
        "  # Responsvariabel\n",
        "  responsvariabel = df.columns[-1]\n",
        "\n",
        "  # Deler opp markert og umarkert del av datasettet\n",
        "  data_markert = df.dropna(subset=[responsvariabel])\n",
        "  data_umarkert = df[df[responsvariabel].isna()]\n",
        "\n",
        "  # Legger til kategorisk variabel for enzymtype til fordeling av datsettet\n",
        "  data_markert['EnzymType'] = data_markert.filter(like='EnzymeType_').idxmax(axis=1).str.split('_').str[1].astype('category')\n",
        "\n",
        "  # Splitter datasett i dataasett og kategorisk enzymtype\n",
        "  enzymtyper = data_markert['EnzymType']\n",
        "  data_markert.drop(columns=['EnzymType'], inplace=True)\n",
        "\n",
        "  # Splitter trening og testdata etter enzymtype\n",
        "  trening_markert, test_markert, _, _ = train_test_split(data_markert,\n",
        "                                                         enzymtyper,\n",
        "                                                         test_size=test_size,\n",
        "                                                         stratify=enzymtyper,\n",
        "                                                         random_state=random_seed)\n",
        "\n",
        "  # Definerer trening og testsett for data\n",
        "\n",
        "  felles_indeks = df.index.intersection(test_markert.index)\n",
        "  treningsdata = df.drop(felles_indeks)\n",
        "  trening_umarkert = treningsdata[treningsdata[responsvariabel].isna()]\n",
        "\n",
        "  return trening_markert, test_markert, trening_umarkert, treningsdata"
      ],
      "metadata": {
        "id": "Qt2qdSGgXPBT"
      },
      "execution_count": 8,
      "outputs": []
    },
    {
      "cell_type": "markdown",
      "source": [
        "## Alternativ 2: Fordelt på dag og kontinuitet"
      ],
      "metadata": {
        "id": "NxzuAh4bXPNq"
      }
    },
    {
      "cell_type": "code",
      "source": [
        "def trening_testsett_oppdeling_dag(df, andel=0.2):\n",
        "\n",
        "    # Responsvariabel\n",
        "    responsvariabel = df.columns[-1]\n",
        "\n",
        "    # Lager nytt trening og testsett\n",
        "    data_markert = df.dropna(subset=[responsvariabel])\n",
        "\n",
        "    trening_markert = copy.deepcopy(data_markert)\n",
        "    test_markert = pd.DataFrame(columns=list(data_markert.columns))\n",
        "\n",
        "    # Går gjennom hver dag, hver uke og samler første andel av rader til testsett\n",
        "    for uke in data_markert.index.isocalendar().week.unique():\n",
        "        for dag in data_markert.index.isocalendar().day.unique():\n",
        "            data = data_markert[(data_markert.index.isocalendar().week == uke) &\n",
        "                      (data_markert.index.isocalendar().day == dag)]\n",
        "            test_rader = data.shape[0] * andel\n",
        "            test_data_dag = data.head(round(test_rader))\n",
        "\n",
        "            test_markert = pd.concat([test_markert, test_data_dag])\n",
        "            trening_markert.drop(test_data_dag.index, inplace=True)\n",
        "\n",
        "    felles_indeks = df.index.intersection(test_markert.index)\n",
        "    treningsdata = df.drop(felles_indeks)\n",
        "    trening_umarkert = treningsdata[treningsdata[responsvariabel].isna()]\n",
        "\n",
        "    return trening_markert, test_markert, trening_umarkert, treningsdata"
      ],
      "metadata": {
        "id": "16qFL19bXShv"
      },
      "execution_count": 9,
      "outputs": []
    },
    {
      "cell_type": "markdown",
      "source": [
        "# NIR målinger inkludert"
      ],
      "metadata": {
        "id": "76aWdlTDXp9I"
      }
    },
    {
      "cell_type": "markdown",
      "source": [
        "## Oppdeling av datasett for trening og testing"
      ],
      "metadata": {
        "id": "yNN1h11QTJ2y"
      }
    },
    {
      "cell_type": "markdown",
      "source": [
        "### Alternativ 1: Fordelt på Enzymtype"
      ],
      "metadata": {
        "id": "2v80N6Milqq3"
      }
    },
    {
      "cell_type": "code",
      "source": [
        "collagen_trening, collagen_test, _, _ = trening_testsett_oppdeling_enzym(collagen_data)\n",
        "\n",
        "X_trening = collagen_trening.iloc[:, :-1]\n",
        "X_test = collagen_test.iloc[:, :-1]\n",
        "y_trening = collagen_trening.iloc[:, -1]\n",
        "y_test = collagen_test.iloc[:, -1]"
      ],
      "metadata": {
        "colab": {
          "base_uri": "https://localhost:8080/"
        },
        "id": "tKRudA9LXvsu",
        "outputId": "e2921d07-ed7f-458c-c69d-8050cbb19d01"
      },
      "execution_count": 10,
      "outputs": [
        {
          "output_type": "stream",
          "name": "stderr",
          "text": [
            "<ipython-input-8-ec350ac59a9e>:11: SettingWithCopyWarning: \n",
            "A value is trying to be set on a copy of a slice from a DataFrame.\n",
            "Try using .loc[row_indexer,col_indexer] = value instead\n",
            "\n",
            "See the caveats in the documentation: https://pandas.pydata.org/pandas-docs/stable/user_guide/indexing.html#returning-a-view-versus-a-copy\n",
            "  data_markert['EnzymType'] = data_markert.filter(like='EnzymeType_').idxmax(axis=1).str.split('_').str[1].astype('category')\n",
            "<ipython-input-8-ec350ac59a9e>:15: SettingWithCopyWarning: \n",
            "A value is trying to be set on a copy of a slice from a DataFrame\n",
            "\n",
            "See the caveats in the documentation: https://pandas.pydata.org/pandas-docs/stable/user_guide/indexing.html#returning-a-view-versus-a-copy\n",
            "  data_markert.drop(columns=['EnzymType'], inplace=True)\n"
          ]
        }
      ]
    },
    {
      "cell_type": "markdown",
      "source": [
        "**RandomForestRegressor**"
      ],
      "metadata": {
        "id": "cIgUu1qErjKz"
      }
    },
    {
      "cell_type": "markdown",
      "source": [
        "Hyperparamter optimalisering med Optuna"
      ],
      "metadata": {
        "id": "2Ds0DtmgRRlv"
      }
    },
    {
      "cell_type": "code",
      "source": [
        "def objective(trial):\n",
        "  parametere = {\n",
        "      'n_estimators': trial.suggest_int('n_estimators', 100, 200),\n",
        "      'max_depth': trial.suggest_int('max_depth', 1, 10)\n",
        "  }\n",
        "  rf_pipeline = Pipeline([\n",
        "      ('skalerer', StandardScaler()),\n",
        "      ('modell', RandomForestRegressor(**parametere, random_state=random_seed))\n",
        "  ])\n",
        "\n",
        "  rf_pipeline.fit(X_trening, y_trening)\n",
        "  y_test_prediksjon = rf_pipeline.predict(X_test)\n",
        "  mse_test = mean_squared_error(y_test, y_test_prediksjon)\n",
        "  return mse_test\n",
        "\n",
        "if __name__ == \"__main__\":\n",
        "  study = optuna.create_study(direction='minimize')\n",
        "  study.optimize(objective, n_trials=100)\n",
        "\n",
        "plot_optimization_history(study)"
      ],
      "metadata": {
        "colab": {
          "base_uri": "https://localhost:8080/",
          "height": 1000
        },
        "id": "Gr_wm-oNRVZ3",
        "outputId": "3364c61a-ffbc-49e4-b458-139cc99e6847"
      },
      "execution_count": 11,
      "outputs": [
        {
          "output_type": "stream",
          "name": "stderr",
          "text": [
            "[I 2024-02-11 14:00:31,482] A new study created in memory with name: no-name-a9dd621a-a199-4617-bd1e-6b8548b8f3a6\n",
            "[I 2024-02-11 14:00:31,706] Trial 0 finished with value: 24.26655195116126 and parameters: {'n_estimators': 171, 'max_depth': 1}. Best is trial 0 with value: 24.26655195116126.\n",
            "[I 2024-02-11 14:00:32,065] Trial 1 finished with value: 16.750394386485723 and parameters: {'n_estimators': 153, 'max_depth': 5}. Best is trial 1 with value: 16.750394386485723.\n",
            "[I 2024-02-11 14:00:32,292] Trial 2 finished with value: 16.562077536865033 and parameters: {'n_estimators': 126, 'max_depth': 6}. Best is trial 2 with value: 16.562077536865033.\n",
            "[I 2024-02-11 14:00:32,564] Trial 3 finished with value: 16.663874538298785 and parameters: {'n_estimators': 161, 'max_depth': 7}. Best is trial 2 with value: 16.562077536865033.\n",
            "[I 2024-02-11 14:00:32,836] Trial 4 finished with value: 16.88281740713207 and parameters: {'n_estimators': 181, 'max_depth': 5}. Best is trial 2 with value: 16.562077536865033.\n",
            "[I 2024-02-11 14:00:33,069] Trial 5 finished with value: 16.51760778838603 and parameters: {'n_estimators': 149, 'max_depth': 9}. Best is trial 5 with value: 16.51760778838603.\n",
            "[I 2024-02-11 14:00:33,223] Trial 6 finished with value: 24.45845566379565 and parameters: {'n_estimators': 110, 'max_depth': 1}. Best is trial 5 with value: 16.51760778838603.\n",
            "[I 2024-02-11 14:00:33,449] Trial 7 finished with value: 16.607673310583493 and parameters: {'n_estimators': 140, 'max_depth': 10}. Best is trial 5 with value: 16.51760778838603.\n",
            "[I 2024-02-11 14:00:33,695] Trial 8 finished with value: 16.886037813353965 and parameters: {'n_estimators': 164, 'max_depth': 4}. Best is trial 5 with value: 16.51760778838603.\n",
            "[I 2024-02-11 14:00:33,905] Trial 9 finished with value: 16.4806445056539 and parameters: {'n_estimators': 128, 'max_depth': 10}. Best is trial 9 with value: 16.4806445056539.\n",
            "[I 2024-02-11 14:00:34,209] Trial 10 finished with value: 16.540715323921074 and parameters: {'n_estimators': 196, 'max_depth': 8}. Best is trial 9 with value: 16.4806445056539.\n",
            "[I 2024-02-11 14:00:34,437] Trial 11 finished with value: 16.64814304079533 and parameters: {'n_estimators': 135, 'max_depth': 10}. Best is trial 9 with value: 16.4806445056539.\n",
            "[I 2024-02-11 14:00:34,630] Trial 12 finished with value: 17.014390202828128 and parameters: {'n_estimators': 103, 'max_depth': 9}. Best is trial 9 with value: 16.4806445056539.\n",
            "[I 2024-02-11 14:00:34,838] Trial 13 finished with value: 16.20314220501841 and parameters: {'n_estimators': 126, 'max_depth': 8}. Best is trial 13 with value: 16.20314220501841.\n",
            "[I 2024-02-11 14:00:35,052] Trial 14 finished with value: 16.280381345692497 and parameters: {'n_estimators': 122, 'max_depth': 8}. Best is trial 13 with value: 16.20314220501841.\n",
            "[I 2024-02-11 14:00:35,241] Trial 15 finished with value: 16.721408744430313 and parameters: {'n_estimators': 116, 'max_depth': 7}. Best is trial 13 with value: 16.20314220501841.\n",
            "[I 2024-02-11 14:00:35,420] Trial 16 finished with value: 17.751286832860472 and parameters: {'n_estimators': 121, 'max_depth': 3}. Best is trial 13 with value: 16.20314220501841.\n",
            "[I 2024-02-11 14:00:35,607] Trial 17 finished with value: 16.651650109473486 and parameters: {'n_estimators': 102, 'max_depth': 8}. Best is trial 13 with value: 16.20314220501841.\n",
            "[I 2024-02-11 14:00:36,018] Trial 18 finished with value: 16.654083238264693 and parameters: {'n_estimators': 137, 'max_depth': 7}. Best is trial 13 with value: 16.20314220501841.\n",
            "[I 2024-02-11 14:00:36,373] Trial 19 finished with value: 16.377390887158565 and parameters: {'n_estimators': 116, 'max_depth': 8}. Best is trial 13 with value: 16.20314220501841.\n",
            "[I 2024-02-11 14:00:36,862] Trial 20 finished with value: 16.75512147463889 and parameters: {'n_estimators': 142, 'max_depth': 6}. Best is trial 13 with value: 16.20314220501841.\n",
            "[I 2024-02-11 14:00:37,246] Trial 21 finished with value: 16.31775401983378 and parameters: {'n_estimators': 114, 'max_depth': 8}. Best is trial 13 with value: 16.20314220501841.\n",
            "[I 2024-02-11 14:00:37,775] Trial 22 finished with value: 16.798856877187923 and parameters: {'n_estimators': 110, 'max_depth': 9}. Best is trial 13 with value: 16.20314220501841.\n",
            "[I 2024-02-11 14:00:38,671] Trial 23 finished with value: 16.20885923685076 and parameters: {'n_estimators': 127, 'max_depth': 8}. Best is trial 13 with value: 16.20314220501841.\n",
            "[I 2024-02-11 14:00:39,788] Trial 24 finished with value: 16.63257092369521 and parameters: {'n_estimators': 134, 'max_depth': 7}. Best is trial 13 with value: 16.20314220501841.\n",
            "[I 2024-02-11 14:00:40,791] Trial 25 finished with value: 16.399480481573633 and parameters: {'n_estimators': 127, 'max_depth': 9}. Best is trial 13 with value: 16.20314220501841.\n",
            "[I 2024-02-11 14:00:41,705] Trial 26 finished with value: 16.66020025345476 and parameters: {'n_estimators': 146, 'max_depth': 6}. Best is trial 13 with value: 16.20314220501841.\n",
            "[I 2024-02-11 14:00:42,358] Trial 27 finished with value: 16.280381345692497 and parameters: {'n_estimators': 122, 'max_depth': 8}. Best is trial 13 with value: 16.20314220501841.\n",
            "[I 2024-02-11 14:00:43,159] Trial 28 finished with value: 17.705074887926678 and parameters: {'n_estimators': 129, 'max_depth': 3}. Best is trial 13 with value: 16.20314220501841.\n",
            "[I 2024-02-11 14:00:43,652] Trial 29 finished with value: 16.61232625892279 and parameters: {'n_estimators': 157, 'max_depth': 7}. Best is trial 13 with value: 16.20314220501841.\n",
            "[I 2024-02-11 14:00:44,265] Trial 30 finished with value: 16.62199510460575 and parameters: {'n_estimators': 177, 'max_depth': 9}. Best is trial 13 with value: 16.20314220501841.\n",
            "[I 2024-02-11 14:00:44,693] Trial 31 finished with value: 16.15980740280381 and parameters: {'n_estimators': 120, 'max_depth': 8}. Best is trial 31 with value: 16.15980740280381.\n",
            "[I 2024-02-11 14:00:45,153] Trial 32 finished with value: 16.15980740280381 and parameters: {'n_estimators': 120, 'max_depth': 8}. Best is trial 31 with value: 16.15980740280381.\n",
            "[I 2024-02-11 14:00:45,519] Trial 33 finished with value: 17.021752871338492 and parameters: {'n_estimators': 110, 'max_depth': 6}. Best is trial 31 with value: 16.15980740280381.\n",
            "[I 2024-02-11 14:00:46,029] Trial 34 finished with value: 16.588848489232607 and parameters: {'n_estimators': 131, 'max_depth': 5}. Best is trial 31 with value: 16.15980740280381.\n",
            "[I 2024-02-11 14:00:46,356] Trial 35 finished with value: 16.524521065207338 and parameters: {'n_estimators': 121, 'max_depth': 7}. Best is trial 31 with value: 16.15980740280381.\n",
            "[I 2024-02-11 14:00:46,673] Trial 36 finished with value: 17.023108370907497 and parameters: {'n_estimators': 105, 'max_depth': 9}. Best is trial 31 with value: 16.15980740280381.\n",
            "[I 2024-02-11 14:00:47,138] Trial 37 finished with value: 16.51673941360045 and parameters: {'n_estimators': 152, 'max_depth': 10}. Best is trial 31 with value: 16.15980740280381.\n",
            "[I 2024-02-11 14:00:47,520] Trial 38 finished with value: 16.33920591406941 and parameters: {'n_estimators': 143, 'max_depth': 8}. Best is trial 31 with value: 16.15980740280381.\n",
            "[I 2024-02-11 14:00:47,859] Trial 39 finished with value: 16.721408744430313 and parameters: {'n_estimators': 116, 'max_depth': 7}. Best is trial 31 with value: 16.15980740280381.\n",
            "[I 2024-02-11 14:00:48,152] Trial 40 finished with value: 17.21635034838115 and parameters: {'n_estimators': 108, 'max_depth': 4}. Best is trial 31 with value: 16.15980740280381.\n",
            "[I 2024-02-11 14:00:48,684] Trial 41 finished with value: 16.22537313062332 and parameters: {'n_estimators': 123, 'max_depth': 8}. Best is trial 31 with value: 16.15980740280381.\n",
            "[I 2024-02-11 14:00:49,342] Trial 42 finished with value: 16.367144970365548 and parameters: {'n_estimators': 125, 'max_depth': 9}. Best is trial 31 with value: 16.15980740280381.\n",
            "[I 2024-02-11 14:00:49,773] Trial 43 finished with value: 16.337672697789014 and parameters: {'n_estimators': 133, 'max_depth': 8}. Best is trial 31 with value: 16.15980740280381.\n",
            "[I 2024-02-11 14:00:50,172] Trial 44 finished with value: 16.709889358782853 and parameters: {'n_estimators': 138, 'max_depth': 6}. Best is trial 31 with value: 16.15980740280381.\n",
            "[I 2024-02-11 14:00:50,559] Trial 45 finished with value: 16.556802410069526 and parameters: {'n_estimators': 118, 'max_depth': 10}. Best is trial 31 with value: 16.15980740280381.\n",
            "[I 2024-02-11 14:00:51,005] Trial 46 finished with value: 16.416583468567044 and parameters: {'n_estimators': 125, 'max_depth': 7}. Best is trial 31 with value: 16.15980740280381.\n",
            "[I 2024-02-11 14:00:51,531] Trial 47 finished with value: 16.68238276978285 and parameters: {'n_estimators': 112, 'max_depth': 9}. Best is trial 31 with value: 16.15980740280381.\n",
            "[I 2024-02-11 14:00:51,900] Trial 48 finished with value: 16.215294027627227 and parameters: {'n_estimators': 129, 'max_depth': 8}. Best is trial 31 with value: 16.15980740280381.\n",
            "[I 2024-02-11 14:00:52,231] Trial 49 finished with value: 16.540839811580113 and parameters: {'n_estimators': 147, 'max_depth': 9}. Best is trial 31 with value: 16.15980740280381.\n",
            "[I 2024-02-11 14:00:52,681] Trial 50 finished with value: 16.427277670224644 and parameters: {'n_estimators': 168, 'max_depth': 8}. Best is trial 31 with value: 16.15980740280381.\n",
            "[I 2024-02-11 14:00:52,988] Trial 51 finished with value: 24.277091179906794 and parameters: {'n_estimators': 130, 'max_depth': 1}. Best is trial 31 with value: 16.15980740280381.\n",
            "[I 2024-02-11 14:00:53,318] Trial 52 finished with value: 16.195035298237308 and parameters: {'n_estimators': 119, 'max_depth': 8}. Best is trial 31 with value: 16.15980740280381.\n",
            "[I 2024-02-11 14:00:53,655] Trial 53 finished with value: 16.51569183382972 and parameters: {'n_estimators': 119, 'max_depth': 7}. Best is trial 31 with value: 16.15980740280381.\n",
            "[I 2024-02-11 14:00:54,167] Trial 54 finished with value: 16.556770818771493 and parameters: {'n_estimators': 199, 'max_depth': 8}. Best is trial 31 with value: 16.15980740280381.\n",
            "[I 2024-02-11 14:00:54,447] Trial 55 finished with value: 16.65677860748905 and parameters: {'n_estimators': 100, 'max_depth': 8}. Best is trial 31 with value: 16.15980740280381.\n",
            "[I 2024-02-11 14:00:54,960] Trial 56 finished with value: 16.697334962587018 and parameters: {'n_estimators': 191, 'max_depth': 10}. Best is trial 31 with value: 16.15980740280381.\n",
            "[I 2024-02-11 14:00:55,329] Trial 57 finished with value: 16.518456979411717 and parameters: {'n_estimators': 136, 'max_depth': 9}. Best is trial 31 with value: 16.15980740280381.\n",
            "[I 2024-02-11 14:00:55,622] Trial 58 finished with value: 16.453140265186274 and parameters: {'n_estimators': 127, 'max_depth': 7}. Best is trial 31 with value: 16.15980740280381.\n",
            "[I 2024-02-11 14:00:55,799] Trial 59 finished with value: 17.210492283503388 and parameters: {'n_estimators': 107, 'max_depth': 6}. Best is trial 31 with value: 16.15980740280381.\n",
            "[I 2024-02-11 14:00:55,989] Trial 60 finished with value: 16.448441133573464 and parameters: {'n_estimators': 112, 'max_depth': 8}. Best is trial 31 with value: 16.15980740280381.\n",
            "[I 2024-02-11 14:00:56,198] Trial 61 finished with value: 16.19574105294748 and parameters: {'n_estimators': 124, 'max_depth': 8}. Best is trial 31 with value: 16.15980740280381.\n",
            "[I 2024-02-11 14:00:56,393] Trial 62 finished with value: 16.28750021920344 and parameters: {'n_estimators': 117, 'max_depth': 8}. Best is trial 31 with value: 16.15980740280381.\n",
            "[I 2024-02-11 14:00:56,627] Trial 63 finished with value: 16.442432863958555 and parameters: {'n_estimators': 132, 'max_depth': 9}. Best is trial 31 with value: 16.15980740280381.\n",
            "[I 2024-02-11 14:00:56,826] Trial 64 finished with value: 16.479708420480975 and parameters: {'n_estimators': 120, 'max_depth': 7}. Best is trial 31 with value: 16.15980740280381.\n",
            "[I 2024-02-11 14:00:57,035] Trial 65 finished with value: 16.1279219616204 and parameters: {'n_estimators': 125, 'max_depth': 8}. Best is trial 65 with value: 16.1279219616204.\n",
            "[I 2024-02-11 14:00:57,236] Trial 66 finished with value: 16.510534070610706 and parameters: {'n_estimators': 124, 'max_depth': 7}. Best is trial 65 with value: 16.1279219616204.\n",
            "[I 2024-02-11 14:00:57,407] Trial 67 finished with value: 19.516199959968603 and parameters: {'n_estimators': 115, 'max_depth': 2}. Best is trial 65 with value: 16.1279219616204.\n",
            "[I 2024-02-11 14:00:57,654] Trial 68 finished with value: 16.323254129826278 and parameters: {'n_estimators': 140, 'max_depth': 8}. Best is trial 65 with value: 16.1279219616204.\n",
            "[I 2024-02-11 14:00:57,848] Trial 69 finished with value: 16.645988847016994 and parameters: {'n_estimators': 113, 'max_depth': 9}. Best is trial 65 with value: 16.1279219616204.\n",
            "[I 2024-02-11 14:00:58,053] Trial 70 finished with value: 16.453140265186274 and parameters: {'n_estimators': 127, 'max_depth': 7}. Best is trial 65 with value: 16.1279219616204.\n",
            "[I 2024-02-11 14:00:58,269] Trial 71 finished with value: 16.215294027627227 and parameters: {'n_estimators': 129, 'max_depth': 8}. Best is trial 65 with value: 16.1279219616204.\n",
            "[I 2024-02-11 14:00:58,480] Trial 72 finished with value: 16.22567348419298 and parameters: {'n_estimators': 121, 'max_depth': 8}. Best is trial 65 with value: 16.1279219616204.\n",
            "[I 2024-02-11 14:00:58,708] Trial 73 finished with value: 16.47070039900833 and parameters: {'n_estimators': 123, 'max_depth': 9}. Best is trial 65 with value: 16.1279219616204.\n",
            "[I 2024-02-11 14:00:58,933] Trial 74 finished with value: 16.35701053425955 and parameters: {'n_estimators': 134, 'max_depth': 8}. Best is trial 65 with value: 16.1279219616204.\n",
            "[I 2024-02-11 14:00:59,128] Trial 75 finished with value: 16.195035298237308 and parameters: {'n_estimators': 119, 'max_depth': 8}. Best is trial 65 with value: 16.1279219616204.\n",
            "[I 2024-02-11 14:00:59,326] Trial 76 finished with value: 16.491211236901243 and parameters: {'n_estimators': 118, 'max_depth': 9}. Best is trial 65 with value: 16.1279219616204.\n",
            "[I 2024-02-11 14:00:59,516] Trial 77 finished with value: 16.940879327111766 and parameters: {'n_estimators': 109, 'max_depth': 7}. Best is trial 65 with value: 16.1279219616204.\n",
            "[I 2024-02-11 14:00:59,712] Trial 78 finished with value: 16.759596194085944 and parameters: {'n_estimators': 104, 'max_depth': 8}. Best is trial 65 with value: 16.1279219616204.\n",
            "[I 2024-02-11 14:00:59,922] Trial 79 finished with value: 16.435157501529247 and parameters: {'n_estimators': 126, 'max_depth': 7}. Best is trial 65 with value: 16.1279219616204.\n",
            "[I 2024-02-11 14:01:00,117] Trial 80 finished with value: 16.3316863365185 and parameters: {'n_estimators': 115, 'max_depth': 8}. Best is trial 65 with value: 16.1279219616204.\n",
            "[I 2024-02-11 14:01:00,332] Trial 81 finished with value: 16.197005812853735 and parameters: {'n_estimators': 130, 'max_depth': 8}. Best is trial 65 with value: 16.1279219616204.\n",
            "[I 2024-02-11 14:01:00,537] Trial 82 finished with value: 16.15980740280381 and parameters: {'n_estimators': 120, 'max_depth': 8}. Best is trial 65 with value: 16.1279219616204.\n",
            "[I 2024-02-11 14:01:00,754] Trial 83 finished with value: 16.195035298237308 and parameters: {'n_estimators': 119, 'max_depth': 8}. Best is trial 65 with value: 16.1279219616204.\n",
            "[I 2024-02-11 14:01:00,958] Trial 84 finished with value: 16.379254558961524 and parameters: {'n_estimators': 120, 'max_depth': 9}. Best is trial 65 with value: 16.1279219616204.\n",
            "[I 2024-02-11 14:01:01,146] Trial 85 finished with value: 16.448441133573464 and parameters: {'n_estimators': 112, 'max_depth': 8}. Best is trial 65 with value: 16.1279219616204.\n",
            "[I 2024-02-11 14:01:01,345] Trial 86 finished with value: 16.651320459538 and parameters: {'n_estimators': 123, 'max_depth': 6}. Best is trial 65 with value: 16.1279219616204.\n",
            "[I 2024-02-11 14:01:01,543] Trial 87 finished with value: 16.513516271380446 and parameters: {'n_estimators': 117, 'max_depth': 9}. Best is trial 65 with value: 16.1279219616204.\n",
            "[I 2024-02-11 14:01:01,739] Trial 88 finished with value: 17.051626310882327 and parameters: {'n_estimators': 106, 'max_depth': 7}. Best is trial 65 with value: 16.1279219616204.\n",
            "[I 2024-02-11 14:01:01,940] Trial 89 finished with value: 16.195035298237308 and parameters: {'n_estimators': 119, 'max_depth': 8}. Best is trial 65 with value: 16.1279219616204.\n",
            "[I 2024-02-11 14:01:02,133] Trial 90 finished with value: 16.31775401983378 and parameters: {'n_estimators': 114, 'max_depth': 8}. Best is trial 65 with value: 16.1279219616204.\n",
            "[I 2024-02-11 14:01:02,334] Trial 91 finished with value: 16.15980740280381 and parameters: {'n_estimators': 120, 'max_depth': 8}. Best is trial 65 with value: 16.1279219616204.\n",
            "[I 2024-02-11 14:01:02,539] Trial 92 finished with value: 16.15980740280381 and parameters: {'n_estimators': 120, 'max_depth': 8}. Best is trial 65 with value: 16.1279219616204.\n",
            "[I 2024-02-11 14:01:02,754] Trial 93 finished with value: 16.15980740280381 and parameters: {'n_estimators': 120, 'max_depth': 8}. Best is trial 65 with value: 16.1279219616204.\n",
            "[I 2024-02-11 14:01:02,940] Trial 94 finished with value: 16.487684214086194 and parameters: {'n_estimators': 111, 'max_depth': 8}. Best is trial 65 with value: 16.1279219616204.\n",
            "[I 2024-02-11 14:01:03,145] Trial 95 finished with value: 16.524521065207338 and parameters: {'n_estimators': 121, 'max_depth': 7}. Best is trial 65 with value: 16.1279219616204.\n",
            "[I 2024-02-11 14:01:03,345] Trial 96 finished with value: 16.491211236901243 and parameters: {'n_estimators': 118, 'max_depth': 9}. Best is trial 65 with value: 16.1279219616204.\n",
            "[I 2024-02-11 14:01:03,540] Trial 97 finished with value: 16.3316863365185 and parameters: {'n_estimators': 115, 'max_depth': 8}. Best is trial 65 with value: 16.1279219616204.\n",
            "[I 2024-02-11 14:01:03,738] Trial 98 finished with value: 16.892747155922123 and parameters: {'n_estimators': 109, 'max_depth': 9}. Best is trial 65 with value: 16.1279219616204.\n",
            "[I 2024-02-11 14:01:03,995] Trial 99 finished with value: 16.620244824557844 and parameters: {'n_estimators': 158, 'max_depth': 7}. Best is trial 65 with value: 16.1279219616204.\n"
          ]
        },
        {
          "output_type": "display_data",
          "data": {
            "text/html": [
              "<html>\n",
              "<head><meta charset=\"utf-8\" /></head>\n",
              "<body>\n",
              "    <div>            <script src=\"https://cdnjs.cloudflare.com/ajax/libs/mathjax/2.7.5/MathJax.js?config=TeX-AMS-MML_SVG\"></script><script type=\"text/javascript\">if (window.MathJax && window.MathJax.Hub && window.MathJax.Hub.Config) {window.MathJax.Hub.Config({SVG: {font: \"STIX-Web\"}});}</script>                <script type=\"text/javascript\">window.PlotlyConfig = {MathJaxConfig: 'local'};</script>\n",
              "        <script charset=\"utf-8\" src=\"https://cdn.plot.ly/plotly-2.24.1.min.js\"></script>                <div id=\"81c3f56c-626f-4eba-a2d0-01f7f26c1dc2\" class=\"plotly-graph-div\" style=\"height:525px; width:100%;\"></div>            <script type=\"text/javascript\">                                    window.PLOTLYENV=window.PLOTLYENV || {};                                    if (document.getElementById(\"81c3f56c-626f-4eba-a2d0-01f7f26c1dc2\")) {                    Plotly.newPlot(                        \"81c3f56c-626f-4eba-a2d0-01f7f26c1dc2\",                        [{\"mode\":\"markers\",\"name\":\"Objective Value\",\"x\":[0,1,2,3,4,5,6,7,8,9,10,11,12,13,14,15,16,17,18,19,20,21,22,23,24,25,26,27,28,29,30,31,32,33,34,35,36,37,38,39,40,41,42,43,44,45,46,47,48,49,50,51,52,53,54,55,56,57,58,59,60,61,62,63,64,65,66,67,68,69,70,71,72,73,74,75,76,77,78,79,80,81,82,83,84,85,86,87,88,89,90,91,92,93,94,95,96,97,98,99],\"y\":[24.26655195116126,16.750394386485723,16.562077536865033,16.663874538298785,16.88281740713207,16.51760778838603,24.45845566379565,16.607673310583493,16.886037813353965,16.4806445056539,16.540715323921074,16.64814304079533,17.014390202828128,16.20314220501841,16.280381345692497,16.721408744430313,17.751286832860472,16.651650109473486,16.654083238264693,16.377390887158565,16.75512147463889,16.31775401983378,16.798856877187923,16.20885923685076,16.63257092369521,16.399480481573633,16.66020025345476,16.280381345692497,17.705074887926678,16.61232625892279,16.62199510460575,16.15980740280381,16.15980740280381,17.021752871338492,16.588848489232607,16.524521065207338,17.023108370907497,16.51673941360045,16.33920591406941,16.721408744430313,17.21635034838115,16.22537313062332,16.367144970365548,16.337672697789014,16.709889358782853,16.556802410069526,16.416583468567044,16.68238276978285,16.215294027627227,16.540839811580113,16.427277670224644,24.277091179906794,16.195035298237308,16.51569183382972,16.556770818771493,16.65677860748905,16.697334962587018,16.518456979411717,16.453140265186274,17.210492283503388,16.448441133573464,16.19574105294748,16.28750021920344,16.442432863958555,16.479708420480975,16.1279219616204,16.510534070610706,19.516199959968603,16.323254129826278,16.645988847016994,16.453140265186274,16.215294027627227,16.22567348419298,16.47070039900833,16.35701053425955,16.195035298237308,16.491211236901243,16.940879327111766,16.759596194085944,16.435157501529247,16.3316863365185,16.197005812853735,16.15980740280381,16.195035298237308,16.379254558961524,16.448441133573464,16.651320459538,16.513516271380446,17.051626310882327,16.195035298237308,16.31775401983378,16.15980740280381,16.15980740280381,16.15980740280381,16.487684214086194,16.524521065207338,16.491211236901243,16.3316863365185,16.892747155922123,16.620244824557844],\"type\":\"scatter\"},{\"mode\":\"lines\",\"name\":\"Best Value\",\"x\":[0,1,2,3,4,5,6,7,8,9,10,11,12,13,14,15,16,17,18,19,20,21,22,23,24,25,26,27,28,29,30,31,32,33,34,35,36,37,38,39,40,41,42,43,44,45,46,47,48,49,50,51,52,53,54,55,56,57,58,59,60,61,62,63,64,65,66,67,68,69,70,71,72,73,74,75,76,77,78,79,80,81,82,83,84,85,86,87,88,89,90,91,92,93,94,95,96,97,98,99],\"y\":[24.26655195116126,16.750394386485723,16.562077536865033,16.562077536865033,16.562077536865033,16.51760778838603,16.51760778838603,16.51760778838603,16.51760778838603,16.4806445056539,16.4806445056539,16.4806445056539,16.4806445056539,16.20314220501841,16.20314220501841,16.20314220501841,16.20314220501841,16.20314220501841,16.20314220501841,16.20314220501841,16.20314220501841,16.20314220501841,16.20314220501841,16.20314220501841,16.20314220501841,16.20314220501841,16.20314220501841,16.20314220501841,16.20314220501841,16.20314220501841,16.20314220501841,16.15980740280381,16.15980740280381,16.15980740280381,16.15980740280381,16.15980740280381,16.15980740280381,16.15980740280381,16.15980740280381,16.15980740280381,16.15980740280381,16.15980740280381,16.15980740280381,16.15980740280381,16.15980740280381,16.15980740280381,16.15980740280381,16.15980740280381,16.15980740280381,16.15980740280381,16.15980740280381,16.15980740280381,16.15980740280381,16.15980740280381,16.15980740280381,16.15980740280381,16.15980740280381,16.15980740280381,16.15980740280381,16.15980740280381,16.15980740280381,16.15980740280381,16.15980740280381,16.15980740280381,16.15980740280381,16.1279219616204,16.1279219616204,16.1279219616204,16.1279219616204,16.1279219616204,16.1279219616204,16.1279219616204,16.1279219616204,16.1279219616204,16.1279219616204,16.1279219616204,16.1279219616204,16.1279219616204,16.1279219616204,16.1279219616204,16.1279219616204,16.1279219616204,16.1279219616204,16.1279219616204,16.1279219616204,16.1279219616204,16.1279219616204,16.1279219616204,16.1279219616204,16.1279219616204,16.1279219616204,16.1279219616204,16.1279219616204,16.1279219616204,16.1279219616204,16.1279219616204,16.1279219616204,16.1279219616204,16.1279219616204,16.1279219616204],\"type\":\"scatter\"},{\"marker\":{\"color\":\"#cccccc\"},\"mode\":\"markers\",\"name\":\"Infeasible Trial\",\"showlegend\":false,\"x\":[],\"y\":[],\"type\":\"scatter\"}],                        {\"title\":{\"text\":\"Optimization History Plot\"},\"xaxis\":{\"title\":{\"text\":\"Trial\"}},\"yaxis\":{\"title\":{\"text\":\"Objective Value\"}},\"template\":{\"data\":{\"histogram2dcontour\":[{\"type\":\"histogram2dcontour\",\"colorbar\":{\"outlinewidth\":0,\"ticks\":\"\"},\"colorscale\":[[0.0,\"#0d0887\"],[0.1111111111111111,\"#46039f\"],[0.2222222222222222,\"#7201a8\"],[0.3333333333333333,\"#9c179e\"],[0.4444444444444444,\"#bd3786\"],[0.5555555555555556,\"#d8576b\"],[0.6666666666666666,\"#ed7953\"],[0.7777777777777778,\"#fb9f3a\"],[0.8888888888888888,\"#fdca26\"],[1.0,\"#f0f921\"]]}],\"choropleth\":[{\"type\":\"choropleth\",\"colorbar\":{\"outlinewidth\":0,\"ticks\":\"\"}}],\"histogram2d\":[{\"type\":\"histogram2d\",\"colorbar\":{\"outlinewidth\":0,\"ticks\":\"\"},\"colorscale\":[[0.0,\"#0d0887\"],[0.1111111111111111,\"#46039f\"],[0.2222222222222222,\"#7201a8\"],[0.3333333333333333,\"#9c179e\"],[0.4444444444444444,\"#bd3786\"],[0.5555555555555556,\"#d8576b\"],[0.6666666666666666,\"#ed7953\"],[0.7777777777777778,\"#fb9f3a\"],[0.8888888888888888,\"#fdca26\"],[1.0,\"#f0f921\"]]}],\"heatmap\":[{\"type\":\"heatmap\",\"colorbar\":{\"outlinewidth\":0,\"ticks\":\"\"},\"colorscale\":[[0.0,\"#0d0887\"],[0.1111111111111111,\"#46039f\"],[0.2222222222222222,\"#7201a8\"],[0.3333333333333333,\"#9c179e\"],[0.4444444444444444,\"#bd3786\"],[0.5555555555555556,\"#d8576b\"],[0.6666666666666666,\"#ed7953\"],[0.7777777777777778,\"#fb9f3a\"],[0.8888888888888888,\"#fdca26\"],[1.0,\"#f0f921\"]]}],\"heatmapgl\":[{\"type\":\"heatmapgl\",\"colorbar\":{\"outlinewidth\":0,\"ticks\":\"\"},\"colorscale\":[[0.0,\"#0d0887\"],[0.1111111111111111,\"#46039f\"],[0.2222222222222222,\"#7201a8\"],[0.3333333333333333,\"#9c179e\"],[0.4444444444444444,\"#bd3786\"],[0.5555555555555556,\"#d8576b\"],[0.6666666666666666,\"#ed7953\"],[0.7777777777777778,\"#fb9f3a\"],[0.8888888888888888,\"#fdca26\"],[1.0,\"#f0f921\"]]}],\"contourcarpet\":[{\"type\":\"contourcarpet\",\"colorbar\":{\"outlinewidth\":0,\"ticks\":\"\"}}],\"contour\":[{\"type\":\"contour\",\"colorbar\":{\"outlinewidth\":0,\"ticks\":\"\"},\"colorscale\":[[0.0,\"#0d0887\"],[0.1111111111111111,\"#46039f\"],[0.2222222222222222,\"#7201a8\"],[0.3333333333333333,\"#9c179e\"],[0.4444444444444444,\"#bd3786\"],[0.5555555555555556,\"#d8576b\"],[0.6666666666666666,\"#ed7953\"],[0.7777777777777778,\"#fb9f3a\"],[0.8888888888888888,\"#fdca26\"],[1.0,\"#f0f921\"]]}],\"surface\":[{\"type\":\"surface\",\"colorbar\":{\"outlinewidth\":0,\"ticks\":\"\"},\"colorscale\":[[0.0,\"#0d0887\"],[0.1111111111111111,\"#46039f\"],[0.2222222222222222,\"#7201a8\"],[0.3333333333333333,\"#9c179e\"],[0.4444444444444444,\"#bd3786\"],[0.5555555555555556,\"#d8576b\"],[0.6666666666666666,\"#ed7953\"],[0.7777777777777778,\"#fb9f3a\"],[0.8888888888888888,\"#fdca26\"],[1.0,\"#f0f921\"]]}],\"mesh3d\":[{\"type\":\"mesh3d\",\"colorbar\":{\"outlinewidth\":0,\"ticks\":\"\"}}],\"scatter\":[{\"fillpattern\":{\"fillmode\":\"overlay\",\"size\":10,\"solidity\":0.2},\"type\":\"scatter\"}],\"parcoords\":[{\"type\":\"parcoords\",\"line\":{\"colorbar\":{\"outlinewidth\":0,\"ticks\":\"\"}}}],\"scatterpolargl\":[{\"type\":\"scatterpolargl\",\"marker\":{\"colorbar\":{\"outlinewidth\":0,\"ticks\":\"\"}}}],\"bar\":[{\"error_x\":{\"color\":\"#2a3f5f\"},\"error_y\":{\"color\":\"#2a3f5f\"},\"marker\":{\"line\":{\"color\":\"#E5ECF6\",\"width\":0.5},\"pattern\":{\"fillmode\":\"overlay\",\"size\":10,\"solidity\":0.2}},\"type\":\"bar\"}],\"scattergeo\":[{\"type\":\"scattergeo\",\"marker\":{\"colorbar\":{\"outlinewidth\":0,\"ticks\":\"\"}}}],\"scatterpolar\":[{\"type\":\"scatterpolar\",\"marker\":{\"colorbar\":{\"outlinewidth\":0,\"ticks\":\"\"}}}],\"histogram\":[{\"marker\":{\"pattern\":{\"fillmode\":\"overlay\",\"size\":10,\"solidity\":0.2}},\"type\":\"histogram\"}],\"scattergl\":[{\"type\":\"scattergl\",\"marker\":{\"colorbar\":{\"outlinewidth\":0,\"ticks\":\"\"}}}],\"scatter3d\":[{\"type\":\"scatter3d\",\"line\":{\"colorbar\":{\"outlinewidth\":0,\"ticks\":\"\"}},\"marker\":{\"colorbar\":{\"outlinewidth\":0,\"ticks\":\"\"}}}],\"scattermapbox\":[{\"type\":\"scattermapbox\",\"marker\":{\"colorbar\":{\"outlinewidth\":0,\"ticks\":\"\"}}}],\"scatterternary\":[{\"type\":\"scatterternary\",\"marker\":{\"colorbar\":{\"outlinewidth\":0,\"ticks\":\"\"}}}],\"scattercarpet\":[{\"type\":\"scattercarpet\",\"marker\":{\"colorbar\":{\"outlinewidth\":0,\"ticks\":\"\"}}}],\"carpet\":[{\"aaxis\":{\"endlinecolor\":\"#2a3f5f\",\"gridcolor\":\"white\",\"linecolor\":\"white\",\"minorgridcolor\":\"white\",\"startlinecolor\":\"#2a3f5f\"},\"baxis\":{\"endlinecolor\":\"#2a3f5f\",\"gridcolor\":\"white\",\"linecolor\":\"white\",\"minorgridcolor\":\"white\",\"startlinecolor\":\"#2a3f5f\"},\"type\":\"carpet\"}],\"table\":[{\"cells\":{\"fill\":{\"color\":\"#EBF0F8\"},\"line\":{\"color\":\"white\"}},\"header\":{\"fill\":{\"color\":\"#C8D4E3\"},\"line\":{\"color\":\"white\"}},\"type\":\"table\"}],\"barpolar\":[{\"marker\":{\"line\":{\"color\":\"#E5ECF6\",\"width\":0.5},\"pattern\":{\"fillmode\":\"overlay\",\"size\":10,\"solidity\":0.2}},\"type\":\"barpolar\"}],\"pie\":[{\"automargin\":true,\"type\":\"pie\"}]},\"layout\":{\"autotypenumbers\":\"strict\",\"colorway\":[\"#636efa\",\"#EF553B\",\"#00cc96\",\"#ab63fa\",\"#FFA15A\",\"#19d3f3\",\"#FF6692\",\"#B6E880\",\"#FF97FF\",\"#FECB52\"],\"font\":{\"color\":\"#2a3f5f\"},\"hovermode\":\"closest\",\"hoverlabel\":{\"align\":\"left\"},\"paper_bgcolor\":\"white\",\"plot_bgcolor\":\"#E5ECF6\",\"polar\":{\"bgcolor\":\"#E5ECF6\",\"angularaxis\":{\"gridcolor\":\"white\",\"linecolor\":\"white\",\"ticks\":\"\"},\"radialaxis\":{\"gridcolor\":\"white\",\"linecolor\":\"white\",\"ticks\":\"\"}},\"ternary\":{\"bgcolor\":\"#E5ECF6\",\"aaxis\":{\"gridcolor\":\"white\",\"linecolor\":\"white\",\"ticks\":\"\"},\"baxis\":{\"gridcolor\":\"white\",\"linecolor\":\"white\",\"ticks\":\"\"},\"caxis\":{\"gridcolor\":\"white\",\"linecolor\":\"white\",\"ticks\":\"\"}},\"coloraxis\":{\"colorbar\":{\"outlinewidth\":0,\"ticks\":\"\"}},\"colorscale\":{\"sequential\":[[0.0,\"#0d0887\"],[0.1111111111111111,\"#46039f\"],[0.2222222222222222,\"#7201a8\"],[0.3333333333333333,\"#9c179e\"],[0.4444444444444444,\"#bd3786\"],[0.5555555555555556,\"#d8576b\"],[0.6666666666666666,\"#ed7953\"],[0.7777777777777778,\"#fb9f3a\"],[0.8888888888888888,\"#fdca26\"],[1.0,\"#f0f921\"]],\"sequentialminus\":[[0.0,\"#0d0887\"],[0.1111111111111111,\"#46039f\"],[0.2222222222222222,\"#7201a8\"],[0.3333333333333333,\"#9c179e\"],[0.4444444444444444,\"#bd3786\"],[0.5555555555555556,\"#d8576b\"],[0.6666666666666666,\"#ed7953\"],[0.7777777777777778,\"#fb9f3a\"],[0.8888888888888888,\"#fdca26\"],[1.0,\"#f0f921\"]],\"diverging\":[[0,\"#8e0152\"],[0.1,\"#c51b7d\"],[0.2,\"#de77ae\"],[0.3,\"#f1b6da\"],[0.4,\"#fde0ef\"],[0.5,\"#f7f7f7\"],[0.6,\"#e6f5d0\"],[0.7,\"#b8e186\"],[0.8,\"#7fbc41\"],[0.9,\"#4d9221\"],[1,\"#276419\"]]},\"xaxis\":{\"gridcolor\":\"white\",\"linecolor\":\"white\",\"ticks\":\"\",\"title\":{\"standoff\":15},\"zerolinecolor\":\"white\",\"automargin\":true,\"zerolinewidth\":2},\"yaxis\":{\"gridcolor\":\"white\",\"linecolor\":\"white\",\"ticks\":\"\",\"title\":{\"standoff\":15},\"zerolinecolor\":\"white\",\"automargin\":true,\"zerolinewidth\":2},\"scene\":{\"xaxis\":{\"backgroundcolor\":\"#E5ECF6\",\"gridcolor\":\"white\",\"linecolor\":\"white\",\"showbackground\":true,\"ticks\":\"\",\"zerolinecolor\":\"white\",\"gridwidth\":2},\"yaxis\":{\"backgroundcolor\":\"#E5ECF6\",\"gridcolor\":\"white\",\"linecolor\":\"white\",\"showbackground\":true,\"ticks\":\"\",\"zerolinecolor\":\"white\",\"gridwidth\":2},\"zaxis\":{\"backgroundcolor\":\"#E5ECF6\",\"gridcolor\":\"white\",\"linecolor\":\"white\",\"showbackground\":true,\"ticks\":\"\",\"zerolinecolor\":\"white\",\"gridwidth\":2}},\"shapedefaults\":{\"line\":{\"color\":\"#2a3f5f\"}},\"annotationdefaults\":{\"arrowcolor\":\"#2a3f5f\",\"arrowhead\":0,\"arrowwidth\":1},\"geo\":{\"bgcolor\":\"white\",\"landcolor\":\"#E5ECF6\",\"subunitcolor\":\"white\",\"showland\":true,\"showlakes\":true,\"lakecolor\":\"white\"},\"title\":{\"x\":0.05},\"mapbox\":{\"style\":\"light\"}}}},                        {\"responsive\": true}                    ).then(function(){\n",
              "                            \n",
              "var gd = document.getElementById('81c3f56c-626f-4eba-a2d0-01f7f26c1dc2');\n",
              "var x = new MutationObserver(function (mutations, observer) {{\n",
              "        var display = window.getComputedStyle(gd).display;\n",
              "        if (!display || display === 'none') {{\n",
              "            console.log([gd, 'removed!']);\n",
              "            Plotly.purge(gd);\n",
              "            observer.disconnect();\n",
              "        }}\n",
              "}});\n",
              "\n",
              "// Listen for the removal of the full notebook cells\n",
              "var notebookContainer = gd.closest('#notebook-container');\n",
              "if (notebookContainer) {{\n",
              "    x.observe(notebookContainer, {childList: true});\n",
              "}}\n",
              "\n",
              "// Listen for the clearing of the current output cell\n",
              "var outputEl = gd.closest('.output');\n",
              "if (outputEl) {{\n",
              "    x.observe(outputEl, {childList: true});\n",
              "}}\n",
              "\n",
              "                        })                };                            </script>        </div>\n",
              "</body>\n",
              "</html>"
            ]
          },
          "metadata": {}
        }
      ]
    },
    {
      "cell_type": "markdown",
      "source": [
        "Evauleringer av beste modell"
      ],
      "metadata": {
        "id": "QlsyU7zY7ADP"
      }
    },
    {
      "cell_type": "code",
      "source": [
        "def detailed_objective(trial):\n",
        "  parametere = {\n",
        "      'n_estimators': trial.suggest_int('n_estimators', 100, 200),\n",
        "      'max_depth': trial.suggest_int('max_depth', 1, 10)\n",
        "  }\n",
        "  rf_pipeline = Pipeline([\n",
        "      ('skalerer', StandardScaler()),\n",
        "      ('modell', RandomForestRegressor(**parametere, random_state=random_seed))\n",
        "  ])\n",
        "\n",
        "  rf_pipeline.fit(X_trening, y_trening)\n",
        "  y_test_prediksjon = rf_pipeline.predict(X_test)\n",
        "  y_trening_prediksjon = rf_pipeline.predict(X_trening)\n",
        "\n",
        "  mse_test = mean_squared_error(y_test, y_test_prediksjon)\n",
        "  r2_test = r2_score(y_test, y_test_prediksjon)\n",
        "\n",
        "  mse_trening = mean_squared_error(y_trening, y_trening_prediksjon)\n",
        "  r2_trening = r2_score(y_trening, y_trening_prediksjon)\n",
        "\n",
        "  return mse_test, r2_test, mse_trening, r2_trening\n",
        "\n",
        "mse_test_resultat = detailed_objective(study.best_trial)[0]\n",
        "r2_test_resultat = detailed_objective(study.best_trial)[1]\n",
        "mse_trening_resultat = detailed_objective(study.best_trial)[2]\n",
        "r2_trening_resultat = detailed_objective(study.best_trial)[3]\n",
        "\n",
        "print(\"Beste hyperparametere for RandomForestRegressor: {}\".format(study.best_params))\n",
        "print(\"Test: MSE: {}, og R^2: {}\".format(mse_test_resultat, r2_test_resultat))\n",
        "print(\"Trening: MSE: {}, og R^2: {}\".format(mse_trening_resultat, r2_trening_resultat))"
      ],
      "metadata": {
        "colab": {
          "base_uri": "https://localhost:8080/"
        },
        "id": "JrxN1-YQ7FUe",
        "outputId": "5acab63d-8719-4724-8611-fc3d790363b8"
      },
      "execution_count": 12,
      "outputs": [
        {
          "output_type": "stream",
          "name": "stdout",
          "text": [
            "Beste hyperparametere for RandomForestRegressor: {'n_estimators': 125, 'max_depth': 8}\n",
            "Test: MSE: 16.1279219616204, og R^2: 0.5359083947487182\n",
            "Trening: MSE: 1.6344692049527287, og R^2: 0.9354977759025687\n"
          ]
        }
      ]
    },
    {
      "cell_type": "markdown",
      "source": [
        "### Alternativ 2: Fordelt på dag og kontinuitet"
      ],
      "metadata": {
        "id": "4rCtxyZ1OJLJ"
      }
    },
    {
      "cell_type": "code",
      "source": [
        "collagen_trening, collagen_test, _, _ = trening_testsett_oppdeling_dag(collagen_data)\n",
        "\n",
        "X_trening = collagen_trening.iloc[:, :-1]\n",
        "X_test = collagen_test.iloc[:, :-1]\n",
        "y_trening = collagen_trening.iloc[:, -1]\n",
        "y_test = collagen_test.iloc[:, -1]"
      ],
      "metadata": {
        "id": "JLlqSB4BQKYU"
      },
      "execution_count": 16,
      "outputs": []
    },
    {
      "cell_type": "markdown",
      "source": [
        "**RandomForestRegressor**"
      ],
      "metadata": {
        "id": "J23ZW5mjQMEV"
      }
    },
    {
      "cell_type": "markdown",
      "source": [
        "Hyperparameteroptimalisering med Optuna"
      ],
      "metadata": {
        "id": "QCvxyZK-QQ53"
      }
    },
    {
      "cell_type": "code",
      "source": [
        "def objective(trial):\n",
        "  parametere = {\n",
        "      'n_estimators': trial.suggest_int('n_estimators', 100, 200),\n",
        "      'max_depth': trial.suggest_int('max_depth', 1, 10)\n",
        "  }\n",
        "  rf_pipeline = Pipeline([\n",
        "      ('skalerer', StandardScaler()),\n",
        "      ('modell', RandomForestRegressor(**parametere, random_state=random_seed))\n",
        "  ])\n",
        "\n",
        "  rf_pipeline.fit(X_trening, y_trening)\n",
        "  y_test_prediksjon = rf_pipeline.predict(X_test)\n",
        "  mse_test = mean_squared_error(y_test, y_test_prediksjon)\n",
        "  return mse_test\n",
        "\n",
        "if __name__ == \"__main__\":\n",
        "  study = optuna.create_study(direction='minimize')\n",
        "  study.optimize(objective, n_trials=100)\n",
        "\n",
        "plot_optimization_history(study)"
      ],
      "metadata": {
        "colab": {
          "base_uri": "https://localhost:8080/",
          "height": 1000
        },
        "id": "k8ynupxDQPEA",
        "outputId": "86ba5df7-59d1-4dc6-e3df-d7bf79495631"
      },
      "execution_count": 17,
      "outputs": [
        {
          "output_type": "stream",
          "name": "stderr",
          "text": [
            "[I 2024-02-11 14:03:45,592] A new study created in memory with name: no-name-480596f4-e82f-4360-b2cd-24c612a62412\n",
            "[I 2024-02-11 14:03:46,109] Trial 0 finished with value: 8.51127804230406 and parameters: {'n_estimators': 105, 'max_depth': 5}. Best is trial 0 with value: 8.51127804230406.\n",
            "[I 2024-02-11 14:03:46,631] Trial 1 finished with value: 8.217833943328044 and parameters: {'n_estimators': 196, 'max_depth': 9}. Best is trial 1 with value: 8.217833943328044.\n",
            "[I 2024-02-11 14:03:46,933] Trial 2 finished with value: 13.470954374386224 and parameters: {'n_estimators': 136, 'max_depth': 1}. Best is trial 1 with value: 8.217833943328044.\n",
            "[I 2024-02-11 14:03:47,203] Trial 3 finished with value: 8.389732034186938 and parameters: {'n_estimators': 107, 'max_depth': 5}. Best is trial 1 with value: 8.217833943328044.\n",
            "[I 2024-02-11 14:03:47,517] Trial 4 finished with value: 8.323521681386579 and parameters: {'n_estimators': 192, 'max_depth': 8}. Best is trial 1 with value: 8.217833943328044.\n",
            "[I 2024-02-11 14:03:47,798] Trial 5 finished with value: 8.229665424560597 and parameters: {'n_estimators': 182, 'max_depth': 7}. Best is trial 1 with value: 8.217833943328044.\n",
            "[I 2024-02-11 14:03:47,982] Trial 6 finished with value: 13.457202884095947 and parameters: {'n_estimators': 143, 'max_depth': 1}. Best is trial 1 with value: 8.217833943328044.\n",
            "[I 2024-02-11 14:03:48,158] Trial 7 finished with value: 11.078220141200157 and parameters: {'n_estimators': 128, 'max_depth': 2}. Best is trial 1 with value: 8.217833943328044.\n",
            "[I 2024-02-11 14:03:48,375] Trial 8 finished with value: 10.882735333917257 and parameters: {'n_estimators': 156, 'max_depth': 2}. Best is trial 1 with value: 8.217833943328044.\n",
            "[I 2024-02-11 14:03:48,577] Trial 9 finished with value: 8.274642563910374 and parameters: {'n_estimators': 130, 'max_depth': 6}. Best is trial 1 with value: 8.217833943328044.\n",
            "[I 2024-02-11 14:03:48,849] Trial 10 finished with value: 8.491808750422557 and parameters: {'n_estimators': 169, 'max_depth': 10}. Best is trial 1 with value: 8.217833943328044.\n",
            "[I 2024-02-11 14:03:49,172] Trial 11 finished with value: 8.29391626950503 and parameters: {'n_estimators': 200, 'max_depth': 10}. Best is trial 1 with value: 8.217833943328044.\n",
            "[I 2024-02-11 14:03:49,467] Trial 12 finished with value: 8.47960197269165 and parameters: {'n_estimators': 180, 'max_depth': 8}. Best is trial 1 with value: 8.217833943328044.\n",
            "[I 2024-02-11 14:03:49,758] Trial 13 finished with value: 8.47960197269165 and parameters: {'n_estimators': 180, 'max_depth': 8}. Best is trial 1 with value: 8.217833943328044.\n",
            "[I 2024-02-11 14:03:50,016] Trial 14 finished with value: 8.263774256566329 and parameters: {'n_estimators': 163, 'max_depth': 7}. Best is trial 1 with value: 8.217833943328044.\n",
            "[I 2024-02-11 14:03:50,328] Trial 15 finished with value: 8.29957438100989 and parameters: {'n_estimators': 186, 'max_depth': 9}. Best is trial 1 with value: 8.217833943328044.\n",
            "[I 2024-02-11 14:03:50,639] Trial 16 finished with value: 8.47028347662286 and parameters: {'n_estimators': 199, 'max_depth': 4}. Best is trial 1 with value: 8.217833943328044.\n",
            "[I 2024-02-11 14:03:50,915] Trial 17 finished with value: 8.190516008662984 and parameters: {'n_estimators': 173, 'max_depth': 7}. Best is trial 17 with value: 8.190516008662984.\n",
            "[I 2024-02-11 14:03:51,193] Trial 18 finished with value: 8.341441830207275 and parameters: {'n_estimators': 169, 'max_depth': 9}. Best is trial 17 with value: 8.190516008662984.\n",
            "[I 2024-02-11 14:03:51,451] Trial 19 finished with value: 8.443462535124114 and parameters: {'n_estimators': 153, 'max_depth': 6}. Best is trial 17 with value: 8.190516008662984.\n",
            "[I 2024-02-11 14:03:51,709] Trial 20 finished with value: 8.596745945773343 and parameters: {'n_estimators': 172, 'max_depth': 4}. Best is trial 17 with value: 8.190516008662984.\n",
            "[I 2024-02-11 14:03:52,008] Trial 21 finished with value: 8.197870138515988 and parameters: {'n_estimators': 187, 'max_depth': 7}. Best is trial 17 with value: 8.190516008662984.\n",
            "[I 2024-02-11 14:03:52,307] Trial 22 finished with value: 8.097264240992871 and parameters: {'n_estimators': 191, 'max_depth': 7}. Best is trial 22 with value: 8.097264240992871.\n",
            "[I 2024-02-11 14:03:52,632] Trial 23 finished with value: 8.121300316519953 and parameters: {'n_estimators': 189, 'max_depth': 7}. Best is trial 22 with value: 8.097264240992871.\n",
            "[I 2024-02-11 14:03:52,907] Trial 24 finished with value: 8.249432342158622 and parameters: {'n_estimators': 175, 'max_depth': 6}. Best is trial 22 with value: 8.097264240992871.\n",
            "[I 2024-02-11 14:03:53,171] Trial 25 finished with value: 8.286463508448868 and parameters: {'n_estimators': 162, 'max_depth': 7}. Best is trial 22 with value: 8.097264240992871.\n",
            "[I 2024-02-11 14:03:53,475] Trial 26 finished with value: 8.492115601350669 and parameters: {'n_estimators': 191, 'max_depth': 4}. Best is trial 22 with value: 8.097264240992871.\n",
            "[I 2024-02-11 14:03:53,769] Trial 27 finished with value: 8.37111466075762 and parameters: {'n_estimators': 178, 'max_depth': 8}. Best is trial 22 with value: 8.097264240992871.\n",
            "[I 2024-02-11 14:03:54,052] Trial 28 finished with value: 8.29994474842623 and parameters: {'n_estimators': 188, 'max_depth': 5}. Best is trial 22 with value: 8.097264240992871.\n",
            "[I 2024-02-11 14:03:54,303] Trial 29 finished with value: 8.40669477688694 and parameters: {'n_estimators': 159, 'max_depth': 6}. Best is trial 22 with value: 8.097264240992871.\n",
            "[I 2024-02-11 14:03:54,511] Trial 30 finished with value: 8.298001140580011 and parameters: {'n_estimators': 116, 'max_depth': 7}. Best is trial 22 with value: 8.097264240992871.\n",
            "[I 2024-02-11 14:03:54,816] Trial 31 finished with value: 8.121300316519953 and parameters: {'n_estimators': 189, 'max_depth': 7}. Best is trial 22 with value: 8.097264240992871.\n",
            "[I 2024-02-11 14:03:55,129] Trial 32 finished with value: 8.238898996070027 and parameters: {'n_estimators': 195, 'max_depth': 9}. Best is trial 22 with value: 8.097264240992871.\n",
            "[I 2024-02-11 14:03:55,424] Trial 33 finished with value: 8.441676312275252 and parameters: {'n_estimators': 185, 'max_depth': 8}. Best is trial 22 with value: 8.097264240992871.\n",
            "[I 2024-02-11 14:03:55,744] Trial 34 finished with value: 8.19988431219501 and parameters: {'n_estimators': 194, 'max_depth': 6}. Best is trial 22 with value: 8.097264240992871.\n",
            "[I 2024-02-11 14:03:55,977] Trial 35 finished with value: 8.641005799054652 and parameters: {'n_estimators': 148, 'max_depth': 5}. Best is trial 22 with value: 8.097264240992871.\n",
            "[I 2024-02-11 14:03:56,280] Trial 36 finished with value: 8.097264240992871 and parameters: {'n_estimators': 191, 'max_depth': 7}. Best is trial 22 with value: 8.097264240992871.\n",
            "[I 2024-02-11 14:03:56,600] Trial 37 finished with value: 8.223430985618169 and parameters: {'n_estimators': 194, 'max_depth': 5}. Best is trial 22 with value: 8.097264240992871.\n",
            "[I 2024-02-11 14:03:56,778] Trial 38 finished with value: 8.819521546902614 and parameters: {'n_estimators': 100, 'max_depth': 8}. Best is trial 22 with value: 8.097264240992871.\n",
            "[I 2024-02-11 14:03:57,094] Trial 39 finished with value: 8.10579897352135 and parameters: {'n_estimators': 200, 'max_depth': 7}. Best is trial 22 with value: 8.097264240992871.\n",
            "[I 2024-02-11 14:03:57,540] Trial 40 finished with value: 8.201377049586839 and parameters: {'n_estimators': 200, 'max_depth': 9}. Best is trial 22 with value: 8.097264240992871.\n",
            "[I 2024-02-11 14:03:58,035] Trial 41 finished with value: 8.121300316519953 and parameters: {'n_estimators': 189, 'max_depth': 7}. Best is trial 22 with value: 8.097264240992871.\n",
            "[I 2024-02-11 14:03:58,510] Trial 42 finished with value: 8.306919416565599 and parameters: {'n_estimators': 183, 'max_depth': 6}. Best is trial 22 with value: 8.097264240992871.\n",
            "[I 2024-02-11 14:03:59,018] Trial 43 finished with value: 8.128297468557179 and parameters: {'n_estimators': 192, 'max_depth': 7}. Best is trial 22 with value: 8.097264240992871.\n",
            "[I 2024-02-11 14:03:59,539] Trial 44 finished with value: 8.25533070554323 and parameters: {'n_estimators': 197, 'max_depth': 8}. Best is trial 22 with value: 8.097264240992871.\n",
            "[I 2024-02-11 14:04:00,036] Trial 45 finished with value: 8.218260412656278 and parameters: {'n_estimators': 183, 'max_depth': 7}. Best is trial 22 with value: 8.097264240992871.\n",
            "[I 2024-02-11 14:04:00,599] Trial 46 finished with value: 8.339931536832069 and parameters: {'n_estimators': 177, 'max_depth': 8}. Best is trial 22 with value: 8.097264240992871.\n",
            "[I 2024-02-11 14:04:01,118] Trial 47 finished with value: 8.337306713974968 and parameters: {'n_estimators': 137, 'max_depth': 6}. Best is trial 22 with value: 8.097264240992871.\n",
            "[I 2024-02-11 14:04:01,724] Trial 48 finished with value: 8.092626429630085 and parameters: {'n_estimators': 190, 'max_depth': 7}. Best is trial 48 with value: 8.092626429630085.\n",
            "[I 2024-02-11 14:04:02,482] Trial 49 finished with value: 8.290962218529618 and parameters: {'n_estimators': 196, 'max_depth': 10}. Best is trial 48 with value: 8.092626429630085.\n",
            "[I 2024-02-11 14:04:02,725] Trial 50 finished with value: 9.045675834889021 and parameters: {'n_estimators': 166, 'max_depth': 3}. Best is trial 48 with value: 8.092626429630085.\n",
            "[I 2024-02-11 14:04:03,036] Trial 51 finished with value: 8.092626429630085 and parameters: {'n_estimators': 190, 'max_depth': 7}. Best is trial 48 with value: 8.092626429630085.\n",
            "[I 2024-02-11 14:04:03,347] Trial 52 finished with value: 8.293812966828852 and parameters: {'n_estimators': 191, 'max_depth': 8}. Best is trial 48 with value: 8.092626429630085.\n",
            "[I 2024-02-11 14:04:03,657] Trial 53 finished with value: 8.202082391236411 and parameters: {'n_estimators': 200, 'max_depth': 6}. Best is trial 48 with value: 8.092626429630085.\n",
            "[I 2024-02-11 14:04:03,967] Trial 54 finished with value: 8.229665424560597 and parameters: {'n_estimators': 182, 'max_depth': 7}. Best is trial 48 with value: 8.092626429630085.\n",
            "[I 2024-02-11 14:04:04,451] Trial 55 finished with value: 8.217833943328044 and parameters: {'n_estimators': 196, 'max_depth': 9}. Best is trial 48 with value: 8.092626429630085.\n",
            "[I 2024-02-11 14:04:05,070] Trial 56 finished with value: 8.415122168965429 and parameters: {'n_estimators': 186, 'max_depth': 8}. Best is trial 48 with value: 8.092626429630085.\n",
            "[I 2024-02-11 14:04:06,429] Trial 57 finished with value: 8.23091413775818 and parameters: {'n_estimators': 180, 'max_depth': 7}. Best is trial 48 with value: 8.092626429630085.\n",
            "[I 2024-02-11 14:04:07,302] Trial 58 finished with value: 8.198265524615932 and parameters: {'n_estimators': 191, 'max_depth': 6}. Best is trial 48 with value: 8.092626429630085.\n",
            "[I 2024-02-11 14:04:07,892] Trial 59 finished with value: 8.180797589474011 and parameters: {'n_estimators': 186, 'max_depth': 7}. Best is trial 48 with value: 8.092626429630085.\n",
            "[I 2024-02-11 14:04:08,360] Trial 60 finished with value: 8.42655821058538 and parameters: {'n_estimators': 171, 'max_depth': 8}. Best is trial 48 with value: 8.092626429630085.\n",
            "[I 2024-02-11 14:04:09,786] Trial 61 finished with value: 8.121300316519953 and parameters: {'n_estimators': 189, 'max_depth': 7}. Best is trial 48 with value: 8.092626429630085.\n",
            "[I 2024-02-11 14:04:10,755] Trial 62 finished with value: 8.100098239262007 and parameters: {'n_estimators': 193, 'max_depth': 7}. Best is trial 48 with value: 8.092626429630085.\n",
            "[I 2024-02-11 14:04:11,652] Trial 63 finished with value: 8.165790433782565 and parameters: {'n_estimators': 198, 'max_depth': 6}. Best is trial 48 with value: 8.092626429630085.\n",
            "[I 2024-02-11 14:04:12,733] Trial 64 finished with value: 8.289219735735045 and parameters: {'n_estimators': 118, 'max_depth': 6}. Best is trial 48 with value: 8.092626429630085.\n",
            "[I 2024-02-11 14:04:15,124] Trial 65 finished with value: 8.100098239262007 and parameters: {'n_estimators': 193, 'max_depth': 7}. Best is trial 48 with value: 8.092626429630085.\n",
            "[I 2024-02-11 14:04:16,322] Trial 66 finished with value: 8.100098239262007 and parameters: {'n_estimators': 193, 'max_depth': 7}. Best is trial 48 with value: 8.092626429630085.\n",
            "[I 2024-02-11 14:04:16,712] Trial 67 finished with value: 8.339931536832069 and parameters: {'n_estimators': 177, 'max_depth': 8}. Best is trial 48 with value: 8.092626429630085.\n",
            "[I 2024-02-11 14:04:18,062] Trial 68 finished with value: 8.100098239262007 and parameters: {'n_estimators': 193, 'max_depth': 7}. Best is trial 48 with value: 8.092626429630085.\n",
            "[I 2024-02-11 14:04:19,121] Trial 69 finished with value: 8.344649196137187 and parameters: {'n_estimators': 184, 'max_depth': 5}. Best is trial 48 with value: 8.092626429630085.\n",
            "[I 2024-02-11 14:04:19,810] Trial 70 finished with value: 8.32478488349852 and parameters: {'n_estimators': 180, 'max_depth': 6}. Best is trial 48 with value: 8.092626429630085.\n",
            "[I 2024-02-11 14:04:20,119] Trial 71 finished with value: 8.098620604772101 and parameters: {'n_estimators': 194, 'max_depth': 7}. Best is trial 48 with value: 8.092626429630085.\n",
            "[I 2024-02-11 14:04:20,439] Trial 72 finished with value: 8.098620604772101 and parameters: {'n_estimators': 194, 'max_depth': 7}. Best is trial 48 with value: 8.092626429630085.\n",
            "[I 2024-02-11 14:04:20,777] Trial 73 finished with value: 8.276711199815786 and parameters: {'n_estimators': 196, 'max_depth': 8}. Best is trial 48 with value: 8.092626429630085.\n",
            "[I 2024-02-11 14:04:21,099] Trial 74 finished with value: 8.121300316519953 and parameters: {'n_estimators': 189, 'max_depth': 7}. Best is trial 48 with value: 8.092626429630085.\n",
            "[I 2024-02-11 14:04:21,399] Trial 75 finished with value: 8.263843248727227 and parameters: {'n_estimators': 187, 'max_depth': 6}. Best is trial 48 with value: 8.092626429630085.\n",
            "[I 2024-02-11 14:04:21,700] Trial 76 finished with value: 8.100098239262007 and parameters: {'n_estimators': 193, 'max_depth': 7}. Best is trial 48 with value: 8.092626429630085.\n",
            "[I 2024-02-11 14:04:22,023] Trial 77 finished with value: 8.079743300024674 and parameters: {'n_estimators': 197, 'max_depth': 7}. Best is trial 77 with value: 8.079743300024674.\n",
            "[I 2024-02-11 14:04:22,334] Trial 78 finished with value: 8.252935524749724 and parameters: {'n_estimators': 198, 'max_depth': 8}. Best is trial 77 with value: 8.079743300024674.\n",
            "[I 2024-02-11 14:04:22,607] Trial 79 finished with value: 8.246718984575551 and parameters: {'n_estimators': 174, 'max_depth': 6}. Best is trial 77 with value: 8.079743300024674.\n",
            "[I 2024-02-11 14:04:22,936] Trial 80 finished with value: 8.214719148903914 and parameters: {'n_estimators': 190, 'max_depth': 9}. Best is trial 77 with value: 8.079743300024674.\n",
            "[I 2024-02-11 14:04:23,251] Trial 81 finished with value: 8.120265105744817 and parameters: {'n_estimators': 195, 'max_depth': 7}. Best is trial 77 with value: 8.079743300024674.\n",
            "[I 2024-02-11 14:04:23,512] Trial 82 finished with value: 13.420510441395233 and parameters: {'n_estimators': 185, 'max_depth': 1}. Best is trial 77 with value: 8.079743300024674.\n",
            "[I 2024-02-11 14:04:23,841] Trial 83 finished with value: 8.080841620941921 and parameters: {'n_estimators': 198, 'max_depth': 7}. Best is trial 77 with value: 8.079743300024674.\n",
            "[I 2024-02-11 14:04:24,152] Trial 84 finished with value: 8.080841620941921 and parameters: {'n_estimators': 198, 'max_depth': 7}. Best is trial 77 with value: 8.079743300024674.\n",
            "[I 2024-02-11 14:04:24,488] Trial 85 finished with value: 8.252935524749724 and parameters: {'n_estimators': 198, 'max_depth': 8}. Best is trial 77 with value: 8.079743300024674.\n",
            "[I 2024-02-11 14:04:24,833] Trial 86 finished with value: 8.10579897352135 and parameters: {'n_estimators': 200, 'max_depth': 7}. Best is trial 77 with value: 8.079743300024674.\n",
            "[I 2024-02-11 14:04:25,163] Trial 87 finished with value: 8.276711199815786 and parameters: {'n_estimators': 196, 'max_depth': 8}. Best is trial 77 with value: 8.079743300024674.\n",
            "[I 2024-02-11 14:04:25,602] Trial 88 finished with value: 8.246011293290778 and parameters: {'n_estimators': 188, 'max_depth': 6}. Best is trial 77 with value: 8.079743300024674.\n",
            "[I 2024-02-11 14:04:26,106] Trial 89 finished with value: 8.097264240992871 and parameters: {'n_estimators': 191, 'max_depth': 7}. Best is trial 77 with value: 8.079743300024674.\n",
            "[I 2024-02-11 14:04:26,590] Trial 90 finished with value: 8.223201964479689 and parameters: {'n_estimators': 181, 'max_depth': 7}. Best is trial 77 with value: 8.079743300024674.\n",
            "[I 2024-02-11 14:04:27,095] Trial 91 finished with value: 8.097264240992871 and parameters: {'n_estimators': 191, 'max_depth': 7}. Best is trial 77 with value: 8.079743300024674.\n",
            "[I 2024-02-11 14:04:27,589] Trial 92 finished with value: 8.097264240992871 and parameters: {'n_estimators': 191, 'max_depth': 7}. Best is trial 77 with value: 8.079743300024674.\n",
            "[I 2024-02-11 14:04:28,107] Trial 93 finished with value: 8.097264240992871 and parameters: {'n_estimators': 191, 'max_depth': 7}. Best is trial 77 with value: 8.079743300024674.\n",
            "[I 2024-02-11 14:04:28,605] Trial 94 finished with value: 8.263843248727227 and parameters: {'n_estimators': 187, 'max_depth': 6}. Best is trial 77 with value: 8.079743300024674.\n",
            "[I 2024-02-11 14:04:28,999] Trial 95 finished with value: 8.252935524749724 and parameters: {'n_estimators': 198, 'max_depth': 8}. Best is trial 77 with value: 8.079743300024674.\n",
            "[I 2024-02-11 14:04:29,302] Trial 96 finished with value: 8.218260412656278 and parameters: {'n_estimators': 183, 'max_depth': 7}. Best is trial 77 with value: 8.079743300024674.\n",
            "[I 2024-02-11 14:04:29,612] Trial 97 finished with value: 8.198265524615932 and parameters: {'n_estimators': 191, 'max_depth': 6}. Best is trial 77 with value: 8.079743300024674.\n",
            "[I 2024-02-11 14:04:29,932] Trial 98 finished with value: 8.25533070554323 and parameters: {'n_estimators': 197, 'max_depth': 8}. Best is trial 77 with value: 8.079743300024674.\n",
            "[I 2024-02-11 14:04:30,239] Trial 99 finished with value: 8.198197561165848 and parameters: {'n_estimators': 185, 'max_depth': 7}. Best is trial 77 with value: 8.079743300024674.\n"
          ]
        },
        {
          "output_type": "display_data",
          "data": {
            "text/html": [
              "<html>\n",
              "<head><meta charset=\"utf-8\" /></head>\n",
              "<body>\n",
              "    <div>            <script src=\"https://cdnjs.cloudflare.com/ajax/libs/mathjax/2.7.5/MathJax.js?config=TeX-AMS-MML_SVG\"></script><script type=\"text/javascript\">if (window.MathJax && window.MathJax.Hub && window.MathJax.Hub.Config) {window.MathJax.Hub.Config({SVG: {font: \"STIX-Web\"}});}</script>                <script type=\"text/javascript\">window.PlotlyConfig = {MathJaxConfig: 'local'};</script>\n",
              "        <script charset=\"utf-8\" src=\"https://cdn.plot.ly/plotly-2.24.1.min.js\"></script>                <div id=\"4d796742-480f-4091-a3f7-017a0bea3277\" class=\"plotly-graph-div\" style=\"height:525px; width:100%;\"></div>            <script type=\"text/javascript\">                                    window.PLOTLYENV=window.PLOTLYENV || {};                                    if (document.getElementById(\"4d796742-480f-4091-a3f7-017a0bea3277\")) {                    Plotly.newPlot(                        \"4d796742-480f-4091-a3f7-017a0bea3277\",                        [{\"mode\":\"markers\",\"name\":\"Objective Value\",\"x\":[0,1,2,3,4,5,6,7,8,9,10,11,12,13,14,15,16,17,18,19,20,21,22,23,24,25,26,27,28,29,30,31,32,33,34,35,36,37,38,39,40,41,42,43,44,45,46,47,48,49,50,51,52,53,54,55,56,57,58,59,60,61,62,63,64,65,66,67,68,69,70,71,72,73,74,75,76,77,78,79,80,81,82,83,84,85,86,87,88,89,90,91,92,93,94,95,96,97,98,99],\"y\":[8.51127804230406,8.217833943328044,13.470954374386224,8.389732034186938,8.323521681386579,8.229665424560597,13.457202884095947,11.078220141200157,10.882735333917257,8.274642563910374,8.491808750422557,8.29391626950503,8.47960197269165,8.47960197269165,8.263774256566329,8.29957438100989,8.47028347662286,8.190516008662984,8.341441830207275,8.443462535124114,8.596745945773343,8.197870138515988,8.097264240992871,8.121300316519953,8.249432342158622,8.286463508448868,8.492115601350669,8.37111466075762,8.29994474842623,8.40669477688694,8.298001140580011,8.121300316519953,8.238898996070027,8.441676312275252,8.19988431219501,8.641005799054652,8.097264240992871,8.223430985618169,8.819521546902614,8.10579897352135,8.201377049586839,8.121300316519953,8.306919416565599,8.128297468557179,8.25533070554323,8.218260412656278,8.339931536832069,8.337306713974968,8.092626429630085,8.290962218529618,9.045675834889021,8.092626429630085,8.293812966828852,8.202082391236411,8.229665424560597,8.217833943328044,8.415122168965429,8.23091413775818,8.198265524615932,8.180797589474011,8.42655821058538,8.121300316519953,8.100098239262007,8.165790433782565,8.289219735735045,8.100098239262007,8.100098239262007,8.339931536832069,8.100098239262007,8.344649196137187,8.32478488349852,8.098620604772101,8.098620604772101,8.276711199815786,8.121300316519953,8.263843248727227,8.100098239262007,8.079743300024674,8.252935524749724,8.246718984575551,8.214719148903914,8.120265105744817,13.420510441395233,8.080841620941921,8.080841620941921,8.252935524749724,8.10579897352135,8.276711199815786,8.246011293290778,8.097264240992871,8.223201964479689,8.097264240992871,8.097264240992871,8.097264240992871,8.263843248727227,8.252935524749724,8.218260412656278,8.198265524615932,8.25533070554323,8.198197561165848],\"type\":\"scatter\"},{\"mode\":\"lines\",\"name\":\"Best Value\",\"x\":[0,1,2,3,4,5,6,7,8,9,10,11,12,13,14,15,16,17,18,19,20,21,22,23,24,25,26,27,28,29,30,31,32,33,34,35,36,37,38,39,40,41,42,43,44,45,46,47,48,49,50,51,52,53,54,55,56,57,58,59,60,61,62,63,64,65,66,67,68,69,70,71,72,73,74,75,76,77,78,79,80,81,82,83,84,85,86,87,88,89,90,91,92,93,94,95,96,97,98,99],\"y\":[8.51127804230406,8.217833943328044,8.217833943328044,8.217833943328044,8.217833943328044,8.217833943328044,8.217833943328044,8.217833943328044,8.217833943328044,8.217833943328044,8.217833943328044,8.217833943328044,8.217833943328044,8.217833943328044,8.217833943328044,8.217833943328044,8.217833943328044,8.190516008662984,8.190516008662984,8.190516008662984,8.190516008662984,8.190516008662984,8.097264240992871,8.097264240992871,8.097264240992871,8.097264240992871,8.097264240992871,8.097264240992871,8.097264240992871,8.097264240992871,8.097264240992871,8.097264240992871,8.097264240992871,8.097264240992871,8.097264240992871,8.097264240992871,8.097264240992871,8.097264240992871,8.097264240992871,8.097264240992871,8.097264240992871,8.097264240992871,8.097264240992871,8.097264240992871,8.097264240992871,8.097264240992871,8.097264240992871,8.097264240992871,8.092626429630085,8.092626429630085,8.092626429630085,8.092626429630085,8.092626429630085,8.092626429630085,8.092626429630085,8.092626429630085,8.092626429630085,8.092626429630085,8.092626429630085,8.092626429630085,8.092626429630085,8.092626429630085,8.092626429630085,8.092626429630085,8.092626429630085,8.092626429630085,8.092626429630085,8.092626429630085,8.092626429630085,8.092626429630085,8.092626429630085,8.092626429630085,8.092626429630085,8.092626429630085,8.092626429630085,8.092626429630085,8.092626429630085,8.079743300024674,8.079743300024674,8.079743300024674,8.079743300024674,8.079743300024674,8.079743300024674,8.079743300024674,8.079743300024674,8.079743300024674,8.079743300024674,8.079743300024674,8.079743300024674,8.079743300024674,8.079743300024674,8.079743300024674,8.079743300024674,8.079743300024674,8.079743300024674,8.079743300024674,8.079743300024674,8.079743300024674,8.079743300024674,8.079743300024674],\"type\":\"scatter\"},{\"marker\":{\"color\":\"#cccccc\"},\"mode\":\"markers\",\"name\":\"Infeasible Trial\",\"showlegend\":false,\"x\":[],\"y\":[],\"type\":\"scatter\"}],                        {\"title\":{\"text\":\"Optimization History Plot\"},\"xaxis\":{\"title\":{\"text\":\"Trial\"}},\"yaxis\":{\"title\":{\"text\":\"Objective Value\"}},\"template\":{\"data\":{\"histogram2dcontour\":[{\"type\":\"histogram2dcontour\",\"colorbar\":{\"outlinewidth\":0,\"ticks\":\"\"},\"colorscale\":[[0.0,\"#0d0887\"],[0.1111111111111111,\"#46039f\"],[0.2222222222222222,\"#7201a8\"],[0.3333333333333333,\"#9c179e\"],[0.4444444444444444,\"#bd3786\"],[0.5555555555555556,\"#d8576b\"],[0.6666666666666666,\"#ed7953\"],[0.7777777777777778,\"#fb9f3a\"],[0.8888888888888888,\"#fdca26\"],[1.0,\"#f0f921\"]]}],\"choropleth\":[{\"type\":\"choropleth\",\"colorbar\":{\"outlinewidth\":0,\"ticks\":\"\"}}],\"histogram2d\":[{\"type\":\"histogram2d\",\"colorbar\":{\"outlinewidth\":0,\"ticks\":\"\"},\"colorscale\":[[0.0,\"#0d0887\"],[0.1111111111111111,\"#46039f\"],[0.2222222222222222,\"#7201a8\"],[0.3333333333333333,\"#9c179e\"],[0.4444444444444444,\"#bd3786\"],[0.5555555555555556,\"#d8576b\"],[0.6666666666666666,\"#ed7953\"],[0.7777777777777778,\"#fb9f3a\"],[0.8888888888888888,\"#fdca26\"],[1.0,\"#f0f921\"]]}],\"heatmap\":[{\"type\":\"heatmap\",\"colorbar\":{\"outlinewidth\":0,\"ticks\":\"\"},\"colorscale\":[[0.0,\"#0d0887\"],[0.1111111111111111,\"#46039f\"],[0.2222222222222222,\"#7201a8\"],[0.3333333333333333,\"#9c179e\"],[0.4444444444444444,\"#bd3786\"],[0.5555555555555556,\"#d8576b\"],[0.6666666666666666,\"#ed7953\"],[0.7777777777777778,\"#fb9f3a\"],[0.8888888888888888,\"#fdca26\"],[1.0,\"#f0f921\"]]}],\"heatmapgl\":[{\"type\":\"heatmapgl\",\"colorbar\":{\"outlinewidth\":0,\"ticks\":\"\"},\"colorscale\":[[0.0,\"#0d0887\"],[0.1111111111111111,\"#46039f\"],[0.2222222222222222,\"#7201a8\"],[0.3333333333333333,\"#9c179e\"],[0.4444444444444444,\"#bd3786\"],[0.5555555555555556,\"#d8576b\"],[0.6666666666666666,\"#ed7953\"],[0.7777777777777778,\"#fb9f3a\"],[0.8888888888888888,\"#fdca26\"],[1.0,\"#f0f921\"]]}],\"contourcarpet\":[{\"type\":\"contourcarpet\",\"colorbar\":{\"outlinewidth\":0,\"ticks\":\"\"}}],\"contour\":[{\"type\":\"contour\",\"colorbar\":{\"outlinewidth\":0,\"ticks\":\"\"},\"colorscale\":[[0.0,\"#0d0887\"],[0.1111111111111111,\"#46039f\"],[0.2222222222222222,\"#7201a8\"],[0.3333333333333333,\"#9c179e\"],[0.4444444444444444,\"#bd3786\"],[0.5555555555555556,\"#d8576b\"],[0.6666666666666666,\"#ed7953\"],[0.7777777777777778,\"#fb9f3a\"],[0.8888888888888888,\"#fdca26\"],[1.0,\"#f0f921\"]]}],\"surface\":[{\"type\":\"surface\",\"colorbar\":{\"outlinewidth\":0,\"ticks\":\"\"},\"colorscale\":[[0.0,\"#0d0887\"],[0.1111111111111111,\"#46039f\"],[0.2222222222222222,\"#7201a8\"],[0.3333333333333333,\"#9c179e\"],[0.4444444444444444,\"#bd3786\"],[0.5555555555555556,\"#d8576b\"],[0.6666666666666666,\"#ed7953\"],[0.7777777777777778,\"#fb9f3a\"],[0.8888888888888888,\"#fdca26\"],[1.0,\"#f0f921\"]]}],\"mesh3d\":[{\"type\":\"mesh3d\",\"colorbar\":{\"outlinewidth\":0,\"ticks\":\"\"}}],\"scatter\":[{\"fillpattern\":{\"fillmode\":\"overlay\",\"size\":10,\"solidity\":0.2},\"type\":\"scatter\"}],\"parcoords\":[{\"type\":\"parcoords\",\"line\":{\"colorbar\":{\"outlinewidth\":0,\"ticks\":\"\"}}}],\"scatterpolargl\":[{\"type\":\"scatterpolargl\",\"marker\":{\"colorbar\":{\"outlinewidth\":0,\"ticks\":\"\"}}}],\"bar\":[{\"error_x\":{\"color\":\"#2a3f5f\"},\"error_y\":{\"color\":\"#2a3f5f\"},\"marker\":{\"line\":{\"color\":\"#E5ECF6\",\"width\":0.5},\"pattern\":{\"fillmode\":\"overlay\",\"size\":10,\"solidity\":0.2}},\"type\":\"bar\"}],\"scattergeo\":[{\"type\":\"scattergeo\",\"marker\":{\"colorbar\":{\"outlinewidth\":0,\"ticks\":\"\"}}}],\"scatterpolar\":[{\"type\":\"scatterpolar\",\"marker\":{\"colorbar\":{\"outlinewidth\":0,\"ticks\":\"\"}}}],\"histogram\":[{\"marker\":{\"pattern\":{\"fillmode\":\"overlay\",\"size\":10,\"solidity\":0.2}},\"type\":\"histogram\"}],\"scattergl\":[{\"type\":\"scattergl\",\"marker\":{\"colorbar\":{\"outlinewidth\":0,\"ticks\":\"\"}}}],\"scatter3d\":[{\"type\":\"scatter3d\",\"line\":{\"colorbar\":{\"outlinewidth\":0,\"ticks\":\"\"}},\"marker\":{\"colorbar\":{\"outlinewidth\":0,\"ticks\":\"\"}}}],\"scattermapbox\":[{\"type\":\"scattermapbox\",\"marker\":{\"colorbar\":{\"outlinewidth\":0,\"ticks\":\"\"}}}],\"scatterternary\":[{\"type\":\"scatterternary\",\"marker\":{\"colorbar\":{\"outlinewidth\":0,\"ticks\":\"\"}}}],\"scattercarpet\":[{\"type\":\"scattercarpet\",\"marker\":{\"colorbar\":{\"outlinewidth\":0,\"ticks\":\"\"}}}],\"carpet\":[{\"aaxis\":{\"endlinecolor\":\"#2a3f5f\",\"gridcolor\":\"white\",\"linecolor\":\"white\",\"minorgridcolor\":\"white\",\"startlinecolor\":\"#2a3f5f\"},\"baxis\":{\"endlinecolor\":\"#2a3f5f\",\"gridcolor\":\"white\",\"linecolor\":\"white\",\"minorgridcolor\":\"white\",\"startlinecolor\":\"#2a3f5f\"},\"type\":\"carpet\"}],\"table\":[{\"cells\":{\"fill\":{\"color\":\"#EBF0F8\"},\"line\":{\"color\":\"white\"}},\"header\":{\"fill\":{\"color\":\"#C8D4E3\"},\"line\":{\"color\":\"white\"}},\"type\":\"table\"}],\"barpolar\":[{\"marker\":{\"line\":{\"color\":\"#E5ECF6\",\"width\":0.5},\"pattern\":{\"fillmode\":\"overlay\",\"size\":10,\"solidity\":0.2}},\"type\":\"barpolar\"}],\"pie\":[{\"automargin\":true,\"type\":\"pie\"}]},\"layout\":{\"autotypenumbers\":\"strict\",\"colorway\":[\"#636efa\",\"#EF553B\",\"#00cc96\",\"#ab63fa\",\"#FFA15A\",\"#19d3f3\",\"#FF6692\",\"#B6E880\",\"#FF97FF\",\"#FECB52\"],\"font\":{\"color\":\"#2a3f5f\"},\"hovermode\":\"closest\",\"hoverlabel\":{\"align\":\"left\"},\"paper_bgcolor\":\"white\",\"plot_bgcolor\":\"#E5ECF6\",\"polar\":{\"bgcolor\":\"#E5ECF6\",\"angularaxis\":{\"gridcolor\":\"white\",\"linecolor\":\"white\",\"ticks\":\"\"},\"radialaxis\":{\"gridcolor\":\"white\",\"linecolor\":\"white\",\"ticks\":\"\"}},\"ternary\":{\"bgcolor\":\"#E5ECF6\",\"aaxis\":{\"gridcolor\":\"white\",\"linecolor\":\"white\",\"ticks\":\"\"},\"baxis\":{\"gridcolor\":\"white\",\"linecolor\":\"white\",\"ticks\":\"\"},\"caxis\":{\"gridcolor\":\"white\",\"linecolor\":\"white\",\"ticks\":\"\"}},\"coloraxis\":{\"colorbar\":{\"outlinewidth\":0,\"ticks\":\"\"}},\"colorscale\":{\"sequential\":[[0.0,\"#0d0887\"],[0.1111111111111111,\"#46039f\"],[0.2222222222222222,\"#7201a8\"],[0.3333333333333333,\"#9c179e\"],[0.4444444444444444,\"#bd3786\"],[0.5555555555555556,\"#d8576b\"],[0.6666666666666666,\"#ed7953\"],[0.7777777777777778,\"#fb9f3a\"],[0.8888888888888888,\"#fdca26\"],[1.0,\"#f0f921\"]],\"sequentialminus\":[[0.0,\"#0d0887\"],[0.1111111111111111,\"#46039f\"],[0.2222222222222222,\"#7201a8\"],[0.3333333333333333,\"#9c179e\"],[0.4444444444444444,\"#bd3786\"],[0.5555555555555556,\"#d8576b\"],[0.6666666666666666,\"#ed7953\"],[0.7777777777777778,\"#fb9f3a\"],[0.8888888888888888,\"#fdca26\"],[1.0,\"#f0f921\"]],\"diverging\":[[0,\"#8e0152\"],[0.1,\"#c51b7d\"],[0.2,\"#de77ae\"],[0.3,\"#f1b6da\"],[0.4,\"#fde0ef\"],[0.5,\"#f7f7f7\"],[0.6,\"#e6f5d0\"],[0.7,\"#b8e186\"],[0.8,\"#7fbc41\"],[0.9,\"#4d9221\"],[1,\"#276419\"]]},\"xaxis\":{\"gridcolor\":\"white\",\"linecolor\":\"white\",\"ticks\":\"\",\"title\":{\"standoff\":15},\"zerolinecolor\":\"white\",\"automargin\":true,\"zerolinewidth\":2},\"yaxis\":{\"gridcolor\":\"white\",\"linecolor\":\"white\",\"ticks\":\"\",\"title\":{\"standoff\":15},\"zerolinecolor\":\"white\",\"automargin\":true,\"zerolinewidth\":2},\"scene\":{\"xaxis\":{\"backgroundcolor\":\"#E5ECF6\",\"gridcolor\":\"white\",\"linecolor\":\"white\",\"showbackground\":true,\"ticks\":\"\",\"zerolinecolor\":\"white\",\"gridwidth\":2},\"yaxis\":{\"backgroundcolor\":\"#E5ECF6\",\"gridcolor\":\"white\",\"linecolor\":\"white\",\"showbackground\":true,\"ticks\":\"\",\"zerolinecolor\":\"white\",\"gridwidth\":2},\"zaxis\":{\"backgroundcolor\":\"#E5ECF6\",\"gridcolor\":\"white\",\"linecolor\":\"white\",\"showbackground\":true,\"ticks\":\"\",\"zerolinecolor\":\"white\",\"gridwidth\":2}},\"shapedefaults\":{\"line\":{\"color\":\"#2a3f5f\"}},\"annotationdefaults\":{\"arrowcolor\":\"#2a3f5f\",\"arrowhead\":0,\"arrowwidth\":1},\"geo\":{\"bgcolor\":\"white\",\"landcolor\":\"#E5ECF6\",\"subunitcolor\":\"white\",\"showland\":true,\"showlakes\":true,\"lakecolor\":\"white\"},\"title\":{\"x\":0.05},\"mapbox\":{\"style\":\"light\"}}}},                        {\"responsive\": true}                    ).then(function(){\n",
              "                            \n",
              "var gd = document.getElementById('4d796742-480f-4091-a3f7-017a0bea3277');\n",
              "var x = new MutationObserver(function (mutations, observer) {{\n",
              "        var display = window.getComputedStyle(gd).display;\n",
              "        if (!display || display === 'none') {{\n",
              "            console.log([gd, 'removed!']);\n",
              "            Plotly.purge(gd);\n",
              "            observer.disconnect();\n",
              "        }}\n",
              "}});\n",
              "\n",
              "// Listen for the removal of the full notebook cells\n",
              "var notebookContainer = gd.closest('#notebook-container');\n",
              "if (notebookContainer) {{\n",
              "    x.observe(notebookContainer, {childList: true});\n",
              "}}\n",
              "\n",
              "// Listen for the clearing of the current output cell\n",
              "var outputEl = gd.closest('.output');\n",
              "if (outputEl) {{\n",
              "    x.observe(outputEl, {childList: true});\n",
              "}}\n",
              "\n",
              "                        })                };                            </script>        </div>\n",
              "</body>\n",
              "</html>"
            ]
          },
          "metadata": {}
        }
      ]
    },
    {
      "cell_type": "code",
      "source": [
        "def detailed_objective(trial):\n",
        "  parametere = {\n",
        "      'n_estimators': trial.suggest_int('n_estimators', 100, 200),\n",
        "      'max_depth': trial.suggest_int('max_depth', 1, 10)\n",
        "  }\n",
        "  rf_pipeline = Pipeline([\n",
        "      ('skalerer', StandardScaler()),\n",
        "      ('modell', RandomForestRegressor(**parametere, random_state=random_seed))\n",
        "  ])\n",
        "\n",
        "  rf_pipeline.fit(X_trening, y_trening)\n",
        "  y_test_prediksjon = rf_pipeline.predict(X_test)\n",
        "  y_trening_prediksjon = rf_pipeline.predict(X_trening)\n",
        "\n",
        "  mse_test = mean_squared_error(y_test, y_test_prediksjon)\n",
        "  r2_test = r2_score(y_test, y_test_prediksjon)\n",
        "\n",
        "  mse_trening = mean_squared_error(y_trening, y_trening_prediksjon)\n",
        "  r2_trening = r2_score(y_trening, y_trening_prediksjon)\n",
        "\n",
        "  return mse_test, r2_test, mse_trening, r2_trening\n",
        "\n",
        "mse_test_resultat = detailed_objective(study.best_trial)[0]\n",
        "r2_test_resultat = detailed_objective(study.best_trial)[1]\n",
        "mse_trening_resultat = detailed_objective(study.best_trial)[2]\n",
        "r2_trening_resultat = detailed_objective(study.best_trial)[3]\n",
        "\n",
        "print(\"Beste hyperparametere for RandomForestRegressor: {}\".format(study.best_params))\n",
        "print(\"Test: MSE: {}, og R^2: {}\".format(mse_test_resultat, r2_test_resultat))\n",
        "print(\"Trening: MSE: {}, og R^2: {}\".format(mse_trening_resultat, r2_trening_resultat))"
      ],
      "metadata": {
        "colab": {
          "base_uri": "https://localhost:8080/"
        },
        "id": "JwqRWAvRQdJK",
        "outputId": "2b8ee1ec-49e3-4a9c-d806-5b10ff5d66ee"
      },
      "execution_count": 18,
      "outputs": [
        {
          "output_type": "stream",
          "name": "stdout",
          "text": [
            "Beste hyperparametere for RandomForestRegressor: {'n_estimators': 197, 'max_depth': 7}\n",
            "Test: MSE: 8.079743300024674, og R^2: 0.6577768822921066\n",
            "Trening: MSE: 1.817864367572221, og R^2: 0.9351151886016815\n"
          ]
        }
      ]
    },
    {
      "cell_type": "markdown",
      "source": [
        "# NIR målinger ekskludert"
      ],
      "metadata": {
        "id": "XWTOFeY8Xv-D"
      }
    },
    {
      "cell_type": "code",
      "source": [],
      "metadata": {
        "id": "kCciKFdHXyaa"
      },
      "execution_count": null,
      "outputs": []
    }
  ]
}