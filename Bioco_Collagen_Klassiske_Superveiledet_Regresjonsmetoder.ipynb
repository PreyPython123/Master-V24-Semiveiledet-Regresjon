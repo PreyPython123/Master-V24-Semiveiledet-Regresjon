{
  "nbformat": 4,
  "nbformat_minor": 0,
  "metadata": {
    "colab": {
      "provenance": [],
      "authorship_tag": "ABX9TyMRZKEBp7trhsD5LF+53B80",
      "include_colab_link": true
    },
    "kernelspec": {
      "name": "python3",
      "display_name": "Python 3"
    },
    "language_info": {
      "name": "python"
    },
    "accelerator": "TPU"
  },
  "cells": [
    {
      "cell_type": "markdown",
      "metadata": {
        "id": "view-in-github",
        "colab_type": "text"
      },
      "source": [
        "<a href=\"https://colab.research.google.com/github/PreyPython123/Master-V24-Semiveiledet-Regresjon/blob/Collagen-Pradeep/Bioco_Collagen_Klassiske_Superveiledet_Regresjonsmetoder.ipynb\" target=\"_parent\"><img src=\"https://colab.research.google.com/assets/colab-badge.svg\" alt=\"Open In Colab\"/></a>"
      ]
    },
    {
      "cell_type": "markdown",
      "source": [
        "Lasting av nødvendige bibliotek og pakker"
      ],
      "metadata": {
        "id": "ZNeQrag9Rlc_"
      }
    },
    {
      "cell_type": "code",
      "execution_count": 1,
      "metadata": {
        "id": "k5u1dZmp6cJ9",
        "colab": {
          "base_uri": "https://localhost:8080/"
        },
        "outputId": "34dae0ec-97f8-4c53-aa8c-652b406a33e4"
      },
      "outputs": [
        {
          "output_type": "stream",
          "name": "stdout",
          "text": [
            "Collecting optuna\n",
            "  Downloading optuna-3.5.0-py3-none-any.whl (413 kB)\n",
            "\u001b[2K     \u001b[90m━━━━━━━━━━━━━━━━━━━━━━━━━━━━━━━━━━━━━━━━\u001b[0m \u001b[32m413.4/413.4 kB\u001b[0m \u001b[31m3.0 MB/s\u001b[0m eta \u001b[36m0:00:00\u001b[0m\n",
            "\u001b[?25hCollecting alembic>=1.5.0 (from optuna)\n",
            "  Downloading alembic-1.13.1-py3-none-any.whl (233 kB)\n",
            "\u001b[2K     \u001b[90m━━━━━━━━━━━━━━━━━━━━━━━━━━━━━━━━━━━━━━━━\u001b[0m \u001b[32m233.4/233.4 kB\u001b[0m \u001b[31m11.1 MB/s\u001b[0m eta \u001b[36m0:00:00\u001b[0m\n",
            "\u001b[?25hCollecting colorlog (from optuna)\n",
            "  Downloading colorlog-6.8.2-py3-none-any.whl (11 kB)\n",
            "Requirement already satisfied: numpy in /usr/local/lib/python3.10/dist-packages (from optuna) (1.23.5)\n",
            "Requirement already satisfied: packaging>=20.0 in /usr/local/lib/python3.10/dist-packages (from optuna) (23.2)\n",
            "Requirement already satisfied: sqlalchemy>=1.3.0 in /usr/local/lib/python3.10/dist-packages (from optuna) (2.0.25)\n",
            "Requirement already satisfied: tqdm in /usr/local/lib/python3.10/dist-packages (from optuna) (4.66.1)\n",
            "Requirement already satisfied: PyYAML in /usr/local/lib/python3.10/dist-packages (from optuna) (6.0.1)\n",
            "Collecting Mako (from alembic>=1.5.0->optuna)\n",
            "  Downloading Mako-1.3.2-py3-none-any.whl (78 kB)\n",
            "\u001b[2K     \u001b[90m━━━━━━━━━━━━━━━━━━━━━━━━━━━━━━━━━━━━━━━━\u001b[0m \u001b[32m78.7/78.7 kB\u001b[0m \u001b[31m5.1 MB/s\u001b[0m eta \u001b[36m0:00:00\u001b[0m\n",
            "\u001b[?25hRequirement already satisfied: typing-extensions>=4 in /usr/local/lib/python3.10/dist-packages (from alembic>=1.5.0->optuna) (4.9.0)\n",
            "Requirement already satisfied: greenlet!=0.4.17 in /usr/local/lib/python3.10/dist-packages (from sqlalchemy>=1.3.0->optuna) (3.0.3)\n",
            "Requirement already satisfied: MarkupSafe>=0.9.2 in /usr/local/lib/python3.10/dist-packages (from Mako->alembic>=1.5.0->optuna) (2.1.5)\n",
            "Installing collected packages: Mako, colorlog, alembic, optuna\n",
            "Successfully installed Mako-1.3.2 alembic-1.13.1 colorlog-6.8.2 optuna-3.5.0\n"
          ]
        }
      ],
      "source": [
        "!pip install optuna"
      ]
    },
    {
      "cell_type": "markdown",
      "source": [
        "Importering av nødvendig bibliotek og pakker"
      ],
      "metadata": {
        "id": "jT-YzIdVRply"
      }
    },
    {
      "cell_type": "code",
      "source": [
        "import pandas as pd\n",
        "import numpy as np\n",
        "import copy\n",
        "import math\n",
        "\n",
        "from sklearn.model_selection import train_test_split\n",
        "from sklearn.pipeline import Pipeline\n",
        "from sklearn.preprocessing import StandardScaler\n",
        "\n",
        "from sklearn.ensemble import RandomForestRegressor\n",
        "\n",
        "from sklearn.metrics import mean_squared_error, r2_score\n",
        "\n",
        "import optuna\n",
        "from optuna.visualization import plot_optimization_history"
      ],
      "metadata": {
        "id": "DmFSuK8ARtBg"
      },
      "execution_count": 2,
      "outputs": []
    },
    {
      "cell_type": "markdown",
      "source": [
        "Importering av relevant data"
      ],
      "metadata": {
        "id": "21cdLIoaSTR6"
      }
    },
    {
      "cell_type": "code",
      "source": [
        "from google.colab import drive\n",
        "drive.mount('/content/drive/')"
      ],
      "metadata": {
        "colab": {
          "base_uri": "https://localhost:8080/"
        },
        "id": "nwEzUjnf0xLZ",
        "outputId": "fce8cdf1-2661-4073-e6b9-c60ce1159561"
      },
      "execution_count": 4,
      "outputs": [
        {
          "output_type": "stream",
          "name": "stdout",
          "text": [
            "Mounted at /content/drive/\n"
          ]
        }
      ]
    },
    {
      "cell_type": "code",
      "source": [
        "%cd /content/drive/MyDrive/MasterV24/GitHub/\n",
        "%ls\n",
        "#from oppdeling_trening_testsett import oppdeling_enzymtype"
      ],
      "metadata": {
        "colab": {
          "base_uri": "https://localhost:8080/"
        },
        "id": "Y5M8ShuJ1EQg",
        "outputId": "fa714052-e6c3-427b-d455-9b5cd3b19795"
      },
      "execution_count": null,
      "outputs": [
        {
          "output_type": "stream",
          "name": "stdout",
          "text": [
            "/content/drive/MyDrive/MasterV24/GitHub\n",
            "'Bioco_BrixAdjusted: Semiveiledet Regresjonsmetoder.ipynb'\n",
            "'Bioco_BrixAdjusted: Superveiledet Regresjonsmetoder.ipynb'\n",
            "'Bioco_Collagen: Klassiske Superveiledet Regresjonsmetoder.ipynb'\n",
            "'Bioco_Collagen: Semiveiledet Regresjonsmetoder.ipynb'\n",
            "'Bioco: Databehandling av ekstremverdier.ipynb'\n",
            "'Bioco: Databehandling av manglende verdier.ipynb'\n",
            "'Bioco: Dataprosessering, Dataforståelse og Dataundersøkelse.ipynb'\n",
            "'Bioco_Mw: Semiveiledet Regresjonsmetoder.ipynb'\n",
            "'Bioco_Mw: Superveiledet Regresjonsmetoder.ipynb'\n",
            "'Bioco_Smallmolecules: Semiveiledet Regresjonsmetoder.ipynb'\n",
            "'Bioco_Smallmolecules: Superveiledet Regresjonsmetoder.ipynb'\n",
            "'Bioco: Variabelundersøkelse.ipynb'\n",
            " Oppdeling_trening_testsett.ipynb\n",
            " oppdeling_trening_testsett.py\n"
          ]
        }
      ]
    },
    {
      "cell_type": "code",
      "source": [
        "# Velger første kolonne med dato og tid som index\n",
        "collagen_data = pd.read_csv('/content/drive/MyDrive/MasterV24/Bioco_data/collagen_data.csv',\n",
        "                            header=0,\n",
        "                            sep=',',\n",
        "                            index_col=0)\n",
        "\n",
        "# Formatterer index til riktig format og datatype\n",
        "collagen_data.index = pd.to_datetime(collagen_data.index,\n",
        "                                     format='%Y-%m-%d %H:%M:%S')"
      ],
      "metadata": {
        "id": "XeNQyDPZSTwY"
      },
      "execution_count": 5,
      "outputs": []
    },
    {
      "cell_type": "markdown",
      "source": [
        "Beskrivelse av datasett"
      ],
      "metadata": {
        "id": "hPfDrou1pR0w"
      }
    },
    {
      "cell_type": "code",
      "source": [
        "collagen_data.info()"
      ],
      "metadata": {
        "colab": {
          "base_uri": "https://localhost:8080/"
        },
        "id": "HsvZWJ7apQpL",
        "outputId": "356943bd-243e-4b49-ccfc-85519e457270"
      },
      "execution_count": 6,
      "outputs": [
        {
          "output_type": "stream",
          "name": "stdout",
          "text": [
            "<class 'pandas.core.frame.DataFrame'>\n",
            "DatetimeIndex: 29136 entries, 2022-10-31 17:37:00 to 2023-06-14 01:06:00\n",
            "Data columns (total 17 columns):\n",
            " #   Column         Non-Null Count  Dtype  \n",
            "---  ------         --------------  -----  \n",
            " 0   EnzymeType_A1  29136 non-null  int64  \n",
            " 1   EnzymeType_A2  29136 non-null  int64  \n",
            " 2   EnzymeType_B   29136 non-null  int64  \n",
            " 3   EnzymeType_C   29136 non-null  int64  \n",
            " 4   EnzymeType_D   29136 non-null  int64  \n",
            " 5   EnzymeType_E   29136 non-null  int64  \n",
            " 6   RawMatFlow     29136 non-null  float64\n",
            " 7   NIRfat         29136 non-null  float64\n",
            " 8   NIRash         29136 non-null  float64\n",
            " 9   NIRwater       29136 non-null  float64\n",
            " 10  TT07           29136 non-null  float64\n",
            " 11  TT08           29136 non-null  float64\n",
            " 12  PT03           29136 non-null  float64\n",
            " 13  TT20           29136 non-null  float64\n",
            " 14  TT09           29136 non-null  float64\n",
            " 15  TT12           29136 non-null  float64\n",
            " 16  Collagen       89 non-null     float64\n",
            "dtypes: float64(11), int64(6)\n",
            "memory usage: 4.0 MB\n"
          ]
        }
      ]
    },
    {
      "cell_type": "markdown",
      "source": [
        "Tilfeldighetsfrø"
      ],
      "metadata": {
        "id": "7Wl0nay5j2C4"
      }
    },
    {
      "cell_type": "code",
      "source": [
        "#Tilfeldighetsfrø\n",
        "random_seed = 123"
      ],
      "metadata": {
        "id": "OxTGpIOmj4V7"
      },
      "execution_count": 7,
      "outputs": []
    },
    {
      "cell_type": "markdown",
      "source": [
        "# NIR målinger inkludert"
      ],
      "metadata": {
        "id": "76aWdlTDXp9I"
      }
    },
    {
      "cell_type": "markdown",
      "source": [
        "## Oppdeling av datasett for trening og testing"
      ],
      "metadata": {
        "id": "yNN1h11QTJ2y"
      }
    },
    {
      "cell_type": "markdown",
      "source": [
        "Markert del av datasett"
      ],
      "metadata": {
        "id": "yjNSRu03GffG"
      }
    },
    {
      "cell_type": "code",
      "source": [
        "# Deler opp markert del av datasettet\n",
        "collagen_markert = collagen_data.dropna(subset='Collagen')"
      ],
      "metadata": {
        "id": "9nptmSE2GfES"
      },
      "execution_count": 9,
      "outputs": []
    },
    {
      "cell_type": "markdown",
      "source": [
        "### Alternativ 1: Fordelt på Enzymtyper"
      ],
      "metadata": {
        "id": "-Cr-DTtVGSFg"
      }
    },
    {
      "cell_type": "code",
      "source": [
        "# Legger til kategorisk variabel for enzymtype til fordeling av datsettet\n",
        "collagen_markert['EnzymType'] = collagen_markert.filter(like='EnzymeType_').idxmax(axis=1).str.split('_').str[1].astype('category')\n",
        "\n",
        "# Splitter datasett i collagendataasett og kategorisk enzymtype\n",
        "collagen_enzymetypes = collagen_markert['EnzymType']\n",
        "collagen_markert.drop(columns=['EnzymType'], inplace=True)\n",
        "\n",
        "# Splitter trening og testdata etter enzymtype\n",
        "collagen_trening, collagen_test, _, _ = train_test_split(collagen_markert,\n",
        "                                                         collagen_enzymetypes,\n",
        "                                                         test_size = 0.20,\n",
        "                                                         stratify = collagen_enzymetypes,\n",
        "                                                         random_state = random_seed)\n",
        "\n",
        "# Deler opp datasettene til prediktorer og respons, for trening og testsett\n",
        "X_trening = collagen_trening.iloc[:, :-1]\n",
        "X_test = collagen_test.iloc[:, :-1]\n",
        "y_trening = collagen_trening.iloc[:, -1]\n",
        "y_test = collagen_test.iloc[:, -1]"
      ],
      "metadata": {
        "colab": {
          "base_uri": "https://localhost:8080/"
        },
        "id": "jovL3AV6TM6H",
        "outputId": "285f8e5d-dcd5-4101-aaa7-f168fd8fded4"
      },
      "execution_count": null,
      "outputs": [
        {
          "output_type": "stream",
          "name": "stderr",
          "text": [
            "<ipython-input-10-33b276e70c93>:5: SettingWithCopyWarning: \n",
            "A value is trying to be set on a copy of a slice from a DataFrame.\n",
            "Try using .loc[row_indexer,col_indexer] = value instead\n",
            "\n",
            "See the caveats in the documentation: https://pandas.pydata.org/pandas-docs/stable/user_guide/indexing.html#returning-a-view-versus-a-copy\n",
            "  collagen_markert['EnzymType'] = collagen_markert.filter(like='EnzymeType_').idxmax(axis=1).str.split('_').str[1].astype('category')\n",
            "<ipython-input-10-33b276e70c93>:9: SettingWithCopyWarning: \n",
            "A value is trying to be set on a copy of a slice from a DataFrame\n",
            "\n",
            "See the caveats in the documentation: https://pandas.pydata.org/pandas-docs/stable/user_guide/indexing.html#returning-a-view-versus-a-copy\n",
            "  collagen_markert.drop(columns=['EnzymType'], inplace=True)\n"
          ]
        }
      ]
    },
    {
      "cell_type": "markdown",
      "source": [
        "**RandomForestRegressor**"
      ],
      "metadata": {
        "id": "cIgUu1qErjKz"
      }
    },
    {
      "cell_type": "markdown",
      "source": [
        "Hyperparamter optimalisering med Optuna"
      ],
      "metadata": {
        "id": "2Ds0DtmgRRlv"
      }
    },
    {
      "cell_type": "code",
      "source": [
        "def objective(trial):\n",
        "  parametere = {\n",
        "      'n_estimators': trial.suggest_int('n_estimators', 100, 200),\n",
        "      'max_depth': trial.suggest_int('max_depth', 1, 10)\n",
        "  }\n",
        "  rf_pipeline = Pipeline([\n",
        "      ('skalerer', StandardScaler()),\n",
        "      ('modell', RandomForestRegressor(**parametere, random_state=random_seed))\n",
        "  ])\n",
        "\n",
        "  rf_pipeline.fit(X_trening, y_trening)\n",
        "  y_test_prediksjon = rf_pipeline.predict(X_test)\n",
        "  mse_test = mean_squared_error(y_test, y_test_prediksjon)\n",
        "  return mse_test\n",
        "\n",
        "if __name__ == \"__main__\":\n",
        "  study = optuna.create_study(direction='minimize')\n",
        "  study.optimize(objective, n_trials=100)\n",
        "\n",
        "plot_optimization_history(study)"
      ],
      "metadata": {
        "colab": {
          "base_uri": "https://localhost:8080/",
          "height": 1000
        },
        "id": "Gr_wm-oNRVZ3",
        "outputId": "9d121d00-f8fb-4f7f-9793-b4114abaff6b"
      },
      "execution_count": null,
      "outputs": [
        {
          "output_type": "stream",
          "name": "stderr",
          "text": [
            "[I 2024-02-09 10:26:32,020] A new study created in memory with name: no-name-f2af1e57-f706-4f52-9819-26a32960ee35\n",
            "[I 2024-02-09 10:26:32,179] Trial 0 finished with value: 19.6704640380865 and parameters: {'n_estimators': 107, 'max_depth': 2}. Best is trial 0 with value: 19.6704640380865.\n",
            "[I 2024-02-09 10:26:32,442] Trial 1 finished with value: 16.400831127512316 and parameters: {'n_estimators': 165, 'max_depth': 8}. Best is trial 1 with value: 16.400831127512316.\n",
            "[I 2024-02-09 10:26:32,722] Trial 2 finished with value: 16.445357463104088 and parameters: {'n_estimators': 167, 'max_depth': 9}. Best is trial 1 with value: 16.400831127512316.\n",
            "[I 2024-02-09 10:26:32,979] Trial 3 finished with value: 16.612291952282423 and parameters: {'n_estimators': 167, 'max_depth': 7}. Best is trial 1 with value: 16.400831127512316.\n",
            "[I 2024-02-09 10:26:33,195] Trial 4 finished with value: 16.86672884499781 and parameters: {'n_estimators': 133, 'max_depth': 4}. Best is trial 1 with value: 16.400831127512316.\n",
            "[I 2024-02-09 10:26:33,417] Trial 5 finished with value: 24.344041224967057 and parameters: {'n_estimators': 163, 'max_depth': 1}. Best is trial 1 with value: 16.400831127512316.\n",
            "[I 2024-02-09 10:26:33,641] Trial 6 finished with value: 16.462580328020685 and parameters: {'n_estimators': 130, 'max_depth': 7}. Best is trial 1 with value: 16.400831127512316.\n",
            "[I 2024-02-09 10:26:33,856] Trial 7 finished with value: 16.64297469961436 and parameters: {'n_estimators': 138, 'max_depth': 10}. Best is trial 1 with value: 16.400831127512316.\n",
            "[I 2024-02-09 10:26:34,005] Trial 8 finished with value: 24.582882022504577 and parameters: {'n_estimators': 113, 'max_depth': 1}. Best is trial 1 with value: 16.400831127512316.\n",
            "[I 2024-02-09 10:26:34,278] Trial 9 finished with value: 17.792610002075655 and parameters: {'n_estimators': 185, 'max_depth': 3}. Best is trial 1 with value: 16.400831127512316.\n",
            "[I 2024-02-09 10:26:34,590] Trial 10 finished with value: 16.938820900500986 and parameters: {'n_estimators': 199, 'max_depth': 6}. Best is trial 1 with value: 16.400831127512316.\n",
            "[I 2024-02-09 10:26:34,870] Trial 11 finished with value: 16.547814742792816 and parameters: {'n_estimators': 163, 'max_depth': 10}. Best is trial 1 with value: 16.400831127512316.\n",
            "[I 2024-02-09 10:26:35,165] Trial 12 finished with value: 16.521038034199357 and parameters: {'n_estimators': 182, 'max_depth': 8}. Best is trial 1 with value: 16.400831127512316.\n",
            "[I 2024-02-09 10:26:35,456] Trial 13 finished with value: 16.497709225415157 and parameters: {'n_estimators': 150, 'max_depth': 9}. Best is trial 1 with value: 16.400831127512316.\n",
            "[I 2024-02-09 10:26:35,751] Trial 14 finished with value: 16.568282757580942 and parameters: {'n_estimators': 178, 'max_depth': 8}. Best is trial 1 with value: 16.400831127512316.\n",
            "[I 2024-02-09 10:26:35,984] Trial 15 finished with value: 16.714569708033387 and parameters: {'n_estimators': 149, 'max_depth': 5}. Best is trial 1 with value: 16.400831127512316.\n",
            "[I 2024-02-09 10:26:36,306] Trial 16 finished with value: 16.5494676516987 and parameters: {'n_estimators': 197, 'max_depth': 9}. Best is trial 1 with value: 16.400831127512316.\n",
            "[I 2024-02-09 10:26:36,576] Trial 17 finished with value: 16.861148996885753 and parameters: {'n_estimators': 170, 'max_depth': 6}. Best is trial 1 with value: 16.400831127512316.\n",
            "[I 2024-02-09 10:26:36,840] Trial 18 finished with value: 16.41519482940559 and parameters: {'n_estimators': 159, 'max_depth': 8}. Best is trial 1 with value: 16.400831127512316.\n",
            "[I 2024-02-09 10:26:37,043] Trial 19 finished with value: 16.524521065207338 and parameters: {'n_estimators': 121, 'max_depth': 7}. Best is trial 1 with value: 16.400831127512316.\n",
            "[I 2024-02-09 10:26:37,365] Trial 20 finished with value: 16.755955808975386 and parameters: {'n_estimators': 154, 'max_depth': 5}. Best is trial 1 with value: 16.400831127512316.\n",
            "[I 2024-02-09 10:26:37,789] Trial 21 finished with value: 16.492286922341236 and parameters: {'n_estimators': 154, 'max_depth': 9}. Best is trial 1 with value: 16.400831127512316.\n",
            "[I 2024-02-09 10:26:38,322] Trial 22 finished with value: 16.54514490704621 and parameters: {'n_estimators': 173, 'max_depth': 8}. Best is trial 1 with value: 16.400831127512316.\n",
            "[I 2024-02-09 10:26:38,776] Trial 23 finished with value: 16.62670342858897 and parameters: {'n_estimators': 144, 'max_depth': 10}. Best is trial 1 with value: 16.400831127512316.\n",
            "[I 2024-02-09 10:26:39,319] Trial 24 finished with value: 16.563348823427702 and parameters: {'n_estimators': 189, 'max_depth': 8}. Best is trial 1 with value: 16.400831127512316.\n",
            "[I 2024-02-09 10:26:39,763] Trial 25 finished with value: 16.439216657684582 and parameters: {'n_estimators': 160, 'max_depth': 9}. Best is trial 1 with value: 16.400831127512316.\n",
            "[I 2024-02-09 10:26:40,192] Trial 26 finished with value: 16.656834777544322 and parameters: {'n_estimators': 159, 'max_depth': 7}. Best is trial 1 with value: 16.400831127512316.\n",
            "[I 2024-02-09 10:26:40,562] Trial 27 finished with value: 16.75512147463889 and parameters: {'n_estimators': 142, 'max_depth': 6}. Best is trial 1 with value: 16.400831127512316.\n",
            "[I 2024-02-09 10:26:41,031] Trial 28 finished with value: 16.651632466171208 and parameters: {'n_estimators': 174, 'max_depth': 9}. Best is trial 1 with value: 16.400831127512316.\n",
            "[I 2024-02-09 10:26:41,469] Trial 29 finished with value: 16.383372318246646 and parameters: {'n_estimators': 157, 'max_depth': 8}. Best is trial 29 with value: 16.383372318246646.\n",
            "[I 2024-02-09 10:26:41,758] Trial 30 finished with value: 16.735491727880017 and parameters: {'n_estimators': 101, 'max_depth': 8}. Best is trial 29 with value: 16.383372318246646.\n",
            "[I 2024-02-09 10:26:42,188] Trial 31 finished with value: 16.518392041252167 and parameters: {'n_estimators': 157, 'max_depth': 10}. Best is trial 29 with value: 16.383372318246646.\n",
            "[I 2024-02-09 10:26:42,509] Trial 32 finished with value: 16.462749647030748 and parameters: {'n_estimators': 164, 'max_depth': 9}. Best is trial 29 with value: 16.383372318246646.\n",
            "[I 2024-02-09 10:26:42,759] Trial 33 finished with value: 16.570223935245902 and parameters: {'n_estimators': 150, 'max_depth': 7}. Best is trial 29 with value: 16.383372318246646.\n",
            "[I 2024-02-09 10:26:43,019] Trial 34 finished with value: 16.41519482940559 and parameters: {'n_estimators': 159, 'max_depth': 8}. Best is trial 29 with value: 16.383372318246646.\n",
            "[I 2024-02-09 10:26:43,306] Trial 35 finished with value: 16.654579487041854 and parameters: {'n_estimators': 168, 'max_depth': 7}. Best is trial 29 with value: 16.383372318246646.\n",
            "[I 2024-02-09 10:26:43,521] Trial 36 finished with value: 16.225193635688857 and parameters: {'n_estimators': 131, 'max_depth': 8}. Best is trial 36 with value: 16.225193635688857.\n",
            "[I 2024-02-09 10:26:43,725] Trial 37 finished with value: 16.749833578747676 and parameters: {'n_estimators': 130, 'max_depth': 4}. Best is trial 36 with value: 16.225193635688857.\n",
            "[I 2024-02-09 10:26:43,927] Trial 38 finished with value: 16.69109187187633 and parameters: {'n_estimators': 122, 'max_depth': 6}. Best is trial 36 with value: 16.225193635688857.\n",
            "[I 2024-02-09 10:26:44,166] Trial 39 finished with value: 16.654083238264693 and parameters: {'n_estimators': 137, 'max_depth': 7}. Best is trial 36 with value: 16.225193635688857.\n",
            "[I 2024-02-09 10:26:44,370] Trial 40 finished with value: 16.22537313062332 and parameters: {'n_estimators': 123, 'max_depth': 8}. Best is trial 36 with value: 16.225193635688857.\n",
            "[I 2024-02-09 10:26:44,565] Trial 41 finished with value: 16.31775401983378 and parameters: {'n_estimators': 114, 'max_depth': 8}. Best is trial 36 with value: 16.225193635688857.\n",
            "[I 2024-02-09 10:26:44,751] Trial 42 finished with value: 16.487684214086194 and parameters: {'n_estimators': 111, 'max_depth': 8}. Best is trial 36 with value: 16.225193635688857.\n",
            "[I 2024-02-09 10:26:44,954] Trial 43 finished with value: 16.446447115151056 and parameters: {'n_estimators': 124, 'max_depth': 9}. Best is trial 36 with value: 16.225193635688857.\n",
            "[I 2024-02-09 10:26:45,137] Trial 44 finished with value: 19.48501208323345 and parameters: {'n_estimators': 114, 'max_depth': 2}. Best is trial 36 with value: 16.225193635688857.\n",
            "[I 2024-02-09 10:26:45,337] Trial 45 finished with value: 16.588009390513335 and parameters: {'n_estimators': 118, 'max_depth': 7}. Best is trial 36 with value: 16.225193635688857.\n",
            "[I 2024-02-09 10:26:45,515] Trial 46 finished with value: 16.94169795531384 and parameters: {'n_estimators': 102, 'max_depth': 10}. Best is trial 36 with value: 16.225193635688857.\n",
            "[I 2024-02-09 10:26:45,702] Trial 47 finished with value: 16.63570809931393 and parameters: {'n_estimators': 109, 'max_depth': 8}. Best is trial 36 with value: 16.225193635688857.\n",
            "[I 2024-02-09 10:26:45,914] Trial 48 finished with value: 16.462580328020685 and parameters: {'n_estimators': 130, 'max_depth': 7}. Best is trial 36 with value: 16.225193635688857.\n",
            "[I 2024-02-09 10:26:46,143] Trial 49 finished with value: 16.738459058708905 and parameters: {'n_estimators': 135, 'max_depth': 6}. Best is trial 36 with value: 16.225193635688857.\n",
            "[I 2024-02-09 10:26:46,361] Trial 50 finished with value: 16.3950769367667 and parameters: {'n_estimators': 126, 'max_depth': 9}. Best is trial 36 with value: 16.225193635688857.\n",
            "[I 2024-02-09 10:26:46,580] Trial 51 finished with value: 16.367144970365548 and parameters: {'n_estimators': 125, 'max_depth': 9}. Best is trial 36 with value: 16.225193635688857.\n",
            "[I 2024-02-09 10:26:46,787] Trial 52 finished with value: 16.478170814004383 and parameters: {'n_estimators': 126, 'max_depth': 10}. Best is trial 36 with value: 16.225193635688857.\n",
            "[I 2024-02-09 10:26:46,981] Trial 53 finished with value: 16.61803401874468 and parameters: {'n_estimators': 116, 'max_depth': 9}. Best is trial 36 with value: 16.225193635688857.\n",
            "[I 2024-02-09 10:26:47,172] Trial 54 finished with value: 17.023622617462674 and parameters: {'n_estimators': 106, 'max_depth': 9}. Best is trial 36 with value: 16.225193635688857.\n",
            "[I 2024-02-09 10:26:47,388] Trial 55 finished with value: 16.399480481573633 and parameters: {'n_estimators': 127, 'max_depth': 9}. Best is trial 36 with value: 16.225193635688857.\n",
            "[I 2024-02-09 10:26:47,594] Trial 56 finished with value: 16.26527599749304 and parameters: {'n_estimators': 118, 'max_depth': 8}. Best is trial 36 with value: 16.225193635688857.\n",
            "[I 2024-02-09 10:26:47,973] Trial 57 finished with value: 16.26527599749304 and parameters: {'n_estimators': 118, 'max_depth': 8}. Best is trial 36 with value: 16.225193635688857.\n",
            "[I 2024-02-09 10:26:48,462] Trial 58 finished with value: 16.73518085313831 and parameters: {'n_estimators': 106, 'max_depth': 8}. Best is trial 36 with value: 16.225193635688857.\n",
            "[I 2024-02-09 10:26:48,863] Trial 59 finished with value: 16.51569183382972 and parameters: {'n_estimators': 119, 'max_depth': 7}. Best is trial 36 with value: 16.225193635688857.\n",
            "[I 2024-02-09 10:26:49,414] Trial 60 finished with value: 16.31775401983378 and parameters: {'n_estimators': 114, 'max_depth': 8}. Best is trial 36 with value: 16.225193635688857.\n",
            "[I 2024-02-09 10:26:49,808] Trial 61 finished with value: 16.385935692338975 and parameters: {'n_estimators': 113, 'max_depth': 8}. Best is trial 36 with value: 16.225193635688857.\n",
            "[I 2024-02-09 10:26:50,246] Trial 62 finished with value: 16.15980740280381 and parameters: {'n_estimators': 120, 'max_depth': 8}. Best is trial 62 with value: 16.15980740280381.\n",
            "[I 2024-02-09 10:26:50,857] Trial 63 finished with value: 16.28750021920344 and parameters: {'n_estimators': 117, 'max_depth': 8}. Best is trial 62 with value: 16.15980740280381.\n",
            "[I 2024-02-09 10:26:51,229] Trial 64 finished with value: 16.15980740280381 and parameters: {'n_estimators': 120, 'max_depth': 8}. Best is trial 62 with value: 16.15980740280381.\n",
            "[I 2024-02-09 10:26:51,663] Trial 65 finished with value: 16.49471852824332 and parameters: {'n_estimators': 131, 'max_depth': 7}. Best is trial 62 with value: 16.15980740280381.\n",
            "[I 2024-02-09 10:26:52,139] Trial 66 finished with value: 16.195035298237308 and parameters: {'n_estimators': 119, 'max_depth': 8}. Best is trial 62 with value: 16.15980740280381.\n",
            "[I 2024-02-09 10:26:52,872] Trial 67 finished with value: 16.479708420480975 and parameters: {'n_estimators': 120, 'max_depth': 7}. Best is trial 62 with value: 16.15980740280381.\n",
            "[I 2024-02-09 10:26:53,785] Trial 68 finished with value: 16.73040759761001 and parameters: {'n_estimators': 140, 'max_depth': 5}. Best is trial 62 with value: 16.15980740280381.\n",
            "[I 2024-02-09 10:26:54,543] Trial 69 finished with value: 16.524521065207338 and parameters: {'n_estimators': 121, 'max_depth': 7}. Best is trial 62 with value: 16.15980740280381.\n",
            "[I 2024-02-09 10:26:55,227] Trial 70 finished with value: 16.562899661602334 and parameters: {'n_estimators': 110, 'max_depth': 8}. Best is trial 62 with value: 16.15980740280381.\n",
            "[I 2024-02-09 10:26:56,046] Trial 71 finished with value: 16.377390887158565 and parameters: {'n_estimators': 116, 'max_depth': 8}. Best is trial 62 with value: 16.15980740280381.\n",
            "[I 2024-02-09 10:26:56,753] Trial 72 finished with value: 16.22537313062332 and parameters: {'n_estimators': 123, 'max_depth': 8}. Best is trial 62 with value: 16.15980740280381.\n",
            "[I 2024-02-09 10:26:57,456] Trial 73 finished with value: 16.35701053425955 and parameters: {'n_estimators': 134, 'max_depth': 8}. Best is trial 62 with value: 16.15980740280381.\n",
            "[I 2024-02-09 10:26:58,042] Trial 74 finished with value: 16.40140444938513 and parameters: {'n_estimators': 129, 'max_depth': 9}. Best is trial 62 with value: 16.15980740280381.\n",
            "[I 2024-02-09 10:26:58,811] Trial 75 finished with value: 16.22537313062332 and parameters: {'n_estimators': 123, 'max_depth': 8}. Best is trial 62 with value: 16.15980740280381.\n",
            "[I 2024-02-09 10:26:59,046] Trial 76 finished with value: 16.280381345692497 and parameters: {'n_estimators': 122, 'max_depth': 8}. Best is trial 62 with value: 16.15980740280381.\n",
            "[I 2024-02-09 10:26:59,255] Trial 77 finished with value: 16.446447115151056 and parameters: {'n_estimators': 124, 'max_depth': 9}. Best is trial 62 with value: 16.15980740280381.\n",
            "[I 2024-02-09 10:26:59,483] Trial 78 finished with value: 16.543961597445147 and parameters: {'n_estimators': 132, 'max_depth': 7}. Best is trial 62 with value: 16.15980740280381.\n",
            "[I 2024-02-09 10:26:59,706] Trial 79 finished with value: 16.209073207975873 and parameters: {'n_estimators': 128, 'max_depth': 8}. Best is trial 62 with value: 16.15980740280381.\n",
            "[I 2024-02-09 10:26:59,922] Trial 80 finished with value: 16.57658577558813 and parameters: {'n_estimators': 128, 'max_depth': 6}. Best is trial 62 with value: 16.15980740280381.\n",
            "[I 2024-02-09 10:27:00,122] Trial 81 finished with value: 16.280381345692497 and parameters: {'n_estimators': 122, 'max_depth': 8}. Best is trial 62 with value: 16.15980740280381.\n",
            "[I 2024-02-09 10:27:00,366] Trial 82 finished with value: 16.543727182852493 and parameters: {'n_estimators': 145, 'max_depth': 9}. Best is trial 62 with value: 16.15980740280381.\n",
            "[I 2024-02-09 10:27:00,583] Trial 83 finished with value: 16.19574105294748 and parameters: {'n_estimators': 124, 'max_depth': 8}. Best is trial 62 with value: 16.15980740280381.\n",
            "[I 2024-02-09 10:27:00,801] Trial 84 finished with value: 16.385998249544475 and parameters: {'n_estimators': 135, 'max_depth': 8}. Best is trial 62 with value: 16.15980740280381.\n",
            "[I 2024-02-09 10:27:01,016] Trial 85 finished with value: 16.532940317161994 and parameters: {'n_estimators': 123, 'max_depth': 7}. Best is trial 62 with value: 16.15980740280381.\n",
            "[I 2024-02-09 10:27:01,252] Trial 86 finished with value: 16.358466305926918 and parameters: {'n_estimators': 138, 'max_depth': 8}. Best is trial 62 with value: 16.15980740280381.\n",
            "[I 2024-02-09 10:27:01,466] Trial 87 finished with value: 16.3950769367667 and parameters: {'n_estimators': 126, 'max_depth': 9}. Best is trial 62 with value: 16.15980740280381.\n",
            "[I 2024-02-09 10:27:01,687] Trial 88 finished with value: 16.45111598351413 and parameters: {'n_estimators': 128, 'max_depth': 7}. Best is trial 62 with value: 16.15980740280381.\n",
            "[I 2024-02-09 10:27:01,919] Trial 89 finished with value: 16.337672697789014 and parameters: {'n_estimators': 133, 'max_depth': 8}. Best is trial 62 with value: 16.15980740280381.\n",
            "[I 2024-02-09 10:27:02,095] Trial 90 finished with value: 18.07629107108438 and parameters: {'n_estimators': 108, 'max_depth': 3}. Best is trial 62 with value: 16.15980740280381.\n",
            "[I 2024-02-09 10:27:02,302] Trial 91 finished with value: 16.15980740280381 and parameters: {'n_estimators': 120, 'max_depth': 8}. Best is trial 62 with value: 16.15980740280381.\n",
            "[I 2024-02-09 10:27:02,497] Trial 92 finished with value: 16.448441133573464 and parameters: {'n_estimators': 112, 'max_depth': 8}. Best is trial 62 with value: 16.15980740280381.\n",
            "[I 2024-02-09 10:27:02,700] Trial 93 finished with value: 16.379254558961524 and parameters: {'n_estimators': 120, 'max_depth': 9}. Best is trial 62 with value: 16.15980740280381.\n",
            "[I 2024-02-09 10:27:02,917] Trial 94 finished with value: 16.19574105294748 and parameters: {'n_estimators': 124, 'max_depth': 8}. Best is trial 62 with value: 16.15980740280381.\n",
            "[I 2024-02-09 10:27:03,113] Trial 95 finished with value: 16.377390887158565 and parameters: {'n_estimators': 116, 'max_depth': 8}. Best is trial 62 with value: 16.15980740280381.\n",
            "[I 2024-02-09 10:27:03,322] Trial 96 finished with value: 16.510534070610706 and parameters: {'n_estimators': 124, 'max_depth': 7}. Best is trial 62 with value: 16.15980740280381.\n",
            "[I 2024-02-09 10:27:03,546] Trial 97 finished with value: 16.377464551177447 and parameters: {'n_estimators': 130, 'max_depth': 9}. Best is trial 62 with value: 16.15980740280381.\n",
            "[I 2024-02-09 10:27:03,749] Trial 98 finished with value: 16.15980740280381 and parameters: {'n_estimators': 120, 'max_depth': 8}. Best is trial 62 with value: 16.15980740280381.\n",
            "[I 2024-02-09 10:27:03,959] Trial 99 finished with value: 16.479708420480975 and parameters: {'n_estimators': 120, 'max_depth': 7}. Best is trial 62 with value: 16.15980740280381.\n"
          ]
        },
        {
          "output_type": "display_data",
          "data": {
            "text/html": [
              "<html>\n",
              "<head><meta charset=\"utf-8\" /></head>\n",
              "<body>\n",
              "    <div>            <script src=\"https://cdnjs.cloudflare.com/ajax/libs/mathjax/2.7.5/MathJax.js?config=TeX-AMS-MML_SVG\"></script><script type=\"text/javascript\">if (window.MathJax && window.MathJax.Hub && window.MathJax.Hub.Config) {window.MathJax.Hub.Config({SVG: {font: \"STIX-Web\"}});}</script>                <script type=\"text/javascript\">window.PlotlyConfig = {MathJaxConfig: 'local'};</script>\n",
              "        <script charset=\"utf-8\" src=\"https://cdn.plot.ly/plotly-2.24.1.min.js\"></script>                <div id=\"198425bb-4f84-4c57-8dfc-10d043fc496a\" class=\"plotly-graph-div\" style=\"height:525px; width:100%;\"></div>            <script type=\"text/javascript\">                                    window.PLOTLYENV=window.PLOTLYENV || {};                                    if (document.getElementById(\"198425bb-4f84-4c57-8dfc-10d043fc496a\")) {                    Plotly.newPlot(                        \"198425bb-4f84-4c57-8dfc-10d043fc496a\",                        [{\"mode\":\"markers\",\"name\":\"Objective Value\",\"x\":[0,1,2,3,4,5,6,7,8,9,10,11,12,13,14,15,16,17,18,19,20,21,22,23,24,25,26,27,28,29,30,31,32,33,34,35,36,37,38,39,40,41,42,43,44,45,46,47,48,49,50,51,52,53,54,55,56,57,58,59,60,61,62,63,64,65,66,67,68,69,70,71,72,73,74,75,76,77,78,79,80,81,82,83,84,85,86,87,88,89,90,91,92,93,94,95,96,97,98,99],\"y\":[19.6704640380865,16.400831127512316,16.445357463104088,16.612291952282423,16.86672884499781,24.344041224967057,16.462580328020685,16.64297469961436,24.582882022504577,17.792610002075655,16.938820900500986,16.547814742792816,16.521038034199357,16.497709225415157,16.568282757580942,16.714569708033387,16.5494676516987,16.861148996885753,16.41519482940559,16.524521065207338,16.755955808975386,16.492286922341236,16.54514490704621,16.62670342858897,16.563348823427702,16.439216657684582,16.656834777544322,16.75512147463889,16.651632466171208,16.383372318246646,16.735491727880017,16.518392041252167,16.462749647030748,16.570223935245902,16.41519482940559,16.654579487041854,16.225193635688857,16.749833578747676,16.69109187187633,16.654083238264693,16.22537313062332,16.31775401983378,16.487684214086194,16.446447115151056,19.48501208323345,16.588009390513335,16.94169795531384,16.63570809931393,16.462580328020685,16.738459058708905,16.3950769367667,16.367144970365548,16.478170814004383,16.61803401874468,17.023622617462674,16.399480481573633,16.26527599749304,16.26527599749304,16.73518085313831,16.51569183382972,16.31775401983378,16.385935692338975,16.15980740280381,16.28750021920344,16.15980740280381,16.49471852824332,16.195035298237308,16.479708420480975,16.73040759761001,16.524521065207338,16.562899661602334,16.377390887158565,16.22537313062332,16.35701053425955,16.40140444938513,16.22537313062332,16.280381345692497,16.446447115151056,16.543961597445147,16.209073207975873,16.57658577558813,16.280381345692497,16.543727182852493,16.19574105294748,16.385998249544475,16.532940317161994,16.358466305926918,16.3950769367667,16.45111598351413,16.337672697789014,18.07629107108438,16.15980740280381,16.448441133573464,16.379254558961524,16.19574105294748,16.377390887158565,16.510534070610706,16.377464551177447,16.15980740280381,16.479708420480975],\"type\":\"scatter\"},{\"mode\":\"lines\",\"name\":\"Best Value\",\"x\":[0,1,2,3,4,5,6,7,8,9,10,11,12,13,14,15,16,17,18,19,20,21,22,23,24,25,26,27,28,29,30,31,32,33,34,35,36,37,38,39,40,41,42,43,44,45,46,47,48,49,50,51,52,53,54,55,56,57,58,59,60,61,62,63,64,65,66,67,68,69,70,71,72,73,74,75,76,77,78,79,80,81,82,83,84,85,86,87,88,89,90,91,92,93,94,95,96,97,98,99],\"y\":[19.6704640380865,16.400831127512316,16.400831127512316,16.400831127512316,16.400831127512316,16.400831127512316,16.400831127512316,16.400831127512316,16.400831127512316,16.400831127512316,16.400831127512316,16.400831127512316,16.400831127512316,16.400831127512316,16.400831127512316,16.400831127512316,16.400831127512316,16.400831127512316,16.400831127512316,16.400831127512316,16.400831127512316,16.400831127512316,16.400831127512316,16.400831127512316,16.400831127512316,16.400831127512316,16.400831127512316,16.400831127512316,16.400831127512316,16.383372318246646,16.383372318246646,16.383372318246646,16.383372318246646,16.383372318246646,16.383372318246646,16.383372318246646,16.225193635688857,16.225193635688857,16.225193635688857,16.225193635688857,16.225193635688857,16.225193635688857,16.225193635688857,16.225193635688857,16.225193635688857,16.225193635688857,16.225193635688857,16.225193635688857,16.225193635688857,16.225193635688857,16.225193635688857,16.225193635688857,16.225193635688857,16.225193635688857,16.225193635688857,16.225193635688857,16.225193635688857,16.225193635688857,16.225193635688857,16.225193635688857,16.225193635688857,16.225193635688857,16.15980740280381,16.15980740280381,16.15980740280381,16.15980740280381,16.15980740280381,16.15980740280381,16.15980740280381,16.15980740280381,16.15980740280381,16.15980740280381,16.15980740280381,16.15980740280381,16.15980740280381,16.15980740280381,16.15980740280381,16.15980740280381,16.15980740280381,16.15980740280381,16.15980740280381,16.15980740280381,16.15980740280381,16.15980740280381,16.15980740280381,16.15980740280381,16.15980740280381,16.15980740280381,16.15980740280381,16.15980740280381,16.15980740280381,16.15980740280381,16.15980740280381,16.15980740280381,16.15980740280381,16.15980740280381,16.15980740280381,16.15980740280381,16.15980740280381,16.15980740280381],\"type\":\"scatter\"},{\"marker\":{\"color\":\"#cccccc\"},\"mode\":\"markers\",\"name\":\"Infeasible Trial\",\"showlegend\":false,\"x\":[],\"y\":[],\"type\":\"scatter\"}],                        {\"title\":{\"text\":\"Optimization History Plot\"},\"xaxis\":{\"title\":{\"text\":\"Trial\"}},\"yaxis\":{\"title\":{\"text\":\"Objective Value\"}},\"template\":{\"data\":{\"histogram2dcontour\":[{\"type\":\"histogram2dcontour\",\"colorbar\":{\"outlinewidth\":0,\"ticks\":\"\"},\"colorscale\":[[0.0,\"#0d0887\"],[0.1111111111111111,\"#46039f\"],[0.2222222222222222,\"#7201a8\"],[0.3333333333333333,\"#9c179e\"],[0.4444444444444444,\"#bd3786\"],[0.5555555555555556,\"#d8576b\"],[0.6666666666666666,\"#ed7953\"],[0.7777777777777778,\"#fb9f3a\"],[0.8888888888888888,\"#fdca26\"],[1.0,\"#f0f921\"]]}],\"choropleth\":[{\"type\":\"choropleth\",\"colorbar\":{\"outlinewidth\":0,\"ticks\":\"\"}}],\"histogram2d\":[{\"type\":\"histogram2d\",\"colorbar\":{\"outlinewidth\":0,\"ticks\":\"\"},\"colorscale\":[[0.0,\"#0d0887\"],[0.1111111111111111,\"#46039f\"],[0.2222222222222222,\"#7201a8\"],[0.3333333333333333,\"#9c179e\"],[0.4444444444444444,\"#bd3786\"],[0.5555555555555556,\"#d8576b\"],[0.6666666666666666,\"#ed7953\"],[0.7777777777777778,\"#fb9f3a\"],[0.8888888888888888,\"#fdca26\"],[1.0,\"#f0f921\"]]}],\"heatmap\":[{\"type\":\"heatmap\",\"colorbar\":{\"outlinewidth\":0,\"ticks\":\"\"},\"colorscale\":[[0.0,\"#0d0887\"],[0.1111111111111111,\"#46039f\"],[0.2222222222222222,\"#7201a8\"],[0.3333333333333333,\"#9c179e\"],[0.4444444444444444,\"#bd3786\"],[0.5555555555555556,\"#d8576b\"],[0.6666666666666666,\"#ed7953\"],[0.7777777777777778,\"#fb9f3a\"],[0.8888888888888888,\"#fdca26\"],[1.0,\"#f0f921\"]]}],\"heatmapgl\":[{\"type\":\"heatmapgl\",\"colorbar\":{\"outlinewidth\":0,\"ticks\":\"\"},\"colorscale\":[[0.0,\"#0d0887\"],[0.1111111111111111,\"#46039f\"],[0.2222222222222222,\"#7201a8\"],[0.3333333333333333,\"#9c179e\"],[0.4444444444444444,\"#bd3786\"],[0.5555555555555556,\"#d8576b\"],[0.6666666666666666,\"#ed7953\"],[0.7777777777777778,\"#fb9f3a\"],[0.8888888888888888,\"#fdca26\"],[1.0,\"#f0f921\"]]}],\"contourcarpet\":[{\"type\":\"contourcarpet\",\"colorbar\":{\"outlinewidth\":0,\"ticks\":\"\"}}],\"contour\":[{\"type\":\"contour\",\"colorbar\":{\"outlinewidth\":0,\"ticks\":\"\"},\"colorscale\":[[0.0,\"#0d0887\"],[0.1111111111111111,\"#46039f\"],[0.2222222222222222,\"#7201a8\"],[0.3333333333333333,\"#9c179e\"],[0.4444444444444444,\"#bd3786\"],[0.5555555555555556,\"#d8576b\"],[0.6666666666666666,\"#ed7953\"],[0.7777777777777778,\"#fb9f3a\"],[0.8888888888888888,\"#fdca26\"],[1.0,\"#f0f921\"]]}],\"surface\":[{\"type\":\"surface\",\"colorbar\":{\"outlinewidth\":0,\"ticks\":\"\"},\"colorscale\":[[0.0,\"#0d0887\"],[0.1111111111111111,\"#46039f\"],[0.2222222222222222,\"#7201a8\"],[0.3333333333333333,\"#9c179e\"],[0.4444444444444444,\"#bd3786\"],[0.5555555555555556,\"#d8576b\"],[0.6666666666666666,\"#ed7953\"],[0.7777777777777778,\"#fb9f3a\"],[0.8888888888888888,\"#fdca26\"],[1.0,\"#f0f921\"]]}],\"mesh3d\":[{\"type\":\"mesh3d\",\"colorbar\":{\"outlinewidth\":0,\"ticks\":\"\"}}],\"scatter\":[{\"fillpattern\":{\"fillmode\":\"overlay\",\"size\":10,\"solidity\":0.2},\"type\":\"scatter\"}],\"parcoords\":[{\"type\":\"parcoords\",\"line\":{\"colorbar\":{\"outlinewidth\":0,\"ticks\":\"\"}}}],\"scatterpolargl\":[{\"type\":\"scatterpolargl\",\"marker\":{\"colorbar\":{\"outlinewidth\":0,\"ticks\":\"\"}}}],\"bar\":[{\"error_x\":{\"color\":\"#2a3f5f\"},\"error_y\":{\"color\":\"#2a3f5f\"},\"marker\":{\"line\":{\"color\":\"#E5ECF6\",\"width\":0.5},\"pattern\":{\"fillmode\":\"overlay\",\"size\":10,\"solidity\":0.2}},\"type\":\"bar\"}],\"scattergeo\":[{\"type\":\"scattergeo\",\"marker\":{\"colorbar\":{\"outlinewidth\":0,\"ticks\":\"\"}}}],\"scatterpolar\":[{\"type\":\"scatterpolar\",\"marker\":{\"colorbar\":{\"outlinewidth\":0,\"ticks\":\"\"}}}],\"histogram\":[{\"marker\":{\"pattern\":{\"fillmode\":\"overlay\",\"size\":10,\"solidity\":0.2}},\"type\":\"histogram\"}],\"scattergl\":[{\"type\":\"scattergl\",\"marker\":{\"colorbar\":{\"outlinewidth\":0,\"ticks\":\"\"}}}],\"scatter3d\":[{\"type\":\"scatter3d\",\"line\":{\"colorbar\":{\"outlinewidth\":0,\"ticks\":\"\"}},\"marker\":{\"colorbar\":{\"outlinewidth\":0,\"ticks\":\"\"}}}],\"scattermapbox\":[{\"type\":\"scattermapbox\",\"marker\":{\"colorbar\":{\"outlinewidth\":0,\"ticks\":\"\"}}}],\"scatterternary\":[{\"type\":\"scatterternary\",\"marker\":{\"colorbar\":{\"outlinewidth\":0,\"ticks\":\"\"}}}],\"scattercarpet\":[{\"type\":\"scattercarpet\",\"marker\":{\"colorbar\":{\"outlinewidth\":0,\"ticks\":\"\"}}}],\"carpet\":[{\"aaxis\":{\"endlinecolor\":\"#2a3f5f\",\"gridcolor\":\"white\",\"linecolor\":\"white\",\"minorgridcolor\":\"white\",\"startlinecolor\":\"#2a3f5f\"},\"baxis\":{\"endlinecolor\":\"#2a3f5f\",\"gridcolor\":\"white\",\"linecolor\":\"white\",\"minorgridcolor\":\"white\",\"startlinecolor\":\"#2a3f5f\"},\"type\":\"carpet\"}],\"table\":[{\"cells\":{\"fill\":{\"color\":\"#EBF0F8\"},\"line\":{\"color\":\"white\"}},\"header\":{\"fill\":{\"color\":\"#C8D4E3\"},\"line\":{\"color\":\"white\"}},\"type\":\"table\"}],\"barpolar\":[{\"marker\":{\"line\":{\"color\":\"#E5ECF6\",\"width\":0.5},\"pattern\":{\"fillmode\":\"overlay\",\"size\":10,\"solidity\":0.2}},\"type\":\"barpolar\"}],\"pie\":[{\"automargin\":true,\"type\":\"pie\"}]},\"layout\":{\"autotypenumbers\":\"strict\",\"colorway\":[\"#636efa\",\"#EF553B\",\"#00cc96\",\"#ab63fa\",\"#FFA15A\",\"#19d3f3\",\"#FF6692\",\"#B6E880\",\"#FF97FF\",\"#FECB52\"],\"font\":{\"color\":\"#2a3f5f\"},\"hovermode\":\"closest\",\"hoverlabel\":{\"align\":\"left\"},\"paper_bgcolor\":\"white\",\"plot_bgcolor\":\"#E5ECF6\",\"polar\":{\"bgcolor\":\"#E5ECF6\",\"angularaxis\":{\"gridcolor\":\"white\",\"linecolor\":\"white\",\"ticks\":\"\"},\"radialaxis\":{\"gridcolor\":\"white\",\"linecolor\":\"white\",\"ticks\":\"\"}},\"ternary\":{\"bgcolor\":\"#E5ECF6\",\"aaxis\":{\"gridcolor\":\"white\",\"linecolor\":\"white\",\"ticks\":\"\"},\"baxis\":{\"gridcolor\":\"white\",\"linecolor\":\"white\",\"ticks\":\"\"},\"caxis\":{\"gridcolor\":\"white\",\"linecolor\":\"white\",\"ticks\":\"\"}},\"coloraxis\":{\"colorbar\":{\"outlinewidth\":0,\"ticks\":\"\"}},\"colorscale\":{\"sequential\":[[0.0,\"#0d0887\"],[0.1111111111111111,\"#46039f\"],[0.2222222222222222,\"#7201a8\"],[0.3333333333333333,\"#9c179e\"],[0.4444444444444444,\"#bd3786\"],[0.5555555555555556,\"#d8576b\"],[0.6666666666666666,\"#ed7953\"],[0.7777777777777778,\"#fb9f3a\"],[0.8888888888888888,\"#fdca26\"],[1.0,\"#f0f921\"]],\"sequentialminus\":[[0.0,\"#0d0887\"],[0.1111111111111111,\"#46039f\"],[0.2222222222222222,\"#7201a8\"],[0.3333333333333333,\"#9c179e\"],[0.4444444444444444,\"#bd3786\"],[0.5555555555555556,\"#d8576b\"],[0.6666666666666666,\"#ed7953\"],[0.7777777777777778,\"#fb9f3a\"],[0.8888888888888888,\"#fdca26\"],[1.0,\"#f0f921\"]],\"diverging\":[[0,\"#8e0152\"],[0.1,\"#c51b7d\"],[0.2,\"#de77ae\"],[0.3,\"#f1b6da\"],[0.4,\"#fde0ef\"],[0.5,\"#f7f7f7\"],[0.6,\"#e6f5d0\"],[0.7,\"#b8e186\"],[0.8,\"#7fbc41\"],[0.9,\"#4d9221\"],[1,\"#276419\"]]},\"xaxis\":{\"gridcolor\":\"white\",\"linecolor\":\"white\",\"ticks\":\"\",\"title\":{\"standoff\":15},\"zerolinecolor\":\"white\",\"automargin\":true,\"zerolinewidth\":2},\"yaxis\":{\"gridcolor\":\"white\",\"linecolor\":\"white\",\"ticks\":\"\",\"title\":{\"standoff\":15},\"zerolinecolor\":\"white\",\"automargin\":true,\"zerolinewidth\":2},\"scene\":{\"xaxis\":{\"backgroundcolor\":\"#E5ECF6\",\"gridcolor\":\"white\",\"linecolor\":\"white\",\"showbackground\":true,\"ticks\":\"\",\"zerolinecolor\":\"white\",\"gridwidth\":2},\"yaxis\":{\"backgroundcolor\":\"#E5ECF6\",\"gridcolor\":\"white\",\"linecolor\":\"white\",\"showbackground\":true,\"ticks\":\"\",\"zerolinecolor\":\"white\",\"gridwidth\":2},\"zaxis\":{\"backgroundcolor\":\"#E5ECF6\",\"gridcolor\":\"white\",\"linecolor\":\"white\",\"showbackground\":true,\"ticks\":\"\",\"zerolinecolor\":\"white\",\"gridwidth\":2}},\"shapedefaults\":{\"line\":{\"color\":\"#2a3f5f\"}},\"annotationdefaults\":{\"arrowcolor\":\"#2a3f5f\",\"arrowhead\":0,\"arrowwidth\":1},\"geo\":{\"bgcolor\":\"white\",\"landcolor\":\"#E5ECF6\",\"subunitcolor\":\"white\",\"showland\":true,\"showlakes\":true,\"lakecolor\":\"white\"},\"title\":{\"x\":0.05},\"mapbox\":{\"style\":\"light\"}}}},                        {\"responsive\": true}                    ).then(function(){\n",
              "                            \n",
              "var gd = document.getElementById('198425bb-4f84-4c57-8dfc-10d043fc496a');\n",
              "var x = new MutationObserver(function (mutations, observer) {{\n",
              "        var display = window.getComputedStyle(gd).display;\n",
              "        if (!display || display === 'none') {{\n",
              "            console.log([gd, 'removed!']);\n",
              "            Plotly.purge(gd);\n",
              "            observer.disconnect();\n",
              "        }}\n",
              "}});\n",
              "\n",
              "// Listen for the removal of the full notebook cells\n",
              "var notebookContainer = gd.closest('#notebook-container');\n",
              "if (notebookContainer) {{\n",
              "    x.observe(notebookContainer, {childList: true});\n",
              "}}\n",
              "\n",
              "// Listen for the clearing of the current output cell\n",
              "var outputEl = gd.closest('.output');\n",
              "if (outputEl) {{\n",
              "    x.observe(outputEl, {childList: true});\n",
              "}}\n",
              "\n",
              "                        })                };                            </script>        </div>\n",
              "</body>\n",
              "</html>"
            ]
          },
          "metadata": {}
        }
      ]
    },
    {
      "cell_type": "markdown",
      "source": [
        "Evauleringer av beste modell"
      ],
      "metadata": {
        "id": "QlsyU7zY7ADP"
      }
    },
    {
      "cell_type": "code",
      "source": [
        "def detailed_objective(trial):\n",
        "  parametere = {\n",
        "      'n_estimators': trial.suggest_int('n_estimators', 100, 200),\n",
        "      'max_depth': trial.suggest_int('max_depth', 1, 10)\n",
        "  }\n",
        "  rf_pipeline = Pipeline([\n",
        "      ('skalerer', StandardScaler()),\n",
        "      ('modell', RandomForestRegressor(**parametere, random_state=random_seed))\n",
        "  ])\n",
        "\n",
        "  rf_pipeline.fit(X_trening, y_trening)\n",
        "  y_test_prediksjon = rf_pipeline.predict(X_test)\n",
        "  y_trening_prediksjon = rf_pipeline.predict(X_trening)\n",
        "\n",
        "  mse_test = mean_squared_error(y_test, y_test_prediksjon)\n",
        "  r2_test = r2_score(y_test, y_test_prediksjon)\n",
        "\n",
        "  mse_trening = mean_squared_error(y_trening, y_trening_prediksjon)\n",
        "  r2_trening = r2_score(y_trening, y_trening_prediksjon)\n",
        "\n",
        "  return mse_test, r2_test, mse_trening, r2_trening\n",
        "\n",
        "mse_test_resultat = detailed_objective(study.best_trial)[0]\n",
        "r2_test_resultat = detailed_objective(study.best_trial)[1]\n",
        "mse_trening_resultat = detailed_objective(study.best_trial)[2]\n",
        "r2_trening_resultat = detailed_objective(study.best_trial)[3]\n",
        "\n",
        "print(\"Beste hyperparametere for RandomForestRegressor: {}\".format(study.best_params))\n",
        "print(\"Test: MSE: {}, og R^2: {}\".format(mse_test_resultat, r2_test_resultat))\n",
        "print(\"Trening: MSE: {}, og R^2: {}\".format(mse_trening_resultat, r2_trening_resultat))"
      ],
      "metadata": {
        "colab": {
          "base_uri": "https://localhost:8080/"
        },
        "id": "JrxN1-YQ7FUe",
        "outputId": "f9956477-d5ff-4ee8-b959-a254b69393a9"
      },
      "execution_count": null,
      "outputs": [
        {
          "output_type": "stream",
          "name": "stdout",
          "text": [
            "Beste hyperparametere for RandomForestRegressor: {'n_estimators': 120, 'max_depth': 8}\n",
            "Test: MSE: 16.15980740280381, og R^2: 0.5349908701216666\n",
            "Trening: MSE: 1.6385169427242472, og R^2: 0.935338037139651\n"
          ]
        }
      ]
    },
    {
      "cell_type": "markdown",
      "source": [
        "### Alternativ 2: Fordelt på ukentlig og daglig variasjon i produksjon m/kontinuitet"
      ],
      "metadata": {
        "id": "6sc9xPB15TO3"
      }
    },
    {
      "cell_type": "code",
      "source": [
        "# Lager nytt trening og testsett\n",
        "collagen_trening2 = copy.deepcopy(collagen_markert)\n",
        "collagen_test2 = pd.DataFrame(columns = list(collagen_trening2.columns))\n",
        "\n",
        "# Definere andel av datasettet som testsett\n",
        "andel = 0.2\n",
        "\n",
        "# Går gjennom hver dag, hver uke og samler første andel av rader til testsett\n",
        "for uke in collagen_markert.index.isocalendar().week.unique():\n",
        "  for dag in collagen_markert.index.isocalendar().day.unique():\n",
        "    data = collagen_markert[(collagen_markert.index.isocalendar().week == uke) &\n",
        "     (collagen_markert.index.isocalendar().day == dag)]\n",
        "    test_rader = (data.shape[0])*andel\n",
        "    test_data_dag = data.head(round(test_rader))\n",
        "\n",
        "    collagen_test2 = pd.concat([collagen_test2, test_data_dag])\n",
        "    collagen_trening2.drop(test_data_dag.index, inplace=True)"
      ],
      "metadata": {
        "id": "5aJx38dTHDeA"
      },
      "execution_count": 10,
      "outputs": []
    },
    {
      "cell_type": "code",
      "source": [
        "# Deler opp datasettene til prediktorer og respons, for trening og testsett\n",
        "X_trening2 = collagen_trening2.iloc[:, :-1]\n",
        "X_test2 = collagen_test2.iloc[:, :-1]\n",
        "y_trening2 = collagen_trening2.iloc[:, -1]\n",
        "y_test2 = collagen_test2.iloc[:, -1]"
      ],
      "metadata": {
        "id": "31_twxUsPt7t"
      },
      "execution_count": 11,
      "outputs": []
    },
    {
      "cell_type": "markdown",
      "source": [
        "**RandomForestRegressor**"
      ],
      "metadata": {
        "id": "J23ZW5mjQMEV"
      }
    },
    {
      "cell_type": "markdown",
      "source": [
        "Hyperparameteroptimalisering med Optuna"
      ],
      "metadata": {
        "id": "QCvxyZK-QQ53"
      }
    },
    {
      "cell_type": "code",
      "source": [
        "def objective(trial):\n",
        "  parametere = {\n",
        "      'n_estimators': trial.suggest_int('n_estimators', 100, 200),\n",
        "      'max_depth': trial.suggest_int('max_depth', 1, 10)\n",
        "  }\n",
        "  rf_pipeline = Pipeline([\n",
        "      ('skalerer', StandardScaler()),\n",
        "      ('modell', RandomForestRegressor(**parametere, random_state=random_seed))\n",
        "  ])\n",
        "\n",
        "  rf_pipeline.fit(X_trening2, y_trening2)\n",
        "  y_test_prediksjon = rf_pipeline.predict(X_test2)\n",
        "  mse_test = mean_squared_error(y_test2, y_test_prediksjon)\n",
        "  return mse_test\n",
        "\n",
        "if __name__ == \"__main__\":\n",
        "  study = optuna.create_study(direction='minimize')\n",
        "  study.optimize(objective, n_trials=100)\n",
        "\n",
        "plot_optimization_history(study)"
      ],
      "metadata": {
        "colab": {
          "base_uri": "https://localhost:8080/",
          "height": 1000
        },
        "id": "k8ynupxDQPEA",
        "outputId": "dfb634d7-4fed-49c0-9a5d-e0aa24895a77"
      },
      "execution_count": 12,
      "outputs": [
        {
          "output_type": "stream",
          "name": "stderr",
          "text": [
            "[I 2024-02-11 12:18:12,104] A new study created in memory with name: no-name-3cde0265-b0d7-4560-83e8-18b25eb39363\n",
            "[I 2024-02-11 12:18:12,276] Trial 0 finished with value: 8.892155727103837 and parameters: {'n_estimators': 102, 'max_depth': 4}. Best is trial 0 with value: 8.892155727103837.\n",
            "[I 2024-02-11 12:18:12,450] Trial 1 finished with value: 8.501761378974273 and parameters: {'n_estimators': 111, 'max_depth': 10}. Best is trial 1 with value: 8.501761378974273.\n",
            "[I 2024-02-11 12:18:12,612] Trial 2 finished with value: 13.767718751686687 and parameters: {'n_estimators': 120, 'max_depth': 1}. Best is trial 1 with value: 8.501761378974273.\n",
            "[I 2024-02-11 12:18:12,811] Trial 3 finished with value: 10.902552564959757 and parameters: {'n_estimators': 139, 'max_depth': 2}. Best is trial 1 with value: 8.501761378974273.\n",
            "[I 2024-02-11 12:18:13,050] Trial 4 finished with value: 13.341519637902394 and parameters: {'n_estimators': 177, 'max_depth': 1}. Best is trial 1 with value: 8.501761378974273.\n",
            "[I 2024-02-11 12:18:13,242] Trial 5 finished with value: 8.520961975470144 and parameters: {'n_estimators': 107, 'max_depth': 8}. Best is trial 1 with value: 8.501761378974273.\n",
            "[I 2024-02-11 12:18:13,479] Trial 6 finished with value: 8.408994832259781 and parameters: {'n_estimators': 150, 'max_depth': 6}. Best is trial 6 with value: 8.408994832259781.\n",
            "[I 2024-02-11 12:18:13,714] Trial 7 finished with value: 8.429726756844303 and parameters: {'n_estimators': 156, 'max_depth': 6}. Best is trial 6 with value: 8.408994832259781.\n",
            "[I 2024-02-11 12:18:13,949] Trial 8 finished with value: 8.373553082050424 and parameters: {'n_estimators': 145, 'max_depth': 9}. Best is trial 8 with value: 8.373553082050424.\n",
            "[I 2024-02-11 12:18:14,281] Trial 9 finished with value: 9.088819519803945 and parameters: {'n_estimators': 144, 'max_depth': 3}. Best is trial 8 with value: 8.373553082050424.\n",
            "[I 2024-02-11 12:18:14,784] Trial 10 finished with value: 8.332315949859783 and parameters: {'n_estimators': 189, 'max_depth': 10}. Best is trial 10 with value: 8.332315949859783.\n",
            "[I 2024-02-11 12:18:15,275] Trial 11 finished with value: 8.39923712331435 and parameters: {'n_estimators': 187, 'max_depth': 10}. Best is trial 10 with value: 8.332315949859783.\n",
            "[I 2024-02-11 12:18:15,789] Trial 12 finished with value: 8.265662240832917 and parameters: {'n_estimators': 199, 'max_depth': 8}. Best is trial 12 with value: 8.265662240832917.\n",
            "[I 2024-02-11 12:18:16,280] Trial 13 finished with value: 8.323521681386579 and parameters: {'n_estimators': 192, 'max_depth': 8}. Best is trial 12 with value: 8.265662240832917.\n",
            "[I 2024-02-11 12:18:16,798] Trial 14 finished with value: 8.080841620941921 and parameters: {'n_estimators': 198, 'max_depth': 7}. Best is trial 14 with value: 8.080841620941921.\n",
            "[I 2024-02-11 12:18:17,249] Trial 15 finished with value: 8.221546460228513 and parameters: {'n_estimators': 172, 'max_depth': 7}. Best is trial 14 with value: 8.080841620941921.\n",
            "[I 2024-02-11 12:18:17,672] Trial 16 finished with value: 8.321157621345792 and parameters: {'n_estimators': 173, 'max_depth': 5}. Best is trial 14 with value: 8.080841620941921.\n",
            "[I 2024-02-11 12:18:17,935] Trial 17 finished with value: 8.263774256566329 and parameters: {'n_estimators': 163, 'max_depth': 7}. Best is trial 14 with value: 8.080841620941921.\n",
            "[I 2024-02-11 12:18:18,194] Trial 18 finished with value: 8.359680555453657 and parameters: {'n_estimators': 172, 'max_depth': 5}. Best is trial 14 with value: 8.080841620941921.\n",
            "[I 2024-02-11 12:18:18,487] Trial 19 finished with value: 8.211605273724588 and parameters: {'n_estimators': 179, 'max_depth': 7}. Best is trial 14 with value: 8.080841620941921.\n",
            "[I 2024-02-11 12:18:18,690] Trial 20 finished with value: 8.307127714194792 and parameters: {'n_estimators': 129, 'max_depth': 7}. Best is trial 14 with value: 8.080841620941921.\n",
            "[I 2024-02-11 12:18:18,976] Trial 21 finished with value: 8.211605273724588 and parameters: {'n_estimators': 179, 'max_depth': 7}. Best is trial 14 with value: 8.080841620941921.\n",
            "[I 2024-02-11 12:18:19,275] Trial 22 finished with value: 8.19184542341736 and parameters: {'n_estimators': 196, 'max_depth': 6}. Best is trial 14 with value: 8.080841620941921.\n",
            "[I 2024-02-11 12:18:19,590] Trial 23 finished with value: 8.483004377209326 and parameters: {'n_estimators': 200, 'max_depth': 4}. Best is trial 14 with value: 8.080841620941921.\n",
            "[I 2024-02-11 12:18:19,885] Trial 24 finished with value: 8.304955858151054 and parameters: {'n_estimators': 185, 'max_depth': 6}. Best is trial 14 with value: 8.080841620941921.\n",
            "[I 2024-02-11 12:18:20,202] Trial 25 finished with value: 8.238898996070027 and parameters: {'n_estimators': 195, 'max_depth': 9}. Best is trial 14 with value: 8.080841620941921.\n",
            "[I 2024-02-11 12:18:20,470] Trial 26 finished with value: 8.426588703171227 and parameters: {'n_estimators': 165, 'max_depth': 5}. Best is trial 14 with value: 8.080841620941921.\n",
            "[I 2024-02-11 12:18:20,768] Trial 27 finished with value: 8.620220617812517 and parameters: {'n_estimators': 183, 'max_depth': 4}. Best is trial 14 with value: 8.080841620941921.\n",
            "[I 2024-02-11 12:18:21,089] Trial 28 finished with value: 8.198573552871288 and parameters: {'n_estimators': 193, 'max_depth': 6}. Best is trial 14 with value: 8.080841620941921.\n",
            "[I 2024-02-11 12:18:21,381] Trial 29 finished with value: 8.936699254650135 and parameters: {'n_estimators': 193, 'max_depth': 3}. Best is trial 14 with value: 8.080841620941921.\n",
            "[I 2024-02-11 12:18:21,710] Trial 30 finished with value: 8.202082391236411 and parameters: {'n_estimators': 200, 'max_depth': 6}. Best is trial 14 with value: 8.080841620941921.\n",
            "[I 2024-02-11 12:18:22,018] Trial 31 finished with value: 8.202082391236411 and parameters: {'n_estimators': 200, 'max_depth': 6}. Best is trial 14 with value: 8.080841620941921.\n",
            "[I 2024-02-11 12:18:22,306] Trial 32 finished with value: 8.251881772010522 and parameters: {'n_estimators': 192, 'max_depth': 5}. Best is trial 14 with value: 8.080841620941921.\n",
            "[I 2024-02-11 12:18:22,604] Trial 33 finished with value: 8.31989776049781 and parameters: {'n_estimators': 184, 'max_depth': 6}. Best is trial 14 with value: 8.080841620941921.\n",
            "[I 2024-02-11 12:18:22,916] Trial 34 finished with value: 8.29064961475252 and parameters: {'n_estimators': 194, 'max_depth': 8}. Best is trial 14 with value: 8.080841620941921.\n",
            "[I 2024-02-11 12:18:23,203] Trial 35 finished with value: 8.47028347662286 and parameters: {'n_estimators': 199, 'max_depth': 4}. Best is trial 14 with value: 8.080841620941921.\n",
            "[I 2024-02-11 12:18:23,400] Trial 36 finished with value: 8.546763191441004 and parameters: {'n_estimators': 124, 'max_depth': 5}. Best is trial 14 with value: 8.080841620941921.\n",
            "[I 2024-02-11 12:18:23,576] Trial 37 finished with value: 8.293387001046069 and parameters: {'n_estimators': 101, 'max_depth': 6}. Best is trial 14 with value: 8.080841620941921.\n",
            "[I 2024-02-11 12:18:23,893] Trial 38 finished with value: 8.30768637032858 and parameters: {'n_estimators': 188, 'max_depth': 9}. Best is trial 14 with value: 8.080841620941921.\n",
            "[I 2024-02-11 12:18:24,178] Trial 39 finished with value: 8.23091413775818 and parameters: {'n_estimators': 180, 'max_depth': 7}. Best is trial 14 with value: 8.080841620941921.\n",
            "[I 2024-02-11 12:18:24,464] Trial 40 finished with value: 8.936530740180496 and parameters: {'n_estimators': 190, 'max_depth': 3}. Best is trial 14 with value: 8.080841620941921.\n",
            "[I 2024-02-11 12:18:24,777] Trial 41 finished with value: 8.173889978207827 and parameters: {'n_estimators': 197, 'max_depth': 6}. Best is trial 14 with value: 8.080841620941921.\n",
            "[I 2024-02-11 12:18:25,083] Trial 42 finished with value: 8.19184542341736 and parameters: {'n_estimators': 196, 'max_depth': 6}. Best is trial 14 with value: 8.080841620941921.\n",
            "[I 2024-02-11 12:18:25,384] Trial 43 finished with value: 8.305005472868721 and parameters: {'n_estimators': 195, 'max_depth': 8}. Best is trial 14 with value: 8.080841620941921.\n",
            "[I 2024-02-11 12:18:25,565] Trial 44 finished with value: 8.156623174121114 and parameters: {'n_estimators': 111, 'max_depth': 6}. Best is trial 14 with value: 8.080841620941921.\n",
            "[I 2024-02-11 12:18:25,770] Trial 45 finished with value: 8.56833260406999 and parameters: {'n_estimators': 121, 'max_depth': 5}. Best is trial 14 with value: 8.080841620941921.\n",
            "[I 2024-02-11 12:18:25,962] Trial 46 finished with value: 8.251557769184563 and parameters: {'n_estimators': 114, 'max_depth': 7}. Best is trial 14 with value: 8.080841620941921.\n",
            "[I 2024-02-11 12:18:26,172] Trial 47 finished with value: 8.233656920450972 and parameters: {'n_estimators': 132, 'max_depth': 6}. Best is trial 14 with value: 8.080841620941921.\n",
            "[I 2024-02-11 12:18:26,419] Trial 48 finished with value: 8.688508954080515 and parameters: {'n_estimators': 150, 'max_depth': 8}. Best is trial 14 with value: 8.080841620941921.\n",
            "[I 2024-02-11 12:18:26,648] Trial 49 finished with value: 8.264985778708684 and parameters: {'n_estimators': 136, 'max_depth': 7}. Best is trial 14 with value: 8.080841620941921.\n",
            "[I 2024-02-11 12:18:26,822] Trial 50 finished with value: 13.62527079004428 and parameters: {'n_estimators': 112, 'max_depth': 1}. Best is trial 14 with value: 8.080841620941921.\n",
            "[I 2024-02-11 12:18:27,130] Trial 51 finished with value: 8.19184542341736 and parameters: {'n_estimators': 196, 'max_depth': 6}. Best is trial 14 with value: 8.080841620941921.\n",
            "[I 2024-02-11 12:18:27,418] Trial 52 finished with value: 8.263843248727227 and parameters: {'n_estimators': 187, 'max_depth': 6}. Best is trial 14 with value: 8.080841620941921.\n",
            "[I 2024-02-11 12:18:27,748] Trial 53 finished with value: 8.46818330873575 and parameters: {'n_estimators': 166, 'max_depth': 5}. Best is trial 14 with value: 8.080841620941921.\n",
            "[I 2024-02-11 12:18:28,162] Trial 54 finished with value: 8.350390616058817 and parameters: {'n_estimators': 159, 'max_depth': 7}. Best is trial 14 with value: 8.080841620941921.\n",
            "[I 2024-02-11 12:18:28,605] Trial 55 finished with value: 8.192388017203472 and parameters: {'n_estimators': 106, 'max_depth': 6}. Best is trial 14 with value: 8.080841620941921.\n",
            "[I 2024-02-11 12:18:29,279] Trial 56 finished with value: 8.207042088776186 and parameters: {'n_estimators': 196, 'max_depth': 5}. Best is trial 14 with value: 8.080841620941921.\n",
            "[I 2024-02-11 12:18:30,180] Trial 57 finished with value: 8.229665424560597 and parameters: {'n_estimators': 182, 'max_depth': 7}. Best is trial 14 with value: 8.080841620941921.\n",
            "[I 2024-02-11 12:18:30,815] Trial 58 finished with value: 8.244539572807259 and parameters: {'n_estimators': 189, 'max_depth': 6}. Best is trial 14 with value: 8.080841620941921.\n",
            "[I 2024-02-11 12:18:31,732] Trial 59 finished with value: 8.562013802522717 and parameters: {'n_estimators': 175, 'max_depth': 4}. Best is trial 14 with value: 8.080841620941921.\n",
            "[I 2024-02-11 12:18:32,575] Trial 60 finished with value: 8.079743300024674 and parameters: {'n_estimators': 197, 'max_depth': 7}. Best is trial 60 with value: 8.079743300024674.\n",
            "[I 2024-02-11 12:18:33,514] Trial 61 finished with value: 8.079743300024674 and parameters: {'n_estimators': 197, 'max_depth': 7}. Best is trial 60 with value: 8.079743300024674.\n",
            "[I 2024-02-11 12:18:34,372] Trial 62 finished with value: 8.079743300024674 and parameters: {'n_estimators': 197, 'max_depth': 7}. Best is trial 60 with value: 8.079743300024674.\n",
            "[I 2024-02-11 12:18:34,959] Trial 63 finished with value: 8.293812966828852 and parameters: {'n_estimators': 191, 'max_depth': 8}. Best is trial 60 with value: 8.079743300024674.\n",
            "[I 2024-02-11 12:18:35,480] Trial 64 finished with value: 8.180797589474011 and parameters: {'n_estimators': 186, 'max_depth': 7}. Best is trial 60 with value: 8.079743300024674.\n",
            "[I 2024-02-11 12:18:36,055] Trial 65 finished with value: 8.198197561165848 and parameters: {'n_estimators': 185, 'max_depth': 7}. Best is trial 60 with value: 8.079743300024674.\n",
            "[I 2024-02-11 12:18:36,458] Trial 66 finished with value: 8.618371420077075 and parameters: {'n_estimators': 143, 'max_depth': 8}. Best is trial 60 with value: 8.079743300024674.\n",
            "[I 2024-02-11 12:18:36,902] Trial 67 finished with value: 8.079743300024674 and parameters: {'n_estimators': 197, 'max_depth': 7}. Best is trial 60 with value: 8.079743300024674.\n",
            "[I 2024-02-11 12:18:37,210] Trial 68 finished with value: 8.079743300024674 and parameters: {'n_estimators': 197, 'max_depth': 7}. Best is trial 60 with value: 8.079743300024674.\n",
            "[I 2024-02-11 12:18:37,530] Trial 69 finished with value: 8.213315499537423 and parameters: {'n_estimators': 191, 'max_depth': 9}. Best is trial 60 with value: 8.079743300024674.\n",
            "[I 2024-02-11 12:18:37,864] Trial 70 finished with value: 8.10579897352135 and parameters: {'n_estimators': 200, 'max_depth': 7}. Best is trial 60 with value: 8.079743300024674.\n",
            "[I 2024-02-11 12:18:38,185] Trial 71 finished with value: 8.10579897352135 and parameters: {'n_estimators': 200, 'max_depth': 7}. Best is trial 60 with value: 8.079743300024674.\n",
            "[I 2024-02-11 12:18:38,505] Trial 72 finished with value: 8.252935524749724 and parameters: {'n_estimators': 198, 'max_depth': 8}. Best is trial 60 with value: 8.079743300024674.\n",
            "[I 2024-02-11 12:18:38,835] Trial 73 finished with value: 8.10579897352135 and parameters: {'n_estimators': 200, 'max_depth': 7}. Best is trial 60 with value: 8.079743300024674.\n",
            "[I 2024-02-11 12:18:39,145] Trial 74 finished with value: 8.128297468557179 and parameters: {'n_estimators': 192, 'max_depth': 7}. Best is trial 60 with value: 8.079743300024674.\n",
            "[I 2024-02-11 12:18:39,457] Trial 75 finished with value: 8.29064961475252 and parameters: {'n_estimators': 194, 'max_depth': 8}. Best is trial 60 with value: 8.079743300024674.\n",
            "[I 2024-02-11 12:18:39,785] Trial 76 finished with value: 8.080841620941921 and parameters: {'n_estimators': 198, 'max_depth': 7}. Best is trial 60 with value: 8.079743300024674.\n",
            "[I 2024-02-11 12:18:40,102] Trial 77 finished with value: 8.092626429630085 and parameters: {'n_estimators': 190, 'max_depth': 7}. Best is trial 60 with value: 8.079743300024674.\n",
            "[I 2024-02-11 12:18:40,419] Trial 78 finished with value: 8.25533070554323 and parameters: {'n_estimators': 197, 'max_depth': 8}. Best is trial 60 with value: 8.079743300024674.\n",
            "[I 2024-02-11 12:18:40,743] Trial 79 finished with value: 8.337460393497473 and parameters: {'n_estimators': 189, 'max_depth': 8}. Best is trial 60 with value: 8.079743300024674.\n",
            "[I 2024-02-11 12:18:41,054] Trial 80 finished with value: 8.223201964479689 and parameters: {'n_estimators': 181, 'max_depth': 7}. Best is trial 60 with value: 8.079743300024674.\n",
            "[I 2024-02-11 12:18:41,362] Trial 81 finished with value: 8.100098239262007 and parameters: {'n_estimators': 193, 'max_depth': 7}. Best is trial 60 with value: 8.079743300024674.\n",
            "[I 2024-02-11 12:18:41,676] Trial 82 finished with value: 8.100098239262007 and parameters: {'n_estimators': 193, 'max_depth': 7}. Best is trial 60 with value: 8.079743300024674.\n",
            "[I 2024-02-11 12:18:42,011] Trial 83 finished with value: 8.354769411737191 and parameters: {'n_estimators': 188, 'max_depth': 8}. Best is trial 60 with value: 8.079743300024674.\n",
            "[I 2024-02-11 12:18:42,330] Trial 84 finished with value: 8.222784210976688 and parameters: {'n_estimators': 194, 'max_depth': 9}. Best is trial 60 with value: 8.079743300024674.\n",
            "[I 2024-02-11 12:18:42,671] Trial 85 finished with value: 8.079743300024674 and parameters: {'n_estimators': 197, 'max_depth': 7}. Best is trial 60 with value: 8.079743300024674.\n",
            "[I 2024-02-11 12:18:43,007] Trial 86 finished with value: 8.079743300024674 and parameters: {'n_estimators': 197, 'max_depth': 7}. Best is trial 60 with value: 8.079743300024674.\n",
            "[I 2024-02-11 12:18:43,319] Trial 87 finished with value: 8.079743300024674 and parameters: {'n_estimators': 197, 'max_depth': 7}. Best is trial 60 with value: 8.079743300024674.\n",
            "[I 2024-02-11 12:18:43,646] Trial 88 finished with value: 8.25533070554323 and parameters: {'n_estimators': 197, 'max_depth': 8}. Best is trial 60 with value: 8.079743300024674.\n",
            "[I 2024-02-11 12:18:43,957] Trial 89 finished with value: 8.208850427255847 and parameters: {'n_estimators': 184, 'max_depth': 7}. Best is trial 60 with value: 8.079743300024674.\n",
            "[I 2024-02-11 12:18:44,241] Trial 90 finished with value: 8.37111466075762 and parameters: {'n_estimators': 178, 'max_depth': 8}. Best is trial 60 with value: 8.079743300024674.\n",
            "[I 2024-02-11 12:18:44,558] Trial 91 finished with value: 8.080841620941921 and parameters: {'n_estimators': 198, 'max_depth': 7}. Best is trial 60 with value: 8.079743300024674.\n",
            "[I 2024-02-11 12:18:45,073] Trial 92 finished with value: 8.120265105744817 and parameters: {'n_estimators': 195, 'max_depth': 7}. Best is trial 60 with value: 8.079743300024674.\n",
            "[I 2024-02-11 12:18:45,575] Trial 93 finished with value: 8.080841620941921 and parameters: {'n_estimators': 198, 'max_depth': 7}. Best is trial 60 with value: 8.079743300024674.\n",
            "[I 2024-02-11 12:18:46,083] Trial 94 finished with value: 8.097264240992871 and parameters: {'n_estimators': 191, 'max_depth': 7}. Best is trial 60 with value: 8.079743300024674.\n",
            "[I 2024-02-11 12:18:46,567] Trial 95 finished with value: 8.209908209622304 and parameters: {'n_estimators': 195, 'max_depth': 6}. Best is trial 60 with value: 8.079743300024674.\n",
            "[I 2024-02-11 12:18:47,052] Trial 96 finished with value: 8.197870138515988 and parameters: {'n_estimators': 187, 'max_depth': 7}. Best is trial 60 with value: 8.079743300024674.\n",
            "[I 2024-02-11 12:18:47,567] Trial 97 finished with value: 8.165790433782565 and parameters: {'n_estimators': 198, 'max_depth': 6}. Best is trial 60 with value: 8.079743300024674.\n",
            "[I 2024-02-11 12:18:48,107] Trial 98 finished with value: 8.128297468557179 and parameters: {'n_estimators': 192, 'max_depth': 7}. Best is trial 60 with value: 8.079743300024674.\n",
            "[I 2024-02-11 12:18:48,532] Trial 99 finished with value: 8.276711199815786 and parameters: {'n_estimators': 196, 'max_depth': 8}. Best is trial 60 with value: 8.079743300024674.\n"
          ]
        },
        {
          "output_type": "display_data",
          "data": {
            "text/html": [
              "<html>\n",
              "<head><meta charset=\"utf-8\" /></head>\n",
              "<body>\n",
              "    <div>            <script src=\"https://cdnjs.cloudflare.com/ajax/libs/mathjax/2.7.5/MathJax.js?config=TeX-AMS-MML_SVG\"></script><script type=\"text/javascript\">if (window.MathJax && window.MathJax.Hub && window.MathJax.Hub.Config) {window.MathJax.Hub.Config({SVG: {font: \"STIX-Web\"}});}</script>                <script type=\"text/javascript\">window.PlotlyConfig = {MathJaxConfig: 'local'};</script>\n",
              "        <script charset=\"utf-8\" src=\"https://cdn.plot.ly/plotly-2.24.1.min.js\"></script>                <div id=\"a5430251-8980-4c14-9ffd-3a064c189cfe\" class=\"plotly-graph-div\" style=\"height:525px; width:100%;\"></div>            <script type=\"text/javascript\">                                    window.PLOTLYENV=window.PLOTLYENV || {};                                    if (document.getElementById(\"a5430251-8980-4c14-9ffd-3a064c189cfe\")) {                    Plotly.newPlot(                        \"a5430251-8980-4c14-9ffd-3a064c189cfe\",                        [{\"mode\":\"markers\",\"name\":\"Objective Value\",\"x\":[0,1,2,3,4,5,6,7,8,9,10,11,12,13,14,15,16,17,18,19,20,21,22,23,24,25,26,27,28,29,30,31,32,33,34,35,36,37,38,39,40,41,42,43,44,45,46,47,48,49,50,51,52,53,54,55,56,57,58,59,60,61,62,63,64,65,66,67,68,69,70,71,72,73,74,75,76,77,78,79,80,81,82,83,84,85,86,87,88,89,90,91,92,93,94,95,96,97,98,99],\"y\":[8.892155727103837,8.501761378974273,13.767718751686687,10.902552564959757,13.341519637902394,8.520961975470144,8.408994832259781,8.429726756844303,8.373553082050424,9.088819519803945,8.332315949859783,8.39923712331435,8.265662240832917,8.323521681386579,8.080841620941921,8.221546460228513,8.321157621345792,8.263774256566329,8.359680555453657,8.211605273724588,8.307127714194792,8.211605273724588,8.19184542341736,8.483004377209326,8.304955858151054,8.238898996070027,8.426588703171227,8.620220617812517,8.198573552871288,8.936699254650135,8.202082391236411,8.202082391236411,8.251881772010522,8.31989776049781,8.29064961475252,8.47028347662286,8.546763191441004,8.293387001046069,8.30768637032858,8.23091413775818,8.936530740180496,8.173889978207827,8.19184542341736,8.305005472868721,8.156623174121114,8.56833260406999,8.251557769184563,8.233656920450972,8.688508954080515,8.264985778708684,13.62527079004428,8.19184542341736,8.263843248727227,8.46818330873575,8.350390616058817,8.192388017203472,8.207042088776186,8.229665424560597,8.244539572807259,8.562013802522717,8.079743300024674,8.079743300024674,8.079743300024674,8.293812966828852,8.180797589474011,8.198197561165848,8.618371420077075,8.079743300024674,8.079743300024674,8.213315499537423,8.10579897352135,8.10579897352135,8.252935524749724,8.10579897352135,8.128297468557179,8.29064961475252,8.080841620941921,8.092626429630085,8.25533070554323,8.337460393497473,8.223201964479689,8.100098239262007,8.100098239262007,8.354769411737191,8.222784210976688,8.079743300024674,8.079743300024674,8.079743300024674,8.25533070554323,8.208850427255847,8.37111466075762,8.080841620941921,8.120265105744817,8.080841620941921,8.097264240992871,8.209908209622304,8.197870138515988,8.165790433782565,8.128297468557179,8.276711199815786],\"type\":\"scatter\"},{\"mode\":\"lines\",\"name\":\"Best Value\",\"x\":[0,1,2,3,4,5,6,7,8,9,10,11,12,13,14,15,16,17,18,19,20,21,22,23,24,25,26,27,28,29,30,31,32,33,34,35,36,37,38,39,40,41,42,43,44,45,46,47,48,49,50,51,52,53,54,55,56,57,58,59,60,61,62,63,64,65,66,67,68,69,70,71,72,73,74,75,76,77,78,79,80,81,82,83,84,85,86,87,88,89,90,91,92,93,94,95,96,97,98,99],\"y\":[8.892155727103837,8.501761378974273,8.501761378974273,8.501761378974273,8.501761378974273,8.501761378974273,8.408994832259781,8.408994832259781,8.373553082050424,8.373553082050424,8.332315949859783,8.332315949859783,8.265662240832917,8.265662240832917,8.080841620941921,8.080841620941921,8.080841620941921,8.080841620941921,8.080841620941921,8.080841620941921,8.080841620941921,8.080841620941921,8.080841620941921,8.080841620941921,8.080841620941921,8.080841620941921,8.080841620941921,8.080841620941921,8.080841620941921,8.080841620941921,8.080841620941921,8.080841620941921,8.080841620941921,8.080841620941921,8.080841620941921,8.080841620941921,8.080841620941921,8.080841620941921,8.080841620941921,8.080841620941921,8.080841620941921,8.080841620941921,8.080841620941921,8.080841620941921,8.080841620941921,8.080841620941921,8.080841620941921,8.080841620941921,8.080841620941921,8.080841620941921,8.080841620941921,8.080841620941921,8.080841620941921,8.080841620941921,8.080841620941921,8.080841620941921,8.080841620941921,8.080841620941921,8.080841620941921,8.080841620941921,8.079743300024674,8.079743300024674,8.079743300024674,8.079743300024674,8.079743300024674,8.079743300024674,8.079743300024674,8.079743300024674,8.079743300024674,8.079743300024674,8.079743300024674,8.079743300024674,8.079743300024674,8.079743300024674,8.079743300024674,8.079743300024674,8.079743300024674,8.079743300024674,8.079743300024674,8.079743300024674,8.079743300024674,8.079743300024674,8.079743300024674,8.079743300024674,8.079743300024674,8.079743300024674,8.079743300024674,8.079743300024674,8.079743300024674,8.079743300024674,8.079743300024674,8.079743300024674,8.079743300024674,8.079743300024674,8.079743300024674,8.079743300024674,8.079743300024674,8.079743300024674,8.079743300024674,8.079743300024674],\"type\":\"scatter\"},{\"marker\":{\"color\":\"#cccccc\"},\"mode\":\"markers\",\"name\":\"Infeasible Trial\",\"showlegend\":false,\"x\":[],\"y\":[],\"type\":\"scatter\"}],                        {\"title\":{\"text\":\"Optimization History Plot\"},\"xaxis\":{\"title\":{\"text\":\"Trial\"}},\"yaxis\":{\"title\":{\"text\":\"Objective Value\"}},\"template\":{\"data\":{\"histogram2dcontour\":[{\"type\":\"histogram2dcontour\",\"colorbar\":{\"outlinewidth\":0,\"ticks\":\"\"},\"colorscale\":[[0.0,\"#0d0887\"],[0.1111111111111111,\"#46039f\"],[0.2222222222222222,\"#7201a8\"],[0.3333333333333333,\"#9c179e\"],[0.4444444444444444,\"#bd3786\"],[0.5555555555555556,\"#d8576b\"],[0.6666666666666666,\"#ed7953\"],[0.7777777777777778,\"#fb9f3a\"],[0.8888888888888888,\"#fdca26\"],[1.0,\"#f0f921\"]]}],\"choropleth\":[{\"type\":\"choropleth\",\"colorbar\":{\"outlinewidth\":0,\"ticks\":\"\"}}],\"histogram2d\":[{\"type\":\"histogram2d\",\"colorbar\":{\"outlinewidth\":0,\"ticks\":\"\"},\"colorscale\":[[0.0,\"#0d0887\"],[0.1111111111111111,\"#46039f\"],[0.2222222222222222,\"#7201a8\"],[0.3333333333333333,\"#9c179e\"],[0.4444444444444444,\"#bd3786\"],[0.5555555555555556,\"#d8576b\"],[0.6666666666666666,\"#ed7953\"],[0.7777777777777778,\"#fb9f3a\"],[0.8888888888888888,\"#fdca26\"],[1.0,\"#f0f921\"]]}],\"heatmap\":[{\"type\":\"heatmap\",\"colorbar\":{\"outlinewidth\":0,\"ticks\":\"\"},\"colorscale\":[[0.0,\"#0d0887\"],[0.1111111111111111,\"#46039f\"],[0.2222222222222222,\"#7201a8\"],[0.3333333333333333,\"#9c179e\"],[0.4444444444444444,\"#bd3786\"],[0.5555555555555556,\"#d8576b\"],[0.6666666666666666,\"#ed7953\"],[0.7777777777777778,\"#fb9f3a\"],[0.8888888888888888,\"#fdca26\"],[1.0,\"#f0f921\"]]}],\"heatmapgl\":[{\"type\":\"heatmapgl\",\"colorbar\":{\"outlinewidth\":0,\"ticks\":\"\"},\"colorscale\":[[0.0,\"#0d0887\"],[0.1111111111111111,\"#46039f\"],[0.2222222222222222,\"#7201a8\"],[0.3333333333333333,\"#9c179e\"],[0.4444444444444444,\"#bd3786\"],[0.5555555555555556,\"#d8576b\"],[0.6666666666666666,\"#ed7953\"],[0.7777777777777778,\"#fb9f3a\"],[0.8888888888888888,\"#fdca26\"],[1.0,\"#f0f921\"]]}],\"contourcarpet\":[{\"type\":\"contourcarpet\",\"colorbar\":{\"outlinewidth\":0,\"ticks\":\"\"}}],\"contour\":[{\"type\":\"contour\",\"colorbar\":{\"outlinewidth\":0,\"ticks\":\"\"},\"colorscale\":[[0.0,\"#0d0887\"],[0.1111111111111111,\"#46039f\"],[0.2222222222222222,\"#7201a8\"],[0.3333333333333333,\"#9c179e\"],[0.4444444444444444,\"#bd3786\"],[0.5555555555555556,\"#d8576b\"],[0.6666666666666666,\"#ed7953\"],[0.7777777777777778,\"#fb9f3a\"],[0.8888888888888888,\"#fdca26\"],[1.0,\"#f0f921\"]]}],\"surface\":[{\"type\":\"surface\",\"colorbar\":{\"outlinewidth\":0,\"ticks\":\"\"},\"colorscale\":[[0.0,\"#0d0887\"],[0.1111111111111111,\"#46039f\"],[0.2222222222222222,\"#7201a8\"],[0.3333333333333333,\"#9c179e\"],[0.4444444444444444,\"#bd3786\"],[0.5555555555555556,\"#d8576b\"],[0.6666666666666666,\"#ed7953\"],[0.7777777777777778,\"#fb9f3a\"],[0.8888888888888888,\"#fdca26\"],[1.0,\"#f0f921\"]]}],\"mesh3d\":[{\"type\":\"mesh3d\",\"colorbar\":{\"outlinewidth\":0,\"ticks\":\"\"}}],\"scatter\":[{\"fillpattern\":{\"fillmode\":\"overlay\",\"size\":10,\"solidity\":0.2},\"type\":\"scatter\"}],\"parcoords\":[{\"type\":\"parcoords\",\"line\":{\"colorbar\":{\"outlinewidth\":0,\"ticks\":\"\"}}}],\"scatterpolargl\":[{\"type\":\"scatterpolargl\",\"marker\":{\"colorbar\":{\"outlinewidth\":0,\"ticks\":\"\"}}}],\"bar\":[{\"error_x\":{\"color\":\"#2a3f5f\"},\"error_y\":{\"color\":\"#2a3f5f\"},\"marker\":{\"line\":{\"color\":\"#E5ECF6\",\"width\":0.5},\"pattern\":{\"fillmode\":\"overlay\",\"size\":10,\"solidity\":0.2}},\"type\":\"bar\"}],\"scattergeo\":[{\"type\":\"scattergeo\",\"marker\":{\"colorbar\":{\"outlinewidth\":0,\"ticks\":\"\"}}}],\"scatterpolar\":[{\"type\":\"scatterpolar\",\"marker\":{\"colorbar\":{\"outlinewidth\":0,\"ticks\":\"\"}}}],\"histogram\":[{\"marker\":{\"pattern\":{\"fillmode\":\"overlay\",\"size\":10,\"solidity\":0.2}},\"type\":\"histogram\"}],\"scattergl\":[{\"type\":\"scattergl\",\"marker\":{\"colorbar\":{\"outlinewidth\":0,\"ticks\":\"\"}}}],\"scatter3d\":[{\"type\":\"scatter3d\",\"line\":{\"colorbar\":{\"outlinewidth\":0,\"ticks\":\"\"}},\"marker\":{\"colorbar\":{\"outlinewidth\":0,\"ticks\":\"\"}}}],\"scattermapbox\":[{\"type\":\"scattermapbox\",\"marker\":{\"colorbar\":{\"outlinewidth\":0,\"ticks\":\"\"}}}],\"scatterternary\":[{\"type\":\"scatterternary\",\"marker\":{\"colorbar\":{\"outlinewidth\":0,\"ticks\":\"\"}}}],\"scattercarpet\":[{\"type\":\"scattercarpet\",\"marker\":{\"colorbar\":{\"outlinewidth\":0,\"ticks\":\"\"}}}],\"carpet\":[{\"aaxis\":{\"endlinecolor\":\"#2a3f5f\",\"gridcolor\":\"white\",\"linecolor\":\"white\",\"minorgridcolor\":\"white\",\"startlinecolor\":\"#2a3f5f\"},\"baxis\":{\"endlinecolor\":\"#2a3f5f\",\"gridcolor\":\"white\",\"linecolor\":\"white\",\"minorgridcolor\":\"white\",\"startlinecolor\":\"#2a3f5f\"},\"type\":\"carpet\"}],\"table\":[{\"cells\":{\"fill\":{\"color\":\"#EBF0F8\"},\"line\":{\"color\":\"white\"}},\"header\":{\"fill\":{\"color\":\"#C8D4E3\"},\"line\":{\"color\":\"white\"}},\"type\":\"table\"}],\"barpolar\":[{\"marker\":{\"line\":{\"color\":\"#E5ECF6\",\"width\":0.5},\"pattern\":{\"fillmode\":\"overlay\",\"size\":10,\"solidity\":0.2}},\"type\":\"barpolar\"}],\"pie\":[{\"automargin\":true,\"type\":\"pie\"}]},\"layout\":{\"autotypenumbers\":\"strict\",\"colorway\":[\"#636efa\",\"#EF553B\",\"#00cc96\",\"#ab63fa\",\"#FFA15A\",\"#19d3f3\",\"#FF6692\",\"#B6E880\",\"#FF97FF\",\"#FECB52\"],\"font\":{\"color\":\"#2a3f5f\"},\"hovermode\":\"closest\",\"hoverlabel\":{\"align\":\"left\"},\"paper_bgcolor\":\"white\",\"plot_bgcolor\":\"#E5ECF6\",\"polar\":{\"bgcolor\":\"#E5ECF6\",\"angularaxis\":{\"gridcolor\":\"white\",\"linecolor\":\"white\",\"ticks\":\"\"},\"radialaxis\":{\"gridcolor\":\"white\",\"linecolor\":\"white\",\"ticks\":\"\"}},\"ternary\":{\"bgcolor\":\"#E5ECF6\",\"aaxis\":{\"gridcolor\":\"white\",\"linecolor\":\"white\",\"ticks\":\"\"},\"baxis\":{\"gridcolor\":\"white\",\"linecolor\":\"white\",\"ticks\":\"\"},\"caxis\":{\"gridcolor\":\"white\",\"linecolor\":\"white\",\"ticks\":\"\"}},\"coloraxis\":{\"colorbar\":{\"outlinewidth\":0,\"ticks\":\"\"}},\"colorscale\":{\"sequential\":[[0.0,\"#0d0887\"],[0.1111111111111111,\"#46039f\"],[0.2222222222222222,\"#7201a8\"],[0.3333333333333333,\"#9c179e\"],[0.4444444444444444,\"#bd3786\"],[0.5555555555555556,\"#d8576b\"],[0.6666666666666666,\"#ed7953\"],[0.7777777777777778,\"#fb9f3a\"],[0.8888888888888888,\"#fdca26\"],[1.0,\"#f0f921\"]],\"sequentialminus\":[[0.0,\"#0d0887\"],[0.1111111111111111,\"#46039f\"],[0.2222222222222222,\"#7201a8\"],[0.3333333333333333,\"#9c179e\"],[0.4444444444444444,\"#bd3786\"],[0.5555555555555556,\"#d8576b\"],[0.6666666666666666,\"#ed7953\"],[0.7777777777777778,\"#fb9f3a\"],[0.8888888888888888,\"#fdca26\"],[1.0,\"#f0f921\"]],\"diverging\":[[0,\"#8e0152\"],[0.1,\"#c51b7d\"],[0.2,\"#de77ae\"],[0.3,\"#f1b6da\"],[0.4,\"#fde0ef\"],[0.5,\"#f7f7f7\"],[0.6,\"#e6f5d0\"],[0.7,\"#b8e186\"],[0.8,\"#7fbc41\"],[0.9,\"#4d9221\"],[1,\"#276419\"]]},\"xaxis\":{\"gridcolor\":\"white\",\"linecolor\":\"white\",\"ticks\":\"\",\"title\":{\"standoff\":15},\"zerolinecolor\":\"white\",\"automargin\":true,\"zerolinewidth\":2},\"yaxis\":{\"gridcolor\":\"white\",\"linecolor\":\"white\",\"ticks\":\"\",\"title\":{\"standoff\":15},\"zerolinecolor\":\"white\",\"automargin\":true,\"zerolinewidth\":2},\"scene\":{\"xaxis\":{\"backgroundcolor\":\"#E5ECF6\",\"gridcolor\":\"white\",\"linecolor\":\"white\",\"showbackground\":true,\"ticks\":\"\",\"zerolinecolor\":\"white\",\"gridwidth\":2},\"yaxis\":{\"backgroundcolor\":\"#E5ECF6\",\"gridcolor\":\"white\",\"linecolor\":\"white\",\"showbackground\":true,\"ticks\":\"\",\"zerolinecolor\":\"white\",\"gridwidth\":2},\"zaxis\":{\"backgroundcolor\":\"#E5ECF6\",\"gridcolor\":\"white\",\"linecolor\":\"white\",\"showbackground\":true,\"ticks\":\"\",\"zerolinecolor\":\"white\",\"gridwidth\":2}},\"shapedefaults\":{\"line\":{\"color\":\"#2a3f5f\"}},\"annotationdefaults\":{\"arrowcolor\":\"#2a3f5f\",\"arrowhead\":0,\"arrowwidth\":1},\"geo\":{\"bgcolor\":\"white\",\"landcolor\":\"#E5ECF6\",\"subunitcolor\":\"white\",\"showland\":true,\"showlakes\":true,\"lakecolor\":\"white\"},\"title\":{\"x\":0.05},\"mapbox\":{\"style\":\"light\"}}}},                        {\"responsive\": true}                    ).then(function(){\n",
              "                            \n",
              "var gd = document.getElementById('a5430251-8980-4c14-9ffd-3a064c189cfe');\n",
              "var x = new MutationObserver(function (mutations, observer) {{\n",
              "        var display = window.getComputedStyle(gd).display;\n",
              "        if (!display || display === 'none') {{\n",
              "            console.log([gd, 'removed!']);\n",
              "            Plotly.purge(gd);\n",
              "            observer.disconnect();\n",
              "        }}\n",
              "}});\n",
              "\n",
              "// Listen for the removal of the full notebook cells\n",
              "var notebookContainer = gd.closest('#notebook-container');\n",
              "if (notebookContainer) {{\n",
              "    x.observe(notebookContainer, {childList: true});\n",
              "}}\n",
              "\n",
              "// Listen for the clearing of the current output cell\n",
              "var outputEl = gd.closest('.output');\n",
              "if (outputEl) {{\n",
              "    x.observe(outputEl, {childList: true});\n",
              "}}\n",
              "\n",
              "                        })                };                            </script>        </div>\n",
              "</body>\n",
              "</html>"
            ]
          },
          "metadata": {}
        }
      ]
    },
    {
      "cell_type": "code",
      "source": [
        "def detailed_objective(trial):\n",
        "  parametere = {\n",
        "      'n_estimators': trial.suggest_int('n_estimators', 100, 200),\n",
        "      'max_depth': trial.suggest_int('max_depth', 1, 10)\n",
        "  }\n",
        "  rf_pipeline = Pipeline([\n",
        "      ('skalerer', StandardScaler()),\n",
        "      ('modell', RandomForestRegressor(**parametere, random_state=random_seed))\n",
        "  ])\n",
        "\n",
        "  rf_pipeline.fit(X_trening2, y_trening2)\n",
        "  y_test_prediksjon = rf_pipeline.predict(X_test2)\n",
        "  y_trening_prediksjon = rf_pipeline.predict(X_trening2)\n",
        "\n",
        "  mse_test = mean_squared_error(y_test2, y_test_prediksjon)\n",
        "  r2_test = r2_score(y_test2, y_test_prediksjon)\n",
        "\n",
        "  mse_trening = mean_squared_error(y_trening2, y_trening_prediksjon)\n",
        "  r2_trening = r2_score(y_trening2, y_trening_prediksjon)\n",
        "\n",
        "  return mse_test, r2_test, mse_trening, r2_trening\n",
        "\n",
        "mse_test_resultat = detailed_objective(study.best_trial)[0]\n",
        "r2_test_resultat = detailed_objective(study.best_trial)[1]\n",
        "mse_trening_resultat = detailed_objective(study.best_trial)[2]\n",
        "r2_trening_resultat = detailed_objective(study.best_trial)[3]\n",
        "\n",
        "print(\"Beste hyperparametere for RandomForestRegressor: {}\".format(study.best_params))\n",
        "print(\"Test: MSE: {}, og R^2: {}\".format(mse_test_resultat, r2_test_resultat))\n",
        "print(\"Trening: MSE: {}, og R^2: {}\".format(mse_trening_resultat, r2_trening_resultat))"
      ],
      "metadata": {
        "colab": {
          "base_uri": "https://localhost:8080/"
        },
        "id": "JwqRWAvRQdJK",
        "outputId": "8d973017-2da1-424c-85f8-5f2d78ef38f5"
      },
      "execution_count": 13,
      "outputs": [
        {
          "output_type": "stream",
          "name": "stdout",
          "text": [
            "Beste hyperparametere for RandomForestRegressor: {'n_estimators': 197, 'max_depth': 7}\n",
            "Test: MSE: 8.079743300024674, og R^2: 0.6577768822921066\n",
            "Trening: MSE: 1.817864367572221, og R^2: 0.9351151886016815\n"
          ]
        }
      ]
    },
    {
      "cell_type": "markdown",
      "source": [
        "# NIR målinger ekskludert"
      ],
      "metadata": {
        "id": "XWTOFeY8Xv-D"
      }
    },
    {
      "cell_type": "code",
      "source": [],
      "metadata": {
        "id": "kCciKFdHXyaa"
      },
      "execution_count": null,
      "outputs": []
    }
  ]
}