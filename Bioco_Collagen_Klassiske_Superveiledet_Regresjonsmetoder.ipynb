{
  "nbformat": 4,
  "nbformat_minor": 0,
  "metadata": {
    "colab": {
      "provenance": [],
      "authorship_tag": "ABX9TyO354reMSGle+yyPVbWh8lP",
      "include_colab_link": true
    },
    "kernelspec": {
      "name": "python3",
      "display_name": "Python 3"
    },
    "language_info": {
      "name": "python"
    },
    "accelerator": "TPU"
  },
  "cells": [
    {
      "cell_type": "markdown",
      "metadata": {
        "id": "view-in-github",
        "colab_type": "text"
      },
      "source": [
        "<a href=\"https://colab.research.google.com/github/PreyPython123/Master-V24-Semiveiledet-Regresjon/blob/Collagen-Pradeep/Bioco_Collagen_Klassiske_Superveiledet_Regresjonsmetoder.ipynb\" target=\"_parent\"><img src=\"https://colab.research.google.com/assets/colab-badge.svg\" alt=\"Open In Colab\"/></a>"
      ]
    },
    {
      "cell_type": "markdown",
      "source": [
        "Lasting av nødvendige bibliotek og pakker"
      ],
      "metadata": {
        "id": "ZNeQrag9Rlc_"
      }
    },
    {
      "cell_type": "code",
      "execution_count": 1,
      "metadata": {
        "id": "k5u1dZmp6cJ9",
        "colab": {
          "base_uri": "https://localhost:8080/"
        },
        "outputId": "57af1921-59c2-46e5-d5da-e54fda50b053"
      },
      "outputs": [
        {
          "output_type": "stream",
          "name": "stdout",
          "text": [
            "Requirement already satisfied: optuna in /usr/local/lib/python3.10/dist-packages (3.5.0)\n",
            "Requirement already satisfied: alembic>=1.5.0 in /usr/local/lib/python3.10/dist-packages (from optuna) (1.13.1)\n",
            "Requirement already satisfied: colorlog in /usr/local/lib/python3.10/dist-packages (from optuna) (6.8.2)\n",
            "Requirement already satisfied: numpy in /usr/local/lib/python3.10/dist-packages (from optuna) (1.23.5)\n",
            "Requirement already satisfied: packaging>=20.0 in /usr/local/lib/python3.10/dist-packages (from optuna) (23.2)\n",
            "Requirement already satisfied: sqlalchemy>=1.3.0 in /usr/local/lib/python3.10/dist-packages (from optuna) (2.0.25)\n",
            "Requirement already satisfied: tqdm in /usr/local/lib/python3.10/dist-packages (from optuna) (4.66.1)\n",
            "Requirement already satisfied: PyYAML in /usr/local/lib/python3.10/dist-packages (from optuna) (6.0.1)\n",
            "Requirement already satisfied: Mako in /usr/local/lib/python3.10/dist-packages (from alembic>=1.5.0->optuna) (1.3.2)\n",
            "Requirement already satisfied: typing-extensions>=4 in /usr/local/lib/python3.10/dist-packages (from alembic>=1.5.0->optuna) (4.9.0)\n",
            "Requirement already satisfied: greenlet!=0.4.17 in /usr/local/lib/python3.10/dist-packages (from sqlalchemy>=1.3.0->optuna) (3.0.3)\n",
            "Requirement already satisfied: MarkupSafe>=0.9.2 in /usr/local/lib/python3.10/dist-packages (from Mako->alembic>=1.5.0->optuna) (2.1.5)\n"
          ]
        }
      ],
      "source": [
        "!pip install optuna"
      ]
    },
    {
      "cell_type": "markdown",
      "source": [
        "Importering av nødvendig bibliotek og pakker"
      ],
      "metadata": {
        "id": "jT-YzIdVRply"
      }
    },
    {
      "cell_type": "code",
      "source": [
        "import pandas as pd\n",
        "import numpy as np\n",
        "\n",
        "from sklearn.model_selection import train_test_split\n",
        "from sklearn.pipeline import Pipeline\n",
        "from sklearn.preprocessing import StandardScaler\n",
        "from sklearn.model_selection import RandomizedSearchCV\n",
        "\n",
        "from sklearn.ensemble import RandomForestRegressor\n",
        "\n",
        "from sklearn.metrics import mean_squared_error, r2_score\n",
        "\n",
        "import optuna\n",
        "from optuna.visualization import plot_optimization_history"
      ],
      "metadata": {
        "id": "DmFSuK8ARtBg"
      },
      "execution_count": 2,
      "outputs": []
    },
    {
      "cell_type": "markdown",
      "source": [
        "Importering av relevant data"
      ],
      "metadata": {
        "id": "21cdLIoaSTR6"
      }
    },
    {
      "cell_type": "code",
      "source": [
        "from google.colab import drive\n",
        "drive.mount('/content/drive')\n",
        "\n",
        "# Velger første kolonne med dato og tid som index\n",
        "collagen_data = pd.read_csv('/content/drive/MyDrive/MasterV24/Bioco_data/collagen_data.csv',\n",
        "                            header=0,\n",
        "                            sep=',',\n",
        "                            index_col=0)\n",
        "\n",
        "# Formatterer index til riktig format og datatype\n",
        "collagen_data.index = pd.to_datetime(collagen_data.index,\n",
        "                                     format='%Y-%m-%d %H:%M:%S')"
      ],
      "metadata": {
        "colab": {
          "base_uri": "https://localhost:8080/"
        },
        "id": "XeNQyDPZSTwY",
        "outputId": "f39d4039-cacb-446d-afa0-8963a84c09da"
      },
      "execution_count": 3,
      "outputs": [
        {
          "output_type": "stream",
          "name": "stdout",
          "text": [
            "Drive already mounted at /content/drive; to attempt to forcibly remount, call drive.mount(\"/content/drive\", force_remount=True).\n"
          ]
        }
      ]
    },
    {
      "cell_type": "markdown",
      "source": [
        "Beskrivelse av datasett"
      ],
      "metadata": {
        "id": "hPfDrou1pR0w"
      }
    },
    {
      "cell_type": "code",
      "source": [
        "collagen_data.info()"
      ],
      "metadata": {
        "colab": {
          "base_uri": "https://localhost:8080/"
        },
        "id": "HsvZWJ7apQpL",
        "outputId": "e2e34afe-5960-4675-ed54-ac5720459677"
      },
      "execution_count": 4,
      "outputs": [
        {
          "output_type": "stream",
          "name": "stdout",
          "text": [
            "<class 'pandas.core.frame.DataFrame'>\n",
            "DatetimeIndex: 29136 entries, 2022-10-31 17:37:00 to 2023-06-14 01:06:00\n",
            "Data columns (total 17 columns):\n",
            " #   Column         Non-Null Count  Dtype  \n",
            "---  ------         --------------  -----  \n",
            " 0   EnzymeType_A1  29136 non-null  int64  \n",
            " 1   EnzymeType_A2  29136 non-null  int64  \n",
            " 2   EnzymeType_B   29136 non-null  int64  \n",
            " 3   EnzymeType_C   29136 non-null  int64  \n",
            " 4   EnzymeType_D   29136 non-null  int64  \n",
            " 5   EnzymeType_E   29136 non-null  int64  \n",
            " 6   RawMatFlow     29136 non-null  float64\n",
            " 7   NIRfat         29136 non-null  float64\n",
            " 8   NIRash         29136 non-null  float64\n",
            " 9   NIRwater       29136 non-null  float64\n",
            " 10  TT07           29136 non-null  float64\n",
            " 11  TT08           29136 non-null  float64\n",
            " 12  PT03           29136 non-null  float64\n",
            " 13  TT20           29136 non-null  float64\n",
            " 14  TT09           29136 non-null  float64\n",
            " 15  TT12           29136 non-null  float64\n",
            " 16  Collagen       89 non-null     float64\n",
            "dtypes: float64(11), int64(6)\n",
            "memory usage: 4.0 MB\n"
          ]
        }
      ]
    },
    {
      "cell_type": "markdown",
      "source": [
        "# Oppdeling av datasett for trening og testing"
      ],
      "metadata": {
        "id": "yNN1h11QTJ2y"
      }
    },
    {
      "cell_type": "code",
      "source": [
        "#Tilfeldighetsfrø\n",
        "random_seed = 123\n",
        "\n",
        "# Deler opp markert del av datasettet\n",
        "collagen_markert = collagen_data.dropna(subset='Collagen')\n",
        "\n",
        "# Legger til kategorisk variabel for enzymtype til fordeling av datsettet\n",
        "collagen_markert['EnzymType'] = collagen_markert.filter(like='EnzymeType_').idxmax(axis=1).str.split('_').str[1].astype('category')\n",
        "\n",
        "# Splitter datasett i collagendataasett og kategorisk enzymtype\n",
        "collagen_enzymetypes = collagen_markert['EnzymType']\n",
        "collagen_markert.drop(columns=['EnzymType'], inplace=True)\n",
        "\n",
        "# Splitter trening og testdata etter enzymtype\n",
        "collagen_trening, collagen_test, _, _ = train_test_split(collagen_markert,\n",
        "                                                         collagen_enzymetypes,\n",
        "                                                         test_size = 0.20,\n",
        "                                                         stratify = collagen_enzymetypes,\n",
        "                                                         random_state = random_seed)\n",
        "\n",
        "# Deler opp datasettene til prediktorer og respons, for trening og testsett\n",
        "X_trening = collagen_trening.iloc[:, :-1]\n",
        "X_test = collagen_test.iloc[:, :-1]\n",
        "y_trening = collagen_trening.iloc[:, -1]\n",
        "y_test = collagen_test.iloc[:, -1]"
      ],
      "metadata": {
        "colab": {
          "base_uri": "https://localhost:8080/"
        },
        "id": "jovL3AV6TM6H",
        "outputId": "1fbad373-ca92-42cd-cccd-2cbd1c703518"
      },
      "execution_count": 5,
      "outputs": [
        {
          "output_type": "stream",
          "name": "stderr",
          "text": [
            "<ipython-input-5-539fbeb5839f>:8: SettingWithCopyWarning: \n",
            "A value is trying to be set on a copy of a slice from a DataFrame.\n",
            "Try using .loc[row_indexer,col_indexer] = value instead\n",
            "\n",
            "See the caveats in the documentation: https://pandas.pydata.org/pandas-docs/stable/user_guide/indexing.html#returning-a-view-versus-a-copy\n",
            "  collagen_markert['EnzymType'] = collagen_markert.filter(like='EnzymeType_').idxmax(axis=1).str.split('_').str[1].astype('category')\n",
            "<ipython-input-5-539fbeb5839f>:12: SettingWithCopyWarning: \n",
            "A value is trying to be set on a copy of a slice from a DataFrame\n",
            "\n",
            "See the caveats in the documentation: https://pandas.pydata.org/pandas-docs/stable/user_guide/indexing.html#returning-a-view-versus-a-copy\n",
            "  collagen_markert.drop(columns=['EnzymType'], inplace=True)\n"
          ]
        }
      ]
    },
    {
      "cell_type": "markdown",
      "source": [
        "# RandomForestRegressor"
      ],
      "metadata": {
        "id": "cIgUu1qErjKz"
      }
    },
    {
      "cell_type": "markdown",
      "source": [
        "Hyperparamter optimalisering med Optuna"
      ],
      "metadata": {
        "id": "2Ds0DtmgRRlv"
      }
    },
    {
      "cell_type": "code",
      "source": [
        "def objective(trial):\n",
        "  parametere = {\n",
        "      'n_estimators': trial.suggest_int('n_estimators', 100, 200),\n",
        "      'max_depth': trial.suggest_int('max_depth', 1, 10)\n",
        "  }\n",
        "  rf_pipeline = Pipeline([\n",
        "      ('skalerer', StandardScaler()),\n",
        "      ('modell', RandomForestRegressor(**parametere, random_state=random_seed))\n",
        "  ])\n",
        "\n",
        "  rf_pipeline.fit(X_trening, y_trening)\n",
        "  y_test_prediksjon = rf_pipeline.predict(X_test)\n",
        "  mse = mean_squared_error(y_test, y_test_prediksjon)\n",
        "  return mse\n",
        "\n",
        "if __name__ == \"__main__\":\n",
        "  study = optuna.create_study(direction='minimize')\n",
        "  study.optimize(objective, n_trials=100)\n",
        "\n",
        "plot_optimization_history(study)"
      ],
      "metadata": {
        "colab": {
          "base_uri": "https://localhost:8080/",
          "height": 1000
        },
        "id": "Gr_wm-oNRVZ3",
        "outputId": "071f1003-51ed-46a3-8c5f-33bc9ca953b6"
      },
      "execution_count": 9,
      "outputs": [
        {
          "output_type": "stream",
          "name": "stderr",
          "text": [
            "[I 2024-02-07 19:15:52,057] A new study created in memory with name: no-name-a7f6a084-cb77-41b5-a28d-966b93eca227\n",
            "[I 2024-02-07 19:15:52,318] Trial 0 finished with value: 17.18293406377 and parameters: {'n_estimators': 101, 'max_depth': 6}. Best is trial 0 with value: 17.18293406377.\n",
            "[I 2024-02-07 19:15:52,633] Trial 1 finished with value: 16.814654769059587 and parameters: {'n_estimators': 120, 'max_depth': 4}. Best is trial 1 with value: 16.814654769059587.\n",
            "[I 2024-02-07 19:15:52,926] Trial 2 finished with value: 16.63570809931393 and parameters: {'n_estimators': 109, 'max_depth': 8}. Best is trial 2 with value: 16.63570809931393.\n",
            "[I 2024-02-07 19:15:53,398] Trial 3 finished with value: 16.521038034199357 and parameters: {'n_estimators': 182, 'max_depth': 8}. Best is trial 3 with value: 16.521038034199357.\n",
            "[I 2024-02-07 19:15:53,719] Trial 4 finished with value: 16.379254558961524 and parameters: {'n_estimators': 120, 'max_depth': 9}. Best is trial 4 with value: 16.379254558961524.\n",
            "[I 2024-02-07 19:15:54,120] Trial 5 finished with value: 16.564740983957922 and parameters: {'n_estimators': 141, 'max_depth': 9}. Best is trial 4 with value: 16.379254558961524.\n",
            "[I 2024-02-07 19:15:54,408] Trial 6 finished with value: 18.000866839284047 and parameters: {'n_estimators': 112, 'max_depth': 3}. Best is trial 4 with value: 16.379254558961524.\n",
            "[I 2024-02-07 19:15:54,827] Trial 7 finished with value: 16.81536018411056 and parameters: {'n_estimators': 168, 'max_depth': 6}. Best is trial 4 with value: 16.379254558961524.\n",
            "[I 2024-02-07 19:15:55,188] Trial 8 finished with value: 16.510534070610706 and parameters: {'n_estimators': 124, 'max_depth': 7}. Best is trial 4 with value: 16.379254558961524.\n",
            "[I 2024-02-07 19:15:55,423] Trial 9 finished with value: 16.7059754932126 and parameters: {'n_estimators': 146, 'max_depth': 5}. Best is trial 4 with value: 16.379254558961524.\n",
            "[I 2024-02-07 19:15:55,703] Trial 10 finished with value: 24.31680655433898 and parameters: {'n_estimators': 196, 'max_depth': 1}. Best is trial 4 with value: 16.379254558961524.\n",
            "[I 2024-02-07 19:15:55,922] Trial 11 finished with value: 16.50710841617167 and parameters: {'n_estimators': 129, 'max_depth': 10}. Best is trial 4 with value: 16.379254558961524.\n",
            "[I 2024-02-07 19:15:56,155] Trial 12 finished with value: 16.589295190645405 and parameters: {'n_estimators': 133, 'max_depth': 10}. Best is trial 4 with value: 16.379254558961524.\n",
            "[I 2024-02-07 19:15:56,433] Trial 13 finished with value: 16.51578385004258 and parameters: {'n_estimators': 160, 'max_depth': 10}. Best is trial 4 with value: 16.379254558961524.\n",
            "[I 2024-02-07 19:15:56,658] Trial 14 finished with value: 16.48497224839943 and parameters: {'n_estimators': 131, 'max_depth': 10}. Best is trial 4 with value: 16.379254558961524.\n",
            "[I 2024-02-07 19:15:56,917] Trial 15 finished with value: 16.383372318246646 and parameters: {'n_estimators': 157, 'max_depth': 8}. Best is trial 4 with value: 16.379254558961524.\n",
            "[I 2024-02-07 19:15:57,182] Trial 16 finished with value: 16.368823473858853 and parameters: {'n_estimators': 158, 'max_depth': 8}. Best is trial 16 with value: 16.368823473858853.\n",
            "[I 2024-02-07 19:15:57,464] Trial 17 finished with value: 16.75840343744335 and parameters: {'n_estimators': 173, 'max_depth': 7}. Best is trial 16 with value: 16.368823473858853.\n",
            "[I 2024-02-07 19:15:57,711] Trial 18 finished with value: 16.440486985532353 and parameters: {'n_estimators': 151, 'max_depth': 9}. Best is trial 16 with value: 16.368823473858853.\n",
            "[I 2024-02-07 19:15:57,995] Trial 19 finished with value: 16.783409795002548 and parameters: {'n_estimators': 177, 'max_depth': 7}. Best is trial 16 with value: 16.368823473858853.\n",
            "[I 2024-02-07 19:15:58,325] Trial 20 finished with value: 16.53463614189566 and parameters: {'n_estimators': 195, 'max_depth': 9}. Best is trial 16 with value: 16.368823473858853.\n",
            "[I 2024-02-07 19:15:58,578] Trial 21 finished with value: 16.383372318246646 and parameters: {'n_estimators': 157, 'max_depth': 8}. Best is trial 16 with value: 16.368823473858853.\n",
            "[I 2024-02-07 19:15:58,854] Trial 22 finished with value: 16.43749498735714 and parameters: {'n_estimators': 166, 'max_depth': 8}. Best is trial 16 with value: 16.368823473858853.\n",
            "[I 2024-02-07 19:15:59,096] Trial 23 finished with value: 16.55206916029859 and parameters: {'n_estimators': 143, 'max_depth': 9}. Best is trial 16 with value: 16.368823473858853.\n",
            "[I 2024-02-07 19:15:59,350] Trial 24 finished with value: 16.75736331325643 and parameters: {'n_estimators': 155, 'max_depth': 5}. Best is trial 16 with value: 16.368823473858853.\n",
            "[I 2024-02-07 19:15:59,646] Trial 25 finished with value: 16.752603436083284 and parameters: {'n_estimators': 185, 'max_depth': 7}. Best is trial 16 with value: 16.368823473858853.\n",
            "[I 2024-02-07 19:15:59,876] Trial 26 finished with value: 16.358466305926918 and parameters: {'n_estimators': 138, 'max_depth': 8}. Best is trial 26 with value: 16.358466305926918.\n",
            "[I 2024-02-07 19:16:00,093] Trial 27 finished with value: 16.676015118277594 and parameters: {'n_estimators': 136, 'max_depth': 6}. Best is trial 26 with value: 16.358466305926918.\n",
            "[I 2024-02-07 19:16:00,303] Trial 28 finished with value: 16.61803401874468 and parameters: {'n_estimators': 116, 'max_depth': 9}. Best is trial 26 with value: 16.358466305926918.\n",
            "[I 2024-02-07 19:16:00,477] Trial 29 finished with value: 17.167704589957268 and parameters: {'n_estimators': 103, 'max_depth': 6}. Best is trial 26 with value: 16.358466305926918.\n",
            "[I 2024-02-07 19:16:00,697] Trial 30 finished with value: 16.8493955968122 and parameters: {'n_estimators': 124, 'max_depth': 4}. Best is trial 26 with value: 16.358466305926918.\n",
            "[I 2024-02-07 19:16:00,969] Trial 31 finished with value: 16.41489840457284 and parameters: {'n_estimators': 163, 'max_depth': 8}. Best is trial 26 with value: 16.358466305926918.\n",
            "[I 2024-02-07 19:16:01,212] Trial 32 finished with value: 16.587077844374125 and parameters: {'n_estimators': 149, 'max_depth': 7}. Best is trial 26 with value: 16.358466305926918.\n",
            "[I 2024-02-07 19:16:01,447] Trial 33 finished with value: 16.317487774024315 and parameters: {'n_estimators': 136, 'max_depth': 8}. Best is trial 33 with value: 16.317487774024315.\n",
            "[I 2024-02-07 19:16:01,679] Trial 34 finished with value: 16.571564318635573 and parameters: {'n_estimators': 138, 'max_depth': 9}. Best is trial 33 with value: 16.317487774024315.\n",
            "[I 2024-02-07 19:16:01,896] Trial 35 finished with value: 16.20314220501841 and parameters: {'n_estimators': 126, 'max_depth': 8}. Best is trial 35 with value: 16.20314220501841.\n",
            "[I 2024-02-07 19:16:02,116] Trial 36 finished with value: 16.215294027627227 and parameters: {'n_estimators': 129, 'max_depth': 8}. Best is trial 35 with value: 16.20314220501841.\n",
            "[I 2024-02-07 19:16:02,340] Trial 37 finished with value: 16.435157501529247 and parameters: {'n_estimators': 126, 'max_depth': 7}. Best is trial 35 with value: 16.20314220501841.\n",
            "[I 2024-02-07 19:16:02,539] Trial 38 finished with value: 16.28750021920344 and parameters: {'n_estimators': 117, 'max_depth': 8}. Best is trial 35 with value: 16.20314220501841.\n",
            "[I 2024-02-07 19:16:02,738] Trial 39 finished with value: 17.210492283503388 and parameters: {'n_estimators': 107, 'max_depth': 6}. Best is trial 35 with value: 16.20314220501841.\n",
            "[I 2024-02-07 19:16:02,910] Trial 40 finished with value: 24.465014066551653 and parameters: {'n_estimators': 117, 'max_depth': 1}. Best is trial 35 with value: 16.20314220501841.\n",
            "[I 2024-02-07 19:16:03,121] Trial 41 finished with value: 16.22567348419298 and parameters: {'n_estimators': 121, 'max_depth': 8}. Best is trial 35 with value: 16.20314220501841.\n",
            "[I 2024-02-07 19:16:03,313] Trial 42 finished with value: 16.711622200193574 and parameters: {'n_estimators': 113, 'max_depth': 7}. Best is trial 35 with value: 16.20314220501841.\n",
            "[I 2024-02-07 19:16:03,541] Trial 43 finished with value: 16.1279219616204 and parameters: {'n_estimators': 125, 'max_depth': 8}. Best is trial 43 with value: 16.1279219616204.\n",
            "[I 2024-02-07 19:16:03,749] Trial 44 finished with value: 16.414542787631582 and parameters: {'n_estimators': 119, 'max_depth': 9}. Best is trial 43 with value: 16.1279219616204.\n",
            "[I 2024-02-07 19:16:03,923] Trial 45 finished with value: 16.735491727880017 and parameters: {'n_estimators': 101, 'max_depth': 8}. Best is trial 43 with value: 16.1279219616204.\n",
            "[I 2024-02-07 19:16:04,093] Trial 46 finished with value: 18.07629107108438 and parameters: {'n_estimators': 108, 'max_depth': 3}. Best is trial 43 with value: 16.1279219616204.\n",
            "[I 2024-02-07 19:16:04,306] Trial 47 finished with value: 16.647840082847722 and parameters: {'n_estimators': 128, 'max_depth': 5}. Best is trial 43 with value: 16.1279219616204.\n",
            "[I 2024-02-07 19:16:04,521] Trial 48 finished with value: 16.597074917849035 and parameters: {'n_estimators': 122, 'max_depth': 10}. Best is trial 43 with value: 16.1279219616204.\n",
            "[I 2024-02-07 19:16:04,710] Trial 49 finished with value: 16.645988847016994 and parameters: {'n_estimators': 113, 'max_depth': 9}. Best is trial 43 with value: 16.1279219616204.\n",
            "[I 2024-02-07 19:16:04,938] Trial 50 finished with value: 16.604152983323853 and parameters: {'n_estimators': 133, 'max_depth': 7}. Best is trial 43 with value: 16.1279219616204.\n",
            "[I 2024-02-07 19:16:05,149] Trial 51 finished with value: 16.280381345692497 and parameters: {'n_estimators': 122, 'max_depth': 8}. Best is trial 43 with value: 16.1279219616204.\n",
            "[I 2024-02-07 19:16:05,471] Trial 52 finished with value: 16.215294027627227 and parameters: {'n_estimators': 129, 'max_depth': 8}. Best is trial 43 with value: 16.1279219616204.\n",
            "[I 2024-02-07 19:16:05,835] Trial 53 finished with value: 16.197005812853735 and parameters: {'n_estimators': 130, 'max_depth': 8}. Best is trial 43 with value: 16.1279219616204.\n",
            "[I 2024-02-07 19:16:06,190] Trial 54 finished with value: 16.490367365362324 and parameters: {'n_estimators': 129, 'max_depth': 7}. Best is trial 43 with value: 16.1279219616204.\n",
            "[I 2024-02-07 19:16:06,596] Trial 55 finished with value: 16.55206916029859 and parameters: {'n_estimators': 143, 'max_depth': 9}. Best is trial 43 with value: 16.1279219616204.\n",
            "[I 2024-02-07 19:16:06,952] Trial 56 finished with value: 16.225193635688857 and parameters: {'n_estimators': 131, 'max_depth': 8}. Best is trial 43 with value: 16.1279219616204.\n",
            "[I 2024-02-07 19:16:07,304] Trial 57 finished with value: 16.589295190645405 and parameters: {'n_estimators': 133, 'max_depth': 10}. Best is trial 43 with value: 16.1279219616204.\n",
            "[I 2024-02-07 19:16:07,662] Trial 58 finished with value: 16.3950769367667 and parameters: {'n_estimators': 126, 'max_depth': 9}. Best is trial 43 with value: 16.1279219616204.\n",
            "[I 2024-02-07 19:16:08,010] Trial 59 finished with value: 19.382365258430866 and parameters: {'n_estimators': 131, 'max_depth': 2}. Best is trial 43 with value: 16.1279219616204.\n",
            "[I 2024-02-07 19:16:08,419] Trial 60 finished with value: 16.353182276891793 and parameters: {'n_estimators': 147, 'max_depth': 8}. Best is trial 43 with value: 16.1279219616204.\n",
            "[I 2024-02-07 19:16:08,779] Trial 61 finished with value: 16.524521065207338 and parameters: {'n_estimators': 121, 'max_depth': 7}. Best is trial 43 with value: 16.1279219616204.\n",
            "[I 2024-02-07 19:16:09,043] Trial 62 finished with value: 16.1279219616204 and parameters: {'n_estimators': 125, 'max_depth': 8}. Best is trial 43 with value: 16.1279219616204.\n",
            "[I 2024-02-07 19:16:09,277] Trial 63 finished with value: 16.36491200192392 and parameters: {'n_estimators': 141, 'max_depth': 8}. Best is trial 43 with value: 16.1279219616204.\n",
            "[I 2024-02-07 19:16:09,496] Trial 64 finished with value: 16.3950769367667 and parameters: {'n_estimators': 126, 'max_depth': 9}. Best is trial 43 with value: 16.1279219616204.\n",
            "[I 2024-02-07 19:16:09,738] Trial 65 finished with value: 16.197005812853735 and parameters: {'n_estimators': 130, 'max_depth': 8}. Best is trial 43 with value: 16.1279219616204.\n",
            "[I 2024-02-07 19:16:09,968] Trial 66 finished with value: 16.67263687800189 and parameters: {'n_estimators': 135, 'max_depth': 7}. Best is trial 43 with value: 16.1279219616204.\n",
            "[I 2024-02-07 19:16:10,186] Trial 67 finished with value: 16.400628887153346 and parameters: {'n_estimators': 128, 'max_depth': 9}. Best is trial 43 with value: 16.1279219616204.\n",
            "[I 2024-02-07 19:16:10,427] Trial 68 finished with value: 16.323254129826278 and parameters: {'n_estimators': 140, 'max_depth': 8}. Best is trial 43 with value: 16.1279219616204.\n",
            "[I 2024-02-07 19:16:10,631] Trial 69 finished with value: 16.750996916545592 and parameters: {'n_estimators': 114, 'max_depth': 6}. Best is trial 43 with value: 16.1279219616204.\n",
            "[I 2024-02-07 19:16:10,862] Trial 70 finished with value: 16.510534070610706 and parameters: {'n_estimators': 124, 'max_depth': 7}. Best is trial 43 with value: 16.1279219616204.\n",
            "[I 2024-02-07 19:16:11,092] Trial 71 finished with value: 16.337672697789014 and parameters: {'n_estimators': 133, 'max_depth': 8}. Best is trial 43 with value: 16.1279219616204.\n",
            "[I 2024-02-07 19:16:11,317] Trial 72 finished with value: 16.225193635688857 and parameters: {'n_estimators': 131, 'max_depth': 8}. Best is trial 43 with value: 16.1279219616204.\n",
            "[I 2024-02-07 19:16:11,550] Trial 73 finished with value: 16.358466305926918 and parameters: {'n_estimators': 138, 'max_depth': 8}. Best is trial 43 with value: 16.1279219616204.\n",
            "[I 2024-02-07 19:16:11,771] Trial 74 finished with value: 16.51569183382972 and parameters: {'n_estimators': 119, 'max_depth': 7}. Best is trial 43 with value: 16.1279219616204.\n",
            "[I 2024-02-07 19:16:11,992] Trial 75 finished with value: 16.20314220501841 and parameters: {'n_estimators': 126, 'max_depth': 8}. Best is trial 43 with value: 16.1279219616204.\n",
            "[I 2024-02-07 19:16:12,215] Trial 76 finished with value: 16.367144970365548 and parameters: {'n_estimators': 125, 'max_depth': 9}. Best is trial 43 with value: 16.1279219616204.\n",
            "[I 2024-02-07 19:16:12,465] Trial 77 finished with value: 16.644803736513623 and parameters: {'n_estimators': 144, 'max_depth': 7}. Best is trial 43 with value: 16.1279219616204.\n",
            "[I 2024-02-07 19:16:12,673] Trial 78 finished with value: 16.377390887158565 and parameters: {'n_estimators': 116, 'max_depth': 8}. Best is trial 43 with value: 16.1279219616204.\n",
            "[I 2024-02-07 19:16:12,889] Trial 79 finished with value: 16.798856877187923 and parameters: {'n_estimators': 110, 'max_depth': 9}. Best is trial 43 with value: 16.1279219616204.\n",
            "[I 2024-02-07 19:16:13,103] Trial 80 finished with value: 16.209073207975873 and parameters: {'n_estimators': 128, 'max_depth': 8}. Best is trial 43 with value: 16.1279219616204.\n",
            "[I 2024-02-07 19:16:13,309] Trial 81 finished with value: 16.22537313062332 and parameters: {'n_estimators': 123, 'max_depth': 8}. Best is trial 43 with value: 16.1279219616204.\n",
            "[I 2024-02-07 19:16:13,518] Trial 82 finished with value: 16.20885923685076 and parameters: {'n_estimators': 127, 'max_depth': 8}. Best is trial 43 with value: 16.1279219616204.\n",
            "[I 2024-02-07 19:16:13,734] Trial 83 finished with value: 16.453140265186274 and parameters: {'n_estimators': 127, 'max_depth': 7}. Best is trial 43 with value: 16.1279219616204.\n",
            "[I 2024-02-07 19:16:13,982] Trial 84 finished with value: 16.385998249544475 and parameters: {'n_estimators': 135, 'max_depth': 8}. Best is trial 43 with value: 16.1279219616204.\n",
            "[I 2024-02-07 19:16:14,184] Trial 85 finished with value: 16.491211236901243 and parameters: {'n_estimators': 118, 'max_depth': 9}. Best is trial 43 with value: 16.1279219616204.\n",
            "[I 2024-02-07 19:16:14,393] Trial 86 finished with value: 16.19574105294748 and parameters: {'n_estimators': 124, 'max_depth': 8}. Best is trial 43 with value: 16.1279219616204.\n",
            "[I 2024-02-07 19:16:14,602] Trial 87 finished with value: 16.22537313062332 and parameters: {'n_estimators': 123, 'max_depth': 8}. Best is trial 43 with value: 16.1279219616204.\n",
            "[I 2024-02-07 19:16:14,837] Trial 88 finished with value: 16.379254558961524 and parameters: {'n_estimators': 120, 'max_depth': 9}. Best is trial 43 with value: 16.1279219616204.\n",
            "[I 2024-02-07 19:16:15,056] Trial 89 finished with value: 16.49471852824332 and parameters: {'n_estimators': 131, 'max_depth': 7}. Best is trial 43 with value: 16.1279219616204.\n",
            "[I 2024-02-07 19:16:15,289] Trial 90 finished with value: 16.377536149336517 and parameters: {'n_estimators': 137, 'max_depth': 8}. Best is trial 43 with value: 16.1279219616204.\n",
            "[I 2024-02-07 19:16:15,512] Trial 91 finished with value: 16.215294027627227 and parameters: {'n_estimators': 129, 'max_depth': 8}. Best is trial 43 with value: 16.1279219616204.\n",
            "[I 2024-02-07 19:16:15,739] Trial 92 finished with value: 16.20314220501841 and parameters: {'n_estimators': 126, 'max_depth': 8}. Best is trial 43 with value: 16.1279219616204.\n",
            "[I 2024-02-07 19:16:15,969] Trial 93 finished with value: 16.1279219616204 and parameters: {'n_estimators': 125, 'max_depth': 8}. Best is trial 43 with value: 16.1279219616204.\n",
            "[I 2024-02-07 19:16:16,195] Trial 94 finished with value: 16.446447115151056 and parameters: {'n_estimators': 124, 'max_depth': 9}. Best is trial 43 with value: 16.1279219616204.\n",
            "[I 2024-02-07 19:16:16,390] Trial 95 finished with value: 16.3316863365185 and parameters: {'n_estimators': 115, 'max_depth': 8}. Best is trial 43 with value: 16.1279219616204.\n",
            "[I 2024-02-07 19:16:16,607] Trial 96 finished with value: 16.479708420480975 and parameters: {'n_estimators': 120, 'max_depth': 7}. Best is trial 43 with value: 16.1279219616204.\n",
            "[I 2024-02-07 19:16:16,806] Trial 97 finished with value: 16.733399205320936 and parameters: {'n_estimators': 111, 'max_depth': 9}. Best is trial 43 with value: 16.1279219616204.\n",
            "[I 2024-02-07 19:16:17,039] Trial 98 finished with value: 16.478170814004383 and parameters: {'n_estimators': 126, 'max_depth': 10}. Best is trial 43 with value: 16.1279219616204.\n",
            "[I 2024-02-07 19:16:17,248] Trial 99 finished with value: 16.57818934217504 and parameters: {'n_estimators': 122, 'max_depth': 7}. Best is trial 43 with value: 16.1279219616204.\n"
          ]
        },
        {
          "output_type": "display_data",
          "data": {
            "text/html": [
              "<html>\n",
              "<head><meta charset=\"utf-8\" /></head>\n",
              "<body>\n",
              "    <div>            <script src=\"https://cdnjs.cloudflare.com/ajax/libs/mathjax/2.7.5/MathJax.js?config=TeX-AMS-MML_SVG\"></script><script type=\"text/javascript\">if (window.MathJax && window.MathJax.Hub && window.MathJax.Hub.Config) {window.MathJax.Hub.Config({SVG: {font: \"STIX-Web\"}});}</script>                <script type=\"text/javascript\">window.PlotlyConfig = {MathJaxConfig: 'local'};</script>\n",
              "        <script charset=\"utf-8\" src=\"https://cdn.plot.ly/plotly-2.24.1.min.js\"></script>                <div id=\"9f3d5a03-9818-4921-801f-7915395b3769\" class=\"plotly-graph-div\" style=\"height:525px; width:100%;\"></div>            <script type=\"text/javascript\">                                    window.PLOTLYENV=window.PLOTLYENV || {};                                    if (document.getElementById(\"9f3d5a03-9818-4921-801f-7915395b3769\")) {                    Plotly.newPlot(                        \"9f3d5a03-9818-4921-801f-7915395b3769\",                        [{\"mode\":\"markers\",\"name\":\"Objective Value\",\"x\":[0,1,2,3,4,5,6,7,8,9,10,11,12,13,14,15,16,17,18,19,20,21,22,23,24,25,26,27,28,29,30,31,32,33,34,35,36,37,38,39,40,41,42,43,44,45,46,47,48,49,50,51,52,53,54,55,56,57,58,59,60,61,62,63,64,65,66,67,68,69,70,71,72,73,74,75,76,77,78,79,80,81,82,83,84,85,86,87,88,89,90,91,92,93,94,95,96,97,98,99],\"y\":[17.18293406377,16.814654769059587,16.63570809931393,16.521038034199357,16.379254558961524,16.564740983957922,18.000866839284047,16.81536018411056,16.510534070610706,16.7059754932126,24.31680655433898,16.50710841617167,16.589295190645405,16.51578385004258,16.48497224839943,16.383372318246646,16.368823473858853,16.75840343744335,16.440486985532353,16.783409795002548,16.53463614189566,16.383372318246646,16.43749498735714,16.55206916029859,16.75736331325643,16.752603436083284,16.358466305926918,16.676015118277594,16.61803401874468,17.167704589957268,16.8493955968122,16.41489840457284,16.587077844374125,16.317487774024315,16.571564318635573,16.20314220501841,16.215294027627227,16.435157501529247,16.28750021920344,17.210492283503388,24.465014066551653,16.22567348419298,16.711622200193574,16.1279219616204,16.414542787631582,16.735491727880017,18.07629107108438,16.647840082847722,16.597074917849035,16.645988847016994,16.604152983323853,16.280381345692497,16.215294027627227,16.197005812853735,16.490367365362324,16.55206916029859,16.225193635688857,16.589295190645405,16.3950769367667,19.382365258430866,16.353182276891793,16.524521065207338,16.1279219616204,16.36491200192392,16.3950769367667,16.197005812853735,16.67263687800189,16.400628887153346,16.323254129826278,16.750996916545592,16.510534070610706,16.337672697789014,16.225193635688857,16.358466305926918,16.51569183382972,16.20314220501841,16.367144970365548,16.644803736513623,16.377390887158565,16.798856877187923,16.209073207975873,16.22537313062332,16.20885923685076,16.453140265186274,16.385998249544475,16.491211236901243,16.19574105294748,16.22537313062332,16.379254558961524,16.49471852824332,16.377536149336517,16.215294027627227,16.20314220501841,16.1279219616204,16.446447115151056,16.3316863365185,16.479708420480975,16.733399205320936,16.478170814004383,16.57818934217504],\"type\":\"scatter\"},{\"mode\":\"lines\",\"name\":\"Best Value\",\"x\":[0,1,2,3,4,5,6,7,8,9,10,11,12,13,14,15,16,17,18,19,20,21,22,23,24,25,26,27,28,29,30,31,32,33,34,35,36,37,38,39,40,41,42,43,44,45,46,47,48,49,50,51,52,53,54,55,56,57,58,59,60,61,62,63,64,65,66,67,68,69,70,71,72,73,74,75,76,77,78,79,80,81,82,83,84,85,86,87,88,89,90,91,92,93,94,95,96,97,98,99],\"y\":[17.18293406377,16.814654769059587,16.63570809931393,16.521038034199357,16.379254558961524,16.379254558961524,16.379254558961524,16.379254558961524,16.379254558961524,16.379254558961524,16.379254558961524,16.379254558961524,16.379254558961524,16.379254558961524,16.379254558961524,16.379254558961524,16.368823473858853,16.368823473858853,16.368823473858853,16.368823473858853,16.368823473858853,16.368823473858853,16.368823473858853,16.368823473858853,16.368823473858853,16.368823473858853,16.358466305926918,16.358466305926918,16.358466305926918,16.358466305926918,16.358466305926918,16.358466305926918,16.358466305926918,16.317487774024315,16.317487774024315,16.20314220501841,16.20314220501841,16.20314220501841,16.20314220501841,16.20314220501841,16.20314220501841,16.20314220501841,16.20314220501841,16.1279219616204,16.1279219616204,16.1279219616204,16.1279219616204,16.1279219616204,16.1279219616204,16.1279219616204,16.1279219616204,16.1279219616204,16.1279219616204,16.1279219616204,16.1279219616204,16.1279219616204,16.1279219616204,16.1279219616204,16.1279219616204,16.1279219616204,16.1279219616204,16.1279219616204,16.1279219616204,16.1279219616204,16.1279219616204,16.1279219616204,16.1279219616204,16.1279219616204,16.1279219616204,16.1279219616204,16.1279219616204,16.1279219616204,16.1279219616204,16.1279219616204,16.1279219616204,16.1279219616204,16.1279219616204,16.1279219616204,16.1279219616204,16.1279219616204,16.1279219616204,16.1279219616204,16.1279219616204,16.1279219616204,16.1279219616204,16.1279219616204,16.1279219616204,16.1279219616204,16.1279219616204,16.1279219616204,16.1279219616204,16.1279219616204,16.1279219616204,16.1279219616204,16.1279219616204,16.1279219616204,16.1279219616204,16.1279219616204,16.1279219616204,16.1279219616204],\"type\":\"scatter\"},{\"marker\":{\"color\":\"#cccccc\"},\"mode\":\"markers\",\"name\":\"Infeasible Trial\",\"showlegend\":false,\"x\":[],\"y\":[],\"type\":\"scatter\"}],                        {\"title\":{\"text\":\"Optimization History Plot\"},\"xaxis\":{\"title\":{\"text\":\"Trial\"}},\"yaxis\":{\"title\":{\"text\":\"Objective Value\"}},\"template\":{\"data\":{\"histogram2dcontour\":[{\"type\":\"histogram2dcontour\",\"colorbar\":{\"outlinewidth\":0,\"ticks\":\"\"},\"colorscale\":[[0.0,\"#0d0887\"],[0.1111111111111111,\"#46039f\"],[0.2222222222222222,\"#7201a8\"],[0.3333333333333333,\"#9c179e\"],[0.4444444444444444,\"#bd3786\"],[0.5555555555555556,\"#d8576b\"],[0.6666666666666666,\"#ed7953\"],[0.7777777777777778,\"#fb9f3a\"],[0.8888888888888888,\"#fdca26\"],[1.0,\"#f0f921\"]]}],\"choropleth\":[{\"type\":\"choropleth\",\"colorbar\":{\"outlinewidth\":0,\"ticks\":\"\"}}],\"histogram2d\":[{\"type\":\"histogram2d\",\"colorbar\":{\"outlinewidth\":0,\"ticks\":\"\"},\"colorscale\":[[0.0,\"#0d0887\"],[0.1111111111111111,\"#46039f\"],[0.2222222222222222,\"#7201a8\"],[0.3333333333333333,\"#9c179e\"],[0.4444444444444444,\"#bd3786\"],[0.5555555555555556,\"#d8576b\"],[0.6666666666666666,\"#ed7953\"],[0.7777777777777778,\"#fb9f3a\"],[0.8888888888888888,\"#fdca26\"],[1.0,\"#f0f921\"]]}],\"heatmap\":[{\"type\":\"heatmap\",\"colorbar\":{\"outlinewidth\":0,\"ticks\":\"\"},\"colorscale\":[[0.0,\"#0d0887\"],[0.1111111111111111,\"#46039f\"],[0.2222222222222222,\"#7201a8\"],[0.3333333333333333,\"#9c179e\"],[0.4444444444444444,\"#bd3786\"],[0.5555555555555556,\"#d8576b\"],[0.6666666666666666,\"#ed7953\"],[0.7777777777777778,\"#fb9f3a\"],[0.8888888888888888,\"#fdca26\"],[1.0,\"#f0f921\"]]}],\"heatmapgl\":[{\"type\":\"heatmapgl\",\"colorbar\":{\"outlinewidth\":0,\"ticks\":\"\"},\"colorscale\":[[0.0,\"#0d0887\"],[0.1111111111111111,\"#46039f\"],[0.2222222222222222,\"#7201a8\"],[0.3333333333333333,\"#9c179e\"],[0.4444444444444444,\"#bd3786\"],[0.5555555555555556,\"#d8576b\"],[0.6666666666666666,\"#ed7953\"],[0.7777777777777778,\"#fb9f3a\"],[0.8888888888888888,\"#fdca26\"],[1.0,\"#f0f921\"]]}],\"contourcarpet\":[{\"type\":\"contourcarpet\",\"colorbar\":{\"outlinewidth\":0,\"ticks\":\"\"}}],\"contour\":[{\"type\":\"contour\",\"colorbar\":{\"outlinewidth\":0,\"ticks\":\"\"},\"colorscale\":[[0.0,\"#0d0887\"],[0.1111111111111111,\"#46039f\"],[0.2222222222222222,\"#7201a8\"],[0.3333333333333333,\"#9c179e\"],[0.4444444444444444,\"#bd3786\"],[0.5555555555555556,\"#d8576b\"],[0.6666666666666666,\"#ed7953\"],[0.7777777777777778,\"#fb9f3a\"],[0.8888888888888888,\"#fdca26\"],[1.0,\"#f0f921\"]]}],\"surface\":[{\"type\":\"surface\",\"colorbar\":{\"outlinewidth\":0,\"ticks\":\"\"},\"colorscale\":[[0.0,\"#0d0887\"],[0.1111111111111111,\"#46039f\"],[0.2222222222222222,\"#7201a8\"],[0.3333333333333333,\"#9c179e\"],[0.4444444444444444,\"#bd3786\"],[0.5555555555555556,\"#d8576b\"],[0.6666666666666666,\"#ed7953\"],[0.7777777777777778,\"#fb9f3a\"],[0.8888888888888888,\"#fdca26\"],[1.0,\"#f0f921\"]]}],\"mesh3d\":[{\"type\":\"mesh3d\",\"colorbar\":{\"outlinewidth\":0,\"ticks\":\"\"}}],\"scatter\":[{\"fillpattern\":{\"fillmode\":\"overlay\",\"size\":10,\"solidity\":0.2},\"type\":\"scatter\"}],\"parcoords\":[{\"type\":\"parcoords\",\"line\":{\"colorbar\":{\"outlinewidth\":0,\"ticks\":\"\"}}}],\"scatterpolargl\":[{\"type\":\"scatterpolargl\",\"marker\":{\"colorbar\":{\"outlinewidth\":0,\"ticks\":\"\"}}}],\"bar\":[{\"error_x\":{\"color\":\"#2a3f5f\"},\"error_y\":{\"color\":\"#2a3f5f\"},\"marker\":{\"line\":{\"color\":\"#E5ECF6\",\"width\":0.5},\"pattern\":{\"fillmode\":\"overlay\",\"size\":10,\"solidity\":0.2}},\"type\":\"bar\"}],\"scattergeo\":[{\"type\":\"scattergeo\",\"marker\":{\"colorbar\":{\"outlinewidth\":0,\"ticks\":\"\"}}}],\"scatterpolar\":[{\"type\":\"scatterpolar\",\"marker\":{\"colorbar\":{\"outlinewidth\":0,\"ticks\":\"\"}}}],\"histogram\":[{\"marker\":{\"pattern\":{\"fillmode\":\"overlay\",\"size\":10,\"solidity\":0.2}},\"type\":\"histogram\"}],\"scattergl\":[{\"type\":\"scattergl\",\"marker\":{\"colorbar\":{\"outlinewidth\":0,\"ticks\":\"\"}}}],\"scatter3d\":[{\"type\":\"scatter3d\",\"line\":{\"colorbar\":{\"outlinewidth\":0,\"ticks\":\"\"}},\"marker\":{\"colorbar\":{\"outlinewidth\":0,\"ticks\":\"\"}}}],\"scattermapbox\":[{\"type\":\"scattermapbox\",\"marker\":{\"colorbar\":{\"outlinewidth\":0,\"ticks\":\"\"}}}],\"scatterternary\":[{\"type\":\"scatterternary\",\"marker\":{\"colorbar\":{\"outlinewidth\":0,\"ticks\":\"\"}}}],\"scattercarpet\":[{\"type\":\"scattercarpet\",\"marker\":{\"colorbar\":{\"outlinewidth\":0,\"ticks\":\"\"}}}],\"carpet\":[{\"aaxis\":{\"endlinecolor\":\"#2a3f5f\",\"gridcolor\":\"white\",\"linecolor\":\"white\",\"minorgridcolor\":\"white\",\"startlinecolor\":\"#2a3f5f\"},\"baxis\":{\"endlinecolor\":\"#2a3f5f\",\"gridcolor\":\"white\",\"linecolor\":\"white\",\"minorgridcolor\":\"white\",\"startlinecolor\":\"#2a3f5f\"},\"type\":\"carpet\"}],\"table\":[{\"cells\":{\"fill\":{\"color\":\"#EBF0F8\"},\"line\":{\"color\":\"white\"}},\"header\":{\"fill\":{\"color\":\"#C8D4E3\"},\"line\":{\"color\":\"white\"}},\"type\":\"table\"}],\"barpolar\":[{\"marker\":{\"line\":{\"color\":\"#E5ECF6\",\"width\":0.5},\"pattern\":{\"fillmode\":\"overlay\",\"size\":10,\"solidity\":0.2}},\"type\":\"barpolar\"}],\"pie\":[{\"automargin\":true,\"type\":\"pie\"}]},\"layout\":{\"autotypenumbers\":\"strict\",\"colorway\":[\"#636efa\",\"#EF553B\",\"#00cc96\",\"#ab63fa\",\"#FFA15A\",\"#19d3f3\",\"#FF6692\",\"#B6E880\",\"#FF97FF\",\"#FECB52\"],\"font\":{\"color\":\"#2a3f5f\"},\"hovermode\":\"closest\",\"hoverlabel\":{\"align\":\"left\"},\"paper_bgcolor\":\"white\",\"plot_bgcolor\":\"#E5ECF6\",\"polar\":{\"bgcolor\":\"#E5ECF6\",\"angularaxis\":{\"gridcolor\":\"white\",\"linecolor\":\"white\",\"ticks\":\"\"},\"radialaxis\":{\"gridcolor\":\"white\",\"linecolor\":\"white\",\"ticks\":\"\"}},\"ternary\":{\"bgcolor\":\"#E5ECF6\",\"aaxis\":{\"gridcolor\":\"white\",\"linecolor\":\"white\",\"ticks\":\"\"},\"baxis\":{\"gridcolor\":\"white\",\"linecolor\":\"white\",\"ticks\":\"\"},\"caxis\":{\"gridcolor\":\"white\",\"linecolor\":\"white\",\"ticks\":\"\"}},\"coloraxis\":{\"colorbar\":{\"outlinewidth\":0,\"ticks\":\"\"}},\"colorscale\":{\"sequential\":[[0.0,\"#0d0887\"],[0.1111111111111111,\"#46039f\"],[0.2222222222222222,\"#7201a8\"],[0.3333333333333333,\"#9c179e\"],[0.4444444444444444,\"#bd3786\"],[0.5555555555555556,\"#d8576b\"],[0.6666666666666666,\"#ed7953\"],[0.7777777777777778,\"#fb9f3a\"],[0.8888888888888888,\"#fdca26\"],[1.0,\"#f0f921\"]],\"sequentialminus\":[[0.0,\"#0d0887\"],[0.1111111111111111,\"#46039f\"],[0.2222222222222222,\"#7201a8\"],[0.3333333333333333,\"#9c179e\"],[0.4444444444444444,\"#bd3786\"],[0.5555555555555556,\"#d8576b\"],[0.6666666666666666,\"#ed7953\"],[0.7777777777777778,\"#fb9f3a\"],[0.8888888888888888,\"#fdca26\"],[1.0,\"#f0f921\"]],\"diverging\":[[0,\"#8e0152\"],[0.1,\"#c51b7d\"],[0.2,\"#de77ae\"],[0.3,\"#f1b6da\"],[0.4,\"#fde0ef\"],[0.5,\"#f7f7f7\"],[0.6,\"#e6f5d0\"],[0.7,\"#b8e186\"],[0.8,\"#7fbc41\"],[0.9,\"#4d9221\"],[1,\"#276419\"]]},\"xaxis\":{\"gridcolor\":\"white\",\"linecolor\":\"white\",\"ticks\":\"\",\"title\":{\"standoff\":15},\"zerolinecolor\":\"white\",\"automargin\":true,\"zerolinewidth\":2},\"yaxis\":{\"gridcolor\":\"white\",\"linecolor\":\"white\",\"ticks\":\"\",\"title\":{\"standoff\":15},\"zerolinecolor\":\"white\",\"automargin\":true,\"zerolinewidth\":2},\"scene\":{\"xaxis\":{\"backgroundcolor\":\"#E5ECF6\",\"gridcolor\":\"white\",\"linecolor\":\"white\",\"showbackground\":true,\"ticks\":\"\",\"zerolinecolor\":\"white\",\"gridwidth\":2},\"yaxis\":{\"backgroundcolor\":\"#E5ECF6\",\"gridcolor\":\"white\",\"linecolor\":\"white\",\"showbackground\":true,\"ticks\":\"\",\"zerolinecolor\":\"white\",\"gridwidth\":2},\"zaxis\":{\"backgroundcolor\":\"#E5ECF6\",\"gridcolor\":\"white\",\"linecolor\":\"white\",\"showbackground\":true,\"ticks\":\"\",\"zerolinecolor\":\"white\",\"gridwidth\":2}},\"shapedefaults\":{\"line\":{\"color\":\"#2a3f5f\"}},\"annotationdefaults\":{\"arrowcolor\":\"#2a3f5f\",\"arrowhead\":0,\"arrowwidth\":1},\"geo\":{\"bgcolor\":\"white\",\"landcolor\":\"#E5ECF6\",\"subunitcolor\":\"white\",\"showland\":true,\"showlakes\":true,\"lakecolor\":\"white\"},\"title\":{\"x\":0.05},\"mapbox\":{\"style\":\"light\"}}}},                        {\"responsive\": true}                    ).then(function(){\n",
              "                            \n",
              "var gd = document.getElementById('9f3d5a03-9818-4921-801f-7915395b3769');\n",
              "var x = new MutationObserver(function (mutations, observer) {{\n",
              "        var display = window.getComputedStyle(gd).display;\n",
              "        if (!display || display === 'none') {{\n",
              "            console.log([gd, 'removed!']);\n",
              "            Plotly.purge(gd);\n",
              "            observer.disconnect();\n",
              "        }}\n",
              "}});\n",
              "\n",
              "// Listen for the removal of the full notebook cells\n",
              "var notebookContainer = gd.closest('#notebook-container');\n",
              "if (notebookContainer) {{\n",
              "    x.observe(notebookContainer, {childList: true});\n",
              "}}\n",
              "\n",
              "// Listen for the clearing of the current output cell\n",
              "var outputEl = gd.closest('.output');\n",
              "if (outputEl) {{\n",
              "    x.observe(outputEl, {childList: true});\n",
              "}}\n",
              "\n",
              "                        })                };                            </script>        </div>\n",
              "</body>\n",
              "</html>"
            ]
          },
          "metadata": {}
        }
      ]
    },
    {
      "cell_type": "markdown",
      "source": [
        "Evauleringer av beste modell"
      ],
      "metadata": {
        "id": "QlsyU7zY7ADP"
      }
    },
    {
      "cell_type": "code",
      "source": [
        "def detailed_objective(trial):\n",
        "  parametere = {\n",
        "      'n_estimators': trial.suggest_int('n_estimators', 100, 200),\n",
        "      'max_depth': trial.suggest_int('max_depth', 1, 10)\n",
        "  }\n",
        "  rf_pipeline = Pipeline([\n",
        "      ('skalerer', StandardScaler()),\n",
        "      ('modell', RandomForestRegressor(**parametere, random_state=random_seed))\n",
        "  ])\n",
        "\n",
        "  rf_pipeline.fit(X_trening, y_trening)\n",
        "  y_test_prediksjon = rf_pipeline.predict(X_test)\n",
        "\n",
        "  mse = mean_squared_error(y_test, y_test_prediksjon)\n",
        "  r2 = r2_score(y_test, y_test_prediksjon)\n",
        "\n",
        "  return mse, r2\n",
        "\n",
        "mse_resultat = detailed_objective(study.best_trial)[0]\n",
        "r2_resultat = detailed_objective(study.best_trial)[1]\n",
        "\n",
        "print(\"Beste hyperparametere for RandomForestRegressor: {}\".format(study.best_params))\n",
        "print(\"MSE: {}, og R^2: {}\".format(mse_resultat, r2_resultat))"
      ],
      "metadata": {
        "colab": {
          "base_uri": "https://localhost:8080/"
        },
        "id": "JrxN1-YQ7FUe",
        "outputId": "7db21ffd-1b68-4b03-bbfb-8d1ed9c6be0a"
      },
      "execution_count": 14,
      "outputs": [
        {
          "output_type": "stream",
          "name": "stdout",
          "text": [
            "Beste hyperparametere for RandomForestRegressor: {'n_estimators': 125, 'max_depth': 8}\n",
            "MSE: 16.1279219616204, og R^2: 0.5359083947487182\n"
          ]
        }
      ]
    }
  ]
}