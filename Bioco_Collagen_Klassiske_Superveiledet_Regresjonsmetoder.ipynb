{
  "nbformat": 4,
  "nbformat_minor": 0,
  "metadata": {
    "colab": {
      "provenance": [],
      "collapsed_sections": [
        "uPtuGVtCJOFj",
        "qhRMrFFHlZuX",
        "21cdLIoaSTR6",
        "wQpsJkKShL_9",
        "RAPTeouaQcXa",
        "Vug3qjOcXxOJ",
        "eSEqU-HmSlHL",
        "MkYKDmvPSlHM",
        "pnhtimdQn6n_",
        "BlPTIszOTrVD",
        "hX9_AnkRUCjj",
        "6QoJbRPZUk6t",
        "ItNTDh9mUpGx"
      ],
      "authorship_tag": "ABX9TyPAn1Zygqu01r/LRa7iUYJO",
      "include_colab_link": true
    },
    "kernelspec": {
      "name": "python3",
      "display_name": "Python 3"
    },
    "language_info": {
      "name": "python"
    },
    "accelerator": "TPU"
  },
  "cells": [
    {
      "cell_type": "markdown",
      "metadata": {
        "id": "view-in-github",
        "colab_type": "text"
      },
      "source": [
        "<a href=\"https://colab.research.google.com/github/PreyPython123/Master-V24-Semiveiledet-Regresjon/blob/Collagen-Pradeep/Bioco_Collagen_Klassiske_Superveiledet_Regresjonsmetoder.ipynb\" target=\"_parent\"><img src=\"https://colab.research.google.com/assets/colab-badge.svg\" alt=\"Open In Colab\"/></a>"
      ]
    },
    {
      "cell_type": "code",
      "execution_count": 1,
      "metadata": {
        "colab": {
          "base_uri": "https://localhost:8080/"
        },
        "id": "nwEzUjnf0xLZ",
        "outputId": "396fbffb-6b01-49c4-9c69-222d66207422"
      },
      "outputs": [
        {
          "output_type": "stream",
          "name": "stdout",
          "text": [
            "Mounted at /content/drive/\n"
          ]
        }
      ],
      "source": [
        "from google.colab import drive\n",
        "drive.mount('/content/drive/')"
      ]
    },
    {
      "cell_type": "markdown",
      "metadata": {
        "id": "uPtuGVtCJOFj"
      },
      "source": [
        "# Importering, lasting og formattering"
      ]
    },
    {
      "cell_type": "markdown",
      "metadata": {
        "id": "ZNeQrag9Rlc_"
      },
      "source": [
        "Lasting av nødvendige bibliotek og pakker"
      ]
    },
    {
      "cell_type": "code",
      "execution_count": 2,
      "metadata": {
        "colab": {
          "base_uri": "https://localhost:8080/"
        },
        "id": "k5u1dZmp6cJ9",
        "outputId": "cf14a9f9-ea21-42a1-f1ac-278f3053d298"
      },
      "outputs": [
        {
          "output_type": "stream",
          "name": "stdout",
          "text": [
            "Collecting optuna\n",
            "  Downloading optuna-3.6.1-py3-none-any.whl (380 kB)\n",
            "\u001b[2K     \u001b[90m━━━━━━━━━━━━━━━━━━━━━━━━━━━━━━━━━━━━━━━━\u001b[0m \u001b[32m380.1/380.1 kB\u001b[0m \u001b[31m2.3 MB/s\u001b[0m eta \u001b[36m0:00:00\u001b[0m\n",
            "\u001b[?25hCollecting alembic>=1.5.0 (from optuna)\n",
            "  Downloading alembic-1.13.1-py3-none-any.whl (233 kB)\n",
            "\u001b[2K     \u001b[90m━━━━━━━━━━━━━━━━━━━━━━━━━━━━━━━━━━━━━━━━\u001b[0m \u001b[32m233.4/233.4 kB\u001b[0m \u001b[31m11.2 MB/s\u001b[0m eta \u001b[36m0:00:00\u001b[0m\n",
            "\u001b[?25hCollecting colorlog (from optuna)\n",
            "  Downloading colorlog-6.8.2-py3-none-any.whl (11 kB)\n",
            "Requirement already satisfied: numpy in /usr/local/lib/python3.10/dist-packages (from optuna) (1.23.5)\n",
            "Requirement already satisfied: packaging>=20.0 in /usr/local/lib/python3.10/dist-packages (from optuna) (24.0)\n",
            "Requirement already satisfied: sqlalchemy>=1.3.0 in /usr/local/lib/python3.10/dist-packages (from optuna) (2.0.29)\n",
            "Requirement already satisfied: tqdm in /usr/local/lib/python3.10/dist-packages (from optuna) (4.66.2)\n",
            "Requirement already satisfied: PyYAML in /usr/local/lib/python3.10/dist-packages (from optuna) (6.0.1)\n",
            "Collecting Mako (from alembic>=1.5.0->optuna)\n",
            "  Downloading Mako-1.3.3-py3-none-any.whl (78 kB)\n",
            "\u001b[2K     \u001b[90m━━━━━━━━━━━━━━━━━━━━━━━━━━━━━━━━━━━━━━━━\u001b[0m \u001b[32m78.8/78.8 kB\u001b[0m \u001b[31m4.8 MB/s\u001b[0m eta \u001b[36m0:00:00\u001b[0m\n",
            "\u001b[?25hRequirement already satisfied: typing-extensions>=4 in /usr/local/lib/python3.10/dist-packages (from alembic>=1.5.0->optuna) (4.11.0)\n",
            "Requirement already satisfied: greenlet!=0.4.17 in /usr/local/lib/python3.10/dist-packages (from sqlalchemy>=1.3.0->optuna) (3.0.3)\n",
            "Requirement already satisfied: MarkupSafe>=0.9.2 in /usr/local/lib/python3.10/dist-packages (from Mako->alembic>=1.5.0->optuna) (2.1.5)\n",
            "Installing collected packages: Mako, colorlog, alembic, optuna\n",
            "Successfully installed Mako-1.3.3 alembic-1.13.1 colorlog-6.8.2 optuna-3.6.1\n"
          ]
        }
      ],
      "source": [
        "!pip install optuna"
      ]
    },
    {
      "cell_type": "markdown",
      "metadata": {
        "id": "jT-YzIdVRply"
      },
      "source": [
        "Importering av nødvendig bibliotek og pakker"
      ]
    },
    {
      "cell_type": "code",
      "execution_count": 3,
      "metadata": {
        "id": "5_s-eJyVk3v0"
      },
      "outputs": [],
      "source": [
        "import pandas as pd\n",
        "import numpy as np\n",
        "import copy\n",
        "import math\n",
        "from statistics import mean, stdev\n",
        "\n",
        "from sklearn.preprocessing import StandardScaler\n",
        "from sklearn.model_selection import RepeatedStratifiedKFold\n",
        "from sklearn.pipeline import Pipeline"
      ]
    },
    {
      "cell_type": "code",
      "source": [
        "# Modeller\n",
        "from sklearn.ensemble import RandomForestRegressor\n",
        "from sklearn.neighbors import KNeighborsRegressor\n",
        "from sklearn.svm import SVR"
      ],
      "metadata": {
        "id": "EH3SQKCIfwnC"
      },
      "execution_count": 4,
      "outputs": []
    },
    {
      "cell_type": "code",
      "execution_count": 5,
      "metadata": {
        "id": "GrgCsoZhmayI"
      },
      "outputs": [],
      "source": [
        "# Hyperoptimalisering\n",
        "import optuna\n",
        "from optuna.visualization import plot_optimization_history\n",
        "\n",
        "# Utelukker utskriving av logg for hyperoptimalisering\n",
        "optuna.logging.set_verbosity(optuna.logging.WARNING)"
      ]
    },
    {
      "cell_type": "markdown",
      "metadata": {
        "id": "qhRMrFFHlZuX"
      },
      "source": [
        "# Egendefinerte moduler"
      ]
    },
    {
      "cell_type": "code",
      "execution_count": 6,
      "metadata": {
        "colab": {
          "base_uri": "https://localhost:8080/"
        },
        "id": "FXgxrml5lg5B",
        "outputId": "66205e15-1318-4bd5-80cc-c37b19a19eec"
      },
      "outputs": [
        {
          "output_type": "stream",
          "name": "stdout",
          "text": [
            "/content\n"
          ]
        }
      ],
      "source": [
        "!pwd\n",
        "! cp /content/drive/MyDrive/MasterV24/GitHub/moduler_trening_validering_testing_evaluering.py /content/moduler_trening_validering_testing_evaluering.py"
      ]
    },
    {
      "cell_type": "code",
      "execution_count": 7,
      "metadata": {
        "id": "tvOTDwKLf0q8"
      },
      "outputs": [],
      "source": [
        "from moduler_trening_validering_testing_evaluering import trening_testsett_oppdeling_enzym\n",
        "from moduler_trening_validering_testing_evaluering import trening_testsett_oppdeling_dag\n",
        "from moduler_trening_validering_testing_evaluering import trening_validering_oppdeling_dag\n",
        "\n",
        "from moduler_trening_validering_testing_evaluering import enzymfordeling\n",
        "from moduler_trening_validering_testing_evaluering import n_splitt_enzym\n",
        "from moduler_trening_validering_testing_evaluering import Resultat_evaluering\n",
        "from moduler_trening_validering_testing_evaluering import res_eval_opt\n",
        "from moduler_trening_validering_testing_evaluering import res_eval\n",
        "from moduler_trening_validering_testing_evaluering import Resultat_dicts"
      ]
    },
    {
      "cell_type": "code",
      "execution_count": 8,
      "metadata": {
        "colab": {
          "base_uri": "https://localhost:8080/"
        },
        "id": "JTs_zHhkiBpK",
        "outputId": "96f1dcce-e821-4b90-c20e-6a04df164053"
      },
      "outputs": [
        {
          "output_type": "stream",
          "name": "stdout",
          "text": [
            "/content\n"
          ]
        }
      ],
      "source": [
        "!pwd\n",
        "! cp /content/drive/MyDrive/MasterV24/GitHub/moduler_optimalisering_evaluering_veiledet.py /content/moduler_optimalisering_evaluering_veiledet.py"
      ]
    },
    {
      "cell_type": "code",
      "execution_count": 9,
      "metadata": {
        "id": "A5GEVrXsiYd-"
      },
      "outputs": [],
      "source": [
        "from moduler_optimalisering_evaluering_veiledet import trening_rfr_enzym\n",
        "from moduler_optimalisering_evaluering_veiledet import trening_knr_enzym\n",
        "from moduler_optimalisering_evaluering_veiledet import trening_svr_enzym\n",
        "\n",
        "from moduler_optimalisering_evaluering_veiledet import trening_rfr_dag\n",
        "from moduler_optimalisering_evaluering_veiledet import trening_knr_dag\n",
        "from moduler_optimalisering_evaluering_veiledet import trening_svr_dag\n",
        "\n",
        "from moduler_optimalisering_evaluering_veiledet import veiledet_modell_evaluering_1\n",
        "from moduler_optimalisering_evaluering_veiledet import veiledet_modell_evaluering_2"
      ]
    },
    {
      "cell_type": "markdown",
      "metadata": {
        "id": "21cdLIoaSTR6"
      },
      "source": [
        "# Importering av relevant data"
      ]
    },
    {
      "cell_type": "code",
      "execution_count": 10,
      "metadata": {
        "id": "XeNQyDPZSTwY"
      },
      "outputs": [],
      "source": [
        "# Velger første kolonne med dato og tid som index\n",
        "data = pd.read_csv('/content/drive/MyDrive/MasterV24/Bioco_data/collagen_data.csv',\n",
        "                            header=0,\n",
        "                            sep=',',\n",
        "                            index_col=0)\n",
        "\n",
        "# Design produksjon\n",
        "data_design = pd.read_csv('/content/drive/MyDrive/MasterV24/Bioco_data/collagen_data_design.csv',\n",
        "                                   header=0,\n",
        "                                   sep=',',\n",
        "                                   index_col=0)\n",
        "\n",
        "# Importerer rådata\n",
        "rå_data = pd.read_csv('/content/drive/MyDrive/MasterV24/BiocoData.csv',\n",
        "                      header=0,\n",
        "                      sep=';',\n",
        "                      index_col=0)\n",
        "\n",
        "# Formatterer index til riktig format og datatype\n",
        "data.index = pd.to_datetime(data.index,\n",
        "                            format='%Y-%m-%d %H:%M:%S')\n",
        "\n",
        "data_design.index = pd.to_datetime(data_design.index,\n",
        "                                   format='%Y-%m-%d %H:%M:%S')\n",
        "\n",
        "rå_data.index = pd.to_datetime(rå_data.index,\n",
        "                               format='%d-%m-%Y %H:%M:%S.%f')"
      ]
    },
    {
      "cell_type": "markdown",
      "metadata": {
        "id": "i_1rn21ITRJ4"
      },
      "source": [
        "# Lagring av resultater"
      ]
    },
    {
      "cell_type": "code",
      "execution_count": 11,
      "metadata": {
        "id": "EGIgRqWETUTx"
      },
      "outputs": [],
      "source": [
        "# Oppretter instans for lagring av resultater\n",
        "res = Resultat_dicts()"
      ]
    },
    {
      "cell_type": "markdown",
      "source": [
        "# Parametere til hyperoptimalisering"
      ],
      "metadata": {
        "id": "frddyr4dN5CW"
      }
    },
    {
      "cell_type": "code",
      "source": [
        "# Antall runder til optimalisering\n",
        "n_runder = 100\n",
        "\n",
        "# Parametervalg for kryssvalidering\n",
        "n_gjentagelser = 5"
      ],
      "metadata": {
        "id": "rlWMJLnyN5XO"
      },
      "execution_count": 12,
      "outputs": []
    },
    {
      "cell_type": "markdown",
      "metadata": {
        "id": "7Wl0nay5j2C4"
      },
      "source": [
        "Tilfeldighetsfrø"
      ]
    },
    {
      "cell_type": "code",
      "execution_count": 13,
      "metadata": {
        "id": "OxTGpIOmj4V7"
      },
      "outputs": [],
      "source": [
        "#Tilfeldighetsfrø\n",
        "random_seed = 2024"
      ]
    },
    {
      "cell_type": "markdown",
      "metadata": {
        "id": "76aWdlTDXp9I"
      },
      "source": [
        "# NIR målinger inkludert"
      ]
    },
    {
      "cell_type": "markdown",
      "metadata": {
        "id": "wQpsJkKShL_9"
      },
      "source": [
        "## Hele datasett"
      ]
    },
    {
      "cell_type": "markdown",
      "source": [
        "## Alternativ 1: 25% Testsett og Hele resterende treningssett"
      ],
      "metadata": {
        "id": "RAPTeouaQcXa"
      }
    },
    {
      "cell_type": "code",
      "source": [
        "# Setter fast testandel og treningsandel\n",
        "test_andel = 0.25\n",
        "trenings_andel = 1.0\n",
        "\n",
        "\n",
        "# Deler datasettet i trening og testsett\n",
        "trening_markert, enzymtyper_markert, testsett, _, _, _, trening\\\n",
        "= trening_testsett_oppdeling_enzym(rå_data,\n",
        "                                   data,\n",
        "                                   test_andel=test_andel)"
      ],
      "metadata": {
        "id": "46il6J17QhFG"
      },
      "execution_count": 14,
      "outputs": []
    },
    {
      "cell_type": "code",
      "source": [
        "# Finner antall av enzymtype med minst antall\n",
        "n_splitt = n_splitt_enzym(rå_data,\n",
        "                          trening_markert)\n",
        "\n",
        "# Modelloptimalisering, trening og evaluering av RFR, KNR og SVR\n",
        "veiledet_modell_evaluering_1(dict_res_opt=res.dict_res_1_hel_opt,\n",
        "                             dict_res=res.dict_res_1_hel,\n",
        "                             treningssett_markert=trening_markert,\n",
        "                             enzymtyper_treningssett_markert=enzymtyper_markert,\n",
        "                             testsett=testsett,\n",
        "                             n_splitt=n_splitt,\n",
        "                             n_gjentagelser=n_gjentagelser,\n",
        "                             n_runder=n_runder,\n",
        "                             test_andel=test_andel,\n",
        "                             trenings_andel=trenings_andel,\n",
        "                             random_seed=random_seed)"
      ],
      "metadata": {
        "id": "-1sgIF1zXb2O"
      },
      "execution_count": null,
      "outputs": []
    },
    {
      "cell_type": "markdown",
      "source": [
        "Lagring av resultater"
      ],
      "metadata": {
        "id": "rhtY8WGq_jcr"
      }
    },
    {
      "cell_type": "code",
      "source": [
        "res_1_hel = pd.DataFrame(res.dict_res_1_hel)\n",
        "res_1_hel_opt = pd.DataFrame(res.dict_res_1_hel_opt)\n",
        "\n",
        "res_1_hel.to_csv('/content/drive/MyDrive/MasterV24/Bioco_data/Resultater/collagen/collagen_resultater_1_hel.csv')\n",
        "res_1_hel_opt.to_csv('/content/drive/MyDrive/MasterV24/Bioco_data/Resultater/collagen/collagen_resultater_1_hel_opt.csv')"
      ],
      "metadata": {
        "id": "ZMEjdoR6_jcr"
      },
      "execution_count": null,
      "outputs": []
    },
    {
      "cell_type": "markdown",
      "source": [
        "Velger beste modell"
      ],
      "metadata": {
        "id": "bwX1RP9pXiU_"
      }
    },
    {
      "cell_type": "code",
      "source": [],
      "metadata": {
        "id": "ioPAXcdFXkf7"
      },
      "execution_count": null,
      "outputs": []
    },
    {
      "cell_type": "markdown",
      "source": [
        "## Alternativ 2: 25% Testsett og resteremde hele treningssett"
      ],
      "metadata": {
        "id": "Vug3qjOcXxOJ"
      }
    },
    {
      "cell_type": "code",
      "source": [
        "# Definerer trenings- og testandel\n",
        "test_andel = 0.25\n",
        "trenings_andel = 1.0\n",
        "\n",
        "# Deler datasettet i trening og testsett\n",
        "trening_markert, testsett, _, trening\\\n",
        "= trening_testsett_oppdeling_dag(rå_data,\n",
        "                                 data,\n",
        "                                 test_andel=test_andel,\n",
        "                                 test_ekskluder_kalkun_kylling=True)"
      ],
      "metadata": {
        "id": "JzADzCY1X0Zx"
      },
      "execution_count": 14,
      "outputs": []
    },
    {
      "cell_type": "code",
      "source": [
        "# Finner antall av enzymtype med minst antall\n",
        "n_splitt = n_splitt_enzym(rå_data,\n",
        "                          trening_markert)\n",
        "\n",
        "# Modelloptimalisering, trening og evaluering av RFR, KNR og SVR\n",
        "veiledet_modell_evaluering_2(dict_res_opt=res.dict_res_2_hel_opt,\n",
        "                             dict_res=res.dict_res_2_hel,\n",
        "                             rå_data=rå_data,\n",
        "                             treningssett_markert=trening_markert,\n",
        "                             testsett=testsett,\n",
        "                             n_splitt=n_splitt,\n",
        "                             n_runder=n_runder,\n",
        "                             test_andel=test_andel,\n",
        "                             trenings_andel=trenings_andel,\n",
        "                             random_seed=random_seed)"
      ],
      "metadata": {
        "id": "-GW5AyE7X5Sh"
      },
      "execution_count": null,
      "outputs": []
    },
    {
      "cell_type": "markdown",
      "source": [
        "Lagring av resultater"
      ],
      "metadata": {
        "id": "fSoCXuldMy4N"
      }
    },
    {
      "cell_type": "code",
      "source": [
        "res_2_hel = pd.DataFrame(res.dict_res_2_hel)\n",
        "res_2_hel_opt = pd.DataFrame(res.dict_res_2_hel_opt)\n",
        "\n",
        "res_2_hel.to_csv('/content/drive/MyDrive/MasterV24/Bioco_data/Resultater/collagen/collagen_resultater_2_hel.csv')\n",
        "res_2_hel_opt.to_csv('/content/drive/MyDrive/MasterV24/Bioco_data/Resultater/collagen/collagen_resultater_2_hel_opt.csv')"
      ],
      "metadata": {
        "id": "NI500ZYUMy4N"
      },
      "execution_count": null,
      "outputs": []
    },
    {
      "cell_type": "markdown",
      "source": [
        "Velger beste modell"
      ],
      "metadata": {
        "id": "nEi8u82bX7Vg"
      }
    },
    {
      "cell_type": "code",
      "source": [],
      "metadata": {
        "id": "qOJEIwcyX9iw"
      },
      "execution_count": null,
      "outputs": []
    },
    {
      "cell_type": "markdown",
      "metadata": {
        "id": "un6mDEGPFIHt"
      },
      "source": [
        "## Designproduksjon"
      ]
    },
    {
      "cell_type": "markdown",
      "source": [
        "## Alternativ 1: 25% Testsett og Hele resterende treningssett"
      ],
      "metadata": {
        "id": "eSEqU-HmSlHL"
      }
    },
    {
      "cell_type": "code",
      "source": [
        "# Setter fast testandel og treningsandel\n",
        "test_andel = 0.25\n",
        "trenings_andel = 1.0\n",
        "\n",
        "# Deler datasettet i trening og testsett\n",
        "trening_markert, enzymtyper_markert, testsett, _, _, _, trening\\\n",
        "= trening_testsett_oppdeling_enzym(rå_data,\n",
        "                                   data_design,\n",
        "                                   test_andel=test_andel)"
      ],
      "metadata": {
        "id": "paelAUWiSlHL"
      },
      "execution_count": null,
      "outputs": []
    },
    {
      "cell_type": "code",
      "source": [
        "# Finner antall av enzymtype med minst antall\n",
        "n_splitt = n_splitt_enzym(rå_data,\n",
        "                          trening_markert)\n",
        "\n",
        "# Modelloptimalisering, trening og evaluering av RFR, KNR og SVR\n",
        "veiledet_modell_evaluering_1(dict_res_opt=res.dict_res_1_design_opt,\n",
        "                             dict_res=res.dict_res_1_design,\n",
        "                             treningssett_markert=trening_markert,\n",
        "                             enzymtyper_treningssett_markert=enzymtyper_markert,\n",
        "                             testsett=testsett,\n",
        "                             n_splitt=n_splitt,\n",
        "                             n_gjentagelser=n_gjentagelser,\n",
        "                             n_runder=n_runder,\n",
        "                             test_andel=test_andel,\n",
        "                             trenings_andel=trenings_andel,\n",
        "                             random_seed=random_seed)"
      ],
      "metadata": {
        "id": "w64oGKlwSlHL"
      },
      "execution_count": null,
      "outputs": []
    },
    {
      "cell_type": "markdown",
      "source": [
        "Lagring av resultater"
      ],
      "metadata": {
        "id": "UeK0ls2PSlHL"
      }
    },
    {
      "cell_type": "code",
      "source": [
        "res_1_design = pd.DataFrame(res.dict_res_1_design)\n",
        "res_1_design_opt = pd.DataFrame(res.dict_res_1_design_opt)\n",
        "\n",
        "res_1_design.to_csv('/content/drive/MyDrive/MasterV24/Bioco_data/Resultater/collagen/collagen_resultater_1_design.csv')\n",
        "res_1_design_opt.to_csv('/content/drive/MyDrive/MasterV24/Bioco_data/Resultater/collagen/collagen_resultater_1_design_opt.csv')"
      ],
      "metadata": {
        "id": "yiX1TwLLSlHM"
      },
      "execution_count": null,
      "outputs": []
    },
    {
      "cell_type": "markdown",
      "source": [
        "Velger beste modell"
      ],
      "metadata": {
        "id": "gJda_0KjSlHM"
      }
    },
    {
      "cell_type": "code",
      "source": [],
      "metadata": {
        "id": "5M495MopSlHM"
      },
      "execution_count": null,
      "outputs": []
    },
    {
      "cell_type": "markdown",
      "source": [
        "## Alternativ 2: 25% Testsett og resteremde hele treningssett"
      ],
      "metadata": {
        "id": "MkYKDmvPSlHM"
      }
    },
    {
      "cell_type": "code",
      "source": [
        "# Definerer trenings- og testandel\n",
        "test_andel = 0.25\n",
        "trenings_andel = 1.0\n",
        "\n",
        "\n",
        "# Deler datasettet i trening og testsett\n",
        "trening_markert, testsett, _, trening\\\n",
        "= trening_testsett_oppdeling_dag(rå_data,\n",
        "                                 data,\n",
        "                                 test_andel=test_andel,\n",
        "                                 test_ekskluder_kalkun_kylling=True)"
      ],
      "metadata": {
        "colab": {
          "base_uri": "https://localhost:8080/"
        },
        "outputId": "28a7ae0c-cf92-44db-f96d-b0e1dd4d0f52",
        "id": "cTrLKPYNSlHM"
      },
      "execution_count": null,
      "outputs": [
        {
          "output_type": "stream",
          "name": "stderr",
          "text": [
            "/usr/local/lib/python3.10/dist-packages/ipykernel/ipkernel.py:283: DeprecationWarning: `should_run_async` will not call `transform_cell` automatically in the future. Please pass the result to `transformed_cell` argument and any exception that happen during thetransform in `preprocessing_exc_tuple` in IPython 7.17 and above.\n",
            "  and should_run_async(code)\n"
          ]
        },
        {
          "output_type": "stream",
          "name": "stdout",
          "text": [
            "Enzymtyper Fordeling: Test\n",
            "            Frekvens  Andel\n",
            "EnzymeCode                 \n",
            "A2                25  27.78\n",
            "B                 16  17.78\n",
            "C                 15  16.67\n",
            "E                 15  16.67\n",
            "D                 13  14.44\n",
            "A1                 6   6.67\n"
          ]
        }
      ]
    },
    {
      "cell_type": "code",
      "source": [
        "# Finner antall av enzymtype med minst antall\n",
        "n_splitt = n_splitt_enzym(rå_data,\n",
        "                          trening_markert)\n",
        "\n",
        "# Modelloptimalisering, trening og evaluering av RFR, KNR og SVR\n",
        "veiledet_modell_evaluering_2(dict_res_opt=res.dict_res_2_design_opt,\n",
        "                             dict_res=res.dict_res_2_design,\n",
        "                             rå_data=rå_data,\n",
        "                             treningssett_markert=trening_markert,\n",
        "                             testsett=testsett,\n",
        "                             n_splitt=n_splitt,\n",
        "                             n_runder=n_runder,\n",
        "                             test_andel=test_andel,\n",
        "                             trenings_andel=trenings_andel,\n",
        "                             random_seed=random_seed)"
      ],
      "metadata": {
        "colab": {
          "base_uri": "https://localhost:8080/"
        },
        "outputId": "04f0f9be-82f8-450a-bc36-1acf9d6ddeb9",
        "id": "O8whKRqkSlHM"
      },
      "execution_count": null,
      "outputs": [
        {
          "output_type": "stream",
          "name": "stderr",
          "text": [
            "/usr/local/lib/python3.10/dist-packages/ipykernel/ipkernel.py:283: DeprecationWarning: `should_run_async` will not call `transform_cell` automatically in the future. Please pass the result to `transformed_cell` argument and any exception that happen during thetransform in `preprocessing_exc_tuple` in IPython 7.17 and above.\n",
            "  and should_run_async(code)\n"
          ]
        }
      ]
    },
    {
      "cell_type": "markdown",
      "source": [
        "Lagring av resultater"
      ],
      "metadata": {
        "id": "VtojBbM_SlHM"
      }
    },
    {
      "cell_type": "code",
      "source": [
        "res_2_design = pd.DataFrame(res.dict_res_2_design)\n",
        "res_2_design_opt = pd.DataFrame(res.dict_res_2_design_opt)\n",
        "\n",
        "res_2_design.to_csv('/content/drive/MyDrive/MasterV24/Bioco_data/Resultater/collagen/collagen_resultater_2_design.csv')\n",
        "res_2_design_opt.to_csv('/content/drive/MyDrive/MasterV24/Bioco_data/Resultater/collagen/collagen_resultater_2_design_opt.csv')"
      ],
      "metadata": {
        "colab": {
          "base_uri": "https://localhost:8080/"
        },
        "outputId": "e5c1bab8-823a-4bfc-f359-bf96ca40dc60",
        "id": "M9chJfcgSlHM"
      },
      "execution_count": null,
      "outputs": [
        {
          "output_type": "stream",
          "name": "stderr",
          "text": [
            "/usr/local/lib/python3.10/dist-packages/ipykernel/ipkernel.py:283: DeprecationWarning: `should_run_async` will not call `transform_cell` automatically in the future. Please pass the result to `transformed_cell` argument and any exception that happen during thetransform in `preprocessing_exc_tuple` in IPython 7.17 and above.\n",
            "  and should_run_async(code)\n"
          ]
        }
      ]
    },
    {
      "cell_type": "markdown",
      "source": [
        "Velger beste modell"
      ],
      "metadata": {
        "id": "_dUt92JQSlHM"
      }
    },
    {
      "cell_type": "code",
      "source": [],
      "metadata": {
        "id": "5EUiy5XlSlHM"
      },
      "execution_count": null,
      "outputs": []
    },
    {
      "cell_type": "markdown",
      "metadata": {
        "id": "pnhtimdQn6n_"
      },
      "source": [
        "# NIR målinger ekskludert"
      ]
    },
    {
      "cell_type": "code",
      "execution_count": null,
      "metadata": {
        "id": "HVRjvKsSn6oM"
      },
      "outputs": [],
      "source": [
        "# Ekskluderer NIR målinger fra datasettene\n",
        "NIR_kolonner = ['NIRfat', 'NIRwater', 'NIRash']\n",
        "data_uten_NIR = data.drop(columns=NIR_kolonner)\n",
        "data_design_uten_NIR = data_design.drop(columns=NIR_kolonner)"
      ]
    },
    {
      "cell_type": "code",
      "source": [
        "# Setter fast testandel og treningsandel\n",
        "test_andel = 0.25\n",
        "trenings_andel = 1.0"
      ],
      "metadata": {
        "id": "pX2IRFPSZRVl"
      },
      "execution_count": null,
      "outputs": []
    },
    {
      "cell_type": "markdown",
      "metadata": {
        "id": "kdiY6z2nTrVD"
      },
      "source": [
        "## Hele datasett"
      ]
    },
    {
      "cell_type": "markdown",
      "source": [
        "## Alternativ 1: 25% Testsett og Hele resterende treningssett"
      ],
      "metadata": {
        "id": "BlPTIszOTrVD"
      }
    },
    {
      "cell_type": "code",
      "source": [
        "# Deler datasettet i trening og testsett\n",
        "trening_markert, enzymtyper_markert, testsett, _, _, _, trening\\\n",
        "= trening_testsett_oppdeling_enzym(rå_data,\n",
        "                                   data_uten_NIR,\n",
        "                                   test_andel=test_andel)\n",
        "\n",
        "# Finner antall av enzymtype med minst antall\n",
        "n_splitt = n_splitt_enzym(rå_data,\n",
        "                          trening_markert)\n",
        "\n",
        "# Modelloptimalisering, trening og evaluering av RFR, KNR og SVR\n",
        "veiledet_modell_evaluering_1(dict_res_opt=res.dict_res_1_hel_opt_NIR,\n",
        "                             dict_res=res.dict_res_1_hel_NIR,\n",
        "                             treningssett_markert=trening_markert,\n",
        "                             enzymtyper_treningssett_markert=enzymtyper_markert,\n",
        "                             testsett=testsett,\n",
        "                             n_splitt=n_splitt,\n",
        "                             n_gjentagelser=n_gjentagelser,\n",
        "                             n_runder=n_runder,\n",
        "                             test_andel=test_andel,\n",
        "                             trenings_andel=trenings_andel,\n",
        "                             random_seed=random_seed)\n",
        "\n"
      ],
      "metadata": {
        "id": "rkpIuFkhTrVD"
      },
      "execution_count": null,
      "outputs": []
    },
    {
      "cell_type": "markdown",
      "source": [
        "Lagring av resultater"
      ],
      "metadata": {
        "id": "cSpDqU5iTrVD"
      }
    },
    {
      "cell_type": "code",
      "source": [
        "res_1_hel_NIR = pd.DataFrame(res.dict_res_1_hel_NIR)\n",
        "res_1_hel_opt_NIR = pd.DataFrame(res.dict_res_1_hel_opt_NIR)\n",
        "\n",
        "res_1_hel_NIR.to_csv('/content/drive/MyDrive/MasterV24/Bioco_data/Resultater/collagen/collagen_resultater_1_hel_NIR.csv')\n",
        "res_1_hel_opt_NIR.to_csv('/content/drive/MyDrive/MasterV24/Bioco_data/Resultater/collagen/collagen_resultater_1_hel_opt_NIR.csv')"
      ],
      "metadata": {
        "colab": {
          "base_uri": "https://localhost:8080/"
        },
        "outputId": "878c4447-08f5-4095-aee0-7f8e8cea6d5c",
        "id": "H1lIjWXrTrVE"
      },
      "execution_count": null,
      "outputs": [
        {
          "output_type": "stream",
          "name": "stderr",
          "text": [
            "/usr/local/lib/python3.10/dist-packages/ipykernel/ipkernel.py:283: DeprecationWarning: `should_run_async` will not call `transform_cell` automatically in the future. Please pass the result to `transformed_cell` argument and any exception that happen during thetransform in `preprocessing_exc_tuple` in IPython 7.17 and above.\n",
            "  and should_run_async(code)\n"
          ]
        }
      ]
    },
    {
      "cell_type": "markdown",
      "source": [
        "Velger beste modell"
      ],
      "metadata": {
        "id": "ajig2WwSTrVE"
      }
    },
    {
      "cell_type": "code",
      "source": [],
      "metadata": {
        "id": "daBLbVgdTrVE"
      },
      "execution_count": null,
      "outputs": []
    },
    {
      "cell_type": "markdown",
      "source": [
        "## Alternativ 2: 25% Testsett og resteremde hele treningssett"
      ],
      "metadata": {
        "id": "hX9_AnkRUCjj"
      }
    },
    {
      "cell_type": "code",
      "source": [
        "# Deler datasettet i trening og testsett\n",
        "trening_markert, testsett, _, trening\\\n",
        "= trening_testsett_oppdeling_dag(rå_data,\n",
        "                                 data_uten_NIR,\n",
        "                                 test_andel=test_andel,\n",
        "                                 test_ekskluder_kalkun_kylling=True)\n",
        "\n",
        "# Finner antall av enzymtype med minst antall\n",
        "n_splitt = n_splitt_enzym(rå_data,\n",
        "                          trening_markert)\n",
        "\n",
        "# Modelloptimalisering, trening og evaluering av RFR, KNR og SVR\n",
        "veiledet_modell_evaluering_2(dict_res_opt=res.dict_res_2_hel_opt_NIR,\n",
        "                             dict_res=res.dict_res_2_hel_NIR,\n",
        "                             rå_data=rå_data,\n",
        "                             treningssett_markert=trening_markert,\n",
        "                             testsett=testsett,\n",
        "                             n_splitt=n_splitt,\n",
        "                             n_runder=n_runder,\n",
        "                             test_andel=test_andel,\n",
        "                             trenings_andel=trenings_andel,\n",
        "                             random_seed=random_seed)"
      ],
      "metadata": {
        "colab": {
          "base_uri": "https://localhost:8080/"
        },
        "outputId": "28a7ae0c-cf92-44db-f96d-b0e1dd4d0f52",
        "id": "58AqbiTIUCjj"
      },
      "execution_count": null,
      "outputs": [
        {
          "output_type": "stream",
          "name": "stderr",
          "text": [
            "/usr/local/lib/python3.10/dist-packages/ipykernel/ipkernel.py:283: DeprecationWarning: `should_run_async` will not call `transform_cell` automatically in the future. Please pass the result to `transformed_cell` argument and any exception that happen during thetransform in `preprocessing_exc_tuple` in IPython 7.17 and above.\n",
            "  and should_run_async(code)\n"
          ]
        },
        {
          "output_type": "stream",
          "name": "stdout",
          "text": [
            "Enzymtyper Fordeling: Test\n",
            "            Frekvens  Andel\n",
            "EnzymeCode                 \n",
            "A2                25  27.78\n",
            "B                 16  17.78\n",
            "C                 15  16.67\n",
            "E                 15  16.67\n",
            "D                 13  14.44\n",
            "A1                 6   6.67\n"
          ]
        }
      ]
    },
    {
      "cell_type": "markdown",
      "source": [
        "Lagring av resultater"
      ],
      "metadata": {
        "id": "ZPcVQ7WrUCjj"
      }
    },
    {
      "cell_type": "code",
      "source": [
        "res_2_hel_NIR = pd.DataFrame(res.dict_res_2_hel_NIR)\n",
        "res_2_hel_opt_NIR = pd.DataFrame(res.dict_res_2_hel_opt_NIR)\n",
        "\n",
        "res_2_hel_NIR.to_csv('/content/drive/MyDrive/MasterV24/Bioco_data/Resultater/collagen/collagen_resultater_2_hel_NIR.csv')\n",
        "res_2_hel_opt_NIR.to_csv('/content/drive/MyDrive/MasterV24/Bioco_data/Resultater/collagen/collagen_resultater_2_hel_opt_NIR.csv')"
      ],
      "metadata": {
        "colab": {
          "base_uri": "https://localhost:8080/"
        },
        "outputId": "e5c1bab8-823a-4bfc-f359-bf96ca40dc60",
        "id": "0YkuHXAcUCjk"
      },
      "execution_count": null,
      "outputs": [
        {
          "output_type": "stream",
          "name": "stderr",
          "text": [
            "/usr/local/lib/python3.10/dist-packages/ipykernel/ipkernel.py:283: DeprecationWarning: `should_run_async` will not call `transform_cell` automatically in the future. Please pass the result to `transformed_cell` argument and any exception that happen during thetransform in `preprocessing_exc_tuple` in IPython 7.17 and above.\n",
            "  and should_run_async(code)\n"
          ]
        }
      ]
    },
    {
      "cell_type": "markdown",
      "source": [
        "Velger beste modell"
      ],
      "metadata": {
        "id": "XbJTLrDaUCjk"
      }
    },
    {
      "cell_type": "code",
      "source": [],
      "metadata": {
        "id": "f_imTA5IUCjk"
      },
      "execution_count": null,
      "outputs": []
    },
    {
      "cell_type": "markdown",
      "source": [
        "## Designsett"
      ],
      "metadata": {
        "id": "oo_ES-o-UK_3"
      }
    },
    {
      "cell_type": "markdown",
      "source": [
        "## Alternativ 1: 25% Testsett og Hele resterende treningssett"
      ],
      "metadata": {
        "id": "6QoJbRPZUk6t"
      }
    },
    {
      "cell_type": "code",
      "source": [
        "# Deler datasettet i trening og testsett\n",
        "trening_markert, enzymtyper_markert, testsett, _, _, _, trening\\\n",
        "= trening_testsett_oppdeling_enzym(rå_data,\n",
        "                                   data_design_uten_NIR,\n",
        "                                   test_andel=test_andel)\n",
        "# Finner antall av enzymtype med minst antall\n",
        "n_splitt = n_splitt_enzym(rå_data,\n",
        "                          trening_markert)\n",
        "\n",
        "# Modelloptimalisering, trening og evaluering av RFR, KNR og SVR\n",
        "veiledet_modell_evaluering_1(dict_res_opt=res.dict_res_1_design_opt_NIR,\n",
        "                             dict_res=res.dict_res_1_design_NIR,\n",
        "                             treningssett_markert=trening_markert,\n",
        "                             enzymtyper_treningssett_markert=enzymtyper_markert,\n",
        "                             testsett=testsett,\n",
        "                             n_splitt=n_splitt,\n",
        "                             n_gjentagelser=n_gjentagelser,\n",
        "                             n_runder=n_runder,\n",
        "                             test_andel=test_andel,\n",
        "                             trenings_andel=trenings_andel,\n",
        "                             random_seed=random_seed)"
      ],
      "metadata": {
        "id": "hAtHMcxtUk6u"
      },
      "execution_count": null,
      "outputs": []
    },
    {
      "cell_type": "markdown",
      "source": [
        "Lagring av resultater"
      ],
      "metadata": {
        "id": "tW-DISNgUk6u"
      }
    },
    {
      "cell_type": "code",
      "source": [
        "res_1_design_NIR = pd.DataFrame(res.dict_res_1_design_NIR)\n",
        "res_1_design_opt_NIR = pd.DataFrame(res.dict_res_1_design_opt_NIR)\n",
        "\n",
        "res_1_design_NIR.to_csv('/content/drive/MyDrive/MasterV24/Bioco_data/Resultater/collagen/collagen_resultater_1_design_NIR.csv')\n",
        "res_1_design_opt_NIR.to_csv('/content/drive/MyDrive/MasterV24/Bioco_data/Resultater/collagen/collagen_resultater_1_design_opt_NIR.csv')"
      ],
      "metadata": {
        "colab": {
          "base_uri": "https://localhost:8080/"
        },
        "outputId": "878c4447-08f5-4095-aee0-7f8e8cea6d5c",
        "id": "aC54as3DUk6u"
      },
      "execution_count": null,
      "outputs": [
        {
          "output_type": "stream",
          "name": "stderr",
          "text": [
            "/usr/local/lib/python3.10/dist-packages/ipykernel/ipkernel.py:283: DeprecationWarning: `should_run_async` will not call `transform_cell` automatically in the future. Please pass the result to `transformed_cell` argument and any exception that happen during thetransform in `preprocessing_exc_tuple` in IPython 7.17 and above.\n",
            "  and should_run_async(code)\n"
          ]
        }
      ]
    },
    {
      "cell_type": "markdown",
      "source": [
        "Velger beste modell"
      ],
      "metadata": {
        "id": "K9bd15zMUk6u"
      }
    },
    {
      "cell_type": "code",
      "source": [],
      "metadata": {
        "id": "ZKob6a-sUk6u"
      },
      "execution_count": null,
      "outputs": []
    },
    {
      "cell_type": "markdown",
      "source": [
        "## Alternativ 2: 25% Testsett og resteremde hele treningssett"
      ],
      "metadata": {
        "id": "ItNTDh9mUpGx"
      }
    },
    {
      "cell_type": "code",
      "source": [
        "# Deler datasettet i trening og testsett\n",
        "trening_markert, testsett, _, trening\\\n",
        "= trening_testsett_oppdeling_dag(rå_data,\n",
        "                                 data,\n",
        "                                 test_andel=test_andel,\n",
        "                                 test_ekskluder_kalkun_kylling=True)\n",
        "\n",
        "# Finner antall av enzymtype med minst antall\n",
        "n_splitt = n_splitt_enzym(rå_data,\n",
        "                          trening_markert)\n",
        "\n",
        "# Modelloptimalisering, trening og evaluering av RFR, KNR og SVR\n",
        "veiledet_modell_evaluering_2(dict_res_opt=res.dict_res_2_design_opt_NIR,\n",
        "                             dict_res=res.dict_res_2_design_NIR,\n",
        "                             rå_data=rå_data,\n",
        "                             treningssett_markert=trening_markert,\n",
        "                             testsett=testsett,\n",
        "                             n_splitt=n_splitt,\n",
        "                             n_runder=n_runder,\n",
        "                             test_andel=test_andel,\n",
        "                             trenings_andel=trenings_andel,\n",
        "                             random_seed=random_seed)"
      ],
      "metadata": {
        "colab": {
          "base_uri": "https://localhost:8080/"
        },
        "outputId": "28a7ae0c-cf92-44db-f96d-b0e1dd4d0f52",
        "id": "pH5wLeyGUpGy"
      },
      "execution_count": null,
      "outputs": [
        {
          "output_type": "stream",
          "name": "stderr",
          "text": [
            "/usr/local/lib/python3.10/dist-packages/ipykernel/ipkernel.py:283: DeprecationWarning: `should_run_async` will not call `transform_cell` automatically in the future. Please pass the result to `transformed_cell` argument and any exception that happen during thetransform in `preprocessing_exc_tuple` in IPython 7.17 and above.\n",
            "  and should_run_async(code)\n"
          ]
        },
        {
          "output_type": "stream",
          "name": "stdout",
          "text": [
            "Enzymtyper Fordeling: Test\n",
            "            Frekvens  Andel\n",
            "EnzymeCode                 \n",
            "A2                25  27.78\n",
            "B                 16  17.78\n",
            "C                 15  16.67\n",
            "E                 15  16.67\n",
            "D                 13  14.44\n",
            "A1                 6   6.67\n"
          ]
        }
      ]
    },
    {
      "cell_type": "markdown",
      "source": [
        "Lagring av resultater"
      ],
      "metadata": {
        "id": "XlO88i0yUpGy"
      }
    },
    {
      "cell_type": "code",
      "source": [
        "res_2_design_NIR = pd.DataFrame(res.dict_res_2_design_NIR)\n",
        "res_2_design_opt_NIR = pd.DataFrame(res.dict_res_2_design_opt_NIR)\n",
        "\n",
        "res_2_design_NIR.to_csv('/content/drive/MyDrive/MasterV24/Bioco_data/Resultater/collagen/collagen_resultater_2_design_NIR.csv')\n",
        "res_2_design_opt_NIR.to_csv('/content/drive/MyDrive/MasterV24/Bioco_data/Resultater/collagen/collagen_resultater_2_design_opt_NIR.csv')"
      ],
      "metadata": {
        "colab": {
          "base_uri": "https://localhost:8080/"
        },
        "outputId": "e5c1bab8-823a-4bfc-f359-bf96ca40dc60",
        "id": "Cy32D9BDUpGy"
      },
      "execution_count": null,
      "outputs": [
        {
          "output_type": "stream",
          "name": "stderr",
          "text": [
            "/usr/local/lib/python3.10/dist-packages/ipykernel/ipkernel.py:283: DeprecationWarning: `should_run_async` will not call `transform_cell` automatically in the future. Please pass the result to `transformed_cell` argument and any exception that happen during thetransform in `preprocessing_exc_tuple` in IPython 7.17 and above.\n",
            "  and should_run_async(code)\n"
          ]
        }
      ]
    },
    {
      "cell_type": "markdown",
      "source": [
        "Velger beste modell"
      ],
      "metadata": {
        "id": "WFa2IU0mUpGy"
      }
    },
    {
      "cell_type": "code",
      "source": [],
      "metadata": {
        "id": "GKPY7_AHUpGy"
      },
      "execution_count": null,
      "outputs": []
    }
  ]
}