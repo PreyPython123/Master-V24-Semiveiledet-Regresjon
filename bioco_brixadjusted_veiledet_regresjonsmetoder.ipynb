{
  "nbformat": 4,
  "nbformat_minor": 0,
  "metadata": {
    "colab": {
      "provenance": [],
      "collapsed_sections": [
        "uPtuGVtCJOFj",
        "qhRMrFFHlZuX",
        "21cdLIoaSTR6",
        "wQpsJkKShL_9",
        "RAPTeouaQcXa",
        "Vug3qjOcXxOJ",
        "eSEqU-HmSlHL",
        "MkYKDmvPSlHM",
        "pnhtimdQn6n_",
        "BlPTIszOTrVD",
        "hX9_AnkRUCjj",
        "6QoJbRPZUk6t",
        "ItNTDh9mUpGx"
      ],
      "authorship_tag": "ABX9TyMaYCtovh8WqyAIzrGjiFNp",
      "include_colab_link": true
    },
    "kernelspec": {
      "name": "python3",
      "display_name": "Python 3"
    },
    "language_info": {
      "name": "python"
    },
    "accelerator": "TPU"
  },
  "cells": [
    {
      "cell_type": "markdown",
      "metadata": {
        "id": "view-in-github",
        "colab_type": "text"
      },
      "source": [
        "<a href=\"https://colab.research.google.com/github/PreyPython123/Master-V24-Semiveiledet-Regresjon/blob/brixadjusted-Pradeep/bioco_brixadjusted_veiledet_regresjonsmetoder.ipynb\" target=\"_parent\"><img src=\"https://colab.research.google.com/assets/colab-badge.svg\" alt=\"Open In Colab\"/></a>"
      ]
    },
    {
      "cell_type": "code",
      "execution_count": null,
      "metadata": {
        "colab": {
          "base_uri": "https://localhost:8080/"
        },
        "id": "nwEzUjnf0xLZ",
        "outputId": "433de3b8-cde7-4429-c36f-1916a975ae31"
      },
      "outputs": [
        {
          "output_type": "stream",
          "name": "stdout",
          "text": [
            "Mounted at /content/drive/\n"
          ]
        }
      ],
      "source": [
        "from google.colab import drive\n",
        "drive.mount('/content/drive/')"
      ]
    },
    {
      "cell_type": "markdown",
      "metadata": {
        "id": "uPtuGVtCJOFj"
      },
      "source": [
        "# Importering, lasting og formattering"
      ]
    },
    {
      "cell_type": "markdown",
      "metadata": {
        "id": "ZNeQrag9Rlc_"
      },
      "source": [
        "Lasting av nødvendige bibliotek og pakker"
      ]
    },
    {
      "cell_type": "code",
      "execution_count": null,
      "metadata": {
        "colab": {
          "base_uri": "https://localhost:8080/"
        },
        "id": "k5u1dZmp6cJ9",
        "outputId": "47f728fb-915c-4451-b8aa-59b915f6b5fc"
      },
      "outputs": [
        {
          "output_type": "stream",
          "name": "stdout",
          "text": [
            "Collecting optuna\n",
            "  Downloading optuna-3.6.1-py3-none-any.whl (380 kB)\n",
            "\u001b[2K     \u001b[90m━━━━━━━━━━━━━━━━━━━━━━━━━━━━━━━━━━━━━━━━\u001b[0m \u001b[32m380.1/380.1 kB\u001b[0m \u001b[31m2.1 MB/s\u001b[0m eta \u001b[36m0:00:00\u001b[0m\n",
            "\u001b[?25hCollecting alembic>=1.5.0 (from optuna)\n",
            "  Downloading alembic-1.13.1-py3-none-any.whl (233 kB)\n",
            "\u001b[2K     \u001b[90m━━━━━━━━━━━━━━━━━━━━━━━━━━━━━━━━━━━━━━━━\u001b[0m \u001b[32m233.4/233.4 kB\u001b[0m \u001b[31m11.7 MB/s\u001b[0m eta \u001b[36m0:00:00\u001b[0m\n",
            "\u001b[?25hCollecting colorlog (from optuna)\n",
            "  Downloading colorlog-6.8.2-py3-none-any.whl (11 kB)\n",
            "Requirement already satisfied: numpy in /usr/local/lib/python3.10/dist-packages (from optuna) (1.23.5)\n",
            "Requirement already satisfied: packaging>=20.0 in /usr/local/lib/python3.10/dist-packages (from optuna) (24.0)\n",
            "Requirement already satisfied: sqlalchemy>=1.3.0 in /usr/local/lib/python3.10/dist-packages (from optuna) (2.0.29)\n",
            "Requirement already satisfied: tqdm in /usr/local/lib/python3.10/dist-packages (from optuna) (4.66.2)\n",
            "Requirement already satisfied: PyYAML in /usr/local/lib/python3.10/dist-packages (from optuna) (6.0.1)\n",
            "Collecting Mako (from alembic>=1.5.0->optuna)\n",
            "  Downloading Mako-1.3.3-py3-none-any.whl (78 kB)\n",
            "\u001b[2K     \u001b[90m━━━━━━━━━━━━━━━━━━━━━━━━━━━━━━━━━━━━━━━━\u001b[0m \u001b[32m78.8/78.8 kB\u001b[0m \u001b[31m3.8 MB/s\u001b[0m eta \u001b[36m0:00:00\u001b[0m\n",
            "\u001b[?25hRequirement already satisfied: typing-extensions>=4 in /usr/local/lib/python3.10/dist-packages (from alembic>=1.5.0->optuna) (4.11.0)\n",
            "Requirement already satisfied: greenlet!=0.4.17 in /usr/local/lib/python3.10/dist-packages (from sqlalchemy>=1.3.0->optuna) (3.0.3)\n",
            "Requirement already satisfied: MarkupSafe>=0.9.2 in /usr/local/lib/python3.10/dist-packages (from Mako->alembic>=1.5.0->optuna) (2.1.5)\n",
            "Installing collected packages: Mako, colorlog, alembic, optuna\n",
            "Successfully installed Mako-1.3.3 alembic-1.13.1 colorlog-6.8.2 optuna-3.6.1\n"
          ]
        }
      ],
      "source": [
        "!pip install optuna"
      ]
    },
    {
      "cell_type": "markdown",
      "metadata": {
        "id": "jT-YzIdVRply"
      },
      "source": [
        "Importering av nødvendig bibliotek og pakker"
      ]
    },
    {
      "cell_type": "code",
      "execution_count": null,
      "metadata": {
        "id": "5_s-eJyVk3v0"
      },
      "outputs": [],
      "source": [
        "import pandas as pd\n",
        "import numpy as np\n",
        "import copy\n",
        "import math\n",
        "from statistics import mean, stdev\n",
        "import time\n",
        "\n",
        "from sklearn.preprocessing import StandardScaler\n",
        "from sklearn.model_selection import RepeatedStratifiedKFold\n",
        "from sklearn.pipeline import Pipeline"
      ]
    },
    {
      "cell_type": "code",
      "source": [
        "# Modeller\n",
        "from sklearn.ensemble import RandomForestRegressor\n",
        "from sklearn.neighbors import KNeighborsRegressor\n",
        "from sklearn.svm import SVR"
      ],
      "metadata": {
        "id": "EH3SQKCIfwnC"
      },
      "execution_count": null,
      "outputs": []
    },
    {
      "cell_type": "code",
      "execution_count": null,
      "metadata": {
        "id": "GrgCsoZhmayI"
      },
      "outputs": [],
      "source": [
        "# Hyperoptimalisering\n",
        "import optuna\n",
        "from optuna.visualization import plot_optimization_history\n",
        "\n",
        "# Utelukker utskriving av logg for hyperoptimalisering\n",
        "# optuna.logging.set_verbosity(optuna.logging.WARNING)"
      ]
    },
    {
      "cell_type": "markdown",
      "metadata": {
        "id": "qhRMrFFHlZuX"
      },
      "source": [
        "# Egendefinerte moduler"
      ]
    },
    {
      "cell_type": "code",
      "execution_count": null,
      "metadata": {
        "colab": {
          "base_uri": "https://localhost:8080/"
        },
        "id": "FXgxrml5lg5B",
        "outputId": "fcef5470-85fe-4179-a368-bc9c1e95708f"
      },
      "outputs": [
        {
          "output_type": "stream",
          "name": "stdout",
          "text": [
            "/content\n"
          ]
        }
      ],
      "source": [
        "!pwd\n",
        "! cp /content/drive/MyDrive/MasterV24/GitHub/moduler_trening_validering_testing_evaluering.py /content/moduler_trening_validering_testing_evaluering.py"
      ]
    },
    {
      "cell_type": "code",
      "execution_count": null,
      "metadata": {
        "id": "tvOTDwKLf0q8"
      },
      "outputs": [],
      "source": [
        "from moduler_trening_validering_testing_evaluering import trening_testsett_oppdeling_enzym\n",
        "from moduler_trening_validering_testing_evaluering import trening_testsett_oppdeling_dag\n",
        "from moduler_trening_validering_testing_evaluering import trening_validering_oppdeling_dag\n",
        "\n",
        "from moduler_trening_validering_testing_evaluering import enzymfordeling\n",
        "from moduler_trening_validering_testing_evaluering import n_splitt_enzym\n",
        "from moduler_trening_validering_testing_evaluering import Resultat_evaluering\n",
        "from moduler_trening_validering_testing_evaluering import res_eval_opt\n",
        "from moduler_trening_validering_testing_evaluering import res_eval\n",
        "from moduler_trening_validering_testing_evaluering import Resultat_dicts"
      ]
    },
    {
      "cell_type": "code",
      "execution_count": null,
      "metadata": {
        "colab": {
          "base_uri": "https://localhost:8080/"
        },
        "id": "JTs_zHhkiBpK",
        "outputId": "a7e58a75-c67c-47ac-8279-ec47189c1df7"
      },
      "outputs": [
        {
          "output_type": "stream",
          "name": "stdout",
          "text": [
            "/content\n"
          ]
        }
      ],
      "source": [
        "!pwd\n",
        "! cp /content/drive/MyDrive/MasterV24/GitHub/moduler_optimalisering_evaluering_veiledet.py /content/moduler_optimalisering_evaluering_veiledet.py"
      ]
    },
    {
      "cell_type": "code",
      "execution_count": null,
      "metadata": {
        "id": "A5GEVrXsiYd-"
      },
      "outputs": [],
      "source": [
        "from moduler_optimalisering_evaluering_veiledet import trening_rfr_enzym\n",
        "from moduler_optimalisering_evaluering_veiledet import trening_knr_enzym\n",
        "from moduler_optimalisering_evaluering_veiledet import trening_svr_enzym\n",
        "\n",
        "from moduler_optimalisering_evaluering_veiledet import trening_rfr_dag\n",
        "from moduler_optimalisering_evaluering_veiledet import trening_knr_dag\n",
        "from moduler_optimalisering_evaluering_veiledet import trening_svr_dag\n",
        "\n",
        "from moduler_optimalisering_evaluering_veiledet import veiledet_modell_evaluering_1\n",
        "from moduler_optimalisering_evaluering_veiledet import veiledet_modell_evaluering_2"
      ]
    },
    {
      "cell_type": "markdown",
      "metadata": {
        "id": "21cdLIoaSTR6"
      },
      "source": [
        "# Importering av relevant data"
      ]
    },
    {
      "cell_type": "code",
      "execution_count": null,
      "metadata": {
        "id": "XeNQyDPZSTwY"
      },
      "outputs": [],
      "source": [
        "# Velger første kolonne med dato og tid som index\n",
        "data = pd.read_csv('/content/drive/MyDrive/MasterV24/Bioco_data/brixadjusted_data.csv',\n",
        "                            header=0,\n",
        "                            sep=',',\n",
        "                            index_col=0)\n",
        "\n",
        "# Design produksjon\n",
        "data_design = pd.read_csv('/content/drive/MyDrive/MasterV24/Bioco_data/brixadjusted_data_design.csv',\n",
        "                                   header=0,\n",
        "                                   sep=',',\n",
        "                                   index_col=0)\n",
        "\n",
        "# Importerer rådata\n",
        "rå_data = pd.read_csv('/content/drive/MyDrive/MasterV24/BiocoData.csv',\n",
        "                      header=0,\n",
        "                      sep=';',\n",
        "                      index_col=0)\n",
        "\n",
        "# Formatterer index til riktig format og datatype\n",
        "data.index = pd.to_datetime(data.index,\n",
        "                            format='%Y-%m-%d %H:%M:%S')\n",
        "\n",
        "data_design.index = pd.to_datetime(data_design.index,\n",
        "                                   format='%Y-%m-%d %H:%M:%S')\n",
        "\n",
        "rå_data.index = pd.to_datetime(rå_data.index,\n",
        "                               format='%d-%m-%Y %H:%M:%S.%f')"
      ]
    },
    {
      "cell_type": "markdown",
      "metadata": {
        "id": "i_1rn21ITRJ4"
      },
      "source": [
        "# Lagring av resultater"
      ]
    },
    {
      "cell_type": "code",
      "execution_count": null,
      "metadata": {
        "id": "EGIgRqWETUTx"
      },
      "outputs": [],
      "source": [
        "# Oppretter instans for lagring av resultater\n",
        "res = Resultat_dicts()"
      ]
    },
    {
      "cell_type": "markdown",
      "source": [
        "# Parametere til hyperoptimalisering"
      ],
      "metadata": {
        "id": "frddyr4dN5CW"
      }
    },
    {
      "cell_type": "code",
      "source": [
        "# Antall runder til optimalisering\n",
        "n_runder = 100\n",
        "\n",
        "# Parametervalg for kryssvalidering\n",
        "n_gjentagelser = 2"
      ],
      "metadata": {
        "id": "rlWMJLnyN5XO"
      },
      "execution_count": null,
      "outputs": []
    },
    {
      "cell_type": "markdown",
      "metadata": {
        "id": "7Wl0nay5j2C4"
      },
      "source": [
        "Tilfeldighetsfrø"
      ]
    },
    {
      "cell_type": "code",
      "execution_count": null,
      "metadata": {
        "id": "OxTGpIOmj4V7"
      },
      "outputs": [],
      "source": [
        "#Tilfeldighetsfrø\n",
        "random_seed = 2024"
      ]
    },
    {
      "cell_type": "markdown",
      "metadata": {
        "id": "76aWdlTDXp9I"
      },
      "source": [
        "# NIR målinger inkludert"
      ]
    },
    {
      "cell_type": "markdown",
      "metadata": {
        "id": "wQpsJkKShL_9"
      },
      "source": [
        "## Hele datasett"
      ]
    },
    {
      "cell_type": "markdown",
      "source": [
        "## Alternativ 1: 25% Testsett og Hele resterende treningssett"
      ],
      "metadata": {
        "id": "RAPTeouaQcXa"
      }
    },
    {
      "cell_type": "code",
      "source": [
        "# Setter fast testandel og treningsandel\n",
        "test_andel = 0.25\n",
        "trenings_andel = 1.0\n",
        "\n",
        "\n",
        "# Deler datasettet i trening og testsett\n",
        "trening_markert, enzymtyper_markert, testsett, _, _, _, trening\\\n",
        "= trening_testsett_oppdeling_enzym(rå_data,\n",
        "                                   data,\n",
        "                                   test_andel=test_andel)"
      ],
      "metadata": {
        "id": "46il6J17QhFG"
      },
      "execution_count": null,
      "outputs": []
    },
    {
      "cell_type": "code",
      "source": [
        "# Finner antall av enzymtype med minst antall\n",
        "n_splitt = n_splitt_enzym(rå_data,\n",
        "                          trening_markert)\n",
        "\n",
        "# Modelloptimalisering, trening og evaluering av RFR, KNR og SVR\n",
        "veiledet_modell_evaluering_1(dict_res_opt=res.dict_res_1_hel_opt,\n",
        "                             dict_res=res.dict_res_1_hel,\n",
        "                             treningssett_markert=trening_markert,\n",
        "                             enzymtyper_treningssett_markert=enzymtyper_markert,\n",
        "                             testsett=testsett,\n",
        "                             n_splitt=n_splitt,\n",
        "                             n_gjentagelser=n_gjentagelser,\n",
        "                             n_runder=n_runder,\n",
        "                             test_andel=test_andel,\n",
        "                             trenings_andel=trenings_andel,\n",
        "                             random_seed=random_seed)"
      ],
      "metadata": {
        "id": "-1sgIF1zXb2O",
        "colab": {
          "base_uri": "https://localhost:8080/"
        },
        "outputId": "6af53831-bd09-4ed0-aaf4-d38b920c11e1"
      },
      "execution_count": null,
      "outputs": [
        {
          "output_type": "stream",
          "name": "stderr",
          "text": [
            "[I 2024-04-28 19:35:21,994] A new study created in memory with name: no-name-db3b1dd2-a8a6-4bda-b5e0-2002bc3318a4\n",
            "[I 2024-04-28 19:35:22,445] Trial 0 finished with value: 0.5979572632336994 and parameters: {'n_neighbors': 11, 'weights': 'distance', 'p': 8}. Best is trial 0 with value: 0.5979572632336994.\n",
            "[I 2024-04-28 19:35:22,573] Trial 1 finished with value: 0.6251250895793186 and parameters: {'n_neighbors': 18, 'weights': 'distance', 'p': 7}. Best is trial 0 with value: 0.5979572632336994.\n",
            "[I 2024-04-28 19:35:23,180] Trial 3 pruned. \n",
            "[I 2024-04-28 19:35:23,226] Trial 2 pruned. \n",
            "[I 2024-04-28 19:35:24,228] Trial 4 finished with value: 0.5871611610180182 and parameters: {'n_neighbors': 7, 'weights': 'distance', 'p': 9}. Best is trial 4 with value: 0.5871611610180182.\n",
            "[I 2024-04-28 19:35:24,284] Trial 5 finished with value: 0.6010706570135211 and parameters: {'n_neighbors': 4, 'weights': 'uniform', 'p': 3}. Best is trial 4 with value: 0.5871611610180182.\n",
            "[I 2024-04-28 19:35:25,140] Trial 6 finished with value: 0.6113397815197367 and parameters: {'n_neighbors': 8, 'weights': 'uniform', 'p': 5}. Best is trial 4 with value: 0.5871611610180182.\n",
            "[I 2024-04-28 19:35:25,185] Trial 7 finished with value: 0.5979572632336994 and parameters: {'n_neighbors': 11, 'weights': 'distance', 'p': 8}. Best is trial 4 with value: 0.5871611610180182.\n",
            "[I 2024-04-28 19:35:25,648] Trial 8 finished with value: 0.5750746040998664 and parameters: {'n_neighbors': 11, 'weights': 'distance', 'p': 1}. Best is trial 8 with value: 0.5750746040998664.\n",
            "[I 2024-04-28 19:35:25,805] Trial 9 finished with value: 0.5819864868738119 and parameters: {'n_neighbors': 6, 'weights': 'distance', 'p': 6}. Best is trial 8 with value: 0.5750746040998664.\n",
            "[I 2024-04-28 19:35:26,335] Trial 10 finished with value: 0.5841498477633726 and parameters: {'n_neighbors': 5, 'weights': 'distance', 'p': 5}. Best is trial 8 with value: 0.5750746040998664.\n",
            "[I 2024-04-28 19:35:26,433] Trial 11 finished with value: 0.5818005219578268 and parameters: {'n_neighbors': 14, 'weights': 'distance', 'p': 1}. Best is trial 8 with value: 0.5750746040998664.\n",
            "[I 2024-04-28 19:35:26,801] Trial 12 pruned. \n",
            "[I 2024-04-28 19:35:26,982] Trial 13 finished with value: 0.5818005219578268 and parameters: {'n_neighbors': 14, 'weights': 'distance', 'p': 1}. Best is trial 8 with value: 0.5750746040998664.\n",
            "[I 2024-04-28 19:35:27,273] Trial 14 finished with value: 0.5929256614625978 and parameters: {'n_neighbors': 13, 'weights': 'distance', 'p': 3}. Best is trial 8 with value: 0.5750746040998664.\n",
            "[I 2024-04-28 19:35:27,360] Trial 15 pruned. \n",
            "[I 2024-04-28 19:35:27,694] Trial 16 pruned. \n",
            "[I 2024-04-28 19:35:27,762] Trial 17 finished with value: 0.5698328547939808 and parameters: {'n_neighbors': 9, 'weights': 'distance', 'p': 2}. Best is trial 17 with value: 0.5698328547939808.\n",
            "[I 2024-04-28 19:35:28,103] Trial 18 finished with value: 0.5698328547939808 and parameters: {'n_neighbors': 9, 'weights': 'distance', 'p': 2}. Best is trial 17 with value: 0.5698328547939808.\n",
            "[I 2024-04-28 19:35:28,134] Trial 19 pruned. \n",
            "[I 2024-04-28 19:35:28,493] Trial 21 pruned. \n",
            "[I 2024-04-28 19:35:28,593] Trial 20 finished with value: 0.5804078079124974 and parameters: {'n_neighbors': 8, 'weights': 'distance', 'p': 4}. Best is trial 17 with value: 0.5698328547939808.\n",
            "[I 2024-04-28 19:35:28,918] Trial 22 finished with value: 0.5698328547939808 and parameters: {'n_neighbors': 9, 'weights': 'distance', 'p': 2}. Best is trial 17 with value: 0.5698328547939808.\n",
            "[I 2024-04-28 19:35:29,001] Trial 23 finished with value: 0.5698328547939808 and parameters: {'n_neighbors': 9, 'weights': 'distance', 'p': 2}. Best is trial 17 with value: 0.5698328547939808.\n",
            "[I 2024-04-28 19:35:29,439] Trial 24 finished with value: 0.5698328547939808 and parameters: {'n_neighbors': 9, 'weights': 'distance', 'p': 2}. Best is trial 17 with value: 0.5698328547939808.\n",
            "[I 2024-04-28 19:35:29,441] Trial 25 finished with value: 0.5804287711803464 and parameters: {'n_neighbors': 4, 'weights': 'distance', 'p': 2}. Best is trial 17 with value: 0.5698328547939808.\n",
            "[I 2024-04-28 19:35:29,804] Trial 27 pruned. \n",
            "[I 2024-04-28 19:35:29,822] Trial 26 pruned. \n",
            "[I 2024-04-28 19:35:30,192] Trial 28 pruned. \n",
            "[I 2024-04-28 19:35:30,225] Trial 29 pruned. \n",
            "[I 2024-04-28 19:35:30,610] Trial 30 finished with value: 0.574631147558886 and parameters: {'n_neighbors': 10, 'weights': 'distance', 'p': 2}. Best is trial 17 with value: 0.5698328547939808.\n",
            "[I 2024-04-28 19:35:30,709] Trial 31 finished with value: 0.5717926231608785 and parameters: {'n_neighbors': 7, 'weights': 'distance', 'p': 2}. Best is trial 17 with value: 0.5698328547939808.\n",
            "[I 2024-04-28 19:35:31,027] Trial 32 finished with value: 0.5676966188602441 and parameters: {'n_neighbors': 8, 'weights': 'distance', 'p': 2}. Best is trial 32 with value: 0.5676966188602441.\n",
            "[I 2024-04-28 19:35:31,240] Trial 33 finished with value: 0.5749303148773475 and parameters: {'n_neighbors': 9, 'weights': 'distance', 'p': 3}. Best is trial 32 with value: 0.5676966188602441.\n",
            "[I 2024-04-28 19:35:31,491] Trial 34 finished with value: 0.5761589077165601 and parameters: {'n_neighbors': 8, 'weights': 'distance', 'p': 3}. Best is trial 32 with value: 0.5676966188602441.\n",
            "[I 2024-04-28 19:35:31,745] Trial 35 finished with value: 0.5761589077165601 and parameters: {'n_neighbors': 8, 'weights': 'distance', 'p': 3}. Best is trial 32 with value: 0.5676966188602441.\n",
            "[I 2024-04-28 19:35:31,847] Trial 36 pruned. \n",
            "[I 2024-04-28 19:35:32,140] Trial 37 pruned. \n",
            "[I 2024-04-28 19:35:32,271] Trial 38 pruned. \n",
            "[I 2024-04-28 19:35:32,522] Trial 39 pruned. \n",
            "[I 2024-04-28 19:35:32,681] Trial 40 pruned. \n",
            "[I 2024-04-28 19:35:32,886] Trial 41 pruned. \n",
            "[I 2024-04-28 19:35:33,113] Trial 42 finished with value: 0.574631147558886 and parameters: {'n_neighbors': 10, 'weights': 'distance', 'p': 2}. Best is trial 32 with value: 0.5676966188602441.\n",
            "[I 2024-04-28 19:35:33,393] Trial 43 finished with value: 0.574631147558886 and parameters: {'n_neighbors': 10, 'weights': 'distance', 'p': 2}. Best is trial 32 with value: 0.5676966188602441.\n",
            "[I 2024-04-28 19:35:33,570] Trial 44 finished with value: 0.5725412169374827 and parameters: {'n_neighbors': 7, 'weights': 'distance', 'p': 1}. Best is trial 32 with value: 0.5676966188602441.\n",
            "[I 2024-04-28 19:35:33,853] Trial 45 finished with value: 0.5725412169374827 and parameters: {'n_neighbors': 7, 'weights': 'distance', 'p': 1}. Best is trial 32 with value: 0.5676966188602441.\n",
            "[I 2024-04-28 19:35:34,032] Trial 46 finished with value: 0.577485664511207 and parameters: {'n_neighbors': 12, 'weights': 'distance', 'p': 1}. Best is trial 32 with value: 0.5676966188602441.\n",
            "[I 2024-04-28 19:35:34,284] Trial 47 pruned. \n",
            "[I 2024-04-28 19:35:34,540] Trial 48 finished with value: 0.5749303148773475 and parameters: {'n_neighbors': 9, 'weights': 'distance', 'p': 3}. Best is trial 32 with value: 0.5676966188602441.\n",
            "[I 2024-04-28 19:35:34,709] Trial 49 finished with value: 0.5807483295892291 and parameters: {'n_neighbors': 11, 'weights': 'distance', 'p': 2}. Best is trial 32 with value: 0.5676966188602441.\n",
            "[I 2024-04-28 19:35:34,957] Trial 50 finished with value: 0.5807483295892291 and parameters: {'n_neighbors': 11, 'weights': 'distance', 'p': 2}. Best is trial 32 with value: 0.5676966188602441.\n",
            "[I 2024-04-28 19:35:35,195] Trial 51 pruned. \n",
            "[I 2024-04-28 19:35:35,422] Trial 52 finished with value: 0.5698328547939808 and parameters: {'n_neighbors': 9, 'weights': 'distance', 'p': 2}. Best is trial 32 with value: 0.5676966188602441.\n",
            "[I 2024-04-28 19:35:35,626] Trial 53 finished with value: 0.5698328547939808 and parameters: {'n_neighbors': 9, 'weights': 'distance', 'p': 2}. Best is trial 32 with value: 0.5676966188602441.\n",
            "[I 2024-04-28 19:35:35,850] Trial 54 finished with value: 0.5651177434160134 and parameters: {'n_neighbors': 8, 'weights': 'distance', 'p': 1}. Best is trial 54 with value: 0.5651177434160134.\n",
            "[I 2024-04-28 19:35:36,116] Trial 55 finished with value: 0.5651177434160134 and parameters: {'n_neighbors': 8, 'weights': 'distance', 'p': 1}. Best is trial 54 with value: 0.5651177434160134.\n",
            "[I 2024-04-28 19:35:36,277] Trial 56 finished with value: 0.5651177434160134 and parameters: {'n_neighbors': 8, 'weights': 'distance', 'p': 1}. Best is trial 54 with value: 0.5651177434160134.\n",
            "[I 2024-04-28 19:35:36,511] Trial 57 pruned. \n",
            "[I 2024-04-28 19:35:36,692] Trial 58 pruned. \n",
            "[I 2024-04-28 19:35:37,064] Trial 59 finished with value: 0.5651177434160134 and parameters: {'n_neighbors': 8, 'weights': 'distance', 'p': 1}. Best is trial 54 with value: 0.5651177434160134.\n",
            "[I 2024-04-28 19:35:37,315] Trial 60 finished with value: 0.5725412169374827 and parameters: {'n_neighbors': 7, 'weights': 'distance', 'p': 1}. Best is trial 54 with value: 0.5651177434160134.\n",
            "[I 2024-04-28 19:35:37,637] Trial 61 finished with value: 0.5725412169374827 and parameters: {'n_neighbors': 7, 'weights': 'distance', 'p': 1}. Best is trial 54 with value: 0.5651177434160134.\n",
            "[I 2024-04-28 19:35:37,898] Trial 62 finished with value: 0.5651177434160134 and parameters: {'n_neighbors': 8, 'weights': 'distance', 'p': 1}. Best is trial 54 with value: 0.5651177434160134.\n",
            "[I 2024-04-28 19:35:38,206] Trial 63 finished with value: 0.5651177434160134 and parameters: {'n_neighbors': 8, 'weights': 'distance', 'p': 1}. Best is trial 54 with value: 0.5651177434160134.\n",
            "[I 2024-04-28 19:35:38,495] Trial 64 finished with value: 0.5651177434160134 and parameters: {'n_neighbors': 8, 'weights': 'distance', 'p': 1}. Best is trial 54 with value: 0.5651177434160134.\n",
            "[I 2024-04-28 19:35:38,766] Trial 65 finished with value: 0.5651177434160134 and parameters: {'n_neighbors': 8, 'weights': 'distance', 'p': 1}. Best is trial 54 with value: 0.5651177434160134.\n",
            "[I 2024-04-28 19:35:39,075] Trial 66 finished with value: 0.5651177434160134 and parameters: {'n_neighbors': 8, 'weights': 'distance', 'p': 1}. Best is trial 54 with value: 0.5651177434160134.\n",
            "[I 2024-04-28 19:35:39,311] Trial 67 finished with value: 0.5725412169374827 and parameters: {'n_neighbors': 7, 'weights': 'distance', 'p': 1}. Best is trial 54 with value: 0.5651177434160134.\n",
            "[I 2024-04-28 19:35:39,661] Trial 68 finished with value: 0.5654267731922011 and parameters: {'n_neighbors': 5, 'weights': 'distance', 'p': 1}. Best is trial 54 with value: 0.5651177434160134.\n",
            "[I 2024-04-28 19:35:39,881] Trial 69 finished with value: 0.5698630329220342 and parameters: {'n_neighbors': 6, 'weights': 'distance', 'p': 1}. Best is trial 54 with value: 0.5651177434160134.\n",
            "[I 2024-04-28 19:35:40,269] Trial 70 finished with value: 0.5698630329220342 and parameters: {'n_neighbors': 6, 'weights': 'distance', 'p': 1}. Best is trial 54 with value: 0.5651177434160134.\n",
            "[I 2024-04-28 19:35:40,511] Trial 71 finished with value: 0.5698630329220342 and parameters: {'n_neighbors': 6, 'weights': 'distance', 'p': 1}. Best is trial 54 with value: 0.5651177434160134.\n",
            "[I 2024-04-28 19:35:40,864] Trial 72 finished with value: 0.5651177434160134 and parameters: {'n_neighbors': 8, 'weights': 'distance', 'p': 1}. Best is trial 54 with value: 0.5651177434160134.\n",
            "[I 2024-04-28 19:35:40,980] Trial 73 finished with value: 0.5651177434160134 and parameters: {'n_neighbors': 8, 'weights': 'distance', 'p': 1}. Best is trial 54 with value: 0.5651177434160134.\n",
            "[I 2024-04-28 19:35:41,384] Trial 74 finished with value: 0.5651177434160134 and parameters: {'n_neighbors': 8, 'weights': 'distance', 'p': 1}. Best is trial 54 with value: 0.5651177434160134.\n",
            "[I 2024-04-28 19:35:41,436] Trial 75 finished with value: 0.5689262356660583 and parameters: {'n_neighbors': 10, 'weights': 'distance', 'p': 1}. Best is trial 54 with value: 0.5651177434160134.\n",
            "[I 2024-04-28 19:35:41,832] Trial 76 finished with value: 0.574631147558886 and parameters: {'n_neighbors': 10, 'weights': 'distance', 'p': 2}. Best is trial 54 with value: 0.5651177434160134.\n",
            "[I 2024-04-28 19:35:41,913] Trial 77 finished with value: 0.5717926231608785 and parameters: {'n_neighbors': 7, 'weights': 'distance', 'p': 2}. Best is trial 54 with value: 0.5651177434160134.\n",
            "[I 2024-04-28 19:35:42,257] Trial 78 pruned. \n",
            "[I 2024-04-28 19:35:42,339] Trial 79 finished with value: 0.5651177434160134 and parameters: {'n_neighbors': 8, 'weights': 'distance', 'p': 1}. Best is trial 54 with value: 0.5651177434160134.\n",
            "[I 2024-04-28 19:35:42,639] Trial 80 pruned. \n",
            "[I 2024-04-28 19:35:42,740] Trial 81 pruned. \n",
            "[I 2024-04-28 19:35:43,104] Trial 82 finished with value: 0.5634330109343784 and parameters: {'n_neighbors': 9, 'weights': 'distance', 'p': 1}. Best is trial 82 with value: 0.5634330109343784.\n",
            "[I 2024-04-28 19:35:43,192] Trial 83 finished with value: 0.5651177434160134 and parameters: {'n_neighbors': 8, 'weights': 'distance', 'p': 1}. Best is trial 82 with value: 0.5634330109343784.\n",
            "[I 2024-04-28 19:35:43,530] Trial 84 finished with value: 0.5725412169374827 and parameters: {'n_neighbors': 7, 'weights': 'distance', 'p': 1}. Best is trial 82 with value: 0.5634330109343784.\n",
            "[I 2024-04-28 19:35:43,701] Trial 85 finished with value: 0.574631147558886 and parameters: {'n_neighbors': 10, 'weights': 'distance', 'p': 2}. Best is trial 82 with value: 0.5634330109343784.\n",
            "[I 2024-04-28 19:35:43,990] Trial 86 finished with value: 0.574631147558886 and parameters: {'n_neighbors': 10, 'weights': 'distance', 'p': 2}. Best is trial 82 with value: 0.5634330109343784.\n",
            "[I 2024-04-28 19:35:44,155] Trial 87 finished with value: 0.5698328547939808 and parameters: {'n_neighbors': 9, 'weights': 'distance', 'p': 2}. Best is trial 82 with value: 0.5634330109343784.\n",
            "[I 2024-04-28 19:35:44,462] Trial 88 pruned. \n",
            "[I 2024-04-28 19:35:44,547] Trial 89 pruned. \n",
            "[I 2024-04-28 19:35:44,866] Trial 90 finished with value: 0.5725412169374827 and parameters: {'n_neighbors': 7, 'weights': 'distance', 'p': 1}. Best is trial 82 with value: 0.5634330109343784.\n",
            "[I 2024-04-28 19:35:45,033] Trial 91 finished with value: 0.5725412169374827 and parameters: {'n_neighbors': 7, 'weights': 'distance', 'p': 1}. Best is trial 82 with value: 0.5634330109343784.\n",
            "[I 2024-04-28 19:35:45,278] Trial 92 finished with value: 0.5634330109343784 and parameters: {'n_neighbors': 9, 'weights': 'distance', 'p': 1}. Best is trial 82 with value: 0.5634330109343784.\n",
            "[I 2024-04-28 19:35:45,510] Trial 93 finished with value: 0.5651177434160134 and parameters: {'n_neighbors': 8, 'weights': 'distance', 'p': 1}. Best is trial 82 with value: 0.5634330109343784.\n",
            "[I 2024-04-28 19:35:45,769] Trial 94 finished with value: 0.5634330109343784 and parameters: {'n_neighbors': 9, 'weights': 'distance', 'p': 1}. Best is trial 82 with value: 0.5634330109343784.\n",
            "[I 2024-04-28 19:35:45,985] Trial 95 pruned. \n",
            "[I 2024-04-28 19:35:46,153] Trial 96 finished with value: 0.5698328547939808 and parameters: {'n_neighbors': 9, 'weights': 'distance', 'p': 2}. Best is trial 82 with value: 0.5634330109343784.\n",
            "[I 2024-04-28 19:35:46,437] Trial 97 finished with value: 0.5698328547939808 and parameters: {'n_neighbors': 9, 'weights': 'distance', 'p': 2}. Best is trial 82 with value: 0.5634330109343784.\n",
            "[I 2024-04-28 19:35:46,560] Trial 98 pruned. \n",
            "[I 2024-04-28 19:35:46,699] Trial 99 pruned. \n",
            "[I 2024-04-28 19:35:46,721] A new study created in memory with name: no-name-984d68e4-5955-4e85-aeb0-d6ea0f7b511c\n",
            "[I 2024-04-28 19:36:14,306] Trial 0 finished with value: 0.6084156259715775 and parameters: {'n_estimators': 124, 'criterion': 'absolute_error', 'max_depth': 29, 'min_samples_leaf': 4, 'max_features': 0.41314984450876335}. Best is trial 0 with value: 0.6084156259715775.\n",
            "[I 2024-04-28 19:36:28,015] Trial 1 finished with value: 0.5832574412415052 and parameters: {'n_estimators': 480, 'criterion': 'squared_error', 'max_depth': 28, 'min_samples_leaf': 5, 'max_features': 0.6638288834128273}. Best is trial 1 with value: 0.5832574412415052.\n",
            "[I 2024-04-28 19:37:24,220] Trial 3 finished with value: 0.5598898744668174 and parameters: {'n_estimators': 451, 'criterion': 'poisson', 'max_depth': 26, 'min_samples_leaf': 1, 'max_features': 0.6173766849291824}. Best is trial 3 with value: 0.5598898744668174.\n",
            "[I 2024-04-28 19:38:21,340] Trial 4 pruned. \n",
            "[I 2024-04-28 19:38:42,284] Trial 5 pruned. \n",
            "[I 2024-04-28 19:39:08,638] Trial 2 finished with value: 0.5627019777485566 and parameters: {'n_estimators': 463, 'criterion': 'absolute_error', 'max_depth': 26, 'min_samples_leaf': 2, 'max_features': 0.9825430247889436}. Best is trial 3 with value: 0.5598898744668174.\n",
            "[I 2024-04-28 19:39:30,231] Trial 7 pruned. \n",
            "[I 2024-04-28 19:39:34,413] Trial 6 finished with value: 0.5644819664836177 and parameters: {'n_estimators': 363, 'criterion': 'poisson', 'max_depth': 23, 'min_samples_leaf': 1, 'max_features': 0.9539091350687686}. Best is trial 3 with value: 0.5598898744668174.\n",
            "[I 2024-04-28 19:39:48,567] Trial 9 finished with value: 0.5744939185562705 and parameters: {'n_estimators': 130, 'criterion': 'friedman_mse', 'max_depth': 26, 'min_samples_leaf': 5, 'max_features': 0.9817286627212539}. Best is trial 3 with value: 0.5598898744668174.\n",
            "[I 2024-04-28 19:39:57,188] Trial 10 pruned. \n",
            "[I 2024-04-28 19:40:11,905] Trial 8 finished with value: 0.566949106897089 and parameters: {'n_estimators': 322, 'criterion': 'poisson', 'max_depth': 8, 'min_samples_leaf': 1, 'max_features': 0.9184834305090223}. Best is trial 3 with value: 0.5598898744668174.\n",
            "[I 2024-04-28 19:40:12,301] Trial 11 pruned. \n",
            "[I 2024-04-28 19:40:56,740] Trial 12 pruned. \n",
            "[I 2024-04-28 19:42:33,834] Trial 13 finished with value: 0.5603983945026566 and parameters: {'n_estimators': 490, 'criterion': 'absolute_error', 'max_depth': 18, 'min_samples_leaf': 2, 'max_features': 0.7092423610781673}. Best is trial 3 with value: 0.5598898744668174.\n",
            "[I 2024-04-28 19:43:03,295] Trial 14 finished with value: 0.5599295418415625 and parameters: {'n_estimators': 439, 'criterion': 'absolute_error', 'max_depth': 22, 'min_samples_leaf': 2, 'max_features': 0.7133048223647495}. Best is trial 3 with value: 0.5598898744668174.\n",
            "[I 2024-04-28 19:43:18,985] Trial 15 finished with value: 0.5625229686457729 and parameters: {'n_estimators': 416, 'criterion': 'poisson', 'max_depth': 20, 'min_samples_leaf': 2, 'max_features': 0.6803553141600129}. Best is trial 3 with value: 0.5598898744668174.\n",
            "[I 2024-04-28 19:43:52,885] Trial 16 finished with value: 0.5673809564410928 and parameters: {'n_estimators': 428, 'criterion': 'poisson', 'max_depth': 21, 'min_samples_leaf': 3, 'max_features': 0.7003772665715999}. Best is trial 3 with value: 0.5598898744668174.\n",
            "[I 2024-04-28 19:44:04,036] Trial 17 finished with value: 0.565348426904929 and parameters: {'n_estimators': 421, 'criterion': 'friedman_mse', 'max_depth': 12, 'min_samples_leaf': 3, 'max_features': 0.7755558418359286}. Best is trial 3 with value: 0.5598898744668174.\n",
            "[I 2024-04-28 19:44:34,624] Trial 19 finished with value: 0.559098711558356 and parameters: {'n_estimators': 261, 'criterion': 'squared_error', 'max_depth': 24, 'min_samples_leaf': 1, 'max_features': 0.5636776652306377}. Best is trial 19 with value: 0.559098711558356.\n",
            "[I 2024-04-28 19:44:48,025] Trial 18 finished with value: 0.5596699537354186 and parameters: {'n_estimators': 419, 'criterion': 'friedman_mse', 'max_depth': 13, 'min_samples_leaf': 1, 'max_features': 0.5660669876807575}. Best is trial 19 with value: 0.559098711558356.\n",
            "[I 2024-04-28 19:45:07,289] Trial 21 pruned. \n",
            "[I 2024-04-28 19:45:11,079] Trial 20 finished with value: 0.558691105904917 and parameters: {'n_estimators': 230, 'criterion': 'squared_error', 'max_depth': 25, 'min_samples_leaf': 1, 'max_features': 0.5468236204027985}. Best is trial 20 with value: 0.558691105904917.\n",
            "[I 2024-04-28 19:45:34,233] Trial 23 finished with value: 0.5601389617253958 and parameters: {'n_estimators': 189, 'criterion': 'squared_error', 'max_depth': 12, 'min_samples_leaf': 1, 'max_features': 0.564567166248078}. Best is trial 20 with value: 0.558691105904917.\n",
            "[I 2024-04-28 19:45:37,415] Trial 22 finished with value: 0.5567201683653125 and parameters: {'n_estimators': 251, 'criterion': 'squared_error', 'max_depth': 13, 'min_samples_leaf': 1, 'max_features': 0.5719385261897466}. Best is trial 22 with value: 0.5567201683653125.\n",
            "[I 2024-04-28 19:45:57,508] Trial 24 pruned. \n",
            "[I 2024-04-28 19:45:59,988] Trial 25 pruned. \n",
            "[I 2024-04-28 19:46:10,516] Trial 26 pruned. \n",
            "[I 2024-04-28 19:46:14,934] Trial 27 pruned. \n",
            "[I 2024-04-28 19:46:37,611] Trial 28 finished with value: 0.5631691838444357 and parameters: {'n_estimators': 241, 'criterion': 'squared_error', 'max_depth': 17, 'min_samples_leaf': 2, 'max_features': 0.8024691093749692}. Best is trial 22 with value: 0.5567201683653125.\n",
            "[I 2024-04-28 19:46:45,037] Trial 29 finished with value: 0.5613650207666073 and parameters: {'n_estimators': 235, 'criterion': 'squared_error', 'max_depth': 24, 'min_samples_leaf': 1, 'max_features': 0.8402013649190809}. Best is trial 22 with value: 0.5567201683653125.\n",
            "[I 2024-04-28 19:47:01,646] Trial 30 pruned. \n",
            "[I 2024-04-28 19:47:10,105] Trial 31 pruned. \n",
            "[I 2024-04-28 19:47:39,175] Trial 33 finished with value: 0.5613804809649886 and parameters: {'n_estimators': 254, 'criterion': 'friedman_mse', 'max_depth': 14, 'min_samples_leaf': 1, 'max_features': 0.569063989355003}. Best is trial 22 with value: 0.5567201683653125.\n",
            "[I 2024-04-28 19:47:39,723] Trial 32 finished with value: 0.5614419818559396 and parameters: {'n_estimators': 325, 'criterion': 'friedman_mse', 'max_depth': 14, 'min_samples_leaf': 1, 'max_features': 0.5554764531367044}. Best is trial 22 with value: 0.5567201683653125.\n",
            "[I 2024-04-28 19:47:58,823] Trial 35 finished with value: 0.5632298142644383 and parameters: {'n_estimators': 168, 'criterion': 'friedman_mse', 'max_depth': 10, 'min_samples_leaf': 1, 'max_features': 0.6335699712480538}. Best is trial 22 with value: 0.5567201683653125.\n",
            "[I 2024-04-28 19:48:14,900] Trial 36 pruned. \n",
            "[I 2024-04-28 19:48:18,033] Trial 34 finished with value: 0.5631599558866603 and parameters: {'n_estimators': 334, 'criterion': 'friedman_mse', 'max_depth': 10, 'min_samples_leaf': 1, 'max_features': 0.6204799977232895}. Best is trial 22 with value: 0.5567201683653125.\n",
            "[I 2024-04-28 19:48:56,858] Trial 37 finished with value: 0.5635790583493036 and parameters: {'n_estimators': 385, 'criterion': 'friedman_mse', 'max_depth': 28, 'min_samples_leaf': 2, 'max_features': 0.6598572295978438}. Best is trial 22 with value: 0.5567201683653125.\n",
            "[I 2024-04-28 19:48:57,655] Trial 38 finished with value: 0.5627101889964268 and parameters: {'n_estimators': 388, 'criterion': 'squared_error', 'max_depth': 28, 'min_samples_leaf': 2, 'max_features': 0.6146752446072481}. Best is trial 22 with value: 0.5567201683653125.\n",
            "[I 2024-04-28 19:49:15,776] Trial 40 pruned. \n",
            "[I 2024-04-28 19:49:27,862] Trial 39 finished with value: 0.5650626875338007 and parameters: {'n_estimators': 258, 'criterion': 'squared_error', 'max_depth': 25, 'min_samples_leaf': 1, 'max_features': 0.4266933617959413}. Best is trial 22 with value: 0.5567201683653125.\n",
            "[I 2024-04-28 19:49:32,455] Trial 41 finished with value: 0.5591150064848693 and parameters: {'n_estimators': 144, 'criterion': 'squared_error', 'max_depth': 24, 'min_samples_leaf': 1, 'max_features': 0.5259996077968958}. Best is trial 22 with value: 0.5567201683653125.\n",
            "[I 2024-04-28 19:49:49,067] Trial 43 finished with value: 0.5604851313586049 and parameters: {'n_estimators': 145, 'criterion': 'squared_error', 'max_depth': 26, 'min_samples_leaf': 1, 'max_features': 0.5865702624673067}. Best is trial 22 with value: 0.5567201683653125.\n",
            "[I 2024-04-28 19:50:11,686] Trial 44 finished with value: 0.558456454222865 and parameters: {'n_estimators': 205, 'criterion': 'squared_error', 'max_depth': 23, 'min_samples_leaf': 1, 'max_features': 0.502693282725743}. Best is trial 22 with value: 0.5567201683653125.\n",
            "[I 2024-04-28 19:50:23,705] Trial 42 finished with value: 0.558551541216116 and parameters: {'n_estimators': 455, 'criterion': 'poisson', 'max_depth': 26, 'min_samples_leaf': 1, 'max_features': 0.591466151008759}. Best is trial 22 with value: 0.5567201683653125.\n",
            "[I 2024-04-28 19:50:33,665] Trial 45 finished with value: 0.558395611936663 and parameters: {'n_estimators': 206, 'criterion': 'squared_error', 'max_depth': 24, 'min_samples_leaf': 1, 'max_features': 0.5089480851585788}. Best is trial 22 with value: 0.5567201683653125.\n",
            "[I 2024-04-28 19:50:41,976] Trial 46 pruned. \n",
            "[I 2024-04-28 19:50:52,336] Trial 47 pruned. \n",
            "[I 2024-04-28 19:50:58,284] Trial 48 pruned. \n",
            "[I 2024-04-28 19:51:54,858] Trial 50 finished with value: 0.5604548400754034 and parameters: {'n_estimators': 167, 'criterion': 'absolute_error', 'max_depth': 21, 'min_samples_leaf': 1, 'max_features': 0.7615144474203884}. Best is trial 22 with value: 0.5567201683653125.\n",
            "[I 2024-04-28 19:52:17,405] Trial 49 pruned. \n",
            "[I 2024-04-28 19:52:20,809] Trial 51 finished with value: 0.5593533977168534 and parameters: {'n_estimators': 221, 'criterion': 'poisson', 'max_depth': 22, 'min_samples_leaf': 1, 'max_features': 0.6505506330107853}. Best is trial 22 with value: 0.5567201683653125.\n",
            "[I 2024-04-28 19:52:44,652] Trial 52 finished with value: 0.5600442951801061 and parameters: {'n_estimators': 225, 'criterion': 'squared_error', 'max_depth': 24, 'min_samples_leaf': 1, 'max_features': 0.65031462748748}. Best is trial 22 with value: 0.5567201683653125.\n",
            "[I 2024-04-28 19:52:53,256] Trial 53 finished with value: 0.5584248354204484 and parameters: {'n_estimators': 286, 'criterion': 'squared_error', 'max_depth': 24, 'min_samples_leaf': 1, 'max_features': 0.5943317926127383}. Best is trial 22 with value: 0.5567201683653125.\n",
            "[I 2024-04-28 19:53:18,114] Trial 54 finished with value: 0.5586426273250013 and parameters: {'n_estimators': 291, 'criterion': 'squared_error', 'max_depth': 24, 'min_samples_leaf': 1, 'max_features': 0.592284885787709}. Best is trial 22 with value: 0.5567201683653125.\n",
            "[I 2024-04-28 19:53:27,737] Trial 55 finished with value: 0.5583862759257145 and parameters: {'n_estimators': 286, 'criterion': 'squared_error', 'max_depth': 26, 'min_samples_leaf': 1, 'max_features': 0.6012565666592133}. Best is trial 22 with value: 0.5567201683653125.\n",
            "[I 2024-04-28 19:53:48,168] Trial 56 finished with value: 0.5634793975587706 and parameters: {'n_estimators': 288, 'criterion': 'squared_error', 'max_depth': 26, 'min_samples_leaf': 2, 'max_features': 0.5913746280785968}. Best is trial 22 with value: 0.5567201683653125.\n",
            "[I 2024-04-28 19:54:07,683] Trial 57 finished with value: 0.5608051306421299 and parameters: {'n_estimators': 346, 'criterion': 'squared_error', 'max_depth': 26, 'min_samples_leaf': 2, 'max_features': 0.7345810759676171}. Best is trial 22 with value: 0.5567201683653125.\n",
            "[I 2024-04-28 19:54:32,244] Trial 59 pruned. \n",
            "[I 2024-04-28 19:54:33,095] Trial 58 finished with value: 0.5616726937221762 and parameters: {'n_estimators': 343, 'criterion': 'poisson', 'max_depth': 19, 'min_samples_leaf': 2, 'max_features': 0.717365496664329}. Best is trial 22 with value: 0.5567201683653125.\n",
            "[I 2024-04-28 19:55:07,278] Trial 60 finished with value: 0.5600989993567029 and parameters: {'n_estimators': 249, 'criterion': 'squared_error', 'max_depth': 27, 'min_samples_leaf': 1, 'max_features': 0.683871607521538}. Best is trial 22 with value: 0.5567201683653125.\n",
            "[I 2024-04-28 19:55:07,782] Trial 61 finished with value: 0.5597987943053284 and parameters: {'n_estimators': 242, 'criterion': 'squared_error', 'max_depth': 27, 'min_samples_leaf': 1, 'max_features': 0.6811184757512628}. Best is trial 22 with value: 0.5567201683653125.\n",
            "[I 2024-04-28 19:55:38,652] Trial 62 finished with value: 0.5587387542370279 and parameters: {'n_estimators': 274, 'criterion': 'squared_error', 'max_depth': 23, 'min_samples_leaf': 1, 'max_features': 0.602964516245417}. Best is trial 22 with value: 0.5567201683653125.\n",
            "[I 2024-04-28 19:55:39,977] Trial 63 finished with value: 0.5586963689437249 and parameters: {'n_estimators': 288, 'criterion': 'squared_error', 'max_depth': 23, 'min_samples_leaf': 1, 'max_features': 0.6069587584069229}. Best is trial 22 with value: 0.5567201683653125.\n",
            "[I 2024-04-28 19:56:11,110] Trial 64 finished with value: 0.5583801806436758 and parameters: {'n_estimators': 286, 'criterion': 'squared_error', 'max_depth': 25, 'min_samples_leaf': 1, 'max_features': 0.5829319791291536}. Best is trial 22 with value: 0.5567201683653125.\n",
            "[I 2024-04-28 19:56:13,879] Trial 65 finished with value: 0.5566719138047522 and parameters: {'n_estimators': 311, 'criterion': 'squared_error', 'max_depth': 25, 'min_samples_leaf': 1, 'max_features': 0.5383722414038362}. Best is trial 65 with value: 0.5566719138047522.\n",
            "[I 2024-04-28 19:56:37,977] Trial 66 pruned. \n",
            "[I 2024-04-28 19:56:40,319] Trial 67 pruned. \n",
            "[I 2024-04-28 19:57:08,870] Trial 68 pruned. \n",
            "[I 2024-04-28 19:57:09,244] Trial 69 finished with value: 0.5651040363043364 and parameters: {'n_estimators': 268, 'criterion': 'squared_error', 'max_depth': 25, 'min_samples_leaf': 1, 'max_features': 0.40612411341858595}. Best is trial 65 with value: 0.5566719138047522.\n",
            "[I 2024-04-28 19:57:31,725] Trial 70 pruned. \n",
            "[I 2024-04-28 19:57:32,608] Trial 71 pruned. \n",
            "[I 2024-04-28 19:57:48,415] Trial 72 finished with value: 0.5572076439059687 and parameters: {'n_estimators': 179, 'criterion': 'squared_error', 'max_depth': 21, 'min_samples_leaf': 1, 'max_features': 0.5042127547479106}. Best is trial 65 with value: 0.5566719138047522.\n",
            "[I 2024-04-28 19:58:03,248] Trial 74 finished with value: 0.5584075276475735 and parameters: {'n_estimators': 156, 'criterion': 'squared_error', 'max_depth': 22, 'min_samples_leaf': 1, 'max_features': 0.5008433937040532}. Best is trial 65 with value: 0.5566719138047522.\n",
            "[I 2024-04-28 19:58:21,303] Trial 75 finished with value: 0.5579341601152055 and parameters: {'n_estimators': 180, 'criterion': 'squared_error', 'max_depth': 20, 'min_samples_leaf': 1, 'max_features': 0.4850478812597624}. Best is trial 65 with value: 0.5566719138047522.\n",
            "[I 2024-04-28 19:58:32,638] Trial 76 finished with value: 0.5600897593868197 and parameters: {'n_estimators': 126, 'criterion': 'squared_error', 'max_depth': 20, 'min_samples_leaf': 1, 'max_features': 0.47205700305143306}. Best is trial 65 with value: 0.5566719138047522.\n",
            "[I 2024-04-28 19:59:12,417] Trial 77 finished with value: 0.5607152390638416 and parameters: {'n_estimators': 157, 'criterion': 'absolute_error', 'max_depth': 22, 'min_samples_leaf': 1, 'max_features': 0.5067811383999331}. Best is trial 65 with value: 0.5566719138047522.\n",
            "[I 2024-04-28 19:59:20,419] Trial 78 pruned. \n",
            "[I 2024-04-28 19:59:37,676] Trial 79 finished with value: 0.5602536050494341 and parameters: {'n_estimators': 189, 'criterion': 'squared_error', 'max_depth': 15, 'min_samples_leaf': 1, 'max_features': 0.5641406602812138}. Best is trial 65 with value: 0.5566719138047522.\n",
            "[I 2024-04-28 19:59:43,433] Trial 73 finished with value: 0.5589171561748618 and parameters: {'n_estimators': 443, 'criterion': 'absolute_error', 'max_depth': 23, 'min_samples_leaf': 1, 'max_features': 0.5030883850654904}. Best is trial 65 with value: 0.5566719138047522.\n",
            "[I 2024-04-28 19:59:49,430] Trial 80 pruned. \n"
          ]
        }
      ]
    },
    {
      "cell_type": "markdown",
      "source": [
        "Lagring av resultater"
      ],
      "metadata": {
        "id": "rhtY8WGq_jcr"
      }
    },
    {
      "cell_type": "code",
      "source": [
        "res_1_hel = pd.DataFrame(res.dict_res_1_hel)\n",
        "res_1_hel_opt = pd.DataFrame(res.dict_res_1_hel_opt)\n",
        "\n",
        "res_1_hel.to_csv('/content/drive/MyDrive/MasterV24/Bioco_data/Resultater/brixadjusted/brixadjusted_resultater_1_hel.csv')\n",
        "res_1_hel_opt.to_csv('/content/drive/MyDrive/MasterV24/Bioco_data/Resultater/brixadjusted/brixadjusted_resultater_1_hel_opt.csv')"
      ],
      "metadata": {
        "id": "ZMEjdoR6_jcr"
      },
      "execution_count": null,
      "outputs": []
    },
    {
      "cell_type": "markdown",
      "source": [
        "Velger beste modell"
      ],
      "metadata": {
        "id": "bwX1RP9pXiU_"
      }
    },
    {
      "cell_type": "code",
      "source": [],
      "metadata": {
        "id": "ioPAXcdFXkf7"
      },
      "execution_count": null,
      "outputs": []
    },
    {
      "cell_type": "markdown",
      "source": [
        "## Alternativ 2: 25% Testsett og resteremde hele treningssett"
      ],
      "metadata": {
        "id": "Vug3qjOcXxOJ"
      }
    },
    {
      "cell_type": "code",
      "source": [
        "# Definerer trenings- og testandel\n",
        "test_andel = 0.25\n",
        "trenings_andel = 1.0\n",
        "\n",
        "# Deler datasettet i trening og testsett\n",
        "trening_markert, testsett, _, trening\\\n",
        "= trening_testsett_oppdeling_dag(rå_data,\n",
        "                                 data,\n",
        "                                 test_andel=test_andel,\n",
        "                                 test_ekskluder_kalkun_kylling=True)"
      ],
      "metadata": {
        "id": "JzADzCY1X0Zx"
      },
      "execution_count": null,
      "outputs": []
    },
    {
      "cell_type": "code",
      "source": [
        "# Finner antall av enzymtype med minst antall\n",
        "n_splitt = n_splitt_enzym(rå_data,\n",
        "                          trening_markert)\n",
        "\n",
        "# Modelloptimalisering, trening og evaluering av RFR, KNR og SVR\n",
        "veiledet_modell_evaluering_2(dict_res_opt=res.dict_res_2_hel_opt,\n",
        "                             dict_res=res.dict_res_2_hel,\n",
        "                             rå_data=rå_data,\n",
        "                             treningssett_markert=trening_markert,\n",
        "                             testsett=testsett,\n",
        "                             n_splitt=n_splitt,\n",
        "                             n_runder=n_runder,\n",
        "                             test_andel=test_andel,\n",
        "                             trenings_andel=trenings_andel,\n",
        "                             random_seed=random_seed)"
      ],
      "metadata": {
        "id": "-GW5AyE7X5Sh"
      },
      "execution_count": null,
      "outputs": []
    },
    {
      "cell_type": "markdown",
      "source": [
        "Lagring av resultater"
      ],
      "metadata": {
        "id": "fSoCXuldMy4N"
      }
    },
    {
      "cell_type": "code",
      "source": [
        "res_2_hel = pd.DataFrame(res.dict_res_2_hel)\n",
        "res_2_hel_opt = pd.DataFrame(res.dict_res_2_hel_opt)\n",
        "\n",
        "res_2_hel.to_csv('/content/drive/MyDrive/MasterV24/Bioco_data/Resultater/brixadjusted/brixadjusted_resultater_2_hel.csv')\n",
        "res_2_hel_opt.to_csv('/content/drive/MyDrive/MasterV24/Bioco_data/Resultater/brixadjusted/brixadjusted_resultater_2_hel_opt.csv')"
      ],
      "metadata": {
        "id": "NI500ZYUMy4N"
      },
      "execution_count": null,
      "outputs": []
    },
    {
      "cell_type": "markdown",
      "source": [
        "Velger beste modell"
      ],
      "metadata": {
        "id": "nEi8u82bX7Vg"
      }
    },
    {
      "cell_type": "code",
      "source": [],
      "metadata": {
        "id": "qOJEIwcyX9iw"
      },
      "execution_count": null,
      "outputs": []
    },
    {
      "cell_type": "markdown",
      "metadata": {
        "id": "un6mDEGPFIHt"
      },
      "source": [
        "## Designproduksjon"
      ]
    },
    {
      "cell_type": "markdown",
      "source": [
        "## Alternativ 1: 75% Testsett og Hele resterende treningssett"
      ],
      "metadata": {
        "id": "eSEqU-HmSlHL"
      }
    },
    {
      "cell_type": "code",
      "source": [
        "# Setter fast testandel og treningsandel\n",
        "test_andel = 0.75\n",
        "trenings_andel = 1.0\n",
        "\n",
        "# Deler datasettet i trening og testsett\n",
        "trening_markert, enzymtyper_markert, testsett, _, _, _, trening\\\n",
        "= trening_testsett_oppdeling_enzym(rå_data,\n",
        "                                   data_design,\n",
        "                                   test_andel=test_andel)"
      ],
      "metadata": {
        "id": "paelAUWiSlHL"
      },
      "execution_count": null,
      "outputs": []
    },
    {
      "cell_type": "code",
      "source": [
        "# Finner antall av enzymtype med minst antall\n",
        "n_splitt = n_splitt_enzym(rå_data,\n",
        "                          trening_markert)\n",
        "\n",
        "# Modelloptimalisering, trening og evaluering av RFR, KNR og SVR\n",
        "veiledet_modell_evaluering_1(dict_res_opt=res.dict_res_1_design_opt,\n",
        "                             dict_res=res.dict_res_1_design,\n",
        "                             treningssett_markert=trening_markert,\n",
        "                             enzymtyper_treningssett_markert=enzymtyper_markert,\n",
        "                             testsett=testsett,\n",
        "                             n_splitt=n_splitt,\n",
        "                             n_gjentagelser=n_gjentagelser,\n",
        "                             n_runder=n_runder,\n",
        "                             test_andel=test_andel,\n",
        "                             trenings_andel=trenings_andel,\n",
        "                             random_seed=random_seed)"
      ],
      "metadata": {
        "colab": {
          "base_uri": "https://localhost:8080/"
        },
        "id": "w64oGKlwSlHL",
        "outputId": "74720478-b1f8-4f2f-dc9b-c174fbd3f4d8"
      },
      "execution_count": null,
      "outputs": [
        {
          "output_type": "stream",
          "name": "stderr",
          "text": [
            "[I 2024-04-28 15:36:41,658] A new study created in memory with name: no-name-13ad8672-a67f-4f70-8389-fa99e7589667\n",
            "[I 2024-04-28 15:36:42,066] Trial 1 finished with value: 4.287851594475565 and parameters: {'n_neighbors': 7, 'weights': 'uniform', 'p': 1}. Best is trial 1 with value: 4.287851594475565.\n",
            "[I 2024-04-28 15:36:42,097] Trial 0 finished with value: 4.382262579331768 and parameters: {'n_neighbors': 8, 'weights': 'distance', 'p': 10}. Best is trial 1 with value: 4.287851594475565.\n",
            "[I 2024-04-28 15:36:42,409] Trial 2 finished with value: 4.681101455047659 and parameters: {'n_neighbors': 2, 'weights': 'uniform', 'p': 3}. Best is trial 1 with value: 4.287851594475565.\n",
            "[I 2024-04-28 15:36:42,462] Trial 3 finished with value: 4.740376919200939 and parameters: {'n_neighbors': 2, 'weights': 'distance', 'p': 4}. Best is trial 1 with value: 4.287851594475565.\n",
            "[I 2024-04-28 15:36:42,791] Trial 4 finished with value: 4.442448791944665 and parameters: {'n_neighbors': 7, 'weights': 'uniform', 'p': 10}. Best is trial 1 with value: 4.287851594475565.\n",
            "[I 2024-04-28 15:36:43,159] Trial 5 finished with value: 4.416565775814692 and parameters: {'n_neighbors': 10, 'weights': 'distance', 'p': 10}. Best is trial 1 with value: 4.287851594475565.\n",
            "[I 2024-04-28 15:36:43,202] Trial 6 finished with value: 4.651832670995638 and parameters: {'n_neighbors': 3, 'weights': 'uniform', 'p': 9}. Best is trial 1 with value: 4.287851594475565.\n",
            "[I 2024-04-28 15:36:43,541] Trial 7 finished with value: 4.700602073804045 and parameters: {'n_neighbors': 2, 'weights': 'distance', 'p': 9}. Best is trial 1 with value: 4.287851594475565.\n",
            "[I 2024-04-28 15:36:43,580] Trial 8 finished with value: 4.4499746864778125 and parameters: {'n_neighbors': 9, 'weights': 'uniform', 'p': 6}. Best is trial 1 with value: 4.287851594475565.\n",
            "[I 2024-04-28 15:36:43,894] Trial 9 finished with value: 4.57852768336896 and parameters: {'n_neighbors': 3, 'weights': 'distance', 'p': 4}. Best is trial 1 with value: 4.287851594475565.\n",
            "[I 2024-04-28 15:36:43,938] Trial 10 finished with value: 5.328190530963433 and parameters: {'n_neighbors': 1, 'weights': 'distance', 'p': 9}. Best is trial 1 with value: 4.287851594475565.\n",
            "[I 2024-04-28 15:36:44,403] Trial 12 finished with value: 4.287851594475565 and parameters: {'n_neighbors': 7, 'weights': 'uniform', 'p': 1}. Best is trial 1 with value: 4.287851594475565.\n",
            "[I 2024-04-28 15:36:44,433] Trial 11 finished with value: 4.516333927571764 and parameters: {'n_neighbors': 5, 'weights': 'uniform', 'p': 1}. Best is trial 1 with value: 4.287851594475565.\n",
            "[I 2024-04-28 15:36:44,930] Trial 14 finished with value: 4.380812585744653 and parameters: {'n_neighbors': 6, 'weights': 'uniform', 'p': 1}. Best is trial 1 with value: 4.287851594475565.\n",
            "[I 2024-04-28 15:36:44,934] Trial 13 finished with value: 4.380812585744653 and parameters: {'n_neighbors': 6, 'weights': 'uniform', 'p': 1}. Best is trial 1 with value: 4.287851594475565.\n",
            "[I 2024-04-28 15:36:45,350] Trial 15 finished with value: 4.510088472768823 and parameters: {'n_neighbors': 5, 'weights': 'uniform', 'p': 3}. Best is trial 1 with value: 4.287851594475565.\n",
            "[I 2024-04-28 15:36:45,379] Trial 16 finished with value: 4.510088472768823 and parameters: {'n_neighbors': 5, 'weights': 'uniform', 'p': 3}. Best is trial 1 with value: 4.287851594475565.\n",
            "[I 2024-04-28 15:36:45,775] Trial 17 finished with value: 4.47620857667278 and parameters: {'n_neighbors': 8, 'weights': 'uniform', 'p': 6}. Best is trial 1 with value: 4.287851594475565.\n",
            "[I 2024-04-28 15:36:45,809] Trial 18 finished with value: 4.47620857667278 and parameters: {'n_neighbors': 8, 'weights': 'uniform', 'p': 6}. Best is trial 1 with value: 4.287851594475565.\n",
            "[I 2024-04-28 15:36:46,303] Trial 19 finished with value: 4.221702731481866 and parameters: {'n_neighbors': 7, 'weights': 'uniform', 'p': 2}. Best is trial 19 with value: 4.221702731481866.\n",
            "[I 2024-04-28 15:36:46,347] Trial 20 finished with value: 4.349677398282622 and parameters: {'n_neighbors': 10, 'weights': 'uniform', 'p': 2}. Best is trial 19 with value: 4.221702731481866.\n",
            "[I 2024-04-28 15:36:46,760] Trial 21 finished with value: 4.349677398282622 and parameters: {'n_neighbors': 10, 'weights': 'uniform', 'p': 2}. Best is trial 19 with value: 4.221702731481866.\n",
            "[I 2024-04-28 15:36:46,774] Trial 22 finished with value: 4.221702731481866 and parameters: {'n_neighbors': 7, 'weights': 'uniform', 'p': 2}. Best is trial 19 with value: 4.221702731481866.\n",
            "[I 2024-04-28 15:36:47,460] Trial 23 finished with value: 4.221702731481866 and parameters: {'n_neighbors': 7, 'weights': 'uniform', 'p': 2}. Best is trial 19 with value: 4.221702731481866.\n",
            "[I 2024-04-28 15:36:47,519] Trial 24 finished with value: 4.221702731481866 and parameters: {'n_neighbors': 7, 'weights': 'uniform', 'p': 2}. Best is trial 19 with value: 4.221702731481866.\n",
            "[I 2024-04-28 15:36:48,260] Trial 26 finished with value: 4.494047383091317 and parameters: {'n_neighbors': 6, 'weights': 'uniform', 'p': 4}. Best is trial 19 with value: 4.221702731481866.\n",
            "[I 2024-04-28 15:36:48,392] Trial 25 finished with value: 4.494047383091317 and parameters: {'n_neighbors': 6, 'weights': 'uniform', 'p': 4}. Best is trial 19 with value: 4.221702731481866.\n",
            "[I 2024-04-28 15:36:49,112] Trial 27 finished with value: 4.418785415979566 and parameters: {'n_neighbors': 9, 'weights': 'uniform', 'p': 5}. Best is trial 19 with value: 4.221702731481866.\n",
            "[I 2024-04-28 15:36:49,211] Trial 28 finished with value: 4.418785415979566 and parameters: {'n_neighbors': 9, 'weights': 'uniform', 'p': 5}. Best is trial 19 with value: 4.221702731481866.\n",
            "[I 2024-04-28 15:36:49,650] Trial 29 finished with value: 4.621308379931523 and parameters: {'n_neighbors': 4, 'weights': 'uniform', 'p': 7}. Best is trial 19 with value: 4.221702731481866.\n",
            "[I 2024-04-28 15:36:49,747] Trial 30 finished with value: 4.444913056989905 and parameters: {'n_neighbors': 4, 'weights': 'distance', 'p': 2}. Best is trial 19 with value: 4.221702731481866.\n",
            "[I 2024-04-28 15:36:50,289] Trial 31 finished with value: 4.168299216627328 and parameters: {'n_neighbors': 8, 'weights': 'distance', 'p': 2}. Best is trial 31 with value: 4.168299216627328.\n",
            "[I 2024-04-28 15:36:50,366] Trial 32 finished with value: 4.221702731481866 and parameters: {'n_neighbors': 7, 'weights': 'uniform', 'p': 2}. Best is trial 31 with value: 4.168299216627328.\n",
            "[I 2024-04-28 15:36:50,987] Trial 33 finished with value: 4.2136365928522 and parameters: {'n_neighbors': 8, 'weights': 'distance', 'p': 3}. Best is trial 31 with value: 4.168299216627328.\n",
            "[I 2024-04-28 15:36:51,070] Trial 34 finished with value: 4.2136365928522 and parameters: {'n_neighbors': 8, 'weights': 'distance', 'p': 3}. Best is trial 31 with value: 4.168299216627328.\n",
            "[I 2024-04-28 15:36:51,499] Trial 35 finished with value: 4.2136365928522 and parameters: {'n_neighbors': 8, 'weights': 'distance', 'p': 3}. Best is trial 31 with value: 4.168299216627328.\n",
            "[I 2024-04-28 15:36:51,604] Trial 36 finished with value: 4.2136365928522 and parameters: {'n_neighbors': 8, 'weights': 'distance', 'p': 3}. Best is trial 31 with value: 4.168299216627328.\n",
            "[I 2024-04-28 15:36:51,912] Trial 37 finished with value: 4.2136365928522 and parameters: {'n_neighbors': 8, 'weights': 'distance', 'p': 3}. Best is trial 31 with value: 4.168299216627328.\n",
            "[I 2024-04-28 15:36:51,991] Trial 38 finished with value: 4.243588276475409 and parameters: {'n_neighbors': 9, 'weights': 'distance', 'p': 3}. Best is trial 31 with value: 4.168299216627328.\n",
            "[I 2024-04-28 15:36:52,216] Trial 39 finished with value: 4.315278072564208 and parameters: {'n_neighbors': 9, 'weights': 'distance', 'p': 4}. Best is trial 31 with value: 4.168299216627328.\n",
            "[I 2024-04-28 15:36:52,449] Trial 40 finished with value: 4.317091952619987 and parameters: {'n_neighbors': 8, 'weights': 'distance', 'p': 4}. Best is trial 31 with value: 4.168299216627328.\n",
            "[I 2024-04-28 15:36:52,662] Trial 41 finished with value: 4.344200545545179 and parameters: {'n_neighbors': 8, 'weights': 'distance', 'p': 5}. Best is trial 31 with value: 4.168299216627328.\n",
            "[I 2024-04-28 15:36:52,854] Trial 42 finished with value: 4.2136365928522 and parameters: {'n_neighbors': 8, 'weights': 'distance', 'p': 3}. Best is trial 31 with value: 4.168299216627328.\n",
            "[I 2024-04-28 15:36:53,066] Trial 43 finished with value: 4.2136365928522 and parameters: {'n_neighbors': 8, 'weights': 'distance', 'p': 3}. Best is trial 31 with value: 4.168299216627328.\n",
            "[I 2024-04-28 15:36:53,269] Trial 44 finished with value: 4.243588276475409 and parameters: {'n_neighbors': 9, 'weights': 'distance', 'p': 3}. Best is trial 31 with value: 4.168299216627328.\n",
            "[I 2024-04-28 15:36:53,458] Trial 45 finished with value: 4.243588276475409 and parameters: {'n_neighbors': 9, 'weights': 'distance', 'p': 3}. Best is trial 31 with value: 4.168299216627328.\n",
            "[I 2024-04-28 15:36:53,639] Trial 46 finished with value: 4.302240984074652 and parameters: {'n_neighbors': 10, 'weights': 'distance', 'p': 4}. Best is trial 31 with value: 4.168299216627328.\n",
            "[I 2024-04-28 15:36:53,867] Trial 47 finished with value: 4.302240984074652 and parameters: {'n_neighbors': 10, 'weights': 'distance', 'p': 4}. Best is trial 31 with value: 4.168299216627328.\n",
            "[I 2024-04-28 15:36:53,970] Trial 48 finished with value: 4.201208914938722 and parameters: {'n_neighbors': 8, 'weights': 'distance', 'p': 1}. Best is trial 31 with value: 4.168299216627328.\n",
            "[I 2024-04-28 15:36:54,191] Trial 49 finished with value: 4.201208914938722 and parameters: {'n_neighbors': 8, 'weights': 'distance', 'p': 1}. Best is trial 31 with value: 4.168299216627328.\n",
            "[I 2024-04-28 15:36:54,418] Trial 50 finished with value: 4.3227828215180555 and parameters: {'n_neighbors': 6, 'weights': 'distance', 'p': 1}. Best is trial 31 with value: 4.168299216627328.\n",
            "[I 2024-04-28 15:36:54,653] Trial 51 finished with value: 4.3227828215180555 and parameters: {'n_neighbors': 6, 'weights': 'distance', 'p': 1}. Best is trial 31 with value: 4.168299216627328.\n",
            "[I 2024-04-28 15:36:54,831] Trial 52 finished with value: 4.201208914938722 and parameters: {'n_neighbors': 8, 'weights': 'distance', 'p': 1}. Best is trial 31 with value: 4.168299216627328.\n",
            "[I 2024-04-28 15:36:55,116] Trial 53 finished with value: 4.197104887301629 and parameters: {'n_neighbors': 9, 'weights': 'distance', 'p': 1}. Best is trial 31 with value: 4.168299216627328.\n",
            "[I 2024-04-28 15:36:55,279] Trial 54 finished with value: 4.197104887301629 and parameters: {'n_neighbors': 9, 'weights': 'distance', 'p': 1}. Best is trial 31 with value: 4.168299216627328.\n",
            "[I 2024-04-28 15:36:55,504] Trial 55 finished with value: 4.197104887301629 and parameters: {'n_neighbors': 9, 'weights': 'distance', 'p': 1}. Best is trial 31 with value: 4.168299216627328.\n",
            "[I 2024-04-28 15:36:55,619] Trial 56 finished with value: 4.197104887301629 and parameters: {'n_neighbors': 9, 'weights': 'distance', 'p': 1}. Best is trial 31 with value: 4.168299216627328.\n",
            "[I 2024-04-28 15:36:55,862] Trial 57 finished with value: 4.197104887301629 and parameters: {'n_neighbors': 9, 'weights': 'distance', 'p': 1}. Best is trial 31 with value: 4.168299216627328.\n",
            "[I 2024-04-28 15:36:55,996] Trial 58 finished with value: 4.206916389437756 and parameters: {'n_neighbors': 10, 'weights': 'distance', 'p': 1}. Best is trial 31 with value: 4.168299216627328.\n",
            "[I 2024-04-28 15:36:56,261] Trial 59 finished with value: 4.206916389437756 and parameters: {'n_neighbors': 10, 'weights': 'distance', 'p': 1}. Best is trial 31 with value: 4.168299216627328.\n",
            "[I 2024-04-28 15:36:56,429] Trial 60 finished with value: 4.197104887301629 and parameters: {'n_neighbors': 9, 'weights': 'distance', 'p': 1}. Best is trial 31 with value: 4.168299216627328.\n",
            "[I 2024-04-28 15:36:56,713] Trial 61 finished with value: 4.207433749836565 and parameters: {'n_neighbors': 9, 'weights': 'distance', 'p': 2}. Best is trial 31 with value: 4.168299216627328.\n",
            "[I 2024-04-28 15:36:56,860] Trial 62 finished with value: 4.197104887301629 and parameters: {'n_neighbors': 9, 'weights': 'distance', 'p': 1}. Best is trial 31 with value: 4.168299216627328.\n",
            "[I 2024-04-28 15:36:56,973] Trial 63 finished with value: 4.197104887301629 and parameters: {'n_neighbors': 9, 'weights': 'distance', 'p': 1}. Best is trial 31 with value: 4.168299216627328.\n",
            "[I 2024-04-28 15:36:57,154] Trial 64 finished with value: 4.197104887301629 and parameters: {'n_neighbors': 9, 'weights': 'distance', 'p': 1}. Best is trial 31 with value: 4.168299216627328.\n",
            "[I 2024-04-28 15:36:57,373] Trial 65 finished with value: 4.224579475027092 and parameters: {'n_neighbors': 10, 'weights': 'distance', 'p': 2}. Best is trial 31 with value: 4.168299216627328.\n",
            "[I 2024-04-28 15:36:57,484] Trial 66 finished with value: 4.224579475027092 and parameters: {'n_neighbors': 10, 'weights': 'distance', 'p': 2}. Best is trial 31 with value: 4.168299216627328.\n",
            "[I 2024-04-28 15:36:57,682] Trial 68 finished with value: 5.173237858160905 and parameters: {'n_neighbors': 1, 'weights': 'distance', 'p': 1}. Best is trial 31 with value: 4.168299216627328.\n",
            "[I 2024-04-28 15:36:57,741] Trial 67 finished with value: 4.422360928558475 and parameters: {'n_neighbors': 10, 'weights': 'distance', 'p': 8}. Best is trial 31 with value: 4.168299216627328.\n",
            "[I 2024-04-28 15:36:57,877] Trial 69 finished with value: 4.207433749836565 and parameters: {'n_neighbors': 9, 'weights': 'distance', 'p': 2}. Best is trial 31 with value: 4.168299216627328.\n",
            "[I 2024-04-28 15:36:58,010] Trial 70 finished with value: 4.207433749836565 and parameters: {'n_neighbors': 9, 'weights': 'distance', 'p': 2}. Best is trial 31 with value: 4.168299216627328.\n",
            "[I 2024-04-28 15:36:58,229] Trial 71 finished with value: 4.197104887301629 and parameters: {'n_neighbors': 9, 'weights': 'distance', 'p': 1}. Best is trial 31 with value: 4.168299216627328.\n",
            "[I 2024-04-28 15:36:58,371] Trial 72 finished with value: 4.197104887301629 and parameters: {'n_neighbors': 9, 'weights': 'distance', 'p': 1}. Best is trial 31 with value: 4.168299216627328.\n",
            "[I 2024-04-28 15:36:58,454] Trial 73 finished with value: 4.197104887301629 and parameters: {'n_neighbors': 9, 'weights': 'distance', 'p': 1}. Best is trial 31 with value: 4.168299216627328.\n",
            "[I 2024-04-28 15:36:58,618] Trial 74 finished with value: 4.197104887301629 and parameters: {'n_neighbors': 9, 'weights': 'distance', 'p': 1}. Best is trial 31 with value: 4.168299216627328.\n",
            "[I 2024-04-28 15:36:58,798] Trial 75 finished with value: 4.206916389437756 and parameters: {'n_neighbors': 10, 'weights': 'distance', 'p': 1}. Best is trial 31 with value: 4.168299216627328.\n",
            "[I 2024-04-28 15:36:58,978] Trial 77 finished with value: 4.207433749836565 and parameters: {'n_neighbors': 9, 'weights': 'distance', 'p': 2}. Best is trial 31 with value: 4.168299216627328.\n",
            "[I 2024-04-28 15:36:59,011] Trial 76 finished with value: 4.224579475027092 and parameters: {'n_neighbors': 10, 'weights': 'distance', 'p': 2}. Best is trial 31 with value: 4.168299216627328.\n",
            "[I 2024-04-28 15:36:59,243] Trial 79 finished with value: 4.197104887301629 and parameters: {'n_neighbors': 9, 'weights': 'distance', 'p': 1}. Best is trial 31 with value: 4.168299216627328.\n",
            "[I 2024-04-28 15:36:59,380] Trial 78 finished with value: 4.224579475027092 and parameters: {'n_neighbors': 10, 'weights': 'distance', 'p': 2}. Best is trial 31 with value: 4.168299216627328.\n",
            "[I 2024-04-28 15:36:59,599] Trial 81 finished with value: 4.240381190917521 and parameters: {'n_neighbors': 7, 'weights': 'distance', 'p': 1}. Best is trial 31 with value: 4.168299216627328.\n",
            "[I 2024-04-28 15:36:59,677] Trial 80 finished with value: 4.416565775814692 and parameters: {'n_neighbors': 10, 'weights': 'distance', 'p': 10}. Best is trial 31 with value: 4.168299216627328.\n",
            "[I 2024-04-28 15:36:59,852] Trial 82 finished with value: 4.197104887301629 and parameters: {'n_neighbors': 9, 'weights': 'distance', 'p': 1}. Best is trial 31 with value: 4.168299216627328.\n",
            "[I 2024-04-28 15:36:59,976] Trial 83 finished with value: 4.197104887301629 and parameters: {'n_neighbors': 9, 'weights': 'distance', 'p': 1}. Best is trial 31 with value: 4.168299216627328.\n",
            "[I 2024-04-28 15:37:00,128] Trial 84 finished with value: 4.197104887301629 and parameters: {'n_neighbors': 9, 'weights': 'distance', 'p': 1}. Best is trial 31 with value: 4.168299216627328.\n",
            "[I 2024-04-28 15:37:00,267] Trial 85 finished with value: 4.197104887301629 and parameters: {'n_neighbors': 9, 'weights': 'distance', 'p': 1}. Best is trial 31 with value: 4.168299216627328.\n",
            "[I 2024-04-28 15:37:00,424] Trial 86 finished with value: 4.207433749836565 and parameters: {'n_neighbors': 9, 'weights': 'distance', 'p': 2}. Best is trial 31 with value: 4.168299216627328.\n",
            "[I 2024-04-28 15:37:00,558] Trial 87 finished with value: 4.168299216627328 and parameters: {'n_neighbors': 8, 'weights': 'distance', 'p': 2}. Best is trial 31 with value: 4.168299216627328.\n",
            "[I 2024-04-28 15:37:00,843] Trial 88 finished with value: 4.168299216627328 and parameters: {'n_neighbors': 8, 'weights': 'distance', 'p': 2}. Best is trial 31 with value: 4.168299216627328.\n",
            "[I 2024-04-28 15:37:00,904] Trial 89 finished with value: 4.168299216627328 and parameters: {'n_neighbors': 8, 'weights': 'distance', 'p': 2}. Best is trial 31 with value: 4.168299216627328.\n",
            "[I 2024-04-28 15:37:01,223] Trial 90 finished with value: 4.183165318135788 and parameters: {'n_neighbors': 7, 'weights': 'distance', 'p': 2}. Best is trial 31 with value: 4.168299216627328.\n",
            "[I 2024-04-28 15:37:01,273] Trial 91 finished with value: 4.183165318135788 and parameters: {'n_neighbors': 7, 'weights': 'distance', 'p': 2}. Best is trial 31 with value: 4.168299216627328.\n",
            "[I 2024-04-28 15:37:01,540] Trial 92 finished with value: 4.183165318135788 and parameters: {'n_neighbors': 7, 'weights': 'distance', 'p': 2}. Best is trial 31 with value: 4.168299216627328.\n",
            "[I 2024-04-28 15:37:01,583] Trial 93 finished with value: 4.183165318135788 and parameters: {'n_neighbors': 7, 'weights': 'distance', 'p': 2}. Best is trial 31 with value: 4.168299216627328.\n",
            "[I 2024-04-28 15:37:01,862] Trial 94 finished with value: 4.183165318135788 and parameters: {'n_neighbors': 7, 'weights': 'distance', 'p': 2}. Best is trial 31 with value: 4.168299216627328.\n",
            "[I 2024-04-28 15:37:02,017] Trial 95 finished with value: 4.183165318135788 and parameters: {'n_neighbors': 7, 'weights': 'distance', 'p': 2}. Best is trial 31 with value: 4.168299216627328.\n",
            "[I 2024-04-28 15:37:02,216] Trial 96 finished with value: 4.183165318135788 and parameters: {'n_neighbors': 7, 'weights': 'distance', 'p': 2}. Best is trial 31 with value: 4.168299216627328.\n",
            "[I 2024-04-28 15:37:02,372] Trial 97 finished with value: 4.183165318135788 and parameters: {'n_neighbors': 7, 'weights': 'distance', 'p': 2}. Best is trial 31 with value: 4.168299216627328.\n",
            "[I 2024-04-28 15:37:02,571] Trial 98 finished with value: 4.256157724301205 and parameters: {'n_neighbors': 7, 'weights': 'distance', 'p': 3}. Best is trial 31 with value: 4.168299216627328.\n",
            "[I 2024-04-28 15:37:02,658] Trial 99 finished with value: 4.256157724301205 and parameters: {'n_neighbors': 7, 'weights': 'distance', 'p': 3}. Best is trial 31 with value: 4.168299216627328.\n",
            "[I 2024-04-28 15:37:02,680] A new study created in memory with name: no-name-271a2b47-8d06-4bdd-9565-fadd51ed7082\n",
            "[I 2024-04-28 15:37:36,213] Trial 1 finished with value: 4.023305768086933 and parameters: {'n_estimators': 644, 'criterion': 'friedman_mse', 'max_depth': 16, 'min_samples_leaf': 3, 'max_features': 0.689720257081701}. Best is trial 1 with value: 4.023305768086933.\n",
            "[I 2024-04-28 15:37:51,886] Trial 0 finished with value: 3.990976762920939 and parameters: {'n_estimators': 955, 'criterion': 'poisson', 'max_depth': 3, 'min_samples_leaf': 2, 'max_features': 0.9872256566469418}. Best is trial 0 with value: 3.990976762920939.\n",
            "[I 2024-04-28 15:38:04,146] Trial 3 finished with value: 4.3217880653027985 and parameters: {'n_estimators': 298, 'criterion': 'squared_error', 'max_depth': 7, 'min_samples_leaf': 3, 'max_features': 0.2150561241645817}. Best is trial 0 with value: 3.990976762920939.\n",
            "[I 2024-04-28 15:38:30,043] Trial 2 finished with value: 4.089876703382524 and parameters: {'n_estimators': 745, 'criterion': 'absolute_error', 'max_depth': 19, 'min_samples_leaf': 1, 'max_features': 0.24615344613151868}. Best is trial 0 with value: 3.990976762920939.\n",
            "[I 2024-04-28 15:38:42,453] Trial 4 finished with value: 4.163846927111327 and parameters: {'n_estimators': 968, 'criterion': 'friedman_mse', 'max_depth': 24, 'min_samples_leaf': 2, 'max_features': 0.19909068975791727}. Best is trial 0 with value: 3.990976762920939.\n",
            "[I 2024-04-28 15:38:55,636] Trial 5 finished with value: 4.607702464582964 and parameters: {'n_estimators': 568, 'criterion': 'absolute_error', 'max_depth': 10, 'min_samples_leaf': 5, 'max_features': 0.1549318978279866}. Best is trial 0 with value: 3.990976762920939.\n",
            "[I 2024-04-28 15:38:59,729] Trial 6 finished with value: 4.035385789617339 and parameters: {'n_estimators': 377, 'criterion': 'poisson', 'max_depth': 26, 'min_samples_leaf': 3, 'max_features': 0.5557445058621217}. Best is trial 0 with value: 3.990976762920939.\n",
            "[I 2024-04-28 15:39:12,115] Trial 8 finished with value: 4.032525077027317 and parameters: {'n_estimators': 291, 'criterion': 'squared_error', 'max_depth': 21, 'min_samples_leaf': 4, 'max_features': 0.8342839268885696}. Best is trial 0 with value: 3.990976762920939.\n",
            "[I 2024-04-28 15:39:22,907] Trial 9 finished with value: 4.105437700784243 and parameters: {'n_estimators': 266, 'criterion': 'poisson', 'max_depth': 23, 'min_samples_leaf': 4, 'max_features': 0.5796795458160091}. Best is trial 0 with value: 3.990976762920939.\n",
            "[I 2024-04-28 15:39:32,666] Trial 7 finished with value: 3.967326143070914 and parameters: {'n_estimators': 822, 'criterion': 'squared_error', 'max_depth': 29, 'min_samples_leaf': 3, 'max_features': 0.9354735961317945}. Best is trial 7 with value: 3.967326143070914.\n",
            "[I 2024-04-28 15:39:48,440] Trial 10 finished with value: 4.717723962774652 and parameters: {'n_estimators': 677, 'criterion': 'absolute_error', 'max_depth': 15, 'min_samples_leaf': 5, 'max_features': 0.12312236984525413}. Best is trial 7 with value: 3.967326143070914.\n",
            "[I 2024-04-28 15:40:14,232] Trial 11 finished with value: 4.003193092820655 and parameters: {'n_estimators': 802, 'criterion': 'squared_error', 'max_depth': 29, 'min_samples_leaf': 1, 'max_features': 0.9925536340284735}. Best is trial 7 with value: 3.967326143070914.\n",
            "[I 2024-04-28 15:40:30,684] Trial 12 finished with value: 4.07891060389476 and parameters: {'n_estimators': 996, 'criterion': 'poisson', 'max_depth': 2, 'min_samples_leaf': 1, 'max_features': 0.9465651695452663}. Best is trial 7 with value: 3.967326143070914.\n",
            "[I 2024-04-28 15:40:52,795] Trial 13 finished with value: 4.147462818991657 and parameters: {'n_estimators': 977, 'criterion': 'poisson', 'max_depth': 1, 'min_samples_leaf': 2, 'max_features': 0.9819357797544761}. Best is trial 7 with value: 3.967326143070914.\n",
            "[I 2024-04-28 15:41:10,312] Trial 14 finished with value: 3.9903245481540366 and parameters: {'n_estimators': 860, 'criterion': 'squared_error', 'max_depth': 3, 'min_samples_leaf': 2, 'max_features': 0.8064611012365663}. Best is trial 7 with value: 3.967326143070914.\n",
            "[I 2024-04-28 15:41:32,797] Trial 15 finished with value: 3.984579969116727 and parameters: {'n_estimators': 843, 'criterion': 'squared_error', 'max_depth': 9, 'min_samples_leaf': 2, 'max_features': 0.7924121267224968}. Best is trial 7 with value: 3.967326143070914.\n",
            "[I 2024-04-28 15:41:38,398] Trial 17 finished with value: 4.210325274584406 and parameters: {'n_estimators': 124, 'criterion': 'squared_error', 'max_depth': 11, 'min_samples_leaf': 4, 'max_features': 0.38991079536215606}. Best is trial 7 with value: 3.967326143070914.\n",
            "[I 2024-04-28 15:41:44,705] Trial 16 finished with value: 4.020059106099233 and parameters: {'n_estimators': 864, 'criterion': 'squared_error', 'max_depth': 10, 'min_samples_leaf': 4, 'max_features': 0.7798087846101123}. Best is trial 7 with value: 3.967326143070914.\n",
            "[I 2024-04-28 15:42:04,139] Trial 18 finished with value: 3.998992416275226 and parameters: {'n_estimators': 517, 'criterion': 'squared_error', 'max_depth': 29, 'min_samples_leaf': 2, 'max_features': 0.8024204126005338}. Best is trial 7 with value: 3.967326143070914.\n",
            "[I 2024-04-28 15:42:07,750] Trial 19 finished with value: 4.015100841802159 and parameters: {'n_estimators': 476, 'criterion': 'squared_error', 'max_depth': 30, 'min_samples_leaf': 2, 'max_features': 0.6798767973913479}. Best is trial 7 with value: 3.967326143070914.\n",
            "[I 2024-04-28 15:42:26,480] Trial 20 finished with value: 4.027255884170218 and parameters: {'n_estimators': 504, 'criterion': 'squared_error', 'max_depth': 15, 'min_samples_leaf': 3, 'max_features': 0.692263706207649}. Best is trial 7 with value: 3.967326143070914.\n",
            "[I 2024-04-28 15:42:39,762] Trial 21 finished with value: 3.9827599412727945 and parameters: {'n_estimators': 733, 'criterion': 'friedman_mse', 'max_depth': 15, 'min_samples_leaf': 3, 'max_features': 0.893934760579671}. Best is trial 7 with value: 3.967326143070914.\n",
            "[I 2024-04-28 15:43:04,842] Trial 22 finished with value: 3.97638032553334 and parameters: {'n_estimators': 873, 'criterion': 'squared_error', 'max_depth': 5, 'min_samples_leaf': 3, 'max_features': 0.8874622824181678}. Best is trial 7 with value: 3.967326143070914.\n",
            "[I 2024-04-28 15:43:11,579] Trial 23 finished with value: 3.9830888629716004 and parameters: {'n_estimators': 729, 'criterion': 'friedman_mse', 'max_depth': 6, 'min_samples_leaf': 3, 'max_features': 0.8694185234881355}. Best is trial 7 with value: 3.967326143070914.\n",
            "[I 2024-04-28 15:43:37,787] Trial 25 finished with value: 4.006898469021898 and parameters: {'n_estimators': 623, 'criterion': 'friedman_mse', 'max_depth': 18, 'min_samples_leaf': 4, 'max_features': 0.9092776600182568}. Best is trial 7 with value: 3.967326143070914.\n",
            "[I 2024-04-28 15:43:38,726] Trial 24 finished with value: 3.982687912243852 and parameters: {'n_estimators': 732, 'criterion': 'friedman_mse', 'max_depth': 7, 'min_samples_leaf': 3, 'max_features': 0.8787433525767248}. Best is trial 7 with value: 3.967326143070914.\n",
            "[I 2024-04-28 15:44:10,711] Trial 26 finished with value: 4.088296182193382 and parameters: {'n_estimators': 763, 'criterion': 'friedman_mse', 'max_depth': 13, 'min_samples_leaf': 3, 'max_features': 0.436070302859406}. Best is trial 7 with value: 3.967326143070914.\n",
            "[I 2024-04-28 15:44:13,557] Trial 27 finished with value: 4.035662731644173 and parameters: {'n_estimators': 796, 'criterion': 'friedman_mse', 'max_depth': 6, 'min_samples_leaf': 3, 'max_features': 0.47097862919594335}. Best is trial 7 with value: 3.967326143070914.\n",
            "[I 2024-04-28 15:44:46,103] Trial 28 finished with value: 4.046090689337329 and parameters: {'n_estimators': 911, 'criterion': 'friedman_mse', 'max_depth': 6, 'min_samples_leaf': 4, 'max_features': 0.7504020625706833}. Best is trial 7 with value: 3.967326143070914.\n",
            "[I 2024-04-28 15:44:57,667] Trial 29 finished with value: 4.030607241923805 and parameters: {'n_estimators': 920, 'criterion': 'absolute_error', 'max_depth': 5, 'min_samples_leaf': 4, 'max_features': 0.7484807299547992}. Best is trial 7 with value: 3.967326143070914.\n",
            "[I 2024-04-28 15:45:20,624] Trial 30 finished with value: 3.9927235219995163 and parameters: {'n_estimators': 684, 'criterion': 'absolute_error', 'max_depth': 5, 'min_samples_leaf': 3, 'max_features': 0.6348383921852303}. Best is trial 7 with value: 3.967326143070914.\n",
            "[I 2024-04-28 15:45:33,600] Trial 31 finished with value: 4.0173169849652215 and parameters: {'n_estimators': 905, 'criterion': 'squared_error', 'max_depth': 3, 'min_samples_leaf': 3, 'max_features': 0.6166444336670405}. Best is trial 7 with value: 3.967326143070914.\n",
            "[I 2024-04-28 15:45:46,651] Trial 32 finished with value: 3.9932416830633612 and parameters: {'n_estimators': 579, 'criterion': 'friedman_mse', 'max_depth': 12, 'min_samples_leaf': 3, 'max_features': 0.889693635173743}. Best is trial 7 with value: 3.967326143070914.\n",
            "[I 2024-04-28 15:45:59,786] Trial 33 finished with value: 3.9893639008157487 and parameters: {'n_estimators': 599, 'criterion': 'friedman_mse', 'max_depth': 13, 'min_samples_leaf': 3, 'max_features': 0.889858682664908}. Best is trial 7 with value: 3.967326143070914.\n",
            "[I 2024-04-28 15:46:17,347] Trial 34 finished with value: 3.976210769622839 and parameters: {'n_estimators': 692, 'criterion': 'friedman_mse', 'max_depth': 17, 'min_samples_leaf': 3, 'max_features': 0.9468772420456658}. Best is trial 7 with value: 3.967326143070914.\n",
            "[I 2024-04-28 15:46:29,901] Trial 35 finished with value: 3.97492203236682 and parameters: {'n_estimators': 712, 'criterion': 'friedman_mse', 'max_depth': 18, 'min_samples_leaf': 3, 'max_features': 0.9242741938876503}. Best is trial 7 with value: 3.967326143070914.\n",
            "[I 2024-04-28 15:46:47,934] Trial 36 finished with value: 3.991214617835133 and parameters: {'n_estimators': 675, 'criterion': 'friedman_mse', 'max_depth': 27, 'min_samples_leaf': 2, 'max_features': 0.9437286641304432}. Best is trial 7 with value: 3.967326143070914.\n",
            "[I 2024-04-28 15:47:00,167] Trial 37 finished with value: 3.9923466172252136 and parameters: {'n_estimators': 670, 'criterion': 'friedman_mse', 'max_depth': 18, 'min_samples_leaf': 2, 'max_features': 0.9480196871690026}. Best is trial 7 with value: 3.967326143070914.\n",
            "[I 2024-04-28 15:47:22,757] Trial 38 finished with value: 3.9674764302291305 and parameters: {'n_estimators': 812, 'criterion': 'squared_error', 'max_depth': 20, 'min_samples_leaf': 3, 'max_features': 0.9429334239089396}. Best is trial 7 with value: 3.967326143070914.\n",
            "[I 2024-04-28 15:47:38,909] Trial 39 finished with value: 3.9674889240636193 and parameters: {'n_estimators': 814, 'criterion': 'squared_error', 'max_depth': 21, 'min_samples_leaf': 3, 'max_features': 0.997757889935314}. Best is trial 7 with value: 3.967326143070914.\n",
            "[I 2024-04-28 15:48:00,056] Trial 40 finished with value: 3.989008372948365 and parameters: {'n_estimators': 791, 'criterion': 'poisson', 'max_depth': 22, 'min_samples_leaf': 4, 'max_features': 0.9454442116969547}. Best is trial 7 with value: 3.967326143070914.\n",
            "[I 2024-04-28 15:48:11,178] Trial 41 finished with value: 4.097841637241355 and parameters: {'n_estimators': 803, 'criterion': 'squared_error', 'max_depth': 21, 'min_samples_leaf': 5, 'max_features': 0.9956624987039074}. Best is trial 7 with value: 3.967326143070914.\n",
            "[I 2024-04-28 15:48:34,664] Trial 42 finished with value: 3.9819223307287794 and parameters: {'n_estimators': 771, 'criterion': 'squared_error', 'max_depth': 20, 'min_samples_leaf': 3, 'max_features': 0.8460978933481733}. Best is trial 7 with value: 3.967326143070914.\n",
            "[I 2024-04-28 15:48:48,218] Trial 43 finished with value: 3.9808668304978485 and parameters: {'n_estimators': 823, 'criterion': 'squared_error', 'max_depth': 20, 'min_samples_leaf': 3, 'max_features': 0.8390244125699686}. Best is trial 7 with value: 3.967326143070914.\n",
            "[I 2024-04-28 15:49:10,932] Trial 44 finished with value: 4.131336080677457 and parameters: {'n_estimators': 821, 'criterion': 'squared_error', 'max_depth': 25, 'min_samples_leaf': 3, 'max_features': 0.318853568522134}. Best is trial 7 with value: 3.967326143070914.\n",
            "[I 2024-04-28 15:49:19,956] Trial 45 finished with value: 3.9743124903365827 and parameters: {'n_estimators': 708, 'criterion': 'squared_error', 'max_depth': 25, 'min_samples_leaf': 3, 'max_features': 0.9402181349256945}. Best is trial 7 with value: 3.967326143070914.\n",
            "[I 2024-04-28 15:49:48,881] Trial 47 finished with value: 3.9871573991404023 and parameters: {'n_estimators': 722, 'criterion': 'squared_error', 'max_depth': 24, 'min_samples_leaf': 4, 'max_features': 0.9966329433513661}. Best is trial 7 with value: 3.967326143070914.\n",
            "[I 2024-04-28 15:49:51,954] Trial 46 finished with value: 3.9199905104318695 and parameters: {'n_estimators': 720, 'criterion': 'absolute_error', 'max_depth': 17, 'min_samples_leaf': 3, 'max_features': 0.9966189741720719}. Best is trial 46 with value: 3.9199905104318695.\n",
            "[I 2024-04-28 15:50:24,070] Trial 48 finished with value: 3.9888605454238877 and parameters: {'n_estimators': 932, 'criterion': 'squared_error', 'max_depth': 27, 'min_samples_leaf': 2, 'max_features': 0.9238458235564417}. Best is trial 46 with value: 3.9199905104318695.\n",
            "[I 2024-04-28 15:50:39,798] Trial 49 finished with value: 3.9643141643656152 and parameters: {'n_estimators': 945, 'criterion': 'absolute_error', 'max_depth': 27, 'min_samples_leaf': 2, 'max_features': 0.9677283724242854}. Best is trial 46 with value: 3.9199905104318695.\n",
            "[I 2024-04-28 15:50:51,295] Trial 50 finished with value: 3.9774093732701044 and parameters: {'n_estimators': 636, 'criterion': 'absolute_error', 'max_depth': 23, 'min_samples_leaf': 2, 'max_features': 0.9687448409554265}. Best is trial 46 with value: 3.9199905104318695.\n",
            "[I 2024-04-28 15:51:26,232] Trial 52 finished with value: 3.9659263405000797 and parameters: {'n_estimators': 878, 'criterion': 'absolute_error', 'max_depth': 27, 'min_samples_leaf': 2, 'max_features': 0.9936870270657576}. Best is trial 46 with value: 3.9199905104318695.\n",
            "[I 2024-04-28 15:51:31,224] Trial 51 finished with value: 3.9649533916083257 and parameters: {'n_estimators': 949, 'criterion': 'absolute_error', 'max_depth': 28, 'min_samples_leaf': 1, 'max_features': 0.9706206289593898}. Best is trial 46 with value: 3.9199905104318695.\n",
            "[I 2024-04-28 15:52:07,815] Trial 53 finished with value: 3.963944873569796 and parameters: {'n_estimators': 868, 'criterion': 'absolute_error', 'max_depth': 28, 'min_samples_leaf': 1, 'max_features': 0.9910002645421031}. Best is trial 46 with value: 3.9199905104318695.\n",
            "[I 2024-04-28 15:52:15,954] Trial 54 finished with value: 3.983452927367184 and parameters: {'n_estimators': 964, 'criterion': 'absolute_error', 'max_depth': 28, 'min_samples_leaf': 1, 'max_features': 0.8407977184450209}. Best is trial 46 with value: 3.9199905104318695.\n",
            "[I 2024-04-28 15:52:53,524] Trial 55 finished with value: 3.9810987732784553 and parameters: {'n_estimators': 961, 'criterion': 'absolute_error', 'max_depth': 28, 'min_samples_leaf': 1, 'max_features': 0.8480107006645811}. Best is trial 46 with value: 3.9199905104318695.\n",
            "[I 2024-04-28 15:52:58,165] Trial 56 finished with value: 3.9647501826827742 and parameters: {'n_estimators': 889, 'criterion': 'absolute_error', 'max_depth': 30, 'min_samples_leaf': 1, 'max_features': 0.9803763235725861}. Best is trial 46 with value: 3.9199905104318695.\n",
            "[I 2024-04-28 15:53:35,160] Trial 57 finished with value: 3.9647501826827742 and parameters: {'n_estimators': 889, 'criterion': 'absolute_error', 'max_depth': 30, 'min_samples_leaf': 1, 'max_features': 0.9711978304907714}. Best is trial 46 with value: 3.9199905104318695.\n",
            "[I 2024-04-28 15:53:45,047] Trial 58 finished with value: 3.9625759865797168 and parameters: {'n_estimators': 995, 'criterion': 'absolute_error', 'max_depth': 30, 'min_samples_leaf': 1, 'max_features': 0.9683621381085771}. Best is trial 46 with value: 3.9199905104318695.\n",
            "[I 2024-04-28 15:54:22,054] Trial 59 finished with value: 3.9617843737434213 and parameters: {'n_estimators': 990, 'criterion': 'absolute_error', 'max_depth': 30, 'min_samples_leaf': 1, 'max_features': 0.9651939277998526}. Best is trial 46 with value: 3.9199905104318695.\n",
            "[I 2024-04-28 15:54:31,317] Trial 60 finished with value: 3.9625759865797168 and parameters: {'n_estimators': 995, 'criterion': 'absolute_error', 'max_depth': 30, 'min_samples_leaf': 1, 'max_features': 0.9645647364666078}. Best is trial 46 with value: 3.9199905104318695.\n",
            "[I 2024-04-28 15:55:06,549] Trial 61 finished with value: 3.984448332782849 and parameters: {'n_estimators': 943, 'criterion': 'absolute_error', 'max_depth': 30, 'min_samples_leaf': 1, 'max_features': 0.9104211809219743}. Best is trial 46 with value: 3.9199905104318695.\n",
            "[I 2024-04-28 15:55:17,142] Trial 62 finished with value: 3.979363326602864 and parameters: {'n_estimators': 998, 'criterion': 'absolute_error', 'max_depth': 30, 'min_samples_leaf': 1, 'max_features': 0.9213136516919309}. Best is trial 46 with value: 3.9199905104318695.\n",
            "[I 2024-04-28 15:55:53,974] Trial 63 finished with value: 3.962845167588061 and parameters: {'n_estimators': 998, 'criterion': 'absolute_error', 'max_depth': 29, 'min_samples_leaf': 1, 'max_features': 0.9704562584950663}. Best is trial 46 with value: 3.9199905104318695.\n",
            "[I 2024-04-28 15:56:03,104] Trial 64 finished with value: 3.9797797764002807 and parameters: {'n_estimators': 1000, 'criterion': 'absolute_error', 'max_depth': 26, 'min_samples_leaf': 1, 'max_features': 0.8708062545148201}. Best is trial 46 with value: 3.9199905104318695.\n",
            "[I 2024-04-28 15:56:40,527] Trial 65 finished with value: 3.979363326602864 and parameters: {'n_estimators': 998, 'criterion': 'absolute_error', 'max_depth': 26, 'min_samples_leaf': 1, 'max_features': 0.8660361829371365}. Best is trial 46 with value: 3.9199905104318695.\n",
            "[I 2024-04-28 15:56:49,071] Trial 66 finished with value: 3.9816404605221836 and parameters: {'n_estimators': 974, 'criterion': 'absolute_error', 'max_depth': 25, 'min_samples_leaf': 1, 'max_features': 0.8186933281530759}. Best is trial 46 with value: 3.9199905104318695.\n",
            "[I 2024-04-28 15:57:25,188] Trial 68 finished with value: 4.045417712869816 and parameters: {'n_estimators': 854, 'criterion': 'absolute_error', 'max_depth': 29, 'min_samples_leaf': 1, 'max_features': 0.4988784367284135}. Best is trial 46 with value: 3.9199905104318695.\n",
            "[I 2024-04-28 15:57:25,822] Trial 67 finished with value: 3.9824095951511054 and parameters: {'n_estimators': 976, 'criterion': 'absolute_error', 'max_depth': 29, 'min_samples_leaf': 1, 'max_features': 0.8104741461500754}. Best is trial 46 with value: 3.9199905104318695.\n",
            "[I 2024-04-28 15:58:06,669] Trial 69 finished with value: 3.9866779359398037 and parameters: {'n_estimators': 929, 'criterion': 'absolute_error', 'max_depth': 28, 'min_samples_leaf': 1, 'max_features': 0.7742931978670614}. Best is trial 46 with value: 3.9199905104318695.\n",
            "[I 2024-04-28 15:58:07,347] Trial 70 finished with value: 3.987684340313476 and parameters: {'n_estimators': 929, 'criterion': 'absolute_error', 'max_depth': 28, 'min_samples_leaf': 1, 'max_features': 0.7663230950912512}. Best is trial 46 with value: 3.9199905104318695.\n",
            "[I 2024-04-28 15:58:26,985] Trial 71 finished with value: 3.982109310322917 and parameters: {'n_estimators': 450, 'criterion': 'absolute_error', 'max_depth': 29, 'min_samples_leaf': 1, 'max_features': 0.9653948112436296}. Best is trial 46 with value: 3.9199905104318695.\n",
            "[I 2024-04-28 15:58:47,587] Trial 72 finished with value: 3.9645054581992367 and parameters: {'n_estimators': 892, 'criterion': 'absolute_error', 'max_depth': 29, 'min_samples_leaf': 1, 'max_features': 0.9662273400342075}. Best is trial 46 with value: 3.9199905104318695.\n",
            "[I 2024-04-28 15:59:06,396] Trial 73 finished with value: 3.9845695397955785 and parameters: {'n_estimators': 877, 'criterion': 'absolute_error', 'max_depth': 30, 'min_samples_leaf': 1, 'max_features': 0.9024837417804588}. Best is trial 46 with value: 3.9199905104318695.\n",
            "[I 2024-04-28 15:59:32,954] Trial 74 finished with value: 3.984049680321344 and parameters: {'n_estimators': 905, 'criterion': 'absolute_error', 'max_depth': 27, 'min_samples_leaf': 1, 'max_features': 0.9034130632292829}. Best is trial 46 with value: 3.9199905104318695.\n",
            "[I 2024-04-28 15:59:41,424] Trial 75 finished with value: 3.9646423162200164 and parameters: {'n_estimators': 899, 'criterion': 'absolute_error', 'max_depth': 27, 'min_samples_leaf': 2, 'max_features': 0.9630315107789647}. Best is trial 46 with value: 3.9199905104318695.\n",
            "[I 2024-04-28 16:00:11,615] Trial 76 finished with value: 3.9637367555243963 and parameters: {'n_estimators': 846, 'criterion': 'absolute_error', 'max_depth': 29, 'min_samples_leaf': 2, 'max_features': 0.9556925152510646}. Best is trial 46 with value: 3.9199905104318695.\n",
            "[I 2024-04-28 16:00:20,764] Trial 77 finished with value: 3.994894916302964 and parameters: {'n_estimators': 955, 'criterion': 'poisson', 'max_depth': 29, 'min_samples_leaf': 1, 'max_features': 0.9249111959322679}. Best is trial 46 with value: 3.9199905104318695.\n",
            "[I 2024-04-28 16:00:45,877] Trial 78 finished with value: 3.9878123728615966 and parameters: {'n_estimators': 954, 'criterion': 'poisson', 'max_depth': 26, 'min_samples_leaf': 2, 'max_features': 0.9121724301725851}. Best is trial 46 with value: 3.9199905104318695.\n",
            "[I 2024-04-28 16:01:02,366] Trial 79 finished with value: 3.957054934927366 and parameters: {'n_estimators': 840, 'criterion': 'absolute_error', 'max_depth': 26, 'min_samples_leaf': 2, 'max_features': 0.8703301191413795}. Best is trial 46 with value: 3.9199905104318695.\n",
            "[I 2024-04-28 16:01:20,388] Trial 80 finished with value: 3.976705264289509 and parameters: {'n_estimators': 839, 'criterion': 'absolute_error', 'max_depth': 24, 'min_samples_leaf': 2, 'max_features': 0.7160752570476903}. Best is trial 46 with value: 3.9199905104318695.\n",
            "[I 2024-04-28 16:01:39,758] Trial 81 finished with value: 3.9567389125755223 and parameters: {'n_estimators': 843, 'criterion': 'absolute_error', 'max_depth': 24, 'min_samples_leaf': 2, 'max_features': 0.8691952883092454}. Best is trial 46 with value: 3.9199905104318695.\n",
            "[I 2024-04-28 16:02:03,995] Trial 82 finished with value: 3.9632381799103906 and parameters: {'n_estimators': 981, 'criterion': 'absolute_error', 'max_depth': 28, 'min_samples_leaf': 2, 'max_features': 0.9995091747583358}. Best is trial 46 with value: 3.9199905104318695.\n",
            "[I 2024-04-28 16:02:12,805] Trial 83 finished with value: 3.9637331643258196 and parameters: {'n_estimators': 769, 'criterion': 'absolute_error', 'max_depth': 28, 'min_samples_leaf': 2, 'max_features': 0.8713465988556088}. Best is trial 46 with value: 3.9199905104318695.\n",
            "[I 2024-04-28 16:02:36,733] Trial 84 finished with value: 3.964893709014366 and parameters: {'n_estimators': 760, 'criterion': 'absolute_error', 'max_depth': 30, 'min_samples_leaf': 2, 'max_features': 0.8691250174035636}. Best is trial 46 with value: 3.9199905104318695.\n",
            "[I 2024-04-28 16:02:44,670] Trial 86 finished with value: 3.958461816222165 and parameters: {'n_estimators': 163, 'criterion': 'absolute_error', 'max_depth': 26, 'min_samples_leaf': 2, 'max_features': 0.8915336630454237}. Best is trial 46 with value: 3.9199905104318695.\n",
            "[I 2024-04-28 16:02:45,515] Trial 85 finished with value: 3.9684610426760742 and parameters: {'n_estimators': 745, 'criterion': 'absolute_error', 'max_depth': 25, 'min_samples_leaf': 2, 'max_features': 0.8661636680744891}. Best is trial 46 with value: 3.9199905104318695.\n",
            "[I 2024-04-28 16:02:55,808] Trial 88 finished with value: 3.962789971793301 and parameters: {'n_estimators': 226, 'criterion': 'absolute_error', 'max_depth': 22, 'min_samples_leaf': 2, 'max_features': 0.9296517593133393}. Best is trial 46 with value: 3.9199905104318695.\n",
            "[I 2024-04-28 16:03:02,044] Trial 89 finished with value: 4.197794021745787 and parameters: {'n_estimators': 148, 'criterion': 'absolute_error', 'max_depth': 23, 'min_samples_leaf': 2, 'max_features': 0.20865997294154776}. Best is trial 46 with value: 3.9199905104318695.\n",
            "[I 2024-04-28 16:03:03,889] Trial 87 finished with value: 3.9827787830737367 and parameters: {'n_estimators': 432, 'criterion': 'absolute_error', 'max_depth': 26, 'min_samples_leaf': 2, 'max_features': 0.9292138509267731}. Best is trial 46 with value: 3.9199905104318695.\n",
            "[I 2024-04-28 16:03:12,094] Trial 90 finished with value: 3.9629413239639493 and parameters: {'n_estimators': 219, 'criterion': 'absolute_error', 'max_depth': 23, 'min_samples_leaf': 2, 'max_features': 0.9333645839338484}. Best is trial 46 with value: 3.9199905104318695.\n",
            "[I 2024-04-28 16:03:13,477] Trial 91 finished with value: 3.9595340024918917 and parameters: {'n_estimators': 204, 'criterion': 'absolute_error', 'max_depth': 14, 'min_samples_leaf': 2, 'max_features': 0.8233043386809233}. Best is trial 46 with value: 3.9199905104318695.\n",
            "[I 2024-04-28 16:03:20,653] Trial 92 finished with value: 3.956483828188208 and parameters: {'n_estimators': 201, 'criterion': 'absolute_error', 'max_depth': 24, 'min_samples_leaf': 2, 'max_features': 0.8933456494479186}. Best is trial 46 with value: 3.9199905104318695.\n",
            "[I 2024-04-28 16:03:21,861] Trial 93 finished with value: 3.9619529984769852 and parameters: {'n_estimators': 195, 'criterion': 'absolute_error', 'max_depth': 14, 'min_samples_leaf': 2, 'max_features': 0.8908288540038443}. Best is trial 46 with value: 3.9199905104318695.\n",
            "[I 2024-04-28 16:03:29,758] Trial 94 finished with value: 3.966644963096651 and parameters: {'n_estimators': 198, 'criterion': 'absolute_error', 'max_depth': 16, 'min_samples_leaf': 2, 'max_features': 0.8268096548912139}. Best is trial 46 with value: 3.9199905104318695.\n",
            "[I 2024-04-28 16:03:30,075] Trial 95 finished with value: 3.954845569257427 and parameters: {'n_estimators': 170, 'criterion': 'absolute_error', 'max_depth': 14, 'min_samples_leaf': 2, 'max_features': 0.8246244064479716}. Best is trial 46 with value: 3.9199905104318695.\n",
            "[I 2024-04-28 16:03:43,926] Trial 96 finished with value: 3.980670566524983 and parameters: {'n_estimators': 325, 'criterion': 'absolute_error', 'max_depth': 13, 'min_samples_leaf': 2, 'max_features': 0.7913997690587946}. Best is trial 46 with value: 3.9199905104318695.\n",
            "[I 2024-04-28 16:03:43,958] Trial 97 finished with value: 3.980976616228213 and parameters: {'n_estimators': 319, 'criterion': 'absolute_error', 'max_depth': 14, 'min_samples_leaf': 2, 'max_features': 0.7933199965175847}. Best is trial 46 with value: 3.9199905104318695.\n",
            "[I 2024-04-28 16:03:47,906] Trial 99 finished with value: 4.024145488463262 and parameters: {'n_estimators': 103, 'criterion': 'poisson', 'max_depth': 14, 'min_samples_leaf': 2, 'max_features': 0.737701213372247}. Best is trial 46 with value: 3.9199905104318695.\n",
            "[I 2024-04-28 16:03:48,475] Trial 98 finished with value: 3.961117642872767 and parameters: {'n_estimators': 100, 'criterion': 'absolute_error', 'max_depth': 14, 'min_samples_leaf': 2, 'max_features': 0.7489419430640399}. Best is trial 46 with value: 3.9199905104318695.\n",
            "[I 2024-04-28 16:03:49,702] A new study created in memory with name: no-name-96ba1640-5943-4039-a3d3-83d933956a76\n",
            "[I 2024-04-28 16:03:49,940] Trial 0 finished with value: 5.514542571859696 and parameters: {'kernel': 'poly', 'degree': 4, 'gamma': 'scale', 'C': 52.37007213093189, 'epsilon': 39.65937574089773}. Best is trial 0 with value: 5.514542571859696.\n",
            "[I 2024-04-28 16:03:49,973] Trial 1 finished with value: 5.514542571859696 and parameters: {'kernel': 'poly', 'degree': 18, 'gamma': 'auto', 'C': 27.35440530344659, 'epsilon': 41.91819225687894}. Best is trial 0 with value: 5.514542571859696.\n",
            "[I 2024-04-28 16:03:50,144] Trial 2 finished with value: 5.514542571859695 and parameters: {'kernel': 'linear', 'degree': 15, 'gamma': 'scale', 'C': 16.846933292356404, 'epsilon': 73.2008870384878}. Best is trial 2 with value: 5.514542571859695.\n",
            "[I 2024-04-28 16:03:50,219] Trial 3 finished with value: 5.514542571859697 and parameters: {'kernel': 'poly', 'degree': 13, 'gamma': 'auto', 'C': 94.77947888506445, 'epsilon': 78.16631137800235}. Best is trial 2 with value: 5.514542571859695.\n",
            "[I 2024-04-28 16:03:50,371] Trial 4 finished with value: 4.747081314584775 and parameters: {'kernel': 'linear', 'degree': 19, 'gamma': 'auto', 'C': 0.14317923549185532, 'epsilon': 6.758672341183375}. Best is trial 4 with value: 4.747081314584775.\n",
            "[I 2024-04-28 16:03:50,465] Trial 5 finished with value: 5.514542571859697 and parameters: {'kernel': 'linear', 'degree': 5, 'gamma': 'scale', 'C': 74.82651365484084, 'epsilon': 65.58116604450683}. Best is trial 4 with value: 4.747081314584775.\n",
            "[I 2024-04-28 16:03:50,602] Trial 6 finished with value: 5.514542571859695 and parameters: {'kernel': 'linear', 'degree': 13, 'gamma': 'scale', 'C': 56.97506286280268, 'epsilon': 82.10236165708953}. Best is trial 4 with value: 4.747081314584775.\n",
            "[I 2024-04-28 16:03:50,687] Trial 7 finished with value: 5.514542571859697 and parameters: {'kernel': 'poly', 'degree': 9, 'gamma': 'auto', 'C': 19.275472555685802, 'epsilon': 97.15216429394752}. Best is trial 4 with value: 4.747081314584775.\n",
            "[I 2024-04-28 16:03:50,828] Trial 8 finished with value: 5.514542571859696 and parameters: {'kernel': 'linear', 'degree': 16, 'gamma': 'scale', 'C': 96.50381557065325, 'epsilon': 35.52423144656231}. Best is trial 4 with value: 4.747081314584775.\n",
            "[I 2024-04-28 16:03:50,932] Trial 9 finished with value: 5.514542571859697 and parameters: {'kernel': 'linear', 'degree': 20, 'gamma': 'auto', 'C': 79.14242287709193, 'epsilon': 87.6654743105677}. Best is trial 4 with value: 4.747081314584775.\n",
            "[I 2024-04-28 16:03:51,108] Trial 10 finished with value: 5.514542571859696 and parameters: {'kernel': 'poly', 'degree': 11, 'gamma': 'scale', 'C': 1.495977023351667, 'epsilon': 15.703190176600225}. Best is trial 4 with value: 4.747081314584775.\n",
            "[I 2024-04-28 16:03:51,224] Trial 11 finished with value: 4.712342344922753 and parameters: {'kernel': 'rbf', 'degree': 9, 'gamma': 'auto', 'C': 40.37485545573707, 'epsilon': 4.942771694006105}. Best is trial 11 with value: 4.712342344922753.\n",
            "[I 2024-04-28 16:03:51,425] Trial 12 finished with value: 5.466350786709316 and parameters: {'kernel': 'rbf', 'degree': 16, 'gamma': 'auto', 'C': 1.5358877778107356, 'epsilon': 9.627587514076097}. Best is trial 11 with value: 4.712342344922753.\n",
            "[I 2024-04-28 16:03:51,509] Trial 13 finished with value: 4.174953239271044 and parameters: {'kernel': 'rbf', 'degree': 8, 'gamma': 'auto', 'C': 37.0960159601836, 'epsilon': 0.8340114951997419}. Best is trial 13 with value: 4.174953239271044.\n",
            "[I 2024-04-28 16:03:51,723] Trial 14 finished with value: 4.33332989186696 and parameters: {'kernel': 'rbf', 'degree': 7, 'gamma': 'auto', 'C': 36.243726331521714, 'epsilon': 2.8533188703478274}. Best is trial 13 with value: 4.174953239271044.\n",
            "[I 2024-04-28 16:03:51,828] Trial 15 finished with value: 5.514542571859696 and parameters: {'kernel': 'rbf', 'degree': 7, 'gamma': 'auto', 'C': 37.71483524042388, 'epsilon': 22.619569610987405}. Best is trial 13 with value: 4.174953239271044.\n",
            "[I 2024-04-28 16:03:51,995] Trial 16 finished with value: 5.514542571859696 and parameters: {'kernel': 'rbf', 'degree': 6, 'gamma': 'auto', 'C': 37.77495924331833, 'epsilon': 23.038497491716164}. Best is trial 13 with value: 4.174953239271044.\n",
            "[I 2024-04-28 16:03:52,104] Trial 17 finished with value: 5.514542571859696 and parameters: {'kernel': 'rbf', 'degree': 1, 'gamma': 'auto', 'C': 39.393613259970586, 'epsilon': 24.88629434982083}. Best is trial 13 with value: 4.174953239271044.\n",
            "[I 2024-04-28 16:03:52,261] Trial 18 finished with value: 5.514542571859697 and parameters: {'kernel': 'rbf', 'degree': 3, 'gamma': 'auto', 'C': 66.79790660320188, 'epsilon': 57.42879809309639}. Best is trial 13 with value: 4.174953239271044.\n",
            "[I 2024-04-28 16:03:52,426] Trial 19 finished with value: 5.514542571859696 and parameters: {'kernel': 'rbf', 'degree': 3, 'gamma': 'auto', 'C': 64.440300235922, 'epsilon': 56.43070827022613}. Best is trial 13 with value: 4.174953239271044.\n",
            "[I 2024-04-28 16:03:52,581] Trial 20 finished with value: 4.4821946282060345 and parameters: {'kernel': 'rbf', 'degree': 8, 'gamma': 'auto', 'C': 26.074022877487593, 'epsilon': 3.6416918309014967}. Best is trial 13 with value: 4.174953239271044.\n",
            "[I 2024-04-28 16:03:52,729] Trial 21 finished with value: 4.149542529458218 and parameters: {'kernel': 'rbf', 'degree': 8, 'gamma': 'auto', 'C': 25.926380708042323, 'epsilon': 1.1194565545527972}. Best is trial 21 with value: 4.149542529458218.\n",
            "[I 2024-04-28 16:03:52,904] Trial 22 finished with value: 4.173243406844463 and parameters: {'kernel': 'rbf', 'degree': 9, 'gamma': 'auto', 'C': 25.426053890681636, 'epsilon': 0.7587090917158141}. Best is trial 21 with value: 4.149542529458218.\n",
            "[I 2024-04-28 16:03:53,052] Trial 23 finished with value: 4.117859188207615 and parameters: {'kernel': 'rbf', 'degree': 11, 'gamma': 'auto', 'C': 13.044410784197566, 'epsilon': 1.52437215121438}. Best is trial 23 with value: 4.117859188207615.\n",
            "[I 2024-04-28 16:03:53,212] Trial 24 finished with value: 5.514542571859696 and parameters: {'kernel': 'rbf', 'degree': 11, 'gamma': 'auto', 'C': 11.218208220197175, 'epsilon': 17.016504596691206}. Best is trial 23 with value: 4.117859188207615.\n",
            "[I 2024-04-28 16:03:53,369] Trial 25 finished with value: 5.514542571859696 and parameters: {'kernel': 'rbf', 'degree': 11, 'gamma': 'auto', 'C': 9.376566921051285, 'epsilon': 16.204637572130263}. Best is trial 23 with value: 4.117859188207615.\n",
            "[I 2024-04-28 16:03:53,439] Trial 26 finished with value: 5.514542571859696 and parameters: {'kernel': 'rbf', 'degree': 13, 'gamma': 'auto', 'C': 12.100191059825624, 'epsilon': 13.580261402928848}. Best is trial 23 with value: 4.117859188207615.\n",
            "[I 2024-04-28 16:03:53,588] Trial 27 finished with value: 5.514542571859696 and parameters: {'kernel': 'rbf', 'degree': 13, 'gamma': 'auto', 'C': 26.570903073644864, 'epsilon': 32.13004021080271}. Best is trial 23 with value: 4.117859188207615.\n",
            "[I 2024-04-28 16:03:53,739] Trial 28 finished with value: 5.514542571859696 and parameters: {'kernel': 'rbf', 'degree': 10, 'gamma': 'auto', 'C': 24.118230481633184, 'epsilon': 31.361505748787316}. Best is trial 23 with value: 4.117859188207615.\n",
            "[I 2024-04-28 16:03:53,828] Trial 29 finished with value: 5.514542571859696 and parameters: {'kernel': 'rbf', 'degree': 10, 'gamma': 'auto', 'C': 20.22850882912054, 'epsilon': 30.99979952623345}. Best is trial 23 with value: 4.117859188207615.\n",
            "[I 2024-04-28 16:03:53,956] Trial 30 finished with value: 5.47861471672239 and parameters: {'kernel': 'rbf', 'degree': 5, 'gamma': 'scale', 'C': 50.400100109614215, 'epsilon': 11.41875204047963}. Best is trial 23 with value: 4.117859188207615.\n",
            "[I 2024-04-28 16:03:54,079] Trial 31 finished with value: 5.514542571859696 and parameters: {'kernel': 'rbf', 'degree': 4, 'gamma': 'scale', 'C': 55.67585679574995, 'epsilon': 41.96069391851265}. Best is trial 23 with value: 4.117859188207615.\n",
            "[I 2024-04-28 16:03:54,245] Trial 32 finished with value: 4.162895165474581 and parameters: {'kernel': 'rbf', 'degree': 8, 'gamma': 'auto', 'C': 32.06263983226364, 'epsilon': 1.381951935009338}. Best is trial 23 with value: 4.117859188207615.\n",
            "[I 2024-04-28 16:03:54,330] Trial 33 finished with value: 4.184705662906565 and parameters: {'kernel': 'rbf', 'degree': 8, 'gamma': 'auto', 'C': 45.59684138167622, 'epsilon': 1.5724294679704927}. Best is trial 23 with value: 4.117859188207615.\n",
            "[I 2024-04-28 16:03:54,460] Trial 34 finished with value: 13.050189587420617 and parameters: {'kernel': 'poly', 'degree': 9, 'gamma': 'auto', 'C': 31.711273732772373, 'epsilon': 1.5081132888253734}. Best is trial 23 with value: 4.117859188207615.\n",
            "[I 2024-04-28 16:03:54,574] Trial 35 finished with value: 5.433823304986707 and parameters: {'kernel': 'poly', 'degree': 12, 'gamma': 'auto', 'C': 31.274897043357957, 'epsilon': 8.55101585979422}. Best is trial 23 with value: 4.117859188207615.\n",
            "[I 2024-04-28 16:03:54,691] Trial 36 finished with value: 5.4822762531700615 and parameters: {'kernel': 'rbf', 'degree': 6, 'gamma': 'auto', 'C': 30.22150276201053, 'epsilon': 11.684074893521046}. Best is trial 23 with value: 4.117859188207615.\n",
            "[I 2024-04-28 16:03:54,814] Trial 37 finished with value: 5.514542571859696 and parameters: {'kernel': 'rbf', 'degree': 6, 'gamma': 'auto', 'C': 16.815205047359044, 'epsilon': 21.52124937572566}. Best is trial 23 with value: 4.117859188207615.\n",
            "[I 2024-04-28 16:03:54,944] Trial 38 finished with value: 5.514542571859696 and parameters: {'kernel': 'rbf', 'degree': 14, 'gamma': 'auto', 'C': 15.364135180962034, 'epsilon': 20.319359631337985}. Best is trial 23 with value: 4.117859188207615.\n",
            "[I 2024-04-28 16:03:55,056] Trial 39 finished with value: 4.578915131395622 and parameters: {'kernel': 'linear', 'degree': 15, 'gamma': 'auto', 'C': 8.678286034825872, 'epsilon': 6.476238433366368}. Best is trial 23 with value: 4.117859188207615.\n",
            "[I 2024-04-28 16:03:55,177] Trial 40 finished with value: 5.514542571859696 and parameters: {'kernel': 'linear', 'degree': 10, 'gamma': 'scale', 'C': 6.949181363084982, 'epsilon': 43.63562558432292}. Best is trial 23 with value: 4.117859188207615.\n",
            "[I 2024-04-28 16:03:55,308] Trial 41 finished with value: 5.514542571859696 and parameters: {'kernel': 'poly', 'degree': 12, 'gamma': 'scale', 'C': 45.29393977328668, 'epsilon': 27.20704759947671}. Best is trial 23 with value: 4.117859188207615.\n",
            "[I 2024-04-28 16:03:55,505] Trial 42 finished with value: 4.311897017619136 and parameters: {'kernel': 'rbf', 'degree': 8, 'gamma': 'auto', 'C': 44.14183856685509, 'epsilon': 0.09781261687700882}. Best is trial 23 with value: 4.117859188207615.\n",
            "[I 2024-04-28 16:03:55,554] Trial 43 finished with value: 5.277528771042189 and parameters: {'kernel': 'rbf', 'degree': 8, 'gamma': 'auto', 'C': 22.403705326980894, 'epsilon': 8.130403773079257}. Best is trial 23 with value: 4.117859188207615.\n",
            "[I 2024-04-28 16:03:55,695] Trial 44 finished with value: 5.24794626682009 and parameters: {'kernel': 'rbf', 'degree': 7, 'gamma': 'auto', 'C': 20.623884832930845, 'epsilon': 7.9219423692431175}. Best is trial 23 with value: 4.117859188207615.\n",
            "[I 2024-04-28 16:03:55,897] Trial 46 finished with value: 5.514542571859695 and parameters: {'kernel': 'rbf', 'degree': 9, 'gamma': 'auto', 'C': 30.706146644007777, 'epsilon': 69.32487217775024}. Best is trial 23 with value: 4.117859188207615.\n",
            "[I 2024-04-28 16:03:55,921] Trial 45 finished with value: 4.213970784625172 and parameters: {'kernel': 'rbf', 'degree': 7, 'gamma': 'auto', 'C': 33.49200084837247, 'epsilon': 0.5193233997775888}. Best is trial 23 with value: 4.117859188207615.\n",
            "[I 2024-04-28 16:03:56,150] Trial 47 finished with value: 4.238066123272879 and parameters: {'kernel': 'rbf', 'degree': 12, 'gamma': 'auto', 'C': 34.17551299873535, 'epsilon': 0.39920252158247516}. Best is trial 23 with value: 4.117859188207615.\n",
            "[I 2024-04-28 16:03:56,151] Trial 48 finished with value: 5.514542571859696 and parameters: {'kernel': 'linear', 'degree': 9, 'gamma': 'auto', 'C': 16.233087375875172, 'epsilon': 14.33398742826796}. Best is trial 23 with value: 4.117859188207615.\n",
            "[I 2024-04-28 16:03:56,374] Trial 50 finished with value: 44.90617391732037 and parameters: {'kernel': 'poly', 'degree': 18, 'gamma': 'auto', 'C': 27.68001118773202, 'epsilon': 5.263402310564048}. Best is trial 23 with value: 4.117859188207615.\n",
            "[I 2024-04-28 16:03:56,387] Trial 49 finished with value: 4.6974423564566745 and parameters: {'kernel': 'poly', 'degree': 5, 'gamma': 'auto', 'C': 42.710378304983934, 'epsilon': 5.6781293888888955}. Best is trial 23 with value: 4.117859188207615.\n",
            "[I 2024-04-28 16:03:56,591] Trial 51 finished with value: 5.514542571859696 and parameters: {'kernel': 'rbf', 'degree': 8, 'gamma': 'auto', 'C': 45.670574346116155, 'epsilon': 18.593907761985594}. Best is trial 23 with value: 4.117859188207615.\n",
            "[I 2024-04-28 16:03:56,628] Trial 52 finished with value: 5.514542571859696 and parameters: {'kernel': 'rbf', 'degree': 8, 'gamma': 'auto', 'C': 48.42847077580781, 'epsilon': 18.092034026946905}. Best is trial 23 with value: 4.117859188207615.\n",
            "[I 2024-04-28 16:03:56,847] Trial 53 finished with value: 5.4908369574813065 and parameters: {'kernel': 'rbf', 'degree': 8, 'gamma': 'auto', 'C': 54.246023324268606, 'epsilon': 12.009732395038043}. Best is trial 23 with value: 4.117859188207615.\n",
            "[I 2024-04-28 16:03:56,866] Trial 54 finished with value: 5.487352030291951 and parameters: {'kernel': 'rbf', 'degree': 10, 'gamma': 'auto', 'C': 86.09900048751595, 'epsilon': 11.879253758981188}. Best is trial 23 with value: 4.117859188207615.\n",
            "[I 2024-04-28 16:03:57,049] Trial 55 finished with value: 5.514542571859695 and parameters: {'kernel': 'rbf', 'degree': 6, 'gamma': 'auto', 'C': 60.500479165215765, 'epsilon': 97.79103493519808}. Best is trial 23 with value: 4.117859188207615.\n",
            "[I 2024-04-28 16:03:57,118] Trial 56 finished with value: 4.681666973397843 and parameters: {'kernel': 'rbf', 'degree': 6, 'gamma': 'auto', 'C': 36.735848030219415, 'epsilon': 4.768574101918766}. Best is trial 23 with value: 4.117859188207615.\n",
            "[I 2024-04-28 16:03:57,254] Trial 57 finished with value: 4.513545916619541 and parameters: {'kernel': 'rbf', 'degree': 9, 'gamma': 'scale', 'C': 37.632545578658565, 'epsilon': 3.665400612480224}. Best is trial 23 with value: 4.117859188207615.\n",
            "[I 2024-04-28 16:03:57,360] Trial 58 finished with value: 5.514542571859697 and parameters: {'kernel': 'rbf', 'degree': 9, 'gamma': 'scale', 'C': 40.65669439087907, 'epsilon': 91.32506269683938}. Best is trial 23 with value: 4.117859188207615.\n",
            "[I 2024-04-28 16:03:57,485] Trial 59 finished with value: 5.514542571859697 and parameters: {'kernel': 'rbf', 'degree': 7, 'gamma': 'auto', 'C': 4.769787226105354, 'epsilon': 88.29607345024766}. Best is trial 23 with value: 4.117859188207615.\n",
            "[I 2024-04-28 16:03:57,649] Trial 60 finished with value: 5.300463800467939 and parameters: {'kernel': 'linear', 'degree': 11, 'gamma': 'auto', 'C': 25.772074373840265, 'epsilon': 9.525913914862269}. Best is trial 23 with value: 4.117859188207615.\n",
            "[I 2024-04-28 16:03:57,723] Trial 61 finished with value: 5.2926306633049 and parameters: {'kernel': 'linear', 'degree': 10, 'gamma': 'auto', 'C': 24.314204114756695, 'epsilon': 9.462509821224945}. Best is trial 23 with value: 4.117859188207615.\n",
            "[I 2024-04-28 16:03:57,942] Trial 63 finished with value: 4.116695698153068 and parameters: {'kernel': 'rbf', 'degree': 7, 'gamma': 'auto', 'C': 13.101262399993002, 'epsilon': 1.5056210835618673}. Best is trial 63 with value: 4.116695698153068.\n",
            "[I 2024-04-28 16:03:57,953] Trial 62 finished with value: 4.244751157585888 and parameters: {'kernel': 'rbf', 'degree': 7, 'gamma': 'auto', 'C': 34.01045236890751, 'epsilon': 2.189464847610733}. Best is trial 63 with value: 4.116695698153068.\n",
            "[I 2024-04-28 16:03:58,180] Trial 64 finished with value: 4.420220291523723 and parameters: {'kernel': 'rbf', 'degree': 5, 'gamma': 'auto', 'C': 13.439320332140886, 'epsilon': 3.3909713664653642}. Best is trial 63 with value: 4.116695698153068.\n",
            "[I 2024-04-28 16:03:58,190] Trial 65 finished with value: 4.4665748613030365 and parameters: {'kernel': 'rbf', 'degree': 5, 'gamma': 'auto', 'C': 13.221606051465193, 'epsilon': 3.643021524489546}. Best is trial 63 with value: 4.116695698153068.\n",
            "[I 2024-04-28 16:03:58,368] Trial 66 finished with value: 5.514542571859695 and parameters: {'kernel': 'rbf', 'degree': 9, 'gamma': 'auto', 'C': 19.493077474955076, 'epsilon': 79.14381257997702}. Best is trial 63 with value: 4.116695698153068.\n",
            "[I 2024-04-28 16:03:58,436] Trial 67 finished with value: 5.514542571859696 and parameters: {'kernel': 'rbf', 'degree': 8, 'gamma': 'auto', 'C': 3.857163114815375, 'epsilon': 15.794270666371567}. Best is trial 63 with value: 4.116695698153068.\n",
            "[I 2024-04-28 16:03:58,569] Trial 68 finished with value: 5.514542571859696 and parameters: {'kernel': 'rbf', 'degree': 11, 'gamma': 'auto', 'C': 4.928288828126387, 'epsilon': 15.555038760344232}. Best is trial 63 with value: 4.116695698153068.\n",
            "[I 2024-04-28 16:03:58,681] Trial 69 finished with value: 4.327702228969734 and parameters: {'kernel': 'rbf', 'degree': 11, 'gamma': 'auto', 'C': 29.153201187631446, 'epsilon': 0.02341155804766415}. Best is trial 63 with value: 4.116695698153068.\n",
            "[I 2024-04-28 16:03:58,811] Trial 70 finished with value: 5.514542571859696 and parameters: {'kernel': 'rbf', 'degree': 10, 'gamma': 'auto', 'C': 28.093168051522348, 'epsilon': 60.24957344847062}. Best is trial 63 with value: 4.116695698153068.\n",
            "[I 2024-04-28 16:03:58,917] Trial 71 finished with value: 5.514542571859697 and parameters: {'kernel': 'rbf', 'degree': 4, 'gamma': 'auto', 'C': 50.14969467305878, 'epsilon': 60.84054045458447}. Best is trial 63 with value: 4.116695698153068.\n",
            "[I 2024-04-28 16:03:59,101] Trial 72 finished with value: 4.2009457536102195 and parameters: {'kernel': 'rbf', 'degree': 7, 'gamma': 'auto', 'C': 34.37980090867911, 'epsilon': 0.5928641463826952}. Best is trial 63 with value: 4.116695698153068.\n",
            "[I 2024-04-28 16:03:59,155] Trial 73 finished with value: 5.105541896661826 and parameters: {'kernel': 'rbf', 'degree': 7, 'gamma': 'auto', 'C': 33.70974320457318, 'epsilon': 7.0387148384289056}. Best is trial 63 with value: 4.116695698153068.\n",
            "[I 2024-04-28 16:03:59,399] Trial 75 finished with value: 5.514542571859696 and parameters: {'kernel': 'rbf', 'degree': 7, 'gamma': 'auto', 'C': 39.51813104865124, 'epsilon': 46.98845160671283}. Best is trial 63 with value: 4.116695698153068.\n",
            "[I 2024-04-28 16:03:59,400] Trial 74 finished with value: 5.0574971073441075 and parameters: {'kernel': 'rbf', 'degree': 7, 'gamma': 'auto', 'C': 22.872413603763263, 'epsilon': 6.796045623314275}. Best is trial 63 with value: 4.116695698153068.\n",
            "[I 2024-04-28 16:03:59,644] Trial 76 finished with value: 5.452440741459384 and parameters: {'kernel': 'rbf', 'degree': 8, 'gamma': 'auto', 'C': 17.582294706726543, 'epsilon': 10.335856095020082}. Best is trial 63 with value: 4.116695698153068.\n",
            "[I 2024-04-28 16:03:59,647] Trial 77 finished with value: 4.3322523144018845 and parameters: {'kernel': 'rbf', 'degree': 6, 'gamma': 'auto', 'C': 41.29523518781946, 'epsilon': 2.846613361146655}. Best is trial 63 with value: 4.116695698153068.\n",
            "[I 2024-04-28 16:03:59,835] Trial 78 finished with value: 5.514542571859696 and parameters: {'kernel': 'rbf', 'degree': 9, 'gamma': 'scale', 'C': 46.69645563350688, 'epsilon': 13.415390118448853}. Best is trial 63 with value: 4.116695698153068.\n",
            "[I 2024-04-28 16:03:59,917] Trial 79 finished with value: 4.97937279117146 and parameters: {'kernel': 'rbf', 'degree': 9, 'gamma': 'scale', 'C': 22.546229538716904, 'epsilon': 6.321073531401985}. Best is trial 63 with value: 4.116695698153068.\n",
            "[I 2024-04-28 16:04:00,050] Trial 80 finished with value: 12.492825900919032 and parameters: {'kernel': 'poly', 'degree': 12, 'gamma': 'auto', 'C': 35.867177794865, 'epsilon': 4.631806906429454}. Best is trial 63 with value: 4.116695698153068.\n",
            "[I 2024-04-28 16:04:00,166] Trial 81 finished with value: 7.893229415380961 and parameters: {'kernel': 'poly', 'degree': 6, 'gamma': 'auto', 'C': 35.2186076814472, 'epsilon': 2.6472553595055928}. Best is trial 63 with value: 4.116695698153068.\n",
            "[I 2024-04-28 16:04:00,341] Trial 82 finished with value: 4.22335561119869 and parameters: {'kernel': 'rbf', 'degree': 6, 'gamma': 'auto', 'C': 31.095896333692256, 'epsilon': 0.465225114498825}. Best is trial 63 with value: 4.116695698153068.\n",
            "[I 2024-04-28 16:04:00,414] Trial 83 finished with value: 4.2287682123857815 and parameters: {'kernel': 'rbf', 'degree': 8, 'gamma': 'auto', 'C': 31.91234815944629, 'epsilon': 0.4399250223559463}. Best is trial 63 with value: 4.116695698153068.\n",
            "[I 2024-04-28 16:04:00,599] Trial 84 finished with value: 4.169687359458983 and parameters: {'kernel': 'rbf', 'degree': 7, 'gamma': 'auto', 'C': 32.76560243272581, 'epsilon': 0.8061589926610851}. Best is trial 63 with value: 4.116695698153068.\n",
            "[I 2024-04-28 16:04:00,651] Trial 85 finished with value: 5.514542571859696 and parameters: {'kernel': 'rbf', 'degree': 7, 'gamma': 'auto', 'C': 43.36097815473886, 'epsilon': 37.27738838177885}. Best is trial 63 with value: 4.116695698153068.\n",
            "[I 2024-04-28 16:04:00,784] Trial 86 finished with value: 5.361368441693061 and parameters: {'kernel': 'rbf', 'degree': 8, 'gamma': 'auto', 'C': 26.219276179013768, 'epsilon': 8.757569244117981}. Best is trial 63 with value: 4.116695698153068.\n",
            "[I 2024-04-28 16:04:00,946] Trial 87 finished with value: 5.2682708550801465 and parameters: {'kernel': 'rbf', 'degree': 8, 'gamma': 'auto', 'C': 8.705091212870592, 'epsilon': 8.065640622704452}. Best is trial 63 with value: 4.116695698153068.\n",
            "[I 2024-04-28 16:04:01,033] Trial 88 finished with value: 4.8057031884729975 and parameters: {'kernel': 'rbf', 'degree': 10, 'gamma': 'auto', 'C': 9.805441696471714, 'epsilon': 5.4699720965470275}. Best is trial 63 with value: 4.116695698153068.\n",
            "[I 2024-04-28 16:04:01,245] Trial 89 finished with value: 4.784510211838423 and parameters: {'kernel': 'rbf', 'degree': 10, 'gamma': 'auto', 'C': 38.441288057938536, 'epsilon': 5.355178539061157}. Best is trial 63 with value: 4.116695698153068.\n",
            "[I 2024-04-28 16:04:01,268] Trial 90 finished with value: 5.507856165161203 and parameters: {'kernel': 'rbf', 'degree': 9, 'gamma': 'auto', 'C': 52.124401447939576, 'epsilon': 12.611937480360652}. Best is trial 63 with value: 4.116695698153068.\n",
            "[I 2024-04-28 16:04:01,440] Trial 91 finished with value: 5.372501691308428 and parameters: {'kernel': 'linear', 'degree': 9, 'gamma': 'auto', 'C': 20.646136862236467, 'epsilon': 10.741195729961262}. Best is trial 63 with value: 4.116695698153068.\n",
            "[I 2024-04-28 16:04:01,527] Trial 92 finished with value: 4.212983475273764 and parameters: {'kernel': 'rbf', 'degree': 7, 'gamma': 'auto', 'C': 33.53359719141893, 'epsilon': 1.9492274250290187}. Best is trial 63 with value: 4.116695698153068.\n",
            "[I 2024-04-28 16:04:01,697] Trial 93 finished with value: 4.203218927133419 and parameters: {'kernel': 'rbf', 'degree': 7, 'gamma': 'auto', 'C': 33.49840803012477, 'epsilon': 1.8580217952396847}. Best is trial 63 with value: 4.116695698153068.\n",
            "[I 2024-04-28 16:04:01,778] Trial 94 finished with value: 4.234427586615173 and parameters: {'kernel': 'rbf', 'degree': 7, 'gamma': 'auto', 'C': 28.65781491862305, 'epsilon': 2.1644907311991135}. Best is trial 63 with value: 4.116695698153068.\n",
            "[I 2024-04-28 16:04:01,925] Trial 95 finished with value: 4.331940806858319 and parameters: {'kernel': 'rbf', 'degree': 5, 'gamma': 'auto', 'C': 28.84457371993861, 'epsilon': 2.8467678182407603}. Best is trial 63 with value: 4.116695698153068.\n",
            "[I 2024-04-28 16:04:02,035] Trial 96 finished with value: 4.51772944700676 and parameters: {'kernel': 'rbf', 'degree': 6, 'gamma': 'auto', 'C': 42.25258422067113, 'epsilon': 3.8388325932882195}. Best is trial 63 with value: 4.116695698153068.\n",
            "[I 2024-04-28 16:04:02,161] Trial 97 finished with value: 4.624475951061688 and parameters: {'kernel': 'rbf', 'degree': 8, 'gamma': 'auto', 'C': 41.69766992838795, 'epsilon': 4.437465638003017}. Best is trial 63 with value: 4.116695698153068.\n",
            "[I 2024-04-28 16:04:02,270] Trial 98 finished with value: 5.161697593854267 and parameters: {'kernel': 'rbf', 'degree': 3, 'gamma': 'auto', 'C': 24.578691859895958, 'epsilon': 7.357237315845577}. Best is trial 63 with value: 4.116695698153068.\n",
            "[I 2024-04-28 16:04:02,364] Trial 99 finished with value: 5.194863297764389 and parameters: {'kernel': 'rbf', 'degree': 7, 'gamma': 'auto', 'C': 24.604796501135908, 'epsilon': 7.5573538464171754}. Best is trial 63 with value: 4.116695698153068.\n"
          ]
        }
      ]
    },
    {
      "cell_type": "markdown",
      "source": [
        "Lagring av resultater"
      ],
      "metadata": {
        "id": "UeK0ls2PSlHL"
      }
    },
    {
      "cell_type": "code",
      "source": [
        "res_1_design = pd.DataFrame(res.dict_res_1_design)\n",
        "res_1_design_opt = pd.DataFrame(res.dict_res_1_design_opt)\n",
        "\n",
        "res_1_design.to_csv('/content/drive/MyDrive/MasterV24/Bioco_data/Resultater/brixadjusted/brixadjusted_resultater_1_design.csv')\n",
        "res_1_design_opt.to_csv('/content/drive/MyDrive/MasterV24/Bioco_data/Resultater/brixadjusted/brixadjusted_resultater_1_design_opt.csv')"
      ],
      "metadata": {
        "id": "yiX1TwLLSlHM"
      },
      "execution_count": null,
      "outputs": []
    },
    {
      "cell_type": "markdown",
      "source": [
        "Velger beste modell"
      ],
      "metadata": {
        "id": "gJda_0KjSlHM"
      }
    },
    {
      "cell_type": "code",
      "source": [],
      "metadata": {
        "id": "5M495MopSlHM"
      },
      "execution_count": null,
      "outputs": []
    },
    {
      "cell_type": "markdown",
      "source": [
        "## Alternativ 2: 75% Testsett og resteremde hele treningssett"
      ],
      "metadata": {
        "id": "MkYKDmvPSlHM"
      }
    },
    {
      "cell_type": "code",
      "source": [
        "# Definerer trenings- og testandel\n",
        "test_andel = 0.75\n",
        "trenings_andel = 1.0\n",
        "\n",
        "\n",
        "# Deler datasettet i trening og testsett\n",
        "trening_markert, testsett, _, trening\\\n",
        "= trening_testsett_oppdeling_dag(rå_data,\n",
        "                                 data,\n",
        "                                 test_andel=test_andel,\n",
        "                                 test_ekskluder_kalkun_kylling=True)"
      ],
      "metadata": {
        "id": "cTrLKPYNSlHM"
      },
      "execution_count": null,
      "outputs": []
    },
    {
      "cell_type": "code",
      "source": [
        "# Finner antall av enzymtype med minst antall\n",
        "n_splitt = n_splitt_enzym(rå_data,\n",
        "                          trening_markert)\n",
        "\n",
        "# Modelloptimalisering, trening og evaluering av RFR, KNR og SVR\n",
        "veiledet_modell_evaluering_2(dict_res_opt=res.dict_res_2_design_opt,\n",
        "                             dict_res=res.dict_res_2_design,\n",
        "                             rå_data=rå_data,\n",
        "                             treningssett_markert=trening_markert,\n",
        "                             testsett=testsett,\n",
        "                             n_splitt=n_splitt,\n",
        "                             n_runder=n_runder,\n",
        "                             test_andel=test_andel,\n",
        "                             trenings_andel=trenings_andel,\n",
        "                             random_seed=random_seed)"
      ],
      "metadata": {
        "colab": {
          "base_uri": "https://localhost:8080/"
        },
        "outputId": "f9421516-1057-46b1-8c81-3bc76e4e7cf8",
        "id": "O8whKRqkSlHM"
      },
      "execution_count": null,
      "outputs": [
        {
          "output_type": "stream",
          "name": "stderr",
          "text": [
            "[I 2024-04-28 16:04:14,343] A new study created in memory with name: no-name-d19a2d29-ca34-47d8-80be-ada5011d340e\n",
            "[I 2024-04-28 16:04:15,150] Trial 1 finished with value: 4.5471830054605356 and parameters: {'n_neighbors': 8, 'weights': 'uniform', 'p': 4}. Best is trial 1 with value: 4.5471830054605356.\n",
            "[I 2024-04-28 16:04:15,164] Trial 0 finished with value: 4.643298223811287 and parameters: {'n_neighbors': 9, 'weights': 'uniform', 'p': 7}. Best is trial 1 with value: 4.5471830054605356.\n",
            "[I 2024-04-28 16:04:15,891] Trial 3 finished with value: 4.236228338995199 and parameters: {'n_neighbors': 4, 'weights': 'uniform', 'p': 2}. Best is trial 3 with value: 4.236228338995199.\n",
            "[I 2024-04-28 16:04:16,003] Trial 2 finished with value: 4.377874796621983 and parameters: {'n_neighbors': 2, 'weights': 'distance', 'p': 6}. Best is trial 3 with value: 4.236228338995199.\n",
            "[I 2024-04-28 16:04:16,746] Trial 5 finished with value: 4.333521203427726 and parameters: {'n_neighbors': 8, 'weights': 'distance', 'p': 8}. Best is trial 3 with value: 4.236228338995199.\n",
            "[I 2024-04-28 16:04:16,747] Trial 4 finished with value: 4.479757960174819 and parameters: {'n_neighbors': 4, 'weights': 'uniform', 'p': 9}. Best is trial 3 with value: 4.236228338995199.\n",
            "[I 2024-04-28 16:04:17,494] Trial 6 finished with value: 5.083383025248263 and parameters: {'n_neighbors': 1, 'weights': 'distance', 'p': 6}. Best is trial 3 with value: 4.236228338995199.\n",
            "[I 2024-04-28 16:04:17,689] Trial 7 finished with value: 4.362775125107515 and parameters: {'n_neighbors': 4, 'weights': 'uniform', 'p': 7}. Best is trial 3 with value: 4.236228338995199.\n",
            "[I 2024-04-28 16:04:18,349] Trial 8 finished with value: 4.645187716968887 and parameters: {'n_neighbors': 9, 'weights': 'uniform', 'p': 10}. Best is trial 3 with value: 4.236228338995199.\n",
            "[I 2024-04-28 16:04:18,534] Trial 9 finished with value: 4.256640941313336 and parameters: {'n_neighbors': 4, 'weights': 'distance', 'p': 4}. Best is trial 3 with value: 4.236228338995199.\n",
            "[I 2024-04-28 16:04:19,251] Trial 10 finished with value: 3.9992641885070395 and parameters: {'n_neighbors': 3, 'weights': 'distance', 'p': 2}. Best is trial 10 with value: 3.9992641885070395.\n",
            "[I 2024-04-28 16:04:19,457] Trial 11 finished with value: 4.304325824226549 and parameters: {'n_neighbors': 6, 'weights': 'uniform', 'p': 1}. Best is trial 10 with value: 3.9992641885070395.\n",
            "[I 2024-04-28 16:04:20,141] Trial 12 finished with value: 4.064094401538574 and parameters: {'n_neighbors': 6, 'weights': 'distance', 'p': 1}. Best is trial 10 with value: 3.9992641885070395.\n",
            "[I 2024-04-28 16:04:20,377] Trial 13 finished with value: 3.9992641885070395 and parameters: {'n_neighbors': 3, 'weights': 'distance', 'p': 2}. Best is trial 10 with value: 3.9992641885070395.\n",
            "[I 2024-04-28 16:04:21,117] Trial 14 finished with value: 4.110600790659381 and parameters: {'n_neighbors': 6, 'weights': 'distance', 'p': 3}. Best is trial 10 with value: 3.9992641885070395.\n",
            "[I 2024-04-28 16:04:21,316] Trial 15 finished with value: 4.159332879354048 and parameters: {'n_neighbors': 2, 'weights': 'distance', 'p': 3}. Best is trial 10 with value: 3.9992641885070395.\n",
            "[I 2024-04-28 16:04:21,955] Trial 16 finished with value: 4.159332879354048 and parameters: {'n_neighbors': 2, 'weights': 'distance', 'p': 3}. Best is trial 10 with value: 3.9992641885070395.\n",
            "[I 2024-04-28 16:04:22,064] Trial 17 finished with value: 4.246840870552358 and parameters: {'n_neighbors': 2, 'weights': 'distance', 'p': 4}. Best is trial 10 with value: 3.9992641885070395.\n",
            "[I 2024-04-28 16:04:22,703] Trial 18 finished with value: 4.217907739647378 and parameters: {'n_neighbors': 3, 'weights': 'distance', 'p': 5}. Best is trial 10 with value: 3.9992641885070395.\n",
            "[I 2024-04-28 16:04:22,938] Trial 19 finished with value: 3.9992641885070395 and parameters: {'n_neighbors': 3, 'weights': 'distance', 'p': 2}. Best is trial 10 with value: 3.9992641885070395.\n",
            "[I 2024-04-28 16:04:23,493] Trial 20 finished with value: 3.97585572752552 and parameters: {'n_neighbors': 5, 'weights': 'distance', 'p': 2}. Best is trial 20 with value: 3.97585572752552.\n",
            "[I 2024-04-28 16:04:23,891] Trial 21 finished with value: 3.97585572752552 and parameters: {'n_neighbors': 5, 'weights': 'distance', 'p': 2}. Best is trial 20 with value: 3.97585572752552.\n",
            "[I 2024-04-28 16:04:24,372] Trial 22 finished with value: 3.97585572752552 and parameters: {'n_neighbors': 5, 'weights': 'distance', 'p': 2}. Best is trial 20 with value: 3.97585572752552.\n",
            "[I 2024-04-28 16:04:24,517] Trial 23 finished with value: 4.073342071943369 and parameters: {'n_neighbors': 5, 'weights': 'distance', 'p': 1}. Best is trial 20 with value: 3.97585572752552.\n",
            "[I 2024-04-28 16:04:25,224] Trial 24 finished with value: 4.073342071943369 and parameters: {'n_neighbors': 5, 'weights': 'distance', 'p': 1}. Best is trial 20 with value: 3.97585572752552.\n",
            "[I 2024-04-28 16:04:25,300] Trial 25 finished with value: 4.2167473943299925 and parameters: {'n_neighbors': 7, 'weights': 'distance', 'p': 3}. Best is trial 20 with value: 3.97585572752552.\n",
            "[I 2024-04-28 16:04:25,933] Trial 26 finished with value: 4.158113194701567 and parameters: {'n_neighbors': 5, 'weights': 'distance', 'p': 3}. Best is trial 20 with value: 3.97585572752552.\n",
            "[I 2024-04-28 16:04:26,128] Trial 27 finished with value: 4.380277598710805 and parameters: {'n_neighbors': 7, 'weights': 'distance', 'p': 5}. Best is trial 20 with value: 3.97585572752552.\n",
            "[I 2024-04-28 16:04:26,768] Trial 28 finished with value: 4.380277598710805 and parameters: {'n_neighbors': 7, 'weights': 'distance', 'p': 5}. Best is trial 20 with value: 3.97585572752552.\n",
            "[I 2024-04-28 16:04:26,937] Trial 29 finished with value: 4.213973154416793 and parameters: {'n_neighbors': 7, 'weights': 'distance', 'p': 2}. Best is trial 20 with value: 3.97585572752552.\n",
            "[I 2024-04-28 16:04:27,484] Trial 30 finished with value: 3.97585572752552 and parameters: {'n_neighbors': 5, 'weights': 'distance', 'p': 2}. Best is trial 20 with value: 3.97585572752552.\n",
            "[I 2024-04-28 16:04:27,886] Trial 31 finished with value: 4.073342071943369 and parameters: {'n_neighbors': 5, 'weights': 'distance', 'p': 1}. Best is trial 20 with value: 3.97585572752552.\n",
            "[I 2024-04-28 16:04:28,288] Trial 32 finished with value: 3.97585572752552 and parameters: {'n_neighbors': 5, 'weights': 'distance', 'p': 2}. Best is trial 20 with value: 3.97585572752552.\n",
            "[I 2024-04-28 16:04:28,612] Trial 33 finished with value: 4.220937874440666 and parameters: {'n_neighbors': 6, 'weights': 'distance', 'p': 4}. Best is trial 20 with value: 3.97585572752552.\n",
            "[I 2024-04-28 16:04:29,175] Trial 34 finished with value: 4.220937874440666 and parameters: {'n_neighbors': 6, 'weights': 'distance', 'p': 4}. Best is trial 20 with value: 3.97585572752552.\n",
            "[I 2024-04-28 16:04:29,363] Trial 35 finished with value: 4.705945903226635 and parameters: {'n_neighbors': 10, 'weights': 'uniform', 'p': 4}. Best is trial 20 with value: 3.97585572752552.\n",
            "[I 2024-04-28 16:04:30,086] Trial 36 finished with value: 4.207256616524695 and parameters: {'n_neighbors': 4, 'weights': 'uniform', 'p': 3}. Best is trial 20 with value: 3.97585572752552.\n",
            "[I 2024-04-28 16:04:30,138] Trial 37 finished with value: 4.084375539597271 and parameters: {'n_neighbors': 4, 'weights': 'distance', 'p': 3}. Best is trial 20 with value: 3.97585572752552.\n",
            "[I 2024-04-28 16:04:30,852] Trial 38 finished with value: 4.075340251398263 and parameters: {'n_neighbors': 4, 'weights': 'distance', 'p': 2}. Best is trial 20 with value: 3.97585572752552.\n",
            "[I 2024-04-28 16:04:30,926] Trial 39 finished with value: 4.249263445730908 and parameters: {'n_neighbors': 8, 'weights': 'distance', 'p': 2}. Best is trial 20 with value: 3.97585572752552.\n",
            "[I 2024-04-28 16:04:31,817] Trial 40 finished with value: 4.570070393736797 and parameters: {'n_neighbors': 8, 'weights': 'uniform', 'p': 7}. Best is trial 20 with value: 3.97585572752552.\n",
            "[I 2024-04-28 16:04:31,897] Trial 41 finished with value: 4.352130618202783 and parameters: {'n_neighbors': 5, 'weights': 'uniform', 'p': 7}. Best is trial 20 with value: 3.97585572752552.\n",
            "[I 2024-04-28 16:04:32,801] Trial 42 finished with value: 3.97585572752552 and parameters: {'n_neighbors': 5, 'weights': 'distance', 'p': 2}. Best is trial 20 with value: 3.97585572752552.\n",
            "[I 2024-04-28 16:04:32,850] Trial 43 finished with value: 3.97585572752552 and parameters: {'n_neighbors': 5, 'weights': 'distance', 'p': 2}. Best is trial 20 with value: 3.97585572752552.\n",
            "[I 2024-04-28 16:04:33,677] Trial 44 finished with value: 4.073342071943369 and parameters: {'n_neighbors': 5, 'weights': 'distance', 'p': 1}. Best is trial 20 with value: 3.97585572752552.\n",
            "[I 2024-04-28 16:04:33,739] Trial 45 finished with value: 3.814175487631097 and parameters: {'n_neighbors': 4, 'weights': 'distance', 'p': 1}. Best is trial 45 with value: 3.814175487631097.\n",
            "[I 2024-04-28 16:04:34,688] Trial 46 finished with value: 4.2724601802267665 and parameters: {'n_neighbors': 4, 'weights': 'distance', 'p': 8}. Best is trial 45 with value: 3.814175487631097.\n",
            "[I 2024-04-28 16:04:34,755] Trial 47 finished with value: 3.814175487631097 and parameters: {'n_neighbors': 4, 'weights': 'distance', 'p': 1}. Best is trial 45 with value: 3.814175487631097.\n",
            "[I 2024-04-28 16:04:35,487] Trial 48 finished with value: 4.064094401538574 and parameters: {'n_neighbors': 6, 'weights': 'distance', 'p': 1}. Best is trial 45 with value: 3.814175487631097.\n",
            "[I 2024-04-28 16:04:35,570] Trial 49 finished with value: 3.797076343403139 and parameters: {'n_neighbors': 3, 'weights': 'distance', 'p': 1}. Best is trial 49 with value: 3.797076343403139.\n",
            "[I 2024-04-28 16:04:36,195] Trial 50 finished with value: 3.797076343403139 and parameters: {'n_neighbors': 3, 'weights': 'distance', 'p': 1}. Best is trial 49 with value: 3.797076343403139.\n",
            "[I 2024-04-28 16:04:36,462] Trial 51 finished with value: 3.797076343403139 and parameters: {'n_neighbors': 3, 'weights': 'distance', 'p': 1}. Best is trial 49 with value: 3.797076343403139.\n",
            "[I 2024-04-28 16:04:37,030] Trial 52 finished with value: 3.797076343403139 and parameters: {'n_neighbors': 3, 'weights': 'distance', 'p': 1}. Best is trial 49 with value: 3.797076343403139.\n",
            "[I 2024-04-28 16:04:37,188] Trial 53 finished with value: 4.697817822397319 and parameters: {'n_neighbors': 1, 'weights': 'distance', 'p': 1}. Best is trial 49 with value: 3.797076343403139.\n",
            "[I 2024-04-28 16:04:37,876] Trial 54 finished with value: 4.697817822397319 and parameters: {'n_neighbors': 1, 'weights': 'distance', 'p': 1}. Best is trial 49 with value: 3.797076343403139.\n",
            "[I 2024-04-28 16:04:38,001] Trial 55 finished with value: 3.797076343403139 and parameters: {'n_neighbors': 3, 'weights': 'distance', 'p': 1}. Best is trial 49 with value: 3.797076343403139.\n",
            "[I 2024-04-28 16:04:38,787] Trial 56 finished with value: 3.797076343403139 and parameters: {'n_neighbors': 3, 'weights': 'distance', 'p': 1}. Best is trial 49 with value: 3.797076343403139.\n",
            "[I 2024-04-28 16:04:38,817] Trial 57 finished with value: 4.260134031052906 and parameters: {'n_neighbors': 3, 'weights': 'distance', 'p': 10}. Best is trial 49 with value: 3.797076343403139.\n",
            "[I 2024-04-28 16:04:39,607] Trial 58 finished with value: 3.914126220873432 and parameters: {'n_neighbors': 3, 'weights': 'uniform', 'p': 1}. Best is trial 49 with value: 3.797076343403139.\n",
            "[I 2024-04-28 16:04:39,611] Trial 59 finished with value: 4.058702205297912 and parameters: {'n_neighbors': 2, 'weights': 'uniform', 'p': 1}. Best is trial 49 with value: 3.797076343403139.\n",
            "[I 2024-04-28 16:04:40,303] Trial 60 finished with value: 3.797076343403139 and parameters: {'n_neighbors': 3, 'weights': 'distance', 'p': 1}. Best is trial 49 with value: 3.797076343403139.\n",
            "[I 2024-04-28 16:04:40,495] Trial 61 finished with value: 3.797076343403139 and parameters: {'n_neighbors': 3, 'weights': 'distance', 'p': 1}. Best is trial 49 with value: 3.797076343403139.\n",
            "[I 2024-04-28 16:04:41,002] Trial 62 finished with value: 3.797076343403139 and parameters: {'n_neighbors': 3, 'weights': 'distance', 'p': 1}. Best is trial 49 with value: 3.797076343403139.\n",
            "[I 2024-04-28 16:04:41,252] Trial 63 finished with value: 3.979723197741624 and parameters: {'n_neighbors': 2, 'weights': 'distance', 'p': 1}. Best is trial 49 with value: 3.797076343403139.\n",
            "[I 2024-04-28 16:04:41,856] Trial 64 finished with value: 3.979723197741624 and parameters: {'n_neighbors': 2, 'weights': 'distance', 'p': 1}. Best is trial 49 with value: 3.797076343403139.\n",
            "[I 2024-04-28 16:04:42,039] Trial 65 finished with value: 3.979723197741624 and parameters: {'n_neighbors': 2, 'weights': 'distance', 'p': 1}. Best is trial 49 with value: 3.797076343403139.\n",
            "[I 2024-04-28 16:04:42,558] Trial 66 finished with value: 3.9992641885070395 and parameters: {'n_neighbors': 3, 'weights': 'distance', 'p': 2}. Best is trial 49 with value: 3.797076343403139.\n",
            "[I 2024-04-28 16:04:42,948] Trial 67 finished with value: 3.9992641885070395 and parameters: {'n_neighbors': 3, 'weights': 'distance', 'p': 2}. Best is trial 49 with value: 3.797076343403139.\n",
            "[I 2024-04-28 16:04:43,286] Trial 68 finished with value: 3.9992641885070395 and parameters: {'n_neighbors': 3, 'weights': 'distance', 'p': 2}. Best is trial 49 with value: 3.797076343403139.\n",
            "[I 2024-04-28 16:04:43,776] Trial 69 finished with value: 4.159332879354048 and parameters: {'n_neighbors': 2, 'weights': 'distance', 'p': 3}. Best is trial 49 with value: 3.797076343403139.\n",
            "[I 2024-04-28 16:04:44,136] Trial 70 finished with value: 4.159332879354048 and parameters: {'n_neighbors': 2, 'weights': 'distance', 'p': 3}. Best is trial 49 with value: 3.797076343403139.\n",
            "[I 2024-04-28 16:04:44,566] Trial 71 finished with value: 3.797076343403139 and parameters: {'n_neighbors': 3, 'weights': 'distance', 'p': 1}. Best is trial 49 with value: 3.797076343403139.\n",
            "[I 2024-04-28 16:04:45,056] Trial 72 finished with value: 3.797076343403139 and parameters: {'n_neighbors': 3, 'weights': 'distance', 'p': 1}. Best is trial 49 with value: 3.797076343403139.\n",
            "[I 2024-04-28 16:04:45,702] Trial 73 finished with value: 3.797076343403139 and parameters: {'n_neighbors': 3, 'weights': 'distance', 'p': 1}. Best is trial 49 with value: 3.797076343403139.\n",
            "[I 2024-04-28 16:04:46,012] Trial 74 finished with value: 3.797076343403139 and parameters: {'n_neighbors': 3, 'weights': 'distance', 'p': 1}. Best is trial 49 with value: 3.797076343403139.\n",
            "[I 2024-04-28 16:04:46,644] Trial 75 finished with value: 3.797076343403139 and parameters: {'n_neighbors': 3, 'weights': 'distance', 'p': 1}. Best is trial 49 with value: 3.797076343403139.\n",
            "[I 2024-04-28 16:04:46,955] Trial 76 finished with value: 4.075340251398263 and parameters: {'n_neighbors': 4, 'weights': 'distance', 'p': 2}. Best is trial 49 with value: 3.797076343403139.\n",
            "[I 2024-04-28 16:04:47,513] Trial 77 finished with value: 4.075340251398263 and parameters: {'n_neighbors': 4, 'weights': 'distance', 'p': 2}. Best is trial 49 with value: 3.797076343403139.\n",
            "[I 2024-04-28 16:04:47,884] Trial 78 finished with value: 4.352052941155696 and parameters: {'n_neighbors': 2, 'weights': 'distance', 'p': 9}. Best is trial 49 with value: 3.797076343403139.\n",
            "[I 2024-04-28 16:04:48,525] Trial 79 finished with value: 3.979723197741624 and parameters: {'n_neighbors': 2, 'weights': 'distance', 'p': 1}. Best is trial 49 with value: 3.797076343403139.\n",
            "[I 2024-04-28 16:04:48,696] Trial 80 finished with value: 4.697817822397319 and parameters: {'n_neighbors': 1, 'weights': 'distance', 'p': 1}. Best is trial 49 with value: 3.797076343403139.\n",
            "[I 2024-04-28 16:04:49,297] Trial 81 finished with value: 5.160660263866591 and parameters: {'n_neighbors': 1, 'weights': 'distance', 'p': 2}. Best is trial 49 with value: 3.797076343403139.\n",
            "[I 2024-04-28 16:04:49,512] Trial 82 finished with value: 3.797076343403139 and parameters: {'n_neighbors': 3, 'weights': 'distance', 'p': 1}. Best is trial 49 with value: 3.797076343403139.\n",
            "[I 2024-04-28 16:04:50,041] Trial 83 finished with value: 4.254575091466435 and parameters: {'n_neighbors': 3, 'weights': 'distance', 'p': 6}. Best is trial 49 with value: 3.797076343403139.\n",
            "[I 2024-04-28 16:04:50,372] Trial 84 finished with value: 4.254575091466435 and parameters: {'n_neighbors': 3, 'weights': 'distance', 'p': 6}. Best is trial 49 with value: 3.797076343403139.\n",
            "[I 2024-04-28 16:04:50,886] Trial 85 finished with value: 3.814175487631097 and parameters: {'n_neighbors': 4, 'weights': 'distance', 'p': 1}. Best is trial 49 with value: 3.797076343403139.\n",
            "[I 2024-04-28 16:04:51,178] Trial 86 finished with value: 3.814175487631097 and parameters: {'n_neighbors': 4, 'weights': 'distance', 'p': 1}. Best is trial 49 with value: 3.797076343403139.\n",
            "[I 2024-04-28 16:04:51,678] Trial 87 finished with value: 3.814175487631097 and parameters: {'n_neighbors': 4, 'weights': 'distance', 'p': 1}. Best is trial 49 with value: 3.797076343403139.\n",
            "[I 2024-04-28 16:04:52,198] Trial 88 finished with value: 3.9992641885070395 and parameters: {'n_neighbors': 3, 'weights': 'distance', 'p': 2}. Best is trial 49 with value: 3.797076343403139.\n",
            "[I 2024-04-28 16:04:52,376] Trial 89 finished with value: 4.099661769708376 and parameters: {'n_neighbors': 3, 'weights': 'uniform', 'p': 2}. Best is trial 49 with value: 3.797076343403139.\n",
            "[I 2024-04-28 16:04:52,967] Trial 90 finished with value: 4.099661769708376 and parameters: {'n_neighbors': 3, 'weights': 'uniform', 'p': 2}. Best is trial 49 with value: 3.797076343403139.\n",
            "[I 2024-04-28 16:04:53,206] Trial 91 finished with value: 3.979723197741624 and parameters: {'n_neighbors': 2, 'weights': 'distance', 'p': 1}. Best is trial 49 with value: 3.797076343403139.\n",
            "[I 2024-04-28 16:04:53,731] Trial 92 finished with value: 3.979723197741624 and parameters: {'n_neighbors': 2, 'weights': 'distance', 'p': 1}. Best is trial 49 with value: 3.797076343403139.\n",
            "[I 2024-04-28 16:04:54,102] Trial 93 finished with value: 3.797076343403139 and parameters: {'n_neighbors': 3, 'weights': 'distance', 'p': 1}. Best is trial 49 with value: 3.797076343403139.\n",
            "[I 2024-04-28 16:04:54,418] Trial 94 finished with value: 3.797076343403139 and parameters: {'n_neighbors': 3, 'weights': 'distance', 'p': 1}. Best is trial 49 with value: 3.797076343403139.\n",
            "[I 2024-04-28 16:04:54,969] Trial 95 finished with value: 3.797076343403139 and parameters: {'n_neighbors': 3, 'weights': 'distance', 'p': 1}. Best is trial 49 with value: 3.797076343403139.\n",
            "[I 2024-04-28 16:04:55,225] Trial 96 finished with value: 3.814175487631097 and parameters: {'n_neighbors': 4, 'weights': 'distance', 'p': 1}. Best is trial 49 with value: 3.797076343403139.\n",
            "[I 2024-04-28 16:04:55,859] Trial 97 finished with value: 3.814175487631097 and parameters: {'n_neighbors': 4, 'weights': 'distance', 'p': 1}. Best is trial 49 with value: 3.797076343403139.\n",
            "[I 2024-04-28 16:04:56,072] Trial 98 finished with value: 3.979723197741624 and parameters: {'n_neighbors': 2, 'weights': 'distance', 'p': 1}. Best is trial 49 with value: 3.797076343403139.\n",
            "[I 2024-04-28 16:04:56,388] Trial 99 finished with value: 4.159416863895826 and parameters: {'n_neighbors': 2, 'weights': 'distance', 'p': 2}. Best is trial 49 with value: 3.797076343403139.\n",
            "[I 2024-04-28 16:04:56,405] A new study created in memory with name: no-name-7f7cc1b3-edf1-4ef0-be60-c39b55ffa3b8\n",
            "[I 2024-04-28 16:04:58,353] Trial 0 finished with value: 4.541473535024291 and parameters: {'n_estimators': 107, 'criterion': 'absolute_error', 'max_depth': 26, 'min_samples_leaf': 3, 'max_features': 0.22909511487311643}. Best is trial 0 with value: 4.541473535024291.\n",
            "[I 2024-04-28 16:04:59,334] Trial 1 finished with value: 4.032666603301195 and parameters: {'n_estimators': 301, 'criterion': 'squared_error', 'max_depth': 17, 'min_samples_leaf': 1, 'max_features': 0.14138940901929611}. Best is trial 1 with value: 4.032666603301195.\n",
            "[I 2024-04-28 16:05:03,542] Trial 2 finished with value: 3.8914171356865883 and parameters: {'n_estimators': 417, 'criterion': 'poisson', 'max_depth': 12, 'min_samples_leaf': 3, 'max_features': 0.9338244096891128}. Best is trial 2 with value: 3.8914171356865883.\n",
            "[I 2024-04-28 16:05:06,122] Trial 3 finished with value: 4.074242986419586 and parameters: {'n_estimators': 627, 'criterion': 'friedman_mse', 'max_depth': 27, 'min_samples_leaf': 3, 'max_features': 0.3356982889104461}. Best is trial 2 with value: 3.8914171356865883.\n",
            "[I 2024-04-28 16:05:09,674] Trial 4 finished with value: 3.997166937765172 and parameters: {'n_estimators': 598, 'criterion': 'poisson', 'max_depth': 30, 'min_samples_leaf': 2, 'max_features': 0.4035002013538468}. Best is trial 2 with value: 3.8914171356865883.\n",
            "[I 2024-04-28 16:05:11,208] Trial 5 finished with value: 4.006360047130898 and parameters: {'n_estimators': 631, 'criterion': 'friedman_mse', 'max_depth': 25, 'min_samples_leaf': 3, 'max_features': 0.4658913221350952}. Best is trial 2 with value: 3.8914171356865883.\n",
            "[I 2024-04-28 16:05:14,327] Trial 6 finished with value: 3.841947289617587 and parameters: {'n_estimators': 277, 'criterion': 'absolute_error', 'max_depth': 12, 'min_samples_leaf': 1, 'max_features': 0.6604506567151752}. Best is trial 6 with value: 3.841947289617587.\n",
            "[I 2024-04-28 16:05:19,593] Trial 8 finished with value: 4.05969242041513 and parameters: {'n_estimators': 641, 'criterion': 'friedman_mse', 'max_depth': 12, 'min_samples_leaf': 5, 'max_features': 0.7551282188939547}. Best is trial 6 with value: 3.841947289617587.\n",
            "[I 2024-04-28 16:05:20,571] Trial 7 finished with value: 3.8438488590562074 and parameters: {'n_estimators': 934, 'criterion': 'friedman_mse', 'max_depth': 10, 'min_samples_leaf': 1, 'max_features': 0.6619247663197553}. Best is trial 6 with value: 3.841947289617587.\n",
            "[I 2024-04-28 16:05:23,394] Trial 9 finished with value: 4.039887909691883 and parameters: {'n_estimators': 334, 'criterion': 'squared_error', 'max_depth': 17, 'min_samples_leaf': 2, 'max_features': 0.36413049092248795}. Best is trial 6 with value: 3.841947289617587.\n",
            "[I 2024-04-28 16:05:25,705] Trial 11 finished with value: 4.698331264040383 and parameters: {'n_estimators': 199, 'criterion': 'absolute_error', 'max_depth': 1, 'min_samples_leaf': 5, 'max_features': 0.9469680313837427}. Best is trial 6 with value: 3.841947289617587.\n",
            "[I 2024-04-28 16:05:28,522] Trial 10 finished with value: 4.186831455251202 and parameters: {'n_estimators': 995, 'criterion': 'poisson', 'max_depth': 8, 'min_samples_leaf': 5, 'max_features': 0.4109302168134982}. Best is trial 6 with value: 3.841947289617587.\n",
            "[I 2024-04-28 16:05:35,772] Trial 12 finished with value: 3.9343717100052067 and parameters: {'n_estimators': 967, 'criterion': 'absolute_error', 'max_depth': 4, 'min_samples_leaf': 1, 'max_features': 0.6445250884458373}. Best is trial 6 with value: 3.841947289617587.\n",
            "[I 2024-04-28 16:05:39,590] Trial 13 finished with value: 3.870264159844609 and parameters: {'n_estimators': 947, 'criterion': 'absolute_error', 'max_depth': 5, 'min_samples_leaf': 1, 'max_features': 0.6510626518910859}. Best is trial 6 with value: 3.841947289617587.\n",
            "[I 2024-04-28 16:05:41,709] Trial 14 finished with value: 3.8833586060255962 and parameters: {'n_estimators': 808, 'criterion': 'friedman_mse', 'max_depth': 11, 'min_samples_leaf': 1, 'max_features': 0.7022110032626382}. Best is trial 6 with value: 3.841947289617587.\n",
            "[I 2024-04-28 16:05:46,802] Trial 15 finished with value: 3.9158837671617275 and parameters: {'n_estimators': 811, 'criterion': 'friedman_mse', 'max_depth': 12, 'min_samples_leaf': 2, 'max_features': 0.8028809308228769}. Best is trial 6 with value: 3.841947289617587.\n",
            "[I 2024-04-28 16:05:48,983] Trial 16 finished with value: 3.9677574853954543 and parameters: {'n_estimators': 454, 'criterion': 'absolute_error', 'max_depth': 20, 'min_samples_leaf': 2, 'max_features': 0.8414909792431913}. Best is trial 6 with value: 3.841947289617587.\n",
            "[I 2024-04-28 16:05:51,225] Trial 17 finished with value: 4.204914953188484 and parameters: {'n_estimators': 474, 'criterion': 'absolute_error', 'max_depth': 20, 'min_samples_leaf': 4, 'max_features': 0.5268376755924178}. Best is trial 6 with value: 3.841947289617587.\n",
            "[I 2024-04-28 16:05:56,226] Trial 18 finished with value: 3.85060261850406 and parameters: {'n_estimators': 825, 'criterion': 'squared_error', 'max_depth': 20, 'min_samples_leaf': 1, 'max_features': 0.5737441303858005}. Best is trial 6 with value: 3.841947289617587.\n",
            "[I 2024-04-28 16:05:59,288] Trial 19 finished with value: 3.8548299635689802 and parameters: {'n_estimators': 803, 'criterion': 'squared_error', 'max_depth': 8, 'min_samples_leaf': 1, 'max_features': 0.5779077890125602}. Best is trial 6 with value: 3.841947289617587.\n",
            "[I 2024-04-28 16:06:01,837] Trial 21 finished with value: 3.9709949486793343 and parameters: {'n_estimators': 226, 'criterion': 'friedman_mse', 'max_depth': 15, 'min_samples_leaf': 2, 'max_features': 0.8168299929082783}. Best is trial 6 with value: 3.841947289617587.\n",
            "[I 2024-04-28 16:06:03,606] Trial 20 finished with value: 3.934094673440651 and parameters: {'n_estimators': 740, 'criterion': 'friedman_mse', 'max_depth': 8, 'min_samples_leaf': 2, 'max_features': 0.5718388317643307}. Best is trial 6 with value: 3.841947289617587.\n",
            "[I 2024-04-28 16:06:09,799] Trial 22 finished with value: 3.843311166029114 and parameters: {'n_estimators': 910, 'criterion': 'squared_error', 'max_depth': 21, 'min_samples_leaf': 1, 'max_features': 0.5667709204975142}. Best is trial 6 with value: 3.841947289617587.\n",
            "[I 2024-04-28 16:06:12,276] Trial 23 finished with value: 3.8491313773654103 and parameters: {'n_estimators': 910, 'criterion': 'squared_error', 'max_depth': 21, 'min_samples_leaf': 1, 'max_features': 0.6537763525549537}. Best is trial 6 with value: 3.841947289617587.\n",
            "[I 2024-04-28 16:06:17,604] Trial 25 finished with value: 4.069977308226519 and parameters: {'n_estimators': 713, 'criterion': 'squared_error', 'max_depth': 15, 'min_samples_leaf': 4, 'max_features': 0.5150048991790226}. Best is trial 6 with value: 3.841947289617587.\n",
            "[I 2024-04-28 16:06:19,981] Trial 24 finished with value: 3.8480908230539734 and parameters: {'n_estimators': 927, 'criterion': 'squared_error', 'max_depth': 23, 'min_samples_leaf': 1, 'max_features': 0.6876936717920064}. Best is trial 6 with value: 3.841947289617587.\n",
            "[I 2024-04-28 16:06:22,885] Trial 26 finished with value: 3.858331549329862 and parameters: {'n_estimators': 532, 'criterion': 'squared_error', 'max_depth': 22, 'min_samples_leaf': 1, 'max_features': 0.7311328359921146}. Best is trial 6 with value: 3.841947289617587.\n",
            "[I 2024-04-28 16:06:25,590] Trial 27 finished with value: 3.959378016991147 and parameters: {'n_estimators': 517, 'criterion': 'absolute_error', 'max_depth': 10, 'min_samples_leaf': 2, 'max_features': 0.7315613266695091}. Best is trial 6 with value: 3.841947289617587.\n",
            "[I 2024-04-28 16:06:31,521] Trial 29 finished with value: 4.053405293955457 and parameters: {'n_estimators': 898, 'criterion': 'poisson', 'max_depth': 17, 'min_samples_leaf': 4, 'max_features': 0.49020878265852985}. Best is trial 6 with value: 3.841947289617587.\n",
            "[I 2024-04-28 16:06:33,576] Trial 30 finished with value: 4.01035157903787 and parameters: {'n_estimators': 160, 'criterion': 'absolute_error', 'max_depth': 14, 'min_samples_leaf': 2, 'max_features': 0.8918795765924968}. Best is trial 6 with value: 3.841947289617587.\n",
            "[I 2024-04-28 16:06:34,393] Trial 28 finished with value: 4.066251942134916 and parameters: {'n_estimators': 876, 'criterion': 'absolute_error', 'max_depth': 14, 'min_samples_leaf': 2, 'max_features': 0.27787203869573335}. Best is trial 6 with value: 3.841947289617587.\n",
            "[I 2024-04-28 16:06:37,640] Trial 31 finished with value: 3.9579596991117056 and parameters: {'n_estimators': 381, 'criterion': 'friedman_mse', 'max_depth': 6, 'min_samples_leaf': 1, 'max_features': 0.254930743060758}. Best is trial 6 with value: 3.841947289617587.\n",
            "[I 2024-04-28 16:06:41,464] Trial 32 finished with value: 3.8531502329592335 and parameters: {'n_estimators': 730, 'criterion': 'squared_error', 'max_depth': 23, 'min_samples_leaf': 1, 'max_features': 0.6194759638050047}. Best is trial 6 with value: 3.841947289617587.\n",
            "[I 2024-04-28 16:06:44,779] Trial 33 finished with value: 3.855992506880111 and parameters: {'n_estimators': 734, 'criterion': 'squared_error', 'max_depth': 24, 'min_samples_leaf': 1, 'max_features': 0.6243251955920541}. Best is trial 6 with value: 3.841947289617587.\n",
            "[I 2024-04-28 16:06:46,307] Trial 35 finished with value: 3.965693812754147 and parameters: {'n_estimators': 104, 'criterion': 'squared_error', 'max_depth': 27, 'min_samples_leaf': 1, 'max_features': 0.6900029311502793}. Best is trial 6 with value: 3.841947289617587.\n",
            "[I 2024-04-28 16:06:49,926] Trial 34 finished with value: 3.853214784690628 and parameters: {'n_estimators': 868, 'criterion': 'squared_error', 'max_depth': 25, 'min_samples_leaf': 1, 'max_features': 0.681280418724726}. Best is trial 6 with value: 3.841947289617587.\n",
            "[I 2024-04-28 16:06:53,632] Trial 37 finished with value: 3.911526636095145 and parameters: {'n_estimators': 273, 'criterion': 'poisson', 'max_depth': 30, 'min_samples_leaf': 1, 'max_features': 0.15927869963061242}. Best is trial 6 with value: 3.841947289617587.\n",
            "[I 2024-04-28 16:06:54,781] Trial 36 finished with value: 3.9154589214439577 and parameters: {'n_estimators': 877, 'criterion': 'squared_error', 'max_depth': 17, 'min_samples_leaf': 1, 'max_features': 0.16310564116073356}. Best is trial 6 with value: 3.841947289617587.\n",
            "[I 2024-04-28 16:07:00,575] Trial 39 finished with value: 3.9897002334648697 and parameters: {'n_estimators': 674, 'criterion': 'friedman_mse', 'max_depth': 19, 'min_samples_leaf': 3, 'max_features': 0.7719023775559164}. Best is trial 6 with value: 3.841947289617587.\n",
            "[I 2024-04-28 16:07:03,391] Trial 38 finished with value: 3.9141299739125746 and parameters: {'n_estimators': 938, 'criterion': 'squared_error', 'max_depth': 18, 'min_samples_leaf': 2, 'max_features': 0.7733284674024421}. Best is trial 6 with value: 3.841947289617587.\n",
            "[I 2024-04-28 16:07:08,915] Trial 40 finished with value: 3.966855786411693 and parameters: {'n_estimators': 943, 'criterion': 'squared_error', 'max_depth': 28, 'min_samples_leaf': 2, 'max_features': 0.4325548862125957}. Best is trial 6 with value: 3.841947289617587.\n",
            "[I 2024-04-28 16:07:13,853] Trial 41 finished with value: 3.9468680719609486 and parameters: {'n_estimators': 996, 'criterion': 'poisson', 'max_depth': 10, 'min_samples_leaf': 2, 'max_features': 0.4220231663197026}. Best is trial 6 with value: 3.841947289617587.\n",
            "[I 2024-04-28 16:07:18,950] Trial 42 finished with value: 3.8411922490752466 and parameters: {'n_estimators': 991, 'criterion': 'squared_error', 'max_depth': 22, 'min_samples_leaf': 1, 'max_features': 0.6001874189216728}. Best is trial 42 with value: 3.8411922490752466.\n",
            "[I 2024-04-28 16:07:23,107] Trial 43 finished with value: 3.843049719953739 and parameters: {'n_estimators': 926, 'criterion': 'squared_error', 'max_depth': 22, 'min_samples_leaf': 1, 'max_features': 0.5970574680074536}. Best is trial 42 with value: 3.8411922490752466.\n",
            "[I 2024-04-28 16:07:28,859] Trial 44 finished with value: 3.837992062146225 and parameters: {'n_estimators': 998, 'criterion': 'squared_error', 'max_depth': 23, 'min_samples_leaf': 1, 'max_features': 0.6004855397211648}. Best is trial 44 with value: 3.837992062146225.\n",
            "[I 2024-04-28 16:07:28,887] Trial 45 finished with value: 3.868408046405161 and parameters: {'n_estimators': 583, 'criterion': 'squared_error', 'max_depth': 13, 'min_samples_leaf': 1, 'max_features': 0.9943188914859622}. Best is trial 44 with value: 3.837992062146225.\n",
            "[I 2024-04-28 16:07:37,583] Trial 47 finished with value: 4.002734550086563 and parameters: {'n_estimators': 846, 'criterion': 'squared_error', 'max_depth': 26, 'min_samples_leaf': 3, 'max_features': 0.6050129073390004}. Best is trial 44 with value: 3.837992062146225.\n",
            "[I 2024-04-28 16:07:39,637] Trial 46 finished with value: 3.8388561307583116 and parameters: {'n_estimators': 1000, 'criterion': 'squared_error', 'max_depth': 26, 'min_samples_leaf': 1, 'max_features': 0.6023643492062625}. Best is trial 44 with value: 3.837992062146225.\n",
            "[I 2024-04-28 16:07:46,503] Trial 48 finished with value: 3.8604467185173816 and parameters: {'n_estimators': 997, 'criterion': 'squared_error', 'max_depth': 22, 'min_samples_leaf': 1, 'max_features': 0.53601457715452}. Best is trial 44 with value: 3.837992062146225.\n",
            "[I 2024-04-28 16:07:49,297] Trial 49 finished with value: 3.8604467185173816 and parameters: {'n_estimators': 997, 'criterion': 'squared_error', 'max_depth': 29, 'min_samples_leaf': 1, 'max_features': 0.48625076846210585}. Best is trial 44 with value: 3.837992062146225.\n",
            "[I 2024-04-28 16:07:57,608] Trial 50 finished with value: 3.8344483185297893 and parameters: {'n_estimators': 966, 'criterion': 'absolute_error', 'max_depth': 29, 'min_samples_leaf': 1, 'max_features': 0.462167045562773}. Best is trial 50 with value: 3.8344483185297893.\n",
            "[I 2024-04-28 16:07:58,635] Trial 51 finished with value: 3.833720169628261 and parameters: {'n_estimators': 967, 'criterion': 'absolute_error', 'max_depth': 25, 'min_samples_leaf': 1, 'max_features': 0.46176177718066974}. Best is trial 51 with value: 3.833720169628261.\n",
            "[I 2024-04-28 16:08:08,416] Trial 53 finished with value: 3.790633112785433 and parameters: {'n_estimators': 953, 'criterion': 'absolute_error', 'max_depth': 26, 'min_samples_leaf': 1, 'max_features': 0.3609705790200135}. Best is trial 53 with value: 3.790633112785433.\n",
            "[I 2024-04-28 16:08:09,514] Trial 52 finished with value: 3.8086833645725546 and parameters: {'n_estimators': 970, 'criterion': 'absolute_error', 'max_depth': 26, 'min_samples_leaf': 1, 'max_features': 0.6039559540112158}. Best is trial 53 with value: 3.790633112785433.\n",
            "[I 2024-04-28 16:08:19,132] Trial 54 finished with value: 3.791785347720575 and parameters: {'n_estimators': 967, 'criterion': 'absolute_error', 'max_depth': 26, 'min_samples_leaf': 1, 'max_features': 0.3684799085471683}. Best is trial 53 with value: 3.790633112785433.\n",
            "[I 2024-04-28 16:08:20,160] Trial 55 finished with value: 3.8109115370979323 and parameters: {'n_estimators': 959, 'criterion': 'absolute_error', 'max_depth': 27, 'min_samples_leaf': 1, 'max_features': 0.38470177519555887}. Best is trial 53 with value: 3.790633112785433.\n",
            "[I 2024-04-28 16:08:26,714] Trial 57 finished with value: 4.0048180490532275 and parameters: {'n_estimators': 790, 'criterion': 'absolute_error', 'max_depth': 28, 'min_samples_leaf': 2, 'max_features': 0.35115191503144316}. Best is trial 53 with value: 3.790633112785433.\n",
            "[I 2024-04-28 16:08:28,121] Trial 56 finished with value: 3.793994371219766 and parameters: {'n_estimators': 784, 'criterion': 'absolute_error', 'max_depth': 28, 'min_samples_leaf': 1, 'max_features': 0.36637780274972914}. Best is trial 53 with value: 3.790633112785433.\n",
            "[I 2024-04-28 16:08:36,338] Trial 59 finished with value: 3.7944234772322063 and parameters: {'n_estimators': 782, 'criterion': 'absolute_error', 'max_depth': 27, 'min_samples_leaf': 1, 'max_features': 0.3198888892090497}. Best is trial 53 with value: 3.790633112785433.\n",
            "[I 2024-04-28 16:08:37,867] Trial 58 finished with value: 3.869871289378496 and parameters: {'n_estimators': 960, 'criterion': 'absolute_error', 'max_depth': 30, 'min_samples_leaf': 1, 'max_features': 0.29647611020703496}. Best is trial 53 with value: 3.790633112785433.\n",
            "[I 2024-04-28 16:08:45,292] Trial 60 finished with value: 4.005793663977399 and parameters: {'n_estimators': 843, 'criterion': 'absolute_error', 'max_depth': 27, 'min_samples_leaf': 2, 'max_features': 0.3151657533491869}. Best is trial 53 with value: 3.790633112785433.\n",
            "[I 2024-04-28 16:08:46,731] Trial 61 finished with value: 4.007442939694842 and parameters: {'n_estimators': 847, 'criterion': 'absolute_error', 'max_depth': 27, 'min_samples_leaf': 2, 'max_features': 0.3796103509997004}. Best is trial 53 with value: 3.790633112785433.\n",
            "[I 2024-04-28 16:08:55,222] Trial 62 finished with value: 3.8071752453254377 and parameters: {'n_estimators': 888, 'criterion': 'absolute_error', 'max_depth': 25, 'min_samples_leaf': 1, 'max_features': 0.3974437601929708}. Best is trial 53 with value: 3.790633112785433.\n",
            "[I 2024-04-28 16:08:55,627] Trial 63 finished with value: 3.8084863461257656 and parameters: {'n_estimators': 886, 'criterion': 'absolute_error', 'max_depth': 25, 'min_samples_leaf': 1, 'max_features': 0.3876140260887781}. Best is trial 53 with value: 3.790633112785433.\n",
            "[I 2024-04-28 16:09:04,218] Trial 65 finished with value: 3.9325399940256522 and parameters: {'n_estimators': 781, 'criterion': 'absolute_error', 'max_depth': 24, 'min_samples_leaf': 1, 'max_features': 0.20677442588655767}. Best is trial 53 with value: 3.790633112785433.\n",
            "[I 2024-04-28 16:09:05,180] Trial 64 finished with value: 3.9334782434487416 and parameters: {'n_estimators': 778, 'criterion': 'absolute_error', 'max_depth': 24, 'min_samples_leaf': 1, 'max_features': 0.20542659991355028}. Best is trial 53 with value: 3.790633112785433.\n",
            "[I 2024-04-28 16:09:14,747] Trial 67 finished with value: 3.7916167986478664 and parameters: {'n_estimators': 894, 'criterion': 'absolute_error', 'max_depth': 26, 'min_samples_leaf': 1, 'max_features': 0.3336864949713174}. Best is trial 53 with value: 3.790633112785433.\n",
            "[I 2024-04-28 16:09:15,074] Trial 66 finished with value: 3.7938317920741333 and parameters: {'n_estimators': 898, 'criterion': 'absolute_error', 'max_depth': 25, 'min_samples_leaf': 1, 'max_features': 0.33224478454407935}. Best is trial 53 with value: 3.790633112785433.\n",
            "[I 2024-04-28 16:09:23,936] Trial 69 finished with value: 3.793087594270045 and parameters: {'n_estimators': 825, 'criterion': 'absolute_error', 'max_depth': 28, 'min_samples_leaf': 1, 'max_features': 0.34983932048879035}. Best is trial 53 with value: 3.790633112785433.\n",
            "[I 2024-04-28 16:09:24,371] Trial 68 finished with value: 3.7917035861583925 and parameters: {'n_estimators': 883, 'criterion': 'absolute_error', 'max_depth': 28, 'min_samples_leaf': 1, 'max_features': 0.33161419409208986}. Best is trial 53 with value: 3.790633112785433.\n",
            "[I 2024-04-28 16:09:30,553] Trial 71 finished with value: 4.446384941175568 and parameters: {'n_estimators': 827, 'criterion': 'absolute_error', 'max_depth': 28, 'min_samples_leaf': 5, 'max_features': 0.2606519237203595}. Best is trial 53 with value: 3.790633112785433.\n",
            "[I 2024-04-28 16:09:33,584] Trial 70 finished with value: 3.8020434804733716 and parameters: {'n_estimators': 687, 'criterion': 'absolute_error', 'max_depth': 28, 'min_samples_leaf': 1, 'max_features': 0.32992257788854584}. Best is trial 53 with value: 3.790633112785433.\n",
            "[I 2024-04-28 16:09:38,833] Trial 72 finished with value: 3.802289783320796 and parameters: {'n_estimators': 688, 'criterion': 'absolute_error', 'max_depth': 29, 'min_samples_leaf': 1, 'max_features': 0.3191748885103222}. Best is trial 53 with value: 3.790633112785433.\n",
            "[I 2024-04-28 16:09:42,047] Trial 73 finished with value: 3.793110636894661 and parameters: {'n_estimators': 757, 'criterion': 'absolute_error', 'max_depth': 29, 'min_samples_leaf': 1, 'max_features': 0.35179472328184147}. Best is trial 53 with value: 3.790633112785433.\n",
            "[I 2024-04-28 16:09:48,471] Trial 74 finished with value: 3.793815449884163 and parameters: {'n_estimators': 768, 'criterion': 'absolute_error', 'max_depth': 30, 'min_samples_leaf': 1, 'max_features': 0.3475755576097765}. Best is trial 53 with value: 3.790633112785433.\n",
            "[I 2024-04-28 16:09:48,709] Trial 75 finished with value: 4.2674379806934155 and parameters: {'n_estimators': 912, 'criterion': 'absolute_error', 'max_depth': 29, 'min_samples_leaf': 4, 'max_features': 0.35722835535066594}. Best is trial 53 with value: 3.790633112785433.\n",
            "[I 2024-04-28 16:09:57,239] Trial 76 finished with value: 3.7941405269584916 and parameters: {'n_estimators': 756, 'criterion': 'absolute_error', 'max_depth': 30, 'min_samples_leaf': 1, 'max_features': 0.3490966946958274}. Best is trial 53 with value: 3.790633112785433.\n",
            "[I 2024-04-28 16:09:58,687] Trial 77 finished with value: 3.855365618471569 and parameters: {'n_estimators': 865, 'criterion': 'absolute_error', 'max_depth': 30, 'min_samples_leaf': 1, 'max_features': 0.23291681273098208}. Best is trial 53 with value: 3.790633112785433.\n",
            "[I 2024-04-28 16:10:06,172] Trial 78 finished with value: 3.856305746289131 and parameters: {'n_estimators': 856, 'criterion': 'absolute_error', 'max_depth': 26, 'min_samples_leaf': 1, 'max_features': 0.2890722875133044}. Best is trial 53 with value: 3.790633112785433.\n",
            "[I 2024-04-28 16:10:08,806] Trial 79 finished with value: 3.846732215105595 and parameters: {'n_estimators': 816, 'criterion': 'absolute_error', 'max_depth': 26, 'min_samples_leaf': 1, 'max_features': 0.2906341598093184}. Best is trial 53 with value: 3.790633112785433.\n",
            "[I 2024-04-28 16:10:15,337] Trial 81 finished with value: 4.952949289449366 and parameters: {'n_estimators': 912, 'criterion': 'absolute_error', 'max_depth': 1, 'min_samples_leaf': 2, 'max_features': 0.4367184497280051}. Best is trial 53 with value: 3.790633112785433.\n",
            "[I 2024-04-28 16:10:16,792] Trial 80 finished with value: 3.9720247854770143 and parameters: {'n_estimators': 818, 'criterion': 'absolute_error', 'max_depth': 29, 'min_samples_leaf': 2, 'max_features': 0.414357582579965}. Best is trial 53 with value: 3.790633112785433.\n",
            "[I 2024-04-28 16:10:23,643] Trial 82 finished with value: 3.7934867682157147 and parameters: {'n_estimators': 758, 'criterion': 'absolute_error', 'max_depth': 28, 'min_samples_leaf': 1, 'max_features': 0.36592661958645534}. Best is trial 53 with value: 3.790633112785433.\n",
            "[I 2024-04-28 16:10:25,741] Trial 83 finished with value: 4.081528122559122 and parameters: {'n_estimators': 756, 'criterion': 'absolute_error', 'max_depth': 28, 'min_samples_leaf': 1, 'max_features': 0.11152682809230466}. Best is trial 53 with value: 3.790633112785433.\n",
            "[I 2024-04-28 16:10:30,764] Trial 85 finished with value: 3.892116291707114 and parameters: {'n_estimators': 662, 'criterion': 'poisson', 'max_depth': 27, 'min_samples_leaf': 1, 'max_features': 0.2531631554850893}. Best is trial 53 with value: 3.790633112785433.\n",
            "[I 2024-04-28 16:10:31,808] Trial 84 finished with value: 3.845339012506642 and parameters: {'n_estimators': 649, 'criterion': 'absolute_error', 'max_depth': 28, 'min_samples_leaf': 1, 'max_features': 0.2595797907104703}. Best is trial 53 with value: 3.790633112785433.\n",
            "[I 2024-04-28 16:10:42,167] Trial 86 finished with value: 3.793462882523302 and parameters: {'n_estimators': 896, 'criterion': 'absolute_error', 'max_depth': 29, 'min_samples_leaf': 1, 'max_features': 0.30791940738219414}. Best is trial 53 with value: 3.790633112785433.\n",
            "[I 2024-04-28 16:10:43,889] Trial 87 finished with value: 3.7932484331694214 and parameters: {'n_estimators': 930, 'criterion': 'absolute_error', 'max_depth': 24, 'min_samples_leaf': 1, 'max_features': 0.33885860992579614}. Best is trial 53 with value: 3.790633112785433.\n",
            "[I 2024-04-28 16:10:52,363] Trial 88 finished with value: 3.7923958357073837 and parameters: {'n_estimators': 932, 'criterion': 'absolute_error', 'max_depth': 30, 'min_samples_leaf': 1, 'max_features': 0.3675421641780868}. Best is trial 53 with value: 3.790633112785433.\n",
            "[I 2024-04-28 16:10:56,191] Trial 89 finished with value: 3.8712759859229378 and parameters: {'n_estimators': 929, 'criterion': 'absolute_error', 'max_depth': 24, 'min_samples_leaf': 1, 'max_features': 0.30379703557055165}. Best is trial 53 with value: 3.790633112785433.\n",
            "[I 2024-04-28 16:11:04,775] Trial 91 finished with value: 3.8974841097431083 and parameters: {'n_estimators': 945, 'criterion': 'friedman_mse', 'max_depth': 29, 'min_samples_leaf': 1, 'max_features': 0.2730263154614864}. Best is trial 53 with value: 3.790633112785433.\n",
            "[I 2024-04-28 16:11:06,981] Trial 90 finished with value: 3.7923958357073837 and parameters: {'n_estimators': 932, 'criterion': 'absolute_error', 'max_depth': 29, 'min_samples_leaf': 1, 'max_features': 0.30937479960684633}. Best is trial 53 with value: 3.790633112785433.\n",
            "[I 2024-04-28 16:11:15,963] Trial 92 finished with value: 3.8122559683900015 and parameters: {'n_estimators': 921, 'criterion': 'absolute_error', 'max_depth': 26, 'min_samples_leaf': 1, 'max_features': 0.4357959231135464}. Best is trial 53 with value: 3.790633112785433.\n",
            "[I 2024-04-28 16:11:18,316] Trial 93 finished with value: 3.947529450232296 and parameters: {'n_estimators': 915, 'criterion': 'absolute_error', 'max_depth': 30, 'min_samples_leaf': 1, 'max_features': 0.22855972867227595}. Best is trial 53 with value: 3.790633112785433.\n",
            "[I 2024-04-28 16:11:26,383] Trial 94 finished with value: 3.806963683861623 and parameters: {'n_estimators': 893, 'criterion': 'absolute_error', 'max_depth': 30, 'min_samples_leaf': 1, 'max_features': 0.4013790167174055}. Best is trial 53 with value: 3.790633112785433.\n",
            "[I 2024-04-28 16:11:27,659] Trial 95 finished with value: 3.8012451821554443 and parameters: {'n_estimators': 872, 'criterion': 'absolute_error', 'max_depth': 29, 'min_samples_leaf': 1, 'max_features': 0.4025476456963247}. Best is trial 53 with value: 3.790633112785433.\n",
            "[I 2024-04-28 16:11:34,914] Trial 97 finished with value: 3.842021833636265 and parameters: {'n_estimators': 976, 'criterion': 'poisson', 'max_depth': 27, 'min_samples_leaf': 1, 'max_features': 0.37517538756741053}. Best is trial 53 with value: 3.790633112785433.\n",
            "[I 2024-04-28 16:11:40,013] Trial 96 finished with value: 3.7919143592189 and parameters: {'n_estimators': 975, 'criterion': 'absolute_error', 'max_depth': 29, 'min_samples_leaf': 1, 'max_features': 0.37215975516817174}. Best is trial 53 with value: 3.790633112785433.\n",
            "[I 2024-04-28 16:11:44,050] Trial 98 finished with value: 3.8717328302406226 and parameters: {'n_estimators': 944, 'criterion': 'absolute_error', 'max_depth': 29, 'min_samples_leaf': 1, 'max_features': 0.30460667020156773}. Best is trial 53 with value: 3.790633112785433.\n",
            "[I 2024-04-28 16:11:47,440] Trial 99 finished with value: 3.791346433899499 and parameters: {'n_estimators': 950, 'criterion': 'absolute_error', 'max_depth': 26, 'min_samples_leaf': 1, 'max_features': 0.33720398472032975}. Best is trial 53 with value: 3.790633112785433.\n",
            "[I 2024-04-28 16:11:49,028] A new study created in memory with name: no-name-ae3d42c1-60d7-4187-a29c-8dda1ed46204\n",
            "[I 2024-04-28 16:11:49,791] Trial 1 finished with value: 5.456545311272166 and parameters: {'kernel': 'rbf', 'degree': 2, 'gamma': 'scale', 'C': 36.75481635469727, 'epsilon': 17.59639137068885}. Best is trial 1 with value: 5.456545311272166.\n",
            "[I 2024-04-28 16:11:49,858] Trial 0 finished with value: 5.456545311272166 and parameters: {'kernel': 'poly', 'degree': 1, 'gamma': 'scale', 'C': 88.64704104429437, 'epsilon': 97.2339021518322}. Best is trial 1 with value: 5.456545311272166.\n",
            "[I 2024-04-28 16:11:50,598] Trial 3 finished with value: 5.456545311272165 and parameters: {'kernel': 'rbf', 'degree': 4, 'gamma': 'scale', 'C': 87.46066580818858, 'epsilon': 19.521822136204154}. Best is trial 3 with value: 5.456545311272165.\n",
            "[I 2024-04-28 16:11:50,663] Trial 2 finished with value: 5.4565453112721665 and parameters: {'kernel': 'linear', 'degree': 15, 'gamma': 'auto', 'C': 43.981468892772156, 'epsilon': 59.85742972636365}. Best is trial 3 with value: 5.456545311272165.\n",
            "[I 2024-04-28 16:11:51,393] Trial 4 finished with value: 5.456545311272166 and parameters: {'kernel': 'poly', 'degree': 15, 'gamma': 'scale', 'C': 19.54818703621978, 'epsilon': 54.429914710469845}. Best is trial 3 with value: 5.456545311272165.\n",
            "[I 2024-04-28 16:11:51,551] Trial 5 finished with value: 5.456545311272165 and parameters: {'kernel': 'linear', 'degree': 13, 'gamma': 'auto', 'C': 46.53652851400145, 'epsilon': 51.581033176062796}. Best is trial 3 with value: 5.456545311272165.\n",
            "[I 2024-04-28 16:11:52,243] Trial 6 finished with value: 5.4565453112721665 and parameters: {'kernel': 'linear', 'degree': 17, 'gamma': 'scale', 'C': 80.21198133096729, 'epsilon': 68.22140385393229}. Best is trial 3 with value: 5.456545311272165.\n",
            "[I 2024-04-28 16:11:52,397] Trial 7 finished with value: 5.4565453112721665 and parameters: {'kernel': 'poly', 'degree': 7, 'gamma': 'scale', 'C': 88.47730675941304, 'epsilon': 78.19651693945016}. Best is trial 3 with value: 5.456545311272165.\n",
            "[I 2024-04-28 16:11:53,068] Trial 8 finished with value: 5.627597953863652 and parameters: {'kernel': 'poly', 'degree': 4, 'gamma': 'auto', 'C': 9.686364646564613, 'epsilon': 9.939998073296962}. Best is trial 3 with value: 5.456545311272165.\n",
            "[I 2024-04-28 16:11:53,411] Trial 9 finished with value: 4.3493633339315005 and parameters: {'kernel': 'rbf', 'degree': 7, 'gamma': 'auto', 'C': 2.9542942869941164, 'epsilon': 3.5186341372260106}. Best is trial 9 with value: 4.3493633339315005.\n",
            "[I 2024-04-28 16:11:54,060] Trial 10 finished with value: 5.456545311272166 and parameters: {'kernel': 'rbf', 'degree': 9, 'gamma': 'auto', 'C': 87.23629730986643, 'epsilon': 41.52172547483279}. Best is trial 9 with value: 4.3493633339315005.\n",
            "[I 2024-04-28 16:11:54,404] Trial 11 finished with value: 5.456545311272166 and parameters: {'kernel': 'rbf', 'degree': 9, 'gamma': 'auto', 'C': 1.007461275934198, 'epsilon': 35.235389711813305}. Best is trial 9 with value: 4.3493633339315005.\n",
            "[I 2024-04-28 16:11:55,105] Trial 12 finished with value: 3.644983578244485 and parameters: {'kernel': 'rbf', 'degree': 6, 'gamma': 'auto', 'C': 66.18034182458315, 'epsilon': 1.326119248432002}. Best is trial 12 with value: 3.644983578244485.\n",
            "[I 2024-04-28 16:11:55,442] Trial 13 finished with value: 3.669917004620161 and parameters: {'kernel': 'rbf', 'degree': 5, 'gamma': 'scale', 'C': 68.10177008341626, 'epsilon': 1.3652733331733438}. Best is trial 12 with value: 3.644983578244485.\n",
            "[I 2024-04-28 16:11:56,175] Trial 14 finished with value: 3.70762209087076 and parameters: {'kernel': 'rbf', 'degree': 6, 'gamma': 'auto', 'C': 65.34033204185617, 'epsilon': 0.3239349703677823}. Best is trial 12 with value: 3.644983578244485.\n",
            "[I 2024-04-28 16:11:56,529] Trial 15 finished with value: 5.456545311272165 and parameters: {'kernel': 'rbf', 'degree': 20, 'gamma': 'scale', 'C': 63.61749977969253, 'epsilon': 27.997009155340553}. Best is trial 12 with value: 3.644983578244485.\n",
            "[I 2024-04-28 16:11:57,210] Trial 16 finished with value: 5.456545311272165 and parameters: {'kernel': 'rbf', 'degree': 20, 'gamma': 'scale', 'C': 65.78954099175122, 'epsilon': 30.4428655713352}. Best is trial 12 with value: 3.644983578244485.\n",
            "[I 2024-04-28 16:11:57,342] Trial 17 finished with value: 5.456545311272166 and parameters: {'kernel': 'rbf', 'degree': 11, 'gamma': 'auto', 'C': 68.48043344730968, 'epsilon': 23.39147164372097}. Best is trial 12 with value: 3.644983578244485.\n",
            "[I 2024-04-28 16:11:58,197] Trial 18 finished with value: 5.456545311272166 and parameters: {'kernel': 'rbf', 'degree': 12, 'gamma': 'auto', 'C': 57.97309798539262, 'epsilon': 13.72698888023021}. Best is trial 12 with value: 3.644983578244485.\n",
            "[I 2024-04-28 16:11:58,259] Trial 19 finished with value: 5.3816720240922 and parameters: {'kernel': 'rbf', 'degree': 4, 'gamma': 'scale', 'C': 98.33451809451734, 'epsilon': 11.72641866943291}. Best is trial 12 with value: 3.644983578244485.\n",
            "[I 2024-04-28 16:11:58,989] Trial 20 finished with value: 5.456545311272166 and parameters: {'kernel': 'linear', 'degree': 4, 'gamma': 'scale', 'C': 76.16349388078467, 'epsilon': 41.931335353204574}. Best is trial 12 with value: 3.644983578244485.\n",
            "[I 2024-04-28 16:11:59,187] Trial 21 finished with value: 5.456545311272166 and parameters: {'kernel': 'linear', 'degree': 6, 'gamma': 'scale', 'C': 31.618673684339036, 'epsilon': 41.82561213784754}. Best is trial 12 with value: 3.644983578244485.\n",
            "[I 2024-04-28 16:11:59,883] Trial 22 finished with value: 3.6690279741835745 and parameters: {'kernel': 'rbf', 'degree': 7, 'gamma': 'auto', 'C': 55.60061893075416, 'epsilon': 0.6101915923122123}. Best is trial 12 with value: 3.644983578244485.\n",
            "[I 2024-04-28 16:12:00,023] Trial 23 finished with value: 4.099934024080906 and parameters: {'kernel': 'rbf', 'degree': 9, 'gamma': 'auto', 'C': 57.10509199016816, 'epsilon': 5.092823046764018}. Best is trial 12 with value: 3.644983578244485.\n",
            "[I 2024-04-28 16:12:00,688] Trial 24 finished with value: 3.6359994999905725 and parameters: {'kernel': 'rbf', 'degree': 8, 'gamma': 'auto', 'C': 54.56839453712843, 'epsilon': 1.460386884015881}. Best is trial 24 with value: 3.6359994999905725.\n",
            "[I 2024-04-28 16:12:00,952] Trial 25 finished with value: 3.7875316166096984 and parameters: {'kernel': 'rbf', 'degree': 8, 'gamma': 'auto', 'C': 75.45727065212402, 'epsilon': 0.04581666664909534}. Best is trial 24 with value: 3.6359994999905725.\n",
            "[I 2024-04-28 16:12:01,500] Trial 26 finished with value: 5.112805003304006 and parameters: {'kernel': 'rbf', 'degree': 8, 'gamma': 'auto', 'C': 52.57596663981925, 'epsilon': 10.022043294786949}. Best is trial 24 with value: 3.6359994999905725.\n",
            "[I 2024-04-28 16:12:02,085] Trial 27 finished with value: 5.352947429853453 and parameters: {'kernel': 'rbf', 'degree': 10, 'gamma': 'auto', 'C': 53.95059665316231, 'epsilon': 11.429990916542216}. Best is trial 24 with value: 3.6359994999905725.\n",
            "[I 2024-04-28 16:12:02,280] Trial 28 finished with value: 5.456545311272165 and parameters: {'kernel': 'rbf', 'degree': 10, 'gamma': 'auto', 'C': 37.27563929726159, 'epsilon': 21.327407635465025}. Best is trial 24 with value: 3.6359994999905725.\n",
            "[I 2024-04-28 16:12:02,996] Trial 29 finished with value: 5.456545311272166 and parameters: {'kernel': 'poly', 'degree': 11, 'gamma': 'auto', 'C': 38.33196175767199, 'epsilon': 24.067094056061826}. Best is trial 24 with value: 3.6359994999905725.\n",
            "[I 2024-04-28 16:12:03,171] Trial 30 finished with value: 5.4565453112721665 and parameters: {'kernel': 'poly', 'degree': 1, 'gamma': 'auto', 'C': 48.04045661879226, 'epsilon': 95.86617668163058}. Best is trial 24 with value: 3.6359994999905725.\n",
            "[I 2024-04-28 16:12:03,847] Trial 31 finished with value: 5.456545311272166 and parameters: {'kernel': 'poly', 'degree': 2, 'gamma': 'auto', 'C': 24.5491546856951, 'epsilon': 93.8096340691349}. Best is trial 24 with value: 3.6359994999905725.\n",
            "[I 2024-04-28 16:12:04,130] Trial 32 finished with value: 4.325775202943927 and parameters: {'kernel': 'rbf', 'degree': 6, 'gamma': 'auto', 'C': 71.79137407113595, 'epsilon': 5.899045964666833}. Best is trial 24 with value: 3.6359994999905725.\n",
            "[I 2024-04-28 16:12:04,584] Trial 33 finished with value: 4.418806363763258 and parameters: {'kernel': 'rbf', 'degree': 6, 'gamma': 'auto', 'C': 71.8555127740823, 'epsilon': 6.2694744343314674}. Best is trial 24 with value: 3.6359994999905725.\n",
            "[I 2024-04-28 16:12:04,950] Trial 34 finished with value: 5.456545311272165 and parameters: {'kernel': 'rbf', 'degree': 5, 'gamma': 'auto', 'C': 60.986562727025884, 'epsilon': 16.652446020606366}. Best is trial 24 with value: 3.6359994999905725.\n",
            "[I 2024-04-28 16:12:05,471] Trial 35 finished with value: 5.456545311272165 and parameters: {'kernel': 'rbf', 'degree': 3, 'gamma': 'scale', 'C': 61.49792691335807, 'epsilon': 15.41833689003087}. Best is trial 24 with value: 3.6359994999905725.\n",
            "[I 2024-04-28 16:12:05,722] Trial 36 finished with value: 3.6806405972187584 and parameters: {'kernel': 'rbf', 'degree': 2, 'gamma': 'scale', 'C': 41.833405210751756, 'epsilon': 0.6108353297847827}. Best is trial 24 with value: 3.6359994999905725.\n",
            "[I 2024-04-28 16:12:06,408] Trial 37 finished with value: 3.679221679121617 and parameters: {'kernel': 'rbf', 'degree': 8, 'gamma': 'scale', 'C': 80.5076411881408, 'epsilon': 1.1952801808497984}. Best is trial 24 with value: 3.6359994999905725.\n",
            "[I 2024-04-28 16:12:06,510] Trial 38 finished with value: 4.237181854607009 and parameters: {'kernel': 'linear', 'degree': 7, 'gamma': 'auto', 'C': 80.16039582888212, 'epsilon': 7.772777088248575}. Best is trial 24 with value: 3.6359994999905725.\n",
            "[I 2024-04-28 16:12:07,335] Trial 39 finished with value: 5.4565453112721665 and parameters: {'kernel': 'linear', 'degree': 5, 'gamma': 'auto', 'C': 50.832317842889424, 'epsilon': 60.679906133073274}. Best is trial 24 with value: 3.6359994999905725.\n",
            "[I 2024-04-28 16:12:07,586] Trial 40 finished with value: 5.456545311272166 and parameters: {'kernel': 'rbf', 'degree': 5, 'gamma': 'auto', 'C': 45.574560777874126, 'epsilon': 59.00928201028462}. Best is trial 24 with value: 3.6359994999905725.\n",
            "[I 2024-04-28 16:12:08,353] Trial 41 finished with value: 5.456545311272165 and parameters: {'kernel': 'rbf', 'degree': 14, 'gamma': 'scale', 'C': 45.269104906592155, 'epsilon': 18.633652157307257}. Best is trial 24 with value: 3.6359994999905725.\n",
            "[I 2024-04-28 16:12:08,551] Trial 42 finished with value: 5.456545311272166 and parameters: {'kernel': 'rbf', 'degree': 7, 'gamma': 'scale', 'C': 79.62708065943096, 'epsilon': 17.517534526028022}. Best is trial 24 with value: 3.6359994999905725.\n",
            "[I 2024-04-28 16:12:09,307] Trial 43 finished with value: 3.8265905833721297 and parameters: {'kernel': 'rbf', 'degree': 7, 'gamma': 'scale', 'C': 82.88762417626698, 'epsilon': 3.7876778085970098}. Best is trial 24 with value: 3.6359994999905725.\n",
            "[I 2024-04-28 16:12:09,498] Trial 44 finished with value: 3.9203320861164572 and parameters: {'kernel': 'rbf', 'degree': 8, 'gamma': 'scale', 'C': 94.07609714460584, 'epsilon': 4.297415283397268}. Best is trial 24 with value: 3.6359994999905725.\n",
            "[I 2024-04-28 16:12:10,343] Trial 45 finished with value: 4.9299202516372045 and parameters: {'kernel': 'rbf', 'degree': 8, 'gamma': 'scale', 'C': 94.47184583997772, 'epsilon': 8.944287009930319}. Best is trial 24 with value: 3.6359994999905725.\n",
            "[I 2024-04-28 16:12:10,567] Trial 46 finished with value: 5.139155496437889 and parameters: {'kernel': 'rbf', 'degree': 9, 'gamma': 'scale', 'C': 70.0623392639005, 'epsilon': 10.0788607190523}. Best is trial 24 with value: 3.6359994999905725.\n",
            "[I 2024-04-28 16:12:11,040] Trial 47 finished with value: 5.456545311272166 and parameters: {'kernel': 'rbf', 'degree': 3, 'gamma': 'scale', 'C': 71.42778357271656, 'epsilon': 13.062096133662884}. Best is trial 24 with value: 3.6359994999905725.\n",
            "[I 2024-04-28 16:12:11,422] Trial 48 finished with value: 5.456545311272166 and parameters: {'kernel': 'poly', 'degree': 3, 'gamma': 'scale', 'C': 85.53270737566348, 'epsilon': 77.58792388141093}. Best is trial 24 with value: 3.6359994999905725.\n",
            "[I 2024-04-28 16:12:11,744] Trial 49 finished with value: 39.2312857089307 and parameters: {'kernel': 'poly', 'degree': 12, 'gamma': 'auto', 'C': 57.00625077711266, 'epsilon': 0.2929061801212127}. Best is trial 24 with value: 3.6359994999905725.\n",
            "[I 2024-04-28 16:12:12,307] Trial 50 finished with value: 5.456545311272166 and parameters: {'kernel': 'rbf', 'degree': 5, 'gamma': 'auto', 'C': 57.29382036031806, 'epsilon': 27.482544077667242}. Best is trial 24 with value: 3.6359994999905725.\n",
            "[I 2024-04-28 16:12:12,600] Trial 51 finished with value: 5.456545311272166 and parameters: {'kernel': 'rbf', 'degree': 5, 'gamma': 'auto', 'C': 66.94983388061794, 'epsilon': 25.67684723661148}. Best is trial 24 with value: 3.6359994999905725.\n",
            "[I 2024-04-28 16:12:13,201] Trial 52 finished with value: 3.6657815655110806 and parameters: {'kernel': 'rbf', 'degree': 2, 'gamma': 'scale', 'C': 41.0068368625975, 'epsilon': 0.7970722368762313}. Best is trial 24 with value: 3.6359994999905725.\n",
            "[I 2024-04-28 16:12:13,546] Trial 53 finished with value: 3.8393491316973805 and parameters: {'kernel': 'rbf', 'degree': 2, 'gamma': 'scale', 'C': 39.68237922821084, 'epsilon': 3.912270144843255}. Best is trial 24 with value: 3.6359994999905725.\n",
            "[I 2024-04-28 16:12:14,046] Trial 54 finished with value: 3.7943463359078824 and parameters: {'kernel': 'rbf', 'degree': 6, 'gamma': 'scale', 'C': 41.10314426241061, 'epsilon': 3.547434714168995}. Best is trial 24 with value: 3.6359994999905725.\n",
            "[I 2024-04-28 16:12:14,332] Trial 55 finished with value: 3.7429607034299863 and parameters: {'kernel': 'rbf', 'degree': 4, 'gamma': 'scale', 'C': 31.99504721269952, 'epsilon': 0.03579559635820684}. Best is trial 24 with value: 3.6359994999905725.\n",
            "[I 2024-04-28 16:12:14,926] Trial 56 finished with value: 5.456545311272166 and parameters: {'kernel': 'rbf', 'degree': 1, 'gamma': 'scale', 'C': 29.972006319179055, 'epsilon': 33.70437524049066}. Best is trial 24 with value: 3.6359994999905725.\n",
            "[I 2024-04-28 16:12:15,267] Trial 57 finished with value: 4.236062459477074 and parameters: {'kernel': 'linear', 'degree': 1, 'gamma': 'scale', 'C': 62.48485468157578, 'epsilon': 7.765884791192738}. Best is trial 24 with value: 3.6359994999905725.\n",
            "[I 2024-04-28 16:12:16,022] Trial 58 finished with value: 5.456545311272165 and parameters: {'kernel': 'linear', 'degree': 7, 'gamma': 'scale', 'C': 74.9505245947949, 'epsilon': 14.093833932336755}. Best is trial 24 with value: 3.6359994999905725.\n",
            "[I 2024-04-28 16:12:16,134] Trial 59 finished with value: 5.375362164841472 and parameters: {'kernel': 'rbf', 'degree': 18, 'gamma': 'scale', 'C': 50.281469261375626, 'epsilon': 11.628809631771226}. Best is trial 24 with value: 3.6359994999905725.\n",
            "[I 2024-04-28 16:12:16,784] Trial 60 finished with value: 5.456545311272166 and parameters: {'kernel': 'rbf', 'degree': 9, 'gamma': 'auto', 'C': 49.28319381944232, 'epsilon': 46.61304817805127}. Best is trial 24 with value: 3.6359994999905725.\n",
            "[I 2024-04-28 16:12:17,072] Trial 61 finished with value: 5.456545311272165 and parameters: {'kernel': 'rbf', 'degree': 9, 'gamma': 'auto', 'C': 53.20730583841962, 'epsilon': 21.954852794060475}. Best is trial 24 with value: 3.6359994999905725.\n",
            "[I 2024-04-28 16:12:17,721] Trial 62 finished with value: 3.651320824065369 and parameters: {'kernel': 'rbf', 'degree': 3, 'gamma': 'scale', 'C': 34.33348124083118, 'epsilon': 2.1881820294743077}. Best is trial 24 with value: 3.6359994999905725.\n",
            "[I 2024-04-28 16:12:17,962] Trial 63 finished with value: 3.676686959493561 and parameters: {'kernel': 'rbf', 'degree': 3, 'gamma': 'scale', 'C': 43.507025650112865, 'epsilon': 2.3110515912508798}. Best is trial 24 with value: 3.6359994999905725.\n",
            "[I 2024-04-28 16:12:18,712] Trial 64 finished with value: 4.6012580046587015 and parameters: {'kernel': 'rbf', 'degree': 3, 'gamma': 'scale', 'C': 20.844486330849556, 'epsilon': 6.968737816600113}. Best is trial 24 with value: 3.6359994999905725.\n",
            "[I 2024-04-28 16:12:18,840] Trial 65 finished with value: 4.343382688342812 and parameters: {'kernel': 'rbf', 'degree': 3, 'gamma': 'scale', 'C': 14.377331113895767, 'epsilon': 5.833040345911565}. Best is trial 24 with value: 3.6359994999905725.\n",
            "[I 2024-04-28 16:12:19,467] Trial 66 finished with value: 3.7636517344052143 and parameters: {'kernel': 'rbf', 'degree': 4, 'gamma': 'scale', 'C': 28.62455191938919, 'epsilon': 3.4007419986406973}. Best is trial 24 with value: 3.6359994999905725.\n",
            "[I 2024-04-28 16:12:19,766] Trial 67 finished with value: 3.7169791091773488 and parameters: {'kernel': 'rbf', 'degree': 4, 'gamma': 'scale', 'C': 43.72648221713404, 'epsilon': 2.7495049736144046}. Best is trial 24 with value: 3.6359994999905725.\n",
            "[I 2024-04-28 16:12:20,186] Trial 68 finished with value: 4.992978238093816 and parameters: {'kernel': 'rbf', 'degree': 4, 'gamma': 'auto', 'C': 33.39411008378834, 'epsilon': 9.432339271038579}. Best is trial 24 with value: 3.6359994999905725.\n",
            "[I 2024-04-28 16:12:21,030] Trial 69 finished with value: 5.0827716517954045 and parameters: {'kernel': 'rbf', 'degree': 2, 'gamma': 'auto', 'C': 34.93044557591988, 'epsilon': 9.87101124529216}. Best is trial 24 with value: 3.6359994999905725.\n",
            "[I 2024-04-28 16:12:21,467] Trial 70 finished with value: 5.456545311272166 and parameters: {'kernel': 'rbf', 'degree': 2, 'gamma': 'auto', 'C': 59.27654702802893, 'epsilon': 14.183836416446207}. Best is trial 24 with value: 3.6359994999905725.\n",
            "[I 2024-04-28 16:12:22,086] Trial 71 finished with value: 5.456545311272165 and parameters: {'kernel': 'rbf', 'degree': 6, 'gamma': 'auto', 'C': 55.46668741831595, 'epsilon': 14.703005592722551}. Best is trial 24 with value: 3.6359994999905725.\n",
            "[I 2024-04-28 16:12:22,520] Trial 72 finished with value: 3.679721934044654 and parameters: {'kernel': 'rbf', 'degree': 6, 'gamma': 'scale', 'C': 64.77573919136006, 'epsilon': 1.981698068957022}. Best is trial 24 with value: 3.6359994999905725.\n",
            "[I 2024-04-28 16:12:23,103] Trial 73 finished with value: 3.7791407142835425 and parameters: {'kernel': 'rbf', 'degree': 8, 'gamma': 'scale', 'C': 46.89171582458238, 'epsilon': 0.04892111088106932}. Best is trial 24 with value: 3.6359994999905725.\n",
            "[I 2024-04-28 16:12:23,579] Trial 74 finished with value: 4.533172538096235 and parameters: {'kernel': 'rbf', 'degree': 8, 'gamma': 'scale', 'C': 26.301490890794742, 'epsilon': 6.575238284926229}. Best is trial 24 with value: 3.6359994999905725.\n",
            "[I 2024-04-28 16:12:24,250] Trial 75 finished with value: 4.602562071466362 and parameters: {'kernel': 'rbf', 'degree': 10, 'gamma': 'scale', 'C': 27.052570513087204, 'epsilon': 6.980503162528201}. Best is trial 24 with value: 3.6359994999905725.\n",
            "[I 2024-04-28 16:12:24,549] Trial 76 finished with value: 4.45659714106727 and parameters: {'kernel': 'rbf', 'degree': 10, 'gamma': 'scale', 'C': 37.55050788196543, 'epsilon': 6.2795981659515885}. Best is trial 24 with value: 3.6359994999905725.\n",
            "[I 2024-04-28 16:12:25,113] Trial 77 finished with value: 8.51870193474441 and parameters: {'kernel': 'poly', 'degree': 7, 'gamma': 'scale', 'C': 35.81036745888239, 'epsilon': 2.8581697631133975}. Best is trial 24 with value: 3.6359994999905725.\n",
            "[I 2024-04-28 16:12:25,401] Trial 78 finished with value: 3.671490557766749 and parameters: {'kernel': 'rbf', 'degree': 5, 'gamma': 'scale', 'C': 42.45262099204556, 'epsilon': 2.2600119419278224}. Best is trial 24 with value: 3.6359994999905725.\n",
            "[I 2024-04-28 16:12:26,016] Trial 79 finished with value: 5.310684264114476 and parameters: {'kernel': 'rbf', 'degree': 5, 'gamma': 'scale', 'C': 77.48989191877939, 'epsilon': 11.179625247602429}. Best is trial 24 with value: 3.6359994999905725.\n",
            "[I 2024-04-28 16:12:26,345] Trial 80 finished with value: 5.456545311272165 and parameters: {'kernel': 'rbf', 'degree': 5, 'gamma': 'scale', 'C': 42.94444038761912, 'epsilon': 20.124040199416957}. Best is trial 24 with value: 3.6359994999905725.\n",
            "[I 2024-04-28 16:12:27,113] Trial 81 finished with value: 5.456545311272166 and parameters: {'kernel': 'linear', 'degree': 4, 'gamma': 'auto', 'C': 43.772361909920726, 'epsilon': 19.122369988595807}. Best is trial 24 with value: 3.6359994999905725.\n",
            "[I 2024-04-28 16:12:27,267] Trial 82 finished with value: 3.6639936047741877 and parameters: {'kernel': 'rbf', 'degree': 6, 'gamma': 'scale', 'C': 47.63464024963916, 'epsilon': 1.9981918502799654}. Best is trial 24 with value: 3.6359994999905725.\n",
            "[I 2024-04-28 16:12:27,934] Trial 83 finished with value: 3.6856228588238436 and parameters: {'kernel': 'rbf', 'degree': 3, 'gamma': 'scale', 'C': 52.06077552778835, 'epsilon': 2.3285518325204952}. Best is trial 24 with value: 3.6359994999905725.\n",
            "[I 2024-04-28 16:12:28,202] Trial 84 finished with value: 4.14804289415933 and parameters: {'kernel': 'rbf', 'degree': 3, 'gamma': 'scale', 'C': 51.83097032264264, 'epsilon': 5.127889884445453}. Best is trial 24 with value: 3.6359994999905725.\n",
            "[I 2024-04-28 16:12:28,690] Trial 85 finished with value: 4.0350663448913515 and parameters: {'kernel': 'rbf', 'degree': 6, 'gamma': 'scale', 'C': 40.0865138601186, 'epsilon': 4.701239182533624}. Best is trial 24 with value: 3.6359994999905725.\n",
            "[I 2024-04-28 16:12:29,443] Trial 86 finished with value: 4.847282755979619 and parameters: {'kernel': 'rbf', 'degree': 6, 'gamma': 'scale', 'C': 47.7499195860179, 'epsilon': 8.524023471602193}. Best is trial 24 with value: 3.6359994999905725.\n",
            "[I 2024-04-28 16:12:29,519] Trial 87 finished with value: 4.724408355339321 and parameters: {'kernel': 'rbf', 'degree': 5, 'gamma': 'scale', 'C': 47.71439191929215, 'epsilon': 7.856734420422438}. Best is trial 24 with value: 3.6359994999905725.\n",
            "[I 2024-04-28 16:12:30,348] Trial 89 finished with value: 5.392020287666764 and parameters: {'kernel': 'poly', 'degree': 4, 'gamma': 'auto', 'C': 60.18579620931955, 'epsilon': 12.112172891910308}. Best is trial 24 with value: 3.6359994999905725.\n",
            "[I 2024-04-28 16:12:30,425] Trial 88 finished with value: 5.407736670708273 and parameters: {'kernel': 'rbf', 'degree': 1, 'gamma': 'auto', 'C': 55.070863225977355, 'epsilon': 12.159536659470172}. Best is trial 24 with value: 3.6359994999905725.\n",
            "[I 2024-04-28 16:12:30,991] Trial 90 finished with value: 5.456545311272166 and parameters: {'kernel': 'rbf', 'degree': 7, 'gamma': 'auto', 'C': 66.63414570682143, 'epsilon': 85.24665754765552}. Best is trial 24 with value: 3.6359994999905725.\n",
            "[I 2024-04-28 16:12:31,383] Trial 91 finished with value: 3.7623225190861334 and parameters: {'kernel': 'rbf', 'degree': 7, 'gamma': 'scale', 'C': 38.68902275992445, 'epsilon': 0.0945001158118094}. Best is trial 24 with value: 3.6359994999905725.\n",
            "[I 2024-04-28 16:12:31,944] Trial 92 finished with value: 3.656877904683853 and parameters: {'kernel': 'rbf', 'degree': 8, 'gamma': 'scale', 'C': 38.91301570376856, 'epsilon': 1.0912024050987135}. Best is trial 24 with value: 3.6359994999905725.\n",
            "[I 2024-04-28 16:12:32,413] Trial 93 finished with value: 3.694352400224761 and parameters: {'kernel': 'rbf', 'degree': 8, 'gamma': 'scale', 'C': 62.78353152333243, 'epsilon': 2.3004683586548467}. Best is trial 24 with value: 3.6359994999905725.\n",
            "[I 2024-04-28 16:12:32,979] Trial 94 finished with value: 3.663519333958595 and parameters: {'kernel': 'rbf', 'degree': 6, 'gamma': 'scale', 'C': 45.62251023068311, 'epsilon': 2.0681385967478487}. Best is trial 24 with value: 3.6359994999905725.\n",
            "[I 2024-04-28 16:12:33,213] Trial 95 finished with value: 4.106594239076292 and parameters: {'kernel': 'rbf', 'degree': 2, 'gamma': 'scale', 'C': 41.336606438098784, 'epsilon': 4.978298812768057}. Best is trial 24 with value: 3.6359994999905725.\n",
            "[I 2024-04-28 16:12:33,841] Trial 96 finished with value: 4.108320248120197 and parameters: {'kernel': 'rbf', 'degree': 6, 'gamma': 'scale', 'C': 45.59499301208768, 'epsilon': 4.9844190898833896}. Best is trial 24 with value: 3.6359994999905725.\n",
            "[I 2024-04-28 16:12:34,179] Trial 97 finished with value: 5.456545311272166 and parameters: {'kernel': 'rbf', 'degree': 6, 'gamma': 'scale', 'C': 45.689531846730304, 'epsilon': 67.85752838488933}. Best is trial 24 with value: 3.6359994999905725.\n",
            "[I 2024-04-28 16:12:34,962] Trial 98 finished with value: 3.6417757974126586 and parameters: {'kernel': 'rbf', 'degree': 5, 'gamma': 'scale', 'C': 34.241868460476674, 'epsilon': 2.006421310443679}. Best is trial 24 with value: 3.6359994999905725.\n",
            "[I 2024-04-28 16:12:35,158] Trial 99 finished with value: 4.499795856966918 and parameters: {'kernel': 'linear', 'degree': 5, 'gamma': 'scale', 'C': 68.88629850000557, 'epsilon': 8.84723295827634}. Best is trial 24 with value: 3.6359994999905725.\n"
          ]
        }
      ]
    },
    {
      "cell_type": "markdown",
      "source": [
        "Lagring av resultater"
      ],
      "metadata": {
        "id": "VtojBbM_SlHM"
      }
    },
    {
      "cell_type": "code",
      "source": [
        "res_2_design = pd.DataFrame(res.dict_res_2_design)\n",
        "res_2_design_opt = pd.DataFrame(res.dict_res_2_design_opt)\n",
        "\n",
        "res_2_design.to_csv('/content/drive/MyDrive/MasterV24/Bioco_data/Resultater/brixadjusted/brixadjusted_resultater_2_design.csv')\n",
        "res_2_design_opt.to_csv('/content/drive/MyDrive/MasterV24/Bioco_data/Resultater/brixadjusted/brixadjusted_resultater_2_design_opt.csv')"
      ],
      "metadata": {
        "id": "M9chJfcgSlHM"
      },
      "execution_count": null,
      "outputs": []
    },
    {
      "cell_type": "markdown",
      "source": [
        "Velger beste modell"
      ],
      "metadata": {
        "id": "_dUt92JQSlHM"
      }
    },
    {
      "cell_type": "code",
      "source": [],
      "metadata": {
        "id": "5EUiy5XlSlHM"
      },
      "execution_count": null,
      "outputs": []
    },
    {
      "cell_type": "markdown",
      "metadata": {
        "id": "pnhtimdQn6n_"
      },
      "source": [
        "# NIR målinger ekskludert"
      ]
    },
    {
      "cell_type": "code",
      "execution_count": null,
      "metadata": {
        "id": "HVRjvKsSn6oM"
      },
      "outputs": [],
      "source": [
        "# Ekskluderer NIR målinger fra datasettene\n",
        "NIR_kolonner = ['NIRfat', 'NIRwater', 'NIRash']\n",
        "data_uten_NIR = data.drop(columns=NIR_kolonner)\n",
        "data_design_uten_NIR = data_design.drop(columns=NIR_kolonner)"
      ]
    },
    {
      "cell_type": "code",
      "source": [
        "# Setter fast testandel og treningsandel\n",
        "test_andel = 0.25\n",
        "trenings_andel = 1.0"
      ],
      "metadata": {
        "id": "pX2IRFPSZRVl"
      },
      "execution_count": null,
      "outputs": []
    },
    {
      "cell_type": "markdown",
      "metadata": {
        "id": "kdiY6z2nTrVD"
      },
      "source": [
        "## Hele datasett"
      ]
    },
    {
      "cell_type": "markdown",
      "source": [
        "## Alternativ 1: 25% Testsett og Hele resterende treningssett"
      ],
      "metadata": {
        "id": "BlPTIszOTrVD"
      }
    },
    {
      "cell_type": "code",
      "source": [
        "# Deler datasettet i trening og testsett\n",
        "trening_markert, enzymtyper_markert, testsett, _, _, _, trening\\\n",
        "= trening_testsett_oppdeling_enzym(rå_data,\n",
        "                                   data_uten_NIR,\n",
        "                                   test_andel=test_andel)\n",
        "\n",
        "# Finner antall av enzymtype med minst antall\n",
        "n_splitt = n_splitt_enzym(rå_data,\n",
        "                          trening_markert)\n",
        "\n",
        "# Modelloptimalisering, trening og evaluering av RFR, KNR og SVR\n",
        "veiledet_modell_evaluering_1(dict_res_opt=res.dict_res_1_hel_opt_NIR,\n",
        "                             dict_res=res.dict_res_1_hel_NIR,\n",
        "                             treningssett_markert=trening_markert,\n",
        "                             enzymtyper_treningssett_markert=enzymtyper_markert,\n",
        "                             testsett=testsett,\n",
        "                             n_splitt=n_splitt,\n",
        "                             n_gjentagelser=n_gjentagelser,\n",
        "                             n_runder=n_runder,\n",
        "                             test_andel=test_andel,\n",
        "                             trenings_andel=trenings_andel,\n",
        "                             random_seed=random_seed)\n",
        "\n"
      ],
      "metadata": {
        "colab": {
          "base_uri": "https://localhost:8080/"
        },
        "id": "rkpIuFkhTrVD",
        "outputId": "cc19f519-faa0-4ac6-ce49-9beed3fa67fe"
      },
      "execution_count": null,
      "outputs": [
        {
          "output_type": "stream",
          "name": "stderr",
          "text": [
            "[I 2024-04-28 17:08:14,148] A new study created in memory with name: no-name-4669d35b-7380-4fd0-ad2f-264ed39ba2d3\n",
            "[I 2024-04-28 17:08:14,350] Trial 0 finished with value: 4.8556516495155 and parameters: {'n_neighbors': 4, 'weights': 'distance', 'p': 5}. Best is trial 0 with value: 4.8556516495155.\n",
            "[I 2024-04-28 17:08:14,423] Trial 1 finished with value: 4.892032128883468 and parameters: {'n_neighbors': 6, 'weights': 'distance', 'p': 7}. Best is trial 0 with value: 4.8556516495155.\n",
            "[I 2024-04-28 17:08:14,567] Trial 2 finished with value: 5.038059871247649 and parameters: {'n_neighbors': 10, 'weights': 'uniform', 'p': 7}. Best is trial 0 with value: 4.8556516495155.\n",
            "[I 2024-04-28 17:08:14,633] Trial 3 finished with value: 5.055023084840119 and parameters: {'n_neighbors': 6, 'weights': 'uniform', 'p': 10}. Best is trial 0 with value: 4.8556516495155.\n",
            "[I 2024-04-28 17:08:14,780] Trial 4 finished with value: 4.895206621615353 and parameters: {'n_neighbors': 6, 'weights': 'distance', 'p': 5}. Best is trial 0 with value: 4.8556516495155.\n",
            "[I 2024-04-28 17:08:14,845] Trial 5 finished with value: 4.990823149301304 and parameters: {'n_neighbors': 6, 'weights': 'uniform', 'p': 3}. Best is trial 0 with value: 4.8556516495155.\n",
            "[I 2024-04-28 17:08:15,004] Trial 6 finished with value: 5.038059871247649 and parameters: {'n_neighbors': 10, 'weights': 'uniform', 'p': 7}. Best is trial 0 with value: 4.8556516495155.\n",
            "[I 2024-04-28 17:08:15,062] Trial 7 finished with value: 4.91682177538024 and parameters: {'n_neighbors': 5, 'weights': 'uniform', 'p': 3}. Best is trial 0 with value: 4.8556516495155.\n",
            "[I 2024-04-28 17:08:15,235] Trial 8 finished with value: 5.0683918367728475 and parameters: {'n_neighbors': 2, 'weights': 'distance', 'p': 6}. Best is trial 0 with value: 4.8556516495155.\n",
            "[I 2024-04-28 17:08:15,267] Trial 9 finished with value: 5.03286463960048 and parameters: {'n_neighbors': 2, 'weights': 'uniform', 'p': 9}. Best is trial 0 with value: 4.8556516495155.\n",
            "[I 2024-04-28 17:08:15,514] Trial 10 finished with value: 4.716373219438732 and parameters: {'n_neighbors': 4, 'weights': 'distance', 'p': 1}. Best is trial 10 with value: 4.716373219438732.\n",
            "[I 2024-04-28 17:08:15,515] Trial 11 finished with value: 4.71893153424972 and parameters: {'n_neighbors': 4, 'weights': 'distance', 'p': 2}. Best is trial 10 with value: 4.716373219438732.\n",
            "[I 2024-04-28 17:08:15,745] Trial 12 finished with value: 4.716373219438732 and parameters: {'n_neighbors': 4, 'weights': 'distance', 'p': 1}. Best is trial 10 with value: 4.716373219438732.\n",
            "[I 2024-04-28 17:08:15,773] Trial 13 finished with value: 4.716373219438732 and parameters: {'n_neighbors': 4, 'weights': 'distance', 'p': 1}. Best is trial 10 with value: 4.716373219438732.\n",
            "[I 2024-04-28 17:08:15,982] Trial 14 finished with value: 4.7182988905684935 and parameters: {'n_neighbors': 8, 'weights': 'distance', 'p': 1}. Best is trial 10 with value: 4.716373219438732.\n",
            "[I 2024-04-28 17:08:16,048] Trial 15 finished with value: 4.7182988905684935 and parameters: {'n_neighbors': 8, 'weights': 'distance', 'p': 1}. Best is trial 10 with value: 4.716373219438732.\n",
            "[I 2024-04-28 17:08:16,206] Trial 16 finished with value: 6.2372537347001025 and parameters: {'n_neighbors': 1, 'weights': 'distance', 'p': 3}. Best is trial 10 with value: 4.716373219438732.\n",
            "[I 2024-04-28 17:08:16,318] Trial 17 finished with value: 6.2372537347001025 and parameters: {'n_neighbors': 1, 'weights': 'distance', 'p': 3}. Best is trial 10 with value: 4.716373219438732.\n",
            "[I 2024-04-28 17:08:16,472] Trial 18 finished with value: 4.875596572468294 and parameters: {'n_neighbors': 3, 'weights': 'distance', 'p': 4}. Best is trial 10 with value: 4.716373219438732.\n",
            "[I 2024-04-28 17:08:16,535] Trial 19 finished with value: 4.875596572468294 and parameters: {'n_neighbors': 3, 'weights': 'distance', 'p': 4}. Best is trial 10 with value: 4.716373219438732.\n",
            "[I 2024-04-28 17:08:16,704] Trial 20 finished with value: 4.749806179061174 and parameters: {'n_neighbors': 8, 'weights': 'distance', 'p': 2}. Best is trial 10 with value: 4.716373219438732.\n",
            "[I 2024-04-28 17:08:16,789] Trial 21 finished with value: 4.749806179061174 and parameters: {'n_neighbors': 8, 'weights': 'distance', 'p': 2}. Best is trial 10 with value: 4.716373219438732.\n",
            "[I 2024-04-28 17:08:16,986] Trial 23 finished with value: 4.716373219438732 and parameters: {'n_neighbors': 4, 'weights': 'distance', 'p': 1}. Best is trial 10 with value: 4.716373219438732.\n",
            "[I 2024-04-28 17:08:17,017] Trial 22 finished with value: 4.716373219438732 and parameters: {'n_neighbors': 4, 'weights': 'distance', 'p': 1}. Best is trial 10 with value: 4.716373219438732.\n",
            "[I 2024-04-28 17:08:17,196] Trial 24 finished with value: 4.691221846046774 and parameters: {'n_neighbors': 5, 'weights': 'distance', 'p': 1}. Best is trial 24 with value: 4.691221846046774.\n",
            "[I 2024-04-28 17:08:17,268] Trial 25 finished with value: 4.77331402774961 and parameters: {'n_neighbors': 5, 'weights': 'distance', 'p': 2}. Best is trial 24 with value: 4.691221846046774.\n",
            "[I 2024-04-28 17:08:17,496] Trial 26 finished with value: 4.77331402774961 and parameters: {'n_neighbors': 5, 'weights': 'distance', 'p': 2}. Best is trial 24 with value: 4.691221846046774.\n",
            "[I 2024-04-28 17:08:17,518] Trial 27 finished with value: 4.786186200638397 and parameters: {'n_neighbors': 7, 'weights': 'distance', 'p': 2}. Best is trial 24 with value: 4.691221846046774.\n",
            "[I 2024-04-28 17:08:17,714] Trial 28 finished with value: 4.873184682334408 and parameters: {'n_neighbors': 7, 'weights': 'distance', 'p': 4}. Best is trial 24 with value: 4.691221846046774.\n",
            "[I 2024-04-28 17:08:17,779] Trial 29 finished with value: 4.812304369845342 and parameters: {'n_neighbors': 3, 'weights': 'distance', 'p': 1}. Best is trial 24 with value: 4.691221846046774.\n",
            "[I 2024-04-28 17:08:17,891] Trial 30 finished with value: 4.812304369845342 and parameters: {'n_neighbors': 3, 'weights': 'distance', 'p': 1}. Best is trial 24 with value: 4.691221846046774.\n",
            "[I 2024-04-28 17:08:18,124] Trial 31 finished with value: 5.0683918367728475 and parameters: {'n_neighbors': 2, 'weights': 'distance', 'p': 6}. Best is trial 24 with value: 4.691221846046774.\n",
            "[I 2024-04-28 17:08:18,126] Trial 32 finished with value: 4.716373219438732 and parameters: {'n_neighbors': 4, 'weights': 'distance', 'p': 1}. Best is trial 24 with value: 4.691221846046774.\n",
            "[I 2024-04-28 17:08:18,408] Trial 34 finished with value: 4.846722914333703 and parameters: {'n_neighbors': 5, 'weights': 'distance', 'p': 3}. Best is trial 24 with value: 4.691221846046774.\n",
            "[I 2024-04-28 17:08:18,437] Trial 33 finished with value: 4.77331402774961 and parameters: {'n_neighbors': 5, 'weights': 'distance', 'p': 2}. Best is trial 24 with value: 4.691221846046774.\n",
            "[I 2024-04-28 17:08:18,713] Trial 35 finished with value: 4.71893153424972 and parameters: {'n_neighbors': 4, 'weights': 'distance', 'p': 2}. Best is trial 24 with value: 4.691221846046774.\n",
            "[I 2024-04-28 17:08:18,744] Trial 36 finished with value: 4.970547678775122 and parameters: {'n_neighbors': 4, 'weights': 'uniform', 'p': 8}. Best is trial 24 with value: 4.691221846046774.\n",
            "[I 2024-04-28 17:08:18,991] Trial 37 finished with value: 5.062601367446799 and parameters: {'n_neighbors': 6, 'weights': 'uniform', 'p': 9}. Best is trial 24 with value: 4.691221846046774.\n",
            "[I 2024-04-28 17:08:19,055] Trial 38 finished with value: 4.8500711045327005 and parameters: {'n_neighbors': 6, 'weights': 'uniform', 'p': 1}. Best is trial 24 with value: 4.691221846046774.\n",
            "[I 2024-04-28 17:08:19,279] Trial 39 finished with value: 4.812304369845342 and parameters: {'n_neighbors': 3, 'weights': 'distance', 'p': 1}. Best is trial 24 with value: 4.691221846046774.\n",
            "[I 2024-04-28 17:08:19,358] Trial 40 finished with value: 4.916836932613436 and parameters: {'n_neighbors': 3, 'weights': 'distance', 'p': 5}. Best is trial 24 with value: 4.691221846046774.\n",
            "[I 2024-04-28 17:08:19,614] Trial 41 finished with value: 4.8730098303759455 and parameters: {'n_neighbors': 7, 'weights': 'distance', 'p': 5}. Best is trial 24 with value: 4.691221846046774.\n",
            "[I 2024-04-28 17:08:19,670] Trial 42 finished with value: 4.691221846046774 and parameters: {'n_neighbors': 5, 'weights': 'distance', 'p': 1}. Best is trial 24 with value: 4.691221846046774.\n",
            "[I 2024-04-28 17:08:19,942] Trial 43 finished with value: 4.691221846046774 and parameters: {'n_neighbors': 5, 'weights': 'distance', 'p': 1}. Best is trial 24 with value: 4.691221846046774.\n",
            "[I 2024-04-28 17:08:19,996] Trial 44 finished with value: 4.691221846046774 and parameters: {'n_neighbors': 5, 'weights': 'distance', 'p': 1}. Best is trial 24 with value: 4.691221846046774.\n",
            "[I 2024-04-28 17:08:20,209] Trial 45 finished with value: 4.846722914333703 and parameters: {'n_neighbors': 5, 'weights': 'distance', 'p': 3}. Best is trial 24 with value: 4.691221846046774.\n",
            "[I 2024-04-28 17:08:20,317] Trial 46 finished with value: 4.846722914333703 and parameters: {'n_neighbors': 5, 'weights': 'distance', 'p': 3}. Best is trial 24 with value: 4.691221846046774.\n",
            "[I 2024-04-28 17:08:20,538] Trial 47 finished with value: 4.953025519570712 and parameters: {'n_neighbors': 6, 'weights': 'uniform', 'p': 2}. Best is trial 24 with value: 4.691221846046774.\n",
            "[I 2024-04-28 17:08:20,647] Trial 48 finished with value: 4.953025519570712 and parameters: {'n_neighbors': 6, 'weights': 'uniform', 'p': 2}. Best is trial 24 with value: 4.691221846046774.\n",
            "[I 2024-04-28 17:08:20,842] Trial 49 finished with value: 4.716160475679943 and parameters: {'n_neighbors': 6, 'weights': 'distance', 'p': 1}. Best is trial 24 with value: 4.691221846046774.\n",
            "[I 2024-04-28 17:08:20,971] Trial 50 finished with value: 4.691221846046774 and parameters: {'n_neighbors': 5, 'weights': 'distance', 'p': 1}. Best is trial 24 with value: 4.691221846046774.\n",
            "[I 2024-04-28 17:08:21,160] Trial 51 finished with value: 4.711873260366355 and parameters: {'n_neighbors': 7, 'weights': 'distance', 'p': 1}. Best is trial 24 with value: 4.691221846046774.\n",
            "[I 2024-04-28 17:08:21,302] Trial 52 finished with value: 4.711873260366355 and parameters: {'n_neighbors': 7, 'weights': 'distance', 'p': 1}. Best is trial 24 with value: 4.691221846046774.\n",
            "[I 2024-04-28 17:08:21,504] Trial 53 finished with value: 4.711873260366355 and parameters: {'n_neighbors': 7, 'weights': 'distance', 'p': 1}. Best is trial 24 with value: 4.691221846046774.\n",
            "[I 2024-04-28 17:08:21,588] Trial 54 finished with value: 4.77331402774961 and parameters: {'n_neighbors': 5, 'weights': 'distance', 'p': 2}. Best is trial 24 with value: 4.691221846046774.\n",
            "[I 2024-04-28 17:08:21,876] Trial 55 finished with value: 4.740068716185823 and parameters: {'n_neighbors': 9, 'weights': 'distance', 'p': 2}. Best is trial 24 with value: 4.691221846046774.\n",
            "[I 2024-04-28 17:08:21,905] Trial 56 finished with value: 4.671719748794317 and parameters: {'n_neighbors': 9, 'weights': 'distance', 'p': 1}. Best is trial 56 with value: 4.671719748794317.\n",
            "[I 2024-04-28 17:08:22,197] Trial 57 finished with value: 4.716160475679943 and parameters: {'n_neighbors': 6, 'weights': 'distance', 'p': 1}. Best is trial 56 with value: 4.671719748794317.\n",
            "[I 2024-04-28 17:08:22,233] Trial 58 finished with value: 4.827286094615845 and parameters: {'n_neighbors': 10, 'weights': 'distance', 'p': 10}. Best is trial 56 with value: 4.671719748794317.\n",
            "[I 2024-04-28 17:08:22,435] Trial 59 finished with value: 4.846722914333703 and parameters: {'n_neighbors': 5, 'weights': 'distance', 'p': 3}. Best is trial 56 with value: 4.671719748794317.\n",
            "[I 2024-04-28 17:08:22,482] Trial 60 finished with value: 4.765257915053104 and parameters: {'n_neighbors': 9, 'weights': 'distance', 'p': 3}. Best is trial 56 with value: 4.671719748794317.\n",
            "[I 2024-04-28 17:08:22,693] Trial 62 finished with value: 4.691221846046774 and parameters: {'n_neighbors': 5, 'weights': 'distance', 'p': 1}. Best is trial 56 with value: 4.671719748794317.\n",
            "[I 2024-04-28 17:08:22,739] Trial 61 finished with value: 4.77331402774961 and parameters: {'n_neighbors': 5, 'weights': 'distance', 'p': 2}. Best is trial 56 with value: 4.671719748794317.\n",
            "[I 2024-04-28 17:08:22,875] Trial 63 finished with value: 4.716373219438732 and parameters: {'n_neighbors': 4, 'weights': 'distance', 'p': 1}. Best is trial 56 with value: 4.671719748794317.\n",
            "[I 2024-04-28 17:08:22,997] Trial 64 finished with value: 4.691221846046774 and parameters: {'n_neighbors': 5, 'weights': 'distance', 'p': 1}. Best is trial 56 with value: 4.671719748794317.\n",
            "[I 2024-04-28 17:08:23,131] Trial 65 finished with value: 4.691221846046774 and parameters: {'n_neighbors': 5, 'weights': 'distance', 'p': 1}. Best is trial 56 with value: 4.671719748794317.\n",
            "[I 2024-04-28 17:08:23,243] Trial 66 finished with value: 4.77331402774961 and parameters: {'n_neighbors': 5, 'weights': 'distance', 'p': 2}. Best is trial 56 with value: 4.671719748794317.\n",
            "[I 2024-04-28 17:08:23,369] Trial 67 finished with value: 4.80256280239581 and parameters: {'n_neighbors': 6, 'weights': 'distance', 'p': 2}. Best is trial 56 with value: 4.671719748794317.\n",
            "[I 2024-04-28 17:08:23,498] Trial 68 finished with value: 4.80256280239581 and parameters: {'n_neighbors': 6, 'weights': 'distance', 'p': 2}. Best is trial 56 with value: 4.671719748794317.\n",
            "[I 2024-04-28 17:08:23,618] Trial 69 finished with value: 4.716373219438732 and parameters: {'n_neighbors': 4, 'weights': 'distance', 'p': 1}. Best is trial 56 with value: 4.671719748794317.\n",
            "[I 2024-04-28 17:08:23,758] Trial 70 finished with value: 4.716373219438732 and parameters: {'n_neighbors': 4, 'weights': 'distance', 'p': 1}. Best is trial 56 with value: 4.671719748794317.\n",
            "[I 2024-04-28 17:08:23,875] Trial 71 finished with value: 4.716373219438732 and parameters: {'n_neighbors': 4, 'weights': 'distance', 'p': 1}. Best is trial 56 with value: 4.671719748794317.\n",
            "[I 2024-04-28 17:08:24,000] Trial 72 finished with value: 4.691221846046774 and parameters: {'n_neighbors': 5, 'weights': 'distance', 'p': 1}. Best is trial 56 with value: 4.671719748794317.\n",
            "[I 2024-04-28 17:08:24,115] Trial 73 finished with value: 4.691221846046774 and parameters: {'n_neighbors': 5, 'weights': 'distance', 'p': 1}. Best is trial 56 with value: 4.671719748794317.\n",
            "[I 2024-04-28 17:08:24,257] Trial 74 finished with value: 4.691221846046774 and parameters: {'n_neighbors': 5, 'weights': 'distance', 'p': 1}. Best is trial 56 with value: 4.671719748794317.\n",
            "[I 2024-04-28 17:08:24,371] Trial 75 finished with value: 4.691221846046774 and parameters: {'n_neighbors': 5, 'weights': 'distance', 'p': 1}. Best is trial 56 with value: 4.671719748794317.\n",
            "[I 2024-04-28 17:08:24,525] Trial 76 finished with value: 4.892032128883468 and parameters: {'n_neighbors': 6, 'weights': 'distance', 'p': 7}. Best is trial 56 with value: 4.671719748794317.\n",
            "[I 2024-04-28 17:08:24,641] Trial 77 finished with value: 5.063618880370357 and parameters: {'n_neighbors': 6, 'weights': 'uniform', 'p': 6}. Best is trial 56 with value: 4.671719748794317.\n",
            "[I 2024-04-28 17:08:24,770] Trial 78 finished with value: 4.720120545669709 and parameters: {'n_neighbors': 4, 'weights': 'uniform', 'p': 2}. Best is trial 56 with value: 4.671719748794317.\n",
            "[I 2024-04-28 17:08:24,869] Trial 79 finished with value: 4.71893153424972 and parameters: {'n_neighbors': 4, 'weights': 'distance', 'p': 2}. Best is trial 56 with value: 4.671719748794317.\n",
            "[I 2024-04-28 17:08:25,000] Trial 80 finished with value: 4.77331402774961 and parameters: {'n_neighbors': 5, 'weights': 'distance', 'p': 2}. Best is trial 56 with value: 4.671719748794317.\n",
            "[I 2024-04-28 17:08:25,119] Trial 81 finished with value: 4.691221846046774 and parameters: {'n_neighbors': 5, 'weights': 'distance', 'p': 1}. Best is trial 56 with value: 4.671719748794317.\n",
            "[I 2024-04-28 17:08:25,244] Trial 82 finished with value: 4.691221846046774 and parameters: {'n_neighbors': 5, 'weights': 'distance', 'p': 1}. Best is trial 56 with value: 4.671719748794317.\n",
            "[I 2024-04-28 17:08:25,372] Trial 83 finished with value: 4.691221846046774 and parameters: {'n_neighbors': 5, 'weights': 'distance', 'p': 1}. Best is trial 56 with value: 4.671719748794317.\n",
            "[I 2024-04-28 17:08:25,507] Trial 84 finished with value: 4.691221846046774 and parameters: {'n_neighbors': 5, 'weights': 'distance', 'p': 1}. Best is trial 56 with value: 4.671719748794317.\n",
            "[I 2024-04-28 17:08:25,617] Trial 85 finished with value: 4.716160475679943 and parameters: {'n_neighbors': 6, 'weights': 'distance', 'p': 1}. Best is trial 56 with value: 4.671719748794317.\n",
            "[I 2024-04-28 17:08:25,799] Trial 86 finished with value: 4.716160475679943 and parameters: {'n_neighbors': 6, 'weights': 'distance', 'p': 1}. Best is trial 56 with value: 4.671719748794317.\n",
            "[I 2024-04-28 17:08:25,869] Trial 87 finished with value: 4.77331402774961 and parameters: {'n_neighbors': 5, 'weights': 'distance', 'p': 2}. Best is trial 56 with value: 4.671719748794317.\n",
            "[I 2024-04-28 17:08:26,008] Trial 88 finished with value: 4.740068716185823 and parameters: {'n_neighbors': 9, 'weights': 'distance', 'p': 2}. Best is trial 56 with value: 4.671719748794317.\n",
            "[I 2024-04-28 17:08:26,129] Trial 89 finished with value: 4.671719748794317 and parameters: {'n_neighbors': 9, 'weights': 'distance', 'p': 1}. Best is trial 56 with value: 4.671719748794317.\n",
            "[I 2024-04-28 17:08:26,262] Trial 90 finished with value: 4.825585721255767 and parameters: {'n_neighbors': 4, 'weights': 'distance', 'p': 4}. Best is trial 56 with value: 4.671719748794317.\n",
            "[I 2024-04-28 17:08:26,375] Trial 91 finished with value: 4.671719748794317 and parameters: {'n_neighbors': 9, 'weights': 'distance', 'p': 1}. Best is trial 56 with value: 4.671719748794317.\n",
            "[I 2024-04-28 17:08:26,508] Trial 92 finished with value: 4.671719748794317 and parameters: {'n_neighbors': 9, 'weights': 'distance', 'p': 1}. Best is trial 56 with value: 4.671719748794317.\n",
            "[I 2024-04-28 17:08:26,695] Trial 93 finished with value: 4.671719748794317 and parameters: {'n_neighbors': 9, 'weights': 'distance', 'p': 1}. Best is trial 56 with value: 4.671719748794317.\n",
            "[I 2024-04-28 17:08:26,746] Trial 94 finished with value: 4.671719748794317 and parameters: {'n_neighbors': 9, 'weights': 'distance', 'p': 1}. Best is trial 56 with value: 4.671719748794317.\n",
            "[I 2024-04-28 17:08:26,922] Trial 95 finished with value: 4.67693800237843 and parameters: {'n_neighbors': 10, 'weights': 'distance', 'p': 1}. Best is trial 56 with value: 4.671719748794317.\n",
            "[I 2024-04-28 17:08:27,003] Trial 96 finished with value: 4.67693800237843 and parameters: {'n_neighbors': 10, 'weights': 'distance', 'p': 1}. Best is trial 56 with value: 4.671719748794317.\n",
            "[I 2024-04-28 17:08:27,173] Trial 97 finished with value: 4.671719748794317 and parameters: {'n_neighbors': 9, 'weights': 'distance', 'p': 1}. Best is trial 56 with value: 4.671719748794317.\n",
            "[I 2024-04-28 17:08:27,251] Trial 98 finished with value: 4.716378407948709 and parameters: {'n_neighbors': 10, 'weights': 'distance', 'p': 2}. Best is trial 56 with value: 4.671719748794317.\n",
            "[I 2024-04-28 17:08:27,344] Trial 99 finished with value: 4.802957580326321 and parameters: {'n_neighbors': 9, 'weights': 'distance', 'p': 9}. Best is trial 56 with value: 4.671719748794317.\n",
            "[I 2024-04-28 17:08:27,360] A new study created in memory with name: no-name-3ff778d7-ee3d-4105-9470-230ee7e928aa\n",
            "[I 2024-04-28 17:08:37,883] Trial 0 finished with value: 5.0594421532179465 and parameters: {'n_estimators': 254, 'criterion': 'poisson', 'max_depth': 3, 'min_samples_leaf': 4, 'max_features': 0.14476152115621416}. Best is trial 0 with value: 5.0594421532179465.\n"
          ]
        }
      ]
    },
    {
      "cell_type": "markdown",
      "source": [
        "Lagring av resultater"
      ],
      "metadata": {
        "id": "cSpDqU5iTrVD"
      }
    },
    {
      "cell_type": "code",
      "source": [
        "res_1_hel_NIR = pd.DataFrame(res.dict_res_1_hel_NIR)\n",
        "res_1_hel_opt_NIR = pd.DataFrame(res.dict_res_1_hel_opt_NIR)\n",
        "\n",
        "res_1_hel_NIR.to_csv('/content/drive/MyDrive/MasterV24/Bioco_data/Resultater/brixadjusted/brixadjusted_resultater_1_hel_NIR.csv')\n",
        "res_1_hel_opt_NIR.to_csv('/content/drive/MyDrive/MasterV24/Bioco_data/Resultater/brixadjusted/brixadjusted_resultater_1_hel_opt_NIR.csv')"
      ],
      "metadata": {
        "id": "H1lIjWXrTrVE"
      },
      "execution_count": null,
      "outputs": []
    },
    {
      "cell_type": "markdown",
      "source": [
        "Velger beste modell"
      ],
      "metadata": {
        "id": "ajig2WwSTrVE"
      }
    },
    {
      "cell_type": "code",
      "source": [],
      "metadata": {
        "id": "daBLbVgdTrVE"
      },
      "execution_count": null,
      "outputs": []
    },
    {
      "cell_type": "markdown",
      "source": [
        "## Alternativ 2: 25% Testsett og resteremde hele treningssett"
      ],
      "metadata": {
        "id": "hX9_AnkRUCjj"
      }
    },
    {
      "cell_type": "code",
      "source": [
        "# Deler datasettet i trening og testsett\n",
        "trening_markert, testsett, _, trening\\\n",
        "= trening_testsett_oppdeling_dag(rå_data,\n",
        "                                 data_uten_NIR,\n",
        "                                 test_andel=test_andel,\n",
        "                                 test_ekskluder_kalkun_kylling=True)\n",
        "\n",
        "# Finner antall av enzymtype med minst antall\n",
        "n_splitt = n_splitt_enzym(rå_data,\n",
        "                          trening_markert)\n",
        "\n",
        "# Modelloptimalisering, trening og evaluering av RFR, KNR og SVR\n",
        "veiledet_modell_evaluering_2(dict_res_opt=res.dict_res_2_hel_opt_NIR,\n",
        "                             dict_res=res.dict_res_2_hel_NIR,\n",
        "                             rå_data=rå_data,\n",
        "                             treningssett_markert=trening_markert,\n",
        "                             testsett=testsett,\n",
        "                             n_splitt=n_splitt,\n",
        "                             n_runder=n_runder,\n",
        "                             test_andel=test_andel,\n",
        "                             trenings_andel=trenings_andel,\n",
        "                             random_seed=random_seed)"
      ],
      "metadata": {
        "id": "58AqbiTIUCjj"
      },
      "execution_count": null,
      "outputs": []
    },
    {
      "cell_type": "markdown",
      "source": [
        "Lagring av resultater"
      ],
      "metadata": {
        "id": "ZPcVQ7WrUCjj"
      }
    },
    {
      "cell_type": "code",
      "source": [
        "res_2_hel_NIR = pd.DataFrame(res.dict_res_2_hel_NIR)\n",
        "res_2_hel_opt_NIR = pd.DataFrame(res.dict_res_2_hel_opt_NIR)\n",
        "\n",
        "res_2_hel_NIR.to_csv('/content/drive/MyDrive/MasterV24/Bioco_data/Resultater/brixadjusted/brixadjusted_resultater_2_hel_NIR.csv')\n",
        "res_2_hel_opt_NIR.to_csv('/content/drive/MyDrive/MasterV24/Bioco_data/Resultater/brixadjusted/brixadjusted_resultater_2_hel_opt_NIR.csv')"
      ],
      "metadata": {
        "id": "0YkuHXAcUCjk"
      },
      "execution_count": null,
      "outputs": []
    },
    {
      "cell_type": "markdown",
      "source": [
        "Velger beste modell"
      ],
      "metadata": {
        "id": "XbJTLrDaUCjk"
      }
    },
    {
      "cell_type": "code",
      "source": [],
      "metadata": {
        "id": "f_imTA5IUCjk"
      },
      "execution_count": null,
      "outputs": []
    },
    {
      "cell_type": "markdown",
      "source": [
        "## Designsett"
      ],
      "metadata": {
        "id": "oo_ES-o-UK_3"
      }
    },
    {
      "cell_type": "markdown",
      "source": [
        "## Alternativ 1: 25% Testsett og Hele resterende treningssett"
      ],
      "metadata": {
        "id": "6QoJbRPZUk6t"
      }
    },
    {
      "cell_type": "code",
      "source": [
        "# Deler datasettet i trening og testsett\n",
        "trening_markert, enzymtyper_markert, testsett, _, _, _, trening\\\n",
        "= trening_testsett_oppdeling_enzym(rå_data,\n",
        "                                   data_design_uten_NIR,\n",
        "                                   test_andel=test_andel)\n",
        "# Finner antall av enzymtype med minst antall\n",
        "n_splitt = n_splitt_enzym(rå_data,\n",
        "                          trening_markert)\n",
        "\n",
        "# Modelloptimalisering, trening og evaluering av RFR, KNR og SVR\n",
        "veiledet_modell_evaluering_1(dict_res_opt=res.dict_res_1_design_opt_NIR,\n",
        "                             dict_res=res.dict_res_1_design_NIR,\n",
        "                             treningssett_markert=trening_markert,\n",
        "                             enzymtyper_treningssett_markert=enzymtyper_markert,\n",
        "                             testsett=testsett,\n",
        "                             n_splitt=n_splitt,\n",
        "                             n_gjentagelser=n_gjentagelser,\n",
        "                             n_runder=n_runder,\n",
        "                             test_andel=test_andel,\n",
        "                             trenings_andel=trenings_andel,\n",
        "                             random_seed=random_seed)"
      ],
      "metadata": {
        "id": "hAtHMcxtUk6u"
      },
      "execution_count": null,
      "outputs": []
    },
    {
      "cell_type": "markdown",
      "source": [
        "Lagring av resultater"
      ],
      "metadata": {
        "id": "tW-DISNgUk6u"
      }
    },
    {
      "cell_type": "code",
      "source": [
        "res_1_design_NIR = pd.DataFrame(res.dict_res_1_design_NIR)\n",
        "res_1_design_opt_NIR = pd.DataFrame(res.dict_res_1_design_opt_NIR)\n",
        "\n",
        "res_1_design_NIR.to_csv('/content/drive/MyDrive/MasterV24/Bioco_data/Resultater/brixadjusted/brixadjusted_resultater_1_design_NIR.csv')\n",
        "res_1_design_opt_NIR.to_csv('/content/drive/MyDrive/MasterV24/Bioco_data/Resultater/brixadjusted/brixadjusted_resultater_1_design_opt_NIR.csv')"
      ],
      "metadata": {
        "id": "aC54as3DUk6u"
      },
      "execution_count": null,
      "outputs": []
    },
    {
      "cell_type": "markdown",
      "source": [
        "Velger beste modell"
      ],
      "metadata": {
        "id": "K9bd15zMUk6u"
      }
    },
    {
      "cell_type": "code",
      "source": [],
      "metadata": {
        "id": "ZKob6a-sUk6u"
      },
      "execution_count": null,
      "outputs": []
    },
    {
      "cell_type": "markdown",
      "source": [
        "## Alternativ 2: 25% Testsett og resteremde hele treningssett"
      ],
      "metadata": {
        "id": "ItNTDh9mUpGx"
      }
    },
    {
      "cell_type": "code",
      "source": [
        "# Deler datasettet i trening og testsett\n",
        "trening_markert, testsett, _, trening\\\n",
        "= trening_testsett_oppdeling_dag(rå_data,\n",
        "                                 data,\n",
        "                                 test_andel=test_andel,\n",
        "                                 test_ekskluder_kalkun_kylling=True)\n",
        "\n",
        "# Finner antall av enzymtype med minst antall\n",
        "n_splitt = n_splitt_enzym(rå_data,\n",
        "                          trening_markert)\n",
        "\n",
        "# Modelloptimalisering, trening og evaluering av RFR, KNR og SVR\n",
        "veiledet_modell_evaluering_2(dict_res_opt=res.dict_res_2_design_opt_NIR,\n",
        "                             dict_res=res.dict_res_2_design_NIR,\n",
        "                             rå_data=rå_data,\n",
        "                             treningssett_markert=trening_markert,\n",
        "                             testsett=testsett,\n",
        "                             n_splitt=n_splitt,\n",
        "                             n_runder=n_runder,\n",
        "                             test_andel=test_andel,\n",
        "                             trenings_andel=trenings_andel,\n",
        "                             random_seed=random_seed)"
      ],
      "metadata": {
        "id": "pH5wLeyGUpGy"
      },
      "execution_count": null,
      "outputs": []
    },
    {
      "cell_type": "markdown",
      "source": [
        "Lagring av resultater"
      ],
      "metadata": {
        "id": "XlO88i0yUpGy"
      }
    },
    {
      "cell_type": "code",
      "source": [
        "res_2_design_NIR = pd.DataFrame(res.dict_res_2_design_NIR)\n",
        "res_2_design_opt_NIR = pd.DataFrame(res.dict_res_2_design_opt_NIR)\n",
        "\n",
        "res_2_design_NIR.to_csv('/content/drive/MyDrive/MasterV24/Bioco_data/Resultater/brixadjusted/brixadjusted_resultater_2_design_NIR.csv')\n",
        "res_2_design_opt_NIR.to_csv('/content/drive/MyDrive/MasterV24/Bioco_data/Resultater/brixadjusted/brixadjusted_resultater_2_design_opt_NIR.csv')"
      ],
      "metadata": {
        "id": "Cy32D9BDUpGy"
      },
      "execution_count": null,
      "outputs": []
    },
    {
      "cell_type": "markdown",
      "source": [
        "Velger beste modell"
      ],
      "metadata": {
        "id": "WFa2IU0mUpGy"
      }
    },
    {
      "cell_type": "code",
      "source": [],
      "metadata": {
        "id": "GKPY7_AHUpGy"
      },
      "execution_count": null,
      "outputs": []
    }
  ]
}